{
 "metadata": {
  "language_info": {
   "codemirror_mode": {
    "name": "ipython",
    "version": 3
   },
   "file_extension": ".py",
   "mimetype": "text/x-python",
   "name": "python",
   "nbconvert_exporter": "python",
   "pygments_lexer": "ipython3",
   "version": "3.9.4"
  },
  "orig_nbformat": 4,
  "kernelspec": {
   "name": "python3",
   "display_name": "Python 3.9.4 64-bit ('3.9.4': pyenv)"
  },
  "interpreter": {
   "hash": "c2262ef1e1764844cc7dddacc5332fc08dc39a3661d4c909d0d650c194bf9ca7"
  }
 },
 "nbformat": 4,
 "nbformat_minor": 2,
 "cells": [
  {
   "cell_type": "code",
   "execution_count": 2,
   "metadata": {},
   "outputs": [],
   "source": [
    "%load_ext autoreload\n",
    "%autoreload 2"
   ]
  },
  {
   "source": [
    "import numpy as np\n",
    "import matplotlib.pyplot as plt"
   ],
   "cell_type": "code",
   "metadata": {},
   "execution_count": 3,
   "outputs": []
  },
  {
   "source": [
    "# Utilities"
   ],
   "cell_type": "markdown",
   "metadata": {}
  },
  {
   "cell_type": "code",
   "execution_count": 3,
   "metadata": {},
   "outputs": [],
   "source": [
    "from typing import Tuple\n",
    "\n",
    "def is_power_of_two(n: int) -> bool:\n",
    "    \"\"\"\n",
    "    Check if a given number is a power of two.\n",
    "    \"\"\"\n",
    "    return (n & (n-1) == 0) and n != 0\n",
    "\n",
    "\n",
    "def power_of_two(n: int) -> Tuple[int, int]:\n",
    "    \"\"\"\n",
    "    Given a number, returns it's previous \n",
    "    and next of keen which are powers of two.\n",
    "    \"\"\"\n",
    "    if is_power_of_two(n):\n",
    "        return n, n\n",
    "    count = 0    \n",
    "    while n != 0:\n",
    "        n >>= 1\n",
    "        count += 1\n",
    "    prev = 1 << (count-1)\n",
    "    next = 1 << count\n",
    "    return prev, next"
   ]
  },
  {
   "source": [
    "# Loading MNIST dataset"
   ],
   "cell_type": "markdown",
   "metadata": {}
  },
  {
   "cell_type": "code",
   "execution_count": 4,
   "metadata": {},
   "outputs": [],
   "source": [
    "from typing import Optional\n",
    "\n",
    "def load_mnist(data_path: str,\n",
    "               downscale: Optional[bool] = True) -> np.ndarray:\n",
    "    num_labels = 10\n",
    "    img_size = 28\n",
    "\n",
    "    # data files\n",
    "    train_data_path = os.path.join(data_path, 'mnist_train.csv')\n",
    "    test_data_path = os.path.join(data_path, 'mnist_test.csv')\n",
    "\n",
    "    # loading data\n",
    "    train_data = np.loadtxt(train_data_path, delimiter=',')\n",
    "    test_data = np.loadtxt(test_data_path, delimiter=',')\n",
    "\n",
    "    # scaling to [0.01, 0.99]; we want to avoid zeros and ones\n",
    "    frac = 0.99 / 255\n",
    "\n",
    "    # extracting data and labels\n",
    "    train_images = np.asfarray(train_data[:, 1:]) * frac + 0.01\n",
    "    train_labels = np.asfarray(train_data[:, :1])\n",
    "\n",
    "    test_images = np.asfarray(test_data[:, 1:]) * frac + 0.01\n",
    "    test_labels = np.asfarray(test_data[:, :1])\n",
    "\n",
    "    # transform labels into one hot representation\n",
    "    lr = np.arange(num_labels)\n",
    "    train_labels_one_hot = (lr==train_labels).astype(float)\n",
    "    test_labels_one_hot = (lr==test_labels).astype(float)\n",
    "\n",
    "    # we don't want zeroes and ones in the labels either\n",
    "    train_labels_one_hot[train_labels_one_hot==0] = 0.01\n",
    "    train_labels_one_hot[train_labels_one_hot==1] = 0.99\n",
    "    test_labels_one_hot[test_labels_one_hot==0] = 0.01\n",
    "    test_labels_one_hot[test_labels_one_hot==1] = 0.99\n",
    "\n",
    "    if downscale:\n",
    "        downscale_img = lambda img: img.reshape(28, 28)[::2,::2].reshape(-1,1)\n",
    "        train_images = np.apply_along_axis(downscale_img, 1, train_images)\n",
    "        test_images = np.apply_along_axis(downscale_img, 1, test_images)\n",
    "\n",
    "    return {\n",
    "        'train': {\n",
    "            'images': train_images,\n",
    "            'labels': train_labels_one_hot\n",
    "        },\n",
    "        'test': {\n",
    "            'images': test_images,\n",
    "            'labels': test_labels_one_hot\n",
    "        }\n",
    "    }"
   ]
  },
  {
   "cell_type": "code",
   "execution_count": 5,
   "metadata": {},
   "outputs": [],
   "source": [
    "downscale = True\n",
    "image_size = 28*28\n",
    "\n",
    "if downscale:\n",
    "    image_size = 14*14\n",
    "\n",
    "data = load_mnist('../data/mnist', downscale)"
   ]
  },
  {
   "source": [
    "Checking if data was loaded and scaled properly by plotting random digits..."
   ],
   "cell_type": "markdown",
   "metadata": {}
  },
  {
   "cell_type": "code",
   "execution_count": 6,
   "metadata": {},
   "outputs": [
    {
     "output_type": "display_data",
     "data": {
      "text/plain": "<Figure size 144x144 with 1 Axes>",
      "image/svg+xml": "<?xml version=\"1.0\" encoding=\"utf-8\" standalone=\"no\"?>\n<!DOCTYPE svg PUBLIC \"-//W3C//DTD SVG 1.1//EN\"\n  \"http://www.w3.org/Graphics/SVG/1.1/DTD/svg11.dtd\">\n<svg height=\"139.798125pt\" version=\"1.1\" viewBox=\"0 0 142.845 139.798125\" width=\"142.845pt\" xmlns=\"http://www.w3.org/2000/svg\" xmlns:xlink=\"http://www.w3.org/1999/xlink\">\n <metadata>\n  <rdf:RDF xmlns:cc=\"http://creativecommons.org/ns#\" xmlns:dc=\"http://purl.org/dc/elements/1.1/\" xmlns:rdf=\"http://www.w3.org/1999/02/22-rdf-syntax-ns#\">\n   <cc:Work>\n    <dc:type rdf:resource=\"http://purl.org/dc/dcmitype/StillImage\"/>\n    <dc:date>2021-06-30T12:51:46.696081</dc:date>\n    <dc:format>image/svg+xml</dc:format>\n    <dc:creator>\n     <cc:Agent>\n      <dc:title>Matplotlib v3.4.2, https://matplotlib.org/</dc:title>\n     </cc:Agent>\n    </dc:creator>\n   </cc:Work>\n  </rdf:RDF>\n </metadata>\n <defs>\n  <style type=\"text/css\">*{stroke-linecap:butt;stroke-linejoin:round;}</style>\n </defs>\n <g id=\"figure_1\">\n  <g id=\"patch_1\">\n   <path d=\"M 0 139.798125 \nL 142.845 139.798125 \nL 142.845 0 \nL 0 0 \nz\n\"/>\n  </g>\n  <g id=\"axes_1\">\n   <g id=\"patch_2\">\n    <path d=\"M 26.925 115.92 \nL 135.645 115.92 \nL 135.645 7.2 \nL 26.925 7.2 \nz\n\"/>\n   </g>\n   <g clip-path=\"url(#p9a19565847)\">\n    <image height=\"109\" id=\"image598458a0ba\" transform=\"scale(1 -1)translate(0 -109)\" width=\"109\" x=\"26.925\" xlink:href=\"data:image/png;base64,\niVBORw0KGgoAAAANSUhEUgAAAG0AAABtCAYAAACr+O9WAAACO0lEQVR4nO3cMY5pYRyG8XvkLsAStBINYgMKidIGrEEidmEHNmAFWpGohF6iUemFRDTcajLN9Zd7Pu7xTJ5f+2Y4M898yZwwsvv9fv8llFLRF6B/ZzQgowEZDchoQEYDMhrQ79QHGI/HD7fRaBR+bb1eD/d+vx/ug8Eg3H8qTxqQ0YCMBmQ0IKMBGQ3IaEDZO19Pu1wu4d5oNMJ9u93mfu7VahXurVYr92MXzZMGZDQgowEZDchoQEYDeuuf/KnO53O4R7cMu90u6bnX63W4N5vNpMdP4UkDMhqQ0YCMBmQ0IKMBGQ3oo+/TUhwOh3AfDofhPp1Ow/12u4V7lmXhnsKTBmQ0IKMBGQ3IaEBGAzIa0I+9T3tmPp+He7vdDvcif2yeNCCjARkNyGhARgMyGpDRgJI/kuJTlcvlcD8ej+F+Op1eeDWv5UkDMhqQ0YCMBmQ0IKMBGQ0IfZ/W6/UebsvlMvzaWq326sv5bzxpQEYDMhqQ0YCMBmQ0oI9+C92zSyuVHv/OffC3lcyTBmQ0IKMBGQ3IaEBGAzIaUKEvzVSr1XBP+bTwTqcT7ovFItyv12vu5343TxqQ0YCMBmQ0IKMBGQ3IaECFvp727N+NNptNuEcf7zeZTHJd05dKpRLu+/0+3Lvd7sNtNpvluKJvnjQgowEZDchoQEYDMhqQ0YA++n2P+jtPGpDRgIwGZDQgowEZDchoQEYDMhqQ0YCMBmQ0IKMBGQ3IaEBGAzIakNGAjAZkNCCjARkN6A+BvG9dMFiNrgAAAABJRU5ErkJggg==\" y=\"-6.92\"/>\n   </g>\n   <g id=\"matplotlib.axis_1\">\n    <g id=\"xtick_1\">\n     <g id=\"line2d_1\">\n      <defs>\n       <path d=\"M 0 0 \nL 0 3.5 \n\" id=\"m10107a12b4\" style=\"stroke:#ffffff;stroke-width:0.8;\"/>\n      </defs>\n      <g>\n       <use style=\"fill:#ffffff;stroke:#ffffff;stroke-width:0.8;\" x=\"30.807857\" xlink:href=\"#m10107a12b4\" y=\"115.92\"/>\n      </g>\n     </g>\n     <g id=\"text_1\">\n      <!-- 0 -->\n      <g style=\"fill:#ffffff;\" transform=\"translate(27.626607 130.518437)scale(0.1 -0.1)\">\n       <defs>\n        <path d=\"M 2034 4250 \nQ 1547 4250 1301 3770 \nQ 1056 3291 1056 2328 \nQ 1056 1369 1301 889 \nQ 1547 409 2034 409 \nQ 2525 409 2770 889 \nQ 3016 1369 3016 2328 \nQ 3016 3291 2770 3770 \nQ 2525 4250 2034 4250 \nz\nM 2034 4750 \nQ 2819 4750 3233 4129 \nQ 3647 3509 3647 2328 \nQ 3647 1150 3233 529 \nQ 2819 -91 2034 -91 \nQ 1250 -91 836 529 \nQ 422 1150 422 2328 \nQ 422 3509 836 4129 \nQ 1250 4750 2034 4750 \nz\n\" id=\"DejaVuSans-30\" transform=\"scale(0.015625)\"/>\n       </defs>\n       <use xlink:href=\"#DejaVuSans-30\"/>\n      </g>\n     </g>\n    </g>\n    <g id=\"xtick_2\">\n     <g id=\"line2d_2\">\n      <g>\n       <use style=\"fill:#ffffff;stroke:#ffffff;stroke-width:0.8;\" x=\"69.636429\" xlink:href=\"#m10107a12b4\" y=\"115.92\"/>\n      </g>\n     </g>\n     <g id=\"text_2\">\n      <!-- 5 -->\n      <g style=\"fill:#ffffff;\" transform=\"translate(66.455179 130.518437)scale(0.1 -0.1)\">\n       <defs>\n        <path d=\"M 691 4666 \nL 3169 4666 \nL 3169 4134 \nL 1269 4134 \nL 1269 2991 \nQ 1406 3038 1543 3061 \nQ 1681 3084 1819 3084 \nQ 2600 3084 3056 2656 \nQ 3513 2228 3513 1497 \nQ 3513 744 3044 326 \nQ 2575 -91 1722 -91 \nQ 1428 -91 1123 -41 \nQ 819 9 494 109 \nL 494 744 \nQ 775 591 1075 516 \nQ 1375 441 1709 441 \nQ 2250 441 2565 725 \nQ 2881 1009 2881 1497 \nQ 2881 1984 2565 2268 \nQ 2250 2553 1709 2553 \nQ 1456 2553 1204 2497 \nQ 953 2441 691 2322 \nL 691 4666 \nz\n\" id=\"DejaVuSans-35\" transform=\"scale(0.015625)\"/>\n       </defs>\n       <use xlink:href=\"#DejaVuSans-35\"/>\n      </g>\n     </g>\n    </g>\n    <g id=\"xtick_3\">\n     <g id=\"line2d_3\">\n      <g>\n       <use style=\"fill:#ffffff;stroke:#ffffff;stroke-width:0.8;\" x=\"108.465\" xlink:href=\"#m10107a12b4\" y=\"115.92\"/>\n      </g>\n     </g>\n     <g id=\"text_3\">\n      <!-- 10 -->\n      <g style=\"fill:#ffffff;\" transform=\"translate(102.1025 130.518437)scale(0.1 -0.1)\">\n       <defs>\n        <path d=\"M 794 531 \nL 1825 531 \nL 1825 4091 \nL 703 3866 \nL 703 4441 \nL 1819 4666 \nL 2450 4666 \nL 2450 531 \nL 3481 531 \nL 3481 0 \nL 794 0 \nL 794 531 \nz\n\" id=\"DejaVuSans-31\" transform=\"scale(0.015625)\"/>\n       </defs>\n       <use xlink:href=\"#DejaVuSans-31\"/>\n       <use x=\"63.623047\" xlink:href=\"#DejaVuSans-30\"/>\n      </g>\n     </g>\n    </g>\n   </g>\n   <g id=\"matplotlib.axis_2\">\n    <g id=\"ytick_1\">\n     <g id=\"line2d_4\">\n      <defs>\n       <path d=\"M 0 0 \nL -3.5 0 \n\" id=\"m921fdffb5e\" style=\"stroke:#ffffff;stroke-width:0.8;\"/>\n      </defs>\n      <g>\n       <use style=\"fill:#ffffff;stroke:#ffffff;stroke-width:0.8;\" x=\"26.925\" xlink:href=\"#m921fdffb5e\" y=\"11.082857\"/>\n      </g>\n     </g>\n     <g id=\"text_4\">\n      <!-- 0 -->\n      <g style=\"fill:#ffffff;\" transform=\"translate(13.5625 14.882076)scale(0.1 -0.1)\">\n       <use xlink:href=\"#DejaVuSans-30\"/>\n      </g>\n     </g>\n    </g>\n    <g id=\"ytick_2\">\n     <g id=\"line2d_5\">\n      <g>\n       <use style=\"fill:#ffffff;stroke:#ffffff;stroke-width:0.8;\" x=\"26.925\" xlink:href=\"#m921fdffb5e\" y=\"49.911429\"/>\n      </g>\n     </g>\n     <g id=\"text_5\">\n      <!-- 5 -->\n      <g style=\"fill:#ffffff;\" transform=\"translate(13.5625 53.710647)scale(0.1 -0.1)\">\n       <use xlink:href=\"#DejaVuSans-35\"/>\n      </g>\n     </g>\n    </g>\n    <g id=\"ytick_3\">\n     <g id=\"line2d_6\">\n      <g>\n       <use style=\"fill:#ffffff;stroke:#ffffff;stroke-width:0.8;\" x=\"26.925\" xlink:href=\"#m921fdffb5e\" y=\"88.74\"/>\n      </g>\n     </g>\n     <g id=\"text_6\">\n      <!-- 10 -->\n      <g style=\"fill:#ffffff;\" transform=\"translate(7.2 92.539219)scale(0.1 -0.1)\">\n       <use xlink:href=\"#DejaVuSans-31\"/>\n       <use x=\"63.623047\" xlink:href=\"#DejaVuSans-30\"/>\n      </g>\n     </g>\n    </g>\n   </g>\n   <g id=\"patch_3\">\n    <path d=\"M 26.925 115.92 \nL 26.925 7.2 \n\" style=\"fill:none;stroke:#ffffff;stroke-linecap:square;stroke-linejoin:miter;stroke-width:0.8;\"/>\n   </g>\n   <g id=\"patch_4\">\n    <path d=\"M 135.645 115.92 \nL 135.645 7.2 \n\" style=\"fill:none;stroke:#ffffff;stroke-linecap:square;stroke-linejoin:miter;stroke-width:0.8;\"/>\n   </g>\n   <g id=\"patch_5\">\n    <path d=\"M 26.925 115.92 \nL 135.645 115.92 \n\" style=\"fill:none;stroke:#ffffff;stroke-linecap:square;stroke-linejoin:miter;stroke-width:0.8;\"/>\n   </g>\n   <g id=\"patch_6\">\n    <path d=\"M 26.925 7.2 \nL 135.645 7.2 \n\" style=\"fill:none;stroke:#ffffff;stroke-linecap:square;stroke-linejoin:miter;stroke-width:0.8;\"/>\n   </g>\n  </g>\n </g>\n <defs>\n  <clipPath id=\"p9a19565847\">\n   <rect height=\"108.72\" width=\"108.72\" x=\"26.925\" y=\"7.2\"/>\n  </clipPath>\n </defs>\n</svg>\n",
      "image/png": "[encoded data removed]"
     },
     "metadata": {}
    },
    {
     "output_type": "display_data",
     "data": {
      "text/plain": "<Figure size 144x144 with 1 Axes>",
      "image/svg+xml": "<?xml version=\"1.0\" encoding=\"utf-8\" standalone=\"no\"?>\n<!DOCTYPE svg PUBLIC \"-//W3C//DTD SVG 1.1//EN\"\n  \"http://www.w3.org/Graphics/SVG/1.1/DTD/svg11.dtd\">\n<svg height=\"139.798125pt\" version=\"1.1\" viewBox=\"0 0 142.845 139.798125\" width=\"142.845pt\" xmlns=\"http://www.w3.org/2000/svg\" xmlns:xlink=\"http://www.w3.org/1999/xlink\">\n <metadata>\n  <rdf:RDF xmlns:cc=\"http://creativecommons.org/ns#\" xmlns:dc=\"http://purl.org/dc/elements/1.1/\" xmlns:rdf=\"http://www.w3.org/1999/02/22-rdf-syntax-ns#\">\n   <cc:Work>\n    <dc:type rdf:resource=\"http://purl.org/dc/dcmitype/StillImage\"/>\n    <dc:date>2021-06-30T12:51:46.811205</dc:date>\n    <dc:format>image/svg+xml</dc:format>\n    <dc:creator>\n     <cc:Agent>\n      <dc:title>Matplotlib v3.4.2, https://matplotlib.org/</dc:title>\n     </cc:Agent>\n    </dc:creator>\n   </cc:Work>\n  </rdf:RDF>\n </metadata>\n <defs>\n  <style type=\"text/css\">*{stroke-linecap:butt;stroke-linejoin:round;}</style>\n </defs>\n <g id=\"figure_1\">\n  <g id=\"patch_1\">\n   <path d=\"M 0 139.798125 \nL 142.845 139.798125 \nL 142.845 0 \nL 0 0 \nz\n\"/>\n  </g>\n  <g id=\"axes_1\">\n   <g id=\"patch_2\">\n    <path d=\"M 26.925 115.92 \nL 135.645 115.92 \nL 135.645 7.2 \nL 26.925 7.2 \nz\n\"/>\n   </g>\n   <g clip-path=\"url(#p165d727adb)\">\n    <image height=\"109\" id=\"image020fe5cd54\" transform=\"scale(1 -1)translate(0 -109)\" width=\"109\" x=\"26.925\" xlink:href=\"data:image/png;base64,\niVBORw0KGgoAAAANSUhEUgAAAG0AAABtCAYAAACr+O9WAAAB9ElEQVR4nO3dMYrCUBRA0cmYBdhYpdDK2p0orinbEVyKtnZ2gQj2CmZqi7yPRsy/zD3tI/CdywNDJFN0Xdf9COV37APodUYDMhqQ0YCMBmQ0IKMBlWMfIDKbzcJ527ZfOkle3DQgowEZDchoQEYDMhqQ0YBGvU9rmiacXy6XcB49CiyK4q0zEbhpQEYDMhqQ0YCMBmQ0oCLnn9ClvrZvt9ve2W63+/RxsuGmARkNyGhARgMyGpDRgIwGlPV92mq1CufH47F3lvHHGsxNAzIakNGAjAZkNCCjARkNKOv7tJTJZNI7ezwe4bXgj+2mERkNyGhARgMyGpDRgIwGhL5PO5/PvbPFYhFeu9/vw/l6vX7jRN/hpgEZDchoQEYDMhqQ0YCMBpT1qwNT5vN576yu6/DazWYTzu/3ezgvy/H+dG4akNGAjAZkNCCjARkNCP1oZojU6y6m02k4v16vHzzNa9w0IKMBGQ3IaEBGAzIakNGA0I9mhjidTuF8uVyG88PhEM5Tr9MYwk0DMhqQ0YCMBmQ0IKMBGQ3o3z5PS6mqKpyn/vPv7Xb75HGeuGlARgMyGpDRgIwGZDQgowF5nwbkpgEZDchoQEYDMhqQ0YCMBmQ0IKMBGQ3IaEBGAzIakNGAjAZkNCCjARkNyGhARgMyGpDRgP4AQO1WDVRhLjoAAAAASUVORK5CYII=\" y=\"-6.92\"/>\n   </g>\n   <g id=\"matplotlib.axis_1\">\n    <g id=\"xtick_1\">\n     <g id=\"line2d_1\">\n      <defs>\n       <path d=\"M 0 0 \nL 0 3.5 \n\" id=\"m2e219d05a7\" style=\"stroke:#ffffff;stroke-width:0.8;\"/>\n      </defs>\n      <g>\n       <use style=\"fill:#ffffff;stroke:#ffffff;stroke-width:0.8;\" x=\"30.807857\" xlink:href=\"#m2e219d05a7\" y=\"115.92\"/>\n      </g>\n     </g>\n     <g id=\"text_1\">\n      <!-- 0 -->\n      <g style=\"fill:#ffffff;\" transform=\"translate(27.626607 130.518437)scale(0.1 -0.1)\">\n       <defs>\n        <path d=\"M 2034 4250 \nQ 1547 4250 1301 3770 \nQ 1056 3291 1056 2328 \nQ 1056 1369 1301 889 \nQ 1547 409 2034 409 \nQ 2525 409 2770 889 \nQ 3016 1369 3016 2328 \nQ 3016 3291 2770 3770 \nQ 2525 4250 2034 4250 \nz\nM 2034 4750 \nQ 2819 4750 3233 4129 \nQ 3647 3509 3647 2328 \nQ 3647 1150 3233 529 \nQ 2819 -91 2034 -91 \nQ 1250 -91 836 529 \nQ 422 1150 422 2328 \nQ 422 3509 836 4129 \nQ 1250 4750 2034 4750 \nz\n\" id=\"DejaVuSans-30\" transform=\"scale(0.015625)\"/>\n       </defs>\n       <use xlink:href=\"#DejaVuSans-30\"/>\n      </g>\n     </g>\n    </g>\n    <g id=\"xtick_2\">\n     <g id=\"line2d_2\">\n      <g>\n       <use style=\"fill:#ffffff;stroke:#ffffff;stroke-width:0.8;\" x=\"69.636429\" xlink:href=\"#m2e219d05a7\" y=\"115.92\"/>\n      </g>\n     </g>\n     <g id=\"text_2\">\n      <!-- 5 -->\n      <g style=\"fill:#ffffff;\" transform=\"translate(66.455179 130.518437)scale(0.1 -0.1)\">\n       <defs>\n        <path d=\"M 691 4666 \nL 3169 4666 \nL 3169 4134 \nL 1269 4134 \nL 1269 2991 \nQ 1406 3038 1543 3061 \nQ 1681 3084 1819 3084 \nQ 2600 3084 3056 2656 \nQ 3513 2228 3513 1497 \nQ 3513 744 3044 326 \nQ 2575 -91 1722 -91 \nQ 1428 -91 1123 -41 \nQ 819 9 494 109 \nL 494 744 \nQ 775 591 1075 516 \nQ 1375 441 1709 441 \nQ 2250 441 2565 725 \nQ 2881 1009 2881 1497 \nQ 2881 1984 2565 2268 \nQ 2250 2553 1709 2553 \nQ 1456 2553 1204 2497 \nQ 953 2441 691 2322 \nL 691 4666 \nz\n\" id=\"DejaVuSans-35\" transform=\"scale(0.015625)\"/>\n       </defs>\n       <use xlink:href=\"#DejaVuSans-35\"/>\n      </g>\n     </g>\n    </g>\n    <g id=\"xtick_3\">\n     <g id=\"line2d_3\">\n      <g>\n       <use style=\"fill:#ffffff;stroke:#ffffff;stroke-width:0.8;\" x=\"108.465\" xlink:href=\"#m2e219d05a7\" y=\"115.92\"/>\n      </g>\n     </g>\n     <g id=\"text_3\">\n      <!-- 10 -->\n      <g style=\"fill:#ffffff;\" transform=\"translate(102.1025 130.518437)scale(0.1 -0.1)\">\n       <defs>\n        <path d=\"M 794 531 \nL 1825 531 \nL 1825 4091 \nL 703 3866 \nL 703 4441 \nL 1819 4666 \nL 2450 4666 \nL 2450 531 \nL 3481 531 \nL 3481 0 \nL 794 0 \nL 794 531 \nz\n\" id=\"DejaVuSans-31\" transform=\"scale(0.015625)\"/>\n       </defs>\n       <use xlink:href=\"#DejaVuSans-31\"/>\n       <use x=\"63.623047\" xlink:href=\"#DejaVuSans-30\"/>\n      </g>\n     </g>\n    </g>\n   </g>\n   <g id=\"matplotlib.axis_2\">\n    <g id=\"ytick_1\">\n     <g id=\"line2d_4\">\n      <defs>\n       <path d=\"M 0 0 \nL -3.5 0 \n\" id=\"m66ce4c0ef1\" style=\"stroke:#ffffff;stroke-width:0.8;\"/>\n      </defs>\n      <g>\n       <use style=\"fill:#ffffff;stroke:#ffffff;stroke-width:0.8;\" x=\"26.925\" xlink:href=\"#m66ce4c0ef1\" y=\"11.082857\"/>\n      </g>\n     </g>\n     <g id=\"text_4\">\n      <!-- 0 -->\n      <g style=\"fill:#ffffff;\" transform=\"translate(13.5625 14.882076)scale(0.1 -0.1)\">\n       <use xlink:href=\"#DejaVuSans-30\"/>\n      </g>\n     </g>\n    </g>\n    <g id=\"ytick_2\">\n     <g id=\"line2d_5\">\n      <g>\n       <use style=\"fill:#ffffff;stroke:#ffffff;stroke-width:0.8;\" x=\"26.925\" xlink:href=\"#m66ce4c0ef1\" y=\"49.911429\"/>\n      </g>\n     </g>\n     <g id=\"text_5\">\n      <!-- 5 -->\n      <g style=\"fill:#ffffff;\" transform=\"translate(13.5625 53.710647)scale(0.1 -0.1)\">\n       <use xlink:href=\"#DejaVuSans-35\"/>\n      </g>\n     </g>\n    </g>\n    <g id=\"ytick_3\">\n     <g id=\"line2d_6\">\n      <g>\n       <use style=\"fill:#ffffff;stroke:#ffffff;stroke-width:0.8;\" x=\"26.925\" xlink:href=\"#m66ce4c0ef1\" y=\"88.74\"/>\n      </g>\n     </g>\n     <g id=\"text_6\">\n      <!-- 10 -->\n      <g style=\"fill:#ffffff;\" transform=\"translate(7.2 92.539219)scale(0.1 -0.1)\">\n       <use xlink:href=\"#DejaVuSans-31\"/>\n       <use x=\"63.623047\" xlink:href=\"#DejaVuSans-30\"/>\n      </g>\n     </g>\n    </g>\n   </g>\n   <g id=\"patch_3\">\n    <path d=\"M 26.925 115.92 \nL 26.925 7.2 \n\" style=\"fill:none;stroke:#ffffff;stroke-linecap:square;stroke-linejoin:miter;stroke-width:0.8;\"/>\n   </g>\n   <g id=\"patch_4\">\n    <path d=\"M 135.645 115.92 \nL 135.645 7.2 \n\" style=\"fill:none;stroke:#ffffff;stroke-linecap:square;stroke-linejoin:miter;stroke-width:0.8;\"/>\n   </g>\n   <g id=\"patch_5\">\n    <path d=\"M 26.925 115.92 \nL 135.645 115.92 \n\" style=\"fill:none;stroke:#ffffff;stroke-linecap:square;stroke-linejoin:miter;stroke-width:0.8;\"/>\n   </g>\n   <g id=\"patch_6\">\n    <path d=\"M 26.925 7.2 \nL 135.645 7.2 \n\" style=\"fill:none;stroke:#ffffff;stroke-linecap:square;stroke-linejoin:miter;stroke-width:0.8;\"/>\n   </g>\n  </g>\n </g>\n <defs>\n  <clipPath id=\"p165d727adb\">\n   <rect height=\"108.72\" width=\"108.72\" x=\"26.925\" y=\"7.2\"/>\n  </clipPath>\n </defs>\n</svg>\n",
      "image/png": "[encoded data removed]"
     },
     "metadata": {}
    },
    {
     "output_type": "display_data",
     "data": {
      "text/plain": "<Figure size 144x144 with 1 Axes>",
      "image/svg+xml": "<?xml version=\"1.0\" encoding=\"utf-8\" standalone=\"no\"?>\n<!DOCTYPE svg PUBLIC \"-//W3C//DTD SVG 1.1//EN\"\n  \"http://www.w3.org/Graphics/SVG/1.1/DTD/svg11.dtd\">\n<svg height=\"139.798125pt\" version=\"1.1\" viewBox=\"0 0 142.845 139.798125\" width=\"142.845pt\" xmlns=\"http://www.w3.org/2000/svg\" xmlns:xlink=\"http://www.w3.org/1999/xlink\">\n <metadata>\n  <rdf:RDF xmlns:cc=\"http://creativecommons.org/ns#\" xmlns:dc=\"http://purl.org/dc/elements/1.1/\" xmlns:rdf=\"http://www.w3.org/1999/02/22-rdf-syntax-ns#\">\n   <cc:Work>\n    <dc:type rdf:resource=\"http://purl.org/dc/dcmitype/StillImage\"/>\n    <dc:date>2021-06-30T12:51:46.924252</dc:date>\n    <dc:format>image/svg+xml</dc:format>\n    <dc:creator>\n     <cc:Agent>\n      <dc:title>Matplotlib v3.4.2, https://matplotlib.org/</dc:title>\n     </cc:Agent>\n    </dc:creator>\n   </cc:Work>\n  </rdf:RDF>\n </metadata>\n <defs>\n  <style type=\"text/css\">*{stroke-linecap:butt;stroke-linejoin:round;}</style>\n </defs>\n <g id=\"figure_1\">\n  <g id=\"patch_1\">\n   <path d=\"M 0 139.798125 \nL 142.845 139.798125 \nL 142.845 0 \nL 0 0 \nz\n\"/>\n  </g>\n  <g id=\"axes_1\">\n   <g id=\"patch_2\">\n    <path d=\"M 26.925 115.92 \nL 135.645 115.92 \nL 135.645 7.2 \nL 26.925 7.2 \nz\n\"/>\n   </g>\n   <g clip-path=\"url(#pa75aa55725)\">\n    <image height=\"109\" id=\"image5a2f3169f9\" transform=\"scale(1 -1)translate(0 -109)\" width=\"109\" x=\"26.925\" xlink:href=\"data:image/png;base64,\niVBORw0KGgoAAAANSUhEUgAAAG0AAABtCAYAAACr+O9WAAACNUlEQVR4nO3dv4kCQRhA8fMUC9ACxBYUGxDsQmzAEjQQzMQeBLEIwdhINLYGwUzM1IsuuGC/xRv/PXi/9GP2Bh4DN+weV7jdbrcvoXy/ewO6n9GAjAZkNCCjARkNyGhARgMyGpDRgIwGZDQgowEZDchoQKXUB4xGo8zZeDxOfXyoXC5nzobDYbh2MBg8ejsv40kDMhqQ0YCMBmQ0IKMBFVI/oavVapmz9Xodrj2fzyk/+msymWTOZrNZ0rMPh0M4r1arSc9P4UkDMhqQ0YCMBmQ0IKMBGQ0o+Z5GVSwWk9ZfLpcH7eR+njQgowEZDchoQEYDMhqQ0YCSP6Gj6na74XyxWLxoJ/fzpAEZDchoQEYDMhqQ0YCMBvTR97TUd14p8v5U6p08aUBGAzIakNGAjAZkNCCjAaG/ezydTpmzfr8frs17X1av18P5fr8P56XS867AnjQgowEZDchoQEYDMhoQ+lf+Z8p7LdRoNML5ZrN55Hb+8KQBGQ3IaEBGAzIakNGAjAb00Z/Q5Wm325mz6XQars27Z22323DebDbD+TN50oCMBmQ0IKMBGQ3IaEBGA0Lf06L/6tRqtcK1vV4vnM/n83/t6ddqtcqcdTqdpGd70oCMBmQ0IKMBGQ3IaEBGA0Lf05bLZeZst9uFa/Pet12v13B+PB7DeaVSCecpPGlARgMyGpDRgIwGZDQg/9QJyJMGZDQgowEZDchoQEYDMhqQ0YCMBmQ0IKMBGQ3IaEBGAzIa0A/mS1ckTTF4KAAAAABJRU5ErkJggg==\" y=\"-6.92\"/>\n   </g>\n   <g id=\"matplotlib.axis_1\">\n    <g id=\"xtick_1\">\n     <g id=\"line2d_1\">\n      <defs>\n       <path d=\"M 0 0 \nL 0 3.5 \n\" id=\"m0f94f6033d\" style=\"stroke:#ffffff;stroke-width:0.8;\"/>\n      </defs>\n      <g>\n       <use style=\"fill:#ffffff;stroke:#ffffff;stroke-width:0.8;\" x=\"30.807857\" xlink:href=\"#m0f94f6033d\" y=\"115.92\"/>\n      </g>\n     </g>\n     <g id=\"text_1\">\n      <!-- 0 -->\n      <g style=\"fill:#ffffff;\" transform=\"translate(27.626607 130.518437)scale(0.1 -0.1)\">\n       <defs>\n        <path d=\"M 2034 4250 \nQ 1547 4250 1301 3770 \nQ 1056 3291 1056 2328 \nQ 1056 1369 1301 889 \nQ 1547 409 2034 409 \nQ 2525 409 2770 889 \nQ 3016 1369 3016 2328 \nQ 3016 3291 2770 3770 \nQ 2525 4250 2034 4250 \nz\nM 2034 4750 \nQ 2819 4750 3233 4129 \nQ 3647 3509 3647 2328 \nQ 3647 1150 3233 529 \nQ 2819 -91 2034 -91 \nQ 1250 -91 836 529 \nQ 422 1150 422 2328 \nQ 422 3509 836 4129 \nQ 1250 4750 2034 4750 \nz\n\" id=\"DejaVuSans-30\" transform=\"scale(0.015625)\"/>\n       </defs>\n       <use xlink:href=\"#DejaVuSans-30\"/>\n      </g>\n     </g>\n    </g>\n    <g id=\"xtick_2\">\n     <g id=\"line2d_2\">\n      <g>\n       <use style=\"fill:#ffffff;stroke:#ffffff;stroke-width:0.8;\" x=\"69.636429\" xlink:href=\"#m0f94f6033d\" y=\"115.92\"/>\n      </g>\n     </g>\n     <g id=\"text_2\">\n      <!-- 5 -->\n      <g style=\"fill:#ffffff;\" transform=\"translate(66.455179 130.518437)scale(0.1 -0.1)\">\n       <defs>\n        <path d=\"M 691 4666 \nL 3169 4666 \nL 3169 4134 \nL 1269 4134 \nL 1269 2991 \nQ 1406 3038 1543 3061 \nQ 1681 3084 1819 3084 \nQ 2600 3084 3056 2656 \nQ 3513 2228 3513 1497 \nQ 3513 744 3044 326 \nQ 2575 -91 1722 -91 \nQ 1428 -91 1123 -41 \nQ 819 9 494 109 \nL 494 744 \nQ 775 591 1075 516 \nQ 1375 441 1709 441 \nQ 2250 441 2565 725 \nQ 2881 1009 2881 1497 \nQ 2881 1984 2565 2268 \nQ 2250 2553 1709 2553 \nQ 1456 2553 1204 2497 \nQ 953 2441 691 2322 \nL 691 4666 \nz\n\" id=\"DejaVuSans-35\" transform=\"scale(0.015625)\"/>\n       </defs>\n       <use xlink:href=\"#DejaVuSans-35\"/>\n      </g>\n     </g>\n    </g>\n    <g id=\"xtick_3\">\n     <g id=\"line2d_3\">\n      <g>\n       <use style=\"fill:#ffffff;stroke:#ffffff;stroke-width:0.8;\" x=\"108.465\" xlink:href=\"#m0f94f6033d\" y=\"115.92\"/>\n      </g>\n     </g>\n     <g id=\"text_3\">\n      <!-- 10 -->\n      <g style=\"fill:#ffffff;\" transform=\"translate(102.1025 130.518437)scale(0.1 -0.1)\">\n       <defs>\n        <path d=\"M 794 531 \nL 1825 531 \nL 1825 4091 \nL 703 3866 \nL 703 4441 \nL 1819 4666 \nL 2450 4666 \nL 2450 531 \nL 3481 531 \nL 3481 0 \nL 794 0 \nL 794 531 \nz\n\" id=\"DejaVuSans-31\" transform=\"scale(0.015625)\"/>\n       </defs>\n       <use xlink:href=\"#DejaVuSans-31\"/>\n       <use x=\"63.623047\" xlink:href=\"#DejaVuSans-30\"/>\n      </g>\n     </g>\n    </g>\n   </g>\n   <g id=\"matplotlib.axis_2\">\n    <g id=\"ytick_1\">\n     <g id=\"line2d_4\">\n      <defs>\n       <path d=\"M 0 0 \nL -3.5 0 \n\" id=\"m209581fc98\" style=\"stroke:#ffffff;stroke-width:0.8;\"/>\n      </defs>\n      <g>\n       <use style=\"fill:#ffffff;stroke:#ffffff;stroke-width:0.8;\" x=\"26.925\" xlink:href=\"#m209581fc98\" y=\"11.082857\"/>\n      </g>\n     </g>\n     <g id=\"text_4\">\n      <!-- 0 -->\n      <g style=\"fill:#ffffff;\" transform=\"translate(13.5625 14.882076)scale(0.1 -0.1)\">\n       <use xlink:href=\"#DejaVuSans-30\"/>\n      </g>\n     </g>\n    </g>\n    <g id=\"ytick_2\">\n     <g id=\"line2d_5\">\n      <g>\n       <use style=\"fill:#ffffff;stroke:#ffffff;stroke-width:0.8;\" x=\"26.925\" xlink:href=\"#m209581fc98\" y=\"49.911429\"/>\n      </g>\n     </g>\n     <g id=\"text_5\">\n      <!-- 5 -->\n      <g style=\"fill:#ffffff;\" transform=\"translate(13.5625 53.710647)scale(0.1 -0.1)\">\n       <use xlink:href=\"#DejaVuSans-35\"/>\n      </g>\n     </g>\n    </g>\n    <g id=\"ytick_3\">\n     <g id=\"line2d_6\">\n      <g>\n       <use style=\"fill:#ffffff;stroke:#ffffff;stroke-width:0.8;\" x=\"26.925\" xlink:href=\"#m209581fc98\" y=\"88.74\"/>\n      </g>\n     </g>\n     <g id=\"text_6\">\n      <!-- 10 -->\n      <g style=\"fill:#ffffff;\" transform=\"translate(7.2 92.539219)scale(0.1 -0.1)\">\n       <use xlink:href=\"#DejaVuSans-31\"/>\n       <use x=\"63.623047\" xlink:href=\"#DejaVuSans-30\"/>\n      </g>\n     </g>\n    </g>\n   </g>\n   <g id=\"patch_3\">\n    <path d=\"M 26.925 115.92 \nL 26.925 7.2 \n\" style=\"fill:none;stroke:#ffffff;stroke-linecap:square;stroke-linejoin:miter;stroke-width:0.8;\"/>\n   </g>\n   <g id=\"patch_4\">\n    <path d=\"M 135.645 115.92 \nL 135.645 7.2 \n\" style=\"fill:none;stroke:#ffffff;stroke-linecap:square;stroke-linejoin:miter;stroke-width:0.8;\"/>\n   </g>\n   <g id=\"patch_5\">\n    <path d=\"M 26.925 115.92 \nL 135.645 115.92 \n\" style=\"fill:none;stroke:#ffffff;stroke-linecap:square;stroke-linejoin:miter;stroke-width:0.8;\"/>\n   </g>\n   <g id=\"patch_6\">\n    <path d=\"M 26.925 7.2 \nL 135.645 7.2 \n\" style=\"fill:none;stroke:#ffffff;stroke-linecap:square;stroke-linejoin:miter;stroke-width:0.8;\"/>\n   </g>\n  </g>\n </g>\n <defs>\n  <clipPath id=\"pa75aa55725\">\n   <rect height=\"108.72\" width=\"108.72\" x=\"26.925\" y=\"7.2\"/>\n  </clipPath>\n </defs>\n</svg>\n",
      "image/png": "[encoded data removed]"
     },
     "metadata": {}
    },
    {
     "output_type": "display_data",
     "data": {
      "text/plain": "<Figure size 144x144 with 1 Axes>",
      "image/svg+xml": "<?xml version=\"1.0\" encoding=\"utf-8\" standalone=\"no\"?>\n<!DOCTYPE svg PUBLIC \"-//W3C//DTD SVG 1.1//EN\"\n  \"http://www.w3.org/Graphics/SVG/1.1/DTD/svg11.dtd\">\n<svg height=\"139.798125pt\" version=\"1.1\" viewBox=\"0 0 142.845 139.798125\" width=\"142.845pt\" xmlns=\"http://www.w3.org/2000/svg\" xmlns:xlink=\"http://www.w3.org/1999/xlink\">\n <metadata>\n  <rdf:RDF xmlns:cc=\"http://creativecommons.org/ns#\" xmlns:dc=\"http://purl.org/dc/elements/1.1/\" xmlns:rdf=\"http://www.w3.org/1999/02/22-rdf-syntax-ns#\">\n   <cc:Work>\n    <dc:type rdf:resource=\"http://purl.org/dc/dcmitype/StillImage\"/>\n    <dc:date>2021-06-30T12:51:47.038047</dc:date>\n    <dc:format>image/svg+xml</dc:format>\n    <dc:creator>\n     <cc:Agent>\n      <dc:title>Matplotlib v3.4.2, https://matplotlib.org/</dc:title>\n     </cc:Agent>\n    </dc:creator>\n   </cc:Work>\n  </rdf:RDF>\n </metadata>\n <defs>\n  <style type=\"text/css\">*{stroke-linecap:butt;stroke-linejoin:round;}</style>\n </defs>\n <g id=\"figure_1\">\n  <g id=\"patch_1\">\n   <path d=\"M 0 139.798125 \nL 142.845 139.798125 \nL 142.845 0 \nL 0 0 \nz\n\"/>\n  </g>\n  <g id=\"axes_1\">\n   <g id=\"patch_2\">\n    <path d=\"M 26.925 115.92 \nL 135.645 115.92 \nL 135.645 7.2 \nL 26.925 7.2 \nz\n\"/>\n   </g>\n   <g clip-path=\"url(#pb6e5253ff1)\">\n    <image height=\"109\" id=\"image5e700c0526\" transform=\"scale(1 -1)translate(0 -109)\" width=\"109\" x=\"26.925\" xlink:href=\"data:image/png;base64,\niVBORw0KGgoAAAANSUhEUgAAAG0AAABtCAYAAACr+O9WAAAB/UlEQVR4nO3dsW3CQBhA4ThELEBFZbmhhZYdkNmCxhOwAPswABO4MYvQIyHMBP5PYDB+yvvaX5dc9HRSTo5D1rZt+yOU329vQM8zGpDRgIwGZDQgowEZDchoQEYDMhqQ0YCMBmQ0IKMBGQ3o79sb+JQsy3qtPx6P4bwsy15fvw9PGpDRgIwGZDQgowEZDQj9K/9kMnl5bVVV4Xy73Ybzb/7loScNyGhARgMyGpDRgIwGZDSgbMyvOl0ul3A+m806Z7fbLVybuuOlHu14T9NTjAZkNCCjARkNyGhARgMa9fO0w+Hw8tq6rsP5er0O54vF4uXv/WmeNCCjARkNyGhARgMyGpDRgEZ9T9tsNuH8dDp1zubzebh2xI8RkzxpQEYDMhqQ0YCMBmQ0IKMBjfqeltI0Tecsz/PhNjIwTxqQ0YCMBmQ0IKMBGQ1o1K86pUSvI12v13DtdDp993YG40kDMhqQ0YCMBmQ0IKMBGQ0IfU8riqJzttvtwrX7/f7d2xmMJw3IaEBGAzIakNGAjAZkNCD0Pe18PnfOVqtVuBb8Y3vSiIwGZDQgowEZDchoQEYDQr/qtFwuO2epT8dN/Qv3+/3ea/0nedKAjAZkNCCjARkNyGhA6Ecz/5UnDchoQEYDMhqQ0YCMBmQ0IKMBGQ3IaEBGAzIakNGAjAZkNKAHP2ZItIlfQjYAAAAASUVORK5CYII=\" y=\"-6.92\"/>\n   </g>\n   <g id=\"matplotlib.axis_1\">\n    <g id=\"xtick_1\">\n     <g id=\"line2d_1\">\n      <defs>\n       <path d=\"M 0 0 \nL 0 3.5 \n\" id=\"m0b764ec8ea\" style=\"stroke:#ffffff;stroke-width:0.8;\"/>\n      </defs>\n      <g>\n       <use style=\"fill:#ffffff;stroke:#ffffff;stroke-width:0.8;\" x=\"30.807857\" xlink:href=\"#m0b764ec8ea\" y=\"115.92\"/>\n      </g>\n     </g>\n     <g id=\"text_1\">\n      <!-- 0 -->\n      <g style=\"fill:#ffffff;\" transform=\"translate(27.626607 130.518437)scale(0.1 -0.1)\">\n       <defs>\n        <path d=\"M 2034 4250 \nQ 1547 4250 1301 3770 \nQ 1056 3291 1056 2328 \nQ 1056 1369 1301 889 \nQ 1547 409 2034 409 \nQ 2525 409 2770 889 \nQ 3016 1369 3016 2328 \nQ 3016 3291 2770 3770 \nQ 2525 4250 2034 4250 \nz\nM 2034 4750 \nQ 2819 4750 3233 4129 \nQ 3647 3509 3647 2328 \nQ 3647 1150 3233 529 \nQ 2819 -91 2034 -91 \nQ 1250 -91 836 529 \nQ 422 1150 422 2328 \nQ 422 3509 836 4129 \nQ 1250 4750 2034 4750 \nz\n\" id=\"DejaVuSans-30\" transform=\"scale(0.015625)\"/>\n       </defs>\n       <use xlink:href=\"#DejaVuSans-30\"/>\n      </g>\n     </g>\n    </g>\n    <g id=\"xtick_2\">\n     <g id=\"line2d_2\">\n      <g>\n       <use style=\"fill:#ffffff;stroke:#ffffff;stroke-width:0.8;\" x=\"69.636429\" xlink:href=\"#m0b764ec8ea\" y=\"115.92\"/>\n      </g>\n     </g>\n     <g id=\"text_2\">\n      <!-- 5 -->\n      <g style=\"fill:#ffffff;\" transform=\"translate(66.455179 130.518437)scale(0.1 -0.1)\">\n       <defs>\n        <path d=\"M 691 4666 \nL 3169 4666 \nL 3169 4134 \nL 1269 4134 \nL 1269 2991 \nQ 1406 3038 1543 3061 \nQ 1681 3084 1819 3084 \nQ 2600 3084 3056 2656 \nQ 3513 2228 3513 1497 \nQ 3513 744 3044 326 \nQ 2575 -91 1722 -91 \nQ 1428 -91 1123 -41 \nQ 819 9 494 109 \nL 494 744 \nQ 775 591 1075 516 \nQ 1375 441 1709 441 \nQ 2250 441 2565 725 \nQ 2881 1009 2881 1497 \nQ 2881 1984 2565 2268 \nQ 2250 2553 1709 2553 \nQ 1456 2553 1204 2497 \nQ 953 2441 691 2322 \nL 691 4666 \nz\n\" id=\"DejaVuSans-35\" transform=\"scale(0.015625)\"/>\n       </defs>\n       <use xlink:href=\"#DejaVuSans-35\"/>\n      </g>\n     </g>\n    </g>\n    <g id=\"xtick_3\">\n     <g id=\"line2d_3\">\n      <g>\n       <use style=\"fill:#ffffff;stroke:#ffffff;stroke-width:0.8;\" x=\"108.465\" xlink:href=\"#m0b764ec8ea\" y=\"115.92\"/>\n      </g>\n     </g>\n     <g id=\"text_3\">\n      <!-- 10 -->\n      <g style=\"fill:#ffffff;\" transform=\"translate(102.1025 130.518437)scale(0.1 -0.1)\">\n       <defs>\n        <path d=\"M 794 531 \nL 1825 531 \nL 1825 4091 \nL 703 3866 \nL 703 4441 \nL 1819 4666 \nL 2450 4666 \nL 2450 531 \nL 3481 531 \nL 3481 0 \nL 794 0 \nL 794 531 \nz\n\" id=\"DejaVuSans-31\" transform=\"scale(0.015625)\"/>\n       </defs>\n       <use xlink:href=\"#DejaVuSans-31\"/>\n       <use x=\"63.623047\" xlink:href=\"#DejaVuSans-30\"/>\n      </g>\n     </g>\n    </g>\n   </g>\n   <g id=\"matplotlib.axis_2\">\n    <g id=\"ytick_1\">\n     <g id=\"line2d_4\">\n      <defs>\n       <path d=\"M 0 0 \nL -3.5 0 \n\" id=\"mad32120f8f\" style=\"stroke:#ffffff;stroke-width:0.8;\"/>\n      </defs>\n      <g>\n       <use style=\"fill:#ffffff;stroke:#ffffff;stroke-width:0.8;\" x=\"26.925\" xlink:href=\"#mad32120f8f\" y=\"11.082857\"/>\n      </g>\n     </g>\n     <g id=\"text_4\">\n      <!-- 0 -->\n      <g style=\"fill:#ffffff;\" transform=\"translate(13.5625 14.882076)scale(0.1 -0.1)\">\n       <use xlink:href=\"#DejaVuSans-30\"/>\n      </g>\n     </g>\n    </g>\n    <g id=\"ytick_2\">\n     <g id=\"line2d_5\">\n      <g>\n       <use style=\"fill:#ffffff;stroke:#ffffff;stroke-width:0.8;\" x=\"26.925\" xlink:href=\"#mad32120f8f\" y=\"49.911429\"/>\n      </g>\n     </g>\n     <g id=\"text_5\">\n      <!-- 5 -->\n      <g style=\"fill:#ffffff;\" transform=\"translate(13.5625 53.710647)scale(0.1 -0.1)\">\n       <use xlink:href=\"#DejaVuSans-35\"/>\n      </g>\n     </g>\n    </g>\n    <g id=\"ytick_3\">\n     <g id=\"line2d_6\">\n      <g>\n       <use style=\"fill:#ffffff;stroke:#ffffff;stroke-width:0.8;\" x=\"26.925\" xlink:href=\"#mad32120f8f\" y=\"88.74\"/>\n      </g>\n     </g>\n     <g id=\"text_6\">\n      <!-- 10 -->\n      <g style=\"fill:#ffffff;\" transform=\"translate(7.2 92.539219)scale(0.1 -0.1)\">\n       <use xlink:href=\"#DejaVuSans-31\"/>\n       <use x=\"63.623047\" xlink:href=\"#DejaVuSans-30\"/>\n      </g>\n     </g>\n    </g>\n   </g>\n   <g id=\"patch_3\">\n    <path d=\"M 26.925 115.92 \nL 26.925 7.2 \n\" style=\"fill:none;stroke:#ffffff;stroke-linecap:square;stroke-linejoin:miter;stroke-width:0.8;\"/>\n   </g>\n   <g id=\"patch_4\">\n    <path d=\"M 135.645 115.92 \nL 135.645 7.2 \n\" style=\"fill:none;stroke:#ffffff;stroke-linecap:square;stroke-linejoin:miter;stroke-width:0.8;\"/>\n   </g>\n   <g id=\"patch_5\">\n    <path d=\"M 26.925 115.92 \nL 135.645 115.92 \n\" style=\"fill:none;stroke:#ffffff;stroke-linecap:square;stroke-linejoin:miter;stroke-width:0.8;\"/>\n   </g>\n   <g id=\"patch_6\">\n    <path d=\"M 26.925 7.2 \nL 135.645 7.2 \n\" style=\"fill:none;stroke:#ffffff;stroke-linecap:square;stroke-linejoin:miter;stroke-width:0.8;\"/>\n   </g>\n  </g>\n </g>\n <defs>\n  <clipPath id=\"pb6e5253ff1\">\n   <rect height=\"108.72\" width=\"108.72\" x=\"26.925\" y=\"7.2\"/>\n  </clipPath>\n </defs>\n</svg>\n",
      "image/png": "[encoded data removed]"
     },
     "metadata": {}
    }
   ],
   "source": [
    "def show_digit(image_vec: np.ndarray, size: Optional[int]=None) -> None:\n",
    "    if size is None:\n",
    "        # assuming the image is square\n",
    "        size = np.sqrt(data['train']['images'][0].size).astype(int)\n",
    "    plt.rcParams[\"figure.figsize\"] = (2,2)\n",
    "    plt.imshow(image_vec.reshape(size, size), cmap=\"Greys\")\n",
    "    plt.show()\n",
    "\n",
    "digits_idx = (0,23,157,996)    # plot random images\n",
    "# plt.subplots(nrows=1, ncols=len(digits_idx))\n",
    "for j in digits_idx:\n",
    "    show_digit(data['train']['images'][j])"
   ]
  },
  {
   "source": [
    "# Feature map"
   ],
   "cell_type": "markdown",
   "metadata": {}
  },
  {
   "source": [
    "The feature map $\\Phi(\\bf x)$ maps inpunt data vector $\\bf x$ from a space of dimension $N$ to a space of dimension $d^N$, i.e. each component of the input vector $x_j$ is mapped into a $d$-dimensional vector. See Eq. 8 in text.\n",
    "\n",
    "The tensor $\\Phi^{s_1 s_2 \\cdots s_N}$ is the tensor productof the local feature maps $\\Phi^{s_j}(x_j)$ applied to each input $x_j$ along the indices $s_j = 1,2,\\cdots,N$. The local feature map is required to have unit norm analogous to the wave function norm, otherwise the tensor networks are not guaranteed to be numerically stable.\n",
    "\n"
   ],
   "cell_type": "markdown",
   "metadata": {}
  },
  {
   "cell_type": "code",
   "execution_count": 7,
   "metadata": {
    "tags": []
   },
   "outputs": [],
   "source": [
    "from typing import Callable, Iterable, Optional\n",
    "\n",
    "FMap = Callable[np.ndarray, np.ndarray] # type alias\n",
    "\n",
    "def feature_map(xs: Iterable, \n",
    "                f: FMap,\n",
    "                *fs: Iterable[FMap],\n",
    "                acc: Optional[np.ndarray]=None) -> np.ndarray:\n",
    "    \"\"\"\n",
    "    Feature mapping. \n",
    "    \"\"\"\n",
    "    vf = np.vectorize(f)\n",
    "    acc = vf(xs) if acc is None else np.r_[acc, vf(xs)]\n",
    "    if fs:\n",
    "        yield from feature_map(xs, *fs, acc=acc)\n",
    "    else:\n",
    "        yield acc"
   ]
  },
  {
   "source": [
    "Below is the vector of feature maps that are going to be applied to each value $x_j$. This might be an overkill for this particular set of feature maps, but we want to be agnostic to any feature maps set. Alternative fetaure definition used in other papers is porvided below."
   ],
   "cell_type": "markdown",
   "metadata": {}
  },
  {
   "cell_type": "code",
   "execution_count": 8,
   "metadata": {},
   "outputs": [],
   "source": [
    "features = [\n",
    "    lambda _: 1,\n",
    "    lambda x: x,\n",
    "    lambda x: x**2,\n",
    "\n",
    "]\n",
    "\n",
    "# features = [\n",
    "#   lambda x: np.cos( (np.pi/2) * x ),\n",
    "#   lambda x: np.sin( (np.pi/2) * x ),\n",
    "# ]\n",
    "\n",
    "N = len(data['train']['images'])    # Number of training samples\n",
    "\n",
    "feature_extractor_iter = feature_map(\n",
    "    data['train']['images'], \n",
    "    *features\n",
    ")\n",
    "\n",
    "Phi = np.vstack(\n",
    "    list(feature_extractor_iter))\\\n",
    "    .reshape(len(features), N, image_size)\\\n",
    "    .transpose(0,2,1)\n"
   ]
  },
  {
   "cell_type": "code",
   "execution_count": 9,
   "metadata": {},
   "outputs": [
    {
     "output_type": "execute_result",
     "data": {
      "text/plain": [
       "(3, 196, 60000)"
      ]
     },
     "metadata": {},
     "execution_count": 9
    }
   ],
   "source": [
    "Phi.shape"
   ]
  },
  {
   "source": [
    "Normalizing the features so we can trivially contract them"
   ],
   "cell_type": "markdown",
   "metadata": {}
  },
  {
   "cell_type": "code",
   "execution_count": 10,
   "metadata": {},
   "outputs": [],
   "source": [
    "def normalize_along_axis(a: np.ndarray, \n",
    "                         ord: Optional[int]=2,\n",
    "                         axis: Optional[int]=-1) -> np.ndarray:\n",
    "    z = np.atleast_1d(np.linalg.norm(a, ord, axis))\n",
    "    z[z==0] = 1\n",
    "    return a / np.expand_dims(z, axis)\n",
    "\n",
    "#Phi = normalize_along_axis(Phi, axis=0)"
   ]
  },
  {
   "source": [
    "checking the normalization on a random sample of features and images"
   ],
   "cell_type": "markdown",
   "metadata": {}
  },
  {
   "source": [
    "# sample_size = 10\n",
    "\n",
    "# for i in range(sample_size):\n",
    "#     m = np.random.choice(Phi.shape[1])\n",
    "#     n = np.random.choice(Phi.shape[2])\n",
    "#     assert np.allclose(Phi[:,m,n].T @ Phi[:,m,n], 1)"
   ],
   "cell_type": "code",
   "metadata": {},
   "execution_count": 11,
   "outputs": []
  },
  {
   "source": [
    "Checking if images are correctly processed (may not work for arbitrary feature)"
   ],
   "cell_type": "markdown",
   "metadata": {}
  },
  {
   "cell_type": "code",
   "execution_count": 12,
   "metadata": {},
   "outputs": [
    {
     "output_type": "display_data",
     "data": {
      "text/plain": "<Figure size 144x144 with 1 Axes>",
      "image/svg+xml": "<?xml version=\"1.0\" encoding=\"utf-8\" standalone=\"no\"?>\n<!DOCTYPE svg PUBLIC \"-//W3C//DTD SVG 1.1//EN\"\n  \"http://www.w3.org/Graphics/SVG/1.1/DTD/svg11.dtd\">\n<svg height=\"139.798125pt\" version=\"1.1\" viewBox=\"0 0 142.845 139.798125\" width=\"142.845pt\" xmlns=\"http://www.w3.org/2000/svg\" xmlns:xlink=\"http://www.w3.org/1999/xlink\">\n <metadata>\n  <rdf:RDF xmlns:cc=\"http://creativecommons.org/ns#\" xmlns:dc=\"http://purl.org/dc/elements/1.1/\" xmlns:rdf=\"http://www.w3.org/1999/02/22-rdf-syntax-ns#\">\n   <cc:Work>\n    <dc:type rdf:resource=\"http://purl.org/dc/dcmitype/StillImage\"/>\n    <dc:date>2021-06-30T12:52:21.423210</dc:date>\n    <dc:format>image/svg+xml</dc:format>\n    <dc:creator>\n     <cc:Agent>\n      <dc:title>Matplotlib v3.4.2, https://matplotlib.org/</dc:title>\n     </cc:Agent>\n    </dc:creator>\n   </cc:Work>\n  </rdf:RDF>\n </metadata>\n <defs>\n  <style type=\"text/css\">*{stroke-linecap:butt;stroke-linejoin:round;}</style>\n </defs>\n <g id=\"figure_1\">\n  <g id=\"patch_1\">\n   <path d=\"M 0 139.798125 \nL 142.845 139.798125 \nL 142.845 0 \nL 0 0 \nz\n\"/>\n  </g>\n  <g id=\"axes_1\">\n   <g id=\"patch_2\">\n    <path d=\"M 26.925 115.92 \nL 135.645 115.92 \nL 135.645 7.2 \nL 26.925 7.2 \nz\n\"/>\n   </g>\n   <g clip-path=\"url(#p801d2e314d)\">\n    <image height=\"109\" id=\"image473591d977\" transform=\"scale(1 -1)translate(0 -109)\" width=\"109\" x=\"26.925\" xlink:href=\"data:image/png;base64,\niVBORw0KGgoAAAANSUhEUgAAAG0AAABtCAYAAACr+O9WAAACNUlEQVR4nO3dv4kCQRhA8fMUC9ACxBYUGxDsQmzAEjQQzMQeBLEIwdhINLYGwUzM1IsuuGC/xRv/PXi/9GP2Bh4DN+weV7jdbrcvoXy/ewO6n9GAjAZkNCCjARkNyGhARgMyGpDRgIwGZDQgowEZDchoQKXUB4xGo8zZeDxOfXyoXC5nzobDYbh2MBg8ejsv40kDMhqQ0YCMBmQ0IKMBFVI/oavVapmz9Xodrj2fzyk/+msymWTOZrNZ0rMPh0M4r1arSc9P4UkDMhqQ0YCMBmQ0IKMBGQ0o+Z5GVSwWk9ZfLpcH7eR+njQgowEZDchoQEYDMhqQ0YCSP6Gj6na74XyxWLxoJ/fzpAEZDchoQEYDMhqQ0YCMBvTR97TUd14p8v5U6p08aUBGAzIakNGAjAZkNCCjAaG/ezydTpmzfr8frs17X1av18P5fr8P56XS867AnjQgowEZDchoQEYDMhoQ+lf+Z8p7LdRoNML5ZrN55Hb+8KQBGQ3IaEBGAzIakNGAjAb00Z/Q5Wm325mz6XQars27Z22323DebDbD+TN50oCMBmQ0IKMBGQ3IaEBGA0Lf06L/6tRqtcK1vV4vnM/n83/t6ddqtcqcdTqdpGd70oCMBmQ0IKMBGQ3IaEBGA0Lf05bLZeZst9uFa/Pet12v13B+PB7DeaVSCecpPGlARgMyGpDRgIwGZDQg/9QJyJMGZDQgowEZDchoQEYDMhqQ0YCMBmQ0IKMBGQ3IaEBGAzIa0A/mS1ckTTF4KAAAAABJRU5ErkJggg==\" y=\"-6.92\"/>\n   </g>\n   <g id=\"matplotlib.axis_1\">\n    <g id=\"xtick_1\">\n     <g id=\"line2d_1\">\n      <defs>\n       <path d=\"M 0 0 \nL 0 3.5 \n\" id=\"m84867a4678\" style=\"stroke:#ffffff;stroke-width:0.8;\"/>\n      </defs>\n      <g>\n       <use style=\"fill:#ffffff;stroke:#ffffff;stroke-width:0.8;\" x=\"30.807857\" xlink:href=\"#m84867a4678\" y=\"115.92\"/>\n      </g>\n     </g>\n     <g id=\"text_1\">\n      <!-- 0 -->\n      <g style=\"fill:#ffffff;\" transform=\"translate(27.626607 130.518437)scale(0.1 -0.1)\">\n       <defs>\n        <path d=\"M 2034 4250 \nQ 1547 4250 1301 3770 \nQ 1056 3291 1056 2328 \nQ 1056 1369 1301 889 \nQ 1547 409 2034 409 \nQ 2525 409 2770 889 \nQ 3016 1369 3016 2328 \nQ 3016 3291 2770 3770 \nQ 2525 4250 2034 4250 \nz\nM 2034 4750 \nQ 2819 4750 3233 4129 \nQ 3647 3509 3647 2328 \nQ 3647 1150 3233 529 \nQ 2819 -91 2034 -91 \nQ 1250 -91 836 529 \nQ 422 1150 422 2328 \nQ 422 3509 836 4129 \nQ 1250 4750 2034 4750 \nz\n\" id=\"DejaVuSans-30\" transform=\"scale(0.015625)\"/>\n       </defs>\n       <use xlink:href=\"#DejaVuSans-30\"/>\n      </g>\n     </g>\n    </g>\n    <g id=\"xtick_2\">\n     <g id=\"line2d_2\">\n      <g>\n       <use style=\"fill:#ffffff;stroke:#ffffff;stroke-width:0.8;\" x=\"69.636429\" xlink:href=\"#m84867a4678\" y=\"115.92\"/>\n      </g>\n     </g>\n     <g id=\"text_2\">\n      <!-- 5 -->\n      <g style=\"fill:#ffffff;\" transform=\"translate(66.455179 130.518437)scale(0.1 -0.1)\">\n       <defs>\n        <path d=\"M 691 4666 \nL 3169 4666 \nL 3169 4134 \nL 1269 4134 \nL 1269 2991 \nQ 1406 3038 1543 3061 \nQ 1681 3084 1819 3084 \nQ 2600 3084 3056 2656 \nQ 3513 2228 3513 1497 \nQ 3513 744 3044 326 \nQ 2575 -91 1722 -91 \nQ 1428 -91 1123 -41 \nQ 819 9 494 109 \nL 494 744 \nQ 775 591 1075 516 \nQ 1375 441 1709 441 \nQ 2250 441 2565 725 \nQ 2881 1009 2881 1497 \nQ 2881 1984 2565 2268 \nQ 2250 2553 1709 2553 \nQ 1456 2553 1204 2497 \nQ 953 2441 691 2322 \nL 691 4666 \nz\n\" id=\"DejaVuSans-35\" transform=\"scale(0.015625)\"/>\n       </defs>\n       <use xlink:href=\"#DejaVuSans-35\"/>\n      </g>\n     </g>\n    </g>\n    <g id=\"xtick_3\">\n     <g id=\"line2d_3\">\n      <g>\n       <use style=\"fill:#ffffff;stroke:#ffffff;stroke-width:0.8;\" x=\"108.465\" xlink:href=\"#m84867a4678\" y=\"115.92\"/>\n      </g>\n     </g>\n     <g id=\"text_3\">\n      <!-- 10 -->\n      <g style=\"fill:#ffffff;\" transform=\"translate(102.1025 130.518437)scale(0.1 -0.1)\">\n       <defs>\n        <path d=\"M 794 531 \nL 1825 531 \nL 1825 4091 \nL 703 3866 \nL 703 4441 \nL 1819 4666 \nL 2450 4666 \nL 2450 531 \nL 3481 531 \nL 3481 0 \nL 794 0 \nL 794 531 \nz\n\" id=\"DejaVuSans-31\" transform=\"scale(0.015625)\"/>\n       </defs>\n       <use xlink:href=\"#DejaVuSans-31\"/>\n       <use x=\"63.623047\" xlink:href=\"#DejaVuSans-30\"/>\n      </g>\n     </g>\n    </g>\n   </g>\n   <g id=\"matplotlib.axis_2\">\n    <g id=\"ytick_1\">\n     <g id=\"line2d_4\">\n      <defs>\n       <path d=\"M 0 0 \nL -3.5 0 \n\" id=\"m40105db53b\" style=\"stroke:#ffffff;stroke-width:0.8;\"/>\n      </defs>\n      <g>\n       <use style=\"fill:#ffffff;stroke:#ffffff;stroke-width:0.8;\" x=\"26.925\" xlink:href=\"#m40105db53b\" y=\"11.082857\"/>\n      </g>\n     </g>\n     <g id=\"text_4\">\n      <!-- 0 -->\n      <g style=\"fill:#ffffff;\" transform=\"translate(13.5625 14.882076)scale(0.1 -0.1)\">\n       <use xlink:href=\"#DejaVuSans-30\"/>\n      </g>\n     </g>\n    </g>\n    <g id=\"ytick_2\">\n     <g id=\"line2d_5\">\n      <g>\n       <use style=\"fill:#ffffff;stroke:#ffffff;stroke-width:0.8;\" x=\"26.925\" xlink:href=\"#m40105db53b\" y=\"49.911429\"/>\n      </g>\n     </g>\n     <g id=\"text_5\">\n      <!-- 5 -->\n      <g style=\"fill:#ffffff;\" transform=\"translate(13.5625 53.710647)scale(0.1 -0.1)\">\n       <use xlink:href=\"#DejaVuSans-35\"/>\n      </g>\n     </g>\n    </g>\n    <g id=\"ytick_3\">\n     <g id=\"line2d_6\">\n      <g>\n       <use style=\"fill:#ffffff;stroke:#ffffff;stroke-width:0.8;\" x=\"26.925\" xlink:href=\"#m40105db53b\" y=\"88.74\"/>\n      </g>\n     </g>\n     <g id=\"text_6\">\n      <!-- 10 -->\n      <g style=\"fill:#ffffff;\" transform=\"translate(7.2 92.539219)scale(0.1 -0.1)\">\n       <use xlink:href=\"#DejaVuSans-31\"/>\n       <use x=\"63.623047\" xlink:href=\"#DejaVuSans-30\"/>\n      </g>\n     </g>\n    </g>\n   </g>\n   <g id=\"patch_3\">\n    <path d=\"M 26.925 115.92 \nL 26.925 7.2 \n\" style=\"fill:none;stroke:#ffffff;stroke-linecap:square;stroke-linejoin:miter;stroke-width:0.8;\"/>\n   </g>\n   <g id=\"patch_4\">\n    <path d=\"M 135.645 115.92 \nL 135.645 7.2 \n\" style=\"fill:none;stroke:#ffffff;stroke-linecap:square;stroke-linejoin:miter;stroke-width:0.8;\"/>\n   </g>\n   <g id=\"patch_5\">\n    <path d=\"M 26.925 115.92 \nL 135.645 115.92 \n\" style=\"fill:none;stroke:#ffffff;stroke-linecap:square;stroke-linejoin:miter;stroke-width:0.8;\"/>\n   </g>\n   <g id=\"patch_6\">\n    <path d=\"M 26.925 7.2 \nL 135.645 7.2 \n\" style=\"fill:none;stroke:#ffffff;stroke-linecap:square;stroke-linejoin:miter;stroke-width:0.8;\"/>\n   </g>\n  </g>\n </g>\n <defs>\n  <clipPath id=\"p801d2e314d\">\n   <rect height=\"108.72\" width=\"108.72\" x=\"26.925\" y=\"7.2\"/>\n  </clipPath>\n </defs>\n</svg>\n",
      "image/png": "[encoded data removed]"
     },
     "metadata": {}
    },
    {
     "output_type": "display_data",
     "data": {
      "text/plain": "<Figure size 144x144 with 1 Axes>",
      "image/svg+xml": "<?xml version=\"1.0\" encoding=\"utf-8\" standalone=\"no\"?>\n<!DOCTYPE svg PUBLIC \"-//W3C//DTD SVG 1.1//EN\"\n  \"http://www.w3.org/Graphics/SVG/1.1/DTD/svg11.dtd\">\n<svg height=\"139.798125pt\" version=\"1.1\" viewBox=\"0 0 142.845 139.798125\" width=\"142.845pt\" xmlns=\"http://www.w3.org/2000/svg\" xmlns:xlink=\"http://www.w3.org/1999/xlink\">\n <metadata>\n  <rdf:RDF xmlns:cc=\"http://creativecommons.org/ns#\" xmlns:dc=\"http://purl.org/dc/elements/1.1/\" xmlns:rdf=\"http://www.w3.org/1999/02/22-rdf-syntax-ns#\">\n   <cc:Work>\n    <dc:type rdf:resource=\"http://purl.org/dc/dcmitype/StillImage\"/>\n    <dc:date>2021-06-30T12:52:21.530301</dc:date>\n    <dc:format>image/svg+xml</dc:format>\n    <dc:creator>\n     <cc:Agent>\n      <dc:title>Matplotlib v3.4.2, https://matplotlib.org/</dc:title>\n     </cc:Agent>\n    </dc:creator>\n   </cc:Work>\n  </rdf:RDF>\n </metadata>\n <defs>\n  <style type=\"text/css\">*{stroke-linecap:butt;stroke-linejoin:round;}</style>\n </defs>\n <g id=\"figure_1\">\n  <g id=\"patch_1\">\n   <path d=\"M 0 139.798125 \nL 142.845 139.798125 \nL 142.845 0 \nL 0 0 \nz\n\"/>\n  </g>\n  <g id=\"axes_1\">\n   <g id=\"patch_2\">\n    <path d=\"M 26.925 115.92 \nL 135.645 115.92 \nL 135.645 7.2 \nL 26.925 7.2 \nz\n\"/>\n   </g>\n   <g clip-path=\"url(#p61892ade39)\">\n    <image height=\"109\" id=\"imagee79d3a39dc\" transform=\"scale(1 -1)translate(0 -109)\" width=\"109\" x=\"26.925\" xlink:href=\"data:image/png;base64,\niVBORw0KGgoAAAANSUhEUgAAAG0AAABtCAYAAACr+O9WAAACMklEQVR4nO3dPWoCURRA4TEKNoI2bsXCxspluAALQezs3YGFgoWtOxCsbFyNrSKCYrpAirmDef7kJOdrLzM+ODyY4UVTut1ut0woH+9egO5nNCCjARkNyGhARgMyGpDRgIwGZDQgowEZDchoQEYDMhpQJfUGu90ud9bpdFJvH6rVarmzzWYTXttqtR69nJdxpwEZDchoQEYDMhqQ0YCSH/nH43Hu7HQ6hdder9ekz16tVrmzdruddO/z+RzOy+Vy0v1TuNOAjAZkNCCjARkNyGhARgMq/devOlUqaa+ol8vlQSu5nzsNyGhARgMyGpDRgIwGZDSg5PM0qul0Gs4Hg8GLVnI/dxqQ0YCMBmQ0IKMBGQ3IaEC/+j0t9cwrxXa7fdtnF3GnARkNyGhARgMyGpDRgIwGhP67x2jp8/k8vLbovKzb7Ybz9Xodzp/JnQZkNCCjARkNyGhARgNCP/I/U9GxUK/XC+fL5fKRy/nGnQZkNCCjARkNyGhARgMyGhD6PW04HObOJpNJeG30S+NZlmXH4zGc1+v1cP7Mn6xwpwEZDchoQEYDMhqQ0YCMBvSrv+pUpFqt5s4ajUZ47Ww2C+f9fv8nS/qy3+9zZ81mM+ne7jQgowEZDchoQEYDMhqQ0YDQ52mRw+EQzheLRTgfjUbhvOi87Jn/qsudBmQ0IKMBGQ3IaEBGA/qzj/x/mTsNyGhARgMyGpDRgIwGZDQgowEZDchoQEYDMhqQ0YCMBmQ0oE/WFFw0Pp08ZAAAAABJRU5ErkJggg==\" y=\"-6.92\"/>\n   </g>\n   <g id=\"matplotlib.axis_1\">\n    <g id=\"xtick_1\">\n     <g id=\"line2d_1\">\n      <defs>\n       <path d=\"M 0 0 \nL 0 3.5 \n\" id=\"mf50f5da400\" style=\"stroke:#ffffff;stroke-width:0.8;\"/>\n      </defs>\n      <g>\n       <use style=\"fill:#ffffff;stroke:#ffffff;stroke-width:0.8;\" x=\"30.807857\" xlink:href=\"#mf50f5da400\" y=\"115.92\"/>\n      </g>\n     </g>\n     <g id=\"text_1\">\n      <!-- 0 -->\n      <g style=\"fill:#ffffff;\" transform=\"translate(27.626607 130.518437)scale(0.1 -0.1)\">\n       <defs>\n        <path d=\"M 2034 4250 \nQ 1547 4250 1301 3770 \nQ 1056 3291 1056 2328 \nQ 1056 1369 1301 889 \nQ 1547 409 2034 409 \nQ 2525 409 2770 889 \nQ 3016 1369 3016 2328 \nQ 3016 3291 2770 3770 \nQ 2525 4250 2034 4250 \nz\nM 2034 4750 \nQ 2819 4750 3233 4129 \nQ 3647 3509 3647 2328 \nQ 3647 1150 3233 529 \nQ 2819 -91 2034 -91 \nQ 1250 -91 836 529 \nQ 422 1150 422 2328 \nQ 422 3509 836 4129 \nQ 1250 4750 2034 4750 \nz\n\" id=\"DejaVuSans-30\" transform=\"scale(0.015625)\"/>\n       </defs>\n       <use xlink:href=\"#DejaVuSans-30\"/>\n      </g>\n     </g>\n    </g>\n    <g id=\"xtick_2\">\n     <g id=\"line2d_2\">\n      <g>\n       <use style=\"fill:#ffffff;stroke:#ffffff;stroke-width:0.8;\" x=\"69.636429\" xlink:href=\"#mf50f5da400\" y=\"115.92\"/>\n      </g>\n     </g>\n     <g id=\"text_2\">\n      <!-- 5 -->\n      <g style=\"fill:#ffffff;\" transform=\"translate(66.455179 130.518437)scale(0.1 -0.1)\">\n       <defs>\n        <path d=\"M 691 4666 \nL 3169 4666 \nL 3169 4134 \nL 1269 4134 \nL 1269 2991 \nQ 1406 3038 1543 3061 \nQ 1681 3084 1819 3084 \nQ 2600 3084 3056 2656 \nQ 3513 2228 3513 1497 \nQ 3513 744 3044 326 \nQ 2575 -91 1722 -91 \nQ 1428 -91 1123 -41 \nQ 819 9 494 109 \nL 494 744 \nQ 775 591 1075 516 \nQ 1375 441 1709 441 \nQ 2250 441 2565 725 \nQ 2881 1009 2881 1497 \nQ 2881 1984 2565 2268 \nQ 2250 2553 1709 2553 \nQ 1456 2553 1204 2497 \nQ 953 2441 691 2322 \nL 691 4666 \nz\n\" id=\"DejaVuSans-35\" transform=\"scale(0.015625)\"/>\n       </defs>\n       <use xlink:href=\"#DejaVuSans-35\"/>\n      </g>\n     </g>\n    </g>\n    <g id=\"xtick_3\">\n     <g id=\"line2d_3\">\n      <g>\n       <use style=\"fill:#ffffff;stroke:#ffffff;stroke-width:0.8;\" x=\"108.465\" xlink:href=\"#mf50f5da400\" y=\"115.92\"/>\n      </g>\n     </g>\n     <g id=\"text_3\">\n      <!-- 10 -->\n      <g style=\"fill:#ffffff;\" transform=\"translate(102.1025 130.518437)scale(0.1 -0.1)\">\n       <defs>\n        <path d=\"M 794 531 \nL 1825 531 \nL 1825 4091 \nL 703 3866 \nL 703 4441 \nL 1819 4666 \nL 2450 4666 \nL 2450 531 \nL 3481 531 \nL 3481 0 \nL 794 0 \nL 794 531 \nz\n\" id=\"DejaVuSans-31\" transform=\"scale(0.015625)\"/>\n       </defs>\n       <use xlink:href=\"#DejaVuSans-31\"/>\n       <use x=\"63.623047\" xlink:href=\"#DejaVuSans-30\"/>\n      </g>\n     </g>\n    </g>\n   </g>\n   <g id=\"matplotlib.axis_2\">\n    <g id=\"ytick_1\">\n     <g id=\"line2d_4\">\n      <defs>\n       <path d=\"M 0 0 \nL -3.5 0 \n\" id=\"mae356644fb\" style=\"stroke:#ffffff;stroke-width:0.8;\"/>\n      </defs>\n      <g>\n       <use style=\"fill:#ffffff;stroke:#ffffff;stroke-width:0.8;\" x=\"26.925\" xlink:href=\"#mae356644fb\" y=\"11.082857\"/>\n      </g>\n     </g>\n     <g id=\"text_4\">\n      <!-- 0 -->\n      <g style=\"fill:#ffffff;\" transform=\"translate(13.5625 14.882076)scale(0.1 -0.1)\">\n       <use xlink:href=\"#DejaVuSans-30\"/>\n      </g>\n     </g>\n    </g>\n    <g id=\"ytick_2\">\n     <g id=\"line2d_5\">\n      <g>\n       <use style=\"fill:#ffffff;stroke:#ffffff;stroke-width:0.8;\" x=\"26.925\" xlink:href=\"#mae356644fb\" y=\"49.911429\"/>\n      </g>\n     </g>\n     <g id=\"text_5\">\n      <!-- 5 -->\n      <g style=\"fill:#ffffff;\" transform=\"translate(13.5625 53.710647)scale(0.1 -0.1)\">\n       <use xlink:href=\"#DejaVuSans-35\"/>\n      </g>\n     </g>\n    </g>\n    <g id=\"ytick_3\">\n     <g id=\"line2d_6\">\n      <g>\n       <use style=\"fill:#ffffff;stroke:#ffffff;stroke-width:0.8;\" x=\"26.925\" xlink:href=\"#mae356644fb\" y=\"88.74\"/>\n      </g>\n     </g>\n     <g id=\"text_6\">\n      <!-- 10 -->\n      <g style=\"fill:#ffffff;\" transform=\"translate(7.2 92.539219)scale(0.1 -0.1)\">\n       <use xlink:href=\"#DejaVuSans-31\"/>\n       <use x=\"63.623047\" xlink:href=\"#DejaVuSans-30\"/>\n      </g>\n     </g>\n    </g>\n   </g>\n   <g id=\"patch_3\">\n    <path d=\"M 26.925 115.92 \nL 26.925 7.2 \n\" style=\"fill:none;stroke:#ffffff;stroke-linecap:square;stroke-linejoin:miter;stroke-width:0.8;\"/>\n   </g>\n   <g id=\"patch_4\">\n    <path d=\"M 135.645 115.92 \nL 135.645 7.2 \n\" style=\"fill:none;stroke:#ffffff;stroke-linecap:square;stroke-linejoin:miter;stroke-width:0.8;\"/>\n   </g>\n   <g id=\"patch_5\">\n    <path d=\"M 26.925 115.92 \nL 135.645 115.92 \n\" style=\"fill:none;stroke:#ffffff;stroke-linecap:square;stroke-linejoin:miter;stroke-width:0.8;\"/>\n   </g>\n   <g id=\"patch_6\">\n    <path d=\"M 26.925 7.2 \nL 135.645 7.2 \n\" style=\"fill:none;stroke:#ffffff;stroke-linecap:square;stroke-linejoin:miter;stroke-width:0.8;\"/>\n   </g>\n  </g>\n </g>\n <defs>\n  <clipPath id=\"p61892ade39\">\n   <rect height=\"108.72\" width=\"108.72\" x=\"26.925\" y=\"7.2\"/>\n  </clipPath>\n </defs>\n</svg>\n",
      "image/png": "[encoded data removed]"
     },
     "metadata": {}
    },
    {
     "output_type": "display_data",
     "data": {
      "text/plain": "<Figure size 144x144 with 1 Axes>",
      "image/svg+xml": "<?xml version=\"1.0\" encoding=\"utf-8\" standalone=\"no\"?>\n<!DOCTYPE svg PUBLIC \"-//W3C//DTD SVG 1.1//EN\"\n  \"http://www.w3.org/Graphics/SVG/1.1/DTD/svg11.dtd\">\n<svg height=\"139.798125pt\" version=\"1.1\" viewBox=\"0 0 142.845 139.798125\" width=\"142.845pt\" xmlns=\"http://www.w3.org/2000/svg\" xmlns:xlink=\"http://www.w3.org/1999/xlink\">\n <metadata>\n  <rdf:RDF xmlns:cc=\"http://creativecommons.org/ns#\" xmlns:dc=\"http://purl.org/dc/elements/1.1/\" xmlns:rdf=\"http://www.w3.org/1999/02/22-rdf-syntax-ns#\">\n   <cc:Work>\n    <dc:type rdf:resource=\"http://purl.org/dc/dcmitype/StillImage\"/>\n    <dc:date>2021-06-30T12:52:21.673719</dc:date>\n    <dc:format>image/svg+xml</dc:format>\n    <dc:creator>\n     <cc:Agent>\n      <dc:title>Matplotlib v3.4.2, https://matplotlib.org/</dc:title>\n     </cc:Agent>\n    </dc:creator>\n   </cc:Work>\n  </rdf:RDF>\n </metadata>\n <defs>\n  <style type=\"text/css\">*{stroke-linecap:butt;stroke-linejoin:round;}</style>\n </defs>\n <g id=\"figure_1\">\n  <g id=\"patch_1\">\n   <path d=\"M 0 139.798125 \nL 142.845 139.798125 \nL 142.845 0 \nL 0 0 \nz\n\"/>\n  </g>\n  <g id=\"axes_1\">\n   <g id=\"patch_2\">\n    <path d=\"M 26.925 115.92 \nL 135.645 115.92 \nL 135.645 7.2 \nL 26.925 7.2 \nz\n\"/>\n   </g>\n   <g clip-path=\"url(#p7299ed8640)\">\n    <image height=\"109\" id=\"image520f5e250c\" transform=\"scale(1 -1)translate(0 -109)\" width=\"109\" x=\"26.925\" xlink:href=\"data:image/png;base64,\niVBORw0KGgoAAAANSUhEUgAAAG0AAABtCAYAAACr+O9WAAACNUlEQVR4nO3dv4kCQRhA8fMUC9ACxBYUGxDsQmzAEjQQzMQeBLEIwdhINLYGwUzM1IsuuGC/xRv/PXi/9GP2Bh4DN+weV7jdbrcvoXy/ewO6n9GAjAZkNCCjARkNyGhARgMyGpDRgIwGZDQgowEZDchoQKXUB4xGo8zZeDxOfXyoXC5nzobDYbh2MBg8ejsv40kDMhqQ0YCMBmQ0IKMBFVI/oavVapmz9Xodrj2fzyk/+msymWTOZrNZ0rMPh0M4r1arSc9P4UkDMhqQ0YCMBmQ0IKMBGQ0o+Z5GVSwWk9ZfLpcH7eR+njQgowEZDchoQEYDMhqQ0YCSP6Gj6na74XyxWLxoJ/fzpAEZDchoQEYDMhqQ0YCMBvTR97TUd14p8v5U6p08aUBGAzIakNGAjAZkNCCjAaG/ezydTpmzfr8frs17X1av18P5fr8P56XS867AnjQgowEZDchoQEYDMhoQ+lf+Z8p7LdRoNML5ZrN55Hb+8KQBGQ3IaEBGAzIakNGAjAb00Z/Q5Wm325mz6XQars27Z22323DebDbD+TN50oCMBmQ0IKMBGQ3IaEBGA0Lf06L/6tRqtcK1vV4vnM/n83/t6ddqtcqcdTqdpGd70oCMBmQ0IKMBGQ3IaEBGA0Lf05bLZeZst9uFa/Pet12v13B+PB7DeaVSCecpPGlARgMyGpDRgIwGZDQg/9QJyJMGZDQgowEZDchoQEYDMhqQ0YCMBmQ0IKMBGQ3IaEBGAzIa0A/mS1ckTTF4KAAAAABJRU5ErkJggg==\" y=\"-6.92\"/>\n   </g>\n   <g id=\"matplotlib.axis_1\">\n    <g id=\"xtick_1\">\n     <g id=\"line2d_1\">\n      <defs>\n       <path d=\"M 0 0 \nL 0 3.5 \n\" id=\"m38aa74838b\" style=\"stroke:#ffffff;stroke-width:0.8;\"/>\n      </defs>\n      <g>\n       <use style=\"fill:#ffffff;stroke:#ffffff;stroke-width:0.8;\" x=\"30.807857\" xlink:href=\"#m38aa74838b\" y=\"115.92\"/>\n      </g>\n     </g>\n     <g id=\"text_1\">\n      <!-- 0 -->\n      <g style=\"fill:#ffffff;\" transform=\"translate(27.626607 130.518437)scale(0.1 -0.1)\">\n       <defs>\n        <path d=\"M 2034 4250 \nQ 1547 4250 1301 3770 \nQ 1056 3291 1056 2328 \nQ 1056 1369 1301 889 \nQ 1547 409 2034 409 \nQ 2525 409 2770 889 \nQ 3016 1369 3016 2328 \nQ 3016 3291 2770 3770 \nQ 2525 4250 2034 4250 \nz\nM 2034 4750 \nQ 2819 4750 3233 4129 \nQ 3647 3509 3647 2328 \nQ 3647 1150 3233 529 \nQ 2819 -91 2034 -91 \nQ 1250 -91 836 529 \nQ 422 1150 422 2328 \nQ 422 3509 836 4129 \nQ 1250 4750 2034 4750 \nz\n\" id=\"DejaVuSans-30\" transform=\"scale(0.015625)\"/>\n       </defs>\n       <use xlink:href=\"#DejaVuSans-30\"/>\n      </g>\n     </g>\n    </g>\n    <g id=\"xtick_2\">\n     <g id=\"line2d_2\">\n      <g>\n       <use style=\"fill:#ffffff;stroke:#ffffff;stroke-width:0.8;\" x=\"69.636429\" xlink:href=\"#m38aa74838b\" y=\"115.92\"/>\n      </g>\n     </g>\n     <g id=\"text_2\">\n      <!-- 5 -->\n      <g style=\"fill:#ffffff;\" transform=\"translate(66.455179 130.518437)scale(0.1 -0.1)\">\n       <defs>\n        <path d=\"M 691 4666 \nL 3169 4666 \nL 3169 4134 \nL 1269 4134 \nL 1269 2991 \nQ 1406 3038 1543 3061 \nQ 1681 3084 1819 3084 \nQ 2600 3084 3056 2656 \nQ 3513 2228 3513 1497 \nQ 3513 744 3044 326 \nQ 2575 -91 1722 -91 \nQ 1428 -91 1123 -41 \nQ 819 9 494 109 \nL 494 744 \nQ 775 591 1075 516 \nQ 1375 441 1709 441 \nQ 2250 441 2565 725 \nQ 2881 1009 2881 1497 \nQ 2881 1984 2565 2268 \nQ 2250 2553 1709 2553 \nQ 1456 2553 1204 2497 \nQ 953 2441 691 2322 \nL 691 4666 \nz\n\" id=\"DejaVuSans-35\" transform=\"scale(0.015625)\"/>\n       </defs>\n       <use xlink:href=\"#DejaVuSans-35\"/>\n      </g>\n     </g>\n    </g>\n    <g id=\"xtick_3\">\n     <g id=\"line2d_3\">\n      <g>\n       <use style=\"fill:#ffffff;stroke:#ffffff;stroke-width:0.8;\" x=\"108.465\" xlink:href=\"#m38aa74838b\" y=\"115.92\"/>\n      </g>\n     </g>\n     <g id=\"text_3\">\n      <!-- 10 -->\n      <g style=\"fill:#ffffff;\" transform=\"translate(102.1025 130.518437)scale(0.1 -0.1)\">\n       <defs>\n        <path d=\"M 794 531 \nL 1825 531 \nL 1825 4091 \nL 703 3866 \nL 703 4441 \nL 1819 4666 \nL 2450 4666 \nL 2450 531 \nL 3481 531 \nL 3481 0 \nL 794 0 \nL 794 531 \nz\n\" id=\"DejaVuSans-31\" transform=\"scale(0.015625)\"/>\n       </defs>\n       <use xlink:href=\"#DejaVuSans-31\"/>\n       <use x=\"63.623047\" xlink:href=\"#DejaVuSans-30\"/>\n      </g>\n     </g>\n    </g>\n   </g>\n   <g id=\"matplotlib.axis_2\">\n    <g id=\"ytick_1\">\n     <g id=\"line2d_4\">\n      <defs>\n       <path d=\"M 0 0 \nL -3.5 0 \n\" id=\"mcc73784513\" style=\"stroke:#ffffff;stroke-width:0.8;\"/>\n      </defs>\n      <g>\n       <use style=\"fill:#ffffff;stroke:#ffffff;stroke-width:0.8;\" x=\"26.925\" xlink:href=\"#mcc73784513\" y=\"11.082857\"/>\n      </g>\n     </g>\n     <g id=\"text_4\">\n      <!-- 0 -->\n      <g style=\"fill:#ffffff;\" transform=\"translate(13.5625 14.882076)scale(0.1 -0.1)\">\n       <use xlink:href=\"#DejaVuSans-30\"/>\n      </g>\n     </g>\n    </g>\n    <g id=\"ytick_2\">\n     <g id=\"line2d_5\">\n      <g>\n       <use style=\"fill:#ffffff;stroke:#ffffff;stroke-width:0.8;\" x=\"26.925\" xlink:href=\"#mcc73784513\" y=\"49.911429\"/>\n      </g>\n     </g>\n     <g id=\"text_5\">\n      <!-- 5 -->\n      <g style=\"fill:#ffffff;\" transform=\"translate(13.5625 53.710647)scale(0.1 -0.1)\">\n       <use xlink:href=\"#DejaVuSans-35\"/>\n      </g>\n     </g>\n    </g>\n    <g id=\"ytick_3\">\n     <g id=\"line2d_6\">\n      <g>\n       <use style=\"fill:#ffffff;stroke:#ffffff;stroke-width:0.8;\" x=\"26.925\" xlink:href=\"#mcc73784513\" y=\"88.74\"/>\n      </g>\n     </g>\n     <g id=\"text_6\">\n      <!-- 10 -->\n      <g style=\"fill:#ffffff;\" transform=\"translate(7.2 92.539219)scale(0.1 -0.1)\">\n       <use xlink:href=\"#DejaVuSans-31\"/>\n       <use x=\"63.623047\" xlink:href=\"#DejaVuSans-30\"/>\n      </g>\n     </g>\n    </g>\n   </g>\n   <g id=\"patch_3\">\n    <path d=\"M 26.925 115.92 \nL 26.925 7.2 \n\" style=\"fill:none;stroke:#ffffff;stroke-linecap:square;stroke-linejoin:miter;stroke-width:0.8;\"/>\n   </g>\n   <g id=\"patch_4\">\n    <path d=\"M 135.645 115.92 \nL 135.645 7.2 \n\" style=\"fill:none;stroke:#ffffff;stroke-linecap:square;stroke-linejoin:miter;stroke-width:0.8;\"/>\n   </g>\n   <g id=\"patch_5\">\n    <path d=\"M 26.925 115.92 \nL 135.645 115.92 \n\" style=\"fill:none;stroke:#ffffff;stroke-linecap:square;stroke-linejoin:miter;stroke-width:0.8;\"/>\n   </g>\n   <g id=\"patch_6\">\n    <path d=\"M 26.925 7.2 \nL 135.645 7.2 \n\" style=\"fill:none;stroke:#ffffff;stroke-linecap:square;stroke-linejoin:miter;stroke-width:0.8;\"/>\n   </g>\n  </g>\n </g>\n <defs>\n  <clipPath id=\"p7299ed8640\">\n   <rect height=\"108.72\" width=\"108.72\" x=\"26.925\" y=\"7.2\"/>\n  </clipPath>\n </defs>\n</svg>\n",
      "image/png": "[encoded data removed]"
     },
     "metadata": {}
    }
   ],
   "source": [
    "img = Phi[:,:,157]   # each image is a (1,x,x^2) represenattion\n",
    "show_digit(img[1,:]) # image asfter the first feature map (x, i.e. same image) \n",
    "show_digit(img[2,:]) # same image asfter the second feature map (x^2)\n",
    "show_digit(data['train']['images'][157])"
   ]
  },
  {
   "source": [
    "# Computing the reduced covariance matrix and truncate"
   ],
   "cell_type": "markdown",
   "metadata": {}
  },
  {
   "cell_type": "code",
   "execution_count": 13,
   "metadata": {},
   "outputs": [],
   "source": [
    "def sliding_window(xs: Iterable, \n",
    "                   size: int, \n",
    "                   step: Optional[int]=1,\n",
    "                   complement: Optional[bool]=False) -> Iterable:\n",
    "    \"\"\"\n",
    "    Sliding window iterator\n",
    "\n",
    "    Input:\n",
    "    ------\n",
    "    xs:         iterable\n",
    "    size:       window size\n",
    "    step:       step size\n",
    "    complement: return a complement\n",
    "    \n",
    "    Output:\n",
    "    -------\n",
    "    Iterable\n",
    "    \"\"\"\n",
    "    assert step > 0, \"Parameter 'step' must be > 0\"\n",
    "    N = len(xs)\n",
    "    i = 0\n",
    "    while i + size <= N:\n",
    "        mask = np.ones(N, dtype=bool)\n",
    "        mask[i:i+size] = False\n",
    "        if complement:\n",
    "            yield xs[~mask].tolist(), xs[mask].tolist()\n",
    "        else:\n",
    "            yield xs[~mask].tolist()\n",
    "        i += step"
   ]
  },
  {
   "source": [
    "quickly checking"
   ],
   "cell_type": "markdown",
   "metadata": {}
  },
  {
   "cell_type": "code",
   "execution_count": 264,
   "metadata": {},
   "outputs": [
    {
     "output_type": "stream",
     "name": "stdout",
     "text": [
      "[[0, 1], [2, 3], [4, 5], [6, 7], [8, 9]]\n"
     ]
    }
   ],
   "source": [
    "window_iterator = sliding_window(np.arange(10), size=2, step=2)\n",
    "print(list(window_iterator))"
   ]
  },
  {
   "cell_type": "code",
   "execution_count": 43,
   "metadata": {},
   "outputs": [],
   "source": [
    "from typing import Tuple\n",
    "\n",
    "def ishermitian(a: np.ndarray, rtol=1e-06, atol=1e-08) -> bool:\n",
    "    return np.allclose(a, a.conj().T, rtol=rtol, atol=atol)\n",
    "\n",
    "def truncate_covariance(\n",
    "    a: np.ndarray,\n",
    "    eps: Optional[float]=1e-3\n",
    "    ) -> Tuple[np.ndarray, np.ndarray]:\n",
    "\n",
    "    \"\"\"\n",
    "    Approximate the input covariance matrix by a truncated version.\n",
    "    Uses the eigendecomposition to diagonaize the input matrix\n",
    "    and truncates the spectrum p that satisfies the condition\n",
    "    sum(p)/trace(a) < eps.\n",
    "\n",
    "    Input:\n",
    "    ------\n",
    "    a:      Matrix to be truncated\n",
    "    eps:    The truncation error\n",
    "\n",
    "    Output:\n",
    "    -------\n",
    "    p:      The remaining spectrum\n",
    "    U:      The eigenvectors corresponding to p.\n",
    "    \"\"\"\n",
    "    assert ishermitian(a), 'Input matrix is not Hermitian'    \n",
    "    # the eignevalue decomposition\n",
    "    p, U = np.linalg.eigh(a)   # p are sorted in ascending order\n",
    "    # checking the contribution of eignevalues and get the index D\n",
    "    err = np.cumsum(p / np.trace(a))  # errors see Eq. (19) in text\n",
    "    D = np.min(np.where(err >= eps))  # non-negligible errros\n",
    "    return p[D:], U[:,D:]"
   ]
  },
  {
   "source": [
    "quickly checking"
   ],
   "cell_type": "markdown",
   "metadata": {}
  },
  {
   "cell_type": "code",
   "execution_count": 45,
   "metadata": {},
   "outputs": [],
   "source": [
    "np.random.seed(111)\n",
    "v = np.random.rand(30,10) + 1j*np.random.rand(30,10)\n",
    "a = v @ v.conj().T  # covariance matrix\n",
    "\n",
    "p,U = truncate_covariance(a)\n",
    "assert np.allclose((U * p) @ U.conj().T, a)"
   ]
  },
  {
   "cell_type": "code",
   "execution_count": 174,
   "metadata": {},
   "outputs": [],
   "source": [
    "from typing import Optional\n",
    "\n",
    "def build_tree(a: np.ndarray,\n",
    "               eps: Optional[float]=1e-3,\n",
    "               acc=[]\n",
    "               ) -> np.ndarray:\n",
    "    # getting the shape of the input tensor\n",
    "    i,j,k = a.shape\n",
    "\n",
    "    # ge\n",
    "    if j == 2: return\n",
    "\n",
    "    # geting the sliding window iterator\n",
    "    iterator = sliding_window(np.arange(l), 2, 2)\n",
    "\n",
    "    new_sites = []\n",
    "    for win in iterator:\n",
    "        print(win)\n",
    "        u,v = win\n",
    "        la, ra = np.asarray(a[:u]), np.asarray(a[v+1:])\n",
    "\n",
    "        import pdb; pdb.set_trace()\n",
    "\n",
    "        phi1 = np.c([la, ra])  # to contract\n",
    "        tau = ncon([phi1, phi1.conj()], [[1,2,3],[1,2,3]])\n",
    "        \n",
    "        phi2 = np.asarray(a[w])\n",
    "        rho = ncon([phi2, phi2.conj()], [[-1,-2,1],[-3,-4,1]])\n",
    "    \n",
    "        n = np.sqrt(rho.size).astype(int)\n",
    "        rho = tau/N * rho.reshape(n,n)\n",
    "\n",
    "        e, U = truncate_covariance(rho, eps)\n",
    "\n",
    "        a,b = U.shape\n",
    "        import pdb; pdb.set_trace()\n",
    "        u = U.T.reshape(i,2,b)\n",
    "\n",
    "        new_sites.append(U)\n",
    "        acc.append(U)\n",
    "    yield new_sites\n",
    "    yield from build_tree(np.asarray(new_sites),  eps=eps, acc=acc)"
   ]
  },
  {
   "source": [
    "# Sandbox below"
   ],
   "cell_type": "markdown",
   "metadata": {}
  },
  {
   "cell_type": "code",
   "execution_count": 36,
   "metadata": {},
   "outputs": [],
   "source": [
    "np.random.seed(0)\n",
    "Phi = np.random.rand(3, 196, 60000)"
   ]
  },
  {
   "cell_type": "code",
   "execution_count": 98,
   "metadata": {
    "tags": []
   },
   "outputs": [
    {
     "output_type": "stream",
     "name": "stdout",
     "text": [
      "9.85 s ± 220 ms per loop (mean ± std. dev. of 7 runs, 1 loop each)\n"
     ]
    }
   ],
   "source": [
    "%%timeit\n",
    "\n",
    "l,r = 8,9\n",
    "\n",
    "u,v,w = Phi.shape\n",
    "\n",
    "rho_slow = np.zeros([u,u,u,u])\n",
    "for j in range(w):\n",
    "    left = np.einsum('ik,ik', Phi[:,:l,j], Phi[:,:l,j].conj())\n",
    "    right = np.einsum('ik,ik', Phi[:,r+1:,j], Phi[:,r+1:,j].conj())\n",
    "\n",
    "    # i   m\n",
    "    # |   |\n",
    "    # +---+\n",
    "    # |   |\n",
    "    # +---+\n",
    "    # |   |\n",
    "    # k   n\n",
    "\n",
    "    for i in range(u):\n",
    "        for k in range(u):\n",
    "            for m in range(u):\n",
    "                for n in range(u):\n",
    "                    rho_slow[i,k,m,n] += left * right * Phi[i,l,j] * Phi[m,l,j].conj() * Phi[k,r,j] * Phi[n,r,j].conj()"
   ]
  },
  {
   "cell_type": "code",
   "execution_count": 102,
   "metadata": {},
   "outputs": [
    {
     "output_type": "execute_result",
     "data": {
      "text/plain": [
       "(3, 3, 3, 3)"
      ]
     },
     "metadata": {},
     "execution_count": 102
    }
   ],
   "source": [
    "# %%timeit\n",
    "u,v,w = Phi.shape\n",
    "\n",
    "l,r = 8,9\n",
    "\n",
    "rho = np.einsum('ilj,klj->iklj', Phi, Phi.conj())                     # computes all density matrices for each j\n",
    "\n",
    "left = np.einsum('ikj,ikj->j', Phi[:,:l,:], Phi[:,:l,:].conj())       # contraction of all parts to the left of the pointer (i.e. l)\n",
    "right = np.einsum('ikj,ikj->j', Phi[:,r+1:,:], Phi[:,r+1:,:].conj())  # contraction all parts to the right of the pointer (i.e. r+1)\n",
    "\n",
    "rho_lr = np.einsum('ikj,mnj->imknj', rho[:,:,l,:], rho[:,:,r,:])      # reduced density matrix for the window\n",
    "\n",
    "rho_lr = np.einsum('...j,...j,...j', rho_lr, left, right)             # scaled by left and right\n",
    "\n",
    "rho_lr.shape"
   ]
  },
  {
   "cell_type": "code",
   "execution_count": 100,
   "metadata": {},
   "outputs": [
    {
     "output_type": "execute_result",
     "data": {
      "text/plain": [
       "True"
      ]
     },
     "metadata": {},
     "execution_count": 100
    }
   ],
   "source": [
    "np.allclose(rho_slow, rho_lr)"
   ]
  },
  {
   "cell_type": "code",
   "execution_count": 90,
   "metadata": {},
   "outputs": [
    {
     "output_type": "execute_result",
     "data": {
      "text/plain": [
       "array([[[[ 9968072.0080027 ,  7490889.83077615,  7480118.46071947],\n",
       "         [ 7454956.65581037,  5589505.28093   ,  5589053.45250698],\n",
       "         [ 7450474.52478892,  5604036.01774872,  5609747.73507983]],\n",
       "\n",
       "        [[ 7490889.83077615, 10048689.68436025,  7527217.13687001],\n",
       "         [ 5589505.28093   ,  7482860.94402131,  5600812.29619996],\n",
       "         [ 5604036.01774872,  7513750.38299611,  5640723.68925543]],\n",
       "\n",
       "        [[ 7480118.46071947,  7527217.13687001,  9983935.42066193],\n",
       "         [ 5589053.45250698,  5600812.29619996,  7452723.6725856 ],\n",
       "         [ 5609747.73507983,  5640723.68925543,  7483622.40060567]]],\n",
       "\n",
       "\n",
       "       [[[ 7454956.65581037,  5589505.28093   ,  5589053.45250698],\n",
       "         [ 9942178.25034934,  7450451.46900855,  7449120.79489176],\n",
       "         [ 7465780.71116002,  5610012.85749319,  5603134.34704742]],\n",
       "\n",
       "        [[ 5589505.28093   ,  7482860.94402131,  5600812.29619996],\n",
       "         [ 7450451.46900855,  9952975.56399984,  7440928.47243106],\n",
       "         [ 5610012.85749319,  7477776.12251422,  5604854.62870562]],\n",
       "\n",
       "        [[ 5589053.45250698,  5600812.29619996,  7452723.6725856 ],\n",
       "         [ 7449120.79489176,  7440928.47243106,  9915611.32466878],\n",
       "         [ 5603134.34704742,  5604854.62870562,  7448407.97149513]]],\n",
       "\n",
       "\n",
       "       [[[ 7450474.52478892,  5604036.01774872,  5609747.73507983],\n",
       "         [ 7465780.71116002,  5610012.85749319,  5603134.34704742],\n",
       "         [ 9903260.36786587,  7447929.27105411,  7459273.74113426]],\n",
       "\n",
       "        [[ 5604036.01774872,  7513750.38299611,  5640723.68925543],\n",
       "         [ 5610012.85749319,  7477776.12251422,  5604854.62870562],\n",
       "         [ 7447929.27105411,  9940009.34847382,  7480768.85611326]],\n",
       "\n",
       "        [[ 5609747.73507983,  5640723.68925543,  7483622.40060567],\n",
       "         [ 5603134.34704742,  5604854.62870562,  7448407.97149513],\n",
       "         [ 7459273.74113426,  7480768.85611326,  9923319.88600852]]]])"
      ]
     },
     "metadata": {},
     "execution_count": 90
    }
   ],
   "source": [
    "np.einsum('...j,...j,...j', rho_lr, left, right)"
   ]
  },
  {
   "cell_type": "code",
   "execution_count": 73,
   "metadata": {},
   "outputs": [
    {
     "output_type": "execute_result",
     "data": {
      "text/plain": [
       "True"
      ]
     },
     "metadata": {},
     "execution_count": 73
    }
   ],
   "source": [
    "rhos = np.einsum('ilj,klj->iklj', Phi, Phi.conj())\n",
    "\n",
    "rho_ij = np.sum(np.einsum('ikj,mnj->ikmnj', rho[:,:,l,:], rho[:,:,r,:]), axis=4)\n",
    "rho_ij2 = np.einsum('ikj,mnj->ikmn', rho[:,:,l,:], rho[:,:,r,:])\n",
    "np.allclose(rho_ij, rho_ij2)"
   ]
  },
  {
   "cell_type": "code",
   "execution_count": 65,
   "metadata": {},
   "outputs": [
    {
     "output_type": "execute_result",
     "data": {
      "text/plain": [
       "True"
      ]
     },
     "metadata": {},
     "execution_count": 65
    }
   ],
   "source": []
  },
  {
   "cell_type": "code",
   "execution_count": 48,
   "metadata": {},
   "outputs": [
    {
     "output_type": "execute_result",
     "data": {
      "text/plain": [
       "array([[[[ 9968072.00800279,  7490889.83077619,  7480118.46071949],\n",
       "         [ 7454956.65581029,  5589505.28092995,  5589053.45250698],\n",
       "         [ 7450474.52478885,  5604036.01774869,  5609747.73507987]],\n",
       "\n",
       "        [[ 7490889.83077619, 10048689.68436028,  7527217.13686993],\n",
       "         [ 5589505.28092995,  7482860.94402133,  5600812.29619999],\n",
       "         [ 5604036.01774869,  7513750.38299611,  5640723.68925542]],\n",
       "\n",
       "        [[ 7480118.46071949,  7527217.13686993,  9983935.42066203],\n",
       "         [ 5589053.45250698,  5600812.29619999,  7452723.6725855 ],\n",
       "         [ 5609747.73507987,  5640723.68925542,  7483622.40060565]]],\n",
       "\n",
       "\n",
       "       [[[ 7454956.65581029,  5589505.28092995,  5589053.45250698],\n",
       "         [ 9942178.25034939,  7450451.46900852,  7449120.79489168],\n",
       "         [ 7465780.71116004,  5610012.85749323,  5603134.34704745]],\n",
       "\n",
       "        [[ 5589505.28092995,  7482860.94402133,  5600812.29619999],\n",
       "         [ 7450451.46900852,  9952975.56399988,  7440928.47243111],\n",
       "         [ 5610012.85749323,  7477776.12251419,  5604854.62870563]],\n",
       "\n",
       "        [[ 5589053.45250698,  5600812.29619999,  7452723.6725855 ],\n",
       "         [ 7449120.79489168,  7440928.47243111,  9915611.32466871],\n",
       "         [ 5603134.34704745,  5604854.62870563,  7448407.97149516]]],\n",
       "\n",
       "\n",
       "       [[[ 7450474.52478885,  5604036.01774869,  5609747.73507987],\n",
       "         [ 7465780.71116004,  5610012.85749323,  5603134.34704745],\n",
       "         [ 9903260.36786596,  7447929.27105406,  7459273.7411343 ]],\n",
       "\n",
       "        [[ 5604036.01774869,  7513750.38299611,  5640723.68925542],\n",
       "         [ 5610012.85749323,  7477776.12251419,  5604854.62870563],\n",
       "         [ 7447929.27105406,  9940009.34847391,  7480768.85611327]],\n",
       "\n",
       "        [[ 5609747.73507987,  5640723.68925542,  7483622.40060565],\n",
       "         [ 5603134.34704745,  5604854.62870563,  7448407.97149516],\n",
       "         [ 7459273.7411343 ,  7480768.85611327,  9923319.88600851]]]])"
      ]
     },
     "metadata": {},
     "execution_count": 48
    }
   ],
   "source": [
    "# p, q, N = Phi.shape\n",
    "\n",
    "# rho_2 = np.zeros([p,p,p,p])\n",
    "\n",
    "# left = np.einsum('ikj,ikj->j', Phi[:,:l,:], Phi[:,:l,:].conj())       # computes all parts to the left of the pointer (i.e. l)\n",
    "# right = np.einsum('ikj,ikj->j', Phi[:,r+1:,:], Phi[:,r+1:,:].conj())  # computes all parts to the right of the pointer (i.e. r+1)\n",
    "# rhos = np.einsum('ij,kj->ikj', Phi[:,l,:], Phi[:,l,:].conj())         # computes all density matrices for each j\n",
    "\n",
    "# for j in range(N):\n",
    "#     rho_j = np.einsum('ik,jl', density(Phi[:,l,j]), density(Phi[:,r,j]))\n",
    "#     rho_2 += left[j] * rho_j * right[j]\n",
    "\n"
   ]
  },
  {
   "cell_type": "code",
   "execution_count": 41,
   "metadata": {},
   "outputs": [
    {
     "output_type": "execute_result",
     "data": {
      "text/plain": [
       "array([[[[ 9968072.00800279,  7490889.83077619,  7480118.46071949],\n",
       "         [ 7454956.65581029,  5589505.28092995,  5589053.45250698],\n",
       "         [ 7450474.52478885,  5604036.01774869,  5609747.73507987]],\n",
       "\n",
       "        [[ 7490889.83077619, 10048689.68436029,  7527217.13686993],\n",
       "         [ 5589505.28092995,  7482860.94402133,  5600812.2962    ],\n",
       "         [ 5604036.01774869,  7513750.38299611,  5640723.68925542]],\n",
       "\n",
       "        [[ 7480118.46071949,  7527217.13686993,  9983935.42066202],\n",
       "         [ 5589053.45250698,  5600812.2962    ,  7452723.6725855 ],\n",
       "         [ 5609747.73507987,  5640723.68925542,  7483622.40060565]]],\n",
       "\n",
       "\n",
       "       [[[ 7454956.65581029,  5589505.28092995,  5589053.45250698],\n",
       "         [ 9942178.25034939,  7450451.46900852,  7449120.79489168],\n",
       "         [ 7465780.71116004,  5610012.85749323,  5603134.34704745]],\n",
       "\n",
       "        [[ 5589505.28092995,  7482860.94402133,  5600812.2962    ],\n",
       "         [ 7450451.46900852,  9952975.56399989,  7440928.47243111],\n",
       "         [ 5610012.85749323,  7477776.12251419,  5604854.62870563]],\n",
       "\n",
       "        [[ 5589053.45250698,  5600812.2962    ,  7452723.6725855 ],\n",
       "         [ 7449120.79489168,  7440928.47243111,  9915611.32466871],\n",
       "         [ 5603134.34704745,  5604854.62870563,  7448407.97149517]]],\n",
       "\n",
       "\n",
       "       [[[ 7450474.52478885,  5604036.01774869,  5609747.73507987],\n",
       "         [ 7465780.71116004,  5610012.85749323,  5603134.34704745],\n",
       "         [ 9903260.36786595,  7447929.27105406,  7459273.7411343 ]],\n",
       "\n",
       "        [[ 5604036.01774869,  7513750.38299611,  5640723.68925542],\n",
       "         [ 5610012.85749323,  7477776.12251419,  5604854.62870563],\n",
       "         [ 7447929.27105406,  9940009.34847391,  7480768.85611327]],\n",
       "\n",
       "        [[ 5609747.73507987,  5640723.68925542,  7483622.40060565],\n",
       "         [ 5603134.34704745,  5604854.62870563,  7448407.97149517],\n",
       "         [ 7459273.7411343 ,  7480768.85611327,  9923319.88600851]]]])"
      ]
     },
     "metadata": {},
     "execution_count": 41
    }
   ],
   "source": [
    "rho_2"
   ]
  },
  {
   "cell_type": "code",
   "execution_count": 273,
   "metadata": {},
   "outputs": [
    {
     "output_type": "execute_result",
     "data": {
      "text/plain": [
       "((3, 8, 60000), (3, 186, 60000), 480049.502372654, 13615338.06618404)"
      ]
     },
     "metadata": {},
     "execution_count": 273
    }
   ],
   "source": [
    "l,h = win\n",
    "\n",
    "# fully contruct the tensor Phi to the left and right of the window\n",
    "left = np.einsum('ijk,ijk', Phi[:,:l,:], Phi[:,:l,:].conj())\n",
    "right = np.einsum('ijk,ijk', Phi[:,h+1:,:], Phi[:,h+1:,:].conj())\n",
    "\n",
    "Phi[:,:l,:].shape, Phi[:,h+1:,:].shape, left, right"
   ]
  },
  {
   "cell_type": "code",
   "execution_count": 274,
   "metadata": {},
   "outputs": [
    {
     "output_type": "execute_result",
     "data": {
      "text/plain": [
       "(3, 2, 3, 2)"
      ]
     },
     "metadata": {},
     "execution_count": 274
    }
   ],
   "source": [
    "# contracting the samples\n",
    "rho = np.einsum('ijk,pqk->ijpq', Phi[:,l:h+1,:], Phi[:,l:h+1,:].conj())\n",
    "# m,n,_,_ = \n",
    "rho.shape"
   ]
  },
  {
   "cell_type": "code",
   "execution_count": 272,
   "metadata": {},
   "outputs": [
    {
     "output_type": "execute_result",
     "data": {
      "text/plain": [
       "(3, 9, 60000)"
      ]
     },
     "metadata": {},
     "execution_count": 272
    }
   ],
   "source": [
    "Phi[:,l:h+1,:].shape"
   ]
  },
  {
   "cell_type": "code",
   "execution_count": 165,
   "metadata": {},
   "outputs": [],
   "source": [
    "rho += left   # adding left side\n",
    "rho += right  # adding right side\n",
    "rho /= N      # normalizing to get the covariance"
   ]
  },
  {
   "cell_type": "code",
   "execution_count": 166,
   "metadata": {},
   "outputs": [],
   "source": [
    "p,U = truncate_covariance(rho.reshape(m*n,-1))  # truncating the cobvariance"
   ]
  },
  {
   "cell_type": "code",
   "execution_count": 167,
   "metadata": {},
   "outputs": [
    {
     "output_type": "execute_result",
     "data": {
      "text/plain": [
       "(3, 2, 1)"
      ]
     },
     "metadata": {},
     "execution_count": 167
    }
   ],
   "source": [
    "U = U.reshape(m,n,-1)  # reshaping back\n",
    "U.shape"
   ]
  },
  {
   "cell_type": "code",
   "execution_count": 261,
   "metadata": {},
   "outputs": [
    {
     "output_type": "execute_result",
     "data": {
      "text/plain": [
       "array([1409.5622609])"
      ]
     },
     "metadata": {},
     "execution_count": 261
    }
   ],
   "source": [
    "p"
   ]
  },
  {
   "cell_type": "code",
   "execution_count": 170,
   "metadata": {},
   "outputs": [
    {
     "output_type": "execute_result",
     "data": {
      "text/plain": [
       "array([[[0.4082483 ],\n",
       "        [0.4082483 ]],\n",
       "\n",
       "       [[0.40824829],\n",
       "        [0.40824829]],\n",
       "\n",
       "       [[0.40824829],\n",
       "        [0.40824829]]])"
      ]
     },
     "metadata": {},
     "execution_count": 170
    }
   ],
   "source": [
    "U"
   ]
  },
  {
   "cell_type": "code",
   "execution_count": null,
   "metadata": {},
   "outputs": [],
   "source": []
  }
 ]
}