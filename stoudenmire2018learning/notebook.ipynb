{
 "metadata": {
  "language_info": {
   "codemirror_mode": {
    "name": "ipython",
    "version": 3
   },
   "file_extension": ".py",
   "mimetype": "text/x-python",
   "name": "python",
   "nbconvert_exporter": "python",
   "pygments_lexer": "ipython3",
   "version": "3.9.4"
  },
  "orig_nbformat": 4,
  "kernelspec": {
   "name": "python3",
   "display_name": "Python 3.9.4 64-bit ('3.9.4': pyenv)"
  },
  "interpreter": {
   "hash": "c2262ef1e1764844cc7dddacc5332fc08dc39a3661d4c909d0d650c194bf9ca7"
  }
 },
 "nbformat": 4,
 "nbformat_minor": 2,
 "cells": [
  {
   "cell_type": "code",
   "execution_count": 1,
   "metadata": {},
   "outputs": [],
   "source": [
    "%load_ext autoreload\n",
    "%autoreload 2"
   ]
  },
  {
   "source": [
    "import numpy as np\n",
    "import matplotlib.pyplot as plt"
   ],
   "cell_type": "code",
   "metadata": {},
   "execution_count": 2,
   "outputs": []
  },
  {
   "source": [
    "# Utilities"
   ],
   "cell_type": "markdown",
   "metadata": {}
  },
  {
   "cell_type": "code",
   "execution_count": 3,
   "metadata": {},
   "outputs": [],
   "source": [
    "from typing import Tuple\n",
    "\n",
    "def is_power_of_two(n: int) -> bool:\n",
    "    \"\"\"\n",
    "    Check if a given number is a power of two.\n",
    "    \"\"\"\n",
    "    return (n & (n-1) == 0) and n != 0\n",
    "\n",
    "\n",
    "def power_of_two(n: int) -> Tuple[int, int]:\n",
    "    \"\"\"\n",
    "    Given a number, returns it's previous \n",
    "    and next of keen which are powers of two.\n",
    "    \"\"\"\n",
    "    if is_power_of_two(n):\n",
    "        return n, n\n",
    "    count = 0    \n",
    "    while n != 0:\n",
    "        n >>= 1\n",
    "        count += 1\n",
    "    prec = 1 << (count-1)\n",
    "    succ = 1 << count\n",
    "    return prec, succ"
   ]
  },
  {
   "source": [
    "# Loading MNIST dataset"
   ],
   "cell_type": "markdown",
   "metadata": {}
  },
  {
   "cell_type": "code",
   "execution_count": 4,
   "metadata": {},
   "outputs": [],
   "source": [
    "from typing import Optional\n",
    "\n",
    "def load_mnist(data_path: str,\n",
    "               downscale: Optional[bool] = True) -> np.ndarray:\n",
    "    num_labels = 10\n",
    "    img_size = 28\n",
    "\n",
    "    # data files\n",
    "    train_data_path = os.path.join(data_path, 'mnist_train.csv')\n",
    "    test_data_path = os.path.join(data_path, 'mnist_test.csv')\n",
    "\n",
    "    # loading data\n",
    "    train_data = np.loadtxt(train_data_path, delimiter=',')\n",
    "    test_data = np.loadtxt(test_data_path, delimiter=',')\n",
    "\n",
    "    # scaling to [0.01, 0.99]; we want to avoid zeros and ones\n",
    "    frac = 0.99 / 255\n",
    "\n",
    "    # extracting data and labels\n",
    "    train_images = np.asfarray(train_data[:, 1:]) * frac + 0.01\n",
    "    train_labels = np.asfarray(train_data[:, :1])\n",
    "\n",
    "    test_images = np.asfarray(test_data[:, 1:]) * frac + 0.01\n",
    "    test_labels = np.asfarray(test_data[:, :1])\n",
    "\n",
    "    # transform labels into one hot representation\n",
    "    lr = np.arange(num_labels)\n",
    "    train_labels_one_hot = (lr==train_labels).astype(float)\n",
    "    test_labels_one_hot = (lr==test_labels).astype(float)\n",
    "\n",
    "    # we don't want zeroes and ones in the labels either\n",
    "    train_labels_one_hot[train_labels_one_hot==0] = 0.01\n",
    "    train_labels_one_hot[train_labels_one_hot==1] = 0.99\n",
    "    test_labels_one_hot[test_labels_one_hot==0] = 0.01\n",
    "    test_labels_one_hot[test_labels_one_hot==1] = 0.99\n",
    "\n",
    "    if downscale:\n",
    "        downscale_img = lambda img: img.reshape(28, 28)[::2,::2].reshape(-1,1)\n",
    "        train_images = np.apply_along_axis(downscale_img, 1, train_images)\n",
    "        test_images = np.apply_along_axis(downscale_img, 1, test_images)\n",
    "\n",
    "    return {\n",
    "        'train': {\n",
    "            'images': train_images,\n",
    "            'labels': train_labels_one_hot\n",
    "        },\n",
    "        'test': {\n",
    "            'images': test_images,\n",
    "            'labels': test_labels_one_hot\n",
    "        }\n",
    "    }"
   ]
  },
  {
   "cell_type": "code",
   "execution_count": 5,
   "metadata": {},
   "outputs": [],
   "source": [
    "downscale = True\n",
    "image_size = 28*28\n",
    "\n",
    "if downscale:\n",
    "    image_size = 14*14\n",
    "\n",
    "data = load_mnist('../data/mnist', downscale)"
   ]
  },
  {
   "source": [
    "Checking if data was loaded and scaled properly by plotting random digits..."
   ],
   "cell_type": "markdown",
   "metadata": {}
  },
  {
   "cell_type": "code",
   "execution_count": 6,
   "metadata": {},
   "outputs": [
    {
     "output_type": "display_data",
     "data": {
      "text/plain": "<Figure size 144x144 with 1 Axes>",
      "image/svg+xml": "<?xml version=\"1.0\" encoding=\"utf-8\" standalone=\"no\"?>\n<!DOCTYPE svg PUBLIC \"-//W3C//DTD SVG 1.1//EN\"\n  \"http://www.w3.org/Graphics/SVG/1.1/DTD/svg11.dtd\">\n<svg height=\"139.798125pt\" version=\"1.1\" viewBox=\"0 0 142.845 139.798125\" width=\"142.845pt\" xmlns=\"http://www.w3.org/2000/svg\" xmlns:xlink=\"http://www.w3.org/1999/xlink\">\n <metadata>\n  <rdf:RDF xmlns:cc=\"http://creativecommons.org/ns#\" xmlns:dc=\"http://purl.org/dc/elements/1.1/\" xmlns:rdf=\"http://www.w3.org/1999/02/22-rdf-syntax-ns#\">\n   <cc:Work>\n    <dc:type rdf:resource=\"http://purl.org/dc/dcmitype/StillImage\"/>\n    <dc:date>2021-07-01T22:02:02.596009</dc:date>\n    <dc:format>image/svg+xml</dc:format>\n    <dc:creator>\n     <cc:Agent>\n      <dc:title>Matplotlib v3.4.2, https://matplotlib.org/</dc:title>\n     </cc:Agent>\n    </dc:creator>\n   </cc:Work>\n  </rdf:RDF>\n </metadata>\n <defs>\n  <style type=\"text/css\">*{stroke-linecap:butt;stroke-linejoin:round;}</style>\n </defs>\n <g id=\"figure_1\">\n  <g id=\"patch_1\">\n   <path d=\"M 0 139.798125 \nL 142.845 139.798125 \nL 142.845 0 \nL 0 0 \nz\n\"/>\n  </g>\n  <g id=\"axes_1\">\n   <g id=\"patch_2\">\n    <path d=\"M 26.925 115.92 \nL 135.645 115.92 \nL 135.645 7.2 \nL 26.925 7.2 \nz\n\"/>\n   </g>\n   <g clip-path=\"url(#ped06d83dd5)\">\n    <image height=\"109\" id=\"imaged3babcc24f\" transform=\"scale(1 -1)translate(0 -109)\" width=\"109\" x=\"26.925\" xlink:href=\"data:image/png;base64,\niVBORw0KGgoAAAANSUhEUgAAAG0AAABtCAYAAACr+O9WAAACO0lEQVR4nO3cMY5pYRyG8XvkLsAStBINYgMKidIGrEEidmEHNmAFWpGohF6iUemFRDTcajLN9Zd7Pu7xTJ5f+2Y4M898yZwwsvv9fv8llFLRF6B/ZzQgowEZDchoQEYDMhrQ79QHGI/HD7fRaBR+bb1eD/d+vx/ug8Eg3H8qTxqQ0YCMBmQ0IKMBGQ3IaEDZO19Pu1wu4d5oNMJ9u93mfu7VahXurVYr92MXzZMGZDQgowEZDchoQEYDeuuf/KnO53O4R7cMu90u6bnX63W4N5vNpMdP4UkDMhqQ0YCMBmQ0IKMBGQ3oo+/TUhwOh3AfDofhPp1Ow/12u4V7lmXhnsKTBmQ0IKMBGQ3IaEBGAzIa0I+9T3tmPp+He7vdDvcif2yeNCCjARkNyGhARgMyGpDRgJI/kuJTlcvlcD8ej+F+Op1eeDWv5UkDMhqQ0YCMBmQ0IKMBGQ0IfZ/W6/UebsvlMvzaWq326sv5bzxpQEYDMhqQ0YCMBmQ0oI9+C92zSyuVHv/OffC3lcyTBmQ0IKMBGQ3IaEBGAzIaUKEvzVSr1XBP+bTwTqcT7ovFItyv12vu5343TxqQ0YCMBmQ0IKMBGQ3IaECFvp727N+NNptNuEcf7zeZTHJd05dKpRLu+/0+3Lvd7sNtNpvluKJvnjQgowEZDchoQEYDMhqQ0YA++n2P+jtPGpDRgIwGZDQgowEZDchoQEYDMhqQ0YCMBmQ0IKMBGQ3IaEBGAzIakNGAjAZkNCCjARkN6A+BvG9dMFiNrgAAAABJRU5ErkJggg==\" y=\"-6.92\"/>\n   </g>\n   <g id=\"matplotlib.axis_1\">\n    <g id=\"xtick_1\">\n     <g id=\"line2d_1\">\n      <defs>\n       <path d=\"M 0 0 \nL 0 3.5 \n\" id=\"ma674742abf\" style=\"stroke:#ffffff;stroke-width:0.8;\"/>\n      </defs>\n      <g>\n       <use style=\"fill:#ffffff;stroke:#ffffff;stroke-width:0.8;\" x=\"30.807857\" xlink:href=\"#ma674742abf\" y=\"115.92\"/>\n      </g>\n     </g>\n     <g id=\"text_1\">\n      <!-- 0 -->\n      <g style=\"fill:#ffffff;\" transform=\"translate(27.626607 130.518437)scale(0.1 -0.1)\">\n       <defs>\n        <path d=\"M 2034 4250 \nQ 1547 4250 1301 3770 \nQ 1056 3291 1056 2328 \nQ 1056 1369 1301 889 \nQ 1547 409 2034 409 \nQ 2525 409 2770 889 \nQ 3016 1369 3016 2328 \nQ 3016 3291 2770 3770 \nQ 2525 4250 2034 4250 \nz\nM 2034 4750 \nQ 2819 4750 3233 4129 \nQ 3647 3509 3647 2328 \nQ 3647 1150 3233 529 \nQ 2819 -91 2034 -91 \nQ 1250 -91 836 529 \nQ 422 1150 422 2328 \nQ 422 3509 836 4129 \nQ 1250 4750 2034 4750 \nz\n\" id=\"DejaVuSans-30\" transform=\"scale(0.015625)\"/>\n       </defs>\n       <use xlink:href=\"#DejaVuSans-30\"/>\n      </g>\n     </g>\n    </g>\n    <g id=\"xtick_2\">\n     <g id=\"line2d_2\">\n      <g>\n       <use style=\"fill:#ffffff;stroke:#ffffff;stroke-width:0.8;\" x=\"69.636429\" xlink:href=\"#ma674742abf\" y=\"115.92\"/>\n      </g>\n     </g>\n     <g id=\"text_2\">\n      <!-- 5 -->\n      <g style=\"fill:#ffffff;\" transform=\"translate(66.455179 130.518437)scale(0.1 -0.1)\">\n       <defs>\n        <path d=\"M 691 4666 \nL 3169 4666 \nL 3169 4134 \nL 1269 4134 \nL 1269 2991 \nQ 1406 3038 1543 3061 \nQ 1681 3084 1819 3084 \nQ 2600 3084 3056 2656 \nQ 3513 2228 3513 1497 \nQ 3513 744 3044 326 \nQ 2575 -91 1722 -91 \nQ 1428 -91 1123 -41 \nQ 819 9 494 109 \nL 494 744 \nQ 775 591 1075 516 \nQ 1375 441 1709 441 \nQ 2250 441 2565 725 \nQ 2881 1009 2881 1497 \nQ 2881 1984 2565 2268 \nQ 2250 2553 1709 2553 \nQ 1456 2553 1204 2497 \nQ 953 2441 691 2322 \nL 691 4666 \nz\n\" id=\"DejaVuSans-35\" transform=\"scale(0.015625)\"/>\n       </defs>\n       <use xlink:href=\"#DejaVuSans-35\"/>\n      </g>\n     </g>\n    </g>\n    <g id=\"xtick_3\">\n     <g id=\"line2d_3\">\n      <g>\n       <use style=\"fill:#ffffff;stroke:#ffffff;stroke-width:0.8;\" x=\"108.465\" xlink:href=\"#ma674742abf\" y=\"115.92\"/>\n      </g>\n     </g>\n     <g id=\"text_3\">\n      <!-- 10 -->\n      <g style=\"fill:#ffffff;\" transform=\"translate(102.1025 130.518437)scale(0.1 -0.1)\">\n       <defs>\n        <path d=\"M 794 531 \nL 1825 531 \nL 1825 4091 \nL 703 3866 \nL 703 4441 \nL 1819 4666 \nL 2450 4666 \nL 2450 531 \nL 3481 531 \nL 3481 0 \nL 794 0 \nL 794 531 \nz\n\" id=\"DejaVuSans-31\" transform=\"scale(0.015625)\"/>\n       </defs>\n       <use xlink:href=\"#DejaVuSans-31\"/>\n       <use x=\"63.623047\" xlink:href=\"#DejaVuSans-30\"/>\n      </g>\n     </g>\n    </g>\n   </g>\n   <g id=\"matplotlib.axis_2\">\n    <g id=\"ytick_1\">\n     <g id=\"line2d_4\">\n      <defs>\n       <path d=\"M 0 0 \nL -3.5 0 \n\" id=\"mc4af1420aa\" style=\"stroke:#ffffff;stroke-width:0.8;\"/>\n      </defs>\n      <g>\n       <use style=\"fill:#ffffff;stroke:#ffffff;stroke-width:0.8;\" x=\"26.925\" xlink:href=\"#mc4af1420aa\" y=\"11.082857\"/>\n      </g>\n     </g>\n     <g id=\"text_4\">\n      <!-- 0 -->\n      <g style=\"fill:#ffffff;\" transform=\"translate(13.5625 14.882076)scale(0.1 -0.1)\">\n       <use xlink:href=\"#DejaVuSans-30\"/>\n      </g>\n     </g>\n    </g>\n    <g id=\"ytick_2\">\n     <g id=\"line2d_5\">\n      <g>\n       <use style=\"fill:#ffffff;stroke:#ffffff;stroke-width:0.8;\" x=\"26.925\" xlink:href=\"#mc4af1420aa\" y=\"49.911429\"/>\n      </g>\n     </g>\n     <g id=\"text_5\">\n      <!-- 5 -->\n      <g style=\"fill:#ffffff;\" transform=\"translate(13.5625 53.710647)scale(0.1 -0.1)\">\n       <use xlink:href=\"#DejaVuSans-35\"/>\n      </g>\n     </g>\n    </g>\n    <g id=\"ytick_3\">\n     <g id=\"line2d_6\">\n      <g>\n       <use style=\"fill:#ffffff;stroke:#ffffff;stroke-width:0.8;\" x=\"26.925\" xlink:href=\"#mc4af1420aa\" y=\"88.74\"/>\n      </g>\n     </g>\n     <g id=\"text_6\">\n      <!-- 10 -->\n      <g style=\"fill:#ffffff;\" transform=\"translate(7.2 92.539219)scale(0.1 -0.1)\">\n       <use xlink:href=\"#DejaVuSans-31\"/>\n       <use x=\"63.623047\" xlink:href=\"#DejaVuSans-30\"/>\n      </g>\n     </g>\n    </g>\n   </g>\n   <g id=\"patch_3\">\n    <path d=\"M 26.925 115.92 \nL 26.925 7.2 \n\" style=\"fill:none;stroke:#ffffff;stroke-linecap:square;stroke-linejoin:miter;stroke-width:0.8;\"/>\n   </g>\n   <g id=\"patch_4\">\n    <path d=\"M 135.645 115.92 \nL 135.645 7.2 \n\" style=\"fill:none;stroke:#ffffff;stroke-linecap:square;stroke-linejoin:miter;stroke-width:0.8;\"/>\n   </g>\n   <g id=\"patch_5\">\n    <path d=\"M 26.925 115.92 \nL 135.645 115.92 \n\" style=\"fill:none;stroke:#ffffff;stroke-linecap:square;stroke-linejoin:miter;stroke-width:0.8;\"/>\n   </g>\n   <g id=\"patch_6\">\n    <path d=\"M 26.925 7.2 \nL 135.645 7.2 \n\" style=\"fill:none;stroke:#ffffff;stroke-linecap:square;stroke-linejoin:miter;stroke-width:0.8;\"/>\n   </g>\n  </g>\n </g>\n <defs>\n  <clipPath id=\"ped06d83dd5\">\n   <rect height=\"108.72\" width=\"108.72\" x=\"26.925\" y=\"7.2\"/>\n  </clipPath>\n </defs>\n</svg>\n",
      "image/png": "[encoded data removed]"
     },
     "metadata": {}
    },
    {
     "output_type": "display_data",
     "data": {
      "text/plain": "<Figure size 144x144 with 1 Axes>",
      "image/svg+xml": "<?xml version=\"1.0\" encoding=\"utf-8\" standalone=\"no\"?>\n<!DOCTYPE svg PUBLIC \"-//W3C//DTD SVG 1.1//EN\"\n  \"http://www.w3.org/Graphics/SVG/1.1/DTD/svg11.dtd\">\n<svg height=\"139.798125pt\" version=\"1.1\" viewBox=\"0 0 142.845 139.798125\" width=\"142.845pt\" xmlns=\"http://www.w3.org/2000/svg\" xmlns:xlink=\"http://www.w3.org/1999/xlink\">\n <metadata>\n  <rdf:RDF xmlns:cc=\"http://creativecommons.org/ns#\" xmlns:dc=\"http://purl.org/dc/elements/1.1/\" xmlns:rdf=\"http://www.w3.org/1999/02/22-rdf-syntax-ns#\">\n   <cc:Work>\n    <dc:type rdf:resource=\"http://purl.org/dc/dcmitype/StillImage\"/>\n    <dc:date>2021-07-01T22:02:02.708435</dc:date>\n    <dc:format>image/svg+xml</dc:format>\n    <dc:creator>\n     <cc:Agent>\n      <dc:title>Matplotlib v3.4.2, https://matplotlib.org/</dc:title>\n     </cc:Agent>\n    </dc:creator>\n   </cc:Work>\n  </rdf:RDF>\n </metadata>\n <defs>\n  <style type=\"text/css\">*{stroke-linecap:butt;stroke-linejoin:round;}</style>\n </defs>\n <g id=\"figure_1\">\n  <g id=\"patch_1\">\n   <path d=\"M 0 139.798125 \nL 142.845 139.798125 \nL 142.845 0 \nL 0 0 \nz\n\"/>\n  </g>\n  <g id=\"axes_1\">\n   <g id=\"patch_2\">\n    <path d=\"M 26.925 115.92 \nL 135.645 115.92 \nL 135.645 7.2 \nL 26.925 7.2 \nz\n\"/>\n   </g>\n   <g clip-path=\"url(#pa60c8ff3b5)\">\n    <image height=\"109\" id=\"image71c1801b7d\" transform=\"scale(1 -1)translate(0 -109)\" width=\"109\" x=\"26.925\" xlink:href=\"data:image/png;base64,\niVBORw0KGgoAAAANSUhEUgAAAG0AAABtCAYAAACr+O9WAAAB9ElEQVR4nO3dMYrCUBRA0cmYBdhYpdDK2p0orinbEVyKtnZ2gQj2CmZqi7yPRsy/zD3tI/CdywNDJFN0Xdf9COV37APodUYDMhqQ0YCMBmQ0IKMBlWMfIDKbzcJ527ZfOkle3DQgowEZDchoQEYDMhqQ0YBGvU9rmiacXy6XcB49CiyK4q0zEbhpQEYDMhqQ0YCMBmQ0oCLnn9ClvrZvt9ve2W63+/RxsuGmARkNyGhARgMyGpDRgIwGlPV92mq1CufH47F3lvHHGsxNAzIakNGAjAZkNCCjARkNKOv7tJTJZNI7ezwe4bXgj+2mERkNyGhARgMyGpDRgIwGhL5PO5/PvbPFYhFeu9/vw/l6vX7jRN/hpgEZDchoQEYDMhqQ0YCMBpT1qwNT5vN576yu6/DazWYTzu/3ezgvy/H+dG4akNGAjAZkNCCjARkNCP1oZojU6y6m02k4v16vHzzNa9w0IKMBGQ3IaEBGAzIakNGA0I9mhjidTuF8uVyG88PhEM5Tr9MYwk0DMhqQ0YCMBmQ0IKMBGQ3o3z5PS6mqKpyn/vPv7Xb75HGeuGlARgMyGpDRgIwGZDQgowF5nwbkpgEZDchoQEYDMhqQ0YCMBmQ0IKMBGQ3IaEBGAzIakNGAjAZkNCCjARkNyGhARgMyGpDRgP4AQO1WDVRhLjoAAAAASUVORK5CYII=\" y=\"-6.92\"/>\n   </g>\n   <g id=\"matplotlib.axis_1\">\n    <g id=\"xtick_1\">\n     <g id=\"line2d_1\">\n      <defs>\n       <path d=\"M 0 0 \nL 0 3.5 \n\" id=\"m042092c624\" style=\"stroke:#ffffff;stroke-width:0.8;\"/>\n      </defs>\n      <g>\n       <use style=\"fill:#ffffff;stroke:#ffffff;stroke-width:0.8;\" x=\"30.807857\" xlink:href=\"#m042092c624\" y=\"115.92\"/>\n      </g>\n     </g>\n     <g id=\"text_1\">\n      <!-- 0 -->\n      <g style=\"fill:#ffffff;\" transform=\"translate(27.626607 130.518437)scale(0.1 -0.1)\">\n       <defs>\n        <path d=\"M 2034 4250 \nQ 1547 4250 1301 3770 \nQ 1056 3291 1056 2328 \nQ 1056 1369 1301 889 \nQ 1547 409 2034 409 \nQ 2525 409 2770 889 \nQ 3016 1369 3016 2328 \nQ 3016 3291 2770 3770 \nQ 2525 4250 2034 4250 \nz\nM 2034 4750 \nQ 2819 4750 3233 4129 \nQ 3647 3509 3647 2328 \nQ 3647 1150 3233 529 \nQ 2819 -91 2034 -91 \nQ 1250 -91 836 529 \nQ 422 1150 422 2328 \nQ 422 3509 836 4129 \nQ 1250 4750 2034 4750 \nz\n\" id=\"DejaVuSans-30\" transform=\"scale(0.015625)\"/>\n       </defs>\n       <use xlink:href=\"#DejaVuSans-30\"/>\n      </g>\n     </g>\n    </g>\n    <g id=\"xtick_2\">\n     <g id=\"line2d_2\">\n      <g>\n       <use style=\"fill:#ffffff;stroke:#ffffff;stroke-width:0.8;\" x=\"69.636429\" xlink:href=\"#m042092c624\" y=\"115.92\"/>\n      </g>\n     </g>\n     <g id=\"text_2\">\n      <!-- 5 -->\n      <g style=\"fill:#ffffff;\" transform=\"translate(66.455179 130.518437)scale(0.1 -0.1)\">\n       <defs>\n        <path d=\"M 691 4666 \nL 3169 4666 \nL 3169 4134 \nL 1269 4134 \nL 1269 2991 \nQ 1406 3038 1543 3061 \nQ 1681 3084 1819 3084 \nQ 2600 3084 3056 2656 \nQ 3513 2228 3513 1497 \nQ 3513 744 3044 326 \nQ 2575 -91 1722 -91 \nQ 1428 -91 1123 -41 \nQ 819 9 494 109 \nL 494 744 \nQ 775 591 1075 516 \nQ 1375 441 1709 441 \nQ 2250 441 2565 725 \nQ 2881 1009 2881 1497 \nQ 2881 1984 2565 2268 \nQ 2250 2553 1709 2553 \nQ 1456 2553 1204 2497 \nQ 953 2441 691 2322 \nL 691 4666 \nz\n\" id=\"DejaVuSans-35\" transform=\"scale(0.015625)\"/>\n       </defs>\n       <use xlink:href=\"#DejaVuSans-35\"/>\n      </g>\n     </g>\n    </g>\n    <g id=\"xtick_3\">\n     <g id=\"line2d_3\">\n      <g>\n       <use style=\"fill:#ffffff;stroke:#ffffff;stroke-width:0.8;\" x=\"108.465\" xlink:href=\"#m042092c624\" y=\"115.92\"/>\n      </g>\n     </g>\n     <g id=\"text_3\">\n      <!-- 10 -->\n      <g style=\"fill:#ffffff;\" transform=\"translate(102.1025 130.518437)scale(0.1 -0.1)\">\n       <defs>\n        <path d=\"M 794 531 \nL 1825 531 \nL 1825 4091 \nL 703 3866 \nL 703 4441 \nL 1819 4666 \nL 2450 4666 \nL 2450 531 \nL 3481 531 \nL 3481 0 \nL 794 0 \nL 794 531 \nz\n\" id=\"DejaVuSans-31\" transform=\"scale(0.015625)\"/>\n       </defs>\n       <use xlink:href=\"#DejaVuSans-31\"/>\n       <use x=\"63.623047\" xlink:href=\"#DejaVuSans-30\"/>\n      </g>\n     </g>\n    </g>\n   </g>\n   <g id=\"matplotlib.axis_2\">\n    <g id=\"ytick_1\">\n     <g id=\"line2d_4\">\n      <defs>\n       <path d=\"M 0 0 \nL -3.5 0 \n\" id=\"m60a3b0fa13\" style=\"stroke:#ffffff;stroke-width:0.8;\"/>\n      </defs>\n      <g>\n       <use style=\"fill:#ffffff;stroke:#ffffff;stroke-width:0.8;\" x=\"26.925\" xlink:href=\"#m60a3b0fa13\" y=\"11.082857\"/>\n      </g>\n     </g>\n     <g id=\"text_4\">\n      <!-- 0 -->\n      <g style=\"fill:#ffffff;\" transform=\"translate(13.5625 14.882076)scale(0.1 -0.1)\">\n       <use xlink:href=\"#DejaVuSans-30\"/>\n      </g>\n     </g>\n    </g>\n    <g id=\"ytick_2\">\n     <g id=\"line2d_5\">\n      <g>\n       <use style=\"fill:#ffffff;stroke:#ffffff;stroke-width:0.8;\" x=\"26.925\" xlink:href=\"#m60a3b0fa13\" y=\"49.911429\"/>\n      </g>\n     </g>\n     <g id=\"text_5\">\n      <!-- 5 -->\n      <g style=\"fill:#ffffff;\" transform=\"translate(13.5625 53.710647)scale(0.1 -0.1)\">\n       <use xlink:href=\"#DejaVuSans-35\"/>\n      </g>\n     </g>\n    </g>\n    <g id=\"ytick_3\">\n     <g id=\"line2d_6\">\n      <g>\n       <use style=\"fill:#ffffff;stroke:#ffffff;stroke-width:0.8;\" x=\"26.925\" xlink:href=\"#m60a3b0fa13\" y=\"88.74\"/>\n      </g>\n     </g>\n     <g id=\"text_6\">\n      <!-- 10 -->\n      <g style=\"fill:#ffffff;\" transform=\"translate(7.2 92.539219)scale(0.1 -0.1)\">\n       <use xlink:href=\"#DejaVuSans-31\"/>\n       <use x=\"63.623047\" xlink:href=\"#DejaVuSans-30\"/>\n      </g>\n     </g>\n    </g>\n   </g>\n   <g id=\"patch_3\">\n    <path d=\"M 26.925 115.92 \nL 26.925 7.2 \n\" style=\"fill:none;stroke:#ffffff;stroke-linecap:square;stroke-linejoin:miter;stroke-width:0.8;\"/>\n   </g>\n   <g id=\"patch_4\">\n    <path d=\"M 135.645 115.92 \nL 135.645 7.2 \n\" style=\"fill:none;stroke:#ffffff;stroke-linecap:square;stroke-linejoin:miter;stroke-width:0.8;\"/>\n   </g>\n   <g id=\"patch_5\">\n    <path d=\"M 26.925 115.92 \nL 135.645 115.92 \n\" style=\"fill:none;stroke:#ffffff;stroke-linecap:square;stroke-linejoin:miter;stroke-width:0.8;\"/>\n   </g>\n   <g id=\"patch_6\">\n    <path d=\"M 26.925 7.2 \nL 135.645 7.2 \n\" style=\"fill:none;stroke:#ffffff;stroke-linecap:square;stroke-linejoin:miter;stroke-width:0.8;\"/>\n   </g>\n  </g>\n </g>\n <defs>\n  <clipPath id=\"pa60c8ff3b5\">\n   <rect height=\"108.72\" width=\"108.72\" x=\"26.925\" y=\"7.2\"/>\n  </clipPath>\n </defs>\n</svg>\n",
      "image/png": "[encoded data removed]"
     },
     "metadata": {}
    },
    {
     "output_type": "display_data",
     "data": {
      "text/plain": "<Figure size 144x144 with 1 Axes>",
      "image/svg+xml": "<?xml version=\"1.0\" encoding=\"utf-8\" standalone=\"no\"?>\n<!DOCTYPE svg PUBLIC \"-//W3C//DTD SVG 1.1//EN\"\n  \"http://www.w3.org/Graphics/SVG/1.1/DTD/svg11.dtd\">\n<svg height=\"139.798125pt\" version=\"1.1\" viewBox=\"0 0 142.845 139.798125\" width=\"142.845pt\" xmlns=\"http://www.w3.org/2000/svg\" xmlns:xlink=\"http://www.w3.org/1999/xlink\">\n <metadata>\n  <rdf:RDF xmlns:cc=\"http://creativecommons.org/ns#\" xmlns:dc=\"http://purl.org/dc/elements/1.1/\" xmlns:rdf=\"http://www.w3.org/1999/02/22-rdf-syntax-ns#\">\n   <cc:Work>\n    <dc:type rdf:resource=\"http://purl.org/dc/dcmitype/StillImage\"/>\n    <dc:date>2021-07-01T22:02:02.813739</dc:date>\n    <dc:format>image/svg+xml</dc:format>\n    <dc:creator>\n     <cc:Agent>\n      <dc:title>Matplotlib v3.4.2, https://matplotlib.org/</dc:title>\n     </cc:Agent>\n    </dc:creator>\n   </cc:Work>\n  </rdf:RDF>\n </metadata>\n <defs>\n  <style type=\"text/css\">*{stroke-linecap:butt;stroke-linejoin:round;}</style>\n </defs>\n <g id=\"figure_1\">\n  <g id=\"patch_1\">\n   <path d=\"M 0 139.798125 \nL 142.845 139.798125 \nL 142.845 0 \nL 0 0 \nz\n\"/>\n  </g>\n  <g id=\"axes_1\">\n   <g id=\"patch_2\">\n    <path d=\"M 26.925 115.92 \nL 135.645 115.92 \nL 135.645 7.2 \nL 26.925 7.2 \nz\n\"/>\n   </g>\n   <g clip-path=\"url(#p883b8e0f0e)\">\n    <image height=\"109\" id=\"imagea5c4c45780\" transform=\"scale(1 -1)translate(0 -109)\" width=\"109\" x=\"26.925\" xlink:href=\"data:image/png;base64,\niVBORw0KGgoAAAANSUhEUgAAAG0AAABtCAYAAACr+O9WAAACNUlEQVR4nO3dv4kCQRhA8fMUC9ACxBYUGxDsQmzAEjQQzMQeBLEIwdhINLYGwUzM1IsuuGC/xRv/PXi/9GP2Bh4DN+weV7jdbrcvoXy/ewO6n9GAjAZkNCCjARkNyGhARgMyGpDRgIwGZDQgowEZDchoQKXUB4xGo8zZeDxOfXyoXC5nzobDYbh2MBg8ejsv40kDMhqQ0YCMBmQ0IKMBFVI/oavVapmz9Xodrj2fzyk/+msymWTOZrNZ0rMPh0M4r1arSc9P4UkDMhqQ0YCMBmQ0IKMBGQ0o+Z5GVSwWk9ZfLpcH7eR+njQgowEZDchoQEYDMhqQ0YCSP6Gj6na74XyxWLxoJ/fzpAEZDchoQEYDMhqQ0YCMBvTR97TUd14p8v5U6p08aUBGAzIakNGAjAZkNCCjAaG/ezydTpmzfr8frs17X1av18P5fr8P56XS867AnjQgowEZDchoQEYDMhoQ+lf+Z8p7LdRoNML5ZrN55Hb+8KQBGQ3IaEBGAzIakNGAjAb00Z/Q5Wm325mz6XQars27Z22323DebDbD+TN50oCMBmQ0IKMBGQ3IaEBGA0Lf06L/6tRqtcK1vV4vnM/n83/t6ddqtcqcdTqdpGd70oCMBmQ0IKMBGQ3IaEBGA0Lf05bLZeZst9uFa/Pet12v13B+PB7DeaVSCecpPGlARgMyGpDRgIwGZDQg/9QJyJMGZDQgowEZDchoQEYDMhqQ0YCMBmQ0IKMBGQ3IaEBGAzIa0A/mS1ckTTF4KAAAAABJRU5ErkJggg==\" y=\"-6.92\"/>\n   </g>\n   <g id=\"matplotlib.axis_1\">\n    <g id=\"xtick_1\">\n     <g id=\"line2d_1\">\n      <defs>\n       <path d=\"M 0 0 \nL 0 3.5 \n\" id=\"m04f5218644\" style=\"stroke:#ffffff;stroke-width:0.8;\"/>\n      </defs>\n      <g>\n       <use style=\"fill:#ffffff;stroke:#ffffff;stroke-width:0.8;\" x=\"30.807857\" xlink:href=\"#m04f5218644\" y=\"115.92\"/>\n      </g>\n     </g>\n     <g id=\"text_1\">\n      <!-- 0 -->\n      <g style=\"fill:#ffffff;\" transform=\"translate(27.626607 130.518437)scale(0.1 -0.1)\">\n       <defs>\n        <path d=\"M 2034 4250 \nQ 1547 4250 1301 3770 \nQ 1056 3291 1056 2328 \nQ 1056 1369 1301 889 \nQ 1547 409 2034 409 \nQ 2525 409 2770 889 \nQ 3016 1369 3016 2328 \nQ 3016 3291 2770 3770 \nQ 2525 4250 2034 4250 \nz\nM 2034 4750 \nQ 2819 4750 3233 4129 \nQ 3647 3509 3647 2328 \nQ 3647 1150 3233 529 \nQ 2819 -91 2034 -91 \nQ 1250 -91 836 529 \nQ 422 1150 422 2328 \nQ 422 3509 836 4129 \nQ 1250 4750 2034 4750 \nz\n\" id=\"DejaVuSans-30\" transform=\"scale(0.015625)\"/>\n       </defs>\n       <use xlink:href=\"#DejaVuSans-30\"/>\n      </g>\n     </g>\n    </g>\n    <g id=\"xtick_2\">\n     <g id=\"line2d_2\">\n      <g>\n       <use style=\"fill:#ffffff;stroke:#ffffff;stroke-width:0.8;\" x=\"69.636429\" xlink:href=\"#m04f5218644\" y=\"115.92\"/>\n      </g>\n     </g>\n     <g id=\"text_2\">\n      <!-- 5 -->\n      <g style=\"fill:#ffffff;\" transform=\"translate(66.455179 130.518437)scale(0.1 -0.1)\">\n       <defs>\n        <path d=\"M 691 4666 \nL 3169 4666 \nL 3169 4134 \nL 1269 4134 \nL 1269 2991 \nQ 1406 3038 1543 3061 \nQ 1681 3084 1819 3084 \nQ 2600 3084 3056 2656 \nQ 3513 2228 3513 1497 \nQ 3513 744 3044 326 \nQ 2575 -91 1722 -91 \nQ 1428 -91 1123 -41 \nQ 819 9 494 109 \nL 494 744 \nQ 775 591 1075 516 \nQ 1375 441 1709 441 \nQ 2250 441 2565 725 \nQ 2881 1009 2881 1497 \nQ 2881 1984 2565 2268 \nQ 2250 2553 1709 2553 \nQ 1456 2553 1204 2497 \nQ 953 2441 691 2322 \nL 691 4666 \nz\n\" id=\"DejaVuSans-35\" transform=\"scale(0.015625)\"/>\n       </defs>\n       <use xlink:href=\"#DejaVuSans-35\"/>\n      </g>\n     </g>\n    </g>\n    <g id=\"xtick_3\">\n     <g id=\"line2d_3\">\n      <g>\n       <use style=\"fill:#ffffff;stroke:#ffffff;stroke-width:0.8;\" x=\"108.465\" xlink:href=\"#m04f5218644\" y=\"115.92\"/>\n      </g>\n     </g>\n     <g id=\"text_3\">\n      <!-- 10 -->\n      <g style=\"fill:#ffffff;\" transform=\"translate(102.1025 130.518437)scale(0.1 -0.1)\">\n       <defs>\n        <path d=\"M 794 531 \nL 1825 531 \nL 1825 4091 \nL 703 3866 \nL 703 4441 \nL 1819 4666 \nL 2450 4666 \nL 2450 531 \nL 3481 531 \nL 3481 0 \nL 794 0 \nL 794 531 \nz\n\" id=\"DejaVuSans-31\" transform=\"scale(0.015625)\"/>\n       </defs>\n       <use xlink:href=\"#DejaVuSans-31\"/>\n       <use x=\"63.623047\" xlink:href=\"#DejaVuSans-30\"/>\n      </g>\n     </g>\n    </g>\n   </g>\n   <g id=\"matplotlib.axis_2\">\n    <g id=\"ytick_1\">\n     <g id=\"line2d_4\">\n      <defs>\n       <path d=\"M 0 0 \nL -3.5 0 \n\" id=\"m9823423233\" style=\"stroke:#ffffff;stroke-width:0.8;\"/>\n      </defs>\n      <g>\n       <use style=\"fill:#ffffff;stroke:#ffffff;stroke-width:0.8;\" x=\"26.925\" xlink:href=\"#m9823423233\" y=\"11.082857\"/>\n      </g>\n     </g>\n     <g id=\"text_4\">\n      <!-- 0 -->\n      <g style=\"fill:#ffffff;\" transform=\"translate(13.5625 14.882076)scale(0.1 -0.1)\">\n       <use xlink:href=\"#DejaVuSans-30\"/>\n      </g>\n     </g>\n    </g>\n    <g id=\"ytick_2\">\n     <g id=\"line2d_5\">\n      <g>\n       <use style=\"fill:#ffffff;stroke:#ffffff;stroke-width:0.8;\" x=\"26.925\" xlink:href=\"#m9823423233\" y=\"49.911429\"/>\n      </g>\n     </g>\n     <g id=\"text_5\">\n      <!-- 5 -->\n      <g style=\"fill:#ffffff;\" transform=\"translate(13.5625 53.710647)scale(0.1 -0.1)\">\n       <use xlink:href=\"#DejaVuSans-35\"/>\n      </g>\n     </g>\n    </g>\n    <g id=\"ytick_3\">\n     <g id=\"line2d_6\">\n      <g>\n       <use style=\"fill:#ffffff;stroke:#ffffff;stroke-width:0.8;\" x=\"26.925\" xlink:href=\"#m9823423233\" y=\"88.74\"/>\n      </g>\n     </g>\n     <g id=\"text_6\">\n      <!-- 10 -->\n      <g style=\"fill:#ffffff;\" transform=\"translate(7.2 92.539219)scale(0.1 -0.1)\">\n       <use xlink:href=\"#DejaVuSans-31\"/>\n       <use x=\"63.623047\" xlink:href=\"#DejaVuSans-30\"/>\n      </g>\n     </g>\n    </g>\n   </g>\n   <g id=\"patch_3\">\n    <path d=\"M 26.925 115.92 \nL 26.925 7.2 \n\" style=\"fill:none;stroke:#ffffff;stroke-linecap:square;stroke-linejoin:miter;stroke-width:0.8;\"/>\n   </g>\n   <g id=\"patch_4\">\n    <path d=\"M 135.645 115.92 \nL 135.645 7.2 \n\" style=\"fill:none;stroke:#ffffff;stroke-linecap:square;stroke-linejoin:miter;stroke-width:0.8;\"/>\n   </g>\n   <g id=\"patch_5\">\n    <path d=\"M 26.925 115.92 \nL 135.645 115.92 \n\" style=\"fill:none;stroke:#ffffff;stroke-linecap:square;stroke-linejoin:miter;stroke-width:0.8;\"/>\n   </g>\n   <g id=\"patch_6\">\n    <path d=\"M 26.925 7.2 \nL 135.645 7.2 \n\" style=\"fill:none;stroke:#ffffff;stroke-linecap:square;stroke-linejoin:miter;stroke-width:0.8;\"/>\n   </g>\n  </g>\n </g>\n <defs>\n  <clipPath id=\"p883b8e0f0e\">\n   <rect height=\"108.72\" width=\"108.72\" x=\"26.925\" y=\"7.2\"/>\n  </clipPath>\n </defs>\n</svg>\n",
      "image/png": "[encoded data removed]"
     },
     "metadata": {}
    },
    {
     "output_type": "display_data",
     "data": {
      "text/plain": "<Figure size 144x144 with 1 Axes>",
      "image/svg+xml": "<?xml version=\"1.0\" encoding=\"utf-8\" standalone=\"no\"?>\n<!DOCTYPE svg PUBLIC \"-//W3C//DTD SVG 1.1//EN\"\n  \"http://www.w3.org/Graphics/SVG/1.1/DTD/svg11.dtd\">\n<svg height=\"139.798125pt\" version=\"1.1\" viewBox=\"0 0 142.845 139.798125\" width=\"142.845pt\" xmlns=\"http://www.w3.org/2000/svg\" xmlns:xlink=\"http://www.w3.org/1999/xlink\">\n <metadata>\n  <rdf:RDF xmlns:cc=\"http://creativecommons.org/ns#\" xmlns:dc=\"http://purl.org/dc/elements/1.1/\" xmlns:rdf=\"http://www.w3.org/1999/02/22-rdf-syntax-ns#\">\n   <cc:Work>\n    <dc:type rdf:resource=\"http://purl.org/dc/dcmitype/StillImage\"/>\n    <dc:date>2021-07-01T22:02:02.926069</dc:date>\n    <dc:format>image/svg+xml</dc:format>\n    <dc:creator>\n     <cc:Agent>\n      <dc:title>Matplotlib v3.4.2, https://matplotlib.org/</dc:title>\n     </cc:Agent>\n    </dc:creator>\n   </cc:Work>\n  </rdf:RDF>\n </metadata>\n <defs>\n  <style type=\"text/css\">*{stroke-linecap:butt;stroke-linejoin:round;}</style>\n </defs>\n <g id=\"figure_1\">\n  <g id=\"patch_1\">\n   <path d=\"M 0 139.798125 \nL 142.845 139.798125 \nL 142.845 0 \nL 0 0 \nz\n\"/>\n  </g>\n  <g id=\"axes_1\">\n   <g id=\"patch_2\">\n    <path d=\"M 26.925 115.92 \nL 135.645 115.92 \nL 135.645 7.2 \nL 26.925 7.2 \nz\n\"/>\n   </g>\n   <g clip-path=\"url(#p51ed2d690a)\">\n    <image height=\"109\" id=\"imagee1007f045c\" transform=\"scale(1 -1)translate(0 -109)\" width=\"109\" x=\"26.925\" xlink:href=\"data:image/png;base64,\niVBORw0KGgoAAAANSUhEUgAAAG0AAABtCAYAAACr+O9WAAAB/UlEQVR4nO3dsW3CQBhA4ThELEBFZbmhhZYdkNmCxhOwAPswABO4MYvQIyHMBP5PYDB+yvvaX5dc9HRSTo5D1rZt+yOU329vQM8zGpDRgIwGZDQgowEZDchoQEYDMhqQ0YCMBmQ0IKMBGQ3o79sb+JQsy3qtPx6P4bwsy15fvw9PGpDRgIwGZDQgowEZDQj9K/9kMnl5bVVV4Xy73Ybzb/7loScNyGhARgMyGpDRgIwGZDSgbMyvOl0ul3A+m806Z7fbLVybuuOlHu14T9NTjAZkNCCjARkNyGhARgMa9fO0w+Hw8tq6rsP5er0O54vF4uXv/WmeNCCjARkNyGhARgMyGpDRgEZ9T9tsNuH8dDp1zubzebh2xI8RkzxpQEYDMhqQ0YCMBmQ0IKMBjfqeltI0Tecsz/PhNjIwTxqQ0YCMBmQ0IKMBGQ1o1K86pUSvI12v13DtdDp993YG40kDMhqQ0YCMBmQ0IKMBGQ0IfU8riqJzttvtwrX7/f7d2xmMJw3IaEBGAzIakNGAjAZkNCD0Pe18PnfOVqtVuBb8Y3vSiIwGZDQgowEZDchoQEYDQr/qtFwuO2epT8dN/Qv3+/3ea/0nedKAjAZkNCCjARkNyGhA6Ecz/5UnDchoQEYDMhqQ0YCMBmQ0IKMBGQ3IaEBGAzIakNGAjAZkNKAHP2ZItIlfQjYAAAAASUVORK5CYII=\" y=\"-6.92\"/>\n   </g>\n   <g id=\"matplotlib.axis_1\">\n    <g id=\"xtick_1\">\n     <g id=\"line2d_1\">\n      <defs>\n       <path d=\"M 0 0 \nL 0 3.5 \n\" id=\"m932f761657\" style=\"stroke:#ffffff;stroke-width:0.8;\"/>\n      </defs>\n      <g>\n       <use style=\"fill:#ffffff;stroke:#ffffff;stroke-width:0.8;\" x=\"30.807857\" xlink:href=\"#m932f761657\" y=\"115.92\"/>\n      </g>\n     </g>\n     <g id=\"text_1\">\n      <!-- 0 -->\n      <g style=\"fill:#ffffff;\" transform=\"translate(27.626607 130.518437)scale(0.1 -0.1)\">\n       <defs>\n        <path d=\"M 2034 4250 \nQ 1547 4250 1301 3770 \nQ 1056 3291 1056 2328 \nQ 1056 1369 1301 889 \nQ 1547 409 2034 409 \nQ 2525 409 2770 889 \nQ 3016 1369 3016 2328 \nQ 3016 3291 2770 3770 \nQ 2525 4250 2034 4250 \nz\nM 2034 4750 \nQ 2819 4750 3233 4129 \nQ 3647 3509 3647 2328 \nQ 3647 1150 3233 529 \nQ 2819 -91 2034 -91 \nQ 1250 -91 836 529 \nQ 422 1150 422 2328 \nQ 422 3509 836 4129 \nQ 1250 4750 2034 4750 \nz\n\" id=\"DejaVuSans-30\" transform=\"scale(0.015625)\"/>\n       </defs>\n       <use xlink:href=\"#DejaVuSans-30\"/>\n      </g>\n     </g>\n    </g>\n    <g id=\"xtick_2\">\n     <g id=\"line2d_2\">\n      <g>\n       <use style=\"fill:#ffffff;stroke:#ffffff;stroke-width:0.8;\" x=\"69.636429\" xlink:href=\"#m932f761657\" y=\"115.92\"/>\n      </g>\n     </g>\n     <g id=\"text_2\">\n      <!-- 5 -->\n      <g style=\"fill:#ffffff;\" transform=\"translate(66.455179 130.518437)scale(0.1 -0.1)\">\n       <defs>\n        <path d=\"M 691 4666 \nL 3169 4666 \nL 3169 4134 \nL 1269 4134 \nL 1269 2991 \nQ 1406 3038 1543 3061 \nQ 1681 3084 1819 3084 \nQ 2600 3084 3056 2656 \nQ 3513 2228 3513 1497 \nQ 3513 744 3044 326 \nQ 2575 -91 1722 -91 \nQ 1428 -91 1123 -41 \nQ 819 9 494 109 \nL 494 744 \nQ 775 591 1075 516 \nQ 1375 441 1709 441 \nQ 2250 441 2565 725 \nQ 2881 1009 2881 1497 \nQ 2881 1984 2565 2268 \nQ 2250 2553 1709 2553 \nQ 1456 2553 1204 2497 \nQ 953 2441 691 2322 \nL 691 4666 \nz\n\" id=\"DejaVuSans-35\" transform=\"scale(0.015625)\"/>\n       </defs>\n       <use xlink:href=\"#DejaVuSans-35\"/>\n      </g>\n     </g>\n    </g>\n    <g id=\"xtick_3\">\n     <g id=\"line2d_3\">\n      <g>\n       <use style=\"fill:#ffffff;stroke:#ffffff;stroke-width:0.8;\" x=\"108.465\" xlink:href=\"#m932f761657\" y=\"115.92\"/>\n      </g>\n     </g>\n     <g id=\"text_3\">\n      <!-- 10 -->\n      <g style=\"fill:#ffffff;\" transform=\"translate(102.1025 130.518437)scale(0.1 -0.1)\">\n       <defs>\n        <path d=\"M 794 531 \nL 1825 531 \nL 1825 4091 \nL 703 3866 \nL 703 4441 \nL 1819 4666 \nL 2450 4666 \nL 2450 531 \nL 3481 531 \nL 3481 0 \nL 794 0 \nL 794 531 \nz\n\" id=\"DejaVuSans-31\" transform=\"scale(0.015625)\"/>\n       </defs>\n       <use xlink:href=\"#DejaVuSans-31\"/>\n       <use x=\"63.623047\" xlink:href=\"#DejaVuSans-30\"/>\n      </g>\n     </g>\n    </g>\n   </g>\n   <g id=\"matplotlib.axis_2\">\n    <g id=\"ytick_1\">\n     <g id=\"line2d_4\">\n      <defs>\n       <path d=\"M 0 0 \nL -3.5 0 \n\" id=\"m81ad759d97\" style=\"stroke:#ffffff;stroke-width:0.8;\"/>\n      </defs>\n      <g>\n       <use style=\"fill:#ffffff;stroke:#ffffff;stroke-width:0.8;\" x=\"26.925\" xlink:href=\"#m81ad759d97\" y=\"11.082857\"/>\n      </g>\n     </g>\n     <g id=\"text_4\">\n      <!-- 0 -->\n      <g style=\"fill:#ffffff;\" transform=\"translate(13.5625 14.882076)scale(0.1 -0.1)\">\n       <use xlink:href=\"#DejaVuSans-30\"/>\n      </g>\n     </g>\n    </g>\n    <g id=\"ytick_2\">\n     <g id=\"line2d_5\">\n      <g>\n       <use style=\"fill:#ffffff;stroke:#ffffff;stroke-width:0.8;\" x=\"26.925\" xlink:href=\"#m81ad759d97\" y=\"49.911429\"/>\n      </g>\n     </g>\n     <g id=\"text_5\">\n      <!-- 5 -->\n      <g style=\"fill:#ffffff;\" transform=\"translate(13.5625 53.710647)scale(0.1 -0.1)\">\n       <use xlink:href=\"#DejaVuSans-35\"/>\n      </g>\n     </g>\n    </g>\n    <g id=\"ytick_3\">\n     <g id=\"line2d_6\">\n      <g>\n       <use style=\"fill:#ffffff;stroke:#ffffff;stroke-width:0.8;\" x=\"26.925\" xlink:href=\"#m81ad759d97\" y=\"88.74\"/>\n      </g>\n     </g>\n     <g id=\"text_6\">\n      <!-- 10 -->\n      <g style=\"fill:#ffffff;\" transform=\"translate(7.2 92.539219)scale(0.1 -0.1)\">\n       <use xlink:href=\"#DejaVuSans-31\"/>\n       <use x=\"63.623047\" xlink:href=\"#DejaVuSans-30\"/>\n      </g>\n     </g>\n    </g>\n   </g>\n   <g id=\"patch_3\">\n    <path d=\"M 26.925 115.92 \nL 26.925 7.2 \n\" style=\"fill:none;stroke:#ffffff;stroke-linecap:square;stroke-linejoin:miter;stroke-width:0.8;\"/>\n   </g>\n   <g id=\"patch_4\">\n    <path d=\"M 135.645 115.92 \nL 135.645 7.2 \n\" style=\"fill:none;stroke:#ffffff;stroke-linecap:square;stroke-linejoin:miter;stroke-width:0.8;\"/>\n   </g>\n   <g id=\"patch_5\">\n    <path d=\"M 26.925 115.92 \nL 135.645 115.92 \n\" style=\"fill:none;stroke:#ffffff;stroke-linecap:square;stroke-linejoin:miter;stroke-width:0.8;\"/>\n   </g>\n   <g id=\"patch_6\">\n    <path d=\"M 26.925 7.2 \nL 135.645 7.2 \n\" style=\"fill:none;stroke:#ffffff;stroke-linecap:square;stroke-linejoin:miter;stroke-width:0.8;\"/>\n   </g>\n  </g>\n </g>\n <defs>\n  <clipPath id=\"p51ed2d690a\">\n   <rect height=\"108.72\" width=\"108.72\" x=\"26.925\" y=\"7.2\"/>\n  </clipPath>\n </defs>\n</svg>\n",
      "image/png": "[encoded data removed]"
     },
     "metadata": {}
    }
   ],
   "source": [
    "def show_digit(image_vec: np.ndarray, size: Optional[int]=None) -> None:\n",
    "    if size is None:\n",
    "        # assuming the image is square\n",
    "        size = np.sqrt(data['train']['images'][0].size).astype(int)\n",
    "    plt.rcParams[\"figure.figsize\"] = (2,2)\n",
    "    plt.imshow(image_vec.reshape(size, size), cmap=\"Greys\")\n",
    "    plt.show()\n",
    "\n",
    "digits_idx = (0,23,157,996)    # plot random images\n",
    "for j in digits_idx:\n",
    "    show_digit(data['train']['images'][j])"
   ]
  },
  {
   "source": [
    "# Feature map"
   ],
   "cell_type": "markdown",
   "metadata": {}
  },
  {
   "source": [
    "The feature map $\\Phi(\\bf x)$ maps inpunt data vector $\\bf x$ from a space of dimension $N$ to a space of dimension $d^N$, i.e. each component of the input vector $x_j$ is mapped into a $d$-dimensional vector. See Eq. 8 in text.\n",
    "\n",
    "The tensor $\\Phi^{s_1 s_2 \\cdots s_N}$ is the tensor productof the local feature maps $\\Phi^{s_j}(x_j)$ applied to each input $x_j$ along the indices $s_j = 1,2,\\cdots,N$. The local feature map is required to have unit norm analogous to the wave function norm, otherwise the tensor networks are not guaranteed to be numerically stable.\n",
    "\n"
   ],
   "cell_type": "markdown",
   "metadata": {}
  },
  {
   "cell_type": "code",
   "execution_count": 7,
   "metadata": {
    "tags": []
   },
   "outputs": [],
   "source": [
    "from typing import Callable, Iterable, Optional\n",
    "\n",
    "FMap = Callable[np.ndarray, np.ndarray] # type alias\n",
    "\n",
    "def feature_map(xs: Iterable, \n",
    "                f: FMap,\n",
    "                *fs: Iterable[FMap],\n",
    "                acc: Optional[np.ndarray]=None) -> np.ndarray:\n",
    "    \"\"\"\n",
    "    Feature mapping. \n",
    "    \"\"\"\n",
    "    vf = np.vectorize(f)\n",
    "    acc = vf(xs) if acc is None else np.r_[acc, vf(xs)]\n",
    "    if fs:\n",
    "        yield from feature_map(xs, *fs, acc=acc)\n",
    "    else:\n",
    "        yield acc"
   ]
  },
  {
   "source": [
    "Below is the vector of feature maps that are going to be applied to each value $x_j$. This might be an overkill for this particular set of feature maps, but we want to be agnostic to any feature maps set. Alternative fetaure definition used in other papers is porvided below."
   ],
   "cell_type": "markdown",
   "metadata": {}
  },
  {
   "cell_type": "code",
   "execution_count": 8,
   "metadata": {},
   "outputs": [],
   "source": [
    "features = [\n",
    "    lambda _: 1,\n",
    "    lambda x: x,\n",
    "    lambda x: x**2,\n",
    "\n",
    "]\n",
    "\n",
    "# features = [\n",
    "#   lambda x: np.cos( (np.pi/2) * x ),\n",
    "#   lambda x: np.sin( (np.pi/2) * x ),\n",
    "# ]\n",
    "\n",
    "N = len(data['train']['images'])    # Number of training samples\n",
    "\n",
    "feature_extractor_iter = feature_map(\n",
    "    data['train']['images'], \n",
    "    *features\n",
    ")\n",
    "\n",
    "Phi = np.vstack(\n",
    "    list(feature_extractor_iter))\\\n",
    "    .reshape(len(features), N, image_size)\\\n",
    "    .transpose(0,2,1)\n"
   ]
  },
  {
   "cell_type": "code",
   "execution_count": 9,
   "metadata": {},
   "outputs": [
    {
     "output_type": "execute_result",
     "data": {
      "text/plain": [
       "(3, 196, 60000)"
      ]
     },
     "metadata": {},
     "execution_count": 9
    }
   ],
   "source": [
    "Phi.shape"
   ]
  },
  {
   "source": [
    "Normalizing the features so we can trivially contract them"
   ],
   "cell_type": "markdown",
   "metadata": {}
  },
  {
   "cell_type": "code",
   "execution_count": 10,
   "metadata": {},
   "outputs": [],
   "source": [
    "def normalize_along_axis(a: np.ndarray, \n",
    "                         ord: Optional[int]=2,\n",
    "                         axis: Optional[int]=-1) -> np.ndarray:\n",
    "    z = np.atleast_1d(np.linalg.norm(a, ord, axis))\n",
    "    z[z==0] = 1\n",
    "    return a / np.expand_dims(z, axis)\n",
    "\n",
    "#Phi = normalize_along_axis(Phi, axis=0)"
   ]
  },
  {
   "source": [
    "checking the normalization on a random sample of features and images"
   ],
   "cell_type": "markdown",
   "metadata": {}
  },
  {
   "source": [
    "# sample_size = 10\n",
    "\n",
    "# for i in range(sample_size):\n",
    "#     m = np.random.choice(Phi.shape[1])\n",
    "#     n = np.random.choice(Phi.shape[2])\n",
    "#     assert np.allclose(Phi[:,m,n].T @ Phi[:,m,n], 1)"
   ],
   "cell_type": "code",
   "metadata": {},
   "execution_count": 11,
   "outputs": []
  },
  {
   "source": [
    "Checking if images are correctly processed (may not work for arbitrary feature)"
   ],
   "cell_type": "markdown",
   "metadata": {}
  },
  {
   "cell_type": "code",
   "execution_count": 12,
   "metadata": {},
   "outputs": [
    {
     "output_type": "display_data",
     "data": {
      "text/plain": "<Figure size 144x144 with 1 Axes>",
      "image/svg+xml": "<?xml version=\"1.0\" encoding=\"utf-8\" standalone=\"no\"?>\n<!DOCTYPE svg PUBLIC \"-//W3C//DTD SVG 1.1//EN\"\n  \"http://www.w3.org/Graphics/SVG/1.1/DTD/svg11.dtd\">\n<svg height=\"66.528604pt\" version=\"1.1\" viewBox=\"0 0 66.948529 66.528604\" width=\"66.948529pt\" xmlns=\"http://www.w3.org/2000/svg\" xmlns:xlink=\"http://www.w3.org/1999/xlink\">\n <metadata>\n  <rdf:RDF xmlns:cc=\"http://creativecommons.org/ns#\" xmlns:dc=\"http://purl.org/dc/elements/1.1/\" xmlns:rdf=\"http://www.w3.org/1999/02/22-rdf-syntax-ns#\">\n   <cc:Work>\n    <dc:type rdf:resource=\"http://purl.org/dc/dcmitype/StillImage\"/>\n    <dc:date>2021-07-01T22:02:08.537675</dc:date>\n    <dc:format>image/svg+xml</dc:format>\n    <dc:creator>\n     <cc:Agent>\n      <dc:title>Matplotlib v3.4.2, https://matplotlib.org/</dc:title>\n     </cc:Agent>\n    </dc:creator>\n   </cc:Work>\n  </rdf:RDF>\n </metadata>\n <defs>\n  <style type=\"text/css\">*{stroke-linecap:butt;stroke-linejoin:round;}</style>\n </defs>\n <g id=\"figure_1\">\n  <g id=\"patch_1\">\n   <path d=\"M 0 66.528604 \nL 66.948529 66.528604 \nL 66.948529 0 \nL 0 0 \nz\n\"/>\n  </g>\n  <g id=\"axes_1\">\n   <g id=\"patch_2\">\n    <path d=\"M 26.925 42.650479 \nL 59.748529 42.650479 \nL 59.748529 9.82695 \nL 26.925 9.82695 \nz\n\"/>\n   </g>\n   <g clip-path=\"url(#pe5b25a2bef)\">\n    <image height=\"33\" id=\"image928ca94210\" transform=\"scale(1 -1)translate(0 -33)\" width=\"33\" x=\"26.925\" xlink:href=\"data:image/png;base64,\niVBORw0KGgoAAAANSUhEUgAAACEAAAAhCAYAAABX5MJvAAAEo0lEQVR4nO2XS2sTXRjHfzOZ3JtJJK2Jl1wktAQhLortRhHcF0TEhfgBuvIbuNSV4CfwUxQXuhKhlC6sWkVairRKk+kll0k6tplbznlXxkujvVjwXfiH2cw85+HH85zzP88oUkrJX5b6twHgH8Q3aT+/6Ha7NJtNXNel0Whg2/a+RYqi9J9UKoWu68TjcZLJJIFA4M8hGo0GMzMzGIbB8+fPqVarAxcGAgE0TePatWuMj49z6dIlrly5cjIQnuextbVFq9UiHA6j6zpCCL4/RFJKut0utm3TaDRYX18nGo0yOjrK0NAQsViMYDCIoiio6sEdV34+oq9fv+b+/fuEw2GmpqYoFAq4rovruv2YnZ0d5ufn2djYYGNjg62tLWKxGPl8ntOnT3Pv3j3GxsYIhUJEIpHjVcI0TYaHhymXyxSLRTzPw/O8fszu7i6GYdDr9djc3GR7exvf91leXiaTyXDz5k1yuRyBQAApJYqiHK0SjUaDN2/eEA6HKZfLxOPxfe3wfZ/t7W0sy6LdblOv13n//j1PnjzBtm2mpqYoFovcuHGDycnJg1siB0gIIYUQgz4NjBNCyHfv3slSqSRVVZWqqkpN0+SjR4+k7/sH5tnXDuDA8g2KC4fD5PN59vb26HQ6OI5zqBxwgmYVjUapVCpMTk6STCaPtHZgJX4lz/OwbfuH/fFVrVarv3mj0Si6rhMOh08eYn19ncePH9NqtfZ9a7fbLC0tIaWkUqkwPDzMxYsXD9XaI0E0m02ePn2KYRj9akgpf6hMLBYjmUySz+dJJBKHynskiEKhwMOHDzFNE9u28TyP5eVlFhcX6XQ6fe/49OkTvV6PiYkJhBAAvz2mR4IYGRnhzp07SCmxbRvf93n58iWKomAYBvV6HcdxWF1dpV6vc/36dXq9Hoqi/Na0jgTx9eaUUqJpGoqikMvluHz5Ms1mk2w2y+7uLisrK5imydraGmtra+i6zsjICMFgcHDiA53kN0bV6/Wk4zjyy5cv0rIs2W635efPn+Xdu3dlKBSS5XJZ3r59Wz548EB2Op2jmdVBklLiui5SSlRVJRKJ9G9MTdNIp9MkEgm63S4rKytkMpn+3hikY0E4jsOLFy/48OED4+PjlEol4vE4p06dIhgMcuvWLS5cuMCrV6949uwZzWbz5CF832d+fp65uTl6vV5/5kgmk6iqSrFYZGhoCMMwsCwLy7JOHgK+3RtLS0u0Wi2y2SwTExOoqsrCwgK1Wo23b98ihGBnZ4dqtYqUkkQisW/G+CMIRVGYnZ2lVquRzWa5evUqqqoyOzuLYRj4vo8QAtM0WVxcxLIsKpXKyUAEAgHGxsbY29sjnU6TSqVIJBIIIfA8D8dxcByHM2fOUCqVGB0dJZfLkUqlBs6g+4aaw0gIQbfbxfM8arUaq6urVKtVFhYWaLfbzM3Nsbm5yfT0NNPT0+i6TiaTQdM0NE3bB3KsSqiqSjweR0qJEAIhBKFQiI8fP+J5Hul0Gtd1OXfuHOfPnycSiRCNRn9p3ceqxPdyHAfXdbFtG9M0cV0Xy7JwHIdCocDZs2f7/vEr2/5jiJPQ/+I38B/EV/0HOM0DOcEp3QYAAAAASUVORK5CYII=\" y=\"-9.650479\"/>\n   </g>\n   <g id=\"matplotlib.axis_1\">\n    <g id=\"xtick_1\">\n     <g id=\"line2d_1\">\n      <defs>\n       <path d=\"M 0 0 \nL 0 3.5 \n\" id=\"m6e9becf3f9\" style=\"stroke:#ffffff;stroke-width:0.8;\"/>\n      </defs>\n      <g>\n       <use style=\"fill:#ffffff;stroke:#ffffff;stroke-width:0.8;\" x=\"28.097269\" xlink:href=\"#m6e9becf3f9\" y=\"42.650479\"/>\n      </g>\n     </g>\n     <g id=\"text_1\">\n      <!-- 0 -->\n      <g style=\"fill:#ffffff;\" transform=\"translate(24.916019 57.248917)scale(0.1 -0.1)\">\n       <defs>\n        <path d=\"M 2034 4250 \nQ 1547 4250 1301 3770 \nQ 1056 3291 1056 2328 \nQ 1056 1369 1301 889 \nQ 1547 409 2034 409 \nQ 2525 409 2770 889 \nQ 3016 1369 3016 2328 \nQ 3016 3291 2770 3770 \nQ 2525 4250 2034 4250 \nz\nM 2034 4750 \nQ 2819 4750 3233 4129 \nQ 3647 3509 3647 2328 \nQ 3647 1150 3233 529 \nQ 2819 -91 2034 -91 \nQ 1250 -91 836 529 \nQ 422 1150 422 2328 \nQ 422 3509 836 4129 \nQ 1250 4750 2034 4750 \nz\n\" id=\"DejaVuSans-30\" transform=\"scale(0.015625)\"/>\n       </defs>\n       <use xlink:href=\"#DejaVuSans-30\"/>\n      </g>\n     </g>\n    </g>\n    <g id=\"xtick_2\">\n     <g id=\"line2d_2\">\n      <g>\n       <use style=\"fill:#ffffff;stroke:#ffffff;stroke-width:0.8;\" x=\"51.542647\" xlink:href=\"#m6e9becf3f9\" y=\"42.650479\"/>\n      </g>\n     </g>\n     <g id=\"text_2\">\n      <!-- 10 -->\n      <g style=\"fill:#ffffff;\" transform=\"translate(45.180147 57.248917)scale(0.1 -0.1)\">\n       <defs>\n        <path d=\"M 794 531 \nL 1825 531 \nL 1825 4091 \nL 703 3866 \nL 703 4441 \nL 1819 4666 \nL 2450 4666 \nL 2450 531 \nL 3481 531 \nL 3481 0 \nL 794 0 \nL 794 531 \nz\n\" id=\"DejaVuSans-31\" transform=\"scale(0.015625)\"/>\n       </defs>\n       <use xlink:href=\"#DejaVuSans-31\"/>\n       <use x=\"63.623047\" xlink:href=\"#DejaVuSans-30\"/>\n      </g>\n     </g>\n    </g>\n   </g>\n   <g id=\"matplotlib.axis_2\">\n    <g id=\"ytick_1\">\n     <g id=\"line2d_3\">\n      <defs>\n       <path d=\"M 0 0 \nL -3.5 0 \n\" id=\"m6be0008882\" style=\"stroke:#ffffff;stroke-width:0.8;\"/>\n      </defs>\n      <g>\n       <use style=\"fill:#ffffff;stroke:#ffffff;stroke-width:0.8;\" x=\"26.925\" xlink:href=\"#m6be0008882\" y=\"10.999219\"/>\n      </g>\n     </g>\n     <g id=\"text_3\">\n      <!-- 0 -->\n      <g style=\"fill:#ffffff;\" transform=\"translate(13.5625 14.798437)scale(0.1 -0.1)\">\n       <use xlink:href=\"#DejaVuSans-30\"/>\n      </g>\n     </g>\n    </g>\n    <g id=\"ytick_2\">\n     <g id=\"line2d_4\">\n      <g>\n       <use style=\"fill:#ffffff;stroke:#ffffff;stroke-width:0.8;\" x=\"26.925\" xlink:href=\"#m6be0008882\" y=\"34.444597\"/>\n      </g>\n     </g>\n     <g id=\"text_4\">\n      <!-- 10 -->\n      <g style=\"fill:#ffffff;\" transform=\"translate(7.2 38.243816)scale(0.1 -0.1)\">\n       <use xlink:href=\"#DejaVuSans-31\"/>\n       <use x=\"63.623047\" xlink:href=\"#DejaVuSans-30\"/>\n      </g>\n     </g>\n    </g>\n   </g>\n   <g id=\"patch_3\">\n    <path d=\"M 26.925 42.650479 \nL 26.925 9.82695 \n\" style=\"fill:none;stroke:#ffffff;stroke-linecap:square;stroke-linejoin:miter;stroke-width:0.8;\"/>\n   </g>\n   <g id=\"patch_4\">\n    <path d=\"M 59.748529 42.650479 \nL 59.748529 9.82695 \n\" style=\"fill:none;stroke:#ffffff;stroke-linecap:square;stroke-linejoin:miter;stroke-width:0.8;\"/>\n   </g>\n   <g id=\"patch_5\">\n    <path d=\"M 26.925 42.650479 \nL 59.748529 42.650479 \n\" style=\"fill:none;stroke:#ffffff;stroke-linecap:square;stroke-linejoin:miter;stroke-width:0.8;\"/>\n   </g>\n   <g id=\"patch_6\">\n    <path d=\"M 26.925 9.82695 \nL 59.748529 9.82695 \n\" style=\"fill:none;stroke:#ffffff;stroke-linecap:square;stroke-linejoin:miter;stroke-width:0.8;\"/>\n   </g>\n  </g>\n </g>\n <defs>\n  <clipPath id=\"pe5b25a2bef\">\n   <rect height=\"32.823529\" width=\"32.823529\" x=\"26.925\" y=\"9.82695\"/>\n  </clipPath>\n </defs>\n</svg>\n",
      "image/png": "[encoded data removed]"
     },
     "metadata": {}
    },
    {
     "output_type": "display_data",
     "data": {
      "text/plain": "<Figure size 144x144 with 1 Axes>",
      "image/svg+xml": "<?xml version=\"1.0\" encoding=\"utf-8\" standalone=\"no\"?>\n<!DOCTYPE svg PUBLIC \"-//W3C//DTD SVG 1.1//EN\"\n  \"http://www.w3.org/Graphics/SVG/1.1/DTD/svg11.dtd\">\n<svg height=\"139.798125pt\" version=\"1.1\" viewBox=\"0 0 142.845 139.798125\" width=\"142.845pt\" xmlns=\"http://www.w3.org/2000/svg\" xmlns:xlink=\"http://www.w3.org/1999/xlink\">\n <metadata>\n  <rdf:RDF xmlns:cc=\"http://creativecommons.org/ns#\" xmlns:dc=\"http://purl.org/dc/elements/1.1/\" xmlns:rdf=\"http://www.w3.org/1999/02/22-rdf-syntax-ns#\">\n   <cc:Work>\n    <dc:type rdf:resource=\"http://purl.org/dc/dcmitype/StillImage\"/>\n    <dc:date>2021-07-01T22:02:08.635524</dc:date>\n    <dc:format>image/svg+xml</dc:format>\n    <dc:creator>\n     <cc:Agent>\n      <dc:title>Matplotlib v3.4.2, https://matplotlib.org/</dc:title>\n     </cc:Agent>\n    </dc:creator>\n   </cc:Work>\n  </rdf:RDF>\n </metadata>\n <defs>\n  <style type=\"text/css\">*{stroke-linecap:butt;stroke-linejoin:round;}</style>\n </defs>\n <g id=\"figure_1\">\n  <g id=\"patch_1\">\n   <path d=\"M 0 139.798125 \nL 142.845 139.798125 \nL 142.845 0 \nL 0 0 \nz\n\"/>\n  </g>\n  <g id=\"axes_1\">\n   <g id=\"patch_2\">\n    <path d=\"M 26.925 115.92 \nL 135.645 115.92 \nL 135.645 7.2 \nL 26.925 7.2 \nz\n\"/>\n   </g>\n   <g clip-path=\"url(#pc33b0228b2)\">\n    <image height=\"109\" id=\"image8768265a54\" transform=\"scale(1 -1)translate(0 -109)\" width=\"109\" x=\"26.925\" xlink:href=\"data:image/png;base64,\niVBORw0KGgoAAAANSUhEUgAAAG0AAABtCAYAAACr+O9WAAACMklEQVR4nO3dPWoCURRA4TEKNoI2bsXCxspluAALQezs3YGFgoWtOxCsbFyNrSKCYrpAirmDef7kJOdrLzM+ODyY4UVTut1ut0woH+9egO5nNCCjARkNyGhARgMyGpDRgIwGZDQgowEZDchoQEYDMhpQJfUGu90ud9bpdFJvH6rVarmzzWYTXttqtR69nJdxpwEZDchoQEYDMhqQ0YCSH/nH43Hu7HQ6hdder9ekz16tVrmzdruddO/z+RzOy+Vy0v1TuNOAjAZkNCCjARkNyGhARgMq/devOlUqaa+ol8vlQSu5nzsNyGhARgMyGpDRgIwGZDSg5PM0qul0Gs4Hg8GLVnI/dxqQ0YCMBmQ0IKMBGQ3IaEC/+j0t9cwrxXa7fdtnF3GnARkNyGhARgMyGpDRgIwGhP67x2jp8/k8vLbovKzb7Ybz9Xodzp/JnQZkNCCjARkNyGhARgNCP/I/U9GxUK/XC+fL5fKRy/nGnQZkNCCjARkNyGhARgMyGhD6PW04HObOJpNJeG30S+NZlmXH4zGc1+v1cP7Mn6xwpwEZDchoQEYDMhqQ0YCMBvSrv+pUpFqt5s4ajUZ47Ww2C+f9fv8nS/qy3+9zZ81mM+ne7jQgowEZDchoQEYDMhqQ0YDQ52mRw+EQzheLRTgfjUbhvOi87Jn/qsudBmQ0IKMBGQ3IaEBGA/qzj/x/mTsNyGhARgMyGpDRgIwGZDQgowEZDchoQEYDMhqQ0YCMBmQ0oE/WFFw0Pp08ZAAAAABJRU5ErkJggg==\" y=\"-6.92\"/>\n   </g>\n   <g id=\"matplotlib.axis_1\">\n    <g id=\"xtick_1\">\n     <g id=\"line2d_1\">\n      <defs>\n       <path d=\"M 0 0 \nL 0 3.5 \n\" id=\"m8ec7c51768\" style=\"stroke:#ffffff;stroke-width:0.8;\"/>\n      </defs>\n      <g>\n       <use style=\"fill:#ffffff;stroke:#ffffff;stroke-width:0.8;\" x=\"30.807857\" xlink:href=\"#m8ec7c51768\" y=\"115.92\"/>\n      </g>\n     </g>\n     <g id=\"text_1\">\n      <!-- 0 -->\n      <g style=\"fill:#ffffff;\" transform=\"translate(27.626607 130.518437)scale(0.1 -0.1)\">\n       <defs>\n        <path d=\"M 2034 4250 \nQ 1547 4250 1301 3770 \nQ 1056 3291 1056 2328 \nQ 1056 1369 1301 889 \nQ 1547 409 2034 409 \nQ 2525 409 2770 889 \nQ 3016 1369 3016 2328 \nQ 3016 3291 2770 3770 \nQ 2525 4250 2034 4250 \nz\nM 2034 4750 \nQ 2819 4750 3233 4129 \nQ 3647 3509 3647 2328 \nQ 3647 1150 3233 529 \nQ 2819 -91 2034 -91 \nQ 1250 -91 836 529 \nQ 422 1150 422 2328 \nQ 422 3509 836 4129 \nQ 1250 4750 2034 4750 \nz\n\" id=\"DejaVuSans-30\" transform=\"scale(0.015625)\"/>\n       </defs>\n       <use xlink:href=\"#DejaVuSans-30\"/>\n      </g>\n     </g>\n    </g>\n    <g id=\"xtick_2\">\n     <g id=\"line2d_2\">\n      <g>\n       <use style=\"fill:#ffffff;stroke:#ffffff;stroke-width:0.8;\" x=\"69.636429\" xlink:href=\"#m8ec7c51768\" y=\"115.92\"/>\n      </g>\n     </g>\n     <g id=\"text_2\">\n      <!-- 5 -->\n      <g style=\"fill:#ffffff;\" transform=\"translate(66.455179 130.518437)scale(0.1 -0.1)\">\n       <defs>\n        <path d=\"M 691 4666 \nL 3169 4666 \nL 3169 4134 \nL 1269 4134 \nL 1269 2991 \nQ 1406 3038 1543 3061 \nQ 1681 3084 1819 3084 \nQ 2600 3084 3056 2656 \nQ 3513 2228 3513 1497 \nQ 3513 744 3044 326 \nQ 2575 -91 1722 -91 \nQ 1428 -91 1123 -41 \nQ 819 9 494 109 \nL 494 744 \nQ 775 591 1075 516 \nQ 1375 441 1709 441 \nQ 2250 441 2565 725 \nQ 2881 1009 2881 1497 \nQ 2881 1984 2565 2268 \nQ 2250 2553 1709 2553 \nQ 1456 2553 1204 2497 \nQ 953 2441 691 2322 \nL 691 4666 \nz\n\" id=\"DejaVuSans-35\" transform=\"scale(0.015625)\"/>\n       </defs>\n       <use xlink:href=\"#DejaVuSans-35\"/>\n      </g>\n     </g>\n    </g>\n    <g id=\"xtick_3\">\n     <g id=\"line2d_3\">\n      <g>\n       <use style=\"fill:#ffffff;stroke:#ffffff;stroke-width:0.8;\" x=\"108.465\" xlink:href=\"#m8ec7c51768\" y=\"115.92\"/>\n      </g>\n     </g>\n     <g id=\"text_3\">\n      <!-- 10 -->\n      <g style=\"fill:#ffffff;\" transform=\"translate(102.1025 130.518437)scale(0.1 -0.1)\">\n       <defs>\n        <path d=\"M 794 531 \nL 1825 531 \nL 1825 4091 \nL 703 3866 \nL 703 4441 \nL 1819 4666 \nL 2450 4666 \nL 2450 531 \nL 3481 531 \nL 3481 0 \nL 794 0 \nL 794 531 \nz\n\" id=\"DejaVuSans-31\" transform=\"scale(0.015625)\"/>\n       </defs>\n       <use xlink:href=\"#DejaVuSans-31\"/>\n       <use x=\"63.623047\" xlink:href=\"#DejaVuSans-30\"/>\n      </g>\n     </g>\n    </g>\n   </g>\n   <g id=\"matplotlib.axis_2\">\n    <g id=\"ytick_1\">\n     <g id=\"line2d_4\">\n      <defs>\n       <path d=\"M 0 0 \nL -3.5 0 \n\" id=\"mc2ae3ce970\" style=\"stroke:#ffffff;stroke-width:0.8;\"/>\n      </defs>\n      <g>\n       <use style=\"fill:#ffffff;stroke:#ffffff;stroke-width:0.8;\" x=\"26.925\" xlink:href=\"#mc2ae3ce970\" y=\"11.082857\"/>\n      </g>\n     </g>\n     <g id=\"text_4\">\n      <!-- 0 -->\n      <g style=\"fill:#ffffff;\" transform=\"translate(13.5625 14.882076)scale(0.1 -0.1)\">\n       <use xlink:href=\"#DejaVuSans-30\"/>\n      </g>\n     </g>\n    </g>\n    <g id=\"ytick_2\">\n     <g id=\"line2d_5\">\n      <g>\n       <use style=\"fill:#ffffff;stroke:#ffffff;stroke-width:0.8;\" x=\"26.925\" xlink:href=\"#mc2ae3ce970\" y=\"49.911429\"/>\n      </g>\n     </g>\n     <g id=\"text_5\">\n      <!-- 5 -->\n      <g style=\"fill:#ffffff;\" transform=\"translate(13.5625 53.710647)scale(0.1 -0.1)\">\n       <use xlink:href=\"#DejaVuSans-35\"/>\n      </g>\n     </g>\n    </g>\n    <g id=\"ytick_3\">\n     <g id=\"line2d_6\">\n      <g>\n       <use style=\"fill:#ffffff;stroke:#ffffff;stroke-width:0.8;\" x=\"26.925\" xlink:href=\"#mc2ae3ce970\" y=\"88.74\"/>\n      </g>\n     </g>\n     <g id=\"text_6\">\n      <!-- 10 -->\n      <g style=\"fill:#ffffff;\" transform=\"translate(7.2 92.539219)scale(0.1 -0.1)\">\n       <use xlink:href=\"#DejaVuSans-31\"/>\n       <use x=\"63.623047\" xlink:href=\"#DejaVuSans-30\"/>\n      </g>\n     </g>\n    </g>\n   </g>\n   <g id=\"patch_3\">\n    <path d=\"M 26.925 115.92 \nL 26.925 7.2 \n\" style=\"fill:none;stroke:#ffffff;stroke-linecap:square;stroke-linejoin:miter;stroke-width:0.8;\"/>\n   </g>\n   <g id=\"patch_4\">\n    <path d=\"M 135.645 115.92 \nL 135.645 7.2 \n\" style=\"fill:none;stroke:#ffffff;stroke-linecap:square;stroke-linejoin:miter;stroke-width:0.8;\"/>\n   </g>\n   <g id=\"patch_5\">\n    <path d=\"M 26.925 115.92 \nL 135.645 115.92 \n\" style=\"fill:none;stroke:#ffffff;stroke-linecap:square;stroke-linejoin:miter;stroke-width:0.8;\"/>\n   </g>\n   <g id=\"patch_6\">\n    <path d=\"M 26.925 7.2 \nL 135.645 7.2 \n\" style=\"fill:none;stroke:#ffffff;stroke-linecap:square;stroke-linejoin:miter;stroke-width:0.8;\"/>\n   </g>\n  </g>\n </g>\n <defs>\n  <clipPath id=\"pc33b0228b2\">\n   <rect height=\"108.72\" width=\"108.72\" x=\"26.925\" y=\"7.2\"/>\n  </clipPath>\n </defs>\n</svg>\n",
      "image/png": "[encoded data removed]"
     },
     "metadata": {}
    },
    {
     "output_type": "display_data",
     "data": {
      "text/plain": "<Figure size 144x144 with 1 Axes>",
      "image/svg+xml": "<?xml version=\"1.0\" encoding=\"utf-8\" standalone=\"no\"?>\n<!DOCTYPE svg PUBLIC \"-//W3C//DTD SVG 1.1//EN\"\n  \"http://www.w3.org/Graphics/SVG/1.1/DTD/svg11.dtd\">\n<svg height=\"139.798125pt\" version=\"1.1\" viewBox=\"0 0 142.845 139.798125\" width=\"142.845pt\" xmlns=\"http://www.w3.org/2000/svg\" xmlns:xlink=\"http://www.w3.org/1999/xlink\">\n <metadata>\n  <rdf:RDF xmlns:cc=\"http://creativecommons.org/ns#\" xmlns:dc=\"http://purl.org/dc/elements/1.1/\" xmlns:rdf=\"http://www.w3.org/1999/02/22-rdf-syntax-ns#\">\n   <cc:Work>\n    <dc:type rdf:resource=\"http://purl.org/dc/dcmitype/StillImage\"/>\n    <dc:date>2021-07-01T22:02:08.772390</dc:date>\n    <dc:format>image/svg+xml</dc:format>\n    <dc:creator>\n     <cc:Agent>\n      <dc:title>Matplotlib v3.4.2, https://matplotlib.org/</dc:title>\n     </cc:Agent>\n    </dc:creator>\n   </cc:Work>\n  </rdf:RDF>\n </metadata>\n <defs>\n  <style type=\"text/css\">*{stroke-linecap:butt;stroke-linejoin:round;}</style>\n </defs>\n <g id=\"figure_1\">\n  <g id=\"patch_1\">\n   <path d=\"M 0 139.798125 \nL 142.845 139.798125 \nL 142.845 0 \nL 0 0 \nz\n\"/>\n  </g>\n  <g id=\"axes_1\">\n   <g id=\"patch_2\">\n    <path d=\"M 26.925 115.92 \nL 135.645 115.92 \nL 135.645 7.2 \nL 26.925 7.2 \nz\n\"/>\n   </g>\n   <g clip-path=\"url(#pbdc232e4c5)\">\n    <image height=\"109\" id=\"image311cb9ce1a\" transform=\"scale(1 -1)translate(0 -109)\" width=\"109\" x=\"26.925\" xlink:href=\"data:image/png;base64,\niVBORw0KGgoAAAANSUhEUgAAAG0AAABtCAYAAACr+O9WAAACNUlEQVR4nO3dv4kCQRhA8fMUC9ACxBYUGxDsQmzAEjQQzMQeBLEIwdhINLYGwUzM1IsuuGC/xRv/PXi/9GP2Bh4DN+weV7jdbrcvoXy/ewO6n9GAjAZkNCCjARkNyGhARgMyGpDRgIwGZDQgowEZDchoQKXUB4xGo8zZeDxOfXyoXC5nzobDYbh2MBg8ejsv40kDMhqQ0YCMBmQ0IKMBFVI/oavVapmz9Xodrj2fzyk/+msymWTOZrNZ0rMPh0M4r1arSc9P4UkDMhqQ0YCMBmQ0IKMBGQ0o+Z5GVSwWk9ZfLpcH7eR+njQgowEZDchoQEYDMhqQ0YCSP6Gj6na74XyxWLxoJ/fzpAEZDchoQEYDMhqQ0YCMBvTR97TUd14p8v5U6p08aUBGAzIakNGAjAZkNCCjAaG/ezydTpmzfr8frs17X1av18P5fr8P56XS867AnjQgowEZDchoQEYDMhoQ+lf+Z8p7LdRoNML5ZrN55Hb+8KQBGQ3IaEBGAzIakNGAjAb00Z/Q5Wm325mz6XQars27Z22323DebDbD+TN50oCMBmQ0IKMBGQ3IaEBGA0Lf06L/6tRqtcK1vV4vnM/n83/t6ddqtcqcdTqdpGd70oCMBmQ0IKMBGQ3IaEBGA0Lf05bLZeZst9uFa/Pet12v13B+PB7DeaVSCecpPGlARgMyGpDRgIwGZDQg/9QJyJMGZDQgowEZDchoQEYDMhqQ0YCMBmQ0IKMBGQ3IaEBGAzIa0A/mS1ckTTF4KAAAAABJRU5ErkJggg==\" y=\"-6.92\"/>\n   </g>\n   <g id=\"matplotlib.axis_1\">\n    <g id=\"xtick_1\">\n     <g id=\"line2d_1\">\n      <defs>\n       <path d=\"M 0 0 \nL 0 3.5 \n\" id=\"mc90a7fcb26\" style=\"stroke:#ffffff;stroke-width:0.8;\"/>\n      </defs>\n      <g>\n       <use style=\"fill:#ffffff;stroke:#ffffff;stroke-width:0.8;\" x=\"30.807857\" xlink:href=\"#mc90a7fcb26\" y=\"115.92\"/>\n      </g>\n     </g>\n     <g id=\"text_1\">\n      <!-- 0 -->\n      <g style=\"fill:#ffffff;\" transform=\"translate(27.626607 130.518437)scale(0.1 -0.1)\">\n       <defs>\n        <path d=\"M 2034 4250 \nQ 1547 4250 1301 3770 \nQ 1056 3291 1056 2328 \nQ 1056 1369 1301 889 \nQ 1547 409 2034 409 \nQ 2525 409 2770 889 \nQ 3016 1369 3016 2328 \nQ 3016 3291 2770 3770 \nQ 2525 4250 2034 4250 \nz\nM 2034 4750 \nQ 2819 4750 3233 4129 \nQ 3647 3509 3647 2328 \nQ 3647 1150 3233 529 \nQ 2819 -91 2034 -91 \nQ 1250 -91 836 529 \nQ 422 1150 422 2328 \nQ 422 3509 836 4129 \nQ 1250 4750 2034 4750 \nz\n\" id=\"DejaVuSans-30\" transform=\"scale(0.015625)\"/>\n       </defs>\n       <use xlink:href=\"#DejaVuSans-30\"/>\n      </g>\n     </g>\n    </g>\n    <g id=\"xtick_2\">\n     <g id=\"line2d_2\">\n      <g>\n       <use style=\"fill:#ffffff;stroke:#ffffff;stroke-width:0.8;\" x=\"69.636429\" xlink:href=\"#mc90a7fcb26\" y=\"115.92\"/>\n      </g>\n     </g>\n     <g id=\"text_2\">\n      <!-- 5 -->\n      <g style=\"fill:#ffffff;\" transform=\"translate(66.455179 130.518437)scale(0.1 -0.1)\">\n       <defs>\n        <path d=\"M 691 4666 \nL 3169 4666 \nL 3169 4134 \nL 1269 4134 \nL 1269 2991 \nQ 1406 3038 1543 3061 \nQ 1681 3084 1819 3084 \nQ 2600 3084 3056 2656 \nQ 3513 2228 3513 1497 \nQ 3513 744 3044 326 \nQ 2575 -91 1722 -91 \nQ 1428 -91 1123 -41 \nQ 819 9 494 109 \nL 494 744 \nQ 775 591 1075 516 \nQ 1375 441 1709 441 \nQ 2250 441 2565 725 \nQ 2881 1009 2881 1497 \nQ 2881 1984 2565 2268 \nQ 2250 2553 1709 2553 \nQ 1456 2553 1204 2497 \nQ 953 2441 691 2322 \nL 691 4666 \nz\n\" id=\"DejaVuSans-35\" transform=\"scale(0.015625)\"/>\n       </defs>\n       <use xlink:href=\"#DejaVuSans-35\"/>\n      </g>\n     </g>\n    </g>\n    <g id=\"xtick_3\">\n     <g id=\"line2d_3\">\n      <g>\n       <use style=\"fill:#ffffff;stroke:#ffffff;stroke-width:0.8;\" x=\"108.465\" xlink:href=\"#mc90a7fcb26\" y=\"115.92\"/>\n      </g>\n     </g>\n     <g id=\"text_3\">\n      <!-- 10 -->\n      <g style=\"fill:#ffffff;\" transform=\"translate(102.1025 130.518437)scale(0.1 -0.1)\">\n       <defs>\n        <path d=\"M 794 531 \nL 1825 531 \nL 1825 4091 \nL 703 3866 \nL 703 4441 \nL 1819 4666 \nL 2450 4666 \nL 2450 531 \nL 3481 531 \nL 3481 0 \nL 794 0 \nL 794 531 \nz\n\" id=\"DejaVuSans-31\" transform=\"scale(0.015625)\"/>\n       </defs>\n       <use xlink:href=\"#DejaVuSans-31\"/>\n       <use x=\"63.623047\" xlink:href=\"#DejaVuSans-30\"/>\n      </g>\n     </g>\n    </g>\n   </g>\n   <g id=\"matplotlib.axis_2\">\n    <g id=\"ytick_1\">\n     <g id=\"line2d_4\">\n      <defs>\n       <path d=\"M 0 0 \nL -3.5 0 \n\" id=\"m7ee8f7a064\" style=\"stroke:#ffffff;stroke-width:0.8;\"/>\n      </defs>\n      <g>\n       <use style=\"fill:#ffffff;stroke:#ffffff;stroke-width:0.8;\" x=\"26.925\" xlink:href=\"#m7ee8f7a064\" y=\"11.082857\"/>\n      </g>\n     </g>\n     <g id=\"text_4\">\n      <!-- 0 -->\n      <g style=\"fill:#ffffff;\" transform=\"translate(13.5625 14.882076)scale(0.1 -0.1)\">\n       <use xlink:href=\"#DejaVuSans-30\"/>\n      </g>\n     </g>\n    </g>\n    <g id=\"ytick_2\">\n     <g id=\"line2d_5\">\n      <g>\n       <use style=\"fill:#ffffff;stroke:#ffffff;stroke-width:0.8;\" x=\"26.925\" xlink:href=\"#m7ee8f7a064\" y=\"49.911429\"/>\n      </g>\n     </g>\n     <g id=\"text_5\">\n      <!-- 5 -->\n      <g style=\"fill:#ffffff;\" transform=\"translate(13.5625 53.710647)scale(0.1 -0.1)\">\n       <use xlink:href=\"#DejaVuSans-35\"/>\n      </g>\n     </g>\n    </g>\n    <g id=\"ytick_3\">\n     <g id=\"line2d_6\">\n      <g>\n       <use style=\"fill:#ffffff;stroke:#ffffff;stroke-width:0.8;\" x=\"26.925\" xlink:href=\"#m7ee8f7a064\" y=\"88.74\"/>\n      </g>\n     </g>\n     <g id=\"text_6\">\n      <!-- 10 -->\n      <g style=\"fill:#ffffff;\" transform=\"translate(7.2 92.539219)scale(0.1 -0.1)\">\n       <use xlink:href=\"#DejaVuSans-31\"/>\n       <use x=\"63.623047\" xlink:href=\"#DejaVuSans-30\"/>\n      </g>\n     </g>\n    </g>\n   </g>\n   <g id=\"patch_3\">\n    <path d=\"M 26.925 115.92 \nL 26.925 7.2 \n\" style=\"fill:none;stroke:#ffffff;stroke-linecap:square;stroke-linejoin:miter;stroke-width:0.8;\"/>\n   </g>\n   <g id=\"patch_4\">\n    <path d=\"M 135.645 115.92 \nL 135.645 7.2 \n\" style=\"fill:none;stroke:#ffffff;stroke-linecap:square;stroke-linejoin:miter;stroke-width:0.8;\"/>\n   </g>\n   <g id=\"patch_5\">\n    <path d=\"M 26.925 115.92 \nL 135.645 115.92 \n\" style=\"fill:none;stroke:#ffffff;stroke-linecap:square;stroke-linejoin:miter;stroke-width:0.8;\"/>\n   </g>\n   <g id=\"patch_6\">\n    <path d=\"M 26.925 7.2 \nL 135.645 7.2 \n\" style=\"fill:none;stroke:#ffffff;stroke-linecap:square;stroke-linejoin:miter;stroke-width:0.8;\"/>\n   </g>\n  </g>\n </g>\n <defs>\n  <clipPath id=\"pbdc232e4c5\">\n   <rect height=\"108.72\" width=\"108.72\" x=\"26.925\" y=\"7.2\"/>\n  </clipPath>\n </defs>\n</svg>\n",
      "image/png": "[encoded data removed]"
     },
     "metadata": {}
    }
   ],
   "source": [
    "img = Phi[:,:,157]   # each image is a (1,x,x^2) represenattion\n",
    "plt.subplot(1, 3, 1)\n",
    "show_digit(img[1,:]) # image asfter the first feature map (x, i.e. same image) \n",
    "show_digit(img[2,:]) # same image asfter the second feature map (x^2)\n",
    "show_digit(data['train']['images'][157])"
   ]
  },
  {
   "source": [
    "# Computing the reduced covariance matrix and truncate"
   ],
   "cell_type": "markdown",
   "metadata": {}
  },
  {
   "cell_type": "code",
   "execution_count": 13,
   "metadata": {},
   "outputs": [],
   "source": [
    "from typing import Iterable\n",
    "\n",
    "def sliding_window(xs: Iterable, \n",
    "                   size: int, \n",
    "                   step: Optional[int]=1,\n",
    "                   complement: Optional[bool]=False) -> Iterable:\n",
    "    \"\"\"\n",
    "    Sliding window iterator\n",
    "\n",
    "    Input:\n",
    "    ------\n",
    "    xs:         iterable\n",
    "    size:       window size\n",
    "    step:       step size\n",
    "    complement: return a complement\n",
    "    \n",
    "    Output:\n",
    "    -------\n",
    "    Iterable\n",
    "    \"\"\"\n",
    "    assert step > 0, \"Parameter 'step' must be > 0\"\n",
    "    N = len(xs)\n",
    "    i = 0\n",
    "    while i + size <= N:\n",
    "        mask = np.ones(N, dtype=bool)\n",
    "        mask[i:i+size] = False\n",
    "        if complement:\n",
    "            yield xs[~mask].tolist(), xs[mask].tolist()\n",
    "        else:\n",
    "            yield xs[~mask].tolist()\n",
    "        i += step"
   ]
  },
  {
   "source": [
    "quickly checking"
   ],
   "cell_type": "markdown",
   "metadata": {}
  },
  {
   "cell_type": "code",
   "execution_count": 14,
   "metadata": {},
   "outputs": [
    {
     "output_type": "stream",
     "name": "stdout",
     "text": [
      "[[0, 1], [2, 3], [4, 5], [6, 7], [8, 9]]\n"
     ]
    }
   ],
   "source": [
    "window_iterator = sliding_window(np.arange(10), size=2, step=2)\n",
    "print(list(window_iterator))"
   ]
  },
  {
   "cell_type": "code",
   "execution_count": 15,
   "metadata": {},
   "outputs": [],
   "source": [
    "from typing import Tuple\n",
    "\n",
    "def ishermitian(a: np.ndarray, rtol=1e-06, atol=1e-08) -> bool:\n",
    "    return np.allclose(a, a.conj().T, rtol=rtol, atol=atol)\n",
    "\n",
    "def truncate_covariance(\n",
    "    a: np.ndarray,\n",
    "    eps: Optional[float]=1e-3\n",
    "    ) -> Tuple[np.ndarray, np.ndarray]:\n",
    "\n",
    "    \"\"\"\n",
    "    Approximate the input covariance matrix by a truncated version.\n",
    "    Uses the eigendecomposition to diagonaize the input matrix\n",
    "    and truncates the spectrum p that satisfies the condition\n",
    "    sum(p)/trace(a) < eps.\n",
    "\n",
    "    Input:\n",
    "    ------\n",
    "    a:      Matrix to be truncated\n",
    "    eps:    The truncation error\n",
    "\n",
    "    Output:\n",
    "    -------\n",
    "    p:      The remaining spectrum\n",
    "    U:      The eigenvectors corresponding to p.\n",
    "    D:      The index of the smallest non-negligible eigenalue.\n",
    "    \"\"\"\n",
    "    assert ishermitian(a), 'Input matrix is not Hermitian'    \n",
    "    # the eignevalue decomposition\n",
    "    p, U = np.linalg.eigh(a)  # p are sorted in ascending order\n",
    "    # checking the contribution of eignevalues and get the index D\n",
    "    err = np.cumsum(p / np.trace(a))  # errors see Eq. (19) in text\n",
    "    idx = np.min(np.where(err >= eps))  # non-negligible errros\n",
    "    return p, U, idx"
   ]
  },
  {
   "source": [
    "quickly checking"
   ],
   "cell_type": "markdown",
   "metadata": {}
  },
  {
   "cell_type": "code",
   "execution_count": 16,
   "metadata": {},
   "outputs": [],
   "source": [
    "np.random.seed(111)\n",
    "v = np.random.rand(30,10) + 1j*np.random.rand(30,10)\n",
    "a = v @ v.conj().T  # covariance matrix\n",
    "\n",
    "p,U,D = truncate_covariance(a)\n",
    "assert np.allclose((U[:,D:] * p[D:]) @ U[:,D:].conj().T, a)"
   ]
  },
  {
   "cell_type": "code",
   "execution_count": 56,
   "metadata": {},
   "outputs": [],
   "source": [
    "from typing import Optional\n",
    "\n",
    "def go(a: np.ndarray,\n",
    "       eps: Optional[float]=1e-3,\n",
    "       ) -> np.ndarray:\n",
    "    \n",
    "    # getting the shape of the input tensor\n",
    "    u,v,w = a.shape\n",
    "\n",
    "    # assert is_power_of_two(q), 'The number of features must be a power of 2'\n",
    "\n",
    "    # stopping criterium\n",
    "    if v == 2: \n",
    "        return acc\n",
    "\n",
    "    rho = np.einsum('ilj,klj->iklj', a, a.conj())                            # computes all density matrices for each j\n",
    "\n",
    "    isometries  = np.empty(shape=(u**2, u**2, 0), dtype=np.double)           # stores the isoemtries\n",
    "    indices = np.empty(shape=(v//2, 0), dtype=int)                           # stores the trancation idices for each isometry\n",
    "\n",
    "    iterator = sliding_window(np.arange(v), step=2, size=2)                  # gets the sliding window iterator\n",
    "    for i,j in iterator:\n",
    "\n",
    "        # Getting the left side normalizer\n",
    "        if i == 0:                                                           # an edge case\n",
    "            left = np.ones(w)\n",
    "        else:\n",
    "            left = np.einsum('ikj,ikj->j', a[:,:i,:], a[:,:i,:].conj())      # contraction of all parts to the left of the pointer (i.e. l)\n",
    "\n",
    "        # Getting the right side normalizer\n",
    "        if j == v-1:                                                         # an edge case\n",
    "            right = np.ones(w)\n",
    "        else:\n",
    "            right = np.einsum('ikj,ikj->j', a[:,j+1:,:], a[:,j+1:,:].conj())  # contraction all parts to the right of the pointer (i.e. r+1)\n",
    "\n",
    "        rho_ij = np.einsum('ikj,mnj->imknj', rho[:,:,i,:], rho[:,:,j,:])      # reduced density matrix for the window\n",
    "        rho_ij = np.einsum('...j,...j,...j', left, rho_ij, right)             # scaled by left and right parts (aka reduced density matrix)\n",
    "        \n",
    "        _, U, idx = truncate_covariance(rho_ij.reshape(u**2, u**2), eps)      # eigen decomposition\n",
    "\n",
    "        isometries = np.append(isometries, U[:,:,np.newaxis], axis=2)\n",
    "        indices = np.append(indices, idx)\n",
    "\n",
    "    D = np.min(indices)                                                       # get a uniform trancation index for ALL isometries (see Eq. 19)\n",
    "    isometries = isometries[:,D:,:].reshape(u, u, -1, v//2)                   # trancating\n",
    "\n",
    "    return isometries"
   ]
  },
  {
   "source": [
    "iso = go(Phi, eps=1e-3)"
   ],
   "cell_type": "code",
   "metadata": {},
   "execution_count": 58,
   "outputs": []
  },
  {
   "cell_type": "code",
   "execution_count": 59,
   "metadata": {},
   "outputs": [],
   "source": [
    "def project(a, iso: np.ndarray) -> np.ndarray:\n",
    "    \"\"\"\n",
    "    Projector of input onto the isometries\n",
    "           out      \n",
    "            | \n",
    "           iso  \n",
    "           / \\ \n",
    "    a -> a0   a1\n",
    "    \"\"\"\n",
    "    a1, a2 = np.squeeze(np.split(a, 2, axis=1))         # split the array in two parts (correspond to ttwo legs of the input)\n",
    "    res = np.einsum('ilk,jlk,ijml->mlk', a1, a2, iso)   # projection of a onto isometries\n",
    "    return res"
   ]
  },
  {
   "cell_type": "code",
   "execution_count": 60,
   "metadata": {},
   "outputs": [
    {
     "output_type": "execute_result",
     "data": {
      "text/plain": [
       "(6, 98, 60000)"
      ]
     },
     "metadata": {},
     "execution_count": 60
    }
   ],
   "source": [
    "z = project(Phi, iso)\n",
    "z.shape"
   ]
  },
  {
   "cell_type": "code",
   "execution_count": 61,
   "metadata": {},
   "outputs": [],
   "source": [
    "iso_ = go(z, eps=1e-3)"
   ]
  },
  {
   "cell_type": "code",
   "execution_count": 62,
   "metadata": {},
   "outputs": [],
   "source": [
    "z_ = project(z, iso_)"
   ]
  },
  {
   "cell_type": "code",
   "execution_count": 63,
   "metadata": {},
   "outputs": [
    {
     "output_type": "execute_result",
     "data": {
      "text/plain": [
       "(22, 49, 60000)"
      ]
     },
     "metadata": {},
     "execution_count": 63
    }
   ],
   "source": [
    "z_.shape"
   ]
  },
  {
   "source": [
    "\n",
    "# Sandbox below"
   ],
   "cell_type": "markdown",
   "metadata": {}
  },
  {
   "source": [
    "## Brute force method (easy to understand)"
   ],
   "cell_type": "markdown",
   "metadata": {}
  },
  {
   "cell_type": "code",
   "execution_count": 20,
   "metadata": {},
   "outputs": [],
   "source": [
    "np.random.seed(0)\n",
    "Phi_rand = np.random.rand(3, 196, 1000)"
   ]
  },
  {
   "cell_type": "code",
   "execution_count": 21,
   "metadata": {},
   "outputs": [],
   "source": [
    "from timeit import default_timer as timer\n",
    "\n",
    "def exec_time(tic, toc):\n",
    "   diff_time = toc - tic\n",
    "   ms = diff_time\n",
    "   m, s = divmod(diff_time, 60)\n",
    "   h, m = divmod(m, 60)\n",
    "   s,m,h = int(round(s, 0)), int(round(m, 0)), int(round(h, 0))\n",
    "   print('Execution Time: ' + f'{h:02d}:{m:02d}:{s:02d}:{ms:.4f}')"
   ]
  },
  {
   "cell_type": "code",
   "execution_count": 22,
   "metadata": {
    "tags": []
   },
   "outputs": [
    {
     "output_type": "stream",
     "name": "stdout",
     "text": [
      "Execution Time: 00:00:00:0.1942\n"
     ]
    }
   ],
   "source": [
    "l,r = 8,9\n",
    "u,v,w = Phi_rand.shape\n",
    "\n",
    "tic = timer()\n",
    "\n",
    "rho1 = np.zeros([u,u,u,u])\n",
    "for j in range(w):\n",
    "    left = np.einsum('ik,ik', Phi_rand[:,:l,j], Phi_rand[:,:l,j].conj())\n",
    "    right = np.einsum('ik,ik', Phi_rand[:,r+1:,j], Phi_rand[:,r+1:,j].conj())\n",
    "\n",
    "    # i   m\n",
    "    # |   |\n",
    "    # +---+\n",
    "    # |   |\n",
    "    # +---+\n",
    "    # |   |\n",
    "    # k   n\n",
    "\n",
    "    for i in range(u):\n",
    "        for k in range(u):\n",
    "            for m in range(u):\n",
    "                for n in range(u):\n",
    "                    rho1[i,k,m,n] += left * right * Phi_rand[i,l,j] * Phi_rand[m,l,j].conj() * Phi_rand[k,r,j] * Phi_rand[n,r,j].conj()\n",
    "\n",
    "toc = timer()\n",
    "time1 = toc-tic\n",
    "\n",
    "exec_time(tic,toc)"
   ]
  },
  {
   "source": [
    "## Same as above, but using vectorization"
   ],
   "cell_type": "markdown",
   "metadata": {}
  },
  {
   "cell_type": "code",
   "execution_count": 23,
   "metadata": {
    "tags": []
   },
   "outputs": [
    {
     "output_type": "stream",
     "name": "stdout",
     "text": [
      "Execution Time: 00:00:00:0.0045\n"
     ]
    }
   ],
   "source": [
    "tic = timer()\n",
    "\n",
    "u,v,w = Phi_rand.shape\n",
    "\n",
    "l,r = 8,9\n",
    "\n",
    "rho2 = np.einsum('ilj,klj->iklj', Phi_rand, Phi_rand.conj())                    # computes all density matrices for each j\n",
    "\n",
    "left = np.einsum('ikj,ikj->j', Phi_rand[:,:l,:], Phi_rand[:,:l,:].conj())       # contraction of all parts to the left of the pointer (i.e. l)\n",
    "right = np.einsum('ikj,ikj->j', Phi_rand[:,r+1:,:], Phi_rand[:,r+1:,:].conj())  # contraction all parts to the right of the pointer (i.e. r+1)\n",
    "\n",
    "rho2 = np.einsum('ikj,mnj->imknj', rho2[:,:,l,:], rho2[:,:,r,:])                # reduced density matrix for the window\n",
    "\n",
    "rho2 = np.einsum('...j,...j,...j', rho2, left, right)                           # scaled by left and right\n",
    "\n",
    "toc = timer()\n",
    "time2 = toc-tic\n",
    "\n",
    "exec_time(tic,toc)\n"
   ]
  },
  {
   "source": [
    "## Checking that the results are the same"
   ],
   "cell_type": "markdown",
   "metadata": {}
  },
  {
   "cell_type": "code",
   "execution_count": 24,
   "metadata": {},
   "outputs": [
    {
     "output_type": "execute_result",
     "data": {
      "text/plain": [
       "True"
      ]
     },
     "metadata": {},
     "execution_count": 24
    }
   ],
   "source": [
    "np.allclose(rho1, rho2)"
   ]
  },
  {
   "source": [
    "## Time gain"
   ],
   "cell_type": "markdown",
   "metadata": {}
  },
  {
   "cell_type": "code",
   "execution_count": 25,
   "metadata": {},
   "outputs": [
    {
     "output_type": "execute_result",
     "data": {
      "text/plain": [
       "43.15543285625797"
      ]
     },
     "metadata": {},
     "execution_count": 25
    }
   ],
   "source": [
    "time1 / time2"
   ]
  },
  {
   "cell_type": "code",
   "execution_count": null,
   "metadata": {},
   "outputs": [],
   "source": []
  }
 ]
}