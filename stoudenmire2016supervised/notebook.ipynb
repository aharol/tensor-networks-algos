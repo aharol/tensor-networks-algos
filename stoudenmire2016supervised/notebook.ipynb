{
 "cells": [
  {
   "cell_type": "markdown",
   "id": "90342c19",
   "metadata": {},
   "source": [
    "# About\n",
    "\n",
    "- `Title:` \"Supervised Learning with Quantum-Inspired Tensor Networks. arXiv e-prints, art\"\n",
    "- `Main Author:` Miles E. Stoudenmire\n",
    "- `Source:` [ArXiv](https://arxiv.org/abs/1605.05775)\n",
    "- `Publish Date:` 18-05-2017\n",
    "- `Reviewed Date:` 22-10-2021\n",
    "\n",
    "## Citation\n",
    "\n",
    "```latex\n",
    "@article{stoudenmire2016supervised,\n",
    "  title={Supervised learning with tensor networks},\n",
    "  author={Stoudenmire, Edwin and Schwab, David J},\n",
    "  journal={Advances in Neural Information Processing Systems},\n",
    "  volume={29},\n",
    "  year={2016}\n",
    "}\n",
    "```"
   ]
  },
  {
   "cell_type": "markdown",
   "id": "82c61e55",
   "metadata": {},
   "source": [
    "# Imports and settings"
   ]
  },
  {
   "cell_type": "code",
   "execution_count": 1,
   "id": "516a8cc3",
   "metadata": {},
   "outputs": [
    {
     "name": "stdout",
     "output_type": "stream",
     "text": [
      "env: JAX_ENABLE_X64=1\n",
      "env: JAX_PLATFORM_NAME=cpu\n"
     ]
    }
   ],
   "source": [
    "%matplotlib inline\n",
    "%env JAX_ENABLE_X64=1\n",
    "%env JAX_PLATFORM_NAME=cpu"
   ]
  },
  {
   "cell_type": "code",
   "execution_count": 2,
   "id": "80210565",
   "metadata": {},
   "outputs": [],
   "source": [
    "import jax\n",
    "import jax.numpy as jnp\n",
    "from jax import jit, grad"
   ]
  },
  {
   "cell_type": "code",
   "execution_count": 3,
   "id": "933bc00f",
   "metadata": {},
   "outputs": [],
   "source": [
    "import os\n",
    "import pickle\n",
    "import time\n",
    "import itertools\n",
    "\n",
    "from collections import defaultdict\n",
    "from functools import reduce, partial\n",
    "from itertools import accumulate"
   ]
  },
  {
   "cell_type": "code",
   "execution_count": 4,
   "id": "6b833c47",
   "metadata": {},
   "outputs": [],
   "source": [
    "from typing import Any, List, DefaultDict,\\\n",
    "    Dict, Tuple, Callable, Optional, Iterable"
   ]
  },
  {
   "cell_type": "code",
   "execution_count": 5,
   "id": "bf1588d1",
   "metadata": {},
   "outputs": [],
   "source": [
    "import matplotlib.pyplot as plt\n",
    "import matplotlib_inline.backend_inline"
   ]
  },
  {
   "cell_type": "markdown",
   "id": "7cc61c86",
   "metadata": {},
   "source": [
    "## Types"
   ]
  },
  {
   "cell_type": "code",
   "execution_count": 6,
   "id": "a90da14d",
   "metadata": {},
   "outputs": [],
   "source": [
    "# type alias\n",
    "PRNGKeyArray = Any\n",
    "DeviceArray = jnp.DeviceArray"
   ]
  },
  {
   "cell_type": "markdown",
   "id": "9462d629",
   "metadata": {},
   "source": [
    "# Constants"
   ]
  },
  {
   "cell_type": "code",
   "execution_count": 7,
   "id": "c4831051",
   "metadata": {},
   "outputs": [],
   "source": [
    "seed = 123     # random seed\n",
    "bond_dim = 10  # the paper mentions 10, 20 and 120\n",
    "α = 0.1        # learning rate\n",
    "tol = 1e-2     # the allowed truncation error"
   ]
  },
  {
   "cell_type": "markdown",
   "id": "79a9bcc1",
   "metadata": {},
   "source": [
    "# Helpers"
   ]
  },
  {
   "cell_type": "code",
   "execution_count": 8,
   "id": "b9a4e8e1",
   "metadata": {},
   "outputs": [],
   "source": [
    "def use_svg_display():\n",
    "    \"\"\"\n",
    "    Use the svg format to display a plot in Jupyter.\n",
    "    \"\"\"\n",
    "    matplotlib_inline.backend_inline.set_matplotlib_formats('svg')\n",
    "\n",
    "\n",
    "def set_figsize(figsize=(3.5,2.5)):\n",
    "    \"\"\"\n",
    "    Set the figure size for matplotlib.\n",
    "    \"\"\"\n",
    "    use_svg_display()\n",
    "    plt.rcParams['figure.figsize'] = figsize\n",
    "\n",
    "\n",
    "def set_axes(axes, xlabel, ylabel, xlim, ylim, xscale, yscale, legend):\n",
    "    \"\"\"\n",
    "    Set the axes for matplotlib.\n",
    "    \"\"\"\n",
    "    axes.set_xlabel(xlabel)\n",
    "    axes.set_ylabel(ylabel)\n",
    "    axes.set_xscale(xscale)\n",
    "    axes.set_yscale(yscale)\n",
    "    axes.set_xlim(xlim)\n",
    "    axes.set_ylim(ylim)\n",
    "    if legend:\n",
    "        axes.legend(legend)\n",
    "    axes.grid()\n",
    "\n",
    "\n",
    "def plot(X, Y=None, xlabel=None, ylabel=None, legend=None, xlim=None,\n",
    "         ylim=None, xscale='linear', yscale='linear',\n",
    "         fmts=('-', 'm--', 'g-.', 'r:'), figsize=(3.5,2.5), axes=None,\n",
    "         title=None):\n",
    "    \"\"\"\n",
    "    Plot data points.\n",
    "    \"\"\"\n",
    "    X = jnp.asarray(X)\n",
    "    Y = jnp.asarray(Y)\n",
    "    \n",
    "    if legend is None:\n",
    "        legend = []\n",
    "\n",
    "    set_figsize(figsize)\n",
    "    axes = axes if axes else plt.gca()\n",
    "\n",
    "    # Return True if `X` (tensor or list) has 1 axis\n",
    "    def has_one_axis(X):\n",
    "        return (hasattr(X, \"ndim\") and X.ndim == 1 or\n",
    "                isinstance(X, list) and not hasattr(X[0], \"__len__\"))\n",
    "\n",
    "    if has_one_axis(X):\n",
    "        X = [X]\n",
    "    if Y is None:\n",
    "        X, Y = [[]] * len(X), X\n",
    "    elif has_one_axis(Y):\n",
    "        Y = [Y]\n",
    "    if len(X) != len(Y):\n",
    "        X = X * len(Y)\n",
    "    axes.cla()\n",
    "    for x, y, fmt in zip(X, Y, fmts):\n",
    "        if len(x):\n",
    "            axes.plot(x, y, fmt)\n",
    "        else:\n",
    "            axes.plot(y, fmt)\n",
    "    set_axes(axes, xlabel, ylabel, xlim, ylim, xscale, yscale, legend)\n",
    "    axes.set_title(title)"
   ]
  },
  {
   "cell_type": "markdown",
   "id": "39226049",
   "metadata": {},
   "source": [
    "# Load data and visualise"
   ]
  },
  {
   "cell_type": "code",
   "execution_count": 9,
   "id": "04241b2d",
   "metadata": {},
   "outputs": [],
   "source": [
    "import datasets\n",
    "\n",
    "train_images, train_labels, test_images, test_labels = datasets.mnist()"
   ]
  },
  {
   "cell_type": "code",
   "execution_count": 10,
   "id": "308302f6",
   "metadata": {},
   "outputs": [
    {
     "name": "stdout",
     "output_type": "stream",
     "text": [
      "Train data shape: (60000, 784) | Test data shape: (10000, 784)\n"
     ]
    }
   ],
   "source": [
    "print(f'Train data shape: {train_images.shape} | Test data shape: {test_images.shape}')"
   ]
  },
  {
   "cell_type": "code",
   "execution_count": 11,
   "id": "dabc9eb2",
   "metadata": {},
   "outputs": [],
   "source": [
    "def show_img(img: jnp.ndarray, axes=None, title=None, figsize=(1.5,1.5)) -> None:\n",
    "    \"\"\"\n",
    "    Shows a single image.\n",
    "    \"\"\"\n",
    "    axes = axes if axes else plt.gca()\n",
    "    set_figsize(figsize)\n",
    "    axes.imshow(img, cmap='Greys')\n",
    "    axes.set_xticks([])\n",
    "    axes.set_yticks([])\n",
    "    if title:\n",
    "        axes.set_title(title, fontsize=9)\n",
    "\n",
    "\n",
    "def show_img_grid(imgs: List[jnp.ndarray], titles: Iterable[str]) -> None:\n",
    "    \"\"\"\n",
    "    Shows a grid of images.\n",
    "    \"\"\"\n",
    "    n = int(jnp.ceil(len(imgs)**0.5))\n",
    "    _, axes = plt.subplots(n,n)\n",
    "    for i, (img, title) in enumerate(zip(imgs, titles)):\n",
    "        show_img(img, axes[i // n][i % n], title)"
   ]
  },
  {
   "cell_type": "code",
   "execution_count": 12,
   "id": "3233b067",
   "metadata": {},
   "outputs": [
    {
     "data": {
      "image/svg+xml": "<?xml version=\"1.0\" encoding=\"utf-8\" standalone=\"no\"?>\n<!DOCTYPE svg PUBLIC \"-//W3C//DTD SVG 1.1//EN\"\n  \"http://www.w3.org/Graphics/SVG/1.1/DTD/svg11.dtd\">\n<svg height=\"280.218594pt\" version=\"1.1\" viewBox=\"0 0 268.523529 280.218594\" width=\"268.523529pt\" xmlns=\"http://www.w3.org/2000/svg\" xmlns:xlink=\"http://www.w3.org/1999/xlink\">\n <metadata>\n  <rdf:RDF xmlns:cc=\"http://creativecommons.org/ns#\" xmlns:dc=\"http://purl.org/dc/elements/1.1/\" xmlns:rdf=\"http://www.w3.org/1999/02/22-rdf-syntax-ns#\">\n   <cc:Work>\n    <dc:type rdf:resource=\"http://purl.org/dc/dcmitype/StillImage\"/>\n    <dc:date>2022-04-16T19:52:52.073838</dc:date>\n    <dc:format>image/svg+xml</dc:format>\n    <dc:creator>\n     <cc:Agent>\n      <dc:title>Matplotlib v3.4.1, https://matplotlib.org/</dc:title>\n     </cc:Agent>\n    </dc:creator>\n   </cc:Work>\n  </rdf:RDF>\n </metadata>\n <defs>\n  <style type=\"text/css\">*{stroke-linecap:butt;stroke-linejoin:round;}</style>\n </defs>\n <g id=\"figure_1\">\n  <g id=\"patch_1\">\n   <path d=\"M 0 280.218594 \nL 268.523529 280.218594 \nL 268.523529 0 \nL 0 0 \nz\n\" style=\"fill:#ffffff;\"/>\n  </g>\n  <g id=\"axes_1\">\n   <g id=\"patch_2\">\n    <path d=\"M 10.7 93.415064 \nL 84.076471 93.415064 \nL 84.076471 20.038594 \nL 10.7 20.038594 \nz\n\" style=\"fill:#ffffff;\"/>\n   </g>\n   <g clip-path=\"url(#pa47b29c423)\">\n    <image height=\"73.44\" id=\"imagefe42739b2e\" transform=\"scale(1 -1)translate(0 -73.44)\" width=\"73.44\" x=\"10.7\" xlink:href=\"data:image/png;base64,\niVBORw0KGgoAAAANSUhEUgAAAGYAAABmCAYAAAA53+RiAAAEMklEQVR4nO2dSyhtYRiG/+1OTIixMjBgIJeBMKEkI1JKGSsGYsCAUigMKIqJQspAEQMzzChiIAaSERFKuUUuYZ/J6TvrW+fsbVv79m7nfUbv29fa66/Xt/5l7X/92+V2u92GwBEV7gGQf8NgQGEwoDAYUBgMKAwGFAYDCoMBhcGAwmBAifHn4JGREdGdnZ0+H5efn698Q0PDnwHF6CE1NTUpn5CQ8J0hRizsGFAYDCgMBhSXP4/9T05ORA8MDKja+vq66NPTU6enMElJScr39/eLbmlpUbW4uDjH50GDHQMKgwHFr0uZN56fn0W3tbWp2ubmpvJHR0eOzlFdXa18T0+P8nl5eaJjY2MdnSNcsGNAYTCgMBhQgjbHeOPp6Un5s7Mz0Y2Njaq2t7fn+DyVlZWie3t7Va2oqEh5l8vl+DzBgB0DCoMBhcGAEpY5xhuPj4/Kr6ysKN/X1yf6+PjY8XnKy8uVHxoaEl1QUOD4cwMFOwYUBgMK3KXsK66vr0VPTEyo2szMjPLn5+c+f250dLTo+vp6VZubm/vOEAMCOwYUBgMKgwEl4uYYb1xcXCi/tLQkemtrS9Xm5+c9fk5xcbHyGxsbokP16IYdAwqDAeVHXcq+Q3x8vPLv7++i7YsODw4ORGdnZwd3YL9hx4DCYEBhMKD4tagcnZeXF9Hb29uq9vHx4fG4mpoa5UM1r1hhx4DCYEBhMKD8qDnm8vJS+fb2dtELCwtej+3u7hbd0dER2IE5gB0DCoMBJaIvZTs7O8pXVVUpf39/7/HY6elp5evq6kQnJycHYHT+wY4BhcGAwmBAibjH/jc3N6KzsrJULTU1VXnro5WSkhJVq62tVZ6LyolPMBhQGAwo8P/HvL29KW/dW+bh4UHVrKtZjDEmNzc3eAMLMuwYUBgMKPCXstHRUeWXl5dF2295c3JyQjGkkMCOAYXBgMJgQIGYY15fX0Xbt7a6vb31eFxra6vyaI9V/IEdAwqDAYXBgBKWx/67u7vKLy4uira/NGT9ytdOaWmp8mtra8pb56urqytVGxsbU35wcNDLiEMPOwYUBgNKSC5l1m0YjTGmsLBQeadbL9qxboNljDFpaWmire9jGvP3i0vebsvDATsGFAYDCoMBJSRzjH1PF+u2u8aE5/oeFaX/Jq232omJiR6Py8jIUN6+ajM9PT0Ao2PHwMJgQGEwoITlkYx9Fb71RdX9/X1VW11dVf7u7k705ORkwMaUmZkpuqKiQtWmpqZEp6SkqFpZWZnyw8PDov15qZYdAwqDASXiFpV/fn6Ktn7z+RWzs7PK23dLPzw8FG1fmdPV1SV6fHxc1ey31tYf1GtubvZ5fHbYMaAwGFAYDCgRN8f8L7BjQGEwoDAYUBgMKAwGFAYDCoMBhcGAwmBAYTCgMBhQGAwoDAYUBgMKgwGFwYDCYED5BeifFh+2j0cCAAAAAElFTkSuQmCC\" y=\"-19.975064\"/>\n   </g>\n   <g id=\"matplotlib.axis_1\"/>\n   <g id=\"matplotlib.axis_2\"/>\n   <g id=\"patch_3\">\n    <path d=\"M 10.7 93.415064 \nL 10.7 20.038594 \n\" style=\"fill:none;stroke:#000000;stroke-linecap:square;stroke-linejoin:miter;stroke-width:0.8;\"/>\n   </g>\n   <g id=\"patch_4\">\n    <path d=\"M 84.076471 93.415064 \nL 84.076471 20.038594 \n\" style=\"fill:none;stroke:#000000;stroke-linecap:square;stroke-linejoin:miter;stroke-width:0.8;\"/>\n   </g>\n   <g id=\"patch_5\">\n    <path d=\"M 10.7 93.415064 \nL 84.076471 93.415064 \n\" style=\"fill:none;stroke:#000000;stroke-linecap:square;stroke-linejoin:miter;stroke-width:0.8;\"/>\n   </g>\n   <g id=\"patch_6\">\n    <path d=\"M 10.7 20.038594 \nL 84.076471 20.038594 \n\" style=\"fill:none;stroke:#000000;stroke-linecap:square;stroke-linejoin:miter;stroke-width:0.8;\"/>\n   </g>\n   <g id=\"text_1\">\n    <!-- label: 5 -->\n    <g transform=\"translate(30.695345 14.038594)scale(0.09 -0.09)\">\n     <defs>\n      <path d=\"M 603 4863 \nL 1178 4863 \nL 1178 0 \nL 603 0 \nL 603 4863 \nz\n\" id=\"DejaVuSans-6c\" transform=\"scale(0.015625)\"/>\n      <path d=\"M 2194 1759 \nQ 1497 1759 1228 1600 \nQ 959 1441 959 1056 \nQ 959 750 1161 570 \nQ 1363 391 1709 391 \nQ 2188 391 2477 730 \nQ 2766 1069 2766 1631 \nL 2766 1759 \nL 2194 1759 \nz\nM 3341 1997 \nL 3341 0 \nL 2766 0 \nL 2766 531 \nQ 2569 213 2275 61 \nQ 1981 -91 1556 -91 \nQ 1019 -91 701 211 \nQ 384 513 384 1019 \nQ 384 1609 779 1909 \nQ 1175 2209 1959 2209 \nL 2766 2209 \nL 2766 2266 \nQ 2766 2663 2505 2880 \nQ 2244 3097 1772 3097 \nQ 1472 3097 1187 3025 \nQ 903 2953 641 2809 \nL 641 3341 \nQ 956 3463 1253 3523 \nQ 1550 3584 1831 3584 \nQ 2591 3584 2966 3190 \nQ 3341 2797 3341 1997 \nz\n\" id=\"DejaVuSans-61\" transform=\"scale(0.015625)\"/>\n      <path d=\"M 3116 1747 \nQ 3116 2381 2855 2742 \nQ 2594 3103 2138 3103 \nQ 1681 3103 1420 2742 \nQ 1159 2381 1159 1747 \nQ 1159 1113 1420 752 \nQ 1681 391 2138 391 \nQ 2594 391 2855 752 \nQ 3116 1113 3116 1747 \nz\nM 1159 2969 \nQ 1341 3281 1617 3432 \nQ 1894 3584 2278 3584 \nQ 2916 3584 3314 3078 \nQ 3713 2572 3713 1747 \nQ 3713 922 3314 415 \nQ 2916 -91 2278 -91 \nQ 1894 -91 1617 61 \nQ 1341 213 1159 525 \nL 1159 0 \nL 581 0 \nL 581 4863 \nL 1159 4863 \nL 1159 2969 \nz\n\" id=\"DejaVuSans-62\" transform=\"scale(0.015625)\"/>\n      <path d=\"M 3597 1894 \nL 3597 1613 \nL 953 1613 \nQ 991 1019 1311 708 \nQ 1631 397 2203 397 \nQ 2534 397 2845 478 \nQ 3156 559 3463 722 \nL 3463 178 \nQ 3153 47 2828 -22 \nQ 2503 -91 2169 -91 \nQ 1331 -91 842 396 \nQ 353 884 353 1716 \nQ 353 2575 817 3079 \nQ 1281 3584 2069 3584 \nQ 2775 3584 3186 3129 \nQ 3597 2675 3597 1894 \nz\nM 3022 2063 \nQ 3016 2534 2758 2815 \nQ 2500 3097 2075 3097 \nQ 1594 3097 1305 2825 \nQ 1016 2553 972 2059 \nL 3022 2063 \nz\n\" id=\"DejaVuSans-65\" transform=\"scale(0.015625)\"/>\n      <path d=\"M 750 794 \nL 1409 794 \nL 1409 0 \nL 750 0 \nL 750 794 \nz\nM 750 3309 \nL 1409 3309 \nL 1409 2516 \nL 750 2516 \nL 750 3309 \nz\n\" id=\"DejaVuSans-3a\" transform=\"scale(0.015625)\"/>\n      <path id=\"DejaVuSans-20\" transform=\"scale(0.015625)\"/>\n      <path d=\"M 691 4666 \nL 3169 4666 \nL 3169 4134 \nL 1269 4134 \nL 1269 2991 \nQ 1406 3038 1543 3061 \nQ 1681 3084 1819 3084 \nQ 2600 3084 3056 2656 \nQ 3513 2228 3513 1497 \nQ 3513 744 3044 326 \nQ 2575 -91 1722 -91 \nQ 1428 -91 1123 -41 \nQ 819 9 494 109 \nL 494 744 \nQ 775 591 1075 516 \nQ 1375 441 1709 441 \nQ 2250 441 2565 725 \nQ 2881 1009 2881 1497 \nQ 2881 1984 2565 2268 \nQ 2250 2553 1709 2553 \nQ 1456 2553 1204 2497 \nQ 953 2441 691 2322 \nL 691 4666 \nz\n\" id=\"DejaVuSans-35\" transform=\"scale(0.015625)\"/>\n     </defs>\n     <use xlink:href=\"#DejaVuSans-6c\"/>\n     <use x=\"27.783203\" xlink:href=\"#DejaVuSans-61\"/>\n     <use x=\"89.0625\" xlink:href=\"#DejaVuSans-62\"/>\n     <use x=\"152.539062\" xlink:href=\"#DejaVuSans-65\"/>\n     <use x=\"214.0625\" xlink:href=\"#DejaVuSans-6c\"/>\n     <use x=\"241.845703\" xlink:href=\"#DejaVuSans-3a\"/>\n     <use x=\"275.537109\" xlink:href=\"#DejaVuSans-20\"/>\n     <use x=\"307.324219\" xlink:href=\"#DejaVuSans-35\"/>\n    </g>\n   </g>\n  </g>\n  <g id=\"axes_2\">\n   <g id=\"patch_7\">\n    <path d=\"M 99.323529 93.415064 \nL 172.7 93.415064 \nL 172.7 20.038594 \nL 99.323529 20.038594 \nz\n\" style=\"fill:#ffffff;\"/>\n   </g>\n   <g clip-path=\"url(#p30ee441f1a)\">\n    <image height=\"73.44\" id=\"image4bba538b05\" transform=\"scale(1 -1)translate(0 -73.44)\" width=\"73.44\" x=\"99.323529\" xlink:href=\"data:image/png;base64,\niVBORw0KGgoAAAANSUhEUgAAAGYAAABmCAYAAAA53+RiAAAEmklEQVR4nO2cSyh1XxjG10GUaygTuSYzyUAZuM2YSrnEQMmAXJKMUAYMhCSEzEQGBsyUTKSYiIFcUsp9wIBkQMR/tlrv+r5zPud/zt7n+b6e3+h9eu291+nxrrX2Wntvz/f397cicISFugHk99AYUGgMKDQGFBoDCo0BhcaAQmNAoTGg0BhQaAwoNAYUGgMKjQElwo2LvL6+Cr24uCh0Z2enju1dCI/HI/TQ0JCOW1paRC45OTmgdiLBigGFxoDicWoH8+XlRcc1NTUit7W15fW4P3VlJikpKUK3trYKPTAw8Md2osKKAYXGgEJjQHFsjNnb29NxSUnJj49LTU0VOikpSeijo6Mfn6uysvK3sVJKtbe3//g8oYAVAwqNAYXGgOLKkoxNeHi40H19fTpubm4Wubi4OKGPj491PD8/L3I7OztCb2xs6Pj8/Fzkzs7OhO7p6dFxVlaW17a7BSsGFBoDimPT5d3dXR3b0+XMzEyhLy4unGiCWllZ0XFHR4fIPT09CW2ucE9MTDjSHn9gxYBCY0ChMaA4Nl02l+vtpfumpianLiuor6/XcWlpqciNjIwIPTU1pWN7x3VhYcGB1vmGFQMKjQElJKvL2dnZQtt35W7w+fkp9OzsrI67u7tFLiMjQ8fr6+sil5eXF/zGKVYMLDQGFBoDSkhWl9/e3oQ2p6exsbGutCEiQv508wmbj48Pkevt7dXx8PCwyNkPL0ZGRgalfawYUGgMKDQGFMfuYw4PD3VcXFwscu/v70IvLy/ruLa21onmBIS542ovL/X39ws9ODgYlGuyYkChMaA4Nl0uKCjQsb2yu7m5KfTq6qqOEbuyr68vHYeFyf/l/f19R67JigGFxoBCY0BxZUlmZmZG6NzcXKHNpXR7C8D+21Bgjiv2dNnXi1UBXdORs5KAoTGg0BhQXBlj0tPThW5sbBR6aWlJx0VFRSK3vb0tdE5Ojo7t5fn4+PiA2okEKwYUGgOKK12ZvVs4NjYmtNkF2VPriooKoc13V8bHx0XO7gbdwKl3aVgxoNAYUGgMKI7tYPrD3d2djvPz80Xu+fnZ63ENDQ1C2w9/n5yc6Pjg4EDk6urqhI6OjvZ6HXMHMyYmRuTMd0KVUiotLc3refyBFQMKjQGFxoACMcaY3NzcCG1uUSv160utJlVVVUJXV1fr2F4GsscC82Xe+/t7kSssLNRxW1ubyNn3XcGCFQMKjQElJA+V+8LuYuwuaHp62uux9ktFa2trOrZ3Gm9vb4U+PT3V8dzcnMj52sF0ClYMKDQGFBoDCtwYYzM6Oiq0+clE+3OKl5eXPz5vWVmZ0OZSizk22djTd6dgxYBCY0ChMaDALcn4w9XVldDl5eVCX19f69i+/0hISBA6KipKxw8PDyJnPh1qfoxBqV8/IxksWDGg0BhQ/uquzMbcCVVK7ob62gm1SUxMFPrx8TGgdv0fWDGg0BhQaAwo/9QYY2Puhk5OToqc/Qlf8xtlXV1dIhesJ1/8gRUDCo0B5Z/uyv5mWDGg0BhQaAwoNAYUGgMKjQGFxoBCY0ChMaDQGFBoDCg0BhQaAwqNAeU/dJkmn/1uwvMAAAAASUVORK5CYII=\" y=\"-19.975064\"/>\n   </g>\n   <g id=\"matplotlib.axis_3\"/>\n   <g id=\"matplotlib.axis_4\"/>\n   <g id=\"patch_8\">\n    <path d=\"M 99.323529 93.415064 \nL 99.323529 20.038594 \n\" style=\"fill:none;stroke:#000000;stroke-linecap:square;stroke-linejoin:miter;stroke-width:0.8;\"/>\n   </g>\n   <g id=\"patch_9\">\n    <path d=\"M 172.7 93.415064 \nL 172.7 20.038594 \n\" style=\"fill:none;stroke:#000000;stroke-linecap:square;stroke-linejoin:miter;stroke-width:0.8;\"/>\n   </g>\n   <g id=\"patch_10\">\n    <path d=\"M 99.323529 93.415064 \nL 172.7 93.415064 \n\" style=\"fill:none;stroke:#000000;stroke-linecap:square;stroke-linejoin:miter;stroke-width:0.8;\"/>\n   </g>\n   <g id=\"patch_11\">\n    <path d=\"M 99.323529 20.038594 \nL 172.7 20.038594 \n\" style=\"fill:none;stroke:#000000;stroke-linecap:square;stroke-linejoin:miter;stroke-width:0.8;\"/>\n   </g>\n   <g id=\"text_2\">\n    <!-- label: 0 -->\n    <g transform=\"translate(119.318874 14.038594)scale(0.09 -0.09)\">\n     <defs>\n      <path d=\"M 2034 4250 \nQ 1547 4250 1301 3770 \nQ 1056 3291 1056 2328 \nQ 1056 1369 1301 889 \nQ 1547 409 2034 409 \nQ 2525 409 2770 889 \nQ 3016 1369 3016 2328 \nQ 3016 3291 2770 3770 \nQ 2525 4250 2034 4250 \nz\nM 2034 4750 \nQ 2819 4750 3233 4129 \nQ 3647 3509 3647 2328 \nQ 3647 1150 3233 529 \nQ 2819 -91 2034 -91 \nQ 1250 -91 836 529 \nQ 422 1150 422 2328 \nQ 422 3509 836 4129 \nQ 1250 4750 2034 4750 \nz\n\" id=\"DejaVuSans-30\" transform=\"scale(0.015625)\"/>\n     </defs>\n     <use xlink:href=\"#DejaVuSans-6c\"/>\n     <use x=\"27.783203\" xlink:href=\"#DejaVuSans-61\"/>\n     <use x=\"89.0625\" xlink:href=\"#DejaVuSans-62\"/>\n     <use x=\"152.539062\" xlink:href=\"#DejaVuSans-65\"/>\n     <use x=\"214.0625\" xlink:href=\"#DejaVuSans-6c\"/>\n     <use x=\"241.845703\" xlink:href=\"#DejaVuSans-3a\"/>\n     <use x=\"275.537109\" xlink:href=\"#DejaVuSans-20\"/>\n     <use x=\"307.324219\" xlink:href=\"#DejaVuSans-30\"/>\n    </g>\n   </g>\n  </g>\n  <g id=\"axes_3\">\n   <g id=\"patch_12\">\n    <path d=\"M 187.947059 93.415064 \nL 261.323529 93.415064 \nL 261.323529 20.038594 \nL 187.947059 20.038594 \nz\n\" style=\"fill:#ffffff;\"/>\n   </g>\n   <g clip-path=\"url(#p5857b76f32)\">\n    <image height=\"73.44\" id=\"imaged6f82d9878\" transform=\"scale(1 -1)translate(0 -73.44)\" width=\"73.44\" x=\"187.947059\" xlink:href=\"data:image/png;base64,\niVBORw0KGgoAAAANSUhEUgAAAGYAAABmCAYAAAA53+RiAAADiElEQVR4nO2dv0uyURTHHytQKkIEFyUiKCpQEBdRaumHk39B7Y1NLS0NQYPg5BRtTS3q4OAigk7VIERDtTUELtVqP4Z8hzcu99xXQXsefb68fj/TORzSE5/OvXqfx/R0Op2OReCYcLsB0h2KAYViQKEYUCgGFIoBhWJAoRhQKAYUigFlyu0G3KJWq4l8Z2dHxUdHR6J2eno6kp50ODGgUAwoFAPK2O4xxWJR5GhXPzgxoFAMKGO7lJl4PB63WxBwYkChGFAoBhTuMV3Y3Nx0uwVODCoUAwrFgMI95gf9SGZiwv2/V/c7IF2hGFC4lP2gH8ksLCy42MlfODGgUAwoFAMKxYBCMaBQDCh8udyFUqkk8sPDw5H3wIkBhWJAoRhQPHY+539xcaHier3uRD/W7u6uyJeWlkS+uLjoyPNUKhWRZzIZFa+urora/f29I885CJwYUCgGFIoBZaA95vj4WOT6B3oCgYCorays9N3E1dWVis12pqbkW63Z2VkVJxIJUVtfXxf5xsaGimOxmKjNzMyIfH5+XsWvr6+i9vX11av1ocGJAYViQBnoSKbdbotcX3bK5bKoJZPJvh+31Wqp+Pv7W9QajYbIn56eVGwuMblcTuTZbFbF5tKVTqdF/v7+3rOHl5cXFQeDwX9/gSHAiQGFYkChGFAcO/b3+/2//tlQKNSztre31/fjnJyciPzz81PFzWZT1M7Pz0X+8fGhYnOPeXh4UDH3mDGHYkChGFAc22Nubm5Evra25tRD/xqv16viVColamau75H5fF7UDg4OVHx9fS1qPp/Pbptd4cSAQjGgDLSURSKRnrXb21u7vbiKflJeKBRE7e7uTsXmMRCXsjGDYkChGFAG2mPMo/Lp6WlHm3ET/bJANBoVNf2yxNvbm6jNzc0NpR9ODCgUAwrFgDLQHmMez4fDYUebQcG840enWq2KfH9/fyg9cGJAoRhQbJ0uT05OOtUHFGdnZyK/vLxUsX41c5hwYkChGFAoBhRbe4x+Ze/x8dF2MyjoN65blvx2DPNbNPS7NC3LubtoODGgUAwoFAOKrT1ma2tLxfF43HYzKJj/Tn55eVnFz8/PI+mBEwMKxYBi63P+44J+DLO9vS1q5t1BfLn8n0MxoFAMKNxjQOHEgEIxoFAMKBQDCsWAQjGgUAwoFAMKxYBCMaBQDCgUAwrFgEIxoFAMKBQDCsWA8gdSOLgq1TpxIAAAAABJRU5ErkJggg==\" y=\"-19.975064\"/>\n   </g>\n   <g id=\"matplotlib.axis_5\"/>\n   <g id=\"matplotlib.axis_6\"/>\n   <g id=\"patch_13\">\n    <path d=\"M 187.947059 93.415064 \nL 187.947059 20.038594 \n\" style=\"fill:none;stroke:#000000;stroke-linecap:square;stroke-linejoin:miter;stroke-width:0.8;\"/>\n   </g>\n   <g id=\"patch_14\">\n    <path d=\"M 261.323529 93.415064 \nL 261.323529 20.038594 \n\" style=\"fill:none;stroke:#000000;stroke-linecap:square;stroke-linejoin:miter;stroke-width:0.8;\"/>\n   </g>\n   <g id=\"patch_15\">\n    <path d=\"M 187.947059 93.415064 \nL 261.323529 93.415064 \n\" style=\"fill:none;stroke:#000000;stroke-linecap:square;stroke-linejoin:miter;stroke-width:0.8;\"/>\n   </g>\n   <g id=\"patch_16\">\n    <path d=\"M 187.947059 20.038594 \nL 261.323529 20.038594 \n\" style=\"fill:none;stroke:#000000;stroke-linecap:square;stroke-linejoin:miter;stroke-width:0.8;\"/>\n   </g>\n   <g id=\"text_3\">\n    <!-- label: 4 -->\n    <g transform=\"translate(207.942403 14.038594)scale(0.09 -0.09)\">\n     <defs>\n      <path d=\"M 2419 4116 \nL 825 1625 \nL 2419 1625 \nL 2419 4116 \nz\nM 2253 4666 \nL 3047 4666 \nL 3047 1625 \nL 3713 1625 \nL 3713 1100 \nL 3047 1100 \nL 3047 0 \nL 2419 0 \nL 2419 1100 \nL 313 1100 \nL 313 1709 \nL 2253 4666 \nz\n\" id=\"DejaVuSans-34\" transform=\"scale(0.015625)\"/>\n     </defs>\n     <use xlink:href=\"#DejaVuSans-6c\"/>\n     <use x=\"27.783203\" xlink:href=\"#DejaVuSans-61\"/>\n     <use x=\"89.0625\" xlink:href=\"#DejaVuSans-62\"/>\n     <use x=\"152.539062\" xlink:href=\"#DejaVuSans-65\"/>\n     <use x=\"214.0625\" xlink:href=\"#DejaVuSans-6c\"/>\n     <use x=\"241.845703\" xlink:href=\"#DejaVuSans-3a\"/>\n     <use x=\"275.537109\" xlink:href=\"#DejaVuSans-20\"/>\n     <use x=\"307.324219\" xlink:href=\"#DejaVuSans-34\"/>\n    </g>\n   </g>\n  </g>\n  <g id=\"axes_4\">\n   <g id=\"patch_17\">\n    <path d=\"M 10.7 181.466829 \nL 84.076471 181.466829 \nL 84.076471 108.090358 \nL 10.7 108.090358 \nz\n\" style=\"fill:#ffffff;\"/>\n   </g>\n   <g clip-path=\"url(#pfd79a232e6)\">\n    <image height=\"73.44\" id=\"image8c09b0ea0b\" transform=\"scale(1 -1)translate(0 -73.44)\" width=\"73.44\" x=\"10.7\" xlink:href=\"data:image/png;base64,\niVBORw0KGgoAAAANSUhEUgAAAGYAAABmCAYAAAA53+RiAAADN0lEQVR4nO2cPWsqQRSGb6KIoBJBLMTaj9reIiCkDNjY2NilEkQLm/SKprIQDPgHhDRiYyEpLPwFopAiILESERIlld7mMuyZexUv2XXfmPep5mVWcsKTM7Nsxr3Y7Xa7XwSOS7sLIP+GYkChGFAoBhSKAYViQKEYUCgGFIoBhWJAcdrxQz8+PkTOZrNq3O12xVwsFhN5PB5bVxgQ7BhQKAYUigHFlj3m7e1N5F6vZ0cZ0LBjQKEYUCgGFIoBhWJAoRhQbLld9nq9IofDYTWezWZi7vX1VeRqtarGxWJRzDmdtvw6lsCOAYViQKEYUC4QTmKWSiU1fnh4EHOXl/v/dpbLpchXV1fmFmYj7BhQKAYUiKXMiMPhEPnQUjYYDEROJpOW1GQH7BhQKAYUigEFbo8JhUIiLxaLvdfe3NyI/PT0JLLL5TKvsBPDjgGFYkCBW8r0gxqpVErkl5eXvZ/N5XIit1ot8wo7MewYUCgGFIoBBW6P0bm/vxe5Uqkc/dn5fK7GwWDQtJpOATsGFIoBhWJAgd9jVquVyIFA4OjPFgoFNa7X62aVdBLYMaBQDCjwJ+T8fr/Io9FIjfWny+/v7yIbH9+s12sx5/F4TKrQGtgxoFAMKBQDCvzt8iH0dwKk02mRt9utGmcyGTHXbrdFdrvdJlf3NdgxoFAMKBQDyrfeY/THNbe3tyIPh0M11k90NhoNke/u7swt7ouwY0ChGFC+9VKms9lsRPb5fGqsL2X6U+rn52c1jsfj5hf3n7BjQKEYUCgGlLPaY3TK5bIa12q1g9caH+d0Oh3LajoWdgwoFAMKxYBy1nuM8V/L+rcG9G8VGOn3+yJfX1+bW9gRsGNAoRhQznopM6K/4VxfnoyvP0kkEmLOuLTpp2usehUXOwYUigGFYkD5MXuMTrPZFDmfz++91njaZjKZiLlIJGJuYX9gx4BCMaBQDCjwp/2tIhqNimw8ifn5+Xnqcv6CHQMKxYDyY2+XdR4fH9VYP/xnvF2eTqdiTl8SzYIdAwrFgEIxoHCPAYUdAwrFgEIxoFAMKBQDCsWAQjGgUAwoFAMKxYBCMaBQDCgUAwrFgEIxoFAMKBQDym88/cxPUYehewAAAABJRU5ErkJggg==\" y=\"-108.026829\"/>\n   </g>\n   <g id=\"matplotlib.axis_7\"/>\n   <g id=\"matplotlib.axis_8\"/>\n   <g id=\"patch_18\">\n    <path d=\"M 10.7 181.466829 \nL 10.7 108.090358 \n\" style=\"fill:none;stroke:#000000;stroke-linecap:square;stroke-linejoin:miter;stroke-width:0.8;\"/>\n   </g>\n   <g id=\"patch_19\">\n    <path d=\"M 84.076471 181.466829 \nL 84.076471 108.090358 \n\" style=\"fill:none;stroke:#000000;stroke-linecap:square;stroke-linejoin:miter;stroke-width:0.8;\"/>\n   </g>\n   <g id=\"patch_20\">\n    <path d=\"M 10.7 181.466829 \nL 84.076471 181.466829 \n\" style=\"fill:none;stroke:#000000;stroke-linecap:square;stroke-linejoin:miter;stroke-width:0.8;\"/>\n   </g>\n   <g id=\"patch_21\">\n    <path d=\"M 10.7 108.090358 \nL 84.076471 108.090358 \n\" style=\"fill:none;stroke:#000000;stroke-linecap:square;stroke-linejoin:miter;stroke-width:0.8;\"/>\n   </g>\n   <g id=\"text_4\">\n    <!-- label: 1 -->\n    <g transform=\"translate(30.695345 102.090358)scale(0.09 -0.09)\">\n     <defs>\n      <path d=\"M 794 531 \nL 1825 531 \nL 1825 4091 \nL 703 3866 \nL 703 4441 \nL 1819 4666 \nL 2450 4666 \nL 2450 531 \nL 3481 531 \nL 3481 0 \nL 794 0 \nL 794 531 \nz\n\" id=\"DejaVuSans-31\" transform=\"scale(0.015625)\"/>\n     </defs>\n     <use xlink:href=\"#DejaVuSans-6c\"/>\n     <use x=\"27.783203\" xlink:href=\"#DejaVuSans-61\"/>\n     <use x=\"89.0625\" xlink:href=\"#DejaVuSans-62\"/>\n     <use x=\"152.539062\" xlink:href=\"#DejaVuSans-65\"/>\n     <use x=\"214.0625\" xlink:href=\"#DejaVuSans-6c\"/>\n     <use x=\"241.845703\" xlink:href=\"#DejaVuSans-3a\"/>\n     <use x=\"275.537109\" xlink:href=\"#DejaVuSans-20\"/>\n     <use x=\"307.324219\" xlink:href=\"#DejaVuSans-31\"/>\n    </g>\n   </g>\n  </g>\n  <g id=\"axes_5\">\n   <g id=\"patch_22\">\n    <path d=\"M 99.323529 181.466829 \nL 172.7 181.466829 \nL 172.7 108.090358 \nL 99.323529 108.090358 \nz\n\" style=\"fill:#ffffff;\"/>\n   </g>\n   <g clip-path=\"url(#p3b7916522e)\">\n    <image height=\"73.44\" id=\"imagec0793ff066\" transform=\"scale(1 -1)translate(0 -73.44)\" width=\"73.44\" x=\"99.323529\" xlink:href=\"data:image/png;base64,\niVBORw0KGgoAAAANSUhEUgAAAGYAAABmCAYAAAA53+RiAAAEGklEQVR4nO2cSyh1URiG13HPREYu5c5IBmRgZmBg6lIoEYqUkZGZCQNDiWJyklLIzICSZCDXiQwoE4WQGLiEwvlny/p29rF//9l7v9v/PqPv7Ttn74/3fGut1l7nhCKRSEQROOL8LoB8DY0BhcaAkuB3AW7y+vqq45GREZEbGhoS+uLiQscZGRnuFuYAdgwoNAaUXzWUmUOXUkp1dnbqeGFhQeS6u7uFTk9Pd6+wH8COAYXGgEJjQAn9pi2ZtbU1oWtra3VcX18vcuPj40IjLJFN2DGg0BhQaAwov2qOKSsrE/ro6EjHJycnIldQUOBJTT+FHQMKjQEl0EPZ5eWl0NnZ2ULHxX1+7h4eHkQuNTXVvcJiADsGFBoDCo0BJdDb/ru7u0Kbc4pSSoVCIS/LiSnsGFBoDCg0BpRAzzGFhYV+l+Aa7BhQaAwogd6SsRIfHy+0uVy+v78XOW7JkB9BY0ChMaAEerl8eHjodwmuwY4BhcaAEuihLCUlReiPjw+hzd3m5eVlkWtsbHSvsBjAjgGFxoBCY0DxZI45PT0VuqqqSuibmxsdl5aWilxbW5vQ7e3tOs7KyhK5uro6oZeWlnR8fHzsuF4E2DGg0BhQaAworm37v7y86Li4uFjkrq6uhDZL+JuTLbm5ubbXUUqps7MzHWdmZorc+fm54/v4ATsGFBoDimtD2dPTk47T0tKivvb29lbHCQlyBb+4uCj0/Py8jre2tkTO+pTSHBatQ+TOzo7QFRUVUWv0GnYMKDQGFBoDiifL5aKiIpG7vr4W2txmCYfDju9xd3cndHNzs9Dr6+u27+3p6RF6dHRUx0lJSY5rcAt2DCg0BhQaA4onJzEnJyeF7uvrEzo5OVnHLS0tIjc1NSV0YmKi7X3e3t6EPjg40HF1dbXIPT8/Cz02NmZbnx+wY0ChMaD4cqjcHDaUUqq/v/+zIMvWyeDgoNADAwM6NofA7ygvLxc62mHB7e1toSsrKx3fJ1awY0ChMaDQGFAgvrhk/mSi+XOJX2Fuu1i3b6LNORsbG0LX1NTYvjYvL09ocz7y6gtP7BhQaAwoNAYUiDnGPKVvPbVpfeT7+PioY+vJy+HhYaFLSkp0/P7+LnJdXV1Cz83N6dj6L5mZmdFxa2urtXxXYMeAQmNAgRjKorG5uSl0U1OTjq1PQq1/SkNDg47Nw39KKbW/v297T+t1ent7dTwxMfFNxbGBHQMKjQGFxoACP8dYMZfT09PTIreysiL03t6e7XVmZ2eFzsnJ0fHq6qrIdXR06Dg/P99Zof8IOwYUGgMKjQElcHPM/wI7BhQaAwqNAYXGgEJjQKExoNAYUGgMKDQGFBoDCo0BhcaAQmNAoTGg0BhQaAwoNAYUGgMKjQGFxoBCY0ChMaDQGFBoDCh/AKYjGCCZh1cfAAAAAElFTkSuQmCC\" y=\"-108.026829\"/>\n   </g>\n   <g id=\"matplotlib.axis_9\"/>\n   <g id=\"matplotlib.axis_10\"/>\n   <g id=\"patch_23\">\n    <path d=\"M 99.323529 181.466829 \nL 99.323529 108.090358 \n\" style=\"fill:none;stroke:#000000;stroke-linecap:square;stroke-linejoin:miter;stroke-width:0.8;\"/>\n   </g>\n   <g id=\"patch_24\">\n    <path d=\"M 172.7 181.466829 \nL 172.7 108.090358 \n\" style=\"fill:none;stroke:#000000;stroke-linecap:square;stroke-linejoin:miter;stroke-width:0.8;\"/>\n   </g>\n   <g id=\"patch_25\">\n    <path d=\"M 99.323529 181.466829 \nL 172.7 181.466829 \n\" style=\"fill:none;stroke:#000000;stroke-linecap:square;stroke-linejoin:miter;stroke-width:0.8;\"/>\n   </g>\n   <g id=\"patch_26\">\n    <path d=\"M 99.323529 108.090358 \nL 172.7 108.090358 \n\" style=\"fill:none;stroke:#000000;stroke-linecap:square;stroke-linejoin:miter;stroke-width:0.8;\"/>\n   </g>\n   <g id=\"text_5\">\n    <!-- label: 9 -->\n    <g transform=\"translate(119.318874 102.090358)scale(0.09 -0.09)\">\n     <defs>\n      <path d=\"M 703 97 \nL 703 672 \nQ 941 559 1184 500 \nQ 1428 441 1663 441 \nQ 2288 441 2617 861 \nQ 2947 1281 2994 2138 \nQ 2813 1869 2534 1725 \nQ 2256 1581 1919 1581 \nQ 1219 1581 811 2004 \nQ 403 2428 403 3163 \nQ 403 3881 828 4315 \nQ 1253 4750 1959 4750 \nQ 2769 4750 3195 4129 \nQ 3622 3509 3622 2328 \nQ 3622 1225 3098 567 \nQ 2575 -91 1691 -91 \nQ 1453 -91 1209 -44 \nQ 966 3 703 97 \nz\nM 1959 2075 \nQ 2384 2075 2632 2365 \nQ 2881 2656 2881 3163 \nQ 2881 3666 2632 3958 \nQ 2384 4250 1959 4250 \nQ 1534 4250 1286 3958 \nQ 1038 3666 1038 3163 \nQ 1038 2656 1286 2365 \nQ 1534 2075 1959 2075 \nz\n\" id=\"DejaVuSans-39\" transform=\"scale(0.015625)\"/>\n     </defs>\n     <use xlink:href=\"#DejaVuSans-6c\"/>\n     <use x=\"27.783203\" xlink:href=\"#DejaVuSans-61\"/>\n     <use x=\"89.0625\" xlink:href=\"#DejaVuSans-62\"/>\n     <use x=\"152.539062\" xlink:href=\"#DejaVuSans-65\"/>\n     <use x=\"214.0625\" xlink:href=\"#DejaVuSans-6c\"/>\n     <use x=\"241.845703\" xlink:href=\"#DejaVuSans-3a\"/>\n     <use x=\"275.537109\" xlink:href=\"#DejaVuSans-20\"/>\n     <use x=\"307.324219\" xlink:href=\"#DejaVuSans-39\"/>\n    </g>\n   </g>\n  </g>\n  <g id=\"axes_6\">\n   <g id=\"patch_27\">\n    <path d=\"M 187.947059 181.466829 \nL 261.323529 181.466829 \nL 261.323529 108.090358 \nL 187.947059 108.090358 \nz\n\" style=\"fill:#ffffff;\"/>\n   </g>\n   <g clip-path=\"url(#p388c4389b2)\">\n    <image height=\"73.44\" id=\"imagebe0fef2af5\" transform=\"scale(1 -1)translate(0 -73.44)\" width=\"73.44\" x=\"187.947059\" xlink:href=\"data:image/png;base64,\niVBORw0KGgoAAAANSUhEUgAAAGYAAABmCAYAAAA53+RiAAAEh0lEQVR4nO2cyyv8URjGz6DIPXIrFi5JsrOwsZBLiJUFJWUhG38AOyuyEFJClEuIhVKypYSwIAsL7OSSknLLJbff7nTekxkzfjPjmen5rJ6nd8yc6XHOO9/L+Tq+vr6+FIEj5K8HQL6HwYDCYEBhMKAwGFAYDCgMBhQGAwqDAYXBgMJgQGEwoDAYUBgMKAwGFAYDCoMBJcxbb/T6+ir89va21ltbW6KWlpYmfENDg9YRERGiFhoa6q0hBhScMaAwGFAYDCgOb90lU1xcLPzOzs6v3qepqUn4iooK4aurq7WOj48XtZCQ4Pk/C55vEmQwGFAYDChe6zHp6enCX11daW0fmxQWFgp/d3en9eHhodufOTIyInxLS4vwgdxzAnfkQQ6DAcVrS9ny8rLwdXV1WkdHR4vaysqK8ObSdnJyImqjo6PCz87Oav38/CxqQ0NDwjc2NmodGxvrdOyesLGxIfz4+LjT1w4MDAifmJjo9udwxoDCYEBhMKB4rcd8fn4Kb66vHR0dohYTEyP81NSU1pWVlaJm/9Q+PT3VurW1VdTW1taELygo0HphYUHU8vLyhDcvWxwfH4vaxMSE1tPT06L28PCgnJGVlSW83T9dwRkDCoMBxWtLmc3Hx4fWg4ODotbe3u7078yfuEopNTY2Jry5tD09PYlabW2t8Ovr61qHh4eLWm9vr/AHBwdaT05OOh1ffX298J2dncLbhwYm9tkRV3DGgMJgQGEwoPisx5iY/UYpuZ4rpVRRUZHTvx0eHha+rKxM6+zsbFGzT9GUl5drvbu769ZYv8PsVfZYw8K8dqORgDMGFAYDCoMBxS89xsbuOefn51qXlJSI2tnZmfCRkZFaJyQkiJp5B41SSs3Pz2v9+Pjockypqala9/T0iJp5bOWvO0M5Y0BhMKD8yVLmire3N+EvLy+FN0+BmFczv8M84/3TjRkZGRla7+/vi5q9ZPoDzhhQGAwoDAYUuB7jCYuLi8Lf398Lb341h8MhanNzc8Kbp11qampEbWlpSWt/3UTIGQMKgwGFwYAS0D3mf7Avb/f39zt97dHRkdY5OTk+G5MJZwwoDAYU31x+8xDzprmZmRlRq6qqEj4lJUXrqKioX39maWmp8K6Wsr+AMwYUBgMKgwEFose0tbVpbV51/I7c3Fyt7T7R3d0tfFxcnNP3SU5O9mSIfoczBhQGAwqDAQXilMzq6qrW9sYlT8jPzxd+c3NTa3tz7M3NjfDm8ZENT8kQDYMBBWIpe3l50bqrq0vU7MeSmI83+QlzD6Z5hVIppd7f34XnUkbcgsGAwmBAgegxrri+vhbe3Ghrb7q1Ny6ZXy0zM1PU7Oe67O3taW33G3OjVVJSkhuj/n84Y0BhMKAwGFDge4wrbm9vhe/r6xPefLaMJ5tj7Ycq2N4fcMaAwmBACeil7CfMR13ZG6LMM89KKXVxcaF1c3OzqPlqL78rOGNAYTCgMBhQgrrHBDKcMaAwGFAYDCgMBhQGAwqDAYXBgMJgQGEwoDAYUBgMKAwGFAYDCoMBhcGAwmBAYTCg/APZ2U9muAFyXwAAAABJRU5ErkJggg==\" y=\"-108.026829\"/>\n   </g>\n   <g id=\"matplotlib.axis_11\"/>\n   <g id=\"matplotlib.axis_12\"/>\n   <g id=\"patch_28\">\n    <path d=\"M 187.947059 181.466829 \nL 187.947059 108.090358 \n\" style=\"fill:none;stroke:#000000;stroke-linecap:square;stroke-linejoin:miter;stroke-width:0.8;\"/>\n   </g>\n   <g id=\"patch_29\">\n    <path d=\"M 261.323529 181.466829 \nL 261.323529 108.090358 \n\" style=\"fill:none;stroke:#000000;stroke-linecap:square;stroke-linejoin:miter;stroke-width:0.8;\"/>\n   </g>\n   <g id=\"patch_30\">\n    <path d=\"M 187.947059 181.466829 \nL 261.323529 181.466829 \n\" style=\"fill:none;stroke:#000000;stroke-linecap:square;stroke-linejoin:miter;stroke-width:0.8;\"/>\n   </g>\n   <g id=\"patch_31\">\n    <path d=\"M 187.947059 108.090358 \nL 261.323529 108.090358 \n\" style=\"fill:none;stroke:#000000;stroke-linecap:square;stroke-linejoin:miter;stroke-width:0.8;\"/>\n   </g>\n   <g id=\"text_6\">\n    <!-- label: 2 -->\n    <g transform=\"translate(207.942403 102.090358)scale(0.09 -0.09)\">\n     <defs>\n      <path d=\"M 1228 531 \nL 3431 531 \nL 3431 0 \nL 469 0 \nL 469 531 \nQ 828 903 1448 1529 \nQ 2069 2156 2228 2338 \nQ 2531 2678 2651 2914 \nQ 2772 3150 2772 3378 \nQ 2772 3750 2511 3984 \nQ 2250 4219 1831 4219 \nQ 1534 4219 1204 4116 \nQ 875 4013 500 3803 \nL 500 4441 \nQ 881 4594 1212 4672 \nQ 1544 4750 1819 4750 \nQ 2544 4750 2975 4387 \nQ 3406 4025 3406 3419 \nQ 3406 3131 3298 2873 \nQ 3191 2616 2906 2266 \nQ 2828 2175 2409 1742 \nQ 1991 1309 1228 531 \nz\n\" id=\"DejaVuSans-32\" transform=\"scale(0.015625)\"/>\n     </defs>\n     <use xlink:href=\"#DejaVuSans-6c\"/>\n     <use x=\"27.783203\" xlink:href=\"#DejaVuSans-61\"/>\n     <use x=\"89.0625\" xlink:href=\"#DejaVuSans-62\"/>\n     <use x=\"152.539062\" xlink:href=\"#DejaVuSans-65\"/>\n     <use x=\"214.0625\" xlink:href=\"#DejaVuSans-6c\"/>\n     <use x=\"241.845703\" xlink:href=\"#DejaVuSans-3a\"/>\n     <use x=\"275.537109\" xlink:href=\"#DejaVuSans-20\"/>\n     <use x=\"307.324219\" xlink:href=\"#DejaVuSans-32\"/>\n    </g>\n   </g>\n  </g>\n  <g id=\"axes_7\">\n   <g id=\"patch_32\">\n    <path d=\"M 10.7 269.518594 \nL 84.076471 269.518594 \nL 84.076471 196.142123 \nL 10.7 196.142123 \nz\n\" style=\"fill:#ffffff;\"/>\n   </g>\n   <g clip-path=\"url(#pfdb5d799ac)\">\n    <image height=\"73.44\" id=\"image7c8de115de\" transform=\"scale(1 -1)translate(0 -73.44)\" width=\"73.44\" x=\"10.7\" xlink:href=\"data:image/png;base64,\niVBORw0KGgoAAAANSUhEUgAAAGYAAABmCAYAAAA53+RiAAACZUlEQVR4nO3cP4oiQRhA8XVcwUwxMfMAZiZiLnoUQ49g4gEEE8E7COIxBBMTwUQTIyMRDAx0smZLdmRlu+3X8n5RF4NQw5uvy+n5k7vf7/dfwvlKewP6O8NAGQbKMFCGgTIMlGGgDANlGCjDQBkGyjBQhoEyDNTvtDcQp9PpFKy73W50vVqtgo89/rTjeDxG15VKJYHdvcaJgTIM1Efdyvb7fbB+vH1liRMDZRgow0B91BkzHo/T3kJsnBgow0AZBuqjzpjlchmsn/2S6e12S3o7/8WJgTIMVKZvZbPZLFhvNptgncvlfnztcDgM1oQnyn9yYqAMA2UYqEyfMev1Ou0tJMaJgTIMVC7Lf4OZz+eD9bO3x48Oh0OwrlarsewpLk4MlGGgDAOV6bfLj0+Iv75+/jrr9XrBmnamPHJioAwDZRioTJ8xj2fKs+9jOp1O0tuJlRMDZRgow0AZBsowUIaBMgyUYaAMA2UYqEw/knnlsX/WfM5n8mEMA5XpW9krT5ezxomBMgyUYaAyd8ZMp9O0t/AWTgyUYaAMA4U/Y87nc7AejUb//NrJZBJdt9vt2Pb0Dk4MlGGg8LeyQqEQrOv1enS93W6fvrbVakXXpVIp3o0lzImBMgyUYaDwZ0yxWAzWjUYjup7P52/ezfs4MVCGgTIMFP6MuV6vwXq326W0k/dyYqAMA4W/lV0ul2C9WCxS2sl7OTFQhoEyDBT+jCmXy8G63+9H14PBIPhYs9kM1rVaLbF9Jc2JgTIMVKb/9eInc2KgDANlGCjDQBkGyjBQhoEyDJRhoAwDZRgow0AZBsowUN+Q71oOUZY1mgAAAABJRU5ErkJggg==\" y=\"-196.078594\"/>\n   </g>\n   <g id=\"matplotlib.axis_13\"/>\n   <g id=\"matplotlib.axis_14\"/>\n   <g id=\"patch_33\">\n    <path d=\"M 10.7 269.518594 \nL 10.7 196.142123 \n\" style=\"fill:none;stroke:#000000;stroke-linecap:square;stroke-linejoin:miter;stroke-width:0.8;\"/>\n   </g>\n   <g id=\"patch_34\">\n    <path d=\"M 84.076471 269.518594 \nL 84.076471 196.142123 \n\" style=\"fill:none;stroke:#000000;stroke-linecap:square;stroke-linejoin:miter;stroke-width:0.8;\"/>\n   </g>\n   <g id=\"patch_35\">\n    <path d=\"M 10.7 269.518594 \nL 84.076471 269.518594 \n\" style=\"fill:none;stroke:#000000;stroke-linecap:square;stroke-linejoin:miter;stroke-width:0.8;\"/>\n   </g>\n   <g id=\"patch_36\">\n    <path d=\"M 10.7 196.142123 \nL 84.076471 196.142123 \n\" style=\"fill:none;stroke:#000000;stroke-linecap:square;stroke-linejoin:miter;stroke-width:0.8;\"/>\n   </g>\n   <g id=\"text_7\">\n    <!-- label: 1 -->\n    <g transform=\"translate(30.695345 190.142123)scale(0.09 -0.09)\">\n     <use xlink:href=\"#DejaVuSans-6c\"/>\n     <use x=\"27.783203\" xlink:href=\"#DejaVuSans-61\"/>\n     <use x=\"89.0625\" xlink:href=\"#DejaVuSans-62\"/>\n     <use x=\"152.539062\" xlink:href=\"#DejaVuSans-65\"/>\n     <use x=\"214.0625\" xlink:href=\"#DejaVuSans-6c\"/>\n     <use x=\"241.845703\" xlink:href=\"#DejaVuSans-3a\"/>\n     <use x=\"275.537109\" xlink:href=\"#DejaVuSans-20\"/>\n     <use x=\"307.324219\" xlink:href=\"#DejaVuSans-31\"/>\n    </g>\n   </g>\n  </g>\n  <g id=\"axes_8\">\n   <g id=\"patch_37\">\n    <path d=\"M 99.323529 269.518594 \nL 172.7 269.518594 \nL 172.7 196.142123 \nL 99.323529 196.142123 \nz\n\" style=\"fill:#ffffff;\"/>\n   </g>\n   <g clip-path=\"url(#pa801855b30)\">\n    <image height=\"73.44\" id=\"image61862d70b4\" transform=\"scale(1 -1)translate(0 -73.44)\" width=\"73.44\" x=\"99.323529\" xlink:href=\"data:image/png;base64,\niVBORw0KGgoAAAANSUhEUgAAAGYAAABmCAYAAAA53+RiAAAEAklEQVR4nO2dzSt8URjHz3gtSRY2XnY2YiMbC68rS0pNVhbEH+BlSbEjpdhRNnZIs1DyspoZKbKThWQjsZEoLyWM3ek+5+fe5t451/3y+35Wz9Njzhx9PPfMnDlzxTKZTEYROPKingD5HooBhWJAoRhQKAYUigGFYkChGFAoBhSKAaUgrIHf3991vLOzI2pDQ0Miv7u70/Hg4KCodXd3i7yzs1PHpaWluU4TFnYMKBQDCsWAErO17X99fS3yxcVFHc/Pz9t4CqWUUvX19TouKysTta6uLpEPDw/ruLKy0tocfgJ2DCgUA4q1S1lLS4vIj46ObAzrC/NXqa6u1nF/f7+oTU9Pi7ygILR3DoFgx4BCMaBQDCiRXFgnJydFbr7szZatrS2RJ5NJkd/c3Oh4dnZW1C4uLkQ+Njam4+bm5kDzsQk7BhSKAYViQLH2Psa8Zk9NTel4bW1N1O7v70UedI15fX0V+fHxsch7e3t1/Pj46DlWSUmJ6zh1dXWB5pcL7BhQKAYUa5cyk4+PDx2fnp6KWkNDg8gLCwvDmILa39/XcTweF7WnpyfXx52cnIi8sbHR6ryygR0DCsWAQjGghLbGoHF4eCjy9vZ215/lGkNcoRhQsD62C5Gmpqaop+ALdgwoFAMKxYACscY4d343NjZEzTzEV1RUFOg5VlZWAj0uKtgxoFAMKBQDSiRrzO3trcg7Ojp0fHl5GXjcz89Pkefl/d6/u9878z8OxYAC8XI5Fot9G/vFvHT5Gct56DyK3WQTdgwoFAMKxYAC8Qnmw8ODjtfX10Vte3s763HMQ+Z+1pjy8nIdr66uilpra6uOgx5O9As7BhSKAYViQIFYY2yRSqVE7vwy0tnZmai9vb1lPW5bW5uO9/b2RC2sU6TsGFAoBpQ/dSnz4uDgQOQLCwsiTyQSWY3z/Pws8uLi4twm5gI7BhSKAYViQIHY9v8JnNsqSimVn58v8t3dXR2/vLy4jjM3NyfyiYkJC7P7F3YMKBQDCsWAArHGOE+3eH1pVSn58XEut/c1T/9XVFTo+OrqyvVxZs15G2Ol7N33jB0DCsWAArEls7m5qeO+vj7Pn62qqtLx+Pi4qPk58JdOp0We7ZaMyfn5uchra2sDjWPCjgGFYkChGFAgXi6bp1u8cN5OcXR0VNTM5TKXU51Rw44BhWJAoRhQINaYmZkZHTv/24VSSi0vL4vc+V7Fa+skLEZGRkReU1MTyvOwY0ChGFAgtmS8cP5jOaXkbq55t9eenh6R2/oO5sDAgI6XlpZEzfwk1BbsGFAoBhSKAQV+jflfYceAQjGgUAwoFAMKxYBCMaBQDCgUAwrFgEIxoFAMKBQDCsWAQjGgUAwoFAMKxYDyBW1EArrBJzbhAAAAAElFTkSuQmCC\" y=\"-196.078594\"/>\n   </g>\n   <g id=\"matplotlib.axis_15\"/>\n   <g id=\"matplotlib.axis_16\"/>\n   <g id=\"patch_38\">\n    <path d=\"M 99.323529 269.518594 \nL 99.323529 196.142123 \n\" style=\"fill:none;stroke:#000000;stroke-linecap:square;stroke-linejoin:miter;stroke-width:0.8;\"/>\n   </g>\n   <g id=\"patch_39\">\n    <path d=\"M 172.7 269.518594 \nL 172.7 196.142123 \n\" style=\"fill:none;stroke:#000000;stroke-linecap:square;stroke-linejoin:miter;stroke-width:0.8;\"/>\n   </g>\n   <g id=\"patch_40\">\n    <path d=\"M 99.323529 269.518594 \nL 172.7 269.518594 \n\" style=\"fill:none;stroke:#000000;stroke-linecap:square;stroke-linejoin:miter;stroke-width:0.8;\"/>\n   </g>\n   <g id=\"patch_41\">\n    <path d=\"M 99.323529 196.142123 \nL 172.7 196.142123 \n\" style=\"fill:none;stroke:#000000;stroke-linecap:square;stroke-linejoin:miter;stroke-width:0.8;\"/>\n   </g>\n   <g id=\"text_8\">\n    <!-- label: 3 -->\n    <g transform=\"translate(119.318874 190.142123)scale(0.09 -0.09)\">\n     <defs>\n      <path d=\"M 2597 2516 \nQ 3050 2419 3304 2112 \nQ 3559 1806 3559 1356 \nQ 3559 666 3084 287 \nQ 2609 -91 1734 -91 \nQ 1441 -91 1130 -33 \nQ 819 25 488 141 \nL 488 750 \nQ 750 597 1062 519 \nQ 1375 441 1716 441 \nQ 2309 441 2620 675 \nQ 2931 909 2931 1356 \nQ 2931 1769 2642 2001 \nQ 2353 2234 1838 2234 \nL 1294 2234 \nL 1294 2753 \nL 1863 2753 \nQ 2328 2753 2575 2939 \nQ 2822 3125 2822 3475 \nQ 2822 3834 2567 4026 \nQ 2313 4219 1838 4219 \nQ 1578 4219 1281 4162 \nQ 984 4106 628 3988 \nL 628 4550 \nQ 988 4650 1302 4700 \nQ 1616 4750 1894 4750 \nQ 2613 4750 3031 4423 \nQ 3450 4097 3450 3541 \nQ 3450 3153 3228 2886 \nQ 3006 2619 2597 2516 \nz\n\" id=\"DejaVuSans-33\" transform=\"scale(0.015625)\"/>\n     </defs>\n     <use xlink:href=\"#DejaVuSans-6c\"/>\n     <use x=\"27.783203\" xlink:href=\"#DejaVuSans-61\"/>\n     <use x=\"89.0625\" xlink:href=\"#DejaVuSans-62\"/>\n     <use x=\"152.539062\" xlink:href=\"#DejaVuSans-65\"/>\n     <use x=\"214.0625\" xlink:href=\"#DejaVuSans-6c\"/>\n     <use x=\"241.845703\" xlink:href=\"#DejaVuSans-3a\"/>\n     <use x=\"275.537109\" xlink:href=\"#DejaVuSans-20\"/>\n     <use x=\"307.324219\" xlink:href=\"#DejaVuSans-33\"/>\n    </g>\n   </g>\n  </g>\n  <g id=\"axes_9\">\n   <g id=\"patch_42\">\n    <path d=\"M 187.947059 269.518594 \nL 261.323529 269.518594 \nL 261.323529 196.142123 \nL 187.947059 196.142123 \nz\n\" style=\"fill:#ffffff;\"/>\n   </g>\n   <g clip-path=\"url(#p01339008fd)\">\n    <image height=\"73.44\" id=\"image0d073b806a\" transform=\"scale(1 -1)translate(0 -73.44)\" width=\"73.44\" x=\"187.947059\" xlink:href=\"data:image/png;base64,\niVBORw0KGgoAAAANSUhEUgAAAGYAAABmCAYAAAA53+RiAAACTElEQVR4nO3csY5pQRyA8esGG4mEgs4L6FReR6fReAKFB9JoPISoVUQvEZ1IsN2JOblxsxbnm8n3q+bkbDGbL39j7Z4t3W632x/h/C16A/o3w0AZBsowUIaBMgyUYaAMA2UYKMNAlYvewCuNRqPgerVaZevFYhHcazQaH9nTs5wYKMNAGQYqqTNmPp8H1/v9Plufz+dPb+dXnBgow0Al9VI2HA6D68lkkq03m01wr91uf2RPz3JioAwDZRiopM6YvGazma37/X5xG3mCEwNlGCjDQCV9xtz/kenlcgnulcvsb92JgTIMFHuef2g2mwXXx+MxW0+n0+Be/prGiYEyDJRhoEoxP7i0XC6D6/zHLrVaLVvvdrvgXqvVet/GXsCJgTIMVNRvl/M/zeeVSqVsXalU3r2dl3JioAwDZRioqM+Y7Xb78H61Ws3W9D8iz3NioAwDZRioqM+Y/MNIKXFioAwDFfVL2f8MBoOit/A0JwbKMFCGgUr6jKH/lvIRJwbKMFCGgTIMlGGgDAMV3dvl0+mUrfP/oiQlTgyUYaAMAxXdGXO9XrP14XB4+LXdbvfd23kbJwbKMFCGgYrujPmJXq9X9Bae5sRAGQYqqZey/OOkX19fBe3k95wYKMNAGQYqqTPm/mHY2DkxUIaBMgxUUmdMp9MJrmN7IPaeEwNlGKjoXsruP2ZZr9fBvfF4HFzX6/VPbOktnBgow0AZBirqf72YMicGyjBQhoEyDJRhoAwDZRgow0AZBsowUIaBMgyUYaAMA2UYKMNAGQbqG+VOUc1SZFKGAAAAAElFTkSuQmCC\" y=\"-196.078594\"/>\n   </g>\n   <g id=\"matplotlib.axis_17\"/>\n   <g id=\"matplotlib.axis_18\"/>\n   <g id=\"patch_43\">\n    <path d=\"M 187.947059 269.518594 \nL 187.947059 196.142123 \n\" style=\"fill:none;stroke:#000000;stroke-linecap:square;stroke-linejoin:miter;stroke-width:0.8;\"/>\n   </g>\n   <g id=\"patch_44\">\n    <path d=\"M 261.323529 269.518594 \nL 261.323529 196.142123 \n\" style=\"fill:none;stroke:#000000;stroke-linecap:square;stroke-linejoin:miter;stroke-width:0.8;\"/>\n   </g>\n   <g id=\"patch_45\">\n    <path d=\"M 187.947059 269.518594 \nL 261.323529 269.518594 \n\" style=\"fill:none;stroke:#000000;stroke-linecap:square;stroke-linejoin:miter;stroke-width:0.8;\"/>\n   </g>\n   <g id=\"patch_46\">\n    <path d=\"M 187.947059 196.142123 \nL 261.323529 196.142123 \n\" style=\"fill:none;stroke:#000000;stroke-linecap:square;stroke-linejoin:miter;stroke-width:0.8;\"/>\n   </g>\n   <g id=\"text_9\">\n    <!-- label: 1 -->\n    <g transform=\"translate(207.942403 190.142123)scale(0.09 -0.09)\">\n     <use xlink:href=\"#DejaVuSans-6c\"/>\n     <use x=\"27.783203\" xlink:href=\"#DejaVuSans-61\"/>\n     <use x=\"89.0625\" xlink:href=\"#DejaVuSans-62\"/>\n     <use x=\"152.539062\" xlink:href=\"#DejaVuSans-65\"/>\n     <use x=\"214.0625\" xlink:href=\"#DejaVuSans-6c\"/>\n     <use x=\"241.845703\" xlink:href=\"#DejaVuSans-3a\"/>\n     <use x=\"275.537109\" xlink:href=\"#DejaVuSans-20\"/>\n     <use x=\"307.324219\" xlink:href=\"#DejaVuSans-31\"/>\n    </g>\n   </g>\n  </g>\n </g>\n <defs>\n  <clipPath id=\"pa47b29c423\">\n   <rect height=\"73.376471\" width=\"73.376471\" x=\"10.7\" y=\"20.038594\"/>\n  </clipPath>\n  <clipPath id=\"p30ee441f1a\">\n   <rect height=\"73.376471\" width=\"73.376471\" x=\"99.323529\" y=\"20.038594\"/>\n  </clipPath>\n  <clipPath id=\"p5857b76f32\">\n   <rect height=\"73.376471\" width=\"73.376471\" x=\"187.947059\" y=\"20.038594\"/>\n  </clipPath>\n  <clipPath id=\"pfd79a232e6\">\n   <rect height=\"73.376471\" width=\"73.376471\" x=\"10.7\" y=\"108.090358\"/>\n  </clipPath>\n  <clipPath id=\"p3b7916522e\">\n   <rect height=\"73.376471\" width=\"73.376471\" x=\"99.323529\" y=\"108.090358\"/>\n  </clipPath>\n  <clipPath id=\"p388c4389b2\">\n   <rect height=\"73.376471\" width=\"73.376471\" x=\"187.947059\" y=\"108.090358\"/>\n  </clipPath>\n  <clipPath id=\"pfdb5d799ac\">\n   <rect height=\"73.376471\" width=\"73.376471\" x=\"10.7\" y=\"196.142123\"/>\n  </clipPath>\n  <clipPath id=\"pa801855b30\">\n   <rect height=\"73.376471\" width=\"73.376471\" x=\"99.323529\" y=\"196.142123\"/>\n  </clipPath>\n  <clipPath id=\"p01339008fd\">\n   <rect height=\"73.376471\" width=\"73.376471\" x=\"187.947059\" y=\"196.142123\"/>\n  </clipPath>\n </defs>\n</svg>\n",
      "text/plain": [
       "<Figure size 450x450 with 9 Axes>"
      ]
     },
     "metadata": {},
     "output_type": "display_data"
    }
   ],
   "source": [
    "set_figsize((4.5,4.5))\n",
    "\n",
    "show_img_grid(\n",
    "    [train_images[i].reshape(28,28) for i in range(9)],\n",
    "    [f\"label: {jnp.argmax(train_labels[i])}\" for i in range(9)]\n",
    ")"
   ]
  },
  {
   "cell_type": "markdown",
   "id": "0d047fcc",
   "metadata": {},
   "source": [
    "# Downscaling images as in paper"
   ]
  },
  {
   "cell_type": "code",
   "execution_count": 13,
   "id": "446f2db3",
   "metadata": {},
   "outputs": [],
   "source": [
    "def resize(img_vec: jnp.ndarray, shape: Tuple[int,int]) -> jnp.ndarray:\n",
    "    \"\"\"\n",
    "    Resizing the image vector.\n",
    "    \"\"\"\n",
    "    orig_size = jnp.sqrt(img_vec.size).astype(int)\n",
    "    img = img_vec.reshape(orig_size, orig_size)\n",
    "    img = jax.image.resize(img, shape, method='nearest')\n",
    "    return img.reshape(-1)"
   ]
  },
  {
   "cell_type": "code",
   "execution_count": 14,
   "id": "182b07a1",
   "metadata": {},
   "outputs": [],
   "source": [
    "new_shape = (14,14)\n",
    "\n",
    "resize_vmap = partial(resize, shape=new_shape)\n",
    "\n",
    "train_images_scaled = jax.vmap(resize_vmap)(train_images)\n",
    "test_images_scaled = jax.vmap(resize_vmap)(test_images)"
   ]
  },
  {
   "cell_type": "code",
   "execution_count": 15,
   "id": "df3eb272",
   "metadata": {},
   "outputs": [
    {
     "name": "stdout",
     "output_type": "stream",
     "text": [
      "Train data shape: (60000, 196) | Test data shape: (10000, 196)\n"
     ]
    }
   ],
   "source": [
    "print(f'Train data shape: {train_images_scaled.shape} | Test data shape: {test_images_scaled.shape}')"
   ]
  },
  {
   "cell_type": "code",
   "execution_count": 16,
   "id": "3906b1d5",
   "metadata": {},
   "outputs": [
    {
     "data": {
      "image/svg+xml": "<?xml version=\"1.0\" encoding=\"utf-8\" standalone=\"no\"?>\n<!DOCTYPE svg PUBLIC \"-//W3C//DTD SVG 1.1//EN\"\n  \"http://www.w3.org/Graphics/SVG/1.1/DTD/svg11.dtd\">\n<svg height=\"280.218594pt\" version=\"1.1\" viewBox=\"0 0 268.523529 280.218594\" width=\"268.523529pt\" xmlns=\"http://www.w3.org/2000/svg\" xmlns:xlink=\"http://www.w3.org/1999/xlink\">\n <metadata>\n  <rdf:RDF xmlns:cc=\"http://creativecommons.org/ns#\" xmlns:dc=\"http://purl.org/dc/elements/1.1/\" xmlns:rdf=\"http://www.w3.org/1999/02/22-rdf-syntax-ns#\">\n   <cc:Work>\n    <dc:type rdf:resource=\"http://purl.org/dc/dcmitype/StillImage\"/>\n    <dc:date>2022-04-16T19:52:53.010684</dc:date>\n    <dc:format>image/svg+xml</dc:format>\n    <dc:creator>\n     <cc:Agent>\n      <dc:title>Matplotlib v3.4.1, https://matplotlib.org/</dc:title>\n     </cc:Agent>\n    </dc:creator>\n   </cc:Work>\n  </rdf:RDF>\n </metadata>\n <defs>\n  <style type=\"text/css\">*{stroke-linecap:butt;stroke-linejoin:round;}</style>\n </defs>\n <g id=\"figure_1\">\n  <g id=\"patch_1\">\n   <path d=\"M 0 280.218594 \nL 268.523529 280.218594 \nL 268.523529 0 \nL 0 0 \nz\n\" style=\"fill:#ffffff;\"/>\n  </g>\n  <g id=\"axes_1\">\n   <g id=\"patch_2\">\n    <path d=\"M 10.7 93.415064 \nL 84.076471 93.415064 \nL 84.076471 20.038594 \nL 10.7 20.038594 \nz\n\" style=\"fill:#ffffff;\"/>\n   </g>\n   <g clip-path=\"url(#pd4141206a5)\">\n    <image height=\"73.44\" id=\"image95cc19d3d1\" transform=\"scale(1 -1)translate(0 -73.44)\" width=\"73.44\" x=\"10.7\" xlink:href=\"data:image/png;base64,\niVBORw0KGgoAAAANSUhEUgAAAGYAAABmCAYAAAA53+RiAAACL0lEQVR4nO3aIapqQRyA8XfkomAQLCZBrLoFs2vQahBcgdgEgyBmm81odgUmV+ACrIJNBMUXXn0z9zJ68Lvw/eqfmTPwOXCQkz2fz+cf4RQ+fQD9n2GgDANlGCjDQBkGyjBQhoEyDJRhoAwDZRgow0AZBurrlcXD4TA4W6/XSXuWy+Xo/Hw+B2fFYjHpmUTeGCjDQBkGyjBQhoEyDFT2ia9kjsdjcNZut5P37Xa7wdlut4uuzbIs+bl58MZAGQbKMFCGgTIMlGGgPvK6/IrpdBqczWaz5H37/X5wttlskvdN5Y2BMgyUYaAMA2UYKMNA/brX5VSlUil57e12e+NJfsYbA2UYKMNAGQbKMFCGgTIM1EsfldP0er3g7H6/R9deLpc3n+Y13hgow0AZBsowUIaBMgzUr3tdrlarwdlgMAjOvntd9qNy/YhhoAwDZRgow0AZBgr3lcxisYjOD4dDcLbdbt99nI/xxkAZBsowUIaBMgyUYaAMA/WRv/3H43Fwtlwuo2s7nU7SMyeTSXQ+n8+T9s2LNwbKMFCGgTIMlGGgDAOV29/+p9MpOGs0Gnk8MqpQiP8G9/t9cFar1YKzZrOZfKYYbwyUYaAMA2UYKMNAGQYqt3+X6/V6cPZ4PJL3vV6vSetWq1V03mq1grNKpZK072g0+v5gAd4YKMNAGQbKMFCGgTIMFO6jcv3jjYEyDJRhoAwDZRgow0AZBsowUIaBMgyUYaAMA2UYKMNA/QVCWFsk2a/1DAAAAABJRU5ErkJggg==\" y=\"-19.975064\"/>\n   </g>\n   <g id=\"matplotlib.axis_1\"/>\n   <g id=\"matplotlib.axis_2\"/>\n   <g id=\"patch_3\">\n    <path d=\"M 10.7 93.415064 \nL 10.7 20.038594 \n\" style=\"fill:none;stroke:#000000;stroke-linecap:square;stroke-linejoin:miter;stroke-width:0.8;\"/>\n   </g>\n   <g id=\"patch_4\">\n    <path d=\"M 84.076471 93.415064 \nL 84.076471 20.038594 \n\" style=\"fill:none;stroke:#000000;stroke-linecap:square;stroke-linejoin:miter;stroke-width:0.8;\"/>\n   </g>\n   <g id=\"patch_5\">\n    <path d=\"M 10.7 93.415064 \nL 84.076471 93.415064 \n\" style=\"fill:none;stroke:#000000;stroke-linecap:square;stroke-linejoin:miter;stroke-width:0.8;\"/>\n   </g>\n   <g id=\"patch_6\">\n    <path d=\"M 10.7 20.038594 \nL 84.076471 20.038594 \n\" style=\"fill:none;stroke:#000000;stroke-linecap:square;stroke-linejoin:miter;stroke-width:0.8;\"/>\n   </g>\n   <g id=\"text_1\">\n    <!-- label: 5 -->\n    <g transform=\"translate(30.695345 14.038594)scale(0.09 -0.09)\">\n     <defs>\n      <path d=\"M 603 4863 \nL 1178 4863 \nL 1178 0 \nL 603 0 \nL 603 4863 \nz\n\" id=\"DejaVuSans-6c\" transform=\"scale(0.015625)\"/>\n      <path d=\"M 2194 1759 \nQ 1497 1759 1228 1600 \nQ 959 1441 959 1056 \nQ 959 750 1161 570 \nQ 1363 391 1709 391 \nQ 2188 391 2477 730 \nQ 2766 1069 2766 1631 \nL 2766 1759 \nL 2194 1759 \nz\nM 3341 1997 \nL 3341 0 \nL 2766 0 \nL 2766 531 \nQ 2569 213 2275 61 \nQ 1981 -91 1556 -91 \nQ 1019 -91 701 211 \nQ 384 513 384 1019 \nQ 384 1609 779 1909 \nQ 1175 2209 1959 2209 \nL 2766 2209 \nL 2766 2266 \nQ 2766 2663 2505 2880 \nQ 2244 3097 1772 3097 \nQ 1472 3097 1187 3025 \nQ 903 2953 641 2809 \nL 641 3341 \nQ 956 3463 1253 3523 \nQ 1550 3584 1831 3584 \nQ 2591 3584 2966 3190 \nQ 3341 2797 3341 1997 \nz\n\" id=\"DejaVuSans-61\" transform=\"scale(0.015625)\"/>\n      <path d=\"M 3116 1747 \nQ 3116 2381 2855 2742 \nQ 2594 3103 2138 3103 \nQ 1681 3103 1420 2742 \nQ 1159 2381 1159 1747 \nQ 1159 1113 1420 752 \nQ 1681 391 2138 391 \nQ 2594 391 2855 752 \nQ 3116 1113 3116 1747 \nz\nM 1159 2969 \nQ 1341 3281 1617 3432 \nQ 1894 3584 2278 3584 \nQ 2916 3584 3314 3078 \nQ 3713 2572 3713 1747 \nQ 3713 922 3314 415 \nQ 2916 -91 2278 -91 \nQ 1894 -91 1617 61 \nQ 1341 213 1159 525 \nL 1159 0 \nL 581 0 \nL 581 4863 \nL 1159 4863 \nL 1159 2969 \nz\n\" id=\"DejaVuSans-62\" transform=\"scale(0.015625)\"/>\n      <path d=\"M 3597 1894 \nL 3597 1613 \nL 953 1613 \nQ 991 1019 1311 708 \nQ 1631 397 2203 397 \nQ 2534 397 2845 478 \nQ 3156 559 3463 722 \nL 3463 178 \nQ 3153 47 2828 -22 \nQ 2503 -91 2169 -91 \nQ 1331 -91 842 396 \nQ 353 884 353 1716 \nQ 353 2575 817 3079 \nQ 1281 3584 2069 3584 \nQ 2775 3584 3186 3129 \nQ 3597 2675 3597 1894 \nz\nM 3022 2063 \nQ 3016 2534 2758 2815 \nQ 2500 3097 2075 3097 \nQ 1594 3097 1305 2825 \nQ 1016 2553 972 2059 \nL 3022 2063 \nz\n\" id=\"DejaVuSans-65\" transform=\"scale(0.015625)\"/>\n      <path d=\"M 750 794 \nL 1409 794 \nL 1409 0 \nL 750 0 \nL 750 794 \nz\nM 750 3309 \nL 1409 3309 \nL 1409 2516 \nL 750 2516 \nL 750 3309 \nz\n\" id=\"DejaVuSans-3a\" transform=\"scale(0.015625)\"/>\n      <path id=\"DejaVuSans-20\" transform=\"scale(0.015625)\"/>\n      <path d=\"M 691 4666 \nL 3169 4666 \nL 3169 4134 \nL 1269 4134 \nL 1269 2991 \nQ 1406 3038 1543 3061 \nQ 1681 3084 1819 3084 \nQ 2600 3084 3056 2656 \nQ 3513 2228 3513 1497 \nQ 3513 744 3044 326 \nQ 2575 -91 1722 -91 \nQ 1428 -91 1123 -41 \nQ 819 9 494 109 \nL 494 744 \nQ 775 591 1075 516 \nQ 1375 441 1709 441 \nQ 2250 441 2565 725 \nQ 2881 1009 2881 1497 \nQ 2881 1984 2565 2268 \nQ 2250 2553 1709 2553 \nQ 1456 2553 1204 2497 \nQ 953 2441 691 2322 \nL 691 4666 \nz\n\" id=\"DejaVuSans-35\" transform=\"scale(0.015625)\"/>\n     </defs>\n     <use xlink:href=\"#DejaVuSans-6c\"/>\n     <use x=\"27.783203\" xlink:href=\"#DejaVuSans-61\"/>\n     <use x=\"89.0625\" xlink:href=\"#DejaVuSans-62\"/>\n     <use x=\"152.539062\" xlink:href=\"#DejaVuSans-65\"/>\n     <use x=\"214.0625\" xlink:href=\"#DejaVuSans-6c\"/>\n     <use x=\"241.845703\" xlink:href=\"#DejaVuSans-3a\"/>\n     <use x=\"275.537109\" xlink:href=\"#DejaVuSans-20\"/>\n     <use x=\"307.324219\" xlink:href=\"#DejaVuSans-35\"/>\n    </g>\n   </g>\n  </g>\n  <g id=\"axes_2\">\n   <g id=\"patch_7\">\n    <path d=\"M 99.323529 93.415064 \nL 172.7 93.415064 \nL 172.7 20.038594 \nL 99.323529 20.038594 \nz\n\" style=\"fill:#ffffff;\"/>\n   </g>\n   <g clip-path=\"url(#pd7b99b3d34)\">\n    <image height=\"73.44\" id=\"image9e4ddb5684\" transform=\"scale(1 -1)translate(0 -73.44)\" width=\"73.44\" x=\"99.323529\" xlink:href=\"data:image/png;base64,\niVBORw0KGgoAAAANSUhEUgAAAGYAAABmCAYAAAA53+RiAAACQUlEQVR4nO3bMWpqQRhA4SiinaAiWItgo61Y2rmFgEtwA67EwsJOsRI71+EG7EVEi5QhpnvV+ydwH4PnhfO1P04mHAauk5vS8/l8vgmn/OoN6O8MA2UYKMNAGQbKMFCGgTIMlGGgDANlGCjDQBkGyjBQlVwLf3x8hLN6vV543ev1Gs5arVbhdWk8MVCGgTIMlGGgDANlGKhsj8tFH4kHg0Fy3m63w9l0Og1nx+Ox0H5exRMDZRgow0AZBsowUIaByva4nHpXPdd77NvtNpyVSqXkZ2nv1ntioAwDZRgow0AZBsowUKVc/4NZLsfNv76+cvzIpM/Pz+S8Wq2Gs9PpFM6Gw2HhPaV4YqAMA2UYKMNAGQbKMFCGgcp27V+r1cLZbrcLZ+/v7zm281appH/V1HerV3wn88RAGQbKMFCGgTIMlGGgsl37n8/ncNbr9cLZK/4k8BMfl/WHYaAMA2UYKMNAGQYq2+1yt9sNZ/P5PJx1Op3kuofDIZyNx+Mf9/W/8MRAGQbKMFCGgTIMlGGgDAOV7dq/qGazmZzf7/dwttlswtlisUiuu9/vw9l6vQ5ny+UyuW5Rnhgow0AZBsowUIaBMgxUtmv/oi6XS3Le7/fD2Ww2C2eTySS57mg0Cmer1Sr52Rw8MVCGgTIMlGGgDANlGCjc7fK/SN1MPx6P5GcbjUY4u91uRbdUmCcGyjBQhoEyDJRhoAwD9asel38TTwyUYaAMA2UYKMNAGQbKMFCGgTIMlGGgDANlGCjDQBkG6ht6sWbBYLfHugAAAABJRU5ErkJggg==\" y=\"-19.975064\"/>\n   </g>\n   <g id=\"matplotlib.axis_3\"/>\n   <g id=\"matplotlib.axis_4\"/>\n   <g id=\"patch_8\">\n    <path d=\"M 99.323529 93.415064 \nL 99.323529 20.038594 \n\" style=\"fill:none;stroke:#000000;stroke-linecap:square;stroke-linejoin:miter;stroke-width:0.8;\"/>\n   </g>\n   <g id=\"patch_9\">\n    <path d=\"M 172.7 93.415064 \nL 172.7 20.038594 \n\" style=\"fill:none;stroke:#000000;stroke-linecap:square;stroke-linejoin:miter;stroke-width:0.8;\"/>\n   </g>\n   <g id=\"patch_10\">\n    <path d=\"M 99.323529 93.415064 \nL 172.7 93.415064 \n\" style=\"fill:none;stroke:#000000;stroke-linecap:square;stroke-linejoin:miter;stroke-width:0.8;\"/>\n   </g>\n   <g id=\"patch_11\">\n    <path d=\"M 99.323529 20.038594 \nL 172.7 20.038594 \n\" style=\"fill:none;stroke:#000000;stroke-linecap:square;stroke-linejoin:miter;stroke-width:0.8;\"/>\n   </g>\n   <g id=\"text_2\">\n    <!-- label: 0 -->\n    <g transform=\"translate(119.318874 14.038594)scale(0.09 -0.09)\">\n     <defs>\n      <path d=\"M 2034 4250 \nQ 1547 4250 1301 3770 \nQ 1056 3291 1056 2328 \nQ 1056 1369 1301 889 \nQ 1547 409 2034 409 \nQ 2525 409 2770 889 \nQ 3016 1369 3016 2328 \nQ 3016 3291 2770 3770 \nQ 2525 4250 2034 4250 \nz\nM 2034 4750 \nQ 2819 4750 3233 4129 \nQ 3647 3509 3647 2328 \nQ 3647 1150 3233 529 \nQ 2819 -91 2034 -91 \nQ 1250 -91 836 529 \nQ 422 1150 422 2328 \nQ 422 3509 836 4129 \nQ 1250 4750 2034 4750 \nz\n\" id=\"DejaVuSans-30\" transform=\"scale(0.015625)\"/>\n     </defs>\n     <use xlink:href=\"#DejaVuSans-6c\"/>\n     <use x=\"27.783203\" xlink:href=\"#DejaVuSans-61\"/>\n     <use x=\"89.0625\" xlink:href=\"#DejaVuSans-62\"/>\n     <use x=\"152.539062\" xlink:href=\"#DejaVuSans-65\"/>\n     <use x=\"214.0625\" xlink:href=\"#DejaVuSans-6c\"/>\n     <use x=\"241.845703\" xlink:href=\"#DejaVuSans-3a\"/>\n     <use x=\"275.537109\" xlink:href=\"#DejaVuSans-20\"/>\n     <use x=\"307.324219\" xlink:href=\"#DejaVuSans-30\"/>\n    </g>\n   </g>\n  </g>\n  <g id=\"axes_3\">\n   <g id=\"patch_12\">\n    <path d=\"M 187.947059 93.415064 \nL 261.323529 93.415064 \nL 261.323529 20.038594 \nL 187.947059 20.038594 \nz\n\" style=\"fill:#ffffff;\"/>\n   </g>\n   <g clip-path=\"url(#p284254bb77)\">\n    <image height=\"73.44\" id=\"imagef0fb8fa8a1\" transform=\"scale(1 -1)translate(0 -73.44)\" width=\"73.44\" x=\"187.947059\" xlink:href=\"data:image/png;base64,\niVBORw0KGgoAAAANSUhEUgAAAGYAAABmCAYAAAA53+RiAAACEklEQVR4nO3coWqCYRSA4TkXTGLWZBLvQDAY9ELEIHgBFsFsNlktgsWrMBiN3oGXIIiCC1qEnW8wdf879j718OmBlw/+/WzLXS6Xy5tw3rNeQF8zDJRhoAwDZRgow0AZBsowUIaBMgyUYaAMA2UYKMNAfWS9wG8ZDAbJealUCmeTyeTJ23zPGwNlGCjDQBkGyjBQhoH6N4/L3+l0OlmvcMcbA2UYKMNAGQbKMFCGgfJx+aZarWa9wh1vDJRhoAwDZRgow0AZBsrH5ZvVahXOhsPhL25y5Y2BMgyUYaAMA2UYKMNAGQYql/pfMuPxOHl4NpuFs1qtFs42m004y+fzye9st9vhbDQahbNms5n83EKhEM5Op1Py7Ct4Y6AMA2UYKMNAGQbKMFDJ1/6HwyF5eL1eh7N6vf6zjR5wPB7DWa/XS549n8/PXuch3hgow0AZBsowUIaBMgxU8u3yfD5PHt5ut+FsOp3+eKksVCqVcLbb7cJZsVh8xTreGCrDQBkGyjBQhoEyDJRhoJKv/bvdbvJw6ueYv6bVaoWz5XIZzvr9/ivW8cZQGQbKMFCGgTIMlGGg/OPYm8ViEc4ajUY483H5nzEMlGGgDANlGCjDQCV/S0ZX5XI5nO33+5d8pzcGyjBQhoEyDJRhoAwD5eMylDcGyjBQhoEyDJRhoAwDZRgow0AZBsowUIaBMgyUYaAMA/UJjXxMP/Ut2UEAAAAASUVORK5CYII=\" y=\"-19.975064\"/>\n   </g>\n   <g id=\"matplotlib.axis_5\"/>\n   <g id=\"matplotlib.axis_6\"/>\n   <g id=\"patch_13\">\n    <path d=\"M 187.947059 93.415064 \nL 187.947059 20.038594 \n\" style=\"fill:none;stroke:#000000;stroke-linecap:square;stroke-linejoin:miter;stroke-width:0.8;\"/>\n   </g>\n   <g id=\"patch_14\">\n    <path d=\"M 261.323529 93.415064 \nL 261.323529 20.038594 \n\" style=\"fill:none;stroke:#000000;stroke-linecap:square;stroke-linejoin:miter;stroke-width:0.8;\"/>\n   </g>\n   <g id=\"patch_15\">\n    <path d=\"M 187.947059 93.415064 \nL 261.323529 93.415064 \n\" style=\"fill:none;stroke:#000000;stroke-linecap:square;stroke-linejoin:miter;stroke-width:0.8;\"/>\n   </g>\n   <g id=\"patch_16\">\n    <path d=\"M 187.947059 20.038594 \nL 261.323529 20.038594 \n\" style=\"fill:none;stroke:#000000;stroke-linecap:square;stroke-linejoin:miter;stroke-width:0.8;\"/>\n   </g>\n   <g id=\"text_3\">\n    <!-- label: 4 -->\n    <g transform=\"translate(207.942403 14.038594)scale(0.09 -0.09)\">\n     <defs>\n      <path d=\"M 2419 4116 \nL 825 1625 \nL 2419 1625 \nL 2419 4116 \nz\nM 2253 4666 \nL 3047 4666 \nL 3047 1625 \nL 3713 1625 \nL 3713 1100 \nL 3047 1100 \nL 3047 0 \nL 2419 0 \nL 2419 1100 \nL 313 1100 \nL 313 1709 \nL 2253 4666 \nz\n\" id=\"DejaVuSans-34\" transform=\"scale(0.015625)\"/>\n     </defs>\n     <use xlink:href=\"#DejaVuSans-6c\"/>\n     <use x=\"27.783203\" xlink:href=\"#DejaVuSans-61\"/>\n     <use x=\"89.0625\" xlink:href=\"#DejaVuSans-62\"/>\n     <use x=\"152.539062\" xlink:href=\"#DejaVuSans-65\"/>\n     <use x=\"214.0625\" xlink:href=\"#DejaVuSans-6c\"/>\n     <use x=\"241.845703\" xlink:href=\"#DejaVuSans-3a\"/>\n     <use x=\"275.537109\" xlink:href=\"#DejaVuSans-20\"/>\n     <use x=\"307.324219\" xlink:href=\"#DejaVuSans-34\"/>\n    </g>\n   </g>\n  </g>\n  <g id=\"axes_4\">\n   <g id=\"patch_17\">\n    <path d=\"M 10.7 181.466829 \nL 84.076471 181.466829 \nL 84.076471 108.090358 \nL 10.7 108.090358 \nz\n\" style=\"fill:#ffffff;\"/>\n   </g>\n   <g clip-path=\"url(#p9423285207)\">\n    <image height=\"73.44\" id=\"image7e5638768e\" transform=\"scale(1 -1)translate(0 -73.44)\" width=\"73.44\" x=\"10.7\" xlink:href=\"data:image/png;base64,\niVBORw0KGgoAAAANSUhEUgAAAGYAAABmCAYAAAA53+RiAAACAElEQVR4nO3dPYrCUBRA4ZfRwlaws/VnFxZCavfiPqzciQvQbSgi2NvY2SiZDcx9QozkTDhfe8nMGw4XooRMUVVVlYTz0/YB9DfDQBkGyjBQhoEyDJRhoAwDZRgow0AZBsowUIaBMgxUv41f2uv1wtlkMsleezqdmj4OkhsDZRgow0AZBsowUIaBauV2eTweh7Pr9Zq99vl8hrN+v5U/5yvcGCjDQBkGyjBQhoEyDFRBe6g8981zSikdDodwtlgsmj5Oa9wYKMNAGQbKMFCGgTIMFO52eTabZeeXyyWcvV6vpo/TGjcGyjBQhoEyDJRhoAwDZRgo3OeY+/2enQ+Hw3C2Xq/D2WazqXukVrgxUIaBMgyUYaAMA2UYKNzt8ju73S6crVarcPZ4PLI/dzAY1D7TN7gxUIaBMgyUYaAMA2UYqH93u5xTFEU4G41G2Wtvt1vTx/mIGwNlGCjDQBkGyjBQhoEyDFR3Xr6SUjqfz+FsPp9nr93v9+FsuVzWPlNdbgyUYaAMA2UYKMNAGQaqU7fLubecb7fb7LVlWYaz4/EYzqbT6fuD1eDGQBkGyjBQhoEyDJRhoDr1lMwnck/Y5P6Z0Lt339TlxkAZBsowUIaBMgyUYaA69e3yJ2ifGtwYKMNAGQbKMFCGgTIMlGGgDANlGCjDQBkGyjBQhoEyDNQvSk9Pk6bFqsgAAAAASUVORK5CYII=\" y=\"-108.026829\"/>\n   </g>\n   <g id=\"matplotlib.axis_7\"/>\n   <g id=\"matplotlib.axis_8\"/>\n   <g id=\"patch_18\">\n    <path d=\"M 10.7 181.466829 \nL 10.7 108.090358 \n\" style=\"fill:none;stroke:#000000;stroke-linecap:square;stroke-linejoin:miter;stroke-width:0.8;\"/>\n   </g>\n   <g id=\"patch_19\">\n    <path d=\"M 84.076471 181.466829 \nL 84.076471 108.090358 \n\" style=\"fill:none;stroke:#000000;stroke-linecap:square;stroke-linejoin:miter;stroke-width:0.8;\"/>\n   </g>\n   <g id=\"patch_20\">\n    <path d=\"M 10.7 181.466829 \nL 84.076471 181.466829 \n\" style=\"fill:none;stroke:#000000;stroke-linecap:square;stroke-linejoin:miter;stroke-width:0.8;\"/>\n   </g>\n   <g id=\"patch_21\">\n    <path d=\"M 10.7 108.090358 \nL 84.076471 108.090358 \n\" style=\"fill:none;stroke:#000000;stroke-linecap:square;stroke-linejoin:miter;stroke-width:0.8;\"/>\n   </g>\n   <g id=\"text_4\">\n    <!-- label: 1 -->\n    <g transform=\"translate(30.695345 102.090358)scale(0.09 -0.09)\">\n     <defs>\n      <path d=\"M 794 531 \nL 1825 531 \nL 1825 4091 \nL 703 3866 \nL 703 4441 \nL 1819 4666 \nL 2450 4666 \nL 2450 531 \nL 3481 531 \nL 3481 0 \nL 794 0 \nL 794 531 \nz\n\" id=\"DejaVuSans-31\" transform=\"scale(0.015625)\"/>\n     </defs>\n     <use xlink:href=\"#DejaVuSans-6c\"/>\n     <use x=\"27.783203\" xlink:href=\"#DejaVuSans-61\"/>\n     <use x=\"89.0625\" xlink:href=\"#DejaVuSans-62\"/>\n     <use x=\"152.539062\" xlink:href=\"#DejaVuSans-65\"/>\n     <use x=\"214.0625\" xlink:href=\"#DejaVuSans-6c\"/>\n     <use x=\"241.845703\" xlink:href=\"#DejaVuSans-3a\"/>\n     <use x=\"275.537109\" xlink:href=\"#DejaVuSans-20\"/>\n     <use x=\"307.324219\" xlink:href=\"#DejaVuSans-31\"/>\n    </g>\n   </g>\n  </g>\n  <g id=\"axes_5\">\n   <g id=\"patch_22\">\n    <path d=\"M 99.323529 181.466829 \nL 172.7 181.466829 \nL 172.7 108.090358 \nL 99.323529 108.090358 \nz\n\" style=\"fill:#ffffff;\"/>\n   </g>\n   <g clip-path=\"url(#p94f32b84eb)\">\n    <image height=\"73.44\" id=\"image676ca578bd\" transform=\"scale(1 -1)translate(0 -73.44)\" width=\"73.44\" x=\"99.323529\" xlink:href=\"data:image/png;base64,\niVBORw0KGgoAAAANSUhEUgAAAGYAAABmCAYAAAA53+RiAAAB/klEQVR4nO3cMZLBcBSA8cSoaTQUZhRuwBlcwQWcwzmoVCqFo+gdQKdRk73AvlcgySfz/do3yWTn2zdj/5NVVlVVFcLptf0A+p9hoAwDZRgow0AZBqrf9gN803q9DmeDwSC9dr/ff/txPuLGQBkGyjBQhoEyDJRhoAwDVXbp2L/Xi3/PXq9Xg0/yOTcGyjBQhoEyDJRhoAwD9XPH/ufzue1HaIQbA2UYKMNAGQbKMFCGgfJ0GcqNgTIMlGGgDANlGCjDQP3c6fL1eg1nHfrk78ZQGQbKMFCGgTIMlGGgDANV298xk8kknN1ut3BWlmV63+l0+va1v8SNgTIMlGGgDANlGCjDQNX2lsx4PA5nq9UqnB0Oh/S+9/s9nI1Go3C22WzS++52u3TeNDcGyjBQhoEyDJRhoAwDVdvp8rsnyLPZLL3vdrsNZ9mL49kL50WRf5xeLBbptXVwY6AMA2UYKMNAGQbKMFCGgWrlbf/n8xnOhsNheu3lcglnp9MpnGVfL18URbFcLsNZG/9F4MZAGQbKMFCGgTIMlGGgWvm4nB3BPx6P9Nrs2L/fj3+c4/GY3nc+n6fzprkxUIaBMgyUYaAMA2UYqE599WKXuDFQhoEyDJRhoAwDZRgow0AZBsowUIaBMgyUYaAMA2UYKMNAGQbKMFCGgTIMlGGgDAP1By5wTitmNf0yAAAAAElFTkSuQmCC\" y=\"-108.026829\"/>\n   </g>\n   <g id=\"matplotlib.axis_9\"/>\n   <g id=\"matplotlib.axis_10\"/>\n   <g id=\"patch_23\">\n    <path d=\"M 99.323529 181.466829 \nL 99.323529 108.090358 \n\" style=\"fill:none;stroke:#000000;stroke-linecap:square;stroke-linejoin:miter;stroke-width:0.8;\"/>\n   </g>\n   <g id=\"patch_24\">\n    <path d=\"M 172.7 181.466829 \nL 172.7 108.090358 \n\" style=\"fill:none;stroke:#000000;stroke-linecap:square;stroke-linejoin:miter;stroke-width:0.8;\"/>\n   </g>\n   <g id=\"patch_25\">\n    <path d=\"M 99.323529 181.466829 \nL 172.7 181.466829 \n\" style=\"fill:none;stroke:#000000;stroke-linecap:square;stroke-linejoin:miter;stroke-width:0.8;\"/>\n   </g>\n   <g id=\"patch_26\">\n    <path d=\"M 99.323529 108.090358 \nL 172.7 108.090358 \n\" style=\"fill:none;stroke:#000000;stroke-linecap:square;stroke-linejoin:miter;stroke-width:0.8;\"/>\n   </g>\n   <g id=\"text_5\">\n    <!-- label: 9 -->\n    <g transform=\"translate(119.318874 102.090358)scale(0.09 -0.09)\">\n     <defs>\n      <path d=\"M 703 97 \nL 703 672 \nQ 941 559 1184 500 \nQ 1428 441 1663 441 \nQ 2288 441 2617 861 \nQ 2947 1281 2994 2138 \nQ 2813 1869 2534 1725 \nQ 2256 1581 1919 1581 \nQ 1219 1581 811 2004 \nQ 403 2428 403 3163 \nQ 403 3881 828 4315 \nQ 1253 4750 1959 4750 \nQ 2769 4750 3195 4129 \nQ 3622 3509 3622 2328 \nQ 3622 1225 3098 567 \nQ 2575 -91 1691 -91 \nQ 1453 -91 1209 -44 \nQ 966 3 703 97 \nz\nM 1959 2075 \nQ 2384 2075 2632 2365 \nQ 2881 2656 2881 3163 \nQ 2881 3666 2632 3958 \nQ 2384 4250 1959 4250 \nQ 1534 4250 1286 3958 \nQ 1038 3666 1038 3163 \nQ 1038 2656 1286 2365 \nQ 1534 2075 1959 2075 \nz\n\" id=\"DejaVuSans-39\" transform=\"scale(0.015625)\"/>\n     </defs>\n     <use xlink:href=\"#DejaVuSans-6c\"/>\n     <use x=\"27.783203\" xlink:href=\"#DejaVuSans-61\"/>\n     <use x=\"89.0625\" xlink:href=\"#DejaVuSans-62\"/>\n     <use x=\"152.539062\" xlink:href=\"#DejaVuSans-65\"/>\n     <use x=\"214.0625\" xlink:href=\"#DejaVuSans-6c\"/>\n     <use x=\"241.845703\" xlink:href=\"#DejaVuSans-3a\"/>\n     <use x=\"275.537109\" xlink:href=\"#DejaVuSans-20\"/>\n     <use x=\"307.324219\" xlink:href=\"#DejaVuSans-39\"/>\n    </g>\n   </g>\n  </g>\n  <g id=\"axes_6\">\n   <g id=\"patch_27\">\n    <path d=\"M 187.947059 181.466829 \nL 261.323529 181.466829 \nL 261.323529 108.090358 \nL 187.947059 108.090358 \nz\n\" style=\"fill:#ffffff;\"/>\n   </g>\n   <g clip-path=\"url(#p76874decbc)\">\n    <image height=\"73.44\" id=\"image9eea51ce3e\" transform=\"scale(1 -1)translate(0 -73.44)\" width=\"73.44\" x=\"187.947059\" xlink:href=\"data:image/png;base64,\niVBORw0KGgoAAAANSUhEUgAAAGYAAABmCAYAAAA53+RiAAACbElEQVR4nO3csY4pARiG4bOik+h0CtyCygXQ6DXEJVC5CyqdKEioVBKJRhQ6l6EQCQUiJCJhu63O/28ys+LL5H3aLzOzm3cnGbvs1+v1ev2DnNinvwD8H2FEEUYUYUQRRhRhRBFGFGFEEUYUYUQRRhRhRBFGFGFEEUYUYUQRRhRhRBFGFGFEEUZUPMzBhULB3NbrdaBzDodDd69Wq+YWi0Xn5yw630nEEEYUYUQRRhRhRBFG1FeYN5VPp1Nzq9Vq5rbf782t2Wy61+z3++Z2Op3MLZlMuuf1rFYrc+v1euY2Go0CX5M7RhRhRBFGFGFEEUYUYUSFelz2dDodc2u1WuZ2u93c8z6fT3NLJBLm1u123fM2Gg1zq1Qq5tZut80tnU671/Rwx4gijCjCiCKMKMKIIowowoh62+sYz2azMbdsNuse6702OB6P5na9Xt3zDgYDc6vX6+6x78AdI4owoggjijCiCCOKMKI+8rgcxmQyMbfz+Wxu4/HYPa/3J4PZbPb7F/bHuGNEEUYUYUQRRhRhRBFG1Ecely+Xi7kdDgf32FwuF+ia8/nc3cvlsrl578x5F+4YUYQRRRhRhBFFGFGEEUUYUR95HbNYLMytVCoFPq/34djH4+Eem0qlzI3XMfhBGFGEEUUYUYQRRRhRcu+S+e3X/plMxty8D9bm83n3vNvt1tx2u5177Dtwx4gijCjCiCKMKMKIIowoucflMO73u7ktl0v32GKxaG7xeKh/6B4Id4wowogijCjCiCKMKMKIitTjcpRwx4gijCjCiCKMKMKIIowowogijCjCiCKMKMKIIowowogijKhv3X2OnRb2hJoAAAAASUVORK5CYII=\" y=\"-108.026829\"/>\n   </g>\n   <g id=\"matplotlib.axis_11\"/>\n   <g id=\"matplotlib.axis_12\"/>\n   <g id=\"patch_28\">\n    <path d=\"M 187.947059 181.466829 \nL 187.947059 108.090358 \n\" style=\"fill:none;stroke:#000000;stroke-linecap:square;stroke-linejoin:miter;stroke-width:0.8;\"/>\n   </g>\n   <g id=\"patch_29\">\n    <path d=\"M 261.323529 181.466829 \nL 261.323529 108.090358 \n\" style=\"fill:none;stroke:#000000;stroke-linecap:square;stroke-linejoin:miter;stroke-width:0.8;\"/>\n   </g>\n   <g id=\"patch_30\">\n    <path d=\"M 187.947059 181.466829 \nL 261.323529 181.466829 \n\" style=\"fill:none;stroke:#000000;stroke-linecap:square;stroke-linejoin:miter;stroke-width:0.8;\"/>\n   </g>\n   <g id=\"patch_31\">\n    <path d=\"M 187.947059 108.090358 \nL 261.323529 108.090358 \n\" style=\"fill:none;stroke:#000000;stroke-linecap:square;stroke-linejoin:miter;stroke-width:0.8;\"/>\n   </g>\n   <g id=\"text_6\">\n    <!-- label: 2 -->\n    <g transform=\"translate(207.942403 102.090358)scale(0.09 -0.09)\">\n     <defs>\n      <path d=\"M 1228 531 \nL 3431 531 \nL 3431 0 \nL 469 0 \nL 469 531 \nQ 828 903 1448 1529 \nQ 2069 2156 2228 2338 \nQ 2531 2678 2651 2914 \nQ 2772 3150 2772 3378 \nQ 2772 3750 2511 3984 \nQ 2250 4219 1831 4219 \nQ 1534 4219 1204 4116 \nQ 875 4013 500 3803 \nL 500 4441 \nQ 881 4594 1212 4672 \nQ 1544 4750 1819 4750 \nQ 2544 4750 2975 4387 \nQ 3406 4025 3406 3419 \nQ 3406 3131 3298 2873 \nQ 3191 2616 2906 2266 \nQ 2828 2175 2409 1742 \nQ 1991 1309 1228 531 \nz\n\" id=\"DejaVuSans-32\" transform=\"scale(0.015625)\"/>\n     </defs>\n     <use xlink:href=\"#DejaVuSans-6c\"/>\n     <use x=\"27.783203\" xlink:href=\"#DejaVuSans-61\"/>\n     <use x=\"89.0625\" xlink:href=\"#DejaVuSans-62\"/>\n     <use x=\"152.539062\" xlink:href=\"#DejaVuSans-65\"/>\n     <use x=\"214.0625\" xlink:href=\"#DejaVuSans-6c\"/>\n     <use x=\"241.845703\" xlink:href=\"#DejaVuSans-3a\"/>\n     <use x=\"275.537109\" xlink:href=\"#DejaVuSans-20\"/>\n     <use x=\"307.324219\" xlink:href=\"#DejaVuSans-32\"/>\n    </g>\n   </g>\n  </g>\n  <g id=\"axes_7\">\n   <g id=\"patch_32\">\n    <path d=\"M 10.7 269.518594 \nL 84.076471 269.518594 \nL 84.076471 196.142123 \nL 10.7 196.142123 \nz\n\" style=\"fill:#ffffff;\"/>\n   </g>\n   <g clip-path=\"url(#pb788f697c4)\">\n    <image height=\"73.44\" id=\"imageccbfca3058\" transform=\"scale(1 -1)translate(0 -73.44)\" width=\"73.44\" x=\"10.7\" xlink:href=\"data:image/png;base64,\niVBORw0KGgoAAAANSUhEUgAAAGYAAABmCAYAAAA53+RiAAABhklEQVR4nO3cu23CABRA0RilpWYRGtZjCoZgFeagRaLHWSAQybLlQ7intYweXJ5kvsM4juNXOJu1B8jvCoMqDKowqMKgCoMqDKowqMKgCoMqDKowqMKgCoP6XnuAOe33+6fHLpfLy3O1Tz/aGFRhUIVBFQZVGFRhUMN/+pbMZvP8efbX3dQehjYGVRhUYVCFQRUGVRjU2727fD6fJ513PB5nnmRZbQyqMKjCoAqDKgyqMKi3e3d5GIZJx67X68vb3e12k2daQhuDKgyqMKjCoAqDKgyqMKiPeR3zeDyWGGcxbQyqMKjCoAqDKgyqMKjCoAqDKgyqMKjCoAqDKgyqMKjCoAqDKgyqMKjCoAqDKgyK+3Hs/X6ffO7pdJpxknW1MajCoAqDKgyqMKjCoLjL5e12O/ncw+Ew4yTramNQhUEVBlUYVGFQhUFxl8u3223tEQhtDKowqMKgCoMqDKowqLf7y5JP0cagCoMqDKowqMKgCoMqDKowqMKgCoMqDKowqMKgCoP6AW2UMotl8+79AAAAAElFTkSuQmCC\" y=\"-196.078594\"/>\n   </g>\n   <g id=\"matplotlib.axis_13\"/>\n   <g id=\"matplotlib.axis_14\"/>\n   <g id=\"patch_33\">\n    <path d=\"M 10.7 269.518594 \nL 10.7 196.142123 \n\" style=\"fill:none;stroke:#000000;stroke-linecap:square;stroke-linejoin:miter;stroke-width:0.8;\"/>\n   </g>\n   <g id=\"patch_34\">\n    <path d=\"M 84.076471 269.518594 \nL 84.076471 196.142123 \n\" style=\"fill:none;stroke:#000000;stroke-linecap:square;stroke-linejoin:miter;stroke-width:0.8;\"/>\n   </g>\n   <g id=\"patch_35\">\n    <path d=\"M 10.7 269.518594 \nL 84.076471 269.518594 \n\" style=\"fill:none;stroke:#000000;stroke-linecap:square;stroke-linejoin:miter;stroke-width:0.8;\"/>\n   </g>\n   <g id=\"patch_36\">\n    <path d=\"M 10.7 196.142123 \nL 84.076471 196.142123 \n\" style=\"fill:none;stroke:#000000;stroke-linecap:square;stroke-linejoin:miter;stroke-width:0.8;\"/>\n   </g>\n   <g id=\"text_7\">\n    <!-- label: 1 -->\n    <g transform=\"translate(30.695345 190.142123)scale(0.09 -0.09)\">\n     <use xlink:href=\"#DejaVuSans-6c\"/>\n     <use x=\"27.783203\" xlink:href=\"#DejaVuSans-61\"/>\n     <use x=\"89.0625\" xlink:href=\"#DejaVuSans-62\"/>\n     <use x=\"152.539062\" xlink:href=\"#DejaVuSans-65\"/>\n     <use x=\"214.0625\" xlink:href=\"#DejaVuSans-6c\"/>\n     <use x=\"241.845703\" xlink:href=\"#DejaVuSans-3a\"/>\n     <use x=\"275.537109\" xlink:href=\"#DejaVuSans-20\"/>\n     <use x=\"307.324219\" xlink:href=\"#DejaVuSans-31\"/>\n    </g>\n   </g>\n  </g>\n  <g id=\"axes_8\">\n   <g id=\"patch_37\">\n    <path d=\"M 99.323529 269.518594 \nL 172.7 269.518594 \nL 172.7 196.142123 \nL 99.323529 196.142123 \nz\n\" style=\"fill:#ffffff;\"/>\n   </g>\n   <g clip-path=\"url(#p7a26e804bb)\">\n    <image height=\"73.44\" id=\"imagea9e1efbb31\" transform=\"scale(1 -1)translate(0 -73.44)\" width=\"73.44\" x=\"99.323529\" xlink:href=\"data:image/png;base64,\niVBORw0KGgoAAAANSUhEUgAAAGYAAABmCAYAAAA53+RiAAACKklEQVR4nO3bMYoiQRhA4RldEBNzEUy8gJlnMBM11cDzeARDQ1EMDDyAoeIJjAwNBRFENxjYaP/apXt7fLDvS3+qu+BNQc3Q8/l6vV4fwim9ewP6PcNAGQbKMFCGgTIMlGGgDANlGCjDQBkGyjBQhoEyDNSPPIvP53M4azabeR4d6nQ64Wy5XIazer1exHYK44mBMgyUYaAMA2UYKMNA5bouD4fDTOum02nmd67X63DWaDTCWb/fTz53sVhk3lMRPDFQhoEyDJRhoAwDZRioz6I+Kj8ej+Gs3W4X8cqP7XYbzrrdbnLt4XAIZ0XtN8UTA2UYKMNAGQbKMFCGgSrsukxTKqV/Br0u668YBsowUIaBMgyUYaAMA5XrK5msWq1WODudTt+4Ey5PDJRhoAwDZRgow0AZBuot1+X9fh/ORqNR5uduNpvMa1P/T+qf/fWLYaAMA2UYKMNAGQbqv/lKZjAYJOer1Sqc3W63cFapVDLvKcUTA2UYKMNAGQbKMFCGgTIM1Ft+j3k+n+Hser0m19ZqtUzvvN/vyXm1Wg1nk8kknM1ms0z7+RNPDJRhoAwDZRgow0AZBuot1+XxeBzO5vP5N+4kv9TVPw9PDJRhoAwDZRgow0AZBgr3lczlcknOd7tdOOv1ev94N18ej0c4K5fLhbzTEwNlGCjDQBkGyjBQhoHCXZf1xRMDZRgow0AZBsowUIaBMgyUYaAMA2UYKMNAGQbKMFCGgfoJJDJnhyfiUHgAAAAASUVORK5CYII=\" y=\"-196.078594\"/>\n   </g>\n   <g id=\"matplotlib.axis_15\"/>\n   <g id=\"matplotlib.axis_16\"/>\n   <g id=\"patch_38\">\n    <path d=\"M 99.323529 269.518594 \nL 99.323529 196.142123 \n\" style=\"fill:none;stroke:#000000;stroke-linecap:square;stroke-linejoin:miter;stroke-width:0.8;\"/>\n   </g>\n   <g id=\"patch_39\">\n    <path d=\"M 172.7 269.518594 \nL 172.7 196.142123 \n\" style=\"fill:none;stroke:#000000;stroke-linecap:square;stroke-linejoin:miter;stroke-width:0.8;\"/>\n   </g>\n   <g id=\"patch_40\">\n    <path d=\"M 99.323529 269.518594 \nL 172.7 269.518594 \n\" style=\"fill:none;stroke:#000000;stroke-linecap:square;stroke-linejoin:miter;stroke-width:0.8;\"/>\n   </g>\n   <g id=\"patch_41\">\n    <path d=\"M 99.323529 196.142123 \nL 172.7 196.142123 \n\" style=\"fill:none;stroke:#000000;stroke-linecap:square;stroke-linejoin:miter;stroke-width:0.8;\"/>\n   </g>\n   <g id=\"text_8\">\n    <!-- label: 3 -->\n    <g transform=\"translate(119.318874 190.142123)scale(0.09 -0.09)\">\n     <defs>\n      <path d=\"M 2597 2516 \nQ 3050 2419 3304 2112 \nQ 3559 1806 3559 1356 \nQ 3559 666 3084 287 \nQ 2609 -91 1734 -91 \nQ 1441 -91 1130 -33 \nQ 819 25 488 141 \nL 488 750 \nQ 750 597 1062 519 \nQ 1375 441 1716 441 \nQ 2309 441 2620 675 \nQ 2931 909 2931 1356 \nQ 2931 1769 2642 2001 \nQ 2353 2234 1838 2234 \nL 1294 2234 \nL 1294 2753 \nL 1863 2753 \nQ 2328 2753 2575 2939 \nQ 2822 3125 2822 3475 \nQ 2822 3834 2567 4026 \nQ 2313 4219 1838 4219 \nQ 1578 4219 1281 4162 \nQ 984 4106 628 3988 \nL 628 4550 \nQ 988 4650 1302 4700 \nQ 1616 4750 1894 4750 \nQ 2613 4750 3031 4423 \nQ 3450 4097 3450 3541 \nQ 3450 3153 3228 2886 \nQ 3006 2619 2597 2516 \nz\n\" id=\"DejaVuSans-33\" transform=\"scale(0.015625)\"/>\n     </defs>\n     <use xlink:href=\"#DejaVuSans-6c\"/>\n     <use x=\"27.783203\" xlink:href=\"#DejaVuSans-61\"/>\n     <use x=\"89.0625\" xlink:href=\"#DejaVuSans-62\"/>\n     <use x=\"152.539062\" xlink:href=\"#DejaVuSans-65\"/>\n     <use x=\"214.0625\" xlink:href=\"#DejaVuSans-6c\"/>\n     <use x=\"241.845703\" xlink:href=\"#DejaVuSans-3a\"/>\n     <use x=\"275.537109\" xlink:href=\"#DejaVuSans-20\"/>\n     <use x=\"307.324219\" xlink:href=\"#DejaVuSans-33\"/>\n    </g>\n   </g>\n  </g>\n  <g id=\"axes_9\">\n   <g id=\"patch_42\">\n    <path d=\"M 187.947059 269.518594 \nL 261.323529 269.518594 \nL 261.323529 196.142123 \nL 187.947059 196.142123 \nz\n\" style=\"fill:#ffffff;\"/>\n   </g>\n   <g clip-path=\"url(#pd5e05f429d)\">\n    <image height=\"73.44\" id=\"image2fd03f90b7\" transform=\"scale(1 -1)translate(0 -73.44)\" width=\"73.44\" x=\"187.947059\" xlink:href=\"data:image/png;base64,\niVBORw0KGgoAAAANSUhEUgAAAGYAAABmCAYAAAA53+RiAAABmElEQVR4nO3bvY2EMBQA4fPpxF8LZJQIvdAIVVACAXUQcg2sSRab8e58qZO3Gj3JiyCc53n+COf36QH0mmGgDANlGCjDQBkGyjBQhoEyDJRhoAwDZRgow0AZBurv6QHu1LZt9Ow4joyTvM+NgTIMlGGgDANlGCjDQH3UdblpmqdHuI0bA2UYKMNAGQbKMFCGgQqf9FJ5CCF6VtrPdGOgDANlGCjDQBkGyjBQxT1dXtc1etZ1XcZJ0nJjoAwDZRgow0AZBsowUIaBKu5/zDzP0bOqqjJOkpYbA2UYKMNAGQbKMFCGgSruunxlmqanR7iNGwNlGCjDQBkGyjBQhoEq7rq8LEv0bBzHjJOk5cZAGQbKMFCGgTIMlGGgDANV3MexVx/A7vsePRuGIcU4ybgxUIaBMgyUYaAMA2UYqOIe+1+p6/rpEW7jxkAZBsowUIaBMgyUYaCKuy5v2xY96/s+4yRpuTFQhoEyDJRhoAwDZRio4l7G+BZuDJRhoAwDZRgow0AZBsowUIaBMgyUYaAMA2UYKMNAGQbqH8oVJeeLk1JgAAAAAElFTkSuQmCC\" y=\"-196.078594\"/>\n   </g>\n   <g id=\"matplotlib.axis_17\"/>\n   <g id=\"matplotlib.axis_18\"/>\n   <g id=\"patch_43\">\n    <path d=\"M 187.947059 269.518594 \nL 187.947059 196.142123 \n\" style=\"fill:none;stroke:#000000;stroke-linecap:square;stroke-linejoin:miter;stroke-width:0.8;\"/>\n   </g>\n   <g id=\"patch_44\">\n    <path d=\"M 261.323529 269.518594 \nL 261.323529 196.142123 \n\" style=\"fill:none;stroke:#000000;stroke-linecap:square;stroke-linejoin:miter;stroke-width:0.8;\"/>\n   </g>\n   <g id=\"patch_45\">\n    <path d=\"M 187.947059 269.518594 \nL 261.323529 269.518594 \n\" style=\"fill:none;stroke:#000000;stroke-linecap:square;stroke-linejoin:miter;stroke-width:0.8;\"/>\n   </g>\n   <g id=\"patch_46\">\n    <path d=\"M 187.947059 196.142123 \nL 261.323529 196.142123 \n\" style=\"fill:none;stroke:#000000;stroke-linecap:square;stroke-linejoin:miter;stroke-width:0.8;\"/>\n   </g>\n   <g id=\"text_9\">\n    <!-- label: 1 -->\n    <g transform=\"translate(207.942403 190.142123)scale(0.09 -0.09)\">\n     <use xlink:href=\"#DejaVuSans-6c\"/>\n     <use x=\"27.783203\" xlink:href=\"#DejaVuSans-61\"/>\n     <use x=\"89.0625\" xlink:href=\"#DejaVuSans-62\"/>\n     <use x=\"152.539062\" xlink:href=\"#DejaVuSans-65\"/>\n     <use x=\"214.0625\" xlink:href=\"#DejaVuSans-6c\"/>\n     <use x=\"241.845703\" xlink:href=\"#DejaVuSans-3a\"/>\n     <use x=\"275.537109\" xlink:href=\"#DejaVuSans-20\"/>\n     <use x=\"307.324219\" xlink:href=\"#DejaVuSans-31\"/>\n    </g>\n   </g>\n  </g>\n </g>\n <defs>\n  <clipPath id=\"pd4141206a5\">\n   <rect height=\"73.376471\" width=\"73.376471\" x=\"10.7\" y=\"20.038594\"/>\n  </clipPath>\n  <clipPath id=\"pd7b99b3d34\">\n   <rect height=\"73.376471\" width=\"73.376471\" x=\"99.323529\" y=\"20.038594\"/>\n  </clipPath>\n  <clipPath id=\"p284254bb77\">\n   <rect height=\"73.376471\" width=\"73.376471\" x=\"187.947059\" y=\"20.038594\"/>\n  </clipPath>\n  <clipPath id=\"p9423285207\">\n   <rect height=\"73.376471\" width=\"73.376471\" x=\"10.7\" y=\"108.090358\"/>\n  </clipPath>\n  <clipPath id=\"p94f32b84eb\">\n   <rect height=\"73.376471\" width=\"73.376471\" x=\"99.323529\" y=\"108.090358\"/>\n  </clipPath>\n  <clipPath id=\"p76874decbc\">\n   <rect height=\"73.376471\" width=\"73.376471\" x=\"187.947059\" y=\"108.090358\"/>\n  </clipPath>\n  <clipPath id=\"pb788f697c4\">\n   <rect height=\"73.376471\" width=\"73.376471\" x=\"10.7\" y=\"196.142123\"/>\n  </clipPath>\n  <clipPath id=\"p7a26e804bb\">\n   <rect height=\"73.376471\" width=\"73.376471\" x=\"99.323529\" y=\"196.142123\"/>\n  </clipPath>\n  <clipPath id=\"pd5e05f429d\">\n   <rect height=\"73.376471\" width=\"73.376471\" x=\"187.947059\" y=\"196.142123\"/>\n  </clipPath>\n </defs>\n</svg>\n",
      "text/plain": [
       "<Figure size 450x450 with 9 Axes>"
      ]
     },
     "metadata": {},
     "output_type": "display_data"
    }
   ],
   "source": [
    "set_figsize((4.5,4.5))\n",
    "\n",
    "show_img_grid(\n",
    "    [train_images_scaled[i].reshape(new_shape) for i in range(9)],\n",
    "    [f\"label: {jnp.argmax(train_labels[i])}\" for i in range(9)]\n",
    ")"
   ]
  },
  {
   "cell_type": "markdown",
   "id": "76114d82",
   "metadata": {},
   "source": [
    "# Feature Map"
   ]
  },
  {
   "cell_type": "code",
   "execution_count": 17,
   "id": "725a1acd",
   "metadata": {},
   "outputs": [],
   "source": [
    "def feature_map(x):\n",
    "    \"\"\"Definine a feature map per pixel\"\"\"\n",
    "    return jnp.array([\n",
    "        jnp.cos(0.5*jnp.pi*x), \n",
    "        jnp.sin(0.5*jnp.pi*x)\n",
    "    ])"
   ]
  },
  {
   "cell_type": "code",
   "execution_count": 18,
   "id": "b7474f74",
   "metadata": {},
   "outputs": [],
   "source": [
    "train_data = jax.vmap(feature_map)(train_images_scaled).transpose(0,2,1)  # exchanging axes for convenience\n",
    "test_data = jax.vmap(feature_map)(test_images_scaled).transpose(0,2,1)    # same as above"
   ]
  },
  {
   "cell_type": "code",
   "execution_count": 19,
   "id": "8ec309fc",
   "metadata": {},
   "outputs": [
    {
     "name": "stdout",
     "output_type": "stream",
     "text": [
      "Train data shape: (60000, 196, 2) | Test data shape: (10000, 196, 2)\n"
     ]
    }
   ],
   "source": [
    "print(f'Train data shape: {train_data.shape} | Test data shape: {test_data.shape}')"
   ]
  },
  {
   "cell_type": "markdown",
   "id": "06c26e10",
   "metadata": {},
   "source": [
    "## MPS Utilities"
   ]
  },
  {
   "cell_type": "code",
   "execution_count": 20,
   "id": "8b532962",
   "metadata": {},
   "outputs": [],
   "source": [
    "def random_mps(\n",
    "    key: PRNGKeyArray,\n",
    "    size: int,\n",
    "    local_dim: int,\n",
    "    bond_dim: int,\n",
    "    num_labels: int,\n",
    "    dtype: Optional[jnp.double]=jnp.double\n",
    "    ) -> List[DeviceArray]:\n",
    "    \"\"\"\n",
    "    Generate a random MPS where each core tensor\n",
    "    is drawn i.i.d. from a uniform distribution \n",
    "    between -1 and 1.\n",
    "\n",
    "    Input:\n",
    "    ------\n",
    "    key:        The random key.\n",
    "    size:       The size (length) of an MPS.\n",
    "    local_dim:  The local dimension size.\n",
    "    bond_dim:   The bond dimension size.\n",
    "    dtype:      The type of data to return.\n",
    "    \"\"\"\n",
    "    # initialize MPS data collection\n",
    "    mps = []\n",
    "     \n",
    "    for i in range(size):\n",
    "        key, _ = jax.random.split(key)\n",
    "        if i == 0:  # left most tensor\n",
    "            tensor = jax.random.uniform(\n",
    "                key, shape=(1, local_dim, bond_dim, num_labels), minval=-1, maxval=1, dtype=dtype)\n",
    "        elif i == size-1:  # right most tensor\n",
    "            tensor = jax.random.uniform(\n",
    "                key, shape=(bond_dim, local_dim, 1), minval=-1, maxval=1, dtype=dtype)\n",
    "        else:  # middle tensors\n",
    "            tensor = jax.random.uniform(\n",
    "                key, shape=(bond_dim, local_dim, bond_dim), minval=-1, maxval=1, dtype=dtype)\n",
    "        mps.append(tensor)\n",
    "\n",
    "    return mps"
   ]
  },
  {
   "cell_type": "code",
   "execution_count": 21,
   "id": "7b285e3c",
   "metadata": {},
   "outputs": [],
   "source": [
    "key = jax.random.PRNGKey(seed)\n",
    "\n",
    "# Spliting the key\n",
    "key_params, key_run = jax.random.split(key, num=2)\n",
    "\n",
    "# getting the parameters\n",
    "num_samples, num_features, dim_features = train_data.shape\n",
    "num_labels = train_labels.shape[1]\n",
    "\n",
    "# mps weight initialiser\n",
    "initializer = jax.nn.initializers.glorot_uniform()\n",
    "\n",
    "# generating a random MPS according to the initialiser\n",
    "mps = random_mps(key, num_features, dim_features, bond_dim, num_labels)"
   ]
  },
  {
   "cell_type": "code",
   "execution_count": 22,
   "id": "809304a2",
   "metadata": {},
   "outputs": [
    {
     "name": "stdout",
     "output_type": "stream",
     "text": [
      "The MPS dimensions: size=196, local_dim=2, bond_dim=10\n",
      "Total number of paramters: 39200\n"
     ]
    }
   ],
   "source": [
    "print(f'The MPS dimensions: size={num_features}, local_dim={dim_features}, bond_dim={bond_dim}')\n",
    "print(f'Total number of paramters: {bond_dim**2 * dim_features * num_features}')"
   ]
  },
  {
   "cell_type": "markdown",
   "id": "6285f566",
   "metadata": {},
   "source": [
    "# Bond Truncation"
   ]
  },
  {
   "cell_type": "code",
   "execution_count": 23,
   "id": "a70507ef",
   "metadata": {},
   "outputs": [],
   "source": [
    "@jax.jit\n",
    "def suggest_truncation(\n",
    "        s: jnp.ndarray,\n",
    "        tol: Optional[float]=1e-3  # truncation error tolerance\n",
    "    ) -> Tuple[jnp.ndarray, jnp.ndarray, int]:\n",
    "    \"\"\"\n",
    "    Suggest a truncation index of the spectrum.\n",
    "    The spectrum is assumed to be in the decreasing order.\n",
    "    \"\"\"\n",
    "    cs = jnp.cumsum(s/s.sum())\n",
    "    return jnp.searchsorted(cs, 1-tol)\n"
   ]
  },
  {
   "cell_type": "markdown",
   "id": "e72bb275",
   "metadata": {},
   "source": [
    "# Training"
   ]
  },
  {
   "cell_type": "markdown",
   "id": "b719715a",
   "metadata": {},
   "source": [
    "Precompute data to reduce complexity - see last paragraph on p.4 for more details. Note, as we start from the left most pair of sites, only the right part, i.e. the \"right wings\", are precomputed - hence starting from from the positin 2."
   ]
  },
  {
   "cell_type": "code",
   "execution_count": 24,
   "id": "1790c59d",
   "metadata": {},
   "outputs": [],
   "source": [
    "def project(mps, sample):\n",
    "    \"\"\"Project samples onto the mps sites.\"\"\"\n",
    "    mult = lambda tᵢ, xᵢ: jnp.einsum('piq,i->pq', tᵢ, xᵢ)\n",
    "    return jax.tree_multimap(mult, mps, list(sample))\n",
    "\n",
    "@jit\n",
    "def compute_right_wings(mps, train_data):\n",
    "    # get the projections of sample onto the mps sites\n",
    "    # start with 2 as the first pair of indices are occupied by the bond tensor B\n",
    "    right_projs = jax.vmap(partial(project, mps[2:]))(train_data[:,2:,:])\n",
    "    # helper to contract neighbouring sites (watch the order in the lambda func!)\n",
    "    mult = lambda x, y: jnp.einsum('mpi,miq->mpq', y, x)\n",
    "    # get the cumulative products computed from left to right\n",
    "    cum_prods = accumulate(right_projs[::-1], mult)\n",
    "    # reverse before return so the indexing is natural again\n",
    "    # unfortunately we can't access the iterator accumulate backwords\n",
    "    return list(x.squeeze() for x in cum_prods)[::-1]"
   ]
  },
  {
   "cell_type": "code",
   "execution_count": 25,
   "id": "73f69d04",
   "metadata": {},
   "outputs": [],
   "source": [
    "# a precomputed list of all right wings\n",
    "# see last paragraph on p.4 for the motivation\n",
    "right_wings = compute_right_wings(mps, train_data)"
   ]
  },
  {
   "cell_type": "code",
   "execution_count": 26,
   "id": "9b75247b",
   "metadata": {},
   "outputs": [],
   "source": [
    "def cross_entropy(preds, targets):\n",
    "    \"\"\"Multinomial cross entropy\"\"\"\n",
    "    return -jnp.mean(jnp.sum(preds * targets, axis=1))\n",
    "\n",
    "def loss(B: DeviceArray, data: Tuple[DeviceArray, DeviceArray]):\n",
    "    \"\"\"A modified loss function\"\"\"\n",
    "    inputs, targets = data\n",
    "    preds = jnp.einsum('pijql,mpijq->ml', B, inputs)\n",
    "    logprobas = jax.nn.log_softmax(preds, axis=1)\n",
    "    return cross_entropy(logprobas, targets)\n",
    "\n",
    "# def loss(B: DeviceArray, data: Tuple[DeviceArray, DeviceArray]):\n",
    "#     \"\"\"Loss function with respect to B - Fig.7a\"\"\"\n",
    "#     inputs, targets = data\n",
    "#     preds = jnp.einsum('pijql,mpijq->ml', B, inputs)\n",
    "#     err = (targets - preds) ** 2\n",
    "#     return jnp.sqrt(0.5 * jnp.sum(err))\n",
    "#     # return 0.5 * jnp.mean(jnp.log(jnp.power(err, 2) + 1))"
   ]
  },
  {
   "cell_type": "code",
   "execution_count": 27,
   "id": "b710e7ef",
   "metadata": {},
   "outputs": [
    {
     "name": "stdout",
     "output_type": "stream",
     "text": [
      "Updated site: 0    \t|\tLoss: 1.24e+95  \t|\tBond Dim: 10   \n",
      "Updated site: 1    \t|\tLoss: 8.75e+94  \t|\tBond Dim: 10   \n",
      "Updated site: 2    \t|\tLoss: 6.54e+94  \t|\tBond Dim: 10   \n",
      "Updated site: 3    \t|\tLoss: 1.36e+95  \t|\tBond Dim: 5    \n",
      "Updated site: 4    \t|\tLoss: 4.51e+94  \t|\tBond Dim: 7    \n",
      "Updated site: 5    \t|\tLoss: 5.25e+94  \t|\tBond Dim: 10   \n",
      "Updated site: 6    \t|\tLoss: 7.81e+94  \t|\tBond Dim: 13   \n",
      "Updated site: 7    \t|\tLoss: 1.62e+95  \t|\tBond Dim: 13   \n",
      "Updated site: 8    \t|\tLoss: 1.46e+95  \t|\tBond Dim: 13   \n",
      "Updated site: 9    \t|\tLoss: 1.94e+95  \t|\tBond Dim: 13   \n",
      "Updated site: 10   \t|\tLoss: 7.09e+94  \t|\tBond Dim: 12   \n",
      "Updated site: 11   \t|\tLoss: 5.12e+94  \t|\tBond Dim: 11   \n",
      "Updated site: 12   \t|\tLoss: 1.17e+95  \t|\tBond Dim: 10   \n",
      "Updated site: 13   \t|\tLoss: 1.13e+95  \t|\tBond Dim: 9    \n",
      "Updated site: 14   \t|\tLoss: 8.17e+94  \t|\tBond Dim: 9    \n",
      "Updated site: 15   \t|\tLoss: 1.38e+95  \t|\tBond Dim: 9    \n",
      "Updated site: 16   \t|\tLoss: 1.25e+95  \t|\tBond Dim: 9    \n",
      "Updated site: 17   \t|\tLoss: 2.02e+95  \t|\tBond Dim: 9    \n",
      "Updated site: 18   \t|\tLoss: 9.37e+94  \t|\tBond Dim: 9    \n",
      "Updated site: 19   \t|\tLoss: 1.16e+95  \t|\tBond Dim: 9    \n",
      "Updated site: 20   \t|\tLoss: 2.66e+95  \t|\tBond Dim: 9    \n",
      "Updated site: 21   \t|\tLoss: 1.92e+95  \t|\tBond Dim: 9    \n",
      "Updated site: 22   \t|\tLoss: 1.34e+95  \t|\tBond Dim: 9    \n",
      "Updated site: 23   \t|\tLoss: 1.42e+95  \t|\tBond Dim: 9    \n",
      "Updated site: 24   \t|\tLoss: 1.11e+95  \t|\tBond Dim: 9    \n",
      "Updated site: 25   \t|\tLoss: 7.31e+94  \t|\tBond Dim: 9    \n",
      "Updated site: 26   \t|\tLoss: 2.89e+95  \t|\tBond Dim: 9    \n",
      "Updated site: 27   \t|\tLoss: 4.59e+95  \t|\tBond Dim: 9    \n",
      "Updated site: 28   \t|\tLoss: 3.04e+95  \t|\tBond Dim: 9    \n",
      "Updated site: 29   \t|\tLoss: 9.51e+94  \t|\tBond Dim: 9    \n",
      "Updated site: 30   \t|\tLoss: 1.01e+95  \t|\tBond Dim: 9    \n",
      "Updated site: 31   \t|\tLoss: 1.20e+95  \t|\tBond Dim: 9    \n",
      "Updated site: 32   \t|\tLoss: 2.11e+95  \t|\tBond Dim: 9    \n",
      "Updated site: 33   \t|\tLoss: 1.45e+95  \t|\tBond Dim: 9    \n",
      "Updated site: 34   \t|\tLoss: 1.10e+95  \t|\tBond Dim: 9    \n",
      "Updated site: 35   \t|\tLoss: 7.83e+94  \t|\tBond Dim: 9    \n",
      "Updated site: 36   \t|\tLoss: 6.81e+94  \t|\tBond Dim: 9    \n",
      "Updated site: 37   \t|\tLoss: 7.61e+94  \t|\tBond Dim: 9    \n",
      "Updated site: 38   \t|\tLoss: 1.55e+95  \t|\tBond Dim: 9    \n",
      "Updated site: 39   \t|\tLoss: 6.38e+94  \t|\tBond Dim: 9    \n",
      "Updated site: 40   \t|\tLoss: 1.03e+95  \t|\tBond Dim: 9    \n",
      "Updated site: 41   \t|\tLoss: 8.47e+94  \t|\tBond Dim: 9    \n",
      "Updated site: 42   \t|\tLoss: 1.03e+95  \t|\tBond Dim: 9    \n",
      "Updated site: 43   \t|\tLoss: 9.51e+94  \t|\tBond Dim: 9    \n",
      "Updated site: 44   \t|\tLoss: 1.07e+95  \t|\tBond Dim: 9    \n",
      "Updated site: 45   \t|\tLoss: 1.37e+95  \t|\tBond Dim: 9    \n",
      "Updated site: 46   \t|\tLoss: 1.32e+95  \t|\tBond Dim: 9    \n",
      "Updated site: 47   \t|\tLoss: 1.26e+95  \t|\tBond Dim: 9    \n",
      "Updated site: 48   \t|\tLoss: 1.16e+95  \t|\tBond Dim: 9    \n",
      "Updated site: 49   \t|\tLoss: 1.09e+95  \t|\tBond Dim: 9    \n",
      "Updated site: 50   \t|\tLoss: 1.07e+95  \t|\tBond Dim: 9    \n",
      "Updated site: 51   \t|\tLoss: 1.01e+95  \t|\tBond Dim: 9    \n",
      "Updated site: 52   \t|\tLoss: 9.87e+94  \t|\tBond Dim: 9    \n",
      "Updated site: 53   \t|\tLoss: 1.50e+95  \t|\tBond Dim: 9    \n",
      "Updated site: 54   \t|\tLoss: 1.10e+95  \t|\tBond Dim: 9    \n",
      "Updated site: 55   \t|\tLoss: 1.34e+95  \t|\tBond Dim: 9    \n",
      "Updated site: 56   \t|\tLoss: 1.70e+95  \t|\tBond Dim: 9    \n",
      "Updated site: 57   \t|\tLoss: 1.22e+95  \t|\tBond Dim: 9    \n",
      "Updated site: 58   \t|\tLoss: 1.49e+95  \t|\tBond Dim: 9    \n",
      "Updated site: 59   \t|\tLoss: 8.10e+94  \t|\tBond Dim: 8    \n",
      "Updated site: 60   \t|\tLoss: 9.35e+94  \t|\tBond Dim: 9    \n",
      "Updated site: 61   \t|\tLoss: 9.48e+94  \t|\tBond Dim: 9    \n",
      "Updated site: 62   \t|\tLoss: 9.29e+94  \t|\tBond Dim: 9    \n",
      "Updated site: 63   \t|\tLoss: 8.93e+94  \t|\tBond Dim: 9    \n",
      "Updated site: 64   \t|\tLoss: 7.67e+94  \t|\tBond Dim: 9    \n",
      "Updated site: 65   \t|\tLoss: 1.04e+95  \t|\tBond Dim: 9    \n",
      "Updated site: 66   \t|\tLoss: 1.11e+95  \t|\tBond Dim: 9    \n",
      "Updated site: 67   \t|\tLoss: 9.60e+94  \t|\tBond Dim: 9    \n",
      "Updated site: 68   \t|\tLoss: 9.68e+94  \t|\tBond Dim: 9    \n",
      "Updated site: 69   \t|\tLoss: 7.90e+94  \t|\tBond Dim: 9    \n",
      "Updated site: 70   \t|\tLoss: 9.73e+94  \t|\tBond Dim: 9    \n",
      "Updated site: 71   \t|\tLoss: 1.00e+95  \t|\tBond Dim: 9    \n",
      "Updated site: 72   \t|\tLoss: 8.15e+94  \t|\tBond Dim: 9    \n",
      "Updated site: 73   \t|\tLoss: 9.02e+94  \t|\tBond Dim: 8    \n",
      "Updated site: 74   \t|\tLoss: 9.74e+94  \t|\tBond Dim: 9    \n",
      "Updated site: 75   \t|\tLoss: 9.22e+94  \t|\tBond Dim: 9    \n",
      "Updated site: 76   \t|\tLoss: 9.59e+94  \t|\tBond Dim: 9    \n",
      "Updated site: 77   \t|\tLoss: 1.03e+95  \t|\tBond Dim: 9    \n",
      "Updated site: 78   \t|\tLoss: 1.03e+95  \t|\tBond Dim: 9    \n",
      "Updated site: 79   \t|\tLoss: 9.64e+94  \t|\tBond Dim: 9    \n",
      "Updated site: 80   \t|\tLoss: 1.01e+95  \t|\tBond Dim: 9    \n",
      "Updated site: 81   \t|\tLoss: 1.14e+95  \t|\tBond Dim: 9    \n",
      "Updated site: 82   \t|\tLoss: 9.58e+94  \t|\tBond Dim: 9    \n",
      "Updated site: 83   \t|\tLoss: 8.31e+94  \t|\tBond Dim: 9    \n",
      "Updated site: 84   \t|\tLoss: 7.64e+94  \t|\tBond Dim: 9    \n",
      "Updated site: 85   \t|\tLoss: 9.09e+94  \t|\tBond Dim: 9    \n",
      "Updated site: 86   \t|\tLoss: 1.02e+95  \t|\tBond Dim: 9    \n",
      "Updated site: 87   \t|\tLoss: 1.05e+95  \t|\tBond Dim: 9    \n",
      "Updated site: 88   \t|\tLoss: 8.77e+94  \t|\tBond Dim: 9    \n",
      "Updated site: 89   \t|\tLoss: 1.08e+95  \t|\tBond Dim: 9    \n",
      "Updated site: 90   \t|\tLoss: 9.53e+94  \t|\tBond Dim: 9    \n",
      "Updated site: 91   \t|\tLoss: 9.64e+94  \t|\tBond Dim: 9    \n",
      "Updated site: 92   \t|\tLoss: 7.63e+94  \t|\tBond Dim: 9    \n",
      "Updated site: 93   \t|\tLoss: 9.90e+94  \t|\tBond Dim: 9    \n",
      "Updated site: 94   \t|\tLoss: 1.09e+95  \t|\tBond Dim: 9    \n",
      "Updated site: 95   \t|\tLoss: 8.27e+94  \t|\tBond Dim: 9    \n",
      "Updated site: 96   \t|\tLoss: 1.42e+95  \t|\tBond Dim: 9    \n",
      "Updated site: 97   \t|\tLoss: 1.22e+95  \t|\tBond Dim: 9    \n",
      "Updated site: 98   \t|\tLoss: 6.72e+94  \t|\tBond Dim: 9    \n",
      "Updated site: 99   \t|\tLoss: 7.37e+94  \t|\tBond Dim: 9    \n",
      "Updated site: 100  \t|\tLoss: 1.34e+95  \t|\tBond Dim: 9    \n",
      "Updated site: 101  \t|\tLoss: 7.33e+94  \t|\tBond Dim: 9    \n",
      "Updated site: 102  \t|\tLoss: 9.15e+94  \t|\tBond Dim: 9    \n",
      "Updated site: 103  \t|\tLoss: 8.06e+94  \t|\tBond Dim: 9    \n",
      "Updated site: 104  \t|\tLoss: 7.71e+94  \t|\tBond Dim: 9    \n",
      "Updated site: 105  \t|\tLoss: 9.91e+94  \t|\tBond Dim: 9    \n",
      "Updated site: 106  \t|\tLoss: 8.22e+94  \t|\tBond Dim: 9    \n",
      "Updated site: 107  \t|\tLoss: 9.26e+94  \t|\tBond Dim: 9    \n",
      "Updated site: 108  \t|\tLoss: 7.45e+94  \t|\tBond Dim: 9    \n",
      "Updated site: 109  \t|\tLoss: 8.55e+94  \t|\tBond Dim: 9    \n",
      "Updated site: 110  \t|\tLoss: 1.30e+95  \t|\tBond Dim: 9    \n",
      "Updated site: 111  \t|\tLoss: 5.91e+94  \t|\tBond Dim: 9    \n",
      "Updated site: 112  \t|\tLoss: 5.33e+94  \t|\tBond Dim: 9    \n",
      "Updated site: 113  \t|\tLoss: 8.07e+94  \t|\tBond Dim: 9    \n",
      "Updated site: 114  \t|\tLoss: 6.99e+94  \t|\tBond Dim: 9    \n",
      "Updated site: 115  \t|\tLoss: 7.70e+94  \t|\tBond Dim: 9    \n",
      "Updated site: 116  \t|\tLoss: 8.65e+94  \t|\tBond Dim: 9    \n",
      "Updated site: 117  \t|\tLoss: 8.42e+94  \t|\tBond Dim: 9    \n",
      "Updated site: 118  \t|\tLoss: 8.80e+94  \t|\tBond Dim: 9    \n",
      "Updated site: 119  \t|\tLoss: 7.33e+94  \t|\tBond Dim: 9    \n",
      "Updated site: 120  \t|\tLoss: 8.32e+94  \t|\tBond Dim: 9    \n",
      "Updated site: 121  \t|\tLoss: 8.05e+94  \t|\tBond Dim: 9    \n",
      "Updated site: 122  \t|\tLoss: 9.89e+94  \t|\tBond Dim: 9    \n",
      "Updated site: 123  \t|\tLoss: 1.13e+95  \t|\tBond Dim: 9    \n",
      "Updated site: 124  \t|\tLoss: 1.51e+95  \t|\tBond Dim: 9    \n",
      "Updated site: 125  \t|\tLoss: 7.99e+94  \t|\tBond Dim: 9    \n",
      "Updated site: 126  \t|\tLoss: 7.91e+94  \t|\tBond Dim: 9    \n",
      "Updated site: 127  \t|\tLoss: 8.50e+94  \t|\tBond Dim: 9    \n",
      "Updated site: 128  \t|\tLoss: 7.36e+94  \t|\tBond Dim: 9    \n",
      "Updated site: 129  \t|\tLoss: 7.23e+94  \t|\tBond Dim: 9    \n",
      "Updated site: 130  \t|\tLoss: 8.25e+94  \t|\tBond Dim: 9    \n",
      "Updated site: 131  \t|\tLoss: 8.93e+94  \t|\tBond Dim: 9    \n",
      "Updated site: 132  \t|\tLoss: 6.39e+94  \t|\tBond Dim: 9    \n",
      "Updated site: 133  \t|\tLoss: 8.59e+94  \t|\tBond Dim: 9    \n",
      "Updated site: 134  \t|\tLoss: 8.18e+94  \t|\tBond Dim: 9    \n",
      "Updated site: 135  \t|\tLoss: 1.08e+95  \t|\tBond Dim: 9    \n",
      "Updated site: 136  \t|\tLoss: 8.16e+94  \t|\tBond Dim: 9    \n",
      "Updated site: 137  \t|\tLoss: 7.40e+94  \t|\tBond Dim: 9    \n",
      "Updated site: 138  \t|\tLoss: 5.29e+94  \t|\tBond Dim: 9    \n",
      "Updated site: 139  \t|\tLoss: 7.89e+94  \t|\tBond Dim: 9    \n",
      "Updated site: 140  \t|\tLoss: 5.07e+94  \t|\tBond Dim: 9    \n",
      "Updated site: 141  \t|\tLoss: 7.14e+94  \t|\tBond Dim: 9    \n",
      "Updated site: 142  \t|\tLoss: 6.40e+94  \t|\tBond Dim: 9    \n",
      "Updated site: 143  \t|\tLoss: 8.14e+94  \t|\tBond Dim: 9    \n",
      "Updated site: 144  \t|\tLoss: 6.94e+94  \t|\tBond Dim: 9    \n",
      "Updated site: 145  \t|\tLoss: 4.54e+94  \t|\tBond Dim: 9    \n",
      "Updated site: 146  \t|\tLoss: 8.57e+94  \t|\tBond Dim: 9    \n",
      "Updated site: 147  \t|\tLoss: 8.67e+94  \t|\tBond Dim: 9    \n",
      "Updated site: 148  \t|\tLoss: 7.59e+94  \t|\tBond Dim: 9    \n",
      "Updated site: 149  \t|\tLoss: 9.75e+94  \t|\tBond Dim: 9    \n",
      "Updated site: 150  \t|\tLoss: 7.66e+94  \t|\tBond Dim: 9    \n",
      "Updated site: 151  \t|\tLoss: 6.59e+94  \t|\tBond Dim: 9    \n",
      "Updated site: 152  \t|\tLoss: 7.78e+94  \t|\tBond Dim: 9    \n",
      "Updated site: 153  \t|\tLoss: 5.44e+94  \t|\tBond Dim: 9    \n",
      "Updated site: 154  \t|\tLoss: 6.76e+94  \t|\tBond Dim: 9    \n",
      "Updated site: 155  \t|\tLoss: 7.36e+94  \t|\tBond Dim: 9    \n",
      "Updated site: 156  \t|\tLoss: 7.85e+94  \t|\tBond Dim: 9    \n",
      "Updated site: 157  \t|\tLoss: 1.00e+95  \t|\tBond Dim: 9    \n",
      "Updated site: 158  \t|\tLoss: 9.73e+94  \t|\tBond Dim: 9    \n",
      "Updated site: 159  \t|\tLoss: 8.29e+94  \t|\tBond Dim: 9    \n",
      "Updated site: 160  \t|\tLoss: 9.89e+94  \t|\tBond Dim: 9    \n",
      "Updated site: 161  \t|\tLoss: 7.66e+94  \t|\tBond Dim: 9    \n",
      "Updated site: 162  \t|\tLoss: 1.18e+95  \t|\tBond Dim: 9    \n",
      "Updated site: 163  \t|\tLoss: 9.37e+94  \t|\tBond Dim: 9    \n",
      "Updated site: 164  \t|\tLoss: 7.24e+94  \t|\tBond Dim: 9    \n",
      "Updated site: 165  \t|\tLoss: 1.58e+95  \t|\tBond Dim: 9    \n",
      "Updated site: 166  \t|\tLoss: 3.90e+94  \t|\tBond Dim: 9    \n",
      "Updated site: 167  \t|\tLoss: 7.48e+94  \t|\tBond Dim: 9    \n",
      "Updated site: 168  \t|\tLoss: 9.05e+94  \t|\tBond Dim: 9    \n",
      "Updated site: 169  \t|\tLoss: 6.35e+94  \t|\tBond Dim: 9    \n",
      "Updated site: 170  \t|\tLoss: 9.81e+94  \t|\tBond Dim: 9    \n",
      "Updated site: 171  \t|\tLoss: 1.17e+95  \t|\tBond Dim: 9    \n",
      "Updated site: 172  \t|\tLoss: 1.24e+95  \t|\tBond Dim: 9    \n",
      "Updated site: 173  \t|\tLoss: 1.18e+95  \t|\tBond Dim: 9    \n",
      "Updated site: 174  \t|\tLoss: 6.60e+94  \t|\tBond Dim: 9    \n",
      "Updated site: 175  \t|\tLoss: 2.24e+95  \t|\tBond Dim: 9    \n",
      "Updated site: 176  \t|\tLoss: 4.72e+94  \t|\tBond Dim: 9    \n",
      "Updated site: 177  \t|\tLoss: 4.63e+94  \t|\tBond Dim: 9    \n",
      "Updated site: 178  \t|\tLoss: 5.26e+94  \t|\tBond Dim: 9    \n",
      "Updated site: 179  \t|\tLoss: 1.02e+95  \t|\tBond Dim: 9    \n",
      "Updated site: 180  \t|\tLoss: 1.94e+94  \t|\tBond Dim: 9    \n",
      "Updated site: 181  \t|\tLoss: 9.47e+94  \t|\tBond Dim: 9    \n",
      "Updated site: 182  \t|\tLoss: 1.08e+95  \t|\tBond Dim: 9    \n",
      "Updated site: 183  \t|\tLoss: 1.79e+94  \t|\tBond Dim: 9    \n",
      "Updated site: 184  \t|\tLoss: 5.00e+94  \t|\tBond Dim: 9    \n",
      "Updated site: 185  \t|\tLoss: 3.96e+94  \t|\tBond Dim: 9    \n",
      "Updated site: 186  \t|\tLoss: 3.75e+94  \t|\tBond Dim: 9    \n",
      "Updated site: 187  \t|\tLoss: 4.06e+94  \t|\tBond Dim: 9    \n",
      "Updated site: 188  \t|\tLoss: 4.61e+94  \t|\tBond Dim: 9    \n",
      "Updated site: 189  \t|\tLoss: 1.50e+95  \t|\tBond Dim: 9    \n",
      "Updated site: 190  \t|\tLoss: 1.42e+94  \t|\tBond Dim: 9    \n",
      "Updated site: 191  \t|\tLoss: 1.34e+94  \t|\tBond Dim: 9    \n",
      "Updated site: 192  \t|\tLoss: 3.16e+94  \t|\tBond Dim: 9    \n",
      "Updated site: 193  \t|\tLoss: 4.23e+94  \t|\tBond Dim: 9    \n",
      "Updated site: 194  \t|\tLoss: 4.01e+94  \t|\tBond Dim: 1    \n"
     ]
    }
   ],
   "source": [
    "losses = []\n",
    "N = len(mps)\n",
    "\n",
    "max_bond = bond_dim  # the starting bond_dim\n",
    "\n",
    "for pos in range(N-1):\n",
    "\n",
    "    # bond tensor - Fig.6a\n",
    "    B = jnp.einsum('pjil,ikq->pjkql', mps[pos], mps[pos+1])\n",
    "\n",
    "    # getting the new data inputs\n",
    "    inputs = train_data[:,pos:pos+2]\n",
    "\n",
    "    # projecting a input input into MPS basis - Fig.6b\n",
    "    if pos == 0:\n",
    "        right_wing = right_wings[pos]\n",
    "        # because there is no left wing, insert a dummy index p instead\n",
    "        inputs = jnp.expand_dims(inputs, axis=1)\n",
    "        Φ = jnp.einsum('mpij,mq->mpijq', inputs, right_wing)\n",
    "    elif pos == N-2:\n",
    "        # because there is no right wing, insert a dummy index q instead\n",
    "        inputs = jnp.expand_dims(inputs, axis=3)\n",
    "        Φ = jnp.einsum('mp,mijq->mpijq', left_wing, inputs)\n",
    "    else:\n",
    "        right_wing = right_wings[pos]\n",
    "        Φ = jnp.einsum('mp,mij,mq->mpijq', left_wing, inputs, right_wing)\n",
    "\n",
    "    # compute the gradient update - Fig.6d\n",
    "    ΔB = grad(loss)(B, data=(Φ, train_labels))\n",
    "    \n",
    "    # update the bond tensor - Fig.7a\n",
    "    B += α * ΔB\n",
    "   \n",
    "    # SVD\n",
    "    p,i,j,q,l = B.shape\n",
    "    U, S, Vh = jnp.linalg.svd(B.reshape(p*i,-1), full_matrices=False)\n",
    "\n",
    "    # cutting off the bond dimension\n",
    "    if S.size > max_bond:\n",
    "        max_bond = suggest_truncation(S, tol)  # adaptive bond dim\n",
    "        U  = U[:,:max_bond]\n",
    "        S  = S[:max_bond]\n",
    "        Vh = Vh[:max_bond,:]\n",
    "\n",
    "    # updating mps tesnors - Fig.7b\n",
    "    mps[pos] = U.reshape(p,i,-1)  # current position\n",
    "    mps[pos+1] = jnp.einsum('i,ij->ij', S, Vh).reshape(-1,j,q,l)  # next position\n",
    "\n",
    "    # project input data onto current tensor\n",
    "    proj_curr = jnp.asarray(\n",
    "        jax.vmap(partial(project, [mps[pos]]))(train_data[:,[pos],:])\n",
    "    )\n",
    "    \n",
    "    # update the left wing - Fig.7c\n",
    "    if pos == 0:\n",
    "        left_wing = proj_curr.squeeze(axis=(0,2))\n",
    "    elif pos == N-1:\n",
    "        pass\n",
    "    else:\n",
    "        left_wing = jnp.einsum('mp,mpq->mq', left_wing, proj_curr.squeeze(axis=(0)))\n",
    "\n",
    "    losses.append(loss(B, data=(Φ, train_labels)))\n",
    "    print(f'Updated site: {pos:<5}\\t|\\tLoss: {losses[-1]:<10.2e}\\t|\\tBond Dim: {max_bond:<5}')"
   ]
  },
  {
   "cell_type": "code",
   "execution_count": 29,
   "id": "f73f6727",
   "metadata": {},
   "outputs": [
    {
     "data": {
      "image/svg+xml": "<?xml version=\"1.0\" encoding=\"utf-8\" standalone=\"no\"?>\n<!DOCTYPE svg PUBLIC \"-//W3C//DTD SVG 1.1//EN\"\n  \"http://www.w3.org/Graphics/SVG/1.1/DTD/svg11.dtd\">\n<svg height=\"392.514375pt\" version=\"1.1\" viewBox=\"0 0 489.644544 392.514375\" width=\"489.644544pt\" xmlns=\"http://www.w3.org/2000/svg\" xmlns:xlink=\"http://www.w3.org/1999/xlink\">\n <metadata>\n  <rdf:RDF xmlns:cc=\"http://creativecommons.org/ns#\" xmlns:dc=\"http://purl.org/dc/elements/1.1/\" xmlns:rdf=\"http://www.w3.org/1999/02/22-rdf-syntax-ns#\">\n   <cc:Work>\n    <dc:type rdf:resource=\"http://purl.org/dc/dcmitype/StillImage\"/>\n    <dc:date>2022-04-16T19:54:05.812945</dc:date>\n    <dc:format>image/svg+xml</dc:format>\n    <dc:creator>\n     <cc:Agent>\n      <dc:title>Matplotlib v3.4.1, https://matplotlib.org/</dc:title>\n     </cc:Agent>\n    </dc:creator>\n   </cc:Work>\n  </rdf:RDF>\n </metadata>\n <defs>\n  <style type=\"text/css\">*{stroke-linecap:butt;stroke-linejoin:round;}</style>\n </defs>\n <g id=\"figure_1\">\n  <g id=\"patch_1\">\n   <path d=\"M 0 392.514375 \nL 489.644544 392.514375 \nL 489.644544 0 \nL 0 0 \nz\n\" style=\"fill:#ffffff;\"/>\n  </g>\n  <g id=\"axes_1\">\n   <g id=\"patch_2\">\n    <path d=\"M 34.240625 354.958125 \nL 480.640625 354.958125 \nL 480.640625 22.318125 \nL 34.240625 22.318125 \nz\n\" style=\"fill:#ffffff;\"/>\n   </g>\n   <g id=\"matplotlib.axis_1\">\n    <g id=\"xtick_1\">\n     <g id=\"line2d_1\">\n      <defs>\n       <path d=\"M 0 0 \nL 0 3.5 \n\" id=\"m70eae87580\" style=\"stroke:#000000;stroke-width:0.8;\"/>\n      </defs>\n      <g>\n       <use style=\"stroke:#000000;stroke-width:0.8;\" x=\"54.531534\" xlink:href=\"#m70eae87580\" y=\"354.958125\"/>\n      </g>\n     </g>\n     <g id=\"text_1\">\n      <!-- 0 -->\n      <g transform=\"translate(51.350284 369.556562)scale(0.1 -0.1)\">\n       <defs>\n        <path d=\"M 2034 4250 \nQ 1547 4250 1301 3770 \nQ 1056 3291 1056 2328 \nQ 1056 1369 1301 889 \nQ 1547 409 2034 409 \nQ 2525 409 2770 889 \nQ 3016 1369 3016 2328 \nQ 3016 3291 2770 3770 \nQ 2525 4250 2034 4250 \nz\nM 2034 4750 \nQ 2819 4750 3233 4129 \nQ 3647 3509 3647 2328 \nQ 3647 1150 3233 529 \nQ 2819 -91 2034 -91 \nQ 1250 -91 836 529 \nQ 422 1150 422 2328 \nQ 422 3509 836 4129 \nQ 1250 4750 2034 4750 \nz\n\" id=\"DejaVuSans-30\" transform=\"scale(0.015625)\"/>\n       </defs>\n       <use xlink:href=\"#DejaVuSans-30\"/>\n      </g>\n     </g>\n    </g>\n    <g id=\"xtick_2\">\n     <g id=\"line2d_2\">\n      <g>\n       <use style=\"stroke:#000000;stroke-width:0.8;\" x=\"106.827692\" xlink:href=\"#m70eae87580\" y=\"354.958125\"/>\n      </g>\n     </g>\n     <g id=\"text_2\">\n      <!-- 25 -->\n      <g transform=\"translate(100.465192 369.556562)scale(0.1 -0.1)\">\n       <defs>\n        <path d=\"M 1228 531 \nL 3431 531 \nL 3431 0 \nL 469 0 \nL 469 531 \nQ 828 903 1448 1529 \nQ 2069 2156 2228 2338 \nQ 2531 2678 2651 2914 \nQ 2772 3150 2772 3378 \nQ 2772 3750 2511 3984 \nQ 2250 4219 1831 4219 \nQ 1534 4219 1204 4116 \nQ 875 4013 500 3803 \nL 500 4441 \nQ 881 4594 1212 4672 \nQ 1544 4750 1819 4750 \nQ 2544 4750 2975 4387 \nQ 3406 4025 3406 3419 \nQ 3406 3131 3298 2873 \nQ 3191 2616 2906 2266 \nQ 2828 2175 2409 1742 \nQ 1991 1309 1228 531 \nz\n\" id=\"DejaVuSans-32\" transform=\"scale(0.015625)\"/>\n        <path d=\"M 691 4666 \nL 3169 4666 \nL 3169 4134 \nL 1269 4134 \nL 1269 2991 \nQ 1406 3038 1543 3061 \nQ 1681 3084 1819 3084 \nQ 2600 3084 3056 2656 \nQ 3513 2228 3513 1497 \nQ 3513 744 3044 326 \nQ 2575 -91 1722 -91 \nQ 1428 -91 1123 -41 \nQ 819 9 494 109 \nL 494 744 \nQ 775 591 1075 516 \nQ 1375 441 1709 441 \nQ 2250 441 2565 725 \nQ 2881 1009 2881 1497 \nQ 2881 1984 2565 2268 \nQ 2250 2553 1709 2553 \nQ 1456 2553 1204 2497 \nQ 953 2441 691 2322 \nL 691 4666 \nz\n\" id=\"DejaVuSans-35\" transform=\"scale(0.015625)\"/>\n       </defs>\n       <use xlink:href=\"#DejaVuSans-32\"/>\n       <use x=\"63.623047\" xlink:href=\"#DejaVuSans-35\"/>\n      </g>\n     </g>\n    </g>\n    <g id=\"xtick_3\">\n     <g id=\"line2d_3\">\n      <g>\n       <use style=\"stroke:#000000;stroke-width:0.8;\" x=\"159.123849\" xlink:href=\"#m70eae87580\" y=\"354.958125\"/>\n      </g>\n     </g>\n     <g id=\"text_3\">\n      <!-- 50 -->\n      <g transform=\"translate(152.761349 369.556562)scale(0.1 -0.1)\">\n       <use xlink:href=\"#DejaVuSans-35\"/>\n       <use x=\"63.623047\" xlink:href=\"#DejaVuSans-30\"/>\n      </g>\n     </g>\n    </g>\n    <g id=\"xtick_4\">\n     <g id=\"line2d_4\">\n      <g>\n       <use style=\"stroke:#000000;stroke-width:0.8;\" x=\"211.420006\" xlink:href=\"#m70eae87580\" y=\"354.958125\"/>\n      </g>\n     </g>\n     <g id=\"text_4\">\n      <!-- 75 -->\n      <g transform=\"translate(205.057506 369.556562)scale(0.1 -0.1)\">\n       <defs>\n        <path d=\"M 525 4666 \nL 3525 4666 \nL 3525 4397 \nL 1831 0 \nL 1172 0 \nL 2766 4134 \nL 525 4134 \nL 525 4666 \nz\n\" id=\"DejaVuSans-37\" transform=\"scale(0.015625)\"/>\n       </defs>\n       <use xlink:href=\"#DejaVuSans-37\"/>\n       <use x=\"63.623047\" xlink:href=\"#DejaVuSans-35\"/>\n      </g>\n     </g>\n    </g>\n    <g id=\"xtick_5\">\n     <g id=\"line2d_5\">\n      <g>\n       <use style=\"stroke:#000000;stroke-width:0.8;\" x=\"263.716164\" xlink:href=\"#m70eae87580\" y=\"354.958125\"/>\n      </g>\n     </g>\n     <g id=\"text_5\">\n      <!-- 100 -->\n      <g transform=\"translate(254.172414 369.556562)scale(0.1 -0.1)\">\n       <defs>\n        <path d=\"M 794 531 \nL 1825 531 \nL 1825 4091 \nL 703 3866 \nL 703 4441 \nL 1819 4666 \nL 2450 4666 \nL 2450 531 \nL 3481 531 \nL 3481 0 \nL 794 0 \nL 794 531 \nz\n\" id=\"DejaVuSans-31\" transform=\"scale(0.015625)\"/>\n       </defs>\n       <use xlink:href=\"#DejaVuSans-31\"/>\n       <use x=\"63.623047\" xlink:href=\"#DejaVuSans-30\"/>\n       <use x=\"127.246094\" xlink:href=\"#DejaVuSans-30\"/>\n      </g>\n     </g>\n    </g>\n    <g id=\"xtick_6\">\n     <g id=\"line2d_6\">\n      <g>\n       <use style=\"stroke:#000000;stroke-width:0.8;\" x=\"316.012321\" xlink:href=\"#m70eae87580\" y=\"354.958125\"/>\n      </g>\n     </g>\n     <g id=\"text_6\">\n      <!-- 125 -->\n      <g transform=\"translate(306.468571 369.556562)scale(0.1 -0.1)\">\n       <use xlink:href=\"#DejaVuSans-31\"/>\n       <use x=\"63.623047\" xlink:href=\"#DejaVuSans-32\"/>\n       <use x=\"127.246094\" xlink:href=\"#DejaVuSans-35\"/>\n      </g>\n     </g>\n    </g>\n    <g id=\"xtick_7\">\n     <g id=\"line2d_7\">\n      <g>\n       <use style=\"stroke:#000000;stroke-width:0.8;\" x=\"368.308479\" xlink:href=\"#m70eae87580\" y=\"354.958125\"/>\n      </g>\n     </g>\n     <g id=\"text_7\">\n      <!-- 150 -->\n      <g transform=\"translate(358.764729 369.556562)scale(0.1 -0.1)\">\n       <use xlink:href=\"#DejaVuSans-31\"/>\n       <use x=\"63.623047\" xlink:href=\"#DejaVuSans-35\"/>\n       <use x=\"127.246094\" xlink:href=\"#DejaVuSans-30\"/>\n      </g>\n     </g>\n    </g>\n    <g id=\"xtick_8\">\n     <g id=\"line2d_8\">\n      <g>\n       <use style=\"stroke:#000000;stroke-width:0.8;\" x=\"420.604636\" xlink:href=\"#m70eae87580\" y=\"354.958125\"/>\n      </g>\n     </g>\n     <g id=\"text_8\">\n      <!-- 175 -->\n      <g transform=\"translate(411.060886 369.556562)scale(0.1 -0.1)\">\n       <use xlink:href=\"#DejaVuSans-31\"/>\n       <use x=\"63.623047\" xlink:href=\"#DejaVuSans-37\"/>\n       <use x=\"127.246094\" xlink:href=\"#DejaVuSans-35\"/>\n      </g>\n     </g>\n    </g>\n    <g id=\"xtick_9\">\n     <g id=\"line2d_9\">\n      <g>\n       <use style=\"stroke:#000000;stroke-width:0.8;\" x=\"472.900794\" xlink:href=\"#m70eae87580\" y=\"354.958125\"/>\n      </g>\n     </g>\n     <g id=\"text_9\">\n      <!-- 200 -->\n      <g transform=\"translate(463.357044 369.556562)scale(0.1 -0.1)\">\n       <use xlink:href=\"#DejaVuSans-32\"/>\n       <use x=\"63.623047\" xlink:href=\"#DejaVuSans-30\"/>\n       <use x=\"127.246094\" xlink:href=\"#DejaVuSans-30\"/>\n      </g>\n     </g>\n    </g>\n    <g id=\"text_10\">\n     <!-- Epochs -->\n     <g transform=\"translate(239.525 383.234687)scale(0.1 -0.1)\">\n      <defs>\n       <path d=\"M 628 4666 \nL 3578 4666 \nL 3578 4134 \nL 1259 4134 \nL 1259 2753 \nL 3481 2753 \nL 3481 2222 \nL 1259 2222 \nL 1259 531 \nL 3634 531 \nL 3634 0 \nL 628 0 \nL 628 4666 \nz\n\" id=\"DejaVuSans-45\" transform=\"scale(0.015625)\"/>\n       <path d=\"M 1159 525 \nL 1159 -1331 \nL 581 -1331 \nL 581 3500 \nL 1159 3500 \nL 1159 2969 \nQ 1341 3281 1617 3432 \nQ 1894 3584 2278 3584 \nQ 2916 3584 3314 3078 \nQ 3713 2572 3713 1747 \nQ 3713 922 3314 415 \nQ 2916 -91 2278 -91 \nQ 1894 -91 1617 61 \nQ 1341 213 1159 525 \nz\nM 3116 1747 \nQ 3116 2381 2855 2742 \nQ 2594 3103 2138 3103 \nQ 1681 3103 1420 2742 \nQ 1159 2381 1159 1747 \nQ 1159 1113 1420 752 \nQ 1681 391 2138 391 \nQ 2594 391 2855 752 \nQ 3116 1113 3116 1747 \nz\n\" id=\"DejaVuSans-70\" transform=\"scale(0.015625)\"/>\n       <path d=\"M 1959 3097 \nQ 1497 3097 1228 2736 \nQ 959 2375 959 1747 \nQ 959 1119 1226 758 \nQ 1494 397 1959 397 \nQ 2419 397 2687 759 \nQ 2956 1122 2956 1747 \nQ 2956 2369 2687 2733 \nQ 2419 3097 1959 3097 \nz\nM 1959 3584 \nQ 2709 3584 3137 3096 \nQ 3566 2609 3566 1747 \nQ 3566 888 3137 398 \nQ 2709 -91 1959 -91 \nQ 1206 -91 779 398 \nQ 353 888 353 1747 \nQ 353 2609 779 3096 \nQ 1206 3584 1959 3584 \nz\n\" id=\"DejaVuSans-6f\" transform=\"scale(0.015625)\"/>\n       <path d=\"M 3122 3366 \nL 3122 2828 \nQ 2878 2963 2633 3030 \nQ 2388 3097 2138 3097 \nQ 1578 3097 1268 2742 \nQ 959 2388 959 1747 \nQ 959 1106 1268 751 \nQ 1578 397 2138 397 \nQ 2388 397 2633 464 \nQ 2878 531 3122 666 \nL 3122 134 \nQ 2881 22 2623 -34 \nQ 2366 -91 2075 -91 \nQ 1284 -91 818 406 \nQ 353 903 353 1747 \nQ 353 2603 823 3093 \nQ 1294 3584 2113 3584 \nQ 2378 3584 2631 3529 \nQ 2884 3475 3122 3366 \nz\n\" id=\"DejaVuSans-63\" transform=\"scale(0.015625)\"/>\n       <path d=\"M 3513 2113 \nL 3513 0 \nL 2938 0 \nL 2938 2094 \nQ 2938 2591 2744 2837 \nQ 2550 3084 2163 3084 \nQ 1697 3084 1428 2787 \nQ 1159 2491 1159 1978 \nL 1159 0 \nL 581 0 \nL 581 4863 \nL 1159 4863 \nL 1159 2956 \nQ 1366 3272 1645 3428 \nQ 1925 3584 2291 3584 \nQ 2894 3584 3203 3211 \nQ 3513 2838 3513 2113 \nz\n\" id=\"DejaVuSans-68\" transform=\"scale(0.015625)\"/>\n       <path d=\"M 2834 3397 \nL 2834 2853 \nQ 2591 2978 2328 3040 \nQ 2066 3103 1784 3103 \nQ 1356 3103 1142 2972 \nQ 928 2841 928 2578 \nQ 928 2378 1081 2264 \nQ 1234 2150 1697 2047 \nL 1894 2003 \nQ 2506 1872 2764 1633 \nQ 3022 1394 3022 966 \nQ 3022 478 2636 193 \nQ 2250 -91 1575 -91 \nQ 1294 -91 989 -36 \nQ 684 19 347 128 \nL 347 722 \nQ 666 556 975 473 \nQ 1284 391 1588 391 \nQ 1994 391 2212 530 \nQ 2431 669 2431 922 \nQ 2431 1156 2273 1281 \nQ 2116 1406 1581 1522 \nL 1381 1569 \nQ 847 1681 609 1914 \nQ 372 2147 372 2553 \nQ 372 3047 722 3315 \nQ 1072 3584 1716 3584 \nQ 2034 3584 2315 3537 \nQ 2597 3491 2834 3397 \nz\n\" id=\"DejaVuSans-73\" transform=\"scale(0.015625)\"/>\n      </defs>\n      <use xlink:href=\"#DejaVuSans-45\"/>\n      <use x=\"63.183594\" xlink:href=\"#DejaVuSans-70\"/>\n      <use x=\"126.660156\" xlink:href=\"#DejaVuSans-6f\"/>\n      <use x=\"187.841797\" xlink:href=\"#DejaVuSans-63\"/>\n      <use x=\"242.822266\" xlink:href=\"#DejaVuSans-68\"/>\n      <use x=\"306.201172\" xlink:href=\"#DejaVuSans-73\"/>\n     </g>\n    </g>\n   </g>\n   <g id=\"matplotlib.axis_2\">\n    <g id=\"ytick_1\">\n     <g id=\"line2d_10\">\n      <defs>\n       <path d=\"M 0 0 \nL -3.5 0 \n\" id=\"ma4c74725b6\" style=\"stroke:#000000;stroke-width:0.8;\"/>\n      </defs>\n      <g>\n       <use style=\"stroke:#000000;stroke-width:0.8;\" x=\"34.240625\" xlink:href=\"#ma4c74725b6\" y=\"348.893577\"/>\n      </g>\n     </g>\n     <g id=\"text_11\">\n      <!-- 0 -->\n      <g transform=\"translate(20.878125 352.692796)scale(0.1 -0.1)\">\n       <use xlink:href=\"#DejaVuSans-30\"/>\n      </g>\n     </g>\n    </g>\n    <g id=\"ytick_2\">\n     <g id=\"line2d_11\">\n      <g>\n       <use style=\"stroke:#000000;stroke-width:0.8;\" x=\"34.240625\" xlink:href=\"#ma4c74725b6\" y=\"281.090785\"/>\n      </g>\n     </g>\n     <g id=\"text_12\">\n      <!-- 1 -->\n      <g transform=\"translate(20.878125 284.890004)scale(0.1 -0.1)\">\n       <use xlink:href=\"#DejaVuSans-31\"/>\n      </g>\n     </g>\n    </g>\n    <g id=\"ytick_3\">\n     <g id=\"line2d_12\">\n      <g>\n       <use style=\"stroke:#000000;stroke-width:0.8;\" x=\"34.240625\" xlink:href=\"#ma4c74725b6\" y=\"213.287993\"/>\n      </g>\n     </g>\n     <g id=\"text_13\">\n      <!-- 2 -->\n      <g transform=\"translate(20.878125 217.087212)scale(0.1 -0.1)\">\n       <use xlink:href=\"#DejaVuSans-32\"/>\n      </g>\n     </g>\n    </g>\n    <g id=\"ytick_4\">\n     <g id=\"line2d_13\">\n      <g>\n       <use style=\"stroke:#000000;stroke-width:0.8;\" x=\"34.240625\" xlink:href=\"#ma4c74725b6\" y=\"145.485202\"/>\n      </g>\n     </g>\n     <g id=\"text_14\">\n      <!-- 3 -->\n      <g transform=\"translate(20.878125 149.28442)scale(0.1 -0.1)\">\n       <defs>\n        <path d=\"M 2597 2516 \nQ 3050 2419 3304 2112 \nQ 3559 1806 3559 1356 \nQ 3559 666 3084 287 \nQ 2609 -91 1734 -91 \nQ 1441 -91 1130 -33 \nQ 819 25 488 141 \nL 488 750 \nQ 750 597 1062 519 \nQ 1375 441 1716 441 \nQ 2309 441 2620 675 \nQ 2931 909 2931 1356 \nQ 2931 1769 2642 2001 \nQ 2353 2234 1838 2234 \nL 1294 2234 \nL 1294 2753 \nL 1863 2753 \nQ 2328 2753 2575 2939 \nQ 2822 3125 2822 3475 \nQ 2822 3834 2567 4026 \nQ 2313 4219 1838 4219 \nQ 1578 4219 1281 4162 \nQ 984 4106 628 3988 \nL 628 4550 \nQ 988 4650 1302 4700 \nQ 1616 4750 1894 4750 \nQ 2613 4750 3031 4423 \nQ 3450 4097 3450 3541 \nQ 3450 3153 3228 2886 \nQ 3006 2619 2597 2516 \nz\n\" id=\"DejaVuSans-33\" transform=\"scale(0.015625)\"/>\n       </defs>\n       <use xlink:href=\"#DejaVuSans-33\"/>\n      </g>\n     </g>\n    </g>\n    <g id=\"ytick_5\">\n     <g id=\"line2d_14\">\n      <g>\n       <use style=\"stroke:#000000;stroke-width:0.8;\" x=\"34.240625\" xlink:href=\"#ma4c74725b6\" y=\"77.68241\"/>\n      </g>\n     </g>\n     <g id=\"text_15\">\n      <!-- 4 -->\n      <g transform=\"translate(20.878125 81.481628)scale(0.1 -0.1)\">\n       <defs>\n        <path d=\"M 2419 4116 \nL 825 1625 \nL 2419 1625 \nL 2419 4116 \nz\nM 2253 4666 \nL 3047 4666 \nL 3047 1625 \nL 3713 1625 \nL 3713 1100 \nL 3047 1100 \nL 3047 0 \nL 2419 0 \nL 2419 1100 \nL 313 1100 \nL 313 1709 \nL 2253 4666 \nz\n\" id=\"DejaVuSans-34\" transform=\"scale(0.015625)\"/>\n       </defs>\n       <use xlink:href=\"#DejaVuSans-34\"/>\n      </g>\n     </g>\n    </g>\n    <g id=\"text_16\">\n     <!-- log(Loss) -->\n     <g transform=\"translate(14.798437 211.129531)rotate(-90)scale(0.1 -0.1)\">\n      <defs>\n       <path d=\"M 603 4863 \nL 1178 4863 \nL 1178 0 \nL 603 0 \nL 603 4863 \nz\n\" id=\"DejaVuSans-6c\" transform=\"scale(0.015625)\"/>\n       <path d=\"M 2906 1791 \nQ 2906 2416 2648 2759 \nQ 2391 3103 1925 3103 \nQ 1463 3103 1205 2759 \nQ 947 2416 947 1791 \nQ 947 1169 1205 825 \nQ 1463 481 1925 481 \nQ 2391 481 2648 825 \nQ 2906 1169 2906 1791 \nz\nM 3481 434 \nQ 3481 -459 3084 -895 \nQ 2688 -1331 1869 -1331 \nQ 1566 -1331 1297 -1286 \nQ 1028 -1241 775 -1147 \nL 775 -588 \nQ 1028 -725 1275 -790 \nQ 1522 -856 1778 -856 \nQ 2344 -856 2625 -561 \nQ 2906 -266 2906 331 \nL 2906 616 \nQ 2728 306 2450 153 \nQ 2172 0 1784 0 \nQ 1141 0 747 490 \nQ 353 981 353 1791 \nQ 353 2603 747 3093 \nQ 1141 3584 1784 3584 \nQ 2172 3584 2450 3431 \nQ 2728 3278 2906 2969 \nL 2906 3500 \nL 3481 3500 \nL 3481 434 \nz\n\" id=\"DejaVuSans-67\" transform=\"scale(0.015625)\"/>\n       <path d=\"M 1984 4856 \nQ 1566 4138 1362 3434 \nQ 1159 2731 1159 2009 \nQ 1159 1288 1364 580 \nQ 1569 -128 1984 -844 \nL 1484 -844 \nQ 1016 -109 783 600 \nQ 550 1309 550 2009 \nQ 550 2706 781 3412 \nQ 1013 4119 1484 4856 \nL 1984 4856 \nz\n\" id=\"DejaVuSans-28\" transform=\"scale(0.015625)\"/>\n       <path d=\"M 628 4666 \nL 1259 4666 \nL 1259 531 \nL 3531 531 \nL 3531 0 \nL 628 0 \nL 628 4666 \nz\n\" id=\"DejaVuSans-4c\" transform=\"scale(0.015625)\"/>\n       <path d=\"M 513 4856 \nL 1013 4856 \nQ 1481 4119 1714 3412 \nQ 1947 2706 1947 2009 \nQ 1947 1309 1714 600 \nQ 1481 -109 1013 -844 \nL 513 -844 \nQ 928 -128 1133 580 \nQ 1338 1288 1338 2009 \nQ 1338 2731 1133 3434 \nQ 928 4138 513 4856 \nz\n\" id=\"DejaVuSans-29\" transform=\"scale(0.015625)\"/>\n      </defs>\n      <use xlink:href=\"#DejaVuSans-6c\"/>\n      <use x=\"27.783203\" xlink:href=\"#DejaVuSans-6f\"/>\n      <use x=\"88.964844\" xlink:href=\"#DejaVuSans-67\"/>\n      <use x=\"152.441406\" xlink:href=\"#DejaVuSans-28\"/>\n      <use x=\"191.455078\" xlink:href=\"#DejaVuSans-4c\"/>\n      <use x=\"245.417969\" xlink:href=\"#DejaVuSans-6f\"/>\n      <use x=\"306.599609\" xlink:href=\"#DejaVuSans-73\"/>\n      <use x=\"358.699219\" xlink:href=\"#DejaVuSans-73\"/>\n      <use x=\"410.798828\" xlink:href=\"#DejaVuSans-29\"/>\n     </g>\n    </g>\n    <g id=\"text_17\">\n     <!-- 1e95 -->\n     <g transform=\"translate(34.240625 19.318125)scale(0.1 -0.1)\">\n      <defs>\n       <path d=\"M 3597 1894 \nL 3597 1613 \nL 953 1613 \nQ 991 1019 1311 708 \nQ 1631 397 2203 397 \nQ 2534 397 2845 478 \nQ 3156 559 3463 722 \nL 3463 178 \nQ 3153 47 2828 -22 \nQ 2503 -91 2169 -91 \nQ 1331 -91 842 396 \nQ 353 884 353 1716 \nQ 353 2575 817 3079 \nQ 1281 3584 2069 3584 \nQ 2775 3584 3186 3129 \nQ 3597 2675 3597 1894 \nz\nM 3022 2063 \nQ 3016 2534 2758 2815 \nQ 2500 3097 2075 3097 \nQ 1594 3097 1305 2825 \nQ 1016 2553 972 2059 \nL 3022 2063 \nz\n\" id=\"DejaVuSans-65\" transform=\"scale(0.015625)\"/>\n       <path d=\"M 703 97 \nL 703 672 \nQ 941 559 1184 500 \nQ 1428 441 1663 441 \nQ 2288 441 2617 861 \nQ 2947 1281 2994 2138 \nQ 2813 1869 2534 1725 \nQ 2256 1581 1919 1581 \nQ 1219 1581 811 2004 \nQ 403 2428 403 3163 \nQ 403 3881 828 4315 \nQ 1253 4750 1959 4750 \nQ 2769 4750 3195 4129 \nQ 3622 3509 3622 2328 \nQ 3622 1225 3098 567 \nQ 2575 -91 1691 -91 \nQ 1453 -91 1209 -44 \nQ 966 3 703 97 \nz\nM 1959 2075 \nQ 2384 2075 2632 2365 \nQ 2881 2656 2881 3163 \nQ 2881 3666 2632 3958 \nQ 2384 4250 1959 4250 \nQ 1534 4250 1286 3958 \nQ 1038 3666 1038 3163 \nQ 1038 2656 1286 2365 \nQ 1534 2075 1959 2075 \nz\n\" id=\"DejaVuSans-39\" transform=\"scale(0.015625)\"/>\n      </defs>\n      <use xlink:href=\"#DejaVuSans-31\"/>\n      <use x=\"63.623047\" xlink:href=\"#DejaVuSans-65\"/>\n      <use x=\"125.146484\" xlink:href=\"#DejaVuSans-39\"/>\n      <use x=\"188.769531\" xlink:href=\"#DejaVuSans-35\"/>\n     </g>\n    </g>\n   </g>\n   <g id=\"line2d_15\">\n    <path clip-path=\"url(#p6d90f3aaaf)\" d=\"M 54.531534 264.672903 \nL 56.62338 289.5825 \nL 58.715227 304.519717 \nL 60.807073 256.733332 \nL 62.898919 318.305015 \nL 64.990766 313.325113 \nL 67.082612 295.913372 \nL 69.174458 238.766223 \nL 71.266304 249.931817 \nL 73.358151 217.52693 \nL 75.449997 300.832424 \nL 77.541843 314.201232 \nL 79.63369 269.322173 \nL 81.725536 272.07533 \nL 83.817382 293.469596 \nL 85.909229 255.578892 \nL 88.001075 264.314106 \nL 90.092921 211.960232 \nL 92.184767 285.391962 \nL 94.276614 270.013078 \nL 96.36846 168.691423 \nL 98.460306 218.886351 \nL 100.552153 258.248445 \nL 102.643999 252.449271 \nL 104.735845 273.685048 \nL 106.827692 299.345298 \nL 108.919538 152.800003 \nL 111.011384 37.438125 \nL 113.10323 142.506828 \nL 115.195077 284.387751 \nL 117.286923 280.744551 \nL 119.378769 267.787709 \nL 121.470616 206.011222 \nL 123.562462 250.268593 \nL 125.654308 274.267927 \nL 127.746155 295.81294 \nL 129.838001 302.733388 \nL 131.929847 297.310747 \nL 134.021693 243.704552 \nL 136.11354 305.63381 \nL 138.205386 279.271214 \nL 140.297232 291.430725 \nL 142.389079 279.015193 \nL 144.480925 284.440288 \nL 146.572771 276.269233 \nL 148.664618 256.330355 \nL 150.756464 259.521707 \nL 152.84831 263.428411 \nL 154.940156 270.235934 \nL 157.032003 274.729133 \nL 159.123849 276.584446 \nL 161.215695 280.507036 \nL 163.307542 281.986763 \nL 165.399388 247.307262 \nL 167.491234 274.359992 \nL 169.58308 258.255485 \nL 171.674927 233.319739 \nL 173.766773 266.035737 \nL 175.858619 248.083781 \nL 177.950466 293.967711 \nL 180.042312 285.521976 \nL 182.134158 284.637576 \nL 184.226005 285.875288 \nL 186.317851 288.3414 \nL 188.409697 296.883741 \nL 190.501543 278.470866 \nL 192.59339 273.857951 \nL 194.685236 283.780179 \nL 196.777082 283.265601 \nL 198.868929 295.351721 \nL 200.960775 282.893676 \nL 203.052621 280.993126 \nL 205.144468 293.656692 \nL 207.236314 287.730737 \nL 209.32816 282.849766 \nL 211.420006 286.378894 \nL 213.511853 283.889367 \nL 215.603699 279.013551 \nL 217.695545 279.243519 \nL 219.787392 283.510904 \nL 221.879238 280.337787 \nL 223.971084 271.36694 \nL 226.062931 283.971811 \nL 228.154777 292.535972 \nL 230.246623 297.065143 \nL 232.338469 287.286209 \nL 234.430316 279.759476 \nL 236.522162 277.510667 \nL 238.614008 289.401701 \nL 240.705855 275.640781 \nL 242.797701 284.305955 \nL 244.889547 283.521487 \nL 246.981394 297.135649 \nL 249.07324 281.765399 \nL 251.165086 275.077835 \nL 253.256932 292.837785 \nL 255.348779 252.862256 \nL 257.440625 266.383018 \nL 259.532471 303.30659 \nL 261.624318 298.921002 \nL 263.716164 258.154091 \nL 265.80801 299.175869 \nL 267.899856 286.84436 \nL 269.991703 294.236997 \nL 272.083549 296.592767 \nL 274.175395 281.704115 \nL 276.267242 293.154537 \nL 278.359088 286.085628 \nL 280.450934 298.349305 \nL 282.542781 290.920339 \nL 284.634627 260.484526 \nL 286.726473 308.798058 \nL 288.818319 312.761308 \nL 290.910166 294.152387 \nL 293.002012 301.508571 \nL 295.093858 296.713869 \nL 297.185705 290.235788 \nL 299.277551 291.799359 \nL 301.369397 289.198616 \nL 303.461244 299.22063 \nL 305.55309 292.459702 \nL 307.644936 294.285799 \nL 309.736782 281.833117 \nL 311.828629 272.442179 \nL 313.920475 246.326812 \nL 316.012321 294.721053 \nL 318.104168 295.231569 \nL 320.196014 291.243167 \nL 322.28786 299.007079 \nL 324.379707 299.846387 \nL 326.471553 292.926634 \nL 328.563399 288.371599 \nL 330.655245 305.579874 \nL 332.747092 290.67077 \nL 334.838938 293.427669 \nL 336.930784 275.564688 \nL 339.022631 293.581277 \nL 341.114477 298.713871 \nL 343.206323 313.034752 \nL 345.29817 295.430182 \nL 347.390016 314.495617 \nL 349.481862 300.475915 \nL 351.573708 305.51461 \nL 353.665555 293.6743 \nL 355.757401 301.870363 \nL 357.849247 318.084657 \nL 359.941094 290.781491 \nL 362.03294 290.081427 \nL 364.124786 297.444534 \nL 366.216632 282.802823 \nL 368.308479 296.957774 \nL 370.400325 304.200076 \nL 372.492171 296.109731 \nL 374.584018 311.99769 \nL 376.675864 303.035204 \nL 378.76771 298.984835 \nL 380.859557 295.671706 \nL 382.951403 280.761579 \nL 385.043249 282.952059 \nL 387.135095 292.675455 \nL 389.226942 281.866838 \nL 391.318788 296.957079 \nL 393.410634 268.910112 \nL 395.502481 285.366236 \nL 397.594327 299.813663 \nL 399.686173 242.073978 \nL 401.77802 322.46919 \nL 403.869866 298.171026 \nL 405.961712 287.540148 \nL 408.053558 305.861378 \nL 410.145405 282.385442 \nL 412.237251 269.723227 \nL 414.329097 264.894577 \nL 416.420944 268.89018 \nL 418.51279 304.119542 \nL 420.604636 197.23334 \nL 422.696483 316.888983 \nL 424.788329 317.507595 \nL 426.880175 313.25991 \nL 428.972021 279.492548 \nL 431.063868 335.717364 \nL 433.155714 284.650833 \nL 435.24756 275.797078 \nL 437.339407 336.76157 \nL 439.431253 314.998807 \nL 441.523099 322.045949 \nL 443.614946 323.486246 \nL 445.706792 321.388787 \nL 447.798638 317.612189 \nL 449.890484 247.028158 \nL 451.982331 339.279823 \nL 454.074177 339.838125 \nL 456.166023 327.46839 \nL 458.25787 320.211713 \nL 460.349716 321.731437 \nL 460.349716 321.731437 \n\" style=\"fill:none;stroke:#0000ff;stroke-linecap:square;stroke-width:1.5;\"/>\n   </g>\n   <g id=\"patch_3\">\n    <path d=\"M 34.240625 354.958125 \nL 34.240625 22.318125 \n\" style=\"fill:none;stroke:#000000;stroke-linecap:square;stroke-linejoin:miter;stroke-width:0.8;\"/>\n   </g>\n   <g id=\"patch_4\">\n    <path d=\"M 480.640625 354.958125 \nL 480.640625 22.318125 \n\" style=\"fill:none;stroke:#000000;stroke-linecap:square;stroke-linejoin:miter;stroke-width:0.8;\"/>\n   </g>\n   <g id=\"patch_5\">\n    <path d=\"M 34.240625 354.958125 \nL 480.640625 354.958125 \n\" style=\"fill:none;stroke:#000000;stroke-linecap:square;stroke-linejoin:miter;stroke-width:0.8;\"/>\n   </g>\n   <g id=\"patch_6\">\n    <path d=\"M 34.240625 22.318125 \nL 480.640625 22.318125 \n\" style=\"fill:none;stroke:#000000;stroke-linecap:square;stroke-linejoin:miter;stroke-width:0.8;\"/>\n   </g>\n   <g id=\"text_18\">\n    <!-- Training -->\n    <g transform=\"translate(233.769688 16.318125)scale(0.12 -0.12)\">\n     <defs>\n      <path d=\"M -19 4666 \nL 3928 4666 \nL 3928 4134 \nL 2272 4134 \nL 2272 0 \nL 1638 0 \nL 1638 4134 \nL -19 4134 \nL -19 4666 \nz\n\" id=\"DejaVuSans-54\" transform=\"scale(0.015625)\"/>\n      <path d=\"M 2631 2963 \nQ 2534 3019 2420 3045 \nQ 2306 3072 2169 3072 \nQ 1681 3072 1420 2755 \nQ 1159 2438 1159 1844 \nL 1159 0 \nL 581 0 \nL 581 3500 \nL 1159 3500 \nL 1159 2956 \nQ 1341 3275 1631 3429 \nQ 1922 3584 2338 3584 \nQ 2397 3584 2469 3576 \nQ 2541 3569 2628 3553 \nL 2631 2963 \nz\n\" id=\"DejaVuSans-72\" transform=\"scale(0.015625)\"/>\n      <path d=\"M 2194 1759 \nQ 1497 1759 1228 1600 \nQ 959 1441 959 1056 \nQ 959 750 1161 570 \nQ 1363 391 1709 391 \nQ 2188 391 2477 730 \nQ 2766 1069 2766 1631 \nL 2766 1759 \nL 2194 1759 \nz\nM 3341 1997 \nL 3341 0 \nL 2766 0 \nL 2766 531 \nQ 2569 213 2275 61 \nQ 1981 -91 1556 -91 \nQ 1019 -91 701 211 \nQ 384 513 384 1019 \nQ 384 1609 779 1909 \nQ 1175 2209 1959 2209 \nL 2766 2209 \nL 2766 2266 \nQ 2766 2663 2505 2880 \nQ 2244 3097 1772 3097 \nQ 1472 3097 1187 3025 \nQ 903 2953 641 2809 \nL 641 3341 \nQ 956 3463 1253 3523 \nQ 1550 3584 1831 3584 \nQ 2591 3584 2966 3190 \nQ 3341 2797 3341 1997 \nz\n\" id=\"DejaVuSans-61\" transform=\"scale(0.015625)\"/>\n      <path d=\"M 603 3500 \nL 1178 3500 \nL 1178 0 \nL 603 0 \nL 603 3500 \nz\nM 603 4863 \nL 1178 4863 \nL 1178 4134 \nL 603 4134 \nL 603 4863 \nz\n\" id=\"DejaVuSans-69\" transform=\"scale(0.015625)\"/>\n      <path d=\"M 3513 2113 \nL 3513 0 \nL 2938 0 \nL 2938 2094 \nQ 2938 2591 2744 2837 \nQ 2550 3084 2163 3084 \nQ 1697 3084 1428 2787 \nQ 1159 2491 1159 1978 \nL 1159 0 \nL 581 0 \nL 581 3500 \nL 1159 3500 \nL 1159 2956 \nQ 1366 3272 1645 3428 \nQ 1925 3584 2291 3584 \nQ 2894 3584 3203 3211 \nQ 3513 2838 3513 2113 \nz\n\" id=\"DejaVuSans-6e\" transform=\"scale(0.015625)\"/>\n     </defs>\n     <use xlink:href=\"#DejaVuSans-54\"/>\n     <use x=\"46.333984\" xlink:href=\"#DejaVuSans-72\"/>\n     <use x=\"87.447266\" xlink:href=\"#DejaVuSans-61\"/>\n     <use x=\"148.726562\" xlink:href=\"#DejaVuSans-69\"/>\n     <use x=\"176.509766\" xlink:href=\"#DejaVuSans-6e\"/>\n     <use x=\"239.888672\" xlink:href=\"#DejaVuSans-69\"/>\n     <use x=\"267.671875\" xlink:href=\"#DejaVuSans-6e\"/>\n     <use x=\"331.050781\" xlink:href=\"#DejaVuSans-67\"/>\n    </g>\n   </g>\n  </g>\n </g>\n <defs>\n  <clipPath id=\"p6d90f3aaaf\">\n   <rect height=\"332.64\" width=\"446.4\" x=\"34.240625\" y=\"22.318125\"/>\n  </clipPath>\n </defs>\n</svg>\n",
      "text/plain": [
       "<Figure size 800x600 with 1 Axes>"
      ]
     },
     "metadata": {},
     "output_type": "display_data"
    }
   ],
   "source": [
    "set_figsize((8,6))\n",
    "plt.plot(losses, 'b-')\n",
    "# plt.yscale('log')\n",
    "plt.xlabel('Epochs')\n",
    "plt.ylabel('log(Loss)')\n",
    "plt.title('Training')\n",
    "plt.show()"
   ]
  },
  {
   "cell_type": "code",
   "execution_count": null,
   "id": "2fc60059",
   "metadata": {},
   "outputs": [],
   "source": []
  }
 ],
 "metadata": {
  "kernelspec": {
   "display_name": "Python 3",
   "language": "python",
   "name": "python3"
  },
  "language_info": {
   "codemirror_mode": {
    "name": "ipython",
    "version": 3
   },
   "file_extension": ".py",
   "mimetype": "text/x-python",
   "name": "python",
   "nbconvert_exporter": "python",
   "pygments_lexer": "ipython3",
   "version": "3.8.5"
  },
  "varInspector": {
   "cols": {
    "lenName": 16,
    "lenType": 16,
    "lenVar": 40
   },
   "kernels_config": {
    "python": {
     "delete_cmd_postfix": "",
     "delete_cmd_prefix": "del ",
     "library": "var_list.py",
     "varRefreshCmd": "print(var_dic_list())"
    },
    "r": {
     "delete_cmd_postfix": ") ",
     "delete_cmd_prefix": "rm(",
     "library": "var_list.r",
     "varRefreshCmd": "cat(var_dic_list()) "
    }
   },
   "types_to_exclude": [
    "module",
    "function",
    "builtin_function_or_method",
    "instance",
    "_Feature"
   ],
   "window_display": false
  }
 },
 "nbformat": 4,
 "nbformat_minor": 5
}
