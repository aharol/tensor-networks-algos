{
 "cells": [
  {
   "cell_type": "markdown",
   "id": "90342c19",
   "metadata": {},
   "source": [
    "# About\n",
    "\n",
    "- `Title:` \"Supervised Learning with Quantum-Inspired Tensor Networks\"\n",
    "- `Main Author:` Miles E. Stoudenmire\n",
    "- `Source:` [ArXiv](https://arxiv.org/abs/1605.05775)\n",
    "- `Publish Date:` 18-05-2017\n",
    "- `Reviewed Date:` 22-10-2021\n",
    "\n",
    "## Citation\n",
    "\n",
    "```latex\n",
    "@article{stoudenmire2016supervised,\n",
    "  title={Supervised learning with tensor networks},\n",
    "  author={Stoudenmire, Edwin and Schwab, David J},\n",
    "  journal={Advances in Neural Information Processing Systems},\n",
    "  volume={29},\n",
    "  year={2016}\n",
    "}\n",
    "```"
   ]
  },
  {
   "cell_type": "code",
   "execution_count": 1,
   "id": "c777985e",
   "metadata": {},
   "outputs": [],
   "source": [
    "%load_ext autoreload\n",
    "%autoreload 2"
   ]
  },
  {
   "cell_type": "code",
   "execution_count": 2,
   "id": "516a8cc3",
   "metadata": {},
   "outputs": [
    {
     "name": "stdout",
     "output_type": "stream",
     "text": [
      "env: JAX_ENABLE_X64=1\n",
      "env: JAX_PLATFORM_NAME=cpu\n"
     ]
    }
   ],
   "source": [
    "%env JAX_ENABLE_X64=1\n",
    "%env JAX_PLATFORM_NAME=cpu"
   ]
  },
  {
   "cell_type": "markdown",
   "id": "8b2569a1",
   "metadata": {},
   "source": [
    "# Installing dependencies"
   ]
  },
  {
   "cell_type": "code",
   "execution_count": 3,
   "id": "5c02a783",
   "metadata": {},
   "outputs": [],
   "source": [
    "# uncomment the line below when running for the first time\n",
    "# !pip install --upgrade jax jaxlib matplotlib"
   ]
  },
  {
   "cell_type": "markdown",
   "id": "82c61e55",
   "metadata": {},
   "source": [
    "# Imports and settings"
   ]
  },
  {
   "cell_type": "code",
   "execution_count": 4,
   "id": "80210565",
   "metadata": {},
   "outputs": [],
   "source": [
    "import jax\n",
    "import jax.numpy as jnp"
   ]
  },
  {
   "cell_type": "code",
   "execution_count": 5,
   "id": "933bc00f",
   "metadata": {},
   "outputs": [],
   "source": [
    "import itertools\n",
    "import functools"
   ]
  },
  {
   "cell_type": "code",
   "execution_count": 6,
   "id": "6b833c47",
   "metadata": {},
   "outputs": [],
   "source": [
    "from typing import Any, List, Tuple, Callable, Optional"
   ]
  },
  {
   "cell_type": "code",
   "execution_count": 7,
   "id": "833a9ddf",
   "metadata": {},
   "outputs": [],
   "source": [
    "from plotting import plot, show_img_grid, set_figsize"
   ]
  },
  {
   "cell_type": "code",
   "execution_count": 8,
   "id": "aedaa9a0",
   "metadata": {},
   "outputs": [],
   "source": [
    "import dataset  # MNIST downloader"
   ]
  },
  {
   "cell_type": "markdown",
   "id": "7cc61c86",
   "metadata": {},
   "source": [
    "## Type Aliaces"
   ]
  },
  {
   "cell_type": "code",
   "execution_count": 9,
   "id": "a90da14d",
   "metadata": {},
   "outputs": [],
   "source": [
    "# type alias\n",
    "Key = Any\n",
    "\n",
    "Scalar = jnp.double\n",
    "Vector = jnp.ndarray\n",
    "Matrix = jnp.ndarray\n",
    "Tensor = jnp.ndarray\n",
    "\n",
    "MPS = List[Tensor]"
   ]
  },
  {
   "cell_type": "markdown",
   "id": "9462d629",
   "metadata": {},
   "source": [
    "# Constants"
   ]
  },
  {
   "cell_type": "code",
   "execution_count": 10,
   "id": "c4831051",
   "metadata": {},
   "outputs": [],
   "source": [
    "# WARNING: to avoid unnecessary truncation, set bond_dim>=num_classes\n",
    "bond_dim = 35       # the paper mentions 10, 20 and 120\n",
    "                    \n",
    "α = 1e-5            # learning rate\n",
    "num_sweeps = 4      # number of sweeps\n",
    "train_size = 60000  # training set size"
   ]
  },
  {
   "cell_type": "markdown",
   "id": "fd1aa8ec",
   "metadata": {},
   "source": [
    "# PRN Key"
   ]
  },
  {
   "cell_type": "code",
   "execution_count": 11,
   "id": "5b105cd8",
   "metadata": {},
   "outputs": [],
   "source": [
    "key = jax.random.PRNGKey(seed=13)"
   ]
  },
  {
   "cell_type": "markdown",
   "id": "39226049",
   "metadata": {},
   "source": [
    "# Load data and visualise"
   ]
  },
  {
   "cell_type": "code",
   "execution_count": 12,
   "id": "04241b2d",
   "metadata": {},
   "outputs": [],
   "source": [
    "train_images, train_labels, test_images, test_labels = dataset.mnist()"
   ]
  },
  {
   "cell_type": "code",
   "execution_count": 13,
   "id": "31df393a",
   "metadata": {},
   "outputs": [
    {
     "name": "stdout",
     "output_type": "stream",
     "text": [
      "Train data shape: (60000, 784) | Test data shape: (10000, 784)\n"
     ]
    }
   ],
   "source": [
    "print(f'Train data shape: {train_images.shape} | Test data shape: {test_images.shape}')"
   ]
  },
  {
   "cell_type": "markdown",
   "id": "2420bc94",
   "metadata": {},
   "source": [
    "Subsample data to reduce numerical cost."
   ]
  },
  {
   "cell_type": "code",
   "execution_count": 14,
   "id": "74a4719e",
   "metadata": {},
   "outputs": [],
   "source": [
    "def subsample_data(\n",
    "        key: Key, \n",
    "        data: Matrix, \n",
    "        amount: int\n",
    "    ) -> Matrix:\n",
    "    \"\"\"A helper to sub-sample data\"\"\"\n",
    "    samples, labels = data        \n",
    "    new_key, _ = jax.random.split(key)\n",
    "    idx = jnp.arange(labels.shape[0])\n",
    "    perm = jax.random.permutation(new_key, idx)\n",
    "    return samples[perm][:amount], labels[perm][:amount]\n",
    "\n",
    "train_images, train_labels = subsample_data(key, data=(train_images, train_labels), amount=train_size)"
   ]
  },
  {
   "cell_type": "code",
   "execution_count": 15,
   "id": "308302f6",
   "metadata": {},
   "outputs": [
    {
     "name": "stdout",
     "output_type": "stream",
     "text": [
      "Train data shape: (60000, 784) | Test data shape: (10000, 784)\n"
     ]
    }
   ],
   "source": [
    "print(f'Train data shape: {train_images.shape} | Test data shape: {test_images.shape}')"
   ]
  },
  {
   "cell_type": "code",
   "execution_count": 16,
   "id": "3233b067",
   "metadata": {},
   "outputs": [
    {
     "data": {
      "image/svg+xml": "<?xml version=\"1.0\" encoding=\"utf-8\" standalone=\"no\"?>\n<!DOCTYPE svg PUBLIC \"-//W3C//DTD SVG 1.1//EN\"\n  \"http://www.w3.org/Graphics/SVG/1.1/DTD/svg11.dtd\">\n<svg xmlns:xlink=\"http://www.w3.org/1999/xlink\" width=\"265.023529pt\" height=\"276.718594pt\" viewBox=\"0 0 265.023529 276.718594\" xmlns=\"http://www.w3.org/2000/svg\" version=\"1.1\">\n <metadata>\n  <rdf:RDF xmlns:dc=\"http://purl.org/dc/elements/1.1/\" xmlns:cc=\"http://creativecommons.org/ns#\" xmlns:rdf=\"http://www.w3.org/1999/02/22-rdf-syntax-ns#\">\n   <cc:Work>\n    <dc:type rdf:resource=\"http://purl.org/dc/dcmitype/StillImage\"/>\n    <dc:date>2022-05-09T18:42:54.753115</dc:date>\n    <dc:format>image/svg+xml</dc:format>\n    <dc:creator>\n     <cc:Agent>\n      <dc:title>Matplotlib v3.5.2, https://matplotlib.org/</dc:title>\n     </cc:Agent>\n    </dc:creator>\n   </cc:Work>\n  </rdf:RDF>\n </metadata>\n <defs>\n  <style type=\"text/css\">*{stroke-linejoin: round; stroke-linecap: butt}</style>\n </defs>\n <g id=\"figure_1\">\n  <g id=\"patch_1\">\n   <path d=\"M 0 276.718594 \nL 265.023529 276.718594 \nL 265.023529 0 \nL 0 0 \nz\n\" style=\"fill: #ffffff\"/>\n  </g>\n  <g id=\"axes_1\">\n   <g id=\"patch_2\">\n    <path d=\"M 7.2 93.415064 \nL 80.576471 93.415064 \nL 80.576471 20.038594 \nL 7.2 20.038594 \nz\n\" style=\"fill: #eeeeee\"/>\n   </g>\n   <g clip-path=\"url(#p3a031e031e)\">\n    <image xlink:href=\"data:image/png;base64,\niVBORw0KGgoAAAANSUhEUgAAAGYAAABmCAYAAAA53+RiAAACJElEQVR4nO3dLW4CQQBAYZZUIAghhBAkColHYDgGCbdCITkBEks4AiEYDB6FQwB1086m/2XhTfs+NZuhyTSvs9vuiGbX6/VaEk750QvQ2wwDZRgow0AZBsowUIaBMgyUYaAMA2UYKMNAGQbKMFBPj17Ad51OpzCez+fR3Gg0iq4nk0kYj8fjaK5ard5+cTfkjoEyDFSW2gnm8XgM40ajEc3lv5Usy8J4t9tFc51O5/aLuyF3DJRhoAwDldyvy9Pp9MufHQwGYdxsNotYTmHcMVCGgTIMFP4Zcz6fo+vNZvPlr12tVmF8OByiOV/J6EcMA4W/le33++h6Npu9+9nL5RJdl8svP3eJvXlyx1AZBsowUPhnTP7Vfq/XC+P1eh3NvX6mlErxa//X4xS4Y6AMA4W/ldXr9ei63++Hcf5W9pe4Y6AMA2UYKMNAGQbKMFCGgTIMlGGgDAOFfyXzkfyppCeYKpxhoAwDlfQzJn8q6QmmCmcYKMNAGQbKMFCGgTIMlGGgDANlGCjDQBkGyjBQhoFK+rW/R8u6O8NAJX0r8wRTd2cYKMNAGQbKMFCGgTIMVNJ/x3ym1WqFcaVSeeBKvs8dA2UYqD91K6vVatH1YrEI43a7fe/l/Io7BsowUIaBSu4/Li2XyzAeDofR3Ha7ja673e5d1lQEdwyUYaCSu5X9F+4YKMNAGQbKMFCGgTIMlGGgDANlGCjDQBkGyjBQhoEyDNQzjHFcXnYQ72kAAAAASUVORK5CYII=\" id=\"image7c812a7ca2\" transform=\"scale(1 -1)translate(0 -73.44)\" x=\"7.2\" y=\"-19.975064\" width=\"73.44\" height=\"73.44\"/>\n   </g>\n   <g id=\"matplotlib.axis_1\"/>\n   <g id=\"matplotlib.axis_2\"/>\n   <g id=\"patch_3\">\n    <path d=\"M 7.2 93.415064 \nL 7.2 20.038594 \n\" style=\"fill: none; stroke: #bcbcbc; stroke-width: 0.8; stroke-linejoin: miter; stroke-linecap: square\"/>\n   </g>\n   <g id=\"patch_4\">\n    <path d=\"M 80.576471 93.415064 \nL 80.576471 20.038594 \n\" style=\"fill: none; stroke: #bcbcbc; stroke-width: 0.8; stroke-linejoin: miter; stroke-linecap: square\"/>\n   </g>\n   <g id=\"patch_5\">\n    <path d=\"M 7.2 93.415064 \nL 80.576471 93.415064 \n\" style=\"fill: none; stroke: #bcbcbc; stroke-width: 0.8; stroke-linejoin: miter; stroke-linecap: square\"/>\n   </g>\n   <g id=\"patch_6\">\n    <path d=\"M 7.2 20.038594 \nL 80.576471 20.038594 \n\" style=\"fill: none; stroke: #bcbcbc; stroke-width: 0.8; stroke-linejoin: miter; stroke-linecap: square\"/>\n   </g>\n   <g id=\"text_1\">\n    <!-- label: 1 -->\n    <g transform=\"translate(27.195345 14.038594)scale(0.09 -0.09)\">\n     <defs>\n      <path id=\"DejaVuSans-6c\" d=\"M 603 4863 \nL 1178 4863 \nL 1178 0 \nL 603 0 \nL 603 4863 \nz\n\" transform=\"scale(0.015625)\"/>\n      <path id=\"DejaVuSans-61\" d=\"M 2194 1759 \nQ 1497 1759 1228 1600 \nQ 959 1441 959 1056 \nQ 959 750 1161 570 \nQ 1363 391 1709 391 \nQ 2188 391 2477 730 \nQ 2766 1069 2766 1631 \nL 2766 1759 \nL 2194 1759 \nz\nM 3341 1997 \nL 3341 0 \nL 2766 0 \nL 2766 531 \nQ 2569 213 2275 61 \nQ 1981 -91 1556 -91 \nQ 1019 -91 701 211 \nQ 384 513 384 1019 \nQ 384 1609 779 1909 \nQ 1175 2209 1959 2209 \nL 2766 2209 \nL 2766 2266 \nQ 2766 2663 2505 2880 \nQ 2244 3097 1772 3097 \nQ 1472 3097 1187 3025 \nQ 903 2953 641 2809 \nL 641 3341 \nQ 956 3463 1253 3523 \nQ 1550 3584 1831 3584 \nQ 2591 3584 2966 3190 \nQ 3341 2797 3341 1997 \nz\n\" transform=\"scale(0.015625)\"/>\n      <path id=\"DejaVuSans-62\" d=\"M 3116 1747 \nQ 3116 2381 2855 2742 \nQ 2594 3103 2138 3103 \nQ 1681 3103 1420 2742 \nQ 1159 2381 1159 1747 \nQ 1159 1113 1420 752 \nQ 1681 391 2138 391 \nQ 2594 391 2855 752 \nQ 3116 1113 3116 1747 \nz\nM 1159 2969 \nQ 1341 3281 1617 3432 \nQ 1894 3584 2278 3584 \nQ 2916 3584 3314 3078 \nQ 3713 2572 3713 1747 \nQ 3713 922 3314 415 \nQ 2916 -91 2278 -91 \nQ 1894 -91 1617 61 \nQ 1341 213 1159 525 \nL 1159 0 \nL 581 0 \nL 581 4863 \nL 1159 4863 \nL 1159 2969 \nz\n\" transform=\"scale(0.015625)\"/>\n      <path id=\"DejaVuSans-65\" d=\"M 3597 1894 \nL 3597 1613 \nL 953 1613 \nQ 991 1019 1311 708 \nQ 1631 397 2203 397 \nQ 2534 397 2845 478 \nQ 3156 559 3463 722 \nL 3463 178 \nQ 3153 47 2828 -22 \nQ 2503 -91 2169 -91 \nQ 1331 -91 842 396 \nQ 353 884 353 1716 \nQ 353 2575 817 3079 \nQ 1281 3584 2069 3584 \nQ 2775 3584 3186 3129 \nQ 3597 2675 3597 1894 \nz\nM 3022 2063 \nQ 3016 2534 2758 2815 \nQ 2500 3097 2075 3097 \nQ 1594 3097 1305 2825 \nQ 1016 2553 972 2059 \nL 3022 2063 \nz\n\" transform=\"scale(0.015625)\"/>\n      <path id=\"DejaVuSans-3a\" d=\"M 750 794 \nL 1409 794 \nL 1409 0 \nL 750 0 \nL 750 794 \nz\nM 750 3309 \nL 1409 3309 \nL 1409 2516 \nL 750 2516 \nL 750 3309 \nz\n\" transform=\"scale(0.015625)\"/>\n      <path id=\"DejaVuSans-20\" transform=\"scale(0.015625)\"/>\n      <path id=\"DejaVuSans-31\" d=\"M 794 531 \nL 1825 531 \nL 1825 4091 \nL 703 3866 \nL 703 4441 \nL 1819 4666 \nL 2450 4666 \nL 2450 531 \nL 3481 531 \nL 3481 0 \nL 794 0 \nL 794 531 \nz\n\" transform=\"scale(0.015625)\"/>\n     </defs>\n     <use xlink:href=\"#DejaVuSans-6c\"/>\n     <use xlink:href=\"#DejaVuSans-61\" x=\"27.783203\"/>\n     <use xlink:href=\"#DejaVuSans-62\" x=\"89.0625\"/>\n     <use xlink:href=\"#DejaVuSans-65\" x=\"152.539062\"/>\n     <use xlink:href=\"#DejaVuSans-6c\" x=\"214.0625\"/>\n     <use xlink:href=\"#DejaVuSans-3a\" x=\"241.845703\"/>\n     <use xlink:href=\"#DejaVuSans-20\" x=\"275.537109\"/>\n     <use xlink:href=\"#DejaVuSans-31\" x=\"307.324219\"/>\n    </g>\n   </g>\n  </g>\n  <g id=\"axes_2\">\n   <g id=\"patch_7\">\n    <path d=\"M 95.823529 93.415064 \nL 169.2 93.415064 \nL 169.2 20.038594 \nL 95.823529 20.038594 \nz\n\" style=\"fill: #eeeeee\"/>\n   </g>\n   <g clip-path=\"url(#p947e307cb9)\">\n    <image xlink:href=\"data:image/png;base64,\niVBORw0KGgoAAAANSUhEUgAAAGYAAABmCAYAAAA53+RiAAAD2UlEQVR4nO2dzSt0YRiHz7yECFHKiuWIjZKyZWGhLIikrMz4KBuEBSUpC+VfsLQYM2skHzsLJOUfmMVMPksWvpLm3d099/M6M6/TGeeH37W67+455pm5up/nzJxnjlAmk8k4BI4/QQ+AfAzFgEIxoFAMKBQDCsWAQjGgUAwoFAMKxYBCMaBQDCgUAwrFgFIY9AAcx3EuLy8lfn5+zvrY3d1diWdmZlTNPnZ2dlbilpYWVbPz+vp6iQsKCnKMOP+wY0ChGFBCQVzB3NjYUPn4+LjEj4+PqhYKhTw/j/nScv2djo4OiTc3N1WtqqrK8xi8wo4BhWJAoRhQAjldvrq6UvnT05PrY4uLi1U+ODgocSQSUbWioiKVHx4eSpxIJFTt9PRU5QcHBxK3tbWp2vHxscSVlZWuY/UTdgwoFAMKxYASyOcYe34fHR2V2B7OxMSEyqPRqKfnfHt7U/n5+bnKu7u7Jb69vVW1hoYGiU9OTlSttLTU03hywY4BhWJACWQqQ2RtbU3iubk5VTPfopubG1WrqanJy3jYMaBQDCgUA8qvXWPS6bTKw+GwxPaVUPMtur6+VjWuMb8MigEFYjPGV/Dy8qLysbExlWfbBDI/Py9xdXW1vwNzgR0DCsWAQjGg/OjTZXPd6O/vV7Xt7W2VV1RUSNzb26tq6+vreRhddtgxoFAMKBQDyo/6HPPw8KDyvr4+ic1dMB8xNTUl8eLior8D8wA7BhSKAeXbTWXmdDUyMqJqe3t7Kr+/v5fY3jRhXrF0HL0hBAF2DCgUAwrFgAL/lczW1pbKzY15uWhsbJQ4Fou51hBhx4BCMaBQDChwa4z941h7LUilUq7H2j842t/fl7ikpMSH0X0d7BhQKAYUuK9kysrKVD48PKzy5eVl12Pv7u5U/vr6KjGnMuILFAMKxYACd7psY++gXF1dlXhlZUXV3t/fVb6wsCBxtrUJEXYMKBQDCsWAAr/GZKOrq0vlOzs7Kjfv+5JMJl1riLBjQKEYUL71VHZ2dqby1tZWlZsvzd4VMz09nb+B+QA7BhSKAYViQIFfY+zbWZm3QZycnFQ1e80xX1pTU5OqXVxc+DTC/MCOAYViQKEYUCAuLZs7+I+OjlRtaWlJ5fZtG/+X9vZ2T8cFBTsGFIoBBeJ0eWBgQOJ4PK5q2f6LRW1trco7OztVbk5fPT09qlZeXv7pcX4l7BhQKAYUigEF4nS5rq5OYnvJs38AOzQ0JHFzc7Oqoa8bn4EdAwrFgAJxukz+hR0DCsWAQjGgUAwoFAMKxYBCMaBQDCgUAwrFgEIxoFAMKBQDCsWA8heRQw/R//yr0wAAAABJRU5ErkJggg==\" id=\"imaged55f123a0a\" transform=\"scale(1 -1)translate(0 -73.44)\" x=\"95.823529\" y=\"-19.975064\" width=\"73.44\" height=\"73.44\"/>\n   </g>\n   <g id=\"matplotlib.axis_3\"/>\n   <g id=\"matplotlib.axis_4\"/>\n   <g id=\"patch_8\">\n    <path d=\"M 95.823529 93.415064 \nL 95.823529 20.038594 \n\" style=\"fill: none; stroke: #bcbcbc; stroke-width: 0.8; stroke-linejoin: miter; stroke-linecap: square\"/>\n   </g>\n   <g id=\"patch_9\">\n    <path d=\"M 169.2 93.415064 \nL 169.2 20.038594 \n\" style=\"fill: none; stroke: #bcbcbc; stroke-width: 0.8; stroke-linejoin: miter; stroke-linecap: square\"/>\n   </g>\n   <g id=\"patch_10\">\n    <path d=\"M 95.823529 93.415064 \nL 169.2 93.415064 \n\" style=\"fill: none; stroke: #bcbcbc; stroke-width: 0.8; stroke-linejoin: miter; stroke-linecap: square\"/>\n   </g>\n   <g id=\"patch_11\">\n    <path d=\"M 95.823529 20.038594 \nL 169.2 20.038594 \n\" style=\"fill: none; stroke: #bcbcbc; stroke-width: 0.8; stroke-linejoin: miter; stroke-linecap: square\"/>\n   </g>\n   <g id=\"text_2\">\n    <!-- label: 3 -->\n    <g transform=\"translate(115.818874 14.038594)scale(0.09 -0.09)\">\n     <defs>\n      <path id=\"DejaVuSans-33\" d=\"M 2597 2516 \nQ 3050 2419 3304 2112 \nQ 3559 1806 3559 1356 \nQ 3559 666 3084 287 \nQ 2609 -91 1734 -91 \nQ 1441 -91 1130 -33 \nQ 819 25 488 141 \nL 488 750 \nQ 750 597 1062 519 \nQ 1375 441 1716 441 \nQ 2309 441 2620 675 \nQ 2931 909 2931 1356 \nQ 2931 1769 2642 2001 \nQ 2353 2234 1838 2234 \nL 1294 2234 \nL 1294 2753 \nL 1863 2753 \nQ 2328 2753 2575 2939 \nQ 2822 3125 2822 3475 \nQ 2822 3834 2567 4026 \nQ 2313 4219 1838 4219 \nQ 1578 4219 1281 4162 \nQ 984 4106 628 3988 \nL 628 4550 \nQ 988 4650 1302 4700 \nQ 1616 4750 1894 4750 \nQ 2613 4750 3031 4423 \nQ 3450 4097 3450 3541 \nQ 3450 3153 3228 2886 \nQ 3006 2619 2597 2516 \nz\n\" transform=\"scale(0.015625)\"/>\n     </defs>\n     <use xlink:href=\"#DejaVuSans-6c\"/>\n     <use xlink:href=\"#DejaVuSans-61\" x=\"27.783203\"/>\n     <use xlink:href=\"#DejaVuSans-62\" x=\"89.0625\"/>\n     <use xlink:href=\"#DejaVuSans-65\" x=\"152.539062\"/>\n     <use xlink:href=\"#DejaVuSans-6c\" x=\"214.0625\"/>\n     <use xlink:href=\"#DejaVuSans-3a\" x=\"241.845703\"/>\n     <use xlink:href=\"#DejaVuSans-20\" x=\"275.537109\"/>\n     <use xlink:href=\"#DejaVuSans-33\" x=\"307.324219\"/>\n    </g>\n   </g>\n  </g>\n  <g id=\"axes_3\">\n   <g id=\"patch_12\">\n    <path d=\"M 184.447059 93.415064 \nL 257.823529 93.415064 \nL 257.823529 20.038594 \nL 184.447059 20.038594 \nz\n\" style=\"fill: #eeeeee\"/>\n   </g>\n   <g clip-path=\"url(#pc673608347)\">\n    <image xlink:href=\"data:image/png;base64,\niVBORw0KGgoAAAANSUhEUgAAAGYAAABmCAYAAAA53+RiAAAEbElEQVR4nO2cPSi1YRjH7/Pmc/ARSSZJikFJEgcZUAaDwSAGgyIDA4WsEoVSmHyVlIEMZMAgKRaDQUqyEJGIRCSdd7u7r7v3OTjnOM//fd//b7r+XTzPrX/X/e3x+Hw+nyJw/HK7AeTP0BhQaAwoNAYUGgMKjQElwu0G2HR0dAg9MTEhdFZWlo6np6dFrqys7OcaFmZYMaDQGFBoDCgehC2Z29tbHWdkZIjcy8uL4+/FxMQIvba2JnRFRUUIWucOrBhQaAwoNAYUiDHm8vJSx+Y6RSmlXl9fhV5YWNBxa2uryH18fAg9Njam45aWlmCbGVZYMaDQGFAgtmTi4+N1nJ+fL3J7e3tCX11d6fj4+FjkSktLhR4dHdVxXV2dyCUlJQXW2DDBigGFxoBCY0CBGGPi4uJ0XFlZKXL2GLO5uanjzs5OkZubmxPafJZ9RNDd3R1YY8MEKwYUGgMKjQEFYkvG5PT0VGh7XRMdHa3jlZUVkcvNzRW6oKBAx3d3dyJ3fn4utLmWQoAVAwqNAQWuK7NZXFwUurGxUcfV1dUit7y8LHRmZqaOb25uRO7s7Exo++TUbVgxoNAYUGgMKBBbMv6ora0VOjk5WcdbW1siZ962UUqpqKgox+e+v78H37gfhBUDCo0BBb4ri42NFXpgYEDHbW1tItfV1SX0xcWF43N5gkkCgsaAQmNAgd+SsXl4eNBxamqqyNlTYPNPs/+paXV1VejExMTQNDBEsGJAoTGg0BhQ4Ncxj4+PQh8cHOj4s+HR4/HouLm5WeTQxhQbVgwoNAYUV6bL9itPTk503N/fL3IbGxtC39/fOz43MjJSaHN3OS0tTeTMLlEpXsYgX4TGgEJjQHFljLEvitv/cGRiTnmVkscA7e3tItfU1CT04eGhjhsaGkSusLBQaPM01Lzk7hasGFBoDCg0BhRXtmTstYqJvVWytLQk9He+D5Odna3j/f19kRsfHxe6qKhIxzMzM465cMGKAYXGgOLKdHl7e1tos3uKiJC96/z8vND19fUBvdP+nIm9JVNVVaVj+yTUPP1cX18XOXsbKFSwYkChMaDQGFAgtv1HRkZ0PDQ0JHJPT09Cm1PX2dlZkUtPTxf6O/3/9fW1jnNyckTOPEUtLi4WOXs6bx4v2NtJ34EVAwqNAYXGgAJ3E9O8aamUUjU1NULbRwYmXq9X6OHhYR3b44a/WzL2ONfX1+f4szZvb286DmaNw4oBhcaAAnfhz+5idnZ2hD46OtJxb2+vyO3u7gpdUlKiY383aJSSp58JCQmO7cvLy3N8h1KyK05JSXF8zmewYkChMaDQGFDgpsvBYI8x5rhhfwPg+fk5oHf09PQIPTg4GNBzPoMVAwqNAYXGgPJPjTH+sL9XNjk5KfTU1JSO7a0d8xtp5eXlImd+2yaUsGJAoTGg/Ddd2d8GKwYUGgMKjQGFxoBCY0ChMaDQGFBoDCg0BhQaAwqNAYXGgEJjQKExoNAYUGgMKDQGFBoDCo0BhcaAQmNA+Q1L3S4oXWaQhAAAAABJRU5ErkJggg==\" id=\"image04d9f7f461\" transform=\"scale(1 -1)translate(0 -73.44)\" x=\"184.447059\" y=\"-19.975064\" width=\"73.44\" height=\"73.44\"/>\n   </g>\n   <g id=\"matplotlib.axis_5\"/>\n   <g id=\"matplotlib.axis_6\"/>\n   <g id=\"patch_13\">\n    <path d=\"M 184.447059 93.415064 \nL 184.447059 20.038594 \n\" style=\"fill: none; stroke: #bcbcbc; stroke-width: 0.8; stroke-linejoin: miter; stroke-linecap: square\"/>\n   </g>\n   <g id=\"patch_14\">\n    <path d=\"M 257.823529 93.415064 \nL 257.823529 20.038594 \n\" style=\"fill: none; stroke: #bcbcbc; stroke-width: 0.8; stroke-linejoin: miter; stroke-linecap: square\"/>\n   </g>\n   <g id=\"patch_15\">\n    <path d=\"M 184.447059 93.415064 \nL 257.823529 93.415064 \n\" style=\"fill: none; stroke: #bcbcbc; stroke-width: 0.8; stroke-linejoin: miter; stroke-linecap: square\"/>\n   </g>\n   <g id=\"patch_16\">\n    <path d=\"M 184.447059 20.038594 \nL 257.823529 20.038594 \n\" style=\"fill: none; stroke: #bcbcbc; stroke-width: 0.8; stroke-linejoin: miter; stroke-linecap: square\"/>\n   </g>\n   <g id=\"text_3\">\n    <!-- label: 8 -->\n    <g transform=\"translate(204.442403 14.038594)scale(0.09 -0.09)\">\n     <defs>\n      <path id=\"DejaVuSans-38\" d=\"M 2034 2216 \nQ 1584 2216 1326 1975 \nQ 1069 1734 1069 1313 \nQ 1069 891 1326 650 \nQ 1584 409 2034 409 \nQ 2484 409 2743 651 \nQ 3003 894 3003 1313 \nQ 3003 1734 2745 1975 \nQ 2488 2216 2034 2216 \nz\nM 1403 2484 \nQ 997 2584 770 2862 \nQ 544 3141 544 3541 \nQ 544 4100 942 4425 \nQ 1341 4750 2034 4750 \nQ 2731 4750 3128 4425 \nQ 3525 4100 3525 3541 \nQ 3525 3141 3298 2862 \nQ 3072 2584 2669 2484 \nQ 3125 2378 3379 2068 \nQ 3634 1759 3634 1313 \nQ 3634 634 3220 271 \nQ 2806 -91 2034 -91 \nQ 1263 -91 848 271 \nQ 434 634 434 1313 \nQ 434 1759 690 2068 \nQ 947 2378 1403 2484 \nz\nM 1172 3481 \nQ 1172 3119 1398 2916 \nQ 1625 2713 2034 2713 \nQ 2441 2713 2670 2916 \nQ 2900 3119 2900 3481 \nQ 2900 3844 2670 4047 \nQ 2441 4250 2034 4250 \nQ 1625 4250 1398 4047 \nQ 1172 3844 1172 3481 \nz\n\" transform=\"scale(0.015625)\"/>\n     </defs>\n     <use xlink:href=\"#DejaVuSans-6c\"/>\n     <use xlink:href=\"#DejaVuSans-61\" x=\"27.783203\"/>\n     <use xlink:href=\"#DejaVuSans-62\" x=\"89.0625\"/>\n     <use xlink:href=\"#DejaVuSans-65\" x=\"152.539062\"/>\n     <use xlink:href=\"#DejaVuSans-6c\" x=\"214.0625\"/>\n     <use xlink:href=\"#DejaVuSans-3a\" x=\"241.845703\"/>\n     <use xlink:href=\"#DejaVuSans-20\" x=\"275.537109\"/>\n     <use xlink:href=\"#DejaVuSans-38\" x=\"307.324219\"/>\n    </g>\n   </g>\n  </g>\n  <g id=\"axes_4\">\n   <g id=\"patch_17\">\n    <path d=\"M 7.2 181.466829 \nL 80.576471 181.466829 \nL 80.576471 108.090358 \nL 7.2 108.090358 \nz\n\" style=\"fill: #eeeeee\"/>\n   </g>\n   <g clip-path=\"url(#p7f1d3ac41e)\">\n    <image xlink:href=\"data:image/png;base64,\niVBORw0KGgoAAAANSUhEUgAAAGYAAABmCAYAAAA53+RiAAADS0lEQVR4nO2dv0tyYRTHry8vtFlEoLuD0OISODk4hYQ4NKjQELg4+R8IDo5Bg1uj2JaLKChO4SAiOAhF7Qq1hNBQOGjbwz0P7/U1vVe/Xr+f6Rye515PfTjP/Wl55vP53NhRCoWCyIvFosgbjYaKz8/PN1GSbfzZdgHk31AMKBQDyt9tF+AkmUxGxaPRaIuV/B52DCgUAwrFgEIxoFAMKBQDiqtPlyeTiYp7vZ4YC4fDG67md7BjQKEYUCgGFFcdYxY9wfB6vRusZH3YMaBQDCiuWso8Ho/Iv7+/Vfzw8CDG8vn8RmpaFXYMKBQDCsWA4tnlt2Senp5EHgqFLOeenZ2J/PHxUeQHBwf2FWYD7BhQKAYUigFlp48xs9lM5Ol0WuTVatVy2/F4LHKfz2dfYTbAjgGFYkDZ6aVMp9vtijwSiVjOvb+/F3kymXSkplVhx4BCMaBQDCiuOsaYb/Mbhjx9rtVqYuzk5ETk7+/vzhW2AuwYUCgGFFctZTrmp5apVGrhXPNdgkQi4VhNy8KOAYViQKEYUFz1loxOLBZbeu7Ly4uKeYwhllAMKBQDiquvY8w/mvk7/4ZhGOVyWeTmJ5j62zdHR0f2F/cf2DGgUAworl7KzLRaLZFfXFyI3PxruL29FWO5XM65wixgx4BCMaBQDCiuviVjJhqNijwYDIr8+flZxa+vrxupaRHsGFAoBhSKAWVvrmN09Fv79XpdxfqXbN/e3lSsv13jFOwYUCgGFNtOlweDgcin06nl3Ha7LfLhcLjSZ+qrsH4KHI/HLbc9PT0VuXkp07m8vFSx/t1Np2DHgEIxoFAMKGudLn98fKg4EAiIsc/PT8vt9I/UT0+Xxa796PvS9+P3+1W8qb94zo4BhWJAoRhQ1rqOOT4+VvH19bUYK5VK6+x672HHgEIxoNh2S0b/R26Hh4cqvrq6EmOVSsVyP19fXyK/ubkR+d3dnYr1N110zC/udTqdhXObzaaK+/2+GMtmswu3dQJ2DCgUAwrFgLK3TzDRYceAQjGgUAwoFAMKxYBCMaBQDCgUAwrFgEIxoFAMKBQDCsWAQjGgUAwoFAMKxYBCMaBQDCgUAwrFgEIxoFAMKBQDCsWAQjGgUAwoFAPKD3s3zBp2C/mMAAAAAElFTkSuQmCC\" id=\"imagedd4c3a82aa\" transform=\"scale(1 -1)translate(0 -73.44)\" x=\"7.2\" y=\"-108.026829\" width=\"73.44\" height=\"73.44\"/>\n   </g>\n   <g id=\"matplotlib.axis_7\"/>\n   <g id=\"matplotlib.axis_8\"/>\n   <g id=\"patch_18\">\n    <path d=\"M 7.2 181.466829 \nL 7.2 108.090358 \n\" style=\"fill: none; stroke: #bcbcbc; stroke-width: 0.8; stroke-linejoin: miter; stroke-linecap: square\"/>\n   </g>\n   <g id=\"patch_19\">\n    <path d=\"M 80.576471 181.466829 \nL 80.576471 108.090358 \n\" style=\"fill: none; stroke: #bcbcbc; stroke-width: 0.8; stroke-linejoin: miter; stroke-linecap: square\"/>\n   </g>\n   <g id=\"patch_20\">\n    <path d=\"M 7.2 181.466829 \nL 80.576471 181.466829 \n\" style=\"fill: none; stroke: #bcbcbc; stroke-width: 0.8; stroke-linejoin: miter; stroke-linecap: square\"/>\n   </g>\n   <g id=\"patch_21\">\n    <path d=\"M 7.2 108.090358 \nL 80.576471 108.090358 \n\" style=\"fill: none; stroke: #bcbcbc; stroke-width: 0.8; stroke-linejoin: miter; stroke-linecap: square\"/>\n   </g>\n   <g id=\"text_4\">\n    <!-- label: 7 -->\n    <g transform=\"translate(27.195345 102.090358)scale(0.09 -0.09)\">\n     <defs>\n      <path id=\"DejaVuSans-37\" d=\"M 525 4666 \nL 3525 4666 \nL 3525 4397 \nL 1831 0 \nL 1172 0 \nL 2766 4134 \nL 525 4134 \nL 525 4666 \nz\n\" transform=\"scale(0.015625)\"/>\n     </defs>\n     <use xlink:href=\"#DejaVuSans-6c\"/>\n     <use xlink:href=\"#DejaVuSans-61\" x=\"27.783203\"/>\n     <use xlink:href=\"#DejaVuSans-62\" x=\"89.0625\"/>\n     <use xlink:href=\"#DejaVuSans-65\" x=\"152.539062\"/>\n     <use xlink:href=\"#DejaVuSans-6c\" x=\"214.0625\"/>\n     <use xlink:href=\"#DejaVuSans-3a\" x=\"241.845703\"/>\n     <use xlink:href=\"#DejaVuSans-20\" x=\"275.537109\"/>\n     <use xlink:href=\"#DejaVuSans-37\" x=\"307.324219\"/>\n    </g>\n   </g>\n  </g>\n  <g id=\"axes_5\">\n   <g id=\"patch_22\">\n    <path d=\"M 95.823529 181.466829 \nL 169.2 181.466829 \nL 169.2 108.090358 \nL 95.823529 108.090358 \nz\n\" style=\"fill: #eeeeee\"/>\n   </g>\n   <g clip-path=\"url(#pebee0d2982)\">\n    <image xlink:href=\"data:image/png;base64,\niVBORw0KGgoAAAANSUhEUgAAAGYAAABmCAYAAAA53+RiAAAELElEQVR4nO2dTSjsURjGz4yvfCRl4ys2LOxE2SAlyhIbC1Y2SiliI0lZiEI2ZOVjLzaKUiwshI2yEGUh5COWJGTu7r3nPXdm/GeMmefe+/xWz9PLmaOn9/9xzvz/fIFAIGAIHP5ET4AEh8GAwmBAYTCgMBhQGAwoDAYUBgMKgwGFwYCSnOgJuDQ1NSm/u7urfHd3t+i2tjZVa2hoUN7n88V4dvGDHQMKgwGFwYDiQ1j2Pz4+Fl1VVaVqkZwnVlZWlG9tbRWdkZER3eQSBDsGFAYDCsShrLm5WfT29raqfeeSt7GxUfTW1lbU4yQCdgwoDAYUBgMKxDmmuLhY9M3Njap1dXUpn5ubK3pqairsuElJSaIPDg5UraKiItJpxhV2DCgMBhQGAwrEsv/n52dQbYwxnZ2dytfU1Ih+f39XtdnZWeXf3t5ELy4uqtrY2JjyOTk5nucbD9gxoDAYUCAOZX6/P6gORnLy7ylPT0+r2uvrq/ILCwui5+fnVa2kpET5/v5+z3OIB4mfAQkKgwGFwYACvySzs7OjfH19fchx7u7ulC8sLBT91fbB1dWV6Pz8/LA/Gw/YMaAwGFAgLpdjRV5envITExOih4aGwv7u+vq66J6enthOLArYMaAwGFAYDCj/1DnGpbe3V/Ty8rKqnZ2dKX9xcRGPKXmGHQMKgwGFwYACsSRTVFQk2t3BvLy8VD4lJSWqz1hdXVW+vb1d+fT0dNEPDw+qlogvpLNjQGEwoEAcysKtLg8MDCg/Ojoq2t7NNMaYtLS0kJ/x/PysfG1trfInJyei7aUcY4wZHBwMOe5PwY4BhcGAwmBAgViSKSgoEO2eY2ZmZkJ6dzdzc3NT+dTUVNGZmZmqVl5errx9jkGAHQMKgwGFwYACcR+zv78v2r2/CPftlsPDQ+UrKys9f+bw8LDyk5OTosvKylTt9PTU87ixgh0DCoMBBeJQZmM/N2nMn4cy+zBzdHSkallZWZ4/5/b2Vnn7mcynpydV+/j48DxurGDHgMJgQGEwoEAsydi4O5juQ0Tn5+ei7ctsY/58bWM43C+Ol5aWin58fPQ8zk/BjgGFwYDCYECBu4/Jzs5W/uXlxfPvuueGSJ7d39jYEN3S0qJq9isdOzo6PI/5HdgxoDAYUOAul0dGRpT/6oEjm/HxceX7+vpEu0s7a2tryruvMLFJxDOZ7BhQGAwoDAYUuMvl6+tr5d0dTbceDvtP+85rgrnsTwQGAwqDAQXuPsZ+iMkYY/b29pSvq6sTHcn5JhKWlpZ+ZNxIYMeAwmBAgbtc/gr78FVdXa1q9/f3ytu7oe5OqL1jaYwxc3Nzot1/QpeIVzGyY0BhMKAwGFD+unPM/wI7BhQGAwqDAYXBgMJgQGEwoDAYUBgMKAwGFAYDCoMBhcGAwmBAYTCgMBhQGAwoDAaUXyPrCFG6fJazAAAAAElFTkSuQmCC\" id=\"image861fd75805\" transform=\"scale(1 -1)translate(0 -73.44)\" x=\"95.823529\" y=\"-108.026829\" width=\"73.44\" height=\"73.44\"/>\n   </g>\n   <g id=\"matplotlib.axis_9\"/>\n   <g id=\"matplotlib.axis_10\"/>\n   <g id=\"patch_23\">\n    <path d=\"M 95.823529 181.466829 \nL 95.823529 108.090358 \n\" style=\"fill: none; stroke: #bcbcbc; stroke-width: 0.8; stroke-linejoin: miter; stroke-linecap: square\"/>\n   </g>\n   <g id=\"patch_24\">\n    <path d=\"M 169.2 181.466829 \nL 169.2 108.090358 \n\" style=\"fill: none; stroke: #bcbcbc; stroke-width: 0.8; stroke-linejoin: miter; stroke-linecap: square\"/>\n   </g>\n   <g id=\"patch_25\">\n    <path d=\"M 95.823529 181.466829 \nL 169.2 181.466829 \n\" style=\"fill: none; stroke: #bcbcbc; stroke-width: 0.8; stroke-linejoin: miter; stroke-linecap: square\"/>\n   </g>\n   <g id=\"patch_26\">\n    <path d=\"M 95.823529 108.090358 \nL 169.2 108.090358 \n\" style=\"fill: none; stroke: #bcbcbc; stroke-width: 0.8; stroke-linejoin: miter; stroke-linecap: square\"/>\n   </g>\n   <g id=\"text_5\">\n    <!-- label: 0 -->\n    <g transform=\"translate(115.818874 102.090358)scale(0.09 -0.09)\">\n     <defs>\n      <path id=\"DejaVuSans-30\" d=\"M 2034 4250 \nQ 1547 4250 1301 3770 \nQ 1056 3291 1056 2328 \nQ 1056 1369 1301 889 \nQ 1547 409 2034 409 \nQ 2525 409 2770 889 \nQ 3016 1369 3016 2328 \nQ 3016 3291 2770 3770 \nQ 2525 4250 2034 4250 \nz\nM 2034 4750 \nQ 2819 4750 3233 4129 \nQ 3647 3509 3647 2328 \nQ 3647 1150 3233 529 \nQ 2819 -91 2034 -91 \nQ 1250 -91 836 529 \nQ 422 1150 422 2328 \nQ 422 3509 836 4129 \nQ 1250 4750 2034 4750 \nz\n\" transform=\"scale(0.015625)\"/>\n     </defs>\n     <use xlink:href=\"#DejaVuSans-6c\"/>\n     <use xlink:href=\"#DejaVuSans-61\" x=\"27.783203\"/>\n     <use xlink:href=\"#DejaVuSans-62\" x=\"89.0625\"/>\n     <use xlink:href=\"#DejaVuSans-65\" x=\"152.539062\"/>\n     <use xlink:href=\"#DejaVuSans-6c\" x=\"214.0625\"/>\n     <use xlink:href=\"#DejaVuSans-3a\" x=\"241.845703\"/>\n     <use xlink:href=\"#DejaVuSans-20\" x=\"275.537109\"/>\n     <use xlink:href=\"#DejaVuSans-30\" x=\"307.324219\"/>\n    </g>\n   </g>\n  </g>\n  <g id=\"axes_6\">\n   <g id=\"patch_27\">\n    <path d=\"M 184.447059 181.466829 \nL 257.823529 181.466829 \nL 257.823529 108.090358 \nL 184.447059 108.090358 \nz\n\" style=\"fill: #eeeeee\"/>\n   </g>\n   <g clip-path=\"url(#p228365464a)\">\n    <image xlink:href=\"data:image/png;base64,\niVBORw0KGgoAAAANSUhEUgAAAGYAAABmCAYAAAA53+RiAAADrklEQVR4nO2dvS97YRTHb3+EdiEk1cUuJYamYvAHSBcSaRcSL6vBH6CmiqGbGBlsYkMkYjIYxNKxKRUhYSDxkmAxSGs7ec4Tt/Xj3vZb/X6mc/Lce3PST87z5L48BMrlctkhcPyrdwHkaygGFIoBpbXeBdhMTU2pPBAIqHxzc1Pi9vb2mtRUD9gxoFAMKBBT2d7ensSHh4dq7PX1VeXRaFTipaUlNWZPe40MOwYUigGFYkAJIDyS2d/fl3hiYuLb5z0/P6u8s7PTs5rqDTsGFIoBhWJAgVhj3t/fJY7FYmrs4uLC9Tz72KOjI5U38prDjgGFYkCBmMpMjo+PVT46Oqryj48P13P7+/tVfnJyInFHR4cH1dUOdgwoFAMKxYACt8bY5HI5la+vr0tsvs38iq6uLonNxz6O4zgjIyMeVOcf7BhQKAYUigEFfo2xeXt7k7i7u1uNlUol1/NmZmZUvra2pnK0+xx2DCgUA0rDTWUm9hvMeDyu8pubG9dzk8mkyre3tyVuaWnxoLrfwY4BhWJAoRhQGnqNsbm9vVV5IpGQ+Pz8vOK5KysrEi8uLnpb2A9gx4BCMaD8qanM5uzsTOK5uTk1Zj+1jkQiEl9dXamxYDDofXFVYMeAQjGgUAwof3qNMTEfuTiO40xPT6vc/BlSqZQa29rakri1tTZ7vdgxoFAMKBQDStOsMTbLy8sqz2Qyrsfu7u5KPD4+7ltNJuwYUCgGlKadyh4eHlQ+ODjoOtbT0yNxsVhUY359xMGOAYViQKEYUJp2jbHZ2NiQeH5+3vW4QqGg8r6+Pl/qYceAQjGgUAwovq0x5ibWyclJNba6uqry3t5eP0r4L56eniQ271tsuMY0ORQDim+v4y4vLyXe2dlRY6enpypPp9MSDw8PV7zuwMCAxKFQ6DclKtra2jy7lhewY0ChGFAoBhTf1hhzzra/LLm7u1P5wsLCt69r7t2vti6MjY1JbP5Z4K8w93YiwI4BhWJAoRhQavLY37z3cJzqm4jQMF8f27WbuwS8hB0DCsWAUpMvpLPZrMpnZ2dV/vLyUosyfszQ0JDEfk1dNuwYUCgGFIoBpS5fyTw+PqrcfBxyfX2txsLhsMrNTUTV/sPSwcGBxPl8vuKx5s9gX/f+/l7iSm83vYQdAwrFgEIxoPBLTFDYMaBQDCgUAwrFgEIxoFAMKBQDCsWAQjGgUAwoFAMKxYBCMaBQDCgUAwrFgEIxoFAMKBQDCsWAQjGgUAwoFAMKxYDyCXSl8zBd9HJBAAAAAElFTkSuQmCC\" id=\"image3f4af2ddd4\" transform=\"scale(1 -1)translate(0 -73.44)\" x=\"184.447059\" y=\"-108.026829\" width=\"73.44\" height=\"73.44\"/>\n   </g>\n   <g id=\"matplotlib.axis_11\"/>\n   <g id=\"matplotlib.axis_12\"/>\n   <g id=\"patch_28\">\n    <path d=\"M 184.447059 181.466829 \nL 184.447059 108.090358 \n\" style=\"fill: none; stroke: #bcbcbc; stroke-width: 0.8; stroke-linejoin: miter; stroke-linecap: square\"/>\n   </g>\n   <g id=\"patch_29\">\n    <path d=\"M 257.823529 181.466829 \nL 257.823529 108.090358 \n\" style=\"fill: none; stroke: #bcbcbc; stroke-width: 0.8; stroke-linejoin: miter; stroke-linecap: square\"/>\n   </g>\n   <g id=\"patch_30\">\n    <path d=\"M 184.447059 181.466829 \nL 257.823529 181.466829 \n\" style=\"fill: none; stroke: #bcbcbc; stroke-width: 0.8; stroke-linejoin: miter; stroke-linecap: square\"/>\n   </g>\n   <g id=\"patch_31\">\n    <path d=\"M 184.447059 108.090358 \nL 257.823529 108.090358 \n\" style=\"fill: none; stroke: #bcbcbc; stroke-width: 0.8; stroke-linejoin: miter; stroke-linecap: square\"/>\n   </g>\n   <g id=\"text_6\">\n    <!-- label: 7 -->\n    <g transform=\"translate(204.442403 102.090358)scale(0.09 -0.09)\">\n     <use xlink:href=\"#DejaVuSans-6c\"/>\n     <use xlink:href=\"#DejaVuSans-61\" x=\"27.783203\"/>\n     <use xlink:href=\"#DejaVuSans-62\" x=\"89.0625\"/>\n     <use xlink:href=\"#DejaVuSans-65\" x=\"152.539062\"/>\n     <use xlink:href=\"#DejaVuSans-6c\" x=\"214.0625\"/>\n     <use xlink:href=\"#DejaVuSans-3a\" x=\"241.845703\"/>\n     <use xlink:href=\"#DejaVuSans-20\" x=\"275.537109\"/>\n     <use xlink:href=\"#DejaVuSans-37\" x=\"307.324219\"/>\n    </g>\n   </g>\n  </g>\n  <g id=\"axes_7\">\n   <g id=\"patch_32\">\n    <path d=\"M 7.2 269.518594 \nL 80.576471 269.518594 \nL 80.576471 196.142123 \nL 7.2 196.142123 \nz\n\" style=\"fill: #eeeeee\"/>\n   </g>\n   <g clip-path=\"url(#p292f3f4c24)\">\n    <image xlink:href=\"data:image/png;base64,\niVBORw0KGgoAAAANSUhEUgAAAGYAAABmCAYAAAA53+RiAAADz0lEQVR4nO2cO0gjURSGJz7ASFREiQ9E8YFitI6lYpnG2spGVLCyFCt7Ky0txEZELCREsNbCIoQIgoVYWIhR0eATEdFssXC456JDFndmfuL/Vf/hiLnL55k7uZlNqFAoFBwCR1nQCyBfQzGgUAwoFAMKxYBCMaBUBL0AL3l5eZE8MzOjeolEQtXj4+O+rKlYODGgUAwoFANKSe8xDw8Pkre3t1XP3mPQ4MSAQjGgUAwoJb3H3N3dSX57ewtwJf8OJwYUigGlpC9lkUhEckWF/qdubW2pmkcypCgoBhSKASVUyk/JPD8/S25tbVW9j48PVV9eXkquq6vzdmFFwIkBhWJAoRhQfs37mOHhYdXb3d1Vtb3nBA0nBhSKAaWkb5dN0um0qoeGhlRt3i43Nzf7siY3ODGgUAwoFANKSd8umzQ0NKi6rEz/TaZSKcmTk5O+rMkNTgwoFAMKxKXs8/Pzy/wVoVBIcnl5edGv0dXVpeq2tjZVn52dFf27/IATAwrFgEIxoPhyJPP6+qrq+fl5Ve/v70vOZrOqZ+4pjqP3iomJCdUbGRlR9eDgoOT6+nrV6+joULW5X52cnKheVVWV4zecGFAoBhSKAcWX9zE3NzeqXl5eVrX5SePOzo7q1dTUqHpzc1Nye3u76q2tram6s7NTsn0EYx/RHB0dSb6/v1e9ID4G4MSAQjGgQBzJLC4uSh4bG3P92dHR0W979u2ziX3U09LSomqEE2UTTgwoFAMKxYDiyx4TDodVXV1dreqNjQ3Jc3NznqzBvl2OxWLf/mwymVT11NSUJ2tygxMDCsWAQjGgBPIk5vT0tKrNo5S9vT3Vc3vf8hPsh8j7+/sl28c1h4eHnqzBDU4MKBQDSiCXsouLC1X39fVJ7u3tVT37E02vGBgYkNzT06N65ldqVVZW+rIeTgwoFAMKxYASyLG//RTk0tKS5IWFBdW7vr5WdVNTkydrisfjktfX11Uvl8tJtj819QpODCgUAwrFgALxn2Pz+bzkxsZG1TPfXziO4xwfH3uyhtXVVcn2kdH5+blk7jG/HIoBBeJS9v7+Lnl2dlb17FvX09NTyfaD4T/h6upKsv0VWryUEYFiQKEYUCD2GJOnpydV21+DaO5BKysr/+11Hx8fJXd3d6teJpORzD3ml0MxoFAMKBBP+5vYX/VuH/Pf3t568rq1tbWSDw4OVC8ajXrymm5wYkChGFDgbpfJXzgxoFAMKBQDCsWAQjGgUAwoFAMKxYBCMaBQDCgUAwrFgEIxoFAMKBQDCsWAQjGgUAwoFAMKxYBCMaD8AQSL3RzibrrLAAAAAElFTkSuQmCC\" id=\"image5c6c7ee78e\" transform=\"scale(1 -1)translate(0 -73.44)\" x=\"7.2\" y=\"-196.078594\" width=\"73.44\" height=\"73.44\"/>\n   </g>\n   <g id=\"matplotlib.axis_13\"/>\n   <g id=\"matplotlib.axis_14\"/>\n   <g id=\"patch_33\">\n    <path d=\"M 7.2 269.518594 \nL 7.2 196.142123 \n\" style=\"fill: none; stroke: #bcbcbc; stroke-width: 0.8; stroke-linejoin: miter; stroke-linecap: square\"/>\n   </g>\n   <g id=\"patch_34\">\n    <path d=\"M 80.576471 269.518594 \nL 80.576471 196.142123 \n\" style=\"fill: none; stroke: #bcbcbc; stroke-width: 0.8; stroke-linejoin: miter; stroke-linecap: square\"/>\n   </g>\n   <g id=\"patch_35\">\n    <path d=\"M 7.2 269.518594 \nL 80.576471 269.518594 \n\" style=\"fill: none; stroke: #bcbcbc; stroke-width: 0.8; stroke-linejoin: miter; stroke-linecap: square\"/>\n   </g>\n   <g id=\"patch_36\">\n    <path d=\"M 7.2 196.142123 \nL 80.576471 196.142123 \n\" style=\"fill: none; stroke: #bcbcbc; stroke-width: 0.8; stroke-linejoin: miter; stroke-linecap: square\"/>\n   </g>\n   <g id=\"text_7\">\n    <!-- label: 4 -->\n    <g transform=\"translate(27.195345 190.142123)scale(0.09 -0.09)\">\n     <defs>\n      <path id=\"DejaVuSans-34\" d=\"M 2419 4116 \nL 825 1625 \nL 2419 1625 \nL 2419 4116 \nz\nM 2253 4666 \nL 3047 4666 \nL 3047 1625 \nL 3713 1625 \nL 3713 1100 \nL 3047 1100 \nL 3047 0 \nL 2419 0 \nL 2419 1100 \nL 313 1100 \nL 313 1709 \nL 2253 4666 \nz\n\" transform=\"scale(0.015625)\"/>\n     </defs>\n     <use xlink:href=\"#DejaVuSans-6c\"/>\n     <use xlink:href=\"#DejaVuSans-61\" x=\"27.783203\"/>\n     <use xlink:href=\"#DejaVuSans-62\" x=\"89.0625\"/>\n     <use xlink:href=\"#DejaVuSans-65\" x=\"152.539062\"/>\n     <use xlink:href=\"#DejaVuSans-6c\" x=\"214.0625\"/>\n     <use xlink:href=\"#DejaVuSans-3a\" x=\"241.845703\"/>\n     <use xlink:href=\"#DejaVuSans-20\" x=\"275.537109\"/>\n     <use xlink:href=\"#DejaVuSans-34\" x=\"307.324219\"/>\n    </g>\n   </g>\n  </g>\n  <g id=\"axes_8\">\n   <g id=\"patch_37\">\n    <path d=\"M 95.823529 269.518594 \nL 169.2 269.518594 \nL 169.2 196.142123 \nL 95.823529 196.142123 \nz\n\" style=\"fill: #eeeeee\"/>\n   </g>\n   <g clip-path=\"url(#p26ca5823d9)\">\n    <image xlink:href=\"data:image/png;base64,\niVBORw0KGgoAAAANSUhEUgAAAGYAAABmCAYAAAA53+RiAAAEFElEQVR4nO2dTyh0URjGz3yEkP8kkrKx82cllpOdlFjIQrJhLSnFSomNFWVjM4WysLKcmoaF2BAbpJSNsPAnC2yMxfd1Ou/5zHwz4547z3ye3+p9OnPvfevpvefcc889E4jFYjFF4PiV6QTI19AYUGgMKDQGFBoDCo0BhcaAQmNAoTGg0BhQaAwoNAYUGgMKjQEl19WJr6+vdRwOh0Xb1NSU0M/Pz55cs6mpSejp6Wkd9/X1ibaqqipPrukKVgwoNAaUgKs3mGNjYzpeW1tzcYmUyM2Vd+2cnByhKysrdbywsCDagsGgjuvr6x1k9zesGFBoDCg0BhTP+pjLy0uhW1padPz+/p7w2NbWVh0PDAyItpWVFaHv7+/TTTFtJiYmdLy0tOTLNVkxoNAYUGgMKM6eY46OjnT88PAg2rq6uoQ2nyny8/NF29vbm9AfHx9J5/D09KTj1dVV0ba9vS30+fl53PMEAgEd29NJi4uLSeeTCqwYUGgMKM5uZei8vr4KvbGxoWNzOsmmtLRU6MfHR28T+wMrBhQaAwqNAeXH9jE25tC6oqIi7u/Yx/xwaAwozhZjoGPPeO/u7mYok69hxYBCY0ChMaD8mD7GXIColFLz8/NCJ1rJ09nZqePZ2VlvE4sDKwYUGgMKjQHlv5qSsfsRc0XL5uamaLPfqpoUFBQIvb+/r+O2trZvZJg8rBhQaAwoWT1cPjg4ELqnp0foVGZ+GxoadLy3tyfaGhsb08jue7BiQKExoNAYULKujzH7lVT6FHuYOzMzI3R7e7uOM9Gn2LBiQKExoNAYULJuSsb8UDUajSb8bX9/v45DoZBoKyoq8jQvr2HFgEJjQMm64XIqmN/u29/5o8OKAYXGgEJjQPFluGy/LczLyxO6uLg46XOZHxgNDw8nfZw9fTM3Nye0OSWDACsGFBoDCo0BxVkfc3p6quOOjg7RZm+RaE7B21skFhYWCv3y8qJjs79RSqnJyUmh7Q9gTcrKyoSORCI69mslTCJYMaDQGFCc3cq2trZ0PDQ0lPRxzc3NQh8eHgpdUlIS99idnR2hBwcHdWxvfZLoumdnZ//M0zWsGFBoDCg0BhRnc+HmMNfcVkoppRJ1axcXF0Kvr68LPTo6GvfY7u5uoc1pGHsbLJvb21sdX11diTZ7eO8HrBhQaAwoNAYUX6b97eeLkZERoc19XDJFdXW1jk9OTkRbbW2t3+mwYlChMaD4snSkt7dX6PLycqHNt4f2cPnm5sZJTva/YYyPj+s4E7cuG1YMKDQGFBoDCtyi8ru7O6HtPV+Wl5fTOm9dXZ3Qx8fHQtfU1KR1XlewYkChMaDA3crIb1gxoNAYUGgMKDQGFBoDCo0BhcaAQmNAoTGg0BhQaAwoNAYUGgMKjQHlEzCOCMnFCz69AAAAAElFTkSuQmCC\" id=\"image170ffe577f\" transform=\"scale(1 -1)translate(0 -73.44)\" x=\"95.823529\" y=\"-196.078594\" width=\"73.44\" height=\"73.44\"/>\n   </g>\n   <g id=\"matplotlib.axis_15\"/>\n   <g id=\"matplotlib.axis_16\"/>\n   <g id=\"patch_38\">\n    <path d=\"M 95.823529 269.518594 \nL 95.823529 196.142123 \n\" style=\"fill: none; stroke: #bcbcbc; stroke-width: 0.8; stroke-linejoin: miter; stroke-linecap: square\"/>\n   </g>\n   <g id=\"patch_39\">\n    <path d=\"M 169.2 269.518594 \nL 169.2 196.142123 \n\" style=\"fill: none; stroke: #bcbcbc; stroke-width: 0.8; stroke-linejoin: miter; stroke-linecap: square\"/>\n   </g>\n   <g id=\"patch_40\">\n    <path d=\"M 95.823529 269.518594 \nL 169.2 269.518594 \n\" style=\"fill: none; stroke: #bcbcbc; stroke-width: 0.8; stroke-linejoin: miter; stroke-linecap: square\"/>\n   </g>\n   <g id=\"patch_41\">\n    <path d=\"M 95.823529 196.142123 \nL 169.2 196.142123 \n\" style=\"fill: none; stroke: #bcbcbc; stroke-width: 0.8; stroke-linejoin: miter; stroke-linecap: square\"/>\n   </g>\n   <g id=\"text_8\">\n    <!-- label: 3 -->\n    <g transform=\"translate(115.818874 190.142123)scale(0.09 -0.09)\">\n     <use xlink:href=\"#DejaVuSans-6c\"/>\n     <use xlink:href=\"#DejaVuSans-61\" x=\"27.783203\"/>\n     <use xlink:href=\"#DejaVuSans-62\" x=\"89.0625\"/>\n     <use xlink:href=\"#DejaVuSans-65\" x=\"152.539062\"/>\n     <use xlink:href=\"#DejaVuSans-6c\" x=\"214.0625\"/>\n     <use xlink:href=\"#DejaVuSans-3a\" x=\"241.845703\"/>\n     <use xlink:href=\"#DejaVuSans-20\" x=\"275.537109\"/>\n     <use xlink:href=\"#DejaVuSans-33\" x=\"307.324219\"/>\n    </g>\n   </g>\n  </g>\n  <g id=\"axes_9\">\n   <g id=\"patch_42\">\n    <path d=\"M 184.447059 269.518594 \nL 257.823529 269.518594 \nL 257.823529 196.142123 \nL 184.447059 196.142123 \nz\n\" style=\"fill: #eeeeee\"/>\n   </g>\n   <g clip-path=\"url(#p9f0b1dc4bc)\">\n    <image xlink:href=\"data:image/png;base64,\niVBORw0KGgoAAAANSUhEUgAAAGYAAABmCAYAAAA53+RiAAAD3UlEQVR4nO2czSt0URzHzyAlL4kkwkaRIsXOW8hG7AiFFSJ/gLJUdlIs/Af2kg1FSdOsUEIpbyXZkZdCSfPsznO+93Efg2t8R9/P6vft58w908e5587MnQlFo9GoEXQk/fQExNtIDCkSQ4rEkCIxpEgMKRJDisSQIjGkSAwpEkOKxJAiMaRIDCkSQ4rEkCIxpEgMKRJDisSQIjGkpAT1QEdHR7694uJiyOnp6TE/7tXVFeT7+/uYxyYl/f2/Kysri3kcA1oxpEgMKRJDSmB7TDgchjwyMmLrgoIC6E1MTEDOzs62tXcPmZychPz4+PjmOGOMeX5+9s3j4+PQW1hYMMxoxZAiMaSEgrqp/OnpCXJlZaWtz87OgjiEMcaYvr4+W8/NzUHv+voacn19va0bGhqgt7KyEticvgOtGFIkhhSJISWwy+W0tDTIe3t7tu7u7obe2tqa79jy8nLojY6OQh4eHrZ1SgpOPz8/H3JVVZWt3ctsY4x5fX2FnJycbJjQiiFFYkgJ7FTmJSMjw9ZLS0vQOzk5gey+gve+E/0RvKery8tLW7e1tUFPpzLxKSSGFIkh5dv2GBfvpbR7GfsV7u7uIE9PT0O+uLiwdU1NDfRSU1MDmcN3oRVDisSQIjGkxGWP8bK5uQl5dnbW1llZWdAbGhqC7L61735Kasy/e87MzIytx8bGPjXXn0IrhhSJISWwTzD/x8PDA+SWlhbIOzs7gRxna2sLsvupZSgUCuQY8UIrhhSJIUViSInL5XJmZibk5uZmyLu7u7Z+b8srLS219cbGBvRKSkogJ9q+4qIVQ4rEkCIxpMTldcx7uF966unpgd7+/r7vuIqKCsgHBweQ3S8uJRqJO/NfjsSQQnEqc/He6bK6ugq5q6vLd2x1dTXk5eVlWxcVFUGP7a4YL1oxpEgMKRJDCt0e8x7r6+u27u3thd7NzY3vuNbWVsjesXV1dbYuLCyEXk5Ozofn+VW0YkiRGFIkhpSE22Ncjo+PIXu/9PTZp+b9/YCmpiZbDwwMQK+9vR2ye4fnV+721IohRWJISehTmZfBwUHIi4uLtm5sbISe93cJtre3A5lDbW2trTs6OqA3NTUV8+NoxZAiMaRIDCm/ao+5vb2F7L7t39/fDz3v0355ebH14eEh9Obn520diUSgd35+7jufzs5OyB/5/RqtGFIkhhSJIeVX7THxwN2LjDHm9PTU929zc3Mh5+XlxXwcrRhSJIYUncpI0YohRWJIkRhSJIYUiSFFYkiRGFIkhhSJIUViSJEYUiSGFIkhRWJIkRhSJIYUiSFFYkiRGFIkhhSJIeUP1kbvmNvqUocAAAAASUVORK5CYII=\" id=\"image61e4e2ba7d\" transform=\"scale(1 -1)translate(0 -73.44)\" x=\"184.447059\" y=\"-196.078594\" width=\"73.44\" height=\"73.44\"/>\n   </g>\n   <g id=\"matplotlib.axis_17\"/>\n   <g id=\"matplotlib.axis_18\"/>\n   <g id=\"patch_43\">\n    <path d=\"M 184.447059 269.518594 \nL 184.447059 196.142123 \n\" style=\"fill: none; stroke: #bcbcbc; stroke-width: 0.8; stroke-linejoin: miter; stroke-linecap: square\"/>\n   </g>\n   <g id=\"patch_44\">\n    <path d=\"M 257.823529 269.518594 \nL 257.823529 196.142123 \n\" style=\"fill: none; stroke: #bcbcbc; stroke-width: 0.8; stroke-linejoin: miter; stroke-linecap: square\"/>\n   </g>\n   <g id=\"patch_45\">\n    <path d=\"M 184.447059 269.518594 \nL 257.823529 269.518594 \n\" style=\"fill: none; stroke: #bcbcbc; stroke-width: 0.8; stroke-linejoin: miter; stroke-linecap: square\"/>\n   </g>\n   <g id=\"patch_46\">\n    <path d=\"M 184.447059 196.142123 \nL 257.823529 196.142123 \n\" style=\"fill: none; stroke: #bcbcbc; stroke-width: 0.8; stroke-linejoin: miter; stroke-linecap: square\"/>\n   </g>\n   <g id=\"text_9\">\n    <!-- label: 5 -->\n    <g transform=\"translate(204.442403 190.142123)scale(0.09 -0.09)\">\n     <defs>\n      <path id=\"DejaVuSans-35\" d=\"M 691 4666 \nL 3169 4666 \nL 3169 4134 \nL 1269 4134 \nL 1269 2991 \nQ 1406 3038 1543 3061 \nQ 1681 3084 1819 3084 \nQ 2600 3084 3056 2656 \nQ 3513 2228 3513 1497 \nQ 3513 744 3044 326 \nQ 2575 -91 1722 -91 \nQ 1428 -91 1123 -41 \nQ 819 9 494 109 \nL 494 744 \nQ 775 591 1075 516 \nQ 1375 441 1709 441 \nQ 2250 441 2565 725 \nQ 2881 1009 2881 1497 \nQ 2881 1984 2565 2268 \nQ 2250 2553 1709 2553 \nQ 1456 2553 1204 2497 \nQ 953 2441 691 2322 \nL 691 4666 \nz\n\" transform=\"scale(0.015625)\"/>\n     </defs>\n     <use xlink:href=\"#DejaVuSans-6c\"/>\n     <use xlink:href=\"#DejaVuSans-61\" x=\"27.783203\"/>\n     <use xlink:href=\"#DejaVuSans-62\" x=\"89.0625\"/>\n     <use xlink:href=\"#DejaVuSans-65\" x=\"152.539062\"/>\n     <use xlink:href=\"#DejaVuSans-6c\" x=\"214.0625\"/>\n     <use xlink:href=\"#DejaVuSans-3a\" x=\"241.845703\"/>\n     <use xlink:href=\"#DejaVuSans-20\" x=\"275.537109\"/>\n     <use xlink:href=\"#DejaVuSans-35\" x=\"307.324219\"/>\n    </g>\n   </g>\n  </g>\n </g>\n <defs>\n  <clipPath id=\"p3a031e031e\">\n   <rect x=\"7.2\" y=\"20.038594\" width=\"73.376471\" height=\"73.376471\"/>\n  </clipPath>\n  <clipPath id=\"p947e307cb9\">\n   <rect x=\"95.823529\" y=\"20.038594\" width=\"73.376471\" height=\"73.376471\"/>\n  </clipPath>\n  <clipPath id=\"pc673608347\">\n   <rect x=\"184.447059\" y=\"20.038594\" width=\"73.376471\" height=\"73.376471\"/>\n  </clipPath>\n  <clipPath id=\"p7f1d3ac41e\">\n   <rect x=\"7.2\" y=\"108.090358\" width=\"73.376471\" height=\"73.376471\"/>\n  </clipPath>\n  <clipPath id=\"pebee0d2982\">\n   <rect x=\"95.823529\" y=\"108.090358\" width=\"73.376471\" height=\"73.376471\"/>\n  </clipPath>\n  <clipPath id=\"p228365464a\">\n   <rect x=\"184.447059\" y=\"108.090358\" width=\"73.376471\" height=\"73.376471\"/>\n  </clipPath>\n  <clipPath id=\"p292f3f4c24\">\n   <rect x=\"7.2\" y=\"196.142123\" width=\"73.376471\" height=\"73.376471\"/>\n  </clipPath>\n  <clipPath id=\"p26ca5823d9\">\n   <rect x=\"95.823529\" y=\"196.142123\" width=\"73.376471\" height=\"73.376471\"/>\n  </clipPath>\n  <clipPath id=\"p9f0b1dc4bc\">\n   <rect x=\"184.447059\" y=\"196.142123\" width=\"73.376471\" height=\"73.376471\"/>\n  </clipPath>\n </defs>\n</svg>\n",
      "text/plain": [
       "<Figure size 450x450 with 9 Axes>"
      ]
     },
     "metadata": {},
     "output_type": "display_data"
    }
   ],
   "source": [
    "set_figsize((4.5,4.5))\n",
    "\n",
    "img_shape = (28, 28)\n",
    "\n",
    "show_img_grid(\n",
    "    [train_images[i].reshape(img_shape) for i in range(9)],\n",
    "    [f\"label: {jnp.argmax(train_labels[i])}\" for i in range(9)]\n",
    ")"
   ]
  },
  {
   "cell_type": "markdown",
   "id": "0d047fcc",
   "metadata": {},
   "source": [
    "# Downscaling images as in paper"
   ]
  },
  {
   "cell_type": "code",
   "execution_count": 17,
   "id": "446f2db3",
   "metadata": {},
   "outputs": [],
   "source": [
    "def resize_img(\n",
    "        img_vec: Vector,\n",
    "        shape: Tuple[int,int]\n",
    "    ) -> Vector:\n",
    "    \"\"\"\n",
    "    Resizing the image vector.\n",
    "    \"\"\"\n",
    "    orig_size = jnp.sqrt(img_vec.size).astype(int)\n",
    "    img_mat = img_vec.reshape(orig_size, orig_size)\n",
    "    img_mat = jax.image.resize(img_mat, shape, method='nearest')\n",
    "    return img_mat.reshape(-1)"
   ]
  },
  {
   "cell_type": "markdown",
   "id": "628cb215",
   "metadata": {},
   "source": [
    "Resizing images to $14 × 14$ as in the paper."
   ]
  },
  {
   "cell_type": "code",
   "execution_count": 18,
   "id": "182b07a1",
   "metadata": {},
   "outputs": [],
   "source": [
    "img_shape = (14,14)\n",
    "\n",
    "resize_img_vmap = functools.partial(resize_img, shape=img_shape)\n",
    "\n",
    "train_images_scaled = jax.vmap(resize_img_vmap)(train_images)\n",
    "test_images_scaled = jax.vmap(resize_img_vmap)(test_images)"
   ]
  },
  {
   "cell_type": "code",
   "execution_count": 19,
   "id": "df3eb272",
   "metadata": {},
   "outputs": [
    {
     "name": "stdout",
     "output_type": "stream",
     "text": [
      "Train data shape: (60000, 196) | Test data shape: (10000, 196)\n"
     ]
    }
   ],
   "source": [
    "print(f'Train data shape: {train_images_scaled.shape} | Test data shape: {test_images_scaled.shape}')"
   ]
  },
  {
   "cell_type": "code",
   "execution_count": 20,
   "id": "3906b1d5",
   "metadata": {},
   "outputs": [
    {
     "data": {
      "image/svg+xml": "<?xml version=\"1.0\" encoding=\"utf-8\" standalone=\"no\"?>\n<!DOCTYPE svg PUBLIC \"-//W3C//DTD SVG 1.1//EN\"\n  \"http://www.w3.org/Graphics/SVG/1.1/DTD/svg11.dtd\">\n<svg xmlns:xlink=\"http://www.w3.org/1999/xlink\" width=\"265.023529pt\" height=\"276.718594pt\" viewBox=\"0 0 265.023529 276.718594\" xmlns=\"http://www.w3.org/2000/svg\" version=\"1.1\">\n <metadata>\n  <rdf:RDF xmlns:dc=\"http://purl.org/dc/elements/1.1/\" xmlns:cc=\"http://creativecommons.org/ns#\" xmlns:rdf=\"http://www.w3.org/1999/02/22-rdf-syntax-ns#\">\n   <cc:Work>\n    <dc:type rdf:resource=\"http://purl.org/dc/dcmitype/StillImage\"/>\n    <dc:date>2022-05-09T18:42:58.010871</dc:date>\n    <dc:format>image/svg+xml</dc:format>\n    <dc:creator>\n     <cc:Agent>\n      <dc:title>Matplotlib v3.5.2, https://matplotlib.org/</dc:title>\n     </cc:Agent>\n    </dc:creator>\n   </cc:Work>\n  </rdf:RDF>\n </metadata>\n <defs>\n  <style type=\"text/css\">*{stroke-linejoin: round; stroke-linecap: butt}</style>\n </defs>\n <g id=\"figure_1\">\n  <g id=\"patch_1\">\n   <path d=\"M 0 276.718594 \nL 265.023529 276.718594 \nL 265.023529 0 \nL 0 0 \nz\n\" style=\"fill: #ffffff\"/>\n  </g>\n  <g id=\"axes_1\">\n   <g id=\"patch_2\">\n    <path d=\"M 7.2 93.415064 \nL 80.576471 93.415064 \nL 80.576471 20.038594 \nL 7.2 20.038594 \nz\n\" style=\"fill: #eeeeee\"/>\n   </g>\n   <g clip-path=\"url(#pfb7284493f)\">\n    <image xlink:href=\"data:image/png;base64,\niVBORw0KGgoAAAANSUhEUgAAAGYAAABmCAYAAAA53+RiAAABeElEQVR4nO3c4WnCUBSA0Ua6iWs4kZNlDidwAkdwBNMFTKRimhP6nb8P5MrnhYdohmmapq9wDlsPkOcKgyoMqjCowqAKgyoMqjCowqAKgyoMqjCowqAKg/reeoDfGsdx9ux+v8+enc/nNcZZTRuDKgyqMKjCoAqDKgxq2NuvZA6H+c/S6XSaPbtcLmuMs5o2BlUYVGFQhUEVBlUYFHddvt1ui+fH4/Gt18Xe5kttDKowqMKgCoMqDKowKO66/MrSt8tLHo/HhydZVxuDKgyqMKjCoAqDKgyqMKjCoAqDKgyqMKjCoAqDKgyqMKjCoAqDKgyqMKjCoAqDKgyqMKjCoAqDKgyqMKjCoAqD2t2jF3f254S3tTGowqAKgyoMqjCowqB2d10ehmHrEf5EG4MqDKowqMKgCoMqDGp31+Ul1+t16xE+po1BFQZVGFRhUIVBFQa1u0cv/hdtDKowqMKgCoMqDKowqMKgCoMqDKowqMKgCoMqDKowqB/vqywswSHFJwAAAABJRU5ErkJggg==\" id=\"image1985e4b31e\" transform=\"scale(1 -1)translate(0 -73.44)\" x=\"7.2\" y=\"-19.975064\" width=\"73.44\" height=\"73.44\"/>\n   </g>\n   <g id=\"matplotlib.axis_1\"/>\n   <g id=\"matplotlib.axis_2\"/>\n   <g id=\"patch_3\">\n    <path d=\"M 7.2 93.415064 \nL 7.2 20.038594 \n\" style=\"fill: none; stroke: #bcbcbc; stroke-width: 0.8; stroke-linejoin: miter; stroke-linecap: square\"/>\n   </g>\n   <g id=\"patch_4\">\n    <path d=\"M 80.576471 93.415064 \nL 80.576471 20.038594 \n\" style=\"fill: none; stroke: #bcbcbc; stroke-width: 0.8; stroke-linejoin: miter; stroke-linecap: square\"/>\n   </g>\n   <g id=\"patch_5\">\n    <path d=\"M 7.2 93.415064 \nL 80.576471 93.415064 \n\" style=\"fill: none; stroke: #bcbcbc; stroke-width: 0.8; stroke-linejoin: miter; stroke-linecap: square\"/>\n   </g>\n   <g id=\"patch_6\">\n    <path d=\"M 7.2 20.038594 \nL 80.576471 20.038594 \n\" style=\"fill: none; stroke: #bcbcbc; stroke-width: 0.8; stroke-linejoin: miter; stroke-linecap: square\"/>\n   </g>\n   <g id=\"text_1\">\n    <!-- label: 1 -->\n    <g transform=\"translate(27.195345 14.038594)scale(0.09 -0.09)\">\n     <defs>\n      <path id=\"DejaVuSans-6c\" d=\"M 603 4863 \nL 1178 4863 \nL 1178 0 \nL 603 0 \nL 603 4863 \nz\n\" transform=\"scale(0.015625)\"/>\n      <path id=\"DejaVuSans-61\" d=\"M 2194 1759 \nQ 1497 1759 1228 1600 \nQ 959 1441 959 1056 \nQ 959 750 1161 570 \nQ 1363 391 1709 391 \nQ 2188 391 2477 730 \nQ 2766 1069 2766 1631 \nL 2766 1759 \nL 2194 1759 \nz\nM 3341 1997 \nL 3341 0 \nL 2766 0 \nL 2766 531 \nQ 2569 213 2275 61 \nQ 1981 -91 1556 -91 \nQ 1019 -91 701 211 \nQ 384 513 384 1019 \nQ 384 1609 779 1909 \nQ 1175 2209 1959 2209 \nL 2766 2209 \nL 2766 2266 \nQ 2766 2663 2505 2880 \nQ 2244 3097 1772 3097 \nQ 1472 3097 1187 3025 \nQ 903 2953 641 2809 \nL 641 3341 \nQ 956 3463 1253 3523 \nQ 1550 3584 1831 3584 \nQ 2591 3584 2966 3190 \nQ 3341 2797 3341 1997 \nz\n\" transform=\"scale(0.015625)\"/>\n      <path id=\"DejaVuSans-62\" d=\"M 3116 1747 \nQ 3116 2381 2855 2742 \nQ 2594 3103 2138 3103 \nQ 1681 3103 1420 2742 \nQ 1159 2381 1159 1747 \nQ 1159 1113 1420 752 \nQ 1681 391 2138 391 \nQ 2594 391 2855 752 \nQ 3116 1113 3116 1747 \nz\nM 1159 2969 \nQ 1341 3281 1617 3432 \nQ 1894 3584 2278 3584 \nQ 2916 3584 3314 3078 \nQ 3713 2572 3713 1747 \nQ 3713 922 3314 415 \nQ 2916 -91 2278 -91 \nQ 1894 -91 1617 61 \nQ 1341 213 1159 525 \nL 1159 0 \nL 581 0 \nL 581 4863 \nL 1159 4863 \nL 1159 2969 \nz\n\" transform=\"scale(0.015625)\"/>\n      <path id=\"DejaVuSans-65\" d=\"M 3597 1894 \nL 3597 1613 \nL 953 1613 \nQ 991 1019 1311 708 \nQ 1631 397 2203 397 \nQ 2534 397 2845 478 \nQ 3156 559 3463 722 \nL 3463 178 \nQ 3153 47 2828 -22 \nQ 2503 -91 2169 -91 \nQ 1331 -91 842 396 \nQ 353 884 353 1716 \nQ 353 2575 817 3079 \nQ 1281 3584 2069 3584 \nQ 2775 3584 3186 3129 \nQ 3597 2675 3597 1894 \nz\nM 3022 2063 \nQ 3016 2534 2758 2815 \nQ 2500 3097 2075 3097 \nQ 1594 3097 1305 2825 \nQ 1016 2553 972 2059 \nL 3022 2063 \nz\n\" transform=\"scale(0.015625)\"/>\n      <path id=\"DejaVuSans-3a\" d=\"M 750 794 \nL 1409 794 \nL 1409 0 \nL 750 0 \nL 750 794 \nz\nM 750 3309 \nL 1409 3309 \nL 1409 2516 \nL 750 2516 \nL 750 3309 \nz\n\" transform=\"scale(0.015625)\"/>\n      <path id=\"DejaVuSans-20\" transform=\"scale(0.015625)\"/>\n      <path id=\"DejaVuSans-31\" d=\"M 794 531 \nL 1825 531 \nL 1825 4091 \nL 703 3866 \nL 703 4441 \nL 1819 4666 \nL 2450 4666 \nL 2450 531 \nL 3481 531 \nL 3481 0 \nL 794 0 \nL 794 531 \nz\n\" transform=\"scale(0.015625)\"/>\n     </defs>\n     <use xlink:href=\"#DejaVuSans-6c\"/>\n     <use xlink:href=\"#DejaVuSans-61\" x=\"27.783203\"/>\n     <use xlink:href=\"#DejaVuSans-62\" x=\"89.0625\"/>\n     <use xlink:href=\"#DejaVuSans-65\" x=\"152.539062\"/>\n     <use xlink:href=\"#DejaVuSans-6c\" x=\"214.0625\"/>\n     <use xlink:href=\"#DejaVuSans-3a\" x=\"241.845703\"/>\n     <use xlink:href=\"#DejaVuSans-20\" x=\"275.537109\"/>\n     <use xlink:href=\"#DejaVuSans-31\" x=\"307.324219\"/>\n    </g>\n   </g>\n  </g>\n  <g id=\"axes_2\">\n   <g id=\"patch_7\">\n    <path d=\"M 95.823529 93.415064 \nL 169.2 93.415064 \nL 169.2 20.038594 \nL 95.823529 20.038594 \nz\n\" style=\"fill: #eeeeee\"/>\n   </g>\n   <g clip-path=\"url(#pbbb21adf1c)\">\n    <image xlink:href=\"data:image/png;base64,\niVBORw0KGgoAAAANSUhEUgAAAGYAAABmCAYAAAA53+RiAAACBElEQVR4nO3bMWoCURRA0UwI2AuCYCc2Fq7CSrF2CzZuyt7aTmxEwSW4AUEbrSwEJ0XavC+Ymcw1uad9fPPh8uBHkizP8/xNOO9VX0DfMwyUYaAMA2UYKMNAGQbKMFCGgTIMlGGgDANlGCjDQH1U8UMPh0M4u16vybO9Xi+cTafTcDaZTJKf2263k/Pf5sZAGQbKMFCGgTIMlGGgKnkut1qtcFar1ZJnl8tlOFuv1+Gs0+kkPzc13+/3ybNlcGOgDANlGCjDQBkGyjBQmX9U/iXLsnB2PB7DWaPRKOM6bgyVYaAMA2UYKMNAGQaqkm+XqzAcDpPz1HO5Xq8XfZ2H3Bgow0AZBsowUIaBMgyUYaD+1O8x/X4/nK1Wq+TZ+/1e9HV+xI2BMgyUYaAMA2UYKMNA4Z7Li8UiOR+NRuGs2+2GM9pz+BE3BsowUIaBMgyUYaAMA4V7Lu92u6fPbjabAm9SLTcGyjBQhoEyDJRhoAwDZRiol/vn2MFgEM622204O5/PJdymPG4MlGGgDANlGCjDQBkGCve1/+12S85Pp1M4u1wuRV+nMm4MlGGgDANlGCjDQBkGqpLn8ng8Dmfz+Tx5ttlshrPZbPb0nWjcGCjDQBkGyjBQhoEyDNTL/THGf+HGQBkGyjBQhoEyDJRhoAwDZRgow0AZBsowUIaBMgyUYaA+AfLbSxC9qAVqAAAAAElFTkSuQmCC\" id=\"image8acfe9d14c\" transform=\"scale(1 -1)translate(0 -73.44)\" x=\"95.823529\" y=\"-19.975064\" width=\"73.44\" height=\"73.44\"/>\n   </g>\n   <g id=\"matplotlib.axis_3\"/>\n   <g id=\"matplotlib.axis_4\"/>\n   <g id=\"patch_8\">\n    <path d=\"M 95.823529 93.415064 \nL 95.823529 20.038594 \n\" style=\"fill: none; stroke: #bcbcbc; stroke-width: 0.8; stroke-linejoin: miter; stroke-linecap: square\"/>\n   </g>\n   <g id=\"patch_9\">\n    <path d=\"M 169.2 93.415064 \nL 169.2 20.038594 \n\" style=\"fill: none; stroke: #bcbcbc; stroke-width: 0.8; stroke-linejoin: miter; stroke-linecap: square\"/>\n   </g>\n   <g id=\"patch_10\">\n    <path d=\"M 95.823529 93.415064 \nL 169.2 93.415064 \n\" style=\"fill: none; stroke: #bcbcbc; stroke-width: 0.8; stroke-linejoin: miter; stroke-linecap: square\"/>\n   </g>\n   <g id=\"patch_11\">\n    <path d=\"M 95.823529 20.038594 \nL 169.2 20.038594 \n\" style=\"fill: none; stroke: #bcbcbc; stroke-width: 0.8; stroke-linejoin: miter; stroke-linecap: square\"/>\n   </g>\n   <g id=\"text_2\">\n    <!-- label: 3 -->\n    <g transform=\"translate(115.818874 14.038594)scale(0.09 -0.09)\">\n     <defs>\n      <path id=\"DejaVuSans-33\" d=\"M 2597 2516 \nQ 3050 2419 3304 2112 \nQ 3559 1806 3559 1356 \nQ 3559 666 3084 287 \nQ 2609 -91 1734 -91 \nQ 1441 -91 1130 -33 \nQ 819 25 488 141 \nL 488 750 \nQ 750 597 1062 519 \nQ 1375 441 1716 441 \nQ 2309 441 2620 675 \nQ 2931 909 2931 1356 \nQ 2931 1769 2642 2001 \nQ 2353 2234 1838 2234 \nL 1294 2234 \nL 1294 2753 \nL 1863 2753 \nQ 2328 2753 2575 2939 \nQ 2822 3125 2822 3475 \nQ 2822 3834 2567 4026 \nQ 2313 4219 1838 4219 \nQ 1578 4219 1281 4162 \nQ 984 4106 628 3988 \nL 628 4550 \nQ 988 4650 1302 4700 \nQ 1616 4750 1894 4750 \nQ 2613 4750 3031 4423 \nQ 3450 4097 3450 3541 \nQ 3450 3153 3228 2886 \nQ 3006 2619 2597 2516 \nz\n\" transform=\"scale(0.015625)\"/>\n     </defs>\n     <use xlink:href=\"#DejaVuSans-6c\"/>\n     <use xlink:href=\"#DejaVuSans-61\" x=\"27.783203\"/>\n     <use xlink:href=\"#DejaVuSans-62\" x=\"89.0625\"/>\n     <use xlink:href=\"#DejaVuSans-65\" x=\"152.539062\"/>\n     <use xlink:href=\"#DejaVuSans-6c\" x=\"214.0625\"/>\n     <use xlink:href=\"#DejaVuSans-3a\" x=\"241.845703\"/>\n     <use xlink:href=\"#DejaVuSans-20\" x=\"275.537109\"/>\n     <use xlink:href=\"#DejaVuSans-33\" x=\"307.324219\"/>\n    </g>\n   </g>\n  </g>\n  <g id=\"axes_3\">\n   <g id=\"patch_12\">\n    <path d=\"M 184.447059 93.415064 \nL 257.823529 93.415064 \nL 257.823529 20.038594 \nL 184.447059 20.038594 \nz\n\" style=\"fill: #eeeeee\"/>\n   </g>\n   <g clip-path=\"url(#p119e06966b)\">\n    <image xlink:href=\"data:image/png;base64,\niVBORw0KGgoAAAANSUhEUgAAAGYAAABmCAYAAAA53+RiAAACLElEQVR4nO3bPWoCURRA4YxGLWwFGxt3YCcirsAN6AZcgrauwGW4EEHBVWhjZSVYiWKKdCH3DUx+5oScr73M8Ibjg8zwkj2fz+eLcCplL0CfMwyUYaAMA2UYKMNAvZa9gI+yLEvON5tNOBuNRt+9nNK4Y6AMA2UYKMNAGQbKMFCGgcrK+Ox/Op3CWafTSV7bbDbD2Wq1Cmez2Sx/YSDuGCjDQBkGyjBQhoEyDFQpfy6n5H32fzwe4axarYYz2GPmcsdAGQbKMFCGgTIMlGGgcKdk1ut1cj4ej8NZu90OZ4fDIXnfbrebXtgvc8dAGQbKMFCGgTIMlGGgcF+X81Qq8W8p9Sjn8zl531arVXhNP8EdA2UYKMNAGQbKMFCGgTIMFO495nK5JOep9437/R7OYI+Zyx0DZRgow0AZBsowUIaBKuWUTOrgeN6h8vl8Hs56vV446/f7yfvu9/vk/Le5Y6AMA2UYKMNAGQbKMFB/7lD5ZDIpdN+8Q+ONRiOcXa/XcFar1QqtJ487BsowUIaBMgyUYaAMA2UYqFLeY1InVobDYfLa6XQazna7XTgbDAbJ+y6Xy3BWr9fD2e12C2dfecdxx0AZBsowUIaBMgyUYaBwn/23223ha1Of9o/HY+H7LhaLcOZn/3/GMFCGgTIMlGGgDAOF+x9MvXPHQBkGyjBQhoEyDJRhoAwDZRgow0AZBsowUIaBMgyUYaAMA2UYKMNAGQbKMFCGgTIM1BuQxVszmuyKDQAAAABJRU5ErkJggg==\" id=\"image7032c3706f\" transform=\"scale(1 -1)translate(0 -73.44)\" x=\"184.447059\" y=\"-19.975064\" width=\"73.44\" height=\"73.44\"/>\n   </g>\n   <g id=\"matplotlib.axis_5\"/>\n   <g id=\"matplotlib.axis_6\"/>\n   <g id=\"patch_13\">\n    <path d=\"M 184.447059 93.415064 \nL 184.447059 20.038594 \n\" style=\"fill: none; stroke: #bcbcbc; stroke-width: 0.8; stroke-linejoin: miter; stroke-linecap: square\"/>\n   </g>\n   <g id=\"patch_14\">\n    <path d=\"M 257.823529 93.415064 \nL 257.823529 20.038594 \n\" style=\"fill: none; stroke: #bcbcbc; stroke-width: 0.8; stroke-linejoin: miter; stroke-linecap: square\"/>\n   </g>\n   <g id=\"patch_15\">\n    <path d=\"M 184.447059 93.415064 \nL 257.823529 93.415064 \n\" style=\"fill: none; stroke: #bcbcbc; stroke-width: 0.8; stroke-linejoin: miter; stroke-linecap: square\"/>\n   </g>\n   <g id=\"patch_16\">\n    <path d=\"M 184.447059 20.038594 \nL 257.823529 20.038594 \n\" style=\"fill: none; stroke: #bcbcbc; stroke-width: 0.8; stroke-linejoin: miter; stroke-linecap: square\"/>\n   </g>\n   <g id=\"text_3\">\n    <!-- label: 8 -->\n    <g transform=\"translate(204.442403 14.038594)scale(0.09 -0.09)\">\n     <defs>\n      <path id=\"DejaVuSans-38\" d=\"M 2034 2216 \nQ 1584 2216 1326 1975 \nQ 1069 1734 1069 1313 \nQ 1069 891 1326 650 \nQ 1584 409 2034 409 \nQ 2484 409 2743 651 \nQ 3003 894 3003 1313 \nQ 3003 1734 2745 1975 \nQ 2488 2216 2034 2216 \nz\nM 1403 2484 \nQ 997 2584 770 2862 \nQ 544 3141 544 3541 \nQ 544 4100 942 4425 \nQ 1341 4750 2034 4750 \nQ 2731 4750 3128 4425 \nQ 3525 4100 3525 3541 \nQ 3525 3141 3298 2862 \nQ 3072 2584 2669 2484 \nQ 3125 2378 3379 2068 \nQ 3634 1759 3634 1313 \nQ 3634 634 3220 271 \nQ 2806 -91 2034 -91 \nQ 1263 -91 848 271 \nQ 434 634 434 1313 \nQ 434 1759 690 2068 \nQ 947 2378 1403 2484 \nz\nM 1172 3481 \nQ 1172 3119 1398 2916 \nQ 1625 2713 2034 2713 \nQ 2441 2713 2670 2916 \nQ 2900 3119 2900 3481 \nQ 2900 3844 2670 4047 \nQ 2441 4250 2034 4250 \nQ 1625 4250 1398 4047 \nQ 1172 3844 1172 3481 \nz\n\" transform=\"scale(0.015625)\"/>\n     </defs>\n     <use xlink:href=\"#DejaVuSans-6c\"/>\n     <use xlink:href=\"#DejaVuSans-61\" x=\"27.783203\"/>\n     <use xlink:href=\"#DejaVuSans-62\" x=\"89.0625\"/>\n     <use xlink:href=\"#DejaVuSans-65\" x=\"152.539062\"/>\n     <use xlink:href=\"#DejaVuSans-6c\" x=\"214.0625\"/>\n     <use xlink:href=\"#DejaVuSans-3a\" x=\"241.845703\"/>\n     <use xlink:href=\"#DejaVuSans-20\" x=\"275.537109\"/>\n     <use xlink:href=\"#DejaVuSans-38\" x=\"307.324219\"/>\n    </g>\n   </g>\n  </g>\n  <g id=\"axes_4\">\n   <g id=\"patch_17\">\n    <path d=\"M 7.2 181.466829 \nL 80.576471 181.466829 \nL 80.576471 108.090358 \nL 7.2 108.090358 \nz\n\" style=\"fill: #eeeeee\"/>\n   </g>\n   <g clip-path=\"url(#pd494f4f7ea)\">\n    <image xlink:href=\"data:image/png;base64,\niVBORw0KGgoAAAANSUhEUgAAAGYAAABmCAYAAAA53+RiAAAB90lEQVR4nO3aLY7CUBRA4SlMgmUbCBaAxLED0KwAh8SDQ7AEDIaV4NgCkuBIKui4UXPfJP0ZTjvnsze0d3LmJW3SrCiK4qNFNptNOJtMJuFsNps1sU5jeu9eQD8zDJRhoAwDZRgow0B9vnuBOi2Xy3B2u93+cJPqPDFQhoEyDJRhoAwDZRgow0B16j3m8Xi8e4XaeGKgDANlGCjDQBkGyjBQWdu+krler+FsPB6Hs+fzmbzuYDAovVMTPDFQhoEyDJRhoAwDZRio1j0up/R68f/Z8XhM/naxWNS9TiWeGCjDQBkGyjBQhoEyDFSnHpdPp1M4m8/nyd++Xq+616nEEwNlGCjDQBkGyjBQhoEyDFSn3mNSf0q/30/+9n6/h7PhcFh2pdI8MVCGgTIMlGGgDANlGKhOPS6njEaj5Hw6nYazw+FQ9zq/8sRAGQbKMFCGgTIMlGGgKj0uXy6XcJbneTjb7XZlb5n8mmW9Xoez8/mcvO52uy11z6Z4YqAMA2UYKMNAGQbKMFCGgar0HrNarcLZfr8ve9mk1LpZljVyT99j9M0wUIaBMgyUYaAMA/VvvpJpG08MlGGgDANlGCjDQBkGyjBQhoEyDJRhoAwDZRgow0AZBsowUIaBMgyUYaAMA2UYKMNAGQbKMFCGgTIMlGGgDANlGKgv269hTAWHlJMAAAAASUVORK5CYII=\" id=\"image7cbedcd679\" transform=\"scale(1 -1)translate(0 -73.44)\" x=\"7.2\" y=\"-108.026829\" width=\"73.44\" height=\"73.44\"/>\n   </g>\n   <g id=\"matplotlib.axis_7\"/>\n   <g id=\"matplotlib.axis_8\"/>\n   <g id=\"patch_18\">\n    <path d=\"M 7.2 181.466829 \nL 7.2 108.090358 \n\" style=\"fill: none; stroke: #bcbcbc; stroke-width: 0.8; stroke-linejoin: miter; stroke-linecap: square\"/>\n   </g>\n   <g id=\"patch_19\">\n    <path d=\"M 80.576471 181.466829 \nL 80.576471 108.090358 \n\" style=\"fill: none; stroke: #bcbcbc; stroke-width: 0.8; stroke-linejoin: miter; stroke-linecap: square\"/>\n   </g>\n   <g id=\"patch_20\">\n    <path d=\"M 7.2 181.466829 \nL 80.576471 181.466829 \n\" style=\"fill: none; stroke: #bcbcbc; stroke-width: 0.8; stroke-linejoin: miter; stroke-linecap: square\"/>\n   </g>\n   <g id=\"patch_21\">\n    <path d=\"M 7.2 108.090358 \nL 80.576471 108.090358 \n\" style=\"fill: none; stroke: #bcbcbc; stroke-width: 0.8; stroke-linejoin: miter; stroke-linecap: square\"/>\n   </g>\n   <g id=\"text_4\">\n    <!-- label: 7 -->\n    <g transform=\"translate(27.195345 102.090358)scale(0.09 -0.09)\">\n     <defs>\n      <path id=\"DejaVuSans-37\" d=\"M 525 4666 \nL 3525 4666 \nL 3525 4397 \nL 1831 0 \nL 1172 0 \nL 2766 4134 \nL 525 4134 \nL 525 4666 \nz\n\" transform=\"scale(0.015625)\"/>\n     </defs>\n     <use xlink:href=\"#DejaVuSans-6c\"/>\n     <use xlink:href=\"#DejaVuSans-61\" x=\"27.783203\"/>\n     <use xlink:href=\"#DejaVuSans-62\" x=\"89.0625\"/>\n     <use xlink:href=\"#DejaVuSans-65\" x=\"152.539062\"/>\n     <use xlink:href=\"#DejaVuSans-6c\" x=\"214.0625\"/>\n     <use xlink:href=\"#DejaVuSans-3a\" x=\"241.845703\"/>\n     <use xlink:href=\"#DejaVuSans-20\" x=\"275.537109\"/>\n     <use xlink:href=\"#DejaVuSans-37\" x=\"307.324219\"/>\n    </g>\n   </g>\n  </g>\n  <g id=\"axes_5\">\n   <g id=\"patch_22\">\n    <path d=\"M 95.823529 181.466829 \nL 169.2 181.466829 \nL 169.2 108.090358 \nL 95.823529 108.090358 \nz\n\" style=\"fill: #eeeeee\"/>\n   </g>\n   <g clip-path=\"url(#pbe756e91ad)\">\n    <image xlink:href=\"data:image/png;base64,\niVBORw0KGgoAAAANSUhEUgAAAGYAAABmCAYAAAA53+RiAAACJklEQVR4nO3bPYoqQRRA4Wp/AsUViBq6AnNDl+BCFNyCuABTA9fhHswMTQRT0UgQnGyiV9eHD6fO8M6XXqoVjgXdPTXV8/l8JuHUSn8B/ZlhoAwDZRgow0AZBsowUIaBMgyUYaAMA2UYKMNAGQaqUeJD9/t9djYajd6+7vV6zc7a7fbb1y3BHQNlGCjDQBkGyjBQhoGqSpySGQwG2dlkMgnXbjab7Kxer2dn9/v99RcDccdAGQbKMFCGgTIMlGGgcLfL2+02XDsej7Oz6HZ5tVqF153NZuH8p7ljoAwDZRgow0AZBsowUEUOY3zKcrnMzhaLRbjW22X9FcNAGQbKMFCGgTIMlGGgirz27/V62dnxeAzXNpvNtz4z+pNASindbrfsrMSBdHcMlGGgDANlGCjDQBkGqshr/+h2udVqhWujUzK73S47m06n4XXX63V2Np/Pw7Wf4I6BMgyUYaAMA2UYKMNAFXm7HGk04jv4y+WSnXU6nezsfD6H1+33+9nZ4/EI136COwbKMFCGgTIMlGGgDANlGKhf9xwT+ZfnjehzfY7RN8NAGQbKMFCGgTIMFO6fY6MTNCmldDqdsrPo4HhVVW9/pxLcMVCGgTIMlGGgDANlGCjc2+VXut1udhadhBkOh+F1D4dDdlar/fzv1x0DZRgow0AZBsowUIaB+nW3y/8LdwyUYaAMA2UYKMNAGQbKMFCGgTIMlGGgDANlGCjDQBkG6gtmd1yVAB07uAAAAABJRU5ErkJggg==\" id=\"image2680e1ba6d\" transform=\"scale(1 -1)translate(0 -73.44)\" x=\"95.823529\" y=\"-108.026829\" width=\"73.44\" height=\"73.44\"/>\n   </g>\n   <g id=\"matplotlib.axis_9\"/>\n   <g id=\"matplotlib.axis_10\"/>\n   <g id=\"patch_23\">\n    <path d=\"M 95.823529 181.466829 \nL 95.823529 108.090358 \n\" style=\"fill: none; stroke: #bcbcbc; stroke-width: 0.8; stroke-linejoin: miter; stroke-linecap: square\"/>\n   </g>\n   <g id=\"patch_24\">\n    <path d=\"M 169.2 181.466829 \nL 169.2 108.090358 \n\" style=\"fill: none; stroke: #bcbcbc; stroke-width: 0.8; stroke-linejoin: miter; stroke-linecap: square\"/>\n   </g>\n   <g id=\"patch_25\">\n    <path d=\"M 95.823529 181.466829 \nL 169.2 181.466829 \n\" style=\"fill: none; stroke: #bcbcbc; stroke-width: 0.8; stroke-linejoin: miter; stroke-linecap: square\"/>\n   </g>\n   <g id=\"patch_26\">\n    <path d=\"M 95.823529 108.090358 \nL 169.2 108.090358 \n\" style=\"fill: none; stroke: #bcbcbc; stroke-width: 0.8; stroke-linejoin: miter; stroke-linecap: square\"/>\n   </g>\n   <g id=\"text_5\">\n    <!-- label: 0 -->\n    <g transform=\"translate(115.818874 102.090358)scale(0.09 -0.09)\">\n     <defs>\n      <path id=\"DejaVuSans-30\" d=\"M 2034 4250 \nQ 1547 4250 1301 3770 \nQ 1056 3291 1056 2328 \nQ 1056 1369 1301 889 \nQ 1547 409 2034 409 \nQ 2525 409 2770 889 \nQ 3016 1369 3016 2328 \nQ 3016 3291 2770 3770 \nQ 2525 4250 2034 4250 \nz\nM 2034 4750 \nQ 2819 4750 3233 4129 \nQ 3647 3509 3647 2328 \nQ 3647 1150 3233 529 \nQ 2819 -91 2034 -91 \nQ 1250 -91 836 529 \nQ 422 1150 422 2328 \nQ 422 3509 836 4129 \nQ 1250 4750 2034 4750 \nz\n\" transform=\"scale(0.015625)\"/>\n     </defs>\n     <use xlink:href=\"#DejaVuSans-6c\"/>\n     <use xlink:href=\"#DejaVuSans-61\" x=\"27.783203\"/>\n     <use xlink:href=\"#DejaVuSans-62\" x=\"89.0625\"/>\n     <use xlink:href=\"#DejaVuSans-65\" x=\"152.539062\"/>\n     <use xlink:href=\"#DejaVuSans-6c\" x=\"214.0625\"/>\n     <use xlink:href=\"#DejaVuSans-3a\" x=\"241.845703\"/>\n     <use xlink:href=\"#DejaVuSans-20\" x=\"275.537109\"/>\n     <use xlink:href=\"#DejaVuSans-30\" x=\"307.324219\"/>\n    </g>\n   </g>\n  </g>\n  <g id=\"axes_6\">\n   <g id=\"patch_27\">\n    <path d=\"M 184.447059 181.466829 \nL 257.823529 181.466829 \nL 257.823529 108.090358 \nL 184.447059 108.090358 \nz\n\" style=\"fill: #eeeeee\"/>\n   </g>\n   <g clip-path=\"url(#p470fb7b51a)\">\n    <image xlink:href=\"data:image/png;base64,\niVBORw0KGgoAAAANSUhEUgAAAGYAAABmCAYAAAA53+RiAAACFElEQVR4nO3bMWoCURRA0YykEDtBcAmiNhai+9AFuQjXYGVj4y7EStDO0korERs1G8j7wg/DXMM97WP0w/XBMJkUr9fr9SWcWtUH0O8MA2UYKMNAGQbKMFDfVXzparUKZ5PJJHnt4/EIZ0VR5B4Jx42BMgyUYaAMA2UYKMNAGQaqqOKx//1+D2eNRiN57WAwCGfb7Tb3SDhuDJRhoAwDZRgow0AZBqqS2+WUzWaTnI9Go3DWbDbD2fl8zj5TFdwYKMNAGQbKMFCGgTIMFO52+Z3L5RLOWq1WOJtOp8nPXS6X2WcqgxsDZRgow0AZBsowUIaB+rjb5ZT9fh/O+v1+8trb7RbO6vV69plyuTFQhoEyDJRhoAwDZRgow0BV8s+xZel2u+FsNpslr029zP58PrPPlMuNgTIMlGGgDANlGCjDQP2rx/5/UavFv9HUnxM6nU4Zx3FjqAwDZRgow0AZBsowUKU9XU7dfs7n83A2Ho+TnzscDrPP9EncGCjDQBkGyjBQhoEyDJRhoEp77N/r9cLZ4XAo4ytLczqdwlm73S7lO90YKMNAGQbKMFCGgTIMVCVvyRyPx3B2vV6T1y4Wi3C2Xq/D2W63e3+wQBUvErkxUIaBMgyUYaAMA2UYKF8qh3JjoAwDZRgow0AZBsowUIaBMgyUYaAMA2UYKMNAGQbKMFCGgTIMlGGgDANlGCjDQBkG6gfpDWK2ZNKmeQAAAABJRU5ErkJggg==\" id=\"image4faa685d5f\" transform=\"scale(1 -1)translate(0 -73.44)\" x=\"184.447059\" y=\"-108.026829\" width=\"73.44\" height=\"73.44\"/>\n   </g>\n   <g id=\"matplotlib.axis_11\"/>\n   <g id=\"matplotlib.axis_12\"/>\n   <g id=\"patch_28\">\n    <path d=\"M 184.447059 181.466829 \nL 184.447059 108.090358 \n\" style=\"fill: none; stroke: #bcbcbc; stroke-width: 0.8; stroke-linejoin: miter; stroke-linecap: square\"/>\n   </g>\n   <g id=\"patch_29\">\n    <path d=\"M 257.823529 181.466829 \nL 257.823529 108.090358 \n\" style=\"fill: none; stroke: #bcbcbc; stroke-width: 0.8; stroke-linejoin: miter; stroke-linecap: square\"/>\n   </g>\n   <g id=\"patch_30\">\n    <path d=\"M 184.447059 181.466829 \nL 257.823529 181.466829 \n\" style=\"fill: none; stroke: #bcbcbc; stroke-width: 0.8; stroke-linejoin: miter; stroke-linecap: square\"/>\n   </g>\n   <g id=\"patch_31\">\n    <path d=\"M 184.447059 108.090358 \nL 257.823529 108.090358 \n\" style=\"fill: none; stroke: #bcbcbc; stroke-width: 0.8; stroke-linejoin: miter; stroke-linecap: square\"/>\n   </g>\n   <g id=\"text_6\">\n    <!-- label: 7 -->\n    <g transform=\"translate(204.442403 102.090358)scale(0.09 -0.09)\">\n     <use xlink:href=\"#DejaVuSans-6c\"/>\n     <use xlink:href=\"#DejaVuSans-61\" x=\"27.783203\"/>\n     <use xlink:href=\"#DejaVuSans-62\" x=\"89.0625\"/>\n     <use xlink:href=\"#DejaVuSans-65\" x=\"152.539062\"/>\n     <use xlink:href=\"#DejaVuSans-6c\" x=\"214.0625\"/>\n     <use xlink:href=\"#DejaVuSans-3a\" x=\"241.845703\"/>\n     <use xlink:href=\"#DejaVuSans-20\" x=\"275.537109\"/>\n     <use xlink:href=\"#DejaVuSans-37\" x=\"307.324219\"/>\n    </g>\n   </g>\n  </g>\n  <g id=\"axes_7\">\n   <g id=\"patch_32\">\n    <path d=\"M 7.2 269.518594 \nL 80.576471 269.518594 \nL 80.576471 196.142123 \nL 7.2 196.142123 \nz\n\" style=\"fill: #eeeeee\"/>\n   </g>\n   <g clip-path=\"url(#pca43c3dde3)\">\n    <image xlink:href=\"data:image/png;base64,\niVBORw0KGgoAAAANSUhEUgAAAGYAAABmCAYAAAA53+RiAAACAklEQVR4nO3cMYrCQBhA4cliZSkiVp7AK3gBwQN4Ae+nXsLCSrAVxEZErIylsbDdmYWY7Dzkfe1PdPDxg4FoUVVVFYTzk/sA+p1hoAwDZRgow0AZBqqT+wBNKssyOlutVslr5/N508f5iBsDZRgow0AZBsowUIaBMgzUV93HHA6H3EdojBsDZRgow0AZBsowUIaBKr7pKZn7/R6dDQaD5LWPx6Pp43zEjYEyDJRhoAwDZRgow0B91dfllKIoknPax+DGQBkGyjBQhoEyDJRhoLI8jPF8PmvNQgih06l35NFoVOu6XNwYKMNAGQbKMFCGgTIMlGGgWruPOR6P0dl4PI7Olstl8nVPp1Ot9+z1esnXPZ/P0dlwOExe2wY3BsowUIaBMgyUYaAMA9XaUzKXyyU6m06n0dl2u23jOGGz2STnu90uOlssFk0f509uDJRhoAwDZRgow0AZBirLQ+Xdbjc6y/VbyNlsFp2t1+t/PMmbGwNlGCjDQBkGyjBQhoEyDFSW+5jb7RadTSaT5LX7/b7p44QQ0j+ezfHDWTcGyjBQhoEyDJRhoAwDhfsvmVz/+dLv96Oz6/XaynumuDFQhoEyDJRhoAwDZRgo3NdlvbkxUIaBMgyUYaAMA2UYKMNAGQbKMFCGgTIMlGGgDANlGCjDQBkGyjBQhoEyDJRhoAwD9QI0C2ddXa8AhAAAAABJRU5ErkJggg==\" id=\"image14f2900221\" transform=\"scale(1 -1)translate(0 -73.44)\" x=\"7.2\" y=\"-196.078594\" width=\"73.44\" height=\"73.44\"/>\n   </g>\n   <g id=\"matplotlib.axis_13\"/>\n   <g id=\"matplotlib.axis_14\"/>\n   <g id=\"patch_33\">\n    <path d=\"M 7.2 269.518594 \nL 7.2 196.142123 \n\" style=\"fill: none; stroke: #bcbcbc; stroke-width: 0.8; stroke-linejoin: miter; stroke-linecap: square\"/>\n   </g>\n   <g id=\"patch_34\">\n    <path d=\"M 80.576471 269.518594 \nL 80.576471 196.142123 \n\" style=\"fill: none; stroke: #bcbcbc; stroke-width: 0.8; stroke-linejoin: miter; stroke-linecap: square\"/>\n   </g>\n   <g id=\"patch_35\">\n    <path d=\"M 7.2 269.518594 \nL 80.576471 269.518594 \n\" style=\"fill: none; stroke: #bcbcbc; stroke-width: 0.8; stroke-linejoin: miter; stroke-linecap: square\"/>\n   </g>\n   <g id=\"patch_36\">\n    <path d=\"M 7.2 196.142123 \nL 80.576471 196.142123 \n\" style=\"fill: none; stroke: #bcbcbc; stroke-width: 0.8; stroke-linejoin: miter; stroke-linecap: square\"/>\n   </g>\n   <g id=\"text_7\">\n    <!-- label: 4 -->\n    <g transform=\"translate(27.195345 190.142123)scale(0.09 -0.09)\">\n     <defs>\n      <path id=\"DejaVuSans-34\" d=\"M 2419 4116 \nL 825 1625 \nL 2419 1625 \nL 2419 4116 \nz\nM 2253 4666 \nL 3047 4666 \nL 3047 1625 \nL 3713 1625 \nL 3713 1100 \nL 3047 1100 \nL 3047 0 \nL 2419 0 \nL 2419 1100 \nL 313 1100 \nL 313 1709 \nL 2253 4666 \nz\n\" transform=\"scale(0.015625)\"/>\n     </defs>\n     <use xlink:href=\"#DejaVuSans-6c\"/>\n     <use xlink:href=\"#DejaVuSans-61\" x=\"27.783203\"/>\n     <use xlink:href=\"#DejaVuSans-62\" x=\"89.0625\"/>\n     <use xlink:href=\"#DejaVuSans-65\" x=\"152.539062\"/>\n     <use xlink:href=\"#DejaVuSans-6c\" x=\"214.0625\"/>\n     <use xlink:href=\"#DejaVuSans-3a\" x=\"241.845703\"/>\n     <use xlink:href=\"#DejaVuSans-20\" x=\"275.537109\"/>\n     <use xlink:href=\"#DejaVuSans-34\" x=\"307.324219\"/>\n    </g>\n   </g>\n  </g>\n  <g id=\"axes_8\">\n   <g id=\"patch_37\">\n    <path d=\"M 95.823529 269.518594 \nL 169.2 269.518594 \nL 169.2 196.142123 \nL 95.823529 196.142123 \nz\n\" style=\"fill: #eeeeee\"/>\n   </g>\n   <g clip-path=\"url(#p2f403eed8f)\">\n    <image xlink:href=\"data:image/png;base64,\niVBORw0KGgoAAAANSUhEUgAAAGYAAABmCAYAAAA53+RiAAACKklEQVR4nO3cMY5pURyA8TdMQjTEEhRae7AGHY2CQmEzCgmJDYgliIVItBINKgWJt4H3PxIzJz7e92v/cc5NvjnJnTt3fN3v9/sf4RRefQH6N8NAGQbKMFCGgTIMlGGgDANlGCjDQBkGyjBQhoEyDNR3roXn83k4Gw6HWfaczWbhbDAYZNkzF08MlGGgDANlGCjDQBkG6usnb8lst9tw1mw2w1mr1Qpn+/0+uefhcHh8Yb/sFS8SeWKgDANlGCjDQBkGyjBQP7pdfieXyyU5r1Qq4axarYaz0+n07CUleWKgDANlGCjDQBkGyjBQ2V7GoCkU3utn8L2u9j9iGCjDQBkGyjBQhoEyDNRHPfYfj8fhbDKZJD9bLpfD2aM/GeTgiYEyDJRhoAwDZRgow0C93WP/er0ezo7HYzhbLpfJdTudztPXlIMnBsowUIaBMgyUYaAMA/V2t8upW+LU15LQbocf8cRAGQbKMFCGgTIMlGGgDAOV7S2ZUqkUzhaLRTjrdrvJdafTaTgbjUbhrFarJddN/X70Cp4YKMNAGQbKMFCGgTIMVLbH/tfrNZz1er1wdj6fk+v2+/1wtl6vw9lqtUquu9vtwlmj0Uh+NgdPDJRhoAwDZRgow0AZBuol/4PZbrfD2WazybJnsVhMzm+3W5Z9n+WJgTIMlGGgDANlGCjDQH3UV5Z8Ek8MlGGgDANlGCjDQBkGyjBQhoEyDJRhoAwDZRgow0AZBuovealj662/88IAAAAASUVORK5CYII=\" id=\"image636c04cf92\" transform=\"scale(1 -1)translate(0 -73.44)\" x=\"95.823529\" y=\"-196.078594\" width=\"73.44\" height=\"73.44\"/>\n   </g>\n   <g id=\"matplotlib.axis_15\"/>\n   <g id=\"matplotlib.axis_16\"/>\n   <g id=\"patch_38\">\n    <path d=\"M 95.823529 269.518594 \nL 95.823529 196.142123 \n\" style=\"fill: none; stroke: #bcbcbc; stroke-width: 0.8; stroke-linejoin: miter; stroke-linecap: square\"/>\n   </g>\n   <g id=\"patch_39\">\n    <path d=\"M 169.2 269.518594 \nL 169.2 196.142123 \n\" style=\"fill: none; stroke: #bcbcbc; stroke-width: 0.8; stroke-linejoin: miter; stroke-linecap: square\"/>\n   </g>\n   <g id=\"patch_40\">\n    <path d=\"M 95.823529 269.518594 \nL 169.2 269.518594 \n\" style=\"fill: none; stroke: #bcbcbc; stroke-width: 0.8; stroke-linejoin: miter; stroke-linecap: square\"/>\n   </g>\n   <g id=\"patch_41\">\n    <path d=\"M 95.823529 196.142123 \nL 169.2 196.142123 \n\" style=\"fill: none; stroke: #bcbcbc; stroke-width: 0.8; stroke-linejoin: miter; stroke-linecap: square\"/>\n   </g>\n   <g id=\"text_8\">\n    <!-- label: 3 -->\n    <g transform=\"translate(115.818874 190.142123)scale(0.09 -0.09)\">\n     <use xlink:href=\"#DejaVuSans-6c\"/>\n     <use xlink:href=\"#DejaVuSans-61\" x=\"27.783203\"/>\n     <use xlink:href=\"#DejaVuSans-62\" x=\"89.0625\"/>\n     <use xlink:href=\"#DejaVuSans-65\" x=\"152.539062\"/>\n     <use xlink:href=\"#DejaVuSans-6c\" x=\"214.0625\"/>\n     <use xlink:href=\"#DejaVuSans-3a\" x=\"241.845703\"/>\n     <use xlink:href=\"#DejaVuSans-20\" x=\"275.537109\"/>\n     <use xlink:href=\"#DejaVuSans-33\" x=\"307.324219\"/>\n    </g>\n   </g>\n  </g>\n  <g id=\"axes_9\">\n   <g id=\"patch_42\">\n    <path d=\"M 184.447059 269.518594 \nL 257.823529 269.518594 \nL 257.823529 196.142123 \nL 184.447059 196.142123 \nz\n\" style=\"fill: #eeeeee\"/>\n   </g>\n   <g clip-path=\"url(#pafaa7d7a4b)\">\n    <image xlink:href=\"data:image/png;base64,\niVBORw0KGgoAAAANSUhEUgAAAGYAAABmCAYAAAA53+RiAAACFElEQVR4nO3cMWoCURhF4ShBUBtdgGgl7kawEVyCnb0rsXMDrsVSsNBKLATBQsHCyQbyP2EeQ07kfO1FM+TkgQ5DakVRFF/Cqf/1Beh3hoEyDJRhoAwDZRgow0AZBsowUIaBMgyUYaAMA2UYKMNAGQbKMFCGgTIMlGGgDAP1nfPi3W4Xbr1eL9za7Xa4nU6n5M+83W7hVq/Hf2fD4TD5vjSeGCjDQBkGyjBQhoEyDFQt56Hyx+MRbq1Wq+zbJp3P53AbjUbhdr1eq7icynhioAwDZRgow0AZBsowUFl3l5vNZrjd7/dwu1wu4Za6K/1Ot9sNt+fzmXxto9Eo/XOr4ImBMgyUYaAMA2UYKMNAGQYq63tMSuo7znw+D7fFYpF838lkEm7L5TLcaN9T3vHEQBkGyjBQhoEyDJRhoLKekikr9fD3u8s5Ho/h1u/3y14SjicGyjBQhoEyDJRhoAwDVdnd5ZTX6xVum80m+drBYBBun/RR2hMDZRgow0AZBsowUIaBMgzUn9z2z7Hf78Mt5//FdDqdcFutVuE2Ho/DLefJHE8MlGGgDANlGCjDQBkG6t99XE5Zr9fhNpvNkq/dbrfhNp1Ow+1wOIRbzq/WEwNlGCjDQBkGyjBQhoH6qI/Ln8QTA2UYKMNAGQbKMFCGgTIMlGGgDANlGCjDQBkGyjBQhoEyDJRhoAwDZRgow0AZBsowUD+sj1mLozHX7QAAAABJRU5ErkJggg==\" id=\"imageb56c70d4a3\" transform=\"scale(1 -1)translate(0 -73.44)\" x=\"184.447059\" y=\"-196.078594\" width=\"73.44\" height=\"73.44\"/>\n   </g>\n   <g id=\"matplotlib.axis_17\"/>\n   <g id=\"matplotlib.axis_18\"/>\n   <g id=\"patch_43\">\n    <path d=\"M 184.447059 269.518594 \nL 184.447059 196.142123 \n\" style=\"fill: none; stroke: #bcbcbc; stroke-width: 0.8; stroke-linejoin: miter; stroke-linecap: square\"/>\n   </g>\n   <g id=\"patch_44\">\n    <path d=\"M 257.823529 269.518594 \nL 257.823529 196.142123 \n\" style=\"fill: none; stroke: #bcbcbc; stroke-width: 0.8; stroke-linejoin: miter; stroke-linecap: square\"/>\n   </g>\n   <g id=\"patch_45\">\n    <path d=\"M 184.447059 269.518594 \nL 257.823529 269.518594 \n\" style=\"fill: none; stroke: #bcbcbc; stroke-width: 0.8; stroke-linejoin: miter; stroke-linecap: square\"/>\n   </g>\n   <g id=\"patch_46\">\n    <path d=\"M 184.447059 196.142123 \nL 257.823529 196.142123 \n\" style=\"fill: none; stroke: #bcbcbc; stroke-width: 0.8; stroke-linejoin: miter; stroke-linecap: square\"/>\n   </g>\n   <g id=\"text_9\">\n    <!-- label: 5 -->\n    <g transform=\"translate(204.442403 190.142123)scale(0.09 -0.09)\">\n     <defs>\n      <path id=\"DejaVuSans-35\" d=\"M 691 4666 \nL 3169 4666 \nL 3169 4134 \nL 1269 4134 \nL 1269 2991 \nQ 1406 3038 1543 3061 \nQ 1681 3084 1819 3084 \nQ 2600 3084 3056 2656 \nQ 3513 2228 3513 1497 \nQ 3513 744 3044 326 \nQ 2575 -91 1722 -91 \nQ 1428 -91 1123 -41 \nQ 819 9 494 109 \nL 494 744 \nQ 775 591 1075 516 \nQ 1375 441 1709 441 \nQ 2250 441 2565 725 \nQ 2881 1009 2881 1497 \nQ 2881 1984 2565 2268 \nQ 2250 2553 1709 2553 \nQ 1456 2553 1204 2497 \nQ 953 2441 691 2322 \nL 691 4666 \nz\n\" transform=\"scale(0.015625)\"/>\n     </defs>\n     <use xlink:href=\"#DejaVuSans-6c\"/>\n     <use xlink:href=\"#DejaVuSans-61\" x=\"27.783203\"/>\n     <use xlink:href=\"#DejaVuSans-62\" x=\"89.0625\"/>\n     <use xlink:href=\"#DejaVuSans-65\" x=\"152.539062\"/>\n     <use xlink:href=\"#DejaVuSans-6c\" x=\"214.0625\"/>\n     <use xlink:href=\"#DejaVuSans-3a\" x=\"241.845703\"/>\n     <use xlink:href=\"#DejaVuSans-20\" x=\"275.537109\"/>\n     <use xlink:href=\"#DejaVuSans-35\" x=\"307.324219\"/>\n    </g>\n   </g>\n  </g>\n </g>\n <defs>\n  <clipPath id=\"pfb7284493f\">\n   <rect x=\"7.2\" y=\"20.038594\" width=\"73.376471\" height=\"73.376471\"/>\n  </clipPath>\n  <clipPath id=\"pbbb21adf1c\">\n   <rect x=\"95.823529\" y=\"20.038594\" width=\"73.376471\" height=\"73.376471\"/>\n  </clipPath>\n  <clipPath id=\"p119e06966b\">\n   <rect x=\"184.447059\" y=\"20.038594\" width=\"73.376471\" height=\"73.376471\"/>\n  </clipPath>\n  <clipPath id=\"pd494f4f7ea\">\n   <rect x=\"7.2\" y=\"108.090358\" width=\"73.376471\" height=\"73.376471\"/>\n  </clipPath>\n  <clipPath id=\"pbe756e91ad\">\n   <rect x=\"95.823529\" y=\"108.090358\" width=\"73.376471\" height=\"73.376471\"/>\n  </clipPath>\n  <clipPath id=\"p470fb7b51a\">\n   <rect x=\"184.447059\" y=\"108.090358\" width=\"73.376471\" height=\"73.376471\"/>\n  </clipPath>\n  <clipPath id=\"pca43c3dde3\">\n   <rect x=\"7.2\" y=\"196.142123\" width=\"73.376471\" height=\"73.376471\"/>\n  </clipPath>\n  <clipPath id=\"p2f403eed8f\">\n   <rect x=\"95.823529\" y=\"196.142123\" width=\"73.376471\" height=\"73.376471\"/>\n  </clipPath>\n  <clipPath id=\"pafaa7d7a4b\">\n   <rect x=\"184.447059\" y=\"196.142123\" width=\"73.376471\" height=\"73.376471\"/>\n  </clipPath>\n </defs>\n</svg>\n",
      "text/plain": [
       "<Figure size 450x450 with 9 Axes>"
      ]
     },
     "metadata": {},
     "output_type": "display_data"
    }
   ],
   "source": [
    "set_figsize((4.5,4.5))\n",
    "\n",
    "show_img_grid(\n",
    "    [train_images_scaled[i].reshape(img_shape) for i in range(9)],\n",
    "    [f\"label: {jnp.argmax(train_labels[i])}\" for i in range(9)]\n",
    ")"
   ]
  },
  {
   "cell_type": "markdown",
   "id": "76114d82",
   "metadata": {},
   "source": [
    "# Feature Map"
   ]
  },
  {
   "cell_type": "code",
   "execution_count": 21,
   "id": "725a1acd",
   "metadata": {},
   "outputs": [],
   "source": [
    "def feature_map(x: Scalar) -> Vector:\n",
    "    \"\"\"Definine a feature map per pixel\"\"\"\n",
    "    return jnp.asarray([\n",
    "        jnp.cos(0.5 * jnp.pi * x),\n",
    "        jnp.sin(0.5 * jnp.pi * x)\n",
    "    ])"
   ]
  },
  {
   "cell_type": "code",
   "execution_count": 22,
   "id": "b7474f74",
   "metadata": {},
   "outputs": [],
   "source": [
    "# applying the feature map in vectorized form\n",
    "# exchanging axes for convenience (leading axes have the largest dimensions)\n",
    "train_samples = jax.vmap(feature_map)(train_images_scaled).transpose(0,2,1)  \n",
    "test_samples = jax.vmap(feature_map)(test_images_scaled).transpose(0,2,1)"
   ]
  },
  {
   "cell_type": "code",
   "execution_count": 23,
   "id": "8ec309fc",
   "metadata": {},
   "outputs": [
    {
     "name": "stdout",
     "output_type": "stream",
     "text": [
      "Train data shape: (60000, 196, 2) | Test data shape: (10000, 196, 2)\n"
     ]
    }
   ],
   "source": [
    "print(f'Train data shape: {train_samples.shape} | Test data shape: {test_samples.shape}')"
   ]
  },
  {
   "cell_type": "code",
   "execution_count": 24,
   "id": "2e30c78d",
   "metadata": {},
   "outputs": [
    {
     "data": {
      "image/svg+xml": "<?xml version=\"1.0\" encoding=\"utf-8\" standalone=\"no\"?>\n<!DOCTYPE svg PUBLIC \"-//W3C//DTD SVG 1.1//EN\"\n  \"http://www.w3.org/Graphics/SVG/1.1/DTD/svg11.dtd\">\n<svg xmlns:xlink=\"http://www.w3.org/1999/xlink\" width=\"186.872727pt\" height=\"199.102594pt\" viewBox=\"0 0 186.872727 199.102594\" xmlns=\"http://www.w3.org/2000/svg\" version=\"1.1\">\n <metadata>\n  <rdf:RDF xmlns:dc=\"http://purl.org/dc/elements/1.1/\" xmlns:cc=\"http://creativecommons.org/ns#\" xmlns:rdf=\"http://www.w3.org/1999/02/22-rdf-syntax-ns#\">\n   <cc:Work>\n    <dc:type rdf:resource=\"http://purl.org/dc/dcmitype/StillImage\"/>\n    <dc:date>2022-05-09T18:43:00.010379</dc:date>\n    <dc:format>image/svg+xml</dc:format>\n    <dc:creator>\n     <cc:Agent>\n      <dc:title>Matplotlib v3.5.2, https://matplotlib.org/</dc:title>\n     </cc:Agent>\n    </dc:creator>\n   </cc:Work>\n  </rdf:RDF>\n </metadata>\n <defs>\n  <style type=\"text/css\">*{stroke-linejoin: round; stroke-linecap: butt}</style>\n </defs>\n <g id=\"figure_1\">\n  <g id=\"patch_1\">\n   <path d=\"M 0 199.102594 \nL 186.872727 199.102594 \nL 186.872727 0 \nL 0 0 \nz\n\" style=\"fill: #ffffff\"/>\n  </g>\n  <g id=\"axes_1\">\n   <g id=\"patch_2\">\n    <path d=\"M 7.2 98.158594 \nL 85.32 98.158594 \nL 85.32 20.038594 \nL 7.2 20.038594 \nz\n\" style=\"fill: #eeeeee\"/>\n   </g>\n   <g clip-path=\"url(#p028f111eeb)\">\n    <image xlink:href=\"data:image/png;base64,\niVBORw0KGgoAAAANSUhEUgAAAG0AAABtCAYAAACr+O9WAAABh0lEQVR4nO3cwY3CMBRAwQRtA6EBekgblElDqYQSYCsgaIEljHhztYwsPf7BAnkchuE6hLLb+gD5u6KBigYqGqhooKKBigYqGqhooKKBigYqGqhooKKBigb62foAzzgejzfX9vv96t7T6fTq47xNkwYqGqhooKKBigYqGmgc4L/QXS6Xm2vLsqzunef5xad5nyYNVDRQ0UBFAxUNVDRQ0UAffU+bpml1/Xw+P/zZ4zg+vHdrTRqoaKCigYoGKhqoaKCigT76nnbP2u9p9+x27vfVPfkXKxqoaKCigYoGKhqoaKCigYoGKhqoaKCigYoGKhqoaKCigYoGKhqoaKCigYoGKhqoaKCigYoGKhqoaKCigYoGKhqIfi1cflbiGU0aqGigooGKBioaqGigooHoe9r1yr6m8ZQmDVQ0UNFARQMVDVQ0UNFA9D1tzeFw2PoI/6ZJAxUNVDRQ0UBFAxUNRL8W/q2aNFDRQEUDFQ1UNFDRQEUDFQ1UNFDRQEUDFQ1UNFDRQEUD/QJ1ARg2FcCVgAAAAABJRU5ErkJggg==\" id=\"image16c28d10e6\" transform=\"scale(1 -1)translate(0 -78.48)\" x=\"7.2\" y=\"-19.678594\" width=\"78.48\" height=\"78.48\"/>\n   </g>\n   <g id=\"matplotlib.axis_1\"/>\n   <g id=\"matplotlib.axis_2\"/>\n   <g id=\"patch_3\">\n    <path d=\"M 7.2 98.158594 \nL 7.2 20.038594 \n\" style=\"fill: none; stroke: #bcbcbc; stroke-width: 0.8; stroke-linejoin: miter; stroke-linecap: square\"/>\n   </g>\n   <g id=\"patch_4\">\n    <path d=\"M 85.32 98.158594 \nL 85.32 20.038594 \n\" style=\"fill: none; stroke: #bcbcbc; stroke-width: 0.8; stroke-linejoin: miter; stroke-linecap: square\"/>\n   </g>\n   <g id=\"patch_5\">\n    <path d=\"M 7.2 98.158594 \nL 85.32 98.158594 \n\" style=\"fill: none; stroke: #bcbcbc; stroke-width: 0.8; stroke-linejoin: miter; stroke-linecap: square\"/>\n   </g>\n   <g id=\"patch_6\">\n    <path d=\"M 7.2 20.038594 \nL 85.32 20.038594 \n\" style=\"fill: none; stroke: #bcbcbc; stroke-width: 0.8; stroke-linejoin: miter; stroke-linecap: square\"/>\n   </g>\n   <g id=\"text_1\">\n    <!-- label: 1 -->\n    <g transform=\"translate(29.567109 14.038594)scale(0.09 -0.09)\">\n     <defs>\n      <path id=\"DejaVuSans-6c\" d=\"M 603 4863 \nL 1178 4863 \nL 1178 0 \nL 603 0 \nL 603 4863 \nz\n\" transform=\"scale(0.015625)\"/>\n      <path id=\"DejaVuSans-61\" d=\"M 2194 1759 \nQ 1497 1759 1228 1600 \nQ 959 1441 959 1056 \nQ 959 750 1161 570 \nQ 1363 391 1709 391 \nQ 2188 391 2477 730 \nQ 2766 1069 2766 1631 \nL 2766 1759 \nL 2194 1759 \nz\nM 3341 1997 \nL 3341 0 \nL 2766 0 \nL 2766 531 \nQ 2569 213 2275 61 \nQ 1981 -91 1556 -91 \nQ 1019 -91 701 211 \nQ 384 513 384 1019 \nQ 384 1609 779 1909 \nQ 1175 2209 1959 2209 \nL 2766 2209 \nL 2766 2266 \nQ 2766 2663 2505 2880 \nQ 2244 3097 1772 3097 \nQ 1472 3097 1187 3025 \nQ 903 2953 641 2809 \nL 641 3341 \nQ 956 3463 1253 3523 \nQ 1550 3584 1831 3584 \nQ 2591 3584 2966 3190 \nQ 3341 2797 3341 1997 \nz\n\" transform=\"scale(0.015625)\"/>\n      <path id=\"DejaVuSans-62\" d=\"M 3116 1747 \nQ 3116 2381 2855 2742 \nQ 2594 3103 2138 3103 \nQ 1681 3103 1420 2742 \nQ 1159 2381 1159 1747 \nQ 1159 1113 1420 752 \nQ 1681 391 2138 391 \nQ 2594 391 2855 752 \nQ 3116 1113 3116 1747 \nz\nM 1159 2969 \nQ 1341 3281 1617 3432 \nQ 1894 3584 2278 3584 \nQ 2916 3584 3314 3078 \nQ 3713 2572 3713 1747 \nQ 3713 922 3314 415 \nQ 2916 -91 2278 -91 \nQ 1894 -91 1617 61 \nQ 1341 213 1159 525 \nL 1159 0 \nL 581 0 \nL 581 4863 \nL 1159 4863 \nL 1159 2969 \nz\n\" transform=\"scale(0.015625)\"/>\n      <path id=\"DejaVuSans-65\" d=\"M 3597 1894 \nL 3597 1613 \nL 953 1613 \nQ 991 1019 1311 708 \nQ 1631 397 2203 397 \nQ 2534 397 2845 478 \nQ 3156 559 3463 722 \nL 3463 178 \nQ 3153 47 2828 -22 \nQ 2503 -91 2169 -91 \nQ 1331 -91 842 396 \nQ 353 884 353 1716 \nQ 353 2575 817 3079 \nQ 1281 3584 2069 3584 \nQ 2775 3584 3186 3129 \nQ 3597 2675 3597 1894 \nz\nM 3022 2063 \nQ 3016 2534 2758 2815 \nQ 2500 3097 2075 3097 \nQ 1594 3097 1305 2825 \nQ 1016 2553 972 2059 \nL 3022 2063 \nz\n\" transform=\"scale(0.015625)\"/>\n      <path id=\"DejaVuSans-3a\" d=\"M 750 794 \nL 1409 794 \nL 1409 0 \nL 750 0 \nL 750 794 \nz\nM 750 3309 \nL 1409 3309 \nL 1409 2516 \nL 750 2516 \nL 750 3309 \nz\n\" transform=\"scale(0.015625)\"/>\n      <path id=\"DejaVuSans-20\" transform=\"scale(0.015625)\"/>\n      <path id=\"DejaVuSans-31\" d=\"M 794 531 \nL 1825 531 \nL 1825 4091 \nL 703 3866 \nL 703 4441 \nL 1819 4666 \nL 2450 4666 \nL 2450 531 \nL 3481 531 \nL 3481 0 \nL 794 0 \nL 794 531 \nz\n\" transform=\"scale(0.015625)\"/>\n     </defs>\n     <use xlink:href=\"#DejaVuSans-6c\"/>\n     <use xlink:href=\"#DejaVuSans-61\" x=\"27.783203\"/>\n     <use xlink:href=\"#DejaVuSans-62\" x=\"89.0625\"/>\n     <use xlink:href=\"#DejaVuSans-65\" x=\"152.539062\"/>\n     <use xlink:href=\"#DejaVuSans-6c\" x=\"214.0625\"/>\n     <use xlink:href=\"#DejaVuSans-3a\" x=\"241.845703\"/>\n     <use xlink:href=\"#DejaVuSans-20\" x=\"275.537109\"/>\n     <use xlink:href=\"#DejaVuSans-31\" x=\"307.324219\"/>\n    </g>\n   </g>\n  </g>\n  <g id=\"axes_2\">\n   <g id=\"patch_7\">\n    <path d=\"M 101.552727 98.158594 \nL 179.672727 98.158594 \nL 179.672727 20.038594 \nL 101.552727 20.038594 \nz\n\" style=\"fill: #eeeeee\"/>\n   </g>\n   <g clip-path=\"url(#p70cb266484)\">\n    <image xlink:href=\"data:image/png;base64,\niVBORw0KGgoAAAANSUhEUgAAAG0AAABtCAYAAACr+O9WAAACD0lEQVR4nO3dv45BQRhA8Uu28KdVK9WiEI1CrfVQaq/iCdB4DIWoRBQKiYJ6k73fzQo7c9b5tV8mO9mzk9yJRa0oinshlHrqDej3jAZkNCCjARkNyGhARgMyGpDRgIwGZDQgowEZDchoQEYD+kr5w1utVjhvNBrh/HA4lM7m83m4drFYhPPT6RTOU/KkARkNyGhARgMyGpDRgJI+8l8ul3B+u93Ceb/fL51NJpNw7fF4DOf7/T6cd7vdcP5OnjQgowEZDchoQEYDMhqQ0YBqhW91+tH9Hv9ams1mOL9er6/czjeeNCCjARkNyGhARgMyGpDRgJK+npbSer0O51X3tHfew6p40oCMBmQ0IKMBGQ3IaEBGA/q397TtdhvOh8NhOK/X8/17zndnKmU0IKMBGQ3IaEBGAzIaUNb3tPF4HM5Xq1XpbLfbhWtzvodV4e78gxkNyGhARgMyGpDRgLJ+5B+NRk+v7fV6L9xJXjxpQEYDMhqQ0YCMBmQ0IKMBoT+SYrPZlM4Gg0G4tt1uv3o7f8aTBmQ0IKMBGQ3IaEBGAzIaUNavp1XpdDqls6pvjCLzpAEZDchoQEYDMhqQ0YCMBpT0nrZcLsP5dDoN5+fzuXQ2m82e2RKCJw3IaEBGAzIakNGAjAaE/he6T+VJAzIakNGAjAZkNCCjARkNyGhARgMyGpDRgIwGZDQgowEZDegBlSk80knOE9IAAAAASUVORK5CYII=\" id=\"imagedc9d7c052f\" transform=\"scale(1 -1)translate(0 -78.48)\" x=\"101.552727\" y=\"-19.678594\" width=\"78.48\" height=\"78.48\"/>\n   </g>\n   <g id=\"matplotlib.axis_3\"/>\n   <g id=\"matplotlib.axis_4\"/>\n   <g id=\"patch_8\">\n    <path d=\"M 101.552727 98.158594 \nL 101.552727 20.038594 \n\" style=\"fill: none; stroke: #bcbcbc; stroke-width: 0.8; stroke-linejoin: miter; stroke-linecap: square\"/>\n   </g>\n   <g id=\"patch_9\">\n    <path d=\"M 179.672727 98.158594 \nL 179.672727 20.038594 \n\" style=\"fill: none; stroke: #bcbcbc; stroke-width: 0.8; stroke-linejoin: miter; stroke-linecap: square\"/>\n   </g>\n   <g id=\"patch_10\">\n    <path d=\"M 101.552727 98.158594 \nL 179.672727 98.158594 \n\" style=\"fill: none; stroke: #bcbcbc; stroke-width: 0.8; stroke-linejoin: miter; stroke-linecap: square\"/>\n   </g>\n   <g id=\"patch_11\">\n    <path d=\"M 101.552727 20.038594 \nL 179.672727 20.038594 \n\" style=\"fill: none; stroke: #bcbcbc; stroke-width: 0.8; stroke-linejoin: miter; stroke-linecap: square\"/>\n   </g>\n   <g id=\"text_2\">\n    <!-- label: 3 -->\n    <g transform=\"translate(123.919837 14.038594)scale(0.09 -0.09)\">\n     <defs>\n      <path id=\"DejaVuSans-33\" d=\"M 2597 2516 \nQ 3050 2419 3304 2112 \nQ 3559 1806 3559 1356 \nQ 3559 666 3084 287 \nQ 2609 -91 1734 -91 \nQ 1441 -91 1130 -33 \nQ 819 25 488 141 \nL 488 750 \nQ 750 597 1062 519 \nQ 1375 441 1716 441 \nQ 2309 441 2620 675 \nQ 2931 909 2931 1356 \nQ 2931 1769 2642 2001 \nQ 2353 2234 1838 2234 \nL 1294 2234 \nL 1294 2753 \nL 1863 2753 \nQ 2328 2753 2575 2939 \nQ 2822 3125 2822 3475 \nQ 2822 3834 2567 4026 \nQ 2313 4219 1838 4219 \nQ 1578 4219 1281 4162 \nQ 984 4106 628 3988 \nL 628 4550 \nQ 988 4650 1302 4700 \nQ 1616 4750 1894 4750 \nQ 2613 4750 3031 4423 \nQ 3450 4097 3450 3541 \nQ 3450 3153 3228 2886 \nQ 3006 2619 2597 2516 \nz\n\" transform=\"scale(0.015625)\"/>\n     </defs>\n     <use xlink:href=\"#DejaVuSans-6c\"/>\n     <use xlink:href=\"#DejaVuSans-61\" x=\"27.783203\"/>\n     <use xlink:href=\"#DejaVuSans-62\" x=\"89.0625\"/>\n     <use xlink:href=\"#DejaVuSans-65\" x=\"152.539062\"/>\n     <use xlink:href=\"#DejaVuSans-6c\" x=\"214.0625\"/>\n     <use xlink:href=\"#DejaVuSans-3a\" x=\"241.845703\"/>\n     <use xlink:href=\"#DejaVuSans-20\" x=\"275.537109\"/>\n     <use xlink:href=\"#DejaVuSans-33\" x=\"307.324219\"/>\n    </g>\n   </g>\n  </g>\n  <g id=\"axes_3\">\n   <g id=\"patch_12\">\n    <path d=\"M 7.2 191.902594 \nL 85.32 191.902594 \nL 85.32 113.782594 \nL 7.2 113.782594 \nz\n\" style=\"fill: #eeeeee\"/>\n   </g>\n   <g clip-path=\"url(#p010e688591)\">\n    <image xlink:href=\"data:image/png;base64,\niVBORw0KGgoAAAANSUhEUgAAAG0AAABtCAYAAACr+O9WAAABb0lEQVR4nO3cQWqDUBRA0Vo6dbHZUsYuw+040QXYFSShjU085Z6pfHhyeSAoDvu+7x+hfL57gPxc0UBFAxUNVDRQ0UBFAxUNVDRQ0UBFAxUNVDRQ0UBFA329e4BnXC6Xm9eWZbl79nq9Hj3Oy7RpoKKBigYqGqhooKKBBvkTumEYbl4bx/Hu2XVdjx7nZdo0UNFARQMVDVQ0UNFARQOd+tXMPM+/Prtt24GTnEubBioaqGigooGKBioaqGigf/s+7RH4tts0UdFARQMVDVQ0UNFARQMVDVQ0UNFARQMVDVQ0UNFARQMVDVQ0UNFARQMVDVQ0UNFARQMVDVQ0UNFARQMVDVQ0UNFARQMVDVQ0UNFARQMVDVQ0UNFARQMVDVQ0UNFARQMVDVQ0UNFAp/7F+zOmaXr3CH+mTQMVDVQ0UNFARQMVDUQ/8st//H5GmwYqGqhooKKBigYqGqhooKKBigYqGqhooKKBigYqGqhooG9XdyL6waKyqwAAAABJRU5ErkJggg==\" id=\"image852c3816ca\" transform=\"scale(1 -1)translate(0 -78.48)\" x=\"7.2\" y=\"-113.422594\" width=\"78.48\" height=\"78.48\"/>\n   </g>\n   <g id=\"matplotlib.axis_5\"/>\n   <g id=\"matplotlib.axis_6\"/>\n   <g id=\"patch_13\">\n    <path d=\"M 7.2 191.902594 \nL 7.2 113.782594 \n\" style=\"fill: none; stroke: #bcbcbc; stroke-width: 0.8; stroke-linejoin: miter; stroke-linecap: square\"/>\n   </g>\n   <g id=\"patch_14\">\n    <path d=\"M 85.32 191.902594 \nL 85.32 113.782594 \n\" style=\"fill: none; stroke: #bcbcbc; stroke-width: 0.8; stroke-linejoin: miter; stroke-linecap: square\"/>\n   </g>\n   <g id=\"patch_15\">\n    <path d=\"M 7.2 191.902594 \nL 85.32 191.902594 \n\" style=\"fill: none; stroke: #bcbcbc; stroke-width: 0.8; stroke-linejoin: miter; stroke-linecap: square\"/>\n   </g>\n   <g id=\"patch_16\">\n    <path d=\"M 7.2 113.782594 \nL 85.32 113.782594 \n\" style=\"fill: none; stroke: #bcbcbc; stroke-width: 0.8; stroke-linejoin: miter; stroke-linecap: square\"/>\n   </g>\n   <g id=\"text_3\">\n    <!-- label: 1 -->\n    <g transform=\"translate(29.567109 107.782594)scale(0.09 -0.09)\">\n     <use xlink:href=\"#DejaVuSans-6c\"/>\n     <use xlink:href=\"#DejaVuSans-61\" x=\"27.783203\"/>\n     <use xlink:href=\"#DejaVuSans-62\" x=\"89.0625\"/>\n     <use xlink:href=\"#DejaVuSans-65\" x=\"152.539062\"/>\n     <use xlink:href=\"#DejaVuSans-6c\" x=\"214.0625\"/>\n     <use xlink:href=\"#DejaVuSans-3a\" x=\"241.845703\"/>\n     <use xlink:href=\"#DejaVuSans-20\" x=\"275.537109\"/>\n     <use xlink:href=\"#DejaVuSans-31\" x=\"307.324219\"/>\n    </g>\n   </g>\n  </g>\n  <g id=\"axes_4\">\n   <g id=\"patch_17\">\n    <path d=\"M 101.552727 191.902594 \nL 179.672727 191.902594 \nL 179.672727 113.782594 \nL 101.552727 113.782594 \nz\n\" style=\"fill: #eeeeee\"/>\n   </g>\n   <g clip-path=\"url(#p678c336934)\">\n    <image xlink:href=\"data:image/png;base64,\niVBORw0KGgoAAAANSUhEUgAAAG0AAABtCAYAAACr+O9WAAACAUlEQVR4nO3bvW3CUBRA4RgFeuSOmimQYB6moKFhAA/CAO69AB0FJR3QIWicOoWvFX7y3hHna6+sGJ1ciSfjom3b9ksog9Q3oL8zGpDRgIwGZDQgowEZDchoQEYDMhqQ0YCMBmQ0IKMBGQ3oO+Uf3+124fx8PofzxWLROZvNZuG1m80mnM/n83CekpsGZDQgowEZDchoQEYDKlL+hK4oiqeur6qqc1bXdXjtdrsN58PhMJzf7/dw/k5uGpDRgIwGZDQgowEZDchoQEnPaTnrO0Pu9/twPp1OX3k7v7hpQEYDMhqQ0YCMBmQ0IKMBfew5rSzLcH46ncJ53/O0vudxz3DTgIwGZDQgowEZDchoQEYDSvqq0zuNx+NwfrlcwnnOx1c3DchoQEYDMhqQ0YCMBmQ0oKzPaavVKpyv1+vO2Wg0Cq/N+RzWx00DMhqQ0YCMBmQ0IKMBZf2Vv2mah689HA4vvJO8uGlARgMyGpDRgIwGZDQgowGhX3WKXlfqe1UJ/LHdNCKjARkNyGhARgMyGpDRgLJ+nna73cL59Xr9pzvJi5sGZDQgowEZDchoQEYDMhpQ0nPaZDIJ58fjMZwPBt3/c8vl8qF7InDTgIwGZDQgowEZDchoQOif0H0qNw3IaEBGAzIakNGAjAZkNCCjARkNyGhARgMyGpDRgIwGZDSgH6g/VN7CDmnjAAAAAElFTkSuQmCC\" id=\"image918ed7b8aa\" transform=\"scale(1 -1)translate(0 -78.48)\" x=\"101.552727\" y=\"-113.422594\" width=\"78.48\" height=\"78.48\"/>\n   </g>\n   <g id=\"matplotlib.axis_7\"/>\n   <g id=\"matplotlib.axis_8\"/>\n   <g id=\"patch_18\">\n    <path d=\"M 101.552727 191.902594 \nL 101.552727 113.782594 \n\" style=\"fill: none; stroke: #bcbcbc; stroke-width: 0.8; stroke-linejoin: miter; stroke-linecap: square\"/>\n   </g>\n   <g id=\"patch_19\">\n    <path d=\"M 179.672727 191.902594 \nL 179.672727 113.782594 \n\" style=\"fill: none; stroke: #bcbcbc; stroke-width: 0.8; stroke-linejoin: miter; stroke-linecap: square\"/>\n   </g>\n   <g id=\"patch_20\">\n    <path d=\"M 101.552727 191.902594 \nL 179.672727 191.902594 \n\" style=\"fill: none; stroke: #bcbcbc; stroke-width: 0.8; stroke-linejoin: miter; stroke-linecap: square\"/>\n   </g>\n   <g id=\"patch_21\">\n    <path d=\"M 101.552727 113.782594 \nL 179.672727 113.782594 \n\" style=\"fill: none; stroke: #bcbcbc; stroke-width: 0.8; stroke-linejoin: miter; stroke-linecap: square\"/>\n   </g>\n   <g id=\"text_4\">\n    <!-- label: 3 -->\n    <g transform=\"translate(123.919837 107.782594)scale(0.09 -0.09)\">\n     <use xlink:href=\"#DejaVuSans-6c\"/>\n     <use xlink:href=\"#DejaVuSans-61\" x=\"27.783203\"/>\n     <use xlink:href=\"#DejaVuSans-62\" x=\"89.0625\"/>\n     <use xlink:href=\"#DejaVuSans-65\" x=\"152.539062\"/>\n     <use xlink:href=\"#DejaVuSans-6c\" x=\"214.0625\"/>\n     <use xlink:href=\"#DejaVuSans-3a\" x=\"241.845703\"/>\n     <use xlink:href=\"#DejaVuSans-20\" x=\"275.537109\"/>\n     <use xlink:href=\"#DejaVuSans-33\" x=\"307.324219\"/>\n    </g>\n   </g>\n  </g>\n </g>\n <defs>\n  <clipPath id=\"p028f111eeb\">\n   <rect x=\"7.2\" y=\"20.038594\" width=\"78.12\" height=\"78.12\"/>\n  </clipPath>\n  <clipPath id=\"p70cb266484\">\n   <rect x=\"101.552727\" y=\"20.038594\" width=\"78.12\" height=\"78.12\"/>\n  </clipPath>\n  <clipPath id=\"p010e688591\">\n   <rect x=\"7.2\" y=\"113.782594\" width=\"78.12\" height=\"78.12\"/>\n  </clipPath>\n  <clipPath id=\"p678c336934\">\n   <rect x=\"101.552727\" y=\"113.782594\" width=\"78.12\" height=\"78.12\"/>\n  </clipPath>\n </defs>\n</svg>\n",
      "text/plain": [
       "<Figure size 310x310 with 4 Axes>"
      ]
     },
     "metadata": {},
     "output_type": "display_data"
    }
   ],
   "source": [
    "set_figsize((3.1,3.1))\n",
    "\n",
    "# printing some images after the feature extraction\n",
    "show_img_grid(\n",
    "    [train_samples[i,:,j].reshape(img_shape) for j in range(2) for i in range(2)],\n",
    "    [f'label: {jnp.argmax(train_labels[i])}' for i in range(2)] * 2,\n",
    ")"
   ]
  },
  {
   "cell_type": "markdown",
   "id": "06c26e10",
   "metadata": {},
   "source": [
    "## MPS Utilities"
   ]
  },
  {
   "cell_type": "code",
   "execution_count": 25,
   "id": "fd500800",
   "metadata": {},
   "outputs": [],
   "source": [
    "def random_mps(\n",
    "        key: Key,\n",
    "        initializer: Callable,\n",
    "        size: int,\n",
    "        local_dim: int,\n",
    "        bond_dim: int,\n",
    "        labels_dim: Optional[int]=1,\n",
    "    ) -> MPS:\n",
    "    \"\"\"\n",
    "    Generate a random MPS where each core tensor\n",
    "    is drawn according to the given initializer (see JAX docs).\n",
    "    The result is a list of tensors indexed as follows:\n",
    "    0 --o-- 2\n",
    "        |    \n",
    "        1    \n",
    "    If the labels_dim is provided, it is set at the last tensor.\n",
    "    \"\"\"\n",
    "    left   = (1, local_dim, bond_dim)\n",
    "    right  = (bond_dim, local_dim, labels_dim)\n",
    "    middle = (bond_dim, local_dim, bond_dim)\n",
    "\n",
    "    if size < 2:\n",
    "        raise ValueError('Expectetd at least 2 sites for the MPS')\n",
    "    elif size == 2:\n",
    "        shapes = [left, right]\n",
    "    else:       \n",
    "        shapes = [left] + [middle]*(size-2) + [right]\n",
    "\n",
    "    # generate multiple keys, so all tensors are different\n",
    "    keys = jax.random.split(key, num=size)\n",
    "\n",
    "    return jax.tree_map(initializer, list(keys), shapes)"
   ]
  },
  {
   "cell_type": "code",
   "execution_count": 26,
   "id": "270d5741",
   "metadata": {},
   "outputs": [],
   "source": [
    "def reverse_mps(\n",
    "        params: MPS, \n",
    "        swapaxes: Optional[Tuple[int,int]]=(0,2)\n",
    "    ) -> MPS:\n",
    "    \"\"\"\n",
    "    A helper to reverse the MPS from left to right.\n",
    "    The left and right legs are interchanged.\n",
    "    The default change of indexing is as follows:\n",
    "    0 --o-- 2     2 --o-- 0 \n",
    "        |     =>      |\n",
    "        1             1\n",
    "    \"\"\"\n",
    "    swap_legs = lambda t: t.swapaxes(*swapaxes)\n",
    "    return jax.tree_map(swap_legs, params[::-1])"
   ]
  },
  {
   "cell_type": "code",
   "execution_count": 27,
   "id": "c633ccfd",
   "metadata": {},
   "outputs": [],
   "source": [
    "def reverse_data(\n",
    "        params: MPS, \n",
    "        samples: Tensor,\n",
    "        wings: List[Matrix]\n",
    "    ) -> Tuple[MPS, Tensor, List[Matrix]]:\n",
    "    \"\"\"A helper to reverse main data arounnd the features axis\"\"\"\n",
    "    params_rev = reverse_mps(params)\n",
    "    samples_rev = jnp.flip(samples, axis=1)\n",
    "    wings_rev = wings[::-1]\n",
    "    return params_rev, samples_rev, wings_rev"
   ]
  },
  {
   "cell_type": "markdown",
   "id": "e72bb275",
   "metadata": {},
   "source": [
    "# Training-Related Functions"
   ]
  },
  {
   "cell_type": "code",
   "execution_count": 28,
   "id": "828c3a39",
   "metadata": {},
   "outputs": [],
   "source": [
    "@jax.jit\n",
    "def project_sample(\n",
    "        params: MPS, \n",
    "        sample: Matrix\n",
    "    ) -> List[Matrix]:\n",
    "    \"\"\"\n",
    "    A helper to project a single sample onto the MPS\n",
    "    sites, i.e. contracting the local dimension only.\n",
    "    --o--o--...--o--     \n",
    "      |  |       |   => --o--o--...--o--\n",
    "      o  o       o\n",
    "    \"\"\"\n",
    "    # accounting for the possible labels dimension\n",
    "    mult = lambda t, s: jnp.einsum('pjq...,j->pq...', t, s)\n",
    "    return jax.tree_map(mult, params, list(sample))\n",
    "\n",
    "@jax.jit\n",
    "def project_samples(\n",
    "      params: MPS, \n",
    "      samples: Tensor\n",
    "    ) -> List[Tensor]:\n",
    "    \"\"\"Projects multiple samples onto the MPS\"\"\"\n",
    "    proj_func = functools.partial(project_sample, params)\n",
    "    return jax.vmap(proj_func)(samples)"
   ]
  },
  {
   "cell_type": "code",
   "execution_count": 29,
   "id": "9b75247b",
   "metadata": {},
   "outputs": [],
   "source": [
    "def loss(\n",
    "        bond_tensor: Tensor,\n",
    "        data: Tuple[List[Tensor], Matrix]\n",
    "    ) -> Scalar:\n",
    "    \"\"\"Squared loss function\"\"\"\n",
    "    # (Φ̃, δℓ) = data\n",
    "    feats, labels = data\n",
    "    # Fig. 6c (fℓ(xₙ))\n",
    "    preds = jnp.einsum('mp,mij,mq,pijql->ml', *feats, bond_tensor)\n",
    "    err = preds - labels\n",
    "    # implicit double sum in Eq.6\n",
    "    return 0.5 * jnp.sum(jnp.power(err, 2))"
   ]
  },
  {
   "cell_type": "code",
   "execution_count": 30,
   "id": "dc0bb716",
   "metadata": {},
   "outputs": [],
   "source": [
    "def grad(\n",
    "        bond_tensor: Tensor,\n",
    "        data: Tuple[List[Tensor], Matrix]\n",
    "    ) -> Scalar:\n",
    "    \"\"\"Manually calculate the squared loss gradient - Fig.6(c-d)\"\"\"\n",
    "    # (Φ̃, δℓ) = data\n",
    "    feats, labels = data\n",
    "    # Fig. 6c (fℓ(xₙ))\n",
    "    preds = jnp.einsum('mp,mij,mq,pijql->ml', *feats, bond_tensor)\n",
    "    # Fig. 6d\n",
    "    err = preds - labels\n",
    "    # positive gradient\n",
    "    return jnp.einsum('mp,mij,mq,ml->pijql', *feats, err)"
   ]
  },
  {
   "cell_type": "code",
   "execution_count": 31,
   "id": "ea12dfda",
   "metadata": {},
   "outputs": [],
   "source": [
    "def predict_label(\n",
    "        params: MPS, \n",
    "        sample: Matrix\n",
    "    ) -> Scalar:\n",
    "    \"\"\"A helper to predict the label for a single sample\"\"\"\n",
    "    # project the test sample onto the mps\n",
    "    projs = project_sample(params, sample)\n",
    "    # reduce (full contraction)\n",
    "    preds = functools.reduce(\n",
    "        lambda x, y: jnp.einsum('pi...,iq...->pq...', x, y),\n",
    "        projs\n",
    "    )\n",
    "    return jnp.argmax(preds)\n",
    "\n",
    "def predict_labels(\n",
    "        params: MPS, \n",
    "        samples: Tensor\n",
    "    ) -> Scalar:\n",
    "    \"\"\"A helper to predict the label for a single sample\"\"\"\n",
    "    pred_func = functools.partial(predict_label, params)\n",
    "    return jax.vmap(pred_func)(samples)"
   ]
  },
  {
   "cell_type": "code",
   "execution_count": 32,
   "id": "16eb6e5f",
   "metadata": {},
   "outputs": [],
   "source": [
    "def error_rate(\n",
    "        params: List[Tensor], \n",
    "        data: Tuple[Tensor, Matrix]\n",
    "    ) -> Scalar:\n",
    "    \"\"\"A helper to compute the error rate\"\"\"\n",
    "    samples, labels_oh = data\n",
    "    # undo one-hot encoding of the labels\n",
    "    labels = jnp.argmax(labels_oh, axis=1)\n",
    "    # predict labels for all samples\n",
    "    labels_pred = predict_labels(params, samples)\n",
    "    return 1 - jnp.sum(labels == labels_pred) / labels.size"
   ]
  },
  {
   "cell_type": "markdown",
   "id": "7c306bd4",
   "metadata": {},
   "source": [
    "# Initialize MPS"
   ]
  },
  {
   "cell_type": "code",
   "execution_count": 33,
   "id": "7b285e3c",
   "metadata": {},
   "outputs": [
    {
     "name": "stdout",
     "output_type": "stream",
     "text": [
      "The MPS dimensions: size=196, local_dim=2, bond_dim=35\n",
      "Total number of paramters: 480200\n"
     ]
    }
   ],
   "source": [
    "# getting the parameters\n",
    "num_samples, num_features, dim_features = train_samples.shape\n",
    "num_classes = train_labels.shape[1]\n",
    "\n",
    "# initializer\n",
    "initializer = jax.nn.initializers.uniform(scale=1)\n",
    "\n",
    "# generating a random mps according to the initialiser\n",
    "mps = random_mps(\n",
    "    key, \n",
    "    initializer, \n",
    "    size=num_features, \n",
    "    local_dim=dim_features, \n",
    "    bond_dim=bond_dim, # WARNING: to avoid unnecessary truncation, set bond_dim >= num_classes \n",
    "    labels_dim=num_classes\n",
    ")\n",
    "\n",
    "print(f'The MPS dimensions: size={num_features}, local_dim={dim_features}, bond_dim={bond_dim}')\n",
    "print(f'Total number of paramters: {bond_dim**2 * dim_features * num_features}')"
   ]
  },
  {
   "cell_type": "code",
   "execution_count": 34,
   "id": "affa5fb9",
   "metadata": {},
   "outputs": [],
   "source": [
    "def left_normalize(\n",
    "        params: MPS, \n",
    "        max_bond: int\n",
    "    ) -> MPS:\n",
    "    \"\"\"Normalise the mps into the left-canonical form\"\"\"\n",
    "    size = len(params)\n",
    "    for pos in range(size):\n",
    "        p, j, *_ = params[pos].shape\n",
    "        A = params[pos].reshape(p*j,-1)\n",
    "        # perform SVD\n",
    "        U, λ, Vh = jnp.linalg.svd(A, full_matrices=False)\n",
    "        # cutting off the bond dimension\n",
    "        U  = U[:,:max_bond]   # truncate columns\n",
    "        λ  = λ[:max_bond]     # truncate singular values\n",
    "        Vh = Vh[:max_bond,:]  # truncate rows\n",
    "        # assign the current tensor to U and reshape\n",
    "        params[pos] = U.reshape(-1, j, U.shape[1])\n",
    "        # assigining the labels to the next tensor and reshape\n",
    "        if pos < size - 1:\n",
    "            A_next = params[pos+1].reshape(Vh.shape[1], -1)\n",
    "            params[pos+1] = jnp.einsum('i,ij,jk->ik', λ, Vh, A_next).reshape(U.shape[1], j, -1)\n",
    "    return params"
   ]
  },
  {
   "cell_type": "code",
   "execution_count": 35,
   "id": "ded61f68",
   "metadata": {},
   "outputs": [],
   "source": [
    "# left normalizing the mps\n",
    "mps = left_normalize(mps, max_bond=bond_dim)"
   ]
  },
  {
   "cell_type": "code",
   "execution_count": 37,
   "id": "de528eaa",
   "metadata": {},
   "outputs": [],
   "source": [
    "# checking that the resulting mps is in the left-canonical form\n",
    "mult = lambda e, t: jnp.einsum('pq,pjr,qjv->rv', e, t.conj(), t)\n",
    "assert jnp.allclose(functools.reduce(mult, mps, jnp.eye(1)), jnp.eye(mps[-1].shape[-1]))"
   ]
  },
  {
   "cell_type": "code",
   "execution_count": 38,
   "id": "7f129bc1",
   "metadata": {},
   "outputs": [],
   "source": [
    "# reversing the mps gives the right-canonical form\n",
    "mps_rev = reverse_mps(mps)\n",
    "mult_rev = lambda e, t: jnp.einsum('rv,pjr,qjv->pq', e, t, t.conj())\n",
    "# to apply the reduce function, we need to change the mps ordering (no leg swapping!)\n",
    "assert jnp.allclose(functools.reduce(mult_rev, mps_rev[::-1], jnp.eye(1)), jnp.eye(mps_rev[0].shape[0]))"
   ]
  },
  {
   "cell_type": "code",
   "execution_count": 39,
   "id": "83a62af2",
   "metadata": {},
   "outputs": [],
   "source": [
    "# extract the dimension corresponding to\n",
    "# the labels, so we can move it during optimisation\n",
    "mps[-1] = jnp.expand_dims(mps[-1], axis=2)"
   ]
  },
  {
   "cell_type": "code",
   "execution_count": 40,
   "id": "d9f4c21c",
   "metadata": {},
   "outputs": [
    {
     "name": "stdout",
     "output_type": "stream",
     "text": [
      "[(1, 2, 2), (2, 2, 4), (4, 2, 8), (35, 2, 35), (35, 2, 35), (35, 2, 1, 10)]\n"
     ]
    }
   ],
   "source": [
    "# printing shapes of the first and the last three tensors\n",
    "print([t.shape for t in (*mps[:3],*mps[-3:])])"
   ]
  },
  {
   "cell_type": "markdown",
   "id": "10469da4",
   "metadata": {},
   "source": [
    "# Initialise the data store for the \"left/right wings\""
   ]
  },
  {
   "cell_type": "markdown",
   "id": "0cb7a764",
   "metadata": {},
   "source": [
    "Initialise the data structure to store left/right wings. For the motivation, see the last paragraph on p4 in the paper. Below, I assume that the tensor with labels is the last in the MPS. After the initialisation, the order of the wings is reversed to allow the sweeps from the left on each run (with the labels being attached to the first tensor after reverting the order). This trick allows to move from left to right on every sweep simply by reverting the MPS, data features and the wings."
   ]
  },
  {
   "cell_type": "code",
   "execution_count": 41,
   "id": "c697446c",
   "metadata": {},
   "outputs": [],
   "source": [
    "def norm_normalize(v: Vector) -> Vector:\n",
    "    return v / jnp.linalg.norm(v)"
   ]
  },
  {
   "cell_type": "code",
   "execution_count": 42,
   "id": "8e4f90ea",
   "metadata": {},
   "outputs": [],
   "source": [
    "def init_wings(\n",
    "        params: MPS,\n",
    "        samples: Tensor,\n",
    "    ) -> List[Vector]:\n",
    "    \"\"\"\n",
    "    Initialise the local projections to keep linear\n",
    "    scaling of the whole algorithm wrt sample size.\n",
    "     ---    -> move the box     ------   until the last 2 sites remain\n",
    "    | o-|-o--o--...--o--o      | ▩--o-|--o--...--o--o       ▩--o--o\n",
    "    | | | |  |       |  |  =>  |    | |  |       |  |   =>     |  |\n",
    "    | o | o  o       o  o      |    o |  o       o  o          o  o\n",
    "     ---                        ------\n",
    "    \"\"\"        \n",
    "    # get the projections of samples onto the mps sites (excet the last two sites)\n",
    "    projs = project_samples(params=params[:-2], samples=samples[:,:-2,:])\n",
    "    # helper to contract neighbouring sites\n",
    "    mult = lambda x, y: jnp.einsum('mpi,miq->mpq', x, y)\n",
    "    # get the cumulative products computed from left to right\n",
    "    cum_prods = itertools.accumulate(projs, mult)\n",
    "    # normalize to norm 1\n",
    "    wings = jax.tree_map(jax.vmap(norm_normalize), list(cum_prods))\n",
    "    # the last two sites are dummy\n",
    "    return jax.tree_map(jnp.squeeze, wings) + [jnp.asarray(None)]*2 "
   ]
  },
  {
   "cell_type": "code",
   "execution_count": 43,
   "id": "974d44ea",
   "metadata": {},
   "outputs": [],
   "source": [
    "# initialize the wings\n",
    "wings = init_wings(mps, train_samples)"
   ]
  },
  {
   "cell_type": "markdown",
   "id": "d7e1af4e",
   "metadata": {},
   "source": [
    "# Main Loop"
   ]
  },
  {
   "cell_type": "code",
   "execution_count": 44,
   "id": "c3efa937",
   "metadata": {},
   "outputs": [],
   "source": [
    "def project_sample(\n",
    "        params: MPS, \n",
    "        sample: Matrix\n",
    "    ) -> List[Matrix]:\n",
    "    \"\"\"\n",
    "    A helper to project a single sample onto the MPS\n",
    "    sites, i.e. contracting the local dimension only.\n",
    "    --o--o--...--o--     \n",
    "      |  |       |   => --o--o--...--o--\n",
    "      o  o       o\n",
    "    \"\"\"\n",
    "    # accounting for the possible labels dimension\n",
    "    mult = lambda t, s: jnp.einsum('pjq...,j->pq...', t, s)\n",
    "    return jax.tree_map(mult, params, list(sample))"
   ]
  },
  {
   "cell_type": "code",
   "execution_count": null,
   "id": "aba8968d",
   "metadata": {},
   "outputs": [],
   "source": [
    "max_bond = bond_dim\n",
    "\n",
    "grads, losses = [], []\n",
    "\n",
    "for sweep in range(num_sweeps):\n",
    "\n",
    "    print('*'*100 + f'\\nSweep: {sweep + 1}\\n' + '*'*100)\n",
    "\n",
    "    # reverse data for convenience, so the iterations \n",
    "    # are from left to right. Note, that the initiali left \n",
    "    # normalization of the MPS results in the right \n",
    "    # normalization after the operation (as shown above)\n",
    "    mps, train_samples, wings = reverse_data(mps, train_samples, wings)\n",
    "\n",
    "    for pos in range(len(mps) - 1):\n",
    "\n",
    "        # bond tensor - Fig.6a\n",
    "        B = jnp.einsum('pikl,kjq->pijql', mps[pos], mps[pos+1])\n",
    "\n",
    "        # composing a tensor Φ - Fig.6b\n",
    "        if pos == 0:\n",
    "            left_wing = jnp.ones(shape=(num_samples, 1))   # dummy\n",
    "            right_wing = wings[pos+2]\n",
    "        elif pos == len(mps)-2:\n",
    "            left_wing = wings[pos-1]\n",
    "            right_wing = jnp.ones(shape=(num_samples, 1))  # dummy\n",
    "        else:\n",
    "            left_wing = wings[pos-1]\n",
    "            right_wing = wings[pos+2]\n",
    "\n",
    "        # not yet combining to a single tensor - saving space\n",
    "        Φ = [left_wing, train_samples[:,pos:pos+2,:], right_wing]\n",
    "\n",
    "        # compute the gradient update - Fig.6(c-d)\n",
    "        ΔB = grad(B, data=(Φ, train_labels))\n",
    "        \n",
    "        # update the bond tensor - Fig.7a\n",
    "        # note, that the paper is using the \n",
    "        # negative gradient instead, so the \n",
    "        # plus sign there\n",
    "        B -= α * ΔB\n",
    "\n",
    "        # SVD\n",
    "        p,i,j,q,l = B.shape\n",
    "        U, λ, Vh = jnp.linalg.svd(B.reshape(p*i, -1), full_matrices=False)\n",
    "\n",
    "        # cutting off the bond dimension\n",
    "        if λ.size > max_bond:\n",
    "            # max_bond = suggest_truncation(λ, ε)  # adaptive bond dimension\n",
    "            U  = U[:,:max_bond]\n",
    "            λ  = λ[:max_bond]\n",
    "            Vh = Vh[:max_bond,:]\n",
    "\n",
    "        # normalize spectra to have norm 1\n",
    "        λ = norm_normalize(λ)\n",
    "        \n",
    "        # updating mps tesnors - Fig.7b\n",
    "        mps[pos]   = U.reshape(-1,i,U.shape[1])  # current position\n",
    "        mps[pos+1] = jnp.einsum('i,ij->ij', λ, Vh).reshape(-1,j,q,l)  # next position\n",
    "\n",
    "        # project input samples onto the new tensor at current position and update the left wing - Fig.7c\n",
    "        projs_at_pos = project_samples(params=mps[pos:pos+1], samples=train_samples[:,pos:pos+1,:])\n",
    "\n",
    "        # updating the left wing; squeezing 0 index due to len(MPS) = 1\n",
    "        left_wing = jnp.einsum('mp,mpq->mq', left_wing, jnp.asarray(projs_at_pos).squeeze(axis=0))\n",
    "\n",
    "        # normalize and update the wing\n",
    "        wings[pos] = jax.vmap(norm_normalize)(left_wing)\n",
    "\n",
    "        # store for the analysis\n",
    "        grads.append(jnp.linalg.norm(ΔB))\n",
    "        losses.append(loss(B, data=(Φ, train_labels)))\n",
    "\n",
    "        print(\n",
    "            '\\t|\\t'.join(\n",
    "                [f'Updated site: {pos:<4}',\n",
    "                 f'Loss: {losses[-1]:<6e}',\n",
    "                 f'Gradient norm: {grads[-1]:<6e}',\n",
    "                 f'Bond Dim: {max_bond:<3}',\n",
    "                ])\n",
    "        )\n",
    "\n",
    "grads = jnp.asarray(grads)\n",
    "losses = jnp.asarray(losses)"
   ]
  },
  {
   "cell_type": "code",
   "execution_count": 46,
   "id": "0e701c70",
   "metadata": {},
   "outputs": [
    {
     "data": {
      "image/svg+xml": "<?xml version=\"1.0\" encoding=\"utf-8\" standalone=\"no\"?>\n<!DOCTYPE svg PUBLIC \"-//W3C//DTD SVG 1.1//EN\"\n  \"http://www.w3.org/Graphics/SVG/1.1/DTD/svg11.dtd\">\n<svg xmlns:xlink=\"http://www.w3.org/1999/xlink\" width=\"553.750866pt\" height=\"405.187187pt\" viewBox=\"0 0 553.750866 405.187187\" xmlns=\"http://www.w3.org/2000/svg\" version=\"1.1\">\n <metadata>\n  <rdf:RDF xmlns:dc=\"http://purl.org/dc/elements/1.1/\" xmlns:cc=\"http://creativecommons.org/ns#\" xmlns:rdf=\"http://www.w3.org/1999/02/22-rdf-syntax-ns#\">\n   <cc:Work>\n    <dc:type rdf:resource=\"http://purl.org/dc/dcmitype/StillImage\"/>\n    <dc:date>2022-05-09T19:18:40.774306</dc:date>\n    <dc:format>image/svg+xml</dc:format>\n    <dc:creator>\n     <cc:Agent>\n      <dc:title>Matplotlib v3.5.2, https://matplotlib.org/</dc:title>\n     </cc:Agent>\n    </dc:creator>\n   </cc:Work>\n  </rdf:RDF>\n </metadata>\n <defs>\n  <style type=\"text/css\">*{stroke-linejoin: round; stroke-linecap: butt}</style>\n </defs>\n <g id=\"figure_1\">\n  <g id=\"patch_1\">\n   <path d=\"M 0 405.187187 \nL 553.750866 405.187187 \nL 553.750866 0 \nL 0 0 \nz\n\" style=\"fill: #ffffff\"/>\n  </g>\n  <g id=\"axes_1\">\n   <g id=\"patch_2\">\n    <path d=\"M 96.140625 359.517187 \nL 542.540625 359.517187 \nL 542.540625 26.877187 \nL 96.140625 26.877187 \nz\n\" style=\"fill: #eeeeee\"/>\n   </g>\n   <g id=\"matplotlib.axis_1\">\n    <g id=\"xtick_1\">\n     <g id=\"line2d_1\">\n      <path d=\"M 116.431534 359.517187 \nL 116.431534 26.877187 \n\" clip-path=\"url(#p78d9796409)\" style=\"fill: none; stroke-dasharray: 0.5,5; stroke-dashoffset: 0; stroke: #000000; stroke-width: 0.5\"/>\n     </g>\n     <g id=\"line2d_2\">\n      <defs>\n       <path id=\"m2f742fee1c\" d=\"M 0 0 \nL 0 -3.5 \n\" style=\"stroke: #000000; stroke-width: 0.8\"/>\n      </defs>\n      <g>\n       <use xlink:href=\"#m2f742fee1c\" x=\"116.431534\" y=\"359.517187\" style=\"stroke: #000000; stroke-width: 0.8\"/>\n      </g>\n     </g>\n     <g id=\"text_1\">\n      <!-- 0 -->\n      <g transform=\"translate(111.977784 373.655)scale(0.14 -0.14)\">\n       <defs>\n        <path id=\"DejaVuSans-30\" d=\"M 2034 4250 \nQ 1547 4250 1301 3770 \nQ 1056 3291 1056 2328 \nQ 1056 1369 1301 889 \nQ 1547 409 2034 409 \nQ 2525 409 2770 889 \nQ 3016 1369 3016 2328 \nQ 3016 3291 2770 3770 \nQ 2525 4250 2034 4250 \nz\nM 2034 4750 \nQ 2819 4750 3233 4129 \nQ 3647 3509 3647 2328 \nQ 3647 1150 3233 529 \nQ 2819 -91 2034 -91 \nQ 1250 -91 836 529 \nQ 422 1150 422 2328 \nQ 422 3509 836 4129 \nQ 1250 4750 2034 4750 \nz\n\" transform=\"scale(0.015625)\"/>\n       </defs>\n       <use xlink:href=\"#DejaVuSans-30\"/>\n      </g>\n     </g>\n    </g>\n    <g id=\"xtick_2\">\n     <g id=\"line2d_3\">\n      <path d=\"M 168.526294 359.517187 \nL 168.526294 26.877187 \n\" clip-path=\"url(#p78d9796409)\" style=\"fill: none; stroke-dasharray: 0.5,5; stroke-dashoffset: 0; stroke: #000000; stroke-width: 0.5\"/>\n     </g>\n     <g id=\"line2d_4\">\n      <g>\n       <use xlink:href=\"#m2f742fee1c\" x=\"168.526294\" y=\"359.517187\" style=\"stroke: #000000; stroke-width: 0.8\"/>\n      </g>\n     </g>\n     <g id=\"text_2\">\n      <!-- 100 -->\n      <g transform=\"translate(155.165044 373.655)scale(0.14 -0.14)\">\n       <defs>\n        <path id=\"DejaVuSans-31\" d=\"M 794 531 \nL 1825 531 \nL 1825 4091 \nL 703 3866 \nL 703 4441 \nL 1819 4666 \nL 2450 4666 \nL 2450 531 \nL 3481 531 \nL 3481 0 \nL 794 0 \nL 794 531 \nz\n\" transform=\"scale(0.015625)\"/>\n       </defs>\n       <use xlink:href=\"#DejaVuSans-31\"/>\n       <use xlink:href=\"#DejaVuSans-30\" x=\"63.623047\"/>\n       <use xlink:href=\"#DejaVuSans-30\" x=\"127.246094\"/>\n      </g>\n     </g>\n    </g>\n    <g id=\"xtick_3\">\n     <g id=\"line2d_5\">\n      <path d=\"M 220.621054 359.517187 \nL 220.621054 26.877187 \n\" clip-path=\"url(#p78d9796409)\" style=\"fill: none; stroke-dasharray: 0.5,5; stroke-dashoffset: 0; stroke: #000000; stroke-width: 0.5\"/>\n     </g>\n     <g id=\"line2d_6\">\n      <g>\n       <use xlink:href=\"#m2f742fee1c\" x=\"220.621054\" y=\"359.517187\" style=\"stroke: #000000; stroke-width: 0.8\"/>\n      </g>\n     </g>\n     <g id=\"text_3\">\n      <!-- 200 -->\n      <g transform=\"translate(207.259804 373.655)scale(0.14 -0.14)\">\n       <defs>\n        <path id=\"DejaVuSans-32\" d=\"M 1228 531 \nL 3431 531 \nL 3431 0 \nL 469 0 \nL 469 531 \nQ 828 903 1448 1529 \nQ 2069 2156 2228 2338 \nQ 2531 2678 2651 2914 \nQ 2772 3150 2772 3378 \nQ 2772 3750 2511 3984 \nQ 2250 4219 1831 4219 \nQ 1534 4219 1204 4116 \nQ 875 4013 500 3803 \nL 500 4441 \nQ 881 4594 1212 4672 \nQ 1544 4750 1819 4750 \nQ 2544 4750 2975 4387 \nQ 3406 4025 3406 3419 \nQ 3406 3131 3298 2873 \nQ 3191 2616 2906 2266 \nQ 2828 2175 2409 1742 \nQ 1991 1309 1228 531 \nz\n\" transform=\"scale(0.015625)\"/>\n       </defs>\n       <use xlink:href=\"#DejaVuSans-32\"/>\n       <use xlink:href=\"#DejaVuSans-30\" x=\"63.623047\"/>\n       <use xlink:href=\"#DejaVuSans-30\" x=\"127.246094\"/>\n      </g>\n     </g>\n    </g>\n    <g id=\"xtick_4\">\n     <g id=\"line2d_7\">\n      <path d=\"M 272.715815 359.517187 \nL 272.715815 26.877187 \n\" clip-path=\"url(#p78d9796409)\" style=\"fill: none; stroke-dasharray: 0.5,5; stroke-dashoffset: 0; stroke: #000000; stroke-width: 0.5\"/>\n     </g>\n     <g id=\"line2d_8\">\n      <g>\n       <use xlink:href=\"#m2f742fee1c\" x=\"272.715815\" y=\"359.517187\" style=\"stroke: #000000; stroke-width: 0.8\"/>\n      </g>\n     </g>\n     <g id=\"text_4\">\n      <!-- 300 -->\n      <g transform=\"translate(259.354565 373.655)scale(0.14 -0.14)\">\n       <defs>\n        <path id=\"DejaVuSans-33\" d=\"M 2597 2516 \nQ 3050 2419 3304 2112 \nQ 3559 1806 3559 1356 \nQ 3559 666 3084 287 \nQ 2609 -91 1734 -91 \nQ 1441 -91 1130 -33 \nQ 819 25 488 141 \nL 488 750 \nQ 750 597 1062 519 \nQ 1375 441 1716 441 \nQ 2309 441 2620 675 \nQ 2931 909 2931 1356 \nQ 2931 1769 2642 2001 \nQ 2353 2234 1838 2234 \nL 1294 2234 \nL 1294 2753 \nL 1863 2753 \nQ 2328 2753 2575 2939 \nQ 2822 3125 2822 3475 \nQ 2822 3834 2567 4026 \nQ 2313 4219 1838 4219 \nQ 1578 4219 1281 4162 \nQ 984 4106 628 3988 \nL 628 4550 \nQ 988 4650 1302 4700 \nQ 1616 4750 1894 4750 \nQ 2613 4750 3031 4423 \nQ 3450 4097 3450 3541 \nQ 3450 3153 3228 2886 \nQ 3006 2619 2597 2516 \nz\n\" transform=\"scale(0.015625)\"/>\n       </defs>\n       <use xlink:href=\"#DejaVuSans-33\"/>\n       <use xlink:href=\"#DejaVuSans-30\" x=\"63.623047\"/>\n       <use xlink:href=\"#DejaVuSans-30\" x=\"127.246094\"/>\n      </g>\n     </g>\n    </g>\n    <g id=\"xtick_5\">\n     <g id=\"line2d_9\">\n      <path d=\"M 324.810575 359.517187 \nL 324.810575 26.877187 \n\" clip-path=\"url(#p78d9796409)\" style=\"fill: none; stroke-dasharray: 0.5,5; stroke-dashoffset: 0; stroke: #000000; stroke-width: 0.5\"/>\n     </g>\n     <g id=\"line2d_10\">\n      <g>\n       <use xlink:href=\"#m2f742fee1c\" x=\"324.810575\" y=\"359.517187\" style=\"stroke: #000000; stroke-width: 0.8\"/>\n      </g>\n     </g>\n     <g id=\"text_5\">\n      <!-- 400 -->\n      <g transform=\"translate(311.449325 373.655)scale(0.14 -0.14)\">\n       <defs>\n        <path id=\"DejaVuSans-34\" d=\"M 2419 4116 \nL 825 1625 \nL 2419 1625 \nL 2419 4116 \nz\nM 2253 4666 \nL 3047 4666 \nL 3047 1625 \nL 3713 1625 \nL 3713 1100 \nL 3047 1100 \nL 3047 0 \nL 2419 0 \nL 2419 1100 \nL 313 1100 \nL 313 1709 \nL 2253 4666 \nz\n\" transform=\"scale(0.015625)\"/>\n       </defs>\n       <use xlink:href=\"#DejaVuSans-34\"/>\n       <use xlink:href=\"#DejaVuSans-30\" x=\"63.623047\"/>\n       <use xlink:href=\"#DejaVuSans-30\" x=\"127.246094\"/>\n      </g>\n     </g>\n    </g>\n    <g id=\"xtick_6\">\n     <g id=\"line2d_11\">\n      <path d=\"M 376.905335 359.517187 \nL 376.905335 26.877187 \n\" clip-path=\"url(#p78d9796409)\" style=\"fill: none; stroke-dasharray: 0.5,5; stroke-dashoffset: 0; stroke: #000000; stroke-width: 0.5\"/>\n     </g>\n     <g id=\"line2d_12\">\n      <g>\n       <use xlink:href=\"#m2f742fee1c\" x=\"376.905335\" y=\"359.517187\" style=\"stroke: #000000; stroke-width: 0.8\"/>\n      </g>\n     </g>\n     <g id=\"text_6\">\n      <!-- 500 -->\n      <g transform=\"translate(363.544085 373.655)scale(0.14 -0.14)\">\n       <defs>\n        <path id=\"DejaVuSans-35\" d=\"M 691 4666 \nL 3169 4666 \nL 3169 4134 \nL 1269 4134 \nL 1269 2991 \nQ 1406 3038 1543 3061 \nQ 1681 3084 1819 3084 \nQ 2600 3084 3056 2656 \nQ 3513 2228 3513 1497 \nQ 3513 744 3044 326 \nQ 2575 -91 1722 -91 \nQ 1428 -91 1123 -41 \nQ 819 9 494 109 \nL 494 744 \nQ 775 591 1075 516 \nQ 1375 441 1709 441 \nQ 2250 441 2565 725 \nQ 2881 1009 2881 1497 \nQ 2881 1984 2565 2268 \nQ 2250 2553 1709 2553 \nQ 1456 2553 1204 2497 \nQ 953 2441 691 2322 \nL 691 4666 \nz\n\" transform=\"scale(0.015625)\"/>\n       </defs>\n       <use xlink:href=\"#DejaVuSans-35\"/>\n       <use xlink:href=\"#DejaVuSans-30\" x=\"63.623047\"/>\n       <use xlink:href=\"#DejaVuSans-30\" x=\"127.246094\"/>\n      </g>\n     </g>\n    </g>\n    <g id=\"xtick_7\">\n     <g id=\"line2d_13\">\n      <path d=\"M 429.000095 359.517187 \nL 429.000095 26.877187 \n\" clip-path=\"url(#p78d9796409)\" style=\"fill: none; stroke-dasharray: 0.5,5; stroke-dashoffset: 0; stroke: #000000; stroke-width: 0.5\"/>\n     </g>\n     <g id=\"line2d_14\">\n      <g>\n       <use xlink:href=\"#m2f742fee1c\" x=\"429.000095\" y=\"359.517187\" style=\"stroke: #000000; stroke-width: 0.8\"/>\n      </g>\n     </g>\n     <g id=\"text_7\">\n      <!-- 600 -->\n      <g transform=\"translate(415.638845 373.655)scale(0.14 -0.14)\">\n       <defs>\n        <path id=\"DejaVuSans-36\" d=\"M 2113 2584 \nQ 1688 2584 1439 2293 \nQ 1191 2003 1191 1497 \nQ 1191 994 1439 701 \nQ 1688 409 2113 409 \nQ 2538 409 2786 701 \nQ 3034 994 3034 1497 \nQ 3034 2003 2786 2293 \nQ 2538 2584 2113 2584 \nz\nM 3366 4563 \nL 3366 3988 \nQ 3128 4100 2886 4159 \nQ 2644 4219 2406 4219 \nQ 1781 4219 1451 3797 \nQ 1122 3375 1075 2522 \nQ 1259 2794 1537 2939 \nQ 1816 3084 2150 3084 \nQ 2853 3084 3261 2657 \nQ 3669 2231 3669 1497 \nQ 3669 778 3244 343 \nQ 2819 -91 2113 -91 \nQ 1303 -91 875 529 \nQ 447 1150 447 2328 \nQ 447 3434 972 4092 \nQ 1497 4750 2381 4750 \nQ 2619 4750 2861 4703 \nQ 3103 4656 3366 4563 \nz\n\" transform=\"scale(0.015625)\"/>\n       </defs>\n       <use xlink:href=\"#DejaVuSans-36\"/>\n       <use xlink:href=\"#DejaVuSans-30\" x=\"63.623047\"/>\n       <use xlink:href=\"#DejaVuSans-30\" x=\"127.246094\"/>\n      </g>\n     </g>\n    </g>\n    <g id=\"xtick_8\">\n     <g id=\"line2d_15\">\n      <path d=\"M 481.094855 359.517187 \nL 481.094855 26.877187 \n\" clip-path=\"url(#p78d9796409)\" style=\"fill: none; stroke-dasharray: 0.5,5; stroke-dashoffset: 0; stroke: #000000; stroke-width: 0.5\"/>\n     </g>\n     <g id=\"line2d_16\">\n      <g>\n       <use xlink:href=\"#m2f742fee1c\" x=\"481.094855\" y=\"359.517187\" style=\"stroke: #000000; stroke-width: 0.8\"/>\n      </g>\n     </g>\n     <g id=\"text_8\">\n      <!-- 700 -->\n      <g transform=\"translate(467.733605 373.655)scale(0.14 -0.14)\">\n       <defs>\n        <path id=\"DejaVuSans-37\" d=\"M 525 4666 \nL 3525 4666 \nL 3525 4397 \nL 1831 0 \nL 1172 0 \nL 2766 4134 \nL 525 4134 \nL 525 4666 \nz\n\" transform=\"scale(0.015625)\"/>\n       </defs>\n       <use xlink:href=\"#DejaVuSans-37\"/>\n       <use xlink:href=\"#DejaVuSans-30\" x=\"63.623047\"/>\n       <use xlink:href=\"#DejaVuSans-30\" x=\"127.246094\"/>\n      </g>\n     </g>\n    </g>\n    <g id=\"xtick_9\">\n     <g id=\"line2d_17\">\n      <path d=\"M 533.189616 359.517187 \nL 533.189616 26.877187 \n\" clip-path=\"url(#p78d9796409)\" style=\"fill: none; stroke-dasharray: 0.5,5; stroke-dashoffset: 0; stroke: #000000; stroke-width: 0.5\"/>\n     </g>\n     <g id=\"line2d_18\">\n      <g>\n       <use xlink:href=\"#m2f742fee1c\" x=\"533.189616\" y=\"359.517187\" style=\"stroke: #000000; stroke-width: 0.8\"/>\n      </g>\n     </g>\n     <g id=\"text_9\">\n      <!-- 800 -->\n      <g transform=\"translate(519.828366 373.655)scale(0.14 -0.14)\">\n       <defs>\n        <path id=\"DejaVuSans-38\" d=\"M 2034 2216 \nQ 1584 2216 1326 1975 \nQ 1069 1734 1069 1313 \nQ 1069 891 1326 650 \nQ 1584 409 2034 409 \nQ 2484 409 2743 651 \nQ 3003 894 3003 1313 \nQ 3003 1734 2745 1975 \nQ 2488 2216 2034 2216 \nz\nM 1403 2484 \nQ 997 2584 770 2862 \nQ 544 3141 544 3541 \nQ 544 4100 942 4425 \nQ 1341 4750 2034 4750 \nQ 2731 4750 3128 4425 \nQ 3525 4100 3525 3541 \nQ 3525 3141 3298 2862 \nQ 3072 2584 2669 2484 \nQ 3125 2378 3379 2068 \nQ 3634 1759 3634 1313 \nQ 3634 634 3220 271 \nQ 2806 -91 2034 -91 \nQ 1263 -91 848 271 \nQ 434 634 434 1313 \nQ 434 1759 690 2068 \nQ 947 2378 1403 2484 \nz\nM 1172 3481 \nQ 1172 3119 1398 2916 \nQ 1625 2713 2034 2713 \nQ 2441 2713 2670 2916 \nQ 2900 3119 2900 3481 \nQ 2900 3844 2670 4047 \nQ 2441 4250 2034 4250 \nQ 1625 4250 1398 4047 \nQ 1172 3844 1172 3481 \nz\n\" transform=\"scale(0.015625)\"/>\n       </defs>\n       <use xlink:href=\"#DejaVuSans-38\"/>\n       <use xlink:href=\"#DejaVuSans-30\" x=\"63.623047\"/>\n       <use xlink:href=\"#DejaVuSans-30\" x=\"127.246094\"/>\n      </g>\n     </g>\n    </g>\n    <g id=\"text_10\">\n     <!-- Steps -->\n     <g transform=\"translate(294.158906 394.24375)scale(0.18 -0.18)\">\n      <defs>\n       <path id=\"DejaVuSans-53\" d=\"M 3425 4513 \nL 3425 3897 \nQ 3066 4069 2747 4153 \nQ 2428 4238 2131 4238 \nQ 1616 4238 1336 4038 \nQ 1056 3838 1056 3469 \nQ 1056 3159 1242 3001 \nQ 1428 2844 1947 2747 \nL 2328 2669 \nQ 3034 2534 3370 2195 \nQ 3706 1856 3706 1288 \nQ 3706 609 3251 259 \nQ 2797 -91 1919 -91 \nQ 1588 -91 1214 -16 \nQ 841 59 441 206 \nL 441 856 \nQ 825 641 1194 531 \nQ 1563 422 1919 422 \nQ 2459 422 2753 634 \nQ 3047 847 3047 1241 \nQ 3047 1584 2836 1778 \nQ 2625 1972 2144 2069 \nL 1759 2144 \nQ 1053 2284 737 2584 \nQ 422 2884 422 3419 \nQ 422 4038 858 4394 \nQ 1294 4750 2059 4750 \nQ 2388 4750 2728 4690 \nQ 3069 4631 3425 4513 \nz\n\" transform=\"scale(0.015625)\"/>\n       <path id=\"DejaVuSans-74\" d=\"M 1172 4494 \nL 1172 3500 \nL 2356 3500 \nL 2356 3053 \nL 1172 3053 \nL 1172 1153 \nQ 1172 725 1289 603 \nQ 1406 481 1766 481 \nL 2356 481 \nL 2356 0 \nL 1766 0 \nQ 1100 0 847 248 \nQ 594 497 594 1153 \nL 594 3053 \nL 172 3053 \nL 172 3500 \nL 594 3500 \nL 594 4494 \nL 1172 4494 \nz\n\" transform=\"scale(0.015625)\"/>\n       <path id=\"DejaVuSans-65\" d=\"M 3597 1894 \nL 3597 1613 \nL 953 1613 \nQ 991 1019 1311 708 \nQ 1631 397 2203 397 \nQ 2534 397 2845 478 \nQ 3156 559 3463 722 \nL 3463 178 \nQ 3153 47 2828 -22 \nQ 2503 -91 2169 -91 \nQ 1331 -91 842 396 \nQ 353 884 353 1716 \nQ 353 2575 817 3079 \nQ 1281 3584 2069 3584 \nQ 2775 3584 3186 3129 \nQ 3597 2675 3597 1894 \nz\nM 3022 2063 \nQ 3016 2534 2758 2815 \nQ 2500 3097 2075 3097 \nQ 1594 3097 1305 2825 \nQ 1016 2553 972 2059 \nL 3022 2063 \nz\n\" transform=\"scale(0.015625)\"/>\n       <path id=\"DejaVuSans-70\" d=\"M 1159 525 \nL 1159 -1331 \nL 581 -1331 \nL 581 3500 \nL 1159 3500 \nL 1159 2969 \nQ 1341 3281 1617 3432 \nQ 1894 3584 2278 3584 \nQ 2916 3584 3314 3078 \nQ 3713 2572 3713 1747 \nQ 3713 922 3314 415 \nQ 2916 -91 2278 -91 \nQ 1894 -91 1617 61 \nQ 1341 213 1159 525 \nz\nM 3116 1747 \nQ 3116 2381 2855 2742 \nQ 2594 3103 2138 3103 \nQ 1681 3103 1420 2742 \nQ 1159 2381 1159 1747 \nQ 1159 1113 1420 752 \nQ 1681 391 2138 391 \nQ 2594 391 2855 752 \nQ 3116 1113 3116 1747 \nz\n\" transform=\"scale(0.015625)\"/>\n       <path id=\"DejaVuSans-73\" d=\"M 2834 3397 \nL 2834 2853 \nQ 2591 2978 2328 3040 \nQ 2066 3103 1784 3103 \nQ 1356 3103 1142 2972 \nQ 928 2841 928 2578 \nQ 928 2378 1081 2264 \nQ 1234 2150 1697 2047 \nL 1894 2003 \nQ 2506 1872 2764 1633 \nQ 3022 1394 3022 966 \nQ 3022 478 2636 193 \nQ 2250 -91 1575 -91 \nQ 1294 -91 989 -36 \nQ 684 19 347 128 \nL 347 722 \nQ 666 556 975 473 \nQ 1284 391 1588 391 \nQ 1994 391 2212 530 \nQ 2431 669 2431 922 \nQ 2431 1156 2273 1281 \nQ 2116 1406 1581 1522 \nL 1381 1569 \nQ 847 1681 609 1914 \nQ 372 2147 372 2553 \nQ 372 3047 722 3315 \nQ 1072 3584 1716 3584 \nQ 2034 3584 2315 3537 \nQ 2597 3491 2834 3397 \nz\n\" transform=\"scale(0.015625)\"/>\n      </defs>\n      <use xlink:href=\"#DejaVuSans-53\"/>\n      <use xlink:href=\"#DejaVuSans-74\" x=\"63.476562\"/>\n      <use xlink:href=\"#DejaVuSans-65\" x=\"102.685547\"/>\n      <use xlink:href=\"#DejaVuSans-70\" x=\"164.208984\"/>\n      <use xlink:href=\"#DejaVuSans-73\" x=\"227.685547\"/>\n     </g>\n    </g>\n   </g>\n   <g id=\"matplotlib.axis_2\">\n    <g id=\"ytick_1\">\n     <g id=\"line2d_19\">\n      <path d=\"M 96.140625 301.299136 \nL 542.540625 301.299136 \n\" clip-path=\"url(#p78d9796409)\" style=\"fill: none; stroke-dasharray: 0.5,5; stroke-dashoffset: 0; stroke: #000000; stroke-width: 0.5\"/>\n     </g>\n     <g id=\"line2d_20\">\n      <defs>\n       <path id=\"m990627320b\" d=\"M 0 0 \nL 2 0 \n\" style=\"stroke: #000000; stroke-width: 0.6\"/>\n      </defs>\n      <g>\n       <use xlink:href=\"#m990627320b\" x=\"96.140625\" y=\"301.299136\" style=\"stroke: #000000; stroke-width: 0.6\"/>\n      </g>\n     </g>\n     <g id=\"text_11\">\n      <!-- $\\mathdefault{1.4\\times10^{4}}$ -->\n      <g transform=\"translate(28.620625 306.618042)scale(0.14 -0.14)\">\n       <defs>\n        <path id=\"DejaVuSans-2e\" d=\"M 684 794 \nL 1344 794 \nL 1344 0 \nL 684 0 \nL 684 794 \nz\n\" transform=\"scale(0.015625)\"/>\n        <path id=\"DejaVuSans-d7\" d=\"M 4488 3438 \nL 3059 2003 \nL 4488 575 \nL 4116 197 \nL 2681 1631 \nL 1247 197 \nL 878 575 \nL 2303 2003 \nL 878 3438 \nL 1247 3816 \nL 2681 2381 \nL 4116 3816 \nL 4488 3438 \nz\n\" transform=\"scale(0.015625)\"/>\n       </defs>\n       <use xlink:href=\"#DejaVuSans-31\" transform=\"translate(0 0.684375)\"/>\n       <use xlink:href=\"#DejaVuSans-2e\" transform=\"translate(63.623047 0.684375)\"/>\n       <use xlink:href=\"#DejaVuSans-34\" transform=\"translate(95.410156 0.684375)\"/>\n       <use xlink:href=\"#DejaVuSans-d7\" transform=\"translate(178.515625 0.684375)\"/>\n       <use xlink:href=\"#DejaVuSans-31\" transform=\"translate(281.787109 0.684375)\"/>\n       <use xlink:href=\"#DejaVuSans-30\" transform=\"translate(345.410156 0.684375)\"/>\n       <use xlink:href=\"#DejaVuSans-34\" transform=\"translate(409.990234 38.965625)scale(0.7)\"/>\n      </g>\n     </g>\n    </g>\n    <g id=\"ytick_2\">\n     <g id=\"line2d_21\">\n      <path d=\"M 96.140625 250.011659 \nL 542.540625 250.011659 \n\" clip-path=\"url(#p78d9796409)\" style=\"fill: none; stroke-dasharray: 0.5,5; stroke-dashoffset: 0; stroke: #000000; stroke-width: 0.5\"/>\n     </g>\n     <g id=\"line2d_22\">\n      <g>\n       <use xlink:href=\"#m990627320b\" x=\"96.140625\" y=\"250.011659\" style=\"stroke: #000000; stroke-width: 0.6\"/>\n      </g>\n     </g>\n     <g id=\"text_12\">\n      <!-- $\\mathdefault{1.6\\times10^{4}}$ -->\n      <g transform=\"translate(28.620625 255.330566)scale(0.14 -0.14)\">\n       <use xlink:href=\"#DejaVuSans-31\" transform=\"translate(0 0.684375)\"/>\n       <use xlink:href=\"#DejaVuSans-2e\" transform=\"translate(63.623047 0.684375)\"/>\n       <use xlink:href=\"#DejaVuSans-36\" transform=\"translate(95.410156 0.684375)\"/>\n       <use xlink:href=\"#DejaVuSans-d7\" transform=\"translate(178.515625 0.684375)\"/>\n       <use xlink:href=\"#DejaVuSans-31\" transform=\"translate(281.787109 0.684375)\"/>\n       <use xlink:href=\"#DejaVuSans-30\" transform=\"translate(345.410156 0.684375)\"/>\n       <use xlink:href=\"#DejaVuSans-34\" transform=\"translate(409.990234 38.965625)scale(0.7)\"/>\n      </g>\n     </g>\n    </g>\n    <g id=\"ytick_3\">\n     <g id=\"line2d_23\">\n      <path d=\"M 96.140625 204.772899 \nL 542.540625 204.772899 \n\" clip-path=\"url(#p78d9796409)\" style=\"fill: none; stroke-dasharray: 0.5,5; stroke-dashoffset: 0; stroke: #000000; stroke-width: 0.5\"/>\n     </g>\n     <g id=\"line2d_24\">\n      <g>\n       <use xlink:href=\"#m990627320b\" x=\"96.140625\" y=\"204.772899\" style=\"stroke: #000000; stroke-width: 0.6\"/>\n      </g>\n     </g>\n     <g id=\"text_13\">\n      <!-- $\\mathdefault{1.8\\times10^{4}}$ -->\n      <g transform=\"translate(29.040625 210.091805)scale(0.14 -0.14)\">\n       <use xlink:href=\"#DejaVuSans-31\" transform=\"translate(0 0.684375)\"/>\n       <use xlink:href=\"#DejaVuSans-2e\" transform=\"translate(63.623047 0.684375)\"/>\n       <use xlink:href=\"#DejaVuSans-38\" transform=\"translate(92.785156 0.684375)\"/>\n       <use xlink:href=\"#DejaVuSans-d7\" transform=\"translate(175.890625 0.684375)\"/>\n       <use xlink:href=\"#DejaVuSans-31\" transform=\"translate(279.162109 0.684375)\"/>\n       <use xlink:href=\"#DejaVuSans-30\" transform=\"translate(342.785156 0.684375)\"/>\n       <use xlink:href=\"#DejaVuSans-34\" transform=\"translate(407.365234 38.965625)scale(0.7)\"/>\n      </g>\n     </g>\n    </g>\n    <g id=\"ytick_4\">\n     <g id=\"line2d_25\">\n      <path d=\"M 96.140625 164.305449 \nL 542.540625 164.305449 \n\" clip-path=\"url(#p78d9796409)\" style=\"fill: none; stroke-dasharray: 0.5,5; stroke-dashoffset: 0; stroke: #000000; stroke-width: 0.5\"/>\n     </g>\n     <g id=\"line2d_26\">\n      <g>\n       <use xlink:href=\"#m990627320b\" x=\"96.140625\" y=\"164.305449\" style=\"stroke: #000000; stroke-width: 0.6\"/>\n      </g>\n     </g>\n     <g id=\"text_14\">\n      <!-- $\\mathdefault{2\\times10^{4}}$ -->\n      <g transform=\"translate(42.060625 169.624355)scale(0.14 -0.14)\">\n       <use xlink:href=\"#DejaVuSans-32\" transform=\"translate(0 0.684375)\"/>\n       <use xlink:href=\"#DejaVuSans-d7\" transform=\"translate(83.105469 0.684375)\"/>\n       <use xlink:href=\"#DejaVuSans-31\" transform=\"translate(186.376953 0.684375)\"/>\n       <use xlink:href=\"#DejaVuSans-30\" transform=\"translate(250 0.684375)\"/>\n       <use xlink:href=\"#DejaVuSans-34\" transform=\"translate(314.580078 38.965625)scale(0.7)\"/>\n      </g>\n     </g>\n    </g>\n    <g id=\"ytick_5\">\n     <g id=\"line2d_27\">\n      <path d=\"M 96.140625 127.698188 \nL 542.540625 127.698188 \n\" clip-path=\"url(#p78d9796409)\" style=\"fill: none; stroke-dasharray: 0.5,5; stroke-dashoffset: 0; stroke: #000000; stroke-width: 0.5\"/>\n     </g>\n     <g id=\"line2d_28\">\n      <g>\n       <use xlink:href=\"#m990627320b\" x=\"96.140625\" y=\"127.698188\" style=\"stroke: #000000; stroke-width: 0.6\"/>\n      </g>\n     </g>\n     <g id=\"text_15\">\n      <!-- $\\mathdefault{2.2\\times10^{4}}$ -->\n      <g transform=\"translate(29.460625 133.017094)scale(0.14 -0.14)\">\n       <use xlink:href=\"#DejaVuSans-32\" transform=\"translate(0 0.684375)\"/>\n       <use xlink:href=\"#DejaVuSans-2e\" transform=\"translate(63.623047 0.684375)\"/>\n       <use xlink:href=\"#DejaVuSans-32\" transform=\"translate(89.910156 0.684375)\"/>\n       <use xlink:href=\"#DejaVuSans-d7\" transform=\"translate(173.015625 0.684375)\"/>\n       <use xlink:href=\"#DejaVuSans-31\" transform=\"translate(276.287109 0.684375)\"/>\n       <use xlink:href=\"#DejaVuSans-30\" transform=\"translate(339.910156 0.684375)\"/>\n       <use xlink:href=\"#DejaVuSans-34\" transform=\"translate(404.490234 38.965625)scale(0.7)\"/>\n      </g>\n     </g>\n    </g>\n    <g id=\"ytick_6\">\n     <g id=\"line2d_29\">\n      <path d=\"M 96.140625 94.278376 \nL 542.540625 94.278376 \n\" clip-path=\"url(#p78d9796409)\" style=\"fill: none; stroke-dasharray: 0.5,5; stroke-dashoffset: 0; stroke: #000000; stroke-width: 0.5\"/>\n     </g>\n     <g id=\"line2d_30\">\n      <g>\n       <use xlink:href=\"#m990627320b\" x=\"96.140625\" y=\"94.278376\" style=\"stroke: #000000; stroke-width: 0.6\"/>\n      </g>\n     </g>\n     <g id=\"text_16\">\n      <!-- $\\mathdefault{2.4\\times10^{4}}$ -->\n      <g transform=\"translate(28.620625 99.597283)scale(0.14 -0.14)\">\n       <use xlink:href=\"#DejaVuSans-32\" transform=\"translate(0 0.684375)\"/>\n       <use xlink:href=\"#DejaVuSans-2e\" transform=\"translate(63.623047 0.684375)\"/>\n       <use xlink:href=\"#DejaVuSans-34\" transform=\"translate(95.410156 0.684375)\"/>\n       <use xlink:href=\"#DejaVuSans-d7\" transform=\"translate(178.515625 0.684375)\"/>\n       <use xlink:href=\"#DejaVuSans-31\" transform=\"translate(281.787109 0.684375)\"/>\n       <use xlink:href=\"#DejaVuSans-30\" transform=\"translate(345.410156 0.684375)\"/>\n       <use xlink:href=\"#DejaVuSans-34\" transform=\"translate(409.990234 38.965625)scale(0.7)\"/>\n      </g>\n     </g>\n    </g>\n    <g id=\"ytick_7\">\n     <g id=\"line2d_31\">\n      <path d=\"M 96.140625 63.53513 \nL 542.540625 63.53513 \n\" clip-path=\"url(#p78d9796409)\" style=\"fill: none; stroke-dasharray: 0.5,5; stroke-dashoffset: 0; stroke: #000000; stroke-width: 0.5\"/>\n     </g>\n     <g id=\"line2d_32\">\n      <g>\n       <use xlink:href=\"#m990627320b\" x=\"96.140625\" y=\"63.53513\" style=\"stroke: #000000; stroke-width: 0.6\"/>\n      </g>\n     </g>\n     <g id=\"text_17\">\n      <!-- $\\mathdefault{2.6\\times10^{4}}$ -->\n      <g transform=\"translate(28.620625 68.854037)scale(0.14 -0.14)\">\n       <use xlink:href=\"#DejaVuSans-32\" transform=\"translate(0 0.684375)\"/>\n       <use xlink:href=\"#DejaVuSans-2e\" transform=\"translate(63.623047 0.684375)\"/>\n       <use xlink:href=\"#DejaVuSans-36\" transform=\"translate(95.410156 0.684375)\"/>\n       <use xlink:href=\"#DejaVuSans-d7\" transform=\"translate(178.515625 0.684375)\"/>\n       <use xlink:href=\"#DejaVuSans-31\" transform=\"translate(281.787109 0.684375)\"/>\n       <use xlink:href=\"#DejaVuSans-30\" transform=\"translate(345.410156 0.684375)\"/>\n       <use xlink:href=\"#DejaVuSans-34\" transform=\"translate(409.990234 38.965625)scale(0.7)\"/>\n      </g>\n     </g>\n    </g>\n    <g id=\"ytick_8\">\n     <g id=\"line2d_33\">\n      <path d=\"M 96.140625 35.07133 \nL 542.540625 35.07133 \n\" clip-path=\"url(#p78d9796409)\" style=\"fill: none; stroke-dasharray: 0.5,5; stroke-dashoffset: 0; stroke: #000000; stroke-width: 0.5\"/>\n     </g>\n     <g id=\"line2d_34\">\n      <g>\n       <use xlink:href=\"#m990627320b\" x=\"96.140625\" y=\"35.07133\" style=\"stroke: #000000; stroke-width: 0.6\"/>\n      </g>\n     </g>\n     <g id=\"text_18\">\n      <!-- $\\mathdefault{2.8\\times10^{4}}$ -->\n      <g transform=\"translate(29.040625 40.390236)scale(0.14 -0.14)\">\n       <use xlink:href=\"#DejaVuSans-32\" transform=\"translate(0 0.684375)\"/>\n       <use xlink:href=\"#DejaVuSans-2e\" transform=\"translate(63.623047 0.684375)\"/>\n       <use xlink:href=\"#DejaVuSans-38\" transform=\"translate(92.785156 0.684375)\"/>\n       <use xlink:href=\"#DejaVuSans-d7\" transform=\"translate(175.890625 0.684375)\"/>\n       <use xlink:href=\"#DejaVuSans-31\" transform=\"translate(279.162109 0.684375)\"/>\n       <use xlink:href=\"#DejaVuSans-30\" transform=\"translate(342.785156 0.684375)\"/>\n       <use xlink:href=\"#DejaVuSans-34\" transform=\"translate(407.365234 38.965625)scale(0.7)\"/>\n      </g>\n     </g>\n    </g>\n    <g id=\"text_19\">\n     <!-- Loss -->\n     <g transform=\"translate(20.877187 212.938125)rotate(-90)scale(0.18 -0.18)\">\n      <defs>\n       <path id=\"DejaVuSans-4c\" d=\"M 628 4666 \nL 1259 4666 \nL 1259 531 \nL 3531 531 \nL 3531 0 \nL 628 0 \nL 628 4666 \nz\n\" transform=\"scale(0.015625)\"/>\n       <path id=\"DejaVuSans-6f\" d=\"M 1959 3097 \nQ 1497 3097 1228 2736 \nQ 959 2375 959 1747 \nQ 959 1119 1226 758 \nQ 1494 397 1959 397 \nQ 2419 397 2687 759 \nQ 2956 1122 2956 1747 \nQ 2956 2369 2687 2733 \nQ 2419 3097 1959 3097 \nz\nM 1959 3584 \nQ 2709 3584 3137 3096 \nQ 3566 2609 3566 1747 \nQ 3566 888 3137 398 \nQ 2709 -91 1959 -91 \nQ 1206 -91 779 398 \nQ 353 888 353 1747 \nQ 353 2609 779 3096 \nQ 1206 3584 1959 3584 \nz\n\" transform=\"scale(0.015625)\"/>\n      </defs>\n      <use xlink:href=\"#DejaVuSans-4c\"/>\n      <use xlink:href=\"#DejaVuSans-6f\" x=\"53.962891\"/>\n      <use xlink:href=\"#DejaVuSans-73\" x=\"115.144531\"/>\n      <use xlink:href=\"#DejaVuSans-73\" x=\"167.244141\"/>\n     </g>\n    </g>\n   </g>\n   <g id=\"line2d_35\">\n    <path d=\"M 116.431534 43.13783 \nL 116.952482 47.505592 \nL 117.473429 48.559464 \nL 117.994377 48.513703 \nL 118.515324 48.713351 \nL 122.161958 48.821236 \nL 122.682905 48.948424 \nL 123.724801 49.925524 \nL 124.766696 52.961313 \nL 125.287643 53.25908 \nL 125.808591 52.854821 \nL 126.850486 52.460805 \nL 127.371434 52.221833 \nL 127.892381 52.781649 \nL 128.413329 52.650149 \nL 129.455224 52.623516 \nL 129.976172 53.077802 \nL 130.497119 54.780397 \nL 131.539015 57.234844 \nL 132.059962 58.199889 \nL 132.58091 57.235134 \nL 133.101857 55.722439 \nL 133.622805 55.153287 \nL 134.143753 53.763288 \nL 134.6647 54.154732 \nL 135.185648 53.967958 \nL 135.706595 56.580644 \nL 136.227543 56.837605 \nL 136.748491 55.451023 \nL 137.269438 56.980483 \nL 137.790386 55.637975 \nL 138.311333 54.800936 \nL 138.832281 52.088596 \nL 139.874176 45.581528 \nL 140.395124 43.999535 \nL 140.916071 41.997188 \nL 141.437019 43.535213 \nL 141.957967 44.124352 \nL 142.478914 47.170971 \nL 143.520809 54.984714 \nL 144.041757 61.130787 \nL 144.562705 62.214253 \nL 145.083652 58.673444 \nL 145.6046 56.004627 \nL 146.125547 51.077384 \nL 147.167443 45.407659 \nL 148.209338 44.559739 \nL 149.772181 52.748266 \nL 150.814076 63.207482 \nL 151.335023 68.050413 \nL 151.855971 67.61911 \nL 152.897866 61.046334 \nL 153.418814 56.78908 \nL 153.939761 53.465523 \nL 154.460709 51.945916 \nL 154.981657 49.939921 \nL 155.502604 51.14674 \nL 156.023552 51.388176 \nL 156.544499 54.225395 \nL 157.065447 61.603794 \nL 157.586395 61.568714 \nL 158.107342 75.927094 \nL 158.62829 77.896336 \nL 159.149237 75.30273 \nL 159.670185 75.520804 \nL 160.71208 64.476649 \nL 161.233028 60.251352 \nL 161.753975 59.602177 \nL 162.274923 56.598516 \nL 162.795871 56.0866 \nL 163.837766 63.054749 \nL 164.358713 70.478639 \nL 164.879661 76.008776 \nL 165.400609 87.626219 \nL 165.921556 90.142177 \nL 166.442504 89.155225 \nL 166.963451 84.673709 \nL 168.005347 72.258739 \nL 168.526294 67.951463 \nL 169.047242 65.286297 \nL 170.089137 58.565115 \nL 171.131032 67.283798 \nL 172.693875 90.815485 \nL 173.214823 90.890794 \nL 173.73577 97.708919 \nL 174.256718 83.78436 \nL 174.777665 79.33069 \nL 176.340508 62.803062 \nL 176.861456 62.823106 \nL 177.382404 59.563915 \nL 178.945246 71.881725 \nL 179.466194 87.142586 \nL 180.508089 99.508335 \nL 181.029037 94.561802 \nL 181.549984 87.554953 \nL 182.59188 71.216617 \nL 183.633775 62.448922 \nL 184.154722 59.717527 \nL 184.67567 59.403462 \nL 185.196618 61.5041 \nL 185.717565 69.583809 \nL 186.238513 74.22662 \nL 186.75946 84.812892 \nL 187.280408 99.184285 \nL 187.801356 99.022249 \nL 188.322303 93.93579 \nL 189.885146 69.985154 \nL 190.406094 65.570692 \nL 190.927041 63.41383 \nL 191.447989 59.784747 \nL 191.968936 59.205426 \nL 193.010832 67.802198 \nL 194.052727 93.735585 \nL 195.094622 112.926589 \nL 195.61557 111.358126 \nL 196.136517 101.714847 \nL 197.178412 89.51932 \nL 197.69936 85.881584 \nL 198.220308 85.113558 \nL 198.741255 84.008893 \nL 199.262203 85.516675 \nL 199.78315 91.314071 \nL 200.304098 109.584643 \nL 200.825046 111.99433 \nL 201.345993 116.728956 \nL 201.866941 135.929714 \nL 202.387888 131.962995 \nL 202.908836 138.676635 \nL 203.429784 135.280165 \nL 203.950731 138.585077 \nL 204.471679 125.36506 \nL 204.992626 126.213789 \nL 205.513574 130.884757 \nL 206.034522 132.813696 \nL 207.076417 140.971404 \nL 207.597364 147.208246 \nL 208.118312 141.214413 \nL 208.63926 141.861083 \nL 209.160207 152.547132 \nL 209.681155 141.407861 \nL 210.202102 150.013604 \nL 210.72305 152.099953 \nL 211.243998 147.318217 \nL 211.764945 151.731294 \nL 212.285893 143.44357 \nL 212.80684 144.332547 \nL 213.327788 146.723865 \nL 213.848736 153.032872 \nL 214.369683 142.606352 \nL 214.890631 159.656625 \nL 215.932526 207.935554 \nL 216.974421 250.592679 \nL 217.495369 278.357536 \nL 218.016316 278.226342 \nL 218.537264 290.507943 \nL 219.058212 283.900454 \nL 219.579159 272.376301 \nL 220.100107 267.684528 \nL 220.621054 272.30493 \nL 221.142002 273.985383 \nL 221.66295 274.249476 \nL 222.183897 278.816559 \nL 222.704845 275.996673 \nL 223.225792 282.707521 \nL 223.74674 287.519937 \nL 224.267688 280.174808 \nL 224.788635 278.565249 \nL 225.309583 284.812614 \nL 225.83053 281.569569 \nL 226.351478 283.31662 \nL 226.872426 275.265176 \nL 227.393373 271.595005 \nL 227.914321 272.459674 \nL 228.435268 269.426018 \nL 228.956216 261.356881 \nL 229.477164 257.417206 \nL 229.998111 256.705507 \nL 230.519059 252.309533 \nL 231.040006 251.653826 \nL 231.560954 249.404035 \nL 232.081902 254.928747 \nL 232.602849 247.56939 \nL 233.123797 243.103695 \nL 234.165692 224.064534 \nL 234.68664 207.964967 \nL 235.207587 197.393252 \nL 235.728535 178.325502 \nL 236.249483 166.940721 \nL 236.77043 165.24746 \nL 237.291378 162.64087 \nL 237.812325 156.917181 \nL 238.333273 156.219521 \nL 238.854221 154.588727 \nL 239.896116 157.69831 \nL 240.417063 152.475116 \nL 240.938011 144.260486 \nL 241.458959 128.16667 \nL 242.500854 115.544715 \nL 243.542749 109.787607 \nL 244.063697 113.534941 \nL 244.584644 121.163386 \nL 245.105592 125.353667 \nL 245.626539 128.37625 \nL 246.147487 135.237523 \nL 246.668435 137.139832 \nL 247.71033 131.099719 \nL 248.752225 112.696227 \nL 249.273173 111.30879 \nL 249.79412 109.120398 \nL 250.315068 108.10466 \nL 250.836015 113.106618 \nL 251.356963 120.072302 \nL 251.877911 130.608252 \nL 252.398858 138.178083 \nL 252.919806 143.529956 \nL 253.440753 150.445373 \nL 253.961701 150.258473 \nL 254.482649 150.902283 \nL 255.003596 146.000526 \nL 255.524544 129.880104 \nL 256.045491 120.006917 \nL 256.566439 121.629717 \nL 257.087387 120.245528 \nL 257.608334 123.247195 \nL 258.129282 115.767464 \nL 258.650229 132.343971 \nL 259.171177 138.987091 \nL 260.213072 155.198722 \nL 260.73402 157.710555 \nL 261.254967 157.623304 \nL 261.775915 156.628243 \nL 262.296863 149.970862 \nL 262.81781 136.656049 \nL 263.338758 131.425164 \nL 264.380653 127.313985 \nL 264.901601 132.578094 \nL 265.422548 128.687661 \nL 265.943496 136.889751 \nL 266.464443 151.644901 \nL 266.985391 155.466066 \nL 268.027286 166.23089 \nL 269.069181 158.813726 \nL 270.632024 131.067584 \nL 271.152972 130.27276 \nL 271.673919 121.182876 \nL 272.194867 129.626813 \nL 272.715815 133.147508 \nL 273.236762 130.833007 \nL 273.75771 144.705509 \nL 274.278657 151.690967 \nL 274.799605 156.990112 \nL 275.320553 158.926334 \nL 275.8415 157.279923 \nL 276.362448 151.102144 \nL 276.883395 140.528346 \nL 277.404343 135.890317 \nL 277.925291 129.617277 \nL 278.446238 131.797673 \nL 278.967186 123.747683 \nL 279.488133 119.577171 \nL 280.530029 132.208327 \nL 281.050976 143.175736 \nL 281.571924 149.329089 \nL 282.092871 149.958142 \nL 282.613819 151.528895 \nL 283.134767 151.011767 \nL 284.697609 123.980861 \nL 285.218557 119.24282 \nL 285.739505 118.926439 \nL 286.260452 112.284901 \nL 286.7814 114.779919 \nL 287.302347 121.008695 \nL 288.344243 138.314144 \nL 288.86519 143.235574 \nL 289.386138 145.211613 \nL 289.907085 142.123844 \nL 290.428033 140.273563 \nL 291.469928 128.08032 \nL 291.990876 115.124393 \nL 292.511824 111.836438 \nL 293.032771 107.834437 \nL 293.553719 110.529754 \nL 294.074666 116.581627 \nL 295.116562 138.693115 \nL 295.637509 147.969744 \nL 296.158457 151.319927 \nL 297.200352 149.216817 \nL 297.7213 144.859477 \nL 298.242247 144.309086 \nL 298.763195 140.708903 \nL 299.284142 134.266174 \nL 299.80509 134.207813 \nL 300.326038 140.767008 \nL 301.367933 170.633448 \nL 302.409828 211.087719 \nL 302.930776 224.811778 \nL 303.451723 245.966752 \nL 303.972671 249.820805 \nL 304.493618 255.004401 \nL 305.014566 254.493824 \nL 305.535514 254.598701 \nL 306.056461 264.57592 \nL 306.577409 262.102943 \nL 307.098356 265.702046 \nL 307.619304 266.974414 \nL 308.140252 270.892734 \nL 308.661199 276.535905 \nL 309.182147 280.762174 \nL 310.224042 294.287406 \nL 310.74499 295.646768 \nL 311.265937 305.99947 \nL 311.786885 309.750357 \nL 312.307832 317.590104 \nL 312.82878 320.102988 \nL 313.349728 320.423727 \nL 313.870675 325.928755 \nL 314.391623 327.629995 \nL 314.91257 320.711339 \nL 315.433518 319.815381 \nL 315.954466 315.700532 \nL 316.475413 314.740371 \nL 316.996361 321.489896 \nL 317.517308 323.31052 \nL 318.038256 322.217014 \nL 318.559204 318.598236 \nL 319.080151 319.671368 \nL 319.601099 314.663313 \nL 320.122046 335.372748 \nL 320.642994 328.5213 \nL 321.163942 327.845631 \nL 321.684889 322.548018 \nL 322.205837 309.936218 \nL 322.726784 310.663145 \nL 323.247732 313.887452 \nL 323.76868 312.616011 \nL 324.289627 314.702959 \nL 324.810575 315.78974 \nL 325.331522 314.015659 \nL 325.85247 320.449576 \nL 326.373418 321.492703 \nL 326.894365 309.298535 \nL 327.415313 305.048724 \nL 327.93626 296.937746 \nL 328.457208 292.571467 \nL 328.978156 282.589643 \nL 329.499103 276.14861 \nL 330.020051 264.691078 \nL 330.540998 264.737492 \nL 331.061946 259.894125 \nL 332.103841 255.572279 \nL 332.624789 256.786504 \nL 333.145736 254.228148 \nL 333.666684 249.200806 \nL 334.187632 248.489124 \nL 335.229527 238.044783 \nL 336.271422 193.760011 \nL 336.79237 175.204786 \nL 338.355212 141.268159 \nL 338.87616 135.392193 \nL 339.397108 132.661265 \nL 339.918055 131.856903 \nL 340.439003 135.434033 \nL 340.95995 134.366544 \nL 341.480898 132.793824 \nL 342.001846 134.471527 \nL 342.522793 132.347824 \nL 343.043741 122.995266 \nL 343.564688 119.58163 \nL 344.085636 112.915708 \nL 344.606584 109.487882 \nL 345.127531 107.835956 \nL 345.648479 108.139818 \nL 346.169426 109.202443 \nL 346.690374 113.913412 \nL 347.211322 116.937154 \nL 347.732269 118.159674 \nL 348.253217 118.045198 \nL 348.774165 118.601563 \nL 349.295112 118.53354 \nL 349.81606 117.858187 \nL 350.337007 111.71018 \nL 350.857955 109.40727 \nL 351.378903 106.563312 \nL 351.89985 111.602191 \nL 352.420798 112.357716 \nL 352.941745 116.644977 \nL 353.462693 119.081415 \nL 354.504588 127.097194 \nL 355.025536 129.087629 \nL 355.546483 129.935044 \nL 356.067431 128.487786 \nL 357.109326 123.048311 \nL 358.151221 115.250249 \nL 358.672169 115.9629 \nL 360.235012 127.746682 \nL 360.755959 128.994767 \nL 361.797855 139.317068 \nL 362.318802 138.991704 \nL 362.83975 140.091954 \nL 363.360697 139.367597 \nL 363.881645 135.53551 \nL 364.402593 130.701332 \nL 364.92354 122.491043 \nL 365.444488 118.983281 \nL 365.965435 120.889695 \nL 366.486383 133.000511 \nL 367.007331 131.482446 \nL 367.528278 132.72751 \nL 368.049226 135.707049 \nL 368.570173 142.397013 \nL 369.612069 148.383801 \nL 370.133016 147.359808 \nL 370.653964 147.408035 \nL 371.174911 139.122141 \nL 371.695859 134.945566 \nL 372.216807 127.099796 \nL 372.737754 128.38506 \nL 373.258702 117.680527 \nL 373.779649 133.581988 \nL 374.300597 129.541899 \nL 374.821545 130.078518 \nL 375.342492 138.430076 \nL 375.86344 143.736701 \nL 376.384387 145.371354 \nL 376.905335 149.184089 \nL 377.426283 144.876283 \nL 377.94723 141.758791 \nL 378.468178 137.196687 \nL 378.989125 129.842921 \nL 379.510073 120.027283 \nL 380.031021 120.839206 \nL 380.551968 118.360856 \nL 381.072916 123.073806 \nL 381.593863 121.630828 \nL 382.114811 126.448469 \nL 382.635759 132.867748 \nL 383.156706 135.162362 \nL 383.677654 135.748728 \nL 384.198601 138.424587 \nL 384.719549 134.47941 \nL 385.240497 132.226117 \nL 385.761444 126.967041 \nL 386.803339 110.507135 \nL 387.324287 110.16618 \nL 387.845235 111.712669 \nL 388.366182 112.304066 \nL 388.88713 113.333989 \nL 389.408077 116.027185 \nL 389.929025 125.191822 \nL 390.449973 126.489968 \nL 390.97092 125.097391 \nL 391.491868 127.879674 \nL 392.012815 124.537901 \nL 392.533763 122.402187 \nL 393.575658 107.439798 \nL 394.096606 104.757942 \nL 395.138501 110.972867 \nL 395.659449 115.590181 \nL 396.180396 121.657295 \nL 397.222291 139.344476 \nL 397.743239 147.301853 \nL 398.264187 152.177288 \nL 398.785134 150.684227 \nL 399.306082 152.377993 \nL 399.827029 146.303496 \nL 400.868925 143.523079 \nL 401.389872 147.22046 \nL 401.91082 155.630374 \nL 402.431767 166.991161 \nL 403.473663 201.168501 \nL 403.99461 216.852191 \nL 404.515558 225.806179 \nL 405.036505 244.200275 \nL 405.557453 252.848338 \nL 406.078401 258.724694 \nL 406.599348 262.256951 \nL 407.120296 267.802136 \nL 407.641244 271.804515 \nL 408.162191 271.564368 \nL 408.683139 274.9288 \nL 409.204086 273.87733 \nL 409.725034 282.523723 \nL 410.245982 285.046848 \nL 410.766929 289.052066 \nL 411.287877 299.451119 \nL 411.808824 302.718147 \nL 412.329772 313.758607 \nL 412.85072 315.416137 \nL 413.371667 322.474226 \nL 414.413562 324.865807 \nL 414.93451 323.914854 \nL 415.455458 327.233509 \nL 415.976405 323.006407 \nL 416.497353 325.587933 \nL 417.0183 325.928374 \nL 417.539248 318.184601 \nL 418.060196 322.599067 \nL 418.581143 315.355745 \nL 419.102091 321.418052 \nL 419.623038 325.428517 \nL 420.143986 321.062185 \nL 420.664934 328.43467 \nL 421.185881 323.733636 \nL 421.706829 344.397188 \nL 422.227776 336.341479 \nL 422.748724 331.75938 \nL 423.269672 325.850005 \nL 423.790619 314.299817 \nL 424.311567 323.422366 \nL 424.832514 314.850942 \nL 425.353462 323.479843 \nL 425.87441 321.559368 \nL 426.395357 317.540082 \nL 426.916305 325.616313 \nL 427.9582 317.057522 \nL 428.479148 314.875541 \nL 429.000095 309.123591 \nL 429.521043 308.499553 \nL 430.04199 309.270157 \nL 430.562938 300.640938 \nL 431.083886 287.544942 \nL 431.604833 281.632191 \nL 432.125781 279.756495 \nL 433.167676 273.629409 \nL 433.688624 273.548049 \nL 434.209571 267.153693 \nL 434.730519 266.399304 \nL 435.251466 260.017062 \nL 435.772414 257.287364 \nL 436.293362 250.130002 \nL 437.856204 211.274097 \nL 439.419047 166.180907 \nL 439.939995 157.295813 \nL 440.98189 144.827324 \nL 441.502838 142.61985 \nL 442.023785 144.589038 \nL 442.544733 143.370524 \nL 443.06568 145.464061 \nL 444.107576 137.889571 \nL 445.149471 120.829482 \nL 446.191366 111.739783 \nL 446.712314 109.069681 \nL 447.754209 111.80134 \nL 448.275156 114.104736 \nL 448.796104 115.580936 \nL 449.837999 119.624819 \nL 450.358947 117.775802 \nL 450.879894 117.931561 \nL 451.400842 114.701386 \nL 451.92179 110.573532 \nL 452.442737 109.953298 \nL 452.963685 109.941621 \nL 453.484632 110.866802 \nL 454.00558 115.217436 \nL 454.526528 116.806561 \nL 455.047475 124.381156 \nL 455.568423 130.129073 \nL 456.610318 134.564014 \nL 457.131266 135.893429 \nL 458.173161 133.093993 \nL 458.694108 126.356393 \nL 459.215056 122.826649 \nL 459.736004 123.481799 \nL 460.256951 123.658796 \nL 460.777899 128.166304 \nL 461.298846 119.116754 \nL 461.819794 130.903205 \nL 462.340742 134.158795 \nL 462.861689 143.875969 \nL 463.382637 146.204499 \nL 463.903585 149.783914 \nL 464.424532 147.901989 \nL 464.94548 147.415701 \nL 465.466427 145.908221 \nL 465.987375 134.900204 \nL 466.508323 133.328545 \nL 467.02927 129.733655 \nL 467.550218 127.859471 \nL 468.071165 137.824468 \nL 468.592113 128.959629 \nL 470.154956 148.097265 \nL 470.675903 150.561259 \nL 471.196851 154.224382 \nL 471.717799 154.823334 \nL 472.238746 150.990592 \nL 473.280641 141.164192 \nL 473.801589 134.740363 \nL 474.322537 136.113716 \nL 474.843484 127.401869 \nL 475.364432 134.436885 \nL 475.885379 134.02382 \nL 476.406327 131.320579 \nL 477.448222 144.718258 \nL 477.96917 145.758158 \nL 478.490117 147.886215 \nL 479.011065 147.791334 \nL 479.532013 145.453109 \nL 480.05296 137.984382 \nL 480.573908 136.058653 \nL 481.094855 128.762725 \nL 481.615803 131.665385 \nL 482.136751 123.278407 \nL 482.657698 121.207694 \nL 483.178646 124.064023 \nL 483.699593 124.68578 \nL 484.220541 130.291529 \nL 484.741489 133.957023 \nL 485.262436 135.189061 \nL 485.783384 134.844771 \nL 486.304331 136.14616 \nL 486.825279 131.291013 \nL 487.346227 128.538363 \nL 488.388122 120.136529 \nL 488.909069 120.293598 \nL 489.430017 112.867189 \nL 489.950965 113.768799 \nL 490.471912 116.303323 \nL 490.99286 119.525218 \nL 491.513807 123.542375 \nL 492.034755 124.995584 \nL 492.555703 126.799987 \nL 493.07665 126.902124 \nL 493.597598 126.498145 \nL 494.639493 122.914685 \nL 495.160441 114.998242 \nL 495.681388 113.714868 \nL 496.202336 108.457258 \nL 496.723283 108.544598 \nL 497.244231 113.341421 \nL 497.765179 120.191228 \nL 498.286126 128.650008 \nL 499.328021 139.132165 \nL 499.848969 140.547523 \nL 500.369917 139.717453 \nL 500.890864 137.904379 \nL 501.411812 142.350964 \nL 501.932759 142.104873 \nL 502.453707 138.051999 \nL 502.974655 138.512217 \nL 503.495602 141.904781 \nL 504.01655 153.51448 \nL 505.579393 208.826865 \nL 506.10034 218.378932 \nL 506.621288 232.847433 \nL 507.142235 243.610181 \nL 507.663183 247.503424 \nL 508.184131 250.557852 \nL 508.705078 247.824854 \nL 509.226026 255.112094 \nL 509.746973 251.812544 \nL 510.267921 252.014534 \nL 512.351711 274.963914 \nL 513.914554 293.206796 \nL 514.435502 297.057228 \nL 514.956449 297.464644 \nL 515.477397 308.312921 \nL 515.998345 313.845465 \nL 516.519292 309.912611 \nL 517.04024 317.581481 \nL 517.561187 314.963483 \nL 518.082135 320.958308 \nL 518.603083 318.399244 \nL 519.12403 312.442744 \nL 519.644978 317.616512 \nL 520.165926 316.284918 \nL 520.686873 323.747281 \nL 521.207821 322.693159 \nL 521.728768 323.208131 \nL 522.249716 321.114476 \nL 522.249716 321.114476 \n\" clip-path=\"url(#p78d9796409)\" style=\"fill: none; stroke: #348abd; stroke-width: 3; stroke-linecap: square\"/>\n   </g>\n   <g id=\"patch_3\">\n    <path d=\"M 96.140625 359.517188 \nL 96.140625 26.877188 \n\" style=\"fill: none; stroke: #bcbcbc; stroke-width: 0.8; stroke-linejoin: miter; stroke-linecap: square\"/>\n   </g>\n   <g id=\"patch_4\">\n    <path d=\"M 542.540625 359.517188 \nL 542.540625 26.877188 \n\" style=\"fill: none; stroke: #bcbcbc; stroke-width: 0.8; stroke-linejoin: miter; stroke-linecap: square\"/>\n   </g>\n   <g id=\"patch_5\">\n    <path d=\"M 96.140625 359.517187 \nL 542.540625 359.517187 \n\" style=\"fill: none; stroke: #bcbcbc; stroke-width: 0.8; stroke-linejoin: miter; stroke-linecap: square\"/>\n   </g>\n   <g id=\"patch_6\">\n    <path d=\"M 96.140625 26.877187 \nL 542.540625 26.877187 \n\" style=\"fill: none; stroke: #bcbcbc; stroke-width: 0.8; stroke-linejoin: miter; stroke-linecap: square\"/>\n   </g>\n   <g id=\"text_20\">\n    <!-- Loss dynamics during training -->\n    <g transform=\"translate(183.955312 20.877187)scale(0.18 -0.18)\">\n     <defs>\n      <path id=\"DejaVuSans-20\" transform=\"scale(0.015625)\"/>\n      <path id=\"DejaVuSans-64\" d=\"M 2906 2969 \nL 2906 4863 \nL 3481 4863 \nL 3481 0 \nL 2906 0 \nL 2906 525 \nQ 2725 213 2448 61 \nQ 2172 -91 1784 -91 \nQ 1150 -91 751 415 \nQ 353 922 353 1747 \nQ 353 2572 751 3078 \nQ 1150 3584 1784 3584 \nQ 2172 3584 2448 3432 \nQ 2725 3281 2906 2969 \nz\nM 947 1747 \nQ 947 1113 1208 752 \nQ 1469 391 1925 391 \nQ 2381 391 2643 752 \nQ 2906 1113 2906 1747 \nQ 2906 2381 2643 2742 \nQ 2381 3103 1925 3103 \nQ 1469 3103 1208 2742 \nQ 947 2381 947 1747 \nz\n\" transform=\"scale(0.015625)\"/>\n      <path id=\"DejaVuSans-79\" d=\"M 2059 -325 \nQ 1816 -950 1584 -1140 \nQ 1353 -1331 966 -1331 \nL 506 -1331 \nL 506 -850 \nL 844 -850 \nQ 1081 -850 1212 -737 \nQ 1344 -625 1503 -206 \nL 1606 56 \nL 191 3500 \nL 800 3500 \nL 1894 763 \nL 2988 3500 \nL 3597 3500 \nL 2059 -325 \nz\n\" transform=\"scale(0.015625)\"/>\n      <path id=\"DejaVuSans-6e\" d=\"M 3513 2113 \nL 3513 0 \nL 2938 0 \nL 2938 2094 \nQ 2938 2591 2744 2837 \nQ 2550 3084 2163 3084 \nQ 1697 3084 1428 2787 \nQ 1159 2491 1159 1978 \nL 1159 0 \nL 581 0 \nL 581 3500 \nL 1159 3500 \nL 1159 2956 \nQ 1366 3272 1645 3428 \nQ 1925 3584 2291 3584 \nQ 2894 3584 3203 3211 \nQ 3513 2838 3513 2113 \nz\n\" transform=\"scale(0.015625)\"/>\n      <path id=\"DejaVuSans-61\" d=\"M 2194 1759 \nQ 1497 1759 1228 1600 \nQ 959 1441 959 1056 \nQ 959 750 1161 570 \nQ 1363 391 1709 391 \nQ 2188 391 2477 730 \nQ 2766 1069 2766 1631 \nL 2766 1759 \nL 2194 1759 \nz\nM 3341 1997 \nL 3341 0 \nL 2766 0 \nL 2766 531 \nQ 2569 213 2275 61 \nQ 1981 -91 1556 -91 \nQ 1019 -91 701 211 \nQ 384 513 384 1019 \nQ 384 1609 779 1909 \nQ 1175 2209 1959 2209 \nL 2766 2209 \nL 2766 2266 \nQ 2766 2663 2505 2880 \nQ 2244 3097 1772 3097 \nQ 1472 3097 1187 3025 \nQ 903 2953 641 2809 \nL 641 3341 \nQ 956 3463 1253 3523 \nQ 1550 3584 1831 3584 \nQ 2591 3584 2966 3190 \nQ 3341 2797 3341 1997 \nz\n\" transform=\"scale(0.015625)\"/>\n      <path id=\"DejaVuSans-6d\" d=\"M 3328 2828 \nQ 3544 3216 3844 3400 \nQ 4144 3584 4550 3584 \nQ 5097 3584 5394 3201 \nQ 5691 2819 5691 2113 \nL 5691 0 \nL 5113 0 \nL 5113 2094 \nQ 5113 2597 4934 2840 \nQ 4756 3084 4391 3084 \nQ 3944 3084 3684 2787 \nQ 3425 2491 3425 1978 \nL 3425 0 \nL 2847 0 \nL 2847 2094 \nQ 2847 2600 2669 2842 \nQ 2491 3084 2119 3084 \nQ 1678 3084 1418 2786 \nQ 1159 2488 1159 1978 \nL 1159 0 \nL 581 0 \nL 581 3500 \nL 1159 3500 \nL 1159 2956 \nQ 1356 3278 1631 3431 \nQ 1906 3584 2284 3584 \nQ 2666 3584 2933 3390 \nQ 3200 3197 3328 2828 \nz\n\" transform=\"scale(0.015625)\"/>\n      <path id=\"DejaVuSans-69\" d=\"M 603 3500 \nL 1178 3500 \nL 1178 0 \nL 603 0 \nL 603 3500 \nz\nM 603 4863 \nL 1178 4863 \nL 1178 4134 \nL 603 4134 \nL 603 4863 \nz\n\" transform=\"scale(0.015625)\"/>\n      <path id=\"DejaVuSans-63\" d=\"M 3122 3366 \nL 3122 2828 \nQ 2878 2963 2633 3030 \nQ 2388 3097 2138 3097 \nQ 1578 3097 1268 2742 \nQ 959 2388 959 1747 \nQ 959 1106 1268 751 \nQ 1578 397 2138 397 \nQ 2388 397 2633 464 \nQ 2878 531 3122 666 \nL 3122 134 \nQ 2881 22 2623 -34 \nQ 2366 -91 2075 -91 \nQ 1284 -91 818 406 \nQ 353 903 353 1747 \nQ 353 2603 823 3093 \nQ 1294 3584 2113 3584 \nQ 2378 3584 2631 3529 \nQ 2884 3475 3122 3366 \nz\n\" transform=\"scale(0.015625)\"/>\n      <path id=\"DejaVuSans-75\" d=\"M 544 1381 \nL 544 3500 \nL 1119 3500 \nL 1119 1403 \nQ 1119 906 1312 657 \nQ 1506 409 1894 409 \nQ 2359 409 2629 706 \nQ 2900 1003 2900 1516 \nL 2900 3500 \nL 3475 3500 \nL 3475 0 \nL 2900 0 \nL 2900 538 \nQ 2691 219 2414 64 \nQ 2138 -91 1772 -91 \nQ 1169 -91 856 284 \nQ 544 659 544 1381 \nz\nM 1991 3584 \nL 1991 3584 \nz\n\" transform=\"scale(0.015625)\"/>\n      <path id=\"DejaVuSans-72\" d=\"M 2631 2963 \nQ 2534 3019 2420 3045 \nQ 2306 3072 2169 3072 \nQ 1681 3072 1420 2755 \nQ 1159 2438 1159 1844 \nL 1159 0 \nL 581 0 \nL 581 3500 \nL 1159 3500 \nL 1159 2956 \nQ 1341 3275 1631 3429 \nQ 1922 3584 2338 3584 \nQ 2397 3584 2469 3576 \nQ 2541 3569 2628 3553 \nL 2631 2963 \nz\n\" transform=\"scale(0.015625)\"/>\n      <path id=\"DejaVuSans-67\" d=\"M 2906 1791 \nQ 2906 2416 2648 2759 \nQ 2391 3103 1925 3103 \nQ 1463 3103 1205 2759 \nQ 947 2416 947 1791 \nQ 947 1169 1205 825 \nQ 1463 481 1925 481 \nQ 2391 481 2648 825 \nQ 2906 1169 2906 1791 \nz\nM 3481 434 \nQ 3481 -459 3084 -895 \nQ 2688 -1331 1869 -1331 \nQ 1566 -1331 1297 -1286 \nQ 1028 -1241 775 -1147 \nL 775 -588 \nQ 1028 -725 1275 -790 \nQ 1522 -856 1778 -856 \nQ 2344 -856 2625 -561 \nQ 2906 -266 2906 331 \nL 2906 616 \nQ 2728 306 2450 153 \nQ 2172 0 1784 0 \nQ 1141 0 747 490 \nQ 353 981 353 1791 \nQ 353 2603 747 3093 \nQ 1141 3584 1784 3584 \nQ 2172 3584 2450 3431 \nQ 2728 3278 2906 2969 \nL 2906 3500 \nL 3481 3500 \nL 3481 434 \nz\n\" transform=\"scale(0.015625)\"/>\n     </defs>\n     <use xlink:href=\"#DejaVuSans-4c\"/>\n     <use xlink:href=\"#DejaVuSans-6f\" x=\"53.962891\"/>\n     <use xlink:href=\"#DejaVuSans-73\" x=\"115.144531\"/>\n     <use xlink:href=\"#DejaVuSans-73\" x=\"167.244141\"/>\n     <use xlink:href=\"#DejaVuSans-20\" x=\"219.34375\"/>\n     <use xlink:href=\"#DejaVuSans-64\" x=\"251.130859\"/>\n     <use xlink:href=\"#DejaVuSans-79\" x=\"314.607422\"/>\n     <use xlink:href=\"#DejaVuSans-6e\" x=\"373.787109\"/>\n     <use xlink:href=\"#DejaVuSans-61\" x=\"437.166016\"/>\n     <use xlink:href=\"#DejaVuSans-6d\" x=\"498.445312\"/>\n     <use xlink:href=\"#DejaVuSans-69\" x=\"595.857422\"/>\n     <use xlink:href=\"#DejaVuSans-63\" x=\"623.640625\"/>\n     <use xlink:href=\"#DejaVuSans-73\" x=\"678.621094\"/>\n     <use xlink:href=\"#DejaVuSans-20\" x=\"730.720703\"/>\n     <use xlink:href=\"#DejaVuSans-64\" x=\"762.507812\"/>\n     <use xlink:href=\"#DejaVuSans-75\" x=\"825.984375\"/>\n     <use xlink:href=\"#DejaVuSans-72\" x=\"889.363281\"/>\n     <use xlink:href=\"#DejaVuSans-69\" x=\"930.476562\"/>\n     <use xlink:href=\"#DejaVuSans-6e\" x=\"958.259766\"/>\n     <use xlink:href=\"#DejaVuSans-67\" x=\"1021.638672\"/>\n     <use xlink:href=\"#DejaVuSans-20\" x=\"1085.115234\"/>\n     <use xlink:href=\"#DejaVuSans-74\" x=\"1116.902344\"/>\n     <use xlink:href=\"#DejaVuSans-72\" x=\"1156.111328\"/>\n     <use xlink:href=\"#DejaVuSans-61\" x=\"1197.224609\"/>\n     <use xlink:href=\"#DejaVuSans-69\" x=\"1258.503906\"/>\n     <use xlink:href=\"#DejaVuSans-6e\" x=\"1286.287109\"/>\n     <use xlink:href=\"#DejaVuSans-69\" x=\"1349.666016\"/>\n     <use xlink:href=\"#DejaVuSans-6e\" x=\"1377.449219\"/>\n     <use xlink:href=\"#DejaVuSans-67\" x=\"1440.828125\"/>\n    </g>\n   </g>\n  </g>\n </g>\n <defs>\n  <clipPath id=\"p78d9796409\">\n   <rect x=\"96.140625\" y=\"26.877187\" width=\"446.4\" height=\"332.64\"/>\n  </clipPath>\n </defs>\n</svg>\n",
      "text/plain": [
       "<Figure size 800x600 with 1 Axes>"
      ]
     },
     "metadata": {},
     "output_type": "display_data"
    }
   ],
   "source": [
    "plot(\n",
    "    jnp.arange(losses.size), [losses], \n",
    "    yscale='log',\n",
    "    xlabel='Steps',\n",
    "    ylabel='Loss',\n",
    "    title='Loss dynamics during training')"
   ]
  },
  {
   "cell_type": "code",
   "execution_count": 47,
   "id": "521c6ab7",
   "metadata": {},
   "outputs": [
    {
     "data": {
      "image/svg+xml": "<?xml version=\"1.0\" encoding=\"utf-8\" standalone=\"no\"?>\n<!DOCTYPE svg PUBLIC \"-//W3C//DTD SVG 1.1//EN\"\n  \"http://www.w3.org/Graphics/SVG/1.1/DTD/svg11.dtd\">\n<svg xmlns:xlink=\"http://www.w3.org/1999/xlink\" width=\"540.890241pt\" height=\"405.187187pt\" viewBox=\"0 0 540.890241 405.187187\" xmlns=\"http://www.w3.org/2000/svg\" version=\"1.1\">\n <metadata>\n  <rdf:RDF xmlns:dc=\"http://purl.org/dc/elements/1.1/\" xmlns:cc=\"http://creativecommons.org/ns#\" xmlns:rdf=\"http://www.w3.org/1999/02/22-rdf-syntax-ns#\">\n   <cc:Work>\n    <dc:type rdf:resource=\"http://purl.org/dc/dcmitype/StillImage\"/>\n    <dc:date>2022-05-09T19:18:41.595570</dc:date>\n    <dc:format>image/svg+xml</dc:format>\n    <dc:creator>\n     <cc:Agent>\n      <dc:title>Matplotlib v3.5.2, https://matplotlib.org/</dc:title>\n     </cc:Agent>\n    </dc:creator>\n   </cc:Work>\n  </rdf:RDF>\n </metadata>\n <defs>\n  <style type=\"text/css\">*{stroke-linejoin: round; stroke-linecap: butt}</style>\n </defs>\n <g id=\"figure_1\">\n  <g id=\"patch_1\">\n   <path d=\"M 0 405.187187 \nL 540.890241 405.187187 \nL 540.890241 0 \nL 0 0 \nz\n\" style=\"fill: #ffffff\"/>\n  </g>\n  <g id=\"axes_1\">\n   <g id=\"patch_2\">\n    <path d=\"M 83.28 359.517187 \nL 529.68 359.517187 \nL 529.68 26.877187 \nL 83.28 26.877187 \nz\n\" style=\"fill: #eeeeee\"/>\n   </g>\n   <g id=\"matplotlib.axis_1\">\n    <g id=\"xtick_1\">\n     <g id=\"line2d_1\">\n      <path d=\"M 103.570909 359.517187 \nL 103.570909 26.877187 \n\" clip-path=\"url(#pe427f0c470)\" style=\"fill: none; stroke-dasharray: 0.5,5; stroke-dashoffset: 0; stroke: #000000; stroke-width: 0.5\"/>\n     </g>\n     <g id=\"line2d_2\">\n      <defs>\n       <path id=\"mce25127cb3\" d=\"M 0 0 \nL 0 -3.5 \n\" style=\"stroke: #000000; stroke-width: 0.8\"/>\n      </defs>\n      <g>\n       <use xlink:href=\"#mce25127cb3\" x=\"103.570909\" y=\"359.517187\" style=\"stroke: #000000; stroke-width: 0.8\"/>\n      </g>\n     </g>\n     <g id=\"text_1\">\n      <!-- 0 -->\n      <g transform=\"translate(99.117159 373.655)scale(0.14 -0.14)\">\n       <defs>\n        <path id=\"DejaVuSans-30\" d=\"M 2034 4250 \nQ 1547 4250 1301 3770 \nQ 1056 3291 1056 2328 \nQ 1056 1369 1301 889 \nQ 1547 409 2034 409 \nQ 2525 409 2770 889 \nQ 3016 1369 3016 2328 \nQ 3016 3291 2770 3770 \nQ 2525 4250 2034 4250 \nz\nM 2034 4750 \nQ 2819 4750 3233 4129 \nQ 3647 3509 3647 2328 \nQ 3647 1150 3233 529 \nQ 2819 -91 2034 -91 \nQ 1250 -91 836 529 \nQ 422 1150 422 2328 \nQ 422 3509 836 4129 \nQ 1250 4750 2034 4750 \nz\n\" transform=\"scale(0.015625)\"/>\n       </defs>\n       <use xlink:href=\"#DejaVuSans-30\"/>\n      </g>\n     </g>\n    </g>\n    <g id=\"xtick_2\">\n     <g id=\"line2d_3\">\n      <path d=\"M 155.665669 359.517187 \nL 155.665669 26.877187 \n\" clip-path=\"url(#pe427f0c470)\" style=\"fill: none; stroke-dasharray: 0.5,5; stroke-dashoffset: 0; stroke: #000000; stroke-width: 0.5\"/>\n     </g>\n     <g id=\"line2d_4\">\n      <g>\n       <use xlink:href=\"#mce25127cb3\" x=\"155.665669\" y=\"359.517187\" style=\"stroke: #000000; stroke-width: 0.8\"/>\n      </g>\n     </g>\n     <g id=\"text_2\">\n      <!-- 100 -->\n      <g transform=\"translate(142.304419 373.655)scale(0.14 -0.14)\">\n       <defs>\n        <path id=\"DejaVuSans-31\" d=\"M 794 531 \nL 1825 531 \nL 1825 4091 \nL 703 3866 \nL 703 4441 \nL 1819 4666 \nL 2450 4666 \nL 2450 531 \nL 3481 531 \nL 3481 0 \nL 794 0 \nL 794 531 \nz\n\" transform=\"scale(0.015625)\"/>\n       </defs>\n       <use xlink:href=\"#DejaVuSans-31\"/>\n       <use xlink:href=\"#DejaVuSans-30\" x=\"63.623047\"/>\n       <use xlink:href=\"#DejaVuSans-30\" x=\"127.246094\"/>\n      </g>\n     </g>\n    </g>\n    <g id=\"xtick_3\">\n     <g id=\"line2d_5\">\n      <path d=\"M 207.760429 359.517187 \nL 207.760429 26.877187 \n\" clip-path=\"url(#pe427f0c470)\" style=\"fill: none; stroke-dasharray: 0.5,5; stroke-dashoffset: 0; stroke: #000000; stroke-width: 0.5\"/>\n     </g>\n     <g id=\"line2d_6\">\n      <g>\n       <use xlink:href=\"#mce25127cb3\" x=\"207.760429\" y=\"359.517187\" style=\"stroke: #000000; stroke-width: 0.8\"/>\n      </g>\n     </g>\n     <g id=\"text_3\">\n      <!-- 200 -->\n      <g transform=\"translate(194.399179 373.655)scale(0.14 -0.14)\">\n       <defs>\n        <path id=\"DejaVuSans-32\" d=\"M 1228 531 \nL 3431 531 \nL 3431 0 \nL 469 0 \nL 469 531 \nQ 828 903 1448 1529 \nQ 2069 2156 2228 2338 \nQ 2531 2678 2651 2914 \nQ 2772 3150 2772 3378 \nQ 2772 3750 2511 3984 \nQ 2250 4219 1831 4219 \nQ 1534 4219 1204 4116 \nQ 875 4013 500 3803 \nL 500 4441 \nQ 881 4594 1212 4672 \nQ 1544 4750 1819 4750 \nQ 2544 4750 2975 4387 \nQ 3406 4025 3406 3419 \nQ 3406 3131 3298 2873 \nQ 3191 2616 2906 2266 \nQ 2828 2175 2409 1742 \nQ 1991 1309 1228 531 \nz\n\" transform=\"scale(0.015625)\"/>\n       </defs>\n       <use xlink:href=\"#DejaVuSans-32\"/>\n       <use xlink:href=\"#DejaVuSans-30\" x=\"63.623047\"/>\n       <use xlink:href=\"#DejaVuSans-30\" x=\"127.246094\"/>\n      </g>\n     </g>\n    </g>\n    <g id=\"xtick_4\">\n     <g id=\"line2d_7\">\n      <path d=\"M 259.85519 359.517187 \nL 259.85519 26.877187 \n\" clip-path=\"url(#pe427f0c470)\" style=\"fill: none; stroke-dasharray: 0.5,5; stroke-dashoffset: 0; stroke: #000000; stroke-width: 0.5\"/>\n     </g>\n     <g id=\"line2d_8\">\n      <g>\n       <use xlink:href=\"#mce25127cb3\" x=\"259.85519\" y=\"359.517187\" style=\"stroke: #000000; stroke-width: 0.8\"/>\n      </g>\n     </g>\n     <g id=\"text_4\">\n      <!-- 300 -->\n      <g transform=\"translate(246.49394 373.655)scale(0.14 -0.14)\">\n       <defs>\n        <path id=\"DejaVuSans-33\" d=\"M 2597 2516 \nQ 3050 2419 3304 2112 \nQ 3559 1806 3559 1356 \nQ 3559 666 3084 287 \nQ 2609 -91 1734 -91 \nQ 1441 -91 1130 -33 \nQ 819 25 488 141 \nL 488 750 \nQ 750 597 1062 519 \nQ 1375 441 1716 441 \nQ 2309 441 2620 675 \nQ 2931 909 2931 1356 \nQ 2931 1769 2642 2001 \nQ 2353 2234 1838 2234 \nL 1294 2234 \nL 1294 2753 \nL 1863 2753 \nQ 2328 2753 2575 2939 \nQ 2822 3125 2822 3475 \nQ 2822 3834 2567 4026 \nQ 2313 4219 1838 4219 \nQ 1578 4219 1281 4162 \nQ 984 4106 628 3988 \nL 628 4550 \nQ 988 4650 1302 4700 \nQ 1616 4750 1894 4750 \nQ 2613 4750 3031 4423 \nQ 3450 4097 3450 3541 \nQ 3450 3153 3228 2886 \nQ 3006 2619 2597 2516 \nz\n\" transform=\"scale(0.015625)\"/>\n       </defs>\n       <use xlink:href=\"#DejaVuSans-33\"/>\n       <use xlink:href=\"#DejaVuSans-30\" x=\"63.623047\"/>\n       <use xlink:href=\"#DejaVuSans-30\" x=\"127.246094\"/>\n      </g>\n     </g>\n    </g>\n    <g id=\"xtick_5\">\n     <g id=\"line2d_9\">\n      <path d=\"M 311.94995 359.517187 \nL 311.94995 26.877187 \n\" clip-path=\"url(#pe427f0c470)\" style=\"fill: none; stroke-dasharray: 0.5,5; stroke-dashoffset: 0; stroke: #000000; stroke-width: 0.5\"/>\n     </g>\n     <g id=\"line2d_10\">\n      <g>\n       <use xlink:href=\"#mce25127cb3\" x=\"311.94995\" y=\"359.517187\" style=\"stroke: #000000; stroke-width: 0.8\"/>\n      </g>\n     </g>\n     <g id=\"text_5\">\n      <!-- 400 -->\n      <g transform=\"translate(298.5887 373.655)scale(0.14 -0.14)\">\n       <defs>\n        <path id=\"DejaVuSans-34\" d=\"M 2419 4116 \nL 825 1625 \nL 2419 1625 \nL 2419 4116 \nz\nM 2253 4666 \nL 3047 4666 \nL 3047 1625 \nL 3713 1625 \nL 3713 1100 \nL 3047 1100 \nL 3047 0 \nL 2419 0 \nL 2419 1100 \nL 313 1100 \nL 313 1709 \nL 2253 4666 \nz\n\" transform=\"scale(0.015625)\"/>\n       </defs>\n       <use xlink:href=\"#DejaVuSans-34\"/>\n       <use xlink:href=\"#DejaVuSans-30\" x=\"63.623047\"/>\n       <use xlink:href=\"#DejaVuSans-30\" x=\"127.246094\"/>\n      </g>\n     </g>\n    </g>\n    <g id=\"xtick_6\">\n     <g id=\"line2d_11\">\n      <path d=\"M 364.04471 359.517187 \nL 364.04471 26.877187 \n\" clip-path=\"url(#pe427f0c470)\" style=\"fill: none; stroke-dasharray: 0.5,5; stroke-dashoffset: 0; stroke: #000000; stroke-width: 0.5\"/>\n     </g>\n     <g id=\"line2d_12\">\n      <g>\n       <use xlink:href=\"#mce25127cb3\" x=\"364.04471\" y=\"359.517187\" style=\"stroke: #000000; stroke-width: 0.8\"/>\n      </g>\n     </g>\n     <g id=\"text_6\">\n      <!-- 500 -->\n      <g transform=\"translate(350.68346 373.655)scale(0.14 -0.14)\">\n       <defs>\n        <path id=\"DejaVuSans-35\" d=\"M 691 4666 \nL 3169 4666 \nL 3169 4134 \nL 1269 4134 \nL 1269 2991 \nQ 1406 3038 1543 3061 \nQ 1681 3084 1819 3084 \nQ 2600 3084 3056 2656 \nQ 3513 2228 3513 1497 \nQ 3513 744 3044 326 \nQ 2575 -91 1722 -91 \nQ 1428 -91 1123 -41 \nQ 819 9 494 109 \nL 494 744 \nQ 775 591 1075 516 \nQ 1375 441 1709 441 \nQ 2250 441 2565 725 \nQ 2881 1009 2881 1497 \nQ 2881 1984 2565 2268 \nQ 2250 2553 1709 2553 \nQ 1456 2553 1204 2497 \nQ 953 2441 691 2322 \nL 691 4666 \nz\n\" transform=\"scale(0.015625)\"/>\n       </defs>\n       <use xlink:href=\"#DejaVuSans-35\"/>\n       <use xlink:href=\"#DejaVuSans-30\" x=\"63.623047\"/>\n       <use xlink:href=\"#DejaVuSans-30\" x=\"127.246094\"/>\n      </g>\n     </g>\n    </g>\n    <g id=\"xtick_7\">\n     <g id=\"line2d_13\">\n      <path d=\"M 416.13947 359.517187 \nL 416.13947 26.877187 \n\" clip-path=\"url(#pe427f0c470)\" style=\"fill: none; stroke-dasharray: 0.5,5; stroke-dashoffset: 0; stroke: #000000; stroke-width: 0.5\"/>\n     </g>\n     <g id=\"line2d_14\">\n      <g>\n       <use xlink:href=\"#mce25127cb3\" x=\"416.13947\" y=\"359.517187\" style=\"stroke: #000000; stroke-width: 0.8\"/>\n      </g>\n     </g>\n     <g id=\"text_7\">\n      <!-- 600 -->\n      <g transform=\"translate(402.77822 373.655)scale(0.14 -0.14)\">\n       <defs>\n        <path id=\"DejaVuSans-36\" d=\"M 2113 2584 \nQ 1688 2584 1439 2293 \nQ 1191 2003 1191 1497 \nQ 1191 994 1439 701 \nQ 1688 409 2113 409 \nQ 2538 409 2786 701 \nQ 3034 994 3034 1497 \nQ 3034 2003 2786 2293 \nQ 2538 2584 2113 2584 \nz\nM 3366 4563 \nL 3366 3988 \nQ 3128 4100 2886 4159 \nQ 2644 4219 2406 4219 \nQ 1781 4219 1451 3797 \nQ 1122 3375 1075 2522 \nQ 1259 2794 1537 2939 \nQ 1816 3084 2150 3084 \nQ 2853 3084 3261 2657 \nQ 3669 2231 3669 1497 \nQ 3669 778 3244 343 \nQ 2819 -91 2113 -91 \nQ 1303 -91 875 529 \nQ 447 1150 447 2328 \nQ 447 3434 972 4092 \nQ 1497 4750 2381 4750 \nQ 2619 4750 2861 4703 \nQ 3103 4656 3366 4563 \nz\n\" transform=\"scale(0.015625)\"/>\n       </defs>\n       <use xlink:href=\"#DejaVuSans-36\"/>\n       <use xlink:href=\"#DejaVuSans-30\" x=\"63.623047\"/>\n       <use xlink:href=\"#DejaVuSans-30\" x=\"127.246094\"/>\n      </g>\n     </g>\n    </g>\n    <g id=\"xtick_8\">\n     <g id=\"line2d_15\">\n      <path d=\"M 468.23423 359.517187 \nL 468.23423 26.877187 \n\" clip-path=\"url(#pe427f0c470)\" style=\"fill: none; stroke-dasharray: 0.5,5; stroke-dashoffset: 0; stroke: #000000; stroke-width: 0.5\"/>\n     </g>\n     <g id=\"line2d_16\">\n      <g>\n       <use xlink:href=\"#mce25127cb3\" x=\"468.23423\" y=\"359.517187\" style=\"stroke: #000000; stroke-width: 0.8\"/>\n      </g>\n     </g>\n     <g id=\"text_8\">\n      <!-- 700 -->\n      <g transform=\"translate(454.87298 373.655)scale(0.14 -0.14)\">\n       <defs>\n        <path id=\"DejaVuSans-37\" d=\"M 525 4666 \nL 3525 4666 \nL 3525 4397 \nL 1831 0 \nL 1172 0 \nL 2766 4134 \nL 525 4134 \nL 525 4666 \nz\n\" transform=\"scale(0.015625)\"/>\n       </defs>\n       <use xlink:href=\"#DejaVuSans-37\"/>\n       <use xlink:href=\"#DejaVuSans-30\" x=\"63.623047\"/>\n       <use xlink:href=\"#DejaVuSans-30\" x=\"127.246094\"/>\n      </g>\n     </g>\n    </g>\n    <g id=\"xtick_9\">\n     <g id=\"line2d_17\">\n      <path d=\"M 520.328991 359.517187 \nL 520.328991 26.877187 \n\" clip-path=\"url(#pe427f0c470)\" style=\"fill: none; stroke-dasharray: 0.5,5; stroke-dashoffset: 0; stroke: #000000; stroke-width: 0.5\"/>\n     </g>\n     <g id=\"line2d_18\">\n      <g>\n       <use xlink:href=\"#mce25127cb3\" x=\"520.328991\" y=\"359.517187\" style=\"stroke: #000000; stroke-width: 0.8\"/>\n      </g>\n     </g>\n     <g id=\"text_9\">\n      <!-- 800 -->\n      <g transform=\"translate(506.967741 373.655)scale(0.14 -0.14)\">\n       <defs>\n        <path id=\"DejaVuSans-38\" d=\"M 2034 2216 \nQ 1584 2216 1326 1975 \nQ 1069 1734 1069 1313 \nQ 1069 891 1326 650 \nQ 1584 409 2034 409 \nQ 2484 409 2743 651 \nQ 3003 894 3003 1313 \nQ 3003 1734 2745 1975 \nQ 2488 2216 2034 2216 \nz\nM 1403 2484 \nQ 997 2584 770 2862 \nQ 544 3141 544 3541 \nQ 544 4100 942 4425 \nQ 1341 4750 2034 4750 \nQ 2731 4750 3128 4425 \nQ 3525 4100 3525 3541 \nQ 3525 3141 3298 2862 \nQ 3072 2584 2669 2484 \nQ 3125 2378 3379 2068 \nQ 3634 1759 3634 1313 \nQ 3634 634 3220 271 \nQ 2806 -91 2034 -91 \nQ 1263 -91 848 271 \nQ 434 634 434 1313 \nQ 434 1759 690 2068 \nQ 947 2378 1403 2484 \nz\nM 1172 3481 \nQ 1172 3119 1398 2916 \nQ 1625 2713 2034 2713 \nQ 2441 2713 2670 2916 \nQ 2900 3119 2900 3481 \nQ 2900 3844 2670 4047 \nQ 2441 4250 2034 4250 \nQ 1625 4250 1398 4047 \nQ 1172 3844 1172 3481 \nz\n\" transform=\"scale(0.015625)\"/>\n       </defs>\n       <use xlink:href=\"#DejaVuSans-38\"/>\n       <use xlink:href=\"#DejaVuSans-30\" x=\"63.623047\"/>\n       <use xlink:href=\"#DejaVuSans-30\" x=\"127.246094\"/>\n      </g>\n     </g>\n    </g>\n    <g id=\"text_10\">\n     <!-- Steps -->\n     <g transform=\"translate(281.298281 394.24375)scale(0.18 -0.18)\">\n      <defs>\n       <path id=\"DejaVuSans-53\" d=\"M 3425 4513 \nL 3425 3897 \nQ 3066 4069 2747 4153 \nQ 2428 4238 2131 4238 \nQ 1616 4238 1336 4038 \nQ 1056 3838 1056 3469 \nQ 1056 3159 1242 3001 \nQ 1428 2844 1947 2747 \nL 2328 2669 \nQ 3034 2534 3370 2195 \nQ 3706 1856 3706 1288 \nQ 3706 609 3251 259 \nQ 2797 -91 1919 -91 \nQ 1588 -91 1214 -16 \nQ 841 59 441 206 \nL 441 856 \nQ 825 641 1194 531 \nQ 1563 422 1919 422 \nQ 2459 422 2753 634 \nQ 3047 847 3047 1241 \nQ 3047 1584 2836 1778 \nQ 2625 1972 2144 2069 \nL 1759 2144 \nQ 1053 2284 737 2584 \nQ 422 2884 422 3419 \nQ 422 4038 858 4394 \nQ 1294 4750 2059 4750 \nQ 2388 4750 2728 4690 \nQ 3069 4631 3425 4513 \nz\n\" transform=\"scale(0.015625)\"/>\n       <path id=\"DejaVuSans-74\" d=\"M 1172 4494 \nL 1172 3500 \nL 2356 3500 \nL 2356 3053 \nL 1172 3053 \nL 1172 1153 \nQ 1172 725 1289 603 \nQ 1406 481 1766 481 \nL 2356 481 \nL 2356 0 \nL 1766 0 \nQ 1100 0 847 248 \nQ 594 497 594 1153 \nL 594 3053 \nL 172 3053 \nL 172 3500 \nL 594 3500 \nL 594 4494 \nL 1172 4494 \nz\n\" transform=\"scale(0.015625)\"/>\n       <path id=\"DejaVuSans-65\" d=\"M 3597 1894 \nL 3597 1613 \nL 953 1613 \nQ 991 1019 1311 708 \nQ 1631 397 2203 397 \nQ 2534 397 2845 478 \nQ 3156 559 3463 722 \nL 3463 178 \nQ 3153 47 2828 -22 \nQ 2503 -91 2169 -91 \nQ 1331 -91 842 396 \nQ 353 884 353 1716 \nQ 353 2575 817 3079 \nQ 1281 3584 2069 3584 \nQ 2775 3584 3186 3129 \nQ 3597 2675 3597 1894 \nz\nM 3022 2063 \nQ 3016 2534 2758 2815 \nQ 2500 3097 2075 3097 \nQ 1594 3097 1305 2825 \nQ 1016 2553 972 2059 \nL 3022 2063 \nz\n\" transform=\"scale(0.015625)\"/>\n       <path id=\"DejaVuSans-70\" d=\"M 1159 525 \nL 1159 -1331 \nL 581 -1331 \nL 581 3500 \nL 1159 3500 \nL 1159 2969 \nQ 1341 3281 1617 3432 \nQ 1894 3584 2278 3584 \nQ 2916 3584 3314 3078 \nQ 3713 2572 3713 1747 \nQ 3713 922 3314 415 \nQ 2916 -91 2278 -91 \nQ 1894 -91 1617 61 \nQ 1341 213 1159 525 \nz\nM 3116 1747 \nQ 3116 2381 2855 2742 \nQ 2594 3103 2138 3103 \nQ 1681 3103 1420 2742 \nQ 1159 2381 1159 1747 \nQ 1159 1113 1420 752 \nQ 1681 391 2138 391 \nQ 2594 391 2855 752 \nQ 3116 1113 3116 1747 \nz\n\" transform=\"scale(0.015625)\"/>\n       <path id=\"DejaVuSans-73\" d=\"M 2834 3397 \nL 2834 2853 \nQ 2591 2978 2328 3040 \nQ 2066 3103 1784 3103 \nQ 1356 3103 1142 2972 \nQ 928 2841 928 2578 \nQ 928 2378 1081 2264 \nQ 1234 2150 1697 2047 \nL 1894 2003 \nQ 2506 1872 2764 1633 \nQ 3022 1394 3022 966 \nQ 3022 478 2636 193 \nQ 2250 -91 1575 -91 \nQ 1294 -91 989 -36 \nQ 684 19 347 128 \nL 347 722 \nQ 666 556 975 473 \nQ 1284 391 1588 391 \nQ 1994 391 2212 530 \nQ 2431 669 2431 922 \nQ 2431 1156 2273 1281 \nQ 2116 1406 1581 1522 \nL 1381 1569 \nQ 847 1681 609 1914 \nQ 372 2147 372 2553 \nQ 372 3047 722 3315 \nQ 1072 3584 1716 3584 \nQ 2034 3584 2315 3537 \nQ 2597 3491 2834 3397 \nz\n\" transform=\"scale(0.015625)\"/>\n      </defs>\n      <use xlink:href=\"#DejaVuSans-53\"/>\n      <use xlink:href=\"#DejaVuSans-74\" x=\"63.476562\"/>\n      <use xlink:href=\"#DejaVuSans-65\" x=\"102.685547\"/>\n      <use xlink:href=\"#DejaVuSans-70\" x=\"164.208984\"/>\n      <use xlink:href=\"#DejaVuSans-73\" x=\"227.685547\"/>\n     </g>\n    </g>\n   </g>\n   <g id=\"matplotlib.axis_2\">\n    <g id=\"ytick_1\">\n     <g id=\"line2d_19\">\n      <path d=\"M 83.28 289.782402 \nL 529.68 289.782402 \n\" clip-path=\"url(#pe427f0c470)\" style=\"fill: none; stroke-dasharray: 0.5,5; stroke-dashoffset: 0; stroke: #000000; stroke-width: 0.5\"/>\n     </g>\n     <g id=\"line2d_20\">\n      <defs>\n       <path id=\"m778e0d59ff\" d=\"M 0 0 \nL 3.5 0 \n\" style=\"stroke: #000000; stroke-width: 0.8\"/>\n      </defs>\n      <g>\n       <use xlink:href=\"#m778e0d59ff\" x=\"83.28\" y=\"289.782402\" style=\"stroke: #000000; stroke-width: 0.8\"/>\n      </g>\n     </g>\n     <g id=\"text_11\">\n      <!-- $\\mathdefault{10^{4}}$ -->\n      <g transform=\"translate(55.14 295.101308)scale(0.14 -0.14)\">\n       <use xlink:href=\"#DejaVuSans-31\" transform=\"translate(0 0.684375)\"/>\n       <use xlink:href=\"#DejaVuSans-30\" transform=\"translate(63.623047 0.684375)\"/>\n       <use xlink:href=\"#DejaVuSans-34\" transform=\"translate(128.203125 38.965625)scale(0.7)\"/>\n      </g>\n     </g>\n    </g>\n    <g id=\"ytick_2\">\n     <g id=\"line2d_21\">\n      <path d=\"M 83.28 344.794785 \nL 529.68 344.794785 \n\" clip-path=\"url(#pe427f0c470)\" style=\"fill: none; stroke-dasharray: 0.5,5; stroke-dashoffset: 0; stroke: #000000; stroke-width: 0.5\"/>\n     </g>\n     <g id=\"line2d_22\">\n      <defs>\n       <path id=\"m3c96a68d6d\" d=\"M 0 0 \nL 2 0 \n\" style=\"stroke: #000000; stroke-width: 0.6\"/>\n      </defs>\n      <g>\n       <use xlink:href=\"#m3c96a68d6d\" x=\"83.28\" y=\"344.794785\" style=\"stroke: #000000; stroke-width: 0.6\"/>\n      </g>\n     </g>\n    </g>\n    <g id=\"ytick_3\">\n     <g id=\"line2d_23\">\n      <path d=\"M 83.28 324.199337 \nL 529.68 324.199337 \n\" clip-path=\"url(#pe427f0c470)\" style=\"fill: none; stroke-dasharray: 0.5,5; stroke-dashoffset: 0; stroke: #000000; stroke-width: 0.5\"/>\n     </g>\n     <g id=\"line2d_24\">\n      <g>\n       <use xlink:href=\"#m3c96a68d6d\" x=\"83.28\" y=\"324.199337\" style=\"stroke: #000000; stroke-width: 0.6\"/>\n      </g>\n     </g>\n    </g>\n    <g id=\"ytick_4\">\n     <g id=\"line2d_25\">\n      <path d=\"M 83.28 306.032865 \nL 529.68 306.032865 \n\" clip-path=\"url(#pe427f0c470)\" style=\"fill: none; stroke-dasharray: 0.5,5; stroke-dashoffset: 0; stroke: #000000; stroke-width: 0.5\"/>\n     </g>\n     <g id=\"line2d_26\">\n      <g>\n       <use xlink:href=\"#m3c96a68d6d\" x=\"83.28\" y=\"306.032865\" style=\"stroke: #000000; stroke-width: 0.6\"/>\n      </g>\n     </g>\n    </g>\n    <g id=\"ytick_5\">\n     <g id=\"line2d_27\">\n      <path d=\"M 83.28 182.873634 \nL 529.68 182.873634 \n\" clip-path=\"url(#pe427f0c470)\" style=\"fill: none; stroke-dasharray: 0.5,5; stroke-dashoffset: 0; stroke: #000000; stroke-width: 0.5\"/>\n     </g>\n     <g id=\"line2d_28\">\n      <g>\n       <use xlink:href=\"#m3c96a68d6d\" x=\"83.28\" y=\"182.873634\" style=\"stroke: #000000; stroke-width: 0.6\"/>\n      </g>\n     </g>\n     <g id=\"text_12\">\n      <!-- $\\mathdefault{2\\times10^{4}}$ -->\n      <g transform=\"translate(29.2 188.19254)scale(0.14 -0.14)\">\n       <defs>\n        <path id=\"DejaVuSans-d7\" d=\"M 4488 3438 \nL 3059 2003 \nL 4488 575 \nL 4116 197 \nL 2681 1631 \nL 1247 197 \nL 878 575 \nL 2303 2003 \nL 878 3438 \nL 1247 3816 \nL 2681 2381 \nL 4116 3816 \nL 4488 3438 \nz\n\" transform=\"scale(0.015625)\"/>\n       </defs>\n       <use xlink:href=\"#DejaVuSans-32\" transform=\"translate(0 0.684375)\"/>\n       <use xlink:href=\"#DejaVuSans-d7\" transform=\"translate(83.105469 0.684375)\"/>\n       <use xlink:href=\"#DejaVuSans-31\" transform=\"translate(186.376953 0.684375)\"/>\n       <use xlink:href=\"#DejaVuSans-30\" transform=\"translate(250 0.684375)\"/>\n       <use xlink:href=\"#DejaVuSans-34\" transform=\"translate(314.580078 38.965625)scale(0.7)\"/>\n      </g>\n     </g>\n    </g>\n    <g id=\"ytick_6\">\n     <g id=\"line2d_29\">\n      <path d=\"M 83.28 120.336014 \nL 529.68 120.336014 \n\" clip-path=\"url(#pe427f0c470)\" style=\"fill: none; stroke-dasharray: 0.5,5; stroke-dashoffset: 0; stroke: #000000; stroke-width: 0.5\"/>\n     </g>\n     <g id=\"line2d_30\">\n      <g>\n       <use xlink:href=\"#m3c96a68d6d\" x=\"83.28\" y=\"120.336014\" style=\"stroke: #000000; stroke-width: 0.6\"/>\n      </g>\n     </g>\n     <g id=\"text_13\">\n      <!-- $\\mathdefault{3\\times10^{4}}$ -->\n      <g transform=\"translate(29.2 125.65492)scale(0.14 -0.14)\">\n       <use xlink:href=\"#DejaVuSans-33\" transform=\"translate(0 0.684375)\"/>\n       <use xlink:href=\"#DejaVuSans-d7\" transform=\"translate(83.105469 0.684375)\"/>\n       <use xlink:href=\"#DejaVuSans-31\" transform=\"translate(186.376953 0.684375)\"/>\n       <use xlink:href=\"#DejaVuSans-30\" transform=\"translate(250 0.684375)\"/>\n       <use xlink:href=\"#DejaVuSans-34\" transform=\"translate(314.580078 38.965625)scale(0.7)\"/>\n      </g>\n     </g>\n    </g>\n    <g id=\"ytick_7\">\n     <g id=\"line2d_31\">\n      <path d=\"M 83.28 75.964866 \nL 529.68 75.964866 \n\" clip-path=\"url(#pe427f0c470)\" style=\"fill: none; stroke-dasharray: 0.5,5; stroke-dashoffset: 0; stroke: #000000; stroke-width: 0.5\"/>\n     </g>\n     <g id=\"line2d_32\">\n      <g>\n       <use xlink:href=\"#m3c96a68d6d\" x=\"83.28\" y=\"75.964866\" style=\"stroke: #000000; stroke-width: 0.6\"/>\n      </g>\n     </g>\n     <g id=\"text_14\">\n      <!-- $\\mathdefault{4\\times10^{4}}$ -->\n      <g transform=\"translate(29.2 81.283772)scale(0.14 -0.14)\">\n       <use xlink:href=\"#DejaVuSans-34\" transform=\"translate(0 0.684375)\"/>\n       <use xlink:href=\"#DejaVuSans-d7\" transform=\"translate(83.105469 0.684375)\"/>\n       <use xlink:href=\"#DejaVuSans-31\" transform=\"translate(186.376953 0.684375)\"/>\n       <use xlink:href=\"#DejaVuSans-30\" transform=\"translate(250 0.684375)\"/>\n       <use xlink:href=\"#DejaVuSans-34\" transform=\"translate(314.580078 38.965625)scale(0.7)\"/>\n      </g>\n     </g>\n    </g>\n    <g id=\"ytick_8\">\n     <g id=\"line2d_33\">\n      <path d=\"M 83.28 41.54793 \nL 529.68 41.54793 \n\" clip-path=\"url(#pe427f0c470)\" style=\"fill: none; stroke-dasharray: 0.5,5; stroke-dashoffset: 0; stroke: #000000; stroke-width: 0.5\"/>\n     </g>\n     <g id=\"line2d_34\">\n      <g>\n       <use xlink:href=\"#m3c96a68d6d\" x=\"83.28\" y=\"41.54793\" style=\"stroke: #000000; stroke-width: 0.6\"/>\n      </g>\n     </g>\n    </g>\n    <g id=\"text_15\">\n     <!-- $\\|\\Delta{B}\\|_2$ -->\n     <g transform=\"translate(20.7 220.647187)rotate(-90)scale(0.18 -0.18)\">\n      <defs>\n       <path id=\"Cmsy10-6b\" d=\"M 850 -1484 \nL 850 4684 \nQ 850 4734 890 4767 \nQ 931 4800 978 4800 \nQ 1031 4800 1068 4767 \nQ 1106 4734 1106 4684 \nL 1106 -1484 \nQ 1106 -1534 1068 -1567 \nQ 1031 -1600 978 -1600 \nQ 931 -1600 890 -1567 \nQ 850 -1534 850 -1484 \nz\nM 2094 -1484 \nL 2094 4684 \nQ 2094 4734 2131 4767 \nQ 2169 4800 2222 4800 \nQ 2269 4800 2309 4767 \nQ 2350 4734 2350 4684 \nL 2350 -1484 \nQ 2350 -1534 2309 -1567 \nQ 2269 -1600 2222 -1600 \nQ 2169 -1600 2131 -1567 \nQ 2094 -1534 2094 -1484 \nz\n\" transform=\"scale(0.015625)\"/>\n       <path id=\"Cmr10-a2\" d=\"M 347 0 \nQ 294 0 294 50 \nQ 297 56 298 59 \nQ 300 63 300 72 \nL 2503 4513 \nQ 2531 4581 2619 4581 \nL 2706 4581 \nQ 2794 4581 2822 4513 \nL 5025 72 \nQ 5028 66 5029 61 \nQ 5031 56 5031 50 \nQ 5031 0 4978 0 \nL 347 0 \nz\nM 769 513 \nL 4141 513 \nL 2456 3909 \nL 769 513 \nz\n\" transform=\"scale(0.015625)\"/>\n       <path id=\"Cmmi10-42\" d=\"M 319 0 \nQ 256 0 256 84 \nQ 259 100 268 137 \nQ 278 175 293 200 \nQ 309 225 341 225 \nQ 522 225 656 234 \nQ 791 244 884 269 \nQ 959 297 1006 441 \nL 1881 3956 \nQ 1894 4019 1894 4044 \nQ 1894 4113 1819 4122 \nQ 1697 4147 1356 4147 \nQ 1294 4147 1294 4231 \nQ 1297 4247 1306 4286 \nQ 1316 4325 1333 4348 \nQ 1350 4372 1375 4372 \nL 3669 4372 \nQ 3878 4372 4083 4320 \nQ 4288 4269 4461 4156 \nQ 4634 4044 4736 3876 \nQ 4838 3709 4838 3488 \nQ 4838 3247 4714 3040 \nQ 4591 2834 4395 2681 \nQ 4200 2528 3973 2429 \nQ 3747 2331 3500 2284 \nQ 3675 2284 3854 2215 \nQ 4034 2147 4175 2028 \nQ 4316 1909 4402 1743 \nQ 4488 1578 4488 1388 \nQ 4488 1003 4219 684 \nQ 3950 366 3542 183 \nQ 3134 0 2753 0 \nL 319 0 \nz\nM 1497 275 \nQ 1497 225 1716 225 \nL 2631 225 \nQ 2944 225 3231 398 \nQ 3519 572 3692 859 \nQ 3866 1147 3866 1459 \nQ 3866 1650 3786 1820 \nQ 3706 1991 3556 2089 \nQ 3406 2188 3213 2188 \nL 1966 2188 \nL 1522 416 \nQ 1497 328 1497 275 \nz\nM 2009 2356 \nL 2981 2356 \nQ 3288 2356 3577 2512 \nQ 3866 2669 4048 2937 \nQ 4231 3206 4231 3506 \nQ 4231 3784 4057 3965 \nQ 3884 4147 3609 4147 \nL 2731 4147 \nQ 2559 4147 2500 4115 \nQ 2441 4084 2400 3928 \nL 2009 2356 \nz\n\" transform=\"scale(0.015625)\"/>\n       <path id=\"Cmr10-32\" d=\"M 319 0 \nL 319 172 \nQ 319 188 331 206 \nL 1325 1306 \nQ 1550 1550 1690 1715 \nQ 1831 1881 1968 2097 \nQ 2106 2313 2186 2536 \nQ 2266 2759 2266 3009 \nQ 2266 3272 2169 3511 \nQ 2072 3750 1880 3894 \nQ 1688 4038 1416 4038 \nQ 1138 4038 916 3870 \nQ 694 3703 603 3438 \nQ 628 3444 672 3444 \nQ 816 3444 917 3347 \nQ 1019 3250 1019 3097 \nQ 1019 2950 917 2848 \nQ 816 2747 672 2747 \nQ 522 2747 420 2851 \nQ 319 2956 319 3097 \nQ 319 3338 409 3548 \nQ 500 3759 670 3923 \nQ 841 4088 1055 4175 \nQ 1269 4263 1509 4263 \nQ 1875 4263 2190 4108 \nQ 2506 3953 2690 3670 \nQ 2875 3388 2875 3009 \nQ 2875 2731 2753 2481 \nQ 2631 2231 2440 2026 \nQ 2250 1822 1953 1562 \nQ 1656 1303 1563 1216 \nL 838 519 \nL 1453 519 \nQ 1906 519 2211 526 \nQ 2516 534 2534 550 \nQ 2609 631 2688 1141 \nL 2875 1141 \nL 2694 0 \nL 319 0 \nz\n\" transform=\"scale(0.015625)\"/>\n      </defs>\n      <use xlink:href=\"#Cmsy10-6b\"/>\n      <use xlink:href=\"#Cmr10-a2\" transform=\"translate(50 0)\"/>\n      <use xlink:href=\"#Cmmi10-42\" transform=\"translate(133.300781 0)\"/>\n      <use xlink:href=\"#Cmsy10-6b\" transform=\"translate(209.082031 0)\"/>\n      <use xlink:href=\"#Cmr10-32\" transform=\"translate(263.546172 -17.00625)scale(0.7)\"/>\n     </g>\n    </g>\n   </g>\n   <g id=\"line2d_35\">\n    <path d=\"M 103.570909 41.997187 \nL 104.091857 152.466334 \nL 104.612804 224.675291 \nL 105.133752 232.797577 \nL 105.654699 277.862085 \nL 106.175647 266.961826 \nL 106.696595 275.5225 \nL 107.217542 280.058984 \nL 107.73849 272.949027 \nL 108.780385 298.580859 \nL 109.301333 288.578744 \nL 109.82228 293.128577 \nL 110.343228 282.699947 \nL 110.864176 315.1686 \nL 111.385123 273.739156 \nL 111.906071 272.37502 \nL 112.427018 249.91371 \nL 112.947966 273.275338 \nL 113.468914 275.902205 \nL 113.989861 282.454957 \nL 114.510809 263.045709 \nL 115.031756 284.50604 \nL 115.552704 269.549532 \nL 116.073652 278.278533 \nL 116.594599 270.646764 \nL 117.115547 273.762106 \nL 117.636494 297.580214 \nL 118.157442 294.588063 \nL 118.67839 286.531387 \nL 119.199337 285.477339 \nL 119.720285 293.500434 \nL 120.241232 289.710411 \nL 120.76218 293.004602 \nL 121.283128 280.398719 \nL 121.804075 283.768478 \nL 122.325023 274.973788 \nL 122.84597 274.843025 \nL 123.366918 271.43005 \nL 123.887866 266.871521 \nL 124.408813 274.519943 \nL 124.929761 286.851255 \nL 125.971656 320.678601 \nL 126.492604 332.542076 \nL 127.013551 335.452717 \nL 127.534499 331.574604 \nL 128.055446 322.88829 \nL 128.576394 319.574076 \nL 129.618289 297.709733 \nL 130.139237 280.78454 \nL 130.660184 267.521375 \nL 131.181132 261.275166 \nL 131.70208 267.867928 \nL 132.223027 282.022263 \nL 133.264922 319.814311 \nL 133.78587 326.774042 \nL 134.306818 324.558782 \nL 134.827765 324.601977 \nL 136.390608 295.271935 \nL 136.911556 278.458135 \nL 137.432503 266.187136 \nL 137.953451 257.620053 \nL 138.474398 254.654033 \nL 138.995346 261.685306 \nL 140.037241 295.351848 \nL 140.558189 307.042602 \nL 141.079136 314.583898 \nL 141.600084 317.818545 \nL 142.121032 313.837932 \nL 143.162927 297.123176 \nL 144.204822 262.378336 \nL 144.72577 251.77395 \nL 145.767665 243.64427 \nL 146.288612 256.510358 \nL 146.80956 265.15879 \nL 147.330508 286.619924 \nL 147.851455 295.685794 \nL 148.372403 301.920832 \nL 148.89335 304.399614 \nL 149.414298 301.532744 \nL 149.935246 288.864638 \nL 150.456193 287.125478 \nL 152.019036 244.341218 \nL 152.539984 233.39155 \nL 153.060931 231.502331 \nL 154.102826 255.865222 \nL 155.144722 284.165769 \nL 155.665669 293.989984 \nL 156.186617 297.182946 \nL 156.707564 293.159914 \nL 157.228512 286.46535 \nL 158.270407 263.051383 \nL 159.312302 231.96215 \nL 159.83325 222.583181 \nL 160.354198 227.204713 \nL 160.875145 235.265351 \nL 161.396093 255.904855 \nL 162.958936 298.632482 \nL 163.479883 302.054024 \nL 164.000831 300.722521 \nL 164.521779 293.838656 \nL 165.563674 263.365454 \nL 166.605569 236.269501 \nL 167.126517 226.898974 \nL 167.647464 227.486695 \nL 168.689359 259.882499 \nL 169.731255 298.419561 \nL 170.252202 311.13296 \nL 170.77315 316.596386 \nL 171.294097 311.998177 \nL 171.815045 301.527925 \nL 172.85694 271.991686 \nL 173.898835 235.515287 \nL 174.419783 224.357319 \nL 174.940731 226.266608 \nL 175.982626 263.22128 \nL 176.503573 288.022825 \nL 177.024521 306.403213 \nL 177.545469 319.828037 \nL 178.587364 313.851266 \nL 179.629259 287.555571 \nL 180.671154 246.801472 \nL 181.192102 230.27239 \nL 181.713049 209.99918 \nL 182.233997 206.591255 \nL 182.754945 216.07692 \nL 183.275892 234.157455 \nL 183.79684 246.729828 \nL 184.317787 254.013568 \nL 184.838735 256.024644 \nL 185.359683 254.050374 \nL 186.401578 244.249159 \nL 186.922525 234.617495 \nL 188.485368 198.7878 \nL 189.527263 185.817284 \nL 190.048211 186.157554 \nL 190.569159 187.480171 \nL 191.090106 190.681865 \nL 191.611054 188.02526 \nL 192.132001 189.05673 \nL 192.652949 190.585976 \nL 193.173897 190.359389 \nL 193.694844 188.86816 \nL 194.736739 187.569512 \nL 195.257687 183.050732 \nL 195.778635 182.548041 \nL 196.299582 183.684356 \nL 196.82053 178.913696 \nL 197.341477 180.78116 \nL 197.862425 181.105049 \nL 198.383373 179.392842 \nL 198.90432 180.566025 \nL 199.425268 178.038554 \nL 199.946215 178.218933 \nL 200.467163 178.757931 \nL 200.988111 180.89404 \nL 201.509058 177.440557 \nL 202.030006 182.74026 \nL 204.634744 225.448583 \nL 205.155691 225.334839 \nL 205.676639 230.403827 \nL 206.197587 227.556184 \nL 206.718534 222.787127 \nL 207.239482 221.165385 \nL 207.760429 222.857383 \nL 208.281377 223.744066 \nL 208.802325 223.934891 \nL 209.323272 225.250572 \nL 209.84422 224.802787 \nL 210.365167 227.572806 \nL 210.886115 229.406346 \nL 211.407063 226.757862 \nL 211.92801 226.345799 \nL 212.448958 229.469176 \nL 212.969905 229.324453 \nL 213.490853 231.510634 \nL 214.011801 230.855022 \nL 214.532748 229.967939 \nL 215.053696 233.461249 \nL 215.574643 235.506465 \nL 216.095591 235.220688 \nL 217.137486 239.384861 \nL 217.658434 239.28413 \nL 218.179381 240.233894 \nL 218.700329 239.554498 \nL 219.221277 242.429044 \nL 219.742224 240.382948 \nL 220.263172 243.314724 \nL 220.78412 244.973547 \nL 221.305067 253.766897 \nL 221.826015 257.835328 \nL 222.346962 266.204057 \nL 223.388858 287.044278 \nL 223.909805 289.788802 \nL 224.430753 290.141366 \nL 225.472648 288.661938 \nL 225.993596 285.61707 \nL 226.514543 284.354814 \nL 227.035491 286.038564 \nL 227.556438 286.749849 \nL 228.077386 296.453885 \nL 228.598334 309.190153 \nL 230.161176 336.865613 \nL 230.682124 341.71134 \nL 231.203072 338.140958 \nL 232.765914 310.469343 \nL 233.286862 305.031206 \nL 233.80781 301.24723 \nL 234.328757 301.761938 \nL 234.849705 306.04261 \nL 235.370652 312.898138 \nL 236.412548 331.954058 \nL 236.933495 336.67732 \nL 237.454443 336.589545 \nL 237.97539 337.640996 \nL 238.496338 335.838705 \nL 239.017286 325.110352 \nL 239.538233 311.253474 \nL 240.059181 300.777524 \nL 240.580128 296.800611 \nL 241.101076 294.882284 \nL 241.622024 294.722931 \nL 242.142971 300.034265 \nL 242.663919 307.075425 \nL 243.705814 326.464 \nL 244.226762 326.647831 \nL 244.747709 326.30651 \nL 245.268657 325.605178 \nL 245.789604 326.899518 \nL 246.8315 305.37184 \nL 247.352447 296.376148 \nL 247.873395 290.954893 \nL 248.394342 291.188115 \nL 248.91529 291.184925 \nL 249.436238 297.754874 \nL 249.957185 300.525914 \nL 250.478133 310.295546 \nL 250.99908 317.631674 \nL 251.520028 313.783013 \nL 252.040976 322.666589 \nL 252.561923 314.022044 \nL 253.603818 308.889937 \nL 254.124766 298.277185 \nL 254.645714 291.424292 \nL 255.166661 287.817108 \nL 255.687609 286.839506 \nL 256.208556 287.829134 \nL 257.250452 302.923492 \nL 257.771399 311.838162 \nL 258.292347 316.829613 \nL 258.813294 310.281188 \nL 259.334242 322.837772 \nL 259.85519 320.832935 \nL 260.376137 316.980774 \nL 260.897085 310.548213 \nL 261.418032 301.387974 \nL 261.93898 295.141824 \nL 262.459928 291.352563 \nL 262.980875 290.803845 \nL 263.501823 295.44666 \nL 264.02277 298.805072 \nL 264.543718 307.986574 \nL 265.585613 317.100737 \nL 266.106561 319.879811 \nL 267.148456 326.649618 \nL 267.669404 320.950489 \nL 268.190351 313.587516 \nL 268.711299 304.042887 \nL 269.232246 297.55823 \nL 269.753194 295.94639 \nL 270.274142 295.014662 \nL 270.795089 297.893865 \nL 271.836984 315.268145 \nL 272.87888 325.650485 \nL 273.399827 329.990004 \nL 273.920775 331.201537 \nL 274.441722 331.870044 \nL 274.96267 324.090458 \nL 275.483618 313.576116 \nL 276.004565 306.535802 \nL 276.525513 302.888371 \nL 277.04646 300.963394 \nL 277.567408 302.823061 \nL 278.609303 312.607217 \nL 279.130251 318.615768 \nL 279.651199 329.687079 \nL 280.172146 333.662676 \nL 280.693094 334.606798 \nL 281.214041 333.446293 \nL 282.776884 308.425734 \nL 283.297832 298.041723 \nL 283.818779 295.696009 \nL 284.339727 295.757783 \nL 284.860675 296.846203 \nL 285.90257 307.555625 \nL 286.423517 308.42957 \nL 286.944465 308.638314 \nL 287.465413 305.263333 \nL 287.98636 298.888193 \nL 288.507308 289.51025 \nL 290.591098 243.871311 \nL 291.112046 241.999193 \nL 291.632993 242.929251 \nL 292.674889 240.405872 \nL 293.195836 244.001553 \nL 293.716784 242.947426 \nL 294.237731 243.219227 \nL 295.279627 238.907298 \nL 295.800574 237.646626 \nL 296.321522 232.3179 \nL 297.884365 222.818133 \nL 298.405312 221.43848 \nL 298.92626 220.863755 \nL 299.447207 220.96987 \nL 299.968155 221.859863 \nL 300.489103 222.012415 \nL 301.01005 223.906801 \nL 301.530998 224.428946 \nL 302.051945 221.810791 \nL 302.572893 221.298817 \nL 303.093841 219.77003 \nL 303.614788 219.474428 \nL 304.135736 221.734649 \nL 304.656683 222.052155 \nL 305.177631 221.636601 \nL 305.698579 220.280948 \nL 306.219526 220.209699 \nL 306.740474 218.49124 \nL 307.261421 226.126833 \nL 307.782369 223.832634 \nL 308.303317 223.57337 \nL 308.824264 222.058745 \nL 309.345212 217.787552 \nL 309.866159 218.054934 \nL 310.387107 219.22586 \nL 310.908055 219.020629 \nL 311.429002 219.892075 \nL 311.94995 220.295924 \nL 312.470897 219.725273 \nL 312.991845 221.885756 \nL 313.512793 222.294448 \nL 314.03374 220.484842 \nL 314.554688 220.776219 \nL 315.596583 224.362672 \nL 316.117531 225.683084 \nL 316.638478 228.877969 \nL 317.159426 231.045594 \nL 317.680373 233.88567 \nL 318.201321 235.025811 \nL 318.722269 237.548296 \nL 319.243216 238.658133 \nL 319.764164 240.34707 \nL 320.285111 241.262449 \nL 320.806059 241.4231 \nL 321.327007 243.418912 \nL 321.847954 243.567039 \nL 322.368902 245.56821 \nL 323.410797 263.115683 \nL 323.931745 273.69219 \nL 324.452692 287.188866 \nL 325.494587 305.225207 \nL 326.015535 308.656012 \nL 326.536483 308.118202 \nL 327.05743 308.89017 \nL 327.578378 309.905799 \nL 328.099325 307.858159 \nL 328.620273 306.953699 \nL 329.141221 310.107874 \nL 329.662168 311.091592 \nL 330.704063 324.941781 \nL 331.745959 341.63766 \nL 332.266906 342.785985 \nL 332.787854 341.222243 \nL 333.308801 336.025109 \nL 334.350697 323.413266 \nL 334.871644 321.555938 \nL 335.392592 320.189005 \nL 335.91354 320.230869 \nL 336.434487 320.741739 \nL 336.955435 325.46178 \nL 337.476382 329.019385 \nL 337.99733 335.944865 \nL 338.518278 339.647965 \nL 339.039225 340.030037 \nL 339.560173 339.452253 \nL 341.123016 324.601616 \nL 341.643963 317.268375 \nL 342.164911 313.433984 \nL 342.685858 310.870904 \nL 343.727754 314.63785 \nL 344.248701 319.617188 \nL 344.769649 327.3519 \nL 345.290596 331.558619 \nL 345.811544 332.148847 \nL 346.332492 331.453212 \nL 346.853439 327.806731 \nL 347.374387 325.861321 \nL 347.895334 322.038331 \nL 348.93723 308.507343 \nL 349.458177 305.42433 \nL 349.979125 303.245549 \nL 350.500072 303.540087 \nL 351.02102 307.789344 \nL 351.541968 313.284557 \nL 352.062915 322.389104 \nL 352.583863 327.801379 \nL 353.10481 320.215755 \nL 353.625758 332.413696 \nL 354.146706 325.481027 \nL 354.667653 323.177506 \nL 356.230496 302.916257 \nL 356.751444 299.902753 \nL 357.272391 298.459392 \nL 357.793339 299.782639 \nL 358.314286 302.237498 \nL 358.835234 310.250549 \nL 359.356182 316.060281 \nL 359.877129 324.796444 \nL 360.398077 314.082086 \nL 360.919024 327.535584 \nL 361.439972 327.673181 \nL 361.96092 325.23149 \nL 362.481867 316.197826 \nL 363.523762 302.819043 \nL 364.565658 300.105145 \nL 365.086605 302.82043 \nL 365.607553 304.876547 \nL 366.649448 323.641228 \nL 367.170396 330.06103 \nL 368.212291 329.342383 \nL 368.733238 332.226151 \nL 369.254186 330.212245 \nL 370.817029 307.201965 \nL 371.337976 307.837446 \nL 371.858924 308.225233 \nL 372.379872 310.730278 \nL 372.900819 315.799775 \nL 374.463662 340.642176 \nL 374.98461 341.121719 \nL 375.505557 341.381641 \nL 376.026505 341.398585 \nL 376.547452 335.802074 \nL 377.589348 320.042498 \nL 378.110295 314.729599 \nL 378.631243 314.374659 \nL 379.15219 314.675147 \nL 379.673138 318.112106 \nL 380.715033 330.347198 \nL 381.235981 337.638401 \nL 381.756928 341.963323 \nL 382.277876 343.346375 \nL 382.798824 338.287438 \nL 384.882614 301.029835 \nL 385.403562 295.394005 \nL 385.924509 292.971677 \nL 386.445457 295.507952 \nL 386.966404 295.805464 \nL 387.487352 298.211657 \nL 388.0083 298.692225 \nL 388.529247 298.547602 \nL 389.050195 295.576718 \nL 389.571142 290.807917 \nL 391.133985 262.541291 \nL 392.696828 241.599802 \nL 393.217776 238.2667 \nL 393.738723 236.580805 \nL 394.259671 234.15181 \nL 394.780619 234.229066 \nL 395.301566 233.412563 \nL 395.822514 233.715931 \nL 396.343461 231.134389 \nL 396.864409 232.118554 \nL 397.385357 230.689577 \nL 398.427252 223.753156 \nL 398.948199 222.131545 \nL 399.469147 221.784491 \nL 400.511042 218.557384 \nL 401.03199 217.939024 \nL 401.552937 217.818811 \nL 402.073885 217.41789 \nL 402.594833 218.480959 \nL 403.11578 217.04561 \nL 403.636728 217.791968 \nL 404.157675 217.841439 \nL 404.678623 215.265949 \nL 405.199571 216.634451 \nL 405.720518 214.32328 \nL 406.241466 216.253447 \nL 406.762413 217.4652 \nL 407.283361 216.043453 \nL 407.804309 218.316944 \nL 408.325256 216.779467 \nL 408.846204 223.698969 \nL 409.367151 221.021107 \nL 409.888099 219.621715 \nL 410.409047 217.6788 \nL 410.929994 213.955941 \nL 411.450942 216.877606 \nL 411.971889 214.187507 \nL 412.492837 217.003644 \nL 413.013785 216.456876 \nL 413.534732 215.161407 \nL 414.05568 217.833248 \nL 415.097575 215.650888 \nL 415.618523 215.853263 \nL 416.660418 219.227766 \nL 417.181365 223.05424 \nL 417.702313 222.559473 \nL 418.744208 227.140907 \nL 420.307051 230.650996 \nL 420.827999 232.33482 \nL 421.348946 230.625547 \nL 421.869894 232.290334 \nL 422.911789 236.477707 \nL 423.432737 239.175354 \nL 423.953684 243.143632 \nL 424.474632 252.165676 \nL 424.995579 257.215382 \nL 426.037475 276.094836 \nL 426.558422 287.381063 \nL 427.07937 293.630793 \nL 427.600317 297.329516 \nL 428.121265 299.471527 \nL 428.642213 298.422504 \nL 429.16316 299.229901 \nL 429.684108 298.210111 \nL 430.205055 299.715779 \nL 430.726003 299.479492 \nL 431.246951 306.807934 \nL 431.767898 316.024968 \nL 432.809793 331.082712 \nL 433.330741 339.527345 \nL 433.851689 344.397187 \nL 434.372636 343.690249 \nL 434.893584 339.588107 \nL 435.414531 330.940806 \nL 435.935479 325.029813 \nL 436.456427 322.167555 \nL 436.977374 320.318338 \nL 437.498322 319.915241 \nL 438.540217 326.90038 \nL 439.061165 331.931602 \nL 439.582112 338.219938 \nL 440.10306 340.046839 \nL 440.624007 338.331909 \nL 441.144955 338.777062 \nL 441.665903 339.038479 \nL 442.18685 331.420202 \nL 442.707798 320.648202 \nL 443.228745 312.541782 \nL 443.749693 310.800879 \nL 444.270641 310.32905 \nL 444.791588 309.61248 \nL 445.833483 314.851501 \nL 446.875379 328.28245 \nL 447.396326 325.528419 \nL 447.917274 326.504242 \nL 448.438221 325.938187 \nL 448.959169 330.273208 \nL 449.480117 321.768348 \nL 450.001064 310.981762 \nL 450.522012 304.414468 \nL 451.04296 301.275463 \nL 451.563907 300.175859 \nL 452.084855 299.989465 \nL 452.605802 304.174465 \nL 453.12675 306.217402 \nL 453.647698 315.340594 \nL 454.168645 321.710945 \nL 454.689593 314.071981 \nL 455.21054 322.907024 \nL 455.731488 317.34144 \nL 456.252436 318.639752 \nL 456.773383 314.68863 \nL 457.294331 305.944757 \nL 457.815278 299.262049 \nL 458.336226 297.369791 \nL 458.857174 297.275882 \nL 459.378121 296.524175 \nL 459.899069 300.868645 \nL 460.940964 312.648255 \nL 461.461912 316.989506 \nL 461.982859 306.925807 \nL 462.503807 323.014698 \nL 463.024754 323.030711 \nL 463.545702 321.903862 \nL 464.06665 317.107538 \nL 464.587597 309.432007 \nL 465.108545 304.414366 \nL 465.629492 301.198274 \nL 466.15044 300.296778 \nL 466.671388 302.342967 \nL 467.192335 303.730874 \nL 467.713283 311.845794 \nL 468.23423 317.300412 \nL 468.755178 320.267443 \nL 469.276126 320.134203 \nL 469.797073 326.519995 \nL 470.318021 331.364843 \nL 470.838968 328.90517 \nL 471.359916 325.238874 \nL 472.401811 312.870765 \nL 472.922759 311.125154 \nL 473.443706 310.621737 \nL 473.964654 311.659636 \nL 474.485602 315.756999 \nL 475.006549 321.652495 \nL 476.048444 329.182595 \nL 476.569392 331.913873 \nL 477.09034 336.126729 \nL 477.611287 339.087173 \nL 478.132235 335.247614 \nL 479.695078 320.770389 \nL 480.216025 318.577866 \nL 480.736973 318.750859 \nL 481.25792 319.72428 \nL 481.778868 323.25046 \nL 482.299816 327.872913 \nL 482.820763 333.909048 \nL 483.341711 337.687304 \nL 483.862658 339.524063 \nL 484.383606 338.651957 \nL 485.946449 318.210099 \nL 486.467396 309.166981 \nL 486.988344 307.537781 \nL 488.030239 305.416472 \nL 488.551187 310.075912 \nL 489.072134 311.34427 \nL 489.593082 309.314484 \nL 490.11403 308.721764 \nL 490.634977 304.618197 \nL 491.155925 298.083598 \nL 491.676872 286.141976 \nL 492.19782 277.401592 \nL 493.239715 256.338396 \nL 493.760663 249.128511 \nL 494.28161 243.957719 \nL 494.802558 243.143936 \nL 495.323506 243.351427 \nL 495.844453 241.755592 \nL 496.365401 243.956139 \nL 497.407296 240.408261 \nL 497.928244 240.095557 \nL 498.449191 238.854161 \nL 498.970139 236.087247 \nL 500.012034 229.759276 \nL 500.532982 227.141806 \nL 501.053929 223.830459 \nL 501.574877 223.45247 \nL 502.095824 222.825418 \nL 502.616772 221.673811 \nL 503.658667 218.295173 \nL 504.179615 220.704936 \nL 504.700562 219.629196 \nL 505.22151 221.323356 \nL 505.742458 220.170721 \nL 506.263405 217.221075 \nL 506.784353 218.396855 \nL 507.305301 216.900308 \nL 507.826248 218.204473 \nL 508.347196 217.839043 \nL 508.868143 217.981822 \nL 509.389091 216.940885 \nL 509.389091 216.940885 \n\" clip-path=\"url(#pe427f0c470)\" style=\"fill: none; stroke: #348abd; stroke-width: 3; stroke-linecap: square\"/>\n   </g>\n   <g id=\"patch_3\">\n    <path d=\"M 83.28 359.517187 \nL 83.28 26.877187 \n\" style=\"fill: none; stroke: #bcbcbc; stroke-width: 0.8; stroke-linejoin: miter; stroke-linecap: square\"/>\n   </g>\n   <g id=\"patch_4\">\n    <path d=\"M 529.68 359.517187 \nL 529.68 26.877187 \n\" style=\"fill: none; stroke: #bcbcbc; stroke-width: 0.8; stroke-linejoin: miter; stroke-linecap: square\"/>\n   </g>\n   <g id=\"patch_5\">\n    <path d=\"M 83.28 359.517187 \nL 529.68 359.517187 \n\" style=\"fill: none; stroke: #bcbcbc; stroke-width: 0.8; stroke-linejoin: miter; stroke-linecap: square\"/>\n   </g>\n   <g id=\"patch_6\">\n    <path d=\"M 83.28 26.877187 \nL 529.68 26.877187 \n\" style=\"fill: none; stroke: #bcbcbc; stroke-width: 0.8; stroke-linejoin: miter; stroke-linecap: square\"/>\n   </g>\n   <g id=\"text_16\">\n    <!-- Gradient norm dynamics -->\n    <g transform=\"translate(194.903906 20.877187)scale(0.18 -0.18)\">\n     <defs>\n      <path id=\"DejaVuSans-47\" d=\"M 3809 666 \nL 3809 1919 \nL 2778 1919 \nL 2778 2438 \nL 4434 2438 \nL 4434 434 \nQ 4069 175 3628 42 \nQ 3188 -91 2688 -91 \nQ 1594 -91 976 548 \nQ 359 1188 359 2328 \nQ 359 3472 976 4111 \nQ 1594 4750 2688 4750 \nQ 3144 4750 3555 4637 \nQ 3966 4525 4313 4306 \nL 4313 3634 \nQ 3963 3931 3569 4081 \nQ 3175 4231 2741 4231 \nQ 1884 4231 1454 3753 \nQ 1025 3275 1025 2328 \nQ 1025 1384 1454 906 \nQ 1884 428 2741 428 \nQ 3075 428 3337 486 \nQ 3600 544 3809 666 \nz\n\" transform=\"scale(0.015625)\"/>\n      <path id=\"DejaVuSans-72\" d=\"M 2631 2963 \nQ 2534 3019 2420 3045 \nQ 2306 3072 2169 3072 \nQ 1681 3072 1420 2755 \nQ 1159 2438 1159 1844 \nL 1159 0 \nL 581 0 \nL 581 3500 \nL 1159 3500 \nL 1159 2956 \nQ 1341 3275 1631 3429 \nQ 1922 3584 2338 3584 \nQ 2397 3584 2469 3576 \nQ 2541 3569 2628 3553 \nL 2631 2963 \nz\n\" transform=\"scale(0.015625)\"/>\n      <path id=\"DejaVuSans-61\" d=\"M 2194 1759 \nQ 1497 1759 1228 1600 \nQ 959 1441 959 1056 \nQ 959 750 1161 570 \nQ 1363 391 1709 391 \nQ 2188 391 2477 730 \nQ 2766 1069 2766 1631 \nL 2766 1759 \nL 2194 1759 \nz\nM 3341 1997 \nL 3341 0 \nL 2766 0 \nL 2766 531 \nQ 2569 213 2275 61 \nQ 1981 -91 1556 -91 \nQ 1019 -91 701 211 \nQ 384 513 384 1019 \nQ 384 1609 779 1909 \nQ 1175 2209 1959 2209 \nL 2766 2209 \nL 2766 2266 \nQ 2766 2663 2505 2880 \nQ 2244 3097 1772 3097 \nQ 1472 3097 1187 3025 \nQ 903 2953 641 2809 \nL 641 3341 \nQ 956 3463 1253 3523 \nQ 1550 3584 1831 3584 \nQ 2591 3584 2966 3190 \nQ 3341 2797 3341 1997 \nz\n\" transform=\"scale(0.015625)\"/>\n      <path id=\"DejaVuSans-64\" d=\"M 2906 2969 \nL 2906 4863 \nL 3481 4863 \nL 3481 0 \nL 2906 0 \nL 2906 525 \nQ 2725 213 2448 61 \nQ 2172 -91 1784 -91 \nQ 1150 -91 751 415 \nQ 353 922 353 1747 \nQ 353 2572 751 3078 \nQ 1150 3584 1784 3584 \nQ 2172 3584 2448 3432 \nQ 2725 3281 2906 2969 \nz\nM 947 1747 \nQ 947 1113 1208 752 \nQ 1469 391 1925 391 \nQ 2381 391 2643 752 \nQ 2906 1113 2906 1747 \nQ 2906 2381 2643 2742 \nQ 2381 3103 1925 3103 \nQ 1469 3103 1208 2742 \nQ 947 2381 947 1747 \nz\n\" transform=\"scale(0.015625)\"/>\n      <path id=\"DejaVuSans-69\" d=\"M 603 3500 \nL 1178 3500 \nL 1178 0 \nL 603 0 \nL 603 3500 \nz\nM 603 4863 \nL 1178 4863 \nL 1178 4134 \nL 603 4134 \nL 603 4863 \nz\n\" transform=\"scale(0.015625)\"/>\n      <path id=\"DejaVuSans-6e\" d=\"M 3513 2113 \nL 3513 0 \nL 2938 0 \nL 2938 2094 \nQ 2938 2591 2744 2837 \nQ 2550 3084 2163 3084 \nQ 1697 3084 1428 2787 \nQ 1159 2491 1159 1978 \nL 1159 0 \nL 581 0 \nL 581 3500 \nL 1159 3500 \nL 1159 2956 \nQ 1366 3272 1645 3428 \nQ 1925 3584 2291 3584 \nQ 2894 3584 3203 3211 \nQ 3513 2838 3513 2113 \nz\n\" transform=\"scale(0.015625)\"/>\n      <path id=\"DejaVuSans-20\" transform=\"scale(0.015625)\"/>\n      <path id=\"DejaVuSans-6f\" d=\"M 1959 3097 \nQ 1497 3097 1228 2736 \nQ 959 2375 959 1747 \nQ 959 1119 1226 758 \nQ 1494 397 1959 397 \nQ 2419 397 2687 759 \nQ 2956 1122 2956 1747 \nQ 2956 2369 2687 2733 \nQ 2419 3097 1959 3097 \nz\nM 1959 3584 \nQ 2709 3584 3137 3096 \nQ 3566 2609 3566 1747 \nQ 3566 888 3137 398 \nQ 2709 -91 1959 -91 \nQ 1206 -91 779 398 \nQ 353 888 353 1747 \nQ 353 2609 779 3096 \nQ 1206 3584 1959 3584 \nz\n\" transform=\"scale(0.015625)\"/>\n      <path id=\"DejaVuSans-6d\" d=\"M 3328 2828 \nQ 3544 3216 3844 3400 \nQ 4144 3584 4550 3584 \nQ 5097 3584 5394 3201 \nQ 5691 2819 5691 2113 \nL 5691 0 \nL 5113 0 \nL 5113 2094 \nQ 5113 2597 4934 2840 \nQ 4756 3084 4391 3084 \nQ 3944 3084 3684 2787 \nQ 3425 2491 3425 1978 \nL 3425 0 \nL 2847 0 \nL 2847 2094 \nQ 2847 2600 2669 2842 \nQ 2491 3084 2119 3084 \nQ 1678 3084 1418 2786 \nQ 1159 2488 1159 1978 \nL 1159 0 \nL 581 0 \nL 581 3500 \nL 1159 3500 \nL 1159 2956 \nQ 1356 3278 1631 3431 \nQ 1906 3584 2284 3584 \nQ 2666 3584 2933 3390 \nQ 3200 3197 3328 2828 \nz\n\" transform=\"scale(0.015625)\"/>\n      <path id=\"DejaVuSans-79\" d=\"M 2059 -325 \nQ 1816 -950 1584 -1140 \nQ 1353 -1331 966 -1331 \nL 506 -1331 \nL 506 -850 \nL 844 -850 \nQ 1081 -850 1212 -737 \nQ 1344 -625 1503 -206 \nL 1606 56 \nL 191 3500 \nL 800 3500 \nL 1894 763 \nL 2988 3500 \nL 3597 3500 \nL 2059 -325 \nz\n\" transform=\"scale(0.015625)\"/>\n      <path id=\"DejaVuSans-63\" d=\"M 3122 3366 \nL 3122 2828 \nQ 2878 2963 2633 3030 \nQ 2388 3097 2138 3097 \nQ 1578 3097 1268 2742 \nQ 959 2388 959 1747 \nQ 959 1106 1268 751 \nQ 1578 397 2138 397 \nQ 2388 397 2633 464 \nQ 2878 531 3122 666 \nL 3122 134 \nQ 2881 22 2623 -34 \nQ 2366 -91 2075 -91 \nQ 1284 -91 818 406 \nQ 353 903 353 1747 \nQ 353 2603 823 3093 \nQ 1294 3584 2113 3584 \nQ 2378 3584 2631 3529 \nQ 2884 3475 3122 3366 \nz\n\" transform=\"scale(0.015625)\"/>\n     </defs>\n     <use xlink:href=\"#DejaVuSans-47\"/>\n     <use xlink:href=\"#DejaVuSans-72\" x=\"77.490234\"/>\n     <use xlink:href=\"#DejaVuSans-61\" x=\"118.603516\"/>\n     <use xlink:href=\"#DejaVuSans-64\" x=\"179.882812\"/>\n     <use xlink:href=\"#DejaVuSans-69\" x=\"243.359375\"/>\n     <use xlink:href=\"#DejaVuSans-65\" x=\"271.142578\"/>\n     <use xlink:href=\"#DejaVuSans-6e\" x=\"332.666016\"/>\n     <use xlink:href=\"#DejaVuSans-74\" x=\"396.044922\"/>\n     <use xlink:href=\"#DejaVuSans-20\" x=\"435.253906\"/>\n     <use xlink:href=\"#DejaVuSans-6e\" x=\"467.041016\"/>\n     <use xlink:href=\"#DejaVuSans-6f\" x=\"530.419922\"/>\n     <use xlink:href=\"#DejaVuSans-72\" x=\"591.601562\"/>\n     <use xlink:href=\"#DejaVuSans-6d\" x=\"630.964844\"/>\n     <use xlink:href=\"#DejaVuSans-20\" x=\"728.376953\"/>\n     <use xlink:href=\"#DejaVuSans-64\" x=\"760.164062\"/>\n     <use xlink:href=\"#DejaVuSans-79\" x=\"823.640625\"/>\n     <use xlink:href=\"#DejaVuSans-6e\" x=\"882.820312\"/>\n     <use xlink:href=\"#DejaVuSans-61\" x=\"946.199219\"/>\n     <use xlink:href=\"#DejaVuSans-6d\" x=\"1007.478516\"/>\n     <use xlink:href=\"#DejaVuSans-69\" x=\"1104.890625\"/>\n     <use xlink:href=\"#DejaVuSans-63\" x=\"1132.673828\"/>\n     <use xlink:href=\"#DejaVuSans-73\" x=\"1187.654297\"/>\n    </g>\n   </g>\n  </g>\n </g>\n <defs>\n  <clipPath id=\"pe427f0c470\">\n   <rect x=\"83.28\" y=\"26.877187\" width=\"446.4\" height=\"332.64\"/>\n  </clipPath>\n </defs>\n</svg>\n",
      "text/plain": [
       "<Figure size 800x600 with 1 Axes>"
      ]
     },
     "metadata": {},
     "output_type": "display_data"
    }
   ],
   "source": [
    "plot(\n",
    "    jnp.arange(grads.size), \n",
    "    [grads],\n",
    "    yscale='log',\n",
    "    xlabel='Steps',\n",
    "    ylabel='$\\|\\Delta{B}\\|_2$',\n",
    "    title='Gradient norm dynamics'\n",
    "    )"
   ]
  },
  {
   "cell_type": "markdown",
   "id": "ba87a2af",
   "metadata": {},
   "source": [
    "# Calculating The Error Rate"
   ]
  },
  {
   "cell_type": "code",
   "execution_count": 48,
   "id": "dfcc6766",
   "metadata": {},
   "outputs": [],
   "source": [
    "er_train = error_rate(mps, data=(train_samples, train_labels))\n",
    "er_test = error_rate(mps, data=(test_samples, test_labels))"
   ]
  },
  {
   "cell_type": "code",
   "execution_count": 49,
   "id": "6b7183a6",
   "metadata": {},
   "outputs": [
    {
     "name": "stdout",
     "output_type": "stream",
     "text": [
      "Error rate train: 0.09 \t|\tError rate test: 0.08 \n"
     ]
    }
   ],
   "source": [
    "print(f'Error rate train: {er_train:<5.2f}\\t|\\tError rate test: {er_test:<5.2f}')"
   ]
  },
  {
   "cell_type": "markdown",
   "id": "5956d435",
   "metadata": {},
   "source": [
    "# Varia"
   ]
  },
  {
   "cell_type": "markdown",
   "id": "e091a3eb",
   "metadata": {},
   "source": [
    "Below is a piece of code that was used to check if the gradient is computed correctly. The plotted two lines must be parallel to each other if this is the case (up to some numerical accuracy)."
   ]
  },
  {
   "cell_type": "code",
   "execution_count": null,
   "id": "c0b66987",
   "metadata": {},
   "outputs": [],
   "source": [
    "# def plot_taylor_apprx(β, data, num_iter=30):\n",
    "#     dotp = lambda x,y : jnp.einsum('...,...->', x, y)\n",
    "#     dβ = grad(β, data)\n",
    "#     Δ = jax.random.uniform(key, shape=β.shape)\n",
    "#     f = loss(β, data)\n",
    "\n",
    "#     apprx, norms = [], []\n",
    "#     for _ in range(num_iter):\n",
    "#         Δf = loss(β + Δ, data)\n",
    "#         apprx.append(jnp.linalg.norm(Δf - f - dotp(dβ, Δ)))\n",
    "#         norms.append(dotp(Δ, Δ))\n",
    "#         Δ /= 2\n",
    "\n",
    "#     plot(jnp.arange(num_iter), [apprx, norms],\n",
    "#          yscale='log', legend=['$\\|f(x+Δx) - f(x) - ⟨∇f,Δx⟩\\|^2$', '$\\|Δx\\|^2$'],\n",
    "#          xlabel='Iterations', ylabel='$log{\\|\\cdot\\|^2}$')\n",
    "\n",
    "# pos = 0\n",
    "# B = jnp.einsum('pikl,kjq->pijql', mps[pos], mps[pos+1])\n",
    "# inputs = train_samples[:,pos:pos+2,:]\n",
    "# left_wing = jnp.ones(shape=(num_samples,1))\n",
    "# Φ = [left_wing, inputs, wings[pos+2]]\n",
    "\n",
    "# plot_taylor_apprx(B, data=(Φ, train_labels))"
   ]
  },
  {
   "cell_type": "markdown",
   "id": "e481d465",
   "metadata": {},
   "source": [
    "The code below was tried to adaptively change bond dimensions, but it did not show any visible improvement."
   ]
  },
  {
   "cell_type": "code",
   "execution_count": null,
   "id": "9f6d753e",
   "metadata": {},
   "outputs": [],
   "source": [
    "# def suggest_truncation(\n",
    "#         λ: Vector,\n",
    "#         ε: float,      # truncation error tolerance\n",
    "#     ) -> Tuple[jnp.ndarray, jnp.ndarray, int]:\n",
    "#     \"\"\"\n",
    "#     Suggest a truncation index of the spectrum \n",
    "#     such that the truncation error is lower than ε.\n",
    "#     The spectrum is assumed to be in the descending order.\n",
    "#     \"\"\"\n",
    "#     cum_sums = jnp.cumsum(λ / jnp.sum(λ))\n",
    "#     return jnp.searchsorted(cum_sums, 1-ε)"
   ]
  }
 ],
 "metadata": {
  "interpreter": {
   "hash": "491c24a142a80d3977295064d21745099a3ab7c738b1de1da02864e704be2f87"
  },
  "kernelspec": {
   "display_name": "Python 3",
   "language": "python",
   "name": "python3"
  },
  "language_info": {
   "codemirror_mode": {
    "name": "ipython",
    "version": 3
   },
   "file_extension": ".py",
   "mimetype": "text/x-python",
   "name": "python",
   "nbconvert_exporter": "python",
   "pygments_lexer": "ipython3",
   "version": "3.8.5"
  },
  "varInspector": {
   "cols": {
    "lenName": 16,
    "lenType": 16,
    "lenVar": 40
   },
   "kernels_config": {
    "python": {
     "delete_cmd_postfix": "",
     "delete_cmd_prefix": "del ",
     "library": "var_list.py",
     "varRefreshCmd": "print(var_dic_list())"
    },
    "r": {
     "delete_cmd_postfix": ") ",
     "delete_cmd_prefix": "rm(",
     "library": "var_list.r",
     "varRefreshCmd": "cat(var_dic_list()) "
    }
   },
   "types_to_exclude": [
    "module",
    "function",
    "builtin_function_or_method",
    "instance",
    "_Feature"
   ],
   "window_display": false
  }
 },
 "nbformat": 4,
 "nbformat_minor": 5
}
