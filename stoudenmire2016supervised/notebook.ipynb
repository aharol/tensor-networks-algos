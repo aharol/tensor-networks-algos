{
 "cells": [
  {
   "cell_type": "markdown",
   "id": "90342c19",
   "metadata": {},
   "source": [
    "# About\n",
    "\n",
    "- `Title:` \"Supervised Learning with Quantum-Inspired Tensor Networks\"\n",
    "- `Main Author:` Miles E. Stoudenmire\n",
    "- `Source:` [ArXiv](https://arxiv.org/abs/1605.05775)\n",
    "- `Publish Date:` 18-05-2017\n",
    "- `Reviewed Date:` 22-10-2021\n",
    "\n",
    "## Citation\n",
    "\n",
    "```latex\n",
    "@article{stoudenmire2016supervised,\n",
    "  title={Supervised learning with tensor networks},\n",
    "  author={Stoudenmire, Edwin and Schwab, David J},\n",
    "  journal={Advances in Neural Information Processing Systems},\n",
    "  volume={29},\n",
    "  year={2016}\n",
    "}\n",
    "```"
   ]
  },
  {
   "cell_type": "code",
   "execution_count": 1,
   "id": "c777985e",
   "metadata": {},
   "outputs": [],
   "source": [
    "%load_ext autoreload\n",
    "%autoreload 2"
   ]
  },
  {
   "cell_type": "code",
   "execution_count": 2,
   "id": "516a8cc3",
   "metadata": {},
   "outputs": [
    {
     "name": "stdout",
     "output_type": "stream",
     "text": [
      "env: JAX_ENABLE_X64=1\n",
      "env: JAX_PLATFORM_NAME=cpu\n"
     ]
    }
   ],
   "source": [
    "%env JAX_ENABLE_X64=1\n",
    "%env JAX_PLATFORM_NAME=cpu"
   ]
  },
  {
   "cell_type": "markdown",
   "id": "8b2569a1",
   "metadata": {},
   "source": [
    "# Installing dependencies"
   ]
  },
  {
   "cell_type": "code",
   "execution_count": 3,
   "id": "5c02a783",
   "metadata": {},
   "outputs": [],
   "source": [
    "# uncomment the line below when running for the first time\n",
    "# !pip install --upgrade jax jaxlib matplotlib"
   ]
  },
  {
   "cell_type": "markdown",
   "id": "82c61e55",
   "metadata": {},
   "source": [
    "# Imports and settings"
   ]
  },
  {
   "cell_type": "code",
   "execution_count": 4,
   "id": "80210565",
   "metadata": {},
   "outputs": [],
   "source": [
    "import jax\n",
    "import jax.numpy as jnp"
   ]
  },
  {
   "cell_type": "code",
   "execution_count": 5,
   "id": "933bc00f",
   "metadata": {},
   "outputs": [],
   "source": [
    "import itertools\n",
    "import functools"
   ]
  },
  {
   "cell_type": "code",
   "execution_count": 6,
   "id": "6b833c47",
   "metadata": {},
   "outputs": [],
   "source": [
    "from typing import Any, List, Tuple, Callable, Optional"
   ]
  },
  {
   "cell_type": "code",
   "execution_count": 7,
   "id": "833a9ddf",
   "metadata": {},
   "outputs": [],
   "source": [
    "from plotting import plot, show_img_grid, set_figsize"
   ]
  },
  {
   "cell_type": "code",
   "execution_count": 8,
   "id": "aedaa9a0",
   "metadata": {},
   "outputs": [],
   "source": [
    "import dataset  # MNIST downloader"
   ]
  },
  {
   "cell_type": "markdown",
   "id": "7cc61c86",
   "metadata": {},
   "source": [
    "## Type Aliaces"
   ]
  },
  {
   "cell_type": "code",
   "execution_count": 9,
   "id": "a90da14d",
   "metadata": {},
   "outputs": [],
   "source": [
    "# type alias\n",
    "Key = Any\n",
    "\n",
    "Scalar = jnp.double\n",
    "Vector = jnp.ndarray\n",
    "Matrix = jnp.ndarray\n",
    "Tensor = jnp.ndarray\n",
    "\n",
    "MPS = List[Tensor]"
   ]
  },
  {
   "cell_type": "markdown",
   "id": "9462d629",
   "metadata": {},
   "source": [
    "# Constants"
   ]
  },
  {
   "cell_type": "code",
   "execution_count": 10,
   "id": "c4831051",
   "metadata": {},
   "outputs": [],
   "source": [
    "# WARNING: to avoid unnecessary truncation, set bond_dim>=num_classes\n",
    "bond_dim = 20       # the paper mentions 10, 20 and 120\n",
    "                    \n",
    "α = 5e-5            # learning rate\n",
    "num_sweeps = 4     # number of sweeps\n",
    "train_size = 20000  # training set size"
   ]
  },
  {
   "cell_type": "markdown",
   "id": "fd1aa8ec",
   "metadata": {},
   "source": [
    "# PRN Key"
   ]
  },
  {
   "cell_type": "code",
   "execution_count": 11,
   "id": "5b105cd8",
   "metadata": {},
   "outputs": [],
   "source": [
    "key = jax.random.PRNGKey(seed=321)"
   ]
  },
  {
   "cell_type": "markdown",
   "id": "39226049",
   "metadata": {},
   "source": [
    "# Load data and visualise"
   ]
  },
  {
   "cell_type": "code",
   "execution_count": 12,
   "id": "04241b2d",
   "metadata": {},
   "outputs": [],
   "source": [
    "train_images, train_labels, test_images, test_labels = dataset.mnist()"
   ]
  },
  {
   "cell_type": "code",
   "execution_count": 13,
   "id": "31df393a",
   "metadata": {},
   "outputs": [
    {
     "name": "stdout",
     "output_type": "stream",
     "text": [
      "Train data shape: (60000, 784) | Test data shape: (10000, 784)\n"
     ]
    }
   ],
   "source": [
    "print(f'Train data shape: {train_images.shape} | Test data shape: {test_images.shape}')"
   ]
  },
  {
   "cell_type": "markdown",
   "id": "2420bc94",
   "metadata": {},
   "source": [
    "Subsample data to reduce numerical cost."
   ]
  },
  {
   "cell_type": "code",
   "execution_count": 14,
   "id": "74a4719e",
   "metadata": {},
   "outputs": [],
   "source": [
    "def subsample_data(\n",
    "        key: Key, \n",
    "        data: Matrix, \n",
    "        amount: int\n",
    "    ) -> Matrix:\n",
    "    \"\"\"A helper to sub-sample data\"\"\"\n",
    "    samples, labels = data        \n",
    "    new_key, _ = jax.random.split(key)\n",
    "    idx = jnp.arange(labels.shape[0])\n",
    "    perm = jax.random.permutation(new_key, idx)\n",
    "    return samples[perm][:amount], labels[perm][:amount]\n",
    "\n",
    "train_images, train_labels = subsample_data(key, data=(train_images, train_labels), amount=train_size)"
   ]
  },
  {
   "cell_type": "code",
   "execution_count": 15,
   "id": "308302f6",
   "metadata": {},
   "outputs": [
    {
     "name": "stdout",
     "output_type": "stream",
     "text": [
      "Train data shape: (20000, 784) | Test data shape: (10000, 784)\n"
     ]
    }
   ],
   "source": [
    "print(f'Train data shape: {train_images.shape} | Test data shape: {test_images.shape}')"
   ]
  },
  {
   "cell_type": "code",
   "execution_count": 16,
   "id": "3233b067",
   "metadata": {},
   "outputs": [
    {
     "data": {
      "image/svg+xml": "<?xml version=\"1.0\" encoding=\"utf-8\" standalone=\"no\"?>\n<!DOCTYPE svg PUBLIC \"-//W3C//DTD SVG 1.1//EN\"\n  \"http://www.w3.org/Graphics/SVG/1.1/DTD/svg11.dtd\">\n<svg xmlns:xlink=\"http://www.w3.org/1999/xlink\" width=\"265.023529pt\" height=\"276.718594pt\" viewBox=\"0 0 265.023529 276.718594\" xmlns=\"http://www.w3.org/2000/svg\" version=\"1.1\">\n <metadata>\n  <rdf:RDF xmlns:dc=\"http://purl.org/dc/elements/1.1/\" xmlns:cc=\"http://creativecommons.org/ns#\" xmlns:rdf=\"http://www.w3.org/1999/02/22-rdf-syntax-ns#\">\n   <cc:Work>\n    <dc:type rdf:resource=\"http://purl.org/dc/dcmitype/StillImage\"/>\n    <dc:date>2022-05-08T21:20:50.969815</dc:date>\n    <dc:format>image/svg+xml</dc:format>\n    <dc:creator>\n     <cc:Agent>\n      <dc:title>Matplotlib v3.5.2, https://matplotlib.org/</dc:title>\n     </cc:Agent>\n    </dc:creator>\n   </cc:Work>\n  </rdf:RDF>\n </metadata>\n <defs>\n  <style type=\"text/css\">*{stroke-linejoin: round; stroke-linecap: butt}</style>\n </defs>\n <g id=\"figure_1\">\n  <g id=\"patch_1\">\n   <path d=\"M 0 276.718594 \nL 265.023529 276.718594 \nL 265.023529 0 \nL 0 0 \nz\n\" style=\"fill: #ffffff\"/>\n  </g>\n  <g id=\"axes_1\">\n   <g id=\"patch_2\">\n    <path d=\"M 7.2 93.415064 \nL 80.576471 93.415064 \nL 80.576471 20.038594 \nL 7.2 20.038594 \nz\n\" style=\"fill: #eeeeee\"/>\n   </g>\n   <g clip-path=\"url(#p75328f710e)\">\n    <image xlink:href=\"data:image/png;base64,\niVBORw0KGgoAAAANSUhEUgAAAGYAAABmCAYAAAA53+RiAAADGUlEQVR4nO2cMY8pURTHx/M0GtEQEgWJVlDoqURvCyoJkWhFoZf4BAqJqBR8Bg0aNQqFZBNREKVC63U3c27e2n3vzez8x/v/qnNykt0rv5x779y5eB6Px8MgcPxwegDk91AMKBQDCsWAQjGgUAwoP50ewGfsdjuRZzIZFYdCIVHb7/ciDwQC9g3MZtgxoFAMKBQDCvwaM5vNRG4+QTqfz6J2u91EzjWGWA7FgEIxoHjQj/1Pp5PI4/G4ivWhT6dTkZfLZfsGZjPsGFAoBhT47XI4HBZ5rVZT8Wg0ErXtdityTmXEcigGFIoBBX67/Ayv1ytyj8cjcvNrgGQy+S1jsgp2DCgUAwrFgAL/HPOMz5bHw+GgYq4xxBIoBhRXb5ej0ajIr9eryNPptIrX67Wo+Xw+28ZlBewYUCgGFIoBxdVrjP7Gslqtitz80Y7Ho6jFYjH7BmYB7BhQKAYUV09lOoVCQeTL5VLFbruowY4BhWJAoRhQXH26rJNKpUS+WCxU7LYbNOwYUCgGFIoB5aWeY/Rj/0gkomL9Bo3+JSe/32/fwP4CdgwoFAPKS01lOtlsVsWbzUbUer2eyLvd7reM6auwY0ChGFAoBpSXOpLRKZVKKtaPZObzuci5xpAvQTGgUAwoL73GvL29qbjf7zs4kj+HHQMKxYDiyFR2v98/rFl5yhsMBlWsny6jw44BhWJAoRhQHFljGo2GyM0/oTgcDkXtX747+f7+rmK3vd1gx4BCMaBQDCiOrDH5fF7kzWZTxZVKRdQGg4HIc7nch39Xfz5qt9sq1p9jzDdoEGHHgEIxoEDckjFvn8fjsajpRzT1el3FrVZL1MxTomHIS+XmGzOGYRir1erp/3EadgwoFAMKxYACscaY0X+yV183zNtefej6ljiRSKh4MpmI2rNtNwLsGFAoBhSKAQVujdHRb1AWi0UVXy4XUTM/4xiGYXQ6HRXzpxeJJVAMKPBT2f8KOwYUigGFYkChGFAoBhSKAYViQKEYUCgGFIoBhWJAoRhQKAYUigGFYkChGFAoBhSKAYViQKEYUCgGlF8ctcGkAK92DgAAAABJRU5ErkJggg==\" id=\"image2dc550e12e\" transform=\"scale(1 -1)translate(0 -73.44)\" x=\"7.2\" y=\"-19.975064\" width=\"73.44\" height=\"73.44\"/>\n   </g>\n   <g id=\"matplotlib.axis_1\"/>\n   <g id=\"matplotlib.axis_2\"/>\n   <g id=\"patch_3\">\n    <path d=\"M 7.2 93.415064 \nL 7.2 20.038594 \n\" style=\"fill: none; stroke: #bcbcbc; stroke-width: 0.8; stroke-linejoin: miter; stroke-linecap: square\"/>\n   </g>\n   <g id=\"patch_4\">\n    <path d=\"M 80.576471 93.415064 \nL 80.576471 20.038594 \n\" style=\"fill: none; stroke: #bcbcbc; stroke-width: 0.8; stroke-linejoin: miter; stroke-linecap: square\"/>\n   </g>\n   <g id=\"patch_5\">\n    <path d=\"M 7.2 93.415064 \nL 80.576471 93.415064 \n\" style=\"fill: none; stroke: #bcbcbc; stroke-width: 0.8; stroke-linejoin: miter; stroke-linecap: square\"/>\n   </g>\n   <g id=\"patch_6\">\n    <path d=\"M 7.2 20.038594 \nL 80.576471 20.038594 \n\" style=\"fill: none; stroke: #bcbcbc; stroke-width: 0.8; stroke-linejoin: miter; stroke-linecap: square\"/>\n   </g>\n   <g id=\"text_1\">\n    <!-- label: 7 -->\n    <g transform=\"translate(27.195345 14.038594)scale(0.09 -0.09)\">\n     <defs>\n      <path id=\"DejaVuSans-6c\" d=\"M 603 4863 \nL 1178 4863 \nL 1178 0 \nL 603 0 \nL 603 4863 \nz\n\" transform=\"scale(0.015625)\"/>\n      <path id=\"DejaVuSans-61\" d=\"M 2194 1759 \nQ 1497 1759 1228 1600 \nQ 959 1441 959 1056 \nQ 959 750 1161 570 \nQ 1363 391 1709 391 \nQ 2188 391 2477 730 \nQ 2766 1069 2766 1631 \nL 2766 1759 \nL 2194 1759 \nz\nM 3341 1997 \nL 3341 0 \nL 2766 0 \nL 2766 531 \nQ 2569 213 2275 61 \nQ 1981 -91 1556 -91 \nQ 1019 -91 701 211 \nQ 384 513 384 1019 \nQ 384 1609 779 1909 \nQ 1175 2209 1959 2209 \nL 2766 2209 \nL 2766 2266 \nQ 2766 2663 2505 2880 \nQ 2244 3097 1772 3097 \nQ 1472 3097 1187 3025 \nQ 903 2953 641 2809 \nL 641 3341 \nQ 956 3463 1253 3523 \nQ 1550 3584 1831 3584 \nQ 2591 3584 2966 3190 \nQ 3341 2797 3341 1997 \nz\n\" transform=\"scale(0.015625)\"/>\n      <path id=\"DejaVuSans-62\" d=\"M 3116 1747 \nQ 3116 2381 2855 2742 \nQ 2594 3103 2138 3103 \nQ 1681 3103 1420 2742 \nQ 1159 2381 1159 1747 \nQ 1159 1113 1420 752 \nQ 1681 391 2138 391 \nQ 2594 391 2855 752 \nQ 3116 1113 3116 1747 \nz\nM 1159 2969 \nQ 1341 3281 1617 3432 \nQ 1894 3584 2278 3584 \nQ 2916 3584 3314 3078 \nQ 3713 2572 3713 1747 \nQ 3713 922 3314 415 \nQ 2916 -91 2278 -91 \nQ 1894 -91 1617 61 \nQ 1341 213 1159 525 \nL 1159 0 \nL 581 0 \nL 581 4863 \nL 1159 4863 \nL 1159 2969 \nz\n\" transform=\"scale(0.015625)\"/>\n      <path id=\"DejaVuSans-65\" d=\"M 3597 1894 \nL 3597 1613 \nL 953 1613 \nQ 991 1019 1311 708 \nQ 1631 397 2203 397 \nQ 2534 397 2845 478 \nQ 3156 559 3463 722 \nL 3463 178 \nQ 3153 47 2828 -22 \nQ 2503 -91 2169 -91 \nQ 1331 -91 842 396 \nQ 353 884 353 1716 \nQ 353 2575 817 3079 \nQ 1281 3584 2069 3584 \nQ 2775 3584 3186 3129 \nQ 3597 2675 3597 1894 \nz\nM 3022 2063 \nQ 3016 2534 2758 2815 \nQ 2500 3097 2075 3097 \nQ 1594 3097 1305 2825 \nQ 1016 2553 972 2059 \nL 3022 2063 \nz\n\" transform=\"scale(0.015625)\"/>\n      <path id=\"DejaVuSans-3a\" d=\"M 750 794 \nL 1409 794 \nL 1409 0 \nL 750 0 \nL 750 794 \nz\nM 750 3309 \nL 1409 3309 \nL 1409 2516 \nL 750 2516 \nL 750 3309 \nz\n\" transform=\"scale(0.015625)\"/>\n      <path id=\"DejaVuSans-20\" transform=\"scale(0.015625)\"/>\n      <path id=\"DejaVuSans-37\" d=\"M 525 4666 \nL 3525 4666 \nL 3525 4397 \nL 1831 0 \nL 1172 0 \nL 2766 4134 \nL 525 4134 \nL 525 4666 \nz\n\" transform=\"scale(0.015625)\"/>\n     </defs>\n     <use xlink:href=\"#DejaVuSans-6c\"/>\n     <use xlink:href=\"#DejaVuSans-61\" x=\"27.783203\"/>\n     <use xlink:href=\"#DejaVuSans-62\" x=\"89.0625\"/>\n     <use xlink:href=\"#DejaVuSans-65\" x=\"152.539062\"/>\n     <use xlink:href=\"#DejaVuSans-6c\" x=\"214.0625\"/>\n     <use xlink:href=\"#DejaVuSans-3a\" x=\"241.845703\"/>\n     <use xlink:href=\"#DejaVuSans-20\" x=\"275.537109\"/>\n     <use xlink:href=\"#DejaVuSans-37\" x=\"307.324219\"/>\n    </g>\n   </g>\n  </g>\n  <g id=\"axes_2\">\n   <g id=\"patch_7\">\n    <path d=\"M 95.823529 93.415064 \nL 169.2 93.415064 \nL 169.2 20.038594 \nL 95.823529 20.038594 \nz\n\" style=\"fill: #eeeeee\"/>\n   </g>\n   <g clip-path=\"url(#p3af9d8550e)\">\n    <image xlink:href=\"data:image/png;base64,\niVBORw0KGgoAAAANSUhEUgAAAGYAAABmCAYAAAA53+RiAAADRklEQVR4nO2cPWsqQRSGYyLxA4IgBBQj2qVTCxslIjaW+Qn5BanS2djZmF9hHUs7KwnYhnTBRqKNEEUDFkGD3m7unLnX9aK75l3v+1TncNjNhCdnZt2Z6Fmv1+sTAsfpTw+A/B2KAYViQKEYUCgGFIoBhWJAoRhQKAYUigHF+9MD2Iflciny1Wolcq/39693dnZ2kDHZBTsGFIoBhWJA8bj5tf/Dw4PIG42GyFOplIrb7bao6esPIuwYUCgGFOx+3kI4HBb5dDoVeafTUfHz87OolUol5wZmA+wYUCgGFIoBxdWPy5+fnyKPx+Min8/nKq5UKqJWq9WcG5gNsGNAoRhQKAYUV3+OCYVCIr+6uhL529ubinu93kHGZBfsGFAoBhRXT2UmhUJB5PpU1u12RW2xWIj8/PzcuYHtADsGFIoBhWJAOao1Jp1Ob6yZb57Q30SxY0ChGFCOairLZrMba6PRyDJPJBKOjGlX2DGgUAwoFAMK3A7m19eXyOv1usgHg4GKzZMvw+HQ8l46uVxO5PormlgstvE6n88ncnMXNZ/Pq7harW68zzbYMaBQDCgUAwrcGjMej0WeTCZFrq8F39/fonZ6Kv/OzH9kskK/1u/3i1okElHx7e2tqBWLRZGXy2UVBwKBf/75f4xn5yuJo1AMKHBT2Tb0x9OPjw9RM3chzWlQxzzwd3d3p2Krx+VDwY4BhWJAoRhQXPfaXz/kZx74M0++WHF9fS1yhHVFhx0DCsWAQjGguG6NscJlH8ksYceAQjGgHNVUpu9uuh12DCgUAwrFgOLYGqPvLpo7jeYOoV20Wi1H7vsTsGNAoRhQKAaUvbaW39/fVdxsNkXt6elJxf1+X9TMU5A3NzcqNr+yNxqNivzi4kLFLy8vovb4+Chy/V7BYFDUzDFdXl6eIMGOAYViQNlrKtPbfzKZ7DwIfQgej2fn+5jX6l+FdX9/L2r6IT5E2DGgUAwoFAPKXmvM6+urimezmR3j2YtMJiNy8xSNm2DHgEIxoFAMKK477f+/wI4BhWJAoRhQKAYUigGFYkChGFAoBhSKAYViQKEYUCgGFIoBhWJAoRhQKAYUigGFYkChGFAoBhSKAYViQKEYUCgGlF+9nMnm/OZPOAAAAABJRU5ErkJggg==\" id=\"image7b68075fb4\" transform=\"scale(1 -1)translate(0 -73.44)\" x=\"95.823529\" y=\"-19.975064\" width=\"73.44\" height=\"73.44\"/>\n   </g>\n   <g id=\"matplotlib.axis_3\"/>\n   <g id=\"matplotlib.axis_4\"/>\n   <g id=\"patch_8\">\n    <path d=\"M 95.823529 93.415064 \nL 95.823529 20.038594 \n\" style=\"fill: none; stroke: #bcbcbc; stroke-width: 0.8; stroke-linejoin: miter; stroke-linecap: square\"/>\n   </g>\n   <g id=\"patch_9\">\n    <path d=\"M 169.2 93.415064 \nL 169.2 20.038594 \n\" style=\"fill: none; stroke: #bcbcbc; stroke-width: 0.8; stroke-linejoin: miter; stroke-linecap: square\"/>\n   </g>\n   <g id=\"patch_10\">\n    <path d=\"M 95.823529 93.415064 \nL 169.2 93.415064 \n\" style=\"fill: none; stroke: #bcbcbc; stroke-width: 0.8; stroke-linejoin: miter; stroke-linecap: square\"/>\n   </g>\n   <g id=\"patch_11\">\n    <path d=\"M 95.823529 20.038594 \nL 169.2 20.038594 \n\" style=\"fill: none; stroke: #bcbcbc; stroke-width: 0.8; stroke-linejoin: miter; stroke-linecap: square\"/>\n   </g>\n   <g id=\"text_2\">\n    <!-- label: 7 -->\n    <g transform=\"translate(115.818874 14.038594)scale(0.09 -0.09)\">\n     <use xlink:href=\"#DejaVuSans-6c\"/>\n     <use xlink:href=\"#DejaVuSans-61\" x=\"27.783203\"/>\n     <use xlink:href=\"#DejaVuSans-62\" x=\"89.0625\"/>\n     <use xlink:href=\"#DejaVuSans-65\" x=\"152.539062\"/>\n     <use xlink:href=\"#DejaVuSans-6c\" x=\"214.0625\"/>\n     <use xlink:href=\"#DejaVuSans-3a\" x=\"241.845703\"/>\n     <use xlink:href=\"#DejaVuSans-20\" x=\"275.537109\"/>\n     <use xlink:href=\"#DejaVuSans-37\" x=\"307.324219\"/>\n    </g>\n   </g>\n  </g>\n  <g id=\"axes_3\">\n   <g id=\"patch_12\">\n    <path d=\"M 184.447059 93.415064 \nL 257.823529 93.415064 \nL 257.823529 20.038594 \nL 184.447059 20.038594 \nz\n\" style=\"fill: #eeeeee\"/>\n   </g>\n   <g clip-path=\"url(#pb7544453c1)\">\n    <image xlink:href=\"data:image/png;base64,\niVBORw0KGgoAAAANSUhEUgAAAGYAAABmCAYAAAA53+RiAAACwklEQVR4nO3csY4pUQCHcW5uNJot2EaiUIlCiEpEwxtsskH2AbzAFjyFB9CoROUFNCrF6iR4ABXZkkQ0bncy52TZu/fO8I38f9U5mcnmJF/ODGaJns/nc0Rwft17AfI1hYFSGCiFgVIYKIWBUhgohYFSGCiFgVIYKIWBUhgohYH6fe8FfGc2m1nzarV68dxut2vN39/fzfjp6cnXdQVNOwZKYaCi9CeYP7mUuZbLpRlns1nf1nQL2jFQCgOlMFD4l8vpdNqaPz8/m/Fut7v1cm5GOwZKYaAUBgr/PsZVLpfN+OPj4+q5jUbDjIfDYWBrCoJ2DJTCQOFfLrsqlYoZf3cpOxwOQS8nMNoxUAoDpTBQobvHNJtNM+71endcSbC0Y6AUBip0l7JkMmnGiUTCOvb5+WnNO53OTdYUBO0YKIWBUhio0H267FWv1635dDq15i8vL2Y8GAysY/F4PKhl+UI7BkphoBQGKnTvY7xyuZw1d+8x4/HYjFutlnXMe/8h0o6BUhioUL9cXiwW1rxYLF48t1arWfPJZBLImvyiHQOlMFAKA6UwUAoDpTBQCgOlMFAKA6UwUAoDpTBQCgOlMFChfoKZyWSseT6ft+bexwL7/d46djqdrHksFvN5df9HOwZKYaAUBirUj5Zdo9HImr+9vV081/1ibalUCmRN/0o7BkphoEL9ctlVKBTuvQTfaMdAKQyUwkA91D3mJ47H472XcJV2DJTCQCkMFP4es1qtrLn7ZSUv96P8a15fX635fD4341Qq9dd/JyjaMVAKA4W/lF27dLm/HeP91dhIJBKJRqNm7H6Ivt1urflmszFjXcrkIoWBUhgo/D3mGvf3ytbrtTXv9/tm3G63rWPuPYf2IFc7BkphoB7qnzEeiXYMlMJAKQyUwkApDJTCQCkMlMJAKQyUwkApDJTCQCkMlMJA/QF8GIdFGl+qJAAAAABJRU5ErkJggg==\" id=\"image9133e8d924\" transform=\"scale(1 -1)translate(0 -73.44)\" x=\"184.447059\" y=\"-19.975064\" width=\"73.44\" height=\"73.44\"/>\n   </g>\n   <g id=\"matplotlib.axis_5\"/>\n   <g id=\"matplotlib.axis_6\"/>\n   <g id=\"patch_13\">\n    <path d=\"M 184.447059 93.415064 \nL 184.447059 20.038594 \n\" style=\"fill: none; stroke: #bcbcbc; stroke-width: 0.8; stroke-linejoin: miter; stroke-linecap: square\"/>\n   </g>\n   <g id=\"patch_14\">\n    <path d=\"M 257.823529 93.415064 \nL 257.823529 20.038594 \n\" style=\"fill: none; stroke: #bcbcbc; stroke-width: 0.8; stroke-linejoin: miter; stroke-linecap: square\"/>\n   </g>\n   <g id=\"patch_15\">\n    <path d=\"M 184.447059 93.415064 \nL 257.823529 93.415064 \n\" style=\"fill: none; stroke: #bcbcbc; stroke-width: 0.8; stroke-linejoin: miter; stroke-linecap: square\"/>\n   </g>\n   <g id=\"patch_16\">\n    <path d=\"M 184.447059 20.038594 \nL 257.823529 20.038594 \n\" style=\"fill: none; stroke: #bcbcbc; stroke-width: 0.8; stroke-linejoin: miter; stroke-linecap: square\"/>\n   </g>\n   <g id=\"text_3\">\n    <!-- label: 1 -->\n    <g transform=\"translate(204.442403 14.038594)scale(0.09 -0.09)\">\n     <defs>\n      <path id=\"DejaVuSans-31\" d=\"M 794 531 \nL 1825 531 \nL 1825 4091 \nL 703 3866 \nL 703 4441 \nL 1819 4666 \nL 2450 4666 \nL 2450 531 \nL 3481 531 \nL 3481 0 \nL 794 0 \nL 794 531 \nz\n\" transform=\"scale(0.015625)\"/>\n     </defs>\n     <use xlink:href=\"#DejaVuSans-6c\"/>\n     <use xlink:href=\"#DejaVuSans-61\" x=\"27.783203\"/>\n     <use xlink:href=\"#DejaVuSans-62\" x=\"89.0625\"/>\n     <use xlink:href=\"#DejaVuSans-65\" x=\"152.539062\"/>\n     <use xlink:href=\"#DejaVuSans-6c\" x=\"214.0625\"/>\n     <use xlink:href=\"#DejaVuSans-3a\" x=\"241.845703\"/>\n     <use xlink:href=\"#DejaVuSans-20\" x=\"275.537109\"/>\n     <use xlink:href=\"#DejaVuSans-31\" x=\"307.324219\"/>\n    </g>\n   </g>\n  </g>\n  <g id=\"axes_4\">\n   <g id=\"patch_17\">\n    <path d=\"M 7.2 181.466829 \nL 80.576471 181.466829 \nL 80.576471 108.090358 \nL 7.2 108.090358 \nz\n\" style=\"fill: #eeeeee\"/>\n   </g>\n   <g clip-path=\"url(#p02c083c208)\">\n    <image xlink:href=\"data:image/png;base64,\niVBORw0KGgoAAAANSUhEUgAAAGYAAABmCAYAAAA53+RiAAAC4klEQVR4nO3cwao5YRgGcEd/FqyQlFKKPSvFBShloWTjHti6AhsXYGcll2Bto+xsWNkpJMVCJISz+5p3chxOM+YZ/+e3+t7G1FvPeedzJjNft9vt5iA4TqsboPsYDCgGA4rBgGIwoBgMKAYDisGAYjCgGAyof1Y38Krz+azW8/lcHKvX66JutVpqPRwOxbFkMml8cwbixIBiMKAYDKgvu932X61Wah0KhR5+1uVyqfXpdDKtJzNwYkAxGFC2+7r8ikqlYnULf8aJAcVgQDEYULbbYyaTydOfLRQK5jViMk4MKAYDisGAgt9jdrudqKvV6tPnRqNRg7t5H04MKAYDCv5SttlsRD0ej58+V/vZSCRiWE/vwIkBxWBAMRhQ8HuM3+8XtdvtVmvtL2buGQwGap3L5YxtzGScGFAMBhT8pWy73Yr6t8vXp+DEgGIwoBgMKPg9ptFoiPqVH+4Vi0Wj23kbTgwoBgOKwYCC32OWy+Wfz+33+2qdSCSMaOdtODGgGAwo+Odj1uu1qEulklr3er2H5/L5GDIcgwHFYEDBf10OBAKizmazav3bHnO9XtV6v9+LY16v14DuzMOJAcVgQDEYUPD/x+hNp1O1jsVi4tjlcvnxvHK5LOp2uy1qpxPrbxSrG1IYDCjbXcq08vm8qLvd7tPnal994nA4HMFg0JCejMKJAcVgQDEYUPC3ZMxyPB6tbuEhTgwoBgOKwYD6b/eYTqcj6lqtZlEn93FiQDEYULa+lKXTaVG/cktG+3wmIk4MKAYDisGAsvVtf/0rszKZjKhHo9GP5/p8PlHr31ljNU4MKAYDisGAsvUeo7dYLEQdj8fV+nA4iGMej0fUs9lMrfX7jxU4MaAYDChb35LRC4fDota+1TyVSoljzWZT1AiXLy1ODCgGA4rBgPqor8ufhBMDisGAYjCgGAwoBgOKwYBiMKAYDCgGA4rBgGIwoBgMKAYDisGAYjCgGAwoBgPqG5dVn35yJY92AAAAAElFTkSuQmCC\" id=\"image36deb7a61c\" transform=\"scale(1 -1)translate(0 -73.44)\" x=\"7.2\" y=\"-108.026829\" width=\"73.44\" height=\"73.44\"/>\n   </g>\n   <g id=\"matplotlib.axis_7\"/>\n   <g id=\"matplotlib.axis_8\"/>\n   <g id=\"patch_18\">\n    <path d=\"M 7.2 181.466829 \nL 7.2 108.090358 \n\" style=\"fill: none; stroke: #bcbcbc; stroke-width: 0.8; stroke-linejoin: miter; stroke-linecap: square\"/>\n   </g>\n   <g id=\"patch_19\">\n    <path d=\"M 80.576471 181.466829 \nL 80.576471 108.090358 \n\" style=\"fill: none; stroke: #bcbcbc; stroke-width: 0.8; stroke-linejoin: miter; stroke-linecap: square\"/>\n   </g>\n   <g id=\"patch_20\">\n    <path d=\"M 7.2 181.466829 \nL 80.576471 181.466829 \n\" style=\"fill: none; stroke: #bcbcbc; stroke-width: 0.8; stroke-linejoin: miter; stroke-linecap: square\"/>\n   </g>\n   <g id=\"patch_21\">\n    <path d=\"M 7.2 108.090358 \nL 80.576471 108.090358 \n\" style=\"fill: none; stroke: #bcbcbc; stroke-width: 0.8; stroke-linejoin: miter; stroke-linecap: square\"/>\n   </g>\n   <g id=\"text_4\">\n    <!-- label: 1 -->\n    <g transform=\"translate(27.195345 102.090358)scale(0.09 -0.09)\">\n     <use xlink:href=\"#DejaVuSans-6c\"/>\n     <use xlink:href=\"#DejaVuSans-61\" x=\"27.783203\"/>\n     <use xlink:href=\"#DejaVuSans-62\" x=\"89.0625\"/>\n     <use xlink:href=\"#DejaVuSans-65\" x=\"152.539062\"/>\n     <use xlink:href=\"#DejaVuSans-6c\" x=\"214.0625\"/>\n     <use xlink:href=\"#DejaVuSans-3a\" x=\"241.845703\"/>\n     <use xlink:href=\"#DejaVuSans-20\" x=\"275.537109\"/>\n     <use xlink:href=\"#DejaVuSans-31\" x=\"307.324219\"/>\n    </g>\n   </g>\n  </g>\n  <g id=\"axes_5\">\n   <g id=\"patch_22\">\n    <path d=\"M 95.823529 181.466829 \nL 169.2 181.466829 \nL 169.2 108.090358 \nL 95.823529 108.090358 \nz\n\" style=\"fill: #eeeeee\"/>\n   </g>\n   <g clip-path=\"url(#p9b16c62b6b)\">\n    <image xlink:href=\"data:image/png;base64,\niVBORw0KGgoAAAANSUhEUgAAAGYAAABmCAYAAAA53+RiAAACQ0lEQVR4nO3csYriUBhA4c2yIgjaiTY2FjbWgpUvICr4INbiUyn4KBaCCDZa6QvYuN3FhCGDTLKe656vuiFT3OHwJzMaTR6Px+OXcH6/ewP6mmGgDANlGCjDQBkGyjBQhoEyDJRhoAwDZRgow0AZBurPuzfwE5fLJXXc6XRSx9PpNKxXq1Xq3GAwKG9jBXBioAwDFfWlLEmS3PObzSass2/UrtfrMrZUGCcGyjBQhoGK+h5zv99zz8f8AJATA2UYKMNARX2PWSwWueef/88Zj8dlb6dQTgyUYaCivpS9YjKZvHsLL3FioAwDZRgow0AZBsowUIaBMgyUYaAMAxX1SzLD4TB1vN1uU8f9fj+sa7XaP9lTUZwYKMNAGQYq6nvM7XbLPT+fz8O60WiUvZ1COTFQhoGK+lK23+9Tx9kH/HzgT4UzDJRhoJKYv3pxNpuljrMvyTz/atnPa7bb7fI2VgAnBsowUIaBMgyUYaAMAxX1SzLfqVQqYf3ddwLQODFQhoEyDNRH32OWy2VYt1qtN+7kdU4MlGGgDAP10S/71+v1sD4cDqlzzWazvI0VwImBMgzUR/+5/PzZfh/4UyEMA2UYqOjuMefzOax3u13uz3a73bCuVqul7akMTgyUYaAMAxXdPeZ4PIb16XR630ZK5sRAGQbKMFCGgTIMlGGgonsH83q9hvVoNEqdy35Y9vm41+uVu7GCOTFQhoGK7lL2v3BioAwDZRgow0AZBsowUIaBMgyUYaAMA2UYKMNAGQbKMFB/AUj2YGp5q6+6AAAAAElFTkSuQmCC\" id=\"imagef199db79e8\" transform=\"scale(1 -1)translate(0 -73.44)\" x=\"95.823529\" y=\"-108.026829\" width=\"73.44\" height=\"73.44\"/>\n   </g>\n   <g id=\"matplotlib.axis_9\"/>\n   <g id=\"matplotlib.axis_10\"/>\n   <g id=\"patch_23\">\n    <path d=\"M 95.823529 181.466829 \nL 95.823529 108.090358 \n\" style=\"fill: none; stroke: #bcbcbc; stroke-width: 0.8; stroke-linejoin: miter; stroke-linecap: square\"/>\n   </g>\n   <g id=\"patch_24\">\n    <path d=\"M 169.2 181.466829 \nL 169.2 108.090358 \n\" style=\"fill: none; stroke: #bcbcbc; stroke-width: 0.8; stroke-linejoin: miter; stroke-linecap: square\"/>\n   </g>\n   <g id=\"patch_25\">\n    <path d=\"M 95.823529 181.466829 \nL 169.2 181.466829 \n\" style=\"fill: none; stroke: #bcbcbc; stroke-width: 0.8; stroke-linejoin: miter; stroke-linecap: square\"/>\n   </g>\n   <g id=\"patch_26\">\n    <path d=\"M 95.823529 108.090358 \nL 169.2 108.090358 \n\" style=\"fill: none; stroke: #bcbcbc; stroke-width: 0.8; stroke-linejoin: miter; stroke-linecap: square\"/>\n   </g>\n   <g id=\"text_5\">\n    <!-- label: 1 -->\n    <g transform=\"translate(115.818874 102.090358)scale(0.09 -0.09)\">\n     <use xlink:href=\"#DejaVuSans-6c\"/>\n     <use xlink:href=\"#DejaVuSans-61\" x=\"27.783203\"/>\n     <use xlink:href=\"#DejaVuSans-62\" x=\"89.0625\"/>\n     <use xlink:href=\"#DejaVuSans-65\" x=\"152.539062\"/>\n     <use xlink:href=\"#DejaVuSans-6c\" x=\"214.0625\"/>\n     <use xlink:href=\"#DejaVuSans-3a\" x=\"241.845703\"/>\n     <use xlink:href=\"#DejaVuSans-20\" x=\"275.537109\"/>\n     <use xlink:href=\"#DejaVuSans-31\" x=\"307.324219\"/>\n    </g>\n   </g>\n  </g>\n  <g id=\"axes_6\">\n   <g id=\"patch_27\">\n    <path d=\"M 184.447059 181.466829 \nL 257.823529 181.466829 \nL 257.823529 108.090358 \nL 184.447059 108.090358 \nz\n\" style=\"fill: #eeeeee\"/>\n   </g>\n   <g clip-path=\"url(#p175253e90a)\">\n    <image xlink:href=\"data:image/png;base64,\niVBORw0KGgoAAAANSUhEUgAAAGYAAABmCAYAAAA53+RiAAAEw0lEQVR4nO2dyyt2XxTHj0vknnIdGFBKFIpcSihElIGM5DLAwMCEgT9AJoaUlFzLhETJQMyEiUwMUEpCkSj3Sy6/2W6v/f6e5z3Ocx6+9X4/o7Vanb03X+us59l7nSPg6+vryyJwBP72Asj/Q2FAoTCgUBhQKAwoFAYUCgMKhQGFwoBCYUChMKBQGFAoDCgUBpRgfw18f3+v7NHRURF7e3vzy5xVVVXCz8zMVHZkZKRf5vQXzBhQKAwoAW6dYI6NjQm/r69P2be3t25M8VfMHyUpKUnZNTU1ItbT0yP81NRUZUdERPhhdd+DGQMKhQGFwoDiU43Z29tTdllZmYi5VVfi4uKEHxYWpuzT01MR+/z8FH5goP2/O73GTE1NiVhJSYntcdyCGQMKhQGFwoDiU40JCQlR9sfHh4iVl5cru7OzU8QaGhpszxEQEOAxZi59ZmZG+CcnJ8qemJgQsYuLC4/jBgUFCT8mJkbZW1tbIpaenu5xHF9gxoBCYUDx6Vamfxw1bzl6yhcWFjqdwm8MDAwIf3h4WNlXV1cer4uNjRX+ysqK8PPy8pQdHOx8854ZAwqFAYXCgOK3GnN+fq5sffsdlevra2UvLCyIWFdXl+1x9I/lbW1tjtfDjAGFwoDi062strZW2WtrayJ2dnam7MTERKdT/Arv7+/C393dVXZxcbHXa/XfyfLysuM1MGNAoTCgUBhQfKoxr6+vyt7f3xex3Nxcx4tCQ29Q1E9Q/4a54/4dmDGgUBhQKAwoPjWVh4aGKttbTTG/F/T39wv/4OBA2UVFRSJmdt9kZGQoOzw83PZav4PeEG9ZljU5OWn72vb2dlfWwIwBhcKA4lpTuTceHx+FHxUV5XgsfcvD3L01TxcrKyttj7u+vq7s1tZWEfPWuGGib01VVFTYvs6EGQMKhQGFwoDyIzXm6elJ+PqzkZb1Z3O4U8wfxVuzoFMSEhKEv7m5Kfy0tDRX5mHGgEJhQKEwoPxIjTF5eXkR/vz8vLLN49i7uzvhm0fYOm7VmOTkZOHrD9KaWy56w7mbMGNAoTCg/Mqt7DuYO9N6w/f09LSILS4uCn9nZ8fRnOYzmC0tLY7G8QVmDCgUBhQKAwp8jfkOZj3a3t5WdkdHh4gdHR15HCc/P1/4IyMjytYfTPInzBhQKAwoFAaUH6kxZkfiw8OD8PXuRv3dAW5yc3Mj/KamJuF72+rR13d5eSli/nq3GTMGFAoDyq90yZgnmPpubl1dnYjV19cLPycnx5U1mbfX5uZmZc/NzXm8bnBwUPi9vb2urMeEGQMKhQGFwoDyKzUmOjra9rXmK6r07srGxkYR0+uEZckTTPM003zPi97YnpWV5XE9BQUFwte3fdyEGQMKhQGFwoDyIzXm+flZ+ObW+eHhoSvzeOuSMb//VFdXCz8lJUXZ3d3dHudgjfnHoTCgQDT8ra6uKntpaUnENjY2hH98fOxxXH81lesf2c1XLZr/TMgtmDGgUBhQKAwo8F0y5kNP+vtrZmdnRUx/wNWyLCs+Pl7Z4+PjtufMzs4W/tDQkLJLS0ttj+MLzBhQKAwo8LeyfxVmDCgUBhQKAwqFAYXCgEJhQKEwoFAYUCgMKBQGFAoDCoUBhcKAQmFA+Q+wx24AFG3BsgAAAABJRU5ErkJggg==\" id=\"image2292c2d3e7\" transform=\"scale(1 -1)translate(0 -73.44)\" x=\"184.447059\" y=\"-108.026829\" width=\"73.44\" height=\"73.44\"/>\n   </g>\n   <g id=\"matplotlib.axis_11\"/>\n   <g id=\"matplotlib.axis_12\"/>\n   <g id=\"patch_28\">\n    <path d=\"M 184.447059 181.466829 \nL 184.447059 108.090358 \n\" style=\"fill: none; stroke: #bcbcbc; stroke-width: 0.8; stroke-linejoin: miter; stroke-linecap: square\"/>\n   </g>\n   <g id=\"patch_29\">\n    <path d=\"M 257.823529 181.466829 \nL 257.823529 108.090358 \n\" style=\"fill: none; stroke: #bcbcbc; stroke-width: 0.8; stroke-linejoin: miter; stroke-linecap: square\"/>\n   </g>\n   <g id=\"patch_30\">\n    <path d=\"M 184.447059 181.466829 \nL 257.823529 181.466829 \n\" style=\"fill: none; stroke: #bcbcbc; stroke-width: 0.8; stroke-linejoin: miter; stroke-linecap: square\"/>\n   </g>\n   <g id=\"patch_31\">\n    <path d=\"M 184.447059 108.090358 \nL 257.823529 108.090358 \n\" style=\"fill: none; stroke: #bcbcbc; stroke-width: 0.8; stroke-linejoin: miter; stroke-linecap: square\"/>\n   </g>\n   <g id=\"text_6\">\n    <!-- label: 3 -->\n    <g transform=\"translate(204.442403 102.090358)scale(0.09 -0.09)\">\n     <defs>\n      <path id=\"DejaVuSans-33\" d=\"M 2597 2516 \nQ 3050 2419 3304 2112 \nQ 3559 1806 3559 1356 \nQ 3559 666 3084 287 \nQ 2609 -91 1734 -91 \nQ 1441 -91 1130 -33 \nQ 819 25 488 141 \nL 488 750 \nQ 750 597 1062 519 \nQ 1375 441 1716 441 \nQ 2309 441 2620 675 \nQ 2931 909 2931 1356 \nQ 2931 1769 2642 2001 \nQ 2353 2234 1838 2234 \nL 1294 2234 \nL 1294 2753 \nL 1863 2753 \nQ 2328 2753 2575 2939 \nQ 2822 3125 2822 3475 \nQ 2822 3834 2567 4026 \nQ 2313 4219 1838 4219 \nQ 1578 4219 1281 4162 \nQ 984 4106 628 3988 \nL 628 4550 \nQ 988 4650 1302 4700 \nQ 1616 4750 1894 4750 \nQ 2613 4750 3031 4423 \nQ 3450 4097 3450 3541 \nQ 3450 3153 3228 2886 \nQ 3006 2619 2597 2516 \nz\n\" transform=\"scale(0.015625)\"/>\n     </defs>\n     <use xlink:href=\"#DejaVuSans-6c\"/>\n     <use xlink:href=\"#DejaVuSans-61\" x=\"27.783203\"/>\n     <use xlink:href=\"#DejaVuSans-62\" x=\"89.0625\"/>\n     <use xlink:href=\"#DejaVuSans-65\" x=\"152.539062\"/>\n     <use xlink:href=\"#DejaVuSans-6c\" x=\"214.0625\"/>\n     <use xlink:href=\"#DejaVuSans-3a\" x=\"241.845703\"/>\n     <use xlink:href=\"#DejaVuSans-20\" x=\"275.537109\"/>\n     <use xlink:href=\"#DejaVuSans-33\" x=\"307.324219\"/>\n    </g>\n   </g>\n  </g>\n  <g id=\"axes_7\">\n   <g id=\"patch_32\">\n    <path d=\"M 7.2 269.518594 \nL 80.576471 269.518594 \nL 80.576471 196.142123 \nL 7.2 196.142123 \nz\n\" style=\"fill: #eeeeee\"/>\n   </g>\n   <g clip-path=\"url(#pac93bbf0f1)\">\n    <image xlink:href=\"data:image/png;base64,\niVBORw0KGgoAAAANSUhEUgAAAGYAAABmCAYAAAA53+RiAAAESklEQVR4nO2cSyhtYRTHP9cjilDySAYGHnnGQDGQkRRlosQAE0NTBkoeIyOGRkanDnOZYEJKmKA8S96vlKIwUOdO7v361sd2z3H3PufP+f9G6986Z+9V/9Zeu29/e8cEAoGAInD8inQB5GNoDCg0BhQaAwqNAYXGgEJjQKExoNAYUGgMKHGRLiBcZGRkCP3w8CD07Oysjtva2sJS02ewY0ChMaDQGFCiZsZ0d3cLPTk5KfTGxoaOOWOIIzQGlJhoeYL59PQkdH19vdAnJyc6vr29FbmEhATP6nKCHQMKjQGFxoASNbfLKSkpQtfV1Qm9vb2tY7/fL3L2rXY4YMeAQmNAoTGgRM2MsSkoKHDMzczMCM0ZQzQ0BpSoWZKxeXt7E7qhoUHHe3t7Ire7u6vjrKwsT+v6CzsGFBoDCo0BJSwz5vr6Wmj76WFhYaGOm5qagj5uamqq0MnJyaEX94eFhQXHGvLy8nS8s7MjcvZSj1uwY0ChMaC4dinb398XemBgQMeLi4si9/r66sYpVX5+vtClpaVCd3V16TgnJ0fkysrKhI6NjdVxZmamyJn1Xl5eilx2dnYIFQcPOwYUGgMKjQHFtRlj36q+vLzoOD09XeSGh4eDPu78/LzQ6+vrH55DqdBmV1pamtCJiYk6vrm5cfzf0NCQ0IODg0LHxbmzYM+OAYXGgEJjQHFtxuTm5gptXqfNDdtKKVVdXe3GKdXV1ZXQh4eHjr+dmJgQ2p5PJgcHB0JfXFw4/tZ8XKCUXG4qLy93/N+/YMeAQmNAce1SNjo6KvTIyIiO7U3Zn11GELi7uxO6trZWx+bmc6WUqqysFNpczjGXhJRSqrOzM+ga2DGg0BhQaAwors0Y+8WgxsZGHZvLKEopVVxcLPTq6qqO7aUSBHp7e3U8PT0tclNTU0L39PQ4Hic+Pj7oc7JjQKExoNAYUDzbJWPOHHvXydramtD9/f06HhsbEzm3ltH/h7m5OR23traKnLnDR6n3uzi/CjsGFBoDSlg2/Nm30p/dEvt8PqE7Ojq8KCkkzCUaeyeO/bktXsp+ODQGFBoDSlhmjH2Kx8dHoc137o+Pj0XOvJVWSj5OiASnp6dC2+9ybm5u6riiouLL52HHgEJjQKExoEC8HHt0dKRje9nc3rGyvLys45KSEk/rCgZ7iaaqqkrHoew4tWHHgEJjQIG4lJmYn6dS6v3nQs7OznRsb8RLSkryrjAHnp+fhT4/P9dxUVHRl4/LjgGFxoBCY0CBmzE29sZxcwmkublZ5OxHBpH4LK9bsGNAoTGg0BhQ4GeMzdLSko5bWlpErqamRmgzf39/L3Lj4+MeVOce7BhQaAwo3+5SZrKysiJ0X1+f0FtbWzpub28XOftLsWiwY0ChMaDQGFC+9Yz5ybBjQKExoNAYUGgMKDQGFBoDCo0BhcaAQmNAoTGg0BhQaAwoNAYUGgMKjQGFxoBCY0D5Dco/OZUSqmdcAAAAAElFTkSuQmCC\" id=\"image765b892ee0\" transform=\"scale(1 -1)translate(0 -73.44)\" x=\"7.2\" y=\"-196.078594\" width=\"73.44\" height=\"73.44\"/>\n   </g>\n   <g id=\"matplotlib.axis_13\"/>\n   <g id=\"matplotlib.axis_14\"/>\n   <g id=\"patch_33\">\n    <path d=\"M 7.2 269.518594 \nL 7.2 196.142123 \n\" style=\"fill: none; stroke: #bcbcbc; stroke-width: 0.8; stroke-linejoin: miter; stroke-linecap: square\"/>\n   </g>\n   <g id=\"patch_34\">\n    <path d=\"M 80.576471 269.518594 \nL 80.576471 196.142123 \n\" style=\"fill: none; stroke: #bcbcbc; stroke-width: 0.8; stroke-linejoin: miter; stroke-linecap: square\"/>\n   </g>\n   <g id=\"patch_35\">\n    <path d=\"M 7.2 269.518594 \nL 80.576471 269.518594 \n\" style=\"fill: none; stroke: #bcbcbc; stroke-width: 0.8; stroke-linejoin: miter; stroke-linecap: square\"/>\n   </g>\n   <g id=\"patch_36\">\n    <path d=\"M 7.2 196.142123 \nL 80.576471 196.142123 \n\" style=\"fill: none; stroke: #bcbcbc; stroke-width: 0.8; stroke-linejoin: miter; stroke-linecap: square\"/>\n   </g>\n   <g id=\"text_7\">\n    <!-- label: 4 -->\n    <g transform=\"translate(27.195345 190.142123)scale(0.09 -0.09)\">\n     <defs>\n      <path id=\"DejaVuSans-34\" d=\"M 2419 4116 \nL 825 1625 \nL 2419 1625 \nL 2419 4116 \nz\nM 2253 4666 \nL 3047 4666 \nL 3047 1625 \nL 3713 1625 \nL 3713 1100 \nL 3047 1100 \nL 3047 0 \nL 2419 0 \nL 2419 1100 \nL 313 1100 \nL 313 1709 \nL 2253 4666 \nz\n\" transform=\"scale(0.015625)\"/>\n     </defs>\n     <use xlink:href=\"#DejaVuSans-6c\"/>\n     <use xlink:href=\"#DejaVuSans-61\" x=\"27.783203\"/>\n     <use xlink:href=\"#DejaVuSans-62\" x=\"89.0625\"/>\n     <use xlink:href=\"#DejaVuSans-65\" x=\"152.539062\"/>\n     <use xlink:href=\"#DejaVuSans-6c\" x=\"214.0625\"/>\n     <use xlink:href=\"#DejaVuSans-3a\" x=\"241.845703\"/>\n     <use xlink:href=\"#DejaVuSans-20\" x=\"275.537109\"/>\n     <use xlink:href=\"#DejaVuSans-34\" x=\"307.324219\"/>\n    </g>\n   </g>\n  </g>\n  <g id=\"axes_8\">\n   <g id=\"patch_37\">\n    <path d=\"M 95.823529 269.518594 \nL 169.2 269.518594 \nL 169.2 196.142123 \nL 95.823529 196.142123 \nz\n\" style=\"fill: #eeeeee\"/>\n   </g>\n   <g clip-path=\"url(#p1f6e094911)\">\n    <image xlink:href=\"data:image/png;base64,\niVBORw0KGgoAAAANSUhEUgAAAGYAAABmCAYAAAA53+RiAAAC8UlEQVR4nO3dP68pQRgG8IsrdCoRlYJaJ1FIaGloxMfQoNLTCqWPQCsaEgqJCpVERC0aJYmI203mndyz3GSXZ93nV82b3ZOMPOfdGeuf5/F4PH4RHO+nJ0B/x2BAMRhQDAYUgwHFYEAxGFAMBhSDAcVgQP3+9ARMlUpF1IPBQNT1el2N2+32W+b0CewYUAwGFIMBBbfGPNPv99W4Wq2KY9Fo9N3TcQw7BhSDAeW6S9n5fFbj5XIpjpVKpTfPxjnsGFAMBhSDAcVgQDEYUAwGFIMBBfc8JpFIvHxuq9USNZ/HkOMYDCgP2pvKr9erqMvlsqhHo5Ea+3w+cWw6nYo6k8nYPLv3YceAYjCgGAwouO1yMBgUdbPZFLW+xtzvd3Fsv9+LmmsM2Y7BgILbLptOp5Oord5wkc1mRW1un92EHQOKwYBiMKDg15jL5SLqYrGoxpPJxPJvze20m7BjQDEYUAwGFPwaY5rP52qcy+Usz12v12qcTCYdmpEz2DGgGAwo113K9Fc4C4WCODabzUStPzRz2x0IBByYnX3YMaAYDCgGAwruFcxn9Fc4zdv85hqj63Q6om40GvZOzGbsGFAMBhSDAeW6NUaXTqdfPne1Won6druJ2u/32zInu7BjQDEYUK67JaMzL0epVErUm81Gjb1e+T9ofqWW/nVbCNgxoBgMKAYDytVrjGk8Hos6n8+rsbnGRCIRUW+3WzUOhUIOzO7fsGNAMRhQDAbUV60xJn1d8Xg8lucej0c1DofDjs3pVewYUAwGlKvvLj+jb4nND0CZ9G+nrdVq4tgn7jyzY0AxGFAMBtRXb5eHw6Eam7+yYfWwD4eDqGOxmL0TewE7BhSDAcVgQH31GqMzfzmj1+v9eO5utxN1PB53ZE5W2DGgGAyor74lozPfgN7tdn88d7FYiJqXMlIYDCgGA+q/2S67DTsGFIMBxWBAMRhQDAYUgwHFYEAxGFAMBhSDAcVgQDEYUAwGFIMBxWBAMRhQDAbUH1K+r7qzJ5IcAAAAAElFTkSuQmCC\" id=\"image871cd9d71d\" transform=\"scale(1 -1)translate(0 -73.44)\" x=\"95.823529\" y=\"-196.078594\" width=\"73.44\" height=\"73.44\"/>\n   </g>\n   <g id=\"matplotlib.axis_15\"/>\n   <g id=\"matplotlib.axis_16\"/>\n   <g id=\"patch_38\">\n    <path d=\"M 95.823529 269.518594 \nL 95.823529 196.142123 \n\" style=\"fill: none; stroke: #bcbcbc; stroke-width: 0.8; stroke-linejoin: miter; stroke-linecap: square\"/>\n   </g>\n   <g id=\"patch_39\">\n    <path d=\"M 169.2 269.518594 \nL 169.2 196.142123 \n\" style=\"fill: none; stroke: #bcbcbc; stroke-width: 0.8; stroke-linejoin: miter; stroke-linecap: square\"/>\n   </g>\n   <g id=\"patch_40\">\n    <path d=\"M 95.823529 269.518594 \nL 169.2 269.518594 \n\" style=\"fill: none; stroke: #bcbcbc; stroke-width: 0.8; stroke-linejoin: miter; stroke-linecap: square\"/>\n   </g>\n   <g id=\"patch_41\">\n    <path d=\"M 95.823529 196.142123 \nL 169.2 196.142123 \n\" style=\"fill: none; stroke: #bcbcbc; stroke-width: 0.8; stroke-linejoin: miter; stroke-linecap: square\"/>\n   </g>\n   <g id=\"text_8\">\n    <!-- label: 1 -->\n    <g transform=\"translate(115.818874 190.142123)scale(0.09 -0.09)\">\n     <use xlink:href=\"#DejaVuSans-6c\"/>\n     <use xlink:href=\"#DejaVuSans-61\" x=\"27.783203\"/>\n     <use xlink:href=\"#DejaVuSans-62\" x=\"89.0625\"/>\n     <use xlink:href=\"#DejaVuSans-65\" x=\"152.539062\"/>\n     <use xlink:href=\"#DejaVuSans-6c\" x=\"214.0625\"/>\n     <use xlink:href=\"#DejaVuSans-3a\" x=\"241.845703\"/>\n     <use xlink:href=\"#DejaVuSans-20\" x=\"275.537109\"/>\n     <use xlink:href=\"#DejaVuSans-31\" x=\"307.324219\"/>\n    </g>\n   </g>\n  </g>\n  <g id=\"axes_9\">\n   <g id=\"patch_42\">\n    <path d=\"M 184.447059 269.518594 \nL 257.823529 269.518594 \nL 257.823529 196.142123 \nL 184.447059 196.142123 \nz\n\" style=\"fill: #eeeeee\"/>\n   </g>\n   <g clip-path=\"url(#p1bffba16f8)\">\n    <image xlink:href=\"data:image/png;base64,\niVBORw0KGgoAAAANSUhEUgAAAGYAAABmCAYAAAA53+RiAAAEQElEQVR4nO2czyt1QRjH34soWQilRCGxsSBZIhuxlGSjFBslZUF+LLAgKVxJbGxQsiCyU4pIKAs2kvwTfkQK991N80zvuefHnXvPt97vZ/U8zT1npj49M6dzZm4kFovF/hA40sIeAPk3FAMKxYBCMaBQDCgUAwrFgEIxoFAMKBQDCsWAQjGgUAwoFAMKxYBCMaBQDCgZqejk8/NT5Pf396noVlBYWCjysrKylI/BD6wYUCgGFIoBJWlrzMnJiYqnpqZE283NjeN15qadSCQSeAz6vcw1prOzU+QjIyMqLi4uDtynLVgxoFAMKBQDSsTWTsyBgQGRb29vq/jj48PzfZK1xrjdJycnR8Xd3d2iraOjQ8XNzc2Bx+MHVgwoFAOKtanMnCrS0oI5//39tXIf816J3KexsVHFk5OToi1ZUxsrBhSKAYViQLG2xqSnp8sb+3jMbW9vV/Ho6Khou729FfnLy4uKX19fRdv8/LzI/TwuxyPefZ6fn0VeWloauB8dVgwoFANKKFNZSUmJyB8fH1WclZXluU/z0fr9/d3ztbOzsyJfXFx0/G28qayoqEjk09PTKu7t7fU8HhNWDCgUAwrFgBLKGlNeXi7yp6cnG0PwxdfXl8j1dW58fFy0HR8fq9jtsVtfcx4eHkSb/gbbDVYMKBQDCsWAEsoaY861Z2dnKq6pqbExHKsMDw+reHl52fN1DQ0NIj89PfV8LSsGFIoBxdqGv56eHpFvbm46/vbt7U3kMzMzKt7b27M1JGvU1dWp2M/Mf35+HrhPVgwoFAMKxYBibY1paWkR+dbWludrDw8PVWy+nqmsrExoXDbQH/0T+RLqB1YMKBQDCsWAYm2NqaqqEnl2draK/WwqPzg4ELm5ayYMzJ06qYAVAwrFgGJtKqutrRX5/v6+iru6ukSbuVFPZ319XeTmfwRMTEyoODMz0/c4nfj+/lbx6uqqaItGoyp2e1zWd/msra0FHg8rBhSKAYViQLH2BTMe5pnG3d1dx9+6ncG8u7tTcXV1deAx/fz8iFxf24aGhhzH5LbG1NfXq/jq6irw+FgxoFAMKBQDSkrWGPNTcltbm8j1udjtcKx+UmBsbEy09ff3ex7T0tKSyPX/kjGJd8i2oqJC5JeXlyouKCjwPB4TVgwoFANKSqYyE/OVTF5enor9/GVJfn6+yFdWVhx/a74h1l+zuMEzmERBMaBQDCihrDHmI/HR0ZGKFxYWRNv19XXgfmyd89df/QwODoo2cwdqRoadLymsGFAoBhSKASWUNSYeFxcXIm9tbRW5eag1Hn7WGP2TcFNTk2jb2dlRcW5uruf+E4EVAwrFgAI3lZlsbGyIfG5uzvO1fqYyffdNX1+f5z6SBSsGFIoBhWJAgV9j/ldYMaBQDCgUAwrFgEIxoFAMKBQDCsWAQjGgUAwoFAMKxYBCMaBQDCgUAwrFgEIxoPwF5kY51uJCV2gAAAAASUVORK5CYII=\" id=\"image39c6867315\" transform=\"scale(1 -1)translate(0 -73.44)\" x=\"184.447059\" y=\"-196.078594\" width=\"73.44\" height=\"73.44\"/>\n   </g>\n   <g id=\"matplotlib.axis_17\"/>\n   <g id=\"matplotlib.axis_18\"/>\n   <g id=\"patch_43\">\n    <path d=\"M 184.447059 269.518594 \nL 184.447059 196.142123 \n\" style=\"fill: none; stroke: #bcbcbc; stroke-width: 0.8; stroke-linejoin: miter; stroke-linecap: square\"/>\n   </g>\n   <g id=\"patch_44\">\n    <path d=\"M 257.823529 269.518594 \nL 257.823529 196.142123 \n\" style=\"fill: none; stroke: #bcbcbc; stroke-width: 0.8; stroke-linejoin: miter; stroke-linecap: square\"/>\n   </g>\n   <g id=\"patch_45\">\n    <path d=\"M 184.447059 269.518594 \nL 257.823529 269.518594 \n\" style=\"fill: none; stroke: #bcbcbc; stroke-width: 0.8; stroke-linejoin: miter; stroke-linecap: square\"/>\n   </g>\n   <g id=\"patch_46\">\n    <path d=\"M 184.447059 196.142123 \nL 257.823529 196.142123 \n\" style=\"fill: none; stroke: #bcbcbc; stroke-width: 0.8; stroke-linejoin: miter; stroke-linecap: square\"/>\n   </g>\n   <g id=\"text_9\">\n    <!-- label: 0 -->\n    <g transform=\"translate(204.442403 190.142123)scale(0.09 -0.09)\">\n     <defs>\n      <path id=\"DejaVuSans-30\" d=\"M 2034 4250 \nQ 1547 4250 1301 3770 \nQ 1056 3291 1056 2328 \nQ 1056 1369 1301 889 \nQ 1547 409 2034 409 \nQ 2525 409 2770 889 \nQ 3016 1369 3016 2328 \nQ 3016 3291 2770 3770 \nQ 2525 4250 2034 4250 \nz\nM 2034 4750 \nQ 2819 4750 3233 4129 \nQ 3647 3509 3647 2328 \nQ 3647 1150 3233 529 \nQ 2819 -91 2034 -91 \nQ 1250 -91 836 529 \nQ 422 1150 422 2328 \nQ 422 3509 836 4129 \nQ 1250 4750 2034 4750 \nz\n\" transform=\"scale(0.015625)\"/>\n     </defs>\n     <use xlink:href=\"#DejaVuSans-6c\"/>\n     <use xlink:href=\"#DejaVuSans-61\" x=\"27.783203\"/>\n     <use xlink:href=\"#DejaVuSans-62\" x=\"89.0625\"/>\n     <use xlink:href=\"#DejaVuSans-65\" x=\"152.539062\"/>\n     <use xlink:href=\"#DejaVuSans-6c\" x=\"214.0625\"/>\n     <use xlink:href=\"#DejaVuSans-3a\" x=\"241.845703\"/>\n     <use xlink:href=\"#DejaVuSans-20\" x=\"275.537109\"/>\n     <use xlink:href=\"#DejaVuSans-30\" x=\"307.324219\"/>\n    </g>\n   </g>\n  </g>\n </g>\n <defs>\n  <clipPath id=\"p75328f710e\">\n   <rect x=\"7.2\" y=\"20.038594\" width=\"73.376471\" height=\"73.376471\"/>\n  </clipPath>\n  <clipPath id=\"p3af9d8550e\">\n   <rect x=\"95.823529\" y=\"20.038594\" width=\"73.376471\" height=\"73.376471\"/>\n  </clipPath>\n  <clipPath id=\"pb7544453c1\">\n   <rect x=\"184.447059\" y=\"20.038594\" width=\"73.376471\" height=\"73.376471\"/>\n  </clipPath>\n  <clipPath id=\"p02c083c208\">\n   <rect x=\"7.2\" y=\"108.090358\" width=\"73.376471\" height=\"73.376471\"/>\n  </clipPath>\n  <clipPath id=\"p9b16c62b6b\">\n   <rect x=\"95.823529\" y=\"108.090358\" width=\"73.376471\" height=\"73.376471\"/>\n  </clipPath>\n  <clipPath id=\"p175253e90a\">\n   <rect x=\"184.447059\" y=\"108.090358\" width=\"73.376471\" height=\"73.376471\"/>\n  </clipPath>\n  <clipPath id=\"pac93bbf0f1\">\n   <rect x=\"7.2\" y=\"196.142123\" width=\"73.376471\" height=\"73.376471\"/>\n  </clipPath>\n  <clipPath id=\"p1f6e094911\">\n   <rect x=\"95.823529\" y=\"196.142123\" width=\"73.376471\" height=\"73.376471\"/>\n  </clipPath>\n  <clipPath id=\"p1bffba16f8\">\n   <rect x=\"184.447059\" y=\"196.142123\" width=\"73.376471\" height=\"73.376471\"/>\n  </clipPath>\n </defs>\n</svg>\n",
      "text/plain": [
       "<Figure size 450x450 with 9 Axes>"
      ]
     },
     "metadata": {},
     "output_type": "display_data"
    }
   ],
   "source": [
    "set_figsize((4.5,4.5))\n",
    "\n",
    "img_shape = (28, 28)\n",
    "\n",
    "show_img_grid(\n",
    "    [train_images[i].reshape(img_shape) for i in range(9)],\n",
    "    [f\"label: {jnp.argmax(train_labels[i])}\" for i in range(9)]\n",
    ")"
   ]
  },
  {
   "cell_type": "markdown",
   "id": "0d047fcc",
   "metadata": {},
   "source": [
    "# Downscaling images as in paper"
   ]
  },
  {
   "cell_type": "code",
   "execution_count": 17,
   "id": "446f2db3",
   "metadata": {},
   "outputs": [],
   "source": [
    "def resize_img(\n",
    "        img_vec: Vector,\n",
    "        shape: Tuple[int,int]\n",
    "    ) -> Vector:\n",
    "    \"\"\"\n",
    "    Resizing the image vector.\n",
    "    \"\"\"\n",
    "    orig_size = jnp.sqrt(img_vec.size).astype(int)\n",
    "    img_mat = img_vec.reshape(orig_size, orig_size)\n",
    "    img_mat = jax.image.resize(img_mat, shape, method='nearest')\n",
    "    return img_mat.reshape(-1)"
   ]
  },
  {
   "cell_type": "markdown",
   "id": "628cb215",
   "metadata": {},
   "source": [
    "Resizing images to $14 × 14$ as in the paper."
   ]
  },
  {
   "cell_type": "code",
   "execution_count": 18,
   "id": "182b07a1",
   "metadata": {},
   "outputs": [],
   "source": [
    "img_shape = (14,14)\n",
    "\n",
    "resize_img_vmap = functools.partial(resize_img, shape=img_shape)\n",
    "\n",
    "train_images_scaled = jax.vmap(resize_img_vmap)(train_images)\n",
    "test_images_scaled = jax.vmap(resize_img_vmap)(test_images)"
   ]
  },
  {
   "cell_type": "code",
   "execution_count": 19,
   "id": "df3eb272",
   "metadata": {},
   "outputs": [
    {
     "name": "stdout",
     "output_type": "stream",
     "text": [
      "Train data shape: (20000, 196) | Test data shape: (10000, 196)\n"
     ]
    }
   ],
   "source": [
    "print(f'Train data shape: {train_images_scaled.shape} | Test data shape: {test_images_scaled.shape}')"
   ]
  },
  {
   "cell_type": "code",
   "execution_count": 20,
   "id": "3906b1d5",
   "metadata": {},
   "outputs": [
    {
     "data": {
      "image/svg+xml": "<?xml version=\"1.0\" encoding=\"utf-8\" standalone=\"no\"?>\n<!DOCTYPE svg PUBLIC \"-//W3C//DTD SVG 1.1//EN\"\n  \"http://www.w3.org/Graphics/SVG/1.1/DTD/svg11.dtd\">\n<svg xmlns:xlink=\"http://www.w3.org/1999/xlink\" width=\"265.023529pt\" height=\"276.718594pt\" viewBox=\"0 0 265.023529 276.718594\" xmlns=\"http://www.w3.org/2000/svg\" version=\"1.1\">\n <metadata>\n  <rdf:RDF xmlns:dc=\"http://purl.org/dc/elements/1.1/\" xmlns:cc=\"http://creativecommons.org/ns#\" xmlns:rdf=\"http://www.w3.org/1999/02/22-rdf-syntax-ns#\">\n   <cc:Work>\n    <dc:type rdf:resource=\"http://purl.org/dc/dcmitype/StillImage\"/>\n    <dc:date>2022-05-08T21:20:51.735733</dc:date>\n    <dc:format>image/svg+xml</dc:format>\n    <dc:creator>\n     <cc:Agent>\n      <dc:title>Matplotlib v3.5.2, https://matplotlib.org/</dc:title>\n     </cc:Agent>\n    </dc:creator>\n   </cc:Work>\n  </rdf:RDF>\n </metadata>\n <defs>\n  <style type=\"text/css\">*{stroke-linejoin: round; stroke-linecap: butt}</style>\n </defs>\n <g id=\"figure_1\">\n  <g id=\"patch_1\">\n   <path d=\"M 0 276.718594 \nL 265.023529 276.718594 \nL 265.023529 0 \nL 0 0 \nz\n\" style=\"fill: #ffffff\"/>\n  </g>\n  <g id=\"axes_1\">\n   <g id=\"patch_2\">\n    <path d=\"M 7.2 93.415064 \nL 80.576471 93.415064 \nL 80.576471 20.038594 \nL 7.2 20.038594 \nz\n\" style=\"fill: #eeeeee\"/>\n   </g>\n   <g clip-path=\"url(#pb80517b047)\">\n    <image xlink:href=\"data:image/png;base64,\niVBORw0KGgoAAAANSUhEUgAAAGYAAABmCAYAAAA53+RiAAAB2klEQVR4nO3bMYrCQBhA4c2ylWlSxlYIeILcIG3O4R08XcDGyiJdIH28gG22X3ZGWY3zsryv/XGZ5fFDHGI2z/P8IZzP1AfQ7wwDZRgow0AZBsowUF+pD/BT3/fRedM0wdk0Ta8+TjJuDJRhoAwDZRgow0AZBsowULjvMUVRROfX6/U9B0nMjYEyDJRhoAwDZRgow0Bla3tLJsuy4GwYhuCsqqoljrMYNwbKMFCGgTIMlGGgDAO1usflsiyDs+12G5xdLpcljrMYNwbKMFCGgTIMlGGgDAO1usflmNjN89r+TTcGyjBQhoEyDJRhoAwDZRgo3EvlS7ndbtH5ZrN500ke48ZAGQbKMFCGgTIMlGGg/tW1//F4DM5Op1P0s13Xvfo4T3FjoAwDZRgow0AZBsowUElul2M3vc/c8h4Oh+Ds3uMyjRsDZRgow0AZBsowUIaBMgxUku8xeZ4HZ+fzOfrZuq6Ds7Ztg7P9fn//YCBuDJRhoAwDZRgow0AZBgr3lkzsB6737Ha74Gwcxz//3RTcGCjDQBkGyjBQhoEyDBTuN5iwp/dk3Bgow0AZBsowUIaBMgyUYaAMA2UYKMNAGQbKMFCGgTIMlGGgDANlGCjDQBkGyjBQhoH6BkudRKeru94AAAAAAElFTkSuQmCC\" id=\"imageebe31ec718\" transform=\"scale(1 -1)translate(0 -73.44)\" x=\"7.2\" y=\"-19.975064\" width=\"73.44\" height=\"73.44\"/>\n   </g>\n   <g id=\"matplotlib.axis_1\"/>\n   <g id=\"matplotlib.axis_2\"/>\n   <g id=\"patch_3\">\n    <path d=\"M 7.2 93.415064 \nL 7.2 20.038594 \n\" style=\"fill: none; stroke: #bcbcbc; stroke-width: 0.8; stroke-linejoin: miter; stroke-linecap: square\"/>\n   </g>\n   <g id=\"patch_4\">\n    <path d=\"M 80.576471 93.415064 \nL 80.576471 20.038594 \n\" style=\"fill: none; stroke: #bcbcbc; stroke-width: 0.8; stroke-linejoin: miter; stroke-linecap: square\"/>\n   </g>\n   <g id=\"patch_5\">\n    <path d=\"M 7.2 93.415064 \nL 80.576471 93.415064 \n\" style=\"fill: none; stroke: #bcbcbc; stroke-width: 0.8; stroke-linejoin: miter; stroke-linecap: square\"/>\n   </g>\n   <g id=\"patch_6\">\n    <path d=\"M 7.2 20.038594 \nL 80.576471 20.038594 \n\" style=\"fill: none; stroke: #bcbcbc; stroke-width: 0.8; stroke-linejoin: miter; stroke-linecap: square\"/>\n   </g>\n   <g id=\"text_1\">\n    <!-- label: 7 -->\n    <g transform=\"translate(27.195345 14.038594)scale(0.09 -0.09)\">\n     <defs>\n      <path id=\"DejaVuSans-6c\" d=\"M 603 4863 \nL 1178 4863 \nL 1178 0 \nL 603 0 \nL 603 4863 \nz\n\" transform=\"scale(0.015625)\"/>\n      <path id=\"DejaVuSans-61\" d=\"M 2194 1759 \nQ 1497 1759 1228 1600 \nQ 959 1441 959 1056 \nQ 959 750 1161 570 \nQ 1363 391 1709 391 \nQ 2188 391 2477 730 \nQ 2766 1069 2766 1631 \nL 2766 1759 \nL 2194 1759 \nz\nM 3341 1997 \nL 3341 0 \nL 2766 0 \nL 2766 531 \nQ 2569 213 2275 61 \nQ 1981 -91 1556 -91 \nQ 1019 -91 701 211 \nQ 384 513 384 1019 \nQ 384 1609 779 1909 \nQ 1175 2209 1959 2209 \nL 2766 2209 \nL 2766 2266 \nQ 2766 2663 2505 2880 \nQ 2244 3097 1772 3097 \nQ 1472 3097 1187 3025 \nQ 903 2953 641 2809 \nL 641 3341 \nQ 956 3463 1253 3523 \nQ 1550 3584 1831 3584 \nQ 2591 3584 2966 3190 \nQ 3341 2797 3341 1997 \nz\n\" transform=\"scale(0.015625)\"/>\n      <path id=\"DejaVuSans-62\" d=\"M 3116 1747 \nQ 3116 2381 2855 2742 \nQ 2594 3103 2138 3103 \nQ 1681 3103 1420 2742 \nQ 1159 2381 1159 1747 \nQ 1159 1113 1420 752 \nQ 1681 391 2138 391 \nQ 2594 391 2855 752 \nQ 3116 1113 3116 1747 \nz\nM 1159 2969 \nQ 1341 3281 1617 3432 \nQ 1894 3584 2278 3584 \nQ 2916 3584 3314 3078 \nQ 3713 2572 3713 1747 \nQ 3713 922 3314 415 \nQ 2916 -91 2278 -91 \nQ 1894 -91 1617 61 \nQ 1341 213 1159 525 \nL 1159 0 \nL 581 0 \nL 581 4863 \nL 1159 4863 \nL 1159 2969 \nz\n\" transform=\"scale(0.015625)\"/>\n      <path id=\"DejaVuSans-65\" d=\"M 3597 1894 \nL 3597 1613 \nL 953 1613 \nQ 991 1019 1311 708 \nQ 1631 397 2203 397 \nQ 2534 397 2845 478 \nQ 3156 559 3463 722 \nL 3463 178 \nQ 3153 47 2828 -22 \nQ 2503 -91 2169 -91 \nQ 1331 -91 842 396 \nQ 353 884 353 1716 \nQ 353 2575 817 3079 \nQ 1281 3584 2069 3584 \nQ 2775 3584 3186 3129 \nQ 3597 2675 3597 1894 \nz\nM 3022 2063 \nQ 3016 2534 2758 2815 \nQ 2500 3097 2075 3097 \nQ 1594 3097 1305 2825 \nQ 1016 2553 972 2059 \nL 3022 2063 \nz\n\" transform=\"scale(0.015625)\"/>\n      <path id=\"DejaVuSans-3a\" d=\"M 750 794 \nL 1409 794 \nL 1409 0 \nL 750 0 \nL 750 794 \nz\nM 750 3309 \nL 1409 3309 \nL 1409 2516 \nL 750 2516 \nL 750 3309 \nz\n\" transform=\"scale(0.015625)\"/>\n      <path id=\"DejaVuSans-20\" transform=\"scale(0.015625)\"/>\n      <path id=\"DejaVuSans-37\" d=\"M 525 4666 \nL 3525 4666 \nL 3525 4397 \nL 1831 0 \nL 1172 0 \nL 2766 4134 \nL 525 4134 \nL 525 4666 \nz\n\" transform=\"scale(0.015625)\"/>\n     </defs>\n     <use xlink:href=\"#DejaVuSans-6c\"/>\n     <use xlink:href=\"#DejaVuSans-61\" x=\"27.783203\"/>\n     <use xlink:href=\"#DejaVuSans-62\" x=\"89.0625\"/>\n     <use xlink:href=\"#DejaVuSans-65\" x=\"152.539062\"/>\n     <use xlink:href=\"#DejaVuSans-6c\" x=\"214.0625\"/>\n     <use xlink:href=\"#DejaVuSans-3a\" x=\"241.845703\"/>\n     <use xlink:href=\"#DejaVuSans-20\" x=\"275.537109\"/>\n     <use xlink:href=\"#DejaVuSans-37\" x=\"307.324219\"/>\n    </g>\n   </g>\n  </g>\n  <g id=\"axes_2\">\n   <g id=\"patch_7\">\n    <path d=\"M 95.823529 93.415064 \nL 169.2 93.415064 \nL 169.2 20.038594 \nL 95.823529 20.038594 \nz\n\" style=\"fill: #eeeeee\"/>\n   </g>\n   <g clip-path=\"url(#p17c78c8cf4)\">\n    <image xlink:href=\"data:image/png;base64,\niVBORw0KGgoAAAANSUhEUgAAAGYAAABmCAYAAAA53+RiAAAB0klEQVR4nO3czYnCUBRA4ckwBDSbbFynErEHi3CfTUoQArZiEWkgDViAazdCVpkGfG9m8jM5kfNtL8ErhwdBHiZ93/cfwvlcegG9Zhgow0AZBsowUIaBMgyUYaAMA2UYKMNAGQbKMFCGgfpaeoG/KssyOGvbNjhrmmaOdWbjiYEyDJRhoAwDZRgow0Ala7sl83g8grM8z4OzlX1NTwyVYaAMA2UYKMNAGQZqda/LMUmSBGdd10WfTdN06nVG8cRAGQbKMFCGgTIMlGGgVncZY6j7/R6dF0XxT5v8jicGyjBQhoEyDJRhoAwDZRgo3M/+WZZF58/nc5bP3W63wdnpdArOzudzcLbZbAbv44mBMgyUYaAMA2UYKMNA4V6Xx4jdkrler9Fnj8fj1OuM4omBMgyUYaAMA2UYKMNAGQbKMFCGgTIMlGGgDANlGCjDQI267X+5XIKzuq6Ds6qqgrPdbhf9zNvt9vNiL+z3+0HPLcUTA2UYKMNAGQbKMFCGgRp1S4b279+Hw2HpFSbjiYEyDJRhoAwDZRgow0C91aXyd+KJgTIMlGGgDANlGCjDQBkGyjBQhoEyDJRhoAwDZRgow0AZBsowUIaBMgyUYaAMA2UYqG+tT0Lq03FYUQAAAABJRU5ErkJggg==\" id=\"image65a940f126\" transform=\"scale(1 -1)translate(0 -73.44)\" x=\"95.823529\" y=\"-19.975064\" width=\"73.44\" height=\"73.44\"/>\n   </g>\n   <g id=\"matplotlib.axis_3\"/>\n   <g id=\"matplotlib.axis_4\"/>\n   <g id=\"patch_8\">\n    <path d=\"M 95.823529 93.415064 \nL 95.823529 20.038594 \n\" style=\"fill: none; stroke: #bcbcbc; stroke-width: 0.8; stroke-linejoin: miter; stroke-linecap: square\"/>\n   </g>\n   <g id=\"patch_9\">\n    <path d=\"M 169.2 93.415064 \nL 169.2 20.038594 \n\" style=\"fill: none; stroke: #bcbcbc; stroke-width: 0.8; stroke-linejoin: miter; stroke-linecap: square\"/>\n   </g>\n   <g id=\"patch_10\">\n    <path d=\"M 95.823529 93.415064 \nL 169.2 93.415064 \n\" style=\"fill: none; stroke: #bcbcbc; stroke-width: 0.8; stroke-linejoin: miter; stroke-linecap: square\"/>\n   </g>\n   <g id=\"patch_11\">\n    <path d=\"M 95.823529 20.038594 \nL 169.2 20.038594 \n\" style=\"fill: none; stroke: #bcbcbc; stroke-width: 0.8; stroke-linejoin: miter; stroke-linecap: square\"/>\n   </g>\n   <g id=\"text_2\">\n    <!-- label: 7 -->\n    <g transform=\"translate(115.818874 14.038594)scale(0.09 -0.09)\">\n     <use xlink:href=\"#DejaVuSans-6c\"/>\n     <use xlink:href=\"#DejaVuSans-61\" x=\"27.783203\"/>\n     <use xlink:href=\"#DejaVuSans-62\" x=\"89.0625\"/>\n     <use xlink:href=\"#DejaVuSans-65\" x=\"152.539062\"/>\n     <use xlink:href=\"#DejaVuSans-6c\" x=\"214.0625\"/>\n     <use xlink:href=\"#DejaVuSans-3a\" x=\"241.845703\"/>\n     <use xlink:href=\"#DejaVuSans-20\" x=\"275.537109\"/>\n     <use xlink:href=\"#DejaVuSans-37\" x=\"307.324219\"/>\n    </g>\n   </g>\n  </g>\n  <g id=\"axes_3\">\n   <g id=\"patch_12\">\n    <path d=\"M 184.447059 93.415064 \nL 257.823529 93.415064 \nL 257.823529 20.038594 \nL 184.447059 20.038594 \nz\n\" style=\"fill: #eeeeee\"/>\n   </g>\n   <g clip-path=\"url(#p33ddf38039)\">\n    <image xlink:href=\"data:image/png;base64,\niVBORw0KGgoAAAANSUhEUgAAAGYAAABmCAYAAAA53+RiAAABt0lEQVR4nO3bsW2DUBRA0RBlACQkWkagoIQNWIBZmMsr0FExBQUSJSXpo3ysEBPuV+5pnyx9++pJGONk3/f9TTjvdx9A3zMMlGGgDANlGCjDQBkGyjBQhoEyDJRhoAwDZRgow0B93H2Ar4ZhOJw3TROcresanKVpevZIt3BjoAwDZRgow0AZBsowULjL5aIoTr92nufgzMtlvYRhoAwDZRgow0AZBiqJ7aHyJEmCs7Ztg7PH43HFcS7jxkAZBsowUIaBMgyUYaBwd5efybIsOOv7/g9Pci03BsowUIaBMgyUYaAMA2UYqOi+x3RdF5zVdR2cRfbrhhtDZRgow0AZBsowUIaBiu4pmWmagrOyLIOzyN6mG0NlGCjDQBkGyjBQhoEyDJRhoAwDZRgow0AZBsowUIaBiu62/5GjP86O43j42qqqXn2cX3FjoAwDZRgow0AZBsowUNE9VH7Wtm13H+FH3Bgow0AZBsowUIaBMgxUdHeXl2UJzvI8D86evU3ax+DGQBkGyjBQhoEyDJRhoKK7XP4v3Bgow0AZBsowUIaBMgyUYaAMA2UYKMNAGQbKMFCGgTIM1Cf2T0BAQ4AVzAAAAABJRU5ErkJggg==\" id=\"imagef0c2a4cfb7\" transform=\"scale(1 -1)translate(0 -73.44)\" x=\"184.447059\" y=\"-19.975064\" width=\"73.44\" height=\"73.44\"/>\n   </g>\n   <g id=\"matplotlib.axis_5\"/>\n   <g id=\"matplotlib.axis_6\"/>\n   <g id=\"patch_13\">\n    <path d=\"M 184.447059 93.415064 \nL 184.447059 20.038594 \n\" style=\"fill: none; stroke: #bcbcbc; stroke-width: 0.8; stroke-linejoin: miter; stroke-linecap: square\"/>\n   </g>\n   <g id=\"patch_14\">\n    <path d=\"M 257.823529 93.415064 \nL 257.823529 20.038594 \n\" style=\"fill: none; stroke: #bcbcbc; stroke-width: 0.8; stroke-linejoin: miter; stroke-linecap: square\"/>\n   </g>\n   <g id=\"patch_15\">\n    <path d=\"M 184.447059 93.415064 \nL 257.823529 93.415064 \n\" style=\"fill: none; stroke: #bcbcbc; stroke-width: 0.8; stroke-linejoin: miter; stroke-linecap: square\"/>\n   </g>\n   <g id=\"patch_16\">\n    <path d=\"M 184.447059 20.038594 \nL 257.823529 20.038594 \n\" style=\"fill: none; stroke: #bcbcbc; stroke-width: 0.8; stroke-linejoin: miter; stroke-linecap: square\"/>\n   </g>\n   <g id=\"text_3\">\n    <!-- label: 1 -->\n    <g transform=\"translate(204.442403 14.038594)scale(0.09 -0.09)\">\n     <defs>\n      <path id=\"DejaVuSans-31\" d=\"M 794 531 \nL 1825 531 \nL 1825 4091 \nL 703 3866 \nL 703 4441 \nL 1819 4666 \nL 2450 4666 \nL 2450 531 \nL 3481 531 \nL 3481 0 \nL 794 0 \nL 794 531 \nz\n\" transform=\"scale(0.015625)\"/>\n     </defs>\n     <use xlink:href=\"#DejaVuSans-6c\"/>\n     <use xlink:href=\"#DejaVuSans-61\" x=\"27.783203\"/>\n     <use xlink:href=\"#DejaVuSans-62\" x=\"89.0625\"/>\n     <use xlink:href=\"#DejaVuSans-65\" x=\"152.539062\"/>\n     <use xlink:href=\"#DejaVuSans-6c\" x=\"214.0625\"/>\n     <use xlink:href=\"#DejaVuSans-3a\" x=\"241.845703\"/>\n     <use xlink:href=\"#DejaVuSans-20\" x=\"275.537109\"/>\n     <use xlink:href=\"#DejaVuSans-31\" x=\"307.324219\"/>\n    </g>\n   </g>\n  </g>\n  <g id=\"axes_4\">\n   <g id=\"patch_17\">\n    <path d=\"M 7.2 181.466829 \nL 80.576471 181.466829 \nL 80.576471 108.090358 \nL 7.2 108.090358 \nz\n\" style=\"fill: #eeeeee\"/>\n   </g>\n   <g clip-path=\"url(#p4a2f80f421)\">\n    <image xlink:href=\"data:image/png;base64,\niVBORw0KGgoAAAANSUhEUgAAAGYAAABmCAYAAAA53+RiAAAB0UlEQVR4nO3cMYrCQBhA4c1qOlNYiGeS3MbG2+QWKVOnySm0FKysRMheYGfcHZzNG/Z97WD44fFDEtRqnuf5QzifSw+g7xkGyjBQhoEyDJRhoAwDZRgow0AZBsowUIaBMgyUYaDWSw/wW1VVBc/qug6ePR6PHONk48ZAGQbKMFCGgTIMlGGgirtdjhmGYekR3saNgTIMlGGgDANlGCjDQOFul8/nc/Jn7/f7GydZlhsDZRgow0AZBsowUIaBwt0ur9fpI43jGDw7HA7J112CGwNlGCjDQBkGyjBQhoEyDBTuOeZ4PCZ/dr/fv3GSZbkxUIaBMgyUYaAMA2UYqKq0v16M/QZztVoFz57PZ45xsnFjoAwDZRgow0AZBsowULi3y6+0bRs86/s+eHa9XqPX3e12yTPl4MZAGQbKMFCGgTIMlGGgDANV3HNMqq7rouen0+mPJvkZNwbKMFCGgTIMlGGgDANV3LdkYv8X0zRN8Gy73Uave7vdkmfKwY2BMgyUYaAMA2UYKMNAFfd2ebPZBM8ul0vwbJqmHONk48ZAGQbKMFCGgTIMlGGginu7/F+4MVCGgTIMlGGgDANlGCjDQBkGyjBQhoEyDJRhoAwDZRioL8KHN8khnJFeAAAAAElFTkSuQmCC\" id=\"imagedb06751cc6\" transform=\"scale(1 -1)translate(0 -73.44)\" x=\"7.2\" y=\"-108.026829\" width=\"73.44\" height=\"73.44\"/>\n   </g>\n   <g id=\"matplotlib.axis_7\"/>\n   <g id=\"matplotlib.axis_8\"/>\n   <g id=\"patch_18\">\n    <path d=\"M 7.2 181.466829 \nL 7.2 108.090358 \n\" style=\"fill: none; stroke: #bcbcbc; stroke-width: 0.8; stroke-linejoin: miter; stroke-linecap: square\"/>\n   </g>\n   <g id=\"patch_19\">\n    <path d=\"M 80.576471 181.466829 \nL 80.576471 108.090358 \n\" style=\"fill: none; stroke: #bcbcbc; stroke-width: 0.8; stroke-linejoin: miter; stroke-linecap: square\"/>\n   </g>\n   <g id=\"patch_20\">\n    <path d=\"M 7.2 181.466829 \nL 80.576471 181.466829 \n\" style=\"fill: none; stroke: #bcbcbc; stroke-width: 0.8; stroke-linejoin: miter; stroke-linecap: square\"/>\n   </g>\n   <g id=\"patch_21\">\n    <path d=\"M 7.2 108.090358 \nL 80.576471 108.090358 \n\" style=\"fill: none; stroke: #bcbcbc; stroke-width: 0.8; stroke-linejoin: miter; stroke-linecap: square\"/>\n   </g>\n   <g id=\"text_4\">\n    <!-- label: 1 -->\n    <g transform=\"translate(27.195345 102.090358)scale(0.09 -0.09)\">\n     <use xlink:href=\"#DejaVuSans-6c\"/>\n     <use xlink:href=\"#DejaVuSans-61\" x=\"27.783203\"/>\n     <use xlink:href=\"#DejaVuSans-62\" x=\"89.0625\"/>\n     <use xlink:href=\"#DejaVuSans-65\" x=\"152.539062\"/>\n     <use xlink:href=\"#DejaVuSans-6c\" x=\"214.0625\"/>\n     <use xlink:href=\"#DejaVuSans-3a\" x=\"241.845703\"/>\n     <use xlink:href=\"#DejaVuSans-20\" x=\"275.537109\"/>\n     <use xlink:href=\"#DejaVuSans-31\" x=\"307.324219\"/>\n    </g>\n   </g>\n  </g>\n  <g id=\"axes_5\">\n   <g id=\"patch_22\">\n    <path d=\"M 95.823529 181.466829 \nL 169.2 181.466829 \nL 169.2 108.090358 \nL 95.823529 108.090358 \nz\n\" style=\"fill: #eeeeee\"/>\n   </g>\n   <g clip-path=\"url(#p23a369bea4)\">\n    <image xlink:href=\"data:image/png;base64,\niVBORw0KGgoAAAANSUhEUgAAAGYAAABmCAYAAAA53+RiAAABmElEQVR4nO3bsY2DQBBAUa9lArogoR4KQYIKqImAVigAEsqAa+D2pJO87F/7v3SSsb5GshEO13VdD+E8cy+g3xkGyjBQhoEyDJRhoAwDZRgow0AZBsowUIaBMgyUYaBeuRf4r+M4orO+76OzeZ5TrJOMFwNlGCjDQBkGyjBQhoEKpb0ls+97dNY0TXRW2Mf0YqgMA2UYKMNAGQbKMFDFPV0ehiE6CyHcuElaXgyUYaAMA2UYKMNAGQbKMFCGgTIMlGGgDANlGCjDQBkGqrjH/m3bRmfTNN24SVpeDJRhoAwDZRgow0AZBqq4l8q7rovOlmWJzs7zTLFOMl4MlGGgDANlGCjDQBkGqriny3+pqir3Cm/jxUAZBsowUIaBMgyUYaAMA/VRv2Pqus69wtt4MVCGgTIMlGGgDANlGKjivi6v6xqdjeN44yZpeTFQhoEyDJRhoAwDZRio4r4ub9uWe4VbeDFQhoEyDJRhoAwDZRio4v6D+S28GCjDQBkGyjBQhoEyDJRhoAwDZRgow0AZBsowUIaBMgzUD+sfLI14O8qEAAAAAElFTkSuQmCC\" id=\"image35da43b8f2\" transform=\"scale(1 -1)translate(0 -73.44)\" x=\"95.823529\" y=\"-108.026829\" width=\"73.44\" height=\"73.44\"/>\n   </g>\n   <g id=\"matplotlib.axis_9\"/>\n   <g id=\"matplotlib.axis_10\"/>\n   <g id=\"patch_23\">\n    <path d=\"M 95.823529 181.466829 \nL 95.823529 108.090358 \n\" style=\"fill: none; stroke: #bcbcbc; stroke-width: 0.8; stroke-linejoin: miter; stroke-linecap: square\"/>\n   </g>\n   <g id=\"patch_24\">\n    <path d=\"M 169.2 181.466829 \nL 169.2 108.090358 \n\" style=\"fill: none; stroke: #bcbcbc; stroke-width: 0.8; stroke-linejoin: miter; stroke-linecap: square\"/>\n   </g>\n   <g id=\"patch_25\">\n    <path d=\"M 95.823529 181.466829 \nL 169.2 181.466829 \n\" style=\"fill: none; stroke: #bcbcbc; stroke-width: 0.8; stroke-linejoin: miter; stroke-linecap: square\"/>\n   </g>\n   <g id=\"patch_26\">\n    <path d=\"M 95.823529 108.090358 \nL 169.2 108.090358 \n\" style=\"fill: none; stroke: #bcbcbc; stroke-width: 0.8; stroke-linejoin: miter; stroke-linecap: square\"/>\n   </g>\n   <g id=\"text_5\">\n    <!-- label: 1 -->\n    <g transform=\"translate(115.818874 102.090358)scale(0.09 -0.09)\">\n     <use xlink:href=\"#DejaVuSans-6c\"/>\n     <use xlink:href=\"#DejaVuSans-61\" x=\"27.783203\"/>\n     <use xlink:href=\"#DejaVuSans-62\" x=\"89.0625\"/>\n     <use xlink:href=\"#DejaVuSans-65\" x=\"152.539062\"/>\n     <use xlink:href=\"#DejaVuSans-6c\" x=\"214.0625\"/>\n     <use xlink:href=\"#DejaVuSans-3a\" x=\"241.845703\"/>\n     <use xlink:href=\"#DejaVuSans-20\" x=\"275.537109\"/>\n     <use xlink:href=\"#DejaVuSans-31\" x=\"307.324219\"/>\n    </g>\n   </g>\n  </g>\n  <g id=\"axes_6\">\n   <g id=\"patch_27\">\n    <path d=\"M 184.447059 181.466829 \nL 257.823529 181.466829 \nL 257.823529 108.090358 \nL 184.447059 108.090358 \nz\n\" style=\"fill: #eeeeee\"/>\n   </g>\n   <g clip-path=\"url(#pa29bfa36ee)\">\n    <image xlink:href=\"data:image/png;base64,\niVBORw0KGgoAAAANSUhEUgAAAGYAAABmCAYAAAA53+RiAAACeElEQVR4nO3cva4xURiG4TWfn4aCSBQOQ6GjE3EIGscgOmoVR6B0BipRqHSOQk2ikPhJhNjFbr93SdbsFU9xX+0bsyb7zkpmZg/J+/1+O8j59+0TwP8RRhRhRBFGFGFEEUYUYUQRRhRhRBFGFGFEEUYUYUQRRlQ21oGn06k5ezweUdYcDAbmrFgsRlkzFnaMKMKIIowowogijCjCiErSvCVTKpXM2fl8DjpmpVLxzk+nU9BxP9lut+as2WxGWdOHHSOKMKIII4owoggjijCiUj1d9l0Sq72rPplMvPNWq2XOyuWyOTsej+Ysmw3/87JjRBFGFGFEEUYUYUQRRlSqp8uZTMacvV6v0MN+xfP5NGe5XM6cdbtdc7ZarYLPhx0jijCiCCOKMKIII4owoggjKtVjf9+9iu++oNfrmbPRaORds16vfz6xAPf7PehztVrtj8/kFztGFGFEEUYUYUQRRhRhRKV67O9zu93MWaFQiLFkNNVq1ZwdDocoa7JjRBFGFGFEEUYUYUQRRlS0y+VQvqfSzjk3m83M2Xg8Dl53sViYs36/H3zcUOwYUYQRRRhRhBFFGFGEEUUYUdHuY3xv0Phm+Xw+xum4drvtnW82G3N2uVzMWax/YbBjRBFGFGFEEUYUYUQRRlS0y+Xr9WrOfL8a7vvCrXPOzedzc+Z7PO/7gqtzziVJYs4ajYY52+123uOGYseIIowowogijCjCiCKMqK+8JbNcLs3ZcDj0fna/3//x2Xy2Xq/NWafTibImO0YUYUQRRhRhRBFGFGFEyb1Ujl/sGFGEEUUYUYQRRRhRhBFFGFGEEUUYUYQRRRhRhBFFGFGEEfUDEzuA49sF+DQAAAAASUVORK5CYII=\" id=\"imagefe71b37247\" transform=\"scale(1 -1)translate(0 -73.44)\" x=\"184.447059\" y=\"-108.026829\" width=\"73.44\" height=\"73.44\"/>\n   </g>\n   <g id=\"matplotlib.axis_11\"/>\n   <g id=\"matplotlib.axis_12\"/>\n   <g id=\"patch_28\">\n    <path d=\"M 184.447059 181.466829 \nL 184.447059 108.090358 \n\" style=\"fill: none; stroke: #bcbcbc; stroke-width: 0.8; stroke-linejoin: miter; stroke-linecap: square\"/>\n   </g>\n   <g id=\"patch_29\">\n    <path d=\"M 257.823529 181.466829 \nL 257.823529 108.090358 \n\" style=\"fill: none; stroke: #bcbcbc; stroke-width: 0.8; stroke-linejoin: miter; stroke-linecap: square\"/>\n   </g>\n   <g id=\"patch_30\">\n    <path d=\"M 184.447059 181.466829 \nL 257.823529 181.466829 \n\" style=\"fill: none; stroke: #bcbcbc; stroke-width: 0.8; stroke-linejoin: miter; stroke-linecap: square\"/>\n   </g>\n   <g id=\"patch_31\">\n    <path d=\"M 184.447059 108.090358 \nL 257.823529 108.090358 \n\" style=\"fill: none; stroke: #bcbcbc; stroke-width: 0.8; stroke-linejoin: miter; stroke-linecap: square\"/>\n   </g>\n   <g id=\"text_6\">\n    <!-- label: 3 -->\n    <g transform=\"translate(204.442403 102.090358)scale(0.09 -0.09)\">\n     <defs>\n      <path id=\"DejaVuSans-33\" d=\"M 2597 2516 \nQ 3050 2419 3304 2112 \nQ 3559 1806 3559 1356 \nQ 3559 666 3084 287 \nQ 2609 -91 1734 -91 \nQ 1441 -91 1130 -33 \nQ 819 25 488 141 \nL 488 750 \nQ 750 597 1062 519 \nQ 1375 441 1716 441 \nQ 2309 441 2620 675 \nQ 2931 909 2931 1356 \nQ 2931 1769 2642 2001 \nQ 2353 2234 1838 2234 \nL 1294 2234 \nL 1294 2753 \nL 1863 2753 \nQ 2328 2753 2575 2939 \nQ 2822 3125 2822 3475 \nQ 2822 3834 2567 4026 \nQ 2313 4219 1838 4219 \nQ 1578 4219 1281 4162 \nQ 984 4106 628 3988 \nL 628 4550 \nQ 988 4650 1302 4700 \nQ 1616 4750 1894 4750 \nQ 2613 4750 3031 4423 \nQ 3450 4097 3450 3541 \nQ 3450 3153 3228 2886 \nQ 3006 2619 2597 2516 \nz\n\" transform=\"scale(0.015625)\"/>\n     </defs>\n     <use xlink:href=\"#DejaVuSans-6c\"/>\n     <use xlink:href=\"#DejaVuSans-61\" x=\"27.783203\"/>\n     <use xlink:href=\"#DejaVuSans-62\" x=\"89.0625\"/>\n     <use xlink:href=\"#DejaVuSans-65\" x=\"152.539062\"/>\n     <use xlink:href=\"#DejaVuSans-6c\" x=\"214.0625\"/>\n     <use xlink:href=\"#DejaVuSans-3a\" x=\"241.845703\"/>\n     <use xlink:href=\"#DejaVuSans-20\" x=\"275.537109\"/>\n     <use xlink:href=\"#DejaVuSans-33\" x=\"307.324219\"/>\n    </g>\n   </g>\n  </g>\n  <g id=\"axes_7\">\n   <g id=\"patch_32\">\n    <path d=\"M 7.2 269.518594 \nL 80.576471 269.518594 \nL 80.576471 196.142123 \nL 7.2 196.142123 \nz\n\" style=\"fill: #eeeeee\"/>\n   </g>\n   <g clip-path=\"url(#p647c4305fc)\">\n    <image xlink:href=\"data:image/png;base64,\niVBORw0KGgoAAAANSUhEUgAAAGYAAABmCAYAAAA53+RiAAACRklEQVR4nO3cMYoiQRhA4Zp1DYVBBAUjD2CiYGgi3sDcA5h4BFOv4jW8gKF4ABEcQTAxUNwL7F8urTu+wfelP9Ndw6OgnSn743a73ZJwfr16Afo7w0AZBsowUIaBMgyUYaAMA2UYKMNAGQbKMFCGgTIM1O9XL+C7lEql7Px6vX7TSv6NOwbKMFCGgTIMlGGgDAP18S6nZCaTSXbe6/XC2Xg8fvZy7nLHQBkGyjBQhoEyDJRhoN7mcflyuWTn9Xo9nB0Oh2cv5y53DJRhoAwDZRgow0AZBuqhwxjr9TqcdbvdcHY+nwvfs9VqhbP5fB7OhsNh9rq5Ne12u3DWaDSy1y3KHQNlGCjDQBkGyjBQhoEyDNRDn2MGg0E4Wy6X4azT6RS+53a7DWebzSacjUaj7HVrtVo4azab4Wy1WoWzdrudvWeOOwbKMFCGgTIMlGGgDAP10CmZ0+kUzj4/P8NZ7tRJ7udeJff9zdy/C8rlcuF7umOgDANlGCjDQBkGyjBQD/11uVKphLPj8RjOco/EtFeHpJRStVoNZ488Eue4Y6AMA2UYKMNAGQbKMFCGgfpvr17MfcbJfUsgd1olpZS+vr4Kr6mo/X4fzmazWaHZPe4YKMNAGQbKMFCGgTIMFO5dMrlD4ymlNJ1Ow9lisXjyal7HHQNlGCjDQBkGyjBQhoHCPS7fk/tuZ7/fD2c/7Nd0x1AZBsowUIaBMgyUYaB+3OPyu3DHQBkGyjBQhoEyDJRhoAwDZRgow0AZBsowUIaBMgyUYaD+AB/9a60NcizsAAAAAElFTkSuQmCC\" id=\"image16db2bb551\" transform=\"scale(1 -1)translate(0 -73.44)\" x=\"7.2\" y=\"-196.078594\" width=\"73.44\" height=\"73.44\"/>\n   </g>\n   <g id=\"matplotlib.axis_13\"/>\n   <g id=\"matplotlib.axis_14\"/>\n   <g id=\"patch_33\">\n    <path d=\"M 7.2 269.518594 \nL 7.2 196.142123 \n\" style=\"fill: none; stroke: #bcbcbc; stroke-width: 0.8; stroke-linejoin: miter; stroke-linecap: square\"/>\n   </g>\n   <g id=\"patch_34\">\n    <path d=\"M 80.576471 269.518594 \nL 80.576471 196.142123 \n\" style=\"fill: none; stroke: #bcbcbc; stroke-width: 0.8; stroke-linejoin: miter; stroke-linecap: square\"/>\n   </g>\n   <g id=\"patch_35\">\n    <path d=\"M 7.2 269.518594 \nL 80.576471 269.518594 \n\" style=\"fill: none; stroke: #bcbcbc; stroke-width: 0.8; stroke-linejoin: miter; stroke-linecap: square\"/>\n   </g>\n   <g id=\"patch_36\">\n    <path d=\"M 7.2 196.142123 \nL 80.576471 196.142123 \n\" style=\"fill: none; stroke: #bcbcbc; stroke-width: 0.8; stroke-linejoin: miter; stroke-linecap: square\"/>\n   </g>\n   <g id=\"text_7\">\n    <!-- label: 4 -->\n    <g transform=\"translate(27.195345 190.142123)scale(0.09 -0.09)\">\n     <defs>\n      <path id=\"DejaVuSans-34\" d=\"M 2419 4116 \nL 825 1625 \nL 2419 1625 \nL 2419 4116 \nz\nM 2253 4666 \nL 3047 4666 \nL 3047 1625 \nL 3713 1625 \nL 3713 1100 \nL 3047 1100 \nL 3047 0 \nL 2419 0 \nL 2419 1100 \nL 313 1100 \nL 313 1709 \nL 2253 4666 \nz\n\" transform=\"scale(0.015625)\"/>\n     </defs>\n     <use xlink:href=\"#DejaVuSans-6c\"/>\n     <use xlink:href=\"#DejaVuSans-61\" x=\"27.783203\"/>\n     <use xlink:href=\"#DejaVuSans-62\" x=\"89.0625\"/>\n     <use xlink:href=\"#DejaVuSans-65\" x=\"152.539062\"/>\n     <use xlink:href=\"#DejaVuSans-6c\" x=\"214.0625\"/>\n     <use xlink:href=\"#DejaVuSans-3a\" x=\"241.845703\"/>\n     <use xlink:href=\"#DejaVuSans-20\" x=\"275.537109\"/>\n     <use xlink:href=\"#DejaVuSans-34\" x=\"307.324219\"/>\n    </g>\n   </g>\n  </g>\n  <g id=\"axes_8\">\n   <g id=\"patch_37\">\n    <path d=\"M 95.823529 269.518594 \nL 169.2 269.518594 \nL 169.2 196.142123 \nL 95.823529 196.142123 \nz\n\" style=\"fill: #eeeeee\"/>\n   </g>\n   <g clip-path=\"url(#p79bcdc7373)\">\n    <image xlink:href=\"data:image/png;base64,\niVBORw0KGgoAAAANSUhEUgAAAGYAAABmCAYAAAA53+RiAAAB50lEQVR4nO3bMY6CQBhAYdCNd7DyBoSLkFjZeQxre29BzQk8Ap1XMKHiCBJle7MzJAaWx+772j+aSd7+CZLZtO/7PhHOau4D6GeGgTIMlGGgDANlGCjDQBkGyjBQhoEyDJRhoAwDZRior7kP8G69XkfnTdMEZ9vtduzjzMaNgTIMlGGgDANlGCjDQOEel4fUdR2c7ff73zvIxNwYKMNAGQbKMFCGgTIMVEq7VF4URXR+vV6Ds8fjMfZxZuPGQBkGyjBQhoEyDJRhoHCPy23bRuexCxfP53Ps48zGjYEyDJRhoAwDZRgow0AZBgr3O2bIahX+W7rdbsFZlmUTnGY6bgyUYaAMA2UYKMNAGQZqcZfKz+dzcJbneXD2er0mOM103Bgow0AZBsowUIaBMgzU4t4ud10XnG02m+DscrlEv/d0On18pim4MVCGgTIMlGGgDANlGCjDQC3ud0xM7AZNmqbRz9L+U8CNgTIMlGGgDANlGCjDQC3ulkxMVVXB2eFwiH72fr8HZ7vd7uMzfcqNgTIMlGGgDANlGCjDQP2pt8sxsTfPSZIkZVkGZ8fjcezjDHJjoAwDZRgow0AZBsowUP/mcXlp3Bgow0AZBsowUIaBMgyUYaAMA2UYKMNAGQbKMFCGgTIM1Dd5yU0CwCLCGgAAAABJRU5ErkJggg==\" id=\"image1d6e1fb538\" transform=\"scale(1 -1)translate(0 -73.44)\" x=\"95.823529\" y=\"-196.078594\" width=\"73.44\" height=\"73.44\"/>\n   </g>\n   <g id=\"matplotlib.axis_15\"/>\n   <g id=\"matplotlib.axis_16\"/>\n   <g id=\"patch_38\">\n    <path d=\"M 95.823529 269.518594 \nL 95.823529 196.142123 \n\" style=\"fill: none; stroke: #bcbcbc; stroke-width: 0.8; stroke-linejoin: miter; stroke-linecap: square\"/>\n   </g>\n   <g id=\"patch_39\">\n    <path d=\"M 169.2 269.518594 \nL 169.2 196.142123 \n\" style=\"fill: none; stroke: #bcbcbc; stroke-width: 0.8; stroke-linejoin: miter; stroke-linecap: square\"/>\n   </g>\n   <g id=\"patch_40\">\n    <path d=\"M 95.823529 269.518594 \nL 169.2 269.518594 \n\" style=\"fill: none; stroke: #bcbcbc; stroke-width: 0.8; stroke-linejoin: miter; stroke-linecap: square\"/>\n   </g>\n   <g id=\"patch_41\">\n    <path d=\"M 95.823529 196.142123 \nL 169.2 196.142123 \n\" style=\"fill: none; stroke: #bcbcbc; stroke-width: 0.8; stroke-linejoin: miter; stroke-linecap: square\"/>\n   </g>\n   <g id=\"text_8\">\n    <!-- label: 1 -->\n    <g transform=\"translate(115.818874 190.142123)scale(0.09 -0.09)\">\n     <use xlink:href=\"#DejaVuSans-6c\"/>\n     <use xlink:href=\"#DejaVuSans-61\" x=\"27.783203\"/>\n     <use xlink:href=\"#DejaVuSans-62\" x=\"89.0625\"/>\n     <use xlink:href=\"#DejaVuSans-65\" x=\"152.539062\"/>\n     <use xlink:href=\"#DejaVuSans-6c\" x=\"214.0625\"/>\n     <use xlink:href=\"#DejaVuSans-3a\" x=\"241.845703\"/>\n     <use xlink:href=\"#DejaVuSans-20\" x=\"275.537109\"/>\n     <use xlink:href=\"#DejaVuSans-31\" x=\"307.324219\"/>\n    </g>\n   </g>\n  </g>\n  <g id=\"axes_9\">\n   <g id=\"patch_42\">\n    <path d=\"M 184.447059 269.518594 \nL 257.823529 269.518594 \nL 257.823529 196.142123 \nL 184.447059 196.142123 \nz\n\" style=\"fill: #eeeeee\"/>\n   </g>\n   <g clip-path=\"url(#pc5c6ff2284)\">\n    <image xlink:href=\"data:image/png;base64,\niVBORw0KGgoAAAANSUhEUgAAAGYAAABmCAYAAAA53+RiAAACT0lEQVR4nO3aLaqqQRyAcb/AKuJC7Cb3YDRpMRi1GSxiUjScoLgAowtwA4JbcAFWP5roCRduujMH5r0en/D86p8z7xweBkaY/Ov1euWEU/j0BvRvhoEyDJRhoAwDZRgow0AZBsowUIaBMgyUYaAMA2UYKMNAGQbKMFCGgTIMlGGgDANVetfCjUYjODscDm/5ZuzBT7/fj/7tcrn839vJxBMDZRgow0AZBsowUIaBymd5VJ7P54OzQuH3mz+fz+Asy372+31w1mw2k9eN8cRAGQbKMFCGgTIMlGGgMl2Xi8VieOHIVfp+vwdn5XI5+s3Ylfh2uwVnk8kkuu5sNovOQ9brdXDW6XSS1szlPDFYhoEyDJRhoAwDZRgow0B95HfM8XgMzur1eup23qZUSntM9Hg8kr/piYEyDJRhoAwDZRgow0Blui5vt9vgrN1uJ62Z5Yr5Ll6X9ZdhoAwDZRgow0AZBirTdTmmWq0GZ5fLJTgbjUbRdcfjceqWohaLRXA2GAyCs9irnthroJ94YqAMA2UYKMNAGQbKMFCGgXrb75jr9RqcVSqV5HW/vr6Cs16vF5zN5/PousPhMGk/5/M5OKvVaklr5nKeGCzDQBkGyjBQhoEyDNTbrssxu90uOGu1Wsnrxv6V2CP3n6xWq+Cs2+0mrxvjiYEyDJRhoAwDZRgow0B95Locs9lsovPpdBqcZbkun06n+MZ+mScGyjBQhoEyDJRhoAwDhbsu6w9PDJRhoAwDZRgow0AZBsowUIaBMgyUYaAMA2UYKMNAGQbqG9Cyf53e582pAAAAAElFTkSuQmCC\" id=\"imagef97a3f9e7b\" transform=\"scale(1 -1)translate(0 -73.44)\" x=\"184.447059\" y=\"-196.078594\" width=\"73.44\" height=\"73.44\"/>\n   </g>\n   <g id=\"matplotlib.axis_17\"/>\n   <g id=\"matplotlib.axis_18\"/>\n   <g id=\"patch_43\">\n    <path d=\"M 184.447059 269.518594 \nL 184.447059 196.142123 \n\" style=\"fill: none; stroke: #bcbcbc; stroke-width: 0.8; stroke-linejoin: miter; stroke-linecap: square\"/>\n   </g>\n   <g id=\"patch_44\">\n    <path d=\"M 257.823529 269.518594 \nL 257.823529 196.142123 \n\" style=\"fill: none; stroke: #bcbcbc; stroke-width: 0.8; stroke-linejoin: miter; stroke-linecap: square\"/>\n   </g>\n   <g id=\"patch_45\">\n    <path d=\"M 184.447059 269.518594 \nL 257.823529 269.518594 \n\" style=\"fill: none; stroke: #bcbcbc; stroke-width: 0.8; stroke-linejoin: miter; stroke-linecap: square\"/>\n   </g>\n   <g id=\"patch_46\">\n    <path d=\"M 184.447059 196.142123 \nL 257.823529 196.142123 \n\" style=\"fill: none; stroke: #bcbcbc; stroke-width: 0.8; stroke-linejoin: miter; stroke-linecap: square\"/>\n   </g>\n   <g id=\"text_9\">\n    <!-- label: 0 -->\n    <g transform=\"translate(204.442403 190.142123)scale(0.09 -0.09)\">\n     <defs>\n      <path id=\"DejaVuSans-30\" d=\"M 2034 4250 \nQ 1547 4250 1301 3770 \nQ 1056 3291 1056 2328 \nQ 1056 1369 1301 889 \nQ 1547 409 2034 409 \nQ 2525 409 2770 889 \nQ 3016 1369 3016 2328 \nQ 3016 3291 2770 3770 \nQ 2525 4250 2034 4250 \nz\nM 2034 4750 \nQ 2819 4750 3233 4129 \nQ 3647 3509 3647 2328 \nQ 3647 1150 3233 529 \nQ 2819 -91 2034 -91 \nQ 1250 -91 836 529 \nQ 422 1150 422 2328 \nQ 422 3509 836 4129 \nQ 1250 4750 2034 4750 \nz\n\" transform=\"scale(0.015625)\"/>\n     </defs>\n     <use xlink:href=\"#DejaVuSans-6c\"/>\n     <use xlink:href=\"#DejaVuSans-61\" x=\"27.783203\"/>\n     <use xlink:href=\"#DejaVuSans-62\" x=\"89.0625\"/>\n     <use xlink:href=\"#DejaVuSans-65\" x=\"152.539062\"/>\n     <use xlink:href=\"#DejaVuSans-6c\" x=\"214.0625\"/>\n     <use xlink:href=\"#DejaVuSans-3a\" x=\"241.845703\"/>\n     <use xlink:href=\"#DejaVuSans-20\" x=\"275.537109\"/>\n     <use xlink:href=\"#DejaVuSans-30\" x=\"307.324219\"/>\n    </g>\n   </g>\n  </g>\n </g>\n <defs>\n  <clipPath id=\"pb80517b047\">\n   <rect x=\"7.2\" y=\"20.038594\" width=\"73.376471\" height=\"73.376471\"/>\n  </clipPath>\n  <clipPath id=\"p17c78c8cf4\">\n   <rect x=\"95.823529\" y=\"20.038594\" width=\"73.376471\" height=\"73.376471\"/>\n  </clipPath>\n  <clipPath id=\"p33ddf38039\">\n   <rect x=\"184.447059\" y=\"20.038594\" width=\"73.376471\" height=\"73.376471\"/>\n  </clipPath>\n  <clipPath id=\"p4a2f80f421\">\n   <rect x=\"7.2\" y=\"108.090358\" width=\"73.376471\" height=\"73.376471\"/>\n  </clipPath>\n  <clipPath id=\"p23a369bea4\">\n   <rect x=\"95.823529\" y=\"108.090358\" width=\"73.376471\" height=\"73.376471\"/>\n  </clipPath>\n  <clipPath id=\"pa29bfa36ee\">\n   <rect x=\"184.447059\" y=\"108.090358\" width=\"73.376471\" height=\"73.376471\"/>\n  </clipPath>\n  <clipPath id=\"p647c4305fc\">\n   <rect x=\"7.2\" y=\"196.142123\" width=\"73.376471\" height=\"73.376471\"/>\n  </clipPath>\n  <clipPath id=\"p79bcdc7373\">\n   <rect x=\"95.823529\" y=\"196.142123\" width=\"73.376471\" height=\"73.376471\"/>\n  </clipPath>\n  <clipPath id=\"pc5c6ff2284\">\n   <rect x=\"184.447059\" y=\"196.142123\" width=\"73.376471\" height=\"73.376471\"/>\n  </clipPath>\n </defs>\n</svg>\n",
      "text/plain": [
       "<Figure size 450x450 with 9 Axes>"
      ]
     },
     "metadata": {},
     "output_type": "display_data"
    }
   ],
   "source": [
    "set_figsize((4.5,4.5))\n",
    "\n",
    "show_img_grid(\n",
    "    [train_images_scaled[i].reshape(img_shape) for i in range(9)],\n",
    "    [f\"label: {jnp.argmax(train_labels[i])}\" for i in range(9)]\n",
    ")"
   ]
  },
  {
   "cell_type": "markdown",
   "id": "76114d82",
   "metadata": {},
   "source": [
    "# Feature Map"
   ]
  },
  {
   "cell_type": "code",
   "execution_count": 21,
   "id": "725a1acd",
   "metadata": {},
   "outputs": [],
   "source": [
    "def feature_map(x: Scalar) -> Vector:\n",
    "    \"\"\"Definine a feature map per pixel\"\"\"\n",
    "    return jnp.asarray([\n",
    "        jnp.cos(0.5 * jnp.pi * x),\n",
    "        jnp.sin(0.5 * jnp.pi * x)\n",
    "    ])"
   ]
  },
  {
   "cell_type": "code",
   "execution_count": 22,
   "id": "b7474f74",
   "metadata": {},
   "outputs": [],
   "source": [
    "# applying the feature map in vectorized form\n",
    "# exchanging axes for convenience (leading axes have the largest dimensions)\n",
    "train_samples = jax.vmap(feature_map)(train_images_scaled).transpose(0,2,1)  \n",
    "test_samples = jax.vmap(feature_map)(test_images_scaled).transpose(0,2,1)"
   ]
  },
  {
   "cell_type": "code",
   "execution_count": 23,
   "id": "8ec309fc",
   "metadata": {},
   "outputs": [
    {
     "name": "stdout",
     "output_type": "stream",
     "text": [
      "Train data shape: (20000, 196, 2) | Test data shape: (10000, 196, 2)\n"
     ]
    }
   ],
   "source": [
    "print(f'Train data shape: {train_samples.shape} | Test data shape: {test_samples.shape}')"
   ]
  },
  {
   "cell_type": "code",
   "execution_count": 24,
   "id": "2e30c78d",
   "metadata": {},
   "outputs": [
    {
     "data": {
      "image/svg+xml": "<?xml version=\"1.0\" encoding=\"utf-8\" standalone=\"no\"?>\n<!DOCTYPE svg PUBLIC \"-//W3C//DTD SVG 1.1//EN\"\n  \"http://www.w3.org/Graphics/SVG/1.1/DTD/svg11.dtd\">\n<svg xmlns:xlink=\"http://www.w3.org/1999/xlink\" width=\"186.872727pt\" height=\"199.102594pt\" viewBox=\"0 0 186.872727 199.102594\" xmlns=\"http://www.w3.org/2000/svg\" version=\"1.1\">\n <metadata>\n  <rdf:RDF xmlns:dc=\"http://purl.org/dc/elements/1.1/\" xmlns:cc=\"http://creativecommons.org/ns#\" xmlns:rdf=\"http://www.w3.org/1999/02/22-rdf-syntax-ns#\">\n   <cc:Work>\n    <dc:type rdf:resource=\"http://purl.org/dc/dcmitype/StillImage\"/>\n    <dc:date>2022-05-08T21:20:52.350375</dc:date>\n    <dc:format>image/svg+xml</dc:format>\n    <dc:creator>\n     <cc:Agent>\n      <dc:title>Matplotlib v3.5.2, https://matplotlib.org/</dc:title>\n     </cc:Agent>\n    </dc:creator>\n   </cc:Work>\n  </rdf:RDF>\n </metadata>\n <defs>\n  <style type=\"text/css\">*{stroke-linejoin: round; stroke-linecap: butt}</style>\n </defs>\n <g id=\"figure_1\">\n  <g id=\"patch_1\">\n   <path d=\"M 0 199.102594 \nL 186.872727 199.102594 \nL 186.872727 0 \nL 0 0 \nz\n\" style=\"fill: #ffffff\"/>\n  </g>\n  <g id=\"axes_1\">\n   <g id=\"patch_2\">\n    <path d=\"M 7.2 98.158594 \nL 85.32 98.158594 \nL 85.32 20.038594 \nL 7.2 20.038594 \nz\n\" style=\"fill: #eeeeee\"/>\n   </g>\n   <g clip-path=\"url(#p49d29c3dcb)\">\n    <image xlink:href=\"data:image/png;base64,\niVBORw0KGgoAAAANSUhEUgAAAG0AAABtCAYAAACr+O9WAAAB4UlEQVR4nO3dMYrCQBhA4cmybcDGKq3gBXK+XC0HiKWWtoJgITlAshfY/GFxNPOW97U/gYHHgMOEWKWU5iSUr60XoL8zGpDRgIwGZDQgowEZDeh76wVEmqYJ55fLZXG22+0yr6Yc7jQgowEZDchoQEYDMhqQ0YCqVPB9Wl3X4Xwcx8VZVVW5l1MMdxqQ0YCMBmQ0IKMBGQ2o6J/8a+Z5een7/T589vF45F7Ox7jTgIwGZDQgowEZDchoQEYDQp/Tns/n4ux+v4fPHo/HzKv5HHcakNGAjAZkNCCjARkNyGhA6HNaJLprS4n9ip07DchoQEYDMhqQ0YCMBmQ0oKI/SfFOa+e0tXPeltxpQEYDMhqQ0YCMBmQ0IKMB/dtzWtd14XwYhnDetm3O5WTlTgMyGpDRgIwGZDQgowFt+grdO69H1r5g1/d9OPcnv7IyGpDRgIwGZDQgowEZDWjTq5lpmsL54XAI59frdXF2Op3CZ8/nczgvmTsNyGhARgMyGpDRgIwGZDSgoj9J8cp92u12C+dr/+xbMncakNGAjAZkNCCjARkNyGhARZ/T9Dt3GpDRgIwGZDQgowEZDchoQEYDMhqQ0YCMBmQ0IKMBGQ3IaEBGAzIakNGAjAZkNCCjARkN6Afd6zwnb8bfxwAAAABJRU5ErkJggg==\" id=\"image6556fe8749\" transform=\"scale(1 -1)translate(0 -78.48)\" x=\"7.2\" y=\"-19.678594\" width=\"78.48\" height=\"78.48\"/>\n   </g>\n   <g id=\"matplotlib.axis_1\"/>\n   <g id=\"matplotlib.axis_2\"/>\n   <g id=\"patch_3\">\n    <path d=\"M 7.2 98.158594 \nL 7.2 20.038594 \n\" style=\"fill: none; stroke: #bcbcbc; stroke-width: 0.8; stroke-linejoin: miter; stroke-linecap: square\"/>\n   </g>\n   <g id=\"patch_4\">\n    <path d=\"M 85.32 98.158594 \nL 85.32 20.038594 \n\" style=\"fill: none; stroke: #bcbcbc; stroke-width: 0.8; stroke-linejoin: miter; stroke-linecap: square\"/>\n   </g>\n   <g id=\"patch_5\">\n    <path d=\"M 7.2 98.158594 \nL 85.32 98.158594 \n\" style=\"fill: none; stroke: #bcbcbc; stroke-width: 0.8; stroke-linejoin: miter; stroke-linecap: square\"/>\n   </g>\n   <g id=\"patch_6\">\n    <path d=\"M 7.2 20.038594 \nL 85.32 20.038594 \n\" style=\"fill: none; stroke: #bcbcbc; stroke-width: 0.8; stroke-linejoin: miter; stroke-linecap: square\"/>\n   </g>\n   <g id=\"text_1\">\n    <!-- label: 7 -->\n    <g transform=\"translate(29.567109 14.038594)scale(0.09 -0.09)\">\n     <defs>\n      <path id=\"DejaVuSans-6c\" d=\"M 603 4863 \nL 1178 4863 \nL 1178 0 \nL 603 0 \nL 603 4863 \nz\n\" transform=\"scale(0.015625)\"/>\n      <path id=\"DejaVuSans-61\" d=\"M 2194 1759 \nQ 1497 1759 1228 1600 \nQ 959 1441 959 1056 \nQ 959 750 1161 570 \nQ 1363 391 1709 391 \nQ 2188 391 2477 730 \nQ 2766 1069 2766 1631 \nL 2766 1759 \nL 2194 1759 \nz\nM 3341 1997 \nL 3341 0 \nL 2766 0 \nL 2766 531 \nQ 2569 213 2275 61 \nQ 1981 -91 1556 -91 \nQ 1019 -91 701 211 \nQ 384 513 384 1019 \nQ 384 1609 779 1909 \nQ 1175 2209 1959 2209 \nL 2766 2209 \nL 2766 2266 \nQ 2766 2663 2505 2880 \nQ 2244 3097 1772 3097 \nQ 1472 3097 1187 3025 \nQ 903 2953 641 2809 \nL 641 3341 \nQ 956 3463 1253 3523 \nQ 1550 3584 1831 3584 \nQ 2591 3584 2966 3190 \nQ 3341 2797 3341 1997 \nz\n\" transform=\"scale(0.015625)\"/>\n      <path id=\"DejaVuSans-62\" d=\"M 3116 1747 \nQ 3116 2381 2855 2742 \nQ 2594 3103 2138 3103 \nQ 1681 3103 1420 2742 \nQ 1159 2381 1159 1747 \nQ 1159 1113 1420 752 \nQ 1681 391 2138 391 \nQ 2594 391 2855 752 \nQ 3116 1113 3116 1747 \nz\nM 1159 2969 \nQ 1341 3281 1617 3432 \nQ 1894 3584 2278 3584 \nQ 2916 3584 3314 3078 \nQ 3713 2572 3713 1747 \nQ 3713 922 3314 415 \nQ 2916 -91 2278 -91 \nQ 1894 -91 1617 61 \nQ 1341 213 1159 525 \nL 1159 0 \nL 581 0 \nL 581 4863 \nL 1159 4863 \nL 1159 2969 \nz\n\" transform=\"scale(0.015625)\"/>\n      <path id=\"DejaVuSans-65\" d=\"M 3597 1894 \nL 3597 1613 \nL 953 1613 \nQ 991 1019 1311 708 \nQ 1631 397 2203 397 \nQ 2534 397 2845 478 \nQ 3156 559 3463 722 \nL 3463 178 \nQ 3153 47 2828 -22 \nQ 2503 -91 2169 -91 \nQ 1331 -91 842 396 \nQ 353 884 353 1716 \nQ 353 2575 817 3079 \nQ 1281 3584 2069 3584 \nQ 2775 3584 3186 3129 \nQ 3597 2675 3597 1894 \nz\nM 3022 2063 \nQ 3016 2534 2758 2815 \nQ 2500 3097 2075 3097 \nQ 1594 3097 1305 2825 \nQ 1016 2553 972 2059 \nL 3022 2063 \nz\n\" transform=\"scale(0.015625)\"/>\n      <path id=\"DejaVuSans-3a\" d=\"M 750 794 \nL 1409 794 \nL 1409 0 \nL 750 0 \nL 750 794 \nz\nM 750 3309 \nL 1409 3309 \nL 1409 2516 \nL 750 2516 \nL 750 3309 \nz\n\" transform=\"scale(0.015625)\"/>\n      <path id=\"DejaVuSans-20\" transform=\"scale(0.015625)\"/>\n      <path id=\"DejaVuSans-37\" d=\"M 525 4666 \nL 3525 4666 \nL 3525 4397 \nL 1831 0 \nL 1172 0 \nL 2766 4134 \nL 525 4134 \nL 525 4666 \nz\n\" transform=\"scale(0.015625)\"/>\n     </defs>\n     <use xlink:href=\"#DejaVuSans-6c\"/>\n     <use xlink:href=\"#DejaVuSans-61\" x=\"27.783203\"/>\n     <use xlink:href=\"#DejaVuSans-62\" x=\"89.0625\"/>\n     <use xlink:href=\"#DejaVuSans-65\" x=\"152.539062\"/>\n     <use xlink:href=\"#DejaVuSans-6c\" x=\"214.0625\"/>\n     <use xlink:href=\"#DejaVuSans-3a\" x=\"241.845703\"/>\n     <use xlink:href=\"#DejaVuSans-20\" x=\"275.537109\"/>\n     <use xlink:href=\"#DejaVuSans-37\" x=\"307.324219\"/>\n    </g>\n   </g>\n  </g>\n  <g id=\"axes_2\">\n   <g id=\"patch_7\">\n    <path d=\"M 101.552727 98.158594 \nL 179.672727 98.158594 \nL 179.672727 20.038594 \nL 101.552727 20.038594 \nz\n\" style=\"fill: #eeeeee\"/>\n   </g>\n   <g clip-path=\"url(#p14ab576543)\">\n    <image xlink:href=\"data:image/png;base64,\niVBORw0KGgoAAAANSUhEUgAAAG0AAABtCAYAAACr+O9WAAAB10lEQVR4nO3csc2CQBiA4eOPCa1b2FK4gWEXRnAFS/axZAAGsbCUUOAEfOaXE3zN+7RfiGfeXHHhtEgpTUkof1svQP9nNCCjARkNyGhARgMyGpDRgIwGZDQgowEZDchoQEYDMhrQbusFLHG5XGZnp9MpfPZ4POZezmrcaUBGAzIakNGAjAZkNKAiga/Q7XbzJ5ZxHMNni6LIvZzVuNOAjAZkNCCjARkNyGhARgNCn9Mi0xR/Lc9pWpXRgIwGZDQgowEZDchoQOgrdEvs9/twfr/fV1nHO9xpQEYDMhqQ0YCMBmQ0IKMBffX7tMfjEc7LsvzYZw/DEM7btg3n5/N5dvbqXd8r7jQgowEZDchoQEYDMhqQ0YC++py2xKuzUF3X4fx6veZcTlbuNCCjARkNyGhARgMyGpDRgIwGZDQgowEZDchoQEYDMhrQ4p86NU0zO4v+zTul+JpZSindbrdwfjgcwnmk67q3n92aOw3IaEBGAzIakNGAjAZkNKDFV+iqqsqzksz6vt96CR/jTgMyGpDRgIwGZDQgowEZDehnf+r0y9xpQEYDMhqQ0YCMBmQ0IKMBGQ3IaEBGAzIakNGAjAZkNCCjARkNyGhARgMyGpDRgIwGZDSgJyqXMpMdiWyiAAAAAElFTkSuQmCC\" id=\"image4b8bba3863\" transform=\"scale(1 -1)translate(0 -78.48)\" x=\"101.552727\" y=\"-19.678594\" width=\"78.48\" height=\"78.48\"/>\n   </g>\n   <g id=\"matplotlib.axis_3\"/>\n   <g id=\"matplotlib.axis_4\"/>\n   <g id=\"patch_8\">\n    <path d=\"M 101.552727 98.158594 \nL 101.552727 20.038594 \n\" style=\"fill: none; stroke: #bcbcbc; stroke-width: 0.8; stroke-linejoin: miter; stroke-linecap: square\"/>\n   </g>\n   <g id=\"patch_9\">\n    <path d=\"M 179.672727 98.158594 \nL 179.672727 20.038594 \n\" style=\"fill: none; stroke: #bcbcbc; stroke-width: 0.8; stroke-linejoin: miter; stroke-linecap: square\"/>\n   </g>\n   <g id=\"patch_10\">\n    <path d=\"M 101.552727 98.158594 \nL 179.672727 98.158594 \n\" style=\"fill: none; stroke: #bcbcbc; stroke-width: 0.8; stroke-linejoin: miter; stroke-linecap: square\"/>\n   </g>\n   <g id=\"patch_11\">\n    <path d=\"M 101.552727 20.038594 \nL 179.672727 20.038594 \n\" style=\"fill: none; stroke: #bcbcbc; stroke-width: 0.8; stroke-linejoin: miter; stroke-linecap: square\"/>\n   </g>\n   <g id=\"text_2\">\n    <!-- label: 7 -->\n    <g transform=\"translate(123.919837 14.038594)scale(0.09 -0.09)\">\n     <use xlink:href=\"#DejaVuSans-6c\"/>\n     <use xlink:href=\"#DejaVuSans-61\" x=\"27.783203\"/>\n     <use xlink:href=\"#DejaVuSans-62\" x=\"89.0625\"/>\n     <use xlink:href=\"#DejaVuSans-65\" x=\"152.539062\"/>\n     <use xlink:href=\"#DejaVuSans-6c\" x=\"214.0625\"/>\n     <use xlink:href=\"#DejaVuSans-3a\" x=\"241.845703\"/>\n     <use xlink:href=\"#DejaVuSans-20\" x=\"275.537109\"/>\n     <use xlink:href=\"#DejaVuSans-37\" x=\"307.324219\"/>\n    </g>\n   </g>\n  </g>\n  <g id=\"axes_3\">\n   <g id=\"patch_12\">\n    <path d=\"M 7.2 191.902594 \nL 85.32 191.902594 \nL 85.32 113.782594 \nL 7.2 113.782594 \nz\n\" style=\"fill: #eeeeee\"/>\n   </g>\n   <g clip-path=\"url(#pa5207dde1b)\">\n    <image xlink:href=\"data:image/png;base64,\niVBORw0KGgoAAAANSUhEUgAAAG0AAABtCAYAAACr+O9WAAAB7klEQVR4nO3cwYnCUBRA0WQMCG6EFBArEVzYghXYljWkhTSQMlKAbtyIZirIE4eY/+9wz/bh8IfLg/mYTDmO41gI5Sf1AfQ5owEZDchoQEYDMhqQ0YCq1AeItG0bzk+n0+Ts+XzOfZxsuGlARgMyGpDRgIwGZDQgowFlfU9rmiacv16vhU6SFzcNyGhARgMyGpDRgIwGVJIfoSvLcnLWdV342cPhMPNpluOmARkNyGhARgMyGpDRgIwGhL6nrVarydl6vQ4/e7/f5z7OYtw0IKMBGQ3IaEBGAzIakNGA0Pe0SPRdW1EUBfnXdtOAjAZkNCCjARkNyGhARgPK+lWnb7rdbuF8u90udJLPuWlARgMyGpDRgIwGZDQgowH923vafr8P57vdLpxfr9cZTzMvNw3IaEBGAzIakNGAjAaU9BG6b3490vd9OD8ej+HcP/k1K6MBGQ3IaEBGAzIakNGAkt7T3r2OdLlcwvn5fJ6cbTab8LN1XYfzYRjCeUpuGpDRgIwGZDQgowEZDchoQFn/S4p397hIVcVPBz4ejz//7NTcNCCjARkNyGhARgMyGpDRgLJ+1SnjK2RSbhqQ0YCMBmQ0IKMBGQ3IaEBGAzIakNGAjAZkNCCjARkNyGhARgMyGpDRgIwGZDQgowEZDegXTgFK9w/JX70AAAAASUVORK5CYII=\" id=\"image4a4fbfa2c2\" transform=\"scale(1 -1)translate(0 -78.48)\" x=\"7.2\" y=\"-113.422594\" width=\"78.48\" height=\"78.48\"/>\n   </g>\n   <g id=\"matplotlib.axis_5\"/>\n   <g id=\"matplotlib.axis_6\"/>\n   <g id=\"patch_13\">\n    <path d=\"M 7.2 191.902594 \nL 7.2 113.782594 \n\" style=\"fill: none; stroke: #bcbcbc; stroke-width: 0.8; stroke-linejoin: miter; stroke-linecap: square\"/>\n   </g>\n   <g id=\"patch_14\">\n    <path d=\"M 85.32 191.902594 \nL 85.32 113.782594 \n\" style=\"fill: none; stroke: #bcbcbc; stroke-width: 0.8; stroke-linejoin: miter; stroke-linecap: square\"/>\n   </g>\n   <g id=\"patch_15\">\n    <path d=\"M 7.2 191.902594 \nL 85.32 191.902594 \n\" style=\"fill: none; stroke: #bcbcbc; stroke-width: 0.8; stroke-linejoin: miter; stroke-linecap: square\"/>\n   </g>\n   <g id=\"patch_16\">\n    <path d=\"M 7.2 113.782594 \nL 85.32 113.782594 \n\" style=\"fill: none; stroke: #bcbcbc; stroke-width: 0.8; stroke-linejoin: miter; stroke-linecap: square\"/>\n   </g>\n   <g id=\"text_3\">\n    <!-- label: 7 -->\n    <g transform=\"translate(29.567109 107.782594)scale(0.09 -0.09)\">\n     <use xlink:href=\"#DejaVuSans-6c\"/>\n     <use xlink:href=\"#DejaVuSans-61\" x=\"27.783203\"/>\n     <use xlink:href=\"#DejaVuSans-62\" x=\"89.0625\"/>\n     <use xlink:href=\"#DejaVuSans-65\" x=\"152.539062\"/>\n     <use xlink:href=\"#DejaVuSans-6c\" x=\"214.0625\"/>\n     <use xlink:href=\"#DejaVuSans-3a\" x=\"241.845703\"/>\n     <use xlink:href=\"#DejaVuSans-20\" x=\"275.537109\"/>\n     <use xlink:href=\"#DejaVuSans-37\" x=\"307.324219\"/>\n    </g>\n   </g>\n  </g>\n  <g id=\"axes_4\">\n   <g id=\"patch_17\">\n    <path d=\"M 101.552727 191.902594 \nL 179.672727 191.902594 \nL 179.672727 113.782594 \nL 101.552727 113.782594 \nz\n\" style=\"fill: #eeeeee\"/>\n   </g>\n   <g clip-path=\"url(#pf21c777b7e)\">\n    <image xlink:href=\"data:image/png;base64,\niVBORw0KGgoAAAANSUhEUgAAAG0AAABtCAYAAACr+O9WAAAB3ElEQVR4nO3csa2CYBRA4ceLhRWNrbW9NLCGiTuwAFu4izMYN7CjsGUBGkreAo9rBBROcr72hvCbk1sQiEnf9/2PUH6XPoDeZzQgowEZDchoQEYDMhqQ0YCMBmQ0IKMBGQ3IaEBGAzIa0GbpA0yRZdng7Pl8hte2bTv3cb7GTQMyGpDRgIwGZDQgowEl5E/omqYZnO33+/Ba8M9204iMBmQ0IKMBGQ3IaEBGA0I/p0WSJAnnXdeF8+12O+dxZuWmARkNyGhARgMyGpDRgIwGhP6EborH4xHO8zz/0kne56YBGQ3IaEBGAzIakNGAjAa06vdpr96JLel4PIbz2+02OEvTdNK93TQgowEZDchoQEYDMhqQ0YBW/T5tyiPkq2e8qqrC+eVyGX3vT3PTgIwGZDQgowEZDchoQEYDMhqQ0YCMBmQ0IKMBGQ3IaECTX82cz+fB2fV6Da89nU7hfLfbhfO6rsN5pCzL0dcuzU0DMhqQ0YCMBmQ0IKMBGQ1o8nNaURSjZnM4HA6Ds/v9/tF7L8lNAzIakNGAjAZkNCCjARkNaNV/SaH/uWlARgMyGpDRgIwGZDQgowEZDchoQEYDMhqQ0YCMBmQ0IKMBGQ3IaEBGAzIakNGAjAZkNKA/6l472H9U9FcAAAAASUVORK5CYII=\" id=\"image5f9d8acc1d\" transform=\"scale(1 -1)translate(0 -78.48)\" x=\"101.552727\" y=\"-113.422594\" width=\"78.48\" height=\"78.48\"/>\n   </g>\n   <g id=\"matplotlib.axis_7\"/>\n   <g id=\"matplotlib.axis_8\"/>\n   <g id=\"patch_18\">\n    <path d=\"M 101.552727 191.902594 \nL 101.552727 113.782594 \n\" style=\"fill: none; stroke: #bcbcbc; stroke-width: 0.8; stroke-linejoin: miter; stroke-linecap: square\"/>\n   </g>\n   <g id=\"patch_19\">\n    <path d=\"M 179.672727 191.902594 \nL 179.672727 113.782594 \n\" style=\"fill: none; stroke: #bcbcbc; stroke-width: 0.8; stroke-linejoin: miter; stroke-linecap: square\"/>\n   </g>\n   <g id=\"patch_20\">\n    <path d=\"M 101.552727 191.902594 \nL 179.672727 191.902594 \n\" style=\"fill: none; stroke: #bcbcbc; stroke-width: 0.8; stroke-linejoin: miter; stroke-linecap: square\"/>\n   </g>\n   <g id=\"patch_21\">\n    <path d=\"M 101.552727 113.782594 \nL 179.672727 113.782594 \n\" style=\"fill: none; stroke: #bcbcbc; stroke-width: 0.8; stroke-linejoin: miter; stroke-linecap: square\"/>\n   </g>\n   <g id=\"text_4\">\n    <!-- label: 7 -->\n    <g transform=\"translate(123.919837 107.782594)scale(0.09 -0.09)\">\n     <use xlink:href=\"#DejaVuSans-6c\"/>\n     <use xlink:href=\"#DejaVuSans-61\" x=\"27.783203\"/>\n     <use xlink:href=\"#DejaVuSans-62\" x=\"89.0625\"/>\n     <use xlink:href=\"#DejaVuSans-65\" x=\"152.539062\"/>\n     <use xlink:href=\"#DejaVuSans-6c\" x=\"214.0625\"/>\n     <use xlink:href=\"#DejaVuSans-3a\" x=\"241.845703\"/>\n     <use xlink:href=\"#DejaVuSans-20\" x=\"275.537109\"/>\n     <use xlink:href=\"#DejaVuSans-37\" x=\"307.324219\"/>\n    </g>\n   </g>\n  </g>\n </g>\n <defs>\n  <clipPath id=\"p49d29c3dcb\">\n   <rect x=\"7.2\" y=\"20.038594\" width=\"78.12\" height=\"78.12\"/>\n  </clipPath>\n  <clipPath id=\"p14ab576543\">\n   <rect x=\"101.552727\" y=\"20.038594\" width=\"78.12\" height=\"78.12\"/>\n  </clipPath>\n  <clipPath id=\"pa5207dde1b\">\n   <rect x=\"7.2\" y=\"113.782594\" width=\"78.12\" height=\"78.12\"/>\n  </clipPath>\n  <clipPath id=\"pf21c777b7e\">\n   <rect x=\"101.552727\" y=\"113.782594\" width=\"78.12\" height=\"78.12\"/>\n  </clipPath>\n </defs>\n</svg>\n",
      "text/plain": [
       "<Figure size 310x310 with 4 Axes>"
      ]
     },
     "metadata": {},
     "output_type": "display_data"
    }
   ],
   "source": [
    "set_figsize((3.1,3.1))\n",
    "\n",
    "# printing some images after the feature extraction\n",
    "show_img_grid(\n",
    "    [train_samples[i,:,j].reshape(img_shape) for j in range(2) for i in range(2)],\n",
    "    [f'label: {jnp.argmax(train_labels[i])}' for i in range(2)] * 2,\n",
    ")"
   ]
  },
  {
   "cell_type": "markdown",
   "id": "06c26e10",
   "metadata": {},
   "source": [
    "## MPS Utilities"
   ]
  },
  {
   "cell_type": "code",
   "execution_count": 25,
   "id": "fd500800",
   "metadata": {},
   "outputs": [],
   "source": [
    "def random_mps(\n",
    "        key: Key,\n",
    "        initializer: Callable,\n",
    "        size: int,\n",
    "        local_dim: int,\n",
    "        bond_dim: int,\n",
    "        labels_dim: Optional[int]=1,\n",
    "    ) -> MPS:\n",
    "    \"\"\"\n",
    "    Generate a random MPS where each core tensor\n",
    "    is drawn according to the given initializer (see JAX docs).\n",
    "    The result is a list of tensors indexed as follows:\n",
    "    0 --o-- 2\n",
    "        |    \n",
    "        1    \n",
    "    If the labels_dim is provided, it is set at the last tensor.\n",
    "    \"\"\"\n",
    "    left   = (1, local_dim, bond_dim)\n",
    "    right  = (bond_dim, local_dim, labels_dim)\n",
    "    middle = (bond_dim, local_dim, bond_dim)\n",
    "\n",
    "    if size < 2:\n",
    "        raise ValueError('Expectetd at least 2 sites for the MPS')\n",
    "    elif size == 2:\n",
    "        shapes = [left, right]\n",
    "    else:       \n",
    "        shapes = [left] + [middle]*(size-2) + [right]\n",
    "\n",
    "    # generate multiple keys, so all tensors are different\n",
    "    keys = jax.random.split(key, num=size)\n",
    "\n",
    "    return jax.tree_map(initializer, list(keys), shapes)"
   ]
  },
  {
   "cell_type": "code",
   "execution_count": 26,
   "id": "270d5741",
   "metadata": {},
   "outputs": [],
   "source": [
    "def reverse_mps(\n",
    "        params: MPS, \n",
    "        swapaxes: Optional[Tuple[int,int]]=(0,2)\n",
    "    ) -> MPS:\n",
    "    \"\"\"\n",
    "    A helper to reverse the MPS from left to right.\n",
    "    The left and right legs are interchanged.\n",
    "    The default change of indexing is as follows:\n",
    "    0 --o-- 2     2 --o-- 0 \n",
    "        |     =>      |\n",
    "        1             1\n",
    "    \"\"\"\n",
    "    swap_legs = lambda t: t.swapaxes(*swapaxes).conj()\n",
    "    return jax.tree_map(swap_legs, params[::-1])"
   ]
  },
  {
   "cell_type": "code",
   "execution_count": 27,
   "id": "c633ccfd",
   "metadata": {},
   "outputs": [],
   "source": [
    "def reverse_data(\n",
    "        params: MPS, \n",
    "        samples: Tensor,\n",
    "        wings: List[Matrix]\n",
    "    ) -> Tuple[MPS, Tensor, List[Matrix]]:\n",
    "    \"\"\"A helper to reverse main data arounnd the features axis\"\"\"\n",
    "    params_rev = reverse_mps(params)\n",
    "    samples_rev = jnp.flip(samples, axis=1)\n",
    "    wings_rev = wings[::-1]\n",
    "    return params_rev, samples_rev, wings_rev"
   ]
  },
  {
   "cell_type": "markdown",
   "id": "e72bb275",
   "metadata": {},
   "source": [
    "# Training-Related Functions"
   ]
  },
  {
   "cell_type": "code",
   "execution_count": 28,
   "id": "828c3a39",
   "metadata": {},
   "outputs": [],
   "source": [
    "def project_sample(\n",
    "        params: MPS, \n",
    "        sample: Matrix\n",
    "    ) -> List[Matrix]:\n",
    "    \"\"\"\n",
    "    A helper to project a single sample onto the MPS\n",
    "    sites, i.e. contracting the local dimension only.\n",
    "    --o--o--...--o--     \n",
    "      |  |       |   => --o--o--...--o--\n",
    "      o  o       o\n",
    "    \"\"\"\n",
    "    # accounting for the possible labels dimension\n",
    "    mult = lambda t, s: jnp.einsum('pjq...,j->pq...', t, s)\n",
    "    return jax.tree_map(mult, params, list(sample))\n",
    "\n",
    "def project_samples(\n",
    "      params: MPS, \n",
    "      samples: Tensor\n",
    "    ) -> List[Tensor]:\n",
    "    \"\"\"Projects multiple samples onto the MPS\"\"\"\n",
    "    proj_func = functools.partial(project_sample, params)\n",
    "    return jax.vmap(proj_func)(samples)"
   ]
  },
  {
   "cell_type": "code",
   "execution_count": 29,
   "id": "9b75247b",
   "metadata": {},
   "outputs": [],
   "source": [
    "def loss(\n",
    "        bond_tensor: Tensor,\n",
    "        data: Tuple[List[Tensor], Matrix]\n",
    "    ) -> Scalar:\n",
    "    \"\"\"Squared loss function\"\"\"\n",
    "    # (Φ̃, δℓ) = data\n",
    "    feats, labels = data\n",
    "    # Fig. 6c (fℓ(xₙ))\n",
    "    preds = jnp.einsum('mp,mij,mq,pijql->ml', *feats, bond_tensor)\n",
    "    err = preds - labels\n",
    "    # implicit double sum in Eq.6\n",
    "    return 0.5 * jnp.sum(jnp.power(err, 2))"
   ]
  },
  {
   "cell_type": "code",
   "execution_count": 30,
   "id": "dc0bb716",
   "metadata": {},
   "outputs": [],
   "source": [
    "def grad(\n",
    "        bond_tensor: Tensor,\n",
    "        data: Tuple[List[Tensor], Matrix]\n",
    "    ) -> Scalar:\n",
    "    \"\"\"Manually calculate the squared loss gradient - Fig.6(c-d)\"\"\"\n",
    "    # (Φ̃, δℓ) = data\n",
    "    feats, labels = data\n",
    "    # Fig. 6c (fℓ(xₙ))\n",
    "    preds = jnp.einsum('mp,mij,mq,pijql->ml', *feats, bond_tensor)\n",
    "    # Fig. 6d\n",
    "    err = preds - labels\n",
    "    # positive gradient\n",
    "    return jnp.einsum('mp,mij,mq,ml->pijql', *feats, err)"
   ]
  },
  {
   "cell_type": "code",
   "execution_count": 31,
   "id": "ea12dfda",
   "metadata": {},
   "outputs": [],
   "source": [
    "def predict_label(\n",
    "        params: MPS, \n",
    "        sample: Matrix\n",
    "    ) -> Scalar:\n",
    "    \"\"\"A helper to predict the label for a single sample\"\"\"\n",
    "    # project the test sample onto the mps\n",
    "    projs = project_sample(params, sample)\n",
    "    # reduce (full contraction)\n",
    "    preds = functools.reduce(\n",
    "        lambda x, y: jnp.einsum('pi...,iq...->pq...', x, y),\n",
    "        projs\n",
    "    )\n",
    "    return jnp.argmax(preds)\n",
    "\n",
    "def predict_labels(\n",
    "        params: MPS, \n",
    "        samples: Tensor\n",
    "    ) -> Scalar:\n",
    "    \"\"\"A helper to predict the label for a single sample\"\"\"\n",
    "    pred_func = functools.partial(predict_label, params)\n",
    "    return jax.vmap(pred_func)(samples)"
   ]
  },
  {
   "cell_type": "code",
   "execution_count": 32,
   "id": "fc39ed90",
   "metadata": {},
   "outputs": [],
   "source": [
    "def error_rate(\n",
    "        params: List[Tensor], \n",
    "        data: Tuple[Tensor, Matrix]\n",
    "    ) -> Scalar:\n",
    "    \"\"\"A helper to compute the error rate\"\"\"\n",
    "    samples, labels_oh = data\n",
    "    # undo one-hot encoding of the labels\n",
    "    labels = jnp.argmax(labels_oh, axis=1)\n",
    "    # predict labels for all samples\n",
    "    labels_pred = predict_labels(params, samples)\n",
    "    return 1 - jnp.sum(labels == labels_pred) / labels.size"
   ]
  },
  {
   "cell_type": "markdown",
   "id": "7c306bd4",
   "metadata": {},
   "source": [
    "# Initialize MPS"
   ]
  },
  {
   "cell_type": "code",
   "execution_count": 33,
   "id": "7b285e3c",
   "metadata": {},
   "outputs": [
    {
     "name": "stdout",
     "output_type": "stream",
     "text": [
      "The MPS dimensions: size=196, local_dim=2, bond_dim=20\n",
      "Total number of paramters: 156800\n"
     ]
    }
   ],
   "source": [
    "# getting the parameters\n",
    "num_samples, num_features, dim_features = train_samples.shape\n",
    "num_classes = train_labels.shape[1]\n",
    "\n",
    "# initializer\n",
    "initializer = jax.nn.initializers.uniform(scale=1)\n",
    "\n",
    "# generating a random mps according to the initialiser\n",
    "mps = random_mps(\n",
    "    key, \n",
    "    initializer, \n",
    "    size=num_features, \n",
    "    local_dim=dim_features, \n",
    "    bond_dim=bond_dim, # WARNING: to avoid unnecessary truncation, set bond_dim >= num_classes \n",
    "    labels_dim=num_classes\n",
    ")\n",
    "\n",
    "print(f'The MPS dimensions: size={num_features}, local_dim={dim_features}, bond_dim={bond_dim}')\n",
    "print(f'Total number of paramters: {bond_dim**2 * dim_features * num_features}')"
   ]
  },
  {
   "cell_type": "code",
   "execution_count": 34,
   "id": "affa5fb9",
   "metadata": {},
   "outputs": [],
   "source": [
    "def left_normalize(\n",
    "        params: MPS, \n",
    "        max_bond: int\n",
    "    ) -> MPS:\n",
    "    \"\"\"Normalise the mps into the left-canonical form\"\"\"\n",
    "    size = len(params)\n",
    "    for pos in range(size):\n",
    "        p, j, *_ = params[pos].shape\n",
    "        A = params[pos].reshape(p*j,-1)\n",
    "        # perform SVD\n",
    "        U, λ, Vh = jnp.linalg.svd(A, full_matrices=False)\n",
    "        # cutting off the bond dimension\n",
    "        U  = U[:,:max_bond]   # truncate columns\n",
    "        λ  = λ[:max_bond]     # truncate singular values\n",
    "        Vh = Vh[:max_bond,:]  # truncate rows\n",
    "        # assign the current tensor to U and reshape\n",
    "        params[pos] = U.reshape(-1, j, U.shape[1])\n",
    "        # assigining the labels to the next tensor and reshape\n",
    "        if pos < size - 1:\n",
    "            A_next = params[pos+1].reshape(Vh.shape[1], -1)\n",
    "            params[pos+1] = jnp.einsum('i,ij,jk->ik', λ, Vh, A_next).reshape(U.shape[1], j, -1)\n",
    "    return params"
   ]
  },
  {
   "cell_type": "code",
   "execution_count": 35,
   "id": "ded61f68",
   "metadata": {},
   "outputs": [],
   "source": [
    "# left normalizing the mps\n",
    "mps = left_normalize(mps, max_bond=bond_dim)"
   ]
  },
  {
   "cell_type": "code",
   "execution_count": 36,
   "id": "de528eaa",
   "metadata": {},
   "outputs": [],
   "source": [
    "# checking that the resulting mps is in the left-canonical form\n",
    "mult = lambda e, t: jnp.einsum('pq,pjr,qjv->rv', e, t.conj(), t)\n",
    "assert jnp.allclose(functools.reduce(mult, mps, jnp.eye(1)), jnp.eye(mps[-1].shape[-1]))"
   ]
  },
  {
   "cell_type": "code",
   "execution_count": 37,
   "id": "7f129bc1",
   "metadata": {},
   "outputs": [],
   "source": [
    "# reversing the mps gives the right-canonical form\n",
    "mps_rev = reverse_mps(mps)\n",
    "mult_rev = lambda e, t: jnp.einsum('rv,pjr,qjv->pq', e, t, t.conj())\n",
    "# to apply the reduce function, we need to change the mps ordering (no leg swapping!)\n",
    "assert jnp.allclose(functools.reduce(mult_rev, mps_rev[::-1], jnp.eye(1)), jnp.eye(mps_rev[0].shape[0]))"
   ]
  },
  {
   "cell_type": "code",
   "execution_count": 38,
   "id": "83a62af2",
   "metadata": {},
   "outputs": [],
   "source": [
    "# extract the dimension corresponding to\n",
    "# the labels, so we can move it during optimisation\n",
    "mps[-1] = jnp.expand_dims(mps[-1], axis=2)"
   ]
  },
  {
   "cell_type": "code",
   "execution_count": 39,
   "id": "d9f4c21c",
   "metadata": {},
   "outputs": [
    {
     "name": "stdout",
     "output_type": "stream",
     "text": [
      "[(1, 2, 2), (2, 2, 4), (4, 2, 8), (20, 2, 20), (20, 2, 20), (20, 2, 1, 10)]\n"
     ]
    }
   ],
   "source": [
    "# printing shapes of the first and the last three tensors\n",
    "print([t.shape for t in (*mps[:3],*mps[-3:])])"
   ]
  },
  {
   "cell_type": "markdown",
   "id": "10469da4",
   "metadata": {},
   "source": [
    "# Initialise the data store for the \"left/right wings\""
   ]
  },
  {
   "cell_type": "markdown",
   "id": "0cb7a764",
   "metadata": {},
   "source": [
    "Initialise the data structure to store left/right wings. For the motivation, see the last paragraph on p4 in the paper. Below, I assume that the tensor with labels is the last in the MPS. After the initialisation, the order of the wings is reversed to allow the sweeps from the left on each run (with the labels being attached to the first tensor after reverting the order). This trick allows to move from left to right on every sweep simply by reverting the MPS, data features and the wings."
   ]
  },
  {
   "cell_type": "code",
   "execution_count": 40,
   "id": "c697446c",
   "metadata": {},
   "outputs": [],
   "source": [
    "def norm_normalize(v: Vector) -> Vector:\n",
    "    return v / jnp.linalg.norm(v)"
   ]
  },
  {
   "cell_type": "code",
   "execution_count": 41,
   "id": "8e4f90ea",
   "metadata": {},
   "outputs": [],
   "source": [
    "def init_wings(\n",
    "        params: MPS,\n",
    "        samples: Tensor,\n",
    "    ) -> List[Vector]:\n",
    "    \"\"\"\n",
    "    Initialise the local projections to keep linear\n",
    "    scaling of the whole algorithm wrt sample size.\n",
    "     ---    -> move the box     ------   until the last 2 sites remain\n",
    "    | o-|-o--o--...--o--o      | ▩--o-|--o--...--o--o       ▩--o--o\n",
    "    | | | |  |       |  |  =>  |    | |  |       |  |   =>     |  |\n",
    "    | o | o  o       o  o      |    o |  o       o  o          o  o\n",
    "     ---                        ------\n",
    "    \"\"\"        \n",
    "    # get the projections of samples onto the mps sites (excet the last two sites)\n",
    "    projs = project_samples(params=params[:-2], samples=samples[:,:-2,:])\n",
    "    # helper to contract neighbouring sites\n",
    "    mult = lambda x, y: jnp.einsum('mpi,miq->mpq', x, y)\n",
    "    # get the cumulative products computed from left to right\n",
    "    cum_prods = itertools.accumulate(projs, mult)\n",
    "    # normalize to norm 1\n",
    "    wings = jax.tree_map(jax.vmap(norm_normalize), list(cum_prods))\n",
    "    # the last two sites are dummy\n",
    "    return jax.tree_map(jnp.squeeze, wings) + [jnp.asarray(None)]*2 "
   ]
  },
  {
   "cell_type": "code",
   "execution_count": 42,
   "id": "974d44ea",
   "metadata": {},
   "outputs": [],
   "source": [
    "# initialize the wings\n",
    "wings = init_wings(mps, train_samples)"
   ]
  },
  {
   "cell_type": "markdown",
   "id": "d7e1af4e",
   "metadata": {},
   "source": [
    "# Main Loop"
   ]
  },
  {
   "cell_type": "code",
   "execution_count": 43,
   "id": "c3efa937",
   "metadata": {},
   "outputs": [],
   "source": [
    "def project_sample(\n",
    "        params: MPS, \n",
    "        sample: Matrix\n",
    "    ) -> List[Matrix]:\n",
    "    \"\"\"\n",
    "    A helper to project a single sample onto the MPS\n",
    "    sites, i.e. contracting the local dimension only.\n",
    "    --o--o--...--o--     \n",
    "      |  |       |   => --o--o--...--o--\n",
    "      o  o       o\n",
    "    \"\"\"\n",
    "    # accounting for the possible labels dimension\n",
    "    mult = lambda t, s: jnp.einsum('pjq...,j->pq...', t, s)\n",
    "    return jax.tree_map(mult, params, list(sample))"
   ]
  },
  {
   "cell_type": "code",
   "execution_count": null,
   "id": "aba8968d",
   "metadata": {},
   "outputs": [],
   "source": [
    "max_bond = bond_dim\n",
    "\n",
    "grads, losses = [], []\n",
    "\n",
    "for sweep in range(num_sweeps):\n",
    "\n",
    "    print('*'*100 + f'\\nSweep: {sweep + 1}\\n' + '*'*100)\n",
    "\n",
    "    # reverse data for convenience, so the iterations \n",
    "    # are from left to right. Note, that the initiali left \n",
    "    # normalization of the MPS results in the right \n",
    "    # normalization after the operation (as shown above)\n",
    "    mps, train_samples, wings = reverse_data(mps, train_samples, wings)\n",
    "\n",
    "    for pos in range(len(mps) - 1):\n",
    "\n",
    "        # bond tensor - Fig.6a\n",
    "        B = jnp.einsum('pikl,kjq->pijql', mps[pos], mps[pos+1])\n",
    "\n",
    "        # composing a tensor Φ - Fig.6b\n",
    "        if pos == 0:\n",
    "            left_wing = jnp.ones(shape=(num_samples, 1))   # dummy\n",
    "            right_wing = wings[pos+2]\n",
    "        elif pos == len(mps)-2:\n",
    "            left_wing = wings[pos-1]\n",
    "            right_wing = jnp.ones(shape=(num_samples, 1))  # dummy\n",
    "        else:\n",
    "            left_wing = wings[pos-1]\n",
    "            right_wing = wings[pos+2]\n",
    "\n",
    "        # not yet combining to a single tensor - saving space\n",
    "        Φ = [left_wing, train_samples[:,pos:pos+2,:], right_wing]\n",
    "\n",
    "        # compute the gradient update - Fig.6(c-d)\n",
    "        ΔB = grad(B, data=(Φ, train_labels))\n",
    "        \n",
    "        # update the bond tensor - Fig.7a\n",
    "        # note, that the paper is using the \n",
    "        # negative gradient instead, so the \n",
    "        # plus sign there\n",
    "        B -= α * ΔB\n",
    "\n",
    "        # SVD\n",
    "        p,i,j,q,l = B.shape\n",
    "        U, λ, Vh = jnp.linalg.svd(B.reshape(p*i, -1), full_matrices=False)\n",
    "\n",
    "        # cutting off the bond dimension\n",
    "        if λ.size > max_bond:\n",
    "            # max_bond = suggest_truncation(λ, ε)  # adaptive bond dimension\n",
    "            U  = U[:,:max_bond]\n",
    "            λ  = λ[:max_bond]\n",
    "            Vh = Vh[:max_bond,:]\n",
    "\n",
    "        # normalize spectra to have norm 1\n",
    "        λ = norm_normalize(λ)\n",
    "        \n",
    "        # updating mps tesnors - Fig.7b\n",
    "        mps[pos]   = U.reshape(-1,i,U.shape[1])  # current position\n",
    "        mps[pos+1] = jnp.einsum('i,ij->ij', λ, Vh).reshape(-1,j,q,l)  # next position\n",
    "\n",
    "        # project input samples onto the new tensor at current position and update the left wing - Fig.7c\n",
    "        projs_at_pos = project_samples(params=mps[pos:pos+1], samples=train_samples[:,pos:pos+1,:])\n",
    "\n",
    "        # updating the left wing; squeezing 0 index due to len(MPS) = 1\n",
    "        left_wing = jnp.einsum('mp,mpq->mq', left_wing, jnp.asarray(projs_at_pos).squeeze(axis=0))\n",
    "\n",
    "        # normalize and update the wing\n",
    "        wings[pos] = jax.vmap(norm_normalize)(left_wing)\n",
    "\n",
    "        # store for the analysis\n",
    "        grads.append(jnp.linalg.norm(ΔB))\n",
    "        losses.append(loss(B, data=(Φ, train_labels)))\n",
    "\n",
    "        print(\n",
    "            '\\t|\\t'.join(\n",
    "                [f'Updated site: {pos:<4}',\n",
    "                 f'Loss: {losses[-1]:<6e}',\n",
    "                 f'Gradient norm: {grads[-1]:<6e}',\n",
    "                 f'Bond Dim: {max_bond:<3}',\n",
    "                ])\n",
    "        )\n",
    "\n",
    "grads = jnp.asarray(grads)\n",
    "losses = jnp.asarray(losses)"
   ]
  },
  {
   "cell_type": "code",
   "execution_count": 45,
   "id": "0e701c70",
   "metadata": {},
   "outputs": [
    {
     "data": {
      "image/svg+xml": "<?xml version=\"1.0\" encoding=\"utf-8\" standalone=\"no\"?>\n<!DOCTYPE svg PUBLIC \"-//W3C//DTD SVG 1.1//EN\"\n  \"http://www.w3.org/Graphics/SVG/1.1/DTD/svg11.dtd\">\n<svg xmlns:xlink=\"http://www.w3.org/1999/xlink\" width=\"540.310866pt\" height=\"405.187187pt\" viewBox=\"0 0 540.310866 405.187187\" xmlns=\"http://www.w3.org/2000/svg\" version=\"1.1\">\n <metadata>\n  <rdf:RDF xmlns:dc=\"http://purl.org/dc/elements/1.1/\" xmlns:cc=\"http://creativecommons.org/ns#\" xmlns:rdf=\"http://www.w3.org/1999/02/22-rdf-syntax-ns#\">\n   <cc:Work>\n    <dc:type rdf:resource=\"http://purl.org/dc/dcmitype/StillImage\"/>\n    <dc:date>2022-05-08T21:22:58.383190</dc:date>\n    <dc:format>image/svg+xml</dc:format>\n    <dc:creator>\n     <cc:Agent>\n      <dc:title>Matplotlib v3.5.2, https://matplotlib.org/</dc:title>\n     </cc:Agent>\n    </dc:creator>\n   </cc:Work>\n  </rdf:RDF>\n </metadata>\n <defs>\n  <style type=\"text/css\">*{stroke-linejoin: round; stroke-linecap: butt}</style>\n </defs>\n <g id=\"figure_1\">\n  <g id=\"patch_1\">\n   <path d=\"M 0 405.187187 \nL 540.310866 405.187187 \nL 540.310866 0 \nL 0 0 \nz\n\" style=\"fill: #ffffff\"/>\n  </g>\n  <g id=\"axes_1\">\n   <g id=\"patch_2\">\n    <path d=\"M 82.700625 359.517187 \nL 529.100625 359.517187 \nL 529.100625 26.877187 \nL 82.700625 26.877187 \nz\n\" style=\"fill: #eeeeee\"/>\n   </g>\n   <g id=\"matplotlib.axis_1\">\n    <g id=\"xtick_1\">\n     <g id=\"line2d_1\">\n      <path d=\"M 102.991534 359.517187 \nL 102.991534 26.877187 \n\" clip-path=\"url(#p01560c429e)\" style=\"fill: none; stroke-dasharray: 0.5,5; stroke-dashoffset: 0; stroke: #000000; stroke-width: 0.5\"/>\n     </g>\n     <g id=\"line2d_2\">\n      <defs>\n       <path id=\"mb06e3a8a9c\" d=\"M 0 0 \nL 0 -3.5 \n\" style=\"stroke: #000000; stroke-width: 0.8\"/>\n      </defs>\n      <g>\n       <use xlink:href=\"#mb06e3a8a9c\" x=\"102.991534\" y=\"359.517187\" style=\"stroke: #000000; stroke-width: 0.8\"/>\n      </g>\n     </g>\n     <g id=\"text_1\">\n      <!-- 0 -->\n      <g transform=\"translate(98.537784 373.655)scale(0.14 -0.14)\">\n       <defs>\n        <path id=\"DejaVuSans-30\" d=\"M 2034 4250 \nQ 1547 4250 1301 3770 \nQ 1056 3291 1056 2328 \nQ 1056 1369 1301 889 \nQ 1547 409 2034 409 \nQ 2525 409 2770 889 \nQ 3016 1369 3016 2328 \nQ 3016 3291 2770 3770 \nQ 2525 4250 2034 4250 \nz\nM 2034 4750 \nQ 2819 4750 3233 4129 \nQ 3647 3509 3647 2328 \nQ 3647 1150 3233 529 \nQ 2819 -91 2034 -91 \nQ 1250 -91 836 529 \nQ 422 1150 422 2328 \nQ 422 3509 836 4129 \nQ 1250 4750 2034 4750 \nz\n\" transform=\"scale(0.015625)\"/>\n       </defs>\n       <use xlink:href=\"#DejaVuSans-30\"/>\n      </g>\n     </g>\n    </g>\n    <g id=\"xtick_2\">\n     <g id=\"line2d_3\">\n      <path d=\"M 155.086294 359.517187 \nL 155.086294 26.877187 \n\" clip-path=\"url(#p01560c429e)\" style=\"fill: none; stroke-dasharray: 0.5,5; stroke-dashoffset: 0; stroke: #000000; stroke-width: 0.5\"/>\n     </g>\n     <g id=\"line2d_4\">\n      <g>\n       <use xlink:href=\"#mb06e3a8a9c\" x=\"155.086294\" y=\"359.517187\" style=\"stroke: #000000; stroke-width: 0.8\"/>\n      </g>\n     </g>\n     <g id=\"text_2\">\n      <!-- 100 -->\n      <g transform=\"translate(141.725044 373.655)scale(0.14 -0.14)\">\n       <defs>\n        <path id=\"DejaVuSans-31\" d=\"M 794 531 \nL 1825 531 \nL 1825 4091 \nL 703 3866 \nL 703 4441 \nL 1819 4666 \nL 2450 4666 \nL 2450 531 \nL 3481 531 \nL 3481 0 \nL 794 0 \nL 794 531 \nz\n\" transform=\"scale(0.015625)\"/>\n       </defs>\n       <use xlink:href=\"#DejaVuSans-31\"/>\n       <use xlink:href=\"#DejaVuSans-30\" x=\"63.623047\"/>\n       <use xlink:href=\"#DejaVuSans-30\" x=\"127.246094\"/>\n      </g>\n     </g>\n    </g>\n    <g id=\"xtick_3\">\n     <g id=\"line2d_5\">\n      <path d=\"M 207.181054 359.517187 \nL 207.181054 26.877187 \n\" clip-path=\"url(#p01560c429e)\" style=\"fill: none; stroke-dasharray: 0.5,5; stroke-dashoffset: 0; stroke: #000000; stroke-width: 0.5\"/>\n     </g>\n     <g id=\"line2d_6\">\n      <g>\n       <use xlink:href=\"#mb06e3a8a9c\" x=\"207.181054\" y=\"359.517187\" style=\"stroke: #000000; stroke-width: 0.8\"/>\n      </g>\n     </g>\n     <g id=\"text_3\">\n      <!-- 200 -->\n      <g transform=\"translate(193.819804 373.655)scale(0.14 -0.14)\">\n       <defs>\n        <path id=\"DejaVuSans-32\" d=\"M 1228 531 \nL 3431 531 \nL 3431 0 \nL 469 0 \nL 469 531 \nQ 828 903 1448 1529 \nQ 2069 2156 2228 2338 \nQ 2531 2678 2651 2914 \nQ 2772 3150 2772 3378 \nQ 2772 3750 2511 3984 \nQ 2250 4219 1831 4219 \nQ 1534 4219 1204 4116 \nQ 875 4013 500 3803 \nL 500 4441 \nQ 881 4594 1212 4672 \nQ 1544 4750 1819 4750 \nQ 2544 4750 2975 4387 \nQ 3406 4025 3406 3419 \nQ 3406 3131 3298 2873 \nQ 3191 2616 2906 2266 \nQ 2828 2175 2409 1742 \nQ 1991 1309 1228 531 \nz\n\" transform=\"scale(0.015625)\"/>\n       </defs>\n       <use xlink:href=\"#DejaVuSans-32\"/>\n       <use xlink:href=\"#DejaVuSans-30\" x=\"63.623047\"/>\n       <use xlink:href=\"#DejaVuSans-30\" x=\"127.246094\"/>\n      </g>\n     </g>\n    </g>\n    <g id=\"xtick_4\">\n     <g id=\"line2d_7\">\n      <path d=\"M 259.275815 359.517187 \nL 259.275815 26.877187 \n\" clip-path=\"url(#p01560c429e)\" style=\"fill: none; stroke-dasharray: 0.5,5; stroke-dashoffset: 0; stroke: #000000; stroke-width: 0.5\"/>\n     </g>\n     <g id=\"line2d_8\">\n      <g>\n       <use xlink:href=\"#mb06e3a8a9c\" x=\"259.275815\" y=\"359.517187\" style=\"stroke: #000000; stroke-width: 0.8\"/>\n      </g>\n     </g>\n     <g id=\"text_4\">\n      <!-- 300 -->\n      <g transform=\"translate(245.914565 373.655)scale(0.14 -0.14)\">\n       <defs>\n        <path id=\"DejaVuSans-33\" d=\"M 2597 2516 \nQ 3050 2419 3304 2112 \nQ 3559 1806 3559 1356 \nQ 3559 666 3084 287 \nQ 2609 -91 1734 -91 \nQ 1441 -91 1130 -33 \nQ 819 25 488 141 \nL 488 750 \nQ 750 597 1062 519 \nQ 1375 441 1716 441 \nQ 2309 441 2620 675 \nQ 2931 909 2931 1356 \nQ 2931 1769 2642 2001 \nQ 2353 2234 1838 2234 \nL 1294 2234 \nL 1294 2753 \nL 1863 2753 \nQ 2328 2753 2575 2939 \nQ 2822 3125 2822 3475 \nQ 2822 3834 2567 4026 \nQ 2313 4219 1838 4219 \nQ 1578 4219 1281 4162 \nQ 984 4106 628 3988 \nL 628 4550 \nQ 988 4650 1302 4700 \nQ 1616 4750 1894 4750 \nQ 2613 4750 3031 4423 \nQ 3450 4097 3450 3541 \nQ 3450 3153 3228 2886 \nQ 3006 2619 2597 2516 \nz\n\" transform=\"scale(0.015625)\"/>\n       </defs>\n       <use xlink:href=\"#DejaVuSans-33\"/>\n       <use xlink:href=\"#DejaVuSans-30\" x=\"63.623047\"/>\n       <use xlink:href=\"#DejaVuSans-30\" x=\"127.246094\"/>\n      </g>\n     </g>\n    </g>\n    <g id=\"xtick_5\">\n     <g id=\"line2d_9\">\n      <path d=\"M 311.370575 359.517187 \nL 311.370575 26.877187 \n\" clip-path=\"url(#p01560c429e)\" style=\"fill: none; stroke-dasharray: 0.5,5; stroke-dashoffset: 0; stroke: #000000; stroke-width: 0.5\"/>\n     </g>\n     <g id=\"line2d_10\">\n      <g>\n       <use xlink:href=\"#mb06e3a8a9c\" x=\"311.370575\" y=\"359.517187\" style=\"stroke: #000000; stroke-width: 0.8\"/>\n      </g>\n     </g>\n     <g id=\"text_5\">\n      <!-- 400 -->\n      <g transform=\"translate(298.009325 373.655)scale(0.14 -0.14)\">\n       <defs>\n        <path id=\"DejaVuSans-34\" d=\"M 2419 4116 \nL 825 1625 \nL 2419 1625 \nL 2419 4116 \nz\nM 2253 4666 \nL 3047 4666 \nL 3047 1625 \nL 3713 1625 \nL 3713 1100 \nL 3047 1100 \nL 3047 0 \nL 2419 0 \nL 2419 1100 \nL 313 1100 \nL 313 1709 \nL 2253 4666 \nz\n\" transform=\"scale(0.015625)\"/>\n       </defs>\n       <use xlink:href=\"#DejaVuSans-34\"/>\n       <use xlink:href=\"#DejaVuSans-30\" x=\"63.623047\"/>\n       <use xlink:href=\"#DejaVuSans-30\" x=\"127.246094\"/>\n      </g>\n     </g>\n    </g>\n    <g id=\"xtick_6\">\n     <g id=\"line2d_11\">\n      <path d=\"M 363.465335 359.517187 \nL 363.465335 26.877187 \n\" clip-path=\"url(#p01560c429e)\" style=\"fill: none; stroke-dasharray: 0.5,5; stroke-dashoffset: 0; stroke: #000000; stroke-width: 0.5\"/>\n     </g>\n     <g id=\"line2d_12\">\n      <g>\n       <use xlink:href=\"#mb06e3a8a9c\" x=\"363.465335\" y=\"359.517187\" style=\"stroke: #000000; stroke-width: 0.8\"/>\n      </g>\n     </g>\n     <g id=\"text_6\">\n      <!-- 500 -->\n      <g transform=\"translate(350.104085 373.655)scale(0.14 -0.14)\">\n       <defs>\n        <path id=\"DejaVuSans-35\" d=\"M 691 4666 \nL 3169 4666 \nL 3169 4134 \nL 1269 4134 \nL 1269 2991 \nQ 1406 3038 1543 3061 \nQ 1681 3084 1819 3084 \nQ 2600 3084 3056 2656 \nQ 3513 2228 3513 1497 \nQ 3513 744 3044 326 \nQ 2575 -91 1722 -91 \nQ 1428 -91 1123 -41 \nQ 819 9 494 109 \nL 494 744 \nQ 775 591 1075 516 \nQ 1375 441 1709 441 \nQ 2250 441 2565 725 \nQ 2881 1009 2881 1497 \nQ 2881 1984 2565 2268 \nQ 2250 2553 1709 2553 \nQ 1456 2553 1204 2497 \nQ 953 2441 691 2322 \nL 691 4666 \nz\n\" transform=\"scale(0.015625)\"/>\n       </defs>\n       <use xlink:href=\"#DejaVuSans-35\"/>\n       <use xlink:href=\"#DejaVuSans-30\" x=\"63.623047\"/>\n       <use xlink:href=\"#DejaVuSans-30\" x=\"127.246094\"/>\n      </g>\n     </g>\n    </g>\n    <g id=\"xtick_7\">\n     <g id=\"line2d_13\">\n      <path d=\"M 415.560095 359.517187 \nL 415.560095 26.877187 \n\" clip-path=\"url(#p01560c429e)\" style=\"fill: none; stroke-dasharray: 0.5,5; stroke-dashoffset: 0; stroke: #000000; stroke-width: 0.5\"/>\n     </g>\n     <g id=\"line2d_14\">\n      <g>\n       <use xlink:href=\"#mb06e3a8a9c\" x=\"415.560095\" y=\"359.517187\" style=\"stroke: #000000; stroke-width: 0.8\"/>\n      </g>\n     </g>\n     <g id=\"text_7\">\n      <!-- 600 -->\n      <g transform=\"translate(402.198845 373.655)scale(0.14 -0.14)\">\n       <defs>\n        <path id=\"DejaVuSans-36\" d=\"M 2113 2584 \nQ 1688 2584 1439 2293 \nQ 1191 2003 1191 1497 \nQ 1191 994 1439 701 \nQ 1688 409 2113 409 \nQ 2538 409 2786 701 \nQ 3034 994 3034 1497 \nQ 3034 2003 2786 2293 \nQ 2538 2584 2113 2584 \nz\nM 3366 4563 \nL 3366 3988 \nQ 3128 4100 2886 4159 \nQ 2644 4219 2406 4219 \nQ 1781 4219 1451 3797 \nQ 1122 3375 1075 2522 \nQ 1259 2794 1537 2939 \nQ 1816 3084 2150 3084 \nQ 2853 3084 3261 2657 \nQ 3669 2231 3669 1497 \nQ 3669 778 3244 343 \nQ 2819 -91 2113 -91 \nQ 1303 -91 875 529 \nQ 447 1150 447 2328 \nQ 447 3434 972 4092 \nQ 1497 4750 2381 4750 \nQ 2619 4750 2861 4703 \nQ 3103 4656 3366 4563 \nz\n\" transform=\"scale(0.015625)\"/>\n       </defs>\n       <use xlink:href=\"#DejaVuSans-36\"/>\n       <use xlink:href=\"#DejaVuSans-30\" x=\"63.623047\"/>\n       <use xlink:href=\"#DejaVuSans-30\" x=\"127.246094\"/>\n      </g>\n     </g>\n    </g>\n    <g id=\"xtick_8\">\n     <g id=\"line2d_15\">\n      <path d=\"M 467.654855 359.517187 \nL 467.654855 26.877187 \n\" clip-path=\"url(#p01560c429e)\" style=\"fill: none; stroke-dasharray: 0.5,5; stroke-dashoffset: 0; stroke: #000000; stroke-width: 0.5\"/>\n     </g>\n     <g id=\"line2d_16\">\n      <g>\n       <use xlink:href=\"#mb06e3a8a9c\" x=\"467.654855\" y=\"359.517187\" style=\"stroke: #000000; stroke-width: 0.8\"/>\n      </g>\n     </g>\n     <g id=\"text_8\">\n      <!-- 700 -->\n      <g transform=\"translate(454.293605 373.655)scale(0.14 -0.14)\">\n       <defs>\n        <path id=\"DejaVuSans-37\" d=\"M 525 4666 \nL 3525 4666 \nL 3525 4397 \nL 1831 0 \nL 1172 0 \nL 2766 4134 \nL 525 4134 \nL 525 4666 \nz\n\" transform=\"scale(0.015625)\"/>\n       </defs>\n       <use xlink:href=\"#DejaVuSans-37\"/>\n       <use xlink:href=\"#DejaVuSans-30\" x=\"63.623047\"/>\n       <use xlink:href=\"#DejaVuSans-30\" x=\"127.246094\"/>\n      </g>\n     </g>\n    </g>\n    <g id=\"xtick_9\">\n     <g id=\"line2d_17\">\n      <path d=\"M 519.749616 359.517187 \nL 519.749616 26.877187 \n\" clip-path=\"url(#p01560c429e)\" style=\"fill: none; stroke-dasharray: 0.5,5; stroke-dashoffset: 0; stroke: #000000; stroke-width: 0.5\"/>\n     </g>\n     <g id=\"line2d_18\">\n      <g>\n       <use xlink:href=\"#mb06e3a8a9c\" x=\"519.749616\" y=\"359.517187\" style=\"stroke: #000000; stroke-width: 0.8\"/>\n      </g>\n     </g>\n     <g id=\"text_9\">\n      <!-- 800 -->\n      <g transform=\"translate(506.388366 373.655)scale(0.14 -0.14)\">\n       <defs>\n        <path id=\"DejaVuSans-38\" d=\"M 2034 2216 \nQ 1584 2216 1326 1975 \nQ 1069 1734 1069 1313 \nQ 1069 891 1326 650 \nQ 1584 409 2034 409 \nQ 2484 409 2743 651 \nQ 3003 894 3003 1313 \nQ 3003 1734 2745 1975 \nQ 2488 2216 2034 2216 \nz\nM 1403 2484 \nQ 997 2584 770 2862 \nQ 544 3141 544 3541 \nQ 544 4100 942 4425 \nQ 1341 4750 2034 4750 \nQ 2731 4750 3128 4425 \nQ 3525 4100 3525 3541 \nQ 3525 3141 3298 2862 \nQ 3072 2584 2669 2484 \nQ 3125 2378 3379 2068 \nQ 3634 1759 3634 1313 \nQ 3634 634 3220 271 \nQ 2806 -91 2034 -91 \nQ 1263 -91 848 271 \nQ 434 634 434 1313 \nQ 434 1759 690 2068 \nQ 947 2378 1403 2484 \nz\nM 1172 3481 \nQ 1172 3119 1398 2916 \nQ 1625 2713 2034 2713 \nQ 2441 2713 2670 2916 \nQ 2900 3119 2900 3481 \nQ 2900 3844 2670 4047 \nQ 2441 4250 2034 4250 \nQ 1625 4250 1398 4047 \nQ 1172 3844 1172 3481 \nz\n\" transform=\"scale(0.015625)\"/>\n       </defs>\n       <use xlink:href=\"#DejaVuSans-38\"/>\n       <use xlink:href=\"#DejaVuSans-30\" x=\"63.623047\"/>\n       <use xlink:href=\"#DejaVuSans-30\" x=\"127.246094\"/>\n      </g>\n     </g>\n    </g>\n    <g id=\"text_10\">\n     <!-- Steps -->\n     <g transform=\"translate(280.718906 394.24375)scale(0.18 -0.18)\">\n      <defs>\n       <path id=\"DejaVuSans-53\" d=\"M 3425 4513 \nL 3425 3897 \nQ 3066 4069 2747 4153 \nQ 2428 4238 2131 4238 \nQ 1616 4238 1336 4038 \nQ 1056 3838 1056 3469 \nQ 1056 3159 1242 3001 \nQ 1428 2844 1947 2747 \nL 2328 2669 \nQ 3034 2534 3370 2195 \nQ 3706 1856 3706 1288 \nQ 3706 609 3251 259 \nQ 2797 -91 1919 -91 \nQ 1588 -91 1214 -16 \nQ 841 59 441 206 \nL 441 856 \nQ 825 641 1194 531 \nQ 1563 422 1919 422 \nQ 2459 422 2753 634 \nQ 3047 847 3047 1241 \nQ 3047 1584 2836 1778 \nQ 2625 1972 2144 2069 \nL 1759 2144 \nQ 1053 2284 737 2584 \nQ 422 2884 422 3419 \nQ 422 4038 858 4394 \nQ 1294 4750 2059 4750 \nQ 2388 4750 2728 4690 \nQ 3069 4631 3425 4513 \nz\n\" transform=\"scale(0.015625)\"/>\n       <path id=\"DejaVuSans-74\" d=\"M 1172 4494 \nL 1172 3500 \nL 2356 3500 \nL 2356 3053 \nL 1172 3053 \nL 1172 1153 \nQ 1172 725 1289 603 \nQ 1406 481 1766 481 \nL 2356 481 \nL 2356 0 \nL 1766 0 \nQ 1100 0 847 248 \nQ 594 497 594 1153 \nL 594 3053 \nL 172 3053 \nL 172 3500 \nL 594 3500 \nL 594 4494 \nL 1172 4494 \nz\n\" transform=\"scale(0.015625)\"/>\n       <path id=\"DejaVuSans-65\" d=\"M 3597 1894 \nL 3597 1613 \nL 953 1613 \nQ 991 1019 1311 708 \nQ 1631 397 2203 397 \nQ 2534 397 2845 478 \nQ 3156 559 3463 722 \nL 3463 178 \nQ 3153 47 2828 -22 \nQ 2503 -91 2169 -91 \nQ 1331 -91 842 396 \nQ 353 884 353 1716 \nQ 353 2575 817 3079 \nQ 1281 3584 2069 3584 \nQ 2775 3584 3186 3129 \nQ 3597 2675 3597 1894 \nz\nM 3022 2063 \nQ 3016 2534 2758 2815 \nQ 2500 3097 2075 3097 \nQ 1594 3097 1305 2825 \nQ 1016 2553 972 2059 \nL 3022 2063 \nz\n\" transform=\"scale(0.015625)\"/>\n       <path id=\"DejaVuSans-70\" d=\"M 1159 525 \nL 1159 -1331 \nL 581 -1331 \nL 581 3500 \nL 1159 3500 \nL 1159 2969 \nQ 1341 3281 1617 3432 \nQ 1894 3584 2278 3584 \nQ 2916 3584 3314 3078 \nQ 3713 2572 3713 1747 \nQ 3713 922 3314 415 \nQ 2916 -91 2278 -91 \nQ 1894 -91 1617 61 \nQ 1341 213 1159 525 \nz\nM 3116 1747 \nQ 3116 2381 2855 2742 \nQ 2594 3103 2138 3103 \nQ 1681 3103 1420 2742 \nQ 1159 2381 1159 1747 \nQ 1159 1113 1420 752 \nQ 1681 391 2138 391 \nQ 2594 391 2855 752 \nQ 3116 1113 3116 1747 \nz\n\" transform=\"scale(0.015625)\"/>\n       <path id=\"DejaVuSans-73\" d=\"M 2834 3397 \nL 2834 2853 \nQ 2591 2978 2328 3040 \nQ 2066 3103 1784 3103 \nQ 1356 3103 1142 2972 \nQ 928 2841 928 2578 \nQ 928 2378 1081 2264 \nQ 1234 2150 1697 2047 \nL 1894 2003 \nQ 2506 1872 2764 1633 \nQ 3022 1394 3022 966 \nQ 3022 478 2636 193 \nQ 2250 -91 1575 -91 \nQ 1294 -91 989 -36 \nQ 684 19 347 128 \nL 347 722 \nQ 666 556 975 473 \nQ 1284 391 1588 391 \nQ 1994 391 2212 530 \nQ 2431 669 2431 922 \nQ 2431 1156 2273 1281 \nQ 2116 1406 1581 1522 \nL 1381 1569 \nQ 847 1681 609 1914 \nQ 372 2147 372 2553 \nQ 372 3047 722 3315 \nQ 1072 3584 1716 3584 \nQ 2034 3584 2315 3537 \nQ 2597 3491 2834 3397 \nz\n\" transform=\"scale(0.015625)\"/>\n      </defs>\n      <use xlink:href=\"#DejaVuSans-53\"/>\n      <use xlink:href=\"#DejaVuSans-74\" x=\"63.476562\"/>\n      <use xlink:href=\"#DejaVuSans-65\" x=\"102.685547\"/>\n      <use xlink:href=\"#DejaVuSans-70\" x=\"164.208984\"/>\n      <use xlink:href=\"#DejaVuSans-73\" x=\"227.685547\"/>\n     </g>\n    </g>\n   </g>\n   <g id=\"matplotlib.axis_2\">\n    <g id=\"ytick_1\">\n     <g id=\"line2d_19\">\n      <path d=\"M 82.700625 64.960899 \nL 529.100625 64.960899 \n\" clip-path=\"url(#p01560c429e)\" style=\"fill: none; stroke-dasharray: 0.5,5; stroke-dashoffset: 0; stroke: #000000; stroke-width: 0.5\"/>\n     </g>\n     <g id=\"line2d_20\">\n      <defs>\n       <path id=\"m4fa9be2d66\" d=\"M 0 0 \nL 3.5 0 \n\" style=\"stroke: #000000; stroke-width: 0.8\"/>\n      </defs>\n      <g>\n       <use xlink:href=\"#m4fa9be2d66\" x=\"82.700625\" y=\"64.960899\" style=\"stroke: #000000; stroke-width: 0.8\"/>\n      </g>\n     </g>\n     <g id=\"text_11\">\n      <!-- $\\mathdefault{10^{4}}$ -->\n      <g transform=\"translate(54.560625 70.279805)scale(0.14 -0.14)\">\n       <use xlink:href=\"#DejaVuSans-31\" transform=\"translate(0 0.684375)\"/>\n       <use xlink:href=\"#DejaVuSans-30\" transform=\"translate(63.623047 0.684375)\"/>\n       <use xlink:href=\"#DejaVuSans-34\" transform=\"translate(128.203125 38.965625)scale(0.7)\"/>\n      </g>\n     </g>\n    </g>\n    <g id=\"ytick_2\">\n     <g id=\"line2d_21\">\n      <path d=\"M 82.700625 354.037913 \nL 529.100625 354.037913 \n\" clip-path=\"url(#p01560c429e)\" style=\"fill: none; stroke-dasharray: 0.5,5; stroke-dashoffset: 0; stroke: #000000; stroke-width: 0.5\"/>\n     </g>\n     <g id=\"line2d_22\">\n      <defs>\n       <path id=\"m9b6174b571\" d=\"M 0 0 \nL 2 0 \n\" style=\"stroke: #000000; stroke-width: 0.6\"/>\n      </defs>\n      <g>\n       <use xlink:href=\"#m9b6174b571\" x=\"82.700625\" y=\"354.037913\" style=\"stroke: #000000; stroke-width: 0.6\"/>\n      </g>\n     </g>\n     <g id=\"text_12\">\n      <!-- $\\mathdefault{4\\times10^{3}}$ -->\n      <g transform=\"translate(28.620625 359.356819)scale(0.14 -0.14)\">\n       <defs>\n        <path id=\"DejaVuSans-d7\" d=\"M 4488 3438 \nL 3059 2003 \nL 4488 575 \nL 4116 197 \nL 2681 1631 \nL 1247 197 \nL 878 575 \nL 2303 2003 \nL 878 3438 \nL 1247 3816 \nL 2681 2381 \nL 4116 3816 \nL 4488 3438 \nz\n\" transform=\"scale(0.015625)\"/>\n       </defs>\n       <use xlink:href=\"#DejaVuSans-34\" transform=\"translate(0 0.765625)\"/>\n       <use xlink:href=\"#DejaVuSans-d7\" transform=\"translate(83.105469 0.765625)\"/>\n       <use xlink:href=\"#DejaVuSans-31\" transform=\"translate(186.376953 0.765625)\"/>\n       <use xlink:href=\"#DejaVuSans-30\" transform=\"translate(250 0.765625)\"/>\n       <use xlink:href=\"#DejaVuSans-33\" transform=\"translate(314.580078 39.046875)scale(0.7)\"/>\n      </g>\n     </g>\n    </g>\n    <g id=\"ytick_3\">\n     <g id=\"line2d_23\">\n      <path d=\"M 82.700625 283.639218 \nL 529.100625 283.639218 \n\" clip-path=\"url(#p01560c429e)\" style=\"fill: none; stroke-dasharray: 0.5,5; stroke-dashoffset: 0; stroke: #000000; stroke-width: 0.5\"/>\n     </g>\n     <g id=\"line2d_24\">\n      <g>\n       <use xlink:href=\"#m9b6174b571\" x=\"82.700625\" y=\"283.639218\" style=\"stroke: #000000; stroke-width: 0.6\"/>\n      </g>\n     </g>\n    </g>\n    <g id=\"ytick_4\">\n     <g id=\"line2d_25\">\n      <path d=\"M 82.700625 226.119297 \nL 529.100625 226.119297 \n\" clip-path=\"url(#p01560c429e)\" style=\"fill: none; stroke-dasharray: 0.5,5; stroke-dashoffset: 0; stroke: #000000; stroke-width: 0.5\"/>\n     </g>\n     <g id=\"line2d_26\">\n      <g>\n       <use xlink:href=\"#m9b6174b571\" x=\"82.700625\" y=\"226.119297\" style=\"stroke: #000000; stroke-width: 0.6\"/>\n      </g>\n     </g>\n     <g id=\"text_13\">\n      <!-- $\\mathdefault{6\\times10^{3}}$ -->\n      <g transform=\"translate(28.620625 231.438203)scale(0.14 -0.14)\">\n       <use xlink:href=\"#DejaVuSans-36\" transform=\"translate(0 0.765625)\"/>\n       <use xlink:href=\"#DejaVuSans-d7\" transform=\"translate(83.105469 0.765625)\"/>\n       <use xlink:href=\"#DejaVuSans-31\" transform=\"translate(186.376953 0.765625)\"/>\n       <use xlink:href=\"#DejaVuSans-30\" transform=\"translate(250 0.765625)\"/>\n       <use xlink:href=\"#DejaVuSans-33\" transform=\"translate(314.580078 39.046875)scale(0.7)\"/>\n      </g>\n     </g>\n    </g>\n    <g id=\"ytick_5\">\n     <g id=\"line2d_27\">\n      <path d=\"M 82.700625 177.486896 \nL 529.100625 177.486896 \n\" clip-path=\"url(#p01560c429e)\" style=\"fill: none; stroke-dasharray: 0.5,5; stroke-dashoffset: 0; stroke: #000000; stroke-width: 0.5\"/>\n     </g>\n     <g id=\"line2d_28\">\n      <g>\n       <use xlink:href=\"#m9b6174b571\" x=\"82.700625\" y=\"177.486896\" style=\"stroke: #000000; stroke-width: 0.6\"/>\n      </g>\n     </g>\n    </g>\n    <g id=\"ytick_6\">\n     <g id=\"line2d_29\">\n      <path d=\"M 82.700625 135.359594 \nL 529.100625 135.359594 \n\" clip-path=\"url(#p01560c429e)\" style=\"fill: none; stroke-dasharray: 0.5,5; stroke-dashoffset: 0; stroke: #000000; stroke-width: 0.5\"/>\n     </g>\n     <g id=\"line2d_30\">\n      <g>\n       <use xlink:href=\"#m9b6174b571\" x=\"82.700625\" y=\"135.359594\" style=\"stroke: #000000; stroke-width: 0.6\"/>\n      </g>\n     </g>\n    </g>\n    <g id=\"ytick_7\">\n     <g id=\"line2d_31\">\n      <path d=\"M 82.700625 98.20068 \nL 529.100625 98.20068 \n\" clip-path=\"url(#p01560c429e)\" style=\"fill: none; stroke-dasharray: 0.5,5; stroke-dashoffset: 0; stroke: #000000; stroke-width: 0.5\"/>\n     </g>\n     <g id=\"line2d_32\">\n      <g>\n       <use xlink:href=\"#m9b6174b571\" x=\"82.700625\" y=\"98.20068\" style=\"stroke: #000000; stroke-width: 0.6\"/>\n      </g>\n     </g>\n    </g>\n    <g id=\"text_14\">\n     <!-- Loss -->\n     <g transform=\"translate(20.877187 212.938125)rotate(-90)scale(0.18 -0.18)\">\n      <defs>\n       <path id=\"DejaVuSans-4c\" d=\"M 628 4666 \nL 1259 4666 \nL 1259 531 \nL 3531 531 \nL 3531 0 \nL 628 0 \nL 628 4666 \nz\n\" transform=\"scale(0.015625)\"/>\n       <path id=\"DejaVuSans-6f\" d=\"M 1959 3097 \nQ 1497 3097 1228 2736 \nQ 959 2375 959 1747 \nQ 959 1119 1226 758 \nQ 1494 397 1959 397 \nQ 2419 397 2687 759 \nQ 2956 1122 2956 1747 \nQ 2956 2369 2687 2733 \nQ 2419 3097 1959 3097 \nz\nM 1959 3584 \nQ 2709 3584 3137 3096 \nQ 3566 2609 3566 1747 \nQ 3566 888 3137 398 \nQ 2709 -91 1959 -91 \nQ 1206 -91 779 398 \nQ 353 888 353 1747 \nQ 353 2609 779 3096 \nQ 1206 3584 1959 3584 \nz\n\" transform=\"scale(0.015625)\"/>\n      </defs>\n      <use xlink:href=\"#DejaVuSans-4c\"/>\n      <use xlink:href=\"#DejaVuSans-6f\" x=\"53.962891\"/>\n      <use xlink:href=\"#DejaVuSans-73\" x=\"115.144531\"/>\n      <use xlink:href=\"#DejaVuSans-73\" x=\"167.244141\"/>\n     </g>\n    </g>\n   </g>\n   <g id=\"line2d_33\">\n    <path d=\"M 102.991534 41.997188 \nL 104.033429 90.949328 \nL 104.554377 93.508753 \nL 105.075324 95.362318 \nL 105.596272 97.788865 \nL 106.11722 94.761822 \nL 106.638167 94.377074 \nL 107.159115 96.938966 \nL 107.680063 94.314076 \nL 108.20101 96.174972 \nL 108.721958 96.885454 \nL 109.242905 94.03271 \nL 109.763853 97.622167 \nL 110.284801 96.884425 \nL 110.805748 99.120299 \nL 111.326696 100.780948 \nL 111.847643 101.335596 \nL 112.368591 102.182108 \nL 112.889539 101.966744 \nL 113.410486 103.101798 \nL 114.973329 102.017474 \nL 115.494277 103.452929 \nL 116.015224 104.113327 \nL 116.536172 106.584333 \nL 117.057119 107.61002 \nL 118.099015 113.423048 \nL 119.14091 116.774685 \nL 119.661857 116.223806 \nL 120.182805 116.39652 \nL 120.703753 115.112281 \nL 121.2247 114.502361 \nL 122.266595 119.222891 \nL 122.787543 126.009362 \nL 123.308491 127.763195 \nL 123.829438 128.996888 \nL 124.350386 128.292609 \nL 124.871333 127.037368 \nL 125.913229 119.68803 \nL 126.955124 113.480221 \nL 127.476071 110.674446 \nL 127.997019 110.866218 \nL 128.517967 113.769969 \nL 129.038914 115.589373 \nL 129.559862 127.563574 \nL 130.080809 126.590939 \nL 130.601757 135.834677 \nL 131.122705 135.77804 \nL 132.1646 129.79916 \nL 132.685547 125.892003 \nL 133.206495 117.778603 \nL 133.727443 117.211194 \nL 134.24839 115.998892 \nL 134.769338 116.107925 \nL 135.290285 121.593928 \nL 135.811233 121.319683 \nL 136.853128 131.56572 \nL 137.374076 139.40839 \nL 137.895023 150.885068 \nL 138.415971 151.192792 \nL 138.936919 139.932168 \nL 139.457866 138.773446 \nL 139.978814 129.017872 \nL 140.499761 124.872123 \nL 141.020709 124.848664 \nL 141.541657 124.246728 \nL 142.062604 124.134019 \nL 142.583552 127.760592 \nL 143.104499 133.728889 \nL 143.625447 132.085018 \nL 144.667342 155.349761 \nL 145.18829 161.427997 \nL 145.709237 149.646305 \nL 146.230185 154.033082 \nL 146.751133 145.265884 \nL 147.793028 134.678853 \nL 148.313975 136.355755 \nL 148.834923 130.332801 \nL 149.355871 134.790409 \nL 149.876818 140.693196 \nL 150.397766 133.854902 \nL 150.918713 146.162928 \nL 151.439661 162.443372 \nL 151.960609 168.335974 \nL 152.481556 171.968529 \nL 153.002504 174.59935 \nL 154.565347 145.238441 \nL 155.086294 140.280372 \nL 155.607242 139.657246 \nL 156.128189 137.705685 \nL 156.649137 138.205168 \nL 157.170085 139.695635 \nL 157.691032 143.058554 \nL 158.21198 148.123529 \nL 158.732927 167.703797 \nL 159.253875 177.692867 \nL 159.774823 180.78979 \nL 160.29577 177.853376 \nL 160.816718 171.213502 \nL 161.337665 157.937079 \nL 161.858613 149.783906 \nL 162.379561 143.606902 \nL 162.900508 139.265933 \nL 163.421456 136.741303 \nL 163.942404 140.06389 \nL 164.984299 149.649789 \nL 165.505246 155.431491 \nL 166.026194 173.083612 \nL 166.547142 180.981776 \nL 167.068089 199.316546 \nL 169.15188 146.102873 \nL 169.672827 139.245269 \nL 170.714722 134.504443 \nL 171.23567 131.386568 \nL 171.756618 137.54827 \nL 172.277565 139.926446 \nL 172.798513 156.825597 \nL 173.31946 180.10887 \nL 173.840408 188.862714 \nL 174.361356 185.459171 \nL 174.882303 177.16411 \nL 175.403251 163.833619 \nL 175.924198 157.990808 \nL 176.966094 141.049125 \nL 177.487041 136.124647 \nL 178.007989 134.679966 \nL 178.528936 134.830431 \nL 179.049884 141.948363 \nL 179.570832 145.562272 \nL 180.612727 179.267216 \nL 181.133674 190.790132 \nL 181.654622 195.836707 \nL 182.17557 197.573178 \nL 182.696517 192.15551 \nL 183.217465 176.14599 \nL 183.738412 169.152837 \nL 184.25936 159.718996 \nL 184.780308 159.068362 \nL 185.301255 155.140405 \nL 185.822203 164.249682 \nL 186.34315 168.780748 \nL 186.864098 194.830495 \nL 187.905993 208.200313 \nL 188.426941 208.814435 \nL 188.947888 220.745291 \nL 189.468836 217.547756 \nL 189.989784 215.648769 \nL 190.510731 213.319993 \nL 191.031679 205.143653 \nL 191.552626 216.593425 \nL 192.073574 202.848281 \nL 193.636417 213.908214 \nL 194.157364 214.07465 \nL 194.678312 211.268534 \nL 195.19926 221.098413 \nL 195.720207 219.426524 \nL 196.241155 222.983314 \nL 196.762102 213.293602 \nL 197.28305 224.20913 \nL 197.803998 216.204994 \nL 198.324945 222.126332 \nL 198.845893 217.716196 \nL 199.887788 220.364755 \nL 200.408736 214.634583 \nL 200.929683 211.019273 \nL 201.450631 208.870464 \nL 201.971578 224.722635 \nL 202.492526 246.391219 \nL 203.013474 259.988294 \nL 204.055369 279.976893 \nL 204.576316 281.827215 \nL 205.097264 286.497319 \nL 205.618212 282.44098 \nL 206.139159 279.347411 \nL 206.660107 277.38851 \nL 207.181054 276.520913 \nL 207.702002 280.428487 \nL 208.22295 281.409157 \nL 208.743897 279.847021 \nL 209.264845 285.400008 \nL 209.785792 284.368599 \nL 210.30674 284.48534 \nL 210.827688 285.396984 \nL 211.869583 290.782891 \nL 212.39053 281.913008 \nL 212.911478 290.185678 \nL 213.432426 289.653486 \nL 213.953373 288.860575 \nL 214.995268 283.666759 \nL 216.558111 270.759937 \nL 217.079059 273.825312 \nL 217.600006 275.380458 \nL 218.120954 275.341694 \nL 218.641902 278.435898 \nL 219.162849 272.684085 \nL 219.683797 278.714849 \nL 220.725692 261.558849 \nL 221.24664 256.345803 \nL 221.767587 246.526185 \nL 222.809483 212.280357 \nL 223.33043 205.510874 \nL 223.851378 201.899591 \nL 224.372325 200.830746 \nL 224.893273 208.25242 \nL 225.414221 211.008099 \nL 226.456116 214.530995 \nL 226.977063 207.517461 \nL 227.498011 202.305615 \nL 228.018959 194.302186 \nL 228.539906 184.294338 \nL 230.102749 165.818368 \nL 230.623697 169.914806 \nL 231.665592 184.048958 \nL 232.186539 188.997808 \nL 232.707487 202.193257 \nL 233.228435 200.107883 \nL 233.749382 201.923584 \nL 234.27033 197.343187 \nL 235.833173 178.365077 \nL 236.35412 175.722038 \nL 236.875068 175.619514 \nL 237.396015 176.769559 \nL 237.916963 181.089431 \nL 238.958858 197.783078 \nL 239.479806 208.855745 \nL 240.000753 211.019296 \nL 240.521701 221.065806 \nL 241.042649 214.419284 \nL 241.563596 215.685016 \nL 242.605491 194.009235 \nL 243.126439 192.525941 \nL 243.647387 189.903344 \nL 244.168334 192.436497 \nL 244.689282 187.774526 \nL 245.210229 200.869117 \nL 245.731177 206.92392 \nL 246.252125 218.401535 \nL 246.773072 224.78828 \nL 247.29402 228.36687 \nL 247.814967 229.463098 \nL 248.335915 228.022261 \nL 248.856863 223.998547 \nL 249.37781 209.285411 \nL 249.898758 209.488411 \nL 250.419705 199.074547 \nL 250.940653 197.606841 \nL 251.461601 200.303301 \nL 251.982548 197.314506 \nL 252.503496 201.974984 \nL 253.024443 215.471943 \nL 253.545391 218.719508 \nL 254.066339 223.46377 \nL 254.587286 224.156426 \nL 255.108234 229.192956 \nL 255.629181 227.31996 \nL 256.671077 202.717005 \nL 257.192024 202.758959 \nL 257.712972 200.754667 \nL 258.233919 193.217364 \nL 258.754867 198.463626 \nL 259.275815 202.137356 \nL 259.796762 200.610489 \nL 260.31771 217.114693 \nL 260.838657 220.670314 \nL 261.359605 228.113195 \nL 261.880553 228.44973 \nL 262.4015 226.509719 \nL 262.922448 223.386337 \nL 263.443395 208.991024 \nL 263.964343 208.517741 \nL 264.485291 199.462915 \nL 265.006238 199.632196 \nL 266.048133 184.521454 \nL 266.569081 193.137264 \nL 267.090029 199.31249 \nL 267.610976 207.968683 \nL 268.131924 214.667402 \nL 268.652871 219.782478 \nL 269.173819 215.315857 \nL 269.694767 216.561135 \nL 270.215714 209.489893 \nL 270.736662 208.650452 \nL 271.257609 197.183866 \nL 271.778557 198.513567 \nL 272.820452 182.453779 \nL 273.3414 182.638071 \nL 274.904243 209.876479 \nL 275.42519 216.061379 \nL 275.946138 216.226087 \nL 276.467085 216.765192 \nL 276.988033 212.11238 \nL 277.508981 208.598234 \nL 278.029928 199.51986 \nL 278.550876 187.581627 \nL 279.071824 184.045091 \nL 279.592771 178.221892 \nL 280.113719 179.395906 \nL 280.634666 184.61111 \nL 281.155614 192.748436 \nL 281.676562 208.129589 \nL 282.197509 217.979753 \nL 282.718457 221.82605 \nL 283.239404 216.880395 \nL 283.760352 221.74472 \nL 284.2813 217.42563 \nL 284.802247 208.486537 \nL 285.323195 207.507881 \nL 285.844142 196.35688 \nL 286.36509 193.809702 \nL 286.886038 197.538077 \nL 287.927933 223.900965 \nL 288.44888 241.739409 \nL 288.969828 253.00651 \nL 289.490776 281.991212 \nL 290.011723 283.47564 \nL 290.532671 291.991556 \nL 291.053618 289.268011 \nL 291.574566 285.506391 \nL 292.095514 288.564791 \nL 292.616461 276.279888 \nL 293.137409 285.624725 \nL 293.658356 281.503627 \nL 294.179304 282.057003 \nL 294.700252 285.496912 \nL 295.221199 290.611321 \nL 295.742147 297.772026 \nL 296.263094 309.183277 \nL 296.784042 315.641983 \nL 298.867832 329.928972 \nL 299.38878 324.168243 \nL 299.909728 326.167557 \nL 300.430675 326.510904 \nL 300.951623 330.176684 \nL 301.993518 319.648294 \nL 302.514466 320.127083 \nL 303.035413 322.79642 \nL 303.556361 319.043 \nL 304.077308 334.311107 \nL 304.598256 334.094981 \nL 305.119204 323.939045 \nL 305.640151 322.6762 \nL 306.161099 319.652723 \nL 306.682046 338.277463 \nL 307.202994 332.153507 \nL 307.723942 329.838692 \nL 308.244889 315.787289 \nL 308.765837 324.096814 \nL 309.286784 308.559134 \nL 309.807732 318.125233 \nL 310.32868 316.909762 \nL 310.849627 314.727739 \nL 311.370575 323.503129 \nL 311.891522 319.498085 \nL 312.41247 316.384333 \nL 312.933418 317.302109 \nL 313.454365 325.41478 \nL 313.975313 323.057535 \nL 314.49626 313.725373 \nL 315.017208 312.568837 \nL 315.538156 298.126694 \nL 317.100998 277.582341 \nL 317.621946 276.187517 \nL 318.142894 276.998715 \nL 318.663841 272.463029 \nL 319.184789 277.400829 \nL 319.705736 278.892555 \nL 320.226684 273.658247 \nL 320.747632 278.473207 \nL 321.268579 280.886367 \nL 321.789527 270.343354 \nL 322.310474 264.141322 \nL 322.831422 235.571628 \nL 323.35237 221.464747 \nL 324.394265 203.652751 \nL 324.915212 193.847018 \nL 325.43616 188.38687 \nL 326.478055 186.70071 \nL 326.999003 190.853119 \nL 327.51995 189.925406 \nL 328.561846 193.740699 \nL 329.603741 187.318465 \nL 330.124688 179.733743 \nL 330.645636 173.850264 \nL 331.166584 172.583776 \nL 331.687531 171.637606 \nL 332.208479 173.302009 \nL 332.729426 175.914855 \nL 333.250374 181.466797 \nL 334.292269 187.025561 \nL 334.813217 186.394186 \nL 335.334165 186.799832 \nL 335.855112 185.528634 \nL 336.37606 181.466192 \nL 337.417955 178.778613 \nL 337.938903 174.65557 \nL 338.45985 179.600949 \nL 338.980798 179.955423 \nL 339.501745 182.277557 \nL 340.543641 193.890677 \nL 341.064588 194.845001 \nL 341.585536 198.601393 \nL 342.106483 196.91288 \nL 342.627431 196.319834 \nL 343.148379 191.520002 \nL 343.669326 189.246834 \nL 344.190274 188.184489 \nL 344.711221 181.974034 \nL 345.232169 185.631999 \nL 346.274064 190.968948 \nL 346.795012 198.088063 \nL 347.315959 200.726769 \nL 347.836907 208.599448 \nL 348.357855 210.355838 \nL 348.878802 210.517816 \nL 349.39975 213.785446 \nL 349.920697 211.308754 \nL 350.962593 203.727724 \nL 352.004488 189.753956 \nL 352.525435 192.429006 \nL 353.046383 201.542567 \nL 353.567331 198.762209 \nL 354.088278 203.089411 \nL 354.609226 205.548433 \nL 355.130173 216.735656 \nL 355.651121 218.925643 \nL 356.172069 218.949453 \nL 356.693016 219.116957 \nL 357.213964 217.478602 \nL 357.734911 208.170205 \nL 358.255859 205.802854 \nL 358.776807 200.715849 \nL 359.297754 200.589812 \nL 359.818702 193.778697 \nL 360.339649 205.906291 \nL 360.860597 200.165597 \nL 361.381545 203.525164 \nL 361.902492 221.66665 \nL 362.944387 229.074465 \nL 363.465335 226.671634 \nL 363.986283 225.895814 \nL 364.50723 221.707884 \nL 365.549125 207.287732 \nL 366.070073 197.497836 \nL 366.591021 194.913342 \nL 367.111968 193.597242 \nL 367.632916 194.956475 \nL 368.153863 190.385248 \nL 368.674811 195.828236 \nL 369.716706 217.500776 \nL 370.237654 216.776766 \nL 371.800497 209.999675 \nL 372.842392 188.629633 \nL 373.363339 179.669234 \nL 373.884287 180.655922 \nL 374.405235 179.788553 \nL 374.926182 179.888053 \nL 375.44713 182.809759 \nL 375.968077 187.412762 \nL 377.009973 200.238076 \nL 377.53092 199.913795 \nL 378.051868 197.861143 \nL 378.572815 196.331823 \nL 379.093763 192.434732 \nL 379.614711 186.75015 \nL 380.135658 172.642971 \nL 380.656606 172.158756 \nL 381.177553 174.677994 \nL 381.698501 175.211857 \nL 382.219449 179.556709 \nL 384.303239 216.244136 \nL 384.824187 213.029844 \nL 385.345134 212.575127 \nL 385.866082 213.635134 \nL 386.387029 206.759949 \nL 386.907977 205.420978 \nL 387.949872 195.963122 \nL 389.512715 235.360669 \nL 390.55461 264.711911 \nL 391.596505 283.882827 \nL 392.117453 287.960844 \nL 392.638401 295.012237 \nL 393.159348 288.627129 \nL 393.680296 297.620098 \nL 394.201244 295.768325 \nL 394.722191 296.718247 \nL 395.243139 293.610144 \nL 395.764086 296.633915 \nL 396.805982 307.228942 \nL 397.326929 312.83627 \nL 397.847877 311.985692 \nL 398.368824 313.87505 \nL 399.41072 331.113522 \nL 399.931667 325.474498 \nL 400.452615 334.352926 \nL 400.973562 329.005182 \nL 401.49451 325.434883 \nL 402.015458 329.821783 \nL 402.536405 326.881042 \nL 403.057353 329.832425 \nL 403.5783 324.462416 \nL 404.099248 328.635357 \nL 404.620196 325.973049 \nL 405.141143 326.873251 \nL 405.662091 324.030791 \nL 406.703986 329.871261 \nL 407.745881 327.383605 \nL 408.266829 344.397188 \nL 408.787776 339.659143 \nL 409.308724 336.954697 \nL 410.871567 313.815845 \nL 411.392514 321.270099 \nL 411.913462 319.498441 \nL 412.43441 329.395736 \nL 412.955357 321.400008 \nL 413.476305 323.028408 \nL 413.997252 322.544024 \nL 414.5182 326.679009 \nL 415.039148 336.327588 \nL 415.560095 318.787716 \nL 416.081043 325.770932 \nL 416.60199 309.021066 \nL 417.122938 309.248801 \nL 417.643886 305.356052 \nL 418.164833 307.384773 \nL 418.685781 296.904624 \nL 419.206728 292.288297 \nL 419.727676 291.562112 \nL 420.248624 288.613296 \nL 420.769571 293.997126 \nL 421.290519 289.199465 \nL 421.811466 287.165232 \nL 422.332414 281.852504 \nL 422.853362 284.705236 \nL 423.374309 276.646748 \nL 426.499995 206.640905 \nL 427.020942 200.526728 \nL 427.54189 196.317185 \nL 428.062838 199.75049 \nL 428.583785 200.126986 \nL 429.104733 199.011792 \nL 429.62568 203.846582 \nL 430.667576 196.73385 \nL 431.188523 191.937697 \nL 431.709471 182.446947 \nL 432.751366 176.03983 \nL 433.272314 171.225181 \nL 433.793261 174.091698 \nL 434.835156 182.328904 \nL 435.356104 183.400758 \nL 435.877052 189.350752 \nL 436.397999 188.449443 \nL 436.918947 189.355674 \nL 437.439894 187.084263 \nL 437.960842 183.64132 \nL 438.48179 177.340341 \nL 439.002737 177.291218 \nL 439.523685 178.912686 \nL 440.044632 177.387253 \nL 441.086528 184.953535 \nL 442.128423 198.852647 \nL 442.64937 203.882055 \nL 443.170318 204.222527 \nL 443.691266 208.280102 \nL 444.212213 206.872562 \nL 444.733161 206.604893 \nL 445.254108 200.650811 \nL 445.775056 192.645585 \nL 446.296004 192.847125 \nL 446.816951 194.27884 \nL 447.337899 196.10573 \nL 447.858846 191.560541 \nL 448.379794 204.197134 \nL 448.900742 209.629008 \nL 449.421689 220.927136 \nL 449.942637 223.41626 \nL 450.463585 224.744918 \nL 450.984532 224.611835 \nL 451.50548 224.095715 \nL 452.026427 218.887943 \nL 452.547375 208.753071 \nL 453.068323 207.480308 \nL 453.58927 203.607237 \nL 454.110218 202.220149 \nL 454.631165 205.710859 \nL 455.152113 201.922782 \nL 455.673061 204.322141 \nL 456.194008 214.878379 \nL 456.714956 218.68857 \nL 457.235903 220.10876 \nL 457.756851 220.112011 \nL 458.277799 220.904777 \nL 458.798746 219.221642 \nL 459.840641 206.544082 \nL 460.361589 203.532536 \nL 460.882537 202.154167 \nL 461.403484 195.754355 \nL 461.924432 201.91072 \nL 462.966327 197.097804 \nL 463.487275 208.365104 \nL 464.008222 213.62516 \nL 465.050117 217.24633 \nL 465.571065 215.241075 \nL 466.092013 214.802262 \nL 466.61296 205.754142 \nL 467.133908 204.151322 \nL 467.654855 199.027248 \nL 468.175803 196.929574 \nL 469.217698 185.549476 \nL 469.738646 189.241797 \nL 470.259593 189.333259 \nL 470.780541 195.364265 \nL 471.301489 199.381164 \nL 471.822436 202.528056 \nL 472.343384 199.263136 \nL 472.864331 200.856211 \nL 473.385279 198.601941 \nL 473.906227 197.903189 \nL 474.427174 188.598875 \nL 474.948122 188.58896 \nL 475.469069 185.216125 \nL 475.990017 179.95944 \nL 476.510965 179.140779 \nL 477.031912 181.096813 \nL 478.073807 189.657976 \nL 478.594755 192.76357 \nL 479.115703 192.274923 \nL 479.63665 192.442844 \nL 480.157598 189.89776 \nL 480.678545 188.530809 \nL 481.199493 185.094796 \nL 481.720441 179.051411 \nL 482.241388 176.786609 \nL 482.762336 172.38157 \nL 483.804231 176.259251 \nL 485.367074 195.226143 \nL 485.888021 196.154902 \nL 486.408969 195.116709 \nL 486.929917 197.721759 \nL 487.450864 198.115029 \nL 487.971812 195.817826 \nL 488.492759 196.572303 \nL 489.013707 192.030775 \nL 489.534655 191.738534 \nL 490.055602 196.671304 \nL 491.097497 220.550218 \nL 491.618445 238.289574 \nL 493.181288 274.98359 \nL 493.702235 282.434439 \nL 494.223183 282.553964 \nL 494.744131 279.194486 \nL 495.265078 284.238871 \nL 495.786026 284.857339 \nL 496.306973 279.754086 \nL 496.827921 280.76903 \nL 497.348869 283.00257 \nL 498.390764 293.99381 \nL 498.911711 297.113711 \nL 499.953607 309.440573 \nL 500.474554 312.377016 \nL 501.516449 326.873305 \nL 502.037397 320.736715 \nL 502.558345 327.030812 \nL 503.079292 321.497792 \nL 503.60024 325.269628 \nL 504.121187 322.435302 \nL 504.642135 325.361137 \nL 505.163083 324.172344 \nL 506.204978 320.48325 \nL 506.725926 321.058974 \nL 507.246873 322.662025 \nL 507.767821 321.060786 \nL 508.288768 322.513728 \nL 508.809716 322.972359 \nL 508.809716 322.972359 \n\" clip-path=\"url(#p01560c429e)\" style=\"fill: none; stroke: #348abd; stroke-width: 3; stroke-linecap: square\"/>\n   </g>\n   <g id=\"patch_3\">\n    <path d=\"M 82.700625 359.517188 \nL 82.700625 26.877188 \n\" style=\"fill: none; stroke: #bcbcbc; stroke-width: 0.8; stroke-linejoin: miter; stroke-linecap: square\"/>\n   </g>\n   <g id=\"patch_4\">\n    <path d=\"M 529.100625 359.517188 \nL 529.100625 26.877188 \n\" style=\"fill: none; stroke: #bcbcbc; stroke-width: 0.8; stroke-linejoin: miter; stroke-linecap: square\"/>\n   </g>\n   <g id=\"patch_5\">\n    <path d=\"M 82.700625 359.517187 \nL 529.100625 359.517187 \n\" style=\"fill: none; stroke: #bcbcbc; stroke-width: 0.8; stroke-linejoin: miter; stroke-linecap: square\"/>\n   </g>\n   <g id=\"patch_6\">\n    <path d=\"M 82.700625 26.877187 \nL 529.100625 26.877187 \n\" style=\"fill: none; stroke: #bcbcbc; stroke-width: 0.8; stroke-linejoin: miter; stroke-linecap: square\"/>\n   </g>\n   <g id=\"text_15\">\n    <!-- Loss dynamics during training -->\n    <g transform=\"translate(170.515312 20.877187)scale(0.18 -0.18)\">\n     <defs>\n      <path id=\"DejaVuSans-20\" transform=\"scale(0.015625)\"/>\n      <path id=\"DejaVuSans-64\" d=\"M 2906 2969 \nL 2906 4863 \nL 3481 4863 \nL 3481 0 \nL 2906 0 \nL 2906 525 \nQ 2725 213 2448 61 \nQ 2172 -91 1784 -91 \nQ 1150 -91 751 415 \nQ 353 922 353 1747 \nQ 353 2572 751 3078 \nQ 1150 3584 1784 3584 \nQ 2172 3584 2448 3432 \nQ 2725 3281 2906 2969 \nz\nM 947 1747 \nQ 947 1113 1208 752 \nQ 1469 391 1925 391 \nQ 2381 391 2643 752 \nQ 2906 1113 2906 1747 \nQ 2906 2381 2643 2742 \nQ 2381 3103 1925 3103 \nQ 1469 3103 1208 2742 \nQ 947 2381 947 1747 \nz\n\" transform=\"scale(0.015625)\"/>\n      <path id=\"DejaVuSans-79\" d=\"M 2059 -325 \nQ 1816 -950 1584 -1140 \nQ 1353 -1331 966 -1331 \nL 506 -1331 \nL 506 -850 \nL 844 -850 \nQ 1081 -850 1212 -737 \nQ 1344 -625 1503 -206 \nL 1606 56 \nL 191 3500 \nL 800 3500 \nL 1894 763 \nL 2988 3500 \nL 3597 3500 \nL 2059 -325 \nz\n\" transform=\"scale(0.015625)\"/>\n      <path id=\"DejaVuSans-6e\" d=\"M 3513 2113 \nL 3513 0 \nL 2938 0 \nL 2938 2094 \nQ 2938 2591 2744 2837 \nQ 2550 3084 2163 3084 \nQ 1697 3084 1428 2787 \nQ 1159 2491 1159 1978 \nL 1159 0 \nL 581 0 \nL 581 3500 \nL 1159 3500 \nL 1159 2956 \nQ 1366 3272 1645 3428 \nQ 1925 3584 2291 3584 \nQ 2894 3584 3203 3211 \nQ 3513 2838 3513 2113 \nz\n\" transform=\"scale(0.015625)\"/>\n      <path id=\"DejaVuSans-61\" d=\"M 2194 1759 \nQ 1497 1759 1228 1600 \nQ 959 1441 959 1056 \nQ 959 750 1161 570 \nQ 1363 391 1709 391 \nQ 2188 391 2477 730 \nQ 2766 1069 2766 1631 \nL 2766 1759 \nL 2194 1759 \nz\nM 3341 1997 \nL 3341 0 \nL 2766 0 \nL 2766 531 \nQ 2569 213 2275 61 \nQ 1981 -91 1556 -91 \nQ 1019 -91 701 211 \nQ 384 513 384 1019 \nQ 384 1609 779 1909 \nQ 1175 2209 1959 2209 \nL 2766 2209 \nL 2766 2266 \nQ 2766 2663 2505 2880 \nQ 2244 3097 1772 3097 \nQ 1472 3097 1187 3025 \nQ 903 2953 641 2809 \nL 641 3341 \nQ 956 3463 1253 3523 \nQ 1550 3584 1831 3584 \nQ 2591 3584 2966 3190 \nQ 3341 2797 3341 1997 \nz\n\" transform=\"scale(0.015625)\"/>\n      <path id=\"DejaVuSans-6d\" d=\"M 3328 2828 \nQ 3544 3216 3844 3400 \nQ 4144 3584 4550 3584 \nQ 5097 3584 5394 3201 \nQ 5691 2819 5691 2113 \nL 5691 0 \nL 5113 0 \nL 5113 2094 \nQ 5113 2597 4934 2840 \nQ 4756 3084 4391 3084 \nQ 3944 3084 3684 2787 \nQ 3425 2491 3425 1978 \nL 3425 0 \nL 2847 0 \nL 2847 2094 \nQ 2847 2600 2669 2842 \nQ 2491 3084 2119 3084 \nQ 1678 3084 1418 2786 \nQ 1159 2488 1159 1978 \nL 1159 0 \nL 581 0 \nL 581 3500 \nL 1159 3500 \nL 1159 2956 \nQ 1356 3278 1631 3431 \nQ 1906 3584 2284 3584 \nQ 2666 3584 2933 3390 \nQ 3200 3197 3328 2828 \nz\n\" transform=\"scale(0.015625)\"/>\n      <path id=\"DejaVuSans-69\" d=\"M 603 3500 \nL 1178 3500 \nL 1178 0 \nL 603 0 \nL 603 3500 \nz\nM 603 4863 \nL 1178 4863 \nL 1178 4134 \nL 603 4134 \nL 603 4863 \nz\n\" transform=\"scale(0.015625)\"/>\n      <path id=\"DejaVuSans-63\" d=\"M 3122 3366 \nL 3122 2828 \nQ 2878 2963 2633 3030 \nQ 2388 3097 2138 3097 \nQ 1578 3097 1268 2742 \nQ 959 2388 959 1747 \nQ 959 1106 1268 751 \nQ 1578 397 2138 397 \nQ 2388 397 2633 464 \nQ 2878 531 3122 666 \nL 3122 134 \nQ 2881 22 2623 -34 \nQ 2366 -91 2075 -91 \nQ 1284 -91 818 406 \nQ 353 903 353 1747 \nQ 353 2603 823 3093 \nQ 1294 3584 2113 3584 \nQ 2378 3584 2631 3529 \nQ 2884 3475 3122 3366 \nz\n\" transform=\"scale(0.015625)\"/>\n      <path id=\"DejaVuSans-75\" d=\"M 544 1381 \nL 544 3500 \nL 1119 3500 \nL 1119 1403 \nQ 1119 906 1312 657 \nQ 1506 409 1894 409 \nQ 2359 409 2629 706 \nQ 2900 1003 2900 1516 \nL 2900 3500 \nL 3475 3500 \nL 3475 0 \nL 2900 0 \nL 2900 538 \nQ 2691 219 2414 64 \nQ 2138 -91 1772 -91 \nQ 1169 -91 856 284 \nQ 544 659 544 1381 \nz\nM 1991 3584 \nL 1991 3584 \nz\n\" transform=\"scale(0.015625)\"/>\n      <path id=\"DejaVuSans-72\" d=\"M 2631 2963 \nQ 2534 3019 2420 3045 \nQ 2306 3072 2169 3072 \nQ 1681 3072 1420 2755 \nQ 1159 2438 1159 1844 \nL 1159 0 \nL 581 0 \nL 581 3500 \nL 1159 3500 \nL 1159 2956 \nQ 1341 3275 1631 3429 \nQ 1922 3584 2338 3584 \nQ 2397 3584 2469 3576 \nQ 2541 3569 2628 3553 \nL 2631 2963 \nz\n\" transform=\"scale(0.015625)\"/>\n      <path id=\"DejaVuSans-67\" d=\"M 2906 1791 \nQ 2906 2416 2648 2759 \nQ 2391 3103 1925 3103 \nQ 1463 3103 1205 2759 \nQ 947 2416 947 1791 \nQ 947 1169 1205 825 \nQ 1463 481 1925 481 \nQ 2391 481 2648 825 \nQ 2906 1169 2906 1791 \nz\nM 3481 434 \nQ 3481 -459 3084 -895 \nQ 2688 -1331 1869 -1331 \nQ 1566 -1331 1297 -1286 \nQ 1028 -1241 775 -1147 \nL 775 -588 \nQ 1028 -725 1275 -790 \nQ 1522 -856 1778 -856 \nQ 2344 -856 2625 -561 \nQ 2906 -266 2906 331 \nL 2906 616 \nQ 2728 306 2450 153 \nQ 2172 0 1784 0 \nQ 1141 0 747 490 \nQ 353 981 353 1791 \nQ 353 2603 747 3093 \nQ 1141 3584 1784 3584 \nQ 2172 3584 2450 3431 \nQ 2728 3278 2906 2969 \nL 2906 3500 \nL 3481 3500 \nL 3481 434 \nz\n\" transform=\"scale(0.015625)\"/>\n     </defs>\n     <use xlink:href=\"#DejaVuSans-4c\"/>\n     <use xlink:href=\"#DejaVuSans-6f\" x=\"53.962891\"/>\n     <use xlink:href=\"#DejaVuSans-73\" x=\"115.144531\"/>\n     <use xlink:href=\"#DejaVuSans-73\" x=\"167.244141\"/>\n     <use xlink:href=\"#DejaVuSans-20\" x=\"219.34375\"/>\n     <use xlink:href=\"#DejaVuSans-64\" x=\"251.130859\"/>\n     <use xlink:href=\"#DejaVuSans-79\" x=\"314.607422\"/>\n     <use xlink:href=\"#DejaVuSans-6e\" x=\"373.787109\"/>\n     <use xlink:href=\"#DejaVuSans-61\" x=\"437.166016\"/>\n     <use xlink:href=\"#DejaVuSans-6d\" x=\"498.445312\"/>\n     <use xlink:href=\"#DejaVuSans-69\" x=\"595.857422\"/>\n     <use xlink:href=\"#DejaVuSans-63\" x=\"623.640625\"/>\n     <use xlink:href=\"#DejaVuSans-73\" x=\"678.621094\"/>\n     <use xlink:href=\"#DejaVuSans-20\" x=\"730.720703\"/>\n     <use xlink:href=\"#DejaVuSans-64\" x=\"762.507812\"/>\n     <use xlink:href=\"#DejaVuSans-75\" x=\"825.984375\"/>\n     <use xlink:href=\"#DejaVuSans-72\" x=\"889.363281\"/>\n     <use xlink:href=\"#DejaVuSans-69\" x=\"930.476562\"/>\n     <use xlink:href=\"#DejaVuSans-6e\" x=\"958.259766\"/>\n     <use xlink:href=\"#DejaVuSans-67\" x=\"1021.638672\"/>\n     <use xlink:href=\"#DejaVuSans-20\" x=\"1085.115234\"/>\n     <use xlink:href=\"#DejaVuSans-74\" x=\"1116.902344\"/>\n     <use xlink:href=\"#DejaVuSans-72\" x=\"1156.111328\"/>\n     <use xlink:href=\"#DejaVuSans-61\" x=\"1197.224609\"/>\n     <use xlink:href=\"#DejaVuSans-69\" x=\"1258.503906\"/>\n     <use xlink:href=\"#DejaVuSans-6e\" x=\"1286.287109\"/>\n     <use xlink:href=\"#DejaVuSans-69\" x=\"1349.666016\"/>\n     <use xlink:href=\"#DejaVuSans-6e\" x=\"1377.449219\"/>\n     <use xlink:href=\"#DejaVuSans-67\" x=\"1440.828125\"/>\n    </g>\n   </g>\n  </g>\n </g>\n <defs>\n  <clipPath id=\"p01560c429e\">\n   <rect x=\"82.700625\" y=\"26.877187\" width=\"446.4\" height=\"332.64\"/>\n  </clipPath>\n </defs>\n</svg>\n",
      "text/plain": [
       "<Figure size 800x600 with 1 Axes>"
      ]
     },
     "metadata": {},
     "output_type": "display_data"
    }
   ],
   "source": [
    "plot(\n",
    "    jnp.arange(losses.size), [losses], \n",
    "    yscale='log',\n",
    "    xlabel='Steps',\n",
    "    ylabel='Loss',\n",
    "    title='Loss dynamics during training')"
   ]
  },
  {
   "cell_type": "code",
   "execution_count": 46,
   "id": "521c6ab7",
   "metadata": {},
   "outputs": [
    {
     "data": {
      "image/svg+xml": "<?xml version=\"1.0\" encoding=\"utf-8\" standalone=\"no\"?>\n<!DOCTYPE svg PUBLIC \"-//W3C//DTD SVG 1.1//EN\"\n  \"http://www.w3.org/Graphics/SVG/1.1/DTD/svg11.dtd\">\n<svg xmlns:xlink=\"http://www.w3.org/1999/xlink\" width=\"514.950241pt\" height=\"405.187187pt\" viewBox=\"0 0 514.950241 405.187187\" xmlns=\"http://www.w3.org/2000/svg\" version=\"1.1\">\n <metadata>\n  <rdf:RDF xmlns:dc=\"http://purl.org/dc/elements/1.1/\" xmlns:cc=\"http://creativecommons.org/ns#\" xmlns:rdf=\"http://www.w3.org/1999/02/22-rdf-syntax-ns#\">\n   <cc:Work>\n    <dc:type rdf:resource=\"http://purl.org/dc/dcmitype/StillImage\"/>\n    <dc:date>2022-05-08T21:22:58.680452</dc:date>\n    <dc:format>image/svg+xml</dc:format>\n    <dc:creator>\n     <cc:Agent>\n      <dc:title>Matplotlib v3.5.2, https://matplotlib.org/</dc:title>\n     </cc:Agent>\n    </dc:creator>\n   </cc:Work>\n  </rdf:RDF>\n </metadata>\n <defs>\n  <style type=\"text/css\">*{stroke-linejoin: round; stroke-linecap: butt}</style>\n </defs>\n <g id=\"figure_1\">\n  <g id=\"patch_1\">\n   <path d=\"M 0 405.187187 \nL 514.950241 405.187187 \nL 514.950241 0 \nL 0 0 \nz\n\" style=\"fill: #ffffff\"/>\n  </g>\n  <g id=\"axes_1\">\n   <g id=\"patch_2\">\n    <path d=\"M 57.34 359.517187 \nL 503.74 359.517187 \nL 503.74 26.877187 \nL 57.34 26.877187 \nz\n\" style=\"fill: #eeeeee\"/>\n   </g>\n   <g id=\"matplotlib.axis_1\">\n    <g id=\"xtick_1\">\n     <g id=\"line2d_1\">\n      <path d=\"M 77.630909 359.517187 \nL 77.630909 26.877187 \n\" clip-path=\"url(#p2d133bcc6b)\" style=\"fill: none; stroke-dasharray: 0.5,5; stroke-dashoffset: 0; stroke: #000000; stroke-width: 0.5\"/>\n     </g>\n     <g id=\"line2d_2\">\n      <defs>\n       <path id=\"maf8b680337\" d=\"M 0 0 \nL 0 -3.5 \n\" style=\"stroke: #000000; stroke-width: 0.8\"/>\n      </defs>\n      <g>\n       <use xlink:href=\"#maf8b680337\" x=\"77.630909\" y=\"359.517187\" style=\"stroke: #000000; stroke-width: 0.8\"/>\n      </g>\n     </g>\n     <g id=\"text_1\">\n      <!-- 0 -->\n      <g transform=\"translate(73.177159 373.655)scale(0.14 -0.14)\">\n       <defs>\n        <path id=\"DejaVuSans-30\" d=\"M 2034 4250 \nQ 1547 4250 1301 3770 \nQ 1056 3291 1056 2328 \nQ 1056 1369 1301 889 \nQ 1547 409 2034 409 \nQ 2525 409 2770 889 \nQ 3016 1369 3016 2328 \nQ 3016 3291 2770 3770 \nQ 2525 4250 2034 4250 \nz\nM 2034 4750 \nQ 2819 4750 3233 4129 \nQ 3647 3509 3647 2328 \nQ 3647 1150 3233 529 \nQ 2819 -91 2034 -91 \nQ 1250 -91 836 529 \nQ 422 1150 422 2328 \nQ 422 3509 836 4129 \nQ 1250 4750 2034 4750 \nz\n\" transform=\"scale(0.015625)\"/>\n       </defs>\n       <use xlink:href=\"#DejaVuSans-30\"/>\n      </g>\n     </g>\n    </g>\n    <g id=\"xtick_2\">\n     <g id=\"line2d_3\">\n      <path d=\"M 129.725669 359.517187 \nL 129.725669 26.877187 \n\" clip-path=\"url(#p2d133bcc6b)\" style=\"fill: none; stroke-dasharray: 0.5,5; stroke-dashoffset: 0; stroke: #000000; stroke-width: 0.5\"/>\n     </g>\n     <g id=\"line2d_4\">\n      <g>\n       <use xlink:href=\"#maf8b680337\" x=\"129.725669\" y=\"359.517187\" style=\"stroke: #000000; stroke-width: 0.8\"/>\n      </g>\n     </g>\n     <g id=\"text_2\">\n      <!-- 100 -->\n      <g transform=\"translate(116.364419 373.655)scale(0.14 -0.14)\">\n       <defs>\n        <path id=\"DejaVuSans-31\" d=\"M 794 531 \nL 1825 531 \nL 1825 4091 \nL 703 3866 \nL 703 4441 \nL 1819 4666 \nL 2450 4666 \nL 2450 531 \nL 3481 531 \nL 3481 0 \nL 794 0 \nL 794 531 \nz\n\" transform=\"scale(0.015625)\"/>\n       </defs>\n       <use xlink:href=\"#DejaVuSans-31\"/>\n       <use xlink:href=\"#DejaVuSans-30\" x=\"63.623047\"/>\n       <use xlink:href=\"#DejaVuSans-30\" x=\"127.246094\"/>\n      </g>\n     </g>\n    </g>\n    <g id=\"xtick_3\">\n     <g id=\"line2d_5\">\n      <path d=\"M 181.820429 359.517187 \nL 181.820429 26.877187 \n\" clip-path=\"url(#p2d133bcc6b)\" style=\"fill: none; stroke-dasharray: 0.5,5; stroke-dashoffset: 0; stroke: #000000; stroke-width: 0.5\"/>\n     </g>\n     <g id=\"line2d_6\">\n      <g>\n       <use xlink:href=\"#maf8b680337\" x=\"181.820429\" y=\"359.517187\" style=\"stroke: #000000; stroke-width: 0.8\"/>\n      </g>\n     </g>\n     <g id=\"text_3\">\n      <!-- 200 -->\n      <g transform=\"translate(168.459179 373.655)scale(0.14 -0.14)\">\n       <defs>\n        <path id=\"DejaVuSans-32\" d=\"M 1228 531 \nL 3431 531 \nL 3431 0 \nL 469 0 \nL 469 531 \nQ 828 903 1448 1529 \nQ 2069 2156 2228 2338 \nQ 2531 2678 2651 2914 \nQ 2772 3150 2772 3378 \nQ 2772 3750 2511 3984 \nQ 2250 4219 1831 4219 \nQ 1534 4219 1204 4116 \nQ 875 4013 500 3803 \nL 500 4441 \nQ 881 4594 1212 4672 \nQ 1544 4750 1819 4750 \nQ 2544 4750 2975 4387 \nQ 3406 4025 3406 3419 \nQ 3406 3131 3298 2873 \nQ 3191 2616 2906 2266 \nQ 2828 2175 2409 1742 \nQ 1991 1309 1228 531 \nz\n\" transform=\"scale(0.015625)\"/>\n       </defs>\n       <use xlink:href=\"#DejaVuSans-32\"/>\n       <use xlink:href=\"#DejaVuSans-30\" x=\"63.623047\"/>\n       <use xlink:href=\"#DejaVuSans-30\" x=\"127.246094\"/>\n      </g>\n     </g>\n    </g>\n    <g id=\"xtick_4\">\n     <g id=\"line2d_7\">\n      <path d=\"M 233.91519 359.517187 \nL 233.91519 26.877187 \n\" clip-path=\"url(#p2d133bcc6b)\" style=\"fill: none; stroke-dasharray: 0.5,5; stroke-dashoffset: 0; stroke: #000000; stroke-width: 0.5\"/>\n     </g>\n     <g id=\"line2d_8\">\n      <g>\n       <use xlink:href=\"#maf8b680337\" x=\"233.91519\" y=\"359.517187\" style=\"stroke: #000000; stroke-width: 0.8\"/>\n      </g>\n     </g>\n     <g id=\"text_4\">\n      <!-- 300 -->\n      <g transform=\"translate(220.55394 373.655)scale(0.14 -0.14)\">\n       <defs>\n        <path id=\"DejaVuSans-33\" d=\"M 2597 2516 \nQ 3050 2419 3304 2112 \nQ 3559 1806 3559 1356 \nQ 3559 666 3084 287 \nQ 2609 -91 1734 -91 \nQ 1441 -91 1130 -33 \nQ 819 25 488 141 \nL 488 750 \nQ 750 597 1062 519 \nQ 1375 441 1716 441 \nQ 2309 441 2620 675 \nQ 2931 909 2931 1356 \nQ 2931 1769 2642 2001 \nQ 2353 2234 1838 2234 \nL 1294 2234 \nL 1294 2753 \nL 1863 2753 \nQ 2328 2753 2575 2939 \nQ 2822 3125 2822 3475 \nQ 2822 3834 2567 4026 \nQ 2313 4219 1838 4219 \nQ 1578 4219 1281 4162 \nQ 984 4106 628 3988 \nL 628 4550 \nQ 988 4650 1302 4700 \nQ 1616 4750 1894 4750 \nQ 2613 4750 3031 4423 \nQ 3450 4097 3450 3541 \nQ 3450 3153 3228 2886 \nQ 3006 2619 2597 2516 \nz\n\" transform=\"scale(0.015625)\"/>\n       </defs>\n       <use xlink:href=\"#DejaVuSans-33\"/>\n       <use xlink:href=\"#DejaVuSans-30\" x=\"63.623047\"/>\n       <use xlink:href=\"#DejaVuSans-30\" x=\"127.246094\"/>\n      </g>\n     </g>\n    </g>\n    <g id=\"xtick_5\">\n     <g id=\"line2d_9\">\n      <path d=\"M 286.00995 359.517187 \nL 286.00995 26.877187 \n\" clip-path=\"url(#p2d133bcc6b)\" style=\"fill: none; stroke-dasharray: 0.5,5; stroke-dashoffset: 0; stroke: #000000; stroke-width: 0.5\"/>\n     </g>\n     <g id=\"line2d_10\">\n      <g>\n       <use xlink:href=\"#maf8b680337\" x=\"286.00995\" y=\"359.517187\" style=\"stroke: #000000; stroke-width: 0.8\"/>\n      </g>\n     </g>\n     <g id=\"text_5\">\n      <!-- 400 -->\n      <g transform=\"translate(272.6487 373.655)scale(0.14 -0.14)\">\n       <defs>\n        <path id=\"DejaVuSans-34\" d=\"M 2419 4116 \nL 825 1625 \nL 2419 1625 \nL 2419 4116 \nz\nM 2253 4666 \nL 3047 4666 \nL 3047 1625 \nL 3713 1625 \nL 3713 1100 \nL 3047 1100 \nL 3047 0 \nL 2419 0 \nL 2419 1100 \nL 313 1100 \nL 313 1709 \nL 2253 4666 \nz\n\" transform=\"scale(0.015625)\"/>\n       </defs>\n       <use xlink:href=\"#DejaVuSans-34\"/>\n       <use xlink:href=\"#DejaVuSans-30\" x=\"63.623047\"/>\n       <use xlink:href=\"#DejaVuSans-30\" x=\"127.246094\"/>\n      </g>\n     </g>\n    </g>\n    <g id=\"xtick_6\">\n     <g id=\"line2d_11\">\n      <path d=\"M 338.10471 359.517187 \nL 338.10471 26.877187 \n\" clip-path=\"url(#p2d133bcc6b)\" style=\"fill: none; stroke-dasharray: 0.5,5; stroke-dashoffset: 0; stroke: #000000; stroke-width: 0.5\"/>\n     </g>\n     <g id=\"line2d_12\">\n      <g>\n       <use xlink:href=\"#maf8b680337\" x=\"338.10471\" y=\"359.517187\" style=\"stroke: #000000; stroke-width: 0.8\"/>\n      </g>\n     </g>\n     <g id=\"text_6\">\n      <!-- 500 -->\n      <g transform=\"translate(324.74346 373.655)scale(0.14 -0.14)\">\n       <defs>\n        <path id=\"DejaVuSans-35\" d=\"M 691 4666 \nL 3169 4666 \nL 3169 4134 \nL 1269 4134 \nL 1269 2991 \nQ 1406 3038 1543 3061 \nQ 1681 3084 1819 3084 \nQ 2600 3084 3056 2656 \nQ 3513 2228 3513 1497 \nQ 3513 744 3044 326 \nQ 2575 -91 1722 -91 \nQ 1428 -91 1123 -41 \nQ 819 9 494 109 \nL 494 744 \nQ 775 591 1075 516 \nQ 1375 441 1709 441 \nQ 2250 441 2565 725 \nQ 2881 1009 2881 1497 \nQ 2881 1984 2565 2268 \nQ 2250 2553 1709 2553 \nQ 1456 2553 1204 2497 \nQ 953 2441 691 2322 \nL 691 4666 \nz\n\" transform=\"scale(0.015625)\"/>\n       </defs>\n       <use xlink:href=\"#DejaVuSans-35\"/>\n       <use xlink:href=\"#DejaVuSans-30\" x=\"63.623047\"/>\n       <use xlink:href=\"#DejaVuSans-30\" x=\"127.246094\"/>\n      </g>\n     </g>\n    </g>\n    <g id=\"xtick_7\">\n     <g id=\"line2d_13\">\n      <path d=\"M 390.19947 359.517187 \nL 390.19947 26.877187 \n\" clip-path=\"url(#p2d133bcc6b)\" style=\"fill: none; stroke-dasharray: 0.5,5; stroke-dashoffset: 0; stroke: #000000; stroke-width: 0.5\"/>\n     </g>\n     <g id=\"line2d_14\">\n      <g>\n       <use xlink:href=\"#maf8b680337\" x=\"390.19947\" y=\"359.517187\" style=\"stroke: #000000; stroke-width: 0.8\"/>\n      </g>\n     </g>\n     <g id=\"text_7\">\n      <!-- 600 -->\n      <g transform=\"translate(376.83822 373.655)scale(0.14 -0.14)\">\n       <defs>\n        <path id=\"DejaVuSans-36\" d=\"M 2113 2584 \nQ 1688 2584 1439 2293 \nQ 1191 2003 1191 1497 \nQ 1191 994 1439 701 \nQ 1688 409 2113 409 \nQ 2538 409 2786 701 \nQ 3034 994 3034 1497 \nQ 3034 2003 2786 2293 \nQ 2538 2584 2113 2584 \nz\nM 3366 4563 \nL 3366 3988 \nQ 3128 4100 2886 4159 \nQ 2644 4219 2406 4219 \nQ 1781 4219 1451 3797 \nQ 1122 3375 1075 2522 \nQ 1259 2794 1537 2939 \nQ 1816 3084 2150 3084 \nQ 2853 3084 3261 2657 \nQ 3669 2231 3669 1497 \nQ 3669 778 3244 343 \nQ 2819 -91 2113 -91 \nQ 1303 -91 875 529 \nQ 447 1150 447 2328 \nQ 447 3434 972 4092 \nQ 1497 4750 2381 4750 \nQ 2619 4750 2861 4703 \nQ 3103 4656 3366 4563 \nz\n\" transform=\"scale(0.015625)\"/>\n       </defs>\n       <use xlink:href=\"#DejaVuSans-36\"/>\n       <use xlink:href=\"#DejaVuSans-30\" x=\"63.623047\"/>\n       <use xlink:href=\"#DejaVuSans-30\" x=\"127.246094\"/>\n      </g>\n     </g>\n    </g>\n    <g id=\"xtick_8\">\n     <g id=\"line2d_15\">\n      <path d=\"M 442.29423 359.517187 \nL 442.29423 26.877187 \n\" clip-path=\"url(#p2d133bcc6b)\" style=\"fill: none; stroke-dasharray: 0.5,5; stroke-dashoffset: 0; stroke: #000000; stroke-width: 0.5\"/>\n     </g>\n     <g id=\"line2d_16\">\n      <g>\n       <use xlink:href=\"#maf8b680337\" x=\"442.29423\" y=\"359.517187\" style=\"stroke: #000000; stroke-width: 0.8\"/>\n      </g>\n     </g>\n     <g id=\"text_8\">\n      <!-- 700 -->\n      <g transform=\"translate(428.93298 373.655)scale(0.14 -0.14)\">\n       <defs>\n        <path id=\"DejaVuSans-37\" d=\"M 525 4666 \nL 3525 4666 \nL 3525 4397 \nL 1831 0 \nL 1172 0 \nL 2766 4134 \nL 525 4134 \nL 525 4666 \nz\n\" transform=\"scale(0.015625)\"/>\n       </defs>\n       <use xlink:href=\"#DejaVuSans-37\"/>\n       <use xlink:href=\"#DejaVuSans-30\" x=\"63.623047\"/>\n       <use xlink:href=\"#DejaVuSans-30\" x=\"127.246094\"/>\n      </g>\n     </g>\n    </g>\n    <g id=\"xtick_9\">\n     <g id=\"line2d_17\">\n      <path d=\"M 494.388991 359.517187 \nL 494.388991 26.877187 \n\" clip-path=\"url(#p2d133bcc6b)\" style=\"fill: none; stroke-dasharray: 0.5,5; stroke-dashoffset: 0; stroke: #000000; stroke-width: 0.5\"/>\n     </g>\n     <g id=\"line2d_18\">\n      <g>\n       <use xlink:href=\"#maf8b680337\" x=\"494.388991\" y=\"359.517187\" style=\"stroke: #000000; stroke-width: 0.8\"/>\n      </g>\n     </g>\n     <g id=\"text_9\">\n      <!-- 800 -->\n      <g transform=\"translate(481.027741 373.655)scale(0.14 -0.14)\">\n       <defs>\n        <path id=\"DejaVuSans-38\" d=\"M 2034 2216 \nQ 1584 2216 1326 1975 \nQ 1069 1734 1069 1313 \nQ 1069 891 1326 650 \nQ 1584 409 2034 409 \nQ 2484 409 2743 651 \nQ 3003 894 3003 1313 \nQ 3003 1734 2745 1975 \nQ 2488 2216 2034 2216 \nz\nM 1403 2484 \nQ 997 2584 770 2862 \nQ 544 3141 544 3541 \nQ 544 4100 942 4425 \nQ 1341 4750 2034 4750 \nQ 2731 4750 3128 4425 \nQ 3525 4100 3525 3541 \nQ 3525 3141 3298 2862 \nQ 3072 2584 2669 2484 \nQ 3125 2378 3379 2068 \nQ 3634 1759 3634 1313 \nQ 3634 634 3220 271 \nQ 2806 -91 2034 -91 \nQ 1263 -91 848 271 \nQ 434 634 434 1313 \nQ 434 1759 690 2068 \nQ 947 2378 1403 2484 \nz\nM 1172 3481 \nQ 1172 3119 1398 2916 \nQ 1625 2713 2034 2713 \nQ 2441 2713 2670 2916 \nQ 2900 3119 2900 3481 \nQ 2900 3844 2670 4047 \nQ 2441 4250 2034 4250 \nQ 1625 4250 1398 4047 \nQ 1172 3844 1172 3481 \nz\n\" transform=\"scale(0.015625)\"/>\n       </defs>\n       <use xlink:href=\"#DejaVuSans-38\"/>\n       <use xlink:href=\"#DejaVuSans-30\" x=\"63.623047\"/>\n       <use xlink:href=\"#DejaVuSans-30\" x=\"127.246094\"/>\n      </g>\n     </g>\n    </g>\n    <g id=\"text_10\">\n     <!-- Steps -->\n     <g transform=\"translate(255.358281 394.24375)scale(0.18 -0.18)\">\n      <defs>\n       <path id=\"DejaVuSans-53\" d=\"M 3425 4513 \nL 3425 3897 \nQ 3066 4069 2747 4153 \nQ 2428 4238 2131 4238 \nQ 1616 4238 1336 4038 \nQ 1056 3838 1056 3469 \nQ 1056 3159 1242 3001 \nQ 1428 2844 1947 2747 \nL 2328 2669 \nQ 3034 2534 3370 2195 \nQ 3706 1856 3706 1288 \nQ 3706 609 3251 259 \nQ 2797 -91 1919 -91 \nQ 1588 -91 1214 -16 \nQ 841 59 441 206 \nL 441 856 \nQ 825 641 1194 531 \nQ 1563 422 1919 422 \nQ 2459 422 2753 634 \nQ 3047 847 3047 1241 \nQ 3047 1584 2836 1778 \nQ 2625 1972 2144 2069 \nL 1759 2144 \nQ 1053 2284 737 2584 \nQ 422 2884 422 3419 \nQ 422 4038 858 4394 \nQ 1294 4750 2059 4750 \nQ 2388 4750 2728 4690 \nQ 3069 4631 3425 4513 \nz\n\" transform=\"scale(0.015625)\"/>\n       <path id=\"DejaVuSans-74\" d=\"M 1172 4494 \nL 1172 3500 \nL 2356 3500 \nL 2356 3053 \nL 1172 3053 \nL 1172 1153 \nQ 1172 725 1289 603 \nQ 1406 481 1766 481 \nL 2356 481 \nL 2356 0 \nL 1766 0 \nQ 1100 0 847 248 \nQ 594 497 594 1153 \nL 594 3053 \nL 172 3053 \nL 172 3500 \nL 594 3500 \nL 594 4494 \nL 1172 4494 \nz\n\" transform=\"scale(0.015625)\"/>\n       <path id=\"DejaVuSans-65\" d=\"M 3597 1894 \nL 3597 1613 \nL 953 1613 \nQ 991 1019 1311 708 \nQ 1631 397 2203 397 \nQ 2534 397 2845 478 \nQ 3156 559 3463 722 \nL 3463 178 \nQ 3153 47 2828 -22 \nQ 2503 -91 2169 -91 \nQ 1331 -91 842 396 \nQ 353 884 353 1716 \nQ 353 2575 817 3079 \nQ 1281 3584 2069 3584 \nQ 2775 3584 3186 3129 \nQ 3597 2675 3597 1894 \nz\nM 3022 2063 \nQ 3016 2534 2758 2815 \nQ 2500 3097 2075 3097 \nQ 1594 3097 1305 2825 \nQ 1016 2553 972 2059 \nL 3022 2063 \nz\n\" transform=\"scale(0.015625)\"/>\n       <path id=\"DejaVuSans-70\" d=\"M 1159 525 \nL 1159 -1331 \nL 581 -1331 \nL 581 3500 \nL 1159 3500 \nL 1159 2969 \nQ 1341 3281 1617 3432 \nQ 1894 3584 2278 3584 \nQ 2916 3584 3314 3078 \nQ 3713 2572 3713 1747 \nQ 3713 922 3314 415 \nQ 2916 -91 2278 -91 \nQ 1894 -91 1617 61 \nQ 1341 213 1159 525 \nz\nM 3116 1747 \nQ 3116 2381 2855 2742 \nQ 2594 3103 2138 3103 \nQ 1681 3103 1420 2742 \nQ 1159 2381 1159 1747 \nQ 1159 1113 1420 752 \nQ 1681 391 2138 391 \nQ 2594 391 2855 752 \nQ 3116 1113 3116 1747 \nz\n\" transform=\"scale(0.015625)\"/>\n       <path id=\"DejaVuSans-73\" d=\"M 2834 3397 \nL 2834 2853 \nQ 2591 2978 2328 3040 \nQ 2066 3103 1784 3103 \nQ 1356 3103 1142 2972 \nQ 928 2841 928 2578 \nQ 928 2378 1081 2264 \nQ 1234 2150 1697 2047 \nL 1894 2003 \nQ 2506 1872 2764 1633 \nQ 3022 1394 3022 966 \nQ 3022 478 2636 193 \nQ 2250 -91 1575 -91 \nQ 1294 -91 989 -36 \nQ 684 19 347 128 \nL 347 722 \nQ 666 556 975 473 \nQ 1284 391 1588 391 \nQ 1994 391 2212 530 \nQ 2431 669 2431 922 \nQ 2431 1156 2273 1281 \nQ 2116 1406 1581 1522 \nL 1381 1569 \nQ 847 1681 609 1914 \nQ 372 2147 372 2553 \nQ 372 3047 722 3315 \nQ 1072 3584 1716 3584 \nQ 2034 3584 2315 3537 \nQ 2597 3491 2834 3397 \nz\n\" transform=\"scale(0.015625)\"/>\n      </defs>\n      <use xlink:href=\"#DejaVuSans-53\"/>\n      <use xlink:href=\"#DejaVuSans-74\" x=\"63.476562\"/>\n      <use xlink:href=\"#DejaVuSans-65\" x=\"102.685547\"/>\n      <use xlink:href=\"#DejaVuSans-70\" x=\"164.208984\"/>\n      <use xlink:href=\"#DejaVuSans-73\" x=\"227.685547\"/>\n     </g>\n    </g>\n   </g>\n   <g id=\"matplotlib.axis_2\">\n    <g id=\"ytick_1\">\n     <g id=\"line2d_19\">\n      <path d=\"M 57.34 352.220578 \nL 503.74 352.220578 \n\" clip-path=\"url(#p2d133bcc6b)\" style=\"fill: none; stroke-dasharray: 0.5,5; stroke-dashoffset: 0; stroke: #000000; stroke-width: 0.5\"/>\n     </g>\n     <g id=\"line2d_20\">\n      <defs>\n       <path id=\"mf3a39267a8\" d=\"M 0 0 \nL 3.5 0 \n\" style=\"stroke: #000000; stroke-width: 0.8\"/>\n      </defs>\n      <g>\n       <use xlink:href=\"#mf3a39267a8\" x=\"57.34\" y=\"352.220578\" style=\"stroke: #000000; stroke-width: 0.8\"/>\n      </g>\n     </g>\n     <g id=\"text_11\">\n      <!-- $\\mathdefault{10^{3}}$ -->\n      <g transform=\"translate(29.2 357.539484)scale(0.14 -0.14)\">\n       <use xlink:href=\"#DejaVuSans-31\" transform=\"translate(0 0.765625)\"/>\n       <use xlink:href=\"#DejaVuSans-30\" transform=\"translate(63.623047 0.765625)\"/>\n       <use xlink:href=\"#DejaVuSans-33\" transform=\"translate(128.203125 39.046875)scale(0.7)\"/>\n      </g>\n     </g>\n    </g>\n    <g id=\"ytick_2\">\n     <g id=\"line2d_21\">\n      <path d=\"M 57.34 63.814442 \nL 503.74 63.814442 \n\" clip-path=\"url(#p2d133bcc6b)\" style=\"fill: none; stroke-dasharray: 0.5,5; stroke-dashoffset: 0; stroke: #000000; stroke-width: 0.5\"/>\n     </g>\n     <g id=\"line2d_22\">\n      <g>\n       <use xlink:href=\"#mf3a39267a8\" x=\"57.34\" y=\"63.814442\" style=\"stroke: #000000; stroke-width: 0.8\"/>\n      </g>\n     </g>\n     <g id=\"text_12\">\n      <!-- $\\mathdefault{10^{4}}$ -->\n      <g transform=\"translate(29.2 69.133348)scale(0.14 -0.14)\">\n       <use xlink:href=\"#DejaVuSans-31\" transform=\"translate(0 0.684375)\"/>\n       <use xlink:href=\"#DejaVuSans-30\" transform=\"translate(63.623047 0.684375)\"/>\n       <use xlink:href=\"#DejaVuSans-34\" transform=\"translate(128.203125 38.965625)scale(0.7)\"/>\n      </g>\n     </g>\n    </g>\n    <g id=\"ytick_3\">\n     <g id=\"line2d_23\">\n      <path d=\"M 57.34 265.40168 \nL 503.74 265.40168 \n\" clip-path=\"url(#p2d133bcc6b)\" style=\"fill: none; stroke-dasharray: 0.5,5; stroke-dashoffset: 0; stroke: #000000; stroke-width: 0.5\"/>\n     </g>\n     <g id=\"line2d_24\">\n      <defs>\n       <path id=\"mdb070c5e01\" d=\"M 0 0 \nL 2 0 \n\" style=\"stroke: #000000; stroke-width: 0.6\"/>\n      </defs>\n      <g>\n       <use xlink:href=\"#mdb070c5e01\" x=\"57.34\" y=\"265.40168\" style=\"stroke: #000000; stroke-width: 0.6\"/>\n      </g>\n     </g>\n    </g>\n    <g id=\"ytick_4\">\n     <g id=\"line2d_25\">\n      <path d=\"M 57.34 214.615881 \nL 503.74 214.615881 \n\" clip-path=\"url(#p2d133bcc6b)\" style=\"fill: none; stroke-dasharray: 0.5,5; stroke-dashoffset: 0; stroke: #000000; stroke-width: 0.5\"/>\n     </g>\n     <g id=\"line2d_26\">\n      <g>\n       <use xlink:href=\"#mdb070c5e01\" x=\"57.34\" y=\"214.615881\" style=\"stroke: #000000; stroke-width: 0.6\"/>\n      </g>\n     </g>\n    </g>\n    <g id=\"ytick_5\">\n     <g id=\"line2d_27\">\n      <path d=\"M 57.34 178.582782 \nL 503.74 178.582782 \n\" clip-path=\"url(#p2d133bcc6b)\" style=\"fill: none; stroke-dasharray: 0.5,5; stroke-dashoffset: 0; stroke: #000000; stroke-width: 0.5\"/>\n     </g>\n     <g id=\"line2d_28\">\n      <g>\n       <use xlink:href=\"#mdb070c5e01\" x=\"57.34\" y=\"178.582782\" style=\"stroke: #000000; stroke-width: 0.6\"/>\n      </g>\n     </g>\n    </g>\n    <g id=\"ytick_6\">\n     <g id=\"line2d_29\">\n      <path d=\"M 57.34 150.63334 \nL 503.74 150.63334 \n\" clip-path=\"url(#p2d133bcc6b)\" style=\"fill: none; stroke-dasharray: 0.5,5; stroke-dashoffset: 0; stroke: #000000; stroke-width: 0.5\"/>\n     </g>\n     <g id=\"line2d_30\">\n      <g>\n       <use xlink:href=\"#mdb070c5e01\" x=\"57.34\" y=\"150.63334\" style=\"stroke: #000000; stroke-width: 0.6\"/>\n      </g>\n     </g>\n    </g>\n    <g id=\"ytick_7\">\n     <g id=\"line2d_31\">\n      <path d=\"M 57.34 127.796983 \nL 503.74 127.796983 \n\" clip-path=\"url(#p2d133bcc6b)\" style=\"fill: none; stroke-dasharray: 0.5,5; stroke-dashoffset: 0; stroke: #000000; stroke-width: 0.5\"/>\n     </g>\n     <g id=\"line2d_32\">\n      <g>\n       <use xlink:href=\"#mdb070c5e01\" x=\"57.34\" y=\"127.796983\" style=\"stroke: #000000; stroke-width: 0.6\"/>\n      </g>\n     </g>\n    </g>\n    <g id=\"ytick_8\">\n     <g id=\"line2d_33\">\n      <path d=\"M 57.34 108.489118 \nL 503.74 108.489118 \n\" clip-path=\"url(#p2d133bcc6b)\" style=\"fill: none; stroke-dasharray: 0.5,5; stroke-dashoffset: 0; stroke: #000000; stroke-width: 0.5\"/>\n     </g>\n     <g id=\"line2d_34\">\n      <g>\n       <use xlink:href=\"#mdb070c5e01\" x=\"57.34\" y=\"108.489118\" style=\"stroke: #000000; stroke-width: 0.6\"/>\n      </g>\n     </g>\n    </g>\n    <g id=\"ytick_9\">\n     <g id=\"line2d_35\">\n      <path d=\"M 57.34 91.763884 \nL 503.74 91.763884 \n\" clip-path=\"url(#p2d133bcc6b)\" style=\"fill: none; stroke-dasharray: 0.5,5; stroke-dashoffset: 0; stroke: #000000; stroke-width: 0.5\"/>\n     </g>\n     <g id=\"line2d_36\">\n      <g>\n       <use xlink:href=\"#mdb070c5e01\" x=\"57.34\" y=\"91.763884\" style=\"stroke: #000000; stroke-width: 0.6\"/>\n      </g>\n     </g>\n    </g>\n    <g id=\"ytick_10\">\n     <g id=\"line2d_37\">\n      <path d=\"M 57.34 77.011183 \nL 503.74 77.011183 \n\" clip-path=\"url(#p2d133bcc6b)\" style=\"fill: none; stroke-dasharray: 0.5,5; stroke-dashoffset: 0; stroke: #000000; stroke-width: 0.5\"/>\n     </g>\n     <g id=\"line2d_38\">\n      <g>\n       <use xlink:href=\"#mdb070c5e01\" x=\"57.34\" y=\"77.011183\" style=\"stroke: #000000; stroke-width: 0.6\"/>\n      </g>\n     </g>\n    </g>\n    <g id=\"text_13\">\n     <!-- $\\|\\Delta{B}\\|_2$ -->\n     <g transform=\"translate(20.7 220.647187)rotate(-90)scale(0.18 -0.18)\">\n      <defs>\n       <path id=\"Cmsy10-6b\" d=\"M 850 -1484 \nL 850 4684 \nQ 850 4734 890 4767 \nQ 931 4800 978 4800 \nQ 1031 4800 1068 4767 \nQ 1106 4734 1106 4684 \nL 1106 -1484 \nQ 1106 -1534 1068 -1567 \nQ 1031 -1600 978 -1600 \nQ 931 -1600 890 -1567 \nQ 850 -1534 850 -1484 \nz\nM 2094 -1484 \nL 2094 4684 \nQ 2094 4734 2131 4767 \nQ 2169 4800 2222 4800 \nQ 2269 4800 2309 4767 \nQ 2350 4734 2350 4684 \nL 2350 -1484 \nQ 2350 -1534 2309 -1567 \nQ 2269 -1600 2222 -1600 \nQ 2169 -1600 2131 -1567 \nQ 2094 -1534 2094 -1484 \nz\n\" transform=\"scale(0.015625)\"/>\n       <path id=\"Cmr10-a2\" d=\"M 347 0 \nQ 294 0 294 50 \nQ 297 56 298 59 \nQ 300 63 300 72 \nL 2503 4513 \nQ 2531 4581 2619 4581 \nL 2706 4581 \nQ 2794 4581 2822 4513 \nL 5025 72 \nQ 5028 66 5029 61 \nQ 5031 56 5031 50 \nQ 5031 0 4978 0 \nL 347 0 \nz\nM 769 513 \nL 4141 513 \nL 2456 3909 \nL 769 513 \nz\n\" transform=\"scale(0.015625)\"/>\n       <path id=\"Cmmi10-42\" d=\"M 319 0 \nQ 256 0 256 84 \nQ 259 100 268 137 \nQ 278 175 293 200 \nQ 309 225 341 225 \nQ 522 225 656 234 \nQ 791 244 884 269 \nQ 959 297 1006 441 \nL 1881 3956 \nQ 1894 4019 1894 4044 \nQ 1894 4113 1819 4122 \nQ 1697 4147 1356 4147 \nQ 1294 4147 1294 4231 \nQ 1297 4247 1306 4286 \nQ 1316 4325 1333 4348 \nQ 1350 4372 1375 4372 \nL 3669 4372 \nQ 3878 4372 4083 4320 \nQ 4288 4269 4461 4156 \nQ 4634 4044 4736 3876 \nQ 4838 3709 4838 3488 \nQ 4838 3247 4714 3040 \nQ 4591 2834 4395 2681 \nQ 4200 2528 3973 2429 \nQ 3747 2331 3500 2284 \nQ 3675 2284 3854 2215 \nQ 4034 2147 4175 2028 \nQ 4316 1909 4402 1743 \nQ 4488 1578 4488 1388 \nQ 4488 1003 4219 684 \nQ 3950 366 3542 183 \nQ 3134 0 2753 0 \nL 319 0 \nz\nM 1497 275 \nQ 1497 225 1716 225 \nL 2631 225 \nQ 2944 225 3231 398 \nQ 3519 572 3692 859 \nQ 3866 1147 3866 1459 \nQ 3866 1650 3786 1820 \nQ 3706 1991 3556 2089 \nQ 3406 2188 3213 2188 \nL 1966 2188 \nL 1522 416 \nQ 1497 328 1497 275 \nz\nM 2009 2356 \nL 2981 2356 \nQ 3288 2356 3577 2512 \nQ 3866 2669 4048 2937 \nQ 4231 3206 4231 3506 \nQ 4231 3784 4057 3965 \nQ 3884 4147 3609 4147 \nL 2731 4147 \nQ 2559 4147 2500 4115 \nQ 2441 4084 2400 3928 \nL 2009 2356 \nz\n\" transform=\"scale(0.015625)\"/>\n       <path id=\"Cmr10-32\" d=\"M 319 0 \nL 319 172 \nQ 319 188 331 206 \nL 1325 1306 \nQ 1550 1550 1690 1715 \nQ 1831 1881 1968 2097 \nQ 2106 2313 2186 2536 \nQ 2266 2759 2266 3009 \nQ 2266 3272 2169 3511 \nQ 2072 3750 1880 3894 \nQ 1688 4038 1416 4038 \nQ 1138 4038 916 3870 \nQ 694 3703 603 3438 \nQ 628 3444 672 3444 \nQ 816 3444 917 3347 \nQ 1019 3250 1019 3097 \nQ 1019 2950 917 2848 \nQ 816 2747 672 2747 \nQ 522 2747 420 2851 \nQ 319 2956 319 3097 \nQ 319 3338 409 3548 \nQ 500 3759 670 3923 \nQ 841 4088 1055 4175 \nQ 1269 4263 1509 4263 \nQ 1875 4263 2190 4108 \nQ 2506 3953 2690 3670 \nQ 2875 3388 2875 3009 \nQ 2875 2731 2753 2481 \nQ 2631 2231 2440 2026 \nQ 2250 1822 1953 1562 \nQ 1656 1303 1563 1216 \nL 838 519 \nL 1453 519 \nQ 1906 519 2211 526 \nQ 2516 534 2534 550 \nQ 2609 631 2688 1141 \nL 2875 1141 \nL 2694 0 \nL 319 0 \nz\n\" transform=\"scale(0.015625)\"/>\n      </defs>\n      <use xlink:href=\"#Cmsy10-6b\"/>\n      <use xlink:href=\"#Cmr10-a2\" transform=\"translate(50 0)\"/>\n      <use xlink:href=\"#Cmmi10-42\" transform=\"translate(133.300781 0)\"/>\n      <use xlink:href=\"#Cmsy10-6b\" transform=\"translate(209.082031 0)\"/>\n      <use xlink:href=\"#Cmr10-32\" transform=\"translate(263.546172 -17.00625)scale(0.7)\"/>\n     </g>\n    </g>\n   </g>\n   <g id=\"line2d_39\">\n    <path d=\"M 77.630909 41.997187 \nL 78.151857 78.798023 \nL 78.672804 175.477778 \nL 79.193752 199.701254 \nL 79.714699 232.434711 \nL 80.235647 344.397187 \nL 80.756595 220.572069 \nL 81.277542 214.072355 \nL 81.79849 282.499827 \nL 82.319438 213.271521 \nL 82.840385 253.778983 \nL 83.361333 279.719838 \nL 83.88228 205.720871 \nL 84.403228 294.959349 \nL 84.924176 228.048206 \nL 85.445123 260.627722 \nL 85.966071 230.27008 \nL 86.487018 212.183307 \nL 87.007966 226.394354 \nL 87.528914 206.801918 \nL 88.049861 254.362639 \nL 88.570809 237.688962 \nL 89.091756 214.583124 \nL 89.612704 201.954516 \nL 90.133652 221.87962 \nL 90.654599 214.831741 \nL 91.175547 251.039252 \nL 91.696494 210.39525 \nL 92.217442 206.959747 \nL 92.73839 211.807405 \nL 93.259337 222.365849 \nL 93.780285 213.47958 \nL 94.301232 217.140399 \nL 94.82218 218.929287 \nL 95.343128 219.176824 \nL 95.864075 201.025317 \nL 96.385023 197.364167 \nL 96.90597 190.693749 \nL 97.426918 197.869411 \nL 97.947866 184.138904 \nL 98.468813 183.756639 \nL 98.989761 192.429429 \nL 100.031656 221.672011 \nL 100.552604 234.726282 \nL 101.073551 240.267144 \nL 102.115446 235.910787 \nL 103.157342 214.970282 \nL 103.678289 200.388848 \nL 104.199237 196.77776 \nL 104.720184 177.164128 \nL 105.241132 178.000068 \nL 105.76208 182.496251 \nL 106.283027 192.530818 \nL 106.803975 205.499692 \nL 107.324922 225.028759 \nL 108.366818 230.66005 \nL 108.887765 223.952807 \nL 109.408713 220.173465 \nL 109.92966 218.288606 \nL 110.450608 208.249013 \nL 111.492503 176.00681 \nL 112.013451 170.546502 \nL 112.534398 172.647373 \nL 113.055346 180.905904 \nL 114.618189 214.543635 \nL 115.139136 221.634439 \nL 115.660084 226.085421 \nL 116.181032 225.806753 \nL 116.701979 212.628075 \nL 117.222927 211.194732 \nL 117.743874 197.985404 \nL 118.264822 176.541249 \nL 118.78577 170.35659 \nL 119.306717 162.11778 \nL 119.827665 161.277911 \nL 120.348612 167.206429 \nL 121.911455 203.157341 \nL 122.432403 207.968667 \nL 122.95335 210.545716 \nL 123.474298 203.564123 \nL 123.995246 202.167925 \nL 124.516193 200.442079 \nL 125.558088 172.924299 \nL 127.120931 153.352098 \nL 127.641879 158.699899 \nL 128.683774 184.398148 \nL 129.204722 194.866995 \nL 129.725669 202.063604 \nL 130.246617 201.360487 \nL 130.767564 206.271958 \nL 131.288512 202.651941 \nL 132.330407 186.700201 \nL 132.851355 168.079926 \nL 133.372302 156.005867 \nL 133.89325 149.507902 \nL 134.414198 146.058502 \nL 134.935145 153.342451 \nL 135.97704 180.8556 \nL 136.497988 189.590013 \nL 137.539883 210.526316 \nL 138.060831 213.366362 \nL 138.581779 201.244555 \nL 139.102726 195.143374 \nL 139.623674 180.342518 \nL 140.144621 161.41559 \nL 140.665569 153.843337 \nL 141.186517 144.012559 \nL 141.707464 144.804684 \nL 142.228412 155.468497 \nL 143.791255 204.379235 \nL 144.312202 210.563415 \nL 144.83315 220.832356 \nL 145.354097 223.82011 \nL 145.875045 214.772874 \nL 147.437888 166.597401 \nL 148.479783 145.467602 \nL 149.000731 144.736259 \nL 149.521678 155.960622 \nL 150.042626 177.276986 \nL 150.563573 189.676226 \nL 151.084521 206.289552 \nL 151.605469 216.060306 \nL 152.126416 223.606047 \nL 152.647364 225.873784 \nL 153.168311 220.03305 \nL 154.210207 180.782021 \nL 154.731154 161.841498 \nL 155.773049 136.521158 \nL 156.293997 131.17358 \nL 156.814945 136.580513 \nL 157.85684 164.613191 \nL 158.377787 174.160419 \nL 158.898735 178.421727 \nL 159.419683 176.841483 \nL 159.94063 169.644807 \nL 160.461578 171.504218 \nL 160.982525 157.196416 \nL 161.503473 147.285932 \nL 162.024421 139.63746 \nL 162.545368 133.909071 \nL 163.066316 125.928561 \nL 163.587263 126.720358 \nL 164.108211 124.815116 \nL 164.629159 125.871425 \nL 165.150106 127.915952 \nL 165.671054 128.247512 \nL 166.192001 136.005359 \nL 166.712949 129.903577 \nL 167.233897 130.486012 \nL 167.754844 129.745124 \nL 168.275792 129.284577 \nL 169.317687 122.64496 \nL 169.838635 126.024717 \nL 170.359582 124.95611 \nL 170.88053 126.503789 \nL 171.401477 121.468406 \nL 171.922425 127.186521 \nL 172.443373 123.245856 \nL 172.96432 126.76543 \nL 173.485268 124.779605 \nL 174.006215 126.02347 \nL 174.527163 126.878714 \nL 175.048111 124.003078 \nL 176.090006 121.487539 \nL 176.610953 130.739142 \nL 177.131901 145.414023 \nL 178.173796 165.12133 \nL 178.694744 173.971022 \nL 179.215691 175.564648 \nL 179.736639 179.421538 \nL 180.778534 170.596407 \nL 181.299482 167.714894 \nL 181.820429 166.860161 \nL 182.341377 168.713327 \nL 182.862325 168.945729 \nL 183.383272 166.416727 \nL 183.90422 170.283779 \nL 184.425167 167.869578 \nL 185.467063 166.247827 \nL 185.98801 168.111588 \nL 186.508958 168.597015 \nL 187.029905 161.605664 \nL 187.550853 167.227905 \nL 188.071801 166.494417 \nL 188.592748 166.335003 \nL 189.113696 166.732521 \nL 189.634643 168.186603 \nL 190.676539 169.204274 \nL 191.197486 167.643918 \nL 191.718434 170.081153 \nL 192.239381 169.076818 \nL 192.760329 167.259143 \nL 193.281277 168.59987 \nL 193.802224 165.357162 \nL 194.323172 170.179854 \nL 194.84412 168.274187 \nL 195.886015 174.909595 \nL 196.406962 179.015679 \nL 196.92791 192.821848 \nL 197.448858 199.365725 \nL 197.969805 202.037284 \nL 198.490753 202.3698 \nL 199.0117 200.05041 \nL 199.532648 198.48122 \nL 200.053596 194.603946 \nL 200.574543 192.15665 \nL 201.095491 192.441408 \nL 201.616438 192.192765 \nL 202.137386 197.853216 \nL 202.658334 206.666746 \nL 203.179281 212.393991 \nL 204.221176 229.922144 \nL 204.742124 233.573708 \nL 205.263072 230.841449 \nL 205.784019 224.919679 \nL 206.304967 217.355256 \nL 206.825914 206.53628 \nL 207.346862 203.545605 \nL 207.86781 199.869081 \nL 208.388757 199.542357 \nL 208.909705 202.046895 \nL 209.430652 206.719438 \nL 210.472548 219.714682 \nL 210.993495 223.974692 \nL 211.514443 224.409406 \nL 212.03539 227.578561 \nL 212.556338 225.158699 \nL 213.077286 218.792513 \nL 213.598233 207.152543 \nL 214.640128 193.494421 \nL 215.161076 194.05462 \nL 215.682024 192.177299 \nL 216.202971 194.815268 \nL 216.723919 198.995348 \nL 217.765814 214.043277 \nL 218.286762 212.495294 \nL 218.807709 213.06992 \nL 219.328657 211.992318 \nL 219.849604 215.686337 \nL 220.370552 206.403054 \nL 221.412447 191.683123 \nL 221.933395 187.744518 \nL 222.454342 185.264023 \nL 222.97529 186.488874 \nL 223.496238 189.792581 \nL 224.017185 194.077569 \nL 224.538133 200.834294 \nL 225.05908 210.071055 \nL 225.580028 205.31191 \nL 226.100976 212.381861 \nL 226.621923 206.063359 \nL 227.142871 207.290201 \nL 227.663818 203.839875 \nL 228.184766 199.576759 \nL 228.705714 193.32968 \nL 229.226661 189.082965 \nL 230.268556 190.365452 \nL 230.789504 193.458955 \nL 231.310452 199.125684 \nL 231.831399 206.862855 \nL 232.352347 208.460539 \nL 232.873294 205.161761 \nL 233.394242 212.717975 \nL 233.91519 211.488036 \nL 234.957085 203.838118 \nL 235.478032 195.703225 \nL 235.99898 191.828959 \nL 236.519928 189.011867 \nL 237.040875 187.444338 \nL 237.561823 191.228747 \nL 238.08277 191.879116 \nL 238.603718 199.605154 \nL 239.124666 205.446342 \nL 239.645613 207.747795 \nL 241.208456 216.58894 \nL 241.729404 212.506794 \nL 242.771299 200.2743 \nL 243.292246 197.253886 \nL 243.813194 192.978125 \nL 244.334142 193.224829 \nL 244.855089 194.289392 \nL 245.376037 200.146269 \nL 245.896984 202.50605 \nL 246.417932 209.529773 \nL 247.459827 216.96302 \nL 247.980775 216.904596 \nL 248.501722 218.558403 \nL 250.585513 197.093867 \nL 251.10646 194.576749 \nL 251.627408 194.547896 \nL 252.148356 196.780788 \nL 253.190251 209.380169 \nL 253.711199 216.593665 \nL 254.232146 220.970962 \nL 254.753094 224.168558 \nL 255.274041 222.136248 \nL 255.794989 218.448101 \nL 256.836884 200.964477 \nL 257.878779 191.675918 \nL 258.399727 194.259392 \nL 258.920675 193.967772 \nL 259.441622 194.877333 \nL 259.96257 201.390497 \nL 260.483517 206.102767 \nL 261.004465 209.534275 \nL 261.525413 208.753655 \nL 262.04636 204.123937 \nL 262.567308 198.082911 \nL 263.088255 189.911737 \nL 263.609203 183.685196 \nL 264.130151 171.012234 \nL 264.651098 166.844711 \nL 265.172046 166.733781 \nL 265.692993 164.93013 \nL 266.213941 164.978691 \nL 266.734889 170.333355 \nL 267.255836 165.126404 \nL 267.776784 172.633021 \nL 268.818679 167.95993 \nL 269.339627 167.020171 \nL 270.381522 161.510194 \nL 270.902469 162.543666 \nL 271.423417 156.831994 \nL 271.944365 153.759674 \nL 272.98626 155.502072 \nL 273.507207 156.965921 \nL 274.028155 154.343008 \nL 274.549103 155.495608 \nL 275.07005 155.794616 \nL 275.590998 157.581414 \nL 276.632893 152.305355 \nL 277.153841 152.361212 \nL 277.674788 153.285936 \nL 278.195736 151.517159 \nL 278.716683 158.895799 \nL 279.237631 157.906827 \nL 279.758579 152.929302 \nL 280.279526 152.334305 \nL 280.800474 150.92337 \nL 281.321421 160.048012 \nL 281.842369 156.945339 \nL 282.363317 156.586196 \nL 282.884264 149.965036 \nL 283.405212 153.837896 \nL 283.926159 146.955622 \nL 284.447107 151.710661 \nL 285.489002 150.700287 \nL 286.00995 154.320507 \nL 287.051845 151.091305 \nL 287.572793 151.653491 \nL 288.09374 155.21906 \nL 288.614688 154.777815 \nL 289.135635 151.451997 \nL 289.656583 155.189724 \nL 290.177531 156.175834 \nL 290.698478 157.677991 \nL 291.219426 159.982117 \nL 292.261321 163.745135 \nL 292.782269 167.15459 \nL 293.303216 165.643535 \nL 293.824164 167.624444 \nL 294.345111 167.642347 \nL 294.866059 164.056335 \nL 295.907954 170.336625 \nL 296.428902 168.583535 \nL 296.949849 170.20275 \nL 297.470797 183.142729 \nL 297.991745 185.612599 \nL 298.512692 196.550663 \nL 299.554587 211.748314 \nL 300.075535 214.106352 \nL 300.596483 214.196796 \nL 301.11743 211.350346 \nL 302.159325 209.330231 \nL 302.680273 210.206859 \nL 303.201221 211.696928 \nL 303.722168 211.771051 \nL 304.243116 214.586948 \nL 304.764063 218.386172 \nL 305.285011 225.870341 \nL 305.805959 231.201691 \nL 306.326906 231.349642 \nL 306.847854 232.155775 \nL 308.410697 216.950828 \nL 308.931644 213.736732 \nL 309.452592 212.040695 \nL 309.97354 211.783326 \nL 310.494487 213.921446 \nL 311.015435 214.804201 \nL 311.536382 221.217366 \nL 312.05733 225.615058 \nL 312.578278 226.688809 \nL 313.099225 226.923682 \nL 314.14112 221.739146 \nL 314.662068 218.415625 \nL 315.183016 217.016092 \nL 315.703963 209.53511 \nL 316.224911 208.100446 \nL 316.745858 207.381286 \nL 317.266806 208.207329 \nL 317.787754 208.740385 \nL 318.308701 212.852509 \nL 318.829649 218.457534 \nL 319.350596 221.491624 \nL 319.871544 222.266944 \nL 320.392492 219.750059 \nL 320.913439 218.076483 \nL 321.434387 213.990079 \nL 321.955334 212.08777 \nL 322.99723 202.067035 \nL 323.518177 199.558201 \nL 324.039125 198.32207 \nL 324.560072 198.891578 \nL 325.08102 199.275454 \nL 325.601968 204.713608 \nL 326.122915 211.446608 \nL 326.643863 214.795475 \nL 327.16481 212.467966 \nL 327.685758 219.767841 \nL 328.206706 214.814756 \nL 328.727653 214.665069 \nL 330.290496 198.686095 \nL 330.811444 196.084981 \nL 331.332391 197.081077 \nL 331.853339 197.319617 \nL 332.374286 197.756408 \nL 332.895234 203.622991 \nL 333.416182 207.424885 \nL 333.937129 214.858907 \nL 334.458077 204.089637 \nL 334.979024 216.612006 \nL 335.499972 210.946979 \nL 336.02092 211.491994 \nL 337.062815 197.358017 \nL 338.10471 189.212213 \nL 338.625658 189.076935 \nL 339.146605 190.501853 \nL 339.667553 192.289388 \nL 341.230396 211.586881 \nL 341.751343 215.931341 \nL 342.272291 216.725649 \nL 342.793238 215.469293 \nL 343.314186 216.542394 \nL 344.356081 202.507092 \nL 344.877029 197.379662 \nL 345.397976 196.579972 \nL 345.918924 197.042301 \nL 346.439872 200.576688 \nL 346.960819 201.863053 \nL 347.481767 211.002218 \nL 348.523662 224.811144 \nL 349.04461 227.162635 \nL 350.086505 227.648699 \nL 352.170295 206.110892 \nL 352.691243 204.420477 \nL 353.21219 205.472171 \nL 353.733138 206.92712 \nL 354.254086 213.468999 \nL 354.775033 218.43769 \nL 355.295981 225.045013 \nL 355.816928 229.759293 \nL 356.337876 231.445402 \nL 356.858824 227.803887 \nL 357.900719 216.182946 \nL 358.421666 207.779935 \nL 359.463562 195.791276 \nL 359.984509 193.940709 \nL 360.505457 197.453705 \nL 361.026404 197.476725 \nL 361.547352 202.151076 \nL 362.0683 205.458089 \nL 362.589247 203.832815 \nL 363.110195 203.442969 \nL 363.631142 200.608417 \nL 364.15209 196.394263 \nL 365.714933 172.536827 \nL 366.23588 166.674895 \nL 367.277776 162.425462 \nL 367.798723 159.080687 \nL 368.319671 162.238199 \nL 368.840619 162.080419 \nL 369.361566 163.519573 \nL 369.882514 161.844411 \nL 370.403461 161.500765 \nL 370.924409 160.193507 \nL 371.445357 159.499326 \nL 371.966304 159.159549 \nL 372.487252 154.320172 \nL 373.529147 151.132661 \nL 374.050095 152.843671 \nL 374.571042 149.966777 \nL 375.09199 153.595285 \nL 375.612937 151.163389 \nL 376.133885 149.460993 \nL 376.654833 151.381112 \nL 377.17578 150.000437 \nL 377.696728 151.269984 \nL 378.217675 148.804191 \nL 378.738623 150.605278 \nL 379.259571 149.392391 \nL 379.780518 149.689484 \nL 380.301466 148.431575 \nL 381.343361 151.015143 \nL 382.385256 149.920635 \nL 382.906204 157.714415 \nL 383.427151 155.459086 \nL 383.948099 154.194061 \nL 384.989994 147.284247 \nL 385.510942 144.145435 \nL 386.031889 147.431962 \nL 386.552837 146.72594 \nL 387.073785 151.164333 \nL 387.594732 147.693518 \nL 388.11568 148.4717 \nL 388.636627 148.403631 \nL 389.157575 150.252917 \nL 389.678523 154.977623 \nL 390.19947 147.432545 \nL 390.720418 152.29793 \nL 391.241365 150.064846 \nL 392.283261 154.801301 \nL 392.804208 158.606657 \nL 393.325156 156.421402 \nL 393.846103 157.469872 \nL 394.367051 159.986031 \nL 394.887999 159.770643 \nL 395.408946 162.634572 \nL 395.929894 159.923223 \nL 396.450841 160.822032 \nL 396.971789 158.733339 \nL 397.492737 165.557484 \nL 398.013684 165.737474 \nL 398.534632 169.671031 \nL 399.055579 174.81057 \nL 400.618422 197.622252 \nL 401.13937 202.906303 \nL 401.660317 205.948899 \nL 402.181265 204.274145 \nL 402.702213 204.781986 \nL 403.22316 203.020537 \nL 403.744108 200.777693 \nL 404.265055 202.519509 \nL 404.786003 201.346526 \nL 405.306951 203.680988 \nL 405.827898 211.1405 \nL 406.348846 216.65344 \nL 406.869793 224.866657 \nL 407.390741 230.085066 \nL 407.911689 232.810054 \nL 408.432636 232.687681 \nL 408.953584 230.174458 \nL 409.995479 214.615923 \nL 411.037374 210.651851 \nL 411.558322 210.683387 \nL 412.079269 211.368241 \nL 412.600217 214.458049 \nL 413.642112 223.836924 \nL 414.16306 225.882678 \nL 414.684007 225.297676 \nL 415.204955 227.443184 \nL 415.725903 226.68011 \nL 416.24685 220.78792 \nL 416.767798 212.355517 \nL 417.288745 206.838592 \nL 417.809693 202.674085 \nL 418.330641 203.140729 \nL 418.851588 201.582703 \nL 419.372536 201.352183 \nL 419.893483 205.691931 \nL 420.935379 217.021218 \nL 421.977274 214.370675 \nL 422.498221 212.944727 \nL 423.019169 215.284992 \nL 424.582012 194.385398 \nL 425.10296 191.616181 \nL 425.623907 190.79495 \nL 426.144855 191.434675 \nL 426.665802 193.435333 \nL 427.18675 196.087506 \nL 428.228645 210.443612 \nL 428.749593 204.341364 \nL 429.27054 213.05769 \nL 429.791488 207.953927 \nL 430.312436 211.30883 \nL 430.833383 208.808914 \nL 431.354331 204.874557 \nL 431.875278 198.940006 \nL 432.396226 196.742547 \nL 432.917174 196.927384 \nL 433.438121 196.435138 \nL 433.959069 198.581328 \nL 434.480016 202.262907 \nL 435.000964 207.922604 \nL 435.521912 212.230633 \nL 436.042859 204.604228 \nL 436.563807 215.62862 \nL 437.084754 215.361634 \nL 437.605702 213.859854 \nL 438.12665 209.866027 \nL 439.168545 200.332834 \nL 439.689492 198.870736 \nL 440.21044 196.677511 \nL 440.731388 199.179253 \nL 441.252335 199.578173 \nL 441.773283 205.641873 \nL 442.29423 210.306493 \nL 442.815178 211.732064 \nL 443.857073 217.710124 \nL 444.378021 223.029256 \nL 444.898968 222.614214 \nL 446.461811 210.306262 \nL 446.982759 207.189917 \nL 447.503706 207.058529 \nL 448.024654 206.56031 \nL 448.545602 208.646324 \nL 450.108444 220.016813 \nL 450.629392 220.496976 \nL 451.15034 224.569332 \nL 451.671287 227.646691 \nL 452.192235 225.210986 \nL 452.713182 221.834535 \nL 453.23413 216.976933 \nL 453.755078 213.305296 \nL 454.796973 212.023463 \nL 455.31792 213.535946 \nL 455.838868 217.276413 \nL 456.359816 219.979932 \nL 456.880763 225.255672 \nL 457.401711 228.380535 \nL 457.922658 229.957864 \nL 458.443606 229.783798 \nL 459.485501 222.151548 \nL 460.006449 216.457398 \nL 460.527396 212.152061 \nL 461.048344 209.468793 \nL 461.569292 210.249307 \nL 462.090239 210.368971 \nL 462.611187 210.160369 \nL 463.132134 214.791834 \nL 463.653082 214.278663 \nL 464.17403 213.022106 \nL 464.694977 210.091644 \nL 465.736872 198.693734 \nL 467.299715 174.997042 \nL 468.34161 165.314967 \nL 468.862558 165.42662 \nL 469.383506 163.717986 \nL 469.904453 166.263344 \nL 470.425401 168.19665 \nL 470.946348 167.086849 \nL 471.467296 167.114401 \nL 471.988244 165.80313 \nL 472.509191 166.198793 \nL 473.030139 163.727598 \nL 473.551086 159.693332 \nL 474.072034 157.990852 \nL 474.592982 155.162726 \nL 475.113929 154.236827 \nL 475.634877 152.493197 \nL 476.155824 152.889925 \nL 476.676772 150.063489 \nL 477.19772 152.985298 \nL 477.718667 150.480073 \nL 478.239615 152.255988 \nL 478.760562 150.852651 \nL 479.28151 152.016822 \nL 479.802458 151.238026 \nL 480.323405 150.153031 \nL 480.844353 149.397389 \nL 481.365301 149.623139 \nL 481.886248 150.289533 \nL 482.407196 149.352946 \nL 482.928143 150.016655 \nL 483.449091 150.232334 \nL 483.449091 150.232334 \n\" clip-path=\"url(#p2d133bcc6b)\" style=\"fill: none; stroke: #348abd; stroke-width: 3; stroke-linecap: square\"/>\n   </g>\n   <g id=\"patch_3\">\n    <path d=\"M 57.34 359.517187 \nL 57.34 26.877187 \n\" style=\"fill: none; stroke: #bcbcbc; stroke-width: 0.8; stroke-linejoin: miter; stroke-linecap: square\"/>\n   </g>\n   <g id=\"patch_4\">\n    <path d=\"M 503.74 359.517187 \nL 503.74 26.877187 \n\" style=\"fill: none; stroke: #bcbcbc; stroke-width: 0.8; stroke-linejoin: miter; stroke-linecap: square\"/>\n   </g>\n   <g id=\"patch_5\">\n    <path d=\"M 57.34 359.517187 \nL 503.74 359.517187 \n\" style=\"fill: none; stroke: #bcbcbc; stroke-width: 0.8; stroke-linejoin: miter; stroke-linecap: square\"/>\n   </g>\n   <g id=\"patch_6\">\n    <path d=\"M 57.34 26.877187 \nL 503.74 26.877187 \n\" style=\"fill: none; stroke: #bcbcbc; stroke-width: 0.8; stroke-linejoin: miter; stroke-linecap: square\"/>\n   </g>\n   <g id=\"text_14\">\n    <!-- Gradient norm dynamics -->\n    <g transform=\"translate(168.963906 20.877187)scale(0.18 -0.18)\">\n     <defs>\n      <path id=\"DejaVuSans-47\" d=\"M 3809 666 \nL 3809 1919 \nL 2778 1919 \nL 2778 2438 \nL 4434 2438 \nL 4434 434 \nQ 4069 175 3628 42 \nQ 3188 -91 2688 -91 \nQ 1594 -91 976 548 \nQ 359 1188 359 2328 \nQ 359 3472 976 4111 \nQ 1594 4750 2688 4750 \nQ 3144 4750 3555 4637 \nQ 3966 4525 4313 4306 \nL 4313 3634 \nQ 3963 3931 3569 4081 \nQ 3175 4231 2741 4231 \nQ 1884 4231 1454 3753 \nQ 1025 3275 1025 2328 \nQ 1025 1384 1454 906 \nQ 1884 428 2741 428 \nQ 3075 428 3337 486 \nQ 3600 544 3809 666 \nz\n\" transform=\"scale(0.015625)\"/>\n      <path id=\"DejaVuSans-72\" d=\"M 2631 2963 \nQ 2534 3019 2420 3045 \nQ 2306 3072 2169 3072 \nQ 1681 3072 1420 2755 \nQ 1159 2438 1159 1844 \nL 1159 0 \nL 581 0 \nL 581 3500 \nL 1159 3500 \nL 1159 2956 \nQ 1341 3275 1631 3429 \nQ 1922 3584 2338 3584 \nQ 2397 3584 2469 3576 \nQ 2541 3569 2628 3553 \nL 2631 2963 \nz\n\" transform=\"scale(0.015625)\"/>\n      <path id=\"DejaVuSans-61\" d=\"M 2194 1759 \nQ 1497 1759 1228 1600 \nQ 959 1441 959 1056 \nQ 959 750 1161 570 \nQ 1363 391 1709 391 \nQ 2188 391 2477 730 \nQ 2766 1069 2766 1631 \nL 2766 1759 \nL 2194 1759 \nz\nM 3341 1997 \nL 3341 0 \nL 2766 0 \nL 2766 531 \nQ 2569 213 2275 61 \nQ 1981 -91 1556 -91 \nQ 1019 -91 701 211 \nQ 384 513 384 1019 \nQ 384 1609 779 1909 \nQ 1175 2209 1959 2209 \nL 2766 2209 \nL 2766 2266 \nQ 2766 2663 2505 2880 \nQ 2244 3097 1772 3097 \nQ 1472 3097 1187 3025 \nQ 903 2953 641 2809 \nL 641 3341 \nQ 956 3463 1253 3523 \nQ 1550 3584 1831 3584 \nQ 2591 3584 2966 3190 \nQ 3341 2797 3341 1997 \nz\n\" transform=\"scale(0.015625)\"/>\n      <path id=\"DejaVuSans-64\" d=\"M 2906 2969 \nL 2906 4863 \nL 3481 4863 \nL 3481 0 \nL 2906 0 \nL 2906 525 \nQ 2725 213 2448 61 \nQ 2172 -91 1784 -91 \nQ 1150 -91 751 415 \nQ 353 922 353 1747 \nQ 353 2572 751 3078 \nQ 1150 3584 1784 3584 \nQ 2172 3584 2448 3432 \nQ 2725 3281 2906 2969 \nz\nM 947 1747 \nQ 947 1113 1208 752 \nQ 1469 391 1925 391 \nQ 2381 391 2643 752 \nQ 2906 1113 2906 1747 \nQ 2906 2381 2643 2742 \nQ 2381 3103 1925 3103 \nQ 1469 3103 1208 2742 \nQ 947 2381 947 1747 \nz\n\" transform=\"scale(0.015625)\"/>\n      <path id=\"DejaVuSans-69\" d=\"M 603 3500 \nL 1178 3500 \nL 1178 0 \nL 603 0 \nL 603 3500 \nz\nM 603 4863 \nL 1178 4863 \nL 1178 4134 \nL 603 4134 \nL 603 4863 \nz\n\" transform=\"scale(0.015625)\"/>\n      <path id=\"DejaVuSans-6e\" d=\"M 3513 2113 \nL 3513 0 \nL 2938 0 \nL 2938 2094 \nQ 2938 2591 2744 2837 \nQ 2550 3084 2163 3084 \nQ 1697 3084 1428 2787 \nQ 1159 2491 1159 1978 \nL 1159 0 \nL 581 0 \nL 581 3500 \nL 1159 3500 \nL 1159 2956 \nQ 1366 3272 1645 3428 \nQ 1925 3584 2291 3584 \nQ 2894 3584 3203 3211 \nQ 3513 2838 3513 2113 \nz\n\" transform=\"scale(0.015625)\"/>\n      <path id=\"DejaVuSans-20\" transform=\"scale(0.015625)\"/>\n      <path id=\"DejaVuSans-6f\" d=\"M 1959 3097 \nQ 1497 3097 1228 2736 \nQ 959 2375 959 1747 \nQ 959 1119 1226 758 \nQ 1494 397 1959 397 \nQ 2419 397 2687 759 \nQ 2956 1122 2956 1747 \nQ 2956 2369 2687 2733 \nQ 2419 3097 1959 3097 \nz\nM 1959 3584 \nQ 2709 3584 3137 3096 \nQ 3566 2609 3566 1747 \nQ 3566 888 3137 398 \nQ 2709 -91 1959 -91 \nQ 1206 -91 779 398 \nQ 353 888 353 1747 \nQ 353 2609 779 3096 \nQ 1206 3584 1959 3584 \nz\n\" transform=\"scale(0.015625)\"/>\n      <path id=\"DejaVuSans-6d\" d=\"M 3328 2828 \nQ 3544 3216 3844 3400 \nQ 4144 3584 4550 3584 \nQ 5097 3584 5394 3201 \nQ 5691 2819 5691 2113 \nL 5691 0 \nL 5113 0 \nL 5113 2094 \nQ 5113 2597 4934 2840 \nQ 4756 3084 4391 3084 \nQ 3944 3084 3684 2787 \nQ 3425 2491 3425 1978 \nL 3425 0 \nL 2847 0 \nL 2847 2094 \nQ 2847 2600 2669 2842 \nQ 2491 3084 2119 3084 \nQ 1678 3084 1418 2786 \nQ 1159 2488 1159 1978 \nL 1159 0 \nL 581 0 \nL 581 3500 \nL 1159 3500 \nL 1159 2956 \nQ 1356 3278 1631 3431 \nQ 1906 3584 2284 3584 \nQ 2666 3584 2933 3390 \nQ 3200 3197 3328 2828 \nz\n\" transform=\"scale(0.015625)\"/>\n      <path id=\"DejaVuSans-79\" d=\"M 2059 -325 \nQ 1816 -950 1584 -1140 \nQ 1353 -1331 966 -1331 \nL 506 -1331 \nL 506 -850 \nL 844 -850 \nQ 1081 -850 1212 -737 \nQ 1344 -625 1503 -206 \nL 1606 56 \nL 191 3500 \nL 800 3500 \nL 1894 763 \nL 2988 3500 \nL 3597 3500 \nL 2059 -325 \nz\n\" transform=\"scale(0.015625)\"/>\n      <path id=\"DejaVuSans-63\" d=\"M 3122 3366 \nL 3122 2828 \nQ 2878 2963 2633 3030 \nQ 2388 3097 2138 3097 \nQ 1578 3097 1268 2742 \nQ 959 2388 959 1747 \nQ 959 1106 1268 751 \nQ 1578 397 2138 397 \nQ 2388 397 2633 464 \nQ 2878 531 3122 666 \nL 3122 134 \nQ 2881 22 2623 -34 \nQ 2366 -91 2075 -91 \nQ 1284 -91 818 406 \nQ 353 903 353 1747 \nQ 353 2603 823 3093 \nQ 1294 3584 2113 3584 \nQ 2378 3584 2631 3529 \nQ 2884 3475 3122 3366 \nz\n\" transform=\"scale(0.015625)\"/>\n     </defs>\n     <use xlink:href=\"#DejaVuSans-47\"/>\n     <use xlink:href=\"#DejaVuSans-72\" x=\"77.490234\"/>\n     <use xlink:href=\"#DejaVuSans-61\" x=\"118.603516\"/>\n     <use xlink:href=\"#DejaVuSans-64\" x=\"179.882812\"/>\n     <use xlink:href=\"#DejaVuSans-69\" x=\"243.359375\"/>\n     <use xlink:href=\"#DejaVuSans-65\" x=\"271.142578\"/>\n     <use xlink:href=\"#DejaVuSans-6e\" x=\"332.666016\"/>\n     <use xlink:href=\"#DejaVuSans-74\" x=\"396.044922\"/>\n     <use xlink:href=\"#DejaVuSans-20\" x=\"435.253906\"/>\n     <use xlink:href=\"#DejaVuSans-6e\" x=\"467.041016\"/>\n     <use xlink:href=\"#DejaVuSans-6f\" x=\"530.419922\"/>\n     <use xlink:href=\"#DejaVuSans-72\" x=\"591.601562\"/>\n     <use xlink:href=\"#DejaVuSans-6d\" x=\"630.964844\"/>\n     <use xlink:href=\"#DejaVuSans-20\" x=\"728.376953\"/>\n     <use xlink:href=\"#DejaVuSans-64\" x=\"760.164062\"/>\n     <use xlink:href=\"#DejaVuSans-79\" x=\"823.640625\"/>\n     <use xlink:href=\"#DejaVuSans-6e\" x=\"882.820312\"/>\n     <use xlink:href=\"#DejaVuSans-61\" x=\"946.199219\"/>\n     <use xlink:href=\"#DejaVuSans-6d\" x=\"1007.478516\"/>\n     <use xlink:href=\"#DejaVuSans-69\" x=\"1104.890625\"/>\n     <use xlink:href=\"#DejaVuSans-63\" x=\"1132.673828\"/>\n     <use xlink:href=\"#DejaVuSans-73\" x=\"1187.654297\"/>\n    </g>\n   </g>\n  </g>\n </g>\n <defs>\n  <clipPath id=\"p2d133bcc6b\">\n   <rect x=\"57.34\" y=\"26.877187\" width=\"446.4\" height=\"332.64\"/>\n  </clipPath>\n </defs>\n</svg>\n",
      "text/plain": [
       "<Figure size 800x600 with 1 Axes>"
      ]
     },
     "metadata": {},
     "output_type": "display_data"
    }
   ],
   "source": [
    "plot(\n",
    "    jnp.arange(grads.size), \n",
    "    [grads],\n",
    "    yscale='log',\n",
    "    xlabel='Steps',\n",
    "    ylabel='$\\|\\Delta{B}\\|_2$',\n",
    "    title='Gradient norm dynamics'\n",
    "    )"
   ]
  },
  {
   "cell_type": "markdown",
   "id": "ba87a2af",
   "metadata": {},
   "source": [
    "# Calculating The Error Rate"
   ]
  },
  {
   "cell_type": "code",
   "execution_count": 47,
   "id": "dfcc6766",
   "metadata": {},
   "outputs": [],
   "source": [
    "er_train = error_rate(mps, data=(train_samples, train_labels))\n",
    "er_test = error_rate(mps, data=(test_samples, test_labels))"
   ]
  },
  {
   "cell_type": "code",
   "execution_count": 48,
   "id": "6b7183a6",
   "metadata": {},
   "outputs": [
    {
     "name": "stdout",
     "output_type": "stream",
     "text": [
      "Error rate train: 0.13 \t|\tError rate test: 0.13 \n"
     ]
    }
   ],
   "source": [
    "print(f'Error rate train: {er_train:<5.2f}\\t|\\tError rate test: {er_test:<5.2f}')"
   ]
  },
  {
   "cell_type": "markdown",
   "id": "5956d435",
   "metadata": {},
   "source": [
    "# Varia"
   ]
  },
  {
   "cell_type": "markdown",
   "id": "e091a3eb",
   "metadata": {},
   "source": [
    "Below is a piece of code that was used to check if the gradient is computed correctly. The plotted two lines must be parallel to each other if this is the case (up to some numerical accuracy)."
   ]
  },
  {
   "cell_type": "code",
   "execution_count": 49,
   "id": "c0b66987",
   "metadata": {},
   "outputs": [],
   "source": [
    "# def plot_taylor_apprx(β, data, num_iter=30):\n",
    "#     dotp = lambda x,y : jnp.einsum('...,...->', x, y)\n",
    "#     dβ = grad(β, data)\n",
    "#     Δ = jax.random.uniform(key, shape=β.shape)\n",
    "#     f = loss(β, data)\n",
    "\n",
    "#     apprx, norms = [], []\n",
    "#     for _ in range(num_iter):\n",
    "#         Δf = loss(β + Δ, data)\n",
    "#         apprx.append(jnp.linalg.norm(Δf - f - dotp(dβ, Δ)))\n",
    "#         norms.append(dotp(Δ, Δ))\n",
    "#         Δ /= 2\n",
    "\n",
    "#     plot(jnp.arange(num_iter), [apprx, norms],\n",
    "#          yscale='log', legend=['$\\|f(x+Δx) - f(x) - ⟨∇f,Δx⟩\\|^2$', '$\\|Δx\\|^2$'],\n",
    "#          xlabel='Iterations', ylabel='$log{\\|\\cdot\\|^2}$')\n",
    "\n",
    "# pos = 0\n",
    "# B = jnp.einsum('pikl,kjq->pijql', mps[pos], mps[pos+1])\n",
    "# inputs = train_samples[:,pos:pos+2,:]\n",
    "# left_wing = jnp.ones(shape=(num_samples,1))\n",
    "# Φ = [left_wing, inputs, wings[pos+2]]\n",
    "\n",
    "# plot_taylor_apprx(B, data=(Φ, train_labels))"
   ]
  },
  {
   "cell_type": "markdown",
   "id": "e481d465",
   "metadata": {},
   "source": [
    "The code below was tried to adaptively change bond dimensions, but it did not show any visible improvement."
   ]
  },
  {
   "cell_type": "code",
   "execution_count": 50,
   "id": "9f6d753e",
   "metadata": {},
   "outputs": [],
   "source": [
    "# def suggest_truncation(\n",
    "#         λ: Vector,\n",
    "#         ε: float,      # truncation error tolerance\n",
    "#     ) -> Tuple[jnp.ndarray, jnp.ndarray, int]:\n",
    "#     \"\"\"\n",
    "#     Suggest a truncation index of the spectrum \n",
    "#     such that the truncation error is lower than ε.\n",
    "#     The spectrum is assumed to be in the descending order.\n",
    "#     \"\"\"\n",
    "#     cum_sums = jnp.cumsum(λ / jnp.sum(λ))\n",
    "#     return jnp.searchsorted(cum_sums, 1-ε)"
   ]
  }
 ],
 "metadata": {
  "interpreter": {
   "hash": "491c24a142a80d3977295064d21745099a3ab7c738b1de1da02864e704be2f87"
  },
  "kernelspec": {
   "display_name": "Python 3.8.5 64-bit ('3.8.5')",
   "language": "python",
   "name": "python3"
  },
  "language_info": {
   "codemirror_mode": {
    "name": "ipython",
    "version": 3
   },
   "file_extension": ".py",
   "mimetype": "text/x-python",
   "name": "python",
   "nbconvert_exporter": "python",
   "pygments_lexer": "ipython3",
   "version": "3.8.5"
  },
  "varInspector": {
   "cols": {
    "lenName": 16,
    "lenType": 16,
    "lenVar": 40
   },
   "kernels_config": {
    "python": {
     "delete_cmd_postfix": "",
     "delete_cmd_prefix": "del ",
     "library": "var_list.py",
     "varRefreshCmd": "print(var_dic_list())"
    },
    "r": {
     "delete_cmd_postfix": ") ",
     "delete_cmd_prefix": "rm(",
     "library": "var_list.r",
     "varRefreshCmd": "cat(var_dic_list()) "
    }
   },
   "types_to_exclude": [
    "module",
    "function",
    "builtin_function_or_method",
    "instance",
    "_Feature"
   ],
   "window_display": false
  }
 },
 "nbformat": 4,
 "nbformat_minor": 5
}
