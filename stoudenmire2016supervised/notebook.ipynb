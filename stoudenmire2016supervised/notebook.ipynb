{
 "cells": [
  {
   "cell_type": "markdown",
   "id": "90342c19",
   "metadata": {},
   "source": [
    "# About\n",
    "\n",
    "- `Title:` \"Supervised Learning with Quantum-Inspired Tensor Networks. arXiv e-prints, art\"\n",
    "- `Main Author:` Miles E. Stoudenmire\n",
    "- `Source:` [ArXiv](https://arxiv.org/abs/1605.05775)\n",
    "- `Publish Date:` 18-05-2017\n",
    "- `Reviewed Date:` 22-10-2021\n",
    "\n",
    "## Citation\n",
    "\n",
    "```latex\n",
    "@article{stoudenmire2016supervised,\n",
    "  title={Supervised learning with tensor networks},\n",
    "  author={Stoudenmire, Edwin and Schwab, David J},\n",
    "  journal={Advances in Neural Information Processing Systems},\n",
    "  volume={29},\n",
    "  year={2016}\n",
    "}\n",
    "```"
   ]
  },
  {
   "cell_type": "markdown",
   "id": "82c61e55",
   "metadata": {},
   "source": [
    "# Imports and settings"
   ]
  },
  {
   "cell_type": "code",
   "execution_count": 1,
   "id": "516a8cc3",
   "metadata": {},
   "outputs": [
    {
     "name": "stdout",
     "output_type": "stream",
     "text": [
      "env: JAX_ENABLE_X64=1\n",
      "env: JAX_PLATFORM_NAME=cpu\n"
     ]
    }
   ],
   "source": [
    "%matplotlib inline\n",
    "%env JAX_ENABLE_X64=1\n",
    "%env JAX_PLATFORM_NAME=cpu"
   ]
  },
  {
   "cell_type": "code",
   "execution_count": 2,
   "id": "80210565",
   "metadata": {},
   "outputs": [],
   "source": [
    "import jax\n",
    "import jax.numpy as jnp\n",
    "from jax import jit, grad"
   ]
  },
  {
   "cell_type": "code",
   "execution_count": 3,
   "id": "933bc00f",
   "metadata": {},
   "outputs": [],
   "source": [
    "import os\n",
    "import pickle\n",
    "import time\n",
    "import itertools\n",
    "\n",
    "from collections import defaultdict\n",
    "from functools import reduce, partial\n",
    "from itertools import accumulate"
   ]
  },
  {
   "cell_type": "code",
   "execution_count": 4,
   "id": "6b833c47",
   "metadata": {},
   "outputs": [],
   "source": [
    "from typing import Any, List, DefaultDict,\\\n",
    "    Dict, Tuple, Callable, Optional, Iterable"
   ]
  },
  {
   "cell_type": "code",
   "execution_count": 5,
   "id": "bf1588d1",
   "metadata": {},
   "outputs": [],
   "source": [
    "import matplotlib.pyplot as plt\n",
    "import matplotlib_inline.backend_inline"
   ]
  },
  {
   "cell_type": "markdown",
   "id": "7cc61c86",
   "metadata": {},
   "source": [
    "## Types"
   ]
  },
  {
   "cell_type": "code",
   "execution_count": 6,
   "id": "a90da14d",
   "metadata": {},
   "outputs": [],
   "source": [
    "# type alias\n",
    "PRNGKeyArray = Any\n",
    "DeviceArray = jnp.DeviceArray"
   ]
  },
  {
   "cell_type": "markdown",
   "id": "9462d629",
   "metadata": {},
   "source": [
    "# Constants"
   ]
  },
  {
   "cell_type": "code",
   "execution_count": 7,
   "id": "c4831051",
   "metadata": {},
   "outputs": [],
   "source": [
    "seed = 123     # random seed\n",
    "\n",
    "bond_dim = 10  # the paper mentions 10, 20 and 120\n",
    "\n",
    "α = 0.1      # learning rate\n",
    "\n",
    "ϵ = 1e-1     # the allowed truncation error"
   ]
  },
  {
   "cell_type": "markdown",
   "id": "79a9bcc1",
   "metadata": {},
   "source": [
    "# Helpers"
   ]
  },
  {
   "cell_type": "code",
   "execution_count": 8,
   "id": "b9a4e8e1",
   "metadata": {},
   "outputs": [],
   "source": [
    "def use_svg_display():\n",
    "    \"\"\"\n",
    "    Use the svg format to display a plot in Jupyter.\n",
    "    \"\"\"\n",
    "    matplotlib_inline.backend_inline.set_matplotlib_formats('svg')\n",
    "\n",
    "\n",
    "def set_figsize(figsize=(3.5,2.5)):\n",
    "    \"\"\"\n",
    "    Set the figure size for matplotlib.\n",
    "    \"\"\"\n",
    "    use_svg_display()\n",
    "    plt.rcParams['figure.figsize'] = figsize\n",
    "\n",
    "\n",
    "def set_axes(axes, xlabel, ylabel, xlim, ylim, xscale, yscale, legend):\n",
    "    \"\"\"\n",
    "    Set the axes for matplotlib.\n",
    "    \"\"\"\n",
    "    axes.set_xlabel(xlabel)\n",
    "    axes.set_ylabel(ylabel)\n",
    "    axes.set_xscale(xscale)\n",
    "    axes.set_yscale(yscale)\n",
    "    axes.set_xlim(xlim)\n",
    "    axes.set_ylim(ylim)\n",
    "    if legend:\n",
    "        axes.legend(legend)\n",
    "    axes.grid()\n",
    "\n",
    "\n",
    "def plot(X, Y=None, xlabel=None, ylabel=None, legend=None, xlim=None,\n",
    "         ylim=None, xscale='linear', yscale='linear',\n",
    "         fmts=('-', 'm--', 'g-.', 'r:'), figsize=(3.5,2.5), axes=None,\n",
    "         title=None):\n",
    "    \"\"\"\n",
    "    Plot data points.\n",
    "    \"\"\"\n",
    "    X = jnp.asarray(X)\n",
    "    Y = jnp.asarray(Y)\n",
    "    \n",
    "    if legend is None:\n",
    "        legend = []\n",
    "\n",
    "    set_figsize(figsize)\n",
    "    axes = axes if axes else plt.gca()\n",
    "\n",
    "    # Return True if `X` (tensor or list) has 1 axis\n",
    "    def has_one_axis(X):\n",
    "        return (hasattr(X, \"ndim\") and X.ndim == 1 or\n",
    "                isinstance(X, list) and not hasattr(X[0], \"__len__\"))\n",
    "\n",
    "    if has_one_axis(X):\n",
    "        X = [X]\n",
    "    if Y is None:\n",
    "        X, Y = [[]] * len(X), X\n",
    "    elif has_one_axis(Y):\n",
    "        Y = [Y]\n",
    "    if len(X) != len(Y):\n",
    "        X = X * len(Y)\n",
    "    axes.cla()\n",
    "    for x, y, fmt in zip(X, Y, fmts):\n",
    "        if len(x):\n",
    "            axes.plot(x, y, fmt)\n",
    "        else:\n",
    "            axes.plot(y, fmt)\n",
    "    set_axes(axes, xlabel, ylabel, xlim, ylim, xscale, yscale, legend)\n",
    "    axes.set_title(title)"
   ]
  },
  {
   "cell_type": "markdown",
   "id": "39226049",
   "metadata": {},
   "source": [
    "# Load data and visualise"
   ]
  },
  {
   "cell_type": "code",
   "execution_count": 9,
   "id": "04241b2d",
   "metadata": {},
   "outputs": [],
   "source": [
    "import datasets\n",
    "\n",
    "train_images, train_labels, test_images, test_labels = datasets.mnist()"
   ]
  },
  {
   "cell_type": "code",
   "execution_count": 10,
   "id": "308302f6",
   "metadata": {},
   "outputs": [
    {
     "name": "stdout",
     "output_type": "stream",
     "text": [
      "Train data shape: (60000, 784) | Test data shape: (10000, 784)\n"
     ]
    }
   ],
   "source": [
    "print(f'Train data shape: {train_images.shape} | Test data shape: {test_images.shape}')"
   ]
  },
  {
   "cell_type": "code",
   "execution_count": 11,
   "id": "dabc9eb2",
   "metadata": {},
   "outputs": [],
   "source": [
    "def show_img(img: jnp.ndarray, axes=None, title=None, figsize=(1.5,1.5)) -> None:\n",
    "    \"\"\"\n",
    "    Shows a single image.\n",
    "    \"\"\"\n",
    "    axes = axes if axes else plt.gca()\n",
    "    set_figsize(figsize)\n",
    "    axes.imshow(img, cmap='Greys')\n",
    "    axes.set_xticks([])\n",
    "    axes.set_yticks([])\n",
    "    if title:\n",
    "        axes.set_title(title, fontsize=9)\n",
    "\n",
    "\n",
    "def show_img_grid(imgs: List[jnp.ndarray], titles: Iterable[str]) -> None:\n",
    "    \"\"\"\n",
    "    Shows a grid of images.\n",
    "    \"\"\"\n",
    "    n = int(jnp.ceil(len(imgs)**0.5))\n",
    "    _, axes = plt.subplots(n,n)\n",
    "    for i, (img, title) in enumerate(zip(imgs, titles)):\n",
    "        show_img(img, axes[i // n][i % n], title)"
   ]
  },
  {
   "cell_type": "code",
   "execution_count": 12,
   "id": "3233b067",
   "metadata": {},
   "outputs": [
    {
     "data": {
      "image/svg+xml": "<?xml version=\"1.0\" encoding=\"utf-8\" standalone=\"no\"?>\n<!DOCTYPE svg PUBLIC \"-//W3C//DTD SVG 1.1//EN\"\n  \"http://www.w3.org/Graphics/SVG/1.1/DTD/svg11.dtd\">\n<svg height=\"280.218594pt\" version=\"1.1\" viewBox=\"0 0 268.523529 280.218594\" width=\"268.523529pt\" xmlns=\"http://www.w3.org/2000/svg\" xmlns:xlink=\"http://www.w3.org/1999/xlink\">\n <metadata>\n  <rdf:RDF xmlns:cc=\"http://creativecommons.org/ns#\" xmlns:dc=\"http://purl.org/dc/elements/1.1/\" xmlns:rdf=\"http://www.w3.org/1999/02/22-rdf-syntax-ns#\">\n   <cc:Work>\n    <dc:type rdf:resource=\"http://purl.org/dc/dcmitype/StillImage\"/>\n    <dc:date>2022-04-16T15:32:17.428893</dc:date>\n    <dc:format>image/svg+xml</dc:format>\n    <dc:creator>\n     <cc:Agent>\n      <dc:title>Matplotlib v3.4.1, https://matplotlib.org/</dc:title>\n     </cc:Agent>\n    </dc:creator>\n   </cc:Work>\n  </rdf:RDF>\n </metadata>\n <defs>\n  <style type=\"text/css\">*{stroke-linecap:butt;stroke-linejoin:round;}</style>\n </defs>\n <g id=\"figure_1\">\n  <g id=\"patch_1\">\n   <path d=\"M 0 280.218594 \nL 268.523529 280.218594 \nL 268.523529 0 \nL 0 0 \nz\n\" style=\"fill:#ffffff;\"/>\n  </g>\n  <g id=\"axes_1\">\n   <g id=\"patch_2\">\n    <path d=\"M 10.7 93.415064 \nL 84.076471 93.415064 \nL 84.076471 20.038594 \nL 10.7 20.038594 \nz\n\" style=\"fill:#ffffff;\"/>\n   </g>\n   <g clip-path=\"url(#pc9e899b105)\">\n    <image height=\"73.44\" id=\"image389de229d4\" transform=\"scale(1 -1)translate(0 -73.44)\" width=\"73.44\" x=\"10.7\" xlink:href=\"data:image/png;base64,\niVBORw0KGgoAAAANSUhEUgAAAGYAAABmCAYAAAA53+RiAAAEMklEQVR4nO2dSyhtYRiG/+1OTIixMjBgIJeBMKEkI1JKGSsGYsCAUigMKIqJQspAEQMzzChiIAaSERFKuUUuYZ/J6TvrW+fsbVv79m7nfUbv29fa66/Xt/5l7X/92+V2u92GwBEV7gGQf8NgQGEwoDAYUBgMKAwGFAYDCoMBhcGAwmBAifHn4JGREdGdnZ0+H5efn698Q0PDnwHF6CE1NTUpn5CQ8J0hRizsGFAYDCgMBhSXP4/9T05ORA8MDKja+vq66NPTU6enMElJScr39/eLbmlpUbW4uDjH50GDHQMKgwHFr0uZN56fn0W3tbWp2ubmpvJHR0eOzlFdXa18T0+P8nl5eaJjY2MdnSNcsGNAYTCgMBhQgjbHeOPp6Un5s7Mz0Y2Njaq2t7fn+DyVlZWie3t7Va2oqEh5l8vl+DzBgB0DCoMBhcGAEpY5xhuPj4/Kr6ysKN/X1yf6+PjY8XnKy8uVHxoaEl1QUOD4cwMFOwYUBgMK3KXsK66vr0VPTEyo2szMjPLn5+c+f250dLTo+vp6VZubm/vOEAMCOwYUBgMKgwEl4uYYb1xcXCi/tLQkemtrS9Xm5+c9fk5xcbHyGxsbokP16IYdAwqDAeVHXcq+Q3x8vPLv7++i7YsODw4ORGdnZwd3YL9hx4DCYEBhMKD4tagcnZeXF9Hb29uq9vHx4fG4mpoa5UM1r1hhx4DCYEBhMKD8qDnm8vJS+fb2dtELCwtej+3u7hbd0dER2IE5gB0DCoMBJaIvZTs7O8pXVVUpf39/7/HY6elp5evq6kQnJycHYHT+wY4BhcGAwmBAibjH/jc3N6KzsrJULTU1VXnro5WSkhJVq62tVZ6LyolPMBhQGAwo8P/HvL29KW/dW+bh4UHVrKtZjDEmNzc3eAMLMuwYUBgMKPCXstHRUeWXl5dF2295c3JyQjGkkMCOAYXBgMJgQIGYY15fX0Xbt7a6vb31eFxra6vyaI9V/IEdAwqDAYXBgBKWx/67u7vKLy4uira/NGT9ytdOaWmp8mtra8pb56urqytVGxsbU35wcNDLiEMPOwYUBgNKSC5l1m0YjTGmsLBQeadbL9qxboNljDFpaWmire9jGvP3i0vebsvDATsGFAYDCoMBJSRzjH1PF+u2u8aE5/oeFaX/Jq232omJiR6Py8jIUN6+ajM9PT0Ao2PHwMJgQGEwoITlkYx9Fb71RdX9/X1VW11dVf7u7k705ORkwMaUmZkpuqKiQtWmpqZEp6SkqFpZWZnyw8PDov15qZYdAwqDASXiFpV/fn6Ktn7z+RWzs7PK23dLPzw8FG1fmdPV1SV6fHxc1ey31tYf1GtubvZ5fHbYMaAwGFAYDCgRN8f8L7BjQGEwoDAYUBgMKAwGFAYDCoMBhcGAwmBAYTCgMBhQGAwoDAYUBgMKgwGFwYDCYED5BeifFh+2j0cCAAAAAElFTkSuQmCC\" y=\"-19.975064\"/>\n   </g>\n   <g id=\"matplotlib.axis_1\"/>\n   <g id=\"matplotlib.axis_2\"/>\n   <g id=\"patch_3\">\n    <path d=\"M 10.7 93.415064 \nL 10.7 20.038594 \n\" style=\"fill:none;stroke:#000000;stroke-linecap:square;stroke-linejoin:miter;stroke-width:0.8;\"/>\n   </g>\n   <g id=\"patch_4\">\n    <path d=\"M 84.076471 93.415064 \nL 84.076471 20.038594 \n\" style=\"fill:none;stroke:#000000;stroke-linecap:square;stroke-linejoin:miter;stroke-width:0.8;\"/>\n   </g>\n   <g id=\"patch_5\">\n    <path d=\"M 10.7 93.415064 \nL 84.076471 93.415064 \n\" style=\"fill:none;stroke:#000000;stroke-linecap:square;stroke-linejoin:miter;stroke-width:0.8;\"/>\n   </g>\n   <g id=\"patch_6\">\n    <path d=\"M 10.7 20.038594 \nL 84.076471 20.038594 \n\" style=\"fill:none;stroke:#000000;stroke-linecap:square;stroke-linejoin:miter;stroke-width:0.8;\"/>\n   </g>\n   <g id=\"text_1\">\n    <!-- label: 5 -->\n    <g transform=\"translate(30.695345 14.038594)scale(0.09 -0.09)\">\n     <defs>\n      <path d=\"M 603 4863 \nL 1178 4863 \nL 1178 0 \nL 603 0 \nL 603 4863 \nz\n\" id=\"DejaVuSans-6c\" transform=\"scale(0.015625)\"/>\n      <path d=\"M 2194 1759 \nQ 1497 1759 1228 1600 \nQ 959 1441 959 1056 \nQ 959 750 1161 570 \nQ 1363 391 1709 391 \nQ 2188 391 2477 730 \nQ 2766 1069 2766 1631 \nL 2766 1759 \nL 2194 1759 \nz\nM 3341 1997 \nL 3341 0 \nL 2766 0 \nL 2766 531 \nQ 2569 213 2275 61 \nQ 1981 -91 1556 -91 \nQ 1019 -91 701 211 \nQ 384 513 384 1019 \nQ 384 1609 779 1909 \nQ 1175 2209 1959 2209 \nL 2766 2209 \nL 2766 2266 \nQ 2766 2663 2505 2880 \nQ 2244 3097 1772 3097 \nQ 1472 3097 1187 3025 \nQ 903 2953 641 2809 \nL 641 3341 \nQ 956 3463 1253 3523 \nQ 1550 3584 1831 3584 \nQ 2591 3584 2966 3190 \nQ 3341 2797 3341 1997 \nz\n\" id=\"DejaVuSans-61\" transform=\"scale(0.015625)\"/>\n      <path d=\"M 3116 1747 \nQ 3116 2381 2855 2742 \nQ 2594 3103 2138 3103 \nQ 1681 3103 1420 2742 \nQ 1159 2381 1159 1747 \nQ 1159 1113 1420 752 \nQ 1681 391 2138 391 \nQ 2594 391 2855 752 \nQ 3116 1113 3116 1747 \nz\nM 1159 2969 \nQ 1341 3281 1617 3432 \nQ 1894 3584 2278 3584 \nQ 2916 3584 3314 3078 \nQ 3713 2572 3713 1747 \nQ 3713 922 3314 415 \nQ 2916 -91 2278 -91 \nQ 1894 -91 1617 61 \nQ 1341 213 1159 525 \nL 1159 0 \nL 581 0 \nL 581 4863 \nL 1159 4863 \nL 1159 2969 \nz\n\" id=\"DejaVuSans-62\" transform=\"scale(0.015625)\"/>\n      <path d=\"M 3597 1894 \nL 3597 1613 \nL 953 1613 \nQ 991 1019 1311 708 \nQ 1631 397 2203 397 \nQ 2534 397 2845 478 \nQ 3156 559 3463 722 \nL 3463 178 \nQ 3153 47 2828 -22 \nQ 2503 -91 2169 -91 \nQ 1331 -91 842 396 \nQ 353 884 353 1716 \nQ 353 2575 817 3079 \nQ 1281 3584 2069 3584 \nQ 2775 3584 3186 3129 \nQ 3597 2675 3597 1894 \nz\nM 3022 2063 \nQ 3016 2534 2758 2815 \nQ 2500 3097 2075 3097 \nQ 1594 3097 1305 2825 \nQ 1016 2553 972 2059 \nL 3022 2063 \nz\n\" id=\"DejaVuSans-65\" transform=\"scale(0.015625)\"/>\n      <path d=\"M 750 794 \nL 1409 794 \nL 1409 0 \nL 750 0 \nL 750 794 \nz\nM 750 3309 \nL 1409 3309 \nL 1409 2516 \nL 750 2516 \nL 750 3309 \nz\n\" id=\"DejaVuSans-3a\" transform=\"scale(0.015625)\"/>\n      <path id=\"DejaVuSans-20\" transform=\"scale(0.015625)\"/>\n      <path d=\"M 691 4666 \nL 3169 4666 \nL 3169 4134 \nL 1269 4134 \nL 1269 2991 \nQ 1406 3038 1543 3061 \nQ 1681 3084 1819 3084 \nQ 2600 3084 3056 2656 \nQ 3513 2228 3513 1497 \nQ 3513 744 3044 326 \nQ 2575 -91 1722 -91 \nQ 1428 -91 1123 -41 \nQ 819 9 494 109 \nL 494 744 \nQ 775 591 1075 516 \nQ 1375 441 1709 441 \nQ 2250 441 2565 725 \nQ 2881 1009 2881 1497 \nQ 2881 1984 2565 2268 \nQ 2250 2553 1709 2553 \nQ 1456 2553 1204 2497 \nQ 953 2441 691 2322 \nL 691 4666 \nz\n\" id=\"DejaVuSans-35\" transform=\"scale(0.015625)\"/>\n     </defs>\n     <use xlink:href=\"#DejaVuSans-6c\"/>\n     <use x=\"27.783203\" xlink:href=\"#DejaVuSans-61\"/>\n     <use x=\"89.0625\" xlink:href=\"#DejaVuSans-62\"/>\n     <use x=\"152.539062\" xlink:href=\"#DejaVuSans-65\"/>\n     <use x=\"214.0625\" xlink:href=\"#DejaVuSans-6c\"/>\n     <use x=\"241.845703\" xlink:href=\"#DejaVuSans-3a\"/>\n     <use x=\"275.537109\" xlink:href=\"#DejaVuSans-20\"/>\n     <use x=\"307.324219\" xlink:href=\"#DejaVuSans-35\"/>\n    </g>\n   </g>\n  </g>\n  <g id=\"axes_2\">\n   <g id=\"patch_7\">\n    <path d=\"M 99.323529 93.415064 \nL 172.7 93.415064 \nL 172.7 20.038594 \nL 99.323529 20.038594 \nz\n\" style=\"fill:#ffffff;\"/>\n   </g>\n   <g clip-path=\"url(#pc7c36b5a79)\">\n    <image height=\"73.44\" id=\"imaged2f8b49a2c\" transform=\"scale(1 -1)translate(0 -73.44)\" width=\"73.44\" x=\"99.323529\" xlink:href=\"data:image/png;base64,\niVBORw0KGgoAAAANSUhEUgAAAGYAAABmCAYAAAA53+RiAAAEmklEQVR4nO2cSyh1XxjG10GUaygTuSYzyUAZuM2YSrnEQMmAXJKMUAYMhCSEzEQGBsyUTKSYiIFcUsp9wIBkQMR/tlrv+r5zPud/zt7n+b6e3+h9eu291+nxrrX2Wntvz/f397cicISFugHk99AYUGgMKDQGFBoDCo0BhcaAQmNAoTGg0BhQaAwoNAYUGgMKjQElwo2LvL6+Cr24uCh0Z2enju1dCI/HI/TQ0JCOW1paRC45OTmgdiLBigGFxoDicWoH8+XlRcc1NTUit7W15fW4P3VlJikpKUK3trYKPTAw8Md2osKKAYXGgEJjQHFsjNnb29NxSUnJj49LTU0VOikpSeijo6Mfn6uysvK3sVJKtbe3//g8oYAVAwqNAYXGgOLKkoxNeHi40H19fTpubm4Wubi4OKGPj491PD8/L3I7OztCb2xs6Pj8/Fzkzs7OhO7p6dFxVlaW17a7BSsGFBoDimPT5d3dXR3b0+XMzEyhLy4unGiCWllZ0XFHR4fIPT09CW2ucE9MTDjSHn9gxYBCY0ChMaA4Nl02l+vtpfumpianLiuor6/XcWlpqciNjIwIPTU1pWN7x3VhYcGB1vmGFQMKjQElJKvL2dnZQtt35W7w+fkp9OzsrI67u7tFLiMjQ8fr6+sil5eXF/zGKVYMLDQGFBoDSkhWl9/e3oQ2p6exsbGutCEiQv508wmbj48Pkevt7dXx8PCwyNkPL0ZGRgalfawYUGgMKDQGFMfuYw4PD3VcXFwscu/v70IvLy/ruLa21onmBIS542ovL/X39ws9ODgYlGuyYkChMaA4Nl0uKCjQsb2yu7m5KfTq6qqOEbuyr68vHYeFyf/l/f19R67JigGFxoBCY0BxZUlmZmZG6NzcXKHNpXR7C8D+21Bgjiv2dNnXi1UBXdORs5KAoTGg0BhQXBlj0tPThW5sbBR6aWlJx0VFRSK3vb0tdE5Ojo7t5fn4+PiA2okEKwYUGgOKK12ZvVs4NjYmtNkF2VPriooKoc13V8bHx0XO7gbdwKl3aVgxoNAYUGgMKI7tYPrD3d2djvPz80Xu+fnZ63ENDQ1C2w9/n5yc6Pjg4EDk6urqhI6OjvZ6HXMHMyYmRuTMd0KVUiotLc3refyBFQMKjQGFxoACMcaY3NzcCG1uUSv160utJlVVVUJXV1fr2F4GsscC82Xe+/t7kSssLNRxW1ubyNn3XcGCFQMKjQElJA+V+8LuYuwuaHp62uux9ktFa2trOrZ3Gm9vb4U+PT3V8dzcnMj52sF0ClYMKDQGFBoDCtwYYzM6Oiq0+clE+3OKl5eXPz5vWVmZ0OZSizk22djTd6dgxYBCY0ChMaDALcn4w9XVldDl5eVCX19f69i+/0hISBA6KipKxw8PDyJnPh1qfoxBqV8/IxksWDGg0BhQ/uquzMbcCVVK7ob62gm1SUxMFPrx8TGgdv0fWDGg0BhQaAwo/9QYY2Puhk5OToqc/Qlf8xtlXV1dIhesJ1/8gRUDCo0B5Z/uyv5mWDGg0BhQaAwoNAYUGgMKjQGFxoBCY0ChMaDQGFBoDCg0BhQaAwqNAeU/dJkmn/1uwvMAAAAASUVORK5CYII=\" y=\"-19.975064\"/>\n   </g>\n   <g id=\"matplotlib.axis_3\"/>\n   <g id=\"matplotlib.axis_4\"/>\n   <g id=\"patch_8\">\n    <path d=\"M 99.323529 93.415064 \nL 99.323529 20.038594 \n\" style=\"fill:none;stroke:#000000;stroke-linecap:square;stroke-linejoin:miter;stroke-width:0.8;\"/>\n   </g>\n   <g id=\"patch_9\">\n    <path d=\"M 172.7 93.415064 \nL 172.7 20.038594 \n\" style=\"fill:none;stroke:#000000;stroke-linecap:square;stroke-linejoin:miter;stroke-width:0.8;\"/>\n   </g>\n   <g id=\"patch_10\">\n    <path d=\"M 99.323529 93.415064 \nL 172.7 93.415064 \n\" style=\"fill:none;stroke:#000000;stroke-linecap:square;stroke-linejoin:miter;stroke-width:0.8;\"/>\n   </g>\n   <g id=\"patch_11\">\n    <path d=\"M 99.323529 20.038594 \nL 172.7 20.038594 \n\" style=\"fill:none;stroke:#000000;stroke-linecap:square;stroke-linejoin:miter;stroke-width:0.8;\"/>\n   </g>\n   <g id=\"text_2\">\n    <!-- label: 0 -->\n    <g transform=\"translate(119.318874 14.038594)scale(0.09 -0.09)\">\n     <defs>\n      <path d=\"M 2034 4250 \nQ 1547 4250 1301 3770 \nQ 1056 3291 1056 2328 \nQ 1056 1369 1301 889 \nQ 1547 409 2034 409 \nQ 2525 409 2770 889 \nQ 3016 1369 3016 2328 \nQ 3016 3291 2770 3770 \nQ 2525 4250 2034 4250 \nz\nM 2034 4750 \nQ 2819 4750 3233 4129 \nQ 3647 3509 3647 2328 \nQ 3647 1150 3233 529 \nQ 2819 -91 2034 -91 \nQ 1250 -91 836 529 \nQ 422 1150 422 2328 \nQ 422 3509 836 4129 \nQ 1250 4750 2034 4750 \nz\n\" id=\"DejaVuSans-30\" transform=\"scale(0.015625)\"/>\n     </defs>\n     <use xlink:href=\"#DejaVuSans-6c\"/>\n     <use x=\"27.783203\" xlink:href=\"#DejaVuSans-61\"/>\n     <use x=\"89.0625\" xlink:href=\"#DejaVuSans-62\"/>\n     <use x=\"152.539062\" xlink:href=\"#DejaVuSans-65\"/>\n     <use x=\"214.0625\" xlink:href=\"#DejaVuSans-6c\"/>\n     <use x=\"241.845703\" xlink:href=\"#DejaVuSans-3a\"/>\n     <use x=\"275.537109\" xlink:href=\"#DejaVuSans-20\"/>\n     <use x=\"307.324219\" xlink:href=\"#DejaVuSans-30\"/>\n    </g>\n   </g>\n  </g>\n  <g id=\"axes_3\">\n   <g id=\"patch_12\">\n    <path d=\"M 187.947059 93.415064 \nL 261.323529 93.415064 \nL 261.323529 20.038594 \nL 187.947059 20.038594 \nz\n\" style=\"fill:#ffffff;\"/>\n   </g>\n   <g clip-path=\"url(#p91f38185ab)\">\n    <image height=\"73.44\" id=\"imageaabb6d1912\" transform=\"scale(1 -1)translate(0 -73.44)\" width=\"73.44\" x=\"187.947059\" xlink:href=\"data:image/png;base64,\niVBORw0KGgoAAAANSUhEUgAAAGYAAABmCAYAAAA53+RiAAADiElEQVR4nO2dv0uyURTHHytQKkIEFyUiKCpQEBdRaumHk39B7Y1NLS0NQYPg5BRtTS3q4OAigk7VIERDtTUELtVqP4Z8hzcu99xXQXsefb68fj/TORzSE5/OvXqfx/R0Op2OReCYcLsB0h2KAYViQKEYUCgGFIoBhWJAoRhQKAYUigFlyu0G3KJWq4l8Z2dHxUdHR6J2eno6kp50ODGgUAwoFAPK2O4xxWJR5GhXPzgxoFAMKGO7lJl4PB63WxBwYkChGFAoBhTuMV3Y3Nx0uwVODCoUAwrFgMI95gf9SGZiwv2/V/c7IF2hGFC4lP2gH8ksLCy42MlfODGgUAwoFAMKxYBCMaBQDCh8udyFUqkk8sPDw5H3wIkBhWJAoRhQPHY+539xcaHier3uRD/W7u6uyJeWlkS+uLjoyPNUKhWRZzIZFa+urora/f29I885CJwYUCgGFIoBZaA95vj4WOT6B3oCgYCorays9N3E1dWVis12pqbkW63Z2VkVJxIJUVtfXxf5xsaGimOxmKjNzMyIfH5+XsWvr6+i9vX11av1ocGJAYViQBnoSKbdbotcX3bK5bKoJZPJvh+31Wqp+Pv7W9QajYbIn56eVGwuMblcTuTZbFbF5tKVTqdF/v7+3rOHl5cXFQeDwX9/gSHAiQGFYkChGFAcO/b3+/2//tlQKNSztre31/fjnJyciPzz81PFzWZT1M7Pz0X+8fGhYnOPeXh4UDH3mDGHYkChGFAc22Nubm5Evra25tRD/xqv16viVColamau75H5fF7UDg4OVHx9fS1qPp/Pbptd4cSAQjGgDLSURSKRnrXb21u7vbiKflJeKBRE7e7uTsXmMRCXsjGDYkChGFAG2mPMo/Lp6WlHm3ET/bJANBoVNf2yxNvbm6jNzc0NpR9ODCgUAwrFgDLQHmMez4fDYUebQcG840enWq2KfH9/fyg9cGJAoRhQbJ0uT05OOtUHFGdnZyK/vLxUsX41c5hwYkChGFAoBhRbe4x+Ze/x8dF2MyjoN65blvx2DPNbNPS7NC3LubtoODGgUAwoFAOKrT1ma2tLxfF43HYzKJj/Tn55eVnFz8/PI+mBEwMKxYBi63P+44J+DLO9vS1q5t1BfLn8n0MxoFAMKNxjQOHEgEIxoFAMKBQDCsWAQjGgUAwoFAMKxYBCMaBQDCgUAwrFgEIxoFAMKBQDCsWA8gdSOLgq1TpxIAAAAABJRU5ErkJggg==\" y=\"-19.975064\"/>\n   </g>\n   <g id=\"matplotlib.axis_5\"/>\n   <g id=\"matplotlib.axis_6\"/>\n   <g id=\"patch_13\">\n    <path d=\"M 187.947059 93.415064 \nL 187.947059 20.038594 \n\" style=\"fill:none;stroke:#000000;stroke-linecap:square;stroke-linejoin:miter;stroke-width:0.8;\"/>\n   </g>\n   <g id=\"patch_14\">\n    <path d=\"M 261.323529 93.415064 \nL 261.323529 20.038594 \n\" style=\"fill:none;stroke:#000000;stroke-linecap:square;stroke-linejoin:miter;stroke-width:0.8;\"/>\n   </g>\n   <g id=\"patch_15\">\n    <path d=\"M 187.947059 93.415064 \nL 261.323529 93.415064 \n\" style=\"fill:none;stroke:#000000;stroke-linecap:square;stroke-linejoin:miter;stroke-width:0.8;\"/>\n   </g>\n   <g id=\"patch_16\">\n    <path d=\"M 187.947059 20.038594 \nL 261.323529 20.038594 \n\" style=\"fill:none;stroke:#000000;stroke-linecap:square;stroke-linejoin:miter;stroke-width:0.8;\"/>\n   </g>\n   <g id=\"text_3\">\n    <!-- label: 4 -->\n    <g transform=\"translate(207.942403 14.038594)scale(0.09 -0.09)\">\n     <defs>\n      <path d=\"M 2419 4116 \nL 825 1625 \nL 2419 1625 \nL 2419 4116 \nz\nM 2253 4666 \nL 3047 4666 \nL 3047 1625 \nL 3713 1625 \nL 3713 1100 \nL 3047 1100 \nL 3047 0 \nL 2419 0 \nL 2419 1100 \nL 313 1100 \nL 313 1709 \nL 2253 4666 \nz\n\" id=\"DejaVuSans-34\" transform=\"scale(0.015625)\"/>\n     </defs>\n     <use xlink:href=\"#DejaVuSans-6c\"/>\n     <use x=\"27.783203\" xlink:href=\"#DejaVuSans-61\"/>\n     <use x=\"89.0625\" xlink:href=\"#DejaVuSans-62\"/>\n     <use x=\"152.539062\" xlink:href=\"#DejaVuSans-65\"/>\n     <use x=\"214.0625\" xlink:href=\"#DejaVuSans-6c\"/>\n     <use x=\"241.845703\" xlink:href=\"#DejaVuSans-3a\"/>\n     <use x=\"275.537109\" xlink:href=\"#DejaVuSans-20\"/>\n     <use x=\"307.324219\" xlink:href=\"#DejaVuSans-34\"/>\n    </g>\n   </g>\n  </g>\n  <g id=\"axes_4\">\n   <g id=\"patch_17\">\n    <path d=\"M 10.7 181.466829 \nL 84.076471 181.466829 \nL 84.076471 108.090358 \nL 10.7 108.090358 \nz\n\" style=\"fill:#ffffff;\"/>\n   </g>\n   <g clip-path=\"url(#p0c1823e32d)\">\n    <image height=\"73.44\" id=\"imagecf0304c3c5\" transform=\"scale(1 -1)translate(0 -73.44)\" width=\"73.44\" x=\"10.7\" xlink:href=\"data:image/png;base64,\niVBORw0KGgoAAAANSUhEUgAAAGYAAABmCAYAAAA53+RiAAADN0lEQVR4nO2cPWsqQRSGb6KIoBJBLMTaj9reIiCkDNjY2NilEkQLm/SKprIQDPgHhDRiYyEpLPwFopAiILESERIlld7mMuyZexUv2XXfmPep5mVWcsKTM7Nsxr3Y7Xa7XwSOS7sLIP+GYkChGFAoBhSKAYViQKEYUCgGFIoBhWJAcdrxQz8+PkTOZrNq3O12xVwsFhN5PB5bVxgQ7BhQKAYUigHFlj3m7e1N5F6vZ0cZ0LBjQKEYUCgGFIoBhWJAoRhQbLld9nq9IofDYTWezWZi7vX1VeRqtarGxWJRzDmdtvw6lsCOAYViQKEYUC4QTmKWSiU1fnh4EHOXl/v/dpbLpchXV1fmFmYj7BhQKAYUiKXMiMPhEPnQUjYYDEROJpOW1GQH7BhQKAYUigEFbo8JhUIiLxaLvdfe3NyI/PT0JLLL5TKvsBPDjgGFYkCBW8r0gxqpVErkl5eXvZ/N5XIit1ot8wo7MewYUCgGFIoBBW6P0bm/vxe5Uqkc/dn5fK7GwWDQtJpOATsGFIoBhWJAgd9jVquVyIFA4OjPFgoFNa7X62aVdBLYMaBQDCjwJ+T8fr/Io9FIjfWny+/v7yIbH9+s12sx5/F4TKrQGtgxoFAMKBQDCvzt8iH0dwKk02mRt9utGmcyGTHXbrdFdrvdJlf3NdgxoFAMKBQDyrfeY/THNbe3tyIPh0M11k90NhoNke/u7swt7ouwY0ChGFC+9VKms9lsRPb5fGqsL2X6U+rn52c1jsfj5hf3n7BjQKEYUCgGlLPaY3TK5bIa12q1g9caH+d0Oh3LajoWdgwoFAMKxYBy1nuM8V/L+rcG9G8VGOn3+yJfX1+bW9gRsGNAoRhQznopM6K/4VxfnoyvP0kkEmLOuLTpp2usehUXOwYUigGFYkD5MXuMTrPZFDmfz++91njaZjKZiLlIJGJuYX9gx4BCMaBQDCjwp/2tIhqNimw8ifn5+Xnqcv6CHQMKxYDyY2+XdR4fH9VYP/xnvF2eTqdiTl8SzYIdAwrFgEIxoHCPAYUdAwrFgEIxoFAMKBQDCsWAQjGgUAwoFAMKxYBCMaBQDCgUAwrFgEIxoFAMKBQDym88/cxPUYehewAAAABJRU5ErkJggg==\" y=\"-108.026829\"/>\n   </g>\n   <g id=\"matplotlib.axis_7\"/>\n   <g id=\"matplotlib.axis_8\"/>\n   <g id=\"patch_18\">\n    <path d=\"M 10.7 181.466829 \nL 10.7 108.090358 \n\" style=\"fill:none;stroke:#000000;stroke-linecap:square;stroke-linejoin:miter;stroke-width:0.8;\"/>\n   </g>\n   <g id=\"patch_19\">\n    <path d=\"M 84.076471 181.466829 \nL 84.076471 108.090358 \n\" style=\"fill:none;stroke:#000000;stroke-linecap:square;stroke-linejoin:miter;stroke-width:0.8;\"/>\n   </g>\n   <g id=\"patch_20\">\n    <path d=\"M 10.7 181.466829 \nL 84.076471 181.466829 \n\" style=\"fill:none;stroke:#000000;stroke-linecap:square;stroke-linejoin:miter;stroke-width:0.8;\"/>\n   </g>\n   <g id=\"patch_21\">\n    <path d=\"M 10.7 108.090358 \nL 84.076471 108.090358 \n\" style=\"fill:none;stroke:#000000;stroke-linecap:square;stroke-linejoin:miter;stroke-width:0.8;\"/>\n   </g>\n   <g id=\"text_4\">\n    <!-- label: 1 -->\n    <g transform=\"translate(30.695345 102.090358)scale(0.09 -0.09)\">\n     <defs>\n      <path d=\"M 794 531 \nL 1825 531 \nL 1825 4091 \nL 703 3866 \nL 703 4441 \nL 1819 4666 \nL 2450 4666 \nL 2450 531 \nL 3481 531 \nL 3481 0 \nL 794 0 \nL 794 531 \nz\n\" id=\"DejaVuSans-31\" transform=\"scale(0.015625)\"/>\n     </defs>\n     <use xlink:href=\"#DejaVuSans-6c\"/>\n     <use x=\"27.783203\" xlink:href=\"#DejaVuSans-61\"/>\n     <use x=\"89.0625\" xlink:href=\"#DejaVuSans-62\"/>\n     <use x=\"152.539062\" xlink:href=\"#DejaVuSans-65\"/>\n     <use x=\"214.0625\" xlink:href=\"#DejaVuSans-6c\"/>\n     <use x=\"241.845703\" xlink:href=\"#DejaVuSans-3a\"/>\n     <use x=\"275.537109\" xlink:href=\"#DejaVuSans-20\"/>\n     <use x=\"307.324219\" xlink:href=\"#DejaVuSans-31\"/>\n    </g>\n   </g>\n  </g>\n  <g id=\"axes_5\">\n   <g id=\"patch_22\">\n    <path d=\"M 99.323529 181.466829 \nL 172.7 181.466829 \nL 172.7 108.090358 \nL 99.323529 108.090358 \nz\n\" style=\"fill:#ffffff;\"/>\n   </g>\n   <g clip-path=\"url(#pb34404f189)\">\n    <image height=\"73.44\" id=\"image8fd2d1aca9\" transform=\"scale(1 -1)translate(0 -73.44)\" width=\"73.44\" x=\"99.323529\" xlink:href=\"data:image/png;base64,\niVBORw0KGgoAAAANSUhEUgAAAGYAAABmCAYAAAA53+RiAAAEGklEQVR4nO2cSyh1URiG13HPREYu5c5IBmRgZmBg6lIoEYqUkZGZCQNDiWJyklLIzICSZCDXiQwoE4WQGLiEwvlny/p29rF//9l7v9v/PqPv7Ttn74/3fGut1l7nhCKRSEQROOL8LoB8DY0BhcaAkuB3AW7y+vqq45GREZEbGhoS+uLiQscZGRnuFuYAdgwoNAaUXzWUmUOXUkp1dnbqeGFhQeS6u7uFTk9Pd6+wH8COAYXGgEJjQAn9pi2ZtbU1oWtra3VcX18vcuPj40IjLJFN2DGg0BhQaAwov2qOKSsrE/ro6EjHJycnIldQUOBJTT+FHQMKjQEl0EPZ5eWl0NnZ2ULHxX1+7h4eHkQuNTXVvcJiADsGFBoDCo0BJdDb/ru7u0Kbc4pSSoVCIS/LiSnsGFBoDCg0BpRAzzGFhYV+l+Aa7BhQaAwogd6SsRIfHy+0uVy+v78XOW7JkB9BY0ChMaAEerl8eHjodwmuwY4BhcaAEuihLCUlReiPjw+hzd3m5eVlkWtsbHSvsBjAjgGFxoBCY0DxZI45PT0VuqqqSuibmxsdl5aWilxbW5vQ7e3tOs7KyhK5uro6oZeWlnR8fHzsuF4E2DGg0BhQaAworm37v7y86Li4uFjkrq6uhDZL+JuTLbm5ubbXUUqps7MzHWdmZorc+fm54/v4ATsGFBoDimtD2dPTk47T0tKivvb29lbHCQlyBb+4uCj0/Py8jre2tkTO+pTSHBatQ+TOzo7QFRUVUWv0GnYMKDQGFBoDiifL5aKiIpG7vr4W2txmCYfDju9xd3cndHNzs9Dr6+u27+3p6RF6dHRUx0lJSY5rcAt2DCg0BhQaA4onJzEnJyeF7uvrEzo5OVnHLS0tIjc1NSV0YmKi7X3e3t6EPjg40HF1dbXIPT8/Cz02NmZbnx+wY0ChMaD4cqjcHDaUUqq/v/+zIMvWyeDgoNADAwM6NofA7ygvLxc62mHB7e1toSsrKx3fJ1awY0ChMaDQGFAgvrhk/mSi+XOJX2Fuu1i3b6LNORsbG0LX1NTYvjYvL09ocz7y6gtP7BhQaAwoNAYUiDnGPKVvPbVpfeT7+PioY+vJy+HhYaFLSkp0/P7+LnJdXV1Cz83N6dj6L5mZmdFxa2urtXxXYMeAQmNAgRjKorG5uSl0U1OTjq1PQq1/SkNDg47Nw39KKbW/v297T+t1ent7dTwxMfFNxbGBHQMKjQGFxoACP8dYMZfT09PTIreysiL03t6e7XVmZ2eFzsnJ0fHq6qrIdXR06Dg/P99Zof8IOwYUGgMKjQElcHPM/wI7BhQaAwqNAYXGgEJjQKExoNAYUGgMKDQGFBoDCo0BhcaAQmNAoTGg0BhQaAwoNAYUGgMKjQGFxoBCY0ChMaDQGFBoDCh/AKYjGCCZh1cfAAAAAElFTkSuQmCC\" y=\"-108.026829\"/>\n   </g>\n   <g id=\"matplotlib.axis_9\"/>\n   <g id=\"matplotlib.axis_10\"/>\n   <g id=\"patch_23\">\n    <path d=\"M 99.323529 181.466829 \nL 99.323529 108.090358 \n\" style=\"fill:none;stroke:#000000;stroke-linecap:square;stroke-linejoin:miter;stroke-width:0.8;\"/>\n   </g>\n   <g id=\"patch_24\">\n    <path d=\"M 172.7 181.466829 \nL 172.7 108.090358 \n\" style=\"fill:none;stroke:#000000;stroke-linecap:square;stroke-linejoin:miter;stroke-width:0.8;\"/>\n   </g>\n   <g id=\"patch_25\">\n    <path d=\"M 99.323529 181.466829 \nL 172.7 181.466829 \n\" style=\"fill:none;stroke:#000000;stroke-linecap:square;stroke-linejoin:miter;stroke-width:0.8;\"/>\n   </g>\n   <g id=\"patch_26\">\n    <path d=\"M 99.323529 108.090358 \nL 172.7 108.090358 \n\" style=\"fill:none;stroke:#000000;stroke-linecap:square;stroke-linejoin:miter;stroke-width:0.8;\"/>\n   </g>\n   <g id=\"text_5\">\n    <!-- label: 9 -->\n    <g transform=\"translate(119.318874 102.090358)scale(0.09 -0.09)\">\n     <defs>\n      <path d=\"M 703 97 \nL 703 672 \nQ 941 559 1184 500 \nQ 1428 441 1663 441 \nQ 2288 441 2617 861 \nQ 2947 1281 2994 2138 \nQ 2813 1869 2534 1725 \nQ 2256 1581 1919 1581 \nQ 1219 1581 811 2004 \nQ 403 2428 403 3163 \nQ 403 3881 828 4315 \nQ 1253 4750 1959 4750 \nQ 2769 4750 3195 4129 \nQ 3622 3509 3622 2328 \nQ 3622 1225 3098 567 \nQ 2575 -91 1691 -91 \nQ 1453 -91 1209 -44 \nQ 966 3 703 97 \nz\nM 1959 2075 \nQ 2384 2075 2632 2365 \nQ 2881 2656 2881 3163 \nQ 2881 3666 2632 3958 \nQ 2384 4250 1959 4250 \nQ 1534 4250 1286 3958 \nQ 1038 3666 1038 3163 \nQ 1038 2656 1286 2365 \nQ 1534 2075 1959 2075 \nz\n\" id=\"DejaVuSans-39\" transform=\"scale(0.015625)\"/>\n     </defs>\n     <use xlink:href=\"#DejaVuSans-6c\"/>\n     <use x=\"27.783203\" xlink:href=\"#DejaVuSans-61\"/>\n     <use x=\"89.0625\" xlink:href=\"#DejaVuSans-62\"/>\n     <use x=\"152.539062\" xlink:href=\"#DejaVuSans-65\"/>\n     <use x=\"214.0625\" xlink:href=\"#DejaVuSans-6c\"/>\n     <use x=\"241.845703\" xlink:href=\"#DejaVuSans-3a\"/>\n     <use x=\"275.537109\" xlink:href=\"#DejaVuSans-20\"/>\n     <use x=\"307.324219\" xlink:href=\"#DejaVuSans-39\"/>\n    </g>\n   </g>\n  </g>\n  <g id=\"axes_6\">\n   <g id=\"patch_27\">\n    <path d=\"M 187.947059 181.466829 \nL 261.323529 181.466829 \nL 261.323529 108.090358 \nL 187.947059 108.090358 \nz\n\" style=\"fill:#ffffff;\"/>\n   </g>\n   <g clip-path=\"url(#p5be533a026)\">\n    <image height=\"73.44\" id=\"imageaec64f5762\" transform=\"scale(1 -1)translate(0 -73.44)\" width=\"73.44\" x=\"187.947059\" xlink:href=\"data:image/png;base64,\niVBORw0KGgoAAAANSUhEUgAAAGYAAABmCAYAAAA53+RiAAAEh0lEQVR4nO2cyyv8URjGz6DIPXIrFi5JsrOwsZBLiJUFJWUhG38AOyuyEFJClEuIhVKypYSwIAsL7OSSknLLJbff7nTekxkzfjPjmen5rJ6nd8yc6XHOO9/L+Tq+vr6+FIEj5K8HQL6HwYDCYEBhMKAwGFAYDCgMBhQGAwqDAYXBgMJgQGEwoDAYUBgMKAwGFAYDCoMBJcxbb/T6+ir89va21ltbW6KWlpYmfENDg9YRERGiFhoa6q0hBhScMaAwGFAYDCgOb90lU1xcLPzOzs6v3qepqUn4iooK4aurq7WOj48XtZCQ4Pk/C55vEmQwGFAYDChe6zHp6enCX11daW0fmxQWFgp/d3en9eHhodufOTIyInxLS4vwgdxzAnfkQQ6DAcVrS9ny8rLwdXV1WkdHR4vaysqK8ObSdnJyImqjo6PCz87Oav38/CxqQ0NDwjc2NmodGxvrdOyesLGxIfz4+LjT1w4MDAifmJjo9udwxoDCYEBhMKB4rcd8fn4Kb66vHR0dohYTEyP81NSU1pWVlaJm/9Q+PT3VurW1VdTW1taELygo0HphYUHU8vLyhDcvWxwfH4vaxMSE1tPT06L28PCgnJGVlSW83T9dwRkDCoMBxWtLmc3Hx4fWg4ODotbe3u7078yfuEopNTY2Jry5tD09PYlabW2t8Ovr61qHh4eLWm9vr/AHBwdaT05OOh1ffX298J2dncLbhwYm9tkRV3DGgMJgQGEwoPisx5iY/UYpuZ4rpVRRUZHTvx0eHha+rKxM6+zsbFGzT9GUl5drvbu769ZYv8PsVfZYw8K8dqORgDMGFAYDCoMBxS89xsbuOefn51qXlJSI2tnZmfCRkZFaJyQkiJp5B41SSs3Pz2v9+Pjockypqala9/T0iJp5bOWvO0M5Y0BhMKD8yVLmire3N+EvLy+FN0+BmFczv8M84/3TjRkZGRla7+/vi5q9ZPoDzhhQGAwoDAYUuB7jCYuLi8Lf398Lb341h8MhanNzc8Kbp11qampEbWlpSWt/3UTIGQMKgwGFwYAS0D3mf7Avb/f39zt97dHRkdY5OTk+G5MJZwwoDAYU31x+8xDzprmZmRlRq6qqEj4lJUXrqKioX39maWmp8K6Wsr+AMwYUBgMKgwEFose0tbVpbV51/I7c3Fyt7T7R3d0tfFxcnNP3SU5O9mSIfoczBhQGAwqDAQXilMzq6qrW9sYlT8jPzxd+c3NTa3tz7M3NjfDm8ZENT8kQDYMBBWIpe3l50bqrq0vU7MeSmI83+QlzD6Z5hVIppd7f34XnUkbcgsGAwmBAgegxrri+vhbe3Ghrb7q1Ny6ZXy0zM1PU7Oe67O3taW33G3OjVVJSkhuj/n84Y0BhMKAwGFDge4wrbm9vhe/r6xPefLaMJ5tj7Ycq2N4fcMaAwmBACeil7CfMR13ZG6LMM89KKXVxcaF1c3OzqPlqL78rOGNAYTCgMBhQgrrHBDKcMaAwGFAYDCgMBhQGAwqDAYXBgMJgQGEwoDAYUBgMKAwGFAYDCoMBhcGAwmBAYTCg/APZ2U9muAFyXwAAAABJRU5ErkJggg==\" y=\"-108.026829\"/>\n   </g>\n   <g id=\"matplotlib.axis_11\"/>\n   <g id=\"matplotlib.axis_12\"/>\n   <g id=\"patch_28\">\n    <path d=\"M 187.947059 181.466829 \nL 187.947059 108.090358 \n\" style=\"fill:none;stroke:#000000;stroke-linecap:square;stroke-linejoin:miter;stroke-width:0.8;\"/>\n   </g>\n   <g id=\"patch_29\">\n    <path d=\"M 261.323529 181.466829 \nL 261.323529 108.090358 \n\" style=\"fill:none;stroke:#000000;stroke-linecap:square;stroke-linejoin:miter;stroke-width:0.8;\"/>\n   </g>\n   <g id=\"patch_30\">\n    <path d=\"M 187.947059 181.466829 \nL 261.323529 181.466829 \n\" style=\"fill:none;stroke:#000000;stroke-linecap:square;stroke-linejoin:miter;stroke-width:0.8;\"/>\n   </g>\n   <g id=\"patch_31\">\n    <path d=\"M 187.947059 108.090358 \nL 261.323529 108.090358 \n\" style=\"fill:none;stroke:#000000;stroke-linecap:square;stroke-linejoin:miter;stroke-width:0.8;\"/>\n   </g>\n   <g id=\"text_6\">\n    <!-- label: 2 -->\n    <g transform=\"translate(207.942403 102.090358)scale(0.09 -0.09)\">\n     <defs>\n      <path d=\"M 1228 531 \nL 3431 531 \nL 3431 0 \nL 469 0 \nL 469 531 \nQ 828 903 1448 1529 \nQ 2069 2156 2228 2338 \nQ 2531 2678 2651 2914 \nQ 2772 3150 2772 3378 \nQ 2772 3750 2511 3984 \nQ 2250 4219 1831 4219 \nQ 1534 4219 1204 4116 \nQ 875 4013 500 3803 \nL 500 4441 \nQ 881 4594 1212 4672 \nQ 1544 4750 1819 4750 \nQ 2544 4750 2975 4387 \nQ 3406 4025 3406 3419 \nQ 3406 3131 3298 2873 \nQ 3191 2616 2906 2266 \nQ 2828 2175 2409 1742 \nQ 1991 1309 1228 531 \nz\n\" id=\"DejaVuSans-32\" transform=\"scale(0.015625)\"/>\n     </defs>\n     <use xlink:href=\"#DejaVuSans-6c\"/>\n     <use x=\"27.783203\" xlink:href=\"#DejaVuSans-61\"/>\n     <use x=\"89.0625\" xlink:href=\"#DejaVuSans-62\"/>\n     <use x=\"152.539062\" xlink:href=\"#DejaVuSans-65\"/>\n     <use x=\"214.0625\" xlink:href=\"#DejaVuSans-6c\"/>\n     <use x=\"241.845703\" xlink:href=\"#DejaVuSans-3a\"/>\n     <use x=\"275.537109\" xlink:href=\"#DejaVuSans-20\"/>\n     <use x=\"307.324219\" xlink:href=\"#DejaVuSans-32\"/>\n    </g>\n   </g>\n  </g>\n  <g id=\"axes_7\">\n   <g id=\"patch_32\">\n    <path d=\"M 10.7 269.518594 \nL 84.076471 269.518594 \nL 84.076471 196.142123 \nL 10.7 196.142123 \nz\n\" style=\"fill:#ffffff;\"/>\n   </g>\n   <g clip-path=\"url(#p1c62682a40)\">\n    <image height=\"73.44\" id=\"imageb37ea47777\" transform=\"scale(1 -1)translate(0 -73.44)\" width=\"73.44\" x=\"10.7\" xlink:href=\"data:image/png;base64,\niVBORw0KGgoAAAANSUhEUgAAAGYAAABmCAYAAAA53+RiAAACZUlEQVR4nO3cP4oiQRhA8XVcwUwxMfMAZiZiLnoUQ49g4gEEE8E7COIxBBMTwUQTIyMRDAx0smZLdmRlu+3X8n5RF4NQw5uvy+n5k7vf7/dfwvlKewP6O8NAGQbKMFCGgTIMlGGgDANlGCjDQBkGyjBQhoEyDNTvtDcQp9PpFKy73W50vVqtgo89/rTjeDxG15VKJYHdvcaJgTIM1Efdyvb7fbB+vH1liRMDZRgow0B91BkzHo/T3kJsnBgow0AZBuqjzpjlchmsn/2S6e12S3o7/8WJgTIMVKZvZbPZLFhvNptgncvlfnztcDgM1oQnyn9yYqAMA2UYqEyfMev1Ou0tJMaJgTIMVC7Lf4OZz+eD9bO3x48Oh0OwrlarsewpLk4MlGGgDAOV6bfLj0+Iv75+/jrr9XrBmnamPHJioAwDZRioTJ8xj2fKs+9jOp1O0tuJlRMDZRgow0AZBsowUIaBMgyUYaAMA2UYqEw/knnlsX/WfM5n8mEMA5XpW9krT5ezxomBMgyUYaAyd8ZMp9O0t/AWTgyUYaAMA4U/Y87nc7AejUb//NrJZBJdt9vt2Pb0Dk4MlGGg8LeyQqEQrOv1enS93W6fvrbVakXXpVIp3o0lzImBMgyUYaDwZ0yxWAzWjUYjup7P52/ezfs4MVCGgTIMFP6MuV6vwXq326W0k/dyYqAMA4W/lV0ul2C9WCxS2sl7OTFQhoEyDBT+jCmXy8G63+9H14PBIPhYs9kM1rVaLbF9Jc2JgTIMVKb/9eInc2KgDANlGCjDQBkGyjBQhoEyDJRhoAwDZRgow0AZBsowUN+Q71oOUZY1mgAAAABJRU5ErkJggg==\" y=\"-196.078594\"/>\n   </g>\n   <g id=\"matplotlib.axis_13\"/>\n   <g id=\"matplotlib.axis_14\"/>\n   <g id=\"patch_33\">\n    <path d=\"M 10.7 269.518594 \nL 10.7 196.142123 \n\" style=\"fill:none;stroke:#000000;stroke-linecap:square;stroke-linejoin:miter;stroke-width:0.8;\"/>\n   </g>\n   <g id=\"patch_34\">\n    <path d=\"M 84.076471 269.518594 \nL 84.076471 196.142123 \n\" style=\"fill:none;stroke:#000000;stroke-linecap:square;stroke-linejoin:miter;stroke-width:0.8;\"/>\n   </g>\n   <g id=\"patch_35\">\n    <path d=\"M 10.7 269.518594 \nL 84.076471 269.518594 \n\" style=\"fill:none;stroke:#000000;stroke-linecap:square;stroke-linejoin:miter;stroke-width:0.8;\"/>\n   </g>\n   <g id=\"patch_36\">\n    <path d=\"M 10.7 196.142123 \nL 84.076471 196.142123 \n\" style=\"fill:none;stroke:#000000;stroke-linecap:square;stroke-linejoin:miter;stroke-width:0.8;\"/>\n   </g>\n   <g id=\"text_7\">\n    <!-- label: 1 -->\n    <g transform=\"translate(30.695345 190.142123)scale(0.09 -0.09)\">\n     <use xlink:href=\"#DejaVuSans-6c\"/>\n     <use x=\"27.783203\" xlink:href=\"#DejaVuSans-61\"/>\n     <use x=\"89.0625\" xlink:href=\"#DejaVuSans-62\"/>\n     <use x=\"152.539062\" xlink:href=\"#DejaVuSans-65\"/>\n     <use x=\"214.0625\" xlink:href=\"#DejaVuSans-6c\"/>\n     <use x=\"241.845703\" xlink:href=\"#DejaVuSans-3a\"/>\n     <use x=\"275.537109\" xlink:href=\"#DejaVuSans-20\"/>\n     <use x=\"307.324219\" xlink:href=\"#DejaVuSans-31\"/>\n    </g>\n   </g>\n  </g>\n  <g id=\"axes_8\">\n   <g id=\"patch_37\">\n    <path d=\"M 99.323529 269.518594 \nL 172.7 269.518594 \nL 172.7 196.142123 \nL 99.323529 196.142123 \nz\n\" style=\"fill:#ffffff;\"/>\n   </g>\n   <g clip-path=\"url(#p1c2b335f33)\">\n    <image height=\"73.44\" id=\"image97fd82a6fb\" transform=\"scale(1 -1)translate(0 -73.44)\" width=\"73.44\" x=\"99.323529\" xlink:href=\"data:image/png;base64,\niVBORw0KGgoAAAANSUhEUgAAAGYAAABmCAYAAAA53+RiAAAEAklEQVR4nO2dzSt8URjHz3gtSRY2XnY2YiMbC68rS0pNVhbEH+BlSbEjpdhRNnZIs1DyspoZKbKThWQjsZEoLyWM3ek+5+fe5t451/3y+35Wz9Njzhx9PPfMnDlzxTKZTEYROPKingD5HooBhWJAoRhQKAYUigGFYkChGFAoBhSKAaUgrIHf3991vLOzI2pDQ0Miv7u70/Hg4KCodXd3i7yzs1PHpaWluU4TFnYMKBQDCsWAErO17X99fS3yxcVFHc/Pz9t4CqWUUvX19TouKysTta6uLpEPDw/ruLKy0tocfgJ2DCgUA4q1S1lLS4vIj46ObAzrC/NXqa6u1nF/f7+oTU9Pi7ygILR3DoFgx4BCMaBQDCiRXFgnJydFbr7szZatrS2RJ5NJkd/c3Oh4dnZW1C4uLkQ+Njam4+bm5kDzsQk7BhSKAYViQLH2Psa8Zk9NTel4bW1N1O7v70UedI15fX0V+fHxsch7e3t1/Pj46DlWSUmJ6zh1dXWB5pcL7BhQKAYUa5cyk4+PDx2fnp6KWkNDg8gLCwvDmILa39/XcTweF7WnpyfXx52cnIi8sbHR6ryygR0DCsWAQjGghLbGoHF4eCjy9vZ215/lGkNcoRhQsD62C5Gmpqaop+ALdgwoFAMKxYACscY4d343NjZEzTzEV1RUFOg5VlZWAj0uKtgxoFAMKBQDSiRrzO3trcg7Ojp0fHl5GXjcz89Pkefl/d6/u9878z8OxYAC8XI5Fot9G/vFvHT5Gct56DyK3WQTdgwoFAMKxYAC8Qnmw8ODjtfX10Vte3s763HMQ+Z+1pjy8nIdr66uilpra6uOgx5O9As7BhSKAYViQIFYY2yRSqVE7vwy0tnZmai9vb1lPW5bW5uO9/b2RC2sU6TsGFAoBpQ/dSnz4uDgQOQLCwsiTyQSWY3z/Pws8uLi4twm5gI7BhSKAYViQIHY9v8JnNsqSimVn58v8t3dXR2/vLy4jjM3NyfyiYkJC7P7F3YMKBQDCsWAArHGOE+3eH1pVSn58XEut/c1T/9XVFTo+OrqyvVxZs15G2Ol7N33jB0DCsWAArEls7m5qeO+vj7Pn62qqtLx+Pi4qPk58JdOp0We7ZaMyfn5uchra2sDjWPCjgGFYkChGFAgXi6bp1u8cN5OcXR0VNTM5TKXU51Rw44BhWJAoRhQINaYmZkZHTv/24VSSi0vL4vc+V7Fa+skLEZGRkReU1MTyvOwY0ChGFAgtmS8cP5jOaXkbq55t9eenh6R2/oO5sDAgI6XlpZEzfwk1BbsGFAoBhSKAQV+jflfYceAQjGgUAwoFAMKxYBCMaBQDCgUAwrFgEIxoFAMKBQDCsWAQjGgUAwoFAMKxYDyBW1EArrBJzbhAAAAAElFTkSuQmCC\" y=\"-196.078594\"/>\n   </g>\n   <g id=\"matplotlib.axis_15\"/>\n   <g id=\"matplotlib.axis_16\"/>\n   <g id=\"patch_38\">\n    <path d=\"M 99.323529 269.518594 \nL 99.323529 196.142123 \n\" style=\"fill:none;stroke:#000000;stroke-linecap:square;stroke-linejoin:miter;stroke-width:0.8;\"/>\n   </g>\n   <g id=\"patch_39\">\n    <path d=\"M 172.7 269.518594 \nL 172.7 196.142123 \n\" style=\"fill:none;stroke:#000000;stroke-linecap:square;stroke-linejoin:miter;stroke-width:0.8;\"/>\n   </g>\n   <g id=\"patch_40\">\n    <path d=\"M 99.323529 269.518594 \nL 172.7 269.518594 \n\" style=\"fill:none;stroke:#000000;stroke-linecap:square;stroke-linejoin:miter;stroke-width:0.8;\"/>\n   </g>\n   <g id=\"patch_41\">\n    <path d=\"M 99.323529 196.142123 \nL 172.7 196.142123 \n\" style=\"fill:none;stroke:#000000;stroke-linecap:square;stroke-linejoin:miter;stroke-width:0.8;\"/>\n   </g>\n   <g id=\"text_8\">\n    <!-- label: 3 -->\n    <g transform=\"translate(119.318874 190.142123)scale(0.09 -0.09)\">\n     <defs>\n      <path d=\"M 2597 2516 \nQ 3050 2419 3304 2112 \nQ 3559 1806 3559 1356 \nQ 3559 666 3084 287 \nQ 2609 -91 1734 -91 \nQ 1441 -91 1130 -33 \nQ 819 25 488 141 \nL 488 750 \nQ 750 597 1062 519 \nQ 1375 441 1716 441 \nQ 2309 441 2620 675 \nQ 2931 909 2931 1356 \nQ 2931 1769 2642 2001 \nQ 2353 2234 1838 2234 \nL 1294 2234 \nL 1294 2753 \nL 1863 2753 \nQ 2328 2753 2575 2939 \nQ 2822 3125 2822 3475 \nQ 2822 3834 2567 4026 \nQ 2313 4219 1838 4219 \nQ 1578 4219 1281 4162 \nQ 984 4106 628 3988 \nL 628 4550 \nQ 988 4650 1302 4700 \nQ 1616 4750 1894 4750 \nQ 2613 4750 3031 4423 \nQ 3450 4097 3450 3541 \nQ 3450 3153 3228 2886 \nQ 3006 2619 2597 2516 \nz\n\" id=\"DejaVuSans-33\" transform=\"scale(0.015625)\"/>\n     </defs>\n     <use xlink:href=\"#DejaVuSans-6c\"/>\n     <use x=\"27.783203\" xlink:href=\"#DejaVuSans-61\"/>\n     <use x=\"89.0625\" xlink:href=\"#DejaVuSans-62\"/>\n     <use x=\"152.539062\" xlink:href=\"#DejaVuSans-65\"/>\n     <use x=\"214.0625\" xlink:href=\"#DejaVuSans-6c\"/>\n     <use x=\"241.845703\" xlink:href=\"#DejaVuSans-3a\"/>\n     <use x=\"275.537109\" xlink:href=\"#DejaVuSans-20\"/>\n     <use x=\"307.324219\" xlink:href=\"#DejaVuSans-33\"/>\n    </g>\n   </g>\n  </g>\n  <g id=\"axes_9\">\n   <g id=\"patch_42\">\n    <path d=\"M 187.947059 269.518594 \nL 261.323529 269.518594 \nL 261.323529 196.142123 \nL 187.947059 196.142123 \nz\n\" style=\"fill:#ffffff;\"/>\n   </g>\n   <g clip-path=\"url(#p7d391e1d30)\">\n    <image height=\"73.44\" id=\"imagee8f1954842\" transform=\"scale(1 -1)translate(0 -73.44)\" width=\"73.44\" x=\"187.947059\" xlink:href=\"data:image/png;base64,\niVBORw0KGgoAAAANSUhEUgAAAGYAAABmCAYAAAA53+RiAAACTElEQVR4nO3csY5pQRyA8esGG4mEgs4L6FReR6fReAKFB9JoPISoVUQvEZ1IsN2JOblxsxbnm8n3q+bkbDGbL39j7Z4t3W632x/h/C16A/o3w0AZBsowUIaBMgyUYaAMA2UYKMNAlYvewCuNRqPgerVaZevFYhHcazQaH9nTs5wYKMNAGQYqqTNmPp8H1/v9Plufz+dPb+dXnBgow0Al9VI2HA6D68lkkq03m01wr91uf2RPz3JioAwDZRiopM6YvGazma37/X5xG3mCEwNlGCjDQCV9xtz/kenlcgnulcvsb92JgTIMFHuef2g2mwXXx+MxW0+n0+Be/prGiYEyDJRhoEoxP7i0XC6D6/zHLrVaLVvvdrvgXqvVet/GXsCJgTIMVNRvl/M/zeeVSqVsXalU3r2dl3JioAwDZRioqM+Y7Xb78H61Ws3W9D8iz3NioAwDZRioqM+Y/MNIKXFioAwDFfVL2f8MBoOit/A0JwbKMFCGgUr6jKH/lvIRJwbKMFCGgTIMlGGgDAMV3dvl0+mUrfP/oiQlTgyUYaAMAxXdGXO9XrP14XB4+LXdbvfd23kbJwbKMFCGgYrujPmJXq9X9Bae5sRAGQYqqZey/OOkX19fBe3k95wYKMNAGQYqqTPm/mHY2DkxUIaBMgxUUmdMp9MJrmN7IPaeEwNlGKjoXsruP2ZZr9fBvfF4HFzX6/VPbOktnBgow0AZBirqf72YMicGyjBQhoEyDJRhoAwDZRgow0AZBsowUIaBMgyUYaAMA2UYKMNAGQbqG+VOUc1SZFKGAAAAAElFTkSuQmCC\" y=\"-196.078594\"/>\n   </g>\n   <g id=\"matplotlib.axis_17\"/>\n   <g id=\"matplotlib.axis_18\"/>\n   <g id=\"patch_43\">\n    <path d=\"M 187.947059 269.518594 \nL 187.947059 196.142123 \n\" style=\"fill:none;stroke:#000000;stroke-linecap:square;stroke-linejoin:miter;stroke-width:0.8;\"/>\n   </g>\n   <g id=\"patch_44\">\n    <path d=\"M 261.323529 269.518594 \nL 261.323529 196.142123 \n\" style=\"fill:none;stroke:#000000;stroke-linecap:square;stroke-linejoin:miter;stroke-width:0.8;\"/>\n   </g>\n   <g id=\"patch_45\">\n    <path d=\"M 187.947059 269.518594 \nL 261.323529 269.518594 \n\" style=\"fill:none;stroke:#000000;stroke-linecap:square;stroke-linejoin:miter;stroke-width:0.8;\"/>\n   </g>\n   <g id=\"patch_46\">\n    <path d=\"M 187.947059 196.142123 \nL 261.323529 196.142123 \n\" style=\"fill:none;stroke:#000000;stroke-linecap:square;stroke-linejoin:miter;stroke-width:0.8;\"/>\n   </g>\n   <g id=\"text_9\">\n    <!-- label: 1 -->\n    <g transform=\"translate(207.942403 190.142123)scale(0.09 -0.09)\">\n     <use xlink:href=\"#DejaVuSans-6c\"/>\n     <use x=\"27.783203\" xlink:href=\"#DejaVuSans-61\"/>\n     <use x=\"89.0625\" xlink:href=\"#DejaVuSans-62\"/>\n     <use x=\"152.539062\" xlink:href=\"#DejaVuSans-65\"/>\n     <use x=\"214.0625\" xlink:href=\"#DejaVuSans-6c\"/>\n     <use x=\"241.845703\" xlink:href=\"#DejaVuSans-3a\"/>\n     <use x=\"275.537109\" xlink:href=\"#DejaVuSans-20\"/>\n     <use x=\"307.324219\" xlink:href=\"#DejaVuSans-31\"/>\n    </g>\n   </g>\n  </g>\n </g>\n <defs>\n  <clipPath id=\"pc9e899b105\">\n   <rect height=\"73.376471\" width=\"73.376471\" x=\"10.7\" y=\"20.038594\"/>\n  </clipPath>\n  <clipPath id=\"pc7c36b5a79\">\n   <rect height=\"73.376471\" width=\"73.376471\" x=\"99.323529\" y=\"20.038594\"/>\n  </clipPath>\n  <clipPath id=\"p91f38185ab\">\n   <rect height=\"73.376471\" width=\"73.376471\" x=\"187.947059\" y=\"20.038594\"/>\n  </clipPath>\n  <clipPath id=\"p0c1823e32d\">\n   <rect height=\"73.376471\" width=\"73.376471\" x=\"10.7\" y=\"108.090358\"/>\n  </clipPath>\n  <clipPath id=\"pb34404f189\">\n   <rect height=\"73.376471\" width=\"73.376471\" x=\"99.323529\" y=\"108.090358\"/>\n  </clipPath>\n  <clipPath id=\"p5be533a026\">\n   <rect height=\"73.376471\" width=\"73.376471\" x=\"187.947059\" y=\"108.090358\"/>\n  </clipPath>\n  <clipPath id=\"p1c62682a40\">\n   <rect height=\"73.376471\" width=\"73.376471\" x=\"10.7\" y=\"196.142123\"/>\n  </clipPath>\n  <clipPath id=\"p1c2b335f33\">\n   <rect height=\"73.376471\" width=\"73.376471\" x=\"99.323529\" y=\"196.142123\"/>\n  </clipPath>\n  <clipPath id=\"p7d391e1d30\">\n   <rect height=\"73.376471\" width=\"73.376471\" x=\"187.947059\" y=\"196.142123\"/>\n  </clipPath>\n </defs>\n</svg>\n",
      "text/plain": [
       "<Figure size 450x450 with 9 Axes>"
      ]
     },
     "metadata": {},
     "output_type": "display_data"
    }
   ],
   "source": [
    "set_figsize((4.5,4.5))\n",
    "\n",
    "show_img_grid(\n",
    "    [train_images[i].reshape(28,28) for i in range(9)],\n",
    "    [f\"label: {jnp.argmax(train_labels[i])}\" for i in range(9)]\n",
    ")"
   ]
  },
  {
   "cell_type": "markdown",
   "id": "0d047fcc",
   "metadata": {},
   "source": [
    "# Downscaling images as in paper"
   ]
  },
  {
   "cell_type": "code",
   "execution_count": 13,
   "id": "446f2db3",
   "metadata": {},
   "outputs": [],
   "source": [
    "def resize(img_vec: jnp.ndarray, shape: Tuple[int,int]) -> jnp.ndarray:\n",
    "    \"\"\"\n",
    "    Resizing the image vector.\n",
    "    \"\"\"\n",
    "    orig_size = jnp.sqrt(img_vec.size).astype(int)\n",
    "    img = img_vec.reshape(orig_size, orig_size)\n",
    "    img = jax.image.resize(img, shape, method='nearest')\n",
    "    return img.reshape(-1)"
   ]
  },
  {
   "cell_type": "code",
   "execution_count": 14,
   "id": "182b07a1",
   "metadata": {},
   "outputs": [],
   "source": [
    "new_shape = (14,14)\n",
    "\n",
    "resize_vmap = partial(resize, shape=new_shape)\n",
    "\n",
    "train_images_scaled = jax.vmap(resize_vmap)(train_images)\n",
    "test_images_scaled = jax.vmap(resize_vmap)(test_images)"
   ]
  },
  {
   "cell_type": "code",
   "execution_count": 15,
   "id": "df3eb272",
   "metadata": {},
   "outputs": [
    {
     "name": "stdout",
     "output_type": "stream",
     "text": [
      "Train data shape: (60000, 196) | Test data shape: (10000, 196)\n"
     ]
    }
   ],
   "source": [
    "print(f'Train data shape: {train_images_scaled.shape} | Test data shape: {test_images_scaled.shape}')"
   ]
  },
  {
   "cell_type": "code",
   "execution_count": 16,
   "id": "3906b1d5",
   "metadata": {},
   "outputs": [
    {
     "data": {
      "image/svg+xml": "<?xml version=\"1.0\" encoding=\"utf-8\" standalone=\"no\"?>\n<!DOCTYPE svg PUBLIC \"-//W3C//DTD SVG 1.1//EN\"\n  \"http://www.w3.org/Graphics/SVG/1.1/DTD/svg11.dtd\">\n<svg height=\"280.218594pt\" version=\"1.1\" viewBox=\"0 0 268.523529 280.218594\" width=\"268.523529pt\" xmlns=\"http://www.w3.org/2000/svg\" xmlns:xlink=\"http://www.w3.org/1999/xlink\">\n <metadata>\n  <rdf:RDF xmlns:cc=\"http://creativecommons.org/ns#\" xmlns:dc=\"http://purl.org/dc/elements/1.1/\" xmlns:rdf=\"http://www.w3.org/1999/02/22-rdf-syntax-ns#\">\n   <cc:Work>\n    <dc:type rdf:resource=\"http://purl.org/dc/dcmitype/StillImage\"/>\n    <dc:date>2022-04-16T15:32:18.445402</dc:date>\n    <dc:format>image/svg+xml</dc:format>\n    <dc:creator>\n     <cc:Agent>\n      <dc:title>Matplotlib v3.4.1, https://matplotlib.org/</dc:title>\n     </cc:Agent>\n    </dc:creator>\n   </cc:Work>\n  </rdf:RDF>\n </metadata>\n <defs>\n  <style type=\"text/css\">*{stroke-linecap:butt;stroke-linejoin:round;}</style>\n </defs>\n <g id=\"figure_1\">\n  <g id=\"patch_1\">\n   <path d=\"M 0 280.218594 \nL 268.523529 280.218594 \nL 268.523529 0 \nL 0 0 \nz\n\" style=\"fill:#ffffff;\"/>\n  </g>\n  <g id=\"axes_1\">\n   <g id=\"patch_2\">\n    <path d=\"M 10.7 93.415064 \nL 84.076471 93.415064 \nL 84.076471 20.038594 \nL 10.7 20.038594 \nz\n\" style=\"fill:#ffffff;\"/>\n   </g>\n   <g clip-path=\"url(#p0f78b5277e)\">\n    <image height=\"73.44\" id=\"image98bc1848d8\" transform=\"scale(1 -1)translate(0 -73.44)\" width=\"73.44\" x=\"10.7\" xlink:href=\"data:image/png;base64,\niVBORw0KGgoAAAANSUhEUgAAAGYAAABmCAYAAAA53+RiAAACL0lEQVR4nO3aIapqQRyA8XfkomAQLCZBrLoFs2vQahBcgdgEgyBmm81odgUmV+ACrIJNBMUXXn0z9zJ68Lvw/eqfmTPwOXCQkz2fz+cf4RQ+fQD9n2GgDANlGCjDQBkGyjBQhoEyDJRhoAwDZRgow0AZBurrlcXD4TA4W6/XSXuWy+Xo/Hw+B2fFYjHpmUTeGCjDQBkGyjBQhoEyDFT2ia9kjsdjcNZut5P37Xa7wdlut4uuzbIs+bl58MZAGQbKMFCGgTIMlGGgPvK6/IrpdBqczWaz5H37/X5wttlskvdN5Y2BMgyUYaAMA2UYKMNA/brX5VSlUil57e12e+NJfsYbA2UYKMNAGQbKMFCGgTIM1EsfldP0er3g7H6/R9deLpc3n+Y13hgow0AZBsowUIaBMgzUr3tdrlarwdlgMAjOvntd9qNy/YhhoAwDZRgow0AZBgr3lcxisYjOD4dDcLbdbt99nI/xxkAZBsowUIaBMgyUYaAMA/WRv/3H43Fwtlwuo2s7nU7SMyeTSXQ+n8+T9s2LNwbKMFCGgTIMlGGgDAOV29/+p9MpOGs0Gnk8MqpQiP8G9/t9cFar1YKzZrOZfKYYbwyUYaAMA2UYKMNAGQYqt3+X6/V6cPZ4PJL3vV6vSetWq1V03mq1grNKpZK072g0+v5gAd4YKMNAGQbKMFCGgTIMFO6jcv3jjYEyDJRhoAwDZRgow0AZBsowUIaBMgyUYaAMA2UYKMNA/QVCWFsk2a/1DAAAAABJRU5ErkJggg==\" y=\"-19.975064\"/>\n   </g>\n   <g id=\"matplotlib.axis_1\"/>\n   <g id=\"matplotlib.axis_2\"/>\n   <g id=\"patch_3\">\n    <path d=\"M 10.7 93.415064 \nL 10.7 20.038594 \n\" style=\"fill:none;stroke:#000000;stroke-linecap:square;stroke-linejoin:miter;stroke-width:0.8;\"/>\n   </g>\n   <g id=\"patch_4\">\n    <path d=\"M 84.076471 93.415064 \nL 84.076471 20.038594 \n\" style=\"fill:none;stroke:#000000;stroke-linecap:square;stroke-linejoin:miter;stroke-width:0.8;\"/>\n   </g>\n   <g id=\"patch_5\">\n    <path d=\"M 10.7 93.415064 \nL 84.076471 93.415064 \n\" style=\"fill:none;stroke:#000000;stroke-linecap:square;stroke-linejoin:miter;stroke-width:0.8;\"/>\n   </g>\n   <g id=\"patch_6\">\n    <path d=\"M 10.7 20.038594 \nL 84.076471 20.038594 \n\" style=\"fill:none;stroke:#000000;stroke-linecap:square;stroke-linejoin:miter;stroke-width:0.8;\"/>\n   </g>\n   <g id=\"text_1\">\n    <!-- label: 5 -->\n    <g transform=\"translate(30.695345 14.038594)scale(0.09 -0.09)\">\n     <defs>\n      <path d=\"M 603 4863 \nL 1178 4863 \nL 1178 0 \nL 603 0 \nL 603 4863 \nz\n\" id=\"DejaVuSans-6c\" transform=\"scale(0.015625)\"/>\n      <path d=\"M 2194 1759 \nQ 1497 1759 1228 1600 \nQ 959 1441 959 1056 \nQ 959 750 1161 570 \nQ 1363 391 1709 391 \nQ 2188 391 2477 730 \nQ 2766 1069 2766 1631 \nL 2766 1759 \nL 2194 1759 \nz\nM 3341 1997 \nL 3341 0 \nL 2766 0 \nL 2766 531 \nQ 2569 213 2275 61 \nQ 1981 -91 1556 -91 \nQ 1019 -91 701 211 \nQ 384 513 384 1019 \nQ 384 1609 779 1909 \nQ 1175 2209 1959 2209 \nL 2766 2209 \nL 2766 2266 \nQ 2766 2663 2505 2880 \nQ 2244 3097 1772 3097 \nQ 1472 3097 1187 3025 \nQ 903 2953 641 2809 \nL 641 3341 \nQ 956 3463 1253 3523 \nQ 1550 3584 1831 3584 \nQ 2591 3584 2966 3190 \nQ 3341 2797 3341 1997 \nz\n\" id=\"DejaVuSans-61\" transform=\"scale(0.015625)\"/>\n      <path d=\"M 3116 1747 \nQ 3116 2381 2855 2742 \nQ 2594 3103 2138 3103 \nQ 1681 3103 1420 2742 \nQ 1159 2381 1159 1747 \nQ 1159 1113 1420 752 \nQ 1681 391 2138 391 \nQ 2594 391 2855 752 \nQ 3116 1113 3116 1747 \nz\nM 1159 2969 \nQ 1341 3281 1617 3432 \nQ 1894 3584 2278 3584 \nQ 2916 3584 3314 3078 \nQ 3713 2572 3713 1747 \nQ 3713 922 3314 415 \nQ 2916 -91 2278 -91 \nQ 1894 -91 1617 61 \nQ 1341 213 1159 525 \nL 1159 0 \nL 581 0 \nL 581 4863 \nL 1159 4863 \nL 1159 2969 \nz\n\" id=\"DejaVuSans-62\" transform=\"scale(0.015625)\"/>\n      <path d=\"M 3597 1894 \nL 3597 1613 \nL 953 1613 \nQ 991 1019 1311 708 \nQ 1631 397 2203 397 \nQ 2534 397 2845 478 \nQ 3156 559 3463 722 \nL 3463 178 \nQ 3153 47 2828 -22 \nQ 2503 -91 2169 -91 \nQ 1331 -91 842 396 \nQ 353 884 353 1716 \nQ 353 2575 817 3079 \nQ 1281 3584 2069 3584 \nQ 2775 3584 3186 3129 \nQ 3597 2675 3597 1894 \nz\nM 3022 2063 \nQ 3016 2534 2758 2815 \nQ 2500 3097 2075 3097 \nQ 1594 3097 1305 2825 \nQ 1016 2553 972 2059 \nL 3022 2063 \nz\n\" id=\"DejaVuSans-65\" transform=\"scale(0.015625)\"/>\n      <path d=\"M 750 794 \nL 1409 794 \nL 1409 0 \nL 750 0 \nL 750 794 \nz\nM 750 3309 \nL 1409 3309 \nL 1409 2516 \nL 750 2516 \nL 750 3309 \nz\n\" id=\"DejaVuSans-3a\" transform=\"scale(0.015625)\"/>\n      <path id=\"DejaVuSans-20\" transform=\"scale(0.015625)\"/>\n      <path d=\"M 691 4666 \nL 3169 4666 \nL 3169 4134 \nL 1269 4134 \nL 1269 2991 \nQ 1406 3038 1543 3061 \nQ 1681 3084 1819 3084 \nQ 2600 3084 3056 2656 \nQ 3513 2228 3513 1497 \nQ 3513 744 3044 326 \nQ 2575 -91 1722 -91 \nQ 1428 -91 1123 -41 \nQ 819 9 494 109 \nL 494 744 \nQ 775 591 1075 516 \nQ 1375 441 1709 441 \nQ 2250 441 2565 725 \nQ 2881 1009 2881 1497 \nQ 2881 1984 2565 2268 \nQ 2250 2553 1709 2553 \nQ 1456 2553 1204 2497 \nQ 953 2441 691 2322 \nL 691 4666 \nz\n\" id=\"DejaVuSans-35\" transform=\"scale(0.015625)\"/>\n     </defs>\n     <use xlink:href=\"#DejaVuSans-6c\"/>\n     <use x=\"27.783203\" xlink:href=\"#DejaVuSans-61\"/>\n     <use x=\"89.0625\" xlink:href=\"#DejaVuSans-62\"/>\n     <use x=\"152.539062\" xlink:href=\"#DejaVuSans-65\"/>\n     <use x=\"214.0625\" xlink:href=\"#DejaVuSans-6c\"/>\n     <use x=\"241.845703\" xlink:href=\"#DejaVuSans-3a\"/>\n     <use x=\"275.537109\" xlink:href=\"#DejaVuSans-20\"/>\n     <use x=\"307.324219\" xlink:href=\"#DejaVuSans-35\"/>\n    </g>\n   </g>\n  </g>\n  <g id=\"axes_2\">\n   <g id=\"patch_7\">\n    <path d=\"M 99.323529 93.415064 \nL 172.7 93.415064 \nL 172.7 20.038594 \nL 99.323529 20.038594 \nz\n\" style=\"fill:#ffffff;\"/>\n   </g>\n   <g clip-path=\"url(#p826578eba1)\">\n    <image height=\"73.44\" id=\"imagec559431cc1\" transform=\"scale(1 -1)translate(0 -73.44)\" width=\"73.44\" x=\"99.323529\" xlink:href=\"data:image/png;base64,\niVBORw0KGgoAAAANSUhEUgAAAGYAAABmCAYAAAA53+RiAAACQUlEQVR4nO3bMWpqQRhA4SiinaAiWItgo61Y2rmFgEtwA67EwsJOsRI71+EG7EVEi5QhpnvV+ydwH4PnhfO1P04mHAauk5vS8/l8vgmn/OoN6O8MA2UYKMNAGQbKMFCGgTIMlGGgDANlGCjDQBkGyjBQlVwLf3x8hLN6vV543ev1Gs5arVbhdWk8MVCGgTIMlGGgDANlGKhsj8tFH4kHg0Fy3m63w9l0Og1nx+Ox0H5exRMDZRgow0AZBsowUIaByva4nHpXPdd77NvtNpyVSqXkZ2nv1ntioAwDZRgow0AZBsowUKVc/4NZLsfNv76+cvzIpM/Pz+S8Wq2Gs9PpFM6Gw2HhPaV4YqAMA2UYKMNAGQbKMFCGgcp27V+r1cLZbrcLZ+/v7zm281appH/V1HerV3wn88RAGQbKMFCGgTIMlGGgsl37n8/ncNbr9cLZK/4k8BMfl/WHYaAMA2UYKMNAGQYq2+1yt9sNZ/P5PJx1Op3kuofDIZyNx+Mf9/W/8MRAGQbKMFCGgTIMlGGgDAOV7dq/qGazmZzf7/dwttlswtlisUiuu9/vw9l6vQ5ny+UyuW5Rnhgow0AZBsowUIaBMgxUtmv/oi6XS3Le7/fD2Ww2C2eTySS57mg0Cmer1Sr52Rw8MVCGgTIMlGGgDANlGCjc7fK/SN1MPx6P5GcbjUY4u91uRbdUmCcGyjBQhoEyDJRhoAwD9asel38TTwyUYaAMA2UYKMNAGQbKMFCGgTIMlGGgDANlGCjDQBkG6ht6sWbBYLfHugAAAABJRU5ErkJggg==\" y=\"-19.975064\"/>\n   </g>\n   <g id=\"matplotlib.axis_3\"/>\n   <g id=\"matplotlib.axis_4\"/>\n   <g id=\"patch_8\">\n    <path d=\"M 99.323529 93.415064 \nL 99.323529 20.038594 \n\" style=\"fill:none;stroke:#000000;stroke-linecap:square;stroke-linejoin:miter;stroke-width:0.8;\"/>\n   </g>\n   <g id=\"patch_9\">\n    <path d=\"M 172.7 93.415064 \nL 172.7 20.038594 \n\" style=\"fill:none;stroke:#000000;stroke-linecap:square;stroke-linejoin:miter;stroke-width:0.8;\"/>\n   </g>\n   <g id=\"patch_10\">\n    <path d=\"M 99.323529 93.415064 \nL 172.7 93.415064 \n\" style=\"fill:none;stroke:#000000;stroke-linecap:square;stroke-linejoin:miter;stroke-width:0.8;\"/>\n   </g>\n   <g id=\"patch_11\">\n    <path d=\"M 99.323529 20.038594 \nL 172.7 20.038594 \n\" style=\"fill:none;stroke:#000000;stroke-linecap:square;stroke-linejoin:miter;stroke-width:0.8;\"/>\n   </g>\n   <g id=\"text_2\">\n    <!-- label: 0 -->\n    <g transform=\"translate(119.318874 14.038594)scale(0.09 -0.09)\">\n     <defs>\n      <path d=\"M 2034 4250 \nQ 1547 4250 1301 3770 \nQ 1056 3291 1056 2328 \nQ 1056 1369 1301 889 \nQ 1547 409 2034 409 \nQ 2525 409 2770 889 \nQ 3016 1369 3016 2328 \nQ 3016 3291 2770 3770 \nQ 2525 4250 2034 4250 \nz\nM 2034 4750 \nQ 2819 4750 3233 4129 \nQ 3647 3509 3647 2328 \nQ 3647 1150 3233 529 \nQ 2819 -91 2034 -91 \nQ 1250 -91 836 529 \nQ 422 1150 422 2328 \nQ 422 3509 836 4129 \nQ 1250 4750 2034 4750 \nz\n\" id=\"DejaVuSans-30\" transform=\"scale(0.015625)\"/>\n     </defs>\n     <use xlink:href=\"#DejaVuSans-6c\"/>\n     <use x=\"27.783203\" xlink:href=\"#DejaVuSans-61\"/>\n     <use x=\"89.0625\" xlink:href=\"#DejaVuSans-62\"/>\n     <use x=\"152.539062\" xlink:href=\"#DejaVuSans-65\"/>\n     <use x=\"214.0625\" xlink:href=\"#DejaVuSans-6c\"/>\n     <use x=\"241.845703\" xlink:href=\"#DejaVuSans-3a\"/>\n     <use x=\"275.537109\" xlink:href=\"#DejaVuSans-20\"/>\n     <use x=\"307.324219\" xlink:href=\"#DejaVuSans-30\"/>\n    </g>\n   </g>\n  </g>\n  <g id=\"axes_3\">\n   <g id=\"patch_12\">\n    <path d=\"M 187.947059 93.415064 \nL 261.323529 93.415064 \nL 261.323529 20.038594 \nL 187.947059 20.038594 \nz\n\" style=\"fill:#ffffff;\"/>\n   </g>\n   <g clip-path=\"url(#p462d681f84)\">\n    <image height=\"73.44\" id=\"image3d3bb86ae0\" transform=\"scale(1 -1)translate(0 -73.44)\" width=\"73.44\" x=\"187.947059\" xlink:href=\"data:image/png;base64,\niVBORw0KGgoAAAANSUhEUgAAAGYAAABmCAYAAAA53+RiAAACEklEQVR4nO3coWqCYRSA4TkXTGLWZBLvQDAY9ELEIHgBFsFsNlktgsWrMBiN3oGXIIiCC1qEnW8wdf879j718OmBlw/+/WzLXS6Xy5tw3rNeQF8zDJRhoAwDZRgow0AZBsowUIaBMgyUYaAMA2UYKMNAfWS9wG8ZDAbJealUCmeTyeTJ23zPGwNlGCjDQBkGyjBQhoH6N4/L3+l0OlmvcMcbA2UYKMNAGQbKMFCGgfJx+aZarWa9wh1vDJRhoAwDZRgow0AZBsrH5ZvVahXOhsPhL25y5Y2BMgyUYaAMA2UYKMNAGQYql/pfMuPxOHl4NpuFs1qtFs42m004y+fzye9st9vhbDQahbNms5n83EKhEM5Op1Py7Ct4Y6AMA2UYKMNAGQbKMFDJ1/6HwyF5eL1eh7N6vf6zjR5wPB7DWa/XS549n8/PXuch3hgow0AZBsowUIaBMgxU8u3yfD5PHt5ut+FsOp3+eKksVCqVcLbb7cJZsVh8xTreGCrDQBkGyjBQhoEyDJRhoJKv/bvdbvJw6ueYv6bVaoWz5XIZzvr9/ivW8cZQGQbKMFCGgTIMlGGg/OPYm8ViEc4ajUY483H5nzEMlGGgDANlGCjDQCV/S0ZX5XI5nO33+5d8pzcGyjBQhoEyDJRhoAwD5eMylDcGyjBQhoEyDJRhoAwDZRgow0AZBsowUIaBMgyUYaAMA/UJjXxMP/Ut2UEAAAAASUVORK5CYII=\" y=\"-19.975064\"/>\n   </g>\n   <g id=\"matplotlib.axis_5\"/>\n   <g id=\"matplotlib.axis_6\"/>\n   <g id=\"patch_13\">\n    <path d=\"M 187.947059 93.415064 \nL 187.947059 20.038594 \n\" style=\"fill:none;stroke:#000000;stroke-linecap:square;stroke-linejoin:miter;stroke-width:0.8;\"/>\n   </g>\n   <g id=\"patch_14\">\n    <path d=\"M 261.323529 93.415064 \nL 261.323529 20.038594 \n\" style=\"fill:none;stroke:#000000;stroke-linecap:square;stroke-linejoin:miter;stroke-width:0.8;\"/>\n   </g>\n   <g id=\"patch_15\">\n    <path d=\"M 187.947059 93.415064 \nL 261.323529 93.415064 \n\" style=\"fill:none;stroke:#000000;stroke-linecap:square;stroke-linejoin:miter;stroke-width:0.8;\"/>\n   </g>\n   <g id=\"patch_16\">\n    <path d=\"M 187.947059 20.038594 \nL 261.323529 20.038594 \n\" style=\"fill:none;stroke:#000000;stroke-linecap:square;stroke-linejoin:miter;stroke-width:0.8;\"/>\n   </g>\n   <g id=\"text_3\">\n    <!-- label: 4 -->\n    <g transform=\"translate(207.942403 14.038594)scale(0.09 -0.09)\">\n     <defs>\n      <path d=\"M 2419 4116 \nL 825 1625 \nL 2419 1625 \nL 2419 4116 \nz\nM 2253 4666 \nL 3047 4666 \nL 3047 1625 \nL 3713 1625 \nL 3713 1100 \nL 3047 1100 \nL 3047 0 \nL 2419 0 \nL 2419 1100 \nL 313 1100 \nL 313 1709 \nL 2253 4666 \nz\n\" id=\"DejaVuSans-34\" transform=\"scale(0.015625)\"/>\n     </defs>\n     <use xlink:href=\"#DejaVuSans-6c\"/>\n     <use x=\"27.783203\" xlink:href=\"#DejaVuSans-61\"/>\n     <use x=\"89.0625\" xlink:href=\"#DejaVuSans-62\"/>\n     <use x=\"152.539062\" xlink:href=\"#DejaVuSans-65\"/>\n     <use x=\"214.0625\" xlink:href=\"#DejaVuSans-6c\"/>\n     <use x=\"241.845703\" xlink:href=\"#DejaVuSans-3a\"/>\n     <use x=\"275.537109\" xlink:href=\"#DejaVuSans-20\"/>\n     <use x=\"307.324219\" xlink:href=\"#DejaVuSans-34\"/>\n    </g>\n   </g>\n  </g>\n  <g id=\"axes_4\">\n   <g id=\"patch_17\">\n    <path d=\"M 10.7 181.466829 \nL 84.076471 181.466829 \nL 84.076471 108.090358 \nL 10.7 108.090358 \nz\n\" style=\"fill:#ffffff;\"/>\n   </g>\n   <g clip-path=\"url(#p73f3a11de9)\">\n    <image height=\"73.44\" id=\"image5e72d47174\" transform=\"scale(1 -1)translate(0 -73.44)\" width=\"73.44\" x=\"10.7\" xlink:href=\"data:image/png;base64,\niVBORw0KGgoAAAANSUhEUgAAAGYAAABmCAYAAAA53+RiAAACAElEQVR4nO3dPYrCUBRA4ZfRwlaws/VnFxZCavfiPqzciQvQbSgi2NvY2SiZDcx9QozkTDhfe8nMGw4XooRMUVVVlYTz0/YB9DfDQBkGyjBQhoEyDJRhoAwDZRgow0AZBsowUIaBMgxUv41f2uv1wtlkMsleezqdmj4OkhsDZRgow0AZBsowUIaBauV2eTweh7Pr9Zq99vl8hrN+v5U/5yvcGCjDQBkGyjBQhoEyDFRBe6g8981zSikdDodwtlgsmj5Oa9wYKMNAGQbKMFCGgTIMFO52eTabZeeXyyWcvV6vpo/TGjcGyjBQhoEyDJRhoAwDZRgo3OeY+/2enQ+Hw3C2Xq/D2WazqXukVrgxUIaBMgyUYaAMA2UYKNzt8ju73S6crVarcPZ4PLI/dzAY1D7TN7gxUIaBMgyUYaAMA2UYqH93u5xTFEU4G41G2Wtvt1vTx/mIGwNlGCjDQBkGyjBQhoEyDFR3Xr6SUjqfz+FsPp9nr93v9+FsuVzWPlNdbgyUYaAMA2UYKMNAGQaqU7fLubecb7fb7LVlWYaz4/EYzqbT6fuD1eDGQBkGyjBQhoEyDJRhoDr1lMwnck/Y5P6Z0Lt339TlxkAZBsowUIaBMgyUYaA69e3yJ2ifGtwYKMNAGQbKMFCGgTIMlGGgDANlGCjDQBkGyjBQhoEyDNQvSk9Pk6bFqsgAAAAASUVORK5CYII=\" y=\"-108.026829\"/>\n   </g>\n   <g id=\"matplotlib.axis_7\"/>\n   <g id=\"matplotlib.axis_8\"/>\n   <g id=\"patch_18\">\n    <path d=\"M 10.7 181.466829 \nL 10.7 108.090358 \n\" style=\"fill:none;stroke:#000000;stroke-linecap:square;stroke-linejoin:miter;stroke-width:0.8;\"/>\n   </g>\n   <g id=\"patch_19\">\n    <path d=\"M 84.076471 181.466829 \nL 84.076471 108.090358 \n\" style=\"fill:none;stroke:#000000;stroke-linecap:square;stroke-linejoin:miter;stroke-width:0.8;\"/>\n   </g>\n   <g id=\"patch_20\">\n    <path d=\"M 10.7 181.466829 \nL 84.076471 181.466829 \n\" style=\"fill:none;stroke:#000000;stroke-linecap:square;stroke-linejoin:miter;stroke-width:0.8;\"/>\n   </g>\n   <g id=\"patch_21\">\n    <path d=\"M 10.7 108.090358 \nL 84.076471 108.090358 \n\" style=\"fill:none;stroke:#000000;stroke-linecap:square;stroke-linejoin:miter;stroke-width:0.8;\"/>\n   </g>\n   <g id=\"text_4\">\n    <!-- label: 1 -->\n    <g transform=\"translate(30.695345 102.090358)scale(0.09 -0.09)\">\n     <defs>\n      <path d=\"M 794 531 \nL 1825 531 \nL 1825 4091 \nL 703 3866 \nL 703 4441 \nL 1819 4666 \nL 2450 4666 \nL 2450 531 \nL 3481 531 \nL 3481 0 \nL 794 0 \nL 794 531 \nz\n\" id=\"DejaVuSans-31\" transform=\"scale(0.015625)\"/>\n     </defs>\n     <use xlink:href=\"#DejaVuSans-6c\"/>\n     <use x=\"27.783203\" xlink:href=\"#DejaVuSans-61\"/>\n     <use x=\"89.0625\" xlink:href=\"#DejaVuSans-62\"/>\n     <use x=\"152.539062\" xlink:href=\"#DejaVuSans-65\"/>\n     <use x=\"214.0625\" xlink:href=\"#DejaVuSans-6c\"/>\n     <use x=\"241.845703\" xlink:href=\"#DejaVuSans-3a\"/>\n     <use x=\"275.537109\" xlink:href=\"#DejaVuSans-20\"/>\n     <use x=\"307.324219\" xlink:href=\"#DejaVuSans-31\"/>\n    </g>\n   </g>\n  </g>\n  <g id=\"axes_5\">\n   <g id=\"patch_22\">\n    <path d=\"M 99.323529 181.466829 \nL 172.7 181.466829 \nL 172.7 108.090358 \nL 99.323529 108.090358 \nz\n\" style=\"fill:#ffffff;\"/>\n   </g>\n   <g clip-path=\"url(#p72a8ff45c9)\">\n    <image height=\"73.44\" id=\"image299e9a2cae\" transform=\"scale(1 -1)translate(0 -73.44)\" width=\"73.44\" x=\"99.323529\" xlink:href=\"data:image/png;base64,\niVBORw0KGgoAAAANSUhEUgAAAGYAAABmCAYAAAA53+RiAAAB/klEQVR4nO3cMZLBcBSA8cSoaTQUZhRuwBlcwQWcwzmoVCqFo+gdQKdRk73AvlcgySfz/do3yWTn2zdj/5NVVlVVFcLptf0A+p9hoAwDZRgow0AZBqrf9gN803q9DmeDwSC9dr/ff/txPuLGQBkGyjBQhoEyDJRhoAwDVXbp2L/Xi3/PXq9Xg0/yOTcGyjBQhoEyDJRhoAwD9XPH/ufzue1HaIQbA2UYKMNAGQbKMFCGgfJ0GcqNgTIMlGGgDANlGCjDQP3c6fL1eg1nHfrk78ZQGQbKMFCGgTIMlGGgDANV298xk8kknN1ut3BWlmV63+l0+va1v8SNgTIMlGGgDANlGCjDQNX2lsx4PA5nq9UqnB0Oh/S+9/s9nI1Go3C22WzS++52u3TeNDcGyjBQhoEyDJRhoAwDVdvp8rsnyLPZLL3vdrsNZ9mL49kL50WRf5xeLBbptXVwY6AMA2UYKMNAGQbKMFCGgWrlbf/n8xnOhsNheu3lcglnp9MpnGVfL18URbFcLsNZG/9F4MZAGQbKMFCGgTIMlGGgWvm4nB3BPx6P9Nrs2L/fj3+c4/GY3nc+n6fzprkxUIaBMgyUYaAMA2UYqE599WKXuDFQhoEyDJRhoAwDZRgow0AZBsowUIaBMgyUYaAMA2UYKMNAGQbKMFCGgTIMlGGgDAP1By5wTitmNf0yAAAAAElFTkSuQmCC\" y=\"-108.026829\"/>\n   </g>\n   <g id=\"matplotlib.axis_9\"/>\n   <g id=\"matplotlib.axis_10\"/>\n   <g id=\"patch_23\">\n    <path d=\"M 99.323529 181.466829 \nL 99.323529 108.090358 \n\" style=\"fill:none;stroke:#000000;stroke-linecap:square;stroke-linejoin:miter;stroke-width:0.8;\"/>\n   </g>\n   <g id=\"patch_24\">\n    <path d=\"M 172.7 181.466829 \nL 172.7 108.090358 \n\" style=\"fill:none;stroke:#000000;stroke-linecap:square;stroke-linejoin:miter;stroke-width:0.8;\"/>\n   </g>\n   <g id=\"patch_25\">\n    <path d=\"M 99.323529 181.466829 \nL 172.7 181.466829 \n\" style=\"fill:none;stroke:#000000;stroke-linecap:square;stroke-linejoin:miter;stroke-width:0.8;\"/>\n   </g>\n   <g id=\"patch_26\">\n    <path d=\"M 99.323529 108.090358 \nL 172.7 108.090358 \n\" style=\"fill:none;stroke:#000000;stroke-linecap:square;stroke-linejoin:miter;stroke-width:0.8;\"/>\n   </g>\n   <g id=\"text_5\">\n    <!-- label: 9 -->\n    <g transform=\"translate(119.318874 102.090358)scale(0.09 -0.09)\">\n     <defs>\n      <path d=\"M 703 97 \nL 703 672 \nQ 941 559 1184 500 \nQ 1428 441 1663 441 \nQ 2288 441 2617 861 \nQ 2947 1281 2994 2138 \nQ 2813 1869 2534 1725 \nQ 2256 1581 1919 1581 \nQ 1219 1581 811 2004 \nQ 403 2428 403 3163 \nQ 403 3881 828 4315 \nQ 1253 4750 1959 4750 \nQ 2769 4750 3195 4129 \nQ 3622 3509 3622 2328 \nQ 3622 1225 3098 567 \nQ 2575 -91 1691 -91 \nQ 1453 -91 1209 -44 \nQ 966 3 703 97 \nz\nM 1959 2075 \nQ 2384 2075 2632 2365 \nQ 2881 2656 2881 3163 \nQ 2881 3666 2632 3958 \nQ 2384 4250 1959 4250 \nQ 1534 4250 1286 3958 \nQ 1038 3666 1038 3163 \nQ 1038 2656 1286 2365 \nQ 1534 2075 1959 2075 \nz\n\" id=\"DejaVuSans-39\" transform=\"scale(0.015625)\"/>\n     </defs>\n     <use xlink:href=\"#DejaVuSans-6c\"/>\n     <use x=\"27.783203\" xlink:href=\"#DejaVuSans-61\"/>\n     <use x=\"89.0625\" xlink:href=\"#DejaVuSans-62\"/>\n     <use x=\"152.539062\" xlink:href=\"#DejaVuSans-65\"/>\n     <use x=\"214.0625\" xlink:href=\"#DejaVuSans-6c\"/>\n     <use x=\"241.845703\" xlink:href=\"#DejaVuSans-3a\"/>\n     <use x=\"275.537109\" xlink:href=\"#DejaVuSans-20\"/>\n     <use x=\"307.324219\" xlink:href=\"#DejaVuSans-39\"/>\n    </g>\n   </g>\n  </g>\n  <g id=\"axes_6\">\n   <g id=\"patch_27\">\n    <path d=\"M 187.947059 181.466829 \nL 261.323529 181.466829 \nL 261.323529 108.090358 \nL 187.947059 108.090358 \nz\n\" style=\"fill:#ffffff;\"/>\n   </g>\n   <g clip-path=\"url(#pf0cef76949)\">\n    <image height=\"73.44\" id=\"imagea083da5586\" transform=\"scale(1 -1)translate(0 -73.44)\" width=\"73.44\" x=\"187.947059\" xlink:href=\"data:image/png;base64,\niVBORw0KGgoAAAANSUhEUgAAAGYAAABmCAYAAAA53+RiAAACbElEQVR4nO3csY4pARiG4bOik+h0CtyCygXQ6DXEJVC5CyqdKEioVBKJRhQ6l6EQCQUiJCJhu63O/28ys+LL5H3aLzOzm3cnGbvs1+v1ev2DnNinvwD8H2FEEUYUYUQRRhRhRBFGFGFEEUYUYUQRRhRhRBFGFGFEEUYUYUQRRhRhRBFGFGFEEUZUPMzBhULB3NbrdaBzDodDd69Wq+YWi0Xn5yw630nEEEYUYUQRRhRhRBFG1FeYN5VPp1Nzq9Vq5rbf782t2Wy61+z3++Z2Op3MLZlMuuf1rFYrc+v1euY2Go0CX5M7RhRhRBFGFGFEEUYUYUSFelz2dDodc2u1WuZ2u93c8z6fT3NLJBLm1u123fM2Gg1zq1Qq5tZut80tnU671/Rwx4gijCjCiCKMKMKIIowowoh62+sYz2azMbdsNuse6702OB6P5na9Xt3zDgYDc6vX6+6x78AdI4owoggjijCiCCOKMKI+8rgcxmQyMbfz+Wxu4/HYPa/3J4PZbPb7F/bHuGNEEUYUYUQRRhRhRBFG1Ecely+Xi7kdDgf32FwuF+ia8/nc3cvlsrl578x5F+4YUYQRRRhRhBFFGFGEEUUYUR95HbNYLMytVCoFPq/34djH4+Eem0qlzI3XMfhBGFGEEUUYUYQRRRhRcu+S+e3X/plMxty8D9bm83n3vNvt1tx2u5177Dtwx4gijCjCiCKMKMKIIowoucflMO73u7ktl0v32GKxaG7xeKh/6B4Id4wowogijCjCiCKMKMKIitTjcpRwx4gijCjCiCKMKMKIIowowogijCjCiCKMKMKIIowowogijKhv3X2OnRb2hJoAAAAASUVORK5CYII=\" y=\"-108.026829\"/>\n   </g>\n   <g id=\"matplotlib.axis_11\"/>\n   <g id=\"matplotlib.axis_12\"/>\n   <g id=\"patch_28\">\n    <path d=\"M 187.947059 181.466829 \nL 187.947059 108.090358 \n\" style=\"fill:none;stroke:#000000;stroke-linecap:square;stroke-linejoin:miter;stroke-width:0.8;\"/>\n   </g>\n   <g id=\"patch_29\">\n    <path d=\"M 261.323529 181.466829 \nL 261.323529 108.090358 \n\" style=\"fill:none;stroke:#000000;stroke-linecap:square;stroke-linejoin:miter;stroke-width:0.8;\"/>\n   </g>\n   <g id=\"patch_30\">\n    <path d=\"M 187.947059 181.466829 \nL 261.323529 181.466829 \n\" style=\"fill:none;stroke:#000000;stroke-linecap:square;stroke-linejoin:miter;stroke-width:0.8;\"/>\n   </g>\n   <g id=\"patch_31\">\n    <path d=\"M 187.947059 108.090358 \nL 261.323529 108.090358 \n\" style=\"fill:none;stroke:#000000;stroke-linecap:square;stroke-linejoin:miter;stroke-width:0.8;\"/>\n   </g>\n   <g id=\"text_6\">\n    <!-- label: 2 -->\n    <g transform=\"translate(207.942403 102.090358)scale(0.09 -0.09)\">\n     <defs>\n      <path d=\"M 1228 531 \nL 3431 531 \nL 3431 0 \nL 469 0 \nL 469 531 \nQ 828 903 1448 1529 \nQ 2069 2156 2228 2338 \nQ 2531 2678 2651 2914 \nQ 2772 3150 2772 3378 \nQ 2772 3750 2511 3984 \nQ 2250 4219 1831 4219 \nQ 1534 4219 1204 4116 \nQ 875 4013 500 3803 \nL 500 4441 \nQ 881 4594 1212 4672 \nQ 1544 4750 1819 4750 \nQ 2544 4750 2975 4387 \nQ 3406 4025 3406 3419 \nQ 3406 3131 3298 2873 \nQ 3191 2616 2906 2266 \nQ 2828 2175 2409 1742 \nQ 1991 1309 1228 531 \nz\n\" id=\"DejaVuSans-32\" transform=\"scale(0.015625)\"/>\n     </defs>\n     <use xlink:href=\"#DejaVuSans-6c\"/>\n     <use x=\"27.783203\" xlink:href=\"#DejaVuSans-61\"/>\n     <use x=\"89.0625\" xlink:href=\"#DejaVuSans-62\"/>\n     <use x=\"152.539062\" xlink:href=\"#DejaVuSans-65\"/>\n     <use x=\"214.0625\" xlink:href=\"#DejaVuSans-6c\"/>\n     <use x=\"241.845703\" xlink:href=\"#DejaVuSans-3a\"/>\n     <use x=\"275.537109\" xlink:href=\"#DejaVuSans-20\"/>\n     <use x=\"307.324219\" xlink:href=\"#DejaVuSans-32\"/>\n    </g>\n   </g>\n  </g>\n  <g id=\"axes_7\">\n   <g id=\"patch_32\">\n    <path d=\"M 10.7 269.518594 \nL 84.076471 269.518594 \nL 84.076471 196.142123 \nL 10.7 196.142123 \nz\n\" style=\"fill:#ffffff;\"/>\n   </g>\n   <g clip-path=\"url(#pb603c4b372)\">\n    <image height=\"73.44\" id=\"image652462314a\" transform=\"scale(1 -1)translate(0 -73.44)\" width=\"73.44\" x=\"10.7\" xlink:href=\"data:image/png;base64,\niVBORw0KGgoAAAANSUhEUgAAAGYAAABmCAYAAAA53+RiAAABhklEQVR4nO3cu23CABRA0RilpWYRGtZjCoZgFeagRaLHWSAQybLlQ7intYweXJ5kvsM4juNXOJu1B8jvCoMqDKowqMKgCoMqDKowqMKgCoMqDKowqMKgCoP6XnuAOe33+6fHLpfLy3O1Tz/aGFRhUIVBFQZVGFRhUMN/+pbMZvP8efbX3dQehjYGVRhUYVCFQRUGVRjU2727fD6fJ513PB5nnmRZbQyqMKjCoAqDKgyqMKi3e3d5GIZJx67X68vb3e12k2daQhuDKgyqMKjCoAqDKgyqMKiPeR3zeDyWGGcxbQyqMKjCoAqDKgyqMKjCoAqDKgyqMKjCoAqDKgyqMKjCoAqDKgyqMKjCoAqDKgyK+3Hs/X6ffO7pdJpxknW1MajCoAqDKgyqMKjCoLjL5e12O/ncw+Ew4yTramNQhUEVBlUYVGFQhUFxl8u3223tEQhtDKowqMKgCoMqDKowqLf7y5JP0cagCoMqDKowqMKgCoMqDKowqMKgCoMqDKowqMKgCoP6AW2UMotl8+79AAAAAElFTkSuQmCC\" y=\"-196.078594\"/>\n   </g>\n   <g id=\"matplotlib.axis_13\"/>\n   <g id=\"matplotlib.axis_14\"/>\n   <g id=\"patch_33\">\n    <path d=\"M 10.7 269.518594 \nL 10.7 196.142123 \n\" style=\"fill:none;stroke:#000000;stroke-linecap:square;stroke-linejoin:miter;stroke-width:0.8;\"/>\n   </g>\n   <g id=\"patch_34\">\n    <path d=\"M 84.076471 269.518594 \nL 84.076471 196.142123 \n\" style=\"fill:none;stroke:#000000;stroke-linecap:square;stroke-linejoin:miter;stroke-width:0.8;\"/>\n   </g>\n   <g id=\"patch_35\">\n    <path d=\"M 10.7 269.518594 \nL 84.076471 269.518594 \n\" style=\"fill:none;stroke:#000000;stroke-linecap:square;stroke-linejoin:miter;stroke-width:0.8;\"/>\n   </g>\n   <g id=\"patch_36\">\n    <path d=\"M 10.7 196.142123 \nL 84.076471 196.142123 \n\" style=\"fill:none;stroke:#000000;stroke-linecap:square;stroke-linejoin:miter;stroke-width:0.8;\"/>\n   </g>\n   <g id=\"text_7\">\n    <!-- label: 1 -->\n    <g transform=\"translate(30.695345 190.142123)scale(0.09 -0.09)\">\n     <use xlink:href=\"#DejaVuSans-6c\"/>\n     <use x=\"27.783203\" xlink:href=\"#DejaVuSans-61\"/>\n     <use x=\"89.0625\" xlink:href=\"#DejaVuSans-62\"/>\n     <use x=\"152.539062\" xlink:href=\"#DejaVuSans-65\"/>\n     <use x=\"214.0625\" xlink:href=\"#DejaVuSans-6c\"/>\n     <use x=\"241.845703\" xlink:href=\"#DejaVuSans-3a\"/>\n     <use x=\"275.537109\" xlink:href=\"#DejaVuSans-20\"/>\n     <use x=\"307.324219\" xlink:href=\"#DejaVuSans-31\"/>\n    </g>\n   </g>\n  </g>\n  <g id=\"axes_8\">\n   <g id=\"patch_37\">\n    <path d=\"M 99.323529 269.518594 \nL 172.7 269.518594 \nL 172.7 196.142123 \nL 99.323529 196.142123 \nz\n\" style=\"fill:#ffffff;\"/>\n   </g>\n   <g clip-path=\"url(#p7fa6b35e05)\">\n    <image height=\"73.44\" id=\"imagede2aaab7bd\" transform=\"scale(1 -1)translate(0 -73.44)\" width=\"73.44\" x=\"99.323529\" xlink:href=\"data:image/png;base64,\niVBORw0KGgoAAAANSUhEUgAAAGYAAABmCAYAAAA53+RiAAACKklEQVR4nO3bMYoiQRhA4RldEBNzEUy8gJlnMBM11cDzeARDQ1EMDDyAoeIJjAwNBRFENxjYaP/apXt7fLDvS3+qu+BNQc3Q8/l6vV4fwim9ewP6PcNAGQbKMFCGgTIMlGGgDANlGCjDQBkGyjBQhoEyDNSPPIvP53M4azabeR4d6nQ64Wy5XIazer1exHYK44mBMgyUYaAMA2UYKMNA5bouD4fDTOum02nmd67X63DWaDTCWb/fTz53sVhk3lMRPDFQhoEyDJRhoAwDZRioz6I+Kj8ej+Gs3W4X8cqP7XYbzrrdbnLt4XAIZ0XtN8UTA2UYKMNAGQbKMFCGgSrsukxTKqV/Br0u668YBsowUIaBMgyUYaAMA5XrK5msWq1WODudTt+4Ey5PDJRhoAwDZRgow0AZBuot1+X9fh/ORqNR5uduNpvMa1P/T+qf/fWLYaAMA2UYKMNAGQbqv/lKZjAYJOer1Sqc3W63cFapVDLvKcUTA2UYKMNAGQbKMFCGgTIM1Ft+j3k+n+Hser0m19ZqtUzvvN/vyXm1Wg1nk8kknM1ms0z7+RNPDJRhoAwDZRgow0AZBuot1+XxeBzO5vP5N+4kv9TVPw9PDJRhoAwDZRgow0AZBgr3lczlcknOd7tdOOv1ev94N18ej0c4K5fLhbzTEwNlGCjDQBkGyjBQhoHCXZf1xRMDZRgow0AZBsowUIaBMgyUYaAMA2UYKMNAGQbKMFCGgfoJJDJnhyfiUHgAAAAASUVORK5CYII=\" y=\"-196.078594\"/>\n   </g>\n   <g id=\"matplotlib.axis_15\"/>\n   <g id=\"matplotlib.axis_16\"/>\n   <g id=\"patch_38\">\n    <path d=\"M 99.323529 269.518594 \nL 99.323529 196.142123 \n\" style=\"fill:none;stroke:#000000;stroke-linecap:square;stroke-linejoin:miter;stroke-width:0.8;\"/>\n   </g>\n   <g id=\"patch_39\">\n    <path d=\"M 172.7 269.518594 \nL 172.7 196.142123 \n\" style=\"fill:none;stroke:#000000;stroke-linecap:square;stroke-linejoin:miter;stroke-width:0.8;\"/>\n   </g>\n   <g id=\"patch_40\">\n    <path d=\"M 99.323529 269.518594 \nL 172.7 269.518594 \n\" style=\"fill:none;stroke:#000000;stroke-linecap:square;stroke-linejoin:miter;stroke-width:0.8;\"/>\n   </g>\n   <g id=\"patch_41\">\n    <path d=\"M 99.323529 196.142123 \nL 172.7 196.142123 \n\" style=\"fill:none;stroke:#000000;stroke-linecap:square;stroke-linejoin:miter;stroke-width:0.8;\"/>\n   </g>\n   <g id=\"text_8\">\n    <!-- label: 3 -->\n    <g transform=\"translate(119.318874 190.142123)scale(0.09 -0.09)\">\n     <defs>\n      <path d=\"M 2597 2516 \nQ 3050 2419 3304 2112 \nQ 3559 1806 3559 1356 \nQ 3559 666 3084 287 \nQ 2609 -91 1734 -91 \nQ 1441 -91 1130 -33 \nQ 819 25 488 141 \nL 488 750 \nQ 750 597 1062 519 \nQ 1375 441 1716 441 \nQ 2309 441 2620 675 \nQ 2931 909 2931 1356 \nQ 2931 1769 2642 2001 \nQ 2353 2234 1838 2234 \nL 1294 2234 \nL 1294 2753 \nL 1863 2753 \nQ 2328 2753 2575 2939 \nQ 2822 3125 2822 3475 \nQ 2822 3834 2567 4026 \nQ 2313 4219 1838 4219 \nQ 1578 4219 1281 4162 \nQ 984 4106 628 3988 \nL 628 4550 \nQ 988 4650 1302 4700 \nQ 1616 4750 1894 4750 \nQ 2613 4750 3031 4423 \nQ 3450 4097 3450 3541 \nQ 3450 3153 3228 2886 \nQ 3006 2619 2597 2516 \nz\n\" id=\"DejaVuSans-33\" transform=\"scale(0.015625)\"/>\n     </defs>\n     <use xlink:href=\"#DejaVuSans-6c\"/>\n     <use x=\"27.783203\" xlink:href=\"#DejaVuSans-61\"/>\n     <use x=\"89.0625\" xlink:href=\"#DejaVuSans-62\"/>\n     <use x=\"152.539062\" xlink:href=\"#DejaVuSans-65\"/>\n     <use x=\"214.0625\" xlink:href=\"#DejaVuSans-6c\"/>\n     <use x=\"241.845703\" xlink:href=\"#DejaVuSans-3a\"/>\n     <use x=\"275.537109\" xlink:href=\"#DejaVuSans-20\"/>\n     <use x=\"307.324219\" xlink:href=\"#DejaVuSans-33\"/>\n    </g>\n   </g>\n  </g>\n  <g id=\"axes_9\">\n   <g id=\"patch_42\">\n    <path d=\"M 187.947059 269.518594 \nL 261.323529 269.518594 \nL 261.323529 196.142123 \nL 187.947059 196.142123 \nz\n\" style=\"fill:#ffffff;\"/>\n   </g>\n   <g clip-path=\"url(#p31adfe83b0)\">\n    <image height=\"73.44\" id=\"image3bd8c4be0e\" transform=\"scale(1 -1)translate(0 -73.44)\" width=\"73.44\" x=\"187.947059\" xlink:href=\"data:image/png;base64,\niVBORw0KGgoAAAANSUhEUgAAAGYAAABmCAYAAAA53+RiAAABmElEQVR4nO3bvY2EMBQA4fPpxF8LZJQIvdAIVVACAXUQcg2sSRab8e58qZO3Gj3JiyCc53n+COf36QH0mmGgDANlGCjDQBkGyjBQhoEyDJRhoAwDZRgow0AZBurv6QHu1LZt9Ow4joyTvM+NgTIMlGGgDANlGCjDQH3UdblpmqdHuI0bA2UYKMNAGQbKMFCGgQqf9FJ5CCF6VtrPdGOgDANlGCjDQBkGyjBQxT1dXtc1etZ1XcZJ0nJjoAwDZRgow0AZBsowUIaBKu5/zDzP0bOqqjJOkpYbA2UYKMNAGQbKMFCGgSruunxlmqanR7iNGwNlGCjDQBkGyjBQhoEq7rq8LEv0bBzHjJOk5cZAGQbKMFCGgTIMlGGgDANV3MexVx/A7vsePRuGIcU4ybgxUIaBMgyUYaAMA2UYqOIe+1+p6/rpEW7jxkAZBsowUIaBMgyUYaCKuy5v2xY96/s+4yRpuTFQhoEyDJRhoAwDZRio4l7G+BZuDJRhoAwDZRgow0AZBsowUIaBMgyUYaAMA2UYKMNAGQbqH8oVJeeLk1JgAAAAAElFTkSuQmCC\" y=\"-196.078594\"/>\n   </g>\n   <g id=\"matplotlib.axis_17\"/>\n   <g id=\"matplotlib.axis_18\"/>\n   <g id=\"patch_43\">\n    <path d=\"M 187.947059 269.518594 \nL 187.947059 196.142123 \n\" style=\"fill:none;stroke:#000000;stroke-linecap:square;stroke-linejoin:miter;stroke-width:0.8;\"/>\n   </g>\n   <g id=\"patch_44\">\n    <path d=\"M 261.323529 269.518594 \nL 261.323529 196.142123 \n\" style=\"fill:none;stroke:#000000;stroke-linecap:square;stroke-linejoin:miter;stroke-width:0.8;\"/>\n   </g>\n   <g id=\"patch_45\">\n    <path d=\"M 187.947059 269.518594 \nL 261.323529 269.518594 \n\" style=\"fill:none;stroke:#000000;stroke-linecap:square;stroke-linejoin:miter;stroke-width:0.8;\"/>\n   </g>\n   <g id=\"patch_46\">\n    <path d=\"M 187.947059 196.142123 \nL 261.323529 196.142123 \n\" style=\"fill:none;stroke:#000000;stroke-linecap:square;stroke-linejoin:miter;stroke-width:0.8;\"/>\n   </g>\n   <g id=\"text_9\">\n    <!-- label: 1 -->\n    <g transform=\"translate(207.942403 190.142123)scale(0.09 -0.09)\">\n     <use xlink:href=\"#DejaVuSans-6c\"/>\n     <use x=\"27.783203\" xlink:href=\"#DejaVuSans-61\"/>\n     <use x=\"89.0625\" xlink:href=\"#DejaVuSans-62\"/>\n     <use x=\"152.539062\" xlink:href=\"#DejaVuSans-65\"/>\n     <use x=\"214.0625\" xlink:href=\"#DejaVuSans-6c\"/>\n     <use x=\"241.845703\" xlink:href=\"#DejaVuSans-3a\"/>\n     <use x=\"275.537109\" xlink:href=\"#DejaVuSans-20\"/>\n     <use x=\"307.324219\" xlink:href=\"#DejaVuSans-31\"/>\n    </g>\n   </g>\n  </g>\n </g>\n <defs>\n  <clipPath id=\"p0f78b5277e\">\n   <rect height=\"73.376471\" width=\"73.376471\" x=\"10.7\" y=\"20.038594\"/>\n  </clipPath>\n  <clipPath id=\"p826578eba1\">\n   <rect height=\"73.376471\" width=\"73.376471\" x=\"99.323529\" y=\"20.038594\"/>\n  </clipPath>\n  <clipPath id=\"p462d681f84\">\n   <rect height=\"73.376471\" width=\"73.376471\" x=\"187.947059\" y=\"20.038594\"/>\n  </clipPath>\n  <clipPath id=\"p73f3a11de9\">\n   <rect height=\"73.376471\" width=\"73.376471\" x=\"10.7\" y=\"108.090358\"/>\n  </clipPath>\n  <clipPath id=\"p72a8ff45c9\">\n   <rect height=\"73.376471\" width=\"73.376471\" x=\"99.323529\" y=\"108.090358\"/>\n  </clipPath>\n  <clipPath id=\"pf0cef76949\">\n   <rect height=\"73.376471\" width=\"73.376471\" x=\"187.947059\" y=\"108.090358\"/>\n  </clipPath>\n  <clipPath id=\"pb603c4b372\">\n   <rect height=\"73.376471\" width=\"73.376471\" x=\"10.7\" y=\"196.142123\"/>\n  </clipPath>\n  <clipPath id=\"p7fa6b35e05\">\n   <rect height=\"73.376471\" width=\"73.376471\" x=\"99.323529\" y=\"196.142123\"/>\n  </clipPath>\n  <clipPath id=\"p31adfe83b0\">\n   <rect height=\"73.376471\" width=\"73.376471\" x=\"187.947059\" y=\"196.142123\"/>\n  </clipPath>\n </defs>\n</svg>\n",
      "text/plain": [
       "<Figure size 450x450 with 9 Axes>"
      ]
     },
     "metadata": {},
     "output_type": "display_data"
    }
   ],
   "source": [
    "set_figsize((4.5,4.5))\n",
    "\n",
    "show_img_grid(\n",
    "    [train_images_scaled[i].reshape(new_shape) for i in range(9)],\n",
    "    [f\"label: {jnp.argmax(train_labels[i])}\" for i in range(9)]\n",
    ")"
   ]
  },
  {
   "cell_type": "markdown",
   "id": "76114d82",
   "metadata": {},
   "source": [
    "# Feature Map"
   ]
  },
  {
   "cell_type": "code",
   "execution_count": 17,
   "id": "725a1acd",
   "metadata": {},
   "outputs": [],
   "source": [
    "def feature_map(x):\n",
    "    \"\"\"Definine a feature map per pixel\"\"\"\n",
    "    return jnp.array([\n",
    "        jnp.cos(0.5*jnp.pi*x), \n",
    "        jnp.sin(0.5*jnp.pi*x)\n",
    "    ])"
   ]
  },
  {
   "cell_type": "code",
   "execution_count": 18,
   "id": "b7474f74",
   "metadata": {},
   "outputs": [],
   "source": [
    "train_data = jax.vmap(feature_map)(train_images_scaled).transpose(0,2,1)  # exchanging axes for convenience\n",
    "test_data = jax.vmap(feature_map)(test_images_scaled).transpose(0,2,1)    # same as above"
   ]
  },
  {
   "cell_type": "code",
   "execution_count": 19,
   "id": "8ec309fc",
   "metadata": {},
   "outputs": [
    {
     "name": "stdout",
     "output_type": "stream",
     "text": [
      "Train data shape: (60000, 196, 2) | Test data shape: (10000, 196, 2)\n"
     ]
    }
   ],
   "source": [
    "print(f'Train data shape: {train_data.shape} | Test data shape: {test_data.shape}')"
   ]
  },
  {
   "cell_type": "markdown",
   "id": "06c26e10",
   "metadata": {},
   "source": [
    "## MPS Utilities"
   ]
  },
  {
   "cell_type": "code",
   "execution_count": 20,
   "id": "740bd3f4",
   "metadata": {},
   "outputs": [],
   "source": [
    "# def random_mps(\n",
    "#     key: PRNGKeyArray,\n",
    "#     initializer: Callable, \n",
    "#     size: int,\n",
    "#     local_dim: int,\n",
    "#     bond_dim: int,\n",
    "#     labels_dim: int,\n",
    "#     dtype: Optional[jnp.double]=jnp.double\n",
    "#     ) -> List[DeviceArray]:\n",
    "#     \"\"\"\n",
    "#     Generate a random MPS where each core tensor\n",
    "#     is drawn i.i.d. from a uniform distribution \n",
    "#     between 0 and 1.\n",
    "\n",
    "#     Input:\n",
    "#     ------\n",
    "#     key:            The random key.\n",
    "#     initializer:    The initializer (see jax.nn.initializers)\n",
    "#     size:           The size (length) of an MPS.\n",
    "#     local_dim:      The local dimension size.\n",
    "#     bond_dim:       The bond dimension size.\n",
    "#     labels_dim:     The dimension of labels.\n",
    "#     dtype:          The type of data to return.\n",
    "#     \"\"\"\n",
    "    \n",
    "#     # initialize MPS tensor shapes\n",
    "#     if size == 1:\n",
    "#         shapes = [(1,local_dim,1, labels_dim)]\n",
    "#     elif size == 2:\n",
    "#         shapes = [(1,local_dim, bond_dim, labels_dim), (bond_dim, local_dim, 1)]\n",
    "#     else:\n",
    "#         shapes = [(1,local_dim, bond_dim, labels_dim)] +\\\n",
    "#                  [(bond_dim, local_dim, bond_dim)]*(size-2) +\\\n",
    "#                  [(bond_dim, local_dim, 1)] \n",
    "\n",
    "#     keys = jax.random.split(key, num=size)\n",
    "#     return [initializer(*params) for params in zip(keys, shapes, [dtype]*size)]"
   ]
  },
  {
   "cell_type": "code",
   "execution_count": 24,
   "id": "8b532962",
   "metadata": {},
   "outputs": [],
   "source": [
    "def random_mps(\n",
    "    key: PRNGKeyArray,\n",
    "    size: int,\n",
    "    local_dim: int,\n",
    "    bond_dim: int,\n",
    "    num_labels: int,\n",
    "    dtype: Optional[jnp.double]=jnp.double\n",
    "    ) -> List[DeviceArray]:\n",
    "    \"\"\"\n",
    "    Generate a random MPS where each core tensor\n",
    "    is drawn i.i.d. from a uniform distribution \n",
    "    between -1 and 1.\n",
    "\n",
    "    Input:\n",
    "    ------\n",
    "    key:        The random key.\n",
    "    size:       The size (length) of an MPS.\n",
    "    local_dim:  The local dimension size.\n",
    "    bond_dim:   The bond dimension size.\n",
    "    dtype:      The type of data to return.\n",
    "    \"\"\"\n",
    "    # initialize MPS data collection\n",
    "    mps = []\n",
    "     \n",
    "    for i in range(size):\n",
    "        key, _ = jax.random.split(key)\n",
    "        if i == 0:  # left most tensor\n",
    "            tensor = jax.random.uniform(\n",
    "                key, shape=(1, local_dim, bond_dim, num_labels), minval=-1, maxval=1, dtype=dtype)\n",
    "        elif i == size-1:  # right most tensor\n",
    "            tensor = jax.random.uniform(\n",
    "                key, shape=(bond_dim, local_dim, 1), minval=-1, maxval=1, dtype=dtype)\n",
    "        else:  # middle tensors\n",
    "            tensor = jax.random.uniform(\n",
    "                key, shape=(bond_dim, local_dim, bond_dim), minval=-1, maxval=1, dtype=dtype)\n",
    "        mps.append(tensor)\n",
    "\n",
    "    return mps"
   ]
  },
  {
   "cell_type": "code",
   "execution_count": 32,
   "id": "7b285e3c",
   "metadata": {},
   "outputs": [],
   "source": [
    "key = jax.random.PRNGKey(seed)\n",
    "\n",
    "# Spliting the key\n",
    "key_params, key_run = jax.random.split(key, num=2)\n",
    "\n",
    "# getting the parameters\n",
    "num_samples, num_features, dim_features = train_data.shape\n",
    "num_labels = train_labels.shape[1]\n",
    "\n",
    "# mps weight initialiser\n",
    "initializer = jax.nn.initializers.glorot_uniform()\n",
    "\n",
    "# generating a random MPS according to the initialiser\n",
    "mps = random_mps(key, num_features, dim_features, bond_dim, num_labels)\n",
    "# mps = random_mps(key_params, initializer, num_features, dim_features, bond_dim, num_labels)"
   ]
  },
  {
   "cell_type": "code",
   "execution_count": 33,
   "id": "809304a2",
   "metadata": {},
   "outputs": [
    {
     "name": "stdout",
     "output_type": "stream",
     "text": [
      "The MPS dimensions: size=196, local_dim=2, bond_dim=10\n",
      "Total number of paramters: 39200\n"
     ]
    }
   ],
   "source": [
    "print(f'The MPS dimensions: size={num_features}, local_dim={dim_features}, bond_dim={bond_dim}')\n",
    "print(f'Total number of paramters: {bond_dim**2 * dim_features * num_features}')"
   ]
  },
  {
   "cell_type": "markdown",
   "id": "6285f566",
   "metadata": {},
   "source": [
    "# Bond Truncation"
   ]
  },
  {
   "cell_type": "code",
   "execution_count": 34,
   "id": "a70507ef",
   "metadata": {},
   "outputs": [],
   "source": [
    "@jax.jit\n",
    "def suggest_truncation(\n",
    "        λ: jnp.ndarray,\n",
    "        ϵ: Optional[float]=1e-3  # truncation error proba\n",
    "    ) -> Tuple[jnp.ndarray, jnp.ndarray, int]:\n",
    "    \"\"\"\n",
    "    Suggest a truncation index j of the spectrum λᵢ i=1,⋅⋅⋅,N,\n",
    "    such that the truncation error ϵ is an apper bound on the Σⱼ(1 - λⱼ/Σᵢλᵢ) ≤ ϵ.\n",
    "    The spectrum is assumed to be in the decreasing order.\n",
    "    \"\"\"\n",
    "    err = 1 - jnp.cumsum(λ / λ.sum())\n",
    "    return jnp.searchsorted(err, p, side='right')"
   ]
  },
  {
   "cell_type": "markdown",
   "id": "e72bb275",
   "metadata": {},
   "source": [
    "# Training"
   ]
  },
  {
   "cell_type": "markdown",
   "id": "b719715a",
   "metadata": {},
   "source": [
    "Precompute data to reduce complexity - see last paragraph on p.4 for more details. Note, as we start from the left most pair of sites, only the right part, i.e. the \"right wings\", are precomputed - hence starting from from the positin 2."
   ]
  },
  {
   "cell_type": "code",
   "execution_count": 35,
   "id": "1790c59d",
   "metadata": {},
   "outputs": [],
   "source": [
    "def project(mps, sample):\n",
    "    \"\"\"Project samples onto the mps sites.\"\"\"\n",
    "    mult = lambda tᵢ, xᵢ: jnp.einsum('piq,i->pq', tᵢ, xᵢ)\n",
    "    return jax.tree_multimap(mult, mps, list(sample))\n",
    "\n",
    "@jit\n",
    "def compute_right_wings(mps, train_data):\n",
    "    # get the projections of sample onto the mps sites\n",
    "    # start with 2 as the first pair of indices are occupied by the bond tensor B\n",
    "    right_projs = jax.vmap(partial(project, mps[2:]))(train_data[:,2:,:])\n",
    "    # helper to contract neighbouring sites (watch the order in the lambda func!)\n",
    "    mult = lambda x, y: jnp.einsum('mpi,miq->mpq', y, x)\n",
    "    # get the cumulative products computed from left to right\n",
    "    cum_prods = accumulate(right_projs[::-1], mult)\n",
    "    # reverse before return so the indexing is natural again\n",
    "    # unfortunately we can't access the iterator accumulate backwords\n",
    "    return list(x.squeeze() for x in cum_prods)[::-1]"
   ]
  },
  {
   "cell_type": "code",
   "execution_count": 36,
   "id": "73f69d04",
   "metadata": {},
   "outputs": [],
   "source": [
    "# a precomputed list of all right wings\n",
    "# see last paragraph on p.4 for the motivation\n",
    "right_wings = compute_right_wings(mps, train_data)"
   ]
  },
  {
   "cell_type": "code",
   "execution_count": 37,
   "id": "9b75247b",
   "metadata": {},
   "outputs": [],
   "source": [
    "def cross_entropy(preds, targets):\n",
    "    \"\"\"Multinomial cross entropy\"\"\"\n",
    "    return -jnp.mean(jnp.sum(preds * targets, axis=1))\n",
    "\n",
    "def loss(B: DeviceArray, data: Tuple[DeviceArray, DeviceArray]):\n",
    "    \"\"\"A modified loss function\"\"\"\n",
    "    inputs, targets = data\n",
    "    preds = jnp.einsum('pijql,mpijq->ml', B, inputs)\n",
    "    logprobas = jax.nn.log_softmax(preds, axis=1)\n",
    "    return cross_entropy(logprobas, targets)\n",
    "\n",
    "# def loss(B: DeviceArray, data: Tuple[DeviceArray, DeviceArray]):\n",
    "#     \"\"\"Loss function with respect to B - Fig.7a\"\"\"\n",
    "#     inputs, targets = data\n",
    "#     preds = jnp.einsum('pijql,mpijq->ml', B, inputs)\n",
    "#     err = (targets - preds) ** 2\n",
    "#     #return jnp.sqrt(0.5 * jnp.sum(err))\n",
    "#     return 0.5 * jnp.mean(jnp.log(jnp.power(err, 2) + 1))"
   ]
  },
  {
   "cell_type": "code",
   "execution_count": 38,
   "id": "b710e7ef",
   "metadata": {},
   "outputs": [
    {
     "name": "stdout",
     "output_type": "stream",
     "text": [
      "Updated site: 0    \t|\tLoss: 1.24e+95  \t|\tBond Dim: 10   \n",
      "Updated site: 1    \t|\tLoss: 8.75e+94  \t|\tBond Dim: 10   \n",
      "Updated site: 2    \t|\tLoss: 6.54e+94  \t|\tBond Dim: 10   \n",
      "Updated site: 3    \t|\tLoss: 1.35e+95  \t|\tBond Dim: 10   \n",
      "Updated site: 4    \t|\tLoss: 4.51e+94  \t|\tBond Dim: 10   \n",
      "Updated site: 5    \t|\tLoss: 5.22e+94  \t|\tBond Dim: 10   \n",
      "Updated site: 6    \t|\tLoss: 8.13e+94  \t|\tBond Dim: 10   \n",
      "Updated site: 7    \t|\tLoss: 1.59e+95  \t|\tBond Dim: 10   \n",
      "Updated site: 8    \t|\tLoss: 1.36e+95  \t|\tBond Dim: 10   \n",
      "Updated site: 9    \t|\tLoss: 1.63e+95  \t|\tBond Dim: 10   \n",
      "Updated site: 10   \t|\tLoss: 5.50e+94  \t|\tBond Dim: 10   \n",
      "Updated site: 11   \t|\tLoss: 2.42e+94  \t|\tBond Dim: 10   \n",
      "Updated site: 12   \t|\tLoss: 2.04e+94  \t|\tBond Dim: 10   \n",
      "Updated site: 13   \t|\tLoss: 2.52e+94  \t|\tBond Dim: 10   \n",
      "Updated site: 14   \t|\tLoss: 9.64e+93  \t|\tBond Dim: 10   \n",
      "Updated site: 15   \t|\tLoss: 5.23e+94  \t|\tBond Dim: 10   \n",
      "Updated site: 16   \t|\tLoss: 1.56e+94  \t|\tBond Dim: 10   \n",
      "Updated site: 17   \t|\tLoss: 1.57e+94  \t|\tBond Dim: 10   \n",
      "Updated site: 18   \t|\tLoss: 2.15e+94  \t|\tBond Dim: 10   \n",
      "Updated site: 19   \t|\tLoss: 7.88e+93  \t|\tBond Dim: 10   \n",
      "Updated site: 20   \t|\tLoss: 7.27e+93  \t|\tBond Dim: 10   \n",
      "Updated site: 21   \t|\tLoss: 7.54e+93  \t|\tBond Dim: 10   \n",
      "Updated site: 22   \t|\tLoss: 6.43e+93  \t|\tBond Dim: 10   \n",
      "Updated site: 23   \t|\tLoss: 7.36e+93  \t|\tBond Dim: 10   \n",
      "Updated site: 24   \t|\tLoss: 2.79e+93  \t|\tBond Dim: 10   \n",
      "Updated site: 25   \t|\tLoss: 6.43e+93  \t|\tBond Dim: 10   \n",
      "Updated site: 26   \t|\tLoss: 5.14e+93  \t|\tBond Dim: 10   \n",
      "Updated site: 27   \t|\tLoss: 9.72e+93  \t|\tBond Dim: 10   \n",
      "Updated site: 28   \t|\tLoss: 4.59e+93  \t|\tBond Dim: 10   \n",
      "Updated site: 29   \t|\tLoss: 2.10e+93  \t|\tBond Dim: 10   \n",
      "Updated site: 30   \t|\tLoss: 1.20e+93  \t|\tBond Dim: 10   \n",
      "Updated site: 31   \t|\tLoss: 4.18e+93  \t|\tBond Dim: 10   \n",
      "Updated site: 32   \t|\tLoss: 3.32e+93  \t|\tBond Dim: 10   \n",
      "Updated site: 33   \t|\tLoss: 2.46e+93  \t|\tBond Dim: 10   \n",
      "Updated site: 34   \t|\tLoss: 3.57e+93  \t|\tBond Dim: 10   \n",
      "Updated site: 35   \t|\tLoss: 7.04e+93  \t|\tBond Dim: 10   \n",
      "Updated site: 36   \t|\tLoss: 3.40e+93  \t|\tBond Dim: 10   \n",
      "Updated site: 37   \t|\tLoss: 3.37e+93  \t|\tBond Dim: 10   \n",
      "Updated site: 38   \t|\tLoss: 7.82e+93  \t|\tBond Dim: 10   \n",
      "Updated site: 39   \t|\tLoss: 3.35e+93  \t|\tBond Dim: 10   \n",
      "Updated site: 40   \t|\tLoss: 4.21e+93  \t|\tBond Dim: 10   \n",
      "Updated site: 41   \t|\tLoss: 2.04e+93  \t|\tBond Dim: 10   \n",
      "Updated site: 42   \t|\tLoss: 2.17e+93  \t|\tBond Dim: 10   \n",
      "Updated site: 43   \t|\tLoss: 1.89e+93  \t|\tBond Dim: 10   \n",
      "Updated site: 44   \t|\tLoss: 2.52e+93  \t|\tBond Dim: 10   \n",
      "Updated site: 45   \t|\tLoss: 2.39e+93  \t|\tBond Dim: 10   \n",
      "Updated site: 46   \t|\tLoss: 2.23e+93  \t|\tBond Dim: 10   \n",
      "Updated site: 47   \t|\tLoss: 1.67e+93  \t|\tBond Dim: 10   \n",
      "Updated site: 48   \t|\tLoss: 1.33e+93  \t|\tBond Dim: 10   \n",
      "Updated site: 49   \t|\tLoss: 1.00e+93  \t|\tBond Dim: 10   \n",
      "Updated site: 50   \t|\tLoss: 9.18e+92  \t|\tBond Dim: 10   \n",
      "Updated site: 51   \t|\tLoss: 1.01e+93  \t|\tBond Dim: 10   \n",
      "Updated site: 52   \t|\tLoss: 9.58e+92  \t|\tBond Dim: 10   \n",
      "Updated site: 53   \t|\tLoss: 1.42e+93  \t|\tBond Dim: 10   \n",
      "Updated site: 54   \t|\tLoss: 1.10e+93  \t|\tBond Dim: 10   \n",
      "Updated site: 55   \t|\tLoss: 1.08e+93  \t|\tBond Dim: 10   \n",
      "Updated site: 56   \t|\tLoss: 1.16e+93  \t|\tBond Dim: 10   \n",
      "Updated site: 57   \t|\tLoss: 8.19e+92  \t|\tBond Dim: 10   \n",
      "Updated site: 58   \t|\tLoss: 9.44e+92  \t|\tBond Dim: 10   \n",
      "Updated site: 59   \t|\tLoss: 7.12e+92  \t|\tBond Dim: 10   \n",
      "Updated site: 60   \t|\tLoss: 5.43e+92  \t|\tBond Dim: 10   \n",
      "Updated site: 61   \t|\tLoss: 7.01e+92  \t|\tBond Dim: 10   \n",
      "Updated site: 62   \t|\tLoss: 6.24e+92  \t|\tBond Dim: 10   \n",
      "Updated site: 63   \t|\tLoss: 6.08e+92  \t|\tBond Dim: 10   \n",
      "Updated site: 64   \t|\tLoss: 5.00e+92  \t|\tBond Dim: 10   \n",
      "Updated site: 65   \t|\tLoss: 6.68e+92  \t|\tBond Dim: 10   \n",
      "Updated site: 66   \t|\tLoss: 6.18e+92  \t|\tBond Dim: 10   \n",
      "Updated site: 67   \t|\tLoss: 4.74e+92  \t|\tBond Dim: 10   \n",
      "Updated site: 68   \t|\tLoss: 3.60e+92  \t|\tBond Dim: 10   \n",
      "Updated site: 69   \t|\tLoss: 3.80e+92  \t|\tBond Dim: 10   \n",
      "Updated site: 70   \t|\tLoss: 3.67e+92  \t|\tBond Dim: 10   \n",
      "Updated site: 71   \t|\tLoss: 3.88e+92  \t|\tBond Dim: 10   \n",
      "Updated site: 72   \t|\tLoss: 2.47e+92  \t|\tBond Dim: 10   \n",
      "Updated site: 73   \t|\tLoss: 4.78e+92  \t|\tBond Dim: 10   \n",
      "Updated site: 74   \t|\tLoss: 3.47e+92  \t|\tBond Dim: 10   \n",
      "Updated site: 75   \t|\tLoss: 5.22e+92  \t|\tBond Dim: 10   \n",
      "Updated site: 76   \t|\tLoss: 4.92e+92  \t|\tBond Dim: 10   \n",
      "Updated site: 77   \t|\tLoss: 4.35e+92  \t|\tBond Dim: 10   \n",
      "Updated site: 78   \t|\tLoss: 4.22e+92  \t|\tBond Dim: 10   \n",
      "Updated site: 79   \t|\tLoss: 3.68e+92  \t|\tBond Dim: 10   \n",
      "Updated site: 80   \t|\tLoss: 3.73e+92  \t|\tBond Dim: 10   \n",
      "Updated site: 81   \t|\tLoss: 4.95e+92  \t|\tBond Dim: 10   \n",
      "Updated site: 82   \t|\tLoss: 3.42e+92  \t|\tBond Dim: 10   \n",
      "Updated site: 83   \t|\tLoss: 2.61e+92  \t|\tBond Dim: 10   \n",
      "Updated site: 84   \t|\tLoss: 2.10e+92  \t|\tBond Dim: 10   \n",
      "Updated site: 85   \t|\tLoss: 2.78e+92  \t|\tBond Dim: 10   \n",
      "Updated site: 86   \t|\tLoss: 3.34e+92  \t|\tBond Dim: 10   \n",
      "Updated site: 87   \t|\tLoss: 3.52e+92  \t|\tBond Dim: 10   \n",
      "Updated site: 88   \t|\tLoss: 2.38e+92  \t|\tBond Dim: 10   \n",
      "Updated site: 89   \t|\tLoss: 2.38e+92  \t|\tBond Dim: 10   \n",
      "Updated site: 90   \t|\tLoss: 2.07e+92  \t|\tBond Dim: 10   \n",
      "Updated site: 91   \t|\tLoss: 1.90e+92  \t|\tBond Dim: 10   \n",
      "Updated site: 92   \t|\tLoss: 1.58e+92  \t|\tBond Dim: 10   \n",
      "Updated site: 93   \t|\tLoss: 2.04e+92  \t|\tBond Dim: 10   \n",
      "Updated site: 94   \t|\tLoss: 2.14e+92  \t|\tBond Dim: 10   \n",
      "Updated site: 95   \t|\tLoss: 1.60e+92  \t|\tBond Dim: 10   \n",
      "Updated site: 96   \t|\tLoss: 2.00e+92  \t|\tBond Dim: 10   \n",
      "Updated site: 97   \t|\tLoss: 1.78e+92  \t|\tBond Dim: 10   \n",
      "Updated site: 98   \t|\tLoss: 8.63e+91  \t|\tBond Dim: 10   \n",
      "Updated site: 99   \t|\tLoss: 9.07e+91  \t|\tBond Dim: 10   \n",
      "Updated site: 100  \t|\tLoss: 2.04e+92  \t|\tBond Dim: 10   \n",
      "Updated site: 101  \t|\tLoss: 9.76e+91  \t|\tBond Dim: 10   \n",
      "Updated site: 102  \t|\tLoss: 8.24e+91  \t|\tBond Dim: 10   \n",
      "Updated site: 103  \t|\tLoss: 1.03e+92  \t|\tBond Dim: 10   \n",
      "Updated site: 104  \t|\tLoss: 8.03e+91  \t|\tBond Dim: 10   \n",
      "Updated site: 105  \t|\tLoss: 8.82e+91  \t|\tBond Dim: 10   \n",
      "Updated site: 106  \t|\tLoss: 7.06e+91  \t|\tBond Dim: 10   \n",
      "Updated site: 107  \t|\tLoss: 7.19e+91  \t|\tBond Dim: 10   \n",
      "Updated site: 108  \t|\tLoss: 6.17e+91  \t|\tBond Dim: 10   \n",
      "Updated site: 109  \t|\tLoss: 4.90e+91  \t|\tBond Dim: 10   \n",
      "Updated site: 110  \t|\tLoss: 1.05e+92  \t|\tBond Dim: 10   \n",
      "Updated site: 111  \t|\tLoss: 4.20e+91  \t|\tBond Dim: 10   \n",
      "Updated site: 112  \t|\tLoss: 5.42e+91  \t|\tBond Dim: 10   \n",
      "Updated site: 113  \t|\tLoss: 7.38e+91  \t|\tBond Dim: 10   \n",
      "Updated site: 114  \t|\tLoss: 5.01e+91  \t|\tBond Dim: 10   \n",
      "Updated site: 115  \t|\tLoss: 6.44e+91  \t|\tBond Dim: 10   \n",
      "Updated site: 116  \t|\tLoss: 6.88e+91  \t|\tBond Dim: 10   \n",
      "Updated site: 117  \t|\tLoss: 6.56e+91  \t|\tBond Dim: 10   \n",
      "Updated site: 118  \t|\tLoss: 6.20e+91  \t|\tBond Dim: 10   \n",
      "Updated site: 119  \t|\tLoss: 5.64e+91  \t|\tBond Dim: 10   \n",
      "Updated site: 120  \t|\tLoss: 5.97e+91  \t|\tBond Dim: 10   \n",
      "Updated site: 121  \t|\tLoss: 5.27e+91  \t|\tBond Dim: 10   \n",
      "Updated site: 122  \t|\tLoss: 7.25e+91  \t|\tBond Dim: 10   \n",
      "Updated site: 123  \t|\tLoss: 7.33e+91  \t|\tBond Dim: 10   \n",
      "Updated site: 124  \t|\tLoss: 7.28e+91  \t|\tBond Dim: 10   \n",
      "Updated site: 125  \t|\tLoss: 4.87e+91  \t|\tBond Dim: 10   \n",
      "Updated site: 126  \t|\tLoss: 3.54e+91  \t|\tBond Dim: 10   \n",
      "Updated site: 127  \t|\tLoss: 3.58e+91  \t|\tBond Dim: 10   \n",
      "Updated site: 128  \t|\tLoss: 3.11e+91  \t|\tBond Dim: 10   \n",
      "Updated site: 129  \t|\tLoss: 2.44e+91  \t|\tBond Dim: 10   \n",
      "Updated site: 130  \t|\tLoss: 2.60e+91  \t|\tBond Dim: 10   \n",
      "Updated site: 131  \t|\tLoss: 2.57e+91  \t|\tBond Dim: 10   \n",
      "Updated site: 132  \t|\tLoss: 2.29e+91  \t|\tBond Dim: 10   \n",
      "Updated site: 133  \t|\tLoss: 2.21e+91  \t|\tBond Dim: 10   \n",
      "Updated site: 134  \t|\tLoss: 2.04e+91  \t|\tBond Dim: 10   \n",
      "Updated site: 135  \t|\tLoss: 2.67e+91  \t|\tBond Dim: 10   \n",
      "Updated site: 136  \t|\tLoss: 1.94e+91  \t|\tBond Dim: 10   \n",
      "Updated site: 137  \t|\tLoss: 1.62e+91  \t|\tBond Dim: 10   \n",
      "Updated site: 138  \t|\tLoss: 1.13e+91  \t|\tBond Dim: 10   \n",
      "Updated site: 139  \t|\tLoss: 1.32e+91  \t|\tBond Dim: 10   \n",
      "Updated site: 140  \t|\tLoss: 1.04e+91  \t|\tBond Dim: 10   \n",
      "Updated site: 141  \t|\tLoss: 1.01e+91  \t|\tBond Dim: 10   \n",
      "Updated site: 142  \t|\tLoss: 1.06e+91  \t|\tBond Dim: 10   \n",
      "Updated site: 143  \t|\tLoss: 7.76e+90  \t|\tBond Dim: 10   \n",
      "Updated site: 144  \t|\tLoss: 7.74e+90  \t|\tBond Dim: 10   \n",
      "Updated site: 145  \t|\tLoss: 6.88e+90  \t|\tBond Dim: 10   \n",
      "Updated site: 146  \t|\tLoss: 7.73e+90  \t|\tBond Dim: 10   \n",
      "Updated site: 147  \t|\tLoss: 7.83e+90  \t|\tBond Dim: 10   \n",
      "Updated site: 148  \t|\tLoss: 6.42e+90  \t|\tBond Dim: 10   \n",
      "Updated site: 149  \t|\tLoss: 7.12e+90  \t|\tBond Dim: 10   \n",
      "Updated site: 150  \t|\tLoss: 5.11e+90  \t|\tBond Dim: 10   \n",
      "Updated site: 151  \t|\tLoss: 5.18e+90  \t|\tBond Dim: 10   \n",
      "Updated site: 152  \t|\tLoss: 7.16e+90  \t|\tBond Dim: 10   \n",
      "Updated site: 153  \t|\tLoss: 3.93e+90  \t|\tBond Dim: 10   \n",
      "Updated site: 154  \t|\tLoss: 5.56e+90  \t|\tBond Dim: 10   \n",
      "Updated site: 155  \t|\tLoss: 5.34e+90  \t|\tBond Dim: 10   \n",
      "Updated site: 156  \t|\tLoss: 3.68e+90  \t|\tBond Dim: 10   \n",
      "Updated site: 157  \t|\tLoss: 4.97e+90  \t|\tBond Dim: 10   \n",
      "Updated site: 158  \t|\tLoss: 3.79e+90  \t|\tBond Dim: 10   \n",
      "Updated site: 159  \t|\tLoss: 2.75e+90  \t|\tBond Dim: 10   \n",
      "Updated site: 160  \t|\tLoss: 3.18e+90  \t|\tBond Dim: 10   \n",
      "Updated site: 161  \t|\tLoss: 3.81e+90  \t|\tBond Dim: 10   \n",
      "Updated site: 162  \t|\tLoss: 4.12e+90  \t|\tBond Dim: 10   \n",
      "Updated site: 163  \t|\tLoss: 2.54e+90  \t|\tBond Dim: 10   \n",
      "Updated site: 164  \t|\tLoss: 1.67e+90  \t|\tBond Dim: 10   \n",
      "Updated site: 165  \t|\tLoss: 4.10e+90  \t|\tBond Dim: 10   \n",
      "Updated site: 166  \t|\tLoss: 1.31e+90  \t|\tBond Dim: 10   \n",
      "Updated site: 167  \t|\tLoss: 1.86e+90  \t|\tBond Dim: 10   \n",
      "Updated site: 168  \t|\tLoss: 1.76e+90  \t|\tBond Dim: 10   \n",
      "Updated site: 169  \t|\tLoss: 2.16e+90  \t|\tBond Dim: 10   \n",
      "Updated site: 170  \t|\tLoss: 2.47e+90  \t|\tBond Dim: 10   \n",
      "Updated site: 171  \t|\tLoss: 3.84e+90  \t|\tBond Dim: 10   \n",
      "Updated site: 172  \t|\tLoss: 3.50e+90  \t|\tBond Dim: 10   \n",
      "Updated site: 173  \t|\tLoss: 2.66e+90  \t|\tBond Dim: 10   \n",
      "Updated site: 174  \t|\tLoss: 1.09e+90  \t|\tBond Dim: 10   \n",
      "Updated site: 175  \t|\tLoss: 7.24e+90  \t|\tBond Dim: 10   \n",
      "Updated site: 176  \t|\tLoss: 8.24e+89  \t|\tBond Dim: 10   \n",
      "Updated site: 177  \t|\tLoss: 3.66e+90  \t|\tBond Dim: 10   \n",
      "Updated site: 178  \t|\tLoss: 3.46e+90  \t|\tBond Dim: 10   \n",
      "Updated site: 179  \t|\tLoss: 5.65e+90  \t|\tBond Dim: 10   \n",
      "Updated site: 180  \t|\tLoss: 2.81e+90  \t|\tBond Dim: 10   \n",
      "Updated site: 181  \t|\tLoss: 2.15e+90  \t|\tBond Dim: 10   \n",
      "Updated site: 182  \t|\tLoss: 5.22e+90  \t|\tBond Dim: 10   \n",
      "Updated site: 183  \t|\tLoss: 2.08e+90  \t|\tBond Dim: 10   \n",
      "Updated site: 184  \t|\tLoss: 4.95e+90  \t|\tBond Dim: 10   \n",
      "Updated site: 185  \t|\tLoss: 1.14e+90  \t|\tBond Dim: 10   \n",
      "Updated site: 186  \t|\tLoss: 7.33e+89  \t|\tBond Dim: 10   \n",
      "Updated site: 187  \t|\tLoss: 2.00e+90  \t|\tBond Dim: 10   \n",
      "Updated site: 188  \t|\tLoss: 4.20e+90  \t|\tBond Dim: 10   \n",
      "Updated site: 189  \t|\tLoss: 4.38e+90  \t|\tBond Dim: 10   \n",
      "Updated site: 190  \t|\tLoss: 7.40e+89  \t|\tBond Dim: 10   \n",
      "Updated site: 191  \t|\tLoss: 6.98e+89  \t|\tBond Dim: 10   \n",
      "Updated site: 192  \t|\tLoss: 1.35e+90  \t|\tBond Dim: 10   \n",
      "Updated site: 193  \t|\tLoss: 5.10e+89  \t|\tBond Dim: 10   \n",
      "Updated site: 194  \t|\tLoss: 5.83e+89  \t|\tBond Dim: 10   \n"
     ]
    }
   ],
   "source": [
    "losses = []\n",
    "N = len(mps)\n",
    "\n",
    "max_bond = 5\n",
    "\n",
    "for pos in range(N-1):\n",
    "\n",
    "    # bond tensor - Fig.6a\n",
    "    B = jnp.einsum('pjil,ikq->pjkql', mps[pos], mps[pos+1])\n",
    "\n",
    "    # getting the new data inputs\n",
    "    inputs = train_data[:,pos:pos+2]\n",
    "\n",
    "    # projecting a input input into MPS basis - Fig.6b\n",
    "    if pos == 0:\n",
    "        right_wing = right_wings[pos]\n",
    "        # because there is no left wing, insert a dummy index p instead\n",
    "        inputs = jnp.expand_dims(inputs, axis=1)\n",
    "        Φ = jnp.einsum('mpij,mq->mpijq', inputs, right_wing)\n",
    "    elif pos == N-2:\n",
    "        # because there is no right wing, insert a dummy index q instead\n",
    "        inputs = jnp.expand_dims(inputs, axis=3)\n",
    "        Φ = jnp.einsum('mp,mijq->mpijq', left_wing, inputs)\n",
    "    else:\n",
    "        right_wing = right_wings[pos]\n",
    "        Φ = jnp.einsum('mp,mij,mq->mpijq', left_wing, inputs, right_wing)\n",
    "\n",
    "    # compute the gradient update - Fig.6d\n",
    "    ΔB = grad(loss)(B, data=(Φ, train_labels))\n",
    "\n",
    "    # update the bond tensor - Fig.7a\n",
    "    B += α * ΔB\n",
    "\n",
    "    # SVD\n",
    "    p,i,j,q,l = B.shape\n",
    "    U, S, Vh = jnp.linalg.svd(B.reshape(p*i,-1), full_matrices=False)\n",
    "\n",
    "    # cutting off the bond dimension\n",
    "    if S.size > max_bond:\n",
    "        U  = U[:,:max_bond]\n",
    "        S  = S[:max_bond]\n",
    "        Vh = Vh[:max_bond,:]\n",
    "\n",
    "    # updating mps tesnors - Fig.7b\n",
    "    mps[pos] = U.reshape(p,i,-1)  # current position\n",
    "    mps[pos+1] = jnp.einsum('i,ij->ij', S, Vh).reshape(-1,j,q,l)  # next position\n",
    "\n",
    "    # project input data onto current tensor\n",
    "    proj_curr = jnp.asarray(\n",
    "        jax.vmap(partial(project, [mps[pos]]))(train_data[:,[pos],:])\n",
    "    ).squeeze()\n",
    "\n",
    "    # update the left wing - Fig.7c\n",
    "    if pos == 0:\n",
    "        left_wing = proj_curr\n",
    "    elif pos == N-2:\n",
    "        pass\n",
    "    else:\n",
    "        left_wing = jnp.einsum('mp,mpq->mq', left_wing, proj_curr)\n",
    "\n",
    "    losses.append(loss(B, data=(Φ, train_labels)))\n",
    "    print(f'Updated site: {pos:<5}\\t|\\tLoss: {losses[-1]:<10.2e}\\t|\\tBond Dim: {bond_dim:<5}')"
   ]
  },
  {
   "cell_type": "code",
   "execution_count": 40,
   "id": "f73f6727",
   "metadata": {},
   "outputs": [
    {
     "data": {
      "image/svg+xml": "<?xml version=\"1.0\" encoding=\"utf-8\" standalone=\"no\"?>\n<!DOCTYPE svg PUBLIC \"-//W3C//DTD SVG 1.1//EN\"\n  \"http://www.w3.org/Graphics/SVG/1.1/DTD/svg11.dtd\">\n<svg height=\"392.514375pt\" version=\"1.1\" viewBox=\"0 0 505.382044 392.514375\" width=\"505.382044pt\" xmlns=\"http://www.w3.org/2000/svg\" xmlns:xlink=\"http://www.w3.org/1999/xlink\">\n <metadata>\n  <rdf:RDF xmlns:cc=\"http://creativecommons.org/ns#\" xmlns:dc=\"http://purl.org/dc/elements/1.1/\" xmlns:rdf=\"http://www.w3.org/1999/02/22-rdf-syntax-ns#\">\n   <cc:Work>\n    <dc:type rdf:resource=\"http://purl.org/dc/dcmitype/StillImage\"/>\n    <dc:date>2022-04-16T15:35:45.912128</dc:date>\n    <dc:format>image/svg+xml</dc:format>\n    <dc:creator>\n     <cc:Agent>\n      <dc:title>Matplotlib v3.4.1, https://matplotlib.org/</dc:title>\n     </cc:Agent>\n    </dc:creator>\n   </cc:Work>\n  </rdf:RDF>\n </metadata>\n <defs>\n  <style type=\"text/css\">*{stroke-linecap:butt;stroke-linejoin:round;}</style>\n </defs>\n <g id=\"figure_1\">\n  <g id=\"patch_1\">\n   <path d=\"M 0 392.514375 \nL 505.382044 392.514375 \nL 505.382044 0 \nL 0 0 \nz\n\" style=\"fill:#ffffff;\"/>\n  </g>\n  <g id=\"axes_1\">\n   <g id=\"patch_2\">\n    <path d=\"M 49.978125 354.958125 \nL 496.378125 354.958125 \nL 496.378125 22.318125 \nL 49.978125 22.318125 \nz\n\" style=\"fill:#ffffff;\"/>\n   </g>\n   <g id=\"matplotlib.axis_1\">\n    <g id=\"xtick_1\">\n     <g id=\"line2d_1\">\n      <defs>\n       <path d=\"M 0 0 \nL 0 3.5 \n\" id=\"mb821d7ab18\" style=\"stroke:#000000;stroke-width:0.8;\"/>\n      </defs>\n      <g>\n       <use style=\"stroke:#000000;stroke-width:0.8;\" x=\"70.269034\" xlink:href=\"#mb821d7ab18\" y=\"354.958125\"/>\n      </g>\n     </g>\n     <g id=\"text_1\">\n      <!-- 0 -->\n      <g transform=\"translate(67.087784 369.556562)scale(0.1 -0.1)\">\n       <defs>\n        <path d=\"M 2034 4250 \nQ 1547 4250 1301 3770 \nQ 1056 3291 1056 2328 \nQ 1056 1369 1301 889 \nQ 1547 409 2034 409 \nQ 2525 409 2770 889 \nQ 3016 1369 3016 2328 \nQ 3016 3291 2770 3770 \nQ 2525 4250 2034 4250 \nz\nM 2034 4750 \nQ 2819 4750 3233 4129 \nQ 3647 3509 3647 2328 \nQ 3647 1150 3233 529 \nQ 2819 -91 2034 -91 \nQ 1250 -91 836 529 \nQ 422 1150 422 2328 \nQ 422 3509 836 4129 \nQ 1250 4750 2034 4750 \nz\n\" id=\"DejaVuSans-30\" transform=\"scale(0.015625)\"/>\n       </defs>\n       <use xlink:href=\"#DejaVuSans-30\"/>\n      </g>\n     </g>\n    </g>\n    <g id=\"xtick_2\">\n     <g id=\"line2d_2\">\n      <g>\n       <use style=\"stroke:#000000;stroke-width:0.8;\" x=\"122.565192\" xlink:href=\"#mb821d7ab18\" y=\"354.958125\"/>\n      </g>\n     </g>\n     <g id=\"text_2\">\n      <!-- 25 -->\n      <g transform=\"translate(116.202692 369.556562)scale(0.1 -0.1)\">\n       <defs>\n        <path d=\"M 1228 531 \nL 3431 531 \nL 3431 0 \nL 469 0 \nL 469 531 \nQ 828 903 1448 1529 \nQ 2069 2156 2228 2338 \nQ 2531 2678 2651 2914 \nQ 2772 3150 2772 3378 \nQ 2772 3750 2511 3984 \nQ 2250 4219 1831 4219 \nQ 1534 4219 1204 4116 \nQ 875 4013 500 3803 \nL 500 4441 \nQ 881 4594 1212 4672 \nQ 1544 4750 1819 4750 \nQ 2544 4750 2975 4387 \nQ 3406 4025 3406 3419 \nQ 3406 3131 3298 2873 \nQ 3191 2616 2906 2266 \nQ 2828 2175 2409 1742 \nQ 1991 1309 1228 531 \nz\n\" id=\"DejaVuSans-32\" transform=\"scale(0.015625)\"/>\n        <path d=\"M 691 4666 \nL 3169 4666 \nL 3169 4134 \nL 1269 4134 \nL 1269 2991 \nQ 1406 3038 1543 3061 \nQ 1681 3084 1819 3084 \nQ 2600 3084 3056 2656 \nQ 3513 2228 3513 1497 \nQ 3513 744 3044 326 \nQ 2575 -91 1722 -91 \nQ 1428 -91 1123 -41 \nQ 819 9 494 109 \nL 494 744 \nQ 775 591 1075 516 \nQ 1375 441 1709 441 \nQ 2250 441 2565 725 \nQ 2881 1009 2881 1497 \nQ 2881 1984 2565 2268 \nQ 2250 2553 1709 2553 \nQ 1456 2553 1204 2497 \nQ 953 2441 691 2322 \nL 691 4666 \nz\n\" id=\"DejaVuSans-35\" transform=\"scale(0.015625)\"/>\n       </defs>\n       <use xlink:href=\"#DejaVuSans-32\"/>\n       <use x=\"63.623047\" xlink:href=\"#DejaVuSans-35\"/>\n      </g>\n     </g>\n    </g>\n    <g id=\"xtick_3\">\n     <g id=\"line2d_3\">\n      <g>\n       <use style=\"stroke:#000000;stroke-width:0.8;\" x=\"174.861349\" xlink:href=\"#mb821d7ab18\" y=\"354.958125\"/>\n      </g>\n     </g>\n     <g id=\"text_3\">\n      <!-- 50 -->\n      <g transform=\"translate(168.498849 369.556562)scale(0.1 -0.1)\">\n       <use xlink:href=\"#DejaVuSans-35\"/>\n       <use x=\"63.623047\" xlink:href=\"#DejaVuSans-30\"/>\n      </g>\n     </g>\n    </g>\n    <g id=\"xtick_4\">\n     <g id=\"line2d_4\">\n      <g>\n       <use style=\"stroke:#000000;stroke-width:0.8;\" x=\"227.157506\" xlink:href=\"#mb821d7ab18\" y=\"354.958125\"/>\n      </g>\n     </g>\n     <g id=\"text_4\">\n      <!-- 75 -->\n      <g transform=\"translate(220.795006 369.556562)scale(0.1 -0.1)\">\n       <defs>\n        <path d=\"M 525 4666 \nL 3525 4666 \nL 3525 4397 \nL 1831 0 \nL 1172 0 \nL 2766 4134 \nL 525 4134 \nL 525 4666 \nz\n\" id=\"DejaVuSans-37\" transform=\"scale(0.015625)\"/>\n       </defs>\n       <use xlink:href=\"#DejaVuSans-37\"/>\n       <use x=\"63.623047\" xlink:href=\"#DejaVuSans-35\"/>\n      </g>\n     </g>\n    </g>\n    <g id=\"xtick_5\">\n     <g id=\"line2d_5\">\n      <g>\n       <use style=\"stroke:#000000;stroke-width:0.8;\" x=\"279.453664\" xlink:href=\"#mb821d7ab18\" y=\"354.958125\"/>\n      </g>\n     </g>\n     <g id=\"text_5\">\n      <!-- 100 -->\n      <g transform=\"translate(269.909914 369.556562)scale(0.1 -0.1)\">\n       <defs>\n        <path d=\"M 794 531 \nL 1825 531 \nL 1825 4091 \nL 703 3866 \nL 703 4441 \nL 1819 4666 \nL 2450 4666 \nL 2450 531 \nL 3481 531 \nL 3481 0 \nL 794 0 \nL 794 531 \nz\n\" id=\"DejaVuSans-31\" transform=\"scale(0.015625)\"/>\n       </defs>\n       <use xlink:href=\"#DejaVuSans-31\"/>\n       <use x=\"63.623047\" xlink:href=\"#DejaVuSans-30\"/>\n       <use x=\"127.246094\" xlink:href=\"#DejaVuSans-30\"/>\n      </g>\n     </g>\n    </g>\n    <g id=\"xtick_6\">\n     <g id=\"line2d_6\">\n      <g>\n       <use style=\"stroke:#000000;stroke-width:0.8;\" x=\"331.749821\" xlink:href=\"#mb821d7ab18\" y=\"354.958125\"/>\n      </g>\n     </g>\n     <g id=\"text_6\">\n      <!-- 125 -->\n      <g transform=\"translate(322.206071 369.556562)scale(0.1 -0.1)\">\n       <use xlink:href=\"#DejaVuSans-31\"/>\n       <use x=\"63.623047\" xlink:href=\"#DejaVuSans-32\"/>\n       <use x=\"127.246094\" xlink:href=\"#DejaVuSans-35\"/>\n      </g>\n     </g>\n    </g>\n    <g id=\"xtick_7\">\n     <g id=\"line2d_7\">\n      <g>\n       <use style=\"stroke:#000000;stroke-width:0.8;\" x=\"384.045979\" xlink:href=\"#mb821d7ab18\" y=\"354.958125\"/>\n      </g>\n     </g>\n     <g id=\"text_7\">\n      <!-- 150 -->\n      <g transform=\"translate(374.502229 369.556562)scale(0.1 -0.1)\">\n       <use xlink:href=\"#DejaVuSans-31\"/>\n       <use x=\"63.623047\" xlink:href=\"#DejaVuSans-35\"/>\n       <use x=\"127.246094\" xlink:href=\"#DejaVuSans-30\"/>\n      </g>\n     </g>\n    </g>\n    <g id=\"xtick_8\">\n     <g id=\"line2d_8\">\n      <g>\n       <use style=\"stroke:#000000;stroke-width:0.8;\" x=\"436.342136\" xlink:href=\"#mb821d7ab18\" y=\"354.958125\"/>\n      </g>\n     </g>\n     <g id=\"text_8\">\n      <!-- 175 -->\n      <g transform=\"translate(426.798386 369.556562)scale(0.1 -0.1)\">\n       <use xlink:href=\"#DejaVuSans-31\"/>\n       <use x=\"63.623047\" xlink:href=\"#DejaVuSans-37\"/>\n       <use x=\"127.246094\" xlink:href=\"#DejaVuSans-35\"/>\n      </g>\n     </g>\n    </g>\n    <g id=\"xtick_9\">\n     <g id=\"line2d_9\">\n      <g>\n       <use style=\"stroke:#000000;stroke-width:0.8;\" x=\"488.638294\" xlink:href=\"#mb821d7ab18\" y=\"354.958125\"/>\n      </g>\n     </g>\n     <g id=\"text_9\">\n      <!-- 200 -->\n      <g transform=\"translate(479.094544 369.556562)scale(0.1 -0.1)\">\n       <use xlink:href=\"#DejaVuSans-32\"/>\n       <use x=\"63.623047\" xlink:href=\"#DejaVuSans-30\"/>\n       <use x=\"127.246094\" xlink:href=\"#DejaVuSans-30\"/>\n      </g>\n     </g>\n    </g>\n    <g id=\"text_10\">\n     <!-- Epochs -->\n     <g transform=\"translate(255.2625 383.234687)scale(0.1 -0.1)\">\n      <defs>\n       <path d=\"M 628 4666 \nL 3578 4666 \nL 3578 4134 \nL 1259 4134 \nL 1259 2753 \nL 3481 2753 \nL 3481 2222 \nL 1259 2222 \nL 1259 531 \nL 3634 531 \nL 3634 0 \nL 628 0 \nL 628 4666 \nz\n\" id=\"DejaVuSans-45\" transform=\"scale(0.015625)\"/>\n       <path d=\"M 1159 525 \nL 1159 -1331 \nL 581 -1331 \nL 581 3500 \nL 1159 3500 \nL 1159 2969 \nQ 1341 3281 1617 3432 \nQ 1894 3584 2278 3584 \nQ 2916 3584 3314 3078 \nQ 3713 2572 3713 1747 \nQ 3713 922 3314 415 \nQ 2916 -91 2278 -91 \nQ 1894 -91 1617 61 \nQ 1341 213 1159 525 \nz\nM 3116 1747 \nQ 3116 2381 2855 2742 \nQ 2594 3103 2138 3103 \nQ 1681 3103 1420 2742 \nQ 1159 2381 1159 1747 \nQ 1159 1113 1420 752 \nQ 1681 391 2138 391 \nQ 2594 391 2855 752 \nQ 3116 1113 3116 1747 \nz\n\" id=\"DejaVuSans-70\" transform=\"scale(0.015625)\"/>\n       <path d=\"M 1959 3097 \nQ 1497 3097 1228 2736 \nQ 959 2375 959 1747 \nQ 959 1119 1226 758 \nQ 1494 397 1959 397 \nQ 2419 397 2687 759 \nQ 2956 1122 2956 1747 \nQ 2956 2369 2687 2733 \nQ 2419 3097 1959 3097 \nz\nM 1959 3584 \nQ 2709 3584 3137 3096 \nQ 3566 2609 3566 1747 \nQ 3566 888 3137 398 \nQ 2709 -91 1959 -91 \nQ 1206 -91 779 398 \nQ 353 888 353 1747 \nQ 353 2609 779 3096 \nQ 1206 3584 1959 3584 \nz\n\" id=\"DejaVuSans-6f\" transform=\"scale(0.015625)\"/>\n       <path d=\"M 3122 3366 \nL 3122 2828 \nQ 2878 2963 2633 3030 \nQ 2388 3097 2138 3097 \nQ 1578 3097 1268 2742 \nQ 959 2388 959 1747 \nQ 959 1106 1268 751 \nQ 1578 397 2138 397 \nQ 2388 397 2633 464 \nQ 2878 531 3122 666 \nL 3122 134 \nQ 2881 22 2623 -34 \nQ 2366 -91 2075 -91 \nQ 1284 -91 818 406 \nQ 353 903 353 1747 \nQ 353 2603 823 3093 \nQ 1294 3584 2113 3584 \nQ 2378 3584 2631 3529 \nQ 2884 3475 3122 3366 \nz\n\" id=\"DejaVuSans-63\" transform=\"scale(0.015625)\"/>\n       <path d=\"M 3513 2113 \nL 3513 0 \nL 2938 0 \nL 2938 2094 \nQ 2938 2591 2744 2837 \nQ 2550 3084 2163 3084 \nQ 1697 3084 1428 2787 \nQ 1159 2491 1159 1978 \nL 1159 0 \nL 581 0 \nL 581 4863 \nL 1159 4863 \nL 1159 2956 \nQ 1366 3272 1645 3428 \nQ 1925 3584 2291 3584 \nQ 2894 3584 3203 3211 \nQ 3513 2838 3513 2113 \nz\n\" id=\"DejaVuSans-68\" transform=\"scale(0.015625)\"/>\n       <path d=\"M 2834 3397 \nL 2834 2853 \nQ 2591 2978 2328 3040 \nQ 2066 3103 1784 3103 \nQ 1356 3103 1142 2972 \nQ 928 2841 928 2578 \nQ 928 2378 1081 2264 \nQ 1234 2150 1697 2047 \nL 1894 2003 \nQ 2506 1872 2764 1633 \nQ 3022 1394 3022 966 \nQ 3022 478 2636 193 \nQ 2250 -91 1575 -91 \nQ 1294 -91 989 -36 \nQ 684 19 347 128 \nL 347 722 \nQ 666 556 975 473 \nQ 1284 391 1588 391 \nQ 1994 391 2212 530 \nQ 2431 669 2431 922 \nQ 2431 1156 2273 1281 \nQ 2116 1406 1581 1522 \nL 1381 1569 \nQ 847 1681 609 1914 \nQ 372 2147 372 2553 \nQ 372 3047 722 3315 \nQ 1072 3584 1716 3584 \nQ 2034 3584 2315 3537 \nQ 2597 3491 2834 3397 \nz\n\" id=\"DejaVuSans-73\" transform=\"scale(0.015625)\"/>\n      </defs>\n      <use xlink:href=\"#DejaVuSans-45\"/>\n      <use x=\"63.183594\" xlink:href=\"#DejaVuSans-70\"/>\n      <use x=\"126.660156\" xlink:href=\"#DejaVuSans-6f\"/>\n      <use x=\"187.841797\" xlink:href=\"#DejaVuSans-63\"/>\n      <use x=\"242.822266\" xlink:href=\"#DejaVuSans-68\"/>\n      <use x=\"306.201172\" xlink:href=\"#DejaVuSans-73\"/>\n     </g>\n    </g>\n   </g>\n   <g id=\"matplotlib.axis_2\">\n    <g id=\"ytick_1\">\n     <g id=\"line2d_10\">\n      <defs>\n       <path d=\"M 0 0 \nL -3.5 0 \n\" id=\"m4b6fc94e2e\" style=\"stroke:#000000;stroke-width:0.8;\"/>\n      </defs>\n      <g>\n       <use style=\"stroke:#000000;stroke-width:0.8;\" x=\"49.978125\" xlink:href=\"#m4b6fc94e2e\" y=\"323.784785\"/>\n      </g>\n     </g>\n     <g id=\"text_11\">\n      <!-- $\\mathdefault{10^{90}}$ -->\n      <g transform=\"translate(20.878125 327.584004)scale(0.1 -0.1)\">\n       <defs>\n        <path d=\"M 703 97 \nL 703 672 \nQ 941 559 1184 500 \nQ 1428 441 1663 441 \nQ 2288 441 2617 861 \nQ 2947 1281 2994 2138 \nQ 2813 1869 2534 1725 \nQ 2256 1581 1919 1581 \nQ 1219 1581 811 2004 \nQ 403 2428 403 3163 \nQ 403 3881 828 4315 \nQ 1253 4750 1959 4750 \nQ 2769 4750 3195 4129 \nQ 3622 3509 3622 2328 \nQ 3622 1225 3098 567 \nQ 2575 -91 1691 -91 \nQ 1453 -91 1209 -44 \nQ 966 3 703 97 \nz\nM 1959 2075 \nQ 2384 2075 2632 2365 \nQ 2881 2656 2881 3163 \nQ 2881 3666 2632 3958 \nQ 2384 4250 1959 4250 \nQ 1534 4250 1286 3958 \nQ 1038 3666 1038 3163 \nQ 1038 2656 1286 2365 \nQ 1534 2075 1959 2075 \nz\n\" id=\"DejaVuSans-39\" transform=\"scale(0.015625)\"/>\n       </defs>\n       <use transform=\"translate(0 0.765625)\" xlink:href=\"#DejaVuSans-31\"/>\n       <use transform=\"translate(63.623047 0.765625)\" xlink:href=\"#DejaVuSans-30\"/>\n       <use transform=\"translate(128.203125 39.046875)scale(0.7)\" xlink:href=\"#DejaVuSans-39\"/>\n       <use transform=\"translate(172.739258 39.046875)scale(0.7)\" xlink:href=\"#DejaVuSans-30\"/>\n      </g>\n     </g>\n    </g>\n    <g id=\"ytick_2\">\n     <g id=\"line2d_11\">\n      <g>\n       <use style=\"stroke:#000000;stroke-width:0.8;\" x=\"49.978125\" xlink:href=\"#m4b6fc94e2e\" y=\"268.849678\"/>\n      </g>\n     </g>\n     <g id=\"text_12\">\n      <!-- $\\mathdefault{10^{91}}$ -->\n      <g transform=\"translate(20.878125 272.648896)scale(0.1 -0.1)\">\n       <use transform=\"translate(0 0.765625)\" xlink:href=\"#DejaVuSans-31\"/>\n       <use transform=\"translate(63.623047 0.765625)\" xlink:href=\"#DejaVuSans-30\"/>\n       <use transform=\"translate(128.203125 39.046875)scale(0.7)\" xlink:href=\"#DejaVuSans-39\"/>\n       <use transform=\"translate(172.739258 39.046875)scale(0.7)\" xlink:href=\"#DejaVuSans-31\"/>\n      </g>\n     </g>\n    </g>\n    <g id=\"ytick_3\">\n     <g id=\"line2d_12\">\n      <g>\n       <use style=\"stroke:#000000;stroke-width:0.8;\" x=\"49.978125\" xlink:href=\"#m4b6fc94e2e\" y=\"213.91457\"/>\n      </g>\n     </g>\n     <g id=\"text_13\">\n      <!-- $\\mathdefault{10^{92}}$ -->\n      <g transform=\"translate(21.078125 217.713789)scale(0.1 -0.1)\">\n       <use transform=\"translate(0 0.765625)\" xlink:href=\"#DejaVuSans-31\"/>\n       <use transform=\"translate(63.623047 0.765625)\" xlink:href=\"#DejaVuSans-30\"/>\n       <use transform=\"translate(128.203125 39.046875)scale(0.7)\" xlink:href=\"#DejaVuSans-39\"/>\n       <use transform=\"translate(171.514258 39.046875)scale(0.7)\" xlink:href=\"#DejaVuSans-32\"/>\n      </g>\n     </g>\n    </g>\n    <g id=\"ytick_4\">\n     <g id=\"line2d_13\">\n      <g>\n       <use style=\"stroke:#000000;stroke-width:0.8;\" x=\"49.978125\" xlink:href=\"#m4b6fc94e2e\" y=\"158.979463\"/>\n      </g>\n     </g>\n     <g id=\"text_14\">\n      <!-- $\\mathdefault{10^{93}}$ -->\n      <g transform=\"translate(20.878125 162.778681)scale(0.1 -0.1)\">\n       <defs>\n        <path d=\"M 2597 2516 \nQ 3050 2419 3304 2112 \nQ 3559 1806 3559 1356 \nQ 3559 666 3084 287 \nQ 2609 -91 1734 -91 \nQ 1441 -91 1130 -33 \nQ 819 25 488 141 \nL 488 750 \nQ 750 597 1062 519 \nQ 1375 441 1716 441 \nQ 2309 441 2620 675 \nQ 2931 909 2931 1356 \nQ 2931 1769 2642 2001 \nQ 2353 2234 1838 2234 \nL 1294 2234 \nL 1294 2753 \nL 1863 2753 \nQ 2328 2753 2575 2939 \nQ 2822 3125 2822 3475 \nQ 2822 3834 2567 4026 \nQ 2313 4219 1838 4219 \nQ 1578 4219 1281 4162 \nQ 984 4106 628 3988 \nL 628 4550 \nQ 988 4650 1302 4700 \nQ 1616 4750 1894 4750 \nQ 2613 4750 3031 4423 \nQ 3450 4097 3450 3541 \nQ 3450 3153 3228 2886 \nQ 3006 2619 2597 2516 \nz\n\" id=\"DejaVuSans-33\" transform=\"scale(0.015625)\"/>\n       </defs>\n       <use transform=\"translate(0 0.765625)\" xlink:href=\"#DejaVuSans-31\"/>\n       <use transform=\"translate(63.623047 0.765625)\" xlink:href=\"#DejaVuSans-30\"/>\n       <use transform=\"translate(128.203125 39.046875)scale(0.7)\" xlink:href=\"#DejaVuSans-39\"/>\n       <use transform=\"translate(172.739258 39.046875)scale(0.7)\" xlink:href=\"#DejaVuSans-33\"/>\n      </g>\n     </g>\n    </g>\n    <g id=\"ytick_5\">\n     <g id=\"line2d_14\">\n      <g>\n       <use style=\"stroke:#000000;stroke-width:0.8;\" x=\"49.978125\" xlink:href=\"#m4b6fc94e2e\" y=\"104.044355\"/>\n      </g>\n     </g>\n     <g id=\"text_15\">\n      <!-- $\\mathdefault{10^{94}}$ -->\n      <g transform=\"translate(20.878125 107.843574)scale(0.1 -0.1)\">\n       <defs>\n        <path d=\"M 2419 4116 \nL 825 1625 \nL 2419 1625 \nL 2419 4116 \nz\nM 2253 4666 \nL 3047 4666 \nL 3047 1625 \nL 3713 1625 \nL 3713 1100 \nL 3047 1100 \nL 3047 0 \nL 2419 0 \nL 2419 1100 \nL 313 1100 \nL 313 1709 \nL 2253 4666 \nz\n\" id=\"DejaVuSans-34\" transform=\"scale(0.015625)\"/>\n       </defs>\n       <use transform=\"translate(0 0.765625)\" xlink:href=\"#DejaVuSans-31\"/>\n       <use transform=\"translate(63.623047 0.765625)\" xlink:href=\"#DejaVuSans-30\"/>\n       <use transform=\"translate(128.203125 39.046875)scale(0.7)\" xlink:href=\"#DejaVuSans-39\"/>\n       <use transform=\"translate(172.739258 39.046875)scale(0.7)\" xlink:href=\"#DejaVuSans-34\"/>\n      </g>\n     </g>\n    </g>\n    <g id=\"ytick_6\">\n     <g id=\"line2d_15\">\n      <g>\n       <use style=\"stroke:#000000;stroke-width:0.8;\" x=\"49.978125\" xlink:href=\"#m4b6fc94e2e\" y=\"49.109248\"/>\n      </g>\n     </g>\n     <g id=\"text_16\">\n      <!-- $\\mathdefault{10^{95}}$ -->\n      <g transform=\"translate(20.878125 52.908466)scale(0.1 -0.1)\">\n       <use transform=\"translate(0 0.765625)\" xlink:href=\"#DejaVuSans-31\"/>\n       <use transform=\"translate(63.623047 0.765625)\" xlink:href=\"#DejaVuSans-30\"/>\n       <use transform=\"translate(128.203125 39.046875)scale(0.7)\" xlink:href=\"#DejaVuSans-39\"/>\n       <use transform=\"translate(172.739258 39.046875)scale(0.7)\" xlink:href=\"#DejaVuSans-35\"/>\n      </g>\n     </g>\n    </g>\n    <g id=\"ytick_7\">\n     <g id=\"line2d_16\">\n      <defs>\n       <path d=\"M 0 0 \nL -2 0 \n\" id=\"m98c4fa69aa\" style=\"stroke:#000000;stroke-width:0.6;\"/>\n      </defs>\n      <g>\n       <use style=\"stroke:#000000;stroke-width:0.6;\" x=\"49.978125\" xlink:href=\"#m98c4fa69aa\" y=\"352.509185\"/>\n      </g>\n     </g>\n    </g>\n    <g id=\"ytick_8\">\n     <g id=\"line2d_17\">\n      <g>\n       <use style=\"stroke:#000000;stroke-width:0.6;\" x=\"49.978125\" xlink:href=\"#m98c4fa69aa\" y=\"345.645662\"/>\n      </g>\n     </g>\n    </g>\n    <g id=\"ytick_9\">\n     <g id=\"line2d_18\">\n      <g>\n       <use style=\"stroke:#000000;stroke-width:0.6;\" x=\"49.978125\" xlink:href=\"#m98c4fa69aa\" y=\"340.3219\"/>\n      </g>\n     </g>\n    </g>\n    <g id=\"ytick_10\">\n     <g id=\"line2d_19\">\n      <g>\n       <use style=\"stroke:#000000;stroke-width:0.6;\" x=\"49.978125\" xlink:href=\"#m98c4fa69aa\" y=\"335.97207\"/>\n      </g>\n     </g>\n    </g>\n    <g id=\"ytick_11\">\n     <g id=\"line2d_20\">\n      <g>\n       <use style=\"stroke:#000000;stroke-width:0.6;\" x=\"49.978125\" xlink:href=\"#m98c4fa69aa\" y=\"332.294341\"/>\n      </g>\n     </g>\n    </g>\n    <g id=\"ytick_12\">\n     <g id=\"line2d_21\">\n      <g>\n       <use style=\"stroke:#000000;stroke-width:0.6;\" x=\"49.978125\" xlink:href=\"#m98c4fa69aa\" y=\"329.108547\"/>\n      </g>\n     </g>\n    </g>\n    <g id=\"ytick_13\">\n     <g id=\"line2d_22\">\n      <g>\n       <use style=\"stroke:#000000;stroke-width:0.6;\" x=\"49.978125\" xlink:href=\"#m98c4fa69aa\" y=\"326.298478\"/>\n      </g>\n     </g>\n    </g>\n    <g id=\"ytick_14\">\n     <g id=\"line2d_23\">\n      <g>\n       <use style=\"stroke:#000000;stroke-width:0.6;\" x=\"49.978125\" xlink:href=\"#m98c4fa69aa\" y=\"307.24767\"/>\n      </g>\n     </g>\n    </g>\n    <g id=\"ytick_15\">\n     <g id=\"line2d_24\">\n      <g>\n       <use style=\"stroke:#000000;stroke-width:0.6;\" x=\"49.978125\" xlink:href=\"#m98c4fa69aa\" y=\"297.574078\"/>\n      </g>\n     </g>\n    </g>\n    <g id=\"ytick_16\">\n     <g id=\"line2d_25\">\n      <g>\n       <use style=\"stroke:#000000;stroke-width:0.6;\" x=\"49.978125\" xlink:href=\"#m98c4fa69aa\" y=\"290.710555\"/>\n      </g>\n     </g>\n    </g>\n    <g id=\"ytick_17\">\n     <g id=\"line2d_26\">\n      <g>\n       <use style=\"stroke:#000000;stroke-width:0.6;\" x=\"49.978125\" xlink:href=\"#m98c4fa69aa\" y=\"285.386793\"/>\n      </g>\n     </g>\n    </g>\n    <g id=\"ytick_18\">\n     <g id=\"line2d_27\">\n      <g>\n       <use style=\"stroke:#000000;stroke-width:0.6;\" x=\"49.978125\" xlink:href=\"#m98c4fa69aa\" y=\"281.036962\"/>\n      </g>\n     </g>\n    </g>\n    <g id=\"ytick_19\">\n     <g id=\"line2d_28\">\n      <g>\n       <use style=\"stroke:#000000;stroke-width:0.6;\" x=\"49.978125\" xlink:href=\"#m98c4fa69aa\" y=\"277.359233\"/>\n      </g>\n     </g>\n    </g>\n    <g id=\"ytick_20\">\n     <g id=\"line2d_29\">\n      <g>\n       <use style=\"stroke:#000000;stroke-width:0.6;\" x=\"49.978125\" xlink:href=\"#m98c4fa69aa\" y=\"274.17344\"/>\n      </g>\n     </g>\n    </g>\n    <g id=\"ytick_21\">\n     <g id=\"line2d_30\">\n      <g>\n       <use style=\"stroke:#000000;stroke-width:0.6;\" x=\"49.978125\" xlink:href=\"#m98c4fa69aa\" y=\"271.36337\"/>\n      </g>\n     </g>\n    </g>\n    <g id=\"ytick_22\">\n     <g id=\"line2d_31\">\n      <g>\n       <use style=\"stroke:#000000;stroke-width:0.6;\" x=\"49.978125\" xlink:href=\"#m98c4fa69aa\" y=\"252.312562\"/>\n      </g>\n     </g>\n    </g>\n    <g id=\"ytick_23\">\n     <g id=\"line2d_32\">\n      <g>\n       <use style=\"stroke:#000000;stroke-width:0.6;\" x=\"49.978125\" xlink:href=\"#m98c4fa69aa\" y=\"242.63897\"/>\n      </g>\n     </g>\n    </g>\n    <g id=\"ytick_24\">\n     <g id=\"line2d_33\">\n      <g>\n       <use style=\"stroke:#000000;stroke-width:0.6;\" x=\"49.978125\" xlink:href=\"#m98c4fa69aa\" y=\"235.775447\"/>\n      </g>\n     </g>\n    </g>\n    <g id=\"ytick_25\">\n     <g id=\"line2d_34\">\n      <g>\n       <use style=\"stroke:#000000;stroke-width:0.6;\" x=\"49.978125\" xlink:href=\"#m98c4fa69aa\" y=\"230.451685\"/>\n      </g>\n     </g>\n    </g>\n    <g id=\"ytick_26\">\n     <g id=\"line2d_35\">\n      <g>\n       <use style=\"stroke:#000000;stroke-width:0.6;\" x=\"49.978125\" xlink:href=\"#m98c4fa69aa\" y=\"226.101855\"/>\n      </g>\n     </g>\n    </g>\n    <g id=\"ytick_27\">\n     <g id=\"line2d_36\">\n      <g>\n       <use style=\"stroke:#000000;stroke-width:0.6;\" x=\"49.978125\" xlink:href=\"#m98c4fa69aa\" y=\"222.424126\"/>\n      </g>\n     </g>\n    </g>\n    <g id=\"ytick_28\">\n     <g id=\"line2d_37\">\n      <g>\n       <use style=\"stroke:#000000;stroke-width:0.6;\" x=\"49.978125\" xlink:href=\"#m98c4fa69aa\" y=\"219.238332\"/>\n      </g>\n     </g>\n    </g>\n    <g id=\"ytick_29\">\n     <g id=\"line2d_38\">\n      <g>\n       <use style=\"stroke:#000000;stroke-width:0.6;\" x=\"49.978125\" xlink:href=\"#m98c4fa69aa\" y=\"216.428263\"/>\n      </g>\n     </g>\n    </g>\n    <g id=\"ytick_30\">\n     <g id=\"line2d_39\">\n      <g>\n       <use style=\"stroke:#000000;stroke-width:0.6;\" x=\"49.978125\" xlink:href=\"#m98c4fa69aa\" y=\"197.377455\"/>\n      </g>\n     </g>\n    </g>\n    <g id=\"ytick_31\">\n     <g id=\"line2d_40\">\n      <g>\n       <use style=\"stroke:#000000;stroke-width:0.6;\" x=\"49.978125\" xlink:href=\"#m98c4fa69aa\" y=\"187.703863\"/>\n      </g>\n     </g>\n    </g>\n    <g id=\"ytick_32\">\n     <g id=\"line2d_41\">\n      <g>\n       <use style=\"stroke:#000000;stroke-width:0.6;\" x=\"49.978125\" xlink:href=\"#m98c4fa69aa\" y=\"180.84034\"/>\n      </g>\n     </g>\n    </g>\n    <g id=\"ytick_33\">\n     <g id=\"line2d_42\">\n      <g>\n       <use style=\"stroke:#000000;stroke-width:0.6;\" x=\"49.978125\" xlink:href=\"#m98c4fa69aa\" y=\"175.516578\"/>\n      </g>\n     </g>\n    </g>\n    <g id=\"ytick_34\">\n     <g id=\"line2d_43\">\n      <g>\n       <use style=\"stroke:#000000;stroke-width:0.6;\" x=\"49.978125\" xlink:href=\"#m98c4fa69aa\" y=\"171.166748\"/>\n      </g>\n     </g>\n    </g>\n    <g id=\"ytick_35\">\n     <g id=\"line2d_44\">\n      <g>\n       <use style=\"stroke:#000000;stroke-width:0.6;\" x=\"49.978125\" xlink:href=\"#m98c4fa69aa\" y=\"167.489018\"/>\n      </g>\n     </g>\n    </g>\n    <g id=\"ytick_36\">\n     <g id=\"line2d_45\">\n      <g>\n       <use style=\"stroke:#000000;stroke-width:0.6;\" x=\"49.978125\" xlink:href=\"#m98c4fa69aa\" y=\"164.303225\"/>\n      </g>\n     </g>\n    </g>\n    <g id=\"ytick_37\">\n     <g id=\"line2d_46\">\n      <g>\n       <use style=\"stroke:#000000;stroke-width:0.6;\" x=\"49.978125\" xlink:href=\"#m98c4fa69aa\" y=\"161.493155\"/>\n      </g>\n     </g>\n    </g>\n    <g id=\"ytick_38\">\n     <g id=\"line2d_47\">\n      <g>\n       <use style=\"stroke:#000000;stroke-width:0.6;\" x=\"49.978125\" xlink:href=\"#m98c4fa69aa\" y=\"142.442347\"/>\n      </g>\n     </g>\n    </g>\n    <g id=\"ytick_39\">\n     <g id=\"line2d_48\">\n      <g>\n       <use style=\"stroke:#000000;stroke-width:0.6;\" x=\"49.978125\" xlink:href=\"#m98c4fa69aa\" y=\"132.768755\"/>\n      </g>\n     </g>\n    </g>\n    <g id=\"ytick_40\">\n     <g id=\"line2d_49\">\n      <g>\n       <use style=\"stroke:#000000;stroke-width:0.6;\" x=\"49.978125\" xlink:href=\"#m98c4fa69aa\" y=\"125.905232\"/>\n      </g>\n     </g>\n    </g>\n    <g id=\"ytick_41\">\n     <g id=\"line2d_50\">\n      <g>\n       <use style=\"stroke:#000000;stroke-width:0.6;\" x=\"49.978125\" xlink:href=\"#m98c4fa69aa\" y=\"120.58147\"/>\n      </g>\n     </g>\n    </g>\n    <g id=\"ytick_42\">\n     <g id=\"line2d_51\">\n      <g>\n       <use style=\"stroke:#000000;stroke-width:0.6;\" x=\"49.978125\" xlink:href=\"#m98c4fa69aa\" y=\"116.23164\"/>\n      </g>\n     </g>\n    </g>\n    <g id=\"ytick_43\">\n     <g id=\"line2d_52\">\n      <g>\n       <use style=\"stroke:#000000;stroke-width:0.6;\" x=\"49.978125\" xlink:href=\"#m98c4fa69aa\" y=\"112.553911\"/>\n      </g>\n     </g>\n    </g>\n    <g id=\"ytick_44\">\n     <g id=\"line2d_53\">\n      <g>\n       <use style=\"stroke:#000000;stroke-width:0.6;\" x=\"49.978125\" xlink:href=\"#m98c4fa69aa\" y=\"109.368117\"/>\n      </g>\n     </g>\n    </g>\n    <g id=\"ytick_45\">\n     <g id=\"line2d_54\">\n      <g>\n       <use style=\"stroke:#000000;stroke-width:0.6;\" x=\"49.978125\" xlink:href=\"#m98c4fa69aa\" y=\"106.558048\"/>\n      </g>\n     </g>\n    </g>\n    <g id=\"ytick_46\">\n     <g id=\"line2d_55\">\n      <g>\n       <use style=\"stroke:#000000;stroke-width:0.6;\" x=\"49.978125\" xlink:href=\"#m98c4fa69aa\" y=\"87.50724\"/>\n      </g>\n     </g>\n    </g>\n    <g id=\"ytick_47\">\n     <g id=\"line2d_56\">\n      <g>\n       <use style=\"stroke:#000000;stroke-width:0.6;\" x=\"49.978125\" xlink:href=\"#m98c4fa69aa\" y=\"77.833648\"/>\n      </g>\n     </g>\n    </g>\n    <g id=\"ytick_48\">\n     <g id=\"line2d_57\">\n      <g>\n       <use style=\"stroke:#000000;stroke-width:0.6;\" x=\"49.978125\" xlink:href=\"#m98c4fa69aa\" y=\"70.970125\"/>\n      </g>\n     </g>\n    </g>\n    <g id=\"ytick_49\">\n     <g id=\"line2d_58\">\n      <g>\n       <use style=\"stroke:#000000;stroke-width:0.6;\" x=\"49.978125\" xlink:href=\"#m98c4fa69aa\" y=\"65.646363\"/>\n      </g>\n     </g>\n    </g>\n    <g id=\"ytick_50\">\n     <g id=\"line2d_59\">\n      <g>\n       <use style=\"stroke:#000000;stroke-width:0.6;\" x=\"49.978125\" xlink:href=\"#m98c4fa69aa\" y=\"61.296533\"/>\n      </g>\n     </g>\n    </g>\n    <g id=\"ytick_51\">\n     <g id=\"line2d_60\">\n      <g>\n       <use style=\"stroke:#000000;stroke-width:0.6;\" x=\"49.978125\" xlink:href=\"#m98c4fa69aa\" y=\"57.618803\"/>\n      </g>\n     </g>\n    </g>\n    <g id=\"ytick_52\">\n     <g id=\"line2d_61\">\n      <g>\n       <use style=\"stroke:#000000;stroke-width:0.6;\" x=\"49.978125\" xlink:href=\"#m98c4fa69aa\" y=\"54.43301\"/>\n      </g>\n     </g>\n    </g>\n    <g id=\"ytick_53\">\n     <g id=\"line2d_62\">\n      <g>\n       <use style=\"stroke:#000000;stroke-width:0.6;\" x=\"49.978125\" xlink:href=\"#m98c4fa69aa\" y=\"51.62294\"/>\n      </g>\n     </g>\n    </g>\n    <g id=\"ytick_54\">\n     <g id=\"line2d_63\">\n      <g>\n       <use style=\"stroke:#000000;stroke-width:0.6;\" x=\"49.978125\" xlink:href=\"#m98c4fa69aa\" y=\"32.572132\"/>\n      </g>\n     </g>\n    </g>\n    <g id=\"ytick_55\">\n     <g id=\"line2d_64\">\n      <g>\n       <use style=\"stroke:#000000;stroke-width:0.6;\" x=\"49.978125\" xlink:href=\"#m98c4fa69aa\" y=\"22.89854\"/>\n      </g>\n     </g>\n    </g>\n    <g id=\"text_17\">\n     <!-- log(Loss) -->\n     <g transform=\"translate(14.798438 211.129531)rotate(-90)scale(0.1 -0.1)\">\n      <defs>\n       <path d=\"M 603 4863 \nL 1178 4863 \nL 1178 0 \nL 603 0 \nL 603 4863 \nz\n\" id=\"DejaVuSans-6c\" transform=\"scale(0.015625)\"/>\n       <path d=\"M 2906 1791 \nQ 2906 2416 2648 2759 \nQ 2391 3103 1925 3103 \nQ 1463 3103 1205 2759 \nQ 947 2416 947 1791 \nQ 947 1169 1205 825 \nQ 1463 481 1925 481 \nQ 2391 481 2648 825 \nQ 2906 1169 2906 1791 \nz\nM 3481 434 \nQ 3481 -459 3084 -895 \nQ 2688 -1331 1869 -1331 \nQ 1566 -1331 1297 -1286 \nQ 1028 -1241 775 -1147 \nL 775 -588 \nQ 1028 -725 1275 -790 \nQ 1522 -856 1778 -856 \nQ 2344 -856 2625 -561 \nQ 2906 -266 2906 331 \nL 2906 616 \nQ 2728 306 2450 153 \nQ 2172 0 1784 0 \nQ 1141 0 747 490 \nQ 353 981 353 1791 \nQ 353 2603 747 3093 \nQ 1141 3584 1784 3584 \nQ 2172 3584 2450 3431 \nQ 2728 3278 2906 2969 \nL 2906 3500 \nL 3481 3500 \nL 3481 434 \nz\n\" id=\"DejaVuSans-67\" transform=\"scale(0.015625)\"/>\n       <path d=\"M 1984 4856 \nQ 1566 4138 1362 3434 \nQ 1159 2731 1159 2009 \nQ 1159 1288 1364 580 \nQ 1569 -128 1984 -844 \nL 1484 -844 \nQ 1016 -109 783 600 \nQ 550 1309 550 2009 \nQ 550 2706 781 3412 \nQ 1013 4119 1484 4856 \nL 1984 4856 \nz\n\" id=\"DejaVuSans-28\" transform=\"scale(0.015625)\"/>\n       <path d=\"M 628 4666 \nL 1259 4666 \nL 1259 531 \nL 3531 531 \nL 3531 0 \nL 628 0 \nL 628 4666 \nz\n\" id=\"DejaVuSans-4c\" transform=\"scale(0.015625)\"/>\n       <path d=\"M 513 4856 \nL 1013 4856 \nQ 1481 4119 1714 3412 \nQ 1947 2706 1947 2009 \nQ 1947 1309 1714 600 \nQ 1481 -109 1013 -844 \nL 513 -844 \nQ 928 -128 1133 580 \nQ 1338 1288 1338 2009 \nQ 1338 2731 1133 3434 \nQ 928 4138 513 4856 \nz\n\" id=\"DejaVuSans-29\" transform=\"scale(0.015625)\"/>\n      </defs>\n      <use xlink:href=\"#DejaVuSans-6c\"/>\n      <use x=\"27.783203\" xlink:href=\"#DejaVuSans-6f\"/>\n      <use x=\"88.964844\" xlink:href=\"#DejaVuSans-67\"/>\n      <use x=\"152.441406\" xlink:href=\"#DejaVuSans-28\"/>\n      <use x=\"191.455078\" xlink:href=\"#DejaVuSans-4c\"/>\n      <use x=\"245.417969\" xlink:href=\"#DejaVuSans-6f\"/>\n      <use x=\"306.599609\" xlink:href=\"#DejaVuSans-73\"/>\n      <use x=\"358.699219\" xlink:href=\"#DejaVuSans-73\"/>\n      <use x=\"410.798828\" xlink:href=\"#DejaVuSans-29\"/>\n     </g>\n    </g>\n   </g>\n   <g id=\"line2d_65\">\n    <path clip-path=\"url(#p74e11da2dc)\" d=\"M 70.269034 43.935946 \nL 72.36088 52.301624 \nL 74.452727 59.22392 \nL 76.544573 41.872702 \nL 78.636419 68.121951 \nL 80.728266 64.638803 \nL 82.820112 54.04703 \nL 84.911958 38.020154 \nL 87.003804 41.834843 \nL 89.095651 37.438125 \nL 91.187497 63.357217 \nL 93.279343 82.9513 \nL 95.37119 87.082914 \nL 97.463036 81.986917 \nL 99.554882 104.916015 \nL 101.646729 64.560639 \nL 103.738575 93.410749 \nL 105.830421 93.230203 \nL 107.922267 85.815612 \nL 110.014114 109.730562 \nL 112.10596 111.659767 \nL 114.197806 110.769856 \nL 116.289653 114.571936 \nL 118.381499 111.352184 \nL 120.473345 134.519427 \nL 122.565192 114.594889 \nL 124.657038 119.935917 \nL 126.748884 104.724887 \nL 130.932577 141.244229 \nL 133.024423 154.575819 \nL 135.116269 124.837756 \nL 137.208116 130.353483 \nL 139.299962 137.478542 \nL 141.391808 128.632846 \nL 143.483655 112.433052 \nL 145.575501 129.779207 \nL 147.667347 129.992132 \nL 149.759193 109.909093 \nL 151.85104 130.164518 \nL 153.942886 124.712437 \nL 156.034732 142.013828 \nL 158.126579 140.49107 \nL 160.218425 143.805579 \nL 162.310271 136.968437 \nL 164.402118 138.146668 \nL 166.493964 139.844772 \nL 168.58581 146.780008 \nL 170.677656 152.24978 \nL 172.769503 158.983859 \nL 174.861349 161.025799 \nL 176.953195 158.791673 \nL 179.045042 159.998143 \nL 181.136888 150.66513 \nL 183.228734 156.628508 \nL 185.32058 157.130182 \nL 187.412427 155.360837 \nL 189.504273 163.728982 \nL 191.596119 160.366844 \nL 195.779812 173.528427 \nL 197.871658 167.456044 \nL 199.963505 170.23133 \nL 202.055351 170.867645 \nL 204.147197 175.534752 \nL 206.239043 168.592211 \nL 208.33089 170.474997 \nL 212.514582 183.362672 \nL 214.606429 182.043756 \nL 216.698275 182.873034 \nL 218.790121 181.553711 \nL 220.881968 192.328328 \nL 222.973814 176.608607 \nL 225.06566 184.250185 \nL 227.157506 174.506162 \nL 229.249353 175.924292 \nL 231.341199 178.833082 \nL 233.433045 179.536958 \nL 235.524892 182.810007 \nL 237.616738 182.486664 \nL 239.708584 175.76761 \nL 241.800431 184.57709 \nL 243.892277 191.053072 \nL 245.984123 196.265542 \nL 248.075969 189.543803 \nL 250.167816 185.138143 \nL 252.259662 183.914342 \nL 254.351508 193.178396 \nL 256.443355 193.183281 \nL 258.535201 196.51352 \nL 260.627047 198.642167 \nL 262.718894 202.929925 \nL 264.81074 196.922447 \nL 266.902586 195.786421 \nL 268.994432 202.708508 \nL 271.086279 197.356226 \nL 273.178125 200.176658 \nL 275.269971 217.44177 \nL 277.361818 216.253091 \nL 279.453664 196.876629 \nL 281.54551 214.49727 \nL 283.637356 218.534116 \nL 285.729203 213.193398 \nL 287.821049 219.138095 \nL 289.912895 216.921937 \nL 292.004742 222.234004 \nL 294.096588 221.782866 \nL 296.188434 225.419299 \nL 298.280281 230.921107 \nL 300.372127 212.676541 \nL 302.463973 234.584563 \nL 304.555819 228.54002 \nL 306.647666 221.17806 \nL 308.739512 230.420779 \nL 310.831358 224.408278 \nL 312.923205 222.85373 \nL 315.015051 223.974088 \nL 317.106897 225.307574 \nL 319.198744 227.588659 \nL 321.29059 226.205236 \nL 323.382436 229.199251 \nL 325.474282 221.59335 \nL 327.566129 221.312474 \nL 329.657975 221.479666 \nL 331.749821 231.103451 \nL 333.841668 238.707233 \nL 335.933514 238.451467 \nL 338.02536 241.803071 \nL 340.117207 247.613352 \nL 342.209053 246.039129 \nL 344.300899 246.308013 \nL 346.392745 249.079805 \nL 348.484592 249.936571 \nL 350.576438 251.848808 \nL 352.668284 245.396996 \nL 354.760131 252.984911 \nL 356.851977 257.41362 \nL 358.943823 265.930712 \nL 361.03567 262.210816 \nL 363.127516 267.843877 \nL 365.219362 268.597763 \nL 367.311208 267.410422 \nL 369.403055 274.903115 \nL 371.494901 274.971605 \nL 373.586747 277.787743 \nL 375.678594 274.987841 \nL 377.77044 274.692894 \nL 379.862286 279.43476 \nL 381.954132 276.962428 \nL 384.045979 284.858457 \nL 386.137825 284.547876 \nL 388.229671 276.83293 \nL 390.321518 291.153312 \nL 392.413364 282.858821 \nL 394.50521 283.838682 \nL 396.597057 292.671101 \nL 398.688903 285.533424 \nL 400.780749 292.014429 \nL 402.872595 299.665085 \nL 404.964442 296.214946 \nL 407.056288 291.863377 \nL 409.148134 290.016225 \nL 411.239981 301.57418 \nL 413.331827 311.59846 \nL 415.423673 290.092411 \nL 417.51552 317.396332 \nL 419.607366 309.040041 \nL 421.699212 310.248386 \nL 423.791058 305.369894 \nL 425.882905 302.229163 \nL 427.974751 291.693674 \nL 430.066597 293.929599 \nL 432.158444 300.461941 \nL 434.25029 321.715705 \nL 436.342136 276.562789 \nL 438.433983 328.39356 \nL 440.525829 292.809045 \nL 442.617675 294.186075 \nL 444.709521 282.478493 \nL 446.801368 299.151624 \nL 448.893214 305.539066 \nL 450.98506 284.353344 \nL 453.076907 306.323643 \nL 455.168753 285.647335 \nL 457.260599 320.593533 \nL 459.352446 331.185156 \nL 461.444292 307.239115 \nL 463.536138 289.54651 \nL 465.627984 288.555341 \nL 467.719831 330.979493 \nL 469.811677 332.353752 \nL 471.903523 316.668878 \nL 473.99537 339.838125 \nL 476.087216 336.644634 \nL 476.087216 336.644634 \n\" style=\"fill:none;stroke:#0000ff;stroke-linecap:square;stroke-width:1.5;\"/>\n   </g>\n   <g id=\"patch_3\">\n    <path d=\"M 49.978125 354.958125 \nL 49.978125 22.318125 \n\" style=\"fill:none;stroke:#000000;stroke-linecap:square;stroke-linejoin:miter;stroke-width:0.8;\"/>\n   </g>\n   <g id=\"patch_4\">\n    <path d=\"M 496.378125 354.958125 \nL 496.378125 22.318125 \n\" style=\"fill:none;stroke:#000000;stroke-linecap:square;stroke-linejoin:miter;stroke-width:0.8;\"/>\n   </g>\n   <g id=\"patch_5\">\n    <path d=\"M 49.978125 354.958125 \nL 496.378125 354.958125 \n\" style=\"fill:none;stroke:#000000;stroke-linecap:square;stroke-linejoin:miter;stroke-width:0.8;\"/>\n   </g>\n   <g id=\"patch_6\">\n    <path d=\"M 49.978125 22.318125 \nL 496.378125 22.318125 \n\" style=\"fill:none;stroke:#000000;stroke-linecap:square;stroke-linejoin:miter;stroke-width:0.8;\"/>\n   </g>\n   <g id=\"text_18\">\n    <!-- Training -->\n    <g transform=\"translate(249.507188 16.318125)scale(0.12 -0.12)\">\n     <defs>\n      <path d=\"M -19 4666 \nL 3928 4666 \nL 3928 4134 \nL 2272 4134 \nL 2272 0 \nL 1638 0 \nL 1638 4134 \nL -19 4134 \nL -19 4666 \nz\n\" id=\"DejaVuSans-54\" transform=\"scale(0.015625)\"/>\n      <path d=\"M 2631 2963 \nQ 2534 3019 2420 3045 \nQ 2306 3072 2169 3072 \nQ 1681 3072 1420 2755 \nQ 1159 2438 1159 1844 \nL 1159 0 \nL 581 0 \nL 581 3500 \nL 1159 3500 \nL 1159 2956 \nQ 1341 3275 1631 3429 \nQ 1922 3584 2338 3584 \nQ 2397 3584 2469 3576 \nQ 2541 3569 2628 3553 \nL 2631 2963 \nz\n\" id=\"DejaVuSans-72\" transform=\"scale(0.015625)\"/>\n      <path d=\"M 2194 1759 \nQ 1497 1759 1228 1600 \nQ 959 1441 959 1056 \nQ 959 750 1161 570 \nQ 1363 391 1709 391 \nQ 2188 391 2477 730 \nQ 2766 1069 2766 1631 \nL 2766 1759 \nL 2194 1759 \nz\nM 3341 1997 \nL 3341 0 \nL 2766 0 \nL 2766 531 \nQ 2569 213 2275 61 \nQ 1981 -91 1556 -91 \nQ 1019 -91 701 211 \nQ 384 513 384 1019 \nQ 384 1609 779 1909 \nQ 1175 2209 1959 2209 \nL 2766 2209 \nL 2766 2266 \nQ 2766 2663 2505 2880 \nQ 2244 3097 1772 3097 \nQ 1472 3097 1187 3025 \nQ 903 2953 641 2809 \nL 641 3341 \nQ 956 3463 1253 3523 \nQ 1550 3584 1831 3584 \nQ 2591 3584 2966 3190 \nQ 3341 2797 3341 1997 \nz\n\" id=\"DejaVuSans-61\" transform=\"scale(0.015625)\"/>\n      <path d=\"M 603 3500 \nL 1178 3500 \nL 1178 0 \nL 603 0 \nL 603 3500 \nz\nM 603 4863 \nL 1178 4863 \nL 1178 4134 \nL 603 4134 \nL 603 4863 \nz\n\" id=\"DejaVuSans-69\" transform=\"scale(0.015625)\"/>\n      <path d=\"M 3513 2113 \nL 3513 0 \nL 2938 0 \nL 2938 2094 \nQ 2938 2591 2744 2837 \nQ 2550 3084 2163 3084 \nQ 1697 3084 1428 2787 \nQ 1159 2491 1159 1978 \nL 1159 0 \nL 581 0 \nL 581 3500 \nL 1159 3500 \nL 1159 2956 \nQ 1366 3272 1645 3428 \nQ 1925 3584 2291 3584 \nQ 2894 3584 3203 3211 \nQ 3513 2838 3513 2113 \nz\n\" id=\"DejaVuSans-6e\" transform=\"scale(0.015625)\"/>\n     </defs>\n     <use xlink:href=\"#DejaVuSans-54\"/>\n     <use x=\"46.333984\" xlink:href=\"#DejaVuSans-72\"/>\n     <use x=\"87.447266\" xlink:href=\"#DejaVuSans-61\"/>\n     <use x=\"148.726562\" xlink:href=\"#DejaVuSans-69\"/>\n     <use x=\"176.509766\" xlink:href=\"#DejaVuSans-6e\"/>\n     <use x=\"239.888672\" xlink:href=\"#DejaVuSans-69\"/>\n     <use x=\"267.671875\" xlink:href=\"#DejaVuSans-6e\"/>\n     <use x=\"331.050781\" xlink:href=\"#DejaVuSans-67\"/>\n    </g>\n   </g>\n  </g>\n </g>\n <defs>\n  <clipPath id=\"p74e11da2dc\">\n   <rect height=\"332.64\" width=\"446.4\" x=\"49.978125\" y=\"22.318125\"/>\n  </clipPath>\n </defs>\n</svg>\n",
      "text/plain": [
       "<Figure size 800x600 with 1 Axes>"
      ]
     },
     "metadata": {},
     "output_type": "display_data"
    }
   ],
   "source": [
    "set_figsize((8,6))\n",
    "plt.plot(losses, 'b-')\n",
    "plt.yscale('log')\n",
    "plt.xlabel('Epochs')\n",
    "plt.ylabel('log(Loss)')\n",
    "plt.title('Training')\n",
    "plt.show()"
   ]
  }
 ],
 "metadata": {
  "kernelspec": {
   "display_name": "Python 3",
   "language": "python",
   "name": "python3"
  },
  "language_info": {
   "codemirror_mode": {
    "name": "ipython",
    "version": 3
   },
   "file_extension": ".py",
   "mimetype": "text/x-python",
   "name": "python",
   "nbconvert_exporter": "python",
   "pygments_lexer": "ipython3",
   "version": "3.8.5"
  },
  "varInspector": {
   "cols": {
    "lenName": 16,
    "lenType": 16,
    "lenVar": 40
   },
   "kernels_config": {
    "python": {
     "delete_cmd_postfix": "",
     "delete_cmd_prefix": "del ",
     "library": "var_list.py",
     "varRefreshCmd": "print(var_dic_list())"
    },
    "r": {
     "delete_cmd_postfix": ") ",
     "delete_cmd_prefix": "rm(",
     "library": "var_list.r",
     "varRefreshCmd": "cat(var_dic_list()) "
    }
   },
   "types_to_exclude": [
    "module",
    "function",
    "builtin_function_or_method",
    "instance",
    "_Feature"
   ],
   "window_display": false
  }
 },
 "nbformat": 4,
 "nbformat_minor": 5
}
