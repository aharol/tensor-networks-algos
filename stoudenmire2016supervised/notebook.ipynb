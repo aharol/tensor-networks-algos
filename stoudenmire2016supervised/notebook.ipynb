{
 "cells": [
  {
   "cell_type": "markdown",
   "id": "90342c19",
   "metadata": {},
   "source": [
    "# About\n",
    "\n",
    "- `Title:` \"Supervised Learning with Quantum-Inspired Tensor Networks. arXiv e-prints, art\"\n",
    "- `Main Author:` Miles E. Stoudenmire\n",
    "- `Source:` [ArXiv](https://arxiv.org/abs/1605.05775)\n",
    "- `Publish Date:` 18-05-2017\n",
    "- `Reviewed Date:` 22-10-2021\n",
    "\n",
    "## Citation\n",
    "\n",
    "```latex\n",
    "@article{stoudenmire2016supervised,\n",
    "  title={Supervised learning with tensor networks},\n",
    "  author={Stoudenmire, Edwin and Schwab, David J},\n",
    "  journal={Advances in Neural Information Processing Systems},\n",
    "  volume={29},\n",
    "  year={2016}\n",
    "}\n",
    "```"
   ]
  },
  {
   "cell_type": "markdown",
   "id": "82c61e55",
   "metadata": {},
   "source": [
    "# Imports and settings"
   ]
  },
  {
   "cell_type": "code",
   "execution_count": 1,
   "id": "516a8cc3",
   "metadata": {},
   "outputs": [
    {
     "name": "stdout",
     "output_type": "stream",
     "text": [
      "env: JAX_ENABLE_X64=1\n",
      "env: JAX_PLATFORM_NAME=cpu\n"
     ]
    }
   ],
   "source": [
    "%matplotlib inline\n",
    "%env JAX_ENABLE_X64=1\n",
    "%env JAX_PLATFORM_NAME=cpu"
   ]
  },
  {
   "cell_type": "code",
   "execution_count": 2,
   "id": "80210565",
   "metadata": {},
   "outputs": [],
   "source": [
    "import jax\n",
    "import jax.numpy as jnp\n",
    "from jax import jit, grad"
   ]
  },
  {
   "cell_type": "code",
   "execution_count": 3,
   "id": "933bc00f",
   "metadata": {},
   "outputs": [],
   "source": [
    "from functools import reduce, partial\n",
    "from itertools import accumulate"
   ]
  },
  {
   "cell_type": "code",
   "execution_count": 4,
   "id": "6b833c47",
   "metadata": {},
   "outputs": [],
   "source": [
    "from typing import Any, List, Tuple, Callable, Optional, Iterable"
   ]
  },
  {
   "cell_type": "markdown",
   "id": "7cc61c86",
   "metadata": {},
   "source": [
    "## Types"
   ]
  },
  {
   "cell_type": "code",
   "execution_count": 5,
   "id": "a90da14d",
   "metadata": {},
   "outputs": [],
   "source": [
    "# type alias\n",
    "PRNGKeyArray = Any\n",
    "DeviceArray = jnp.DeviceArray"
   ]
  },
  {
   "cell_type": "markdown",
   "id": "9462d629",
   "metadata": {},
   "source": [
    "# Constants"
   ]
  },
  {
   "cell_type": "code",
   "execution_count": 6,
   "id": "c4831051",
   "metadata": {},
   "outputs": [],
   "source": [
    "seed = 123     # random seed\n",
    "bond_dim = 10  # the paper mentions 10, 20 and 120\n",
    "α = 1e-2       # learning rate\n",
    "ε = 1e-2       # the allowed truncation error\n",
    "num_sweeps = 4 # number of sweeps"
   ]
  },
  {
   "cell_type": "markdown",
   "id": "79a9bcc1",
   "metadata": {},
   "source": [
    "# Helpers"
   ]
  },
  {
   "cell_type": "code",
   "execution_count": 7,
   "id": "afc3f35d",
   "metadata": {},
   "outputs": [],
   "source": [
    "import matplotlib.pyplot as plt\n",
    "import matplotlib_inline.backend_inline\n",
    "\n",
    "SMALL_SIZE = 14\n",
    "MEDIUM_SIZE = 16\n",
    "BIG_SIZE = 18\n",
    "HUGE_SIZE = 20\n",
    "\n",
    "plt.style.use('bmh')\n",
    "\n",
    "plt.rc('font', size=SMALL_SIZE)          # controls default text sizes\n",
    "plt.rc('axes', titlesize=BIG_SIZE)       # fontsize of the axes title\n",
    "plt.rc('axes', labelsize=BIG_SIZE)       # fontsize of the x and y labels\n",
    "plt.rc('xtick', labelsize=SMALL_SIZE)    # fontsize of the tick labels\n",
    "plt.rc('ytick', labelsize=SMALL_SIZE)    # fontsize of the tick labels\n",
    "plt.rc('legend', fontsize=SMALL_SIZE)    # legend fontsize\n",
    "plt.rc('figure', titlesize=HUGE_SIZE)    # fontsize of the figure title\n",
    "plt.rc('figure', figsize=(8,6))          # figure size\n",
    "plt.rc('lines', linewidth=3)             # controls line width"
   ]
  },
  {
   "cell_type": "code",
   "execution_count": 8,
   "id": "b9a4e8e1",
   "metadata": {},
   "outputs": [],
   "source": [
    "def use_svg_display():\n",
    "    \"\"\"\n",
    "    Use the svg format to display a plot in Jupyter.\n",
    "    \"\"\"\n",
    "    matplotlib_inline.backend_inline.set_matplotlib_formats('svg')\n",
    "\n",
    "\n",
    "def set_figsize(figsize=(3.5,2.5)):\n",
    "    \"\"\"\n",
    "    Set the figure size for matplotlib.\n",
    "    \"\"\"\n",
    "    use_svg_display()\n",
    "    plt.rcParams['figure.figsize'] = figsize\n",
    "\n",
    "\n",
    "def set_axes(axes, xlabel, ylabel, xlim, ylim, xscale, yscale, legend):\n",
    "    \"\"\"\n",
    "    Set the axes for matplotlib.\n",
    "    \"\"\"\n",
    "    axes.set_xlabel(xlabel)\n",
    "    axes.set_ylabel(ylabel)\n",
    "    axes.set_xscale(xscale)\n",
    "    axes.set_yscale(yscale)\n",
    "    axes.set_xlim(xlim)\n",
    "    axes.set_ylim(ylim)\n",
    "    if legend:\n",
    "        axes.legend(legend)\n",
    "    axes.grid(b=True, which='both', color='k', linestyle=(0, (1, 10)))\n",
    "\n",
    "\n",
    "def plot(X, Y=None, xlabel=None, ylabel=None, legend=None, xlim=None,\n",
    "         ylim=None, xscale='linear', yscale='linear',\n",
    "         fmts=('-', 'm--', 'g-.', 'r:'), figsize=(3.5,2.5), axes=None,\n",
    "         title=None):\n",
    "    \"\"\"\n",
    "    Plot data points.\n",
    "    \"\"\"\n",
    "    X = jnp.asarray(X)\n",
    "    Y = jnp.asarray(Y)\n",
    "    \n",
    "    if legend is None:\n",
    "        legend = []\n",
    "\n",
    "    set_figsize(figsize)\n",
    "    axes = axes if axes else plt.gca()\n",
    "\n",
    "    # Return True if `X` (tensor or list) has 1 axis\n",
    "    def has_one_axis(X):\n",
    "        return (hasattr(X, \"ndim\") and X.ndim == 1 or\n",
    "                isinstance(X, list) and not hasattr(X[0], \"__len__\"))\n",
    "\n",
    "    if has_one_axis(X):\n",
    "        X = [X]\n",
    "    if Y is None:\n",
    "        X, Y = [[]] * len(X), X\n",
    "    elif has_one_axis(Y):\n",
    "        Y = [Y]\n",
    "    if len(X) != len(Y):\n",
    "        X = X * len(Y)\n",
    "    axes.cla()\n",
    "    for x, y, fmt in zip(X, Y, fmts):\n",
    "        if len(x):\n",
    "            axes.plot(x, y, fmt)\n",
    "        else:\n",
    "            axes.plot(y, fmt)\n",
    "    set_axes(axes, xlabel, ylabel, xlim, ylim, xscale, yscale, legend)\n",
    "    axes.set_title(title)"
   ]
  },
  {
   "cell_type": "markdown",
   "id": "39226049",
   "metadata": {},
   "source": [
    "# Load data and visualise"
   ]
  },
  {
   "cell_type": "code",
   "execution_count": 9,
   "id": "04241b2d",
   "metadata": {},
   "outputs": [],
   "source": [
    "import datasets\n",
    "\n",
    "train_images, train_labels, test_images, test_labels = datasets.mnist()"
   ]
  },
  {
   "cell_type": "code",
   "execution_count": 10,
   "id": "308302f6",
   "metadata": {},
   "outputs": [
    {
     "name": "stdout",
     "output_type": "stream",
     "text": [
      "Train data shape: (60000, 784) | Test data shape: (10000, 784)\n"
     ]
    }
   ],
   "source": [
    "print(f'Train data shape: {train_images.shape} | Test data shape: {test_images.shape}')"
   ]
  },
  {
   "cell_type": "code",
   "execution_count": 11,
   "id": "dabc9eb2",
   "metadata": {},
   "outputs": [],
   "source": [
    "def show_img(img: jnp.ndarray, axes=None, title=None, figsize=(1.5,1.5)) -> None:\n",
    "    \"\"\"\n",
    "    Shows a single image.\n",
    "    \"\"\"\n",
    "    axes = axes if axes else plt.gca()\n",
    "    set_figsize(figsize)\n",
    "    axes.imshow(img, cmap='Greys')\n",
    "    axes.set_xticks([])\n",
    "    axes.set_yticks([])\n",
    "    if title:\n",
    "        axes.set_title(title, fontsize=9)\n",
    "\n",
    "def show_img_grid(imgs: List[jnp.ndarray], titles: Iterable[str]) -> None:\n",
    "    \"\"\"\n",
    "    Shows a grid of images.\n",
    "    \"\"\"\n",
    "    n = int(jnp.ceil(len(imgs)**0.5))\n",
    "    _, axes = plt.subplots(n,n)\n",
    "    for i, (img, title) in enumerate(zip(imgs, titles)):\n",
    "        show_img(img, axes[i // n][i % n], title)"
   ]
  },
  {
   "cell_type": "code",
   "execution_count": 12,
   "id": "3233b067",
   "metadata": {},
   "outputs": [
    {
     "data": {
      "image/svg+xml": "<?xml version=\"1.0\" encoding=\"utf-8\" standalone=\"no\"?>\n<!DOCTYPE svg PUBLIC \"-//W3C//DTD SVG 1.1//EN\"\n  \"http://www.w3.org/Graphics/SVG/1.1/DTD/svg11.dtd\">\n<svg height=\"276.718594pt\" version=\"1.1\" viewBox=\"0 0 265.023529 276.718594\" width=\"265.023529pt\" xmlns=\"http://www.w3.org/2000/svg\" xmlns:xlink=\"http://www.w3.org/1999/xlink\">\n <metadata>\n  <rdf:RDF xmlns:cc=\"http://creativecommons.org/ns#\" xmlns:dc=\"http://purl.org/dc/elements/1.1/\" xmlns:rdf=\"http://www.w3.org/1999/02/22-rdf-syntax-ns#\">\n   <cc:Work>\n    <dc:type rdf:resource=\"http://purl.org/dc/dcmitype/StillImage\"/>\n    <dc:date>2022-04-18T19:03:50.552434</dc:date>\n    <dc:format>image/svg+xml</dc:format>\n    <dc:creator>\n     <cc:Agent>\n      <dc:title>Matplotlib v3.4.1, https://matplotlib.org/</dc:title>\n     </cc:Agent>\n    </dc:creator>\n   </cc:Work>\n  </rdf:RDF>\n </metadata>\n <defs>\n  <style type=\"text/css\">*{stroke-linecap:butt;stroke-linejoin:round;}</style>\n </defs>\n <g id=\"figure_1\">\n  <g id=\"patch_1\">\n   <path d=\"M 0 276.718594 \nL 265.023529 276.718594 \nL 265.023529 0 \nL 0 0 \nz\n\" style=\"fill:#ffffff;\"/>\n  </g>\n  <g id=\"axes_1\">\n   <g id=\"patch_2\">\n    <path d=\"M 7.2 93.415064 \nL 80.576471 93.415064 \nL 80.576471 20.038594 \nL 7.2 20.038594 \nz\n\" style=\"fill:#eeeeee;\"/>\n   </g>\n   <g clip-path=\"url(#p5a3a06691b)\">\n    <image height=\"73.44\" id=\"imageb17b2f00c5\" transform=\"scale(1 -1)translate(0 -73.44)\" width=\"73.44\" x=\"7.2\" xlink:href=\"data:image/png;base64,\niVBORw0KGgoAAAANSUhEUgAAAGYAAABmCAYAAAA53+RiAAAEMklEQVR4nO2dSyhtYRiG/+1OTIixMjBgIJeBMKEkI1JKGSsGYsCAUigMKIqJQspAEQMzzChiIAaSERFKuUUuYZ/J6TvrW+fsbVv79m7nfUbv29fa66/Xt/5l7X/92+V2u92GwBEV7gGQf8NgQGEwoDAYUBgMKAwGFAYDCoMBhcGAwmBAifHn4JGREdGdnZ0+H5efn698Q0PDnwHF6CE1NTUpn5CQ8J0hRizsGFAYDCgMBhSXP4/9T05ORA8MDKja+vq66NPTU6enMElJScr39/eLbmlpUbW4uDjH50GDHQMKgwHFr0uZN56fn0W3tbWp2ubmpvJHR0eOzlFdXa18T0+P8nl5eaJjY2MdnSNcsGNAYTCgMBhQgjbHeOPp6Un5s7Mz0Y2Njaq2t7fn+DyVlZWie3t7Va2oqEh5l8vl+DzBgB0DCoMBhcGAEpY5xhuPj4/Kr6ysKN/X1yf6+PjY8XnKy8uVHxoaEl1QUOD4cwMFOwYUBgMK3KXsK66vr0VPTEyo2szMjPLn5+c+f250dLTo+vp6VZubm/vOEAMCOwYUBgMKgwEl4uYYb1xcXCi/tLQkemtrS9Xm5+c9fk5xcbHyGxsbokP16IYdAwqDAeVHXcq+Q3x8vPLv7++i7YsODw4ORGdnZwd3YL9hx4DCYEBhMKD4tagcnZeXF9Hb29uq9vHx4fG4mpoa5UM1r1hhx4DCYEBhMKD8qDnm8vJS+fb2dtELCwtej+3u7hbd0dER2IE5gB0DCoMBJaIvZTs7O8pXVVUpf39/7/HY6elp5evq6kQnJycHYHT+wY4BhcGAwmBAibjH/jc3N6KzsrJULTU1VXnro5WSkhJVq62tVZ6LyolPMBhQGAwo8P/HvL29KW/dW+bh4UHVrKtZjDEmNzc3eAMLMuwYUBgMKPCXstHRUeWXl5dF2295c3JyQjGkkMCOAYXBgMJgQIGYY15fX0Xbt7a6vb31eFxra6vyaI9V/IEdAwqDAYXBgBKWx/67u7vKLy4uira/NGT9ytdOaWmp8mtra8pb56urqytVGxsbU35wcNDLiEMPOwYUBgNKSC5l1m0YjTGmsLBQeadbL9qxboNljDFpaWmire9jGvP3i0vebsvDATsGFAYDCoMBJSRzjH1PF+u2u8aE5/oeFaX/Jq232omJiR6Py8jIUN6+ajM9PT0Ao2PHwMJgQGEwoITlkYx9Fb71RdX9/X1VW11dVf7u7k705ORkwMaUmZkpuqKiQtWmpqZEp6SkqFpZWZnyw8PDov15qZYdAwqDASXiFpV/fn6Ktn7z+RWzs7PK23dLPzw8FG1fmdPV1SV6fHxc1ey31tYf1GtubvZ5fHbYMaAwGFAYDCgRN8f8L7BjQGEwoDAYUBgMKAwGFAYDCoMBhcGAwmBAYTCgMBhQGAwoDAYUBgMKgwGFwYDCYED5BeifFh+2j0cCAAAAAElFTkSuQmCC\" y=\"-19.975064\"/>\n   </g>\n   <g id=\"matplotlib.axis_1\"/>\n   <g id=\"matplotlib.axis_2\"/>\n   <g id=\"patch_3\">\n    <path d=\"M 7.2 93.415064 \nL 7.2 20.038594 \n\" style=\"fill:none;stroke:#bcbcbc;stroke-linecap:square;stroke-linejoin:miter;stroke-width:0.8;\"/>\n   </g>\n   <g id=\"patch_4\">\n    <path d=\"M 80.576471 93.415064 \nL 80.576471 20.038594 \n\" style=\"fill:none;stroke:#bcbcbc;stroke-linecap:square;stroke-linejoin:miter;stroke-width:0.8;\"/>\n   </g>\n   <g id=\"patch_5\">\n    <path d=\"M 7.2 93.415064 \nL 80.576471 93.415064 \n\" style=\"fill:none;stroke:#bcbcbc;stroke-linecap:square;stroke-linejoin:miter;stroke-width:0.8;\"/>\n   </g>\n   <g id=\"patch_6\">\n    <path d=\"M 7.2 20.038594 \nL 80.576471 20.038594 \n\" style=\"fill:none;stroke:#bcbcbc;stroke-linecap:square;stroke-linejoin:miter;stroke-width:0.8;\"/>\n   </g>\n   <g id=\"text_1\">\n    <!-- label: 5 -->\n    <g transform=\"translate(27.195345 14.038594)scale(0.09 -0.09)\">\n     <defs>\n      <path d=\"M 603 4863 \nL 1178 4863 \nL 1178 0 \nL 603 0 \nL 603 4863 \nz\n\" id=\"DejaVuSans-6c\" transform=\"scale(0.015625)\"/>\n      <path d=\"M 2194 1759 \nQ 1497 1759 1228 1600 \nQ 959 1441 959 1056 \nQ 959 750 1161 570 \nQ 1363 391 1709 391 \nQ 2188 391 2477 730 \nQ 2766 1069 2766 1631 \nL 2766 1759 \nL 2194 1759 \nz\nM 3341 1997 \nL 3341 0 \nL 2766 0 \nL 2766 531 \nQ 2569 213 2275 61 \nQ 1981 -91 1556 -91 \nQ 1019 -91 701 211 \nQ 384 513 384 1019 \nQ 384 1609 779 1909 \nQ 1175 2209 1959 2209 \nL 2766 2209 \nL 2766 2266 \nQ 2766 2663 2505 2880 \nQ 2244 3097 1772 3097 \nQ 1472 3097 1187 3025 \nQ 903 2953 641 2809 \nL 641 3341 \nQ 956 3463 1253 3523 \nQ 1550 3584 1831 3584 \nQ 2591 3584 2966 3190 \nQ 3341 2797 3341 1997 \nz\n\" id=\"DejaVuSans-61\" transform=\"scale(0.015625)\"/>\n      <path d=\"M 3116 1747 \nQ 3116 2381 2855 2742 \nQ 2594 3103 2138 3103 \nQ 1681 3103 1420 2742 \nQ 1159 2381 1159 1747 \nQ 1159 1113 1420 752 \nQ 1681 391 2138 391 \nQ 2594 391 2855 752 \nQ 3116 1113 3116 1747 \nz\nM 1159 2969 \nQ 1341 3281 1617 3432 \nQ 1894 3584 2278 3584 \nQ 2916 3584 3314 3078 \nQ 3713 2572 3713 1747 \nQ 3713 922 3314 415 \nQ 2916 -91 2278 -91 \nQ 1894 -91 1617 61 \nQ 1341 213 1159 525 \nL 1159 0 \nL 581 0 \nL 581 4863 \nL 1159 4863 \nL 1159 2969 \nz\n\" id=\"DejaVuSans-62\" transform=\"scale(0.015625)\"/>\n      <path d=\"M 3597 1894 \nL 3597 1613 \nL 953 1613 \nQ 991 1019 1311 708 \nQ 1631 397 2203 397 \nQ 2534 397 2845 478 \nQ 3156 559 3463 722 \nL 3463 178 \nQ 3153 47 2828 -22 \nQ 2503 -91 2169 -91 \nQ 1331 -91 842 396 \nQ 353 884 353 1716 \nQ 353 2575 817 3079 \nQ 1281 3584 2069 3584 \nQ 2775 3584 3186 3129 \nQ 3597 2675 3597 1894 \nz\nM 3022 2063 \nQ 3016 2534 2758 2815 \nQ 2500 3097 2075 3097 \nQ 1594 3097 1305 2825 \nQ 1016 2553 972 2059 \nL 3022 2063 \nz\n\" id=\"DejaVuSans-65\" transform=\"scale(0.015625)\"/>\n      <path d=\"M 750 794 \nL 1409 794 \nL 1409 0 \nL 750 0 \nL 750 794 \nz\nM 750 3309 \nL 1409 3309 \nL 1409 2516 \nL 750 2516 \nL 750 3309 \nz\n\" id=\"DejaVuSans-3a\" transform=\"scale(0.015625)\"/>\n      <path id=\"DejaVuSans-20\" transform=\"scale(0.015625)\"/>\n      <path d=\"M 691 4666 \nL 3169 4666 \nL 3169 4134 \nL 1269 4134 \nL 1269 2991 \nQ 1406 3038 1543 3061 \nQ 1681 3084 1819 3084 \nQ 2600 3084 3056 2656 \nQ 3513 2228 3513 1497 \nQ 3513 744 3044 326 \nQ 2575 -91 1722 -91 \nQ 1428 -91 1123 -41 \nQ 819 9 494 109 \nL 494 744 \nQ 775 591 1075 516 \nQ 1375 441 1709 441 \nQ 2250 441 2565 725 \nQ 2881 1009 2881 1497 \nQ 2881 1984 2565 2268 \nQ 2250 2553 1709 2553 \nQ 1456 2553 1204 2497 \nQ 953 2441 691 2322 \nL 691 4666 \nz\n\" id=\"DejaVuSans-35\" transform=\"scale(0.015625)\"/>\n     </defs>\n     <use xlink:href=\"#DejaVuSans-6c\"/>\n     <use x=\"27.783203\" xlink:href=\"#DejaVuSans-61\"/>\n     <use x=\"89.0625\" xlink:href=\"#DejaVuSans-62\"/>\n     <use x=\"152.539062\" xlink:href=\"#DejaVuSans-65\"/>\n     <use x=\"214.0625\" xlink:href=\"#DejaVuSans-6c\"/>\n     <use x=\"241.845703\" xlink:href=\"#DejaVuSans-3a\"/>\n     <use x=\"275.537109\" xlink:href=\"#DejaVuSans-20\"/>\n     <use x=\"307.324219\" xlink:href=\"#DejaVuSans-35\"/>\n    </g>\n   </g>\n  </g>\n  <g id=\"axes_2\">\n   <g id=\"patch_7\">\n    <path d=\"M 95.823529 93.415064 \nL 169.2 93.415064 \nL 169.2 20.038594 \nL 95.823529 20.038594 \nz\n\" style=\"fill:#eeeeee;\"/>\n   </g>\n   <g clip-path=\"url(#p0a57f9aaa5)\">\n    <image height=\"73.44\" id=\"image9ca568da55\" transform=\"scale(1 -1)translate(0 -73.44)\" width=\"73.44\" x=\"95.823529\" xlink:href=\"data:image/png;base64,\niVBORw0KGgoAAAANSUhEUgAAAGYAAABmCAYAAAA53+RiAAAEmklEQVR4nO2cSyh1XxjG10GUaygTuSYzyUAZuM2YSrnEQMmAXJKMUAYMhCSEzEQGBsyUTKSYiIFcUsp9wIBkQMR/tlrv+r5zPud/zt7n+b6e3+h9eu291+nxrrX2Wntvz/f397cicISFugHk99AYUGgMKDQGFBoDCo0BhcaAQmNAoTGg0BhQaAwoNAYUGgMKjQElwo2LvL6+Cr24uCh0Z2enju1dCI/HI/TQ0JCOW1paRC45OTmgdiLBigGFxoDicWoH8+XlRcc1NTUit7W15fW4P3VlJikpKUK3trYKPTAw8Md2osKKAYXGgEJjQHFsjNnb29NxSUnJj49LTU0VOikpSeijo6Mfn6uysvK3sVJKtbe3//g8oYAVAwqNAYXGgOLKkoxNeHi40H19fTpubm4Wubi4OKGPj491PD8/L3I7OztCb2xs6Pj8/Fzkzs7OhO7p6dFxVlaW17a7BSsGFBoDimPT5d3dXR3b0+XMzEyhLy4unGiCWllZ0XFHR4fIPT09CW2ucE9MTDjSHn9gxYBCY0ChMaA4Nl02l+vtpfumpianLiuor6/XcWlpqciNjIwIPTU1pWN7x3VhYcGB1vmGFQMKjQElJKvL2dnZQtt35W7w+fkp9OzsrI67u7tFLiMjQ8fr6+sil5eXF/zGKVYMLDQGFBoDSkhWl9/e3oQ2p6exsbGutCEiQv508wmbj48Pkevt7dXx8PCwyNkPL0ZGRgalfawYUGgMKDQGFMfuYw4PD3VcXFwscu/v70IvLy/ruLa21onmBIS542ovL/X39ws9ODgYlGuyYkChMaA4Nl0uKCjQsb2yu7m5KfTq6qqOEbuyr68vHYeFyf/l/f19R67JigGFxoBCY0BxZUlmZmZG6NzcXKHNpXR7C8D+21Bgjiv2dNnXi1UBXdORs5KAoTGg0BhQXBlj0tPThW5sbBR6aWlJx0VFRSK3vb0tdE5Ojo7t5fn4+PiA2okEKwYUGgOKK12ZvVs4NjYmtNkF2VPriooKoc13V8bHx0XO7gbdwKl3aVgxoNAYUGgMKI7tYPrD3d2djvPz80Xu+fnZ63ENDQ1C2w9/n5yc6Pjg4EDk6urqhI6OjvZ6HXMHMyYmRuTMd0KVUiotLc3refyBFQMKjQGFxoACMcaY3NzcCG1uUSv160utJlVVVUJXV1fr2F4GsscC82Xe+/t7kSssLNRxW1ubyNn3XcGCFQMKjQElJA+V+8LuYuwuaHp62uux9ktFa2trOrZ3Gm9vb4U+PT3V8dzcnMj52sF0ClYMKDQGFBoDCtwYYzM6Oiq0+clE+3OKl5eXPz5vWVmZ0OZSizk22djTd6dgxYBCY0ChMaDALcn4w9XVldDl5eVCX19f69i+/0hISBA6KipKxw8PDyJnPh1qfoxBqV8/IxksWDGg0BhQ/uquzMbcCVVK7ob62gm1SUxMFPrx8TGgdv0fWDGg0BhQaAwo/9QYY2Puhk5OToqc/Qlf8xtlXV1dIhesJ1/8gRUDCo0B5Z/uyv5mWDGg0BhQaAwoNAYUGgMKjQGFxoBCY0ChMaDQGFBoDCg0BhQaAwqNAeU/dJkmn/1uwvMAAAAASUVORK5CYII=\" y=\"-19.975064\"/>\n   </g>\n   <g id=\"matplotlib.axis_3\"/>\n   <g id=\"matplotlib.axis_4\"/>\n   <g id=\"patch_8\">\n    <path d=\"M 95.823529 93.415064 \nL 95.823529 20.038594 \n\" style=\"fill:none;stroke:#bcbcbc;stroke-linecap:square;stroke-linejoin:miter;stroke-width:0.8;\"/>\n   </g>\n   <g id=\"patch_9\">\n    <path d=\"M 169.2 93.415064 \nL 169.2 20.038594 \n\" style=\"fill:none;stroke:#bcbcbc;stroke-linecap:square;stroke-linejoin:miter;stroke-width:0.8;\"/>\n   </g>\n   <g id=\"patch_10\">\n    <path d=\"M 95.823529 93.415064 \nL 169.2 93.415064 \n\" style=\"fill:none;stroke:#bcbcbc;stroke-linecap:square;stroke-linejoin:miter;stroke-width:0.8;\"/>\n   </g>\n   <g id=\"patch_11\">\n    <path d=\"M 95.823529 20.038594 \nL 169.2 20.038594 \n\" style=\"fill:none;stroke:#bcbcbc;stroke-linecap:square;stroke-linejoin:miter;stroke-width:0.8;\"/>\n   </g>\n   <g id=\"text_2\">\n    <!-- label: 0 -->\n    <g transform=\"translate(115.818874 14.038594)scale(0.09 -0.09)\">\n     <defs>\n      <path d=\"M 2034 4250 \nQ 1547 4250 1301 3770 \nQ 1056 3291 1056 2328 \nQ 1056 1369 1301 889 \nQ 1547 409 2034 409 \nQ 2525 409 2770 889 \nQ 3016 1369 3016 2328 \nQ 3016 3291 2770 3770 \nQ 2525 4250 2034 4250 \nz\nM 2034 4750 \nQ 2819 4750 3233 4129 \nQ 3647 3509 3647 2328 \nQ 3647 1150 3233 529 \nQ 2819 -91 2034 -91 \nQ 1250 -91 836 529 \nQ 422 1150 422 2328 \nQ 422 3509 836 4129 \nQ 1250 4750 2034 4750 \nz\n\" id=\"DejaVuSans-30\" transform=\"scale(0.015625)\"/>\n     </defs>\n     <use xlink:href=\"#DejaVuSans-6c\"/>\n     <use x=\"27.783203\" xlink:href=\"#DejaVuSans-61\"/>\n     <use x=\"89.0625\" xlink:href=\"#DejaVuSans-62\"/>\n     <use x=\"152.539062\" xlink:href=\"#DejaVuSans-65\"/>\n     <use x=\"214.0625\" xlink:href=\"#DejaVuSans-6c\"/>\n     <use x=\"241.845703\" xlink:href=\"#DejaVuSans-3a\"/>\n     <use x=\"275.537109\" xlink:href=\"#DejaVuSans-20\"/>\n     <use x=\"307.324219\" xlink:href=\"#DejaVuSans-30\"/>\n    </g>\n   </g>\n  </g>\n  <g id=\"axes_3\">\n   <g id=\"patch_12\">\n    <path d=\"M 184.447059 93.415064 \nL 257.823529 93.415064 \nL 257.823529 20.038594 \nL 184.447059 20.038594 \nz\n\" style=\"fill:#eeeeee;\"/>\n   </g>\n   <g clip-path=\"url(#p2287bd78e6)\">\n    <image height=\"73.44\" id=\"image8f8c7a458e\" transform=\"scale(1 -1)translate(0 -73.44)\" width=\"73.44\" x=\"184.447059\" xlink:href=\"data:image/png;base64,\niVBORw0KGgoAAAANSUhEUgAAAGYAAABmCAYAAAA53+RiAAADiElEQVR4nO2dv0uyURTHHytQKkIEFyUiKCpQEBdRaumHk39B7Y1NLS0NQYPg5BRtTS3q4OAigk7VIERDtTUELtVqP4Z8hzcu99xXQXsefb68fj/TORzSE5/OvXqfx/R0Op2OReCYcLsB0h2KAYViQKEYUCgGFIoBhWJAoRhQKAYUigFlyu0G3KJWq4l8Z2dHxUdHR6J2eno6kp50ODGgUAwoFAPK2O4xxWJR5GhXPzgxoFAMKGO7lJl4PB63WxBwYkChGFAoBhTuMV3Y3Nx0uwVODCoUAwrFgMI95gf9SGZiwv2/V/c7IF2hGFC4lP2gH8ksLCy42MlfODGgUAwoFAMKxYBCMaBQDCh8udyFUqkk8sPDw5H3wIkBhWJAoRhQPHY+539xcaHier3uRD/W7u6uyJeWlkS+uLjoyPNUKhWRZzIZFa+urora/f29I885CJwYUCgGFIoBZaA95vj4WOT6B3oCgYCorays9N3E1dWVis12pqbkW63Z2VkVJxIJUVtfXxf5xsaGimOxmKjNzMyIfH5+XsWvr6+i9vX11av1ocGJAYViQBnoSKbdbotcX3bK5bKoJZPJvh+31Wqp+Pv7W9QajYbIn56eVGwuMblcTuTZbFbF5tKVTqdF/v7+3rOHl5cXFQeDwX9/gSHAiQGFYkChGFAcO/b3+/2//tlQKNSztre31/fjnJyciPzz81PFzWZT1M7Pz0X+8fGhYnOPeXh4UDH3mDGHYkChGFAc22Nubm5Evra25tRD/xqv16viVColamau75H5fF7UDg4OVHx9fS1qPp/Pbptd4cSAQjGgDLSURSKRnrXb21u7vbiKflJeKBRE7e7uTsXmMRCXsjGDYkChGFAG2mPMo/Lp6WlHm3ET/bJANBoVNf2yxNvbm6jNzc0NpR9ODCgUAwrFgDLQHmMez4fDYUebQcG840enWq2KfH9/fyg9cGJAoRhQbJ0uT05OOtUHFGdnZyK/vLxUsX41c5hwYkChGFAoBhRbe4x+Ze/x8dF2MyjoN65blvx2DPNbNPS7NC3LubtoODGgUAwoFAOKrT1ma2tLxfF43HYzKJj/Tn55eVnFz8/PI+mBEwMKxYBi63P+44J+DLO9vS1q5t1BfLn8n0MxoFAMKNxjQOHEgEIxoFAMKBQDCsWAQjGgUAwoFAMKxYBCMaBQDCgUAwrFgEIxoFAMKBQDCsWA8gdSOLgq1TpxIAAAAABJRU5ErkJggg==\" y=\"-19.975064\"/>\n   </g>\n   <g id=\"matplotlib.axis_5\"/>\n   <g id=\"matplotlib.axis_6\"/>\n   <g id=\"patch_13\">\n    <path d=\"M 184.447059 93.415064 \nL 184.447059 20.038594 \n\" style=\"fill:none;stroke:#bcbcbc;stroke-linecap:square;stroke-linejoin:miter;stroke-width:0.8;\"/>\n   </g>\n   <g id=\"patch_14\">\n    <path d=\"M 257.823529 93.415064 \nL 257.823529 20.038594 \n\" style=\"fill:none;stroke:#bcbcbc;stroke-linecap:square;stroke-linejoin:miter;stroke-width:0.8;\"/>\n   </g>\n   <g id=\"patch_15\">\n    <path d=\"M 184.447059 93.415064 \nL 257.823529 93.415064 \n\" style=\"fill:none;stroke:#bcbcbc;stroke-linecap:square;stroke-linejoin:miter;stroke-width:0.8;\"/>\n   </g>\n   <g id=\"patch_16\">\n    <path d=\"M 184.447059 20.038594 \nL 257.823529 20.038594 \n\" style=\"fill:none;stroke:#bcbcbc;stroke-linecap:square;stroke-linejoin:miter;stroke-width:0.8;\"/>\n   </g>\n   <g id=\"text_3\">\n    <!-- label: 4 -->\n    <g transform=\"translate(204.442403 14.038594)scale(0.09 -0.09)\">\n     <defs>\n      <path d=\"M 2419 4116 \nL 825 1625 \nL 2419 1625 \nL 2419 4116 \nz\nM 2253 4666 \nL 3047 4666 \nL 3047 1625 \nL 3713 1625 \nL 3713 1100 \nL 3047 1100 \nL 3047 0 \nL 2419 0 \nL 2419 1100 \nL 313 1100 \nL 313 1709 \nL 2253 4666 \nz\n\" id=\"DejaVuSans-34\" transform=\"scale(0.015625)\"/>\n     </defs>\n     <use xlink:href=\"#DejaVuSans-6c\"/>\n     <use x=\"27.783203\" xlink:href=\"#DejaVuSans-61\"/>\n     <use x=\"89.0625\" xlink:href=\"#DejaVuSans-62\"/>\n     <use x=\"152.539062\" xlink:href=\"#DejaVuSans-65\"/>\n     <use x=\"214.0625\" xlink:href=\"#DejaVuSans-6c\"/>\n     <use x=\"241.845703\" xlink:href=\"#DejaVuSans-3a\"/>\n     <use x=\"275.537109\" xlink:href=\"#DejaVuSans-20\"/>\n     <use x=\"307.324219\" xlink:href=\"#DejaVuSans-34\"/>\n    </g>\n   </g>\n  </g>\n  <g id=\"axes_4\">\n   <g id=\"patch_17\">\n    <path d=\"M 7.2 181.466829 \nL 80.576471 181.466829 \nL 80.576471 108.090358 \nL 7.2 108.090358 \nz\n\" style=\"fill:#eeeeee;\"/>\n   </g>\n   <g clip-path=\"url(#p88f8c30378)\">\n    <image height=\"73.44\" id=\"image953542643e\" transform=\"scale(1 -1)translate(0 -73.44)\" width=\"73.44\" x=\"7.2\" xlink:href=\"data:image/png;base64,\niVBORw0KGgoAAAANSUhEUgAAAGYAAABmCAYAAAA53+RiAAADN0lEQVR4nO2cPWsqQRSGb6KIoBJBLMTaj9reIiCkDNjY2NilEkQLm/SKprIQDPgHhDRiYyEpLPwFopAiILESERIlld7mMuyZexUv2XXfmPep5mVWcsKTM7Nsxr3Y7Xa7XwSOS7sLIP+GYkChGFAoBhSKAYViQKEYUCgGFIoBhWJAcdrxQz8+PkTOZrNq3O12xVwsFhN5PB5bVxgQ7BhQKAYUigHFlj3m7e1N5F6vZ0cZ0LBjQKEYUCgGFIoBhWJAoRhQbLld9nq9IofDYTWezWZi7vX1VeRqtarGxWJRzDmdtvw6lsCOAYViQKEYUC4QTmKWSiU1fnh4EHOXl/v/dpbLpchXV1fmFmYj7BhQKAYUiKXMiMPhEPnQUjYYDEROJpOW1GQH7BhQKAYUigEFbo8JhUIiLxaLvdfe3NyI/PT0JLLL5TKvsBPDjgGFYkCBW8r0gxqpVErkl5eXvZ/N5XIit1ot8wo7MewYUCgGFIoBBW6P0bm/vxe5Uqkc/dn5fK7GwWDQtJpOATsGFIoBhWJAgd9jVquVyIFA4OjPFgoFNa7X62aVdBLYMaBQDCjwJ+T8fr/Io9FIjfWny+/v7yIbH9+s12sx5/F4TKrQGtgxoFAMKBQDCvzt8iH0dwKk02mRt9utGmcyGTHXbrdFdrvdJlf3NdgxoFAMKBQDyrfeY/THNbe3tyIPh0M11k90NhoNke/u7swt7ouwY0ChGFC+9VKms9lsRPb5fGqsL2X6U+rn52c1jsfj5hf3n7BjQKEYUCgGlLPaY3TK5bIa12q1g9caH+d0Oh3LajoWdgwoFAMKxYBy1nuM8V/L+rcG9G8VGOn3+yJfX1+bW9gRsGNAoRhQznopM6K/4VxfnoyvP0kkEmLOuLTpp2usehUXOwYUigGFYkD5MXuMTrPZFDmfz++91njaZjKZiLlIJGJuYX9gx4BCMaBQDCjwp/2tIhqNimw8ifn5+Xnqcv6CHQMKxYDyY2+XdR4fH9VYP/xnvF2eTqdiTl8SzYIdAwrFgEIxoHCPAYUdAwrFgEIxoFAMKBQDCsWAQjGgUAwoFAMKxYBCMaBQDCgUAwrFgEIxoFAMKBQDym88/cxPUYehewAAAABJRU5ErkJggg==\" y=\"-108.026829\"/>\n   </g>\n   <g id=\"matplotlib.axis_7\"/>\n   <g id=\"matplotlib.axis_8\"/>\n   <g id=\"patch_18\">\n    <path d=\"M 7.2 181.466829 \nL 7.2 108.090358 \n\" style=\"fill:none;stroke:#bcbcbc;stroke-linecap:square;stroke-linejoin:miter;stroke-width:0.8;\"/>\n   </g>\n   <g id=\"patch_19\">\n    <path d=\"M 80.576471 181.466829 \nL 80.576471 108.090358 \n\" style=\"fill:none;stroke:#bcbcbc;stroke-linecap:square;stroke-linejoin:miter;stroke-width:0.8;\"/>\n   </g>\n   <g id=\"patch_20\">\n    <path d=\"M 7.2 181.466829 \nL 80.576471 181.466829 \n\" style=\"fill:none;stroke:#bcbcbc;stroke-linecap:square;stroke-linejoin:miter;stroke-width:0.8;\"/>\n   </g>\n   <g id=\"patch_21\">\n    <path d=\"M 7.2 108.090358 \nL 80.576471 108.090358 \n\" style=\"fill:none;stroke:#bcbcbc;stroke-linecap:square;stroke-linejoin:miter;stroke-width:0.8;\"/>\n   </g>\n   <g id=\"text_4\">\n    <!-- label: 1 -->\n    <g transform=\"translate(27.195345 102.090358)scale(0.09 -0.09)\">\n     <defs>\n      <path d=\"M 794 531 \nL 1825 531 \nL 1825 4091 \nL 703 3866 \nL 703 4441 \nL 1819 4666 \nL 2450 4666 \nL 2450 531 \nL 3481 531 \nL 3481 0 \nL 794 0 \nL 794 531 \nz\n\" id=\"DejaVuSans-31\" transform=\"scale(0.015625)\"/>\n     </defs>\n     <use xlink:href=\"#DejaVuSans-6c\"/>\n     <use x=\"27.783203\" xlink:href=\"#DejaVuSans-61\"/>\n     <use x=\"89.0625\" xlink:href=\"#DejaVuSans-62\"/>\n     <use x=\"152.539062\" xlink:href=\"#DejaVuSans-65\"/>\n     <use x=\"214.0625\" xlink:href=\"#DejaVuSans-6c\"/>\n     <use x=\"241.845703\" xlink:href=\"#DejaVuSans-3a\"/>\n     <use x=\"275.537109\" xlink:href=\"#DejaVuSans-20\"/>\n     <use x=\"307.324219\" xlink:href=\"#DejaVuSans-31\"/>\n    </g>\n   </g>\n  </g>\n  <g id=\"axes_5\">\n   <g id=\"patch_22\">\n    <path d=\"M 95.823529 181.466829 \nL 169.2 181.466829 \nL 169.2 108.090358 \nL 95.823529 108.090358 \nz\n\" style=\"fill:#eeeeee;\"/>\n   </g>\n   <g clip-path=\"url(#p6e3569abd1)\">\n    <image height=\"73.44\" id=\"image5b98b9b6b8\" transform=\"scale(1 -1)translate(0 -73.44)\" width=\"73.44\" x=\"95.823529\" xlink:href=\"data:image/png;base64,\niVBORw0KGgoAAAANSUhEUgAAAGYAAABmCAYAAAA53+RiAAAEGklEQVR4nO2cSyh1URiG13HPREYu5c5IBmRgZmBg6lIoEYqUkZGZCQNDiWJyklLIzICSZCDXiQwoE4WQGLiEwvlny/p29rF//9l7v9v/PqPv7Ttn74/3fGut1l7nhCKRSEQROOL8LoB8DY0BhcaAkuB3AW7y+vqq45GREZEbGhoS+uLiQscZGRnuFuYAdgwoNAaUXzWUmUOXUkp1dnbqeGFhQeS6u7uFTk9Pd6+wH8COAYXGgEJjQAn9pi2ZtbU1oWtra3VcX18vcuPj40IjLJFN2DGg0BhQaAwov2qOKSsrE/ro6EjHJycnIldQUOBJTT+FHQMKjQEl0EPZ5eWl0NnZ2ULHxX1+7h4eHkQuNTXVvcJiADsGFBoDCo0BJdDb/ru7u0Kbc4pSSoVCIS/LiSnsGFBoDCg0BpRAzzGFhYV+l+Aa7BhQaAwogd6SsRIfHy+0uVy+v78XOW7JkB9BY0ChMaAEerl8eHjodwmuwY4BhcaAEuihLCUlReiPjw+hzd3m5eVlkWtsbHSvsBjAjgGFxoBCY0DxZI45PT0VuqqqSuibmxsdl5aWilxbW5vQ7e3tOs7KyhK5uro6oZeWlnR8fHzsuF4E2DGg0BhQaAworm37v7y86Li4uFjkrq6uhDZL+JuTLbm5ubbXUUqps7MzHWdmZorc+fm54/v4ATsGFBoDimtD2dPTk47T0tKivvb29lbHCQlyBb+4uCj0/Py8jre2tkTO+pTSHBatQ+TOzo7QFRUVUWv0GnYMKDQGFBoDiifL5aKiIpG7vr4W2txmCYfDju9xd3cndHNzs9Dr6+u27+3p6RF6dHRUx0lJSY5rcAt2DCg0BhQaA4onJzEnJyeF7uvrEzo5OVnHLS0tIjc1NSV0YmKi7X3e3t6EPjg40HF1dbXIPT8/Cz02NmZbnx+wY0ChMaD4cqjcHDaUUqq/v/+zIMvWyeDgoNADAwM6NofA7ygvLxc62mHB7e1toSsrKx3fJ1awY0ChMaDQGFAgvrhk/mSi+XOJX2Fuu1i3b6LNORsbG0LX1NTYvjYvL09ocz7y6gtP7BhQaAwoNAYUiDnGPKVvPbVpfeT7+PioY+vJy+HhYaFLSkp0/P7+LnJdXV1Cz83N6dj6L5mZmdFxa2urtXxXYMeAQmNAgRjKorG5uSl0U1OTjq1PQq1/SkNDg47Nw39KKbW/v297T+t1ent7dTwxMfFNxbGBHQMKjQGFxoACP8dYMZfT09PTIreysiL03t6e7XVmZ2eFzsnJ0fHq6qrIdXR06Dg/P99Zof8IOwYUGgMKjQElcHPM/wI7BhQaAwqNAYXGgEJjQKExoNAYUGgMKDQGFBoDCo0BhcaAQmNAoTGg0BhQaAwoNAYUGgMKjQGFxoBCY0ChMaDQGFBoDCh/AKYjGCCZh1cfAAAAAElFTkSuQmCC\" y=\"-108.026829\"/>\n   </g>\n   <g id=\"matplotlib.axis_9\"/>\n   <g id=\"matplotlib.axis_10\"/>\n   <g id=\"patch_23\">\n    <path d=\"M 95.823529 181.466829 \nL 95.823529 108.090358 \n\" style=\"fill:none;stroke:#bcbcbc;stroke-linecap:square;stroke-linejoin:miter;stroke-width:0.8;\"/>\n   </g>\n   <g id=\"patch_24\">\n    <path d=\"M 169.2 181.466829 \nL 169.2 108.090358 \n\" style=\"fill:none;stroke:#bcbcbc;stroke-linecap:square;stroke-linejoin:miter;stroke-width:0.8;\"/>\n   </g>\n   <g id=\"patch_25\">\n    <path d=\"M 95.823529 181.466829 \nL 169.2 181.466829 \n\" style=\"fill:none;stroke:#bcbcbc;stroke-linecap:square;stroke-linejoin:miter;stroke-width:0.8;\"/>\n   </g>\n   <g id=\"patch_26\">\n    <path d=\"M 95.823529 108.090358 \nL 169.2 108.090358 \n\" style=\"fill:none;stroke:#bcbcbc;stroke-linecap:square;stroke-linejoin:miter;stroke-width:0.8;\"/>\n   </g>\n   <g id=\"text_5\">\n    <!-- label: 9 -->\n    <g transform=\"translate(115.818874 102.090358)scale(0.09 -0.09)\">\n     <defs>\n      <path d=\"M 703 97 \nL 703 672 \nQ 941 559 1184 500 \nQ 1428 441 1663 441 \nQ 2288 441 2617 861 \nQ 2947 1281 2994 2138 \nQ 2813 1869 2534 1725 \nQ 2256 1581 1919 1581 \nQ 1219 1581 811 2004 \nQ 403 2428 403 3163 \nQ 403 3881 828 4315 \nQ 1253 4750 1959 4750 \nQ 2769 4750 3195 4129 \nQ 3622 3509 3622 2328 \nQ 3622 1225 3098 567 \nQ 2575 -91 1691 -91 \nQ 1453 -91 1209 -44 \nQ 966 3 703 97 \nz\nM 1959 2075 \nQ 2384 2075 2632 2365 \nQ 2881 2656 2881 3163 \nQ 2881 3666 2632 3958 \nQ 2384 4250 1959 4250 \nQ 1534 4250 1286 3958 \nQ 1038 3666 1038 3163 \nQ 1038 2656 1286 2365 \nQ 1534 2075 1959 2075 \nz\n\" id=\"DejaVuSans-39\" transform=\"scale(0.015625)\"/>\n     </defs>\n     <use xlink:href=\"#DejaVuSans-6c\"/>\n     <use x=\"27.783203\" xlink:href=\"#DejaVuSans-61\"/>\n     <use x=\"89.0625\" xlink:href=\"#DejaVuSans-62\"/>\n     <use x=\"152.539062\" xlink:href=\"#DejaVuSans-65\"/>\n     <use x=\"214.0625\" xlink:href=\"#DejaVuSans-6c\"/>\n     <use x=\"241.845703\" xlink:href=\"#DejaVuSans-3a\"/>\n     <use x=\"275.537109\" xlink:href=\"#DejaVuSans-20\"/>\n     <use x=\"307.324219\" xlink:href=\"#DejaVuSans-39\"/>\n    </g>\n   </g>\n  </g>\n  <g id=\"axes_6\">\n   <g id=\"patch_27\">\n    <path d=\"M 184.447059 181.466829 \nL 257.823529 181.466829 \nL 257.823529 108.090358 \nL 184.447059 108.090358 \nz\n\" style=\"fill:#eeeeee;\"/>\n   </g>\n   <g clip-path=\"url(#pc570440e32)\">\n    <image height=\"73.44\" id=\"imageb62bf683fa\" transform=\"scale(1 -1)translate(0 -73.44)\" width=\"73.44\" x=\"184.447059\" xlink:href=\"data:image/png;base64,\niVBORw0KGgoAAAANSUhEUgAAAGYAAABmCAYAAAA53+RiAAAEh0lEQVR4nO2cyyv8URjGz6DIPXIrFi5JsrOwsZBLiJUFJWUhG38AOyuyEFJClEuIhVKypYSwIAsL7OSSknLLJbff7nTekxkzfjPjmen5rJ6nd8yc6XHOO9/L+Tq+vr6+FIEj5K8HQL6HwYDCYEBhMKAwGFAYDCgMBhQGAwqDAYXBgMJgQGEwoDAYUBgMKAwGFAYDCoMBJcxbb/T6+ir89va21ltbW6KWlpYmfENDg9YRERGiFhoa6q0hBhScMaAwGFAYDCgOb90lU1xcLPzOzs6v3qepqUn4iooK4aurq7WOj48XtZCQ4Pk/C55vEmQwGFAYDChe6zHp6enCX11daW0fmxQWFgp/d3en9eHhodufOTIyInxLS4vwgdxzAnfkQQ6DAcVrS9ny8rLwdXV1WkdHR4vaysqK8ObSdnJyImqjo6PCz87Oav38/CxqQ0NDwjc2NmodGxvrdOyesLGxIfz4+LjT1w4MDAifmJjo9udwxoDCYEBhMKB4rcd8fn4Kb66vHR0dohYTEyP81NSU1pWVlaJm/9Q+PT3VurW1VdTW1taELygo0HphYUHU8vLyhDcvWxwfH4vaxMSE1tPT06L28PCgnJGVlSW83T9dwRkDCoMBxWtLmc3Hx4fWg4ODotbe3u7078yfuEopNTY2Jry5tD09PYlabW2t8Ovr61qHh4eLWm9vr/AHBwdaT05OOh1ffX298J2dncLbhwYm9tkRV3DGgMJgQGEwoPisx5iY/UYpuZ4rpVRRUZHTvx0eHha+rKxM6+zsbFGzT9GUl5drvbu769ZYv8PsVfZYw8K8dqORgDMGFAYDCoMBxS89xsbuOefn51qXlJSI2tnZmfCRkZFaJyQkiJp5B41SSs3Pz2v9+Pjockypqala9/T0iJp5bOWvO0M5Y0BhMKD8yVLmire3N+EvLy+FN0+BmFczv8M84/3TjRkZGRla7+/vi5q9ZPoDzhhQGAwoDAYUuB7jCYuLi8Lf398Lb341h8MhanNzc8Kbp11qampEbWlpSWt/3UTIGQMKgwGFwYAS0D3mf7Avb/f39zt97dHRkdY5OTk+G5MJZwwoDAYU31x+8xDzprmZmRlRq6qqEj4lJUXrqKioX39maWmp8K6Wsr+AMwYUBgMKgwEFose0tbVpbV51/I7c3Fyt7T7R3d0tfFxcnNP3SU5O9mSIfoczBhQGAwqDAQXilMzq6qrW9sYlT8jPzxd+c3NTa3tz7M3NjfDm8ZENT8kQDYMBBWIpe3l50bqrq0vU7MeSmI83+QlzD6Z5hVIppd7f34XnUkbcgsGAwmBAgegxrri+vhbe3Ghrb7q1Ny6ZXy0zM1PU7Oe67O3taW33G3OjVVJSkhuj/n84Y0BhMKAwGFDge4wrbm9vhe/r6xPefLaMJ5tj7Ycq2N4fcMaAwmBACeil7CfMR13ZG6LMM89KKXVxcaF1c3OzqPlqL78rOGNAYTCgMBhQgrrHBDKcMaAwGFAYDCgMBhQGAwqDAYXBgMJgQGEwoDAYUBgMKAwGFAYDCoMBhcGAwmBAYTCg/APZ2U9muAFyXwAAAABJRU5ErkJggg==\" y=\"-108.026829\"/>\n   </g>\n   <g id=\"matplotlib.axis_11\"/>\n   <g id=\"matplotlib.axis_12\"/>\n   <g id=\"patch_28\">\n    <path d=\"M 184.447059 181.466829 \nL 184.447059 108.090358 \n\" style=\"fill:none;stroke:#bcbcbc;stroke-linecap:square;stroke-linejoin:miter;stroke-width:0.8;\"/>\n   </g>\n   <g id=\"patch_29\">\n    <path d=\"M 257.823529 181.466829 \nL 257.823529 108.090358 \n\" style=\"fill:none;stroke:#bcbcbc;stroke-linecap:square;stroke-linejoin:miter;stroke-width:0.8;\"/>\n   </g>\n   <g id=\"patch_30\">\n    <path d=\"M 184.447059 181.466829 \nL 257.823529 181.466829 \n\" style=\"fill:none;stroke:#bcbcbc;stroke-linecap:square;stroke-linejoin:miter;stroke-width:0.8;\"/>\n   </g>\n   <g id=\"patch_31\">\n    <path d=\"M 184.447059 108.090358 \nL 257.823529 108.090358 \n\" style=\"fill:none;stroke:#bcbcbc;stroke-linecap:square;stroke-linejoin:miter;stroke-width:0.8;\"/>\n   </g>\n   <g id=\"text_6\">\n    <!-- label: 2 -->\n    <g transform=\"translate(204.442403 102.090358)scale(0.09 -0.09)\">\n     <defs>\n      <path d=\"M 1228 531 \nL 3431 531 \nL 3431 0 \nL 469 0 \nL 469 531 \nQ 828 903 1448 1529 \nQ 2069 2156 2228 2338 \nQ 2531 2678 2651 2914 \nQ 2772 3150 2772 3378 \nQ 2772 3750 2511 3984 \nQ 2250 4219 1831 4219 \nQ 1534 4219 1204 4116 \nQ 875 4013 500 3803 \nL 500 4441 \nQ 881 4594 1212 4672 \nQ 1544 4750 1819 4750 \nQ 2544 4750 2975 4387 \nQ 3406 4025 3406 3419 \nQ 3406 3131 3298 2873 \nQ 3191 2616 2906 2266 \nQ 2828 2175 2409 1742 \nQ 1991 1309 1228 531 \nz\n\" id=\"DejaVuSans-32\" transform=\"scale(0.015625)\"/>\n     </defs>\n     <use xlink:href=\"#DejaVuSans-6c\"/>\n     <use x=\"27.783203\" xlink:href=\"#DejaVuSans-61\"/>\n     <use x=\"89.0625\" xlink:href=\"#DejaVuSans-62\"/>\n     <use x=\"152.539062\" xlink:href=\"#DejaVuSans-65\"/>\n     <use x=\"214.0625\" xlink:href=\"#DejaVuSans-6c\"/>\n     <use x=\"241.845703\" xlink:href=\"#DejaVuSans-3a\"/>\n     <use x=\"275.537109\" xlink:href=\"#DejaVuSans-20\"/>\n     <use x=\"307.324219\" xlink:href=\"#DejaVuSans-32\"/>\n    </g>\n   </g>\n  </g>\n  <g id=\"axes_7\">\n   <g id=\"patch_32\">\n    <path d=\"M 7.2 269.518594 \nL 80.576471 269.518594 \nL 80.576471 196.142123 \nL 7.2 196.142123 \nz\n\" style=\"fill:#eeeeee;\"/>\n   </g>\n   <g clip-path=\"url(#pe2da545d90)\">\n    <image height=\"73.44\" id=\"imagebeceb507ae\" transform=\"scale(1 -1)translate(0 -73.44)\" width=\"73.44\" x=\"7.2\" xlink:href=\"data:image/png;base64,\niVBORw0KGgoAAAANSUhEUgAAAGYAAABmCAYAAAA53+RiAAACZUlEQVR4nO3cP4oiQRhA8XVcwUwxMfMAZiZiLnoUQ49g4gEEE8E7COIxBBMTwUQTIyMRDAx0smZLdmRlu+3X8n5RF4NQw5uvy+n5k7vf7/dfwvlKewP6O8NAGQbKMFCGgTIMlGGgDANlGCjDQBkGyjBQhoEyDNTvtDcQp9PpFKy73W50vVqtgo89/rTjeDxG15VKJYHdvcaJgTIM1Efdyvb7fbB+vH1liRMDZRgow0B91BkzHo/T3kJsnBgow0AZBuqjzpjlchmsn/2S6e12S3o7/8WJgTIMVKZvZbPZLFhvNptgncvlfnztcDgM1oQnyn9yYqAMA2UYqEyfMev1Ou0tJMaJgTIMVC7Lf4OZz+eD9bO3x48Oh0OwrlarsewpLk4MlGGgDAOV6bfLj0+Iv75+/jrr9XrBmnamPHJioAwDZRioTJ8xj2fKs+9jOp1O0tuJlRMDZRgow0AZBsowUIaBMgyUYaAMA2UYqEw/knnlsX/WfM5n8mEMA5XpW9krT5ezxomBMgyUYaAyd8ZMp9O0t/AWTgyUYaAMA4U/Y87nc7AejUb//NrJZBJdt9vt2Pb0Dk4MlGGg8LeyQqEQrOv1enS93W6fvrbVakXXpVIp3o0lzImBMgyUYaDwZ0yxWAzWjUYjup7P52/ezfs4MVCGgTIMFP6MuV6vwXq326W0k/dyYqAMA4W/lV0ul2C9WCxS2sl7OTFQhoEyDBT+jCmXy8G63+9H14PBIPhYs9kM1rVaLbF9Jc2JgTIMVKb/9eInc2KgDANlGCjDQBkGyjBQhoEyDJRhoAwDZRgow0AZBsowUN+Q71oOUZY1mgAAAABJRU5ErkJggg==\" y=\"-196.078594\"/>\n   </g>\n   <g id=\"matplotlib.axis_13\"/>\n   <g id=\"matplotlib.axis_14\"/>\n   <g id=\"patch_33\">\n    <path d=\"M 7.2 269.518594 \nL 7.2 196.142123 \n\" style=\"fill:none;stroke:#bcbcbc;stroke-linecap:square;stroke-linejoin:miter;stroke-width:0.8;\"/>\n   </g>\n   <g id=\"patch_34\">\n    <path d=\"M 80.576471 269.518594 \nL 80.576471 196.142123 \n\" style=\"fill:none;stroke:#bcbcbc;stroke-linecap:square;stroke-linejoin:miter;stroke-width:0.8;\"/>\n   </g>\n   <g id=\"patch_35\">\n    <path d=\"M 7.2 269.518594 \nL 80.576471 269.518594 \n\" style=\"fill:none;stroke:#bcbcbc;stroke-linecap:square;stroke-linejoin:miter;stroke-width:0.8;\"/>\n   </g>\n   <g id=\"patch_36\">\n    <path d=\"M 7.2 196.142123 \nL 80.576471 196.142123 \n\" style=\"fill:none;stroke:#bcbcbc;stroke-linecap:square;stroke-linejoin:miter;stroke-width:0.8;\"/>\n   </g>\n   <g id=\"text_7\">\n    <!-- label: 1 -->\n    <g transform=\"translate(27.195345 190.142123)scale(0.09 -0.09)\">\n     <use xlink:href=\"#DejaVuSans-6c\"/>\n     <use x=\"27.783203\" xlink:href=\"#DejaVuSans-61\"/>\n     <use x=\"89.0625\" xlink:href=\"#DejaVuSans-62\"/>\n     <use x=\"152.539062\" xlink:href=\"#DejaVuSans-65\"/>\n     <use x=\"214.0625\" xlink:href=\"#DejaVuSans-6c\"/>\n     <use x=\"241.845703\" xlink:href=\"#DejaVuSans-3a\"/>\n     <use x=\"275.537109\" xlink:href=\"#DejaVuSans-20\"/>\n     <use x=\"307.324219\" xlink:href=\"#DejaVuSans-31\"/>\n    </g>\n   </g>\n  </g>\n  <g id=\"axes_8\">\n   <g id=\"patch_37\">\n    <path d=\"M 95.823529 269.518594 \nL 169.2 269.518594 \nL 169.2 196.142123 \nL 95.823529 196.142123 \nz\n\" style=\"fill:#eeeeee;\"/>\n   </g>\n   <g clip-path=\"url(#p984252a2eb)\">\n    <image height=\"73.44\" id=\"image38717b5e33\" transform=\"scale(1 -1)translate(0 -73.44)\" width=\"73.44\" x=\"95.823529\" xlink:href=\"data:image/png;base64,\niVBORw0KGgoAAAANSUhEUgAAAGYAAABmCAYAAAA53+RiAAAEAklEQVR4nO2dzSt8URjHz3gtSRY2XnY2YiMbC68rS0pNVhbEH+BlSbEjpdhRNnZIs1DyspoZKbKThWQjsZEoLyWM3ek+5+fe5t451/3y+35Wz9Njzhx9PPfMnDlzxTKZTEYROPKingD5HooBhWJAoRhQKAYUigGFYkChGFAoBhSKAaUgrIHf3991vLOzI2pDQ0Miv7u70/Hg4KCodXd3i7yzs1PHpaWluU4TFnYMKBQDCsWAErO17X99fS3yxcVFHc/Pz9t4CqWUUvX19TouKysTta6uLpEPDw/ruLKy0tocfgJ2DCgUA4q1S1lLS4vIj46ObAzrC/NXqa6u1nF/f7+oTU9Pi7ygILR3DoFgx4BCMaBQDCiRXFgnJydFbr7szZatrS2RJ5NJkd/c3Oh4dnZW1C4uLkQ+Njam4+bm5kDzsQk7BhSKAYViQLH2Psa8Zk9NTel4bW1N1O7v70UedI15fX0V+fHxsch7e3t1/Pj46DlWSUmJ6zh1dXWB5pcL7BhQKAYUa5cyk4+PDx2fnp6KWkNDg8gLCwvDmILa39/XcTweF7WnpyfXx52cnIi8sbHR6ryygR0DCsWAQjGghLbGoHF4eCjy9vZ215/lGkNcoRhQsD62C5Gmpqaop+ALdgwoFAMKxYACscY4d343NjZEzTzEV1RUFOg5VlZWAj0uKtgxoFAMKBQDSiRrzO3trcg7Ojp0fHl5GXjcz89Pkefl/d6/u9878z8OxYAC8XI5Fot9G/vFvHT5Gct56DyK3WQTdgwoFAMKxYAC8Qnmw8ODjtfX10Vte3s763HMQ+Z+1pjy8nIdr66uilpra6uOgx5O9As7BhSKAYViQIFYY2yRSqVE7vwy0tnZmai9vb1lPW5bW5uO9/b2RC2sU6TsGFAoBpQ/dSnz4uDgQOQLCwsiTyQSWY3z/Pws8uLi4twm5gI7BhSKAYViQIHY9v8JnNsqSimVn58v8t3dXR2/vLy4jjM3NyfyiYkJC7P7F3YMKBQDCsWAArHGOE+3eH1pVSn58XEut/c1T/9XVFTo+OrqyvVxZs15G2Ol7N33jB0DCsWAArEls7m5qeO+vj7Pn62qqtLx+Pi4qPk58JdOp0We7ZaMyfn5uchra2sDjWPCjgGFYkChGFAgXi6bp1u8cN5OcXR0VNTM5TKXU51Rw44BhWJAoRhQINaYmZkZHTv/24VSSi0vL4vc+V7Fa+skLEZGRkReU1MTyvOwY0ChGFAgtmS8cP5jOaXkbq55t9eenh6R2/oO5sDAgI6XlpZEzfwk1BbsGFAoBhSKAQV+jflfYceAQjGgUAwoFAMKxYBCMaBQDCgUAwrFgEIxoFAMKBQDCsWAQjGgUAwoFAMKxYDyBW1EArrBJzbhAAAAAElFTkSuQmCC\" y=\"-196.078594\"/>\n   </g>\n   <g id=\"matplotlib.axis_15\"/>\n   <g id=\"matplotlib.axis_16\"/>\n   <g id=\"patch_38\">\n    <path d=\"M 95.823529 269.518594 \nL 95.823529 196.142123 \n\" style=\"fill:none;stroke:#bcbcbc;stroke-linecap:square;stroke-linejoin:miter;stroke-width:0.8;\"/>\n   </g>\n   <g id=\"patch_39\">\n    <path d=\"M 169.2 269.518594 \nL 169.2 196.142123 \n\" style=\"fill:none;stroke:#bcbcbc;stroke-linecap:square;stroke-linejoin:miter;stroke-width:0.8;\"/>\n   </g>\n   <g id=\"patch_40\">\n    <path d=\"M 95.823529 269.518594 \nL 169.2 269.518594 \n\" style=\"fill:none;stroke:#bcbcbc;stroke-linecap:square;stroke-linejoin:miter;stroke-width:0.8;\"/>\n   </g>\n   <g id=\"patch_41\">\n    <path d=\"M 95.823529 196.142123 \nL 169.2 196.142123 \n\" style=\"fill:none;stroke:#bcbcbc;stroke-linecap:square;stroke-linejoin:miter;stroke-width:0.8;\"/>\n   </g>\n   <g id=\"text_8\">\n    <!-- label: 3 -->\n    <g transform=\"translate(115.818874 190.142123)scale(0.09 -0.09)\">\n     <defs>\n      <path d=\"M 2597 2516 \nQ 3050 2419 3304 2112 \nQ 3559 1806 3559 1356 \nQ 3559 666 3084 287 \nQ 2609 -91 1734 -91 \nQ 1441 -91 1130 -33 \nQ 819 25 488 141 \nL 488 750 \nQ 750 597 1062 519 \nQ 1375 441 1716 441 \nQ 2309 441 2620 675 \nQ 2931 909 2931 1356 \nQ 2931 1769 2642 2001 \nQ 2353 2234 1838 2234 \nL 1294 2234 \nL 1294 2753 \nL 1863 2753 \nQ 2328 2753 2575 2939 \nQ 2822 3125 2822 3475 \nQ 2822 3834 2567 4026 \nQ 2313 4219 1838 4219 \nQ 1578 4219 1281 4162 \nQ 984 4106 628 3988 \nL 628 4550 \nQ 988 4650 1302 4700 \nQ 1616 4750 1894 4750 \nQ 2613 4750 3031 4423 \nQ 3450 4097 3450 3541 \nQ 3450 3153 3228 2886 \nQ 3006 2619 2597 2516 \nz\n\" id=\"DejaVuSans-33\" transform=\"scale(0.015625)\"/>\n     </defs>\n     <use xlink:href=\"#DejaVuSans-6c\"/>\n     <use x=\"27.783203\" xlink:href=\"#DejaVuSans-61\"/>\n     <use x=\"89.0625\" xlink:href=\"#DejaVuSans-62\"/>\n     <use x=\"152.539062\" xlink:href=\"#DejaVuSans-65\"/>\n     <use x=\"214.0625\" xlink:href=\"#DejaVuSans-6c\"/>\n     <use x=\"241.845703\" xlink:href=\"#DejaVuSans-3a\"/>\n     <use x=\"275.537109\" xlink:href=\"#DejaVuSans-20\"/>\n     <use x=\"307.324219\" xlink:href=\"#DejaVuSans-33\"/>\n    </g>\n   </g>\n  </g>\n  <g id=\"axes_9\">\n   <g id=\"patch_42\">\n    <path d=\"M 184.447059 269.518594 \nL 257.823529 269.518594 \nL 257.823529 196.142123 \nL 184.447059 196.142123 \nz\n\" style=\"fill:#eeeeee;\"/>\n   </g>\n   <g clip-path=\"url(#pc6de2e1af9)\">\n    <image height=\"73.44\" id=\"imaged747884efe\" transform=\"scale(1 -1)translate(0 -73.44)\" width=\"73.44\" x=\"184.447059\" xlink:href=\"data:image/png;base64,\niVBORw0KGgoAAAANSUhEUgAAAGYAAABmCAYAAAA53+RiAAACTElEQVR4nO3csY5pQRyA8esGG4mEgs4L6FReR6fReAKFB9JoPISoVUQvEZ1IsN2JOblxsxbnm8n3q+bkbDGbL39j7Z4t3W632x/h/C16A/o3w0AZBsowUIaBMgyUYaAMA2UYKMNAlYvewCuNRqPgerVaZevFYhHcazQaH9nTs5wYKMNAGQYqqTNmPp8H1/v9Plufz+dPb+dXnBgow0Al9VI2HA6D68lkkq03m01wr91uf2RPz3JioAwDZRiopM6YvGazma37/X5xG3mCEwNlGCjDQCV9xtz/kenlcgnulcvsb92JgTIMFHuef2g2mwXXx+MxW0+n0+Be/prGiYEyDJRhoEoxP7i0XC6D6/zHLrVaLVvvdrvgXqvVet/GXsCJgTIMVNRvl/M/zeeVSqVsXalU3r2dl3JioAwDZRioqM+Y7Xb78H61Ws3W9D8iz3NioAwDZRioqM+Y/MNIKXFioAwDFfVL2f8MBoOit/A0JwbKMFCGgUr6jKH/lvIRJwbKMFCGgTIMlGGgDAMV3dvl0+mUrfP/oiQlTgyUYaAMAxXdGXO9XrP14XB4+LXdbvfd23kbJwbKMFCGgYrujPmJXq9X9Bae5sRAGQYqqZey/OOkX19fBe3k95wYKMNAGQYqqTPm/mHY2DkxUIaBMgxUUmdMp9MJrmN7IPaeEwNlGKjoXsruP2ZZr9fBvfF4HFzX6/VPbOktnBgow0AZBirqf72YMicGyjBQhoEyDJRhoAwDZRgow0AZBsowUIaBMgyUYaAMA2UYKMNAGQbqG+VOUc1SZFKGAAAAAElFTkSuQmCC\" y=\"-196.078594\"/>\n   </g>\n   <g id=\"matplotlib.axis_17\"/>\n   <g id=\"matplotlib.axis_18\"/>\n   <g id=\"patch_43\">\n    <path d=\"M 184.447059 269.518594 \nL 184.447059 196.142123 \n\" style=\"fill:none;stroke:#bcbcbc;stroke-linecap:square;stroke-linejoin:miter;stroke-width:0.8;\"/>\n   </g>\n   <g id=\"patch_44\">\n    <path d=\"M 257.823529 269.518594 \nL 257.823529 196.142123 \n\" style=\"fill:none;stroke:#bcbcbc;stroke-linecap:square;stroke-linejoin:miter;stroke-width:0.8;\"/>\n   </g>\n   <g id=\"patch_45\">\n    <path d=\"M 184.447059 269.518594 \nL 257.823529 269.518594 \n\" style=\"fill:none;stroke:#bcbcbc;stroke-linecap:square;stroke-linejoin:miter;stroke-width:0.8;\"/>\n   </g>\n   <g id=\"patch_46\">\n    <path d=\"M 184.447059 196.142123 \nL 257.823529 196.142123 \n\" style=\"fill:none;stroke:#bcbcbc;stroke-linecap:square;stroke-linejoin:miter;stroke-width:0.8;\"/>\n   </g>\n   <g id=\"text_9\">\n    <!-- label: 1 -->\n    <g transform=\"translate(204.442403 190.142123)scale(0.09 -0.09)\">\n     <use xlink:href=\"#DejaVuSans-6c\"/>\n     <use x=\"27.783203\" xlink:href=\"#DejaVuSans-61\"/>\n     <use x=\"89.0625\" xlink:href=\"#DejaVuSans-62\"/>\n     <use x=\"152.539062\" xlink:href=\"#DejaVuSans-65\"/>\n     <use x=\"214.0625\" xlink:href=\"#DejaVuSans-6c\"/>\n     <use x=\"241.845703\" xlink:href=\"#DejaVuSans-3a\"/>\n     <use x=\"275.537109\" xlink:href=\"#DejaVuSans-20\"/>\n     <use x=\"307.324219\" xlink:href=\"#DejaVuSans-31\"/>\n    </g>\n   </g>\n  </g>\n </g>\n <defs>\n  <clipPath id=\"p5a3a06691b\">\n   <rect height=\"73.376471\" width=\"73.376471\" x=\"7.2\" y=\"20.038594\"/>\n  </clipPath>\n  <clipPath id=\"p0a57f9aaa5\">\n   <rect height=\"73.376471\" width=\"73.376471\" x=\"95.823529\" y=\"20.038594\"/>\n  </clipPath>\n  <clipPath id=\"p2287bd78e6\">\n   <rect height=\"73.376471\" width=\"73.376471\" x=\"184.447059\" y=\"20.038594\"/>\n  </clipPath>\n  <clipPath id=\"p88f8c30378\">\n   <rect height=\"73.376471\" width=\"73.376471\" x=\"7.2\" y=\"108.090358\"/>\n  </clipPath>\n  <clipPath id=\"p6e3569abd1\">\n   <rect height=\"73.376471\" width=\"73.376471\" x=\"95.823529\" y=\"108.090358\"/>\n  </clipPath>\n  <clipPath id=\"pc570440e32\">\n   <rect height=\"73.376471\" width=\"73.376471\" x=\"184.447059\" y=\"108.090358\"/>\n  </clipPath>\n  <clipPath id=\"pe2da545d90\">\n   <rect height=\"73.376471\" width=\"73.376471\" x=\"7.2\" y=\"196.142123\"/>\n  </clipPath>\n  <clipPath id=\"p984252a2eb\">\n   <rect height=\"73.376471\" width=\"73.376471\" x=\"95.823529\" y=\"196.142123\"/>\n  </clipPath>\n  <clipPath id=\"pc6de2e1af9\">\n   <rect height=\"73.376471\" width=\"73.376471\" x=\"184.447059\" y=\"196.142123\"/>\n  </clipPath>\n </defs>\n</svg>\n",
      "text/plain": [
       "<Figure size 450x450 with 9 Axes>"
      ]
     },
     "metadata": {},
     "output_type": "display_data"
    }
   ],
   "source": [
    "set_figsize((4.5,4.5))\n",
    "\n",
    "show_img_grid(\n",
    "    [train_images[i].reshape(28,28) for i in range(9)],\n",
    "    [f\"label: {jnp.argmax(train_labels[i])}\" for i in range(9)]\n",
    ")"
   ]
  },
  {
   "cell_type": "markdown",
   "id": "0d047fcc",
   "metadata": {},
   "source": [
    "# Downscaling images as in paper"
   ]
  },
  {
   "cell_type": "code",
   "execution_count": 13,
   "id": "446f2db3",
   "metadata": {},
   "outputs": [],
   "source": [
    "def resize(img_vec: jnp.ndarray, shape: Tuple[int,int]) -> jnp.ndarray:\n",
    "    \"\"\"\n",
    "    Resizing the image vector.\n",
    "    \"\"\"\n",
    "    orig_size = jnp.sqrt(img_vec.size).astype(int)\n",
    "    img = img_vec.reshape(orig_size, orig_size)\n",
    "    img = jax.image.resize(img, shape, method='nearest')\n",
    "    return img.reshape(-1)"
   ]
  },
  {
   "cell_type": "code",
   "execution_count": 14,
   "id": "182b07a1",
   "metadata": {},
   "outputs": [],
   "source": [
    "new_shape = (14,14)\n",
    "\n",
    "resize_vmap = partial(resize, shape=new_shape)\n",
    "\n",
    "train_images_scaled = jax.vmap(resize_vmap)(train_images)\n",
    "test_images_scaled = jax.vmap(resize_vmap)(test_images)"
   ]
  },
  {
   "cell_type": "code",
   "execution_count": 15,
   "id": "df3eb272",
   "metadata": {},
   "outputs": [
    {
     "name": "stdout",
     "output_type": "stream",
     "text": [
      "Train data shape: (60000, 196) | Test data shape: (10000, 196)\n"
     ]
    }
   ],
   "source": [
    "print(f'Train data shape: {train_images_scaled.shape} | Test data shape: {test_images_scaled.shape}')"
   ]
  },
  {
   "cell_type": "code",
   "execution_count": 16,
   "id": "3906b1d5",
   "metadata": {},
   "outputs": [
    {
     "data": {
      "image/svg+xml": "<?xml version=\"1.0\" encoding=\"utf-8\" standalone=\"no\"?>\n<!DOCTYPE svg PUBLIC \"-//W3C//DTD SVG 1.1//EN\"\n  \"http://www.w3.org/Graphics/SVG/1.1/DTD/svg11.dtd\">\n<svg height=\"276.718594pt\" version=\"1.1\" viewBox=\"0 0 265.023529 276.718594\" width=\"265.023529pt\" xmlns=\"http://www.w3.org/2000/svg\" xmlns:xlink=\"http://www.w3.org/1999/xlink\">\n <metadata>\n  <rdf:RDF xmlns:cc=\"http://creativecommons.org/ns#\" xmlns:dc=\"http://purl.org/dc/elements/1.1/\" xmlns:rdf=\"http://www.w3.org/1999/02/22-rdf-syntax-ns#\">\n   <cc:Work>\n    <dc:type rdf:resource=\"http://purl.org/dc/dcmitype/StillImage\"/>\n    <dc:date>2022-04-18T19:03:51.478874</dc:date>\n    <dc:format>image/svg+xml</dc:format>\n    <dc:creator>\n     <cc:Agent>\n      <dc:title>Matplotlib v3.4.1, https://matplotlib.org/</dc:title>\n     </cc:Agent>\n    </dc:creator>\n   </cc:Work>\n  </rdf:RDF>\n </metadata>\n <defs>\n  <style type=\"text/css\">*{stroke-linecap:butt;stroke-linejoin:round;}</style>\n </defs>\n <g id=\"figure_1\">\n  <g id=\"patch_1\">\n   <path d=\"M 0 276.718594 \nL 265.023529 276.718594 \nL 265.023529 0 \nL 0 0 \nz\n\" style=\"fill:#ffffff;\"/>\n  </g>\n  <g id=\"axes_1\">\n   <g id=\"patch_2\">\n    <path d=\"M 7.2 93.415064 \nL 80.576471 93.415064 \nL 80.576471 20.038594 \nL 7.2 20.038594 \nz\n\" style=\"fill:#eeeeee;\"/>\n   </g>\n   <g clip-path=\"url(#p1df540e736)\">\n    <image height=\"73.44\" id=\"image19f33e4e70\" transform=\"scale(1 -1)translate(0 -73.44)\" width=\"73.44\" x=\"7.2\" xlink:href=\"data:image/png;base64,\niVBORw0KGgoAAAANSUhEUgAAAGYAAABmCAYAAAA53+RiAAACL0lEQVR4nO3aIapqQRyA8XfkomAQLCZBrLoFs2vQahBcgdgEgyBmm81odgUmV+ACrIJNBMUXXn0z9zJ68Lvw/eqfmTPwOXCQkz2fz+cf4RQ+fQD9n2GgDANlGCjDQBkGyjBQhoEyDJRhoAwDZRgow0AZBurrlcXD4TA4W6/XSXuWy+Xo/Hw+B2fFYjHpmUTeGCjDQBkGyjBQhoEyDFT2ia9kjsdjcNZut5P37Xa7wdlut4uuzbIs+bl58MZAGQbKMFCGgTIMlGGgPvK6/IrpdBqczWaz5H37/X5wttlskvdN5Y2BMgyUYaAMA2UYKMNA/brX5VSlUil57e12e+NJfsYbA2UYKMNAGQbKMFCGgTIM1EsfldP0er3g7H6/R9deLpc3n+Y13hgow0AZBsowUIaBMgzUr3tdrlarwdlgMAjOvntd9qNy/YhhoAwDZRgow0AZBgr3lcxisYjOD4dDcLbdbt99nI/xxkAZBsowUIaBMgyUYaAMA/WRv/3H43Fwtlwuo2s7nU7SMyeTSXQ+n8+T9s2LNwbKMFCGgTIMlGGgDAOV29/+p9MpOGs0Gnk8MqpQiP8G9/t9cFar1YKzZrOZfKYYbwyUYaAMA2UYKMNAGQYqt3+X6/V6cPZ4PJL3vV6vSetWq1V03mq1grNKpZK072g0+v5gAd4YKMNAGQbKMFCGgTIMFO6jcv3jjYEyDJRhoAwDZRgow0AZBsowUIaBMgyUYaAMA2UYKMNA/QVCWFsk2a/1DAAAAABJRU5ErkJggg==\" y=\"-19.975064\"/>\n   </g>\n   <g id=\"matplotlib.axis_1\"/>\n   <g id=\"matplotlib.axis_2\"/>\n   <g id=\"patch_3\">\n    <path d=\"M 7.2 93.415064 \nL 7.2 20.038594 \n\" style=\"fill:none;stroke:#bcbcbc;stroke-linecap:square;stroke-linejoin:miter;stroke-width:0.8;\"/>\n   </g>\n   <g id=\"patch_4\">\n    <path d=\"M 80.576471 93.415064 \nL 80.576471 20.038594 \n\" style=\"fill:none;stroke:#bcbcbc;stroke-linecap:square;stroke-linejoin:miter;stroke-width:0.8;\"/>\n   </g>\n   <g id=\"patch_5\">\n    <path d=\"M 7.2 93.415064 \nL 80.576471 93.415064 \n\" style=\"fill:none;stroke:#bcbcbc;stroke-linecap:square;stroke-linejoin:miter;stroke-width:0.8;\"/>\n   </g>\n   <g id=\"patch_6\">\n    <path d=\"M 7.2 20.038594 \nL 80.576471 20.038594 \n\" style=\"fill:none;stroke:#bcbcbc;stroke-linecap:square;stroke-linejoin:miter;stroke-width:0.8;\"/>\n   </g>\n   <g id=\"text_1\">\n    <!-- label: 5 -->\n    <g transform=\"translate(27.195345 14.038594)scale(0.09 -0.09)\">\n     <defs>\n      <path d=\"M 603 4863 \nL 1178 4863 \nL 1178 0 \nL 603 0 \nL 603 4863 \nz\n\" id=\"DejaVuSans-6c\" transform=\"scale(0.015625)\"/>\n      <path d=\"M 2194 1759 \nQ 1497 1759 1228 1600 \nQ 959 1441 959 1056 \nQ 959 750 1161 570 \nQ 1363 391 1709 391 \nQ 2188 391 2477 730 \nQ 2766 1069 2766 1631 \nL 2766 1759 \nL 2194 1759 \nz\nM 3341 1997 \nL 3341 0 \nL 2766 0 \nL 2766 531 \nQ 2569 213 2275 61 \nQ 1981 -91 1556 -91 \nQ 1019 -91 701 211 \nQ 384 513 384 1019 \nQ 384 1609 779 1909 \nQ 1175 2209 1959 2209 \nL 2766 2209 \nL 2766 2266 \nQ 2766 2663 2505 2880 \nQ 2244 3097 1772 3097 \nQ 1472 3097 1187 3025 \nQ 903 2953 641 2809 \nL 641 3341 \nQ 956 3463 1253 3523 \nQ 1550 3584 1831 3584 \nQ 2591 3584 2966 3190 \nQ 3341 2797 3341 1997 \nz\n\" id=\"DejaVuSans-61\" transform=\"scale(0.015625)\"/>\n      <path d=\"M 3116 1747 \nQ 3116 2381 2855 2742 \nQ 2594 3103 2138 3103 \nQ 1681 3103 1420 2742 \nQ 1159 2381 1159 1747 \nQ 1159 1113 1420 752 \nQ 1681 391 2138 391 \nQ 2594 391 2855 752 \nQ 3116 1113 3116 1747 \nz\nM 1159 2969 \nQ 1341 3281 1617 3432 \nQ 1894 3584 2278 3584 \nQ 2916 3584 3314 3078 \nQ 3713 2572 3713 1747 \nQ 3713 922 3314 415 \nQ 2916 -91 2278 -91 \nQ 1894 -91 1617 61 \nQ 1341 213 1159 525 \nL 1159 0 \nL 581 0 \nL 581 4863 \nL 1159 4863 \nL 1159 2969 \nz\n\" id=\"DejaVuSans-62\" transform=\"scale(0.015625)\"/>\n      <path d=\"M 3597 1894 \nL 3597 1613 \nL 953 1613 \nQ 991 1019 1311 708 \nQ 1631 397 2203 397 \nQ 2534 397 2845 478 \nQ 3156 559 3463 722 \nL 3463 178 \nQ 3153 47 2828 -22 \nQ 2503 -91 2169 -91 \nQ 1331 -91 842 396 \nQ 353 884 353 1716 \nQ 353 2575 817 3079 \nQ 1281 3584 2069 3584 \nQ 2775 3584 3186 3129 \nQ 3597 2675 3597 1894 \nz\nM 3022 2063 \nQ 3016 2534 2758 2815 \nQ 2500 3097 2075 3097 \nQ 1594 3097 1305 2825 \nQ 1016 2553 972 2059 \nL 3022 2063 \nz\n\" id=\"DejaVuSans-65\" transform=\"scale(0.015625)\"/>\n      <path d=\"M 750 794 \nL 1409 794 \nL 1409 0 \nL 750 0 \nL 750 794 \nz\nM 750 3309 \nL 1409 3309 \nL 1409 2516 \nL 750 2516 \nL 750 3309 \nz\n\" id=\"DejaVuSans-3a\" transform=\"scale(0.015625)\"/>\n      <path id=\"DejaVuSans-20\" transform=\"scale(0.015625)\"/>\n      <path d=\"M 691 4666 \nL 3169 4666 \nL 3169 4134 \nL 1269 4134 \nL 1269 2991 \nQ 1406 3038 1543 3061 \nQ 1681 3084 1819 3084 \nQ 2600 3084 3056 2656 \nQ 3513 2228 3513 1497 \nQ 3513 744 3044 326 \nQ 2575 -91 1722 -91 \nQ 1428 -91 1123 -41 \nQ 819 9 494 109 \nL 494 744 \nQ 775 591 1075 516 \nQ 1375 441 1709 441 \nQ 2250 441 2565 725 \nQ 2881 1009 2881 1497 \nQ 2881 1984 2565 2268 \nQ 2250 2553 1709 2553 \nQ 1456 2553 1204 2497 \nQ 953 2441 691 2322 \nL 691 4666 \nz\n\" id=\"DejaVuSans-35\" transform=\"scale(0.015625)\"/>\n     </defs>\n     <use xlink:href=\"#DejaVuSans-6c\"/>\n     <use x=\"27.783203\" xlink:href=\"#DejaVuSans-61\"/>\n     <use x=\"89.0625\" xlink:href=\"#DejaVuSans-62\"/>\n     <use x=\"152.539062\" xlink:href=\"#DejaVuSans-65\"/>\n     <use x=\"214.0625\" xlink:href=\"#DejaVuSans-6c\"/>\n     <use x=\"241.845703\" xlink:href=\"#DejaVuSans-3a\"/>\n     <use x=\"275.537109\" xlink:href=\"#DejaVuSans-20\"/>\n     <use x=\"307.324219\" xlink:href=\"#DejaVuSans-35\"/>\n    </g>\n   </g>\n  </g>\n  <g id=\"axes_2\">\n   <g id=\"patch_7\">\n    <path d=\"M 95.823529 93.415064 \nL 169.2 93.415064 \nL 169.2 20.038594 \nL 95.823529 20.038594 \nz\n\" style=\"fill:#eeeeee;\"/>\n   </g>\n   <g clip-path=\"url(#pb9a87a1df4)\">\n    <image height=\"73.44\" id=\"imagee4cc0a2326\" transform=\"scale(1 -1)translate(0 -73.44)\" width=\"73.44\" x=\"95.823529\" xlink:href=\"data:image/png;base64,\niVBORw0KGgoAAAANSUhEUgAAAGYAAABmCAYAAAA53+RiAAACQUlEQVR4nO3bMWpqQRhA4SiinaAiWItgo61Y2rmFgEtwA67EwsJOsRI71+EG7EVEi5QhpnvV+ydwH4PnhfO1P04mHAauk5vS8/l8vgmn/OoN6O8MA2UYKMNAGQbKMFCGgTIMlGGgDANlGCjDQBkGyjBQlVwLf3x8hLN6vV543ev1Gs5arVbhdWk8MVCGgTIMlGGgDANlGKhsj8tFH4kHg0Fy3m63w9l0Og1nx+Ox0H5exRMDZRgow0AZBsowUIaByva4nHpXPdd77NvtNpyVSqXkZ2nv1ntioAwDZRgow0AZBsowUKVc/4NZLsfNv76+cvzIpM/Pz+S8Wq2Gs9PpFM6Gw2HhPaV4YqAMA2UYKMNAGQbKMFCGgcp27V+r1cLZbrcLZ+/v7zm281appH/V1HerV3wn88RAGQbKMFCGgTIMlGGgsl37n8/ncNbr9cLZK/4k8BMfl/WHYaAMA2UYKMNAGQYq2+1yt9sNZ/P5PJx1Op3kuofDIZyNx+Mf9/W/8MRAGQbKMFCGgTIMlGGgDAOV7dq/qGazmZzf7/dwttlswtlisUiuu9/vw9l6vQ5ny+UyuW5Rnhgow0AZBsowUIaBMgxUtmv/oi6XS3Le7/fD2Ww2C2eTySS57mg0Cmer1Sr52Rw8MVCGgTIMlGGgDANlGCjc7fK/SN1MPx6P5GcbjUY4u91uRbdUmCcGyjBQhoEyDJRhoAwD9asel38TTwyUYaAMA2UYKMNAGQbKMFCGgTIMlGGgDANlGCjDQBkG6ht6sWbBYLfHugAAAABJRU5ErkJggg==\" y=\"-19.975064\"/>\n   </g>\n   <g id=\"matplotlib.axis_3\"/>\n   <g id=\"matplotlib.axis_4\"/>\n   <g id=\"patch_8\">\n    <path d=\"M 95.823529 93.415064 \nL 95.823529 20.038594 \n\" style=\"fill:none;stroke:#bcbcbc;stroke-linecap:square;stroke-linejoin:miter;stroke-width:0.8;\"/>\n   </g>\n   <g id=\"patch_9\">\n    <path d=\"M 169.2 93.415064 \nL 169.2 20.038594 \n\" style=\"fill:none;stroke:#bcbcbc;stroke-linecap:square;stroke-linejoin:miter;stroke-width:0.8;\"/>\n   </g>\n   <g id=\"patch_10\">\n    <path d=\"M 95.823529 93.415064 \nL 169.2 93.415064 \n\" style=\"fill:none;stroke:#bcbcbc;stroke-linecap:square;stroke-linejoin:miter;stroke-width:0.8;\"/>\n   </g>\n   <g id=\"patch_11\">\n    <path d=\"M 95.823529 20.038594 \nL 169.2 20.038594 \n\" style=\"fill:none;stroke:#bcbcbc;stroke-linecap:square;stroke-linejoin:miter;stroke-width:0.8;\"/>\n   </g>\n   <g id=\"text_2\">\n    <!-- label: 0 -->\n    <g transform=\"translate(115.818874 14.038594)scale(0.09 -0.09)\">\n     <defs>\n      <path d=\"M 2034 4250 \nQ 1547 4250 1301 3770 \nQ 1056 3291 1056 2328 \nQ 1056 1369 1301 889 \nQ 1547 409 2034 409 \nQ 2525 409 2770 889 \nQ 3016 1369 3016 2328 \nQ 3016 3291 2770 3770 \nQ 2525 4250 2034 4250 \nz\nM 2034 4750 \nQ 2819 4750 3233 4129 \nQ 3647 3509 3647 2328 \nQ 3647 1150 3233 529 \nQ 2819 -91 2034 -91 \nQ 1250 -91 836 529 \nQ 422 1150 422 2328 \nQ 422 3509 836 4129 \nQ 1250 4750 2034 4750 \nz\n\" id=\"DejaVuSans-30\" transform=\"scale(0.015625)\"/>\n     </defs>\n     <use xlink:href=\"#DejaVuSans-6c\"/>\n     <use x=\"27.783203\" xlink:href=\"#DejaVuSans-61\"/>\n     <use x=\"89.0625\" xlink:href=\"#DejaVuSans-62\"/>\n     <use x=\"152.539062\" xlink:href=\"#DejaVuSans-65\"/>\n     <use x=\"214.0625\" xlink:href=\"#DejaVuSans-6c\"/>\n     <use x=\"241.845703\" xlink:href=\"#DejaVuSans-3a\"/>\n     <use x=\"275.537109\" xlink:href=\"#DejaVuSans-20\"/>\n     <use x=\"307.324219\" xlink:href=\"#DejaVuSans-30\"/>\n    </g>\n   </g>\n  </g>\n  <g id=\"axes_3\">\n   <g id=\"patch_12\">\n    <path d=\"M 184.447059 93.415064 \nL 257.823529 93.415064 \nL 257.823529 20.038594 \nL 184.447059 20.038594 \nz\n\" style=\"fill:#eeeeee;\"/>\n   </g>\n   <g clip-path=\"url(#pa2ba7efaaf)\">\n    <image height=\"73.44\" id=\"image3c60470da1\" transform=\"scale(1 -1)translate(0 -73.44)\" width=\"73.44\" x=\"184.447059\" xlink:href=\"data:image/png;base64,\niVBORw0KGgoAAAANSUhEUgAAAGYAAABmCAYAAAA53+RiAAACEklEQVR4nO3coWqCYRSA4TkXTGLWZBLvQDAY9ELEIHgBFsFsNlktgsWrMBiN3oGXIIiCC1qEnW8wdf879j718OmBlw/+/WzLXS6Xy5tw3rNeQF8zDJRhoAwDZRgow0AZBsowUIaBMgyUYaAMA2UYKMNAfWS9wG8ZDAbJealUCmeTyeTJ23zPGwNlGCjDQBkGyjBQhoH6N4/L3+l0OlmvcMcbA2UYKMNAGQbKMFCGgfJx+aZarWa9wh1vDJRhoAwDZRgow0AZBsrH5ZvVahXOhsPhL25y5Y2BMgyUYaAMA2UYKMNAGQYql/pfMuPxOHl4NpuFs1qtFs42m004y+fzye9st9vhbDQahbNms5n83EKhEM5Op1Py7Ct4Y6AMA2UYKMNAGQbKMFDJ1/6HwyF5eL1eh7N6vf6zjR5wPB7DWa/XS549n8/PXuch3hgow0AZBsowUIaBMgxU8u3yfD5PHt5ut+FsOp3+eKksVCqVcLbb7cJZsVh8xTreGCrDQBkGyjBQhoEyDJRhoJKv/bvdbvJw6ueYv6bVaoWz5XIZzvr9/ivW8cZQGQbKMFCGgTIMlGGg/OPYm8ViEc4ajUY483H5nzEMlGGgDANlGCjDQCV/S0ZX5XI5nO33+5d8pzcGyjBQhoEyDJRhoAwD5eMylDcGyjBQhoEyDJRhoAwDZRgow0AZBsowUIaBMgyUYaAMA/UJjXxMP/Ut2UEAAAAASUVORK5CYII=\" y=\"-19.975064\"/>\n   </g>\n   <g id=\"matplotlib.axis_5\"/>\n   <g id=\"matplotlib.axis_6\"/>\n   <g id=\"patch_13\">\n    <path d=\"M 184.447059 93.415064 \nL 184.447059 20.038594 \n\" style=\"fill:none;stroke:#bcbcbc;stroke-linecap:square;stroke-linejoin:miter;stroke-width:0.8;\"/>\n   </g>\n   <g id=\"patch_14\">\n    <path d=\"M 257.823529 93.415064 \nL 257.823529 20.038594 \n\" style=\"fill:none;stroke:#bcbcbc;stroke-linecap:square;stroke-linejoin:miter;stroke-width:0.8;\"/>\n   </g>\n   <g id=\"patch_15\">\n    <path d=\"M 184.447059 93.415064 \nL 257.823529 93.415064 \n\" style=\"fill:none;stroke:#bcbcbc;stroke-linecap:square;stroke-linejoin:miter;stroke-width:0.8;\"/>\n   </g>\n   <g id=\"patch_16\">\n    <path d=\"M 184.447059 20.038594 \nL 257.823529 20.038594 \n\" style=\"fill:none;stroke:#bcbcbc;stroke-linecap:square;stroke-linejoin:miter;stroke-width:0.8;\"/>\n   </g>\n   <g id=\"text_3\">\n    <!-- label: 4 -->\n    <g transform=\"translate(204.442403 14.038594)scale(0.09 -0.09)\">\n     <defs>\n      <path d=\"M 2419 4116 \nL 825 1625 \nL 2419 1625 \nL 2419 4116 \nz\nM 2253 4666 \nL 3047 4666 \nL 3047 1625 \nL 3713 1625 \nL 3713 1100 \nL 3047 1100 \nL 3047 0 \nL 2419 0 \nL 2419 1100 \nL 313 1100 \nL 313 1709 \nL 2253 4666 \nz\n\" id=\"DejaVuSans-34\" transform=\"scale(0.015625)\"/>\n     </defs>\n     <use xlink:href=\"#DejaVuSans-6c\"/>\n     <use x=\"27.783203\" xlink:href=\"#DejaVuSans-61\"/>\n     <use x=\"89.0625\" xlink:href=\"#DejaVuSans-62\"/>\n     <use x=\"152.539062\" xlink:href=\"#DejaVuSans-65\"/>\n     <use x=\"214.0625\" xlink:href=\"#DejaVuSans-6c\"/>\n     <use x=\"241.845703\" xlink:href=\"#DejaVuSans-3a\"/>\n     <use x=\"275.537109\" xlink:href=\"#DejaVuSans-20\"/>\n     <use x=\"307.324219\" xlink:href=\"#DejaVuSans-34\"/>\n    </g>\n   </g>\n  </g>\n  <g id=\"axes_4\">\n   <g id=\"patch_17\">\n    <path d=\"M 7.2 181.466829 \nL 80.576471 181.466829 \nL 80.576471 108.090358 \nL 7.2 108.090358 \nz\n\" style=\"fill:#eeeeee;\"/>\n   </g>\n   <g clip-path=\"url(#p7f761e65d5)\">\n    <image height=\"73.44\" id=\"image591f9b5d6e\" transform=\"scale(1 -1)translate(0 -73.44)\" width=\"73.44\" x=\"7.2\" xlink:href=\"data:image/png;base64,\niVBORw0KGgoAAAANSUhEUgAAAGYAAABmCAYAAAA53+RiAAACAElEQVR4nO3dPYrCUBRA4ZfRwlaws/VnFxZCavfiPqzciQvQbSgi2NvY2SiZDcx9QozkTDhfe8nMGw4XooRMUVVVlYTz0/YB9DfDQBkGyjBQhoEyDJRhoAwDZRgow0AZBsowUIaBMgxUv41f2uv1wtlkMsleezqdmj4OkhsDZRgow0AZBsowUIaBauV2eTweh7Pr9Zq99vl8hrN+v5U/5yvcGCjDQBkGyjBQhoEyDFRBe6g8981zSikdDodwtlgsmj5Oa9wYKMNAGQbKMFCGgTIMFO52eTabZeeXyyWcvV6vpo/TGjcGyjBQhoEyDJRhoAwDZRgo3OeY+/2enQ+Hw3C2Xq/D2WazqXukVrgxUIaBMgyUYaAMA2UYKNzt8ju73S6crVarcPZ4PLI/dzAY1D7TN7gxUIaBMgyUYaAMA2UYqH93u5xTFEU4G41G2Wtvt1vTx/mIGwNlGCjDQBkGyjBQhoEyDFR3Xr6SUjqfz+FsPp9nr93v9+FsuVzWPlNdbgyUYaAMA2UYKMNAGQaqU7fLubecb7fb7LVlWYaz4/EYzqbT6fuD1eDGQBkGyjBQhoEyDJRhoDr1lMwnck/Y5P6Z0Lt339TlxkAZBsowUIaBMgyUYaA69e3yJ2ifGtwYKMNAGQbKMFCGgTIMlGGgDANlGCjDQBkGyjBQhoEyDNQvSk9Pk6bFqsgAAAAASUVORK5CYII=\" y=\"-108.026829\"/>\n   </g>\n   <g id=\"matplotlib.axis_7\"/>\n   <g id=\"matplotlib.axis_8\"/>\n   <g id=\"patch_18\">\n    <path d=\"M 7.2 181.466829 \nL 7.2 108.090358 \n\" style=\"fill:none;stroke:#bcbcbc;stroke-linecap:square;stroke-linejoin:miter;stroke-width:0.8;\"/>\n   </g>\n   <g id=\"patch_19\">\n    <path d=\"M 80.576471 181.466829 \nL 80.576471 108.090358 \n\" style=\"fill:none;stroke:#bcbcbc;stroke-linecap:square;stroke-linejoin:miter;stroke-width:0.8;\"/>\n   </g>\n   <g id=\"patch_20\">\n    <path d=\"M 7.2 181.466829 \nL 80.576471 181.466829 \n\" style=\"fill:none;stroke:#bcbcbc;stroke-linecap:square;stroke-linejoin:miter;stroke-width:0.8;\"/>\n   </g>\n   <g id=\"patch_21\">\n    <path d=\"M 7.2 108.090358 \nL 80.576471 108.090358 \n\" style=\"fill:none;stroke:#bcbcbc;stroke-linecap:square;stroke-linejoin:miter;stroke-width:0.8;\"/>\n   </g>\n   <g id=\"text_4\">\n    <!-- label: 1 -->\n    <g transform=\"translate(27.195345 102.090358)scale(0.09 -0.09)\">\n     <defs>\n      <path d=\"M 794 531 \nL 1825 531 \nL 1825 4091 \nL 703 3866 \nL 703 4441 \nL 1819 4666 \nL 2450 4666 \nL 2450 531 \nL 3481 531 \nL 3481 0 \nL 794 0 \nL 794 531 \nz\n\" id=\"DejaVuSans-31\" transform=\"scale(0.015625)\"/>\n     </defs>\n     <use xlink:href=\"#DejaVuSans-6c\"/>\n     <use x=\"27.783203\" xlink:href=\"#DejaVuSans-61\"/>\n     <use x=\"89.0625\" xlink:href=\"#DejaVuSans-62\"/>\n     <use x=\"152.539062\" xlink:href=\"#DejaVuSans-65\"/>\n     <use x=\"214.0625\" xlink:href=\"#DejaVuSans-6c\"/>\n     <use x=\"241.845703\" xlink:href=\"#DejaVuSans-3a\"/>\n     <use x=\"275.537109\" xlink:href=\"#DejaVuSans-20\"/>\n     <use x=\"307.324219\" xlink:href=\"#DejaVuSans-31\"/>\n    </g>\n   </g>\n  </g>\n  <g id=\"axes_5\">\n   <g id=\"patch_22\">\n    <path d=\"M 95.823529 181.466829 \nL 169.2 181.466829 \nL 169.2 108.090358 \nL 95.823529 108.090358 \nz\n\" style=\"fill:#eeeeee;\"/>\n   </g>\n   <g clip-path=\"url(#p09afce9ebd)\">\n    <image height=\"73.44\" id=\"image32c948ac81\" transform=\"scale(1 -1)translate(0 -73.44)\" width=\"73.44\" x=\"95.823529\" xlink:href=\"data:image/png;base64,\niVBORw0KGgoAAAANSUhEUgAAAGYAAABmCAYAAAA53+RiAAAB/klEQVR4nO3cMZLBcBSA8cSoaTQUZhRuwBlcwQWcwzmoVCqFo+gdQKdRk73AvlcgySfz/do3yWTn2zdj/5NVVlVVFcLptf0A+p9hoAwDZRgow0AZBqrf9gN803q9DmeDwSC9dr/ff/txPuLGQBkGyjBQhoEyDJRhoAwDVXbp2L/Xi3/PXq9Xg0/yOTcGyjBQhoEyDJRhoAwD9XPH/ufzue1HaIQbA2UYKMNAGQbKMFCGgfJ0GcqNgTIMlGGgDANlGCjDQP3c6fL1eg1nHfrk78ZQGQbKMFCGgTIMlGGgDANV298xk8kknN1ut3BWlmV63+l0+va1v8SNgTIMlGGgDANlGCjDQNX2lsx4PA5nq9UqnB0Oh/S+9/s9nI1Go3C22WzS++52u3TeNDcGyjBQhoEyDJRhoAwDVdvp8rsnyLPZLL3vdrsNZ9mL49kL50WRf5xeLBbptXVwY6AMA2UYKMNAGQbKMFCGgWrlbf/n8xnOhsNheu3lcglnp9MpnGVfL18URbFcLsNZG/9F4MZAGQbKMFCGgTIMlGGgWvm4nB3BPx6P9Nrs2L/fj3+c4/GY3nc+n6fzprkxUIaBMgyUYaAMA2UYqE599WKXuDFQhoEyDJRhoAwDZRgow0AZBsowUIaBMgyUYaAMA2UYKMNAGQbKMFCGgTIMlGGgDAP1By5wTitmNf0yAAAAAElFTkSuQmCC\" y=\"-108.026829\"/>\n   </g>\n   <g id=\"matplotlib.axis_9\"/>\n   <g id=\"matplotlib.axis_10\"/>\n   <g id=\"patch_23\">\n    <path d=\"M 95.823529 181.466829 \nL 95.823529 108.090358 \n\" style=\"fill:none;stroke:#bcbcbc;stroke-linecap:square;stroke-linejoin:miter;stroke-width:0.8;\"/>\n   </g>\n   <g id=\"patch_24\">\n    <path d=\"M 169.2 181.466829 \nL 169.2 108.090358 \n\" style=\"fill:none;stroke:#bcbcbc;stroke-linecap:square;stroke-linejoin:miter;stroke-width:0.8;\"/>\n   </g>\n   <g id=\"patch_25\">\n    <path d=\"M 95.823529 181.466829 \nL 169.2 181.466829 \n\" style=\"fill:none;stroke:#bcbcbc;stroke-linecap:square;stroke-linejoin:miter;stroke-width:0.8;\"/>\n   </g>\n   <g id=\"patch_26\">\n    <path d=\"M 95.823529 108.090358 \nL 169.2 108.090358 \n\" style=\"fill:none;stroke:#bcbcbc;stroke-linecap:square;stroke-linejoin:miter;stroke-width:0.8;\"/>\n   </g>\n   <g id=\"text_5\">\n    <!-- label: 9 -->\n    <g transform=\"translate(115.818874 102.090358)scale(0.09 -0.09)\">\n     <defs>\n      <path d=\"M 703 97 \nL 703 672 \nQ 941 559 1184 500 \nQ 1428 441 1663 441 \nQ 2288 441 2617 861 \nQ 2947 1281 2994 2138 \nQ 2813 1869 2534 1725 \nQ 2256 1581 1919 1581 \nQ 1219 1581 811 2004 \nQ 403 2428 403 3163 \nQ 403 3881 828 4315 \nQ 1253 4750 1959 4750 \nQ 2769 4750 3195 4129 \nQ 3622 3509 3622 2328 \nQ 3622 1225 3098 567 \nQ 2575 -91 1691 -91 \nQ 1453 -91 1209 -44 \nQ 966 3 703 97 \nz\nM 1959 2075 \nQ 2384 2075 2632 2365 \nQ 2881 2656 2881 3163 \nQ 2881 3666 2632 3958 \nQ 2384 4250 1959 4250 \nQ 1534 4250 1286 3958 \nQ 1038 3666 1038 3163 \nQ 1038 2656 1286 2365 \nQ 1534 2075 1959 2075 \nz\n\" id=\"DejaVuSans-39\" transform=\"scale(0.015625)\"/>\n     </defs>\n     <use xlink:href=\"#DejaVuSans-6c\"/>\n     <use x=\"27.783203\" xlink:href=\"#DejaVuSans-61\"/>\n     <use x=\"89.0625\" xlink:href=\"#DejaVuSans-62\"/>\n     <use x=\"152.539062\" xlink:href=\"#DejaVuSans-65\"/>\n     <use x=\"214.0625\" xlink:href=\"#DejaVuSans-6c\"/>\n     <use x=\"241.845703\" xlink:href=\"#DejaVuSans-3a\"/>\n     <use x=\"275.537109\" xlink:href=\"#DejaVuSans-20\"/>\n     <use x=\"307.324219\" xlink:href=\"#DejaVuSans-39\"/>\n    </g>\n   </g>\n  </g>\n  <g id=\"axes_6\">\n   <g id=\"patch_27\">\n    <path d=\"M 184.447059 181.466829 \nL 257.823529 181.466829 \nL 257.823529 108.090358 \nL 184.447059 108.090358 \nz\n\" style=\"fill:#eeeeee;\"/>\n   </g>\n   <g clip-path=\"url(#p9cbd38e674)\">\n    <image height=\"73.44\" id=\"image9b4f50480c\" transform=\"scale(1 -1)translate(0 -73.44)\" width=\"73.44\" x=\"184.447059\" xlink:href=\"data:image/png;base64,\niVBORw0KGgoAAAANSUhEUgAAAGYAAABmCAYAAAA53+RiAAACbElEQVR4nO3csY4pARiG4bOik+h0CtyCygXQ6DXEJVC5CyqdKEioVBKJRhQ6l6EQCQUiJCJhu63O/28ys+LL5H3aLzOzm3cnGbvs1+v1ev2DnNinvwD8H2FEEUYUYUQRRhRhRBFGFGFEEUYUYUQRRhRhRBFGFGFEEUYUYUQRRhRhRBFGFGFEEUZUPMzBhULB3NbrdaBzDodDd69Wq+YWi0Xn5yw630nEEEYUYUQRRhRhRBFG1FeYN5VPp1Nzq9Vq5rbf782t2Wy61+z3++Z2Op3MLZlMuuf1rFYrc+v1euY2Go0CX5M7RhRhRBFGFGFEEUYUYUSFelz2dDodc2u1WuZ2u93c8z6fT3NLJBLm1u123fM2Gg1zq1Qq5tZut80tnU671/Rwx4gijCjCiCKMKMKIIowowoh62+sYz2azMbdsNuse6702OB6P5na9Xt3zDgYDc6vX6+6x78AdI4owoggjijCiCCOKMKI+8rgcxmQyMbfz+Wxu4/HYPa/3J4PZbPb7F/bHuGNEEUYUYUQRRhRhRBFG1Ecely+Xi7kdDgf32FwuF+ia8/nc3cvlsrl578x5F+4YUYQRRRhRhBFFGFGEEUUYUR95HbNYLMytVCoFPq/34djH4+Eem0qlzI3XMfhBGFGEEUUYUYQRRRhRcu+S+e3X/plMxty8D9bm83n3vNvt1tx2u5177Dtwx4gijCjCiCKMKMKIIowoucflMO73u7ktl0v32GKxaG7xeKh/6B4Id4wowogijCjCiCKMKMKIitTjcpRwx4gijCjCiCKMKMKIIowowogijCjCiCKMKMKIIowowogijKhv3X2OnRb2hJoAAAAASUVORK5CYII=\" y=\"-108.026829\"/>\n   </g>\n   <g id=\"matplotlib.axis_11\"/>\n   <g id=\"matplotlib.axis_12\"/>\n   <g id=\"patch_28\">\n    <path d=\"M 184.447059 181.466829 \nL 184.447059 108.090358 \n\" style=\"fill:none;stroke:#bcbcbc;stroke-linecap:square;stroke-linejoin:miter;stroke-width:0.8;\"/>\n   </g>\n   <g id=\"patch_29\">\n    <path d=\"M 257.823529 181.466829 \nL 257.823529 108.090358 \n\" style=\"fill:none;stroke:#bcbcbc;stroke-linecap:square;stroke-linejoin:miter;stroke-width:0.8;\"/>\n   </g>\n   <g id=\"patch_30\">\n    <path d=\"M 184.447059 181.466829 \nL 257.823529 181.466829 \n\" style=\"fill:none;stroke:#bcbcbc;stroke-linecap:square;stroke-linejoin:miter;stroke-width:0.8;\"/>\n   </g>\n   <g id=\"patch_31\">\n    <path d=\"M 184.447059 108.090358 \nL 257.823529 108.090358 \n\" style=\"fill:none;stroke:#bcbcbc;stroke-linecap:square;stroke-linejoin:miter;stroke-width:0.8;\"/>\n   </g>\n   <g id=\"text_6\">\n    <!-- label: 2 -->\n    <g transform=\"translate(204.442403 102.090358)scale(0.09 -0.09)\">\n     <defs>\n      <path d=\"M 1228 531 \nL 3431 531 \nL 3431 0 \nL 469 0 \nL 469 531 \nQ 828 903 1448 1529 \nQ 2069 2156 2228 2338 \nQ 2531 2678 2651 2914 \nQ 2772 3150 2772 3378 \nQ 2772 3750 2511 3984 \nQ 2250 4219 1831 4219 \nQ 1534 4219 1204 4116 \nQ 875 4013 500 3803 \nL 500 4441 \nQ 881 4594 1212 4672 \nQ 1544 4750 1819 4750 \nQ 2544 4750 2975 4387 \nQ 3406 4025 3406 3419 \nQ 3406 3131 3298 2873 \nQ 3191 2616 2906 2266 \nQ 2828 2175 2409 1742 \nQ 1991 1309 1228 531 \nz\n\" id=\"DejaVuSans-32\" transform=\"scale(0.015625)\"/>\n     </defs>\n     <use xlink:href=\"#DejaVuSans-6c\"/>\n     <use x=\"27.783203\" xlink:href=\"#DejaVuSans-61\"/>\n     <use x=\"89.0625\" xlink:href=\"#DejaVuSans-62\"/>\n     <use x=\"152.539062\" xlink:href=\"#DejaVuSans-65\"/>\n     <use x=\"214.0625\" xlink:href=\"#DejaVuSans-6c\"/>\n     <use x=\"241.845703\" xlink:href=\"#DejaVuSans-3a\"/>\n     <use x=\"275.537109\" xlink:href=\"#DejaVuSans-20\"/>\n     <use x=\"307.324219\" xlink:href=\"#DejaVuSans-32\"/>\n    </g>\n   </g>\n  </g>\n  <g id=\"axes_7\">\n   <g id=\"patch_32\">\n    <path d=\"M 7.2 269.518594 \nL 80.576471 269.518594 \nL 80.576471 196.142123 \nL 7.2 196.142123 \nz\n\" style=\"fill:#eeeeee;\"/>\n   </g>\n   <g clip-path=\"url(#p80df62993a)\">\n    <image height=\"73.44\" id=\"imagedfc77fb72b\" transform=\"scale(1 -1)translate(0 -73.44)\" width=\"73.44\" x=\"7.2\" xlink:href=\"data:image/png;base64,\niVBORw0KGgoAAAANSUhEUgAAAGYAAABmCAYAAAA53+RiAAABhklEQVR4nO3cu23CABRA0RilpWYRGtZjCoZgFeagRaLHWSAQybLlQ7intYweXJ5kvsM4juNXOJu1B8jvCoMqDKowqMKgCoMqDKowqMKgCoMqDKowqMKgCoP6XnuAOe33+6fHLpfLy3O1Tz/aGFRhUIVBFQZVGFRhUMN/+pbMZvP8efbX3dQehjYGVRhUYVCFQRUGVRjU2727fD6fJ513PB5nnmRZbQyqMKjCoAqDKgyqMKi3e3d5GIZJx67X68vb3e12k2daQhuDKgyqMKjCoAqDKgyqMKiPeR3zeDyWGGcxbQyqMKjCoAqDKgyqMKjCoAqDKgyqMKjCoAqDKgyqMKjCoAqDKgyqMKjCoAqDKgyK+3Hs/X6ffO7pdJpxknW1MajCoAqDKgyqMKjCoLjL5e12O/ncw+Ew4yTramNQhUEVBlUYVGFQhUFxl8u3223tEQhtDKowqMKgCoMqDKowqLf7y5JP0cagCoMqDKowqMKgCoMqDKowqMKgCoMqDKowqMKgCoP6AW2UMotl8+79AAAAAElFTkSuQmCC\" y=\"-196.078594\"/>\n   </g>\n   <g id=\"matplotlib.axis_13\"/>\n   <g id=\"matplotlib.axis_14\"/>\n   <g id=\"patch_33\">\n    <path d=\"M 7.2 269.518594 \nL 7.2 196.142123 \n\" style=\"fill:none;stroke:#bcbcbc;stroke-linecap:square;stroke-linejoin:miter;stroke-width:0.8;\"/>\n   </g>\n   <g id=\"patch_34\">\n    <path d=\"M 80.576471 269.518594 \nL 80.576471 196.142123 \n\" style=\"fill:none;stroke:#bcbcbc;stroke-linecap:square;stroke-linejoin:miter;stroke-width:0.8;\"/>\n   </g>\n   <g id=\"patch_35\">\n    <path d=\"M 7.2 269.518594 \nL 80.576471 269.518594 \n\" style=\"fill:none;stroke:#bcbcbc;stroke-linecap:square;stroke-linejoin:miter;stroke-width:0.8;\"/>\n   </g>\n   <g id=\"patch_36\">\n    <path d=\"M 7.2 196.142123 \nL 80.576471 196.142123 \n\" style=\"fill:none;stroke:#bcbcbc;stroke-linecap:square;stroke-linejoin:miter;stroke-width:0.8;\"/>\n   </g>\n   <g id=\"text_7\">\n    <!-- label: 1 -->\n    <g transform=\"translate(27.195345 190.142123)scale(0.09 -0.09)\">\n     <use xlink:href=\"#DejaVuSans-6c\"/>\n     <use x=\"27.783203\" xlink:href=\"#DejaVuSans-61\"/>\n     <use x=\"89.0625\" xlink:href=\"#DejaVuSans-62\"/>\n     <use x=\"152.539062\" xlink:href=\"#DejaVuSans-65\"/>\n     <use x=\"214.0625\" xlink:href=\"#DejaVuSans-6c\"/>\n     <use x=\"241.845703\" xlink:href=\"#DejaVuSans-3a\"/>\n     <use x=\"275.537109\" xlink:href=\"#DejaVuSans-20\"/>\n     <use x=\"307.324219\" xlink:href=\"#DejaVuSans-31\"/>\n    </g>\n   </g>\n  </g>\n  <g id=\"axes_8\">\n   <g id=\"patch_37\">\n    <path d=\"M 95.823529 269.518594 \nL 169.2 269.518594 \nL 169.2 196.142123 \nL 95.823529 196.142123 \nz\n\" style=\"fill:#eeeeee;\"/>\n   </g>\n   <g clip-path=\"url(#pf511174ff7)\">\n    <image height=\"73.44\" id=\"image512b77da94\" transform=\"scale(1 -1)translate(0 -73.44)\" width=\"73.44\" x=\"95.823529\" xlink:href=\"data:image/png;base64,\niVBORw0KGgoAAAANSUhEUgAAAGYAAABmCAYAAAA53+RiAAACKklEQVR4nO3bMYoiQRhA4RldEBNzEUy8gJlnMBM11cDzeARDQ1EMDDyAoeIJjAwNBRFENxjYaP/apXt7fLDvS3+qu+BNQc3Q8/l6vV4fwim9ewP6PcNAGQbKMFCGgTIMlGGgDANlGCjDQBkGyjBQhoEyDNSPPIvP53M4azabeR4d6nQ64Wy5XIazer1exHYK44mBMgyUYaAMA2UYKMNA5bouD4fDTOum02nmd67X63DWaDTCWb/fTz53sVhk3lMRPDFQhoEyDJRhoAwDZRioz6I+Kj8ej+Gs3W4X8cqP7XYbzrrdbnLt4XAIZ0XtN8UTA2UYKMNAGQbKMFCGgSrsukxTKqV/Br0u668YBsowUIaBMgyUYaAMA5XrK5msWq1WODudTt+4Ey5PDJRhoAwDZRgow0AZBuot1+X9fh/ORqNR5uduNpvMa1P/T+qf/fWLYaAMA2UYKMNAGQbqv/lKZjAYJOer1Sqc3W63cFapVDLvKcUTA2UYKMNAGQbKMFCGgTIM1Ft+j3k+n+Hser0m19ZqtUzvvN/vyXm1Wg1nk8kknM1ms0z7+RNPDJRhoAwDZRgow0AZBuot1+XxeBzO5vP5N+4kv9TVPw9PDJRhoAwDZRgow0AZBgr3lczlcknOd7tdOOv1ev94N18ej0c4K5fLhbzTEwNlGCjDQBkGyjBQhoHCXZf1xRMDZRgow0AZBsowUIaBMgyUYaAMA2UYKMNAGQbKMFCGgfoJJDJnhyfiUHgAAAAASUVORK5CYII=\" y=\"-196.078594\"/>\n   </g>\n   <g id=\"matplotlib.axis_15\"/>\n   <g id=\"matplotlib.axis_16\"/>\n   <g id=\"patch_38\">\n    <path d=\"M 95.823529 269.518594 \nL 95.823529 196.142123 \n\" style=\"fill:none;stroke:#bcbcbc;stroke-linecap:square;stroke-linejoin:miter;stroke-width:0.8;\"/>\n   </g>\n   <g id=\"patch_39\">\n    <path d=\"M 169.2 269.518594 \nL 169.2 196.142123 \n\" style=\"fill:none;stroke:#bcbcbc;stroke-linecap:square;stroke-linejoin:miter;stroke-width:0.8;\"/>\n   </g>\n   <g id=\"patch_40\">\n    <path d=\"M 95.823529 269.518594 \nL 169.2 269.518594 \n\" style=\"fill:none;stroke:#bcbcbc;stroke-linecap:square;stroke-linejoin:miter;stroke-width:0.8;\"/>\n   </g>\n   <g id=\"patch_41\">\n    <path d=\"M 95.823529 196.142123 \nL 169.2 196.142123 \n\" style=\"fill:none;stroke:#bcbcbc;stroke-linecap:square;stroke-linejoin:miter;stroke-width:0.8;\"/>\n   </g>\n   <g id=\"text_8\">\n    <!-- label: 3 -->\n    <g transform=\"translate(115.818874 190.142123)scale(0.09 -0.09)\">\n     <defs>\n      <path d=\"M 2597 2516 \nQ 3050 2419 3304 2112 \nQ 3559 1806 3559 1356 \nQ 3559 666 3084 287 \nQ 2609 -91 1734 -91 \nQ 1441 -91 1130 -33 \nQ 819 25 488 141 \nL 488 750 \nQ 750 597 1062 519 \nQ 1375 441 1716 441 \nQ 2309 441 2620 675 \nQ 2931 909 2931 1356 \nQ 2931 1769 2642 2001 \nQ 2353 2234 1838 2234 \nL 1294 2234 \nL 1294 2753 \nL 1863 2753 \nQ 2328 2753 2575 2939 \nQ 2822 3125 2822 3475 \nQ 2822 3834 2567 4026 \nQ 2313 4219 1838 4219 \nQ 1578 4219 1281 4162 \nQ 984 4106 628 3988 \nL 628 4550 \nQ 988 4650 1302 4700 \nQ 1616 4750 1894 4750 \nQ 2613 4750 3031 4423 \nQ 3450 4097 3450 3541 \nQ 3450 3153 3228 2886 \nQ 3006 2619 2597 2516 \nz\n\" id=\"DejaVuSans-33\" transform=\"scale(0.015625)\"/>\n     </defs>\n     <use xlink:href=\"#DejaVuSans-6c\"/>\n     <use x=\"27.783203\" xlink:href=\"#DejaVuSans-61\"/>\n     <use x=\"89.0625\" xlink:href=\"#DejaVuSans-62\"/>\n     <use x=\"152.539062\" xlink:href=\"#DejaVuSans-65\"/>\n     <use x=\"214.0625\" xlink:href=\"#DejaVuSans-6c\"/>\n     <use x=\"241.845703\" xlink:href=\"#DejaVuSans-3a\"/>\n     <use x=\"275.537109\" xlink:href=\"#DejaVuSans-20\"/>\n     <use x=\"307.324219\" xlink:href=\"#DejaVuSans-33\"/>\n    </g>\n   </g>\n  </g>\n  <g id=\"axes_9\">\n   <g id=\"patch_42\">\n    <path d=\"M 184.447059 269.518594 \nL 257.823529 269.518594 \nL 257.823529 196.142123 \nL 184.447059 196.142123 \nz\n\" style=\"fill:#eeeeee;\"/>\n   </g>\n   <g clip-path=\"url(#pd446c5d051)\">\n    <image height=\"73.44\" id=\"imagef8fe8cceed\" transform=\"scale(1 -1)translate(0 -73.44)\" width=\"73.44\" x=\"184.447059\" xlink:href=\"data:image/png;base64,\niVBORw0KGgoAAAANSUhEUgAAAGYAAABmCAYAAAA53+RiAAABmElEQVR4nO3bvY2EMBQA4fPpxF8LZJQIvdAIVVACAXUQcg2sSRab8e58qZO3Gj3JiyCc53n+COf36QH0mmGgDANlGCjDQBkGyjBQhoEyDJRhoAwDZRgow0AZBurv6QHu1LZt9Ow4joyTvM+NgTIMlGGgDANlGCjDQH3UdblpmqdHuI0bA2UYKMNAGQbKMFCGgQqf9FJ5CCF6VtrPdGOgDANlGCjDQBkGyjBQxT1dXtc1etZ1XcZJ0nJjoAwDZRgow0AZBsowUIaBKu5/zDzP0bOqqjJOkpYbA2UYKMNAGQbKMFCGgSruunxlmqanR7iNGwNlGCjDQBkGyjBQhoEq7rq8LEv0bBzHjJOk5cZAGQbKMFCGgTIMlGGgDANV3MexVx/A7vsePRuGIcU4ybgxUIaBMgyUYaAMA2UYqOIe+1+p6/rpEW7jxkAZBsowUIaBMgyUYaCKuy5v2xY96/s+4yRpuTFQhoEyDJRhoAwDZRio4l7G+BZuDJRhoAwDZRgow0AZBsowUIaBMgyUYaAMA2UYKMNAGQbqH8oVJeeLk1JgAAAAAElFTkSuQmCC\" y=\"-196.078594\"/>\n   </g>\n   <g id=\"matplotlib.axis_17\"/>\n   <g id=\"matplotlib.axis_18\"/>\n   <g id=\"patch_43\">\n    <path d=\"M 184.447059 269.518594 \nL 184.447059 196.142123 \n\" style=\"fill:none;stroke:#bcbcbc;stroke-linecap:square;stroke-linejoin:miter;stroke-width:0.8;\"/>\n   </g>\n   <g id=\"patch_44\">\n    <path d=\"M 257.823529 269.518594 \nL 257.823529 196.142123 \n\" style=\"fill:none;stroke:#bcbcbc;stroke-linecap:square;stroke-linejoin:miter;stroke-width:0.8;\"/>\n   </g>\n   <g id=\"patch_45\">\n    <path d=\"M 184.447059 269.518594 \nL 257.823529 269.518594 \n\" style=\"fill:none;stroke:#bcbcbc;stroke-linecap:square;stroke-linejoin:miter;stroke-width:0.8;\"/>\n   </g>\n   <g id=\"patch_46\">\n    <path d=\"M 184.447059 196.142123 \nL 257.823529 196.142123 \n\" style=\"fill:none;stroke:#bcbcbc;stroke-linecap:square;stroke-linejoin:miter;stroke-width:0.8;\"/>\n   </g>\n   <g id=\"text_9\">\n    <!-- label: 1 -->\n    <g transform=\"translate(204.442403 190.142123)scale(0.09 -0.09)\">\n     <use xlink:href=\"#DejaVuSans-6c\"/>\n     <use x=\"27.783203\" xlink:href=\"#DejaVuSans-61\"/>\n     <use x=\"89.0625\" xlink:href=\"#DejaVuSans-62\"/>\n     <use x=\"152.539062\" xlink:href=\"#DejaVuSans-65\"/>\n     <use x=\"214.0625\" xlink:href=\"#DejaVuSans-6c\"/>\n     <use x=\"241.845703\" xlink:href=\"#DejaVuSans-3a\"/>\n     <use x=\"275.537109\" xlink:href=\"#DejaVuSans-20\"/>\n     <use x=\"307.324219\" xlink:href=\"#DejaVuSans-31\"/>\n    </g>\n   </g>\n  </g>\n </g>\n <defs>\n  <clipPath id=\"p1df540e736\">\n   <rect height=\"73.376471\" width=\"73.376471\" x=\"7.2\" y=\"20.038594\"/>\n  </clipPath>\n  <clipPath id=\"pb9a87a1df4\">\n   <rect height=\"73.376471\" width=\"73.376471\" x=\"95.823529\" y=\"20.038594\"/>\n  </clipPath>\n  <clipPath id=\"pa2ba7efaaf\">\n   <rect height=\"73.376471\" width=\"73.376471\" x=\"184.447059\" y=\"20.038594\"/>\n  </clipPath>\n  <clipPath id=\"p7f761e65d5\">\n   <rect height=\"73.376471\" width=\"73.376471\" x=\"7.2\" y=\"108.090358\"/>\n  </clipPath>\n  <clipPath id=\"p09afce9ebd\">\n   <rect height=\"73.376471\" width=\"73.376471\" x=\"95.823529\" y=\"108.090358\"/>\n  </clipPath>\n  <clipPath id=\"p9cbd38e674\">\n   <rect height=\"73.376471\" width=\"73.376471\" x=\"184.447059\" y=\"108.090358\"/>\n  </clipPath>\n  <clipPath id=\"p80df62993a\">\n   <rect height=\"73.376471\" width=\"73.376471\" x=\"7.2\" y=\"196.142123\"/>\n  </clipPath>\n  <clipPath id=\"pf511174ff7\">\n   <rect height=\"73.376471\" width=\"73.376471\" x=\"95.823529\" y=\"196.142123\"/>\n  </clipPath>\n  <clipPath id=\"pd446c5d051\">\n   <rect height=\"73.376471\" width=\"73.376471\" x=\"184.447059\" y=\"196.142123\"/>\n  </clipPath>\n </defs>\n</svg>\n",
      "text/plain": [
       "<Figure size 450x450 with 9 Axes>"
      ]
     },
     "metadata": {},
     "output_type": "display_data"
    }
   ],
   "source": [
    "set_figsize((4.5,4.5))\n",
    "\n",
    "show_img_grid(\n",
    "    [train_images_scaled[i].reshape(new_shape) for i in range(9)],\n",
    "    [f\"label: {jnp.argmax(train_labels[i])}\" for i in range(9)]\n",
    ")"
   ]
  },
  {
   "cell_type": "markdown",
   "id": "76114d82",
   "metadata": {},
   "source": [
    "# Feature Map"
   ]
  },
  {
   "cell_type": "markdown",
   "id": "d592d202",
   "metadata": {},
   "source": [
    "As per the paper."
   ]
  },
  {
   "cell_type": "code",
   "execution_count": 17,
   "id": "725a1acd",
   "metadata": {},
   "outputs": [],
   "source": [
    "def feature_map(x: DeviceArray) -> DeviceArray:\n",
    "    \"\"\"Definine a feature map per pixel\"\"\"\n",
    "    return jnp.array([\n",
    "        jnp.cos(0.5*jnp.pi*x), \n",
    "        jnp.sin(0.5*jnp.pi*x)\n",
    "    ])"
   ]
  },
  {
   "cell_type": "code",
   "execution_count": 18,
   "id": "b7474f74",
   "metadata": {},
   "outputs": [],
   "source": [
    "train_data = jax.vmap(feature_map)(train_images_scaled).transpose(0,2,1)  # exchanging axes for convenience\n",
    "test_data = jax.vmap(feature_map)(test_images_scaled).transpose(0,2,1)    # same as above"
   ]
  },
  {
   "cell_type": "code",
   "execution_count": 19,
   "id": "8ec309fc",
   "metadata": {},
   "outputs": [
    {
     "name": "stdout",
     "output_type": "stream",
     "text": [
      "Train data shape: (60000, 196, 2) | Test data shape: (10000, 196, 2)\n"
     ]
    }
   ],
   "source": [
    "print(f'Train data shape: {train_data.shape} | Test data shape: {test_data.shape}')"
   ]
  },
  {
   "cell_type": "markdown",
   "id": "06c26e10",
   "metadata": {},
   "source": [
    "## MPS Utilities"
   ]
  },
  {
   "cell_type": "code",
   "execution_count": 20,
   "id": "fd500800",
   "metadata": {},
   "outputs": [],
   "source": [
    "def random_mps(\n",
    "        key: PRNGKeyArray,\n",
    "        initializer: Callable,\n",
    "        size: int,\n",
    "        local_dim: int,\n",
    "        bond_dim: int,\n",
    "        labels_dim: Optional[int]=None,\n",
    "        dtype: Optional[jnp.double]=jnp.double\n",
    "    ) -> List[DeviceArray]:\n",
    "    \"\"\"\n",
    "    Generate a random MPS where each core tensor\n",
    "    is drawn according to the initializer (see JAX docs). \n",
    "    \"\"\"\n",
    "    left   = (1,local_dim, bond_dim, labels_dim) if labels_dim else (1,local_dim, bond_dim)\n",
    "    right  = (bond_dim, local_dim, 1)\n",
    "    middle = (bond_dim, local_dim, bond_dim)\n",
    "\n",
    "    if size < 2:\n",
    "        raise ValueError('Expectetd at least 2 sites for the MPS')\n",
    "    elif size == 2:\n",
    "        shapes = [left, right]\n",
    "    else:       \n",
    "        shapes = [left] + [middle]*(size-2) + [right]\n",
    "\n",
    "    # generate multiple keys, so all tensors are different\n",
    "    keys = jax.random.split(key, num=size)\n",
    "    return [initializer(*params, dtype=dtype) for params in zip(keys, shapes)]"
   ]
  },
  {
   "cell_type": "code",
   "execution_count": 21,
   "id": "270d5741",
   "metadata": {},
   "outputs": [],
   "source": [
    "def flip_left_right(\n",
    "        mps: List[DeviceArray], \n",
    "        axes: Optional[Tuple[int,int]]=(0,2)\n",
    "    ) -> List[DeviceArray]:\n",
    "    \"\"\"\n",
    "    A helper to flip a mps from left to right.\n",
    "    The left and right legs are interchanged.\n",
    "    The assumed indexing is as follows:\n",
    "    0 --o-- 2     2 --o-- 0 \n",
    "        |     =>      |\n",
    "        1             1\n",
    "    \"\"\"\n",
    "    return [tensor.swapaxes(*axes) for tensor in reversed(mps)]"
   ]
  },
  {
   "cell_type": "code",
   "execution_count": 22,
   "id": "7b285e3c",
   "metadata": {},
   "outputs": [],
   "source": [
    "key = jax.random.PRNGKey(seed)\n",
    "\n",
    "# spliting the key\n",
    "key_params, key_run = jax.random.split(key, num=2)\n",
    "\n",
    "# getting the parameters\n",
    "num_samples, num_features, dim_features = train_data.shape\n",
    "num_classes = train_labels.shape[1]\n",
    "\n",
    "# the initializer\n",
    "initializer = jax.nn.initializers.variance_scaling(\n",
    "    in_axis=(0,1), out_axis=2,\n",
    "    scale=2., mode=\"fan_in\", distribution=\"truncated_normal\")\n",
    "\n",
    "# generating a random mps according to the initialiser\n",
    "mps = random_mps(\n",
    "    key_params, \n",
    "    initializer, \n",
    "    size=num_features, \n",
    "    local_dim=dim_features, \n",
    "    bond_dim=bond_dim,\n",
    "    labels_dim=num_classes\n",
    ")"
   ]
  },
  {
   "cell_type": "code",
   "execution_count": 23,
   "id": "809304a2",
   "metadata": {},
   "outputs": [
    {
     "name": "stdout",
     "output_type": "stream",
     "text": [
      "The MPS dimensions: size=196, local_dim=2, bond_dim=10\n",
      "Total number of paramters: 39200\n"
     ]
    }
   ],
   "source": [
    "print(f'The MPS dimensions: size={num_features}, local_dim={dim_features}, bond_dim={bond_dim}')\n",
    "print(f'Total number of paramters: {bond_dim**2 * dim_features * num_features}')"
   ]
  },
  {
   "cell_type": "markdown",
   "id": "6285f566",
   "metadata": {},
   "source": [
    "# Bond Truncation"
   ]
  },
  {
   "cell_type": "code",
   "execution_count": 24,
   "id": "a70507ef",
   "metadata": {},
   "outputs": [],
   "source": [
    "@jit\n",
    "def suggest_truncation(\n",
    "        λ: jnp.ndarray,\n",
    "        ε: Optional[float]=1e-3  # truncation error tolerance\n",
    "    ) -> Tuple[jnp.ndarray, jnp.ndarray, int]:\n",
    "    \"\"\"\n",
    "    Suggest a truncation index of the spectrum \n",
    "    such that the truncation error is lower than ε.\n",
    "    The spectrum is assumed to be in the decreasing order.\n",
    "    \"\"\"\n",
    "    cum_sums = jnp.cumsum(λ / λ.sum())\n",
    "    return jnp.searchsorted(cum_sums, 1-ε)"
   ]
  },
  {
   "cell_type": "markdown",
   "id": "e72bb275",
   "metadata": {},
   "source": [
    "# Training"
   ]
  },
  {
   "cell_type": "code",
   "execution_count": 25,
   "id": "1790c59d",
   "metadata": {},
   "outputs": [],
   "source": [
    "@jit\n",
    "def project_sample(\n",
    "        mps: List[DeviceArray], \n",
    "        sample: List[DeviceArray]\n",
    "    ) -> List[DeviceArray]:\n",
    "    \"\"\"\n",
    "    A helper to project a single sample onto the mps\n",
    "    sites, e.g. contracting the local dimension only.\n",
    "    \"\"\"\n",
    "    mult = lambda t, s: jnp.einsum('piq...,i->pq...', t, s)\n",
    "    return jax.tree_multimap(mult, mps, list(sample))"
   ]
  },
  {
   "cell_type": "markdown",
   "id": "b719715a",
   "metadata": {},
   "source": [
    "Precompute data to reduce complexity - see last paragraph on p.4 for more details. Note, as we start from the left most pair of sites, only the right part, i.e. the \"right wings\", are precomputed - hence starting from from the position 2."
   ]
  },
  {
   "cell_type": "code",
   "execution_count": 26,
   "id": "9918dc0c",
   "metadata": {},
   "outputs": [],
   "source": [
    "@jit\n",
    "def compute_right_wings(mps, train_data):\n",
    "    # get the projections of samples onto the mps sites\n",
    "    # start with 2 as the first pair of indices are occupied by the bond tensor B\n",
    "    right_projs = jax.vmap(partial(project_sample, mps[2:]))(train_data[:,2:,:])\n",
    "    # helper to contract neighbouring sites\n",
    "    mult = lambda x, y: jnp.einsum('...pi,...iq->...pq', x, y)\n",
    "    # get the cumulative products computed from left to right\n",
    "    # swapaxes axes are (1,2), as the first index in each tensor is the sample size\n",
    "    cum_prods = accumulate(flip_left_right(right_projs, axes=(1,2)), mult)\n",
    "    # reverse before return so the indexing is natural again\n",
    "    # unfortunately we can't access the iterator accumulate backwords\n",
    "    return list(x.squeeze() for x in cum_prods)[::-1]"
   ]
  },
  {
   "cell_type": "code",
   "execution_count": 27,
   "id": "9b75247b",
   "metadata": {},
   "outputs": [],
   "source": [
    "def cross_entropy(preds, targets):\n",
    "    \"\"\"Multinomial cross entropy\"\"\"\n",
    "    return -jnp.mean(jnp.sum(preds * targets, axis=1))\n",
    "\n",
    "def loss(B: DeviceArray, data: Tuple[DeviceArray, DeviceArray]):\n",
    "    \"\"\"A modified loss function\"\"\"\n",
    "    inputs, targets = data\n",
    "    preds = jnp.einsum('pijq...,mpijq->m...', B, inputs)\n",
    "    logprobas = jax.nn.log_softmax(preds, axis=1)\n",
    "    return cross_entropy(logprobas, targets)\n",
    "\n",
    "# def loss(B: DeviceArray, data: Tuple[DeviceArray, DeviceArray]):\n",
    "#     \"\"\"Loss function with respect to B - Fig.7a\"\"\"\n",
    "#     inputs, targets = data\n",
    "#     preds = jnp.einsum('...l,m...->ml', B, inputs)\n",
    "#     err = (targets - preds) ** 2\n",
    "#     return 0.5 * jnp.mean(jnp.sum(err, axis=1))\n",
    "#     # return 0.5 * jnp.mean(jnp.log(jnp.power(err, 2) + 1))"
   ]
  },
  {
   "cell_type": "code",
   "execution_count": 28,
   "id": "ccc8c28c",
   "metadata": {},
   "outputs": [],
   "source": [
    "max_bond = bond_dim"
   ]
  },
  {
   "cell_type": "code",
   "execution_count": 29,
   "id": "e566f167",
   "metadata": {},
   "outputs": [],
   "source": [
    "from itertools import count\n",
    "from jax.example_libraries import optimizers\n",
    "\n",
    "batch_size = 1000\n",
    "train_size = train_data.shape[0]\n",
    "\n",
    "# determining the step size for SGD\n",
    "num_complete_batches, leftover = divmod(train_size, batch_size)\n",
    "num_batches = num_complete_batches + bool(leftover)\n",
    "\n",
    "opt_init, opt_update, get_params = optimizers.adam(step_size=α)\n",
    "\n",
    "@jit\n",
    "def update(i, opt_state, batch):\n",
    "    params = get_params(opt_state)\n",
    "    return opt_update(i, grad(loss)(params, batch), opt_state)\n",
    "\n",
    "def data_iterator():\n",
    "    while True:\n",
    "        perm = jax.random.permutation(key_run, train_size)\n",
    "        for i in range(num_batches):\n",
    "            batch_idx = perm[i * batch_size:(i + 1) * batch_size]\n",
    "            yield Φ[batch_idx,:,:,:], train_labels[batch_idx,:]\n",
    "\n",
    "def optimize(params):\n",
    "    # iteration counter\n",
    "    itercounter = count()\n",
    "\n",
    "    # get access to the data batches stream\n",
    "    batches = data_iterator()\n",
    "\n",
    "    # optimization state\n",
    "    opt_state = opt_init(params)\n",
    "    \n",
    "    for _ in range(5):\n",
    "        # update parameters\n",
    "        for _ in range(num_batches):\n",
    "            opt_state = update(next(itercounter), opt_state, next(batches))\n",
    "        \n",
    "    # get new params\n",
    "    new_params = get_params(opt_state)\n",
    "\n",
    "    return new_params"
   ]
  },
  {
   "cell_type": "code",
   "execution_count": null,
   "id": "aba8968d",
   "metadata": {},
   "outputs": [],
   "source": [
    "losses = {}\n",
    "\n",
    "for sweep in range(num_sweeps):\n",
    "\n",
    "    print('*'*80)\n",
    "    print(f'Sweep: {sweep}')\n",
    "    print('*'*80)\n",
    "\n",
    "    # a precomputed list of all right wings\n",
    "    # see last paragraph on p.4 for the motivation\n",
    "    print('Precomputing projections...', end=' ')\n",
    "    right_wings = compute_right_wings(mps, train_data)\n",
    "    print('done!')\n",
    "\n",
    "    losses_ = []\n",
    "\n",
    "    for pos in range(len(mps)-1):\n",
    "\n",
    "        # bond tensor - Fig.6a\n",
    "        B = jnp.einsum('pji...,ikq->pjkq...', mps[pos], mps[pos+1])\n",
    "\n",
    "        # getting the new data inputs\n",
    "        inputs = train_data[:,pos:pos+2]\n",
    "\n",
    "        # composing a tensor Φ - Fig.6b\n",
    "        if pos == 0:\n",
    "            right_wing = right_wings[pos]\n",
    "            # because there is no left wing, insert a dummy index p instead\n",
    "            inputs = jnp.expand_dims(inputs, axis=1)\n",
    "            Φ = jnp.einsum('...pij,...q->...pijq', inputs, right_wing)\n",
    "        elif pos == len(mps)-2:\n",
    "            # because there is no right wing, insert a dummy index q instead\n",
    "            inputs = jnp.expand_dims(inputs, axis=3)\n",
    "            Φ = jnp.einsum('...p,...ijq->...pijq', left_wing, inputs)\n",
    "        else:\n",
    "            right_wing = right_wings[pos]\n",
    "            Φ = jnp.einsum('...p,...ij,...q->...pijq', left_wing, inputs, right_wing)\n",
    "\n",
    "        B_new = optimize(B)\n",
    "\n",
    "        # # compute the gradient update - Fig.6(c-d)\n",
    "        # ΔB = grad(loss)(B, data=(Φ, train_labels))\n",
    "        \n",
    "        # # update the bond tensor - Fig.7a\n",
    "        # B_new = B - α * ΔB\n",
    "    \n",
    "        # SVD\n",
    "        p,i,j,q,l = B_new.shape\n",
    "        U, λ, Vh = jnp.linalg.svd(B_new.reshape(p*i,-1), full_matrices=False)\n",
    "\n",
    "        # cutting off the bond dimension\n",
    "        if λ.size > max_bond:\n",
    "            # max_bond = suggest_truncation(λ, ε)  # adaptive bond dimension\n",
    "            U  = U[:,:max_bond]\n",
    "            λ  = λ[:max_bond]\n",
    "            Vh = Vh[:max_bond,:]\n",
    "\n",
    "        # updating mps tesnors - Fig.7b\n",
    "        mps[pos] = U.reshape(p,i,-1)  # current position\n",
    "        mps[pos+1] = jnp.einsum('i,ij->ij', λ, Vh).reshape(-1,j,q,l)  # next position\n",
    "\n",
    "        # project input samples onto the new tensor at current position and update the left wing - Fig.7c\n",
    "        inputs_curr = train_data[:,[pos],:]  # data at current position only\n",
    "        mps_curr = [mps[pos]]                # mps (consisting of 1 tensor) at current position\n",
    "        proj_curr = jax.vmap(partial(project_sample, mps_curr))(inputs_curr)\n",
    "        if pos == 0:\n",
    "            left_wing = jnp.asarray(\n",
    "                proj_curr\n",
    "            ).squeeze(axis=(0,2)) # 0 index is due to len(MPS) = 1\n",
    "                                  # 2 index is due to the left most dim of the first tensor\n",
    "        else:\n",
    "            left_wing = jnp.einsum(\n",
    "                '...p,...pq->...q', \n",
    "                left_wing, \n",
    "                jnp.asarray(proj_curr).squeeze(axis=(0)) # 0 index is due to len(MPS) = 1\n",
    "            )\n",
    "\n",
    "        losses_.append(loss(B, data=(Φ, train_labels)))\n",
    "        print(f'Updated site: {pos:<5}\\t|\\tLoss: {losses_[-1]:<10.7f}\\t|\\tBond Dim: {max_bond:<5}')\n",
    "\n",
    "    # store the loss\n",
    "    if (sweep % 2) == 0:\n",
    "        losses[sweep] = losses_\n",
    "    else:\n",
    "        losses[sweep] = losses_[::-1]  # on odd sweeps flip the losses\n",
    "        \n",
    "    # prepare everything for the next sweep\n",
    "    mps = flip_left_right(mps)\n",
    "    train_data = jnp.flip(train_data, axis=1)\n",
    "    train_labels = jnp.flip(train_labels, axis=0)"
   ]
  },
  {
   "cell_type": "code",
   "execution_count": 31,
   "id": "838cdd9c",
   "metadata": {},
   "outputs": [
    {
     "data": {
      "image/svg+xml": "<?xml version=\"1.0\" encoding=\"utf-8\" standalone=\"no\"?>\n<!DOCTYPE svg PUBLIC \"-//W3C//DTD SVG 1.1//EN\"\n  \"http://www.w3.org/Graphics/SVG/1.1/DTD/svg11.dtd\">\n<svg height=\"405.187187pt\" version=\"1.1\" viewBox=\"0 0 573.142044 405.187187\" width=\"573.142044pt\" xmlns=\"http://www.w3.org/2000/svg\" xmlns:xlink=\"http://www.w3.org/1999/xlink\">\n <metadata>\n  <rdf:RDF xmlns:cc=\"http://creativecommons.org/ns#\" xmlns:dc=\"http://purl.org/dc/elements/1.1/\" xmlns:rdf=\"http://www.w3.org/1999/02/22-rdf-syntax-ns#\">\n   <cc:Work>\n    <dc:type rdf:resource=\"http://purl.org/dc/dcmitype/StillImage\"/>\n    <dc:date>2022-04-18T19:29:25.881505</dc:date>\n    <dc:format>image/svg+xml</dc:format>\n    <dc:creator>\n     <cc:Agent>\n      <dc:title>Matplotlib v3.4.1, https://matplotlib.org/</dc:title>\n     </cc:Agent>\n    </dc:creator>\n   </cc:Work>\n  </rdf:RDF>\n </metadata>\n <defs>\n  <style type=\"text/css\">*{stroke-linecap:butt;stroke-linejoin:round;}</style>\n </defs>\n <g id=\"figure_1\">\n  <g id=\"patch_1\">\n   <path d=\"M 0 405.187187 \nL 573.142044 405.187187 \nL 573.142044 0 \nL 0 0 \nz\n\" style=\"fill:#ffffff;\"/>\n  </g>\n  <g id=\"axes_1\">\n   <g id=\"patch_2\">\n    <path d=\"M 113.920625 359.517187 \nL 560.320625 359.517187 \nL 560.320625 26.877187 \nL 113.920625 26.877187 \nz\n\" style=\"fill:#eeeeee;\"/>\n   </g>\n   <g id=\"matplotlib.axis_1\">\n    <g id=\"xtick_1\">\n     <g id=\"line2d_1\">\n      <path clip-path=\"url(#p3f4cf53f77)\" d=\"M 134.211534 359.517187 \nL 134.211534 26.877187 \n\" style=\"fill:none;stroke:#000000;stroke-dasharray:0.5,5;stroke-dashoffset:0;stroke-width:0.5;\"/>\n     </g>\n     <g id=\"line2d_2\">\n      <defs>\n       <path d=\"M 0 0 \nL 0 -3.5 \n\" id=\"m6510574684\" style=\"stroke:#000000;stroke-width:0.8;\"/>\n      </defs>\n      <g>\n       <use style=\"stroke:#000000;stroke-width:0.8;\" x=\"134.211534\" xlink:href=\"#m6510574684\" y=\"359.517187\"/>\n      </g>\n     </g>\n     <g id=\"text_1\">\n      <!-- 0 -->\n      <g transform=\"translate(129.757784 373.655)scale(0.14 -0.14)\">\n       <defs>\n        <path d=\"M 2034 4250 \nQ 1547 4250 1301 3770 \nQ 1056 3291 1056 2328 \nQ 1056 1369 1301 889 \nQ 1547 409 2034 409 \nQ 2525 409 2770 889 \nQ 3016 1369 3016 2328 \nQ 3016 3291 2770 3770 \nQ 2525 4250 2034 4250 \nz\nM 2034 4750 \nQ 2819 4750 3233 4129 \nQ 3647 3509 3647 2328 \nQ 3647 1150 3233 529 \nQ 2819 -91 2034 -91 \nQ 1250 -91 836 529 \nQ 422 1150 422 2328 \nQ 422 3509 836 4129 \nQ 1250 4750 2034 4750 \nz\n\" id=\"DejaVuSans-30\" transform=\"scale(0.015625)\"/>\n       </defs>\n       <use xlink:href=\"#DejaVuSans-30\"/>\n      </g>\n     </g>\n    </g>\n    <g id=\"xtick_2\">\n     <g id=\"line2d_3\">\n      <path clip-path=\"url(#p3f4cf53f77)\" d=\"M 186.507692 359.517187 \nL 186.507692 26.877187 \n\" style=\"fill:none;stroke:#000000;stroke-dasharray:0.5,5;stroke-dashoffset:0;stroke-width:0.5;\"/>\n     </g>\n     <g id=\"line2d_4\">\n      <g>\n       <use style=\"stroke:#000000;stroke-width:0.8;\" x=\"186.507692\" xlink:href=\"#m6510574684\" y=\"359.517187\"/>\n      </g>\n     </g>\n     <g id=\"text_2\">\n      <!-- 25 -->\n      <g transform=\"translate(177.600192 373.655)scale(0.14 -0.14)\">\n       <defs>\n        <path d=\"M 1228 531 \nL 3431 531 \nL 3431 0 \nL 469 0 \nL 469 531 \nQ 828 903 1448 1529 \nQ 2069 2156 2228 2338 \nQ 2531 2678 2651 2914 \nQ 2772 3150 2772 3378 \nQ 2772 3750 2511 3984 \nQ 2250 4219 1831 4219 \nQ 1534 4219 1204 4116 \nQ 875 4013 500 3803 \nL 500 4441 \nQ 881 4594 1212 4672 \nQ 1544 4750 1819 4750 \nQ 2544 4750 2975 4387 \nQ 3406 4025 3406 3419 \nQ 3406 3131 3298 2873 \nQ 3191 2616 2906 2266 \nQ 2828 2175 2409 1742 \nQ 1991 1309 1228 531 \nz\n\" id=\"DejaVuSans-32\" transform=\"scale(0.015625)\"/>\n        <path d=\"M 691 4666 \nL 3169 4666 \nL 3169 4134 \nL 1269 4134 \nL 1269 2991 \nQ 1406 3038 1543 3061 \nQ 1681 3084 1819 3084 \nQ 2600 3084 3056 2656 \nQ 3513 2228 3513 1497 \nQ 3513 744 3044 326 \nQ 2575 -91 1722 -91 \nQ 1428 -91 1123 -41 \nQ 819 9 494 109 \nL 494 744 \nQ 775 591 1075 516 \nQ 1375 441 1709 441 \nQ 2250 441 2565 725 \nQ 2881 1009 2881 1497 \nQ 2881 1984 2565 2268 \nQ 2250 2553 1709 2553 \nQ 1456 2553 1204 2497 \nQ 953 2441 691 2322 \nL 691 4666 \nz\n\" id=\"DejaVuSans-35\" transform=\"scale(0.015625)\"/>\n       </defs>\n       <use xlink:href=\"#DejaVuSans-32\"/>\n       <use x=\"63.623047\" xlink:href=\"#DejaVuSans-35\"/>\n      </g>\n     </g>\n    </g>\n    <g id=\"xtick_3\">\n     <g id=\"line2d_5\">\n      <path clip-path=\"url(#p3f4cf53f77)\" d=\"M 238.803849 359.517187 \nL 238.803849 26.877187 \n\" style=\"fill:none;stroke:#000000;stroke-dasharray:0.5,5;stroke-dashoffset:0;stroke-width:0.5;\"/>\n     </g>\n     <g id=\"line2d_6\">\n      <g>\n       <use style=\"stroke:#000000;stroke-width:0.8;\" x=\"238.803849\" xlink:href=\"#m6510574684\" y=\"359.517187\"/>\n      </g>\n     </g>\n     <g id=\"text_3\">\n      <!-- 50 -->\n      <g transform=\"translate(229.896349 373.655)scale(0.14 -0.14)\">\n       <use xlink:href=\"#DejaVuSans-35\"/>\n       <use x=\"63.623047\" xlink:href=\"#DejaVuSans-30\"/>\n      </g>\n     </g>\n    </g>\n    <g id=\"xtick_4\">\n     <g id=\"line2d_7\">\n      <path clip-path=\"url(#p3f4cf53f77)\" d=\"M 291.100006 359.517187 \nL 291.100006 26.877187 \n\" style=\"fill:none;stroke:#000000;stroke-dasharray:0.5,5;stroke-dashoffset:0;stroke-width:0.5;\"/>\n     </g>\n     <g id=\"line2d_8\">\n      <g>\n       <use style=\"stroke:#000000;stroke-width:0.8;\" x=\"291.100006\" xlink:href=\"#m6510574684\" y=\"359.517187\"/>\n      </g>\n     </g>\n     <g id=\"text_4\">\n      <!-- 75 -->\n      <g transform=\"translate(282.192506 373.655)scale(0.14 -0.14)\">\n       <defs>\n        <path d=\"M 525 4666 \nL 3525 4666 \nL 3525 4397 \nL 1831 0 \nL 1172 0 \nL 2766 4134 \nL 525 4134 \nL 525 4666 \nz\n\" id=\"DejaVuSans-37\" transform=\"scale(0.015625)\"/>\n       </defs>\n       <use xlink:href=\"#DejaVuSans-37\"/>\n       <use x=\"63.623047\" xlink:href=\"#DejaVuSans-35\"/>\n      </g>\n     </g>\n    </g>\n    <g id=\"xtick_5\">\n     <g id=\"line2d_9\">\n      <path clip-path=\"url(#p3f4cf53f77)\" d=\"M 343.396164 359.517187 \nL 343.396164 26.877187 \n\" style=\"fill:none;stroke:#000000;stroke-dasharray:0.5,5;stroke-dashoffset:0;stroke-width:0.5;\"/>\n     </g>\n     <g id=\"line2d_10\">\n      <g>\n       <use style=\"stroke:#000000;stroke-width:0.8;\" x=\"343.396164\" xlink:href=\"#m6510574684\" y=\"359.517187\"/>\n      </g>\n     </g>\n     <g id=\"text_5\">\n      <!-- 100 -->\n      <g transform=\"translate(330.034914 373.655)scale(0.14 -0.14)\">\n       <defs>\n        <path d=\"M 794 531 \nL 1825 531 \nL 1825 4091 \nL 703 3866 \nL 703 4441 \nL 1819 4666 \nL 2450 4666 \nL 2450 531 \nL 3481 531 \nL 3481 0 \nL 794 0 \nL 794 531 \nz\n\" id=\"DejaVuSans-31\" transform=\"scale(0.015625)\"/>\n       </defs>\n       <use xlink:href=\"#DejaVuSans-31\"/>\n       <use x=\"63.623047\" xlink:href=\"#DejaVuSans-30\"/>\n       <use x=\"127.246094\" xlink:href=\"#DejaVuSans-30\"/>\n      </g>\n     </g>\n    </g>\n    <g id=\"xtick_6\">\n     <g id=\"line2d_11\">\n      <path clip-path=\"url(#p3f4cf53f77)\" d=\"M 395.692321 359.517187 \nL 395.692321 26.877187 \n\" style=\"fill:none;stroke:#000000;stroke-dasharray:0.5,5;stroke-dashoffset:0;stroke-width:0.5;\"/>\n     </g>\n     <g id=\"line2d_12\">\n      <g>\n       <use style=\"stroke:#000000;stroke-width:0.8;\" x=\"395.692321\" xlink:href=\"#m6510574684\" y=\"359.517187\"/>\n      </g>\n     </g>\n     <g id=\"text_6\">\n      <!-- 125 -->\n      <g transform=\"translate(382.331071 373.655)scale(0.14 -0.14)\">\n       <use xlink:href=\"#DejaVuSans-31\"/>\n       <use x=\"63.623047\" xlink:href=\"#DejaVuSans-32\"/>\n       <use x=\"127.246094\" xlink:href=\"#DejaVuSans-35\"/>\n      </g>\n     </g>\n    </g>\n    <g id=\"xtick_7\">\n     <g id=\"line2d_13\">\n      <path clip-path=\"url(#p3f4cf53f77)\" d=\"M 447.988479 359.517187 \nL 447.988479 26.877187 \n\" style=\"fill:none;stroke:#000000;stroke-dasharray:0.5,5;stroke-dashoffset:0;stroke-width:0.5;\"/>\n     </g>\n     <g id=\"line2d_14\">\n      <g>\n       <use style=\"stroke:#000000;stroke-width:0.8;\" x=\"447.988479\" xlink:href=\"#m6510574684\" y=\"359.517187\"/>\n      </g>\n     </g>\n     <g id=\"text_7\">\n      <!-- 150 -->\n      <g transform=\"translate(434.627229 373.655)scale(0.14 -0.14)\">\n       <use xlink:href=\"#DejaVuSans-31\"/>\n       <use x=\"63.623047\" xlink:href=\"#DejaVuSans-35\"/>\n       <use x=\"127.246094\" xlink:href=\"#DejaVuSans-30\"/>\n      </g>\n     </g>\n    </g>\n    <g id=\"xtick_8\">\n     <g id=\"line2d_15\">\n      <path clip-path=\"url(#p3f4cf53f77)\" d=\"M 500.284636 359.517187 \nL 500.284636 26.877187 \n\" style=\"fill:none;stroke:#000000;stroke-dasharray:0.5,5;stroke-dashoffset:0;stroke-width:0.5;\"/>\n     </g>\n     <g id=\"line2d_16\">\n      <g>\n       <use style=\"stroke:#000000;stroke-width:0.8;\" x=\"500.284636\" xlink:href=\"#m6510574684\" y=\"359.517187\"/>\n      </g>\n     </g>\n     <g id=\"text_8\">\n      <!-- 175 -->\n      <g transform=\"translate(486.923386 373.655)scale(0.14 -0.14)\">\n       <use xlink:href=\"#DejaVuSans-31\"/>\n       <use x=\"63.623047\" xlink:href=\"#DejaVuSans-37\"/>\n       <use x=\"127.246094\" xlink:href=\"#DejaVuSans-35\"/>\n      </g>\n     </g>\n    </g>\n    <g id=\"xtick_9\">\n     <g id=\"line2d_17\">\n      <path clip-path=\"url(#p3f4cf53f77)\" d=\"M 552.580794 359.517187 \nL 552.580794 26.877187 \n\" style=\"fill:none;stroke:#000000;stroke-dasharray:0.5,5;stroke-dashoffset:0;stroke-width:0.5;\"/>\n     </g>\n     <g id=\"line2d_18\">\n      <g>\n       <use style=\"stroke:#000000;stroke-width:0.8;\" x=\"552.580794\" xlink:href=\"#m6510574684\" y=\"359.517187\"/>\n      </g>\n     </g>\n     <g id=\"text_9\">\n      <!-- 200 -->\n      <g transform=\"translate(539.219544 373.655)scale(0.14 -0.14)\">\n       <use xlink:href=\"#DejaVuSans-32\"/>\n       <use x=\"63.623047\" xlink:href=\"#DejaVuSans-30\"/>\n       <use x=\"127.246094\" xlink:href=\"#DejaVuSans-30\"/>\n      </g>\n     </g>\n    </g>\n    <g id=\"text_10\">\n     <!-- MPS sites -->\n     <g transform=\"translate(294.411406 394.24375)scale(0.18 -0.18)\">\n      <defs>\n       <path d=\"M 628 4666 \nL 1569 4666 \nL 2759 1491 \nL 3956 4666 \nL 4897 4666 \nL 4897 0 \nL 4281 0 \nL 4281 4097 \nL 3078 897 \nL 2444 897 \nL 1241 4097 \nL 1241 0 \nL 628 0 \nL 628 4666 \nz\n\" id=\"DejaVuSans-4d\" transform=\"scale(0.015625)\"/>\n       <path d=\"M 1259 4147 \nL 1259 2394 \nL 2053 2394 \nQ 2494 2394 2734 2622 \nQ 2975 2850 2975 3272 \nQ 2975 3691 2734 3919 \nQ 2494 4147 2053 4147 \nL 1259 4147 \nz\nM 628 4666 \nL 2053 4666 \nQ 2838 4666 3239 4311 \nQ 3641 3956 3641 3272 \nQ 3641 2581 3239 2228 \nQ 2838 1875 2053 1875 \nL 1259 1875 \nL 1259 0 \nL 628 0 \nL 628 4666 \nz\n\" id=\"DejaVuSans-50\" transform=\"scale(0.015625)\"/>\n       <path d=\"M 3425 4513 \nL 3425 3897 \nQ 3066 4069 2747 4153 \nQ 2428 4238 2131 4238 \nQ 1616 4238 1336 4038 \nQ 1056 3838 1056 3469 \nQ 1056 3159 1242 3001 \nQ 1428 2844 1947 2747 \nL 2328 2669 \nQ 3034 2534 3370 2195 \nQ 3706 1856 3706 1288 \nQ 3706 609 3251 259 \nQ 2797 -91 1919 -91 \nQ 1588 -91 1214 -16 \nQ 841 59 441 206 \nL 441 856 \nQ 825 641 1194 531 \nQ 1563 422 1919 422 \nQ 2459 422 2753 634 \nQ 3047 847 3047 1241 \nQ 3047 1584 2836 1778 \nQ 2625 1972 2144 2069 \nL 1759 2144 \nQ 1053 2284 737 2584 \nQ 422 2884 422 3419 \nQ 422 4038 858 4394 \nQ 1294 4750 2059 4750 \nQ 2388 4750 2728 4690 \nQ 3069 4631 3425 4513 \nz\n\" id=\"DejaVuSans-53\" transform=\"scale(0.015625)\"/>\n       <path id=\"DejaVuSans-20\" transform=\"scale(0.015625)\"/>\n       <path d=\"M 2834 3397 \nL 2834 2853 \nQ 2591 2978 2328 3040 \nQ 2066 3103 1784 3103 \nQ 1356 3103 1142 2972 \nQ 928 2841 928 2578 \nQ 928 2378 1081 2264 \nQ 1234 2150 1697 2047 \nL 1894 2003 \nQ 2506 1872 2764 1633 \nQ 3022 1394 3022 966 \nQ 3022 478 2636 193 \nQ 2250 -91 1575 -91 \nQ 1294 -91 989 -36 \nQ 684 19 347 128 \nL 347 722 \nQ 666 556 975 473 \nQ 1284 391 1588 391 \nQ 1994 391 2212 530 \nQ 2431 669 2431 922 \nQ 2431 1156 2273 1281 \nQ 2116 1406 1581 1522 \nL 1381 1569 \nQ 847 1681 609 1914 \nQ 372 2147 372 2553 \nQ 372 3047 722 3315 \nQ 1072 3584 1716 3584 \nQ 2034 3584 2315 3537 \nQ 2597 3491 2834 3397 \nz\n\" id=\"DejaVuSans-73\" transform=\"scale(0.015625)\"/>\n       <path d=\"M 603 3500 \nL 1178 3500 \nL 1178 0 \nL 603 0 \nL 603 3500 \nz\nM 603 4863 \nL 1178 4863 \nL 1178 4134 \nL 603 4134 \nL 603 4863 \nz\n\" id=\"DejaVuSans-69\" transform=\"scale(0.015625)\"/>\n       <path d=\"M 1172 4494 \nL 1172 3500 \nL 2356 3500 \nL 2356 3053 \nL 1172 3053 \nL 1172 1153 \nQ 1172 725 1289 603 \nQ 1406 481 1766 481 \nL 2356 481 \nL 2356 0 \nL 1766 0 \nQ 1100 0 847 248 \nQ 594 497 594 1153 \nL 594 3053 \nL 172 3053 \nL 172 3500 \nL 594 3500 \nL 594 4494 \nL 1172 4494 \nz\n\" id=\"DejaVuSans-74\" transform=\"scale(0.015625)\"/>\n       <path d=\"M 3597 1894 \nL 3597 1613 \nL 953 1613 \nQ 991 1019 1311 708 \nQ 1631 397 2203 397 \nQ 2534 397 2845 478 \nQ 3156 559 3463 722 \nL 3463 178 \nQ 3153 47 2828 -22 \nQ 2503 -91 2169 -91 \nQ 1331 -91 842 396 \nQ 353 884 353 1716 \nQ 353 2575 817 3079 \nQ 1281 3584 2069 3584 \nQ 2775 3584 3186 3129 \nQ 3597 2675 3597 1894 \nz\nM 3022 2063 \nQ 3016 2534 2758 2815 \nQ 2500 3097 2075 3097 \nQ 1594 3097 1305 2825 \nQ 1016 2553 972 2059 \nL 3022 2063 \nz\n\" id=\"DejaVuSans-65\" transform=\"scale(0.015625)\"/>\n      </defs>\n      <use xlink:href=\"#DejaVuSans-4d\"/>\n      <use x=\"86.279297\" xlink:href=\"#DejaVuSans-50\"/>\n      <use x=\"146.582031\" xlink:href=\"#DejaVuSans-53\"/>\n      <use x=\"210.058594\" xlink:href=\"#DejaVuSans-20\"/>\n      <use x=\"241.845703\" xlink:href=\"#DejaVuSans-73\"/>\n      <use x=\"293.945312\" xlink:href=\"#DejaVuSans-69\"/>\n      <use x=\"321.728516\" xlink:href=\"#DejaVuSans-74\"/>\n      <use x=\"360.9375\" xlink:href=\"#DejaVuSans-65\"/>\n      <use x=\"422.460938\" xlink:href=\"#DejaVuSans-73\"/>\n     </g>\n    </g>\n   </g>\n   <g id=\"matplotlib.axis_2\">\n    <g id=\"ytick_1\">\n     <g id=\"line2d_19\">\n      <path clip-path=\"url(#p3f4cf53f77)\" d=\"M 113.920625 354.157772 \nL 560.320625 354.157772 \n\" style=\"fill:none;stroke:#000000;stroke-dasharray:0.5,5;stroke-dashoffset:0;stroke-width:0.5;\"/>\n     </g>\n     <g id=\"line2d_20\">\n      <defs>\n       <path d=\"M 0 0 \nL 2 0 \n\" id=\"ma450a9dcec\" style=\"stroke:#000000;stroke-width:0.6;\"/>\n      </defs>\n      <g>\n       <use style=\"stroke:#000000;stroke-width:0.6;\" x=\"113.920625\" xlink:href=\"#ma450a9dcec\" y=\"354.157772\"/>\n      </g>\n     </g>\n     <g id=\"text_11\">\n      <!-- $\\mathdefault{2.302\\times10^{0}}$ -->\n      <g transform=\"translate(28.620625 359.476678)scale(0.14 -0.14)\">\n       <defs>\n        <path d=\"M 684 794 \nL 1344 794 \nL 1344 0 \nL 684 0 \nL 684 794 \nz\n\" id=\"DejaVuSans-2e\" transform=\"scale(0.015625)\"/>\n        <path d=\"M 2597 2516 \nQ 3050 2419 3304 2112 \nQ 3559 1806 3559 1356 \nQ 3559 666 3084 287 \nQ 2609 -91 1734 -91 \nQ 1441 -91 1130 -33 \nQ 819 25 488 141 \nL 488 750 \nQ 750 597 1062 519 \nQ 1375 441 1716 441 \nQ 2309 441 2620 675 \nQ 2931 909 2931 1356 \nQ 2931 1769 2642 2001 \nQ 2353 2234 1838 2234 \nL 1294 2234 \nL 1294 2753 \nL 1863 2753 \nQ 2328 2753 2575 2939 \nQ 2822 3125 2822 3475 \nQ 2822 3834 2567 4026 \nQ 2313 4219 1838 4219 \nQ 1578 4219 1281 4162 \nQ 984 4106 628 3988 \nL 628 4550 \nQ 988 4650 1302 4700 \nQ 1616 4750 1894 4750 \nQ 2613 4750 3031 4423 \nQ 3450 4097 3450 3541 \nQ 3450 3153 3228 2886 \nQ 3006 2619 2597 2516 \nz\n\" id=\"DejaVuSans-33\" transform=\"scale(0.015625)\"/>\n        <path d=\"M 4488 3438 \nL 3059 2003 \nL 4488 575 \nL 4116 197 \nL 2681 1631 \nL 1247 197 \nL 878 575 \nL 2303 2003 \nL 878 3438 \nL 1247 3816 \nL 2681 2381 \nL 4116 3816 \nL 4488 3438 \nz\n\" id=\"DejaVuSans-d7\" transform=\"scale(0.015625)\"/>\n       </defs>\n       <use transform=\"translate(0 0.765625)\" xlink:href=\"#DejaVuSans-32\"/>\n       <use transform=\"translate(63.623047 0.765625)\" xlink:href=\"#DejaVuSans-2e\"/>\n       <use transform=\"translate(95.410156 0.765625)\" xlink:href=\"#DejaVuSans-33\"/>\n       <use transform=\"translate(159.033203 0.765625)\" xlink:href=\"#DejaVuSans-30\"/>\n       <use transform=\"translate(222.65625 0.765625)\" xlink:href=\"#DejaVuSans-32\"/>\n       <use transform=\"translate(305.761719 0.765625)\" xlink:href=\"#DejaVuSans-d7\"/>\n       <use transform=\"translate(409.033203 0.765625)\" xlink:href=\"#DejaVuSans-31\"/>\n       <use transform=\"translate(472.65625 0.765625)\" xlink:href=\"#DejaVuSans-30\"/>\n       <use transform=\"translate(537.236328 39.046875)scale(0.7)\" xlink:href=\"#DejaVuSans-30\"/>\n      </g>\n     </g>\n    </g>\n    <g id=\"ytick_2\">\n     <g id=\"line2d_21\">\n      <path clip-path=\"url(#p3f4cf53f77)\" d=\"M 113.920625 310.980739 \nL 560.320625 310.980739 \n\" style=\"fill:none;stroke:#000000;stroke-dasharray:0.5,5;stroke-dashoffset:0;stroke-width:0.5;\"/>\n     </g>\n     <g id=\"line2d_22\">\n      <g>\n       <use style=\"stroke:#000000;stroke-width:0.6;\" x=\"113.920625\" xlink:href=\"#ma450a9dcec\" y=\"310.980739\"/>\n      </g>\n     </g>\n     <g id=\"text_12\">\n      <!-- $\\mathdefault{2.304\\times10^{0}}$ -->\n      <g transform=\"translate(28.620625 316.299645)scale(0.14 -0.14)\">\n       <defs>\n        <path d=\"M 2419 4116 \nL 825 1625 \nL 2419 1625 \nL 2419 4116 \nz\nM 2253 4666 \nL 3047 4666 \nL 3047 1625 \nL 3713 1625 \nL 3713 1100 \nL 3047 1100 \nL 3047 0 \nL 2419 0 \nL 2419 1100 \nL 313 1100 \nL 313 1709 \nL 2253 4666 \nz\n\" id=\"DejaVuSans-34\" transform=\"scale(0.015625)\"/>\n       </defs>\n       <use transform=\"translate(0 0.765625)\" xlink:href=\"#DejaVuSans-32\"/>\n       <use transform=\"translate(63.623047 0.765625)\" xlink:href=\"#DejaVuSans-2e\"/>\n       <use transform=\"translate(95.410156 0.765625)\" xlink:href=\"#DejaVuSans-33\"/>\n       <use transform=\"translate(159.033203 0.765625)\" xlink:href=\"#DejaVuSans-30\"/>\n       <use transform=\"translate(222.65625 0.765625)\" xlink:href=\"#DejaVuSans-34\"/>\n       <use transform=\"translate(305.761719 0.765625)\" xlink:href=\"#DejaVuSans-d7\"/>\n       <use transform=\"translate(409.033203 0.765625)\" xlink:href=\"#DejaVuSans-31\"/>\n       <use transform=\"translate(472.65625 0.765625)\" xlink:href=\"#DejaVuSans-30\"/>\n       <use transform=\"translate(537.236328 39.046875)scale(0.7)\" xlink:href=\"#DejaVuSans-30\"/>\n      </g>\n     </g>\n    </g>\n    <g id=\"ytick_3\">\n     <g id=\"line2d_23\">\n      <path clip-path=\"url(#p3f4cf53f77)\" d=\"M 113.920625 267.84117 \nL 560.320625 267.84117 \n\" style=\"fill:none;stroke:#000000;stroke-dasharray:0.5,5;stroke-dashoffset:0;stroke-width:0.5;\"/>\n     </g>\n     <g id=\"line2d_24\">\n      <g>\n       <use style=\"stroke:#000000;stroke-width:0.6;\" x=\"113.920625\" xlink:href=\"#ma450a9dcec\" y=\"267.84117\"/>\n      </g>\n     </g>\n     <g id=\"text_13\">\n      <!-- $\\mathdefault{2.306\\times10^{0}}$ -->\n      <g transform=\"translate(28.620625 273.160076)scale(0.14 -0.14)\">\n       <defs>\n        <path d=\"M 2113 2584 \nQ 1688 2584 1439 2293 \nQ 1191 2003 1191 1497 \nQ 1191 994 1439 701 \nQ 1688 409 2113 409 \nQ 2538 409 2786 701 \nQ 3034 994 3034 1497 \nQ 3034 2003 2786 2293 \nQ 2538 2584 2113 2584 \nz\nM 3366 4563 \nL 3366 3988 \nQ 3128 4100 2886 4159 \nQ 2644 4219 2406 4219 \nQ 1781 4219 1451 3797 \nQ 1122 3375 1075 2522 \nQ 1259 2794 1537 2939 \nQ 1816 3084 2150 3084 \nQ 2853 3084 3261 2657 \nQ 3669 2231 3669 1497 \nQ 3669 778 3244 343 \nQ 2819 -91 2113 -91 \nQ 1303 -91 875 529 \nQ 447 1150 447 2328 \nQ 447 3434 972 4092 \nQ 1497 4750 2381 4750 \nQ 2619 4750 2861 4703 \nQ 3103 4656 3366 4563 \nz\n\" id=\"DejaVuSans-36\" transform=\"scale(0.015625)\"/>\n       </defs>\n       <use transform=\"translate(0 0.765625)\" xlink:href=\"#DejaVuSans-32\"/>\n       <use transform=\"translate(63.623047 0.765625)\" xlink:href=\"#DejaVuSans-2e\"/>\n       <use transform=\"translate(95.410156 0.765625)\" xlink:href=\"#DejaVuSans-33\"/>\n       <use transform=\"translate(159.033203 0.765625)\" xlink:href=\"#DejaVuSans-30\"/>\n       <use transform=\"translate(222.65625 0.765625)\" xlink:href=\"#DejaVuSans-36\"/>\n       <use transform=\"translate(305.761719 0.765625)\" xlink:href=\"#DejaVuSans-d7\"/>\n       <use transform=\"translate(409.033203 0.765625)\" xlink:href=\"#DejaVuSans-31\"/>\n       <use transform=\"translate(472.65625 0.765625)\" xlink:href=\"#DejaVuSans-30\"/>\n       <use transform=\"translate(537.236328 39.046875)scale(0.7)\" xlink:href=\"#DejaVuSans-30\"/>\n      </g>\n     </g>\n    </g>\n    <g id=\"ytick_4\">\n     <g id=\"line2d_25\">\n      <path clip-path=\"url(#p3f4cf53f77)\" d=\"M 113.920625 224.738999 \nL 560.320625 224.738999 \n\" style=\"fill:none;stroke:#000000;stroke-dasharray:0.5,5;stroke-dashoffset:0;stroke-width:0.5;\"/>\n     </g>\n     <g id=\"line2d_26\">\n      <g>\n       <use style=\"stroke:#000000;stroke-width:0.6;\" x=\"113.920625\" xlink:href=\"#ma450a9dcec\" y=\"224.738999\"/>\n      </g>\n     </g>\n     <g id=\"text_14\">\n      <!-- $\\mathdefault{2.308\\times10^{0}}$ -->\n      <g transform=\"translate(28.620625 230.057906)scale(0.14 -0.14)\">\n       <defs>\n        <path d=\"M 2034 2216 \nQ 1584 2216 1326 1975 \nQ 1069 1734 1069 1313 \nQ 1069 891 1326 650 \nQ 1584 409 2034 409 \nQ 2484 409 2743 651 \nQ 3003 894 3003 1313 \nQ 3003 1734 2745 1975 \nQ 2488 2216 2034 2216 \nz\nM 1403 2484 \nQ 997 2584 770 2862 \nQ 544 3141 544 3541 \nQ 544 4100 942 4425 \nQ 1341 4750 2034 4750 \nQ 2731 4750 3128 4425 \nQ 3525 4100 3525 3541 \nQ 3525 3141 3298 2862 \nQ 3072 2584 2669 2484 \nQ 3125 2378 3379 2068 \nQ 3634 1759 3634 1313 \nQ 3634 634 3220 271 \nQ 2806 -91 2034 -91 \nQ 1263 -91 848 271 \nQ 434 634 434 1313 \nQ 434 1759 690 2068 \nQ 947 2378 1403 2484 \nz\nM 1172 3481 \nQ 1172 3119 1398 2916 \nQ 1625 2713 2034 2713 \nQ 2441 2713 2670 2916 \nQ 2900 3119 2900 3481 \nQ 2900 3844 2670 4047 \nQ 2441 4250 2034 4250 \nQ 1625 4250 1398 4047 \nQ 1172 3844 1172 3481 \nz\n\" id=\"DejaVuSans-38\" transform=\"scale(0.015625)\"/>\n       </defs>\n       <use transform=\"translate(0 0.765625)\" xlink:href=\"#DejaVuSans-32\"/>\n       <use transform=\"translate(63.623047 0.765625)\" xlink:href=\"#DejaVuSans-2e\"/>\n       <use transform=\"translate(95.410156 0.765625)\" xlink:href=\"#DejaVuSans-33\"/>\n       <use transform=\"translate(159.033203 0.765625)\" xlink:href=\"#DejaVuSans-30\"/>\n       <use transform=\"translate(222.65625 0.765625)\" xlink:href=\"#DejaVuSans-38\"/>\n       <use transform=\"translate(305.761719 0.765625)\" xlink:href=\"#DejaVuSans-d7\"/>\n       <use transform=\"translate(409.033203 0.765625)\" xlink:href=\"#DejaVuSans-31\"/>\n       <use transform=\"translate(472.65625 0.765625)\" xlink:href=\"#DejaVuSans-30\"/>\n       <use transform=\"translate(537.236328 39.046875)scale(0.7)\" xlink:href=\"#DejaVuSans-30\"/>\n      </g>\n     </g>\n    </g>\n    <g id=\"ytick_5\">\n     <g id=\"line2d_27\">\n      <path clip-path=\"url(#p3f4cf53f77)\" d=\"M 113.920625 181.674163 \nL 560.320625 181.674163 \n\" style=\"fill:none;stroke:#000000;stroke-dasharray:0.5,5;stroke-dashoffset:0;stroke-width:0.5;\"/>\n     </g>\n     <g id=\"line2d_28\">\n      <g>\n       <use style=\"stroke:#000000;stroke-width:0.6;\" x=\"113.920625\" xlink:href=\"#ma450a9dcec\" y=\"181.674163\"/>\n      </g>\n     </g>\n     <g id=\"text_15\">\n      <!-- $\\mathdefault{2.31\\times10^{0}}$ -->\n      <g transform=\"translate(37.580625 186.99307)scale(0.14 -0.14)\">\n       <use transform=\"translate(0 0.765625)\" xlink:href=\"#DejaVuSans-32\"/>\n       <use transform=\"translate(63.623047 0.765625)\" xlink:href=\"#DejaVuSans-2e\"/>\n       <use transform=\"translate(95.410156 0.765625)\" xlink:href=\"#DejaVuSans-33\"/>\n       <use transform=\"translate(159.033203 0.765625)\" xlink:href=\"#DejaVuSans-31\"/>\n       <use transform=\"translate(242.138672 0.765625)\" xlink:href=\"#DejaVuSans-d7\"/>\n       <use transform=\"translate(345.410156 0.765625)\" xlink:href=\"#DejaVuSans-31\"/>\n       <use transform=\"translate(409.033203 0.765625)\" xlink:href=\"#DejaVuSans-30\"/>\n       <use transform=\"translate(473.613281 39.046875)scale(0.7)\" xlink:href=\"#DejaVuSans-30\"/>\n      </g>\n     </g>\n    </g>\n    <g id=\"ytick_6\">\n     <g id=\"line2d_29\">\n      <path clip-path=\"url(#p3f4cf53f77)\" d=\"M 113.920625 138.646597 \nL 560.320625 138.646597 \n\" style=\"fill:none;stroke:#000000;stroke-dasharray:0.5,5;stroke-dashoffset:0;stroke-width:0.5;\"/>\n     </g>\n     <g id=\"line2d_30\">\n      <g>\n       <use style=\"stroke:#000000;stroke-width:0.6;\" x=\"113.920625\" xlink:href=\"#ma450a9dcec\" y=\"138.646597\"/>\n      </g>\n     </g>\n     <g id=\"text_16\">\n      <!-- $\\mathdefault{2.312\\times10^{0}}$ -->\n      <g transform=\"translate(28.620625 143.965503)scale(0.14 -0.14)\">\n       <use transform=\"translate(0 0.765625)\" xlink:href=\"#DejaVuSans-32\"/>\n       <use transform=\"translate(63.623047 0.765625)\" xlink:href=\"#DejaVuSans-2e\"/>\n       <use transform=\"translate(95.410156 0.765625)\" xlink:href=\"#DejaVuSans-33\"/>\n       <use transform=\"translate(159.033203 0.765625)\" xlink:href=\"#DejaVuSans-31\"/>\n       <use transform=\"translate(222.65625 0.765625)\" xlink:href=\"#DejaVuSans-32\"/>\n       <use transform=\"translate(305.761719 0.765625)\" xlink:href=\"#DejaVuSans-d7\"/>\n       <use transform=\"translate(409.033203 0.765625)\" xlink:href=\"#DejaVuSans-31\"/>\n       <use transform=\"translate(472.65625 0.765625)\" xlink:href=\"#DejaVuSans-30\"/>\n       <use transform=\"translate(537.236328 39.046875)scale(0.7)\" xlink:href=\"#DejaVuSans-30\"/>\n      </g>\n     </g>\n    </g>\n    <g id=\"ytick_7\">\n     <g id=\"line2d_31\">\n      <path clip-path=\"url(#p3f4cf53f77)\" d=\"M 113.920625 95.656235 \nL 560.320625 95.656235 \n\" style=\"fill:none;stroke:#000000;stroke-dasharray:0.5,5;stroke-dashoffset:0;stroke-width:0.5;\"/>\n     </g>\n     <g id=\"line2d_32\">\n      <g>\n       <use style=\"stroke:#000000;stroke-width:0.6;\" x=\"113.920625\" xlink:href=\"#ma450a9dcec\" y=\"95.656235\"/>\n      </g>\n     </g>\n     <g id=\"text_17\">\n      <!-- $\\mathdefault{2.314\\times10^{0}}$ -->\n      <g transform=\"translate(28.620625 100.975141)scale(0.14 -0.14)\">\n       <use transform=\"translate(0 0.765625)\" xlink:href=\"#DejaVuSans-32\"/>\n       <use transform=\"translate(63.623047 0.765625)\" xlink:href=\"#DejaVuSans-2e\"/>\n       <use transform=\"translate(95.410156 0.765625)\" xlink:href=\"#DejaVuSans-33\"/>\n       <use transform=\"translate(159.033203 0.765625)\" xlink:href=\"#DejaVuSans-31\"/>\n       <use transform=\"translate(222.65625 0.765625)\" xlink:href=\"#DejaVuSans-34\"/>\n       <use transform=\"translate(305.761719 0.765625)\" xlink:href=\"#DejaVuSans-d7\"/>\n       <use transform=\"translate(409.033203 0.765625)\" xlink:href=\"#DejaVuSans-31\"/>\n       <use transform=\"translate(472.65625 0.765625)\" xlink:href=\"#DejaVuSans-30\"/>\n       <use transform=\"translate(537.236328 39.046875)scale(0.7)\" xlink:href=\"#DejaVuSans-30\"/>\n      </g>\n     </g>\n    </g>\n    <g id=\"ytick_8\">\n     <g id=\"line2d_33\">\n      <path clip-path=\"url(#p3f4cf53f77)\" d=\"M 113.920625 52.703014 \nL 560.320625 52.703014 \n\" style=\"fill:none;stroke:#000000;stroke-dasharray:0.5,5;stroke-dashoffset:0;stroke-width:0.5;\"/>\n     </g>\n     <g id=\"line2d_34\">\n      <g>\n       <use style=\"stroke:#000000;stroke-width:0.6;\" x=\"113.920625\" xlink:href=\"#ma450a9dcec\" y=\"52.703014\"/>\n      </g>\n     </g>\n     <g id=\"text_18\">\n      <!-- $\\mathdefault{2.316\\times10^{0}}$ -->\n      <g transform=\"translate(28.620625 58.02192)scale(0.14 -0.14)\">\n       <use transform=\"translate(0 0.765625)\" xlink:href=\"#DejaVuSans-32\"/>\n       <use transform=\"translate(63.623047 0.765625)\" xlink:href=\"#DejaVuSans-2e\"/>\n       <use transform=\"translate(95.410156 0.765625)\" xlink:href=\"#DejaVuSans-33\"/>\n       <use transform=\"translate(159.033203 0.765625)\" xlink:href=\"#DejaVuSans-31\"/>\n       <use transform=\"translate(222.65625 0.765625)\" xlink:href=\"#DejaVuSans-36\"/>\n       <use transform=\"translate(305.761719 0.765625)\" xlink:href=\"#DejaVuSans-d7\"/>\n       <use transform=\"translate(409.033203 0.765625)\" xlink:href=\"#DejaVuSans-31\"/>\n       <use transform=\"translate(472.65625 0.765625)\" xlink:href=\"#DejaVuSans-30\"/>\n       <use transform=\"translate(537.236328 39.046875)scale(0.7)\" xlink:href=\"#DejaVuSans-30\"/>\n      </g>\n     </g>\n    </g>\n    <g id=\"text_19\">\n     <!-- $\\log$Loss -->\n     <g transform=\"translate(20.840625 225.867188)rotate(-90)scale(0.18 -0.18)\">\n      <defs>\n       <path d=\"M 197 0 \nL 197 225 \nQ 416 225 556 259 \nQ 697 294 697 428 \nL 697 3788 \nQ 697 3959 645 4036 \nQ 594 4113 497 4130 \nQ 400 4147 197 4147 \nL 197 4372 \nL 1147 4441 \nL 1147 428 \nQ 1147 294 1287 259 \nQ 1428 225 1644 225 \nL 1644 0 \nL 197 0 \nz\n\" id=\"Cmr10-6c\" transform=\"scale(0.015625)\"/>\n       <path d=\"M 1600 -72 \nQ 1216 -72 887 123 \nQ 559 319 368 647 \nQ 178 975 178 1363 \nQ 178 1656 283 1928 \nQ 388 2200 583 2414 \nQ 778 2628 1037 2748 \nQ 1297 2869 1600 2869 \nQ 1994 2869 2317 2661 \nQ 2641 2453 2828 2104 \nQ 3016 1756 3016 1363 \nQ 3016 978 2825 648 \nQ 2634 319 2307 123 \nQ 1981 -72 1600 -72 \nz\nM 1600 116 \nQ 2113 116 2284 487 \nQ 2456 859 2456 1434 \nQ 2456 1756 2422 1967 \nQ 2388 2178 2272 2350 \nQ 2200 2456 2089 2536 \nQ 1978 2616 1854 2658 \nQ 1731 2700 1600 2700 \nQ 1400 2700 1220 2609 \nQ 1041 2519 922 2350 \nQ 803 2169 770 1951 \nQ 738 1734 738 1434 \nQ 738 1075 800 789 \nQ 863 503 1052 309 \nQ 1241 116 1600 116 \nz\n\" id=\"Cmr10-6f\" transform=\"scale(0.015625)\"/>\n       <path d=\"M 178 -500 \nQ 178 -272 343 -101 \nQ 509 69 738 141 \nQ 609 238 542 384 \nQ 475 531 475 697 \nQ 475 997 666 1228 \nQ 372 1516 372 1888 \nQ 372 2088 458 2263 \nQ 544 2438 697 2566 \nQ 850 2694 1037 2761 \nQ 1225 2828 1422 2828 \nQ 1803 2828 2106 2606 \nQ 2238 2747 2417 2823 \nQ 2597 2900 2791 2900 \nQ 2928 2900 3015 2801 \nQ 3103 2703 3103 2566 \nQ 3103 2488 3043 2428 \nQ 2984 2369 2906 2369 \nQ 2825 2369 2765 2428 \nQ 2706 2488 2706 2566 \nQ 2706 2684 2784 2731 \nQ 2453 2731 2216 2503 \nQ 2331 2388 2401 2220 \nQ 2472 2053 2472 1888 \nQ 2472 1616 2322 1398 \nQ 2172 1181 1926 1061 \nQ 1681 941 1422 941 \nQ 1072 941 781 1131 \nQ 691 1006 691 850 \nQ 691 681 802 554 \nQ 913 428 1081 428 \nL 1606 428 \nQ 1988 428 2294 359 \nQ 2600 291 2808 84 \nQ 3016 -122 3016 -500 \nQ 3016 -781 2778 -967 \nQ 2541 -1153 2211 -1236 \nQ 1881 -1319 1600 -1319 \nQ 1316 -1319 984 -1236 \nQ 653 -1153 415 -967 \nQ 178 -781 178 -500 \nz\nM 538 -500 \nQ 538 -716 713 -861 \nQ 888 -1006 1134 -1076 \nQ 1381 -1147 1600 -1147 \nQ 1816 -1147 2062 -1076 \nQ 2309 -1006 2482 -861 \nQ 2656 -716 2656 -500 \nQ 2656 -166 2350 -67 \nQ 2044 31 1606 31 \nL 1081 31 \nQ 934 31 811 -39 \nQ 688 -109 613 -236 \nQ 538 -363 538 -500 \nz\nM 1422 1113 \nQ 1966 1113 1966 1888 \nQ 1966 2222 1850 2439 \nQ 1734 2656 1422 2656 \nQ 1109 2656 993 2439 \nQ 878 2222 878 1888 \nQ 878 1675 922 1503 \nQ 966 1331 1084 1222 \nQ 1203 1113 1422 1113 \nz\n\" id=\"Cmr10-67\" transform=\"scale(0.015625)\"/>\n       <path d=\"M 628 4666 \nL 1259 4666 \nL 1259 531 \nL 3531 531 \nL 3531 0 \nL 628 0 \nL 628 4666 \nz\n\" id=\"DejaVuSans-4c\" transform=\"scale(0.015625)\"/>\n       <path d=\"M 1959 3097 \nQ 1497 3097 1228 2736 \nQ 959 2375 959 1747 \nQ 959 1119 1226 758 \nQ 1494 397 1959 397 \nQ 2419 397 2687 759 \nQ 2956 1122 2956 1747 \nQ 2956 2369 2687 2733 \nQ 2419 3097 1959 3097 \nz\nM 1959 3584 \nQ 2709 3584 3137 3096 \nQ 3566 2609 3566 1747 \nQ 3566 888 3137 398 \nQ 2709 -91 1959 -91 \nQ 1206 -91 779 398 \nQ 353 888 353 1747 \nQ 353 2609 779 3096 \nQ 1206 3584 1959 3584 \nz\n\" id=\"DejaVuSans-6f\" transform=\"scale(0.015625)\"/>\n      </defs>\n      <use transform=\"translate(0 0.09375)\" xlink:href=\"#Cmr10-6c\"/>\n      <use transform=\"translate(27.685547 0.09375)\" xlink:href=\"#Cmr10-6f\"/>\n      <use transform=\"translate(77.685547 0.09375)\" xlink:href=\"#Cmr10-67\"/>\n      <use transform=\"translate(141.569288 0.09375)\" xlink:href=\"#DejaVuSans-4c\"/>\n      <use transform=\"translate(197.282179 0.09375)\" xlink:href=\"#DejaVuSans-6f\"/>\n      <use transform=\"translate(258.463819 0.09375)\" xlink:href=\"#DejaVuSans-73\"/>\n      <use transform=\"translate(310.563429 0.09375)\" xlink:href=\"#DejaVuSans-73\"/>\n     </g>\n    </g>\n   </g>\n   <g id=\"line2d_35\">\n    <path clip-path=\"url(#p3f4cf53f77)\" d=\"M 134.211534 341.509073 \nL 136.30338 341.862646 \nL 138.395227 342.659338 \nL 140.487073 343.25924 \nL 144.670766 344.204241 \nL 146.762612 344.397188 \nL 148.854458 343.298 \nL 150.946304 322.927755 \nL 153.038151 289.626785 \nL 155.129997 318.425676 \nL 157.221843 344.203765 \nL 159.31369 328.065179 \nL 161.405536 303.895656 \nL 163.497382 320.801369 \nL 165.589229 303.227291 \nL 167.681075 314.259426 \nL 169.772921 310.372292 \nL 171.864767 281.603575 \nL 173.956614 41.997188 \nL 176.04846 292.065235 \nL 178.140306 182.62166 \nL 180.232153 337.998891 \nL 182.323999 342.615925 \nL 184.415845 338.919756 \nL 186.507692 341.433522 \nL 188.599538 343.370572 \nL 190.691384 338.281071 \nL 192.78323 341.980709 \nL 194.875077 340.135408 \nL 196.966923 339.05817 \nL 199.058769 332.666572 \nL 201.150616 337.948121 \nL 203.242462 334.49155 \nL 205.334308 340.107534 \nL 207.426155 339.872573 \nL 209.518001 340.694078 \nL 211.609847 340.01844 \nL 213.701693 339.80846 \nL 215.79354 338.542886 \nL 217.885386 339.871369 \nL 219.977232 339.067071 \nL 222.069079 341.25775 \nL 226.252771 341.338861 \nL 228.344618 340.275953 \nL 230.436464 342.310583 \nL 232.52831 341.323393 \nL 234.620156 341.56622 \nL 236.712003 338.885483 \nL 238.803849 338.89151 \nL 240.895695 340.549951 \nL 242.987542 340.089102 \nL 245.079388 339.228483 \nL 247.171234 337.992597 \nL 249.26308 340.543879 \nL 251.354927 338.058396 \nL 253.446773 341.409351 \nL 255.538619 338.157478 \nL 257.630466 340.492678 \nL 259.722312 340.608492 \nL 261.814158 340.303518 \nL 263.906005 340.270903 \nL 265.997851 341.544957 \nL 268.089697 339.961099 \nL 270.181543 341.84767 \nL 272.27339 339.981461 \nL 274.365236 339.624258 \nL 276.457082 341.093617 \nL 278.548929 339.596503 \nL 280.640775 339.03128 \nL 282.732621 341.222706 \nL 284.824468 341.847889 \nL 286.916314 340.275148 \nL 289.00816 341.583347 \nL 291.100006 339.512106 \nL 295.283699 341.190317 \nL 297.375545 341.516029 \nL 299.467392 340.632706 \nL 301.559238 336.872011 \nL 303.651084 340.787761 \nL 305.742931 339.749537 \nL 307.834777 339.675648 \nL 309.926623 328.21846 \nL 312.018469 335.106799 \nL 314.110316 339.814283 \nL 316.202162 337.166627 \nL 318.294008 341.881752 \nL 320.385855 339.470894 \nL 322.477701 340.709884 \nL 324.569547 340.926142 \nL 326.661394 339.555615 \nL 328.75324 341.713508 \nL 330.845086 340.471436 \nL 332.936932 340.06258 \nL 335.028779 341.801535 \nL 337.120625 340.660944 \nL 339.212471 340.532847 \nL 341.304318 339.887041 \nL 343.396164 340.432951 \nL 345.48801 340.042323 \nL 347.579856 340.69012 \nL 349.671703 340.644938 \nL 351.763549 338.631161 \nL 353.855395 341.817935 \nL 355.947242 340.650058 \nL 358.039088 341.039775 \nL 360.130934 342.134006 \nL 362.222781 341.574157 \nL 364.314627 337.852273 \nL 366.406473 339.639835 \nL 368.498319 339.491835 \nL 370.590166 338.203235 \nL 372.682012 340.634412 \nL 374.773858 338.560024 \nL 376.865705 339.637129 \nL 381.049397 340.067268 \nL 383.141244 339.937742 \nL 385.23309 340.977448 \nL 387.324936 338.105119 \nL 389.416782 338.761002 \nL 391.508629 339.813251 \nL 393.600475 340.173386 \nL 395.692321 339.542366 \nL 397.784168 340.336645 \nL 399.876014 340.923543 \nL 401.96786 341.676411 \nL 404.059707 341.738945 \nL 406.151553 340.449878 \nL 408.243399 341.913089 \nL 410.335245 342.124496 \nL 412.427092 340.762462 \nL 414.518938 338.691602 \nL 416.610784 340.507177 \nL 418.702631 340.547692 \nL 420.794477 341.003247 \nL 422.886323 339.104806 \nL 424.97817 339.811011 \nL 427.070016 339.921222 \nL 429.161862 336.220772 \nL 433.345555 339.886549 \nL 435.437401 340.23592 \nL 437.529247 338.462303 \nL 439.621094 340.874211 \nL 441.71294 341.546182 \nL 443.804786 340.915191 \nL 445.896632 341.147777 \nL 447.988479 340.658912 \nL 450.080325 340.873832 \nL 452.172171 340.726398 \nL 454.264018 339.191016 \nL 456.355864 341.110752 \nL 458.44771 341.074482 \nL 460.539557 339.889476 \nL 462.631403 339.535196 \nL 464.723249 340.453174 \nL 466.815095 337.255984 \nL 468.906942 339.191024 \nL 470.998788 341.829652 \nL 473.090634 339.198947 \nL 475.182481 341.173655 \nL 479.366173 340.079171 \nL 481.45802 340.70541 \nL 483.549866 335.378058 \nL 485.641712 334.470491 \nL 487.733558 341.070609 \nL 489.825405 340.25424 \nL 491.917251 341.958222 \nL 494.009097 338.710408 \nL 496.100944 341.789723 \nL 498.19279 339.75627 \nL 500.284636 341.083704 \nL 502.376483 338.749161 \nL 504.468329 338.799515 \nL 506.560175 342.263109 \nL 508.652021 339.941104 \nL 510.743868 336.535135 \nL 512.835714 339.672146 \nL 514.92756 338.554324 \nL 517.019407 340.832522 \nL 519.111253 341.625446 \nL 521.203099 341.011648 \nL 523.294946 338.800744 \nL 525.386792 339.753762 \nL 527.478638 340.372157 \nL 529.570484 341.442422 \nL 531.662331 342.308877 \nL 533.754177 337.019459 \nL 537.93787 340.079646 \nL 540.029716 340.636233 \nL 540.029716 340.636233 \n\" style=\"fill:none;stroke:#348abd;stroke-linecap:square;stroke-width:3;\"/>\n   </g>\n   <g id=\"line2d_36\">\n    <path clip-path=\"url(#p3f4cf53f77)\" d=\"M 134.211534 340.707711 \nL 136.30338 340.658106 \nL 144.670766 341.057496 \nL 146.762612 340.834593 \nL 148.854458 340.315302 \nL 150.946304 341.68943 \nL 153.038151 340.002845 \nL 155.129997 341.678406 \nL 157.221843 341.506389 \nL 159.31369 341.222066 \nL 161.405536 341.764623 \nL 163.497382 338.219543 \nL 165.589229 340.09674 \nL 167.681075 341.067057 \nL 169.772921 324.081662 \nL 171.864767 290.701067 \nL 173.956614 337.743083 \nL 176.04846 296.327629 \nL 178.140306 341.423681 \nL 180.232153 341.094511 \nL 182.323999 340.496061 \nL 184.415845 341.062452 \nL 188.599538 340.970547 \nL 190.691384 339.84656 \nL 192.78323 341.126548 \nL 194.875077 340.213721 \nL 196.966923 340.273411 \nL 199.058769 341.412958 \nL 201.150616 339.256892 \nL 203.242462 340.492946 \nL 205.334308 339.327157 \nL 207.426155 339.392598 \nL 209.518001 340.148072 \nL 211.609847 340.077421 \nL 215.79354 339.02113 \nL 217.885386 337.135421 \nL 219.977232 339.171397 \nL 222.069079 339.091269 \nL 224.160925 339.707446 \nL 226.252771 340.94877 \nL 228.344618 340.344858 \nL 230.436464 340.017533 \nL 232.52831 340.31715 \nL 234.620156 340.40369 \nL 236.712003 339.032423 \nL 238.803849 340.89442 \nL 240.895695 339.992467 \nL 242.987542 339.428315 \nL 245.079388 337.742827 \nL 247.171234 339.60104 \nL 249.26308 339.069291 \nL 251.354927 339.012214 \nL 253.446773 340.047792 \nL 255.538619 339.256429 \nL 257.630466 340.565244 \nL 259.722312 340.933975 \nL 261.814158 339.522228 \nL 263.906005 340.815383 \nL 265.997851 339.989475 \nL 268.089697 339.294807 \nL 270.181543 340.666858 \nL 272.27339 340.19312 \nL 274.365236 340.789427 \nL 276.457082 340.426632 \nL 278.548929 339.921422 \nL 280.640775 341.255252 \nL 282.732621 341.419839 \nL 284.824468 340.246021 \nL 286.916314 342.01483 \nL 289.00816 340.445552 \nL 291.100006 340.686407 \nL 293.191853 341.11485 \nL 295.283699 340.656114 \nL 297.375545 337.679329 \nL 299.467392 341.671151 \nL 301.559238 338.518728 \nL 303.651084 341.000159 \nL 305.742931 338.998459 \nL 307.834777 325.218015 \nL 309.926623 331.396899 \nL 312.018469 340.721132 \nL 314.110316 337.279255 \nL 316.202162 340.418208 \nL 318.294008 338.609811 \nL 320.385855 339.973714 \nL 322.477701 340.910122 \nL 324.569547 342.052856 \nL 326.661394 339.534827 \nL 328.75324 341.013902 \nL 330.845086 339.565496 \nL 332.936932 339.262872 \nL 335.028779 340.242107 \nL 337.120625 340.539094 \nL 339.212471 340.095131 \nL 341.304318 340.543586 \nL 343.396164 339.175103 \nL 345.48801 340.158207 \nL 347.579856 339.956082 \nL 351.763549 339.249082 \nL 353.855395 340.727032 \nL 355.947242 339.984261 \nL 358.039088 340.424096 \nL 360.130934 340.139291 \nL 362.222781 337.107905 \nL 364.314627 339.84501 \nL 366.406473 338.017682 \nL 368.498319 335.256621 \nL 370.590166 339.213389 \nL 372.682012 339.706562 \nL 374.773858 341.085724 \nL 376.865705 339.592367 \nL 378.957551 341.436172 \nL 381.049397 340.359787 \nL 383.141244 341.831901 \nL 385.23309 340.272622 \nL 387.324936 339.033921 \nL 389.416782 338.28094 \nL 391.508629 341.130202 \nL 393.600475 341.201397 \nL 395.692321 343.810587 \nL 397.784168 341.700307 \nL 399.876014 339.241343 \nL 401.96786 341.941807 \nL 404.059707 342.464313 \nL 406.151553 340.334674 \nL 408.243399 340.512634 \nL 410.335245 338.374187 \nL 412.427092 340.334965 \nL 414.518938 340.126494 \nL 416.610784 340.819952 \nL 418.702631 340.333914 \nL 420.794477 337.967286 \nL 422.886323 340.594468 \nL 424.97817 338.789358 \nL 427.070016 336.398138 \nL 429.161862 337.72356 \nL 431.253708 340.576435 \nL 433.345555 336.95368 \nL 435.437401 339.315017 \nL 437.529247 338.535595 \nL 439.621094 340.515596 \nL 441.71294 339.857469 \nL 443.804786 338.026933 \nL 445.896632 341.52343 \nL 447.988479 339.845235 \nL 450.080325 339.624572 \nL 452.172171 338.242266 \nL 454.264018 340.16522 \nL 456.355864 339.585688 \nL 458.44771 336.903417 \nL 460.539557 339.057884 \nL 462.631403 340.887949 \nL 464.723249 333.154666 \nL 466.815095 340.393691 \nL 468.906942 341.942336 \nL 470.998788 339.091416 \nL 473.090634 340.519393 \nL 475.182481 341.068939 \nL 477.274327 340.457288 \nL 479.366173 339.085333 \nL 481.45802 338.454011 \nL 483.549866 329.628915 \nL 485.641712 341.148941 \nL 487.733558 340.198798 \nL 489.825405 340.789051 \nL 491.917251 339.609884 \nL 494.009097 339.520644 \nL 496.100944 341.925087 \nL 498.19279 341.834152 \nL 502.376483 339.491237 \nL 504.468329 342.403829 \nL 506.560175 339.73842 \nL 508.652021 338.273592 \nL 510.743868 339.763631 \nL 512.835714 339.57043 \nL 514.92756 341.153989 \nL 517.019407 340.919255 \nL 519.111253 341.388914 \nL 521.203099 336.829299 \nL 523.294946 339.872275 \nL 527.478638 341.461735 \nL 529.570484 340.237423 \nL 531.662331 334.269474 \nL 533.754177 340.629577 \nL 535.846023 337.225008 \nL 537.93787 339.803643 \nL 540.029716 341.294217 \nL 540.029716 341.294217 \n\" style=\"fill:none;stroke:#bf00bf;stroke-dasharray:11.1,4.8;stroke-dashoffset:0;stroke-width:3;\"/>\n   </g>\n   <g id=\"line2d_37\">\n    <path clip-path=\"url(#p3f4cf53f77)\" d=\"M 134.211534 340.997969 \nL 138.395227 340.844662 \nL 146.762612 341.253852 \nL 148.854458 340.7458 \nL 150.946304 340.634033 \nL 153.038151 341.34732 \nL 155.129997 340.835757 \nL 157.221843 342.134822 \nL 159.31369 341.134439 \nL 161.405536 341.625477 \nL 163.497382 341.520793 \nL 165.589229 337.036352 \nL 167.681075 341.686753 \nL 169.772921 342.905853 \nL 171.864767 320.491287 \nL 173.956614 283.220037 \nL 176.04846 337.042004 \nL 178.140306 290.821235 \nL 180.232153 341.890141 \nL 182.323999 342.354194 \nL 184.415845 340.238148 \nL 188.599538 342.927531 \nL 190.691384 341.336368 \nL 192.78323 340.642217 \nL 194.875077 341.109602 \nL 196.966923 340.463956 \nL 199.058769 335.119056 \nL 201.150616 339.967514 \nL 203.242462 336.034505 \nL 205.334308 340.282624 \nL 207.426155 339.693364 \nL 209.518001 340.7033 \nL 211.609847 340.491159 \nL 213.701693 339.760048 \nL 215.79354 338.631689 \nL 217.885386 339.871289 \nL 219.977232 339.067047 \nL 222.069079 341.257713 \nL 226.252771 341.33887 \nL 228.344618 340.275949 \nL 230.436464 342.310588 \nL 232.52831 341.323396 \nL 234.620156 341.566222 \nL 236.712003 338.885482 \nL 238.803849 338.891511 \nL 240.895695 340.549951 \nL 242.987542 340.089102 \nL 245.079388 339.228483 \nL 247.171234 337.992597 \nL 249.26308 340.543879 \nL 251.354927 338.058396 \nL 253.446773 341.409351 \nL 255.538619 338.157478 \nL 257.630466 340.492678 \nL 259.722312 340.608492 \nL 261.814158 340.303518 \nL 263.906005 340.270903 \nL 265.997851 341.544956 \nL 268.089697 339.961099 \nL 270.181543 341.84767 \nL 272.27339 339.981461 \nL 274.365236 339.624258 \nL 276.457082 341.093617 \nL 278.548929 339.596503 \nL 280.640775 339.03128 \nL 282.732621 341.222706 \nL 284.824468 341.847889 \nL 286.916314 340.275148 \nL 289.00816 341.583347 \nL 291.100006 339.512106 \nL 295.283699 341.190317 \nL 297.375545 341.516029 \nL 299.467392 340.632706 \nL 301.559238 336.872011 \nL 303.651084 340.787761 \nL 305.742931 339.749537 \nL 307.834777 339.675648 \nL 309.926623 328.21846 \nL 312.018469 335.106799 \nL 314.110316 339.814283 \nL 316.202162 337.166627 \nL 318.294008 341.881752 \nL 320.385855 339.470894 \nL 322.477701 340.709884 \nL 324.569547 340.926142 \nL 326.661394 339.555615 \nL 328.75324 341.713508 \nL 330.845086 340.471436 \nL 332.936932 340.06258 \nL 335.028779 341.801535 \nL 337.120625 340.660944 \nL 339.212471 340.532847 \nL 341.304318 339.887041 \nL 343.396164 340.432951 \nL 345.48801 340.042323 \nL 347.579856 340.69012 \nL 349.671703 340.644938 \nL 351.763549 338.631161 \nL 353.855395 341.817935 \nL 355.947242 340.650058 \nL 358.039088 341.039775 \nL 360.130934 342.134006 \nL 362.222781 341.574157 \nL 364.314627 337.852273 \nL 366.406473 339.639835 \nL 368.498319 339.491835 \nL 370.590166 338.203235 \nL 372.682012 340.634412 \nL 374.773858 338.560024 \nL 376.865705 339.637129 \nL 381.049397 340.067268 \nL 383.141244 339.937742 \nL 385.23309 340.977448 \nL 387.324936 338.105119 \nL 389.416782 338.761002 \nL 391.508629 339.813251 \nL 393.600475 340.173386 \nL 395.692321 339.542366 \nL 397.784168 340.336645 \nL 399.876014 340.923543 \nL 401.96786 341.676411 \nL 404.059707 341.738945 \nL 406.151553 340.449878 \nL 408.243399 341.913089 \nL 410.335245 342.124496 \nL 412.427092 340.762462 \nL 414.518938 338.691602 \nL 416.610784 340.507177 \nL 418.702631 340.547692 \nL 420.794477 341.003247 \nL 422.886323 339.104806 \nL 424.97817 339.811011 \nL 427.070016 339.921222 \nL 429.161862 336.220772 \nL 433.345555 339.886549 \nL 435.437401 340.23592 \nL 437.529247 338.462303 \nL 439.621094 340.874211 \nL 441.71294 341.546182 \nL 443.804786 340.915191 \nL 445.896632 341.147777 \nL 447.988479 340.658912 \nL 450.080325 340.873832 \nL 452.172171 340.726398 \nL 454.264018 339.191016 \nL 456.355864 341.110752 \nL 458.44771 341.074482 \nL 460.539557 339.889476 \nL 462.631403 339.535196 \nL 464.723249 340.453174 \nL 466.815095 337.255984 \nL 468.906942 339.191024 \nL 470.998788 341.829652 \nL 473.090634 339.198947 \nL 475.182481 341.173655 \nL 479.366173 340.079171 \nL 481.45802 340.70541 \nL 483.549866 335.378058 \nL 485.641712 334.470491 \nL 487.733558 341.070609 \nL 489.825405 340.25424 \nL 491.917251 341.958222 \nL 494.009097 338.710408 \nL 496.100944 341.789723 \nL 498.19279 339.75627 \nL 500.284636 341.083704 \nL 502.376483 338.749161 \nL 504.468329 338.799515 \nL 506.560175 342.263109 \nL 508.652021 339.941104 \nL 510.743868 336.535135 \nL 512.835714 339.672146 \nL 514.92756 338.554324 \nL 517.019407 340.832522 \nL 519.111253 341.625446 \nL 521.203099 341.011648 \nL 523.294946 338.800744 \nL 525.386792 339.753762 \nL 527.478638 340.372157 \nL 529.570484 341.442422 \nL 531.662331 342.308877 \nL 533.754177 337.019459 \nL 537.93787 340.079646 \nL 540.029716 340.636233 \nL 540.029716 340.636233 \n\" style=\"fill:none;stroke:#008000;stroke-dasharray:19.2,4.8,3,4.8;stroke-dashoffset:0;stroke-width:3;\"/>\n   </g>\n   <g id=\"line2d_38\">\n    <path clip-path=\"url(#p3f4cf53f77)\" d=\"M 134.211534 340.707711 \nL 136.30338 340.658106 \nL 144.670766 341.057496 \nL 146.762612 340.834593 \nL 148.854458 340.315302 \nL 150.946304 341.68943 \nL 153.038151 340.002845 \nL 155.129997 341.678406 \nL 157.221843 341.506389 \nL 159.31369 341.222066 \nL 161.405536 341.764623 \nL 163.497382 338.219543 \nL 165.589229 340.09674 \nL 167.681075 341.067057 \nL 169.772921 324.081662 \nL 171.864767 290.701067 \nL 173.956614 337.743083 \nL 176.04846 296.327629 \nL 178.140306 341.423681 \nL 180.232153 341.094511 \nL 182.323999 340.496061 \nL 184.415845 341.062452 \nL 188.599538 340.970547 \nL 190.691384 339.84656 \nL 192.78323 341.126548 \nL 194.875077 340.213721 \nL 196.966923 340.273411 \nL 199.058769 341.412958 \nL 201.150616 339.256892 \nL 203.242462 340.492946 \nL 205.334308 339.327157 \nL 207.426155 339.392598 \nL 209.518001 340.148072 \nL 211.609847 340.077421 \nL 215.79354 339.02113 \nL 217.885386 337.135421 \nL 219.977232 339.171397 \nL 222.069079 339.091269 \nL 224.160925 339.707446 \nL 226.252771 340.94877 \nL 228.344618 340.344858 \nL 230.436464 340.017533 \nL 232.52831 340.31715 \nL 234.620156 340.40369 \nL 236.712003 339.032423 \nL 238.803849 340.89442 \nL 240.895695 339.992467 \nL 242.987542 339.428315 \nL 245.079388 337.742827 \nL 247.171234 339.60104 \nL 249.26308 339.069291 \nL 251.354927 339.012214 \nL 253.446773 340.047792 \nL 255.538619 339.256429 \nL 257.630466 340.565244 \nL 259.722312 340.933975 \nL 261.814158 339.522228 \nL 263.906005 340.815383 \nL 265.997851 339.989475 \nL 268.089697 339.294807 \nL 270.181543 340.666858 \nL 272.27339 340.19312 \nL 274.365236 340.789427 \nL 276.457082 340.426632 \nL 278.548929 339.921422 \nL 280.640775 341.255252 \nL 282.732621 341.419839 \nL 284.824468 340.246021 \nL 286.916314 342.01483 \nL 289.00816 340.445552 \nL 291.100006 340.686407 \nL 293.191853 341.11485 \nL 295.283699 340.656114 \nL 297.375545 337.679329 \nL 299.467392 341.671151 \nL 301.559238 338.518728 \nL 303.651084 341.000159 \nL 305.742931 338.998459 \nL 307.834777 325.218015 \nL 309.926623 331.396899 \nL 312.018469 340.721132 \nL 314.110316 337.279255 \nL 316.202162 340.418208 \nL 318.294008 338.609811 \nL 320.385855 339.973714 \nL 322.477701 340.910122 \nL 324.569547 342.052856 \nL 326.661394 339.534827 \nL 328.75324 341.013902 \nL 330.845086 339.565496 \nL 332.936932 339.262872 \nL 335.028779 340.242107 \nL 337.120625 340.539094 \nL 339.212471 340.095131 \nL 341.304318 340.543586 \nL 343.396164 339.175103 \nL 345.48801 340.158207 \nL 347.579856 339.956082 \nL 351.763549 339.249082 \nL 353.855395 340.727032 \nL 355.947242 339.984261 \nL 358.039088 340.424096 \nL 360.130934 340.139291 \nL 362.222781 337.107905 \nL 364.314627 339.84501 \nL 366.406473 338.017682 \nL 368.498319 335.256621 \nL 370.590166 339.213389 \nL 372.682012 339.706562 \nL 374.773858 341.085724 \nL 376.865705 339.592367 \nL 378.957551 341.436172 \nL 381.049397 340.359787 \nL 383.141244 341.831901 \nL 385.23309 340.272622 \nL 387.324936 339.033921 \nL 389.416782 338.28094 \nL 391.508629 341.130202 \nL 393.600475 341.201397 \nL 395.692321 343.810587 \nL 397.784168 341.700307 \nL 399.876014 339.241343 \nL 401.96786 341.941807 \nL 404.059707 342.464313 \nL 406.151553 340.334674 \nL 408.243399 340.512634 \nL 410.335245 338.374187 \nL 412.427092 340.334965 \nL 414.518938 340.126494 \nL 416.610784 340.819952 \nL 418.702631 340.333914 \nL 420.794477 337.967286 \nL 422.886323 340.594468 \nL 424.97817 338.789358 \nL 427.070016 336.398138 \nL 429.161862 337.72356 \nL 431.253708 340.576435 \nL 433.345555 336.95368 \nL 435.437401 339.315017 \nL 437.529247 338.535595 \nL 439.621094 340.515596 \nL 441.71294 339.857469 \nL 443.804786 338.026933 \nL 445.896632 341.52343 \nL 447.988479 339.845235 \nL 450.080325 339.624572 \nL 452.172171 338.242266 \nL 454.264018 340.16522 \nL 456.355864 339.585688 \nL 458.44771 336.903417 \nL 460.539557 339.057884 \nL 462.631403 340.887949 \nL 464.723249 333.154666 \nL 466.815095 340.393691 \nL 468.906942 341.942336 \nL 470.998788 339.091416 \nL 473.090634 340.519393 \nL 475.182481 341.068939 \nL 477.274327 340.457288 \nL 479.366173 339.085333 \nL 481.45802 338.454011 \nL 483.549866 329.628915 \nL 485.641712 341.148941 \nL 487.733558 340.198798 \nL 489.825405 340.789051 \nL 491.917251 339.609884 \nL 494.009097 339.520644 \nL 496.100944 341.925087 \nL 498.19279 341.834152 \nL 502.376483 339.491237 \nL 504.468329 342.403829 \nL 506.560175 339.73842 \nL 508.652021 338.273592 \nL 510.743868 339.763631 \nL 512.835714 339.57043 \nL 514.92756 341.153989 \nL 517.019407 340.919255 \nL 519.111253 341.388914 \nL 521.203099 336.829299 \nL 523.294946 339.872275 \nL 527.478638 341.461735 \nL 529.570484 340.237423 \nL 531.662331 334.269474 \nL 533.754177 340.629577 \nL 535.846023 337.225008 \nL 537.93787 339.803643 \nL 540.029716 341.294217 \nL 540.029716 341.294217 \n\" style=\"fill:none;stroke:#ff0000;stroke-dasharray:3,4.95;stroke-dashoffset:0;stroke-width:3;\"/>\n   </g>\n   <g id=\"patch_3\">\n    <path d=\"M 113.920625 359.517188 \nL 113.920625 26.877188 \n\" style=\"fill:none;stroke:#bcbcbc;stroke-linecap:square;stroke-linejoin:miter;stroke-width:0.8;\"/>\n   </g>\n   <g id=\"patch_4\">\n    <path d=\"M 560.320625 359.517188 \nL 560.320625 26.877188 \n\" style=\"fill:none;stroke:#bcbcbc;stroke-linecap:square;stroke-linejoin:miter;stroke-width:0.8;\"/>\n   </g>\n   <g id=\"patch_5\">\n    <path d=\"M 113.920625 359.517187 \nL 560.320625 359.517187 \n\" style=\"fill:none;stroke:#bcbcbc;stroke-linecap:square;stroke-linejoin:miter;stroke-width:0.8;\"/>\n   </g>\n   <g id=\"patch_6\">\n    <path d=\"M 113.920625 26.877187 \nL 560.320625 26.877187 \n\" style=\"fill:none;stroke:#bcbcbc;stroke-linecap:square;stroke-linejoin:miter;stroke-width:0.8;\"/>\n   </g>\n   <g id=\"text_20\">\n    <!-- Training - 4 sweep(s) -->\n    <g transform=\"translate(243.510781 20.877187)scale(0.18 -0.18)\">\n     <defs>\n      <path d=\"M -19 4666 \nL 3928 4666 \nL 3928 4134 \nL 2272 4134 \nL 2272 0 \nL 1638 0 \nL 1638 4134 \nL -19 4134 \nL -19 4666 \nz\n\" id=\"DejaVuSans-54\" transform=\"scale(0.015625)\"/>\n      <path d=\"M 2631 2963 \nQ 2534 3019 2420 3045 \nQ 2306 3072 2169 3072 \nQ 1681 3072 1420 2755 \nQ 1159 2438 1159 1844 \nL 1159 0 \nL 581 0 \nL 581 3500 \nL 1159 3500 \nL 1159 2956 \nQ 1341 3275 1631 3429 \nQ 1922 3584 2338 3584 \nQ 2397 3584 2469 3576 \nQ 2541 3569 2628 3553 \nL 2631 2963 \nz\n\" id=\"DejaVuSans-72\" transform=\"scale(0.015625)\"/>\n      <path d=\"M 2194 1759 \nQ 1497 1759 1228 1600 \nQ 959 1441 959 1056 \nQ 959 750 1161 570 \nQ 1363 391 1709 391 \nQ 2188 391 2477 730 \nQ 2766 1069 2766 1631 \nL 2766 1759 \nL 2194 1759 \nz\nM 3341 1997 \nL 3341 0 \nL 2766 0 \nL 2766 531 \nQ 2569 213 2275 61 \nQ 1981 -91 1556 -91 \nQ 1019 -91 701 211 \nQ 384 513 384 1019 \nQ 384 1609 779 1909 \nQ 1175 2209 1959 2209 \nL 2766 2209 \nL 2766 2266 \nQ 2766 2663 2505 2880 \nQ 2244 3097 1772 3097 \nQ 1472 3097 1187 3025 \nQ 903 2953 641 2809 \nL 641 3341 \nQ 956 3463 1253 3523 \nQ 1550 3584 1831 3584 \nQ 2591 3584 2966 3190 \nQ 3341 2797 3341 1997 \nz\n\" id=\"DejaVuSans-61\" transform=\"scale(0.015625)\"/>\n      <path d=\"M 3513 2113 \nL 3513 0 \nL 2938 0 \nL 2938 2094 \nQ 2938 2591 2744 2837 \nQ 2550 3084 2163 3084 \nQ 1697 3084 1428 2787 \nQ 1159 2491 1159 1978 \nL 1159 0 \nL 581 0 \nL 581 3500 \nL 1159 3500 \nL 1159 2956 \nQ 1366 3272 1645 3428 \nQ 1925 3584 2291 3584 \nQ 2894 3584 3203 3211 \nQ 3513 2838 3513 2113 \nz\n\" id=\"DejaVuSans-6e\" transform=\"scale(0.015625)\"/>\n      <path d=\"M 2906 1791 \nQ 2906 2416 2648 2759 \nQ 2391 3103 1925 3103 \nQ 1463 3103 1205 2759 \nQ 947 2416 947 1791 \nQ 947 1169 1205 825 \nQ 1463 481 1925 481 \nQ 2391 481 2648 825 \nQ 2906 1169 2906 1791 \nz\nM 3481 434 \nQ 3481 -459 3084 -895 \nQ 2688 -1331 1869 -1331 \nQ 1566 -1331 1297 -1286 \nQ 1028 -1241 775 -1147 \nL 775 -588 \nQ 1028 -725 1275 -790 \nQ 1522 -856 1778 -856 \nQ 2344 -856 2625 -561 \nQ 2906 -266 2906 331 \nL 2906 616 \nQ 2728 306 2450 153 \nQ 2172 0 1784 0 \nQ 1141 0 747 490 \nQ 353 981 353 1791 \nQ 353 2603 747 3093 \nQ 1141 3584 1784 3584 \nQ 2172 3584 2450 3431 \nQ 2728 3278 2906 2969 \nL 2906 3500 \nL 3481 3500 \nL 3481 434 \nz\n\" id=\"DejaVuSans-67\" transform=\"scale(0.015625)\"/>\n      <path d=\"M 313 2009 \nL 1997 2009 \nL 1997 1497 \nL 313 1497 \nL 313 2009 \nz\n\" id=\"DejaVuSans-2d\" transform=\"scale(0.015625)\"/>\n      <path d=\"M 269 3500 \nL 844 3500 \nL 1563 769 \nL 2278 3500 \nL 2956 3500 \nL 3675 769 \nL 4391 3500 \nL 4966 3500 \nL 4050 0 \nL 3372 0 \nL 2619 2869 \nL 1863 0 \nL 1184 0 \nL 269 3500 \nz\n\" id=\"DejaVuSans-77\" transform=\"scale(0.015625)\"/>\n      <path d=\"M 1159 525 \nL 1159 -1331 \nL 581 -1331 \nL 581 3500 \nL 1159 3500 \nL 1159 2969 \nQ 1341 3281 1617 3432 \nQ 1894 3584 2278 3584 \nQ 2916 3584 3314 3078 \nQ 3713 2572 3713 1747 \nQ 3713 922 3314 415 \nQ 2916 -91 2278 -91 \nQ 1894 -91 1617 61 \nQ 1341 213 1159 525 \nz\nM 3116 1747 \nQ 3116 2381 2855 2742 \nQ 2594 3103 2138 3103 \nQ 1681 3103 1420 2742 \nQ 1159 2381 1159 1747 \nQ 1159 1113 1420 752 \nQ 1681 391 2138 391 \nQ 2594 391 2855 752 \nQ 3116 1113 3116 1747 \nz\n\" id=\"DejaVuSans-70\" transform=\"scale(0.015625)\"/>\n      <path d=\"M 1984 4856 \nQ 1566 4138 1362 3434 \nQ 1159 2731 1159 2009 \nQ 1159 1288 1364 580 \nQ 1569 -128 1984 -844 \nL 1484 -844 \nQ 1016 -109 783 600 \nQ 550 1309 550 2009 \nQ 550 2706 781 3412 \nQ 1013 4119 1484 4856 \nL 1984 4856 \nz\n\" id=\"DejaVuSans-28\" transform=\"scale(0.015625)\"/>\n      <path d=\"M 513 4856 \nL 1013 4856 \nQ 1481 4119 1714 3412 \nQ 1947 2706 1947 2009 \nQ 1947 1309 1714 600 \nQ 1481 -109 1013 -844 \nL 513 -844 \nQ 928 -128 1133 580 \nQ 1338 1288 1338 2009 \nQ 1338 2731 1133 3434 \nQ 928 4138 513 4856 \nz\n\" id=\"DejaVuSans-29\" transform=\"scale(0.015625)\"/>\n     </defs>\n     <use xlink:href=\"#DejaVuSans-54\"/>\n     <use x=\"46.333984\" xlink:href=\"#DejaVuSans-72\"/>\n     <use x=\"87.447266\" xlink:href=\"#DejaVuSans-61\"/>\n     <use x=\"148.726562\" xlink:href=\"#DejaVuSans-69\"/>\n     <use x=\"176.509766\" xlink:href=\"#DejaVuSans-6e\"/>\n     <use x=\"239.888672\" xlink:href=\"#DejaVuSans-69\"/>\n     <use x=\"267.671875\" xlink:href=\"#DejaVuSans-6e\"/>\n     <use x=\"331.050781\" xlink:href=\"#DejaVuSans-67\"/>\n     <use x=\"394.527344\" xlink:href=\"#DejaVuSans-20\"/>\n     <use x=\"426.314453\" xlink:href=\"#DejaVuSans-2d\"/>\n     <use x=\"462.398438\" xlink:href=\"#DejaVuSans-20\"/>\n     <use x=\"494.185547\" xlink:href=\"#DejaVuSans-34\"/>\n     <use x=\"557.808594\" xlink:href=\"#DejaVuSans-20\"/>\n     <use x=\"589.595703\" xlink:href=\"#DejaVuSans-73\"/>\n     <use x=\"641.695312\" xlink:href=\"#DejaVuSans-77\"/>\n     <use x=\"723.482422\" xlink:href=\"#DejaVuSans-65\"/>\n     <use x=\"785.005859\" xlink:href=\"#DejaVuSans-65\"/>\n     <use x=\"846.529297\" xlink:href=\"#DejaVuSans-70\"/>\n     <use x=\"910.005859\" xlink:href=\"#DejaVuSans-28\"/>\n     <use x=\"949.019531\" xlink:href=\"#DejaVuSans-73\"/>\n     <use x=\"1001.119141\" xlink:href=\"#DejaVuSans-29\"/>\n    </g>\n   </g>\n   <g id=\"legend_1\">\n    <g id=\"patch_7\">\n     <path d=\"M 433.03 120.274688 \nL 550.520625 120.274688 \nQ 553.320625 120.274688 553.320625 117.474688 \nL 553.320625 36.677188 \nQ 553.320625 33.877188 550.520625 33.877188 \nL 433.03 33.877188 \nQ 430.23 33.877188 430.23 36.677188 \nL 430.23 117.474688 \nQ 430.23 120.274688 433.03 120.274688 \nz\n\" style=\"fill:#eeeeee;opacity:0.8;stroke:#cccccc;stroke-linejoin:miter;stroke-width:0.5;\"/>\n    </g>\n    <g id=\"line2d_39\">\n     <path d=\"M 435.83 45.215 \nL 463.83 45.215 \n\" style=\"fill:none;stroke:#348abd;stroke-linecap:square;stroke-width:3;\"/>\n    </g>\n    <g id=\"line2d_40\"/>\n    <g id=\"text_21\">\n     <!-- Sweep \"0\" -->\n     <g transform=\"translate(475.03 50.115)scale(0.14 -0.14)\">\n      <defs>\n       <path d=\"M 1147 4666 \nL 1147 2931 \nL 616 2931 \nL 616 4666 \nL 1147 4666 \nz\nM 2328 4666 \nL 2328 2931 \nL 1797 2931 \nL 1797 4666 \nL 2328 4666 \nz\n\" id=\"DejaVuSans-22\" transform=\"scale(0.015625)\"/>\n      </defs>\n      <use xlink:href=\"#DejaVuSans-53\"/>\n      <use x=\"63.476562\" xlink:href=\"#DejaVuSans-77\"/>\n      <use x=\"145.263672\" xlink:href=\"#DejaVuSans-65\"/>\n      <use x=\"206.787109\" xlink:href=\"#DejaVuSans-65\"/>\n      <use x=\"268.310547\" xlink:href=\"#DejaVuSans-70\"/>\n      <use x=\"331.787109\" xlink:href=\"#DejaVuSans-20\"/>\n      <use x=\"363.574219\" xlink:href=\"#DejaVuSans-22\"/>\n      <use x=\"409.570312\" xlink:href=\"#DejaVuSans-30\"/>\n      <use x=\"473.193359\" xlink:href=\"#DejaVuSans-22\"/>\n     </g>\n    </g>\n    <g id=\"line2d_41\">\n     <path d=\"M 435.83 65.764375 \nL 463.83 65.764375 \n\" style=\"fill:none;stroke:#bf00bf;stroke-dasharray:11.1,4.8;stroke-dashoffset:0;stroke-width:3;\"/>\n    </g>\n    <g id=\"line2d_42\"/>\n    <g id=\"text_22\">\n     <!-- Sweep \"1\" -->\n     <g transform=\"translate(475.03 70.664375)scale(0.14 -0.14)\">\n      <use xlink:href=\"#DejaVuSans-53\"/>\n      <use x=\"63.476562\" xlink:href=\"#DejaVuSans-77\"/>\n      <use x=\"145.263672\" xlink:href=\"#DejaVuSans-65\"/>\n      <use x=\"206.787109\" xlink:href=\"#DejaVuSans-65\"/>\n      <use x=\"268.310547\" xlink:href=\"#DejaVuSans-70\"/>\n      <use x=\"331.787109\" xlink:href=\"#DejaVuSans-20\"/>\n      <use x=\"363.574219\" xlink:href=\"#DejaVuSans-22\"/>\n      <use x=\"409.570312\" xlink:href=\"#DejaVuSans-31\"/>\n      <use x=\"473.193359\" xlink:href=\"#DejaVuSans-22\"/>\n     </g>\n    </g>\n    <g id=\"line2d_43\">\n     <path d=\"M 435.83 86.31375 \nL 463.83 86.31375 \n\" style=\"fill:none;stroke:#008000;stroke-dasharray:19.2,4.8,3,4.8;stroke-dashoffset:0;stroke-width:3;\"/>\n    </g>\n    <g id=\"line2d_44\"/>\n    <g id=\"text_23\">\n     <!-- Sweep \"2\" -->\n     <g transform=\"translate(475.03 91.21375)scale(0.14 -0.14)\">\n      <use xlink:href=\"#DejaVuSans-53\"/>\n      <use x=\"63.476562\" xlink:href=\"#DejaVuSans-77\"/>\n      <use x=\"145.263672\" xlink:href=\"#DejaVuSans-65\"/>\n      <use x=\"206.787109\" xlink:href=\"#DejaVuSans-65\"/>\n      <use x=\"268.310547\" xlink:href=\"#DejaVuSans-70\"/>\n      <use x=\"331.787109\" xlink:href=\"#DejaVuSans-20\"/>\n      <use x=\"363.574219\" xlink:href=\"#DejaVuSans-22\"/>\n      <use x=\"409.570312\" xlink:href=\"#DejaVuSans-32\"/>\n      <use x=\"473.193359\" xlink:href=\"#DejaVuSans-22\"/>\n     </g>\n    </g>\n    <g id=\"line2d_45\">\n     <path d=\"M 435.83 106.863125 \nL 463.83 106.863125 \n\" style=\"fill:none;stroke:#ff0000;stroke-dasharray:3,4.95;stroke-dashoffset:0;stroke-width:3;\"/>\n    </g>\n    <g id=\"line2d_46\"/>\n    <g id=\"text_24\">\n     <!-- Sweep \"3\" -->\n     <g transform=\"translate(475.03 111.763125)scale(0.14 -0.14)\">\n      <use xlink:href=\"#DejaVuSans-53\"/>\n      <use x=\"63.476562\" xlink:href=\"#DejaVuSans-77\"/>\n      <use x=\"145.263672\" xlink:href=\"#DejaVuSans-65\"/>\n      <use x=\"206.787109\" xlink:href=\"#DejaVuSans-65\"/>\n      <use x=\"268.310547\" xlink:href=\"#DejaVuSans-70\"/>\n      <use x=\"331.787109\" xlink:href=\"#DejaVuSans-20\"/>\n      <use x=\"363.574219\" xlink:href=\"#DejaVuSans-22\"/>\n      <use x=\"409.570312\" xlink:href=\"#DejaVuSans-33\"/>\n      <use x=\"473.193359\" xlink:href=\"#DejaVuSans-22\"/>\n     </g>\n    </g>\n   </g>\n  </g>\n </g>\n <defs>\n  <clipPath id=\"p3f4cf53f77\">\n   <rect height=\"332.64\" width=\"446.4\" x=\"113.920625\" y=\"26.877187\"/>\n  </clipPath>\n </defs>\n</svg>\n",
      "text/plain": [
       "<Figure size 800x600 with 1 Axes>"
      ]
     },
     "metadata": {},
     "output_type": "display_data"
    }
   ],
   "source": [
    "plot(jnp.arange(len(mps)-1), [jnp.array(v) for v in losses.values()], \n",
    "     xlabel='MPS sites', ylabel='$\\log$Loss',\n",
    "     legend=[f'Sweep \"{i}\"' for i in losses.keys()],\n",
    "     figsize=(8,6),\n",
    "     yscale='log',\n",
    "     title=f'Training - {len(losses)} sweep(s)'\n",
    ")"
   ]
  },
  {
   "cell_type": "markdown",
   "id": "ba87a2af",
   "metadata": {},
   "source": [
    "# Predicting Labels"
   ]
  },
  {
   "cell_type": "code",
   "execution_count": 32,
   "id": "a324426a",
   "metadata": {},
   "outputs": [],
   "source": [
    "def predict_labels(mps, inputs):\n",
    "    # project all test instances onto the mps \n",
    "    inputs_proj = jax.vmap(partial(project_sample, mps))(inputs)\n",
    "    # reduce (full contraction)\n",
    "    preds = reduce(lambda x,y: jnp.einsum('mpi...,miq...->mpq...', x, y), inputs_proj)\n",
    "    # get predicted class probabilities\n",
    "    probas = jax.nn.softmax(preds.squeeze(), axis=1)\n",
    "    return jnp.argmax(probas, axis=1).astype(int)"
   ]
  },
  {
   "cell_type": "code",
   "execution_count": 33,
   "id": "9ad06df9",
   "metadata": {},
   "outputs": [],
   "source": [
    "pred_train_classes = predict_labels(mps, train_data)\n",
    "pred_test_classes = predict_labels(mps, test_data)"
   ]
  },
  {
   "cell_type": "code",
   "execution_count": 34,
   "id": "c61a6ae2",
   "metadata": {},
   "outputs": [],
   "source": [
    "from sklearn import metrics\n",
    "\n",
    "import warnings\n",
    "warnings.simplefilter('ignore', UserWarning)"
   ]
  },
  {
   "cell_type": "code",
   "execution_count": 35,
   "id": "7540c42c",
   "metadata": {},
   "outputs": [
    {
     "name": "stdout",
     "output_type": "stream",
     "text": [
      "Classification report Train:\n",
      "\n",
      "              precision    recall  f1-score   support\n",
      "\n",
      "           0       0.00      0.00      0.00         0\n",
      "           1       0.00      0.00      0.00         0\n",
      "           2       0.50      0.10      0.17     29995\n",
      "           3       0.00      0.00      0.00         0\n",
      "           4       0.00      0.00      0.00         0\n",
      "           5       0.00      0.00      0.00         0\n",
      "           6       0.51      0.10      0.17     30005\n",
      "           7       0.00      0.00      0.00         0\n",
      "           8       0.00      0.00      0.00         0\n",
      "           9       0.00      0.00      0.00         0\n",
      "\n",
      "    accuracy                           0.10     60000\n",
      "   macro avg       0.10      0.02      0.03     60000\n",
      "weighted avg       0.51      0.10      0.17     60000\n",
      "\n",
      "\n"
     ]
    }
   ],
   "source": [
    "train_classes = jnp.argmax(train_labels, axis=1)\n",
    "test_classes = jnp.argmax(test_labels, axis=1)\n",
    "\n",
    "print(f'Classification report Train:\\n\\n'\n",
    "      f'{metrics.classification_report(pred_train_classes, train_classes)}\\n')"
   ]
  },
  {
   "cell_type": "code",
   "execution_count": 36,
   "id": "738f3089",
   "metadata": {},
   "outputs": [
    {
     "name": "stdout",
     "output_type": "stream",
     "text": [
      "Classification report Test:\n",
      "\n",
      "              precision    recall  f1-score   support\n",
      "\n",
      "           0       0.00      0.00      0.00         0\n",
      "           1       0.00      0.00      0.00         0\n",
      "           2       0.51      0.11      0.17      5042\n",
      "           3       0.00      0.00      0.00         0\n",
      "           4       0.00      0.00      0.00         0\n",
      "           5       0.00      0.00      0.00         0\n",
      "           6       0.49      0.09      0.16      4958\n",
      "           7       0.00      0.00      0.00         0\n",
      "           8       0.00      0.00      0.00         0\n",
      "           9       0.00      0.00      0.00         0\n",
      "\n",
      "    accuracy                           0.10     10000\n",
      "   macro avg       0.10      0.02      0.03     10000\n",
      "weighted avg       0.50      0.10      0.17     10000\n",
      "\n",
      "\n"
     ]
    }
   ],
   "source": [
    "print(f'Classification report Test:\\n\\n'\n",
    "      f'{metrics.classification_report(pred_test_classes, test_classes)}\\n')"
   ]
  },
  {
   "cell_type": "code",
   "execution_count": 37,
   "id": "7439c904",
   "metadata": {},
   "outputs": [
    {
     "data": {
      "text/plain": [
       "DeviceArray([2, 6], dtype=int64)"
      ]
     },
     "execution_count": 37,
     "metadata": {},
     "output_type": "execute_result"
    }
   ],
   "source": [
    "jnp.unique(pred_test_classes)"
   ]
  },
  {
   "cell_type": "code",
   "execution_count": null,
   "id": "fbab2668",
   "metadata": {},
   "outputs": [],
   "source": []
  }
 ],
 "metadata": {
  "kernelspec": {
   "display_name": "Python 3",
   "language": "python",
   "name": "python3"
  },
  "language_info": {
   "codemirror_mode": {
    "name": "ipython",
    "version": 3
   },
   "file_extension": ".py",
   "mimetype": "text/x-python",
   "name": "python",
   "nbconvert_exporter": "python",
   "pygments_lexer": "ipython3",
   "version": "3.8.5"
  },
  "varInspector": {
   "cols": {
    "lenName": 16,
    "lenType": 16,
    "lenVar": 40
   },
   "kernels_config": {
    "python": {
     "delete_cmd_postfix": "",
     "delete_cmd_prefix": "del ",
     "library": "var_list.py",
     "varRefreshCmd": "print(var_dic_list())"
    },
    "r": {
     "delete_cmd_postfix": ") ",
     "delete_cmd_prefix": "rm(",
     "library": "var_list.r",
     "varRefreshCmd": "cat(var_dic_list()) "
    }
   },
   "types_to_exclude": [
    "module",
    "function",
    "builtin_function_or_method",
    "instance",
    "_Feature"
   ],
   "window_display": false
  }
 },
 "nbformat": 4,
 "nbformat_minor": 5
}
