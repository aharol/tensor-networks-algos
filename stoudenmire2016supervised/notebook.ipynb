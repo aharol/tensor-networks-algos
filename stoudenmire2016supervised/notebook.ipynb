{
 "cells": [
  {
   "cell_type": "markdown",
   "id": "90342c19",
   "metadata": {},
   "source": [
    "# About\n",
    "\n",
    "- `Title:` \"Supervised Learning with Quantum-Inspired Tensor Networks\"\n",
    "- `Main Author:` Miles E. Stoudenmire\n",
    "- `Source:` [ArXiv](https://arxiv.org/abs/1605.05775)\n",
    "- `Publish Date:` 18-05-2017\n",
    "- `Reviewed Date:` 22-10-2021\n",
    "\n",
    "## Citation\n",
    "\n",
    "```latex\n",
    "@article{stoudenmire2016supervised,\n",
    "  title={Supervised learning with tensor networks},\n",
    "  author={Stoudenmire, Edwin and Schwab, David J},\n",
    "  journal={Advances in Neural Information Processing Systems},\n",
    "  volume={29},\n",
    "  year={2016}\n",
    "}\n",
    "```"
   ]
  },
  {
   "cell_type": "code",
   "execution_count": 1,
   "id": "c777985e",
   "metadata": {},
   "outputs": [],
   "source": [
    "%load_ext autoreload\n",
    "%autoreload 2"
   ]
  },
  {
   "cell_type": "code",
   "execution_count": 2,
   "id": "516a8cc3",
   "metadata": {},
   "outputs": [
    {
     "name": "stdout",
     "output_type": "stream",
     "text": [
      "env: JAX_ENABLE_X64=1\n",
      "env: JAX_PLATFORM_NAME=cpu\n"
     ]
    }
   ],
   "source": [
    "%env JAX_ENABLE_X64=1\n",
    "%env JAX_PLATFORM_NAME=cpu"
   ]
  },
  {
   "cell_type": "markdown",
   "id": "8b2569a1",
   "metadata": {},
   "source": [
    "# Installing dependencies"
   ]
  },
  {
   "cell_type": "code",
   "execution_count": 3,
   "id": "5c02a783",
   "metadata": {},
   "outputs": [],
   "source": [
    "# uncomment the line below when running for the first time\n",
    "# !pip install --upgrade jax jaxlib matplotlib"
   ]
  },
  {
   "cell_type": "markdown",
   "id": "82c61e55",
   "metadata": {},
   "source": [
    "# Imports and settings"
   ]
  },
  {
   "cell_type": "code",
   "execution_count": 4,
   "id": "80210565",
   "metadata": {},
   "outputs": [],
   "source": [
    "import jax\n",
    "import jax.numpy as jnp"
   ]
  },
  {
   "cell_type": "code",
   "execution_count": 5,
   "id": "933bc00f",
   "metadata": {},
   "outputs": [],
   "source": [
    "import itertools\n",
    "import functools"
   ]
  },
  {
   "cell_type": "code",
   "execution_count": 6,
   "id": "6b833c47",
   "metadata": {},
   "outputs": [],
   "source": [
    "from typing import Any, List, Tuple, Callable, Optional"
   ]
  },
  {
   "cell_type": "code",
   "execution_count": 7,
   "id": "833a9ddf",
   "metadata": {},
   "outputs": [],
   "source": [
    "from plotting import plot, show_img_grid, set_figsize"
   ]
  },
  {
   "cell_type": "code",
   "execution_count": 8,
   "metadata": {},
   "outputs": [],
   "source": [
    "import datasets  # MNIST downloader"
   ]
  },
  {
   "cell_type": "markdown",
   "id": "7cc61c86",
   "metadata": {},
   "source": [
    "## Type Aliaces"
   ]
  },
  {
   "cell_type": "code",
   "execution_count": 9,
   "id": "a90da14d",
   "metadata": {},
   "outputs": [],
   "source": [
    "# type alias\n",
    "Key = Any\n",
    "\n",
    "Scalar = jnp.double\n",
    "Vector = jnp.ndarray\n",
    "Matrix = jnp.ndarray\n",
    "Tensor = jnp.ndarray\n",
    "\n",
    "MPS = List[Tensor]"
   ]
  },
  {
   "cell_type": "markdown",
   "id": "9462d629",
   "metadata": {},
   "source": [
    "# Constants"
   ]
  },
  {
   "cell_type": "code",
   "execution_count": 10,
   "id": "c4831051",
   "metadata": {},
   "outputs": [],
   "source": [
    "seed = 314          # the random seed\n",
    "bond_dim = 20       # the paper mentions 10, 20 and 120\n",
    "                    # WARNING: to avoid unnecessary truncation, set bond_dim>=num_classes\n",
    "α = 1e-4            # learning rate\n",
    "ε = 1e-1            # the allowed truncation error\n",
    "num_sweeps = 1      # number of sweeps\n",
    "train_size = 20000  # training set size"
   ]
  },
  {
   "cell_type": "markdown",
   "id": "fd1aa8ec",
   "metadata": {},
   "source": [
    "# PRN Key"
   ]
  },
  {
   "cell_type": "code",
   "execution_count": 11,
   "id": "5b105cd8",
   "metadata": {},
   "outputs": [],
   "source": [
    "key = jax.random.PRNGKey(seed=seed)"
   ]
  },
  {
   "cell_type": "markdown",
   "id": "39226049",
   "metadata": {},
   "source": [
    "# Load data and visualise"
   ]
  },
  {
   "cell_type": "code",
   "execution_count": 12,
   "id": "04241b2d",
   "metadata": {},
   "outputs": [],
   "source": [
    "train_images, train_labels, test_images, test_labels = datasets.mnist()"
   ]
  },
  {
   "cell_type": "code",
   "execution_count": 13,
   "id": "31df393a",
   "metadata": {},
   "outputs": [
    {
     "name": "stdout",
     "output_type": "stream",
     "text": [
      "Train data shape: (60000, 784) | Test data shape: (10000, 784)\n"
     ]
    }
   ],
   "source": [
    "print(f'Train data shape: {train_images.shape} | Test data shape: {test_images.shape}')"
   ]
  },
  {
   "cell_type": "markdown",
   "id": "2420bc94",
   "metadata": {},
   "source": [
    "Subsample data to reduce numerical cost."
   ]
  },
  {
   "cell_type": "code",
   "execution_count": 14,
   "id": "74a4719e",
   "metadata": {},
   "outputs": [],
   "source": [
    "def subsample_data(key, data, amount):\n",
    "    \"\"\"A helper to sub-sample data\"\"\"\n",
    "    samples, labels = data        \n",
    "    new_key, _ = jax.random.split(key)\n",
    "    idx = jnp.arange(labels.shape[0])\n",
    "    perm = jax.random.permutation(new_key, idx)\n",
    "    return samples[perm][:amount], labels[perm][:amount]\n",
    "\n",
    "train_images, train_labels = subsample_data(key, data=(train_images, train_labels), amount=train_size)"
   ]
  },
  {
   "cell_type": "code",
   "execution_count": 15,
   "id": "308302f6",
   "metadata": {},
   "outputs": [
    {
     "name": "stdout",
     "output_type": "stream",
     "text": [
      "Train data shape: (20000, 784) | Test data shape: (10000, 784)\n"
     ]
    }
   ],
   "source": [
    "print(f'Train data shape: {train_images.shape} | Test data shape: {test_images.shape}')"
   ]
  },
  {
   "cell_type": "code",
   "execution_count": 16,
   "id": "3233b067",
   "metadata": {},
   "outputs": [
    {
     "data": {
      "image/svg+xml": "<?xml version=\"1.0\" encoding=\"utf-8\" standalone=\"no\"?>\n<!DOCTYPE svg PUBLIC \"-//W3C//DTD SVG 1.1//EN\"\n  \"http://www.w3.org/Graphics/SVG/1.1/DTD/svg11.dtd\">\n<svg xmlns:xlink=\"http://www.w3.org/1999/xlink\" width=\"265.023529pt\" height=\"276.718594pt\" viewBox=\"0 0 265.023529 276.718594\" xmlns=\"http://www.w3.org/2000/svg\" version=\"1.1\">\n <metadata>\n  <rdf:RDF xmlns:dc=\"http://purl.org/dc/elements/1.1/\" xmlns:cc=\"http://creativecommons.org/ns#\" xmlns:rdf=\"http://www.w3.org/1999/02/22-rdf-syntax-ns#\">\n   <cc:Work>\n    <dc:type rdf:resource=\"http://purl.org/dc/dcmitype/StillImage\"/>\n    <dc:date>2022-05-07T21:15:05.801373</dc:date>\n    <dc:format>image/svg+xml</dc:format>\n    <dc:creator>\n     <cc:Agent>\n      <dc:title>Matplotlib v3.5.2, https://matplotlib.org/</dc:title>\n     </cc:Agent>\n    </dc:creator>\n   </cc:Work>\n  </rdf:RDF>\n </metadata>\n <defs>\n  <style type=\"text/css\">*{stroke-linejoin: round; stroke-linecap: butt}</style>\n </defs>\n <g id=\"figure_1\">\n  <g id=\"patch_1\">\n   <path d=\"M 0 276.718594 \nL 265.023529 276.718594 \nL 265.023529 0 \nL 0 0 \nz\n\" style=\"fill: #ffffff\"/>\n  </g>\n  <g id=\"axes_1\">\n   <g id=\"patch_2\">\n    <path d=\"M 7.2 93.415064 \nL 80.576471 93.415064 \nL 80.576471 20.038594 \nL 7.2 20.038594 \nz\n\" style=\"fill: #eeeeee\"/>\n   </g>\n   <g clip-path=\"url(#pc3801880ab)\">\n    <image xlink:href=\"data:image/png;base64,\niVBORw0KGgoAAAANSUhEUgAAAGYAAABmCAYAAAA53+RiAAACT0lEQVR4nO3bMYriYBiA4VUGrB20UQRtrLyBJ7C1F/Ek2noJSw+hN/AAYmFlYSEeQXS74B92dkBN8v7hfaqENN/yzpc4WafyeDwef4RTLXoA/ZthoAwDZRgow0AZBsowUIaBMgyUYaAMA2UYKMNAGQbqq+gBPul2uwXn8/k8OV4ul8G1/X4fnPf7/ewGe4EbA2UYqFLdyk6nU3D+fPuaTCbBte/v71xmepUbA2UYKMNAleoZs16vf7y2WCyC80ajkfE073FjoAwDZRioUj1jzudzcP78JdN6vZ73OG9xY6AMA1WJ+Uvll8slOG+1WsH5cDhMjjebTXCtVqtlN9gHuDFQhoEyDFTUH5dXq9V/rw8Gg+SY/kxJc2OgDAMV9a3sN9PptOgRXubGQBkGyjBQpXrGpN8uNZvNgiZ5nxsDZRgow0CV6hlTqVSKHuFj3Bgow0AZBsowUIaBMgxU1B+XD4dD0SNkxo2BMgyUYaCi/iZmtRr+XKVfyRyPx+S41+vlMtOnuDFQhoGK+uNy+tY1Go2C89huX8/cGCjDQBkGyjBQhoEyDJRhoKL7PeZ6vRY9Qi7cGCjDQEV3K9tut8lx+sX4/X7Pe5zMuDFQhoEyDFR0z5jxeJwcp1/7p/9HM2bl+ZeUjGGgDAMV3TNmt9sVPUIu3Bgow0BFdyvrdrs/XpvNZvkNkjE3BsowUIaBiu4Z0+l0kuP0a/52u533OJlxY6AMAxXdrexZxH/a8ys3BsowUIaBMgyUYaAMA2UYKMNAGQbKMFCGgTIMlGGgDAP1F0DMTwH/lQx2AAAAAElFTkSuQmCC\" id=\"imageb08ccc298d\" transform=\"scale(1 -1)translate(0 -73.44)\" x=\"7.2\" y=\"-19.975064\" width=\"73.44\" height=\"73.44\"/>\n   </g>\n   <g id=\"matplotlib.axis_1\"/>\n   <g id=\"matplotlib.axis_2\"/>\n   <g id=\"patch_3\">\n    <path d=\"M 7.2 93.415064 \nL 7.2 20.038594 \n\" style=\"fill: none; stroke: #bcbcbc; stroke-width: 0.8; stroke-linejoin: miter; stroke-linecap: square\"/>\n   </g>\n   <g id=\"patch_4\">\n    <path d=\"M 80.576471 93.415064 \nL 80.576471 20.038594 \n\" style=\"fill: none; stroke: #bcbcbc; stroke-width: 0.8; stroke-linejoin: miter; stroke-linecap: square\"/>\n   </g>\n   <g id=\"patch_5\">\n    <path d=\"M 7.2 93.415064 \nL 80.576471 93.415064 \n\" style=\"fill: none; stroke: #bcbcbc; stroke-width: 0.8; stroke-linejoin: miter; stroke-linecap: square\"/>\n   </g>\n   <g id=\"patch_6\">\n    <path d=\"M 7.2 20.038594 \nL 80.576471 20.038594 \n\" style=\"fill: none; stroke: #bcbcbc; stroke-width: 0.8; stroke-linejoin: miter; stroke-linecap: square\"/>\n   </g>\n   <g id=\"text_1\">\n    <!-- label: 1 -->\n    <g transform=\"translate(27.195345 14.038594)scale(0.09 -0.09)\">\n     <defs>\n      <path id=\"DejaVuSans-6c\" d=\"M 603 4863 \nL 1178 4863 \nL 1178 0 \nL 603 0 \nL 603 4863 \nz\n\" transform=\"scale(0.015625)\"/>\n      <path id=\"DejaVuSans-61\" d=\"M 2194 1759 \nQ 1497 1759 1228 1600 \nQ 959 1441 959 1056 \nQ 959 750 1161 570 \nQ 1363 391 1709 391 \nQ 2188 391 2477 730 \nQ 2766 1069 2766 1631 \nL 2766 1759 \nL 2194 1759 \nz\nM 3341 1997 \nL 3341 0 \nL 2766 0 \nL 2766 531 \nQ 2569 213 2275 61 \nQ 1981 -91 1556 -91 \nQ 1019 -91 701 211 \nQ 384 513 384 1019 \nQ 384 1609 779 1909 \nQ 1175 2209 1959 2209 \nL 2766 2209 \nL 2766 2266 \nQ 2766 2663 2505 2880 \nQ 2244 3097 1772 3097 \nQ 1472 3097 1187 3025 \nQ 903 2953 641 2809 \nL 641 3341 \nQ 956 3463 1253 3523 \nQ 1550 3584 1831 3584 \nQ 2591 3584 2966 3190 \nQ 3341 2797 3341 1997 \nz\n\" transform=\"scale(0.015625)\"/>\n      <path id=\"DejaVuSans-62\" d=\"M 3116 1747 \nQ 3116 2381 2855 2742 \nQ 2594 3103 2138 3103 \nQ 1681 3103 1420 2742 \nQ 1159 2381 1159 1747 \nQ 1159 1113 1420 752 \nQ 1681 391 2138 391 \nQ 2594 391 2855 752 \nQ 3116 1113 3116 1747 \nz\nM 1159 2969 \nQ 1341 3281 1617 3432 \nQ 1894 3584 2278 3584 \nQ 2916 3584 3314 3078 \nQ 3713 2572 3713 1747 \nQ 3713 922 3314 415 \nQ 2916 -91 2278 -91 \nQ 1894 -91 1617 61 \nQ 1341 213 1159 525 \nL 1159 0 \nL 581 0 \nL 581 4863 \nL 1159 4863 \nL 1159 2969 \nz\n\" transform=\"scale(0.015625)\"/>\n      <path id=\"DejaVuSans-65\" d=\"M 3597 1894 \nL 3597 1613 \nL 953 1613 \nQ 991 1019 1311 708 \nQ 1631 397 2203 397 \nQ 2534 397 2845 478 \nQ 3156 559 3463 722 \nL 3463 178 \nQ 3153 47 2828 -22 \nQ 2503 -91 2169 -91 \nQ 1331 -91 842 396 \nQ 353 884 353 1716 \nQ 353 2575 817 3079 \nQ 1281 3584 2069 3584 \nQ 2775 3584 3186 3129 \nQ 3597 2675 3597 1894 \nz\nM 3022 2063 \nQ 3016 2534 2758 2815 \nQ 2500 3097 2075 3097 \nQ 1594 3097 1305 2825 \nQ 1016 2553 972 2059 \nL 3022 2063 \nz\n\" transform=\"scale(0.015625)\"/>\n      <path id=\"DejaVuSans-3a\" d=\"M 750 794 \nL 1409 794 \nL 1409 0 \nL 750 0 \nL 750 794 \nz\nM 750 3309 \nL 1409 3309 \nL 1409 2516 \nL 750 2516 \nL 750 3309 \nz\n\" transform=\"scale(0.015625)\"/>\n      <path id=\"DejaVuSans-20\" transform=\"scale(0.015625)\"/>\n      <path id=\"DejaVuSans-31\" d=\"M 794 531 \nL 1825 531 \nL 1825 4091 \nL 703 3866 \nL 703 4441 \nL 1819 4666 \nL 2450 4666 \nL 2450 531 \nL 3481 531 \nL 3481 0 \nL 794 0 \nL 794 531 \nz\n\" transform=\"scale(0.015625)\"/>\n     </defs>\n     <use xlink:href=\"#DejaVuSans-6c\"/>\n     <use xlink:href=\"#DejaVuSans-61\" x=\"27.783203\"/>\n     <use xlink:href=\"#DejaVuSans-62\" x=\"89.0625\"/>\n     <use xlink:href=\"#DejaVuSans-65\" x=\"152.539062\"/>\n     <use xlink:href=\"#DejaVuSans-6c\" x=\"214.0625\"/>\n     <use xlink:href=\"#DejaVuSans-3a\" x=\"241.845703\"/>\n     <use xlink:href=\"#DejaVuSans-20\" x=\"275.537109\"/>\n     <use xlink:href=\"#DejaVuSans-31\" x=\"307.324219\"/>\n    </g>\n   </g>\n  </g>\n  <g id=\"axes_2\">\n   <g id=\"patch_7\">\n    <path d=\"M 95.823529 93.415064 \nL 169.2 93.415064 \nL 169.2 20.038594 \nL 95.823529 20.038594 \nz\n\" style=\"fill: #eeeeee\"/>\n   </g>\n   <g clip-path=\"url(#p0704337366)\">\n    <image xlink:href=\"data:image/png;base64,\niVBORw0KGgoAAAANSUhEUgAAAGYAAABmCAYAAAA53+RiAAADo0lEQVR4nO2dz0sqURiGx9sNiha1irZBBm50FUQRUf0DQRCGK12EQruI2lQQtLegfyCIhCCiXIe4rRaCilKQiJuQokVBCeLdHeabe+3OnWZOb973WX0vxzNz4OGbUzP+8LVarZZB4Pjx1Qsgf4ZiQKEYUCgGFIoBhWJA+anjJI+PjyJfX1+LfHh4qOpUKmX7uJOTkyJfXFyI3N/fb/tYaLBjQKEYUCgGFJ+OWzKZTEbkubk5T84zOzsr8tnZmar7+vo8OadXsGNAoRhQKAYULXtMvV4XOZvN2p67u7srci6Xsz3XvJedn5+LsZ6eHtvH+QrYMaBQDChaLmWfodlsiry3t6fqtbU128d5enoSGf12DTsGFIoBhWJAgd9jrDw/P6va7/eLMes+YmZ7e1vkra0tV9flNuwYUCgGFIoBRcujZTepVquqfn9/tz2vXC57sRzPYMeAQjGgwF/KGo2GyAcHB6p+fX3VvRxtsGNAoRhQKAYU+D3G5/OJ7PTJ4/r6uhvL0QY7BhSKAQX+Utbd3S3yyMiIo+Pc3t6KHAwGHa9JB+wYUCgGFIoB5ds9wTTfUR4eHhZjDw8PbeeFw2GRj46O3F2Yy7BjQKEYUCgGlG+3x5gxf6jWMAwjkUiI/Pb2puqhoSExtrCwIPL+/r7Lq/sc7BhQKAaUb30ps2L9nP/8/Hzb1/b29op8dXWl6kAg4Oq6nMCOAYViQKEYUDpqjzH/eWwYhjE2NqbqYrH44dx4PK7qZDIpxqyPHnTAjgGFYkChGFA6ao+xYn4MMDExIcYqlUrbeTs7OyJvbGyouqury53F/QV2DCgUA0pHX8rM5PN5kUOhkO25l5eXqp6ennZtTR/BjgGFYkChGFC0vBPT+nW+y8vLIsdiMVUvLi6KscHBQVfWMDo6KvLS0pLIx8fHbecWCgVVc4/5z6EYUCgGFC3/x1jfBXlyctL2tdZ380ejUZGnpqZUfXp66nhN6XRa5Lu7u7avNT+Gfnl5cXzOf4EdAwrFgNJR31TuFZFIRNXWNxl6BTsGFIoBhWJA0XJLZnx8XOSVlRWRzb9aUavVdCzpQ6zrXV1d1b4GdgwoFAMKxYAC8Wj5/v5e1aVSSYxtbm6KfHNzo2rr98wMDAyI7PQDsDMzMyJ/xS9nsGNAoRhQIC5l5HfYMaBQDCgUAwrFgEIxoFAMKBQDCsWAQjGgUAwoFAMKxYBCMaBQDCgUAwrFgEIxoFAMKBQDCsWAQjGg/AI1c+eluWoR+AAAAABJRU5ErkJggg==\" id=\"image4b7de86989\" transform=\"scale(1 -1)translate(0 -73.44)\" x=\"95.823529\" y=\"-19.975064\" width=\"73.44\" height=\"73.44\"/>\n   </g>\n   <g id=\"matplotlib.axis_3\"/>\n   <g id=\"matplotlib.axis_4\"/>\n   <g id=\"patch_8\">\n    <path d=\"M 95.823529 93.415064 \nL 95.823529 20.038594 \n\" style=\"fill: none; stroke: #bcbcbc; stroke-width: 0.8; stroke-linejoin: miter; stroke-linecap: square\"/>\n   </g>\n   <g id=\"patch_9\">\n    <path d=\"M 169.2 93.415064 \nL 169.2 20.038594 \n\" style=\"fill: none; stroke: #bcbcbc; stroke-width: 0.8; stroke-linejoin: miter; stroke-linecap: square\"/>\n   </g>\n   <g id=\"patch_10\">\n    <path d=\"M 95.823529 93.415064 \nL 169.2 93.415064 \n\" style=\"fill: none; stroke: #bcbcbc; stroke-width: 0.8; stroke-linejoin: miter; stroke-linecap: square\"/>\n   </g>\n   <g id=\"patch_11\">\n    <path d=\"M 95.823529 20.038594 \nL 169.2 20.038594 \n\" style=\"fill: none; stroke: #bcbcbc; stroke-width: 0.8; stroke-linejoin: miter; stroke-linecap: square\"/>\n   </g>\n   <g id=\"text_2\">\n    <!-- label: 3 -->\n    <g transform=\"translate(115.818874 14.038594)scale(0.09 -0.09)\">\n     <defs>\n      <path id=\"DejaVuSans-33\" d=\"M 2597 2516 \nQ 3050 2419 3304 2112 \nQ 3559 1806 3559 1356 \nQ 3559 666 3084 287 \nQ 2609 -91 1734 -91 \nQ 1441 -91 1130 -33 \nQ 819 25 488 141 \nL 488 750 \nQ 750 597 1062 519 \nQ 1375 441 1716 441 \nQ 2309 441 2620 675 \nQ 2931 909 2931 1356 \nQ 2931 1769 2642 2001 \nQ 2353 2234 1838 2234 \nL 1294 2234 \nL 1294 2753 \nL 1863 2753 \nQ 2328 2753 2575 2939 \nQ 2822 3125 2822 3475 \nQ 2822 3834 2567 4026 \nQ 2313 4219 1838 4219 \nQ 1578 4219 1281 4162 \nQ 984 4106 628 3988 \nL 628 4550 \nQ 988 4650 1302 4700 \nQ 1616 4750 1894 4750 \nQ 2613 4750 3031 4423 \nQ 3450 4097 3450 3541 \nQ 3450 3153 3228 2886 \nQ 3006 2619 2597 2516 \nz\n\" transform=\"scale(0.015625)\"/>\n     </defs>\n     <use xlink:href=\"#DejaVuSans-6c\"/>\n     <use xlink:href=\"#DejaVuSans-61\" x=\"27.783203\"/>\n     <use xlink:href=\"#DejaVuSans-62\" x=\"89.0625\"/>\n     <use xlink:href=\"#DejaVuSans-65\" x=\"152.539062\"/>\n     <use xlink:href=\"#DejaVuSans-6c\" x=\"214.0625\"/>\n     <use xlink:href=\"#DejaVuSans-3a\" x=\"241.845703\"/>\n     <use xlink:href=\"#DejaVuSans-20\" x=\"275.537109\"/>\n     <use xlink:href=\"#DejaVuSans-33\" x=\"307.324219\"/>\n    </g>\n   </g>\n  </g>\n  <g id=\"axes_3\">\n   <g id=\"patch_12\">\n    <path d=\"M 184.447059 93.415064 \nL 257.823529 93.415064 \nL 257.823529 20.038594 \nL 184.447059 20.038594 \nz\n\" style=\"fill: #eeeeee\"/>\n   </g>\n   <g clip-path=\"url(#p687ec1be8a)\">\n    <image xlink:href=\"data:image/png;base64,\niVBORw0KGgoAAAANSUhEUgAAAGYAAABmCAYAAAA53+RiAAAD+ElEQVR4nO2cTygtcRTHz0XIgpV/ISskC0XZIGyFUqQsLKwkVrKTpCRKWSkrCxZWFpIFYkcpJWUhFjZKsfAn7Ny3ee+83/k9l8szM9/e+35W53TuvXP0cWbmzvzuxOLxeFwIHClRN0DehmJAoRhQKAYUigGFYkChGFAoBhSKAYViQKEYUCgGFIoBhWJAoRhQKAYUigElLeoGRESenp40rq+vN7WTk5OkP8e/GRuLxZJ+797ensZNTU1Jvy8oODGgUAwoFANKDGGVzPn5ucYVFRWmlpmZafLe3l6N+/r6TO329tbky8vLGu/s7Jiae1wTEUlJ+f0/ur29bWotLS0Jew8KTgwoFAMKxYACd4zp6OgwtbW1NZNXVlZ+aRt3d3cm393dNXl3d7fGWVlZpnZ1daVxdnb2l7b/WTgxoFAMKBC7svv7e42vr69NzT99Dgr3NHx1ddXUzs7ONC4rKwulH04MKBQDCsWAAnHZPycn5804SF5eXky+ubkZynaThRMDCsWAEsmuzD09FhGZnZ3VuLOz09QKCgpMXlxc/C09DA8Pm/zh4UFj/9t9YWHht2zzM3BiQKEYUCgGlEguySwsLJh8aGgo4WvdO4siIhkZGRq3t7ebmr+6xf3TlpaWTO3o6CjhNtfX103e1taW8LVBwYkBhWJAoRhQIjnGHB8fm7ympibsFiQtzX6Fm5+f13hwcDDkbv6EEwMKxYASya7MvfwhIlJaWqqxf7lmZGTE5O4CwJWVFVPz3+su6uvp6TG1qakpk5eUlHzUdqhwYkChGFAoBhSIVTKTk5MaT0xMmNrGxobJW1tbE37O4+OjyZ+fnzXOz8//iw7DhxMDCsWAQjGgQBxj3vvh0sDAgMn9Wwb/KpwYUCgGFIgFf++xv78fdQuRwIkBhWJAoRhQ4I8x/rNkGhoaNPYv31RXV5s8Nzc3sL6ChhMDCsWAQjGgQFyScVsYHx83tenpaZO/vr4m/Bz3FrWIffaZv4K/q6vL5M3NzRr7qz+jIPoOyJtQDCgQu7L3cB8XImIXgx8cHJja4eGhyd3HKX7E4uKixv39/aaWmpqa9Od8F5wYUCgGFIoBBf4Y8xn8lZgXFxcaz8zMmNrW1pbJ3dWh/iOz3FPpsODEgEIxoFAMKP/UMeYzXF5emry2tlZj/9cIp6enGpeXlwfa1y84MaBQDCj/7a7MZ25uTuPR0VFTq6qq0th/PkB6enog/XBiQKEYUCgGFPhVMmHR2NiocV5enqm5p8s3NzemVlRUFEg/nBhQKAYU7sp+UldXp7F/53NsbEzjsL5dcGJAoRhQKAYUXpIBhRMDCsWAQjGgUAwoFAMKxYBCMaBQDCgUAwrFgPIDVf8NNAMClIgAAAAASUVORK5CYII=\" id=\"image0f6bf96cc2\" transform=\"scale(1 -1)translate(0 -73.44)\" x=\"184.447059\" y=\"-19.975064\" width=\"73.44\" height=\"73.44\"/>\n   </g>\n   <g id=\"matplotlib.axis_5\"/>\n   <g id=\"matplotlib.axis_6\"/>\n   <g id=\"patch_13\">\n    <path d=\"M 184.447059 93.415064 \nL 184.447059 20.038594 \n\" style=\"fill: none; stroke: #bcbcbc; stroke-width: 0.8; stroke-linejoin: miter; stroke-linecap: square\"/>\n   </g>\n   <g id=\"patch_14\">\n    <path d=\"M 257.823529 93.415064 \nL 257.823529 20.038594 \n\" style=\"fill: none; stroke: #bcbcbc; stroke-width: 0.8; stroke-linejoin: miter; stroke-linecap: square\"/>\n   </g>\n   <g id=\"patch_15\">\n    <path d=\"M 184.447059 93.415064 \nL 257.823529 93.415064 \n\" style=\"fill: none; stroke: #bcbcbc; stroke-width: 0.8; stroke-linejoin: miter; stroke-linecap: square\"/>\n   </g>\n   <g id=\"patch_16\">\n    <path d=\"M 184.447059 20.038594 \nL 257.823529 20.038594 \n\" style=\"fill: none; stroke: #bcbcbc; stroke-width: 0.8; stroke-linejoin: miter; stroke-linecap: square\"/>\n   </g>\n   <g id=\"text_3\">\n    <!-- label: 5 -->\n    <g transform=\"translate(204.442403 14.038594)scale(0.09 -0.09)\">\n     <defs>\n      <path id=\"DejaVuSans-35\" d=\"M 691 4666 \nL 3169 4666 \nL 3169 4134 \nL 1269 4134 \nL 1269 2991 \nQ 1406 3038 1543 3061 \nQ 1681 3084 1819 3084 \nQ 2600 3084 3056 2656 \nQ 3513 2228 3513 1497 \nQ 3513 744 3044 326 \nQ 2575 -91 1722 -91 \nQ 1428 -91 1123 -41 \nQ 819 9 494 109 \nL 494 744 \nQ 775 591 1075 516 \nQ 1375 441 1709 441 \nQ 2250 441 2565 725 \nQ 2881 1009 2881 1497 \nQ 2881 1984 2565 2268 \nQ 2250 2553 1709 2553 \nQ 1456 2553 1204 2497 \nQ 953 2441 691 2322 \nL 691 4666 \nz\n\" transform=\"scale(0.015625)\"/>\n     </defs>\n     <use xlink:href=\"#DejaVuSans-6c\"/>\n     <use xlink:href=\"#DejaVuSans-61\" x=\"27.783203\"/>\n     <use xlink:href=\"#DejaVuSans-62\" x=\"89.0625\"/>\n     <use xlink:href=\"#DejaVuSans-65\" x=\"152.539062\"/>\n     <use xlink:href=\"#DejaVuSans-6c\" x=\"214.0625\"/>\n     <use xlink:href=\"#DejaVuSans-3a\" x=\"241.845703\"/>\n     <use xlink:href=\"#DejaVuSans-20\" x=\"275.537109\"/>\n     <use xlink:href=\"#DejaVuSans-35\" x=\"307.324219\"/>\n    </g>\n   </g>\n  </g>\n  <g id=\"axes_4\">\n   <g id=\"patch_17\">\n    <path d=\"M 7.2 181.466829 \nL 80.576471 181.466829 \nL 80.576471 108.090358 \nL 7.2 108.090358 \nz\n\" style=\"fill: #eeeeee\"/>\n   </g>\n   <g clip-path=\"url(#p1a1585724d)\">\n    <image xlink:href=\"data:image/png;base64,\niVBORw0KGgoAAAANSUhEUgAAAGYAAABmCAYAAAA53+RiAAAEb0lEQVR4nO2cyytuURjG96eDfwAZkCjXDJgoFCUjGTBjpBTKvUgoA0kGJJQUQspMGIgJYmCCmYSUgZSSWxm45HJm66x3dexvf9f9nNPzG71P77bXqse71tdaey3P9/f3t0XgiHC7A+Tv0BhQaAwoNAYUGgMKjQGFxoBCY0ChMaDQGFB+ud0Bb1xcXAg9Ozur4pGREcfvGR8fF7qhoUFofWUqKirKly6GBFYMKDQGFBoDigdt2X94eFhocx65u7sLSjv5+flCz8/Pqzg1NTUobQQCKwYUGgOKK0PZw8OD0CUlJSo+Pj62/duIiD//SwkJCSJ3dXXld5/a2tpUPDo66vd7ggUrBhQaAwqNAcWVJZmuri6h7eaVxsZGoZubm1WclJQkcpeXl0Jvb2+reHV1VeT29vaE/vj4sOlx+GHFgEJjQKExoLgyxzw+Pjp+NiMjQ+j09PQfn83KyvpRp6Wlidz5+bnQfX19jvsUDlgxoNAYUFwZyvLy8oReW1v78VkzV19fr+LIyEjbds7OzlQ8ODgocq2trULHxsbavivcsGJAoTGg0BhQXJljfPkKZWdnR2h9bpiamhK519dXoVtaWlR8eHgocuayEBqsGFBoDCiu7GC+vb0JXVxcrGJzyDHRh8G6ujqRW1paEvrp6UnFExMTItfU1OSor27BigGFxoBCY0Bx5edydHS00BUVFSr2Nse8v7+reHJy0vZZffdTX8r5F2DFgEJjQKExoEAcXOru7laxecDo9vbW7/fq8xHYt/NeYcWAQmNAgRjKTk9PVWx+cB4I+nnNzMxMkWtvbw9aO6GAFQMKjQGFxoDiyrL/5+en0PqSzMbGhsiVlZUJrX+4NzY25rhN/cCTZVlWbW2t0AMDAyqOiYmx/dtwwIoBhcaAQmNAcWWOub+/FzouLu7HZw8ODoTOzc1V8f7+vsjpc5Vlya1lXxgaGhK6srJSxeG6A4AVAwqNAcWVJZnFxUXHz25tbQmtD2U5OTkiV1NTI/Tc3JyKn5+fHbfZ09MjtH52Jj4+XuR2d3eFTk5OdtyOHawYUGgMKDQGFFfmGH1n0Ru9vb1C61sECwsLImfeAVNYWKhic2fU/Klth34HwPX1tcgVFBQIXV5eruKZmRnHbZiwYkChMaDQGFBcWZK5ubkROiUlRcXe5h+Px6PixMREkTPH++rqahW/vLyIXFVVlbPOesE8hNXf36/iQA5HsWJAoTGgQNwi29HRoWJfdiXdwBy69J1Py7Kszs7OoLTDigGFxoBCY0CBmGP0n8jm0v3y8rLQX19fYemTjv6VzObmpsiVlpaGps2QvJUEDI0BhcaAAjHH2KHfOWZZcsnDvM736OgoKG2ah3fX19dVrF93H0pYMaDQGFDghzI7zJVo87zm9PS0ik9OTkRuZWVF6OzsbBWb9wcUFRUF1E9/YMWAQmNAoTGg/NNzzP8MKwYUGgMKjQGFxoBCY0ChMaDQGFBoDCg0BhQaAwqNAYXGgEJjQKExoNAYUGgMKDQGlN8WyjTNyatDwQAAAABJRU5ErkJggg==\" id=\"image43c19fc223\" transform=\"scale(1 -1)translate(0 -73.44)\" x=\"7.2\" y=\"-108.026829\" width=\"73.44\" height=\"73.44\"/>\n   </g>\n   <g id=\"matplotlib.axis_7\"/>\n   <g id=\"matplotlib.axis_8\"/>\n   <g id=\"patch_18\">\n    <path d=\"M 7.2 181.466829 \nL 7.2 108.090358 \n\" style=\"fill: none; stroke: #bcbcbc; stroke-width: 0.8; stroke-linejoin: miter; stroke-linecap: square\"/>\n   </g>\n   <g id=\"patch_19\">\n    <path d=\"M 80.576471 181.466829 \nL 80.576471 108.090358 \n\" style=\"fill: none; stroke: #bcbcbc; stroke-width: 0.8; stroke-linejoin: miter; stroke-linecap: square\"/>\n   </g>\n   <g id=\"patch_20\">\n    <path d=\"M 7.2 181.466829 \nL 80.576471 181.466829 \n\" style=\"fill: none; stroke: #bcbcbc; stroke-width: 0.8; stroke-linejoin: miter; stroke-linecap: square\"/>\n   </g>\n   <g id=\"patch_21\">\n    <path d=\"M 7.2 108.090358 \nL 80.576471 108.090358 \n\" style=\"fill: none; stroke: #bcbcbc; stroke-width: 0.8; stroke-linejoin: miter; stroke-linecap: square\"/>\n   </g>\n   <g id=\"text_4\">\n    <!-- label: 8 -->\n    <g transform=\"translate(27.195345 102.090358)scale(0.09 -0.09)\">\n     <defs>\n      <path id=\"DejaVuSans-38\" d=\"M 2034 2216 \nQ 1584 2216 1326 1975 \nQ 1069 1734 1069 1313 \nQ 1069 891 1326 650 \nQ 1584 409 2034 409 \nQ 2484 409 2743 651 \nQ 3003 894 3003 1313 \nQ 3003 1734 2745 1975 \nQ 2488 2216 2034 2216 \nz\nM 1403 2484 \nQ 997 2584 770 2862 \nQ 544 3141 544 3541 \nQ 544 4100 942 4425 \nQ 1341 4750 2034 4750 \nQ 2731 4750 3128 4425 \nQ 3525 4100 3525 3541 \nQ 3525 3141 3298 2862 \nQ 3072 2584 2669 2484 \nQ 3125 2378 3379 2068 \nQ 3634 1759 3634 1313 \nQ 3634 634 3220 271 \nQ 2806 -91 2034 -91 \nQ 1263 -91 848 271 \nQ 434 634 434 1313 \nQ 434 1759 690 2068 \nQ 947 2378 1403 2484 \nz\nM 1172 3481 \nQ 1172 3119 1398 2916 \nQ 1625 2713 2034 2713 \nQ 2441 2713 2670 2916 \nQ 2900 3119 2900 3481 \nQ 2900 3844 2670 4047 \nQ 2441 4250 2034 4250 \nQ 1625 4250 1398 4047 \nQ 1172 3844 1172 3481 \nz\n\" transform=\"scale(0.015625)\"/>\n     </defs>\n     <use xlink:href=\"#DejaVuSans-6c\"/>\n     <use xlink:href=\"#DejaVuSans-61\" x=\"27.783203\"/>\n     <use xlink:href=\"#DejaVuSans-62\" x=\"89.0625\"/>\n     <use xlink:href=\"#DejaVuSans-65\" x=\"152.539062\"/>\n     <use xlink:href=\"#DejaVuSans-6c\" x=\"214.0625\"/>\n     <use xlink:href=\"#DejaVuSans-3a\" x=\"241.845703\"/>\n     <use xlink:href=\"#DejaVuSans-20\" x=\"275.537109\"/>\n     <use xlink:href=\"#DejaVuSans-38\" x=\"307.324219\"/>\n    </g>\n   </g>\n  </g>\n  <g id=\"axes_5\">\n   <g id=\"patch_22\">\n    <path d=\"M 95.823529 181.466829 \nL 169.2 181.466829 \nL 169.2 108.090358 \nL 95.823529 108.090358 \nz\n\" style=\"fill: #eeeeee\"/>\n   </g>\n   <g clip-path=\"url(#p70d5482d08)\">\n    <image xlink:href=\"data:image/png;base64,\niVBORw0KGgoAAAANSUhEUgAAAGYAAABmCAYAAAA53+RiAAADs0lEQVR4nO2cPUsjURiFEwmIaBQbhRSCgkQRbbWw0jqI2IiIFhaCltFGRCt7idqZMkQUgulS+QdExEYQsTAprESJohDEbLNc5tzdfMxssp7oear38A4zQ57cucOdSfzFYrHoE3Q0ffUJiL8jMaRIDCkSQ4rEkCIxpEgMKRJDisSQIjGkSAwpEkOKxJAiMaRIDCkSQ4rEkCIxpEgMKRJDisSQEnCz8cfHB+Sbm5uS215fX5v69PQUevaLOX6/381pGCYmJiCPjY1B7uvrM3VLS4unY3wVGjGkSAwpEkOK382bmGtra5B3d3c9HbRWc0yl/QwODpq6s7MTeisrK5BnZ2c9nUO90IghRWJIcXW73NraCtnr++ifn5+Qm5q8fT8q7cd5y27T1dUF2Xk7PTU15el8aolGDCkSQ4rEkOLqdrlQKEA+OTkpue3V1ZWpnUsjPp/PFwwGqz3kP3F3d2fqWCwGvefnZ8jd3d2mvr+/h14g4GoqrgkaMaRIDCmuLmWNzNPTE+Tt7W3IBwcHpl5aWoLe3t6eqZubm+twdn+iEUOKxJAiMaT8mDnGJpFIQF5YWDC1vUrtvPUfGhqq74n9RiOGFIkhRWJI+f9rDRV4fX2FfHFxUXLbgYEByM5llUo45w1GNGJIkRhS6C5lR0dHkJeXl0tua69St7e3V32ch4cHyM6nodFoFHrhcLjq/dYKjRhSJIYUiSGFbo55f3+HXO5lwJeXF8j2rbYbFhcXTb2+vg49PcEUBokhRWJIoZtjJicnIW9sbECOx+OmDoVC0Lu8vPR83Gw2a+pcLgc9N0s9tUIjhhSJIYX+CaZ9S+y8XN3e3kJvdHQUcjKZNPXZ2Rn0zs/PITs/ho6ODuitrq6aenNzE3r1emtGI4YUiSFFYkihn2NsnC98z83NQa+npwfy1taWqXt7e6G3s7MDOZPJmLrcbffh4SHk+fl5yLVavtGIIUViSJEYUhpujnFiP1p+e3uDPDIyYmr7PwpsUqmUqe3/vilHPp+HbP+A2CsaMaRIDCkNfSmbmZmBnE6nPe/L+TG4+QuV6elpyOV+l+oGjRhSJIYUiSGloecYe9l/fHwc8uPjY9X7qnaOGR4ehnx8fAy5v7+/6mOWQyOGFIkhRWJIaeg5xsZ+g39/f9/UbW1t0ItEIp6OYc8herT8w5AYUr7Vpew7oRFDisSQIjGkSAwpEkOKxJAiMaRIDCkSQ4rEkCIxpEgMKRJDisSQIjGkSAwpEkOKxJAiMaRIDCkSQ8ov5mzvdw3i7E4AAAAASUVORK5CYII=\" id=\"image927f3d12b8\" transform=\"scale(1 -1)translate(0 -73.44)\" x=\"95.823529\" y=\"-108.026829\" width=\"73.44\" height=\"73.44\"/>\n   </g>\n   <g id=\"matplotlib.axis_9\"/>\n   <g id=\"matplotlib.axis_10\"/>\n   <g id=\"patch_23\">\n    <path d=\"M 95.823529 181.466829 \nL 95.823529 108.090358 \n\" style=\"fill: none; stroke: #bcbcbc; stroke-width: 0.8; stroke-linejoin: miter; stroke-linecap: square\"/>\n   </g>\n   <g id=\"patch_24\">\n    <path d=\"M 169.2 181.466829 \nL 169.2 108.090358 \n\" style=\"fill: none; stroke: #bcbcbc; stroke-width: 0.8; stroke-linejoin: miter; stroke-linecap: square\"/>\n   </g>\n   <g id=\"patch_25\">\n    <path d=\"M 95.823529 181.466829 \nL 169.2 181.466829 \n\" style=\"fill: none; stroke: #bcbcbc; stroke-width: 0.8; stroke-linejoin: miter; stroke-linecap: square\"/>\n   </g>\n   <g id=\"patch_26\">\n    <path d=\"M 95.823529 108.090358 \nL 169.2 108.090358 \n\" style=\"fill: none; stroke: #bcbcbc; stroke-width: 0.8; stroke-linejoin: miter; stroke-linecap: square\"/>\n   </g>\n   <g id=\"text_5\">\n    <!-- label: 3 -->\n    <g transform=\"translate(115.818874 102.090358)scale(0.09 -0.09)\">\n     <use xlink:href=\"#DejaVuSans-6c\"/>\n     <use xlink:href=\"#DejaVuSans-61\" x=\"27.783203\"/>\n     <use xlink:href=\"#DejaVuSans-62\" x=\"89.0625\"/>\n     <use xlink:href=\"#DejaVuSans-65\" x=\"152.539062\"/>\n     <use xlink:href=\"#DejaVuSans-6c\" x=\"214.0625\"/>\n     <use xlink:href=\"#DejaVuSans-3a\" x=\"241.845703\"/>\n     <use xlink:href=\"#DejaVuSans-20\" x=\"275.537109\"/>\n     <use xlink:href=\"#DejaVuSans-33\" x=\"307.324219\"/>\n    </g>\n   </g>\n  </g>\n  <g id=\"axes_6\">\n   <g id=\"patch_27\">\n    <path d=\"M 184.447059 181.466829 \nL 257.823529 181.466829 \nL 257.823529 108.090358 \nL 184.447059 108.090358 \nz\n\" style=\"fill: #eeeeee\"/>\n   </g>\n   <g clip-path=\"url(#p3e9454a372)\">\n    <image xlink:href=\"data:image/png;base64,\niVBORw0KGgoAAAANSUhEUgAAAGYAAABmCAYAAAA53+RiAAADs0lEQVR4nO2cv0t6URjGj1kRSA21NDS5JDW1VHu/llqaBDVra46WlvoDGtqCiMaiaIloq1xCJGjQxUFJcBAjKCJwsCDbzve+h/Cb9x71qZ7P9D4cPPfCp/ccOB311Wq1miJwdLT7BcjXUAwoFAMKxYBCMaBQDCgUAwrFgEIxoFAMKBQDCsWAQjGgUAwoFAMKxYBCMaB02pqoWCyKnEwmXc2zuLgock9Pj+t3+smwY0ChGFAoBhRPe8zj46Ouw+GwGLu7u3M158XFhcizs7MiLy8vu5r3p8GOAYViQKEYUDztMaOjo7p+eXnx+i5KKaVOT0/rji8sLOi6r69PjHV1dVl5BwTYMaBQDCg+L5fK4/G4ro+Ojqy8UCPs7OyIHAqFRPb5fE1/B+dyrpRSg4ODVuZlx4BCMaBQDCie9pj7+3tdm+t7O/j4+BC5o6P5f3fT09MiHx4e6rq/v9/1vOwYUCgGFGv/wfyrXF1diew8AeFS9guhGFAoBhRPe0xvb6+ul5aWPL+MUkq9vb2JfHx8bGXeVpFKpXQdDAZdz8OOAYViQKEYUDwdyTSD9/d3kc095vz8XNdnZ2dizMuRzNTUlK4jkci3P1ePWCzm+rPsGFAoBhS4IxnzQsXk5KTIW1tbujaXLjM3wtjYmK69LEG2YMeAQjGgUAwoEHvM8/Ozrs2Lg36/X+RMJqPr7e1tMXZ5eSlyIxfbnRfkK5WKGAsEAt+exxbsGFAoBhSKAaUtRzLlclnklZUVXV9fX9f9bDQa1fXMzIwYm5iYENntzZ3V1VWRnXtZq76sy44BhWJAaclStra2JnI6nRb55ubGynPm5+dFNr/P6ZaHhwddDwwMWJnzf7BjQKEYUCgGlJYcyWSzWZELhUJTnuP876ZS9i6VO/eY7u5uMea8KWQTdgwoFAMKxYDSliOZfD4v8sHBwZe1Uo39fkArvrhk/pbN/v6+9WcoxY6BhWJAgbvwl0gkRJ6bm/v2Z5u1lDl/GsU8PhoZGbHyDBN2DCgUAwrFgAK3x5j7xNPTk8h7e3u63t3dFWPValXk19dXK+/U2fnv5Gp9fV2MbW5uimzrp7nYMaBQDCgUAwrcHuMF521KpZTa2NjQtXn7plQquXrG0NCQyCcnJyKPj4+7mteEHQMKxYDyq5ayetze3oqcy+VczTM8PCyyraXLhB0DCsWAQjGg/Jk95qfBjgGFYkChGFAoBhSKAYViQKEYUCgGFIoBhWJAoRhQKAYUigGFYkChGFAoBhSKAeUTNhXvbONbvFwAAAAASUVORK5CYII=\" id=\"image61408d4819\" transform=\"scale(1 -1)translate(0 -73.44)\" x=\"184.447059\" y=\"-108.026829\" width=\"73.44\" height=\"73.44\"/>\n   </g>\n   <g id=\"matplotlib.axis_11\"/>\n   <g id=\"matplotlib.axis_12\"/>\n   <g id=\"patch_28\">\n    <path d=\"M 184.447059 181.466829 \nL 184.447059 108.090358 \n\" style=\"fill: none; stroke: #bcbcbc; stroke-width: 0.8; stroke-linejoin: miter; stroke-linecap: square\"/>\n   </g>\n   <g id=\"patch_29\">\n    <path d=\"M 257.823529 181.466829 \nL 257.823529 108.090358 \n\" style=\"fill: none; stroke: #bcbcbc; stroke-width: 0.8; stroke-linejoin: miter; stroke-linecap: square\"/>\n   </g>\n   <g id=\"patch_30\">\n    <path d=\"M 184.447059 181.466829 \nL 257.823529 181.466829 \n\" style=\"fill: none; stroke: #bcbcbc; stroke-width: 0.8; stroke-linejoin: miter; stroke-linecap: square\"/>\n   </g>\n   <g id=\"patch_31\">\n    <path d=\"M 184.447059 108.090358 \nL 257.823529 108.090358 \n\" style=\"fill: none; stroke: #bcbcbc; stroke-width: 0.8; stroke-linejoin: miter; stroke-linecap: square\"/>\n   </g>\n   <g id=\"text_6\">\n    <!-- label: 2 -->\n    <g transform=\"translate(204.442403 102.090358)scale(0.09 -0.09)\">\n     <defs>\n      <path id=\"DejaVuSans-32\" d=\"M 1228 531 \nL 3431 531 \nL 3431 0 \nL 469 0 \nL 469 531 \nQ 828 903 1448 1529 \nQ 2069 2156 2228 2338 \nQ 2531 2678 2651 2914 \nQ 2772 3150 2772 3378 \nQ 2772 3750 2511 3984 \nQ 2250 4219 1831 4219 \nQ 1534 4219 1204 4116 \nQ 875 4013 500 3803 \nL 500 4441 \nQ 881 4594 1212 4672 \nQ 1544 4750 1819 4750 \nQ 2544 4750 2975 4387 \nQ 3406 4025 3406 3419 \nQ 3406 3131 3298 2873 \nQ 3191 2616 2906 2266 \nQ 2828 2175 2409 1742 \nQ 1991 1309 1228 531 \nz\n\" transform=\"scale(0.015625)\"/>\n     </defs>\n     <use xlink:href=\"#DejaVuSans-6c\"/>\n     <use xlink:href=\"#DejaVuSans-61\" x=\"27.783203\"/>\n     <use xlink:href=\"#DejaVuSans-62\" x=\"89.0625\"/>\n     <use xlink:href=\"#DejaVuSans-65\" x=\"152.539062\"/>\n     <use xlink:href=\"#DejaVuSans-6c\" x=\"214.0625\"/>\n     <use xlink:href=\"#DejaVuSans-3a\" x=\"241.845703\"/>\n     <use xlink:href=\"#DejaVuSans-20\" x=\"275.537109\"/>\n     <use xlink:href=\"#DejaVuSans-32\" x=\"307.324219\"/>\n    </g>\n   </g>\n  </g>\n  <g id=\"axes_7\">\n   <g id=\"patch_32\">\n    <path d=\"M 7.2 269.518594 \nL 80.576471 269.518594 \nL 80.576471 196.142123 \nL 7.2 196.142123 \nz\n\" style=\"fill: #eeeeee\"/>\n   </g>\n   <g clip-path=\"url(#pf8c522554e)\">\n    <image xlink:href=\"data:image/png;base64,\niVBORw0KGgoAAAANSUhEUgAAAGYAAABmCAYAAAA53+RiAAAEIUlEQVR4nO2cTSisURzGz1w3SVhYWlhYkJ1CLElS0jCJrFnY2IjYWNiQEisrFKV8TzNZ+EpZKZ9ZsRCFZOVj4WNhM3f37/yPyx28431unt/qefo33qOn/3vOnPfMG4jFYjFD4Pjl9wDI32EwoDAYUBgMKAwGFAYDCoMBhcGAwmBAYTCg/PZ7AMYYc319Lbq2tlbVDg4OlC8uLhZdUFCgat3d3crn5OR4NMLvhx0DCoMBhcGAEkDY9m9tbRU9NjamauXl5crv7u6Kfnp6UrW0tDTl9/f3Refm5n55nN8JOwYUBgMKxHLZJhAIKN/f3698SUmJ6OnpaVVraWlRvqioSPT5+bmqZWZmfmWYCYcdAwqDAYXBgAKxXF5cXBTd2Nioag0NDcrPzc29+XeGh4eV7+zsFL2wsKBq9fX1Hx7nd8KOAYXBgMJgQIH4HlNdXS3a/X6xsrKi/MPDg+j09HRVq6ioSMDo/IEdAwqDAQXiVpaamira3VYZHBxUvre3V/TQ0JCqHR0deT84n2DHgMJgQGEwoEBsydg8Pz8r756EOTs7E20/zTTm9dPOx8dH0aenp6qGfoKGHQMKgwEF7lbmMjk5qXxzc3Pcn7UPD87MzKhaSkrKl8aVaNgxoDAYUBgMKPBzjEtTU5Po+fl5VXNP2GxsbIh2l9LosGNAYTCgMBhQILb93+Pl5UX597b23elydXVVNOcY4gkMBhT45bL92xljjBkfHxdtP/k05vXOtP2vubfA/Px8r4aYENgxoDAYUBgMKHBzzMnJifJ5eXnK29suV1dXqtbV1aW8/cOmUCikalNTU8q785XfsGNAYTCgMBhQ4LZkBgYGlHe38icmJkRnZWWp2ujoqPL2KZpoNKpqIyMjynd0dIhOSkqKf8AJgh0DCoMBBWK5bG+lZGdnq9rt7e2b/l+/1T8+PhZtvx/AmNevO2lvbxftbgP58boTdgwoDAYUBgMKxBxjP6V07+eXl5fK39zciP7I+2CWlpaUr6urU95elldVVana8vJy3NfxCnYMKAwGFAYDCsSWTHJysuiMjIyEXCMYDCrf09OjfF9fn2j3cYIfsGNAYTCgQCyXbd57tZUx+klkOBz+9HXcg4T2Mt1doq+trYmurKz89DU/AjsGFAYDCoMBBWK5bNPW1qa8+wrfSCQi2p2P3M/ay3CX+/t75e13ArgcHh6K5hzzw2EwoDAYUOC+x7hsb28rX1NTI/ru7k7V3BM1ZWVlot2t/J2dHeXtUzRbW1uqVlpaGvd4vYIdAwqDAQX+VuZycXEhenZ2VtXW19eV39zcjPvvFhYWit7b2/vk6LyDHQMKgwGFwYDy380xPwV2DCgMBhQGAwqDAYXBgMJgQGEwoDAYUBgMKAwGFAYDCoMBhcGAwmBAYTCgMBhQGAwofwBqpSBv7JNU8wAAAABJRU5ErkJggg==\" id=\"image7f241037b6\" transform=\"scale(1 -1)translate(0 -73.44)\" x=\"7.2\" y=\"-196.078594\" width=\"73.44\" height=\"73.44\"/>\n   </g>\n   <g id=\"matplotlib.axis_13\"/>\n   <g id=\"matplotlib.axis_14\"/>\n   <g id=\"patch_33\">\n    <path d=\"M 7.2 269.518594 \nL 7.2 196.142123 \n\" style=\"fill: none; stroke: #bcbcbc; stroke-width: 0.8; stroke-linejoin: miter; stroke-linecap: square\"/>\n   </g>\n   <g id=\"patch_34\">\n    <path d=\"M 80.576471 269.518594 \nL 80.576471 196.142123 \n\" style=\"fill: none; stroke: #bcbcbc; stroke-width: 0.8; stroke-linejoin: miter; stroke-linecap: square\"/>\n   </g>\n   <g id=\"patch_35\">\n    <path d=\"M 7.2 269.518594 \nL 80.576471 269.518594 \n\" style=\"fill: none; stroke: #bcbcbc; stroke-width: 0.8; stroke-linejoin: miter; stroke-linecap: square\"/>\n   </g>\n   <g id=\"patch_36\">\n    <path d=\"M 7.2 196.142123 \nL 80.576471 196.142123 \n\" style=\"fill: none; stroke: #bcbcbc; stroke-width: 0.8; stroke-linejoin: miter; stroke-linecap: square\"/>\n   </g>\n   <g id=\"text_7\">\n    <!-- label: 8 -->\n    <g transform=\"translate(27.195345 190.142123)scale(0.09 -0.09)\">\n     <use xlink:href=\"#DejaVuSans-6c\"/>\n     <use xlink:href=\"#DejaVuSans-61\" x=\"27.783203\"/>\n     <use xlink:href=\"#DejaVuSans-62\" x=\"89.0625\"/>\n     <use xlink:href=\"#DejaVuSans-65\" x=\"152.539062\"/>\n     <use xlink:href=\"#DejaVuSans-6c\" x=\"214.0625\"/>\n     <use xlink:href=\"#DejaVuSans-3a\" x=\"241.845703\"/>\n     <use xlink:href=\"#DejaVuSans-20\" x=\"275.537109\"/>\n     <use xlink:href=\"#DejaVuSans-38\" x=\"307.324219\"/>\n    </g>\n   </g>\n  </g>\n  <g id=\"axes_8\">\n   <g id=\"patch_37\">\n    <path d=\"M 95.823529 269.518594 \nL 169.2 269.518594 \nL 169.2 196.142123 \nL 95.823529 196.142123 \nz\n\" style=\"fill: #eeeeee\"/>\n   </g>\n   <g clip-path=\"url(#p2726034a1a)\">\n    <image xlink:href=\"data:image/png;base64,\niVBORw0KGgoAAAANSUhEUgAAAGYAAABmCAYAAAA53+RiAAAEqUlEQVR4nO2dTyh1XRTG79UXMRBK/mbg30ApEkopSUKJkZRSJggzkZIQMpCRiZBSDKQMREKUZKSQEWaIMJDInwjf4Kv97rXf7x73cs/xvL3Pb7SelnvOvj3WXrd999nX/fHx8eEicAT89ADI/0NjQKExoNAYUGgMKDQGFBoDCo0BhcaAQmNA+ceJm7y8vAjd1NQk9OTkpIrdbrfIBQcHC93W1ubxPo2NjUKHh4erODAw0LvBgsCKAYXGgEJjQHHbtez//Pys4uLiYpHb3t4WWh+C2WN8wXwr+fn5Kq6qqhK55ubmL9/HCVgxoNAYUGybyhoaGlQ8MTFh+bfp6ekqrq+vF7mnpyehh4eHVfz4+Chyd3d3QuvTojlF5uXlCT00NKTi3Nxcy/E6ASsGFBoDCo0BxbYeExsbq+KrqyuRq66uFnpmZuZL97i5uRF6ZGRE6MXFRRXv7u56fd2VlRWhi4qKvjC678GKAYXGgEJjQPFbjzk4OBA6KytLxW9vbyJ3fHwsdHJysj+G8Bv6stDq6qrIVVZWenxdUFCQ0N3d3Sru6Ojwz+A+gRUDCo0BxW9TmfnRNTExUcX39/cid3FxIXRUVJQ/huATa2trQldUVKhYnwJdLrmcs7S0JHIlJSU2jI4VAwuNAYXGgGLbkkxpaamKzY+qCD3GpK6uTsVTU1Mip/eY6OhokTs/P7dlPKwYUGgMKLZNZfomv/b2dpHr7OwUOjIy0o4h+MTr66uKw8LCRE7/+Myp7C+HxoBCY0Cxrcf8yfT09Ajd19enYvaYvxwaAwqNAcWRB5f+NPb394XW27BTLZkVAwqNAQViKjM3BOqYyyP6po/s7Gy/jWF8fFzFCwsLIme1Od0uWDGg0BhQaAwoP9JjdnZ2hNYfFDLn8LKyMqGTkpJUHBMTI3Lx8fEe73l5eSn01taW0K2trRYj/sXg4KBXf/ddWDGg0BhQaAwoP7Lsf3JyInRaWpqKzV2QVpjnzISGhgqt9ytzN+jDw4PH6wYEyP9X/eHe2tpaj/fwJ6wYUGgMKBDfYJ6dnanY3Ow9Pz8v9PLyssfrmG/Fl2kmISFBxf39/SJXU1Pj9XX8BSsGFBoDCo0BBaLHWPH+/i709fW1iufm5kRuenpaaH3p57P+oz8Xatczob7AigGFxoBCY0BxpMeYx/uOjY0JnZmZqWL97DKX6/dlFivM8wNaWlpUvL6+bvnanJwcFW9sbIicufTjBKwYUGgMKI5MZUdHR0Lrq8kul/woa34rWVhYKHRXV5eKU1NTLe+rryCXl5eL3ObmpsfXDQwMCO3UMSU6rBhQaAwoNAYUR3rM7e2t0AUFBULruys/W6rXf9UiIiJC5My3kpGRoeK9vT2R05d2TMxvMPUeqZ+RYyesGFBoDCg0BhSIZf/e3l4V60fyuly+Hcv7na+WdUJCQoQ+PDxUcVxc3Jeu6SusGFBoDCgQU5mOueHPPFJrdnZWxSkpKSJnvhX9eKvT01OvxzA6Oiq0+QsdTsCKAYXGgEJjQIHrMeQ/WDGg0BhQaAwoNAYUGgMKjQGFxoBCY0ChMaDQGFBoDCg0BhQaAwqNAYXGgEJjQKExoPwLJ4NpvwMmkcUAAAAASUVORK5CYII=\" id=\"image53a759a667\" transform=\"scale(1 -1)translate(0 -73.44)\" x=\"95.823529\" y=\"-196.078594\" width=\"73.44\" height=\"73.44\"/>\n   </g>\n   <g id=\"matplotlib.axis_15\"/>\n   <g id=\"matplotlib.axis_16\"/>\n   <g id=\"patch_38\">\n    <path d=\"M 95.823529 269.518594 \nL 95.823529 196.142123 \n\" style=\"fill: none; stroke: #bcbcbc; stroke-width: 0.8; stroke-linejoin: miter; stroke-linecap: square\"/>\n   </g>\n   <g id=\"patch_39\">\n    <path d=\"M 169.2 269.518594 \nL 169.2 196.142123 \n\" style=\"fill: none; stroke: #bcbcbc; stroke-width: 0.8; stroke-linejoin: miter; stroke-linecap: square\"/>\n   </g>\n   <g id=\"patch_40\">\n    <path d=\"M 95.823529 269.518594 \nL 169.2 269.518594 \n\" style=\"fill: none; stroke: #bcbcbc; stroke-width: 0.8; stroke-linejoin: miter; stroke-linecap: square\"/>\n   </g>\n   <g id=\"patch_41\">\n    <path d=\"M 95.823529 196.142123 \nL 169.2 196.142123 \n\" style=\"fill: none; stroke: #bcbcbc; stroke-width: 0.8; stroke-linejoin: miter; stroke-linecap: square\"/>\n   </g>\n   <g id=\"text_8\">\n    <!-- label: 3 -->\n    <g transform=\"translate(115.818874 190.142123)scale(0.09 -0.09)\">\n     <use xlink:href=\"#DejaVuSans-6c\"/>\n     <use xlink:href=\"#DejaVuSans-61\" x=\"27.783203\"/>\n     <use xlink:href=\"#DejaVuSans-62\" x=\"89.0625\"/>\n     <use xlink:href=\"#DejaVuSans-65\" x=\"152.539062\"/>\n     <use xlink:href=\"#DejaVuSans-6c\" x=\"214.0625\"/>\n     <use xlink:href=\"#DejaVuSans-3a\" x=\"241.845703\"/>\n     <use xlink:href=\"#DejaVuSans-20\" x=\"275.537109\"/>\n     <use xlink:href=\"#DejaVuSans-33\" x=\"307.324219\"/>\n    </g>\n   </g>\n  </g>\n  <g id=\"axes_9\">\n   <g id=\"patch_42\">\n    <path d=\"M 184.447059 269.518594 \nL 257.823529 269.518594 \nL 257.823529 196.142123 \nL 184.447059 196.142123 \nz\n\" style=\"fill: #eeeeee\"/>\n   </g>\n   <g clip-path=\"url(#p66a522dc86)\">\n    <image xlink:href=\"data:image/png;base64,\niVBORw0KGgoAAAANSUhEUgAAAGYAAABmCAYAAAA53+RiAAADNklEQVR4nO3csUuqYRQG8M+8Ebq4RRk5iEsgKEGUk5v+ByKBIEL/QoNOri2OhTg1ttcQtTQmipugmwgiYSgSQoPe7b3feblFia/foz6/6RzeG53Lc4+vVy3XbDabWQRny+kB6P8YDCgGA4rBgGIwoBgMKAYDisGAYjCgGAwoBgOKwYBiMKAYDKg/TnzT4XAo+kgkouq3tzdx9vr6KvpwOGxsLiTcGFAMBpQjD2Wfn5+i//j4+PIsHo+L/vn5WdXRaHTxw4HgxoBiMKAYDChH7pjd3V3Rl8tlVadSKXE2Go1EP5lMzA0GhBsDisGAYjCgXAifxJxOp6o+PDwUZ/1+X/QXFxeqvr6+NjuYg7gxoBgMKEeeLuu2tv79+9Bfgrm7uxP94+Ojqnu9njjb3983MJ0zuDGgGAwoBgMK4umynf6yv9fr/fLPnp+fi/729tbITE7gxoBiMKDgHsr0cS4vL0VfKpW+/NpWqyX6YDC4uMGWjBsDisGAYjCg4O4Ynf6OZTqdVvX9/b04CwQCom82m6re2dkxMJ053BhQDAYUgwEFf8foarWaqk9PT8WZ/lepVquqPj4+NjvYgnFjQDEYUBDvYP7GwcGBqn0+nzh7f38X/c3NjartHypcBdwYUAwGFIMBtXJPl+2enp5En0wmRe9yuVTd7XbF2d7enrnBFoAbA4rBgGIwoFb6jtG53W7R2++YSqUizrLZ7DJGmhs3BhSDAbVyL8nMq91uOz3Cr3BjQDEYUAwG1Fo9Xb66uhJ9Pp9X9fb2tjir1+uiPzo6MjfYHLgxoBgMKAYDaq3umPF4LPpQKKTqwWAgzorFougLhYK5webAjQHFYECt1UOZLpfLqVr/+Uy/3y/6TqezlJl+ihsDisGAYjCg1vqOaTQaqj45ORFn9nc3LcuyXl5eVH12dmZ0rp/gxoBiMKAYDKi1vmPsYrGY6O0/1GRZlpVIJFT98PCwlJm+w40BxWBAbcynZDKZjOj1hzI03BhQDAYUgwG1MXeM/rvLPB6P6L/7PWhO4MaAYjCgNuZ//quGGwOKwYBiMKAYDCgGA4rBgGIwoBgMKAYDisGAYjCgGAwoBgOKwYD6C2AowaSeZXMqAAAAAElFTkSuQmCC\" id=\"image2d5e4fa780\" transform=\"scale(1 -1)translate(0 -73.44)\" x=\"184.447059\" y=\"-196.078594\" width=\"73.44\" height=\"73.44\"/>\n   </g>\n   <g id=\"matplotlib.axis_17\"/>\n   <g id=\"matplotlib.axis_18\"/>\n   <g id=\"patch_43\">\n    <path d=\"M 184.447059 269.518594 \nL 184.447059 196.142123 \n\" style=\"fill: none; stroke: #bcbcbc; stroke-width: 0.8; stroke-linejoin: miter; stroke-linecap: square\"/>\n   </g>\n   <g id=\"patch_44\">\n    <path d=\"M 257.823529 269.518594 \nL 257.823529 196.142123 \n\" style=\"fill: none; stroke: #bcbcbc; stroke-width: 0.8; stroke-linejoin: miter; stroke-linecap: square\"/>\n   </g>\n   <g id=\"patch_45\">\n    <path d=\"M 184.447059 269.518594 \nL 257.823529 269.518594 \n\" style=\"fill: none; stroke: #bcbcbc; stroke-width: 0.8; stroke-linejoin: miter; stroke-linecap: square\"/>\n   </g>\n   <g id=\"patch_46\">\n    <path d=\"M 184.447059 196.142123 \nL 257.823529 196.142123 \n\" style=\"fill: none; stroke: #bcbcbc; stroke-width: 0.8; stroke-linejoin: miter; stroke-linecap: square\"/>\n   </g>\n   <g id=\"text_9\">\n    <!-- label: 1 -->\n    <g transform=\"translate(204.442403 190.142123)scale(0.09 -0.09)\">\n     <use xlink:href=\"#DejaVuSans-6c\"/>\n     <use xlink:href=\"#DejaVuSans-61\" x=\"27.783203\"/>\n     <use xlink:href=\"#DejaVuSans-62\" x=\"89.0625\"/>\n     <use xlink:href=\"#DejaVuSans-65\" x=\"152.539062\"/>\n     <use xlink:href=\"#DejaVuSans-6c\" x=\"214.0625\"/>\n     <use xlink:href=\"#DejaVuSans-3a\" x=\"241.845703\"/>\n     <use xlink:href=\"#DejaVuSans-20\" x=\"275.537109\"/>\n     <use xlink:href=\"#DejaVuSans-31\" x=\"307.324219\"/>\n    </g>\n   </g>\n  </g>\n </g>\n <defs>\n  <clipPath id=\"pc3801880ab\">\n   <rect x=\"7.2\" y=\"20.038594\" width=\"73.376471\" height=\"73.376471\"/>\n  </clipPath>\n  <clipPath id=\"p0704337366\">\n   <rect x=\"95.823529\" y=\"20.038594\" width=\"73.376471\" height=\"73.376471\"/>\n  </clipPath>\n  <clipPath id=\"p687ec1be8a\">\n   <rect x=\"184.447059\" y=\"20.038594\" width=\"73.376471\" height=\"73.376471\"/>\n  </clipPath>\n  <clipPath id=\"p1a1585724d\">\n   <rect x=\"7.2\" y=\"108.090358\" width=\"73.376471\" height=\"73.376471\"/>\n  </clipPath>\n  <clipPath id=\"p70d5482d08\">\n   <rect x=\"95.823529\" y=\"108.090358\" width=\"73.376471\" height=\"73.376471\"/>\n  </clipPath>\n  <clipPath id=\"p3e9454a372\">\n   <rect x=\"184.447059\" y=\"108.090358\" width=\"73.376471\" height=\"73.376471\"/>\n  </clipPath>\n  <clipPath id=\"pf8c522554e\">\n   <rect x=\"7.2\" y=\"196.142123\" width=\"73.376471\" height=\"73.376471\"/>\n  </clipPath>\n  <clipPath id=\"p2726034a1a\">\n   <rect x=\"95.823529\" y=\"196.142123\" width=\"73.376471\" height=\"73.376471\"/>\n  </clipPath>\n  <clipPath id=\"p66a522dc86\">\n   <rect x=\"184.447059\" y=\"196.142123\" width=\"73.376471\" height=\"73.376471\"/>\n  </clipPath>\n </defs>\n</svg>\n",
      "text/plain": [
       "<Figure size 450x450 with 9 Axes>"
      ]
     },
     "metadata": {},
     "output_type": "display_data"
    }
   ],
   "source": [
    "set_figsize((4.5,4.5))\n",
    "\n",
    "img_shape = (28, 28)\n",
    "\n",
    "show_img_grid(\n",
    "    [train_images[i].reshape(img_shape) for i in range(9)],\n",
    "    [f\"label: {jnp.argmax(train_labels[i])}\" for i in range(9)]\n",
    ")"
   ]
  },
  {
   "cell_type": "markdown",
   "id": "0d047fcc",
   "metadata": {},
   "source": [
    "# Downscaling images as in paper"
   ]
  },
  {
   "cell_type": "code",
   "execution_count": 17,
   "id": "446f2db3",
   "metadata": {},
   "outputs": [],
   "source": [
    "def resize_img(\n",
    "        img_vec: Vector,\n",
    "        shape: Tuple[int,int]\n",
    "    ) -> Vector:\n",
    "    \"\"\"\n",
    "    Resizing the image vector.\n",
    "    \"\"\"\n",
    "    orig_size = jnp.sqrt(img_vec.size).astype(int)\n",
    "    img_mat = img_vec.reshape(orig_size, orig_size)\n",
    "    img_mat = jax.image.resize(img_mat, shape, method='linear')\n",
    "    return img_mat.reshape(-1)"
   ]
  },
  {
   "cell_type": "markdown",
   "id": "628cb215",
   "metadata": {},
   "source": [
    "Resizing images to $14 × 14$ as in the paper."
   ]
  },
  {
   "cell_type": "code",
   "execution_count": 18,
   "id": "182b07a1",
   "metadata": {},
   "outputs": [],
   "source": [
    "img_shape = (14,14)\n",
    "\n",
    "resize_img_vmap = functools.partial(resize_img, shape=img_shape)\n",
    "\n",
    "train_images_scaled = jax.vmap(resize_img_vmap)(train_images)\n",
    "test_images_scaled = jax.vmap(resize_img_vmap)(test_images)"
   ]
  },
  {
   "cell_type": "code",
   "execution_count": 19,
   "id": "df3eb272",
   "metadata": {},
   "outputs": [
    {
     "name": "stdout",
     "output_type": "stream",
     "text": [
      "Train data shape: (20000, 196) | Test data shape: (10000, 196)\n"
     ]
    }
   ],
   "source": [
    "print(f'Train data shape: {train_images_scaled.shape} | Test data shape: {test_images_scaled.shape}')"
   ]
  },
  {
   "cell_type": "code",
   "execution_count": 20,
   "id": "3906b1d5",
   "metadata": {},
   "outputs": [
    {
     "data": {
      "image/svg+xml": "<?xml version=\"1.0\" encoding=\"utf-8\" standalone=\"no\"?>\n<!DOCTYPE svg PUBLIC \"-//W3C//DTD SVG 1.1//EN\"\n  \"http://www.w3.org/Graphics/SVG/1.1/DTD/svg11.dtd\">\n<svg xmlns:xlink=\"http://www.w3.org/1999/xlink\" width=\"265.023529pt\" height=\"276.718594pt\" viewBox=\"0 0 265.023529 276.718594\" xmlns=\"http://www.w3.org/2000/svg\" version=\"1.1\">\n <metadata>\n  <rdf:RDF xmlns:dc=\"http://purl.org/dc/elements/1.1/\" xmlns:cc=\"http://creativecommons.org/ns#\" xmlns:rdf=\"http://www.w3.org/1999/02/22-rdf-syntax-ns#\">\n   <cc:Work>\n    <dc:type rdf:resource=\"http://purl.org/dc/dcmitype/StillImage\"/>\n    <dc:date>2022-05-07T21:15:06.757429</dc:date>\n    <dc:format>image/svg+xml</dc:format>\n    <dc:creator>\n     <cc:Agent>\n      <dc:title>Matplotlib v3.5.2, https://matplotlib.org/</dc:title>\n     </cc:Agent>\n    </dc:creator>\n   </cc:Work>\n  </rdf:RDF>\n </metadata>\n <defs>\n  <style type=\"text/css\">*{stroke-linejoin: round; stroke-linecap: butt}</style>\n </defs>\n <g id=\"figure_1\">\n  <g id=\"patch_1\">\n   <path d=\"M 0 276.718594 \nL 265.023529 276.718594 \nL 265.023529 0 \nL 0 0 \nz\n\" style=\"fill: #ffffff\"/>\n  </g>\n  <g id=\"axes_1\">\n   <g id=\"patch_2\">\n    <path d=\"M 7.2 93.415064 \nL 80.576471 93.415064 \nL 80.576471 20.038594 \nL 7.2 20.038594 \nz\n\" style=\"fill: #eeeeee\"/>\n   </g>\n   <g clip-path=\"url(#p0a9cdfc455)\">\n    <image xlink:href=\"data:image/png;base64,\niVBORw0KGgoAAAANSUhEUgAAAGYAAABmCAYAAAA53+RiAAACA0lEQVR4nO3dPYoCQRBA4RkVUcTEE5gYG2hm4rVMvJbXMBTPYGDmD8rsBbZ6QW3nNfu+tFhpeFvQI6J10zRNJZxO2wfQ7wwDZRgow0AZBsowUL22D/BJ1+s1nD0ej+TfjkajcFbX9ctnepUbA2UYKMNAGQbKMFCGgTIMVF3a2/6p55HNZhPOhsNh8nW322046/W+/7jnxkAZBsowUIaBMgyUYaCKuy6fz+dwNpvNwtlut0u+7nK5fPVIWbgxUIaBMgyUYaAMA2UYqOI+JbPf78PZ6XQKZ9Pp9POHyciNgTIMlGGgDANlGCjDQBV3XT4cDuFssViEs/F4nOM42bgxUIaBMgyUYaAMA2UYKMNAFfcc83w+w9lkMglnnU5Z/4NlnfYfMQyUYaAMA2UYKMNAFXddPh6P4ex2u33xJHm5MVCGgTIMlGGgDANlGKjirsupD47P5/Nw1sbXjrzDjYEyDJRhoAwDZRgow0AZBgp3ub/f78l56m3/9Xodztr4Gvh3uDFQhoEyDJRhoAwDZRgo3HX5L91uN5wNBoMvniQvNwbKMFCGgTIMlGGgDAOFuy6nrsNVVVWr1Sqcpd5dLo0bA2UYKMNAGQbKMFCGgSruh30ul0s4S121+/1+juNk48ZAGQbKMFCGgTIMlGGgDANV3HPMf+HGQBkGyjBQhoEyDJRhoH4ANmVGhdVtpoUAAAAASUVORK5CYII=\" id=\"imagece340c8115\" transform=\"scale(1 -1)translate(0 -73.44)\" x=\"7.2\" y=\"-19.975064\" width=\"73.44\" height=\"73.44\"/>\n   </g>\n   <g id=\"matplotlib.axis_1\"/>\n   <g id=\"matplotlib.axis_2\"/>\n   <g id=\"patch_3\">\n    <path d=\"M 7.2 93.415064 \nL 7.2 20.038594 \n\" style=\"fill: none; stroke: #bcbcbc; stroke-width: 0.8; stroke-linejoin: miter; stroke-linecap: square\"/>\n   </g>\n   <g id=\"patch_4\">\n    <path d=\"M 80.576471 93.415064 \nL 80.576471 20.038594 \n\" style=\"fill: none; stroke: #bcbcbc; stroke-width: 0.8; stroke-linejoin: miter; stroke-linecap: square\"/>\n   </g>\n   <g id=\"patch_5\">\n    <path d=\"M 7.2 93.415064 \nL 80.576471 93.415064 \n\" style=\"fill: none; stroke: #bcbcbc; stroke-width: 0.8; stroke-linejoin: miter; stroke-linecap: square\"/>\n   </g>\n   <g id=\"patch_6\">\n    <path d=\"M 7.2 20.038594 \nL 80.576471 20.038594 \n\" style=\"fill: none; stroke: #bcbcbc; stroke-width: 0.8; stroke-linejoin: miter; stroke-linecap: square\"/>\n   </g>\n   <g id=\"text_1\">\n    <!-- label: 1 -->\n    <g transform=\"translate(27.195345 14.038594)scale(0.09 -0.09)\">\n     <defs>\n      <path id=\"DejaVuSans-6c\" d=\"M 603 4863 \nL 1178 4863 \nL 1178 0 \nL 603 0 \nL 603 4863 \nz\n\" transform=\"scale(0.015625)\"/>\n      <path id=\"DejaVuSans-61\" d=\"M 2194 1759 \nQ 1497 1759 1228 1600 \nQ 959 1441 959 1056 \nQ 959 750 1161 570 \nQ 1363 391 1709 391 \nQ 2188 391 2477 730 \nQ 2766 1069 2766 1631 \nL 2766 1759 \nL 2194 1759 \nz\nM 3341 1997 \nL 3341 0 \nL 2766 0 \nL 2766 531 \nQ 2569 213 2275 61 \nQ 1981 -91 1556 -91 \nQ 1019 -91 701 211 \nQ 384 513 384 1019 \nQ 384 1609 779 1909 \nQ 1175 2209 1959 2209 \nL 2766 2209 \nL 2766 2266 \nQ 2766 2663 2505 2880 \nQ 2244 3097 1772 3097 \nQ 1472 3097 1187 3025 \nQ 903 2953 641 2809 \nL 641 3341 \nQ 956 3463 1253 3523 \nQ 1550 3584 1831 3584 \nQ 2591 3584 2966 3190 \nQ 3341 2797 3341 1997 \nz\n\" transform=\"scale(0.015625)\"/>\n      <path id=\"DejaVuSans-62\" d=\"M 3116 1747 \nQ 3116 2381 2855 2742 \nQ 2594 3103 2138 3103 \nQ 1681 3103 1420 2742 \nQ 1159 2381 1159 1747 \nQ 1159 1113 1420 752 \nQ 1681 391 2138 391 \nQ 2594 391 2855 752 \nQ 3116 1113 3116 1747 \nz\nM 1159 2969 \nQ 1341 3281 1617 3432 \nQ 1894 3584 2278 3584 \nQ 2916 3584 3314 3078 \nQ 3713 2572 3713 1747 \nQ 3713 922 3314 415 \nQ 2916 -91 2278 -91 \nQ 1894 -91 1617 61 \nQ 1341 213 1159 525 \nL 1159 0 \nL 581 0 \nL 581 4863 \nL 1159 4863 \nL 1159 2969 \nz\n\" transform=\"scale(0.015625)\"/>\n      <path id=\"DejaVuSans-65\" d=\"M 3597 1894 \nL 3597 1613 \nL 953 1613 \nQ 991 1019 1311 708 \nQ 1631 397 2203 397 \nQ 2534 397 2845 478 \nQ 3156 559 3463 722 \nL 3463 178 \nQ 3153 47 2828 -22 \nQ 2503 -91 2169 -91 \nQ 1331 -91 842 396 \nQ 353 884 353 1716 \nQ 353 2575 817 3079 \nQ 1281 3584 2069 3584 \nQ 2775 3584 3186 3129 \nQ 3597 2675 3597 1894 \nz\nM 3022 2063 \nQ 3016 2534 2758 2815 \nQ 2500 3097 2075 3097 \nQ 1594 3097 1305 2825 \nQ 1016 2553 972 2059 \nL 3022 2063 \nz\n\" transform=\"scale(0.015625)\"/>\n      <path id=\"DejaVuSans-3a\" d=\"M 750 794 \nL 1409 794 \nL 1409 0 \nL 750 0 \nL 750 794 \nz\nM 750 3309 \nL 1409 3309 \nL 1409 2516 \nL 750 2516 \nL 750 3309 \nz\n\" transform=\"scale(0.015625)\"/>\n      <path id=\"DejaVuSans-20\" transform=\"scale(0.015625)\"/>\n      <path id=\"DejaVuSans-31\" d=\"M 794 531 \nL 1825 531 \nL 1825 4091 \nL 703 3866 \nL 703 4441 \nL 1819 4666 \nL 2450 4666 \nL 2450 531 \nL 3481 531 \nL 3481 0 \nL 794 0 \nL 794 531 \nz\n\" transform=\"scale(0.015625)\"/>\n     </defs>\n     <use xlink:href=\"#DejaVuSans-6c\"/>\n     <use xlink:href=\"#DejaVuSans-61\" x=\"27.783203\"/>\n     <use xlink:href=\"#DejaVuSans-62\" x=\"89.0625\"/>\n     <use xlink:href=\"#DejaVuSans-65\" x=\"152.539062\"/>\n     <use xlink:href=\"#DejaVuSans-6c\" x=\"214.0625\"/>\n     <use xlink:href=\"#DejaVuSans-3a\" x=\"241.845703\"/>\n     <use xlink:href=\"#DejaVuSans-20\" x=\"275.537109\"/>\n     <use xlink:href=\"#DejaVuSans-31\" x=\"307.324219\"/>\n    </g>\n   </g>\n  </g>\n  <g id=\"axes_2\">\n   <g id=\"patch_7\">\n    <path d=\"M 95.823529 93.415064 \nL 169.2 93.415064 \nL 169.2 20.038594 \nL 95.823529 20.038594 \nz\n\" style=\"fill: #eeeeee\"/>\n   </g>\n   <g clip-path=\"url(#p33421ea8ac)\">\n    <image xlink:href=\"data:image/png;base64,\niVBORw0KGgoAAAANSUhEUgAAAGYAAABmCAYAAAA53+RiAAACzUlEQVR4nO2dva4pURiGZ/wFUSlERaJAgkbnSjQ6cRPUetG6Agk9hUqUSgoiEmpCwyDGuYHzfU7m7LW9O/t92ifzZZJnr2RZexj79Xq9LAO4ris6x3FEd71e1bmBQEB0sVhMdH6/X52Lhu/TN0D+DsOAwjCgMAwoDAMKw4Ai7z3/k8PhILp2uy268Xiszo1EIqLrdruiq1Qq6ly07TRXDCgMAwrDgMIwoDAMKAwDCsOAYps69r9cLqLbbDaiW6/X6txWqyU67V8Ck8lEnZtIJFT/3XDFgMIwoDAMKAwDCsOAwjCgGDv2j0ajoiuVSqLL5XLq3Ol0KrpOpyO65XKpzuV2mfwTDAMKw4DCMKAwDCgMA4qx7bJXHo+H6rXTZ59P/jsLhUKe7+kTcMWAwjCgMAwoDAMKw4DCMKDAbZffbWuLxaLoRqOR6M7nszpXeybFtm31WhNwxYDCMKAwDCgMAwrDgMIwoDAMKMYeKjfFbrcTXa1WE93z+VTnDodD0SWTyfc39sVwxYDCMKAwDCgMAwrDgMIwoPy47bJ2u7PZTHTValWdW6/XRddsNkUXDofVuV7higGFYUBhGFAYBhSGAYVhQDG2XT4ej6JbLBaiKxQK6lztu52320102s89WpZl9Xo90Wk/d1Iul9W5XuGKAYVhQGEYUBgGFIYBhWFAYRhQjD3tv91uRacdwadSKXVuOp0WnfZE/2q1UueeTifR7fd70fFzzC+DYUBhGFAYBhSGAYVhQDF27K+9aHQwGIiu3++rc+fzuejy+bzoMpmMOjebzYqu0WiILh6Pq3O9whUDCsOAwjCgMAwoDAMKw4DykYfKXdcVneM46rX3+110wWBQdNpLfyxLf0Hpu2tNwBUDCsOAwjCgMAwoDAMKw4Dy476D+VvgigGFYUBhGFAYBhSGAYVhQGEYUBgGFIYBhWFAYRhQGAYUhgGFYUD5AxPSmoBArRUfAAAAAElFTkSuQmCC\" id=\"imagedb35942372\" transform=\"scale(1 -1)translate(0 -73.44)\" x=\"95.823529\" y=\"-19.975064\" width=\"73.44\" height=\"73.44\"/>\n   </g>\n   <g id=\"matplotlib.axis_3\"/>\n   <g id=\"matplotlib.axis_4\"/>\n   <g id=\"patch_8\">\n    <path d=\"M 95.823529 93.415064 \nL 95.823529 20.038594 \n\" style=\"fill: none; stroke: #bcbcbc; stroke-width: 0.8; stroke-linejoin: miter; stroke-linecap: square\"/>\n   </g>\n   <g id=\"patch_9\">\n    <path d=\"M 169.2 93.415064 \nL 169.2 20.038594 \n\" style=\"fill: none; stroke: #bcbcbc; stroke-width: 0.8; stroke-linejoin: miter; stroke-linecap: square\"/>\n   </g>\n   <g id=\"patch_10\">\n    <path d=\"M 95.823529 93.415064 \nL 169.2 93.415064 \n\" style=\"fill: none; stroke: #bcbcbc; stroke-width: 0.8; stroke-linejoin: miter; stroke-linecap: square\"/>\n   </g>\n   <g id=\"patch_11\">\n    <path d=\"M 95.823529 20.038594 \nL 169.2 20.038594 \n\" style=\"fill: none; stroke: #bcbcbc; stroke-width: 0.8; stroke-linejoin: miter; stroke-linecap: square\"/>\n   </g>\n   <g id=\"text_2\">\n    <!-- label: 3 -->\n    <g transform=\"translate(115.818874 14.038594)scale(0.09 -0.09)\">\n     <defs>\n      <path id=\"DejaVuSans-33\" d=\"M 2597 2516 \nQ 3050 2419 3304 2112 \nQ 3559 1806 3559 1356 \nQ 3559 666 3084 287 \nQ 2609 -91 1734 -91 \nQ 1441 -91 1130 -33 \nQ 819 25 488 141 \nL 488 750 \nQ 750 597 1062 519 \nQ 1375 441 1716 441 \nQ 2309 441 2620 675 \nQ 2931 909 2931 1356 \nQ 2931 1769 2642 2001 \nQ 2353 2234 1838 2234 \nL 1294 2234 \nL 1294 2753 \nL 1863 2753 \nQ 2328 2753 2575 2939 \nQ 2822 3125 2822 3475 \nQ 2822 3834 2567 4026 \nQ 2313 4219 1838 4219 \nQ 1578 4219 1281 4162 \nQ 984 4106 628 3988 \nL 628 4550 \nQ 988 4650 1302 4700 \nQ 1616 4750 1894 4750 \nQ 2613 4750 3031 4423 \nQ 3450 4097 3450 3541 \nQ 3450 3153 3228 2886 \nQ 3006 2619 2597 2516 \nz\n\" transform=\"scale(0.015625)\"/>\n     </defs>\n     <use xlink:href=\"#DejaVuSans-6c\"/>\n     <use xlink:href=\"#DejaVuSans-61\" x=\"27.783203\"/>\n     <use xlink:href=\"#DejaVuSans-62\" x=\"89.0625\"/>\n     <use xlink:href=\"#DejaVuSans-65\" x=\"152.539062\"/>\n     <use xlink:href=\"#DejaVuSans-6c\" x=\"214.0625\"/>\n     <use xlink:href=\"#DejaVuSans-3a\" x=\"241.845703\"/>\n     <use xlink:href=\"#DejaVuSans-20\" x=\"275.537109\"/>\n     <use xlink:href=\"#DejaVuSans-33\" x=\"307.324219\"/>\n    </g>\n   </g>\n  </g>\n  <g id=\"axes_3\">\n   <g id=\"patch_12\">\n    <path d=\"M 184.447059 93.415064 \nL 257.823529 93.415064 \nL 257.823529 20.038594 \nL 184.447059 20.038594 \nz\n\" style=\"fill: #eeeeee\"/>\n   </g>\n   <g clip-path=\"url(#p98a085f0ae)\">\n    <image xlink:href=\"data:image/png;base64,\niVBORw0KGgoAAAANSUhEUgAAAGYAAABmCAYAAAA53+RiAAACtUlEQVR4nO3dMYoiURRG4VI6MVFEEAQjsTMTd2BgZii6CsEtuAgRDARBBKMGFyAIrkAXoGAiiImI2I2is4G5V3CoqX/G86WXet3D6Qeva8rq2OPxeASQE4/6G8DvEUYUYUQRRhRhRBFGFGFEEUYUYUQRRhRhRBFGFGFEEUbURxRf9Hw+m7PJZOJee7lczNn9fjdnt9vNXbfRaJizfD5vzmKxmLvuq9gxoggjijCiCCOKMKIIIyqS4/LhcDBni8XCvbbZbJoz70j89fXlrut93eFwaM5SqZS77qvYMaIII4owoggjijCiCCMqFsVD5afTyZz9/Py412YyGXPm3endbrfuurVazZxNp1NzVigU3HVfxY4RRRhRhBFFGFGEEUUYUaHdXb5er+bMu1u7XC7ddcvlsjkrFovm7NlDHtls1px5R/SwsGNEEUYUYUQRRhRhRBFGFGFEhfZ7jHcLfrPZmLPBYOCu691m9x5Wr1Qq7rr9ft+cJZNJ99owsGNEEUYUYUQRRhRhRBFGVGjH5Y8Pe+l6vW7O1uu1u26v1zNn8bj9c/bs4e9EIuHO/zZ2jCjCiCKMKMKIIowowoiK5DOYuVzOnK1WK/fa+XxuzqrVqjl79moR79n6sF5L4mHHiCKMKMKIIowowogijCjCiIrkw7Hf39/mbDQaudfOZjNzdjwezVk6nXbX7XQ65uzz89Oc8erFN0MYUYQRRRhRhBFFGFGRHJc93tvGg8A/au92O3M2Ho/ddb0P5Xa7XXPm/RfGn2DHiCKMKMKIIowowogijCi543JYvD8IFARB0Gq1zFmpVDJn7XbbnHkPuT/DjhFFGFGEEUUYUYQRRRhRb3NcfvbP3O/35sx7yMN73SPH5f8QYUQRRhRhRBFGFGFEEUbU2/we869hx4gijCjCiCKMKMKIIoyoX3izlL9RmUZXAAAAAElFTkSuQmCC\" id=\"imagee0e3d081ee\" transform=\"scale(1 -1)translate(0 -73.44)\" x=\"184.447059\" y=\"-19.975064\" width=\"73.44\" height=\"73.44\"/>\n   </g>\n   <g id=\"matplotlib.axis_5\"/>\n   <g id=\"matplotlib.axis_6\"/>\n   <g id=\"patch_13\">\n    <path d=\"M 184.447059 93.415064 \nL 184.447059 20.038594 \n\" style=\"fill: none; stroke: #bcbcbc; stroke-width: 0.8; stroke-linejoin: miter; stroke-linecap: square\"/>\n   </g>\n   <g id=\"patch_14\">\n    <path d=\"M 257.823529 93.415064 \nL 257.823529 20.038594 \n\" style=\"fill: none; stroke: #bcbcbc; stroke-width: 0.8; stroke-linejoin: miter; stroke-linecap: square\"/>\n   </g>\n   <g id=\"patch_15\">\n    <path d=\"M 184.447059 93.415064 \nL 257.823529 93.415064 \n\" style=\"fill: none; stroke: #bcbcbc; stroke-width: 0.8; stroke-linejoin: miter; stroke-linecap: square\"/>\n   </g>\n   <g id=\"patch_16\">\n    <path d=\"M 184.447059 20.038594 \nL 257.823529 20.038594 \n\" style=\"fill: none; stroke: #bcbcbc; stroke-width: 0.8; stroke-linejoin: miter; stroke-linecap: square\"/>\n   </g>\n   <g id=\"text_3\">\n    <!-- label: 5 -->\n    <g transform=\"translate(204.442403 14.038594)scale(0.09 -0.09)\">\n     <defs>\n      <path id=\"DejaVuSans-35\" d=\"M 691 4666 \nL 3169 4666 \nL 3169 4134 \nL 1269 4134 \nL 1269 2991 \nQ 1406 3038 1543 3061 \nQ 1681 3084 1819 3084 \nQ 2600 3084 3056 2656 \nQ 3513 2228 3513 1497 \nQ 3513 744 3044 326 \nQ 2575 -91 1722 -91 \nQ 1428 -91 1123 -41 \nQ 819 9 494 109 \nL 494 744 \nQ 775 591 1075 516 \nQ 1375 441 1709 441 \nQ 2250 441 2565 725 \nQ 2881 1009 2881 1497 \nQ 2881 1984 2565 2268 \nQ 2250 2553 1709 2553 \nQ 1456 2553 1204 2497 \nQ 953 2441 691 2322 \nL 691 4666 \nz\n\" transform=\"scale(0.015625)\"/>\n     </defs>\n     <use xlink:href=\"#DejaVuSans-6c\"/>\n     <use xlink:href=\"#DejaVuSans-61\" x=\"27.783203\"/>\n     <use xlink:href=\"#DejaVuSans-62\" x=\"89.0625\"/>\n     <use xlink:href=\"#DejaVuSans-65\" x=\"152.539062\"/>\n     <use xlink:href=\"#DejaVuSans-6c\" x=\"214.0625\"/>\n     <use xlink:href=\"#DejaVuSans-3a\" x=\"241.845703\"/>\n     <use xlink:href=\"#DejaVuSans-20\" x=\"275.537109\"/>\n     <use xlink:href=\"#DejaVuSans-35\" x=\"307.324219\"/>\n    </g>\n   </g>\n  </g>\n  <g id=\"axes_4\">\n   <g id=\"patch_17\">\n    <path d=\"M 7.2 181.466829 \nL 80.576471 181.466829 \nL 80.576471 108.090358 \nL 7.2 108.090358 \nz\n\" style=\"fill: #eeeeee\"/>\n   </g>\n   <g clip-path=\"url(#p97a0a7b4c4)\">\n    <image xlink:href=\"data:image/png;base64,\niVBORw0KGgoAAAANSUhEUgAAAGYAAABmCAYAAAA53+RiAAAC70lEQVR4nO2bL2tycRiGj/MPCrYJJp3BsCayLgY/gEmwWWwGq99gonlg0SSCxTg/wZoYFKugYBDRDVQEURdeeNP73C8MzrzDfdWL85yxix8853D03G63myPoeLj3HyD+jcKQojCkKAwpCkOKwpDiu8dN0Ya+3W7htR8fH6Zbr9emy2azcO7T05PpfL7f/zfpxJCiMKQoDCkKQ4rCkKIwpCgMKa4t6Nfr1XTj8dh0r6+vcO5sNjPdbrczHXpOcRzH6XQ6pnt+fobXuoFODCkKQ4rCkKIwpCgMKQpDimvr8ul0Ml2j0TDdfr+HcweDgek+Pz9N12q14Fw2dGJIURhSFIYUhSFFYUhRGFJcW5cfHuzm4XDYdOjNs+PgdRqt6P97Q5xIJKD/bXRiSFEYUhSGFIUhRWFIURhSPG79BhONHQ6HpisWi3BuNBo1HVqJm80mnJtMJk3n8XjgtW6gE0OKwpCiMKQoDCkKQ4rCkKIwpLj22h/t/uh54/HxEc6dz+emQz9iPZ/PcC567tJzjPiLwpCiMKQoDCkKQ4rCkOLaa3/0G8x2u2269/d3ODeVSpnu7e3NdLFYDM6tVqumy+VypotEIqbzer3wngidGFIUhhSFIUVhSFEYUhSGFNfeLqO3uaPRyHSLxQLOrVQqpkPrKVqlHcdxyuWy6dDb8FqtZrp8Pg/v6ff7TacTQ4rCkKIwpCgMKQpDisKQojCkuPYcg3b0TCZjum63C+eWSiXTpdNp04VCITh3tVqZbrlcmu7r6wvO/Sk6MaQoDCkKQ4rCkKIwpCgMKa59JYM4HA6m6/V68Np+v2+6yWRius1mA+eir13q9brpCoWC6YLBILwnQieGFIUhRWFIURhSFIYUhSHlLusy4nK5QH88Hk2HvrCZTqdwbjweN93Ly4vpAoEAnPtTdGJIURhSFIYUhSFFYUhRGFLo1mXxB50YUhSGFIUhRWFIURhSFIYUhSFFYUhRGFIUhhSFIUVhSFEYUhSGlG8tXaAdtYWfIgAAAABJRU5ErkJggg==\" id=\"image8eecc11b8e\" transform=\"scale(1 -1)translate(0 -73.44)\" x=\"7.2\" y=\"-108.026829\" width=\"73.44\" height=\"73.44\"/>\n   </g>\n   <g id=\"matplotlib.axis_7\"/>\n   <g id=\"matplotlib.axis_8\"/>\n   <g id=\"patch_18\">\n    <path d=\"M 7.2 181.466829 \nL 7.2 108.090358 \n\" style=\"fill: none; stroke: #bcbcbc; stroke-width: 0.8; stroke-linejoin: miter; stroke-linecap: square\"/>\n   </g>\n   <g id=\"patch_19\">\n    <path d=\"M 80.576471 181.466829 \nL 80.576471 108.090358 \n\" style=\"fill: none; stroke: #bcbcbc; stroke-width: 0.8; stroke-linejoin: miter; stroke-linecap: square\"/>\n   </g>\n   <g id=\"patch_20\">\n    <path d=\"M 7.2 181.466829 \nL 80.576471 181.466829 \n\" style=\"fill: none; stroke: #bcbcbc; stroke-width: 0.8; stroke-linejoin: miter; stroke-linecap: square\"/>\n   </g>\n   <g id=\"patch_21\">\n    <path d=\"M 7.2 108.090358 \nL 80.576471 108.090358 \n\" style=\"fill: none; stroke: #bcbcbc; stroke-width: 0.8; stroke-linejoin: miter; stroke-linecap: square\"/>\n   </g>\n   <g id=\"text_4\">\n    <!-- label: 8 -->\n    <g transform=\"translate(27.195345 102.090358)scale(0.09 -0.09)\">\n     <defs>\n      <path id=\"DejaVuSans-38\" d=\"M 2034 2216 \nQ 1584 2216 1326 1975 \nQ 1069 1734 1069 1313 \nQ 1069 891 1326 650 \nQ 1584 409 2034 409 \nQ 2484 409 2743 651 \nQ 3003 894 3003 1313 \nQ 3003 1734 2745 1975 \nQ 2488 2216 2034 2216 \nz\nM 1403 2484 \nQ 997 2584 770 2862 \nQ 544 3141 544 3541 \nQ 544 4100 942 4425 \nQ 1341 4750 2034 4750 \nQ 2731 4750 3128 4425 \nQ 3525 4100 3525 3541 \nQ 3525 3141 3298 2862 \nQ 3072 2584 2669 2484 \nQ 3125 2378 3379 2068 \nQ 3634 1759 3634 1313 \nQ 3634 634 3220 271 \nQ 2806 -91 2034 -91 \nQ 1263 -91 848 271 \nQ 434 634 434 1313 \nQ 434 1759 690 2068 \nQ 947 2378 1403 2484 \nz\nM 1172 3481 \nQ 1172 3119 1398 2916 \nQ 1625 2713 2034 2713 \nQ 2441 2713 2670 2916 \nQ 2900 3119 2900 3481 \nQ 2900 3844 2670 4047 \nQ 2441 4250 2034 4250 \nQ 1625 4250 1398 4047 \nQ 1172 3844 1172 3481 \nz\n\" transform=\"scale(0.015625)\"/>\n     </defs>\n     <use xlink:href=\"#DejaVuSans-6c\"/>\n     <use xlink:href=\"#DejaVuSans-61\" x=\"27.783203\"/>\n     <use xlink:href=\"#DejaVuSans-62\" x=\"89.0625\"/>\n     <use xlink:href=\"#DejaVuSans-65\" x=\"152.539062\"/>\n     <use xlink:href=\"#DejaVuSans-6c\" x=\"214.0625\"/>\n     <use xlink:href=\"#DejaVuSans-3a\" x=\"241.845703\"/>\n     <use xlink:href=\"#DejaVuSans-20\" x=\"275.537109\"/>\n     <use xlink:href=\"#DejaVuSans-38\" x=\"307.324219\"/>\n    </g>\n   </g>\n  </g>\n  <g id=\"axes_5\">\n   <g id=\"patch_22\">\n    <path d=\"M 95.823529 181.466829 \nL 169.2 181.466829 \nL 169.2 108.090358 \nL 95.823529 108.090358 \nz\n\" style=\"fill: #eeeeee\"/>\n   </g>\n   <g clip-path=\"url(#p0364a23cec)\">\n    <image xlink:href=\"data:image/png;base64,\niVBORw0KGgoAAAANSUhEUgAAAGYAAABmCAYAAAA53+RiAAACnklEQVR4nO3dv45pYRSG8YODgk5CR1TU4gok3At6tdvQqEiUNG6AlkhUGgWNAtFo/IlzA2ctyd4Rz0zeX7vybZM88yXf7I2JvF6v1x/BiX77B5D/UxgohYFSGCiFgVIYKIWBUhgohYFSGCiFgVIYKIWBUhiov97w3ROB5/Npzu73e6B178RiMXOWSCQCrSPSjoFSGCiFgVIYKIWBUhgo97i83+/dxb1ez5xtNhtzdjgczFk06v+uZDIZc1apVMxZrVZzr1utVs1ZMpl0136CdgyUwkApDJTCQCkMlMJAhbq7fD6fzZl3N7dYLJqzSCTivqZnvV6bs+l06q7tdrvmrF6vm7N3x/ugtGOgFAZKYaAUBkphoBQGKuJ9BvPdcfl2u5mzoB/tDPNGDe+oPZlM3LX9ft+cDYdDc5bNZt//YAFox0ApDJTCQCkMlMJAKQyUwkC5t/3f3YIP+u4R7w3n4/HYXbtarcxZoVAwZ4vFwr3u4/EwZ2EeRQSlHQOlMFAKA6UwUAoDpTBQ7nH5U7xHArvdzl07GAzM2eVyMWfX69W9bqfTMWepVMpd+wnaMVAKA6UwUAoDpTBQCgP1leNyPB43Z61Wy13rHV232605O51O7nVHo5E5y+Vy5qzdbpuzMJ/d1I6BUhgohYFSGCiFgVIYKIWBct/tT+T9veHdui+VSu515/O5OUun0+ZsNpuZs3K57L6mRzsGSmGgFAZKYaAUBkphoL5y2z+MRqNhzpbLpTk7Ho/udZvNpjnL5/PmzHskEIZ2DJTCQCkMlMJAKQyUwkD9uLvLnjDfbeN9haI3+9Q/DNKOgVIYKIWBUhgohYFSGKhfdVz+TbRjoBQGSmGgFAZKYaAUBkphoBQGSmGgFAZKYaAUBkphoBQG6h9ng4ks+uLRxQAAAABJRU5ErkJggg==\" id=\"image7d2081967b\" transform=\"scale(1 -1)translate(0 -73.44)\" x=\"95.823529\" y=\"-108.026829\" width=\"73.44\" height=\"73.44\"/>\n   </g>\n   <g id=\"matplotlib.axis_9\"/>\n   <g id=\"matplotlib.axis_10\"/>\n   <g id=\"patch_23\">\n    <path d=\"M 95.823529 181.466829 \nL 95.823529 108.090358 \n\" style=\"fill: none; stroke: #bcbcbc; stroke-width: 0.8; stroke-linejoin: miter; stroke-linecap: square\"/>\n   </g>\n   <g id=\"patch_24\">\n    <path d=\"M 169.2 181.466829 \nL 169.2 108.090358 \n\" style=\"fill: none; stroke: #bcbcbc; stroke-width: 0.8; stroke-linejoin: miter; stroke-linecap: square\"/>\n   </g>\n   <g id=\"patch_25\">\n    <path d=\"M 95.823529 181.466829 \nL 169.2 181.466829 \n\" style=\"fill: none; stroke: #bcbcbc; stroke-width: 0.8; stroke-linejoin: miter; stroke-linecap: square\"/>\n   </g>\n   <g id=\"patch_26\">\n    <path d=\"M 95.823529 108.090358 \nL 169.2 108.090358 \n\" style=\"fill: none; stroke: #bcbcbc; stroke-width: 0.8; stroke-linejoin: miter; stroke-linecap: square\"/>\n   </g>\n   <g id=\"text_5\">\n    <!-- label: 3 -->\n    <g transform=\"translate(115.818874 102.090358)scale(0.09 -0.09)\">\n     <use xlink:href=\"#DejaVuSans-6c\"/>\n     <use xlink:href=\"#DejaVuSans-61\" x=\"27.783203\"/>\n     <use xlink:href=\"#DejaVuSans-62\" x=\"89.0625\"/>\n     <use xlink:href=\"#DejaVuSans-65\" x=\"152.539062\"/>\n     <use xlink:href=\"#DejaVuSans-6c\" x=\"214.0625\"/>\n     <use xlink:href=\"#DejaVuSans-3a\" x=\"241.845703\"/>\n     <use xlink:href=\"#DejaVuSans-20\" x=\"275.537109\"/>\n     <use xlink:href=\"#DejaVuSans-33\" x=\"307.324219\"/>\n    </g>\n   </g>\n  </g>\n  <g id=\"axes_6\">\n   <g id=\"patch_27\">\n    <path d=\"M 184.447059 181.466829 \nL 257.823529 181.466829 \nL 257.823529 108.090358 \nL 184.447059 108.090358 \nz\n\" style=\"fill: #eeeeee\"/>\n   </g>\n   <g clip-path=\"url(#pcaa2a2960a)\">\n    <image xlink:href=\"data:image/png;base64,\niVBORw0KGgoAAAANSUhEUgAAAGYAAABmCAYAAAA53+RiAAAC4ElEQVR4nO2czcqxURiFN/krP+UImGLAIRgYOABDxyBjZaSUM1CmDuFNZiaKMqGUmWREyUCEUr4TeO+lPL1Zn9Y1Xe29n1x23c92277n8/l0gg7/px9A/I7EkCIxpEgMKRJDisSQIjGkSAwpEkOKxJAiMaRIDCkSQ4rEkBLwMvh0OpnZZrMxM7/f/j6kUim4ZiwWMzOfzwfH/k9ox5AiMaRIDCkSQ4rEkCIxpMBy+Xa7wcGtVsvM+v2+maGytlKpwDUbjYaZJZPJt9b0QiBgf4ToteAV2jGkSAwpEkOKxJAiMaRIDCmeTpePx6OZ7Xa7t+bs9XowXy6XZpbL5czMS+kaDAbNrFqtmlk+n4fzohJeO4YUiSFFYkiRGFIkhhSJIQWWy6hMdM65UqlkZofD4a0HWq/XMB+Px2Y2Go3M7NXpcjQaNbNIJGJmqDkEle/O4c9XO4YUiSFFYkiRGFIkhhSJIUViSPF5uUvmfr+b2ePxMDO05Gq1gmvW63Uzm06nZhYOh+G8zWbTzMrlspnF43EzS6fTcE3YYQNHio8hMaRIDCkSQ4rEkCIxpHjqknlVglrM53MzGw6HcGyxWHxrzdlsBvPL5WJmmUzGzNBPAl7QjiFFYkiRGFIkhhSJIUViSPF0uoxYLBZmhk6IUReMc84lEgkzQ10n+/0ezouuSvn5+TGzbDZrZvoP5hciMaRIDCkSQ4rEkCIxpEgMKX/2HoPuoUGdMJ1OB86L3inQ0f0rUMdKrVYzs3a7bWbv/izinHYMLRJDisSQIjGkSAwpEkOKpy4ZBOoeKRQKZtbtduG8k8nEzFApPRgM4Lzn89nM0L041+vVzFQufyESQ4rEkCIxpEgMKRJDyp+dLn8CdKK93W7hWHQyje6LQd01oVAIronQjiFFYkiRGFIkhhSJIUViSPmqcvmb0I4hRWJIkRhSJIYUiSFFYkiRGFIkhhSJIUViSJEYUiSGFIkhRWJI+Qc37pJZt8t2/wAAAABJRU5ErkJggg==\" id=\"imageb6d690d6b7\" transform=\"scale(1 -1)translate(0 -73.44)\" x=\"184.447059\" y=\"-108.026829\" width=\"73.44\" height=\"73.44\"/>\n   </g>\n   <g id=\"matplotlib.axis_11\"/>\n   <g id=\"matplotlib.axis_12\"/>\n   <g id=\"patch_28\">\n    <path d=\"M 184.447059 181.466829 \nL 184.447059 108.090358 \n\" style=\"fill: none; stroke: #bcbcbc; stroke-width: 0.8; stroke-linejoin: miter; stroke-linecap: square\"/>\n   </g>\n   <g id=\"patch_29\">\n    <path d=\"M 257.823529 181.466829 \nL 257.823529 108.090358 \n\" style=\"fill: none; stroke: #bcbcbc; stroke-width: 0.8; stroke-linejoin: miter; stroke-linecap: square\"/>\n   </g>\n   <g id=\"patch_30\">\n    <path d=\"M 184.447059 181.466829 \nL 257.823529 181.466829 \n\" style=\"fill: none; stroke: #bcbcbc; stroke-width: 0.8; stroke-linejoin: miter; stroke-linecap: square\"/>\n   </g>\n   <g id=\"patch_31\">\n    <path d=\"M 184.447059 108.090358 \nL 257.823529 108.090358 \n\" style=\"fill: none; stroke: #bcbcbc; stroke-width: 0.8; stroke-linejoin: miter; stroke-linecap: square\"/>\n   </g>\n   <g id=\"text_6\">\n    <!-- label: 2 -->\n    <g transform=\"translate(204.442403 102.090358)scale(0.09 -0.09)\">\n     <defs>\n      <path id=\"DejaVuSans-32\" d=\"M 1228 531 \nL 3431 531 \nL 3431 0 \nL 469 0 \nL 469 531 \nQ 828 903 1448 1529 \nQ 2069 2156 2228 2338 \nQ 2531 2678 2651 2914 \nQ 2772 3150 2772 3378 \nQ 2772 3750 2511 3984 \nQ 2250 4219 1831 4219 \nQ 1534 4219 1204 4116 \nQ 875 4013 500 3803 \nL 500 4441 \nQ 881 4594 1212 4672 \nQ 1544 4750 1819 4750 \nQ 2544 4750 2975 4387 \nQ 3406 4025 3406 3419 \nQ 3406 3131 3298 2873 \nQ 3191 2616 2906 2266 \nQ 2828 2175 2409 1742 \nQ 1991 1309 1228 531 \nz\n\" transform=\"scale(0.015625)\"/>\n     </defs>\n     <use xlink:href=\"#DejaVuSans-6c\"/>\n     <use xlink:href=\"#DejaVuSans-61\" x=\"27.783203\"/>\n     <use xlink:href=\"#DejaVuSans-62\" x=\"89.0625\"/>\n     <use xlink:href=\"#DejaVuSans-65\" x=\"152.539062\"/>\n     <use xlink:href=\"#DejaVuSans-6c\" x=\"214.0625\"/>\n     <use xlink:href=\"#DejaVuSans-3a\" x=\"241.845703\"/>\n     <use xlink:href=\"#DejaVuSans-20\" x=\"275.537109\"/>\n     <use xlink:href=\"#DejaVuSans-32\" x=\"307.324219\"/>\n    </g>\n   </g>\n  </g>\n  <g id=\"axes_7\">\n   <g id=\"patch_32\">\n    <path d=\"M 7.2 269.518594 \nL 80.576471 269.518594 \nL 80.576471 196.142123 \nL 7.2 196.142123 \nz\n\" style=\"fill: #eeeeee\"/>\n   </g>\n   <g clip-path=\"url(#p6fe8eb85e5)\">\n    <image xlink:href=\"data:image/png;base64,\niVBORw0KGgoAAAANSUhEUgAAAGYAAABmCAYAAAA53+RiAAACqklEQVR4nO3dvWpiYRSF4XGYoMYgWlgKgYhpIpaitWAtWHsLgo0pA1ZWio3XYC/kCoSUFoIQAlqLoNj4g+gU087eGQLxLJj3aRfni/By4ESMCV0ul8sPyPkZ9AvA3xFGFGFEEUYUYUQRRtSvIH7oer02t+Fw6F4bi8XMrVKpmFsqlXLPDYVC7n5t3DGiCCOKMKIII4owoggjijCiQkG87T8ajcyt2Wy61xaLRXM7HA7mNhgM3HOTyaS7Xxt3jCjCiCKMKMKIIowowogK5G3/TCZjbp89trZaLXNrt9vm9v7+7p5bKBTc/dq4Y0QRRhRhRBFGFGFEEUZUII/L9/f35pbP591re72euS0WC3O7vb395FVp4Y4RRRhRhBFFGFGEEUUYUYF8GMMzm83c/enpydweHx/N7e3tzT03Ho/7L+zKuGNEEUYUYUQRRhRhRBFGFGFEBfK2v/er03a7da89n8/mtlwuzW2z2bjn8nsM/glhRBFGFGFEEUYUYUQF8rb/brczt3q97l6bzWbNbT6fm1sikXDP7XQ65nZ3d2du3/UdNNwxoggjijCiCCOKMKIIIyqQx+XVamVupVLJvfb19dXcwuGwudVqNffcXC5nbv1+39yi0ah77ldxx4gijCjCiCKMKMKIIowowogK5FMykUjE3NLptHvtx8eHuZXLZXPrdrvuudVq1dyen5/N7eHhwT33q7hjRBFGFGFEEUYUYUQRRlQgj8ve97o0Gg332peXF3ObTCbmdjqd3HO9P6y9ublxr/0O3DGiCCOKMKIII4owoggjSu67ZI7Ho7tPp1NzG4/H5rbf791zvX9u6n2Chg+V/2cII4owoggjijCiCCNK7nEZf3DHiCKMKMKIIowowogijCjCiCKMKMKIIowowogijCjCiCKMqN+7untpl2FfOgAAAABJRU5ErkJggg==\" id=\"image04948ff169\" transform=\"scale(1 -1)translate(0 -73.44)\" x=\"7.2\" y=\"-196.078594\" width=\"73.44\" height=\"73.44\"/>\n   </g>\n   <g id=\"matplotlib.axis_13\"/>\n   <g id=\"matplotlib.axis_14\"/>\n   <g id=\"patch_33\">\n    <path d=\"M 7.2 269.518594 \nL 7.2 196.142123 \n\" style=\"fill: none; stroke: #bcbcbc; stroke-width: 0.8; stroke-linejoin: miter; stroke-linecap: square\"/>\n   </g>\n   <g id=\"patch_34\">\n    <path d=\"M 80.576471 269.518594 \nL 80.576471 196.142123 \n\" style=\"fill: none; stroke: #bcbcbc; stroke-width: 0.8; stroke-linejoin: miter; stroke-linecap: square\"/>\n   </g>\n   <g id=\"patch_35\">\n    <path d=\"M 7.2 269.518594 \nL 80.576471 269.518594 \n\" style=\"fill: none; stroke: #bcbcbc; stroke-width: 0.8; stroke-linejoin: miter; stroke-linecap: square\"/>\n   </g>\n   <g id=\"patch_36\">\n    <path d=\"M 7.2 196.142123 \nL 80.576471 196.142123 \n\" style=\"fill: none; stroke: #bcbcbc; stroke-width: 0.8; stroke-linejoin: miter; stroke-linecap: square\"/>\n   </g>\n   <g id=\"text_7\">\n    <!-- label: 8 -->\n    <g transform=\"translate(27.195345 190.142123)scale(0.09 -0.09)\">\n     <use xlink:href=\"#DejaVuSans-6c\"/>\n     <use xlink:href=\"#DejaVuSans-61\" x=\"27.783203\"/>\n     <use xlink:href=\"#DejaVuSans-62\" x=\"89.0625\"/>\n     <use xlink:href=\"#DejaVuSans-65\" x=\"152.539062\"/>\n     <use xlink:href=\"#DejaVuSans-6c\" x=\"214.0625\"/>\n     <use xlink:href=\"#DejaVuSans-3a\" x=\"241.845703\"/>\n     <use xlink:href=\"#DejaVuSans-20\" x=\"275.537109\"/>\n     <use xlink:href=\"#DejaVuSans-38\" x=\"307.324219\"/>\n    </g>\n   </g>\n  </g>\n  <g id=\"axes_8\">\n   <g id=\"patch_37\">\n    <path d=\"M 95.823529 269.518594 \nL 169.2 269.518594 \nL 169.2 196.142123 \nL 95.823529 196.142123 \nz\n\" style=\"fill: #eeeeee\"/>\n   </g>\n   <g clip-path=\"url(#pcf0ead5ef2)\">\n    <image xlink:href=\"data:image/png;base64,\niVBORw0KGgoAAAANSUhEUgAAAGYAAABmCAYAAAA53+RiAAADFklEQVR4nO2dIWuyURzFr/KqcwoGg4YlERcEYdViN/klxCTYtLuiSaZrM1gMVlf8AFpX12SKIGOo4MoMui/w/s/AB98deM+vHnaeZ/z4w+Xu3me+0+l0coIO/2+/gPg7EkOKxJAiMaRIDCkSQ8qfSxV/fn6a2WQyMbP393fYm81mzSyTyZhZPB6HvYFAAOb/Gk0MKRJDisSQIjGkSAwpEkOKxJDi87Lt//X1ZWbNZtPMhsOhmeVyOfjMxWJhZuhXKZVKsLdSqZhZIpEwM5/PB3vPRRNDisSQIjGkSAwpEkOKxJDiabm8Xq/NrFgsmlm73TazfD4Pn7nf781sOp2a2ePjI+wNhUJm1u12zSyVSpmZl6W0JoYUiSFFYkiRGFIkhhSJIcXTcnmz2ZhZtVo1s1arZWY3Nzfnvg7cXZ7P5/Bn0e7z7e2tmQ0GAzO7vr6Gz0RoYkiRGFIkhhSJIUViSJEYUjwtl4/Ho5mtViszQwe8vSwxEehdnXOu3++bWafTMbPZbGZmsVjsx/ey0MSQIjGkSAwpEkOKxJAiMaRIDCmeLsf6/bZXtH2PTrqgkzfOOReJRMwsGo2a2eFwgL1vb29mhi7O6lD5f4bEkCIxpEgMKRJDisSQcrFvyaBtdnQH8+npCfaiO5p3d3dm9vr6CnvH47GZNRoNMwuHw7D3XDQxpEgMKRJDisSQIjGkSAwpnk7JINByGX1e8eXlBfY+Pz+b2Wg0MrOPjw/Y+/DwYGblctnMrq6uYO+5aGJIkRhSJIYUiSFFYkiRGFIkhpSLbfvvdjsz6/V6ZpZOp2EvunSLtv3r9TrsRbcTLnUSBqGJIUViSJEYUiSGFIkhRWJIudhyGX3KEB3Svr+/h73oIDvagkffvXEO/8mgVquZWTKZhL3nookhRWJIkRhSJIYUiSFFYki52CkZBLoPiXZ5ncOfUNxut2a2XC5hL/rHp4VCwcyCwSDsPRdNDCkSQ4rEkCIxpEgMKRJDyq8sl8XPaGJIkRhSJIYUiSFFYkiRGFIkhhSJIUViSJEYUiSGFIkhRWJIkRhSvgGLELOa8bm8eAAAAABJRU5ErkJggg==\" id=\"image1a15a8da89\" transform=\"scale(1 -1)translate(0 -73.44)\" x=\"95.823529\" y=\"-196.078594\" width=\"73.44\" height=\"73.44\"/>\n   </g>\n   <g id=\"matplotlib.axis_15\"/>\n   <g id=\"matplotlib.axis_16\"/>\n   <g id=\"patch_38\">\n    <path d=\"M 95.823529 269.518594 \nL 95.823529 196.142123 \n\" style=\"fill: none; stroke: #bcbcbc; stroke-width: 0.8; stroke-linejoin: miter; stroke-linecap: square\"/>\n   </g>\n   <g id=\"patch_39\">\n    <path d=\"M 169.2 269.518594 \nL 169.2 196.142123 \n\" style=\"fill: none; stroke: #bcbcbc; stroke-width: 0.8; stroke-linejoin: miter; stroke-linecap: square\"/>\n   </g>\n   <g id=\"patch_40\">\n    <path d=\"M 95.823529 269.518594 \nL 169.2 269.518594 \n\" style=\"fill: none; stroke: #bcbcbc; stroke-width: 0.8; stroke-linejoin: miter; stroke-linecap: square\"/>\n   </g>\n   <g id=\"patch_41\">\n    <path d=\"M 95.823529 196.142123 \nL 169.2 196.142123 \n\" style=\"fill: none; stroke: #bcbcbc; stroke-width: 0.8; stroke-linejoin: miter; stroke-linecap: square\"/>\n   </g>\n   <g id=\"text_8\">\n    <!-- label: 3 -->\n    <g transform=\"translate(115.818874 190.142123)scale(0.09 -0.09)\">\n     <use xlink:href=\"#DejaVuSans-6c\"/>\n     <use xlink:href=\"#DejaVuSans-61\" x=\"27.783203\"/>\n     <use xlink:href=\"#DejaVuSans-62\" x=\"89.0625\"/>\n     <use xlink:href=\"#DejaVuSans-65\" x=\"152.539062\"/>\n     <use xlink:href=\"#DejaVuSans-6c\" x=\"214.0625\"/>\n     <use xlink:href=\"#DejaVuSans-3a\" x=\"241.845703\"/>\n     <use xlink:href=\"#DejaVuSans-20\" x=\"275.537109\"/>\n     <use xlink:href=\"#DejaVuSans-33\" x=\"307.324219\"/>\n    </g>\n   </g>\n  </g>\n  <g id=\"axes_9\">\n   <g id=\"patch_42\">\n    <path d=\"M 184.447059 269.518594 \nL 257.823529 269.518594 \nL 257.823529 196.142123 \nL 184.447059 196.142123 \nz\n\" style=\"fill: #eeeeee\"/>\n   </g>\n   <g clip-path=\"url(#p04755f5f1e)\">\n    <image xlink:href=\"data:image/png;base64,\niVBORw0KGgoAAAANSUhEUgAAAGYAAABmCAYAAAA53+RiAAACWElEQVR4nO3cMY5pURyA8ecREhqNgsoGBokFqDQarcQGrMUCJGqVQiQSnR1IFBRKy7goeBt450iMmfuR79f+c48z+XKSe82NzP1+v/8Rzt+0N6D/MwyUYaAMA2UYKMNA5dL40CRJgrPb7Ra9tlgsBmeZTObpPdF4YqAMA2UYKMNAGQbKMFCGgfqx55jY88h0Og3OVqtVdN35fB6cVSqVxxt7E54YKMNAGQbKMFCGgTIMVCaNt2QOh0Nw1mg0oteu1+vgrNfrPb0nGk8MlGGgDANlGCjDQBkGKpXb5fP5HJwNBoPotZfLJThbLBbBWeztGiJPDJRhoAwDZRgow0AZBiqV2+WY3W4XnXc6neBsNpsFZ/1+P7ou7YV0TwyUYaAMA2UYKMNAGQbKMFC455jr9Rqdj0aj4Ox4PAZnm80mum6pVIpv7Jd5YqAMA2UYKMNAGQbKMFC42+VH9vt9cNZut4Oz7XYbXbfVaj27pR/hiYEyDJRhoAwDZRgow0Cl8tOL31Gv14OzWq0WnC2Xy+i6X19fwVk2m324r1fzxEAZBsowUIaBMgyUYaAMA/V2X/vHftJxPB4HZ5PJJLpu7N8J5XL54b5ezRMDZRgow0AZBsowUIaBervb5ZjT6RScNZvN6LWx36HpdrtP7+lZnhgow0AZBsowUIaBMgzU270lE1OtVoOz4XAYvbZQKLx6O9/iiYEyDJRhoAwDZRgow0B91LfLsT8lSZLotfl8PjjL5X7/qcITA2UYKMNAGQbKMFCGgTIM1Ec9x3wSTwyUYaAMA2UYKMNAGQbqH/SBdXRKR6JbAAAAAElFTkSuQmCC\" id=\"imagebb97c043f6\" transform=\"scale(1 -1)translate(0 -73.44)\" x=\"184.447059\" y=\"-196.078594\" width=\"73.44\" height=\"73.44\"/>\n   </g>\n   <g id=\"matplotlib.axis_17\"/>\n   <g id=\"matplotlib.axis_18\"/>\n   <g id=\"patch_43\">\n    <path d=\"M 184.447059 269.518594 \nL 184.447059 196.142123 \n\" style=\"fill: none; stroke: #bcbcbc; stroke-width: 0.8; stroke-linejoin: miter; stroke-linecap: square\"/>\n   </g>\n   <g id=\"patch_44\">\n    <path d=\"M 257.823529 269.518594 \nL 257.823529 196.142123 \n\" style=\"fill: none; stroke: #bcbcbc; stroke-width: 0.8; stroke-linejoin: miter; stroke-linecap: square\"/>\n   </g>\n   <g id=\"patch_45\">\n    <path d=\"M 184.447059 269.518594 \nL 257.823529 269.518594 \n\" style=\"fill: none; stroke: #bcbcbc; stroke-width: 0.8; stroke-linejoin: miter; stroke-linecap: square\"/>\n   </g>\n   <g id=\"patch_46\">\n    <path d=\"M 184.447059 196.142123 \nL 257.823529 196.142123 \n\" style=\"fill: none; stroke: #bcbcbc; stroke-width: 0.8; stroke-linejoin: miter; stroke-linecap: square\"/>\n   </g>\n   <g id=\"text_9\">\n    <!-- label: 1 -->\n    <g transform=\"translate(204.442403 190.142123)scale(0.09 -0.09)\">\n     <use xlink:href=\"#DejaVuSans-6c\"/>\n     <use xlink:href=\"#DejaVuSans-61\" x=\"27.783203\"/>\n     <use xlink:href=\"#DejaVuSans-62\" x=\"89.0625\"/>\n     <use xlink:href=\"#DejaVuSans-65\" x=\"152.539062\"/>\n     <use xlink:href=\"#DejaVuSans-6c\" x=\"214.0625\"/>\n     <use xlink:href=\"#DejaVuSans-3a\" x=\"241.845703\"/>\n     <use xlink:href=\"#DejaVuSans-20\" x=\"275.537109\"/>\n     <use xlink:href=\"#DejaVuSans-31\" x=\"307.324219\"/>\n    </g>\n   </g>\n  </g>\n </g>\n <defs>\n  <clipPath id=\"p0a9cdfc455\">\n   <rect x=\"7.2\" y=\"20.038594\" width=\"73.376471\" height=\"73.376471\"/>\n  </clipPath>\n  <clipPath id=\"p33421ea8ac\">\n   <rect x=\"95.823529\" y=\"20.038594\" width=\"73.376471\" height=\"73.376471\"/>\n  </clipPath>\n  <clipPath id=\"p98a085f0ae\">\n   <rect x=\"184.447059\" y=\"20.038594\" width=\"73.376471\" height=\"73.376471\"/>\n  </clipPath>\n  <clipPath id=\"p97a0a7b4c4\">\n   <rect x=\"7.2\" y=\"108.090358\" width=\"73.376471\" height=\"73.376471\"/>\n  </clipPath>\n  <clipPath id=\"p0364a23cec\">\n   <rect x=\"95.823529\" y=\"108.090358\" width=\"73.376471\" height=\"73.376471\"/>\n  </clipPath>\n  <clipPath id=\"pcaa2a2960a\">\n   <rect x=\"184.447059\" y=\"108.090358\" width=\"73.376471\" height=\"73.376471\"/>\n  </clipPath>\n  <clipPath id=\"p6fe8eb85e5\">\n   <rect x=\"7.2\" y=\"196.142123\" width=\"73.376471\" height=\"73.376471\"/>\n  </clipPath>\n  <clipPath id=\"pcf0ead5ef2\">\n   <rect x=\"95.823529\" y=\"196.142123\" width=\"73.376471\" height=\"73.376471\"/>\n  </clipPath>\n  <clipPath id=\"p04755f5f1e\">\n   <rect x=\"184.447059\" y=\"196.142123\" width=\"73.376471\" height=\"73.376471\"/>\n  </clipPath>\n </defs>\n</svg>\n",
      "text/plain": [
       "<Figure size 450x450 with 9 Axes>"
      ]
     },
     "metadata": {},
     "output_type": "display_data"
    }
   ],
   "source": [
    "set_figsize((4.5,4.5))\n",
    "\n",
    "show_img_grid(\n",
    "    [train_images_scaled[i].reshape(img_shape) for i in range(9)],\n",
    "    [f\"label: {jnp.argmax(train_labels[i])}\" for i in range(9)]\n",
    ")"
   ]
  },
  {
   "cell_type": "markdown",
   "id": "76114d82",
   "metadata": {},
   "source": [
    "# Feature Map"
   ]
  },
  {
   "cell_type": "code",
   "execution_count": 21,
   "id": "725a1acd",
   "metadata": {},
   "outputs": [],
   "source": [
    "def feature_map(x: Scalar) -> Vector:\n",
    "    \"\"\"Definine a feature map per pixel\"\"\"\n",
    "    return jnp.asarray([\n",
    "        jnp.cos(0.5 * jnp.pi * x),\n",
    "        jnp.sin(0.5 * jnp.pi * x)\n",
    "    ])"
   ]
  },
  {
   "cell_type": "code",
   "execution_count": 22,
   "id": "b7474f74",
   "metadata": {},
   "outputs": [],
   "source": [
    "# applying the feature map in vectorized form\n",
    "# exchanging axes for convenience (leading axes have the largest dimensions)\n",
    "train_samples = jax.vmap(feature_map)(train_images_scaled).transpose(0,2,1)  \n",
    "test_samples = jax.vmap(feature_map)(test_images_scaled).transpose(0,2,1)"
   ]
  },
  {
   "cell_type": "code",
   "execution_count": 23,
   "id": "8ec309fc",
   "metadata": {},
   "outputs": [
    {
     "name": "stdout",
     "output_type": "stream",
     "text": [
      "Train data shape: (20000, 196, 2) | Test data shape: (10000, 196, 2)\n"
     ]
    }
   ],
   "source": [
    "print(f'Train data shape: {train_samples.shape} | Test data shape: {test_samples.shape}')"
   ]
  },
  {
   "cell_type": "code",
   "execution_count": 24,
   "id": "2e30c78d",
   "metadata": {},
   "outputs": [
    {
     "data": {
      "image/svg+xml": "<?xml version=\"1.0\" encoding=\"utf-8\" standalone=\"no\"?>\n<!DOCTYPE svg PUBLIC \"-//W3C//DTD SVG 1.1//EN\"\n  \"http://www.w3.org/Graphics/SVG/1.1/DTD/svg11.dtd\">\n<svg xmlns:xlink=\"http://www.w3.org/1999/xlink\" width=\"186.872727pt\" height=\"199.102594pt\" viewBox=\"0 0 186.872727 199.102594\" xmlns=\"http://www.w3.org/2000/svg\" version=\"1.1\">\n <metadata>\n  <rdf:RDF xmlns:dc=\"http://purl.org/dc/elements/1.1/\" xmlns:cc=\"http://creativecommons.org/ns#\" xmlns:rdf=\"http://www.w3.org/1999/02/22-rdf-syntax-ns#\">\n   <cc:Work>\n    <dc:type rdf:resource=\"http://purl.org/dc/dcmitype/StillImage\"/>\n    <dc:date>2022-05-07T21:15:07.373239</dc:date>\n    <dc:format>image/svg+xml</dc:format>\n    <dc:creator>\n     <cc:Agent>\n      <dc:title>Matplotlib v3.5.2, https://matplotlib.org/</dc:title>\n     </cc:Agent>\n    </dc:creator>\n   </cc:Work>\n  </rdf:RDF>\n </metadata>\n <defs>\n  <style type=\"text/css\">*{stroke-linejoin: round; stroke-linecap: butt}</style>\n </defs>\n <g id=\"figure_1\">\n  <g id=\"patch_1\">\n   <path d=\"M 0 199.102594 \nL 186.872727 199.102594 \nL 186.872727 0 \nL 0 0 \nz\n\" style=\"fill: #ffffff\"/>\n  </g>\n  <g id=\"axes_1\">\n   <g id=\"patch_2\">\n    <path d=\"M 7.2 98.158594 \nL 85.32 98.158594 \nL 85.32 20.038594 \nL 7.2 20.038594 \nz\n\" style=\"fill: #eeeeee\"/>\n   </g>\n   <g clip-path=\"url(#pf0b6854a6f)\">\n    <image xlink:href=\"data:image/png;base64,\niVBORw0KGgoAAAANSUhEUgAAAG0AAABtCAYAAACr+O9WAAAB6UlEQVR4nO3dQWrCUBRA0fwaMnYDmRsQsz9X4VZcgOAWnDp0FHCSSRAcaFfwv7RNn9z2nulDeOXyoJ8WTFVVPSuhfLx7AX2d0YCMBmQ0IKMBGQ3IaED1uxf4LSmlH80fj8ec68zKSwMyGpDRgIwGZDQgowEZDejPvtO2221xPk1Tcb7b7WbcZl5eGpDRgIwGZDQgowEZDShV4H+hq+v8i+V6vRY/2/d9cX65XL61UwQvDchoQEYDMhqQ0YCMBmQ0IPSfZlarVXa2XC6Lnx2GYeZt4nhpQEYDMhqQ0YCMBmQ0IKMBod9pXddlZ6fTqfjZ+/0+9zphvDQgowEZDchoQEYDMhqQ0YDQ77TFYpGdjeMYt0gwLw3IaEBGAzIakNGAjAZkNCD0O229XmdnTdMEbhLLSwMyGpDRgIwGZDQgowGhf+Vv2zY7Ox6PcYsE89KAjAZkNCCjARkNyGhARgNCv9M2m012dj6fAzeJ5aUBGQ3IaEBGAzIakNGAjAaEfqeVviH3drsFbhLLSwMyGpDRgIwGZDQgowEZDQj9Ttvv99nZ4XAI3CSWlwZkNCCjARkNyGhARgNCf/tuSik7ez6xP9ZLXhqQ0YCMBmQ0IKMBGQ3IaEDod9p/5aUBGQ3IaEBGAzIakNGAjAb0CWEhM2ckPZx0AAAAAElFTkSuQmCC\" id=\"image36122a90eb\" transform=\"scale(1 -1)translate(0 -78.48)\" x=\"7.2\" y=\"-19.678594\" width=\"78.48\" height=\"78.48\"/>\n   </g>\n   <g id=\"matplotlib.axis_1\"/>\n   <g id=\"matplotlib.axis_2\"/>\n   <g id=\"patch_3\">\n    <path d=\"M 7.2 98.158594 \nL 7.2 20.038594 \n\" style=\"fill: none; stroke: #bcbcbc; stroke-width: 0.8; stroke-linejoin: miter; stroke-linecap: square\"/>\n   </g>\n   <g id=\"patch_4\">\n    <path d=\"M 85.32 98.158594 \nL 85.32 20.038594 \n\" style=\"fill: none; stroke: #bcbcbc; stroke-width: 0.8; stroke-linejoin: miter; stroke-linecap: square\"/>\n   </g>\n   <g id=\"patch_5\">\n    <path d=\"M 7.2 98.158594 \nL 85.32 98.158594 \n\" style=\"fill: none; stroke: #bcbcbc; stroke-width: 0.8; stroke-linejoin: miter; stroke-linecap: square\"/>\n   </g>\n   <g id=\"patch_6\">\n    <path d=\"M 7.2 20.038594 \nL 85.32 20.038594 \n\" style=\"fill: none; stroke: #bcbcbc; stroke-width: 0.8; stroke-linejoin: miter; stroke-linecap: square\"/>\n   </g>\n   <g id=\"text_1\">\n    <!-- label: 1 -->\n    <g transform=\"translate(29.567109 14.038594)scale(0.09 -0.09)\">\n     <defs>\n      <path id=\"DejaVuSans-6c\" d=\"M 603 4863 \nL 1178 4863 \nL 1178 0 \nL 603 0 \nL 603 4863 \nz\n\" transform=\"scale(0.015625)\"/>\n      <path id=\"DejaVuSans-61\" d=\"M 2194 1759 \nQ 1497 1759 1228 1600 \nQ 959 1441 959 1056 \nQ 959 750 1161 570 \nQ 1363 391 1709 391 \nQ 2188 391 2477 730 \nQ 2766 1069 2766 1631 \nL 2766 1759 \nL 2194 1759 \nz\nM 3341 1997 \nL 3341 0 \nL 2766 0 \nL 2766 531 \nQ 2569 213 2275 61 \nQ 1981 -91 1556 -91 \nQ 1019 -91 701 211 \nQ 384 513 384 1019 \nQ 384 1609 779 1909 \nQ 1175 2209 1959 2209 \nL 2766 2209 \nL 2766 2266 \nQ 2766 2663 2505 2880 \nQ 2244 3097 1772 3097 \nQ 1472 3097 1187 3025 \nQ 903 2953 641 2809 \nL 641 3341 \nQ 956 3463 1253 3523 \nQ 1550 3584 1831 3584 \nQ 2591 3584 2966 3190 \nQ 3341 2797 3341 1997 \nz\n\" transform=\"scale(0.015625)\"/>\n      <path id=\"DejaVuSans-62\" d=\"M 3116 1747 \nQ 3116 2381 2855 2742 \nQ 2594 3103 2138 3103 \nQ 1681 3103 1420 2742 \nQ 1159 2381 1159 1747 \nQ 1159 1113 1420 752 \nQ 1681 391 2138 391 \nQ 2594 391 2855 752 \nQ 3116 1113 3116 1747 \nz\nM 1159 2969 \nQ 1341 3281 1617 3432 \nQ 1894 3584 2278 3584 \nQ 2916 3584 3314 3078 \nQ 3713 2572 3713 1747 \nQ 3713 922 3314 415 \nQ 2916 -91 2278 -91 \nQ 1894 -91 1617 61 \nQ 1341 213 1159 525 \nL 1159 0 \nL 581 0 \nL 581 4863 \nL 1159 4863 \nL 1159 2969 \nz\n\" transform=\"scale(0.015625)\"/>\n      <path id=\"DejaVuSans-65\" d=\"M 3597 1894 \nL 3597 1613 \nL 953 1613 \nQ 991 1019 1311 708 \nQ 1631 397 2203 397 \nQ 2534 397 2845 478 \nQ 3156 559 3463 722 \nL 3463 178 \nQ 3153 47 2828 -22 \nQ 2503 -91 2169 -91 \nQ 1331 -91 842 396 \nQ 353 884 353 1716 \nQ 353 2575 817 3079 \nQ 1281 3584 2069 3584 \nQ 2775 3584 3186 3129 \nQ 3597 2675 3597 1894 \nz\nM 3022 2063 \nQ 3016 2534 2758 2815 \nQ 2500 3097 2075 3097 \nQ 1594 3097 1305 2825 \nQ 1016 2553 972 2059 \nL 3022 2063 \nz\n\" transform=\"scale(0.015625)\"/>\n      <path id=\"DejaVuSans-3a\" d=\"M 750 794 \nL 1409 794 \nL 1409 0 \nL 750 0 \nL 750 794 \nz\nM 750 3309 \nL 1409 3309 \nL 1409 2516 \nL 750 2516 \nL 750 3309 \nz\n\" transform=\"scale(0.015625)\"/>\n      <path id=\"DejaVuSans-20\" transform=\"scale(0.015625)\"/>\n      <path id=\"DejaVuSans-31\" d=\"M 794 531 \nL 1825 531 \nL 1825 4091 \nL 703 3866 \nL 703 4441 \nL 1819 4666 \nL 2450 4666 \nL 2450 531 \nL 3481 531 \nL 3481 0 \nL 794 0 \nL 794 531 \nz\n\" transform=\"scale(0.015625)\"/>\n     </defs>\n     <use xlink:href=\"#DejaVuSans-6c\"/>\n     <use xlink:href=\"#DejaVuSans-61\" x=\"27.783203\"/>\n     <use xlink:href=\"#DejaVuSans-62\" x=\"89.0625\"/>\n     <use xlink:href=\"#DejaVuSans-65\" x=\"152.539062\"/>\n     <use xlink:href=\"#DejaVuSans-6c\" x=\"214.0625\"/>\n     <use xlink:href=\"#DejaVuSans-3a\" x=\"241.845703\"/>\n     <use xlink:href=\"#DejaVuSans-20\" x=\"275.537109\"/>\n     <use xlink:href=\"#DejaVuSans-31\" x=\"307.324219\"/>\n    </g>\n   </g>\n  </g>\n  <g id=\"axes_2\">\n   <g id=\"patch_7\">\n    <path d=\"M 101.552727 98.158594 \nL 179.672727 98.158594 \nL 179.672727 20.038594 \nL 101.552727 20.038594 \nz\n\" style=\"fill: #eeeeee\"/>\n   </g>\n   <g clip-path=\"url(#pab4d9974c6)\">\n    <image xlink:href=\"data:image/png;base64,\niVBORw0KGgoAAAANSUhEUgAAAG0AAABtCAYAAACr+O9WAAACoklEQVR4nO3dQUpqcQBG8WuFBBEIjWroIKJo4kQI2oIDB+0jAmcNmoktIdpKVBswmgQRRNAeFEp94wfvfoLi8x44v+nHBenwBy9erVYUxaxYk42NjbhvbW3FfTqdlm6/v78LvSaC/FdTJRkNyGhARgMyGpDRgIwGlG+ElrS9vR33m5ubuF9cXMR9PB6Xbt1uN1779vYW9yrzpAEZDchoQEYDMhqQ0YCMBlQrVvh5Wq1Wi/v+/n7cj46O4n5/f1+6TSaTeO3p6WncR6NR3NfJkwZkNCCjARkNyGhARgNa6Vv+Vev3+6Vbr9eL17Zarbi/vLws8pL+C08akNGAjAZkNCCjARkNyGhAK32EblnzvgrVbrdLt9ks336mx++qzpMGZDQgowEZDchoQEYDMhpQpe/T0k9OFEVRPDw8lG7n5+fx2kajschLqgRPGpDRgIwGZDQgowEZDchoQOjnHnd3d0u3x8fHeO28z+rOzs7ivs6vQnnSgIwGZDQgowEZDchoQEYDQt+nJcfHx3F/fn6O+2AwiPvt7W3c5z13uQxPGpDRgIwGZDQgowEZDWilb/nr9XrcDw8P4/7+/h73n5+f0m1zczNee319Hferq6u4n5ycxP3r6yvuy/CkARkNyGhARgMyGpDRgIwGtNKvOh0cHMT96ekp7t/f33H//Pws3fb29uK1zWYz7js7O0td732a/mI0IKMBGQ3IaEBGAzIa0Fr/q1On04n75eVl3NN/Zvr4+IjXvr6+xn04HMb97u4u7umzvmV50oCMBmQ0IKMBGQ3IaEBGA6r0V53m/WxEerZx3n/fnfezhFXmSQMyGpDRgIwGZDQgowFV+i2//s2TBmQ0IKMBGQ3IaEBGAzIakNGAjAZkNCCjARkNyGhARgMyGtAfahxwH5ZZJisAAAAASUVORK5CYII=\" id=\"image3b674f5d2e\" transform=\"scale(1 -1)translate(0 -78.48)\" x=\"101.552727\" y=\"-19.678594\" width=\"78.48\" height=\"78.48\"/>\n   </g>\n   <g id=\"matplotlib.axis_3\"/>\n   <g id=\"matplotlib.axis_4\"/>\n   <g id=\"patch_8\">\n    <path d=\"M 101.552727 98.158594 \nL 101.552727 20.038594 \n\" style=\"fill: none; stroke: #bcbcbc; stroke-width: 0.8; stroke-linejoin: miter; stroke-linecap: square\"/>\n   </g>\n   <g id=\"patch_9\">\n    <path d=\"M 179.672727 98.158594 \nL 179.672727 20.038594 \n\" style=\"fill: none; stroke: #bcbcbc; stroke-width: 0.8; stroke-linejoin: miter; stroke-linecap: square\"/>\n   </g>\n   <g id=\"patch_10\">\n    <path d=\"M 101.552727 98.158594 \nL 179.672727 98.158594 \n\" style=\"fill: none; stroke: #bcbcbc; stroke-width: 0.8; stroke-linejoin: miter; stroke-linecap: square\"/>\n   </g>\n   <g id=\"patch_11\">\n    <path d=\"M 101.552727 20.038594 \nL 179.672727 20.038594 \n\" style=\"fill: none; stroke: #bcbcbc; stroke-width: 0.8; stroke-linejoin: miter; stroke-linecap: square\"/>\n   </g>\n   <g id=\"text_2\">\n    <!-- label: 3 -->\n    <g transform=\"translate(123.919837 14.038594)scale(0.09 -0.09)\">\n     <defs>\n      <path id=\"DejaVuSans-33\" d=\"M 2597 2516 \nQ 3050 2419 3304 2112 \nQ 3559 1806 3559 1356 \nQ 3559 666 3084 287 \nQ 2609 -91 1734 -91 \nQ 1441 -91 1130 -33 \nQ 819 25 488 141 \nL 488 750 \nQ 750 597 1062 519 \nQ 1375 441 1716 441 \nQ 2309 441 2620 675 \nQ 2931 909 2931 1356 \nQ 2931 1769 2642 2001 \nQ 2353 2234 1838 2234 \nL 1294 2234 \nL 1294 2753 \nL 1863 2753 \nQ 2328 2753 2575 2939 \nQ 2822 3125 2822 3475 \nQ 2822 3834 2567 4026 \nQ 2313 4219 1838 4219 \nQ 1578 4219 1281 4162 \nQ 984 4106 628 3988 \nL 628 4550 \nQ 988 4650 1302 4700 \nQ 1616 4750 1894 4750 \nQ 2613 4750 3031 4423 \nQ 3450 4097 3450 3541 \nQ 3450 3153 3228 2886 \nQ 3006 2619 2597 2516 \nz\n\" transform=\"scale(0.015625)\"/>\n     </defs>\n     <use xlink:href=\"#DejaVuSans-6c\"/>\n     <use xlink:href=\"#DejaVuSans-61\" x=\"27.783203\"/>\n     <use xlink:href=\"#DejaVuSans-62\" x=\"89.0625\"/>\n     <use xlink:href=\"#DejaVuSans-65\" x=\"152.539062\"/>\n     <use xlink:href=\"#DejaVuSans-6c\" x=\"214.0625\"/>\n     <use xlink:href=\"#DejaVuSans-3a\" x=\"241.845703\"/>\n     <use xlink:href=\"#DejaVuSans-20\" x=\"275.537109\"/>\n     <use xlink:href=\"#DejaVuSans-33\" x=\"307.324219\"/>\n    </g>\n   </g>\n  </g>\n  <g id=\"axes_3\">\n   <g id=\"patch_12\">\n    <path d=\"M 7.2 191.902594 \nL 85.32 191.902594 \nL 85.32 113.782594 \nL 7.2 113.782594 \nz\n\" style=\"fill: #eeeeee\"/>\n   </g>\n   <g clip-path=\"url(#pff6f42891a)\">\n    <image xlink:href=\"data:image/png;base64,\niVBORw0KGgoAAAANSUhEUgAAAG0AAABtCAYAAACr+O9WAAACGklEQVR4nO3dO4oCQRRA0enxh4lgbGRkaG7oXlyR6zBxBa7CRHADRoIYKNKuoF6h9HTXZe5JHw0FlwcW/qq6rusfofx2fQB9zmhARgMyGpDRgIwGZDSgftcH+Cv3+z2cP5/PcD6ZTMJ5VVUfn6kpbhqQ0YCMBmQ0IKMBGQ3IaEAV+f206K612WzCZ8fjcTjfbrfhvN/v7orrpgEZDchoQEYDMhqQ0YDQb81cr9fkbLfbhc/u9/tw3uv1vjpTG9w0IKMBGQ3IaEBGAzIakNGA0Pe0w+GQnN1ut/DZxWIRzrv8iFyOmwZkNCCjARkNyGhARgMyGhD6nnY8HpOz+XwePjudTps+TmvcNCCjARkNyGhARgMyGpDRgND3tNfrlZzlflKi5M815rhpQEYDMhqQ0YCMBmQ0IKMBoe9pp9MpOXs8Hi2epF1uGpDRgIwGZDQgowEZDajol/y5H8i7XC7J2XK5DJ8dDAZfnakEbhqQ0YCMBmQ0IKMBGQ3IaEBF39Nyb6+cz+fkbDabhc+W/JMTOW4akNGAjAZkNCCjARkNyGhARd/TcqK71nA4bPEk7XLTgIwGZDQgowEZDchoQEYDKvqelvuH29VqlZyt1+umj1MMNw3IaEBGAzIakNGAjAZU1bnvExUs+uem3FeZRqNR08dpjZsGZDQgowEZDchoQEYDMhoQ+p72X7lpQEYDMhqQ0YCMBmQ0IKMBvQHD8kX0G0+e+gAAAABJRU5ErkJggg==\" id=\"image8b7deb7786\" transform=\"scale(1 -1)translate(0 -78.48)\" x=\"7.2\" y=\"-113.422594\" width=\"78.48\" height=\"78.48\"/>\n   </g>\n   <g id=\"matplotlib.axis_5\"/>\n   <g id=\"matplotlib.axis_6\"/>\n   <g id=\"patch_13\">\n    <path d=\"M 7.2 191.902594 \nL 7.2 113.782594 \n\" style=\"fill: none; stroke: #bcbcbc; stroke-width: 0.8; stroke-linejoin: miter; stroke-linecap: square\"/>\n   </g>\n   <g id=\"patch_14\">\n    <path d=\"M 85.32 191.902594 \nL 85.32 113.782594 \n\" style=\"fill: none; stroke: #bcbcbc; stroke-width: 0.8; stroke-linejoin: miter; stroke-linecap: square\"/>\n   </g>\n   <g id=\"patch_15\">\n    <path d=\"M 7.2 191.902594 \nL 85.32 191.902594 \n\" style=\"fill: none; stroke: #bcbcbc; stroke-width: 0.8; stroke-linejoin: miter; stroke-linecap: square\"/>\n   </g>\n   <g id=\"patch_16\">\n    <path d=\"M 7.2 113.782594 \nL 85.32 113.782594 \n\" style=\"fill: none; stroke: #bcbcbc; stroke-width: 0.8; stroke-linejoin: miter; stroke-linecap: square\"/>\n   </g>\n   <g id=\"text_3\">\n    <!-- label: 1 -->\n    <g transform=\"translate(29.567109 107.782594)scale(0.09 -0.09)\">\n     <use xlink:href=\"#DejaVuSans-6c\"/>\n     <use xlink:href=\"#DejaVuSans-61\" x=\"27.783203\"/>\n     <use xlink:href=\"#DejaVuSans-62\" x=\"89.0625\"/>\n     <use xlink:href=\"#DejaVuSans-65\" x=\"152.539062\"/>\n     <use xlink:href=\"#DejaVuSans-6c\" x=\"214.0625\"/>\n     <use xlink:href=\"#DejaVuSans-3a\" x=\"241.845703\"/>\n     <use xlink:href=\"#DejaVuSans-20\" x=\"275.537109\"/>\n     <use xlink:href=\"#DejaVuSans-31\" x=\"307.324219\"/>\n    </g>\n   </g>\n  </g>\n  <g id=\"axes_4\">\n   <g id=\"patch_17\">\n    <path d=\"M 101.552727 191.902594 \nL 179.672727 191.902594 \nL 179.672727 113.782594 \nL 101.552727 113.782594 \nz\n\" style=\"fill: #eeeeee\"/>\n   </g>\n   <g clip-path=\"url(#peef145284c)\">\n    <image xlink:href=\"data:image/png;base64,\niVBORw0KGgoAAAANSUhEUgAAAG0AAABtCAYAAACr+O9WAAACx0lEQVR4nO3cvWoiYQCF4TEaUREMCMHKTlLkNiSFvaUIuQBzAVa2Ygrb3EC8Aus0ETttUouNlYV/EBt16y3mTDYy6GHfpz1MWHj3A4fRSZxOp1MQk8PhIPftdiv39Xot99vb29Dt/v5eXptKpeR+zW4u/Q/AvyOaIaIZIpohohkimiGiGYr1ZmU2m8m92WzKfTqdyj2ZTIZuvV5PXvv8/Cz3a76P46QZIpohohkimiGiGSKaIaIZSsT5PC3qedjn56fcx+Ox3F9fX0O3RCIhr51MJnKvVCpyvyROmiGiGSKaIaIZIpohohmK9SP/ufb7vdyr1WroFnU70e/35d5qteR+SZw0Q0QzRDRDRDNENENEM0Q0Q9f7PbEgCL6/v+Ue9RU9JZfL/fraS+OkGSKaIaIZIpohohkimiGiGbrq+7RsNiv3x8fH0G2xWMhrl8ul3I/Ho9xvbi73/52TZohohohmiGiGiGaIaIaIZuiqv/cYRf1cSX0n8idGo5HcHx4ezvr75+CkGSKaIaIZIpohohkimiGiGbK+T1PPvN7e3uS1Ub8/e3p6kvtgMJB7Pp+X+zk4aYaIZohohohmiGiGiGYo1o/88/lc7sPhUO61Wk3uxWIxdNtsNvLaRqMh94+PD7lHfeSv1+tyPwcnzRDRDBHNENEMEc0Q0QwRzVCsP3WKetv3y8uL3Nvtttzv7u5Ct6jXWaxWK7lH/dTp6+tL7tyn4S9EM0Q0Q0QzRDRDRDNENEOxPk+LeqbV6XTk/v7+Lnf1WolCoSCvLZVKclevuwiCIOh2u3Ivl8tyPwcnzRDRDBHNENEMEc0Q0QwRzdBFf+p0OBzkvtvtfr1HvcI9k8nIPZlMyj2dTss9Tpw0Q0QzRDRDRDNENENEM2T9doP/FSfNENEMEc0Q0QwRzRDRDBHNENEMEc0Q0QwRzRDRDBHNENEMEc3QH6H3nuRDwJD8AAAAAElFTkSuQmCC\" id=\"image9dcae0d014\" transform=\"scale(1 -1)translate(0 -78.48)\" x=\"101.552727\" y=\"-113.422594\" width=\"78.48\" height=\"78.48\"/>\n   </g>\n   <g id=\"matplotlib.axis_7\"/>\n   <g id=\"matplotlib.axis_8\"/>\n   <g id=\"patch_18\">\n    <path d=\"M 101.552727 191.902594 \nL 101.552727 113.782594 \n\" style=\"fill: none; stroke: #bcbcbc; stroke-width: 0.8; stroke-linejoin: miter; stroke-linecap: square\"/>\n   </g>\n   <g id=\"patch_19\">\n    <path d=\"M 179.672727 191.902594 \nL 179.672727 113.782594 \n\" style=\"fill: none; stroke: #bcbcbc; stroke-width: 0.8; stroke-linejoin: miter; stroke-linecap: square\"/>\n   </g>\n   <g id=\"patch_20\">\n    <path d=\"M 101.552727 191.902594 \nL 179.672727 191.902594 \n\" style=\"fill: none; stroke: #bcbcbc; stroke-width: 0.8; stroke-linejoin: miter; stroke-linecap: square\"/>\n   </g>\n   <g id=\"patch_21\">\n    <path d=\"M 101.552727 113.782594 \nL 179.672727 113.782594 \n\" style=\"fill: none; stroke: #bcbcbc; stroke-width: 0.8; stroke-linejoin: miter; stroke-linecap: square\"/>\n   </g>\n   <g id=\"text_4\">\n    <!-- label: 3 -->\n    <g transform=\"translate(123.919837 107.782594)scale(0.09 -0.09)\">\n     <use xlink:href=\"#DejaVuSans-6c\"/>\n     <use xlink:href=\"#DejaVuSans-61\" x=\"27.783203\"/>\n     <use xlink:href=\"#DejaVuSans-62\" x=\"89.0625\"/>\n     <use xlink:href=\"#DejaVuSans-65\" x=\"152.539062\"/>\n     <use xlink:href=\"#DejaVuSans-6c\" x=\"214.0625\"/>\n     <use xlink:href=\"#DejaVuSans-3a\" x=\"241.845703\"/>\n     <use xlink:href=\"#DejaVuSans-20\" x=\"275.537109\"/>\n     <use xlink:href=\"#DejaVuSans-33\" x=\"307.324219\"/>\n    </g>\n   </g>\n  </g>\n </g>\n <defs>\n  <clipPath id=\"pf0b6854a6f\">\n   <rect x=\"7.2\" y=\"20.038594\" width=\"78.12\" height=\"78.12\"/>\n  </clipPath>\n  <clipPath id=\"pab4d9974c6\">\n   <rect x=\"101.552727\" y=\"20.038594\" width=\"78.12\" height=\"78.12\"/>\n  </clipPath>\n  <clipPath id=\"pff6f42891a\">\n   <rect x=\"7.2\" y=\"113.782594\" width=\"78.12\" height=\"78.12\"/>\n  </clipPath>\n  <clipPath id=\"peef145284c\">\n   <rect x=\"101.552727\" y=\"113.782594\" width=\"78.12\" height=\"78.12\"/>\n  </clipPath>\n </defs>\n</svg>\n",
      "text/plain": [
       "<Figure size 310x310 with 4 Axes>"
      ]
     },
     "metadata": {},
     "output_type": "display_data"
    }
   ],
   "source": [
    "set_figsize((3.1,3.1))\n",
    "\n",
    "# printing some images after the feature extraction\n",
    "show_img_grid(\n",
    "    [train_samples[i,:,j].reshape(img_shape) for j in range(2) for i in range(2)],\n",
    "    [f'label: {jnp.argmax(train_labels[i])}' for i in range(2)] * 2,\n",
    ")"
   ]
  },
  {
   "cell_type": "markdown",
   "id": "06c26e10",
   "metadata": {},
   "source": [
    "## MPS Utilities"
   ]
  },
  {
   "cell_type": "code",
   "execution_count": 25,
   "id": "fd500800",
   "metadata": {},
   "outputs": [],
   "source": [
    "def random_mps(\n",
    "        key: Key,\n",
    "        initializer: Callable,\n",
    "        size: int,\n",
    "        local_dim: int,\n",
    "        bond_dim: int,\n",
    "        labels_dim: Optional[int]=1,\n",
    "    ) -> MPS:\n",
    "    \"\"\"\n",
    "    Generate a random MPS where each core tensor\n",
    "    is drawn according to the given initializer (see JAX docs).\n",
    "    The result is a list of tensors indexed as follows:\n",
    "    0 --o-- 2\n",
    "        |    \n",
    "        1    \n",
    "    If the labels_dim is provided, it is set at the last tensor.\n",
    "    \"\"\"\n",
    "    left   = (1, local_dim, bond_dim)\n",
    "    right  = (bond_dim, local_dim, labels_dim)\n",
    "    middle = (bond_dim, local_dim, bond_dim)\n",
    "\n",
    "    if size < 2:\n",
    "        raise ValueError('Expectetd at least 2 sites for the MPS')\n",
    "    elif size == 2:\n",
    "        shapes = [left, right]\n",
    "    else:       \n",
    "        shapes = [left] + [middle]*(size-2) + [right]\n",
    "\n",
    "    # generate multiple keys, so all tensors are different\n",
    "    keys = jax.random.split(key, num=size)\n",
    "\n",
    "    return jax.tree_map(initializer, list(keys), shapes)"
   ]
  },
  {
   "cell_type": "code",
   "execution_count": 26,
   "id": "270d5741",
   "metadata": {},
   "outputs": [],
   "source": [
    "def reverse_mps(\n",
    "        params: MPS, \n",
    "        swapaxes: Optional[Tuple[int,int]]=(0,2)\n",
    "    ) -> MPS:\n",
    "    \"\"\"\n",
    "    A helper to reverse the MPS from left to right.\n",
    "    The left and right legs are interchanged.\n",
    "    The default change of indexing is as follows:\n",
    "    0 --o-- 2     2 --o-- 0 \n",
    "        |     =>      |\n",
    "        1             1\n",
    "    \"\"\"\n",
    "    swap_legs = lambda t: t.swapaxes(*swapaxes).conj()\n",
    "    return jax.tree_map(swap_legs, params[::-1])"
   ]
  },
  {
   "cell_type": "code",
   "execution_count": 27,
   "id": "c633ccfd",
   "metadata": {},
   "outputs": [],
   "source": [
    "# @jit\n",
    "def reverse_data(\n",
    "        params: MPS, \n",
    "        samples: Tensor,\n",
    "        wings: List[Matrix]\n",
    "    ) -> Tuple[MPS, Tensor, List[Matrix]]:\n",
    "    \"\"\"A helper to reverse main data arounnd the features axis\"\"\"\n",
    "    params_rev = reverse_mps(params)\n",
    "    samples_rev = jnp.flip(samples, axis=1)\n",
    "    wings_rev = wings[::-1]\n",
    "    return params_rev, samples_rev, wings_rev"
   ]
  },
  {
   "cell_type": "markdown",
   "id": "6285f566",
   "metadata": {},
   "source": [
    "# Bond Truncation"
   ]
  },
  {
   "cell_type": "code",
   "execution_count": 28,
   "id": "a70507ef",
   "metadata": {},
   "outputs": [],
   "source": [
    "# def suggest_truncation(\n",
    "#         λ: Vector,\n",
    "#         ε: Optional[float]=1e-3  # truncation error tolerance\n",
    "#     ) -> Tuple[jnp.ndarray, jnp.ndarray, int]:\n",
    "#     \"\"\"\n",
    "#     Suggest a truncation index of the spectrum \n",
    "#     such that the truncation error is lower than ε.\n",
    "#     The spectrum is assumed to be in the descending order.\n",
    "#     \"\"\"\n",
    "#     cum_sums = jnp.cumsum(λ / jnp.sum(λ))\n",
    "#     return jnp.searchsorted(cum_sums, 1-ε)"
   ]
  },
  {
   "cell_type": "markdown",
   "id": "e72bb275",
   "metadata": {},
   "source": [
    "# Training-Related Functions"
   ]
  },
  {
   "cell_type": "code",
   "execution_count": 29,
   "id": "828c3a39",
   "metadata": {},
   "outputs": [],
   "source": [
    "def project_sample(\n",
    "        params: MPS, \n",
    "        sample: Matrix\n",
    "    ) -> List[Matrix]:\n",
    "    \"\"\"\n",
    "    A helper to project a single sample onto the MPS\n",
    "    sites, i.e. contracting the local dimension only.\n",
    "    --o--o--...--o--     \n",
    "      |  |       |   => --o--o--...--o--\n",
    "      o  o       o\n",
    "    \"\"\"\n",
    "    # accounting for the possible labels dimension\n",
    "    mult = lambda t, s: jnp.einsum('pjq...,j->pq...', t, s)\n",
    "    return jax.tree_map(mult, params, list(sample))\n",
    "\n",
    "def project_samples(\n",
    "      params: MPS, \n",
    "      samples: Tensor\n",
    "    ) -> List[Tensor]:\n",
    "    \"\"\"Projects multiple samples onto the MPS\"\"\"\n",
    "    proj_func = functools.partial(project_sample, params)\n",
    "    return jax.vmap(proj_func)(samples)"
   ]
  },
  {
   "cell_type": "code",
   "execution_count": 30,
   "id": "9b75247b",
   "metadata": {},
   "outputs": [],
   "source": [
    "def loss(\n",
    "        bond_tensor: Tensor,\n",
    "        data: Tuple[List[Tensor], Matrix]\n",
    "    ) -> Scalar:\n",
    "    \"\"\"Squared loss function\"\"\"\n",
    "    # (Φ̃, δℓ) = data\n",
    "    inputs, labels = data\n",
    "    # Fig. 6c (fℓ(xₙ))\n",
    "    preds = jnp.einsum('mp,mij,mq,pijql->ml', *inputs, bond_tensor)\n",
    "    err = preds - labels\n",
    "    # implicit double sum in Eq.6\n",
    "    return 0.5 * jnp.sum(jnp.power(err, 2))"
   ]
  },
  {
   "cell_type": "code",
   "execution_count": 31,
   "id": "dc0bb716",
   "metadata": {},
   "outputs": [],
   "source": [
    "def grad(\n",
    "        bond_tensor: Tensor,\n",
    "        data: Tuple[List[Tensor], Matrix]\n",
    "    ) -> Scalar:\n",
    "    \"\"\"Manually calculate the squared loss gradient - Fig.6(c-d)\"\"\"\n",
    "    # (Φ̃, δℓ) = data\n",
    "    inputs, labels = data\n",
    "    # Fig. 6c (fℓ(xₙ))\n",
    "    preds = jnp.einsum('mp,mij,mq,pijql->ml', *inputs, bond_tensor)\n",
    "    # Fig. 6d\n",
    "    err = preds - labels\n",
    "    # positive gradient\n",
    "    return jnp.einsum('mp,mij,mq,ml->pijql', *inputs, err)"
   ]
  },
  {
   "cell_type": "code",
   "execution_count": 32,
   "id": "ea12dfda",
   "metadata": {},
   "outputs": [],
   "source": [
    "def predict_label(\n",
    "        params: MPS, \n",
    "        sample: Matrix\n",
    "    ) -> Scalar:\n",
    "    \"\"\"A helper to predict the label for a single sample\"\"\"\n",
    "    # project the test sample onto the mps\n",
    "    projs = project_sample(params, sample)\n",
    "    # reduce (full contraction)\n",
    "    preds = functools.reduce(\n",
    "        lambda x, y: jnp.einsum('pi...,iq...->pq...', x, y),\n",
    "        projs\n",
    "    )\n",
    "    return jnp.argmax(preds)\n",
    "\n",
    "def predict_labels(\n",
    "        params: MPS, \n",
    "        samples: Tensor\n",
    "    ) -> Scalar:\n",
    "    \"\"\"A helper to predict the label for a single sample\"\"\"\n",
    "    pred_func = functools.partial(predict_label, params)\n",
    "    return jax.vmap(pred_func)(samples)"
   ]
  },
  {
   "cell_type": "code",
   "execution_count": 33,
   "id": "fc39ed90",
   "metadata": {},
   "outputs": [],
   "source": [
    "def error_rate(\n",
    "        params: List[Tensor], \n",
    "        data: Tuple[Tensor, Matrix]\n",
    "    ) -> Scalar:\n",
    "    \"\"\"A helper to compute the error rate\"\"\"\n",
    "    samples, labels_oh = data\n",
    "    # undo one-hot encoding of the labels\n",
    "    labels = jnp.argmax(labels_oh, axis=1)\n",
    "    # predict labels for all samples\n",
    "    labels_pred = predict_labels(params, samples)\n",
    "    return 1 - jnp.sum(labels == labels_pred) / labels.size"
   ]
  },
  {
   "cell_type": "markdown",
   "id": "7c306bd4",
   "metadata": {},
   "source": [
    "# Initialize MPS"
   ]
  },
  {
   "cell_type": "code",
   "execution_count": 34,
   "id": "7b285e3c",
   "metadata": {},
   "outputs": [
    {
     "name": "stdout",
     "output_type": "stream",
     "text": [
      "The MPS dimensions: size=196, local_dim=2, bond_dim=20\n",
      "Total number of paramters: 156800\n"
     ]
    }
   ],
   "source": [
    "# getting the parameters\n",
    "num_samples, num_features, dim_features = train_samples.shape\n",
    "num_classes = train_labels.shape[1]\n",
    "\n",
    "# initializer\n",
    "initializer = jax.nn.initializers.uniform(scale=1)\n",
    "\n",
    "# generating a random mps according to the initialiser\n",
    "mps = random_mps(\n",
    "    key, \n",
    "    initializer, \n",
    "    size=num_features, \n",
    "    local_dim=dim_features, \n",
    "    bond_dim=bond_dim, # WARNING: to avoid unnecessary truncation, set bond_dim >= num_classes \n",
    "    labels_dim=num_classes\n",
    ")\n",
    "\n",
    "print(f'The MPS dimensions: size={num_features}, local_dim={dim_features}, bond_dim={bond_dim}')\n",
    "print(f'Total number of paramters: {bond_dim**2 * dim_features * num_features}')"
   ]
  },
  {
   "cell_type": "code",
   "execution_count": 35,
   "id": "affa5fb9",
   "metadata": {},
   "outputs": [],
   "source": [
    "def left_normalize(\n",
    "        params: MPS, \n",
    "        max_bond: int\n",
    "    ) -> MPS:\n",
    "    \"\"\"Normalise the mps into the left-canonical form\"\"\"\n",
    "    size = len(params)\n",
    "    for pos in range(size):\n",
    "        p, j, *_ = params[pos].shape\n",
    "        M = params[pos].reshape(p*j,-1)\n",
    "        # perform SVD\n",
    "        U, λ, Vh = jnp.linalg.svd(M, full_matrices=False)\n",
    "        # cutting off the bond dimension\n",
    "        U  = U[:,:max_bond]   # truncate columns\n",
    "        λ  = λ[:max_bond]     # truncate singular values\n",
    "        Vh = Vh[:max_bond,:]  # truncate rows\n",
    "        # assign the current tensor to U and reshape\n",
    "        params[pos] = U.reshape(-1, j, U.shape[1])\n",
    "        # assigining the labels to the next tensor and reshape\n",
    "        if pos < size - 1:\n",
    "            M_next = params[pos+1].reshape(Vh.shape[1], -1)\n",
    "            params[pos+1] = jnp.einsum('i,ij,jk->ik', λ, Vh, M_next).reshape(U.shape[1], j, -1)\n",
    "    return params"
   ]
  },
  {
   "cell_type": "code",
   "execution_count": 36,
   "id": "ded61f68",
   "metadata": {},
   "outputs": [],
   "source": [
    "# left normalizing the mps\n",
    "mps = left_normalize(mps, max_bond=bond_dim)"
   ]
  },
  {
   "cell_type": "code",
   "execution_count": 37,
   "id": "de528eaa",
   "metadata": {},
   "outputs": [],
   "source": [
    "# checking that the resulting mps is in the left-canonical form\n",
    "mult = lambda e, t: jnp.einsum('pq,pjr,qjv->rv', e, t.conj(), t)\n",
    "assert jnp.allclose(functools.reduce(mult, mps, jnp.eye(1)), jnp.eye(mps[-1].shape[-1]))"
   ]
  },
  {
   "cell_type": "code",
   "execution_count": 38,
   "id": "7f129bc1",
   "metadata": {},
   "outputs": [],
   "source": [
    "# reversing the mps gives the right-canonical form\n",
    "mps_rev = reverse_mps(mps)\n",
    "mult_rev = lambda e, t: jnp.einsum('rv,pjr,qjv->pq', e, t, t.conj())\n",
    "# to apply the reduce function, we need to change the mps ordering (no leg swapping!)\n",
    "assert jnp.allclose(functools.reduce(mult_rev, mps_rev[::-1], jnp.eye(1)), jnp.eye(mps_rev[0].shape[0]))"
   ]
  },
  {
   "cell_type": "code",
   "execution_count": 39,
   "id": "83a62af2",
   "metadata": {},
   "outputs": [],
   "source": [
    "# extract the dimension corresponding to\n",
    "# the labels, so we can move it during optimisation\n",
    "mps[-1] = jnp.expand_dims(mps[-1], axis=2)"
   ]
  },
  {
   "cell_type": "code",
   "execution_count": 40,
   "id": "d9f4c21c",
   "metadata": {},
   "outputs": [
    {
     "name": "stdout",
     "output_type": "stream",
     "text": [
      "[(1, 2, 2), (2, 2, 4), (4, 2, 8), (20, 2, 20), (20, 2, 20), (20, 2, 1, 10)]\n"
     ]
    }
   ],
   "source": [
    "# printing shapes of the first and the last three tensors\n",
    "print([t.shape for t in (*mps[:3],*mps[-3:])])"
   ]
  },
  {
   "cell_type": "markdown",
   "id": "10469da4",
   "metadata": {},
   "source": [
    "# Initialise the data store for the \"left/right wings\""
   ]
  },
  {
   "cell_type": "markdown",
   "id": "0cb7a764",
   "metadata": {},
   "source": [
    "Initialise the data structure to store left/right wings. For the motivation, see the last paragraph on p4 in the paper. Below, I assume that the tensor with labels is the last in the MPS. After the initialisation, the order of the wings is reversed to allow the sweeps from the left on each run (with the labels being attached to the first tensor after reverting the order). This trick allows to move from left to right on every sweep simply by reverting the MPS, data features and the wings."
   ]
  },
  {
   "cell_type": "code",
   "execution_count": 41,
   "id": "c697446c",
   "metadata": {},
   "outputs": [],
   "source": [
    "def norm_normalize(v: Vector) -> Vector:\n",
    "    return v / jnp.linalg.norm(v)"
   ]
  },
  {
   "cell_type": "code",
   "execution_count": 42,
   "id": "8e4f90ea",
   "metadata": {},
   "outputs": [],
   "source": [
    "def init_wings(\n",
    "        params: MPS,\n",
    "        samples: Tensor,\n",
    "    ) -> List[Vector]:\n",
    "    \"\"\"\n",
    "    Initialise the local projections to keep linear\n",
    "    scaling of the whole algorithm wrt sample size.\n",
    "     ---\n",
    "    | o-|-o--o--...--o--o        ▩--o--o--...--o--o      ▩--o--o\n",
    "    | | | |  |       |  |   =>      |  |       |  |  =>     |  |\n",
    "    | o | o  o       o  o           o  o       o  o         o  o\n",
    "     ---\n",
    "    \"\"\"        \n",
    "    # get the projections of samples onto the mps sites (excet the last two sites)\n",
    "    projs = project_samples(params=params[:-2], samples=samples[:,:-2,:])\n",
    "\n",
    "    # helper to contract neighbouring sites\n",
    "    mult = lambda x, y: jnp.einsum('mpi,miq->mpq', x, y)\n",
    "    # get the cumulative products computed from left to right\n",
    "    cum_prods = itertools.accumulate(projs, mult)\n",
    "    # normalize to norm 1\n",
    "    wings = jax.tree_map(jax.vmap(norm_normalize), list(cum_prods))\n",
    "    # the last two sites are dummy\n",
    "    return jax.tree_map(jnp.squeeze, wings) + [jnp.asarray(None)]*2 "
   ]
  },
  {
   "cell_type": "code",
   "execution_count": 43,
   "id": "533547a0",
   "metadata": {},
   "outputs": [],
   "source": [
    "# an illustration of the operator.accumulate\n",
    "# import operator\n",
    "# list(itertools.accumulate([1,2,3,4,5,6,7,8,9], operator.mul))"
   ]
  },
  {
   "cell_type": "code",
   "execution_count": 44,
   "id": "974d44ea",
   "metadata": {},
   "outputs": [],
   "source": [
    "# initialize the wings\n",
    "wings = init_wings(mps, train_samples)"
   ]
  },
  {
   "cell_type": "markdown",
   "id": "d7e1af4e",
   "metadata": {},
   "source": [
    "# Main Loop"
   ]
  },
  {
   "cell_type": "markdown",
   "id": "618287f5",
   "metadata": {},
   "source": [
    "Below is a piece of code to check if the gradient is computed correctly. The two lines must be parallel to each other if this is the case (up to some numerical distortion at the end)."
   ]
  },
  {
   "cell_type": "code",
   "execution_count": 45,
   "id": "d5d0c1a7",
   "metadata": {},
   "outputs": [],
   "source": [
    "# def plot_taylor_apprx(β, data, num_iter=30):\n",
    "#     dotp = lambda x,y : jnp.einsum('...,...->', x, y)\n",
    "#     dβ = grad(β, data)\n",
    "#     Δ = jax.random.uniform(key, shape=β.shape)\n",
    "#     f = loss(β, data)\n",
    "\n",
    "#     apprx, norms = [], []\n",
    "#     for _ in range(num_iter):\n",
    "#         Δf = loss(β + Δ, data)\n",
    "#         apprx.append(jnp.linalg.norm(Δf - f - dotp(dβ, Δ)))\n",
    "#         norms.append(dotp(Δ, Δ))\n",
    "#         Δ /= 2\n",
    "\n",
    "#     plot(jnp.arange(num_iter), [apprx, norms],\n",
    "#          yscale='log', legend=['$\\|f(x+Δx) - f(x) - ⟨∇f,Δx⟩\\|^2$', '$\\|Δx\\|^2$'],\n",
    "#          xlabel='Iterations', ylabel='$log{\\|\\cdot\\|^2}$')\n",
    "\n",
    "# pos = 0\n",
    "# B = jnp.einsum('pikl,kjq->pijql', mps[pos], mps[pos+1])\n",
    "# inputs = train_samples[:,pos:pos+2,:]\n",
    "# left_wing = jnp.ones(shape=(num_samples,1))\n",
    "# Φ = [left_wing, inputs, wings[pos+2]]\n",
    "\n",
    "# plot_taylor_apprx(B, data=(Φ, train_labels))"
   ]
  },
  {
   "cell_type": "code",
   "execution_count": 46,
   "id": "c3efa937",
   "metadata": {},
   "outputs": [],
   "source": [
    "def project_sample(\n",
    "        params: MPS, \n",
    "        sample: Matrix\n",
    "    ) -> List[Matrix]:\n",
    "    \"\"\"\n",
    "    A helper to project a single sample onto the MPS\n",
    "    sites, i.e. contracting the local dimension only.\n",
    "    --o--o--...--o--     \n",
    "      |  |       |   => --o--o--...--o--\n",
    "      o  o       o\n",
    "    \"\"\"\n",
    "    # accounting for the possible labels dimension\n",
    "    mult = lambda t, s: jnp.einsum('pjq...,j->pq...', t, s)\n",
    "    return jax.tree_map(mult, params, list(sample))\n"
   ]
  },
  {
   "cell_type": "code",
   "execution_count": null,
   "id": "aba8968d",
   "metadata": {},
   "outputs": [],
   "source": [
    "max_bond = bond_dim\n",
    "\n",
    "grads, losses = [], []\n",
    "\n",
    "for sweep in range(num_sweeps):\n",
    "\n",
    "    print('*'*100 + f'\\nSweep: {sweep + 1}\\n' + '*'*100)\n",
    "\n",
    "    # reverse data for convenience, so the iterations \n",
    "    # are from left to right. Note, that the initiali left \n",
    "    # normalization of the MPS results in the right \n",
    "    # normalization after the operation (as shown above)\n",
    "    mps, train_samples, wings = reverse_data(mps, train_samples, wings)\n",
    "\n",
    "    for pos in range(len(mps) - 1):\n",
    "\n",
    "        # bond tensor - Fig.6a\n",
    "        B = jnp.einsum('pikl,kjq->pijql', mps[pos], mps[pos+1])\n",
    "\n",
    "        # composing a tensor Φ - Fig.6b\n",
    "        if pos == 0:\n",
    "            left_wing = norm_normalize(jnp.ones(shape=(num_samples, 1)))\n",
    "            right_wing = wings[pos+2]\n",
    "        elif pos == len(mps)-2:\n",
    "            left_wing = wings[pos-1]\n",
    "            right_wing = norm_normalize(jnp.ones(shape=(num_samples, 1)))\n",
    "        else:\n",
    "            left_wing = wings[pos-1]\n",
    "            right_wing = wings[pos+2]\n",
    "\n",
    "        # not yet combining to a single tensor - saving space\n",
    "        Φ = [left_wing, train_samples[:,pos:pos+2,:], right_wing]\n",
    "\n",
    "        # compute the gradient update - Fig.6(c-d)\n",
    "        ΔB = grad(B, data=(Φ, train_labels))\n",
    "        \n",
    "        # update the bond tensor - Fig.7a\n",
    "        # note, that the paper is using the \n",
    "        # negative gradient instead, so the \n",
    "        # plus sign there\n",
    "        B -= α * ΔB\n",
    "\n",
    "        # SVD\n",
    "        p,i,j,q,l = B.shape\n",
    "        U, λ, Vh = jnp.linalg.svd(B.reshape(p*i, -1), full_matrices=False)\n",
    "\n",
    "        # cutting off the bond dimension\n",
    "        if λ.size > max_bond:\n",
    "            # max_bond = suggest_truncation(λ, ε)  # adaptive bond dimension\n",
    "            U  = U[:,:max_bond]\n",
    "            λ  = λ[:max_bond]\n",
    "            Vh = Vh[:max_bond,:]\n",
    "\n",
    "        # normalize spectra to have norm 1\n",
    "        λ = norm_normalize(λ)\n",
    "        \n",
    "        # updating mps tesnors - Fig.7b\n",
    "        mps[pos]   = U.reshape(-1,i,U.shape[1])  # current position\n",
    "        mps[pos+1] = jnp.einsum('i,ij->ij', λ, Vh).reshape(-1,j,q,l)  # next position\n",
    "\n",
    "        # project input samples onto the new tensor at current position and update the left wing - Fig.7c\n",
    "        projs_at_pos = project_samples(params=mps[pos:pos+1], samples=train_samples[:,pos:pos+1,:])\n",
    "        if pos == 0:\n",
    "            # squeezing 0 index due to len(MPS) = 1; 2 index due to the left most dim of the first tensor\n",
    "            left_wing = jnp.asarray(projs_at_pos).squeeze(axis=(0,2))\n",
    "        else: \n",
    "            # updating the left wing; squeezing 0 index due to len(MPS) = 1\n",
    "            left_wing = jnp.einsum('mp,mpq->mq', left_wing, jnp.asarray(projs_at_pos).squeeze(axis=0))\n",
    "\n",
    "        # normalize and update the wing\n",
    "        # wings[pos] = max_normalize(left_wing)\n",
    "        wings[pos] = jax.vmap(norm_normalize)(left_wing)\n",
    "\n",
    "        # store for the analysis\n",
    "        grads.append(jnp.linalg.norm(ΔB))\n",
    "        losses.append(loss(B, data=(Φ, train_labels)))\n",
    "\n",
    "        print(\n",
    "            '\\t|\\t'.join(\n",
    "                [f'Updated site: {pos:<4}',\n",
    "                 f'Loss: {losses[-1]:<6e}',\n",
    "                 f'Gradient norm: {grads[-1]:<6e}',\n",
    "                 f'Bond Dim: {max_bond:<3}',\n",
    "                ])\n",
    "        )"
   ]
  },
  {
   "cell_type": "code",
   "execution_count": 60,
   "id": "68b3bd0b",
   "metadata": {},
   "outputs": [
    {
     "data": {
      "text/plain": [
       "DeviceArray(0.21478088, dtype=float64)"
      ]
     },
     "execution_count": 60,
     "metadata": {},
     "output_type": "execute_result"
    }
   ],
   "source": [
    "B.max()"
   ]
  },
  {
   "cell_type": "code",
   "execution_count": 50,
   "id": "0e701c70",
   "metadata": {},
   "outputs": [
    {
     "data": {
      "image/svg+xml": "<?xml version=\"1.0\" encoding=\"utf-8\" standalone=\"no\"?>\n<!DOCTYPE svg PUBLIC \"-//W3C//DTD SVG 1.1//EN\"\n  \"http://www.w3.org/Graphics/SVG/1.1/DTD/svg11.dtd\">\n<svg xmlns:xlink=\"http://www.w3.org/1999/xlink\" width=\"538.04726pt\" height=\"405.187187pt\" viewBox=\"0 0 538.04726 405.187187\" xmlns=\"http://www.w3.org/2000/svg\" version=\"1.1\">\n <metadata>\n  <rdf:RDF xmlns:dc=\"http://purl.org/dc/elements/1.1/\" xmlns:cc=\"http://creativecommons.org/ns#\" xmlns:rdf=\"http://www.w3.org/1999/02/22-rdf-syntax-ns#\">\n   <cc:Work>\n    <dc:type rdf:resource=\"http://purl.org/dc/dcmitype/StillImage\"/>\n    <dc:date>2022-05-07T21:15:59.469639</dc:date>\n    <dc:format>image/svg+xml</dc:format>\n    <dc:creator>\n     <cc:Agent>\n      <dc:title>Matplotlib v3.5.2, https://matplotlib.org/</dc:title>\n     </cc:Agent>\n    </dc:creator>\n   </cc:Work>\n  </rdf:RDF>\n </metadata>\n <defs>\n  <style type=\"text/css\">*{stroke-linejoin: round; stroke-linecap: butt}</style>\n </defs>\n <g id=\"figure_1\">\n  <g id=\"patch_1\">\n   <path d=\"M 0 405.187187 \nL 538.04726 405.187187 \nL 538.04726 0 \nL 0 0 \nz\n\" style=\"fill: #ffffff\"/>\n  </g>\n  <g id=\"axes_1\">\n   <g id=\"patch_2\">\n    <path d=\"M 76.658125 359.517187 \nL 523.058125 359.517187 \nL 523.058125 26.877187 \nL 76.658125 26.877187 \nz\n\" style=\"fill: #eeeeee\"/>\n   </g>\n   <g id=\"matplotlib.axis_1\">\n    <g id=\"xtick_1\">\n     <g id=\"line2d_1\">\n      <path d=\"M 96.949034 359.517187 \nL 96.949034 26.877187 \n\" clip-path=\"url(#p9cbbbb5d96)\" style=\"fill: none; stroke-dasharray: 0.5,5; stroke-dashoffset: 0; stroke: #000000; stroke-width: 0.5\"/>\n     </g>\n     <g id=\"line2d_2\">\n      <defs>\n       <path id=\"m97c552324a\" d=\"M 0 0 \nL 0 -3.5 \n\" style=\"stroke: #000000; stroke-width: 0.8\"/>\n      </defs>\n      <g>\n       <use xlink:href=\"#m97c552324a\" x=\"96.949034\" y=\"359.517187\" style=\"stroke: #000000; stroke-width: 0.8\"/>\n      </g>\n     </g>\n     <g id=\"text_1\">\n      <!-- 0 -->\n      <g transform=\"translate(92.495284 373.655)scale(0.14 -0.14)\">\n       <defs>\n        <path id=\"DejaVuSans-30\" d=\"M 2034 4250 \nQ 1547 4250 1301 3770 \nQ 1056 3291 1056 2328 \nQ 1056 1369 1301 889 \nQ 1547 409 2034 409 \nQ 2525 409 2770 889 \nQ 3016 1369 3016 2328 \nQ 3016 3291 2770 3770 \nQ 2525 4250 2034 4250 \nz\nM 2034 4750 \nQ 2819 4750 3233 4129 \nQ 3647 3509 3647 2328 \nQ 3647 1150 3233 529 \nQ 2819 -91 2034 -91 \nQ 1250 -91 836 529 \nQ 422 1150 422 2328 \nQ 422 3509 836 4129 \nQ 1250 4750 2034 4750 \nz\n\" transform=\"scale(0.015625)\"/>\n       </defs>\n       <use xlink:href=\"#DejaVuSans-30\"/>\n      </g>\n     </g>\n    </g>\n    <g id=\"xtick_2\">\n     <g id=\"line2d_3\">\n      <path d=\"M 149.516156 359.517187 \nL 149.516156 26.877187 \n\" clip-path=\"url(#p9cbbbb5d96)\" style=\"fill: none; stroke-dasharray: 0.5,5; stroke-dashoffset: 0; stroke: #000000; stroke-width: 0.5\"/>\n     </g>\n     <g id=\"line2d_4\">\n      <g>\n       <use xlink:href=\"#m97c552324a\" x=\"149.516156\" y=\"359.517187\" style=\"stroke: #000000; stroke-width: 0.8\"/>\n      </g>\n     </g>\n     <g id=\"text_2\">\n      <!-- 25 -->\n      <g transform=\"translate(140.608656 373.655)scale(0.14 -0.14)\">\n       <defs>\n        <path id=\"DejaVuSans-32\" d=\"M 1228 531 \nL 3431 531 \nL 3431 0 \nL 469 0 \nL 469 531 \nQ 828 903 1448 1529 \nQ 2069 2156 2228 2338 \nQ 2531 2678 2651 2914 \nQ 2772 3150 2772 3378 \nQ 2772 3750 2511 3984 \nQ 2250 4219 1831 4219 \nQ 1534 4219 1204 4116 \nQ 875 4013 500 3803 \nL 500 4441 \nQ 881 4594 1212 4672 \nQ 1544 4750 1819 4750 \nQ 2544 4750 2975 4387 \nQ 3406 4025 3406 3419 \nQ 3406 3131 3298 2873 \nQ 3191 2616 2906 2266 \nQ 2828 2175 2409 1742 \nQ 1991 1309 1228 531 \nz\n\" transform=\"scale(0.015625)\"/>\n        <path id=\"DejaVuSans-35\" d=\"M 691 4666 \nL 3169 4666 \nL 3169 4134 \nL 1269 4134 \nL 1269 2991 \nQ 1406 3038 1543 3061 \nQ 1681 3084 1819 3084 \nQ 2600 3084 3056 2656 \nQ 3513 2228 3513 1497 \nQ 3513 744 3044 326 \nQ 2575 -91 1722 -91 \nQ 1428 -91 1123 -41 \nQ 819 9 494 109 \nL 494 744 \nQ 775 591 1075 516 \nQ 1375 441 1709 441 \nQ 2250 441 2565 725 \nQ 2881 1009 2881 1497 \nQ 2881 1984 2565 2268 \nQ 2250 2553 1709 2553 \nQ 1456 2553 1204 2497 \nQ 953 2441 691 2322 \nL 691 4666 \nz\n\" transform=\"scale(0.015625)\"/>\n       </defs>\n       <use xlink:href=\"#DejaVuSans-32\"/>\n       <use xlink:href=\"#DejaVuSans-35\" x=\"63.623047\"/>\n      </g>\n     </g>\n    </g>\n    <g id=\"xtick_3\">\n     <g id=\"line2d_5\">\n      <path d=\"M 202.083278 359.517187 \nL 202.083278 26.877187 \n\" clip-path=\"url(#p9cbbbb5d96)\" style=\"fill: none; stroke-dasharray: 0.5,5; stroke-dashoffset: 0; stroke: #000000; stroke-width: 0.5\"/>\n     </g>\n     <g id=\"line2d_6\">\n      <g>\n       <use xlink:href=\"#m97c552324a\" x=\"202.083278\" y=\"359.517187\" style=\"stroke: #000000; stroke-width: 0.8\"/>\n      </g>\n     </g>\n     <g id=\"text_3\">\n      <!-- 50 -->\n      <g transform=\"translate(193.175778 373.655)scale(0.14 -0.14)\">\n       <use xlink:href=\"#DejaVuSans-35\"/>\n       <use xlink:href=\"#DejaVuSans-30\" x=\"63.623047\"/>\n      </g>\n     </g>\n    </g>\n    <g id=\"xtick_4\">\n     <g id=\"line2d_7\">\n      <path d=\"M 254.6504 359.517187 \nL 254.6504 26.877187 \n\" clip-path=\"url(#p9cbbbb5d96)\" style=\"fill: none; stroke-dasharray: 0.5,5; stroke-dashoffset: 0; stroke: #000000; stroke-width: 0.5\"/>\n     </g>\n     <g id=\"line2d_8\">\n      <g>\n       <use xlink:href=\"#m97c552324a\" x=\"254.6504\" y=\"359.517187\" style=\"stroke: #000000; stroke-width: 0.8\"/>\n      </g>\n     </g>\n     <g id=\"text_4\">\n      <!-- 75 -->\n      <g transform=\"translate(245.7429 373.655)scale(0.14 -0.14)\">\n       <defs>\n        <path id=\"DejaVuSans-37\" d=\"M 525 4666 \nL 3525 4666 \nL 3525 4397 \nL 1831 0 \nL 1172 0 \nL 2766 4134 \nL 525 4134 \nL 525 4666 \nz\n\" transform=\"scale(0.015625)\"/>\n       </defs>\n       <use xlink:href=\"#DejaVuSans-37\"/>\n       <use xlink:href=\"#DejaVuSans-35\" x=\"63.623047\"/>\n      </g>\n     </g>\n    </g>\n    <g id=\"xtick_5\">\n     <g id=\"line2d_9\">\n      <path d=\"M 307.217522 359.517187 \nL 307.217522 26.877187 \n\" clip-path=\"url(#p9cbbbb5d96)\" style=\"fill: none; stroke-dasharray: 0.5,5; stroke-dashoffset: 0; stroke: #000000; stroke-width: 0.5\"/>\n     </g>\n     <g id=\"line2d_10\">\n      <g>\n       <use xlink:href=\"#m97c552324a\" x=\"307.217522\" y=\"359.517187\" style=\"stroke: #000000; stroke-width: 0.8\"/>\n      </g>\n     </g>\n     <g id=\"text_5\">\n      <!-- 100 -->\n      <g transform=\"translate(293.856272 373.655)scale(0.14 -0.14)\">\n       <defs>\n        <path id=\"DejaVuSans-31\" d=\"M 794 531 \nL 1825 531 \nL 1825 4091 \nL 703 3866 \nL 703 4441 \nL 1819 4666 \nL 2450 4666 \nL 2450 531 \nL 3481 531 \nL 3481 0 \nL 794 0 \nL 794 531 \nz\n\" transform=\"scale(0.015625)\"/>\n       </defs>\n       <use xlink:href=\"#DejaVuSans-31\"/>\n       <use xlink:href=\"#DejaVuSans-30\" x=\"63.623047\"/>\n       <use xlink:href=\"#DejaVuSans-30\" x=\"127.246094\"/>\n      </g>\n     </g>\n    </g>\n    <g id=\"xtick_6\">\n     <g id=\"line2d_11\">\n      <path d=\"M 359.784644 359.517187 \nL 359.784644 26.877187 \n\" clip-path=\"url(#p9cbbbb5d96)\" style=\"fill: none; stroke-dasharray: 0.5,5; stroke-dashoffset: 0; stroke: #000000; stroke-width: 0.5\"/>\n     </g>\n     <g id=\"line2d_12\">\n      <g>\n       <use xlink:href=\"#m97c552324a\" x=\"359.784644\" y=\"359.517187\" style=\"stroke: #000000; stroke-width: 0.8\"/>\n      </g>\n     </g>\n     <g id=\"text_6\">\n      <!-- 125 -->\n      <g transform=\"translate(346.423394 373.655)scale(0.14 -0.14)\">\n       <use xlink:href=\"#DejaVuSans-31\"/>\n       <use xlink:href=\"#DejaVuSans-32\" x=\"63.623047\"/>\n       <use xlink:href=\"#DejaVuSans-35\" x=\"127.246094\"/>\n      </g>\n     </g>\n    </g>\n    <g id=\"xtick_7\">\n     <g id=\"line2d_13\">\n      <path d=\"M 412.351766 359.517187 \nL 412.351766 26.877187 \n\" clip-path=\"url(#p9cbbbb5d96)\" style=\"fill: none; stroke-dasharray: 0.5,5; stroke-dashoffset: 0; stroke: #000000; stroke-width: 0.5\"/>\n     </g>\n     <g id=\"line2d_14\">\n      <g>\n       <use xlink:href=\"#m97c552324a\" x=\"412.351766\" y=\"359.517187\" style=\"stroke: #000000; stroke-width: 0.8\"/>\n      </g>\n     </g>\n     <g id=\"text_7\">\n      <!-- 150 -->\n      <g transform=\"translate(398.990516 373.655)scale(0.14 -0.14)\">\n       <use xlink:href=\"#DejaVuSans-31\"/>\n       <use xlink:href=\"#DejaVuSans-35\" x=\"63.623047\"/>\n       <use xlink:href=\"#DejaVuSans-30\" x=\"127.246094\"/>\n      </g>\n     </g>\n    </g>\n    <g id=\"xtick_8\">\n     <g id=\"line2d_15\">\n      <path d=\"M 464.918888 359.517187 \nL 464.918888 26.877187 \n\" clip-path=\"url(#p9cbbbb5d96)\" style=\"fill: none; stroke-dasharray: 0.5,5; stroke-dashoffset: 0; stroke: #000000; stroke-width: 0.5\"/>\n     </g>\n     <g id=\"line2d_16\">\n      <g>\n       <use xlink:href=\"#m97c552324a\" x=\"464.918888\" y=\"359.517187\" style=\"stroke: #000000; stroke-width: 0.8\"/>\n      </g>\n     </g>\n     <g id=\"text_8\">\n      <!-- 175 -->\n      <g transform=\"translate(451.557638 373.655)scale(0.14 -0.14)\">\n       <use xlink:href=\"#DejaVuSans-31\"/>\n       <use xlink:href=\"#DejaVuSans-37\" x=\"63.623047\"/>\n       <use xlink:href=\"#DejaVuSans-35\" x=\"127.246094\"/>\n      </g>\n     </g>\n    </g>\n    <g id=\"xtick_9\">\n     <g id=\"line2d_17\">\n      <path d=\"M 517.48601 359.517187 \nL 517.48601 26.877187 \n\" clip-path=\"url(#p9cbbbb5d96)\" style=\"fill: none; stroke-dasharray: 0.5,5; stroke-dashoffset: 0; stroke: #000000; stroke-width: 0.5\"/>\n     </g>\n     <g id=\"line2d_18\">\n      <g>\n       <use xlink:href=\"#m97c552324a\" x=\"517.48601\" y=\"359.517187\" style=\"stroke: #000000; stroke-width: 0.8\"/>\n      </g>\n     </g>\n     <g id=\"text_9\">\n      <!-- 200 -->\n      <g transform=\"translate(504.12476 373.655)scale(0.14 -0.14)\">\n       <use xlink:href=\"#DejaVuSans-32\"/>\n       <use xlink:href=\"#DejaVuSans-30\" x=\"63.623047\"/>\n       <use xlink:href=\"#DejaVuSans-30\" x=\"127.246094\"/>\n      </g>\n     </g>\n    </g>\n    <g id=\"text_10\">\n     <!-- Steps -->\n     <g transform=\"translate(274.676406 394.24375)scale(0.18 -0.18)\">\n      <defs>\n       <path id=\"DejaVuSans-53\" d=\"M 3425 4513 \nL 3425 3897 \nQ 3066 4069 2747 4153 \nQ 2428 4238 2131 4238 \nQ 1616 4238 1336 4038 \nQ 1056 3838 1056 3469 \nQ 1056 3159 1242 3001 \nQ 1428 2844 1947 2747 \nL 2328 2669 \nQ 3034 2534 3370 2195 \nQ 3706 1856 3706 1288 \nQ 3706 609 3251 259 \nQ 2797 -91 1919 -91 \nQ 1588 -91 1214 -16 \nQ 841 59 441 206 \nL 441 856 \nQ 825 641 1194 531 \nQ 1563 422 1919 422 \nQ 2459 422 2753 634 \nQ 3047 847 3047 1241 \nQ 3047 1584 2836 1778 \nQ 2625 1972 2144 2069 \nL 1759 2144 \nQ 1053 2284 737 2584 \nQ 422 2884 422 3419 \nQ 422 4038 858 4394 \nQ 1294 4750 2059 4750 \nQ 2388 4750 2728 4690 \nQ 3069 4631 3425 4513 \nz\n\" transform=\"scale(0.015625)\"/>\n       <path id=\"DejaVuSans-74\" d=\"M 1172 4494 \nL 1172 3500 \nL 2356 3500 \nL 2356 3053 \nL 1172 3053 \nL 1172 1153 \nQ 1172 725 1289 603 \nQ 1406 481 1766 481 \nL 2356 481 \nL 2356 0 \nL 1766 0 \nQ 1100 0 847 248 \nQ 594 497 594 1153 \nL 594 3053 \nL 172 3053 \nL 172 3500 \nL 594 3500 \nL 594 4494 \nL 1172 4494 \nz\n\" transform=\"scale(0.015625)\"/>\n       <path id=\"DejaVuSans-65\" d=\"M 3597 1894 \nL 3597 1613 \nL 953 1613 \nQ 991 1019 1311 708 \nQ 1631 397 2203 397 \nQ 2534 397 2845 478 \nQ 3156 559 3463 722 \nL 3463 178 \nQ 3153 47 2828 -22 \nQ 2503 -91 2169 -91 \nQ 1331 -91 842 396 \nQ 353 884 353 1716 \nQ 353 2575 817 3079 \nQ 1281 3584 2069 3584 \nQ 2775 3584 3186 3129 \nQ 3597 2675 3597 1894 \nz\nM 3022 2063 \nQ 3016 2534 2758 2815 \nQ 2500 3097 2075 3097 \nQ 1594 3097 1305 2825 \nQ 1016 2553 972 2059 \nL 3022 2063 \nz\n\" transform=\"scale(0.015625)\"/>\n       <path id=\"DejaVuSans-70\" d=\"M 1159 525 \nL 1159 -1331 \nL 581 -1331 \nL 581 3500 \nL 1159 3500 \nL 1159 2969 \nQ 1341 3281 1617 3432 \nQ 1894 3584 2278 3584 \nQ 2916 3584 3314 3078 \nQ 3713 2572 3713 1747 \nQ 3713 922 3314 415 \nQ 2916 -91 2278 -91 \nQ 1894 -91 1617 61 \nQ 1341 213 1159 525 \nz\nM 3116 1747 \nQ 3116 2381 2855 2742 \nQ 2594 3103 2138 3103 \nQ 1681 3103 1420 2742 \nQ 1159 2381 1159 1747 \nQ 1159 1113 1420 752 \nQ 1681 391 2138 391 \nQ 2594 391 2855 752 \nQ 3116 1113 3116 1747 \nz\n\" transform=\"scale(0.015625)\"/>\n       <path id=\"DejaVuSans-73\" d=\"M 2834 3397 \nL 2834 2853 \nQ 2591 2978 2328 3040 \nQ 2066 3103 1784 3103 \nQ 1356 3103 1142 2972 \nQ 928 2841 928 2578 \nQ 928 2378 1081 2264 \nQ 1234 2150 1697 2047 \nL 1894 2003 \nQ 2506 1872 2764 1633 \nQ 3022 1394 3022 966 \nQ 3022 478 2636 193 \nQ 2250 -91 1575 -91 \nQ 1294 -91 989 -36 \nQ 684 19 347 128 \nL 347 722 \nQ 666 556 975 473 \nQ 1284 391 1588 391 \nQ 1994 391 2212 530 \nQ 2431 669 2431 922 \nQ 2431 1156 2273 1281 \nQ 2116 1406 1581 1522 \nL 1381 1569 \nQ 847 1681 609 1914 \nQ 372 2147 372 2553 \nQ 372 3047 722 3315 \nQ 1072 3584 1716 3584 \nQ 2034 3584 2315 3537 \nQ 2597 3491 2834 3397 \nz\n\" transform=\"scale(0.015625)\"/>\n      </defs>\n      <use xlink:href=\"#DejaVuSans-53\"/>\n      <use xlink:href=\"#DejaVuSans-74\" x=\"63.476562\"/>\n      <use xlink:href=\"#DejaVuSans-65\" x=\"102.685547\"/>\n      <use xlink:href=\"#DejaVuSans-70\" x=\"164.208984\"/>\n      <use xlink:href=\"#DejaVuSans-73\" x=\"227.685547\"/>\n     </g>\n    </g>\n   </g>\n   <g id=\"matplotlib.axis_2\">\n    <g id=\"ytick_1\">\n     <g id=\"line2d_19\">\n      <path d=\"M 76.658125 330.390269 \nL 523.058125 330.390269 \n\" clip-path=\"url(#p9cbbbb5d96)\" style=\"fill: none; stroke-dasharray: 0.5,5; stroke-dashoffset: 0; stroke: #000000; stroke-width: 0.5\"/>\n     </g>\n     <g id=\"line2d_20\">\n      <defs>\n       <path id=\"mef5eb7d12d\" d=\"M 0 0 \nL 3.5 0 \n\" style=\"stroke: #000000; stroke-width: 0.8\"/>\n      </defs>\n      <g>\n       <use xlink:href=\"#mef5eb7d12d\" x=\"76.658125\" y=\"330.390269\" style=\"stroke: #000000; stroke-width: 0.8\"/>\n      </g>\n     </g>\n     <g id=\"text_11\">\n      <!-- 5000 -->\n      <g transform=\"translate(37.528125 335.709175)scale(0.14 -0.14)\">\n       <use xlink:href=\"#DejaVuSans-35\"/>\n       <use xlink:href=\"#DejaVuSans-30\" x=\"63.623047\"/>\n       <use xlink:href=\"#DejaVuSans-30\" x=\"127.246094\"/>\n       <use xlink:href=\"#DejaVuSans-30\" x=\"190.869141\"/>\n      </g>\n     </g>\n    </g>\n    <g id=\"ytick_2\">\n     <g id=\"line2d_21\">\n      <path d=\"M 76.658125 285.665146 \nL 523.058125 285.665146 \n\" clip-path=\"url(#p9cbbbb5d96)\" style=\"fill: none; stroke-dasharray: 0.5,5; stroke-dashoffset: 0; stroke: #000000; stroke-width: 0.5\"/>\n     </g>\n     <g id=\"line2d_22\">\n      <g>\n       <use xlink:href=\"#mef5eb7d12d\" x=\"76.658125\" y=\"285.665146\" style=\"stroke: #000000; stroke-width: 0.8\"/>\n      </g>\n     </g>\n     <g id=\"text_12\">\n      <!-- 7500 -->\n      <g transform=\"translate(37.528125 290.984052)scale(0.14 -0.14)\">\n       <use xlink:href=\"#DejaVuSans-37\"/>\n       <use xlink:href=\"#DejaVuSans-35\" x=\"63.623047\"/>\n       <use xlink:href=\"#DejaVuSans-30\" x=\"127.246094\"/>\n       <use xlink:href=\"#DejaVuSans-30\" x=\"190.869141\"/>\n      </g>\n     </g>\n    </g>\n    <g id=\"ytick_3\">\n     <g id=\"line2d_23\">\n      <path d=\"M 76.658125 240.940022 \nL 523.058125 240.940022 \n\" clip-path=\"url(#p9cbbbb5d96)\" style=\"fill: none; stroke-dasharray: 0.5,5; stroke-dashoffset: 0; stroke: #000000; stroke-width: 0.5\"/>\n     </g>\n     <g id=\"line2d_24\">\n      <g>\n       <use xlink:href=\"#mef5eb7d12d\" x=\"76.658125\" y=\"240.940022\" style=\"stroke: #000000; stroke-width: 0.8\"/>\n      </g>\n     </g>\n     <g id=\"text_13\">\n      <!-- 10000 -->\n      <g transform=\"translate(28.620625 246.258929)scale(0.14 -0.14)\">\n       <use xlink:href=\"#DejaVuSans-31\"/>\n       <use xlink:href=\"#DejaVuSans-30\" x=\"63.623047\"/>\n       <use xlink:href=\"#DejaVuSans-30\" x=\"127.246094\"/>\n       <use xlink:href=\"#DejaVuSans-30\" x=\"190.869141\"/>\n       <use xlink:href=\"#DejaVuSans-30\" x=\"254.492188\"/>\n      </g>\n     </g>\n    </g>\n    <g id=\"ytick_4\">\n     <g id=\"line2d_25\">\n      <path d=\"M 76.658125 196.214899 \nL 523.058125 196.214899 \n\" clip-path=\"url(#p9cbbbb5d96)\" style=\"fill: none; stroke-dasharray: 0.5,5; stroke-dashoffset: 0; stroke: #000000; stroke-width: 0.5\"/>\n     </g>\n     <g id=\"line2d_26\">\n      <g>\n       <use xlink:href=\"#mef5eb7d12d\" x=\"76.658125\" y=\"196.214899\" style=\"stroke: #000000; stroke-width: 0.8\"/>\n      </g>\n     </g>\n     <g id=\"text_14\">\n      <!-- 12500 -->\n      <g transform=\"translate(28.620625 201.533806)scale(0.14 -0.14)\">\n       <use xlink:href=\"#DejaVuSans-31\"/>\n       <use xlink:href=\"#DejaVuSans-32\" x=\"63.623047\"/>\n       <use xlink:href=\"#DejaVuSans-35\" x=\"127.246094\"/>\n       <use xlink:href=\"#DejaVuSans-30\" x=\"190.869141\"/>\n       <use xlink:href=\"#DejaVuSans-30\" x=\"254.492188\"/>\n      </g>\n     </g>\n    </g>\n    <g id=\"ytick_5\">\n     <g id=\"line2d_27\">\n      <path d=\"M 76.658125 151.489776 \nL 523.058125 151.489776 \n\" clip-path=\"url(#p9cbbbb5d96)\" style=\"fill: none; stroke-dasharray: 0.5,5; stroke-dashoffset: 0; stroke: #000000; stroke-width: 0.5\"/>\n     </g>\n     <g id=\"line2d_28\">\n      <g>\n       <use xlink:href=\"#mef5eb7d12d\" x=\"76.658125\" y=\"151.489776\" style=\"stroke: #000000; stroke-width: 0.8\"/>\n      </g>\n     </g>\n     <g id=\"text_15\">\n      <!-- 15000 -->\n      <g transform=\"translate(28.620625 156.808682)scale(0.14 -0.14)\">\n       <use xlink:href=\"#DejaVuSans-31\"/>\n       <use xlink:href=\"#DejaVuSans-35\" x=\"63.623047\"/>\n       <use xlink:href=\"#DejaVuSans-30\" x=\"127.246094\"/>\n       <use xlink:href=\"#DejaVuSans-30\" x=\"190.869141\"/>\n       <use xlink:href=\"#DejaVuSans-30\" x=\"254.492188\"/>\n      </g>\n     </g>\n    </g>\n    <g id=\"ytick_6\">\n     <g id=\"line2d_29\">\n      <path d=\"M 76.658125 106.764653 \nL 523.058125 106.764653 \n\" clip-path=\"url(#p9cbbbb5d96)\" style=\"fill: none; stroke-dasharray: 0.5,5; stroke-dashoffset: 0; stroke: #000000; stroke-width: 0.5\"/>\n     </g>\n     <g id=\"line2d_30\">\n      <g>\n       <use xlink:href=\"#mef5eb7d12d\" x=\"76.658125\" y=\"106.764653\" style=\"stroke: #000000; stroke-width: 0.8\"/>\n      </g>\n     </g>\n     <g id=\"text_16\">\n      <!-- 17500 -->\n      <g transform=\"translate(28.620625 112.083559)scale(0.14 -0.14)\">\n       <use xlink:href=\"#DejaVuSans-31\"/>\n       <use xlink:href=\"#DejaVuSans-37\" x=\"63.623047\"/>\n       <use xlink:href=\"#DejaVuSans-35\" x=\"127.246094\"/>\n       <use xlink:href=\"#DejaVuSans-30\" x=\"190.869141\"/>\n       <use xlink:href=\"#DejaVuSans-30\" x=\"254.492188\"/>\n      </g>\n     </g>\n    </g>\n    <g id=\"ytick_7\">\n     <g id=\"line2d_31\">\n      <path d=\"M 76.658125 62.03953 \nL 523.058125 62.03953 \n\" clip-path=\"url(#p9cbbbb5d96)\" style=\"fill: none; stroke-dasharray: 0.5,5; stroke-dashoffset: 0; stroke: #000000; stroke-width: 0.5\"/>\n     </g>\n     <g id=\"line2d_32\">\n      <g>\n       <use xlink:href=\"#mef5eb7d12d\" x=\"76.658125\" y=\"62.03953\" style=\"stroke: #000000; stroke-width: 0.8\"/>\n      </g>\n     </g>\n     <g id=\"text_17\">\n      <!-- 20000 -->\n      <g transform=\"translate(28.620625 67.358436)scale(0.14 -0.14)\">\n       <use xlink:href=\"#DejaVuSans-32\"/>\n       <use xlink:href=\"#DejaVuSans-30\" x=\"63.623047\"/>\n       <use xlink:href=\"#DejaVuSans-30\" x=\"127.246094\"/>\n       <use xlink:href=\"#DejaVuSans-30\" x=\"190.869141\"/>\n       <use xlink:href=\"#DejaVuSans-30\" x=\"254.492188\"/>\n      </g>\n     </g>\n    </g>\n    <g id=\"text_18\">\n     <!-- Loss -->\n     <g transform=\"translate(20.877187 212.938125)rotate(-90)scale(0.18 -0.18)\">\n      <defs>\n       <path id=\"DejaVuSans-4c\" d=\"M 628 4666 \nL 1259 4666 \nL 1259 531 \nL 3531 531 \nL 3531 0 \nL 628 0 \nL 628 4666 \nz\n\" transform=\"scale(0.015625)\"/>\n       <path id=\"DejaVuSans-6f\" d=\"M 1959 3097 \nQ 1497 3097 1228 2736 \nQ 959 2375 959 1747 \nQ 959 1119 1226 758 \nQ 1494 397 1959 397 \nQ 2419 397 2687 759 \nQ 2956 1122 2956 1747 \nQ 2956 2369 2687 2733 \nQ 2419 3097 1959 3097 \nz\nM 1959 3584 \nQ 2709 3584 3137 3096 \nQ 3566 2609 3566 1747 \nQ 3566 888 3137 398 \nQ 2709 -91 1959 -91 \nQ 1206 -91 779 398 \nQ 353 888 353 1747 \nQ 353 2609 779 3096 \nQ 1206 3584 1959 3584 \nz\n\" transform=\"scale(0.015625)\"/>\n      </defs>\n      <use xlink:href=\"#DejaVuSans-4c\"/>\n      <use xlink:href=\"#DejaVuSans-6f\" x=\"53.962891\"/>\n      <use xlink:href=\"#DejaVuSans-73\" x=\"115.144531\"/>\n      <use xlink:href=\"#DejaVuSans-73\" x=\"167.244141\"/>\n     </g>\n    </g>\n   </g>\n   <g id=\"line2d_33\">\n    <path d=\"M 96.949034 240.874058 \nL 99.051719 41.997187 \nL 101.154404 243.273367 \nL 103.257089 245.077842 \nL 105.359774 239.948413 \nL 107.462458 255.149414 \nL 109.565143 250.142199 \nL 111.667828 258.253848 \nL 113.770513 257.911221 \nL 115.873198 251.31318 \nL 117.975883 254.202198 \nL 120.078568 256.380514 \nL 122.181253 260.700305 \nL 124.283938 246.984037 \nL 126.386622 261.738427 \nL 128.489307 262.740578 \nL 130.591992 263.975237 \nL 132.694677 261.481432 \nL 134.797362 264.945829 \nL 136.900047 261.770852 \nL 139.002732 261.563924 \nL 141.105417 265.773965 \nL 143.208101 256.081255 \nL 145.310786 265.939972 \nL 147.413471 262.212362 \nL 149.516156 262.482255 \nL 151.618841 267.400658 \nL 153.721526 265.639155 \nL 155.824211 270.204217 \nL 160.02958 273.69409 \nL 162.132265 275.98429 \nL 164.23495 277.141384 \nL 166.337635 277.039442 \nL 168.44032 277.153624 \nL 170.543005 275.750829 \nL 172.64569 277.005061 \nL 174.748375 277.241399 \nL 176.85106 277.223157 \nL 178.953744 278.357881 \nL 181.056429 280.046272 \nL 183.159114 281.422132 \nL 185.261799 283.03555 \nL 189.467169 284.818428 \nL 191.569854 285.148509 \nL 193.672539 286.093122 \nL 195.775223 285.839608 \nL 197.877908 286.162671 \nL 199.980593 286.982872 \nL 202.083278 285.626946 \nL 204.185963 288.618887 \nL 206.288648 288.497926 \nL 208.391333 290.404303 \nL 210.494018 290.980379 \nL 214.699387 290.946129 \nL 216.802072 291.345342 \nL 218.904757 290.876914 \nL 221.007442 291.808907 \nL 223.110127 292.561262 \nL 225.212812 293.154035 \nL 227.315497 292.047984 \nL 229.418182 293.401669 \nL 231.520866 293.402844 \nL 233.623551 296.172797 \nL 235.726236 298.48393 \nL 237.828921 300.224917 \nL 239.931606 300.460931 \nL 242.034291 299.659734 \nL 244.136976 299.244037 \nL 246.239661 299.179241 \nL 248.342345 300.038527 \nL 250.44503 300.076458 \nL 252.547715 300.90911 \nL 254.6504 300.35081 \nL 256.753085 301.835769 \nL 258.85577 298.868003 \nL 260.958455 303.300707 \nL 263.06114 306.960017 \nL 265.163824 306.331939 \nL 267.266509 310.813909 \nL 269.369194 308.990021 \nL 271.471879 308.963951 \nL 273.574564 308.769504 \nL 275.677249 307.83172 \nL 277.779934 308.66511 \nL 279.882619 310.396645 \nL 281.985304 310.772751 \nL 284.087988 307.718015 \nL 286.190673 309.977959 \nL 288.293358 309.508406 \nL 290.396043 313.661748 \nL 292.498728 316.467497 \nL 294.601413 318.927626 \nL 296.704098 321.028899 \nL 298.806783 318.697665 \nL 300.909467 318.480298 \nL 303.012152 316.480509 \nL 305.114837 315.644321 \nL 309.320207 314.499072 \nL 311.422892 315.168974 \nL 313.525577 311.589844 \nL 315.628262 314.029274 \nL 317.730946 316.293668 \nL 319.833631 317.496966 \nL 321.936316 324.018574 \nL 324.039001 326.944702 \nL 326.141686 325.842073 \nL 328.244371 327.945141 \nL 330.347056 325.080998 \nL 334.552426 318.295606 \nL 336.65511 316.938852 \nL 338.757795 316.088515 \nL 340.86048 315.498061 \nL 342.963165 314.430906 \nL 345.06585 312.604647 \nL 347.168535 319.05239 \nL 349.27122 323.774663 \nL 351.373905 325.932918 \nL 353.476589 329.459243 \nL 355.579274 327.853525 \nL 357.681959 327.354653 \nL 359.784644 326.453156 \nL 361.887329 324.185632 \nL 363.990014 319.980893 \nL 366.092699 319.014225 \nL 368.195384 317.002923 \nL 372.400753 314.760374 \nL 374.503438 314.221957 \nL 376.606123 319.820713 \nL 378.708808 324.513795 \nL 380.811493 327.693864 \nL 382.914178 333.035505 \nL 385.016863 334.757947 \nL 387.119548 332.887392 \nL 391.324917 327.448441 \nL 393.427602 322.381305 \nL 395.530287 321.270601 \nL 397.632972 319.037746 \nL 399.735657 317.022623 \nL 401.838342 318.024867 \nL 403.941027 318.72679 \nL 406.043711 320.748337 \nL 408.146396 329.865364 \nL 410.249081 332.607885 \nL 412.351766 333.424706 \nL 414.454451 336.530708 \nL 416.557136 339.997064 \nL 418.659821 333.021991 \nL 420.762506 334.247906 \nL 422.86519 331.78972 \nL 424.967875 327.739133 \nL 427.07056 327.76066 \nL 429.173245 329.596975 \nL 431.27593 328.939934 \nL 433.378615 328.431665 \nL 435.4813 334.825379 \nL 437.583985 334.538661 \nL 439.68667 338.778024 \nL 441.789354 339.53675 \nL 443.892039 337.990996 \nL 445.994724 339.721234 \nL 448.097409 336.006937 \nL 450.200094 338.248295 \nL 452.302779 338.334145 \nL 454.405464 337.406563 \nL 456.508149 335.747391 \nL 458.610833 336.130215 \nL 460.713518 338.248347 \nL 462.816203 337.690742 \nL 464.918888 335.73899 \nL 467.021573 336.539889 \nL 469.124258 338.615738 \nL 471.226943 337.01178 \nL 473.329628 337.165502 \nL 475.432312 336.828884 \nL 477.534997 338.247962 \nL 479.637682 336.905761 \nL 481.740367 335.163314 \nL 483.843052 336.30886 \nL 488.048422 337.270232 \nL 490.151107 334.679866 \nL 492.253792 335.675749 \nL 494.356476 336.270183 \nL 496.459161 335.658241 \nL 498.561846 339.791117 \nL 500.664531 341.333114 \nL 502.767216 344.397187 \nL 502.767216 344.397187 \n\" clip-path=\"url(#p9cbbbb5d96)\" style=\"fill: none; stroke: #348abd; stroke-width: 3; stroke-linecap: square\"/>\n   </g>\n   <g id=\"patch_3\">\n    <path d=\"M 76.658125 359.517187 \nL 76.658125 26.877187 \n\" style=\"fill: none; stroke: #bcbcbc; stroke-width: 0.8; stroke-linejoin: miter; stroke-linecap: square\"/>\n   </g>\n   <g id=\"patch_4\">\n    <path d=\"M 523.058125 359.517187 \nL 523.058125 26.877187 \n\" style=\"fill: none; stroke: #bcbcbc; stroke-width: 0.8; stroke-linejoin: miter; stroke-linecap: square\"/>\n   </g>\n   <g id=\"patch_5\">\n    <path d=\"M 76.658125 359.517187 \nL 523.058125 359.517187 \n\" style=\"fill: none; stroke: #bcbcbc; stroke-width: 0.8; stroke-linejoin: miter; stroke-linecap: square\"/>\n   </g>\n   <g id=\"patch_6\">\n    <path d=\"M 76.658125 26.877187 \nL 523.058125 26.877187 \n\" style=\"fill: none; stroke: #bcbcbc; stroke-width: 0.8; stroke-linejoin: miter; stroke-linecap: square\"/>\n   </g>\n   <g id=\"text_19\">\n    <!-- Loss function dynamics -->\n    <g transform=\"translate(194.469531 20.877187)scale(0.18 -0.18)\">\n     <defs>\n      <path id=\"DejaVuSans-20\" transform=\"scale(0.015625)\"/>\n      <path id=\"DejaVuSans-66\" d=\"M 2375 4863 \nL 2375 4384 \nL 1825 4384 \nQ 1516 4384 1395 4259 \nQ 1275 4134 1275 3809 \nL 1275 3500 \nL 2222 3500 \nL 2222 3053 \nL 1275 3053 \nL 1275 0 \nL 697 0 \nL 697 3053 \nL 147 3053 \nL 147 3500 \nL 697 3500 \nL 697 3744 \nQ 697 4328 969 4595 \nQ 1241 4863 1831 4863 \nL 2375 4863 \nz\n\" transform=\"scale(0.015625)\"/>\n      <path id=\"DejaVuSans-75\" d=\"M 544 1381 \nL 544 3500 \nL 1119 3500 \nL 1119 1403 \nQ 1119 906 1312 657 \nQ 1506 409 1894 409 \nQ 2359 409 2629 706 \nQ 2900 1003 2900 1516 \nL 2900 3500 \nL 3475 3500 \nL 3475 0 \nL 2900 0 \nL 2900 538 \nQ 2691 219 2414 64 \nQ 2138 -91 1772 -91 \nQ 1169 -91 856 284 \nQ 544 659 544 1381 \nz\nM 1991 3584 \nL 1991 3584 \nz\n\" transform=\"scale(0.015625)\"/>\n      <path id=\"DejaVuSans-6e\" d=\"M 3513 2113 \nL 3513 0 \nL 2938 0 \nL 2938 2094 \nQ 2938 2591 2744 2837 \nQ 2550 3084 2163 3084 \nQ 1697 3084 1428 2787 \nQ 1159 2491 1159 1978 \nL 1159 0 \nL 581 0 \nL 581 3500 \nL 1159 3500 \nL 1159 2956 \nQ 1366 3272 1645 3428 \nQ 1925 3584 2291 3584 \nQ 2894 3584 3203 3211 \nQ 3513 2838 3513 2113 \nz\n\" transform=\"scale(0.015625)\"/>\n      <path id=\"DejaVuSans-63\" d=\"M 3122 3366 \nL 3122 2828 \nQ 2878 2963 2633 3030 \nQ 2388 3097 2138 3097 \nQ 1578 3097 1268 2742 \nQ 959 2388 959 1747 \nQ 959 1106 1268 751 \nQ 1578 397 2138 397 \nQ 2388 397 2633 464 \nQ 2878 531 3122 666 \nL 3122 134 \nQ 2881 22 2623 -34 \nQ 2366 -91 2075 -91 \nQ 1284 -91 818 406 \nQ 353 903 353 1747 \nQ 353 2603 823 3093 \nQ 1294 3584 2113 3584 \nQ 2378 3584 2631 3529 \nQ 2884 3475 3122 3366 \nz\n\" transform=\"scale(0.015625)\"/>\n      <path id=\"DejaVuSans-69\" d=\"M 603 3500 \nL 1178 3500 \nL 1178 0 \nL 603 0 \nL 603 3500 \nz\nM 603 4863 \nL 1178 4863 \nL 1178 4134 \nL 603 4134 \nL 603 4863 \nz\n\" transform=\"scale(0.015625)\"/>\n      <path id=\"DejaVuSans-64\" d=\"M 2906 2969 \nL 2906 4863 \nL 3481 4863 \nL 3481 0 \nL 2906 0 \nL 2906 525 \nQ 2725 213 2448 61 \nQ 2172 -91 1784 -91 \nQ 1150 -91 751 415 \nQ 353 922 353 1747 \nQ 353 2572 751 3078 \nQ 1150 3584 1784 3584 \nQ 2172 3584 2448 3432 \nQ 2725 3281 2906 2969 \nz\nM 947 1747 \nQ 947 1113 1208 752 \nQ 1469 391 1925 391 \nQ 2381 391 2643 752 \nQ 2906 1113 2906 1747 \nQ 2906 2381 2643 2742 \nQ 2381 3103 1925 3103 \nQ 1469 3103 1208 2742 \nQ 947 2381 947 1747 \nz\n\" transform=\"scale(0.015625)\"/>\n      <path id=\"DejaVuSans-79\" d=\"M 2059 -325 \nQ 1816 -950 1584 -1140 \nQ 1353 -1331 966 -1331 \nL 506 -1331 \nL 506 -850 \nL 844 -850 \nQ 1081 -850 1212 -737 \nQ 1344 -625 1503 -206 \nL 1606 56 \nL 191 3500 \nL 800 3500 \nL 1894 763 \nL 2988 3500 \nL 3597 3500 \nL 2059 -325 \nz\n\" transform=\"scale(0.015625)\"/>\n      <path id=\"DejaVuSans-61\" d=\"M 2194 1759 \nQ 1497 1759 1228 1600 \nQ 959 1441 959 1056 \nQ 959 750 1161 570 \nQ 1363 391 1709 391 \nQ 2188 391 2477 730 \nQ 2766 1069 2766 1631 \nL 2766 1759 \nL 2194 1759 \nz\nM 3341 1997 \nL 3341 0 \nL 2766 0 \nL 2766 531 \nQ 2569 213 2275 61 \nQ 1981 -91 1556 -91 \nQ 1019 -91 701 211 \nQ 384 513 384 1019 \nQ 384 1609 779 1909 \nQ 1175 2209 1959 2209 \nL 2766 2209 \nL 2766 2266 \nQ 2766 2663 2505 2880 \nQ 2244 3097 1772 3097 \nQ 1472 3097 1187 3025 \nQ 903 2953 641 2809 \nL 641 3341 \nQ 956 3463 1253 3523 \nQ 1550 3584 1831 3584 \nQ 2591 3584 2966 3190 \nQ 3341 2797 3341 1997 \nz\n\" transform=\"scale(0.015625)\"/>\n      <path id=\"DejaVuSans-6d\" d=\"M 3328 2828 \nQ 3544 3216 3844 3400 \nQ 4144 3584 4550 3584 \nQ 5097 3584 5394 3201 \nQ 5691 2819 5691 2113 \nL 5691 0 \nL 5113 0 \nL 5113 2094 \nQ 5113 2597 4934 2840 \nQ 4756 3084 4391 3084 \nQ 3944 3084 3684 2787 \nQ 3425 2491 3425 1978 \nL 3425 0 \nL 2847 0 \nL 2847 2094 \nQ 2847 2600 2669 2842 \nQ 2491 3084 2119 3084 \nQ 1678 3084 1418 2786 \nQ 1159 2488 1159 1978 \nL 1159 0 \nL 581 0 \nL 581 3500 \nL 1159 3500 \nL 1159 2956 \nQ 1356 3278 1631 3431 \nQ 1906 3584 2284 3584 \nQ 2666 3584 2933 3390 \nQ 3200 3197 3328 2828 \nz\n\" transform=\"scale(0.015625)\"/>\n     </defs>\n     <use xlink:href=\"#DejaVuSans-4c\"/>\n     <use xlink:href=\"#DejaVuSans-6f\" x=\"53.962891\"/>\n     <use xlink:href=\"#DejaVuSans-73\" x=\"115.144531\"/>\n     <use xlink:href=\"#DejaVuSans-73\" x=\"167.244141\"/>\n     <use xlink:href=\"#DejaVuSans-20\" x=\"219.34375\"/>\n     <use xlink:href=\"#DejaVuSans-66\" x=\"251.130859\"/>\n     <use xlink:href=\"#DejaVuSans-75\" x=\"286.335938\"/>\n     <use xlink:href=\"#DejaVuSans-6e\" x=\"349.714844\"/>\n     <use xlink:href=\"#DejaVuSans-63\" x=\"413.09375\"/>\n     <use xlink:href=\"#DejaVuSans-74\" x=\"468.074219\"/>\n     <use xlink:href=\"#DejaVuSans-69\" x=\"507.283203\"/>\n     <use xlink:href=\"#DejaVuSans-6f\" x=\"535.066406\"/>\n     <use xlink:href=\"#DejaVuSans-6e\" x=\"596.248047\"/>\n     <use xlink:href=\"#DejaVuSans-20\" x=\"659.626953\"/>\n     <use xlink:href=\"#DejaVuSans-64\" x=\"691.414062\"/>\n     <use xlink:href=\"#DejaVuSans-79\" x=\"754.890625\"/>\n     <use xlink:href=\"#DejaVuSans-6e\" x=\"814.070312\"/>\n     <use xlink:href=\"#DejaVuSans-61\" x=\"877.449219\"/>\n     <use xlink:href=\"#DejaVuSans-6d\" x=\"938.728516\"/>\n     <use xlink:href=\"#DejaVuSans-69\" x=\"1036.140625\"/>\n     <use xlink:href=\"#DejaVuSans-63\" x=\"1063.923828\"/>\n     <use xlink:href=\"#DejaVuSans-73\" x=\"1118.904297\"/>\n    </g>\n   </g>\n  </g>\n </g>\n <defs>\n  <clipPath id=\"p9cbbbb5d96\">\n   <rect x=\"76.658125\" y=\"26.877187\" width=\"446.4\" height=\"332.64\"/>\n  </clipPath>\n </defs>\n</svg>\n",
      "text/plain": [
       "<Figure size 800x600 with 1 Axes>"
      ]
     },
     "metadata": {},
     "output_type": "display_data"
    }
   ],
   "source": [
    "losses = jnp.asarray(losses)\n",
    "\n",
    "plot(\n",
    "    jnp.arange(losses.size-1), [losses[:-1]], \n",
    "    # yscale='log',\n",
    "    xlabel='Steps',\n",
    "    ylabel='Loss',\n",
    "    title='Loss function dynamics')"
   ]
  },
  {
   "cell_type": "code",
   "execution_count": 49,
   "id": "521c6ab7",
   "metadata": {},
   "outputs": [
    {
     "data": {
      "image/svg+xml": "<?xml version=\"1.0\" encoding=\"utf-8\" standalone=\"no\"?>\n<!DOCTYPE svg PUBLIC \"-//W3C//DTD SVG 1.1//EN\"\n  \"http://www.w3.org/Graphics/SVG/1.1/DTD/svg11.dtd\">\n<svg xmlns:xlink=\"http://www.w3.org/1999/xlink\" width=\"538.626635pt\" height=\"405.187187pt\" viewBox=\"0 0 538.626635 405.187187\" xmlns=\"http://www.w3.org/2000/svg\" version=\"1.1\">\n <metadata>\n  <rdf:RDF xmlns:dc=\"http://purl.org/dc/elements/1.1/\" xmlns:cc=\"http://creativecommons.org/ns#\" xmlns:rdf=\"http://www.w3.org/1999/02/22-rdf-syntax-ns#\">\n   <cc:Work>\n    <dc:type rdf:resource=\"http://purl.org/dc/dcmitype/StillImage\"/>\n    <dc:date>2022-05-07T21:15:59.245218</dc:date>\n    <dc:format>image/svg+xml</dc:format>\n    <dc:creator>\n     <cc:Agent>\n      <dc:title>Matplotlib v3.5.2, https://matplotlib.org/</dc:title>\n     </cc:Agent>\n    </dc:creator>\n   </cc:Work>\n  </rdf:RDF>\n </metadata>\n <defs>\n  <style type=\"text/css\">*{stroke-linejoin: round; stroke-linecap: butt}</style>\n </defs>\n <g id=\"figure_1\">\n  <g id=\"patch_1\">\n   <path d=\"M 0 405.187187 \nL 538.626635 405.187187 \nL 538.626635 0 \nL 0 0 \nz\n\" style=\"fill: #ffffff\"/>\n  </g>\n  <g id=\"axes_1\">\n   <g id=\"patch_2\">\n    <path d=\"M 77.2375 359.517187 \nL 523.6375 359.517187 \nL 523.6375 26.877187 \nL 77.2375 26.877187 \nz\n\" style=\"fill: #eeeeee\"/>\n   </g>\n   <g id=\"matplotlib.axis_1\">\n    <g id=\"xtick_1\">\n     <g id=\"line2d_1\">\n      <path d=\"M 97.528409 359.517187 \nL 97.528409 26.877187 \n\" clip-path=\"url(#p5d66d1eee3)\" style=\"fill: none; stroke-dasharray: 0.5,5; stroke-dashoffset: 0; stroke: #000000; stroke-width: 0.5\"/>\n     </g>\n     <g id=\"line2d_2\">\n      <defs>\n       <path id=\"mce4ed9631e\" d=\"M 0 0 \nL 0 -3.5 \n\" style=\"stroke: #000000; stroke-width: 0.8\"/>\n      </defs>\n      <g>\n       <use xlink:href=\"#mce4ed9631e\" x=\"97.528409\" y=\"359.517187\" style=\"stroke: #000000; stroke-width: 0.8\"/>\n      </g>\n     </g>\n     <g id=\"text_1\">\n      <!-- 0 -->\n      <g transform=\"translate(93.074659 373.655)scale(0.14 -0.14)\">\n       <defs>\n        <path id=\"DejaVuSans-30\" d=\"M 2034 4250 \nQ 1547 4250 1301 3770 \nQ 1056 3291 1056 2328 \nQ 1056 1369 1301 889 \nQ 1547 409 2034 409 \nQ 2525 409 2770 889 \nQ 3016 1369 3016 2328 \nQ 3016 3291 2770 3770 \nQ 2525 4250 2034 4250 \nz\nM 2034 4750 \nQ 2819 4750 3233 4129 \nQ 3647 3509 3647 2328 \nQ 3647 1150 3233 529 \nQ 2819 -91 2034 -91 \nQ 1250 -91 836 529 \nQ 422 1150 422 2328 \nQ 422 3509 836 4129 \nQ 1250 4750 2034 4750 \nz\n\" transform=\"scale(0.015625)\"/>\n       </defs>\n       <use xlink:href=\"#DejaVuSans-30\"/>\n      </g>\n     </g>\n    </g>\n    <g id=\"xtick_2\">\n     <g id=\"line2d_3\">\n      <path d=\"M 150.095531 359.517187 \nL 150.095531 26.877187 \n\" clip-path=\"url(#p5d66d1eee3)\" style=\"fill: none; stroke-dasharray: 0.5,5; stroke-dashoffset: 0; stroke: #000000; stroke-width: 0.5\"/>\n     </g>\n     <g id=\"line2d_4\">\n      <g>\n       <use xlink:href=\"#mce4ed9631e\" x=\"150.095531\" y=\"359.517187\" style=\"stroke: #000000; stroke-width: 0.8\"/>\n      </g>\n     </g>\n     <g id=\"text_2\">\n      <!-- 25 -->\n      <g transform=\"translate(141.188031 373.655)scale(0.14 -0.14)\">\n       <defs>\n        <path id=\"DejaVuSans-32\" d=\"M 1228 531 \nL 3431 531 \nL 3431 0 \nL 469 0 \nL 469 531 \nQ 828 903 1448 1529 \nQ 2069 2156 2228 2338 \nQ 2531 2678 2651 2914 \nQ 2772 3150 2772 3378 \nQ 2772 3750 2511 3984 \nQ 2250 4219 1831 4219 \nQ 1534 4219 1204 4116 \nQ 875 4013 500 3803 \nL 500 4441 \nQ 881 4594 1212 4672 \nQ 1544 4750 1819 4750 \nQ 2544 4750 2975 4387 \nQ 3406 4025 3406 3419 \nQ 3406 3131 3298 2873 \nQ 3191 2616 2906 2266 \nQ 2828 2175 2409 1742 \nQ 1991 1309 1228 531 \nz\n\" transform=\"scale(0.015625)\"/>\n        <path id=\"DejaVuSans-35\" d=\"M 691 4666 \nL 3169 4666 \nL 3169 4134 \nL 1269 4134 \nL 1269 2991 \nQ 1406 3038 1543 3061 \nQ 1681 3084 1819 3084 \nQ 2600 3084 3056 2656 \nQ 3513 2228 3513 1497 \nQ 3513 744 3044 326 \nQ 2575 -91 1722 -91 \nQ 1428 -91 1123 -41 \nQ 819 9 494 109 \nL 494 744 \nQ 775 591 1075 516 \nQ 1375 441 1709 441 \nQ 2250 441 2565 725 \nQ 2881 1009 2881 1497 \nQ 2881 1984 2565 2268 \nQ 2250 2553 1709 2553 \nQ 1456 2553 1204 2497 \nQ 953 2441 691 2322 \nL 691 4666 \nz\n\" transform=\"scale(0.015625)\"/>\n       </defs>\n       <use xlink:href=\"#DejaVuSans-32\"/>\n       <use xlink:href=\"#DejaVuSans-35\" x=\"63.623047\"/>\n      </g>\n     </g>\n    </g>\n    <g id=\"xtick_3\">\n     <g id=\"line2d_5\">\n      <path d=\"M 202.662653 359.517187 \nL 202.662653 26.877187 \n\" clip-path=\"url(#p5d66d1eee3)\" style=\"fill: none; stroke-dasharray: 0.5,5; stroke-dashoffset: 0; stroke: #000000; stroke-width: 0.5\"/>\n     </g>\n     <g id=\"line2d_6\">\n      <g>\n       <use xlink:href=\"#mce4ed9631e\" x=\"202.662653\" y=\"359.517187\" style=\"stroke: #000000; stroke-width: 0.8\"/>\n      </g>\n     </g>\n     <g id=\"text_3\">\n      <!-- 50 -->\n      <g transform=\"translate(193.755153 373.655)scale(0.14 -0.14)\">\n       <use xlink:href=\"#DejaVuSans-35\"/>\n       <use xlink:href=\"#DejaVuSans-30\" x=\"63.623047\"/>\n      </g>\n     </g>\n    </g>\n    <g id=\"xtick_4\">\n     <g id=\"line2d_7\">\n      <path d=\"M 255.229775 359.517187 \nL 255.229775 26.877187 \n\" clip-path=\"url(#p5d66d1eee3)\" style=\"fill: none; stroke-dasharray: 0.5,5; stroke-dashoffset: 0; stroke: #000000; stroke-width: 0.5\"/>\n     </g>\n     <g id=\"line2d_8\">\n      <g>\n       <use xlink:href=\"#mce4ed9631e\" x=\"255.229775\" y=\"359.517187\" style=\"stroke: #000000; stroke-width: 0.8\"/>\n      </g>\n     </g>\n     <g id=\"text_4\">\n      <!-- 75 -->\n      <g transform=\"translate(246.322275 373.655)scale(0.14 -0.14)\">\n       <defs>\n        <path id=\"DejaVuSans-37\" d=\"M 525 4666 \nL 3525 4666 \nL 3525 4397 \nL 1831 0 \nL 1172 0 \nL 2766 4134 \nL 525 4134 \nL 525 4666 \nz\n\" transform=\"scale(0.015625)\"/>\n       </defs>\n       <use xlink:href=\"#DejaVuSans-37\"/>\n       <use xlink:href=\"#DejaVuSans-35\" x=\"63.623047\"/>\n      </g>\n     </g>\n    </g>\n    <g id=\"xtick_5\">\n     <g id=\"line2d_9\">\n      <path d=\"M 307.796897 359.517187 \nL 307.796897 26.877187 \n\" clip-path=\"url(#p5d66d1eee3)\" style=\"fill: none; stroke-dasharray: 0.5,5; stroke-dashoffset: 0; stroke: #000000; stroke-width: 0.5\"/>\n     </g>\n     <g id=\"line2d_10\">\n      <g>\n       <use xlink:href=\"#mce4ed9631e\" x=\"307.796897\" y=\"359.517187\" style=\"stroke: #000000; stroke-width: 0.8\"/>\n      </g>\n     </g>\n     <g id=\"text_5\">\n      <!-- 100 -->\n      <g transform=\"translate(294.435647 373.655)scale(0.14 -0.14)\">\n       <defs>\n        <path id=\"DejaVuSans-31\" d=\"M 794 531 \nL 1825 531 \nL 1825 4091 \nL 703 3866 \nL 703 4441 \nL 1819 4666 \nL 2450 4666 \nL 2450 531 \nL 3481 531 \nL 3481 0 \nL 794 0 \nL 794 531 \nz\n\" transform=\"scale(0.015625)\"/>\n       </defs>\n       <use xlink:href=\"#DejaVuSans-31\"/>\n       <use xlink:href=\"#DejaVuSans-30\" x=\"63.623047\"/>\n       <use xlink:href=\"#DejaVuSans-30\" x=\"127.246094\"/>\n      </g>\n     </g>\n    </g>\n    <g id=\"xtick_6\">\n     <g id=\"line2d_11\">\n      <path d=\"M 360.364019 359.517187 \nL 360.364019 26.877187 \n\" clip-path=\"url(#p5d66d1eee3)\" style=\"fill: none; stroke-dasharray: 0.5,5; stroke-dashoffset: 0; stroke: #000000; stroke-width: 0.5\"/>\n     </g>\n     <g id=\"line2d_12\">\n      <g>\n       <use xlink:href=\"#mce4ed9631e\" x=\"360.364019\" y=\"359.517187\" style=\"stroke: #000000; stroke-width: 0.8\"/>\n      </g>\n     </g>\n     <g id=\"text_6\">\n      <!-- 125 -->\n      <g transform=\"translate(347.002769 373.655)scale(0.14 -0.14)\">\n       <use xlink:href=\"#DejaVuSans-31\"/>\n       <use xlink:href=\"#DejaVuSans-32\" x=\"63.623047\"/>\n       <use xlink:href=\"#DejaVuSans-35\" x=\"127.246094\"/>\n      </g>\n     </g>\n    </g>\n    <g id=\"xtick_7\">\n     <g id=\"line2d_13\">\n      <path d=\"M 412.931141 359.517187 \nL 412.931141 26.877187 \n\" clip-path=\"url(#p5d66d1eee3)\" style=\"fill: none; stroke-dasharray: 0.5,5; stroke-dashoffset: 0; stroke: #000000; stroke-width: 0.5\"/>\n     </g>\n     <g id=\"line2d_14\">\n      <g>\n       <use xlink:href=\"#mce4ed9631e\" x=\"412.931141\" y=\"359.517187\" style=\"stroke: #000000; stroke-width: 0.8\"/>\n      </g>\n     </g>\n     <g id=\"text_7\">\n      <!-- 150 -->\n      <g transform=\"translate(399.569891 373.655)scale(0.14 -0.14)\">\n       <use xlink:href=\"#DejaVuSans-31\"/>\n       <use xlink:href=\"#DejaVuSans-35\" x=\"63.623047\"/>\n       <use xlink:href=\"#DejaVuSans-30\" x=\"127.246094\"/>\n      </g>\n     </g>\n    </g>\n    <g id=\"xtick_8\">\n     <g id=\"line2d_15\">\n      <path d=\"M 465.498263 359.517187 \nL 465.498263 26.877187 \n\" clip-path=\"url(#p5d66d1eee3)\" style=\"fill: none; stroke-dasharray: 0.5,5; stroke-dashoffset: 0; stroke: #000000; stroke-width: 0.5\"/>\n     </g>\n     <g id=\"line2d_16\">\n      <g>\n       <use xlink:href=\"#mce4ed9631e\" x=\"465.498263\" y=\"359.517187\" style=\"stroke: #000000; stroke-width: 0.8\"/>\n      </g>\n     </g>\n     <g id=\"text_8\">\n      <!-- 175 -->\n      <g transform=\"translate(452.137013 373.655)scale(0.14 -0.14)\">\n       <use xlink:href=\"#DejaVuSans-31\"/>\n       <use xlink:href=\"#DejaVuSans-37\" x=\"63.623047\"/>\n       <use xlink:href=\"#DejaVuSans-35\" x=\"127.246094\"/>\n      </g>\n     </g>\n    </g>\n    <g id=\"xtick_9\">\n     <g id=\"line2d_17\">\n      <path d=\"M 518.065385 359.517187 \nL 518.065385 26.877187 \n\" clip-path=\"url(#p5d66d1eee3)\" style=\"fill: none; stroke-dasharray: 0.5,5; stroke-dashoffset: 0; stroke: #000000; stroke-width: 0.5\"/>\n     </g>\n     <g id=\"line2d_18\">\n      <g>\n       <use xlink:href=\"#mce4ed9631e\" x=\"518.065385\" y=\"359.517187\" style=\"stroke: #000000; stroke-width: 0.8\"/>\n      </g>\n     </g>\n     <g id=\"text_9\">\n      <!-- 200 -->\n      <g transform=\"translate(504.704135 373.655)scale(0.14 -0.14)\">\n       <use xlink:href=\"#DejaVuSans-32\"/>\n       <use xlink:href=\"#DejaVuSans-30\" x=\"63.623047\"/>\n       <use xlink:href=\"#DejaVuSans-30\" x=\"127.246094\"/>\n      </g>\n     </g>\n    </g>\n    <g id=\"text_10\">\n     <!-- Steps -->\n     <g transform=\"translate(275.255781 394.24375)scale(0.18 -0.18)\">\n      <defs>\n       <path id=\"DejaVuSans-53\" d=\"M 3425 4513 \nL 3425 3897 \nQ 3066 4069 2747 4153 \nQ 2428 4238 2131 4238 \nQ 1616 4238 1336 4038 \nQ 1056 3838 1056 3469 \nQ 1056 3159 1242 3001 \nQ 1428 2844 1947 2747 \nL 2328 2669 \nQ 3034 2534 3370 2195 \nQ 3706 1856 3706 1288 \nQ 3706 609 3251 259 \nQ 2797 -91 1919 -91 \nQ 1588 -91 1214 -16 \nQ 841 59 441 206 \nL 441 856 \nQ 825 641 1194 531 \nQ 1563 422 1919 422 \nQ 2459 422 2753 634 \nQ 3047 847 3047 1241 \nQ 3047 1584 2836 1778 \nQ 2625 1972 2144 2069 \nL 1759 2144 \nQ 1053 2284 737 2584 \nQ 422 2884 422 3419 \nQ 422 4038 858 4394 \nQ 1294 4750 2059 4750 \nQ 2388 4750 2728 4690 \nQ 3069 4631 3425 4513 \nz\n\" transform=\"scale(0.015625)\"/>\n       <path id=\"DejaVuSans-74\" d=\"M 1172 4494 \nL 1172 3500 \nL 2356 3500 \nL 2356 3053 \nL 1172 3053 \nL 1172 1153 \nQ 1172 725 1289 603 \nQ 1406 481 1766 481 \nL 2356 481 \nL 2356 0 \nL 1766 0 \nQ 1100 0 847 248 \nQ 594 497 594 1153 \nL 594 3053 \nL 172 3053 \nL 172 3500 \nL 594 3500 \nL 594 4494 \nL 1172 4494 \nz\n\" transform=\"scale(0.015625)\"/>\n       <path id=\"DejaVuSans-65\" d=\"M 3597 1894 \nL 3597 1613 \nL 953 1613 \nQ 991 1019 1311 708 \nQ 1631 397 2203 397 \nQ 2534 397 2845 478 \nQ 3156 559 3463 722 \nL 3463 178 \nQ 3153 47 2828 -22 \nQ 2503 -91 2169 -91 \nQ 1331 -91 842 396 \nQ 353 884 353 1716 \nQ 353 2575 817 3079 \nQ 1281 3584 2069 3584 \nQ 2775 3584 3186 3129 \nQ 3597 2675 3597 1894 \nz\nM 3022 2063 \nQ 3016 2534 2758 2815 \nQ 2500 3097 2075 3097 \nQ 1594 3097 1305 2825 \nQ 1016 2553 972 2059 \nL 3022 2063 \nz\n\" transform=\"scale(0.015625)\"/>\n       <path id=\"DejaVuSans-70\" d=\"M 1159 525 \nL 1159 -1331 \nL 581 -1331 \nL 581 3500 \nL 1159 3500 \nL 1159 2969 \nQ 1341 3281 1617 3432 \nQ 1894 3584 2278 3584 \nQ 2916 3584 3314 3078 \nQ 3713 2572 3713 1747 \nQ 3713 922 3314 415 \nQ 2916 -91 2278 -91 \nQ 1894 -91 1617 61 \nQ 1341 213 1159 525 \nz\nM 3116 1747 \nQ 3116 2381 2855 2742 \nQ 2594 3103 2138 3103 \nQ 1681 3103 1420 2742 \nQ 1159 2381 1159 1747 \nQ 1159 1113 1420 752 \nQ 1681 391 2138 391 \nQ 2594 391 2855 752 \nQ 3116 1113 3116 1747 \nz\n\" transform=\"scale(0.015625)\"/>\n       <path id=\"DejaVuSans-73\" d=\"M 2834 3397 \nL 2834 2853 \nQ 2591 2978 2328 3040 \nQ 2066 3103 1784 3103 \nQ 1356 3103 1142 2972 \nQ 928 2841 928 2578 \nQ 928 2378 1081 2264 \nQ 1234 2150 1697 2047 \nL 1894 2003 \nQ 2506 1872 2764 1633 \nQ 3022 1394 3022 966 \nQ 3022 478 2636 193 \nQ 2250 -91 1575 -91 \nQ 1294 -91 989 -36 \nQ 684 19 347 128 \nL 347 722 \nQ 666 556 975 473 \nQ 1284 391 1588 391 \nQ 1994 391 2212 530 \nQ 2431 669 2431 922 \nQ 2431 1156 2273 1281 \nQ 2116 1406 1581 1522 \nL 1381 1569 \nQ 847 1681 609 1914 \nQ 372 2147 372 2553 \nQ 372 3047 722 3315 \nQ 1072 3584 1716 3584 \nQ 2034 3584 2315 3537 \nQ 2597 3491 2834 3397 \nz\n\" transform=\"scale(0.015625)\"/>\n      </defs>\n      <use xlink:href=\"#DejaVuSans-53\"/>\n      <use xlink:href=\"#DejaVuSans-74\" x=\"63.476562\"/>\n      <use xlink:href=\"#DejaVuSans-65\" x=\"102.685547\"/>\n      <use xlink:href=\"#DejaVuSans-70\" x=\"164.208984\"/>\n      <use xlink:href=\"#DejaVuSans-73\" x=\"227.685547\"/>\n     </g>\n    </g>\n   </g>\n   <g id=\"matplotlib.axis_2\">\n    <g id=\"ytick_1\">\n     <g id=\"line2d_19\">\n      <path d=\"M 77.2375 346.211012 \nL 523.6375 346.211012 \n\" clip-path=\"url(#p5d66d1eee3)\" style=\"fill: none; stroke-dasharray: 0.5,5; stroke-dashoffset: 0; stroke: #000000; stroke-width: 0.5\"/>\n     </g>\n     <g id=\"line2d_20\">\n      <defs>\n       <path id=\"mcefb1d5abf\" d=\"M 0 0 \nL 3.5 0 \n\" style=\"stroke: #000000; stroke-width: 0.8\"/>\n      </defs>\n      <g>\n       <use xlink:href=\"#mcefb1d5abf\" x=\"77.2375\" y=\"346.211012\" style=\"stroke: #000000; stroke-width: 0.8\"/>\n      </g>\n     </g>\n     <g id=\"text_11\">\n      <!-- 0 -->\n      <g transform=\"translate(64.83 351.529918)scale(0.14 -0.14)\">\n       <use xlink:href=\"#DejaVuSans-30\"/>\n      </g>\n     </g>\n    </g>\n    <g id=\"ytick_2\">\n     <g id=\"line2d_21\">\n      <path d=\"M 77.2375 288.727198 \nL 523.6375 288.727198 \n\" clip-path=\"url(#p5d66d1eee3)\" style=\"fill: none; stroke-dasharray: 0.5,5; stroke-dashoffset: 0; stroke: #000000; stroke-width: 0.5\"/>\n     </g>\n     <g id=\"line2d_22\">\n      <g>\n       <use xlink:href=\"#mcefb1d5abf\" x=\"77.2375\" y=\"288.727198\" style=\"stroke: #000000; stroke-width: 0.8\"/>\n      </g>\n     </g>\n     <g id=\"text_12\">\n      <!-- 2000 -->\n      <g transform=\"translate(38.1075 294.046105)scale(0.14 -0.14)\">\n       <use xlink:href=\"#DejaVuSans-32\"/>\n       <use xlink:href=\"#DejaVuSans-30\" x=\"63.623047\"/>\n       <use xlink:href=\"#DejaVuSans-30\" x=\"127.246094\"/>\n       <use xlink:href=\"#DejaVuSans-30\" x=\"190.869141\"/>\n      </g>\n     </g>\n    </g>\n    <g id=\"ytick_3\">\n     <g id=\"line2d_23\">\n      <path d=\"M 77.2375 231.243385 \nL 523.6375 231.243385 \n\" clip-path=\"url(#p5d66d1eee3)\" style=\"fill: none; stroke-dasharray: 0.5,5; stroke-dashoffset: 0; stroke: #000000; stroke-width: 0.5\"/>\n     </g>\n     <g id=\"line2d_24\">\n      <g>\n       <use xlink:href=\"#mcefb1d5abf\" x=\"77.2375\" y=\"231.243385\" style=\"stroke: #000000; stroke-width: 0.8\"/>\n      </g>\n     </g>\n     <g id=\"text_13\">\n      <!-- 4000 -->\n      <g transform=\"translate(38.1075 236.562291)scale(0.14 -0.14)\">\n       <defs>\n        <path id=\"DejaVuSans-34\" d=\"M 2419 4116 \nL 825 1625 \nL 2419 1625 \nL 2419 4116 \nz\nM 2253 4666 \nL 3047 4666 \nL 3047 1625 \nL 3713 1625 \nL 3713 1100 \nL 3047 1100 \nL 3047 0 \nL 2419 0 \nL 2419 1100 \nL 313 1100 \nL 313 1709 \nL 2253 4666 \nz\n\" transform=\"scale(0.015625)\"/>\n       </defs>\n       <use xlink:href=\"#DejaVuSans-34\"/>\n       <use xlink:href=\"#DejaVuSans-30\" x=\"63.623047\"/>\n       <use xlink:href=\"#DejaVuSans-30\" x=\"127.246094\"/>\n       <use xlink:href=\"#DejaVuSans-30\" x=\"190.869141\"/>\n      </g>\n     </g>\n    </g>\n    <g id=\"ytick_4\">\n     <g id=\"line2d_25\">\n      <path d=\"M 77.2375 173.759571 \nL 523.6375 173.759571 \n\" clip-path=\"url(#p5d66d1eee3)\" style=\"fill: none; stroke-dasharray: 0.5,5; stroke-dashoffset: 0; stroke: #000000; stroke-width: 0.5\"/>\n     </g>\n     <g id=\"line2d_26\">\n      <g>\n       <use xlink:href=\"#mcefb1d5abf\" x=\"77.2375\" y=\"173.759571\" style=\"stroke: #000000; stroke-width: 0.8\"/>\n      </g>\n     </g>\n     <g id=\"text_14\">\n      <!-- 6000 -->\n      <g transform=\"translate(38.1075 179.078477)scale(0.14 -0.14)\">\n       <defs>\n        <path id=\"DejaVuSans-36\" d=\"M 2113 2584 \nQ 1688 2584 1439 2293 \nQ 1191 2003 1191 1497 \nQ 1191 994 1439 701 \nQ 1688 409 2113 409 \nQ 2538 409 2786 701 \nQ 3034 994 3034 1497 \nQ 3034 2003 2786 2293 \nQ 2538 2584 2113 2584 \nz\nM 3366 4563 \nL 3366 3988 \nQ 3128 4100 2886 4159 \nQ 2644 4219 2406 4219 \nQ 1781 4219 1451 3797 \nQ 1122 3375 1075 2522 \nQ 1259 2794 1537 2939 \nQ 1816 3084 2150 3084 \nQ 2853 3084 3261 2657 \nQ 3669 2231 3669 1497 \nQ 3669 778 3244 343 \nQ 2819 -91 2113 -91 \nQ 1303 -91 875 529 \nQ 447 1150 447 2328 \nQ 447 3434 972 4092 \nQ 1497 4750 2381 4750 \nQ 2619 4750 2861 4703 \nQ 3103 4656 3366 4563 \nz\n\" transform=\"scale(0.015625)\"/>\n       </defs>\n       <use xlink:href=\"#DejaVuSans-36\"/>\n       <use xlink:href=\"#DejaVuSans-30\" x=\"63.623047\"/>\n       <use xlink:href=\"#DejaVuSans-30\" x=\"127.246094\"/>\n       <use xlink:href=\"#DejaVuSans-30\" x=\"190.869141\"/>\n      </g>\n     </g>\n    </g>\n    <g id=\"ytick_5\">\n     <g id=\"line2d_27\">\n      <path d=\"M 77.2375 116.275758 \nL 523.6375 116.275758 \n\" clip-path=\"url(#p5d66d1eee3)\" style=\"fill: none; stroke-dasharray: 0.5,5; stroke-dashoffset: 0; stroke: #000000; stroke-width: 0.5\"/>\n     </g>\n     <g id=\"line2d_28\">\n      <g>\n       <use xlink:href=\"#mcefb1d5abf\" x=\"77.2375\" y=\"116.275758\" style=\"stroke: #000000; stroke-width: 0.8\"/>\n      </g>\n     </g>\n     <g id=\"text_15\">\n      <!-- 8000 -->\n      <g transform=\"translate(38.1075 121.594664)scale(0.14 -0.14)\">\n       <defs>\n        <path id=\"DejaVuSans-38\" d=\"M 2034 2216 \nQ 1584 2216 1326 1975 \nQ 1069 1734 1069 1313 \nQ 1069 891 1326 650 \nQ 1584 409 2034 409 \nQ 2484 409 2743 651 \nQ 3003 894 3003 1313 \nQ 3003 1734 2745 1975 \nQ 2488 2216 2034 2216 \nz\nM 1403 2484 \nQ 997 2584 770 2862 \nQ 544 3141 544 3541 \nQ 544 4100 942 4425 \nQ 1341 4750 2034 4750 \nQ 2731 4750 3128 4425 \nQ 3525 4100 3525 3541 \nQ 3525 3141 3298 2862 \nQ 3072 2584 2669 2484 \nQ 3125 2378 3379 2068 \nQ 3634 1759 3634 1313 \nQ 3634 634 3220 271 \nQ 2806 -91 2034 -91 \nQ 1263 -91 848 271 \nQ 434 634 434 1313 \nQ 434 1759 690 2068 \nQ 947 2378 1403 2484 \nz\nM 1172 3481 \nQ 1172 3119 1398 2916 \nQ 1625 2713 2034 2713 \nQ 2441 2713 2670 2916 \nQ 2900 3119 2900 3481 \nQ 2900 3844 2670 4047 \nQ 2441 4250 2034 4250 \nQ 1625 4250 1398 4047 \nQ 1172 3844 1172 3481 \nz\n\" transform=\"scale(0.015625)\"/>\n       </defs>\n       <use xlink:href=\"#DejaVuSans-38\"/>\n       <use xlink:href=\"#DejaVuSans-30\" x=\"63.623047\"/>\n       <use xlink:href=\"#DejaVuSans-30\" x=\"127.246094\"/>\n       <use xlink:href=\"#DejaVuSans-30\" x=\"190.869141\"/>\n      </g>\n     </g>\n    </g>\n    <g id=\"ytick_6\">\n     <g id=\"line2d_29\">\n      <path d=\"M 77.2375 58.791944 \nL 523.6375 58.791944 \n\" clip-path=\"url(#p5d66d1eee3)\" style=\"fill: none; stroke-dasharray: 0.5,5; stroke-dashoffset: 0; stroke: #000000; stroke-width: 0.5\"/>\n     </g>\n     <g id=\"line2d_30\">\n      <g>\n       <use xlink:href=\"#mcefb1d5abf\" x=\"77.2375\" y=\"58.791944\" style=\"stroke: #000000; stroke-width: 0.8\"/>\n      </g>\n     </g>\n     <g id=\"text_16\">\n      <!-- 10000 -->\n      <g transform=\"translate(29.2 64.11085)scale(0.14 -0.14)\">\n       <use xlink:href=\"#DejaVuSans-31\"/>\n       <use xlink:href=\"#DejaVuSans-30\" x=\"63.623047\"/>\n       <use xlink:href=\"#DejaVuSans-30\" x=\"127.246094\"/>\n       <use xlink:href=\"#DejaVuSans-30\" x=\"190.869141\"/>\n       <use xlink:href=\"#DejaVuSans-30\" x=\"254.492188\"/>\n      </g>\n     </g>\n    </g>\n    <g id=\"text_17\">\n     <!-- $\\|\\Delta{B}\\|_2$ -->\n     <g transform=\"translate(20.7 220.647187)rotate(-90)scale(0.18 -0.18)\">\n      <defs>\n       <path id=\"Cmsy10-6b\" d=\"M 850 -1484 \nL 850 4684 \nQ 850 4734 890 4767 \nQ 931 4800 978 4800 \nQ 1031 4800 1068 4767 \nQ 1106 4734 1106 4684 \nL 1106 -1484 \nQ 1106 -1534 1068 -1567 \nQ 1031 -1600 978 -1600 \nQ 931 -1600 890 -1567 \nQ 850 -1534 850 -1484 \nz\nM 2094 -1484 \nL 2094 4684 \nQ 2094 4734 2131 4767 \nQ 2169 4800 2222 4800 \nQ 2269 4800 2309 4767 \nQ 2350 4734 2350 4684 \nL 2350 -1484 \nQ 2350 -1534 2309 -1567 \nQ 2269 -1600 2222 -1600 \nQ 2169 -1600 2131 -1567 \nQ 2094 -1534 2094 -1484 \nz\n\" transform=\"scale(0.015625)\"/>\n       <path id=\"Cmr10-a2\" d=\"M 347 0 \nQ 294 0 294 50 \nQ 297 56 298 59 \nQ 300 63 300 72 \nL 2503 4513 \nQ 2531 4581 2619 4581 \nL 2706 4581 \nQ 2794 4581 2822 4513 \nL 5025 72 \nQ 5028 66 5029 61 \nQ 5031 56 5031 50 \nQ 5031 0 4978 0 \nL 347 0 \nz\nM 769 513 \nL 4141 513 \nL 2456 3909 \nL 769 513 \nz\n\" transform=\"scale(0.015625)\"/>\n       <path id=\"Cmmi10-42\" d=\"M 319 0 \nQ 256 0 256 84 \nQ 259 100 268 137 \nQ 278 175 293 200 \nQ 309 225 341 225 \nQ 522 225 656 234 \nQ 791 244 884 269 \nQ 959 297 1006 441 \nL 1881 3956 \nQ 1894 4019 1894 4044 \nQ 1894 4113 1819 4122 \nQ 1697 4147 1356 4147 \nQ 1294 4147 1294 4231 \nQ 1297 4247 1306 4286 \nQ 1316 4325 1333 4348 \nQ 1350 4372 1375 4372 \nL 3669 4372 \nQ 3878 4372 4083 4320 \nQ 4288 4269 4461 4156 \nQ 4634 4044 4736 3876 \nQ 4838 3709 4838 3488 \nQ 4838 3247 4714 3040 \nQ 4591 2834 4395 2681 \nQ 4200 2528 3973 2429 \nQ 3747 2331 3500 2284 \nQ 3675 2284 3854 2215 \nQ 4034 2147 4175 2028 \nQ 4316 1909 4402 1743 \nQ 4488 1578 4488 1388 \nQ 4488 1003 4219 684 \nQ 3950 366 3542 183 \nQ 3134 0 2753 0 \nL 319 0 \nz\nM 1497 275 \nQ 1497 225 1716 225 \nL 2631 225 \nQ 2944 225 3231 398 \nQ 3519 572 3692 859 \nQ 3866 1147 3866 1459 \nQ 3866 1650 3786 1820 \nQ 3706 1991 3556 2089 \nQ 3406 2188 3213 2188 \nL 1966 2188 \nL 1522 416 \nQ 1497 328 1497 275 \nz\nM 2009 2356 \nL 2981 2356 \nQ 3288 2356 3577 2512 \nQ 3866 2669 4048 2937 \nQ 4231 3206 4231 3506 \nQ 4231 3784 4057 3965 \nQ 3884 4147 3609 4147 \nL 2731 4147 \nQ 2559 4147 2500 4115 \nQ 2441 4084 2400 3928 \nL 2009 2356 \nz\n\" transform=\"scale(0.015625)\"/>\n       <path id=\"Cmr10-32\" d=\"M 319 0 \nL 319 172 \nQ 319 188 331 206 \nL 1325 1306 \nQ 1550 1550 1690 1715 \nQ 1831 1881 1968 2097 \nQ 2106 2313 2186 2536 \nQ 2266 2759 2266 3009 \nQ 2266 3272 2169 3511 \nQ 2072 3750 1880 3894 \nQ 1688 4038 1416 4038 \nQ 1138 4038 916 3870 \nQ 694 3703 603 3438 \nQ 628 3444 672 3444 \nQ 816 3444 917 3347 \nQ 1019 3250 1019 3097 \nQ 1019 2950 917 2848 \nQ 816 2747 672 2747 \nQ 522 2747 420 2851 \nQ 319 2956 319 3097 \nQ 319 3338 409 3548 \nQ 500 3759 670 3923 \nQ 841 4088 1055 4175 \nQ 1269 4263 1509 4263 \nQ 1875 4263 2190 4108 \nQ 2506 3953 2690 3670 \nQ 2875 3388 2875 3009 \nQ 2875 2731 2753 2481 \nQ 2631 2231 2440 2026 \nQ 2250 1822 1953 1562 \nQ 1656 1303 1563 1216 \nL 838 519 \nL 1453 519 \nQ 1906 519 2211 526 \nQ 2516 534 2534 550 \nQ 2609 631 2688 1141 \nL 2875 1141 \nL 2694 0 \nL 319 0 \nz\n\" transform=\"scale(0.015625)\"/>\n      </defs>\n      <use xlink:href=\"#Cmsy10-6b\"/>\n      <use xlink:href=\"#Cmr10-a2\" transform=\"translate(50 0)\"/>\n      <use xlink:href=\"#Cmmi10-42\" transform=\"translate(133.300781 0)\"/>\n      <use xlink:href=\"#Cmsy10-6b\" transform=\"translate(209.082031 0)\"/>\n      <use xlink:href=\"#Cmr10-32\" transform=\"translate(263.546172 -17.00625)scale(0.7)\"/>\n     </g>\n    </g>\n   </g>\n   <g id=\"line2d_31\">\n    <path d=\"M 97.528409 344.397188 \nL 99.631094 41.997188 \nL 101.733779 259.968989 \nL 103.836464 261.667634 \nL 105.939149 248.204022 \nL 108.041833 292.300705 \nL 110.144518 276.380748 \nL 112.247203 310.515259 \nL 114.349888 307.195805 \nL 116.452573 279.528018 \nL 118.555258 289.920678 \nL 120.657943 298.753268 \nL 122.760628 322.584526 \nL 124.863313 260.544237 \nL 126.965997 312.541071 \nL 131.171367 286.848573 \nL 133.274052 279.150424 \nL 135.376737 292.633148 \nL 137.479422 276.515775 \nL 139.582107 279.894847 \nL 141.684792 301.661567 \nL 143.787476 253.300714 \nL 145.890161 299.293236 \nL 147.992846 275.69251 \nL 150.095531 275.203436 \nL 152.198216 301.262669 \nL 154.300901 276.726836 \nL 156.403586 291.752481 \nL 158.506271 290.281238 \nL 160.608955 290.220909 \nL 162.71164 278.954715 \nL 164.814325 278.011032 \nL 166.91701 276.832082 \nL 169.019695 272.927582 \nL 171.12238 258.290102 \nL 173.225065 274.926448 \nL 175.32775 262.303123 \nL 177.430435 251.585165 \nL 179.533119 256.959206 \nL 181.635804 269.706412 \nL 183.738489 268.576186 \nL 185.841174 275.572974 \nL 187.943859 280.144032 \nL 190.046544 281.413501 \nL 192.149229 274.135421 \nL 194.251914 273.737542 \nL 196.354598 266.458182 \nL 198.457283 266.67902 \nL 200.559968 268.20773 \nL 202.662653 245.459276 \nL 204.765338 256.668887 \nL 206.868023 237.302071 \nL 208.970708 245.759152 \nL 211.073393 249.24742 \nL 213.176077 253.025539 \nL 215.278762 263.100371 \nL 217.381447 270.031573 \nL 219.484132 266.000579 \nL 221.586817 264.924857 \nL 223.689502 262.299425 \nL 225.792187 262.208924 \nL 227.894872 251.424094 \nL 229.997557 256.21575 \nL 232.100241 241.595838 \nL 234.202926 234.122484 \nL 236.305611 232.930542 \nL 238.408296 236.914014 \nL 240.510981 238.715278 \nL 242.613666 246.427459 \nL 244.716351 252.2501 \nL 246.819036 257.004541 \nL 248.92172 257.110614 \nL 251.024405 255.485663 \nL 253.12709 253.579459 \nL 255.229775 245.953512 \nL 257.33246 250.299657 \nL 259.435145 229.042765 \nL 261.53783 233.821604 \nL 263.640515 229.51494 \nL 265.743199 212.202573 \nL 267.845884 224.735704 \nL 269.948569 222.508335 \nL 272.051254 233.599969 \nL 274.153939 239.969169 \nL 276.256624 242.650821 \nL 278.359309 241.533125 \nL 280.461994 245.523079 \nL 282.564679 244.369849 \nL 284.667363 235.800858 \nL 286.770048 236.800346 \nL 288.872733 221.379821 \nL 290.975418 223.537891 \nL 293.078103 212.557376 \nL 295.180788 208.352692 \nL 297.283473 206.111843 \nL 299.386158 207.790463 \nL 301.488842 221.498504 \nL 303.591527 229.075504 \nL 305.694212 233.749498 \nL 307.796897 237.106073 \nL 312.002267 238.385296 \nL 314.104952 232.415409 \nL 316.207637 230.722212 \nL 318.310321 223.992303 \nL 320.413006 204.189046 \nL 322.515691 207.608312 \nL 324.618376 202.74107 \nL 326.721061 198.459779 \nL 328.823746 210.108821 \nL 330.926431 219.158123 \nL 333.029116 226.591875 \nL 335.131801 232.637025 \nL 337.234485 235.172312 \nL 339.33717 234.303738 \nL 341.439855 240.200954 \nL 343.54254 237.92273 \nL 345.645225 221.366396 \nL 347.74791 219.159426 \nL 349.850595 214.408943 \nL 351.95328 200.836194 \nL 354.055964 197.550063 \nL 356.158649 196.185167 \nL 358.261334 208.871319 \nL 360.364019 216.785798 \nL 362.466704 227.911973 \nL 364.569389 233.307236 \nL 366.672074 237.220546 \nL 368.774759 240.448922 \nL 370.877443 240.754207 \nL 372.980128 236.263324 \nL 375.082813 226.002906 \nL 377.185498 221.934455 \nL 379.288183 211.376559 \nL 381.390868 198.929318 \nL 383.493553 194.537933 \nL 385.596238 192.925111 \nL 387.698923 199.545342 \nL 389.801607 212.827453 \nL 391.904292 223.535609 \nL 394.006977 228.876308 \nL 396.109662 232.456649 \nL 398.212347 236.842832 \nL 400.315032 239.569834 \nL 402.417717 226.581354 \nL 404.520402 219.440498 \nL 406.623086 206.565732 \nL 408.725771 208.769981 \nL 410.828456 194.507071 \nL 412.931141 178.820711 \nL 415.033826 179.158364 \nL 417.136511 190.871247 \nL 419.239196 194.01168 \nL 421.341881 206.92157 \nL 423.444565 212.379554 \nL 425.54725 205.025654 \nL 427.649935 203.790819 \nL 429.75262 212.511067 \nL 431.855305 209.959498 \nL 433.95799 194.689238 \nL 436.060675 198.067484 \nL 438.16336 183.083737 \nL 440.266045 184.904167 \nL 442.368729 179.554848 \nL 444.471414 171.934801 \nL 446.574099 178.990112 \nL 448.676784 168.531246 \nL 450.779469 180.669401 \nL 452.882154 183.328262 \nL 454.984839 183.110597 \nL 457.087524 177.976486 \nL 459.190208 178.363201 \nL 461.292893 185.68345 \nL 463.395578 179.909051 \nL 465.498263 170.604798 \nL 467.600948 173.275155 \nL 469.703633 181.048119 \nL 471.806318 173.595834 \nL 473.909003 174.682868 \nL 476.011687 173.489902 \nL 478.114372 180.040637 \nL 482.319742 169.854016 \nL 484.422427 175.187985 \nL 486.525112 177.51959 \nL 488.627797 181.476072 \nL 490.730482 170.063764 \nL 492.833167 176.495403 \nL 494.935851 179.241498 \nL 497.038536 177.68288 \nL 499.141221 198.724314 \nL 501.243906 204.57332 \nL 503.346591 221.585747 \nL 503.346591 221.585747 \n\" clip-path=\"url(#p5d66d1eee3)\" style=\"fill: none; stroke: #348abd; stroke-width: 3; stroke-linecap: square\"/>\n   </g>\n   <g id=\"patch_3\">\n    <path d=\"M 77.2375 359.517188 \nL 77.2375 26.877188 \n\" style=\"fill: none; stroke: #bcbcbc; stroke-width: 0.8; stroke-linejoin: miter; stroke-linecap: square\"/>\n   </g>\n   <g id=\"patch_4\">\n    <path d=\"M 523.6375 359.517188 \nL 523.6375 26.877188 \n\" style=\"fill: none; stroke: #bcbcbc; stroke-width: 0.8; stroke-linejoin: miter; stroke-linecap: square\"/>\n   </g>\n   <g id=\"patch_5\">\n    <path d=\"M 77.2375 359.517187 \nL 523.6375 359.517187 \n\" style=\"fill: none; stroke: #bcbcbc; stroke-width: 0.8; stroke-linejoin: miter; stroke-linecap: square\"/>\n   </g>\n   <g id=\"patch_6\">\n    <path d=\"M 77.2375 26.877187 \nL 523.6375 26.877187 \n\" style=\"fill: none; stroke: #bcbcbc; stroke-width: 0.8; stroke-linejoin: miter; stroke-linecap: square\"/>\n   </g>\n   <g id=\"text_18\">\n    <!-- Gradient norm dynamics -->\n    <g transform=\"translate(188.861406 20.877187)scale(0.18 -0.18)\">\n     <defs>\n      <path id=\"DejaVuSans-47\" d=\"M 3809 666 \nL 3809 1919 \nL 2778 1919 \nL 2778 2438 \nL 4434 2438 \nL 4434 434 \nQ 4069 175 3628 42 \nQ 3188 -91 2688 -91 \nQ 1594 -91 976 548 \nQ 359 1188 359 2328 \nQ 359 3472 976 4111 \nQ 1594 4750 2688 4750 \nQ 3144 4750 3555 4637 \nQ 3966 4525 4313 4306 \nL 4313 3634 \nQ 3963 3931 3569 4081 \nQ 3175 4231 2741 4231 \nQ 1884 4231 1454 3753 \nQ 1025 3275 1025 2328 \nQ 1025 1384 1454 906 \nQ 1884 428 2741 428 \nQ 3075 428 3337 486 \nQ 3600 544 3809 666 \nz\n\" transform=\"scale(0.015625)\"/>\n      <path id=\"DejaVuSans-72\" d=\"M 2631 2963 \nQ 2534 3019 2420 3045 \nQ 2306 3072 2169 3072 \nQ 1681 3072 1420 2755 \nQ 1159 2438 1159 1844 \nL 1159 0 \nL 581 0 \nL 581 3500 \nL 1159 3500 \nL 1159 2956 \nQ 1341 3275 1631 3429 \nQ 1922 3584 2338 3584 \nQ 2397 3584 2469 3576 \nQ 2541 3569 2628 3553 \nL 2631 2963 \nz\n\" transform=\"scale(0.015625)\"/>\n      <path id=\"DejaVuSans-61\" d=\"M 2194 1759 \nQ 1497 1759 1228 1600 \nQ 959 1441 959 1056 \nQ 959 750 1161 570 \nQ 1363 391 1709 391 \nQ 2188 391 2477 730 \nQ 2766 1069 2766 1631 \nL 2766 1759 \nL 2194 1759 \nz\nM 3341 1997 \nL 3341 0 \nL 2766 0 \nL 2766 531 \nQ 2569 213 2275 61 \nQ 1981 -91 1556 -91 \nQ 1019 -91 701 211 \nQ 384 513 384 1019 \nQ 384 1609 779 1909 \nQ 1175 2209 1959 2209 \nL 2766 2209 \nL 2766 2266 \nQ 2766 2663 2505 2880 \nQ 2244 3097 1772 3097 \nQ 1472 3097 1187 3025 \nQ 903 2953 641 2809 \nL 641 3341 \nQ 956 3463 1253 3523 \nQ 1550 3584 1831 3584 \nQ 2591 3584 2966 3190 \nQ 3341 2797 3341 1997 \nz\n\" transform=\"scale(0.015625)\"/>\n      <path id=\"DejaVuSans-64\" d=\"M 2906 2969 \nL 2906 4863 \nL 3481 4863 \nL 3481 0 \nL 2906 0 \nL 2906 525 \nQ 2725 213 2448 61 \nQ 2172 -91 1784 -91 \nQ 1150 -91 751 415 \nQ 353 922 353 1747 \nQ 353 2572 751 3078 \nQ 1150 3584 1784 3584 \nQ 2172 3584 2448 3432 \nQ 2725 3281 2906 2969 \nz\nM 947 1747 \nQ 947 1113 1208 752 \nQ 1469 391 1925 391 \nQ 2381 391 2643 752 \nQ 2906 1113 2906 1747 \nQ 2906 2381 2643 2742 \nQ 2381 3103 1925 3103 \nQ 1469 3103 1208 2742 \nQ 947 2381 947 1747 \nz\n\" transform=\"scale(0.015625)\"/>\n      <path id=\"DejaVuSans-69\" d=\"M 603 3500 \nL 1178 3500 \nL 1178 0 \nL 603 0 \nL 603 3500 \nz\nM 603 4863 \nL 1178 4863 \nL 1178 4134 \nL 603 4134 \nL 603 4863 \nz\n\" transform=\"scale(0.015625)\"/>\n      <path id=\"DejaVuSans-6e\" d=\"M 3513 2113 \nL 3513 0 \nL 2938 0 \nL 2938 2094 \nQ 2938 2591 2744 2837 \nQ 2550 3084 2163 3084 \nQ 1697 3084 1428 2787 \nQ 1159 2491 1159 1978 \nL 1159 0 \nL 581 0 \nL 581 3500 \nL 1159 3500 \nL 1159 2956 \nQ 1366 3272 1645 3428 \nQ 1925 3584 2291 3584 \nQ 2894 3584 3203 3211 \nQ 3513 2838 3513 2113 \nz\n\" transform=\"scale(0.015625)\"/>\n      <path id=\"DejaVuSans-20\" transform=\"scale(0.015625)\"/>\n      <path id=\"DejaVuSans-6f\" d=\"M 1959 3097 \nQ 1497 3097 1228 2736 \nQ 959 2375 959 1747 \nQ 959 1119 1226 758 \nQ 1494 397 1959 397 \nQ 2419 397 2687 759 \nQ 2956 1122 2956 1747 \nQ 2956 2369 2687 2733 \nQ 2419 3097 1959 3097 \nz\nM 1959 3584 \nQ 2709 3584 3137 3096 \nQ 3566 2609 3566 1747 \nQ 3566 888 3137 398 \nQ 2709 -91 1959 -91 \nQ 1206 -91 779 398 \nQ 353 888 353 1747 \nQ 353 2609 779 3096 \nQ 1206 3584 1959 3584 \nz\n\" transform=\"scale(0.015625)\"/>\n      <path id=\"DejaVuSans-6d\" d=\"M 3328 2828 \nQ 3544 3216 3844 3400 \nQ 4144 3584 4550 3584 \nQ 5097 3584 5394 3201 \nQ 5691 2819 5691 2113 \nL 5691 0 \nL 5113 0 \nL 5113 2094 \nQ 5113 2597 4934 2840 \nQ 4756 3084 4391 3084 \nQ 3944 3084 3684 2787 \nQ 3425 2491 3425 1978 \nL 3425 0 \nL 2847 0 \nL 2847 2094 \nQ 2847 2600 2669 2842 \nQ 2491 3084 2119 3084 \nQ 1678 3084 1418 2786 \nQ 1159 2488 1159 1978 \nL 1159 0 \nL 581 0 \nL 581 3500 \nL 1159 3500 \nL 1159 2956 \nQ 1356 3278 1631 3431 \nQ 1906 3584 2284 3584 \nQ 2666 3584 2933 3390 \nQ 3200 3197 3328 2828 \nz\n\" transform=\"scale(0.015625)\"/>\n      <path id=\"DejaVuSans-79\" d=\"M 2059 -325 \nQ 1816 -950 1584 -1140 \nQ 1353 -1331 966 -1331 \nL 506 -1331 \nL 506 -850 \nL 844 -850 \nQ 1081 -850 1212 -737 \nQ 1344 -625 1503 -206 \nL 1606 56 \nL 191 3500 \nL 800 3500 \nL 1894 763 \nL 2988 3500 \nL 3597 3500 \nL 2059 -325 \nz\n\" transform=\"scale(0.015625)\"/>\n      <path id=\"DejaVuSans-63\" d=\"M 3122 3366 \nL 3122 2828 \nQ 2878 2963 2633 3030 \nQ 2388 3097 2138 3097 \nQ 1578 3097 1268 2742 \nQ 959 2388 959 1747 \nQ 959 1106 1268 751 \nQ 1578 397 2138 397 \nQ 2388 397 2633 464 \nQ 2878 531 3122 666 \nL 3122 134 \nQ 2881 22 2623 -34 \nQ 2366 -91 2075 -91 \nQ 1284 -91 818 406 \nQ 353 903 353 1747 \nQ 353 2603 823 3093 \nQ 1294 3584 2113 3584 \nQ 2378 3584 2631 3529 \nQ 2884 3475 3122 3366 \nz\n\" transform=\"scale(0.015625)\"/>\n     </defs>\n     <use xlink:href=\"#DejaVuSans-47\"/>\n     <use xlink:href=\"#DejaVuSans-72\" x=\"77.490234\"/>\n     <use xlink:href=\"#DejaVuSans-61\" x=\"118.603516\"/>\n     <use xlink:href=\"#DejaVuSans-64\" x=\"179.882812\"/>\n     <use xlink:href=\"#DejaVuSans-69\" x=\"243.359375\"/>\n     <use xlink:href=\"#DejaVuSans-65\" x=\"271.142578\"/>\n     <use xlink:href=\"#DejaVuSans-6e\" x=\"332.666016\"/>\n     <use xlink:href=\"#DejaVuSans-74\" x=\"396.044922\"/>\n     <use xlink:href=\"#DejaVuSans-20\" x=\"435.253906\"/>\n     <use xlink:href=\"#DejaVuSans-6e\" x=\"467.041016\"/>\n     <use xlink:href=\"#DejaVuSans-6f\" x=\"530.419922\"/>\n     <use xlink:href=\"#DejaVuSans-72\" x=\"591.601562\"/>\n     <use xlink:href=\"#DejaVuSans-6d\" x=\"630.964844\"/>\n     <use xlink:href=\"#DejaVuSans-20\" x=\"728.376953\"/>\n     <use xlink:href=\"#DejaVuSans-64\" x=\"760.164062\"/>\n     <use xlink:href=\"#DejaVuSans-79\" x=\"823.640625\"/>\n     <use xlink:href=\"#DejaVuSans-6e\" x=\"882.820312\"/>\n     <use xlink:href=\"#DejaVuSans-61\" x=\"946.199219\"/>\n     <use xlink:href=\"#DejaVuSans-6d\" x=\"1007.478516\"/>\n     <use xlink:href=\"#DejaVuSans-69\" x=\"1104.890625\"/>\n     <use xlink:href=\"#DejaVuSans-63\" x=\"1132.673828\"/>\n     <use xlink:href=\"#DejaVuSans-73\" x=\"1187.654297\"/>\n    </g>\n   </g>\n  </g>\n </g>\n <defs>\n  <clipPath id=\"p5d66d1eee3\">\n   <rect x=\"77.2375\" y=\"26.877187\" width=\"446.4\" height=\"332.64\"/>\n  </clipPath>\n </defs>\n</svg>\n",
      "text/plain": [
       "<Figure size 800x600 with 1 Axes>"
      ]
     },
     "metadata": {},
     "output_type": "display_data"
    }
   ],
   "source": [
    "grads = jnp.asarray(grads)\n",
    "\n",
    "plot(\n",
    "    jnp.arange(grads.size-1), \n",
    "    [grads[:-1]], \n",
    "    xlabel='Steps',\n",
    "    ylabel='$\\|\\Delta{B}\\|_2$',\n",
    "    title='Gradient norm dynamics'\n",
    "    )"
   ]
  },
  {
   "cell_type": "markdown",
   "id": "ba87a2af",
   "metadata": {},
   "source": [
    "# Calculating The Error Rate"
   ]
  },
  {
   "cell_type": "code",
   "execution_count": 51,
   "id": "dfcc6766",
   "metadata": {},
   "outputs": [],
   "source": [
    "er_train = error_rate(mps, data=(train_samples, train_labels))\n",
    "er_test = error_rate(mps, data=(test_samples, test_labels))"
   ]
  },
  {
   "cell_type": "code",
   "execution_count": 52,
   "id": "6b7183a6",
   "metadata": {},
   "outputs": [
    {
     "name": "stdout",
     "output_type": "stream",
     "text": [
      "Error rate train: 0.17 \t|\tError rate test: 0.78 \n"
     ]
    }
   ],
   "source": [
    "print(f'Error rate train: {er_train:<5.2f}\\t|\\tError rate test: {er_test:<5.2f}')"
   ]
  },
  {
   "cell_type": "code",
   "execution_count": null,
   "id": "b5c1df75",
   "metadata": {},
   "outputs": [],
   "source": []
  }
 ],
 "metadata": {
  "interpreter": {
   "hash": "491c24a142a80d3977295064d21745099a3ab7c738b1de1da02864e704be2f87"
  },
  "kernelspec": {
   "display_name": "Python 3.8.5 64-bit ('3.8.5')",
   "language": "python",
   "name": "python3"
  },
  "language_info": {
   "codemirror_mode": {
    "name": "ipython",
    "version": 3
   },
   "file_extension": ".py",
   "mimetype": "text/x-python",
   "name": "python",
   "nbconvert_exporter": "python",
   "pygments_lexer": "ipython3",
   "version": "3.8.5"
  },
  "varInspector": {
   "cols": {
    "lenName": 16,
    "lenType": 16,
    "lenVar": 40
   },
   "kernels_config": {
    "python": {
     "delete_cmd_postfix": "",
     "delete_cmd_prefix": "del ",
     "library": "var_list.py",
     "varRefreshCmd": "print(var_dic_list())"
    },
    "r": {
     "delete_cmd_postfix": ") ",
     "delete_cmd_prefix": "rm(",
     "library": "var_list.r",
     "varRefreshCmd": "cat(var_dic_list()) "
    }
   },
   "types_to_exclude": [
    "module",
    "function",
    "builtin_function_or_method",
    "instance",
    "_Feature"
   ],
   "window_display": false
  }
 },
 "nbformat": 4,
 "nbformat_minor": 5
}
