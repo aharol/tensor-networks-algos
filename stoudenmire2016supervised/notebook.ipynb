{
 "cells": [
  {
   "cell_type": "markdown",
   "id": "90342c19",
   "metadata": {},
   "source": [
    "# About\n",
    "\n",
    "- `Title:` \"Supervised Learning with Quantum-Inspired Tensor Networks\"\n",
    "- `Main Author:` Miles E. Stoudenmire\n",
    "- `Source:` [ArXiv](https://arxiv.org/abs/1605.05775)\n",
    "- `Publish Date:` 18-05-2017\n",
    "- `Reviewed Date:` 22-10-2021\n",
    "\n",
    "## Citation\n",
    "\n",
    "```latex\n",
    "@article{stoudenmire2016supervised,\n",
    "  title={Supervised learning with tensor networks},\n",
    "  author={Stoudenmire, Edwin and Schwab, David J},\n",
    "  journal={Advances in Neural Information Processing Systems},\n",
    "  volume={29},\n",
    "  year={2016}\n",
    "}\n",
    "```"
   ]
  },
  {
   "cell_type": "code",
   "execution_count": 1,
   "id": "c777985e",
   "metadata": {},
   "outputs": [],
   "source": [
    "%load_ext autoreload\n",
    "%autoreload 2"
   ]
  },
  {
   "cell_type": "code",
   "execution_count": 2,
   "id": "516a8cc3",
   "metadata": {},
   "outputs": [
    {
     "name": "stdout",
     "output_type": "stream",
     "text": [
      "env: JAX_ENABLE_X64=1\n",
      "env: JAX_PLATFORM_NAME=cpu\n"
     ]
    }
   ],
   "source": [
    "%env JAX_ENABLE_X64=1\n",
    "%env JAX_PLATFORM_NAME=cpu"
   ]
  },
  {
   "cell_type": "markdown",
   "id": "8b2569a1",
   "metadata": {},
   "source": [
    "# Installing dependencies"
   ]
  },
  {
   "cell_type": "code",
   "execution_count": 3,
   "id": "5c02a783",
   "metadata": {},
   "outputs": [],
   "source": [
    "# uncomment the line below when running for the first time\n",
    "# !pip install --upgrade jax jaxlib matplotlib"
   ]
  },
  {
   "cell_type": "markdown",
   "id": "82c61e55",
   "metadata": {},
   "source": [
    "# Imports and settings"
   ]
  },
  {
   "cell_type": "code",
   "execution_count": 4,
   "id": "80210565",
   "metadata": {},
   "outputs": [],
   "source": [
    "import jax\n",
    "import jax.numpy as jnp"
   ]
  },
  {
   "cell_type": "code",
   "execution_count": 5,
   "id": "933bc00f",
   "metadata": {},
   "outputs": [],
   "source": [
    "import itertools\n",
    "import functools"
   ]
  },
  {
   "cell_type": "code",
   "execution_count": 6,
   "id": "6b833c47",
   "metadata": {},
   "outputs": [],
   "source": [
    "from typing import Any, List, Tuple, Callable, Optional"
   ]
  },
  {
   "cell_type": "code",
   "execution_count": 7,
   "id": "833a9ddf",
   "metadata": {},
   "outputs": [],
   "source": [
    "from plotting import plot, show_img_grid, set_figsize"
   ]
  },
  {
   "cell_type": "code",
   "execution_count": 8,
   "id": "aedaa9a0",
   "metadata": {},
   "outputs": [],
   "source": [
    "import dataset  # MNIST downloader"
   ]
  },
  {
   "cell_type": "markdown",
   "id": "7cc61c86",
   "metadata": {},
   "source": [
    "## Type Aliaces"
   ]
  },
  {
   "cell_type": "code",
   "execution_count": 9,
   "id": "a90da14d",
   "metadata": {},
   "outputs": [],
   "source": [
    "# type alias\n",
    "Key = Any\n",
    "\n",
    "Scalar = jnp.double\n",
    "Vector = jnp.ndarray\n",
    "Matrix = jnp.ndarray\n",
    "Tensor = jnp.ndarray\n",
    "\n",
    "MPS = List[Tensor]"
   ]
  },
  {
   "cell_type": "markdown",
   "id": "9462d629",
   "metadata": {},
   "source": [
    "# Constants"
   ]
  },
  {
   "cell_type": "code",
   "execution_count": 10,
   "id": "c4831051",
   "metadata": {},
   "outputs": [],
   "source": [
    "# WARNING: to avoid unnecessary truncation, set bond_dim>=num_classes\n",
    "bond_dim = 20       # the paper mentions 10, 20 and 120\n",
    "                    \n",
    "α = 1e-4            # learning rate\n",
    "num_sweeps = 10      # number of sweeps\n",
    "train_size = 20000  # training set size"
   ]
  },
  {
   "cell_type": "markdown",
   "id": "fd1aa8ec",
   "metadata": {},
   "source": [
    "# PRN Key"
   ]
  },
  {
   "cell_type": "code",
   "execution_count": 11,
   "id": "5b105cd8",
   "metadata": {},
   "outputs": [],
   "source": [
    "key = jax.random.PRNGKey(seed=321)"
   ]
  },
  {
   "cell_type": "markdown",
   "id": "39226049",
   "metadata": {},
   "source": [
    "# Load data and visualise"
   ]
  },
  {
   "cell_type": "code",
   "execution_count": 12,
   "id": "04241b2d",
   "metadata": {},
   "outputs": [],
   "source": [
    "train_images, train_labels, test_images, test_labels = dataset.mnist()"
   ]
  },
  {
   "cell_type": "code",
   "execution_count": 13,
   "id": "31df393a",
   "metadata": {},
   "outputs": [
    {
     "name": "stdout",
     "output_type": "stream",
     "text": [
      "Train data shape: (60000, 784) | Test data shape: (10000, 784)\n"
     ]
    }
   ],
   "source": [
    "print(f'Train data shape: {train_images.shape} | Test data shape: {test_images.shape}')"
   ]
  },
  {
   "cell_type": "markdown",
   "id": "2420bc94",
   "metadata": {},
   "source": [
    "Subsample data to reduce numerical cost."
   ]
  },
  {
   "cell_type": "code",
   "execution_count": 14,
   "id": "74a4719e",
   "metadata": {},
   "outputs": [],
   "source": [
    "def subsample_data(\n",
    "        key: Key, \n",
    "        data: Matrix, \n",
    "        amount: int\n",
    "    ) -> Matrix:\n",
    "    \"\"\"A helper to sub-sample data\"\"\"\n",
    "    samples, labels = data        \n",
    "    new_key, _ = jax.random.split(key)\n",
    "    idx = jnp.arange(labels.shape[0])\n",
    "    perm = jax.random.permutation(new_key, idx)\n",
    "    return samples[perm][:amount], labels[perm][:amount]\n",
    "\n",
    "train_images, train_labels = subsample_data(key, data=(train_images, train_labels), amount=train_size)"
   ]
  },
  {
   "cell_type": "code",
   "execution_count": 15,
   "id": "308302f6",
   "metadata": {},
   "outputs": [
    {
     "name": "stdout",
     "output_type": "stream",
     "text": [
      "Train data shape: (20000, 784) | Test data shape: (10000, 784)\n"
     ]
    }
   ],
   "source": [
    "print(f'Train data shape: {train_images.shape} | Test data shape: {test_images.shape}')"
   ]
  },
  {
   "cell_type": "code",
   "execution_count": 16,
   "id": "3233b067",
   "metadata": {},
   "outputs": [
    {
     "data": {
      "image/svg+xml": "<?xml version=\"1.0\" encoding=\"utf-8\" standalone=\"no\"?>\n<!DOCTYPE svg PUBLIC \"-//W3C//DTD SVG 1.1//EN\"\n  \"http://www.w3.org/Graphics/SVG/1.1/DTD/svg11.dtd\">\n<svg xmlns:xlink=\"http://www.w3.org/1999/xlink\" width=\"265.023529pt\" height=\"276.718594pt\" viewBox=\"0 0 265.023529 276.718594\" xmlns=\"http://www.w3.org/2000/svg\" version=\"1.1\">\n <metadata>\n  <rdf:RDF xmlns:dc=\"http://purl.org/dc/elements/1.1/\" xmlns:cc=\"http://creativecommons.org/ns#\" xmlns:rdf=\"http://www.w3.org/1999/02/22-rdf-syntax-ns#\">\n   <cc:Work>\n    <dc:type rdf:resource=\"http://purl.org/dc/dcmitype/StillImage\"/>\n    <dc:date>2022-05-08T16:14:37.896694</dc:date>\n    <dc:format>image/svg+xml</dc:format>\n    <dc:creator>\n     <cc:Agent>\n      <dc:title>Matplotlib v3.5.2, https://matplotlib.org/</dc:title>\n     </cc:Agent>\n    </dc:creator>\n   </cc:Work>\n  </rdf:RDF>\n </metadata>\n <defs>\n  <style type=\"text/css\">*{stroke-linejoin: round; stroke-linecap: butt}</style>\n </defs>\n <g id=\"figure_1\">\n  <g id=\"patch_1\">\n   <path d=\"M 0 276.718594 \nL 265.023529 276.718594 \nL 265.023529 0 \nL 0 0 \nz\n\" style=\"fill: #ffffff\"/>\n  </g>\n  <g id=\"axes_1\">\n   <g id=\"patch_2\">\n    <path d=\"M 7.2 93.415064 \nL 80.576471 93.415064 \nL 80.576471 20.038594 \nL 7.2 20.038594 \nz\n\" style=\"fill: #eeeeee\"/>\n   </g>\n   <g clip-path=\"url(#p41c08c4002)\">\n    <image xlink:href=\"data:image/png;base64,\niVBORw0KGgoAAAANSUhEUgAAAGYAAABmCAYAAAA53+RiAAADGUlEQVR4nO2cMY8pURTHx/M0GtEQEgWJVlDoqURvCyoJkWhFoZf4BAqJqBR8Bg0aNQqFZBNREKVC63U3c27e2n3vzez8x/v/qnNykt0rv5x779y5eB6Px8MgcPxwegDk91AMKBQDCsWAQjGgUAwoP50ewGfsdjuRZzIZFYdCIVHb7/ciDwQC9g3MZtgxoFAMKBQDCvwaM5vNRG4+QTqfz6J2u91EzjWGWA7FgEIxoHjQj/1Pp5PI4/G4ivWhT6dTkZfLZfsGZjPsGFAoBhT47XI4HBZ5rVZT8Wg0ErXtdityTmXEcigGFIoBBX67/Ayv1ytyj8cjcvNrgGQy+S1jsgp2DCgUAwrFgAL/HPOMz5bHw+GgYq4xxBIoBhRXb5ej0ajIr9eryNPptIrX67Wo+Xw+28ZlBewYUCgGFIoBxdVrjP7Gslqtitz80Y7Ho6jFYjH7BmYB7BhQKAYUV09lOoVCQeTL5VLFbruowY4BhWJAoRhQXH26rJNKpUS+WCxU7LYbNOwYUCgGFIoB5aWeY/Rj/0gkomL9Bo3+JSe/32/fwP4CdgwoFAPKS01lOtlsVsWbzUbUer2eyLvd7reM6auwY0ChGFAoBpSXOpLRKZVKKtaPZObzuci5xpAvQTGgUAwoL73GvL29qbjf7zs4kj+HHQMKxYDiyFR2v98/rFl5yhsMBlWsny6jw44BhWJAoRhQHFljGo2GyM0/oTgcDkXtX747+f7+rmK3vd1gx4BCMaBQDCiOrDH5fF7kzWZTxZVKRdQGg4HIc7nch39Xfz5qt9sq1p9jzDdoEGHHgEIxoEDckjFvn8fjsajpRzT1el3FrVZL1MxTomHIS+XmGzOGYRir1erp/3EadgwoFAMKxYACscaY0X+yV183zNtefej6ljiRSKh4MpmI2rNtNwLsGFAoBhSKAQVujdHRb1AWi0UVXy4XUTM/4xiGYXQ6HRXzpxeJJVAMKPBT2f8KOwYUigGFYkChGFAoBhSKAYViQKEYUCgGFIoBhWJAoRhQKAYUigGFYkChGFAoBhSKAYViQKEYUCgGlF8ctcGkAK92DgAAAABJRU5ErkJggg==\" id=\"imaged6efb866f5\" transform=\"scale(1 -1)translate(0 -73.44)\" x=\"7.2\" y=\"-19.975064\" width=\"73.44\" height=\"73.44\"/>\n   </g>\n   <g id=\"matplotlib.axis_1\"/>\n   <g id=\"matplotlib.axis_2\"/>\n   <g id=\"patch_3\">\n    <path d=\"M 7.2 93.415064 \nL 7.2 20.038594 \n\" style=\"fill: none; stroke: #bcbcbc; stroke-width: 0.8; stroke-linejoin: miter; stroke-linecap: square\"/>\n   </g>\n   <g id=\"patch_4\">\n    <path d=\"M 80.576471 93.415064 \nL 80.576471 20.038594 \n\" style=\"fill: none; stroke: #bcbcbc; stroke-width: 0.8; stroke-linejoin: miter; stroke-linecap: square\"/>\n   </g>\n   <g id=\"patch_5\">\n    <path d=\"M 7.2 93.415064 \nL 80.576471 93.415064 \n\" style=\"fill: none; stroke: #bcbcbc; stroke-width: 0.8; stroke-linejoin: miter; stroke-linecap: square\"/>\n   </g>\n   <g id=\"patch_6\">\n    <path d=\"M 7.2 20.038594 \nL 80.576471 20.038594 \n\" style=\"fill: none; stroke: #bcbcbc; stroke-width: 0.8; stroke-linejoin: miter; stroke-linecap: square\"/>\n   </g>\n   <g id=\"text_1\">\n    <!-- label: 7 -->\n    <g transform=\"translate(27.195345 14.038594)scale(0.09 -0.09)\">\n     <defs>\n      <path id=\"DejaVuSans-6c\" d=\"M 603 4863 \nL 1178 4863 \nL 1178 0 \nL 603 0 \nL 603 4863 \nz\n\" transform=\"scale(0.015625)\"/>\n      <path id=\"DejaVuSans-61\" d=\"M 2194 1759 \nQ 1497 1759 1228 1600 \nQ 959 1441 959 1056 \nQ 959 750 1161 570 \nQ 1363 391 1709 391 \nQ 2188 391 2477 730 \nQ 2766 1069 2766 1631 \nL 2766 1759 \nL 2194 1759 \nz\nM 3341 1997 \nL 3341 0 \nL 2766 0 \nL 2766 531 \nQ 2569 213 2275 61 \nQ 1981 -91 1556 -91 \nQ 1019 -91 701 211 \nQ 384 513 384 1019 \nQ 384 1609 779 1909 \nQ 1175 2209 1959 2209 \nL 2766 2209 \nL 2766 2266 \nQ 2766 2663 2505 2880 \nQ 2244 3097 1772 3097 \nQ 1472 3097 1187 3025 \nQ 903 2953 641 2809 \nL 641 3341 \nQ 956 3463 1253 3523 \nQ 1550 3584 1831 3584 \nQ 2591 3584 2966 3190 \nQ 3341 2797 3341 1997 \nz\n\" transform=\"scale(0.015625)\"/>\n      <path id=\"DejaVuSans-62\" d=\"M 3116 1747 \nQ 3116 2381 2855 2742 \nQ 2594 3103 2138 3103 \nQ 1681 3103 1420 2742 \nQ 1159 2381 1159 1747 \nQ 1159 1113 1420 752 \nQ 1681 391 2138 391 \nQ 2594 391 2855 752 \nQ 3116 1113 3116 1747 \nz\nM 1159 2969 \nQ 1341 3281 1617 3432 \nQ 1894 3584 2278 3584 \nQ 2916 3584 3314 3078 \nQ 3713 2572 3713 1747 \nQ 3713 922 3314 415 \nQ 2916 -91 2278 -91 \nQ 1894 -91 1617 61 \nQ 1341 213 1159 525 \nL 1159 0 \nL 581 0 \nL 581 4863 \nL 1159 4863 \nL 1159 2969 \nz\n\" transform=\"scale(0.015625)\"/>\n      <path id=\"DejaVuSans-65\" d=\"M 3597 1894 \nL 3597 1613 \nL 953 1613 \nQ 991 1019 1311 708 \nQ 1631 397 2203 397 \nQ 2534 397 2845 478 \nQ 3156 559 3463 722 \nL 3463 178 \nQ 3153 47 2828 -22 \nQ 2503 -91 2169 -91 \nQ 1331 -91 842 396 \nQ 353 884 353 1716 \nQ 353 2575 817 3079 \nQ 1281 3584 2069 3584 \nQ 2775 3584 3186 3129 \nQ 3597 2675 3597 1894 \nz\nM 3022 2063 \nQ 3016 2534 2758 2815 \nQ 2500 3097 2075 3097 \nQ 1594 3097 1305 2825 \nQ 1016 2553 972 2059 \nL 3022 2063 \nz\n\" transform=\"scale(0.015625)\"/>\n      <path id=\"DejaVuSans-3a\" d=\"M 750 794 \nL 1409 794 \nL 1409 0 \nL 750 0 \nL 750 794 \nz\nM 750 3309 \nL 1409 3309 \nL 1409 2516 \nL 750 2516 \nL 750 3309 \nz\n\" transform=\"scale(0.015625)\"/>\n      <path id=\"DejaVuSans-20\" transform=\"scale(0.015625)\"/>\n      <path id=\"DejaVuSans-37\" d=\"M 525 4666 \nL 3525 4666 \nL 3525 4397 \nL 1831 0 \nL 1172 0 \nL 2766 4134 \nL 525 4134 \nL 525 4666 \nz\n\" transform=\"scale(0.015625)\"/>\n     </defs>\n     <use xlink:href=\"#DejaVuSans-6c\"/>\n     <use xlink:href=\"#DejaVuSans-61\" x=\"27.783203\"/>\n     <use xlink:href=\"#DejaVuSans-62\" x=\"89.0625\"/>\n     <use xlink:href=\"#DejaVuSans-65\" x=\"152.539062\"/>\n     <use xlink:href=\"#DejaVuSans-6c\" x=\"214.0625\"/>\n     <use xlink:href=\"#DejaVuSans-3a\" x=\"241.845703\"/>\n     <use xlink:href=\"#DejaVuSans-20\" x=\"275.537109\"/>\n     <use xlink:href=\"#DejaVuSans-37\" x=\"307.324219\"/>\n    </g>\n   </g>\n  </g>\n  <g id=\"axes_2\">\n   <g id=\"patch_7\">\n    <path d=\"M 95.823529 93.415064 \nL 169.2 93.415064 \nL 169.2 20.038594 \nL 95.823529 20.038594 \nz\n\" style=\"fill: #eeeeee\"/>\n   </g>\n   <g clip-path=\"url(#p93fcd2edc9)\">\n    <image xlink:href=\"data:image/png;base64,\niVBORw0KGgoAAAANSUhEUgAAAGYAAABmCAYAAAA53+RiAAADRklEQVR4nO2cPWsqQRSGYyLxA4IgBBQj2qVTCxslIjaW+Qn5BanS2djZmF9hHUs7KwnYhnTBRqKNEEUDFkGD3m7unLnX9aK75l3v+1TncNjNhCdnZt2Z6Fmv1+sTAsfpTw+A/B2KAYViQKEYUCgGFIoBhWJAoRhQKAYUigHF+9MD2Iflciny1Wolcq/39693dnZ2kDHZBTsGFIoBhWJA8bj5tf/Dw4PIG42GyFOplIrb7bao6esPIuwYUCgGFOx+3kI4HBb5dDoVeafTUfHz87OolUol5wZmA+wYUCgGFIoBxdWPy5+fnyKPx+Min8/nKq5UKqJWq9WcG5gNsGNAoRhQKAYUV3+OCYVCIr+6uhL529ubinu93kHGZBfsGFAoBhRXT2UmhUJB5PpU1u12RW2xWIj8/PzcuYHtADsGFIoBhWJAOao1Jp1Ob6yZb57Q30SxY0ChGFCOairLZrMba6PRyDJPJBKOjGlX2DGgUAwoFAMK3A7m19eXyOv1usgHg4GKzZMvw+HQ8l46uVxO5PormlgstvE6n88ncnMXNZ/Pq7harW68zzbYMaBQDCgUAwrcGjMej0WeTCZFrq8F39/fonZ6Kv/OzH9kskK/1u/3i1okElHx7e2tqBWLRZGXy2UVBwKBf/75f4xn5yuJo1AMKHBT2Tb0x9OPjw9RM3chzWlQxzzwd3d3p2Krx+VDwY4BhWJAoRhQXPfaXz/kZx74M0++WHF9fS1yhHVFhx0DCsWAQjGguG6NscJlH8ksYceAQjGgHNVUpu9uuh12DCgUAwrFgOLYGqPvLpo7jeYOoV20Wi1H7vsTsGNAoRhQKAaUvbaW39/fVdxsNkXt6elJxf1+X9TMU5A3NzcqNr+yNxqNivzi4kLFLy8vovb4+Chy/V7BYFDUzDFdXl6eIMGOAYViQNlrKtPbfzKZ7DwIfQgej2fn+5jX6l+FdX9/L2r6IT5E2DGgUAwoFAPKXmvM6+urimezmR3j2YtMJiNy8xSNm2DHgEIxoFAMKK477f+/wI4BhWJAoRhQKAYUigGFYkChGFAoBhSKAYViQKEYUCgGFIoBhWJAoRhQKAYUigGFYkChGFAoBhSKAYViQKEYUCgGlF+9nMnm/OZPOAAAAABJRU5ErkJggg==\" id=\"imageb09bf17d35\" transform=\"scale(1 -1)translate(0 -73.44)\" x=\"95.823529\" y=\"-19.975064\" width=\"73.44\" height=\"73.44\"/>\n   </g>\n   <g id=\"matplotlib.axis_3\"/>\n   <g id=\"matplotlib.axis_4\"/>\n   <g id=\"patch_8\">\n    <path d=\"M 95.823529 93.415064 \nL 95.823529 20.038594 \n\" style=\"fill: none; stroke: #bcbcbc; stroke-width: 0.8; stroke-linejoin: miter; stroke-linecap: square\"/>\n   </g>\n   <g id=\"patch_9\">\n    <path d=\"M 169.2 93.415064 \nL 169.2 20.038594 \n\" style=\"fill: none; stroke: #bcbcbc; stroke-width: 0.8; stroke-linejoin: miter; stroke-linecap: square\"/>\n   </g>\n   <g id=\"patch_10\">\n    <path d=\"M 95.823529 93.415064 \nL 169.2 93.415064 \n\" style=\"fill: none; stroke: #bcbcbc; stroke-width: 0.8; stroke-linejoin: miter; stroke-linecap: square\"/>\n   </g>\n   <g id=\"patch_11\">\n    <path d=\"M 95.823529 20.038594 \nL 169.2 20.038594 \n\" style=\"fill: none; stroke: #bcbcbc; stroke-width: 0.8; stroke-linejoin: miter; stroke-linecap: square\"/>\n   </g>\n   <g id=\"text_2\">\n    <!-- label: 7 -->\n    <g transform=\"translate(115.818874 14.038594)scale(0.09 -0.09)\">\n     <use xlink:href=\"#DejaVuSans-6c\"/>\n     <use xlink:href=\"#DejaVuSans-61\" x=\"27.783203\"/>\n     <use xlink:href=\"#DejaVuSans-62\" x=\"89.0625\"/>\n     <use xlink:href=\"#DejaVuSans-65\" x=\"152.539062\"/>\n     <use xlink:href=\"#DejaVuSans-6c\" x=\"214.0625\"/>\n     <use xlink:href=\"#DejaVuSans-3a\" x=\"241.845703\"/>\n     <use xlink:href=\"#DejaVuSans-20\" x=\"275.537109\"/>\n     <use xlink:href=\"#DejaVuSans-37\" x=\"307.324219\"/>\n    </g>\n   </g>\n  </g>\n  <g id=\"axes_3\">\n   <g id=\"patch_12\">\n    <path d=\"M 184.447059 93.415064 \nL 257.823529 93.415064 \nL 257.823529 20.038594 \nL 184.447059 20.038594 \nz\n\" style=\"fill: #eeeeee\"/>\n   </g>\n   <g clip-path=\"url(#p9b4909ab99)\">\n    <image xlink:href=\"data:image/png;base64,\niVBORw0KGgoAAAANSUhEUgAAAGYAAABmCAYAAAA53+RiAAACwklEQVR4nO3csY4pUQCHcW5uNJot2EaiUIlCiEpEwxtsskH2AbzAFjyFB9CoROUFNCrF6iR4ABXZkkQ0bncy52TZu/fO8I38f9U5mcnmJF/ODGaJns/nc0Rwft17AfI1hYFSGCiFgVIYKIWBUhgohYFSGCiFgVIYKIWBUhgohYH6fe8FfGc2m1nzarV68dxut2vN39/fzfjp6cnXdQVNOwZKYaCi9CeYP7mUuZbLpRlns1nf1nQL2jFQCgOlMFD4l8vpdNqaPz8/m/Fut7v1cm5GOwZKYaAUBgr/PsZVLpfN+OPj4+q5jUbDjIfDYWBrCoJ2DJTCQOFfLrsqlYoZf3cpOxwOQS8nMNoxUAoDpTBQobvHNJtNM+71endcSbC0Y6AUBip0l7JkMmnGiUTCOvb5+WnNO53OTdYUBO0YKIWBUhio0H267FWv1635dDq15i8vL2Y8GAysY/F4PKhl+UI7BkphoBQGKnTvY7xyuZw1d+8x4/HYjFutlnXMe/8h0o6BUhioUL9cXiwW1rxYLF48t1arWfPJZBLImvyiHQOlMFAKA6UwUAoDpTBQCgOlMFAKA6UwUAoDpTBQCgOlMFChfoKZyWSseT6ft+bexwL7/d46djqdrHksFvN5df9HOwZKYaAUBirUj5Zdo9HImr+9vV081/1ibalUCmRN/0o7BkphoEL9ctlVKBTuvQTfaMdAKQyUwkA91D3mJ47H472XcJV2DJTCQCkMFP4es1qtrLn7ZSUv96P8a15fX635fD4341Qq9dd/JyjaMVAKA4W/lF27dLm/HeP91dhIJBKJRqNm7H6Ivt1urflmszFjXcrkIoWBUhgo/D3mGvf3ytbrtTXv9/tm3G63rWPuPYf2IFc7BkphoB7qnzEeiXYMlMJAKQyUwkApDJTCQCkMlMJAKQyUwkApDJTCQCkMlMJA/QF8GIdFGl+qJAAAAABJRU5ErkJggg==\" id=\"image2b0300de2e\" transform=\"scale(1 -1)translate(0 -73.44)\" x=\"184.447059\" y=\"-19.975064\" width=\"73.44\" height=\"73.44\"/>\n   </g>\n   <g id=\"matplotlib.axis_5\"/>\n   <g id=\"matplotlib.axis_6\"/>\n   <g id=\"patch_13\">\n    <path d=\"M 184.447059 93.415064 \nL 184.447059 20.038594 \n\" style=\"fill: none; stroke: #bcbcbc; stroke-width: 0.8; stroke-linejoin: miter; stroke-linecap: square\"/>\n   </g>\n   <g id=\"patch_14\">\n    <path d=\"M 257.823529 93.415064 \nL 257.823529 20.038594 \n\" style=\"fill: none; stroke: #bcbcbc; stroke-width: 0.8; stroke-linejoin: miter; stroke-linecap: square\"/>\n   </g>\n   <g id=\"patch_15\">\n    <path d=\"M 184.447059 93.415064 \nL 257.823529 93.415064 \n\" style=\"fill: none; stroke: #bcbcbc; stroke-width: 0.8; stroke-linejoin: miter; stroke-linecap: square\"/>\n   </g>\n   <g id=\"patch_16\">\n    <path d=\"M 184.447059 20.038594 \nL 257.823529 20.038594 \n\" style=\"fill: none; stroke: #bcbcbc; stroke-width: 0.8; stroke-linejoin: miter; stroke-linecap: square\"/>\n   </g>\n   <g id=\"text_3\">\n    <!-- label: 1 -->\n    <g transform=\"translate(204.442403 14.038594)scale(0.09 -0.09)\">\n     <defs>\n      <path id=\"DejaVuSans-31\" d=\"M 794 531 \nL 1825 531 \nL 1825 4091 \nL 703 3866 \nL 703 4441 \nL 1819 4666 \nL 2450 4666 \nL 2450 531 \nL 3481 531 \nL 3481 0 \nL 794 0 \nL 794 531 \nz\n\" transform=\"scale(0.015625)\"/>\n     </defs>\n     <use xlink:href=\"#DejaVuSans-6c\"/>\n     <use xlink:href=\"#DejaVuSans-61\" x=\"27.783203\"/>\n     <use xlink:href=\"#DejaVuSans-62\" x=\"89.0625\"/>\n     <use xlink:href=\"#DejaVuSans-65\" x=\"152.539062\"/>\n     <use xlink:href=\"#DejaVuSans-6c\" x=\"214.0625\"/>\n     <use xlink:href=\"#DejaVuSans-3a\" x=\"241.845703\"/>\n     <use xlink:href=\"#DejaVuSans-20\" x=\"275.537109\"/>\n     <use xlink:href=\"#DejaVuSans-31\" x=\"307.324219\"/>\n    </g>\n   </g>\n  </g>\n  <g id=\"axes_4\">\n   <g id=\"patch_17\">\n    <path d=\"M 7.2 181.466829 \nL 80.576471 181.466829 \nL 80.576471 108.090358 \nL 7.2 108.090358 \nz\n\" style=\"fill: #eeeeee\"/>\n   </g>\n   <g clip-path=\"url(#p0b5bcb17b8)\">\n    <image xlink:href=\"data:image/png;base64,\niVBORw0KGgoAAAANSUhEUgAAAGYAAABmCAYAAAA53+RiAAAC4klEQVR4nO3cwao5YRgGcEd/FqyQlFKKPSvFBShloWTjHti6AhsXYGcll2Bto+xsWNkpJMVCJISz+5p3chxOM+YZ/+e3+t7G1FvPeedzJjNft9vt5iA4TqsboPsYDCgGA4rBgGIwoBgMKAYDisGAYjCgGAyof1Y38Krz+azW8/lcHKvX66JutVpqPRwOxbFkMml8cwbixIBiMKAYDKgvu932X61Wah0KhR5+1uVyqfXpdDKtJzNwYkAxGFC2+7r8ikqlYnULf8aJAcVgQDEYULbbYyaTydOfLRQK5jViMk4MKAYDisGAgt9jdrudqKvV6tPnRqNRg7t5H04MKAYDCv5SttlsRD0ej58+V/vZSCRiWE/vwIkBxWBAMRhQ8HuM3+8XtdvtVmvtL2buGQwGap3L5YxtzGScGFAMBhT8pWy73Yr6t8vXp+DEgGIwoBgMKPg9ptFoiPqVH+4Vi0Wj23kbTgwoBgOKwYCC32OWy+Wfz+33+2qdSCSMaOdtODGgGAwo+Odj1uu1qEulklr3er2H5/L5GDIcgwHFYEDBf10OBAKizmazav3bHnO9XtV6v9+LY16v14DuzMOJAcVgQDEYUPD/x+hNp1O1jsVi4tjlcvnxvHK5LOp2uy1qpxPrbxSrG1IYDCjbXcq08vm8qLvd7tPnal994nA4HMFg0JCejMKJAcVgQDEYUPC3ZMxyPB6tbuEhTgwoBgOKwYD6b/eYTqcj6lqtZlEn93FiQDEYULa+lKXTaVG/cktG+3wmIk4MKAYDisGAsvVtf/0rszKZjKhHo9GP5/p8PlHr31ljNU4MKAYDisGAsvUeo7dYLEQdj8fV+nA4iGMej0fUs9lMrfX7jxU4MaAYDChb35LRC4fDota+1TyVSoljzWZT1AiXLy1ODCgGA4rBgPqor8ufhBMDisGAYjCgGAwoBgOKwYBiMKAYDCgGA4rBgGIwoBgMKAYDisGAYjCgGAwoBgPqG5dVn35yJY92AAAAAElFTkSuQmCC\" id=\"image9ed5e16029\" transform=\"scale(1 -1)translate(0 -73.44)\" x=\"7.2\" y=\"-108.026829\" width=\"73.44\" height=\"73.44\"/>\n   </g>\n   <g id=\"matplotlib.axis_7\"/>\n   <g id=\"matplotlib.axis_8\"/>\n   <g id=\"patch_18\">\n    <path d=\"M 7.2 181.466829 \nL 7.2 108.090358 \n\" style=\"fill: none; stroke: #bcbcbc; stroke-width: 0.8; stroke-linejoin: miter; stroke-linecap: square\"/>\n   </g>\n   <g id=\"patch_19\">\n    <path d=\"M 80.576471 181.466829 \nL 80.576471 108.090358 \n\" style=\"fill: none; stroke: #bcbcbc; stroke-width: 0.8; stroke-linejoin: miter; stroke-linecap: square\"/>\n   </g>\n   <g id=\"patch_20\">\n    <path d=\"M 7.2 181.466829 \nL 80.576471 181.466829 \n\" style=\"fill: none; stroke: #bcbcbc; stroke-width: 0.8; stroke-linejoin: miter; stroke-linecap: square\"/>\n   </g>\n   <g id=\"patch_21\">\n    <path d=\"M 7.2 108.090358 \nL 80.576471 108.090358 \n\" style=\"fill: none; stroke: #bcbcbc; stroke-width: 0.8; stroke-linejoin: miter; stroke-linecap: square\"/>\n   </g>\n   <g id=\"text_4\">\n    <!-- label: 1 -->\n    <g transform=\"translate(27.195345 102.090358)scale(0.09 -0.09)\">\n     <use xlink:href=\"#DejaVuSans-6c\"/>\n     <use xlink:href=\"#DejaVuSans-61\" x=\"27.783203\"/>\n     <use xlink:href=\"#DejaVuSans-62\" x=\"89.0625\"/>\n     <use xlink:href=\"#DejaVuSans-65\" x=\"152.539062\"/>\n     <use xlink:href=\"#DejaVuSans-6c\" x=\"214.0625\"/>\n     <use xlink:href=\"#DejaVuSans-3a\" x=\"241.845703\"/>\n     <use xlink:href=\"#DejaVuSans-20\" x=\"275.537109\"/>\n     <use xlink:href=\"#DejaVuSans-31\" x=\"307.324219\"/>\n    </g>\n   </g>\n  </g>\n  <g id=\"axes_5\">\n   <g id=\"patch_22\">\n    <path d=\"M 95.823529 181.466829 \nL 169.2 181.466829 \nL 169.2 108.090358 \nL 95.823529 108.090358 \nz\n\" style=\"fill: #eeeeee\"/>\n   </g>\n   <g clip-path=\"url(#p9b5d67e72f)\">\n    <image xlink:href=\"data:image/png;base64,\niVBORw0KGgoAAAANSUhEUgAAAGYAAABmCAYAAAA53+RiAAACQ0lEQVR4nO3csYriUBhA4c2yIgjaiTY2FjbWgpUvICr4INbiUyn4KBaCCDZa6QvYuN3FhCGDTLKe656vuiFT3OHwJzMaTR6Px+OXcH6/ewP6mmGgDANlGCjDQBkGyjBQhoEyDJRhoAwDZRgow0AZBurPuzfwE5fLJXXc6XRSx9PpNKxXq1Xq3GAwKG9jBXBioAwDFfWlLEmS3PObzSass2/UrtfrMrZUGCcGyjBQhoGK+h5zv99zz8f8AJATA2UYKMNARX2PWSwWueef/88Zj8dlb6dQTgyUYaCivpS9YjKZvHsLL3FioAwDZRgow0AZBsowUIaBMgyUYaAMAxX1SzLD4TB1vN1uU8f9fj+sa7XaP9lTUZwYKMNAGQYq6nvM7XbLPT+fz8O60WiUvZ1COTFQhoGK+lK23+9Tx9kH/HzgT4UzDJRhoJKYv3pxNpuljrMvyTz/atnPa7bb7fI2VgAnBsowUIaBMgyUYaAMAxX1SzLfqVQqYf3ddwLQODFQhoEyDNRH32OWy2VYt1qtN+7kdU4MlGGgDAP10S/71+v1sD4cDqlzzWazvI0VwImBMgzUR/+5/PzZfh/4UyEMA2UYqOjuMefzOax3u13uz3a73bCuVqul7akMTgyUYaAMAxXdPeZ4PIb16XR630ZK5sRAGQbKMFCGgTIMlGGgonsH83q9hvVoNEqdy35Y9vm41+uVu7GCOTFQhoGK7lL2v3BioAwDZRgow0AZBsowUIaBMgyUYaAMA2UYKMNAGQbKMFB/AUj2YGp5q6+6AAAAAElFTkSuQmCC\" id=\"image7e710b21d9\" transform=\"scale(1 -1)translate(0 -73.44)\" x=\"95.823529\" y=\"-108.026829\" width=\"73.44\" height=\"73.44\"/>\n   </g>\n   <g id=\"matplotlib.axis_9\"/>\n   <g id=\"matplotlib.axis_10\"/>\n   <g id=\"patch_23\">\n    <path d=\"M 95.823529 181.466829 \nL 95.823529 108.090358 \n\" style=\"fill: none; stroke: #bcbcbc; stroke-width: 0.8; stroke-linejoin: miter; stroke-linecap: square\"/>\n   </g>\n   <g id=\"patch_24\">\n    <path d=\"M 169.2 181.466829 \nL 169.2 108.090358 \n\" style=\"fill: none; stroke: #bcbcbc; stroke-width: 0.8; stroke-linejoin: miter; stroke-linecap: square\"/>\n   </g>\n   <g id=\"patch_25\">\n    <path d=\"M 95.823529 181.466829 \nL 169.2 181.466829 \n\" style=\"fill: none; stroke: #bcbcbc; stroke-width: 0.8; stroke-linejoin: miter; stroke-linecap: square\"/>\n   </g>\n   <g id=\"patch_26\">\n    <path d=\"M 95.823529 108.090358 \nL 169.2 108.090358 \n\" style=\"fill: none; stroke: #bcbcbc; stroke-width: 0.8; stroke-linejoin: miter; stroke-linecap: square\"/>\n   </g>\n   <g id=\"text_5\">\n    <!-- label: 1 -->\n    <g transform=\"translate(115.818874 102.090358)scale(0.09 -0.09)\">\n     <use xlink:href=\"#DejaVuSans-6c\"/>\n     <use xlink:href=\"#DejaVuSans-61\" x=\"27.783203\"/>\n     <use xlink:href=\"#DejaVuSans-62\" x=\"89.0625\"/>\n     <use xlink:href=\"#DejaVuSans-65\" x=\"152.539062\"/>\n     <use xlink:href=\"#DejaVuSans-6c\" x=\"214.0625\"/>\n     <use xlink:href=\"#DejaVuSans-3a\" x=\"241.845703\"/>\n     <use xlink:href=\"#DejaVuSans-20\" x=\"275.537109\"/>\n     <use xlink:href=\"#DejaVuSans-31\" x=\"307.324219\"/>\n    </g>\n   </g>\n  </g>\n  <g id=\"axes_6\">\n   <g id=\"patch_27\">\n    <path d=\"M 184.447059 181.466829 \nL 257.823529 181.466829 \nL 257.823529 108.090358 \nL 184.447059 108.090358 \nz\n\" style=\"fill: #eeeeee\"/>\n   </g>\n   <g clip-path=\"url(#pe3b652f8e6)\">\n    <image xlink:href=\"data:image/png;base64,\niVBORw0KGgoAAAANSUhEUgAAAGYAAABmCAYAAAA53+RiAAAEw0lEQVR4nO2dyyt2XxTHj0vknnIdGFBKFIpcSihElIGM5DLAwMCEgT9AJoaUlFzLhETJQMyEiUwMUEpCkSj3Sy6/2W6v/f6e5z3Ocx6+9X4/o7Vanb03X+us59l7nSPg6+vryyJwBP72Asj/Q2FAoTCgUBhQKAwoFAYUCgMKhQGFwoBCYUChMKBQGFAoDCgUBpRgfw18f3+v7NHRURF7e3vzy5xVVVXCz8zMVHZkZKRf5vQXzBhQKAwoAW6dYI6NjQm/r69P2be3t25M8VfMHyUpKUnZNTU1ItbT0yP81NRUZUdERPhhdd+DGQMKhQGFwoDiU43Z29tTdllZmYi5VVfi4uKEHxYWpuzT01MR+/z8FH5goP2/O73GTE1NiVhJSYntcdyCGQMKhQGFwoDiU40JCQlR9sfHh4iVl5cru7OzU8QaGhpszxEQEOAxZi59ZmZG+CcnJ8qemJgQsYuLC4/jBgUFCT8mJkbZW1tbIpaenu5xHF9gxoBCYUDx6Vamfxw1bzl6yhcWFjqdwm8MDAwIf3h4WNlXV1cer4uNjRX+ysqK8PPy8pQdHOx8854ZAwqFAYXCgOK3GnN+fq5sffsdlevra2UvLCyIWFdXl+1x9I/lbW1tjtfDjAGFwoDi062strZW2WtrayJ2dnam7MTERKdT/Arv7+/C393dVXZxcbHXa/XfyfLysuM1MGNAoTCgUBhQfKoxr6+vyt7f3xex3Nxcx4tCQ29Q1E9Q/4a54/4dmDGgUBhQKAwoPjWVh4aGKttbTTG/F/T39wv/4OBA2UVFRSJmdt9kZGQoOzw83PZav4PeEG9ZljU5OWn72vb2dlfWwIwBhcKA4lpTuTceHx+FHxUV5XgsfcvD3L01TxcrKyttj7u+vq7s1tZWEfPWuGGib01VVFTYvs6EGQMKhQGFwoDyIzXm6elJ+PqzkZb1Z3O4U8wfxVuzoFMSEhKEv7m5Kfy0tDRX5mHGgEJhQKEwoPxIjTF5eXkR/vz8vLLN49i7uzvhm0fYOm7VmOTkZOHrD9KaWy56w7mbMGNAoTCg/Mqt7DuYO9N6w/f09LSILS4uCn9nZ8fRnOYzmC0tLY7G8QVmDCgUBhQKAwp8jfkOZj3a3t5WdkdHh4gdHR15HCc/P1/4IyMjytYfTPInzBhQKAwoFAaUH6kxZkfiw8OD8PXuRv3dAW5yc3Mj/KamJuF72+rR13d5eSli/nq3GTMGFAoDyq90yZgnmPpubl1dnYjV19cLPycnx5U1mbfX5uZmZc/NzXm8bnBwUPi9vb2urMeEGQMKhQGFwoDyKzUmOjra9rXmK6r07srGxkYR0+uEZckTTPM003zPi97YnpWV5XE9BQUFwte3fdyEGQMKhQGFwoDyIzXm+flZ+ObW+eHhoSvzeOuSMb//VFdXCz8lJUXZ3d3dHudgjfnHoTCgQDT8ra6uKntpaUnENjY2hH98fOxxXH81lesf2c1XLZr/TMgtmDGgUBhQKAwo8F0y5kNP+vtrZmdnRUx/wNWyLCs+Pl7Z4+PjtufMzs4W/tDQkLJLS0ttj+MLzBhQKAwo8LeyfxVmDCgUBhQKAwqFAYXCgEJhQKEwoFAYUCgMKBQGFAoDCoUBhcKAQmFA+Q+wx24AFG3BsgAAAABJRU5ErkJggg==\" id=\"imagef83d08a152\" transform=\"scale(1 -1)translate(0 -73.44)\" x=\"184.447059\" y=\"-108.026829\" width=\"73.44\" height=\"73.44\"/>\n   </g>\n   <g id=\"matplotlib.axis_11\"/>\n   <g id=\"matplotlib.axis_12\"/>\n   <g id=\"patch_28\">\n    <path d=\"M 184.447059 181.466829 \nL 184.447059 108.090358 \n\" style=\"fill: none; stroke: #bcbcbc; stroke-width: 0.8; stroke-linejoin: miter; stroke-linecap: square\"/>\n   </g>\n   <g id=\"patch_29\">\n    <path d=\"M 257.823529 181.466829 \nL 257.823529 108.090358 \n\" style=\"fill: none; stroke: #bcbcbc; stroke-width: 0.8; stroke-linejoin: miter; stroke-linecap: square\"/>\n   </g>\n   <g id=\"patch_30\">\n    <path d=\"M 184.447059 181.466829 \nL 257.823529 181.466829 \n\" style=\"fill: none; stroke: #bcbcbc; stroke-width: 0.8; stroke-linejoin: miter; stroke-linecap: square\"/>\n   </g>\n   <g id=\"patch_31\">\n    <path d=\"M 184.447059 108.090358 \nL 257.823529 108.090358 \n\" style=\"fill: none; stroke: #bcbcbc; stroke-width: 0.8; stroke-linejoin: miter; stroke-linecap: square\"/>\n   </g>\n   <g id=\"text_6\">\n    <!-- label: 3 -->\n    <g transform=\"translate(204.442403 102.090358)scale(0.09 -0.09)\">\n     <defs>\n      <path id=\"DejaVuSans-33\" d=\"M 2597 2516 \nQ 3050 2419 3304 2112 \nQ 3559 1806 3559 1356 \nQ 3559 666 3084 287 \nQ 2609 -91 1734 -91 \nQ 1441 -91 1130 -33 \nQ 819 25 488 141 \nL 488 750 \nQ 750 597 1062 519 \nQ 1375 441 1716 441 \nQ 2309 441 2620 675 \nQ 2931 909 2931 1356 \nQ 2931 1769 2642 2001 \nQ 2353 2234 1838 2234 \nL 1294 2234 \nL 1294 2753 \nL 1863 2753 \nQ 2328 2753 2575 2939 \nQ 2822 3125 2822 3475 \nQ 2822 3834 2567 4026 \nQ 2313 4219 1838 4219 \nQ 1578 4219 1281 4162 \nQ 984 4106 628 3988 \nL 628 4550 \nQ 988 4650 1302 4700 \nQ 1616 4750 1894 4750 \nQ 2613 4750 3031 4423 \nQ 3450 4097 3450 3541 \nQ 3450 3153 3228 2886 \nQ 3006 2619 2597 2516 \nz\n\" transform=\"scale(0.015625)\"/>\n     </defs>\n     <use xlink:href=\"#DejaVuSans-6c\"/>\n     <use xlink:href=\"#DejaVuSans-61\" x=\"27.783203\"/>\n     <use xlink:href=\"#DejaVuSans-62\" x=\"89.0625\"/>\n     <use xlink:href=\"#DejaVuSans-65\" x=\"152.539062\"/>\n     <use xlink:href=\"#DejaVuSans-6c\" x=\"214.0625\"/>\n     <use xlink:href=\"#DejaVuSans-3a\" x=\"241.845703\"/>\n     <use xlink:href=\"#DejaVuSans-20\" x=\"275.537109\"/>\n     <use xlink:href=\"#DejaVuSans-33\" x=\"307.324219\"/>\n    </g>\n   </g>\n  </g>\n  <g id=\"axes_7\">\n   <g id=\"patch_32\">\n    <path d=\"M 7.2 269.518594 \nL 80.576471 269.518594 \nL 80.576471 196.142123 \nL 7.2 196.142123 \nz\n\" style=\"fill: #eeeeee\"/>\n   </g>\n   <g clip-path=\"url(#p1a750d3173)\">\n    <image xlink:href=\"data:image/png;base64,\niVBORw0KGgoAAAANSUhEUgAAAGYAAABmCAYAAAA53+RiAAAESklEQVR4nO2cSyhtYRTHP9cjilDySAYGHnnGQDGQkRRlosQAE0NTBkoeIyOGRkanDnOZYEJKmKA8S96vlKIwUOdO7v361sd2z3H3PufP+f9G6986Z+9V/9Zeu29/e8cEAoGAInD8inQB5GNoDCg0BhQaAwqNAYXGgEJjQKExoNAYUGgMKHGRLiBcZGRkCP3w8CD07Oysjtva2sJS02ewY0ChMaDQGFCiZsZ0d3cLPTk5KfTGxoaOOWOIIzQGlJhoeYL59PQkdH19vdAnJyc6vr29FbmEhATP6nKCHQMKjQGFxoASNbfLKSkpQtfV1Qm9vb2tY7/fL3L2rXY4YMeAQmNAoTGgRM2MsSkoKHDMzczMCM0ZQzQ0BpSoWZKxeXt7E7qhoUHHe3t7Ire7u6vjrKwsT+v6CzsGFBoDCo0BJSwz5vr6Wmj76WFhYaGOm5qagj5uamqq0MnJyaEX94eFhQXHGvLy8nS8s7MjcvZSj1uwY0ChMaC4dinb398XemBgQMeLi4si9/r66sYpVX5+vtClpaVCd3V16TgnJ0fkysrKhI6NjdVxZmamyJn1Xl5eilx2dnYIFQcPOwYUGgMKjQHFtRlj36q+vLzoOD09XeSGh4eDPu78/LzQ6+vrH55DqdBmV1pamtCJiYk6vrm5cfzf0NCQ0IODg0LHxbmzYM+OAYXGgEJjQHFtxuTm5gptXqfNDdtKKVVdXe3GKdXV1ZXQh4eHjr+dmJgQ2p5PJgcHB0JfXFw4/tZ8XKCUXG4qLy93/N+/YMeAQmNAce1SNjo6KvTIyIiO7U3Zn11GELi7uxO6trZWx+bmc6WUqqysFNpczjGXhJRSqrOzM+ga2DGg0BhQaAwors0Y+8WgxsZGHZvLKEopVVxcLPTq6qqO7aUSBHp7e3U8PT0tclNTU0L39PQ4Hic+Pj7oc7JjQKExoNAYUDzbJWPOHHvXydramtD9/f06HhsbEzm3ltH/h7m5OR23traKnLnDR6n3uzi/CjsGFBoDSlg2/Nm30p/dEvt8PqE7Ojq8KCkkzCUaeyeO/bktXsp+ODQGFBoDSlhmjH2Kx8dHoc137o+Pj0XOvJVWSj5OiASnp6dC2+9ybm5u6riiouLL52HHgEJjQKExoEC8HHt0dKRje9nc3rGyvLys45KSEk/rCgZ7iaaqqkrHoew4tWHHgEJjQIG4lJmYn6dS6v3nQs7OznRsb8RLSkryrjAHnp+fhT4/P9dxUVHRl4/LjgGFxoBCY0CBmzE29sZxcwmkublZ5OxHBpH4LK9bsGNAoTGg0BhQ4GeMzdLSko5bWlpErqamRmgzf39/L3Lj4+MeVOce7BhQaAwo3+5SZrKysiJ0X1+f0FtbWzpub28XOftLsWiwY0ChMaDQGFC+9Yz5ybBjQKExoNAYUGgMKDQGFBoDCo0BhcaAQmNAoTGg0BhQaAwoNAYUGgMKjQGFxoBCY0D5Dco/OZUSqmdcAAAAAElFTkSuQmCC\" id=\"image614dc76995\" transform=\"scale(1 -1)translate(0 -73.44)\" x=\"7.2\" y=\"-196.078594\" width=\"73.44\" height=\"73.44\"/>\n   </g>\n   <g id=\"matplotlib.axis_13\"/>\n   <g id=\"matplotlib.axis_14\"/>\n   <g id=\"patch_33\">\n    <path d=\"M 7.2 269.518594 \nL 7.2 196.142123 \n\" style=\"fill: none; stroke: #bcbcbc; stroke-width: 0.8; stroke-linejoin: miter; stroke-linecap: square\"/>\n   </g>\n   <g id=\"patch_34\">\n    <path d=\"M 80.576471 269.518594 \nL 80.576471 196.142123 \n\" style=\"fill: none; stroke: #bcbcbc; stroke-width: 0.8; stroke-linejoin: miter; stroke-linecap: square\"/>\n   </g>\n   <g id=\"patch_35\">\n    <path d=\"M 7.2 269.518594 \nL 80.576471 269.518594 \n\" style=\"fill: none; stroke: #bcbcbc; stroke-width: 0.8; stroke-linejoin: miter; stroke-linecap: square\"/>\n   </g>\n   <g id=\"patch_36\">\n    <path d=\"M 7.2 196.142123 \nL 80.576471 196.142123 \n\" style=\"fill: none; stroke: #bcbcbc; stroke-width: 0.8; stroke-linejoin: miter; stroke-linecap: square\"/>\n   </g>\n   <g id=\"text_7\">\n    <!-- label: 4 -->\n    <g transform=\"translate(27.195345 190.142123)scale(0.09 -0.09)\">\n     <defs>\n      <path id=\"DejaVuSans-34\" d=\"M 2419 4116 \nL 825 1625 \nL 2419 1625 \nL 2419 4116 \nz\nM 2253 4666 \nL 3047 4666 \nL 3047 1625 \nL 3713 1625 \nL 3713 1100 \nL 3047 1100 \nL 3047 0 \nL 2419 0 \nL 2419 1100 \nL 313 1100 \nL 313 1709 \nL 2253 4666 \nz\n\" transform=\"scale(0.015625)\"/>\n     </defs>\n     <use xlink:href=\"#DejaVuSans-6c\"/>\n     <use xlink:href=\"#DejaVuSans-61\" x=\"27.783203\"/>\n     <use xlink:href=\"#DejaVuSans-62\" x=\"89.0625\"/>\n     <use xlink:href=\"#DejaVuSans-65\" x=\"152.539062\"/>\n     <use xlink:href=\"#DejaVuSans-6c\" x=\"214.0625\"/>\n     <use xlink:href=\"#DejaVuSans-3a\" x=\"241.845703\"/>\n     <use xlink:href=\"#DejaVuSans-20\" x=\"275.537109\"/>\n     <use xlink:href=\"#DejaVuSans-34\" x=\"307.324219\"/>\n    </g>\n   </g>\n  </g>\n  <g id=\"axes_8\">\n   <g id=\"patch_37\">\n    <path d=\"M 95.823529 269.518594 \nL 169.2 269.518594 \nL 169.2 196.142123 \nL 95.823529 196.142123 \nz\n\" style=\"fill: #eeeeee\"/>\n   </g>\n   <g clip-path=\"url(#p43868c7f52)\">\n    <image xlink:href=\"data:image/png;base64,\niVBORw0KGgoAAAANSUhEUgAAAGYAAABmCAYAAAA53+RiAAAC8UlEQVR4nO3dP68pQRgG8IsrdCoRlYJaJ1FIaGloxMfQoNLTCqWPQCsaEgqJCpVERC0aJYmI203mndyz3GSXZ93nV82b3ZOMPOfdGeuf5/F4PH4RHO+nJ0B/x2BAMRhQDAYUgwHFYEAxGFAMBhSDAcVgQP3+9ARMlUpF1IPBQNT1el2N2+32W+b0CewYUAwGFIMBBbfGPNPv99W4Wq2KY9Fo9N3TcQw7BhSDAeW6S9n5fFbj5XIpjpVKpTfPxjnsGFAMBhSDAcVgQDEYUAwGFIMBBfc8JpFIvHxuq9USNZ/HkOMYDCgP2pvKr9erqMvlsqhHo5Ea+3w+cWw6nYo6k8nYPLv3YceAYjCgGAwouO1yMBgUdbPZFLW+xtzvd3Fsv9+LmmsM2Y7BgILbLptOp5Oord5wkc1mRW1un92EHQOKwYBiMKDg15jL5SLqYrGoxpPJxPJvze20m7BjQDEYUAwGFPwaY5rP52qcy+Usz12v12qcTCYdmpEz2DGgGAwo113K9Fc4C4WCODabzUStPzRz2x0IBByYnX3YMaAYDCgGAwruFcxn9Fc4zdv85hqj63Q6om40GvZOzGbsGFAMBhSDAeW6NUaXTqdfPne1Won6druJ2u/32zInu7BjQDEYUK67JaMzL0epVErUm81Gjb1e+T9ofqWW/nVbCNgxoBgMKAYDytVrjGk8Hos6n8+rsbnGRCIRUW+3WzUOhUIOzO7fsGNAMRhQDAbUV60xJn1d8Xg8lucej0c1DofDjs3pVewYUAwGlKvvLj+jb4nND0CZ9G+nrdVq4tgn7jyzY0AxGFAMBtRXb5eHw6Eam7+yYfWwD4eDqGOxmL0TewE7BhSDAcVgQH31GqMzfzmj1+v9eO5utxN1PB53ZE5W2DGgGAyor74lozPfgN7tdn88d7FYiJqXMlIYDCgGA+q/2S67DTsGFIMBxWBAMRhQDAYUgwHFYEAxGFAMBhSDAcVgQDEYUAwGFIMBxWBAMRhQDAbUH1K+r7qzJ5IcAAAAAElFTkSuQmCC\" id=\"imagefab71987d1\" transform=\"scale(1 -1)translate(0 -73.44)\" x=\"95.823529\" y=\"-196.078594\" width=\"73.44\" height=\"73.44\"/>\n   </g>\n   <g id=\"matplotlib.axis_15\"/>\n   <g id=\"matplotlib.axis_16\"/>\n   <g id=\"patch_38\">\n    <path d=\"M 95.823529 269.518594 \nL 95.823529 196.142123 \n\" style=\"fill: none; stroke: #bcbcbc; stroke-width: 0.8; stroke-linejoin: miter; stroke-linecap: square\"/>\n   </g>\n   <g id=\"patch_39\">\n    <path d=\"M 169.2 269.518594 \nL 169.2 196.142123 \n\" style=\"fill: none; stroke: #bcbcbc; stroke-width: 0.8; stroke-linejoin: miter; stroke-linecap: square\"/>\n   </g>\n   <g id=\"patch_40\">\n    <path d=\"M 95.823529 269.518594 \nL 169.2 269.518594 \n\" style=\"fill: none; stroke: #bcbcbc; stroke-width: 0.8; stroke-linejoin: miter; stroke-linecap: square\"/>\n   </g>\n   <g id=\"patch_41\">\n    <path d=\"M 95.823529 196.142123 \nL 169.2 196.142123 \n\" style=\"fill: none; stroke: #bcbcbc; stroke-width: 0.8; stroke-linejoin: miter; stroke-linecap: square\"/>\n   </g>\n   <g id=\"text_8\">\n    <!-- label: 1 -->\n    <g transform=\"translate(115.818874 190.142123)scale(0.09 -0.09)\">\n     <use xlink:href=\"#DejaVuSans-6c\"/>\n     <use xlink:href=\"#DejaVuSans-61\" x=\"27.783203\"/>\n     <use xlink:href=\"#DejaVuSans-62\" x=\"89.0625\"/>\n     <use xlink:href=\"#DejaVuSans-65\" x=\"152.539062\"/>\n     <use xlink:href=\"#DejaVuSans-6c\" x=\"214.0625\"/>\n     <use xlink:href=\"#DejaVuSans-3a\" x=\"241.845703\"/>\n     <use xlink:href=\"#DejaVuSans-20\" x=\"275.537109\"/>\n     <use xlink:href=\"#DejaVuSans-31\" x=\"307.324219\"/>\n    </g>\n   </g>\n  </g>\n  <g id=\"axes_9\">\n   <g id=\"patch_42\">\n    <path d=\"M 184.447059 269.518594 \nL 257.823529 269.518594 \nL 257.823529 196.142123 \nL 184.447059 196.142123 \nz\n\" style=\"fill: #eeeeee\"/>\n   </g>\n   <g clip-path=\"url(#p0aa2f524d4)\">\n    <image xlink:href=\"data:image/png;base64,\niVBORw0KGgoAAAANSUhEUgAAAGYAAABmCAYAAAA53+RiAAAEQElEQVR4nO2czyt1QRjH34soWQilRCGxsSBZIhuxlGSjFBslZUF+LLAgKVxJbGxQsiCyU4pIKAs2kvwTfkQK991N80zvuefHnXvPt97vZ/U8zT1npj49M6dzZm4kFovF/hA40sIeAPk3FAMKxYBCMaBQDCgUAwrFgEIxoFAMKBQDCsWAQjGgUAwoFAMKxYBCMaBQDCgZqejk8/NT5Pf396noVlBYWCjysrKylI/BD6wYUCgGFIoBJWlrzMnJiYqnpqZE283NjeN15qadSCQSeAz6vcw1prOzU+QjIyMqLi4uDtynLVgxoFAMKBQDSsTWTsyBgQGRb29vq/jj48PzfZK1xrjdJycnR8Xd3d2iraOjQ8XNzc2Bx+MHVgwoFAOKtanMnCrS0oI5//39tXIf816J3KexsVHFk5OToi1ZUxsrBhSKAYViQLG2xqSnp8sb+3jMbW9vV/Ho6Khou729FfnLy4uKX19fRdv8/LzI/TwuxyPefZ6fn0VeWloauB8dVgwoFANKKFNZSUmJyB8fH1WclZXluU/z0fr9/d3ztbOzsyJfXFx0/G28qayoqEjk09PTKu7t7fU8HhNWDCgUAwrFgBLKGlNeXi7yp6cnG0PwxdfXl8j1dW58fFy0HR8fq9jtsVtfcx4eHkSb/gbbDVYMKBQDCsWAEsoaY861Z2dnKq6pqbExHKsMDw+reHl52fN1DQ0NIj89PfV8LSsGFIoBxdqGv56eHpFvbm46/vbt7U3kMzMzKt7b27M1JGvU1dWp2M/Mf35+HrhPVgwoFAMKxYBibY1paWkR+dbWludrDw8PVWy+nqmsrExoXDbQH/0T+RLqB1YMKBQDCsWAYm2NqaqqEnl2draK/WwqPzg4ELm5ayYMzJ06qYAVAwrFgGJtKqutrRX5/v6+iru6ukSbuVFPZ319XeTmfwRMTEyoODMz0/c4nfj+/lbx6uqqaItGoyp2e1zWd/msra0FHg8rBhSKAYViQLH2BTMe5pnG3d1dx9+6ncG8u7tTcXV1deAx/fz8iFxf24aGhhzH5LbG1NfXq/jq6irw+FgxoFAMKBQDSkrWGPNTcltbm8j1udjtcKx+UmBsbEy09ff3ex7T0tKSyPX/kjGJd8i2oqJC5JeXlyouKCjwPB4TVgwoFANKSqYyE/OVTF5enor9/GVJfn6+yFdWVhx/a74h1l+zuMEzmERBMaBQDCihrDHmI/HR0ZGKFxYWRNv19XXgfmyd89df/QwODoo2cwdqRoadLymsGFAoBhSKASWUNSYeFxcXIm9tbRW5eag1Hn7WGP2TcFNTk2jb2dlRcW5uruf+E4EVAwrFgAI3lZlsbGyIfG5uzvO1fqYyffdNX1+f5z6SBSsGFIoBhWJAgV9j/ldYMaBQDCgUAwrFgEIxoFAMKBQDCsWAQjGgUAwoFAMKxYBCMaBQDCgUAwrFgEIxoPwF5kY51uJCV2gAAAAASUVORK5CYII=\" id=\"imagee0ce5dfe6f\" transform=\"scale(1 -1)translate(0 -73.44)\" x=\"184.447059\" y=\"-196.078594\" width=\"73.44\" height=\"73.44\"/>\n   </g>\n   <g id=\"matplotlib.axis_17\"/>\n   <g id=\"matplotlib.axis_18\"/>\n   <g id=\"patch_43\">\n    <path d=\"M 184.447059 269.518594 \nL 184.447059 196.142123 \n\" style=\"fill: none; stroke: #bcbcbc; stroke-width: 0.8; stroke-linejoin: miter; stroke-linecap: square\"/>\n   </g>\n   <g id=\"patch_44\">\n    <path d=\"M 257.823529 269.518594 \nL 257.823529 196.142123 \n\" style=\"fill: none; stroke: #bcbcbc; stroke-width: 0.8; stroke-linejoin: miter; stroke-linecap: square\"/>\n   </g>\n   <g id=\"patch_45\">\n    <path d=\"M 184.447059 269.518594 \nL 257.823529 269.518594 \n\" style=\"fill: none; stroke: #bcbcbc; stroke-width: 0.8; stroke-linejoin: miter; stroke-linecap: square\"/>\n   </g>\n   <g id=\"patch_46\">\n    <path d=\"M 184.447059 196.142123 \nL 257.823529 196.142123 \n\" style=\"fill: none; stroke: #bcbcbc; stroke-width: 0.8; stroke-linejoin: miter; stroke-linecap: square\"/>\n   </g>\n   <g id=\"text_9\">\n    <!-- label: 0 -->\n    <g transform=\"translate(204.442403 190.142123)scale(0.09 -0.09)\">\n     <defs>\n      <path id=\"DejaVuSans-30\" d=\"M 2034 4250 \nQ 1547 4250 1301 3770 \nQ 1056 3291 1056 2328 \nQ 1056 1369 1301 889 \nQ 1547 409 2034 409 \nQ 2525 409 2770 889 \nQ 3016 1369 3016 2328 \nQ 3016 3291 2770 3770 \nQ 2525 4250 2034 4250 \nz\nM 2034 4750 \nQ 2819 4750 3233 4129 \nQ 3647 3509 3647 2328 \nQ 3647 1150 3233 529 \nQ 2819 -91 2034 -91 \nQ 1250 -91 836 529 \nQ 422 1150 422 2328 \nQ 422 3509 836 4129 \nQ 1250 4750 2034 4750 \nz\n\" transform=\"scale(0.015625)\"/>\n     </defs>\n     <use xlink:href=\"#DejaVuSans-6c\"/>\n     <use xlink:href=\"#DejaVuSans-61\" x=\"27.783203\"/>\n     <use xlink:href=\"#DejaVuSans-62\" x=\"89.0625\"/>\n     <use xlink:href=\"#DejaVuSans-65\" x=\"152.539062\"/>\n     <use xlink:href=\"#DejaVuSans-6c\" x=\"214.0625\"/>\n     <use xlink:href=\"#DejaVuSans-3a\" x=\"241.845703\"/>\n     <use xlink:href=\"#DejaVuSans-20\" x=\"275.537109\"/>\n     <use xlink:href=\"#DejaVuSans-30\" x=\"307.324219\"/>\n    </g>\n   </g>\n  </g>\n </g>\n <defs>\n  <clipPath id=\"p41c08c4002\">\n   <rect x=\"7.2\" y=\"20.038594\" width=\"73.376471\" height=\"73.376471\"/>\n  </clipPath>\n  <clipPath id=\"p93fcd2edc9\">\n   <rect x=\"95.823529\" y=\"20.038594\" width=\"73.376471\" height=\"73.376471\"/>\n  </clipPath>\n  <clipPath id=\"p9b4909ab99\">\n   <rect x=\"184.447059\" y=\"20.038594\" width=\"73.376471\" height=\"73.376471\"/>\n  </clipPath>\n  <clipPath id=\"p0b5bcb17b8\">\n   <rect x=\"7.2\" y=\"108.090358\" width=\"73.376471\" height=\"73.376471\"/>\n  </clipPath>\n  <clipPath id=\"p9b5d67e72f\">\n   <rect x=\"95.823529\" y=\"108.090358\" width=\"73.376471\" height=\"73.376471\"/>\n  </clipPath>\n  <clipPath id=\"pe3b652f8e6\">\n   <rect x=\"184.447059\" y=\"108.090358\" width=\"73.376471\" height=\"73.376471\"/>\n  </clipPath>\n  <clipPath id=\"p1a750d3173\">\n   <rect x=\"7.2\" y=\"196.142123\" width=\"73.376471\" height=\"73.376471\"/>\n  </clipPath>\n  <clipPath id=\"p43868c7f52\">\n   <rect x=\"95.823529\" y=\"196.142123\" width=\"73.376471\" height=\"73.376471\"/>\n  </clipPath>\n  <clipPath id=\"p0aa2f524d4\">\n   <rect x=\"184.447059\" y=\"196.142123\" width=\"73.376471\" height=\"73.376471\"/>\n  </clipPath>\n </defs>\n</svg>\n",
      "text/plain": [
       "<Figure size 450x450 with 9 Axes>"
      ]
     },
     "metadata": {},
     "output_type": "display_data"
    }
   ],
   "source": [
    "set_figsize((4.5,4.5))\n",
    "\n",
    "img_shape = (28, 28)\n",
    "\n",
    "show_img_grid(\n",
    "    [train_images[i].reshape(img_shape) for i in range(9)],\n",
    "    [f\"label: {jnp.argmax(train_labels[i])}\" for i in range(9)]\n",
    ")"
   ]
  },
  {
   "cell_type": "markdown",
   "id": "0d047fcc",
   "metadata": {},
   "source": [
    "# Downscaling images as in paper"
   ]
  },
  {
   "cell_type": "code",
   "execution_count": 17,
   "id": "446f2db3",
   "metadata": {},
   "outputs": [],
   "source": [
    "def resize_img(\n",
    "        img_vec: Vector,\n",
    "        shape: Tuple[int,int]\n",
    "    ) -> Vector:\n",
    "    \"\"\"\n",
    "    Resizing the image vector.\n",
    "    \"\"\"\n",
    "    orig_size = jnp.sqrt(img_vec.size).astype(int)\n",
    "    img_mat = img_vec.reshape(orig_size, orig_size)\n",
    "    img_mat = jax.image.resize(img_mat, shape, method='nearest')\n",
    "    return img_mat.reshape(-1)"
   ]
  },
  {
   "cell_type": "markdown",
   "id": "628cb215",
   "metadata": {},
   "source": [
    "Resizing images to $14 × 14$ as in the paper."
   ]
  },
  {
   "cell_type": "code",
   "execution_count": 18,
   "id": "182b07a1",
   "metadata": {},
   "outputs": [],
   "source": [
    "img_shape = (14,14)\n",
    "\n",
    "resize_img_vmap = functools.partial(resize_img, shape=img_shape)\n",
    "\n",
    "train_images_scaled = jax.vmap(resize_img_vmap)(train_images)\n",
    "test_images_scaled = jax.vmap(resize_img_vmap)(test_images)"
   ]
  },
  {
   "cell_type": "code",
   "execution_count": 19,
   "id": "df3eb272",
   "metadata": {},
   "outputs": [
    {
     "name": "stdout",
     "output_type": "stream",
     "text": [
      "Train data shape: (20000, 196) | Test data shape: (10000, 196)\n"
     ]
    }
   ],
   "source": [
    "print(f'Train data shape: {train_images_scaled.shape} | Test data shape: {test_images_scaled.shape}')"
   ]
  },
  {
   "cell_type": "code",
   "execution_count": 20,
   "id": "3906b1d5",
   "metadata": {},
   "outputs": [
    {
     "data": {
      "image/svg+xml": "<?xml version=\"1.0\" encoding=\"utf-8\" standalone=\"no\"?>\n<!DOCTYPE svg PUBLIC \"-//W3C//DTD SVG 1.1//EN\"\n  \"http://www.w3.org/Graphics/SVG/1.1/DTD/svg11.dtd\">\n<svg xmlns:xlink=\"http://www.w3.org/1999/xlink\" width=\"265.023529pt\" height=\"276.718594pt\" viewBox=\"0 0 265.023529 276.718594\" xmlns=\"http://www.w3.org/2000/svg\" version=\"1.1\">\n <metadata>\n  <rdf:RDF xmlns:dc=\"http://purl.org/dc/elements/1.1/\" xmlns:cc=\"http://creativecommons.org/ns#\" xmlns:rdf=\"http://www.w3.org/1999/02/22-rdf-syntax-ns#\">\n   <cc:Work>\n    <dc:type rdf:resource=\"http://purl.org/dc/dcmitype/StillImage\"/>\n    <dc:date>2022-05-08T16:14:38.676095</dc:date>\n    <dc:format>image/svg+xml</dc:format>\n    <dc:creator>\n     <cc:Agent>\n      <dc:title>Matplotlib v3.5.2, https://matplotlib.org/</dc:title>\n     </cc:Agent>\n    </dc:creator>\n   </cc:Work>\n  </rdf:RDF>\n </metadata>\n <defs>\n  <style type=\"text/css\">*{stroke-linejoin: round; stroke-linecap: butt}</style>\n </defs>\n <g id=\"figure_1\">\n  <g id=\"patch_1\">\n   <path d=\"M 0 276.718594 \nL 265.023529 276.718594 \nL 265.023529 0 \nL 0 0 \nz\n\" style=\"fill: #ffffff\"/>\n  </g>\n  <g id=\"axes_1\">\n   <g id=\"patch_2\">\n    <path d=\"M 7.2 93.415064 \nL 80.576471 93.415064 \nL 80.576471 20.038594 \nL 7.2 20.038594 \nz\n\" style=\"fill: #eeeeee\"/>\n   </g>\n   <g clip-path=\"url(#pa171c34971)\">\n    <image xlink:href=\"data:image/png;base64,\niVBORw0KGgoAAAANSUhEUgAAAGYAAABmCAYAAAA53+RiAAAB2klEQVR4nO3bMYrCQBhA4c2ylWlSxlYIeILcIG3O4R08XcDGyiJdIH28gG22X3ZGWY3zsryv/XGZ5fFDHGI2z/P8IZzP1AfQ7wwDZRgow0AZBsowUF+pD/BT3/fRedM0wdk0Ta8+TjJuDJRhoAwDZRgow0AZBsowULjvMUVRROfX6/U9B0nMjYEyDJRhoAwDZRgow0Bla3tLJsuy4GwYhuCsqqoljrMYNwbKMFCGgTIMlGGgDAO1usflsiyDs+12G5xdLpcljrMYNwbKMFCGgTIMlGGgDAO1usflmNjN89r+TTcGyjBQhoEyDJRhoAwDZRgo3EvlS7ndbtH5ZrN500ke48ZAGQbKMFCGgTIMlGGg/tW1//F4DM5Op1P0s13Xvfo4T3FjoAwDZRgow0AZBsowUElul2M3vc/c8h4Oh+Ds3uMyjRsDZRgow0AZBsowUIaBMgxUku8xeZ4HZ+fzOfrZuq6Ds7Ztg7P9fn//YCBuDJRhoAwDZRgow0AZBgr3lkzsB6737Ha74Gwcxz//3RTcGCjDQBkGyjBQhoEyDBTuN5iwp/dk3Bgow0AZBsowUIaBMgyUYaAMA2UYKMNAGQbKMFCGgTIMlGGgDANlGCjDQBkGyjBQhoH6BkudRKeru94AAAAAAElFTkSuQmCC\" id=\"imagea9c2851ccd\" transform=\"scale(1 -1)translate(0 -73.44)\" x=\"7.2\" y=\"-19.975064\" width=\"73.44\" height=\"73.44\"/>\n   </g>\n   <g id=\"matplotlib.axis_1\"/>\n   <g id=\"matplotlib.axis_2\"/>\n   <g id=\"patch_3\">\n    <path d=\"M 7.2 93.415064 \nL 7.2 20.038594 \n\" style=\"fill: none; stroke: #bcbcbc; stroke-width: 0.8; stroke-linejoin: miter; stroke-linecap: square\"/>\n   </g>\n   <g id=\"patch_4\">\n    <path d=\"M 80.576471 93.415064 \nL 80.576471 20.038594 \n\" style=\"fill: none; stroke: #bcbcbc; stroke-width: 0.8; stroke-linejoin: miter; stroke-linecap: square\"/>\n   </g>\n   <g id=\"patch_5\">\n    <path d=\"M 7.2 93.415064 \nL 80.576471 93.415064 \n\" style=\"fill: none; stroke: #bcbcbc; stroke-width: 0.8; stroke-linejoin: miter; stroke-linecap: square\"/>\n   </g>\n   <g id=\"patch_6\">\n    <path d=\"M 7.2 20.038594 \nL 80.576471 20.038594 \n\" style=\"fill: none; stroke: #bcbcbc; stroke-width: 0.8; stroke-linejoin: miter; stroke-linecap: square\"/>\n   </g>\n   <g id=\"text_1\">\n    <!-- label: 7 -->\n    <g transform=\"translate(27.195345 14.038594)scale(0.09 -0.09)\">\n     <defs>\n      <path id=\"DejaVuSans-6c\" d=\"M 603 4863 \nL 1178 4863 \nL 1178 0 \nL 603 0 \nL 603 4863 \nz\n\" transform=\"scale(0.015625)\"/>\n      <path id=\"DejaVuSans-61\" d=\"M 2194 1759 \nQ 1497 1759 1228 1600 \nQ 959 1441 959 1056 \nQ 959 750 1161 570 \nQ 1363 391 1709 391 \nQ 2188 391 2477 730 \nQ 2766 1069 2766 1631 \nL 2766 1759 \nL 2194 1759 \nz\nM 3341 1997 \nL 3341 0 \nL 2766 0 \nL 2766 531 \nQ 2569 213 2275 61 \nQ 1981 -91 1556 -91 \nQ 1019 -91 701 211 \nQ 384 513 384 1019 \nQ 384 1609 779 1909 \nQ 1175 2209 1959 2209 \nL 2766 2209 \nL 2766 2266 \nQ 2766 2663 2505 2880 \nQ 2244 3097 1772 3097 \nQ 1472 3097 1187 3025 \nQ 903 2953 641 2809 \nL 641 3341 \nQ 956 3463 1253 3523 \nQ 1550 3584 1831 3584 \nQ 2591 3584 2966 3190 \nQ 3341 2797 3341 1997 \nz\n\" transform=\"scale(0.015625)\"/>\n      <path id=\"DejaVuSans-62\" d=\"M 3116 1747 \nQ 3116 2381 2855 2742 \nQ 2594 3103 2138 3103 \nQ 1681 3103 1420 2742 \nQ 1159 2381 1159 1747 \nQ 1159 1113 1420 752 \nQ 1681 391 2138 391 \nQ 2594 391 2855 752 \nQ 3116 1113 3116 1747 \nz\nM 1159 2969 \nQ 1341 3281 1617 3432 \nQ 1894 3584 2278 3584 \nQ 2916 3584 3314 3078 \nQ 3713 2572 3713 1747 \nQ 3713 922 3314 415 \nQ 2916 -91 2278 -91 \nQ 1894 -91 1617 61 \nQ 1341 213 1159 525 \nL 1159 0 \nL 581 0 \nL 581 4863 \nL 1159 4863 \nL 1159 2969 \nz\n\" transform=\"scale(0.015625)\"/>\n      <path id=\"DejaVuSans-65\" d=\"M 3597 1894 \nL 3597 1613 \nL 953 1613 \nQ 991 1019 1311 708 \nQ 1631 397 2203 397 \nQ 2534 397 2845 478 \nQ 3156 559 3463 722 \nL 3463 178 \nQ 3153 47 2828 -22 \nQ 2503 -91 2169 -91 \nQ 1331 -91 842 396 \nQ 353 884 353 1716 \nQ 353 2575 817 3079 \nQ 1281 3584 2069 3584 \nQ 2775 3584 3186 3129 \nQ 3597 2675 3597 1894 \nz\nM 3022 2063 \nQ 3016 2534 2758 2815 \nQ 2500 3097 2075 3097 \nQ 1594 3097 1305 2825 \nQ 1016 2553 972 2059 \nL 3022 2063 \nz\n\" transform=\"scale(0.015625)\"/>\n      <path id=\"DejaVuSans-3a\" d=\"M 750 794 \nL 1409 794 \nL 1409 0 \nL 750 0 \nL 750 794 \nz\nM 750 3309 \nL 1409 3309 \nL 1409 2516 \nL 750 2516 \nL 750 3309 \nz\n\" transform=\"scale(0.015625)\"/>\n      <path id=\"DejaVuSans-20\" transform=\"scale(0.015625)\"/>\n      <path id=\"DejaVuSans-37\" d=\"M 525 4666 \nL 3525 4666 \nL 3525 4397 \nL 1831 0 \nL 1172 0 \nL 2766 4134 \nL 525 4134 \nL 525 4666 \nz\n\" transform=\"scale(0.015625)\"/>\n     </defs>\n     <use xlink:href=\"#DejaVuSans-6c\"/>\n     <use xlink:href=\"#DejaVuSans-61\" x=\"27.783203\"/>\n     <use xlink:href=\"#DejaVuSans-62\" x=\"89.0625\"/>\n     <use xlink:href=\"#DejaVuSans-65\" x=\"152.539062\"/>\n     <use xlink:href=\"#DejaVuSans-6c\" x=\"214.0625\"/>\n     <use xlink:href=\"#DejaVuSans-3a\" x=\"241.845703\"/>\n     <use xlink:href=\"#DejaVuSans-20\" x=\"275.537109\"/>\n     <use xlink:href=\"#DejaVuSans-37\" x=\"307.324219\"/>\n    </g>\n   </g>\n  </g>\n  <g id=\"axes_2\">\n   <g id=\"patch_7\">\n    <path d=\"M 95.823529 93.415064 \nL 169.2 93.415064 \nL 169.2 20.038594 \nL 95.823529 20.038594 \nz\n\" style=\"fill: #eeeeee\"/>\n   </g>\n   <g clip-path=\"url(#p3471456b4e)\">\n    <image xlink:href=\"data:image/png;base64,\niVBORw0KGgoAAAANSUhEUgAAAGYAAABmCAYAAAA53+RiAAAB0klEQVR4nO3czYnCUBRA4ckwBDSbbFynErEHi3CfTUoQArZiEWkgDViAazdCVpkGfG9m8jM5kfNtL8ErhwdBHiZ93/cfwvlcegG9Zhgow0AZBsowUIaBMgyUYaAMA2UYKMNAGQbKMFCGgfpaeoG/KssyOGvbNjhrmmaOdWbjiYEyDJRhoAwDZRgow0Ala7sl83g8grM8z4OzlX1NTwyVYaAMA2UYKMNAGQZqda/LMUmSBGdd10WfTdN06nVG8cRAGQbKMFCGgTIMlGGgVncZY6j7/R6dF0XxT5v8jicGyjBQhoEyDJRhoAwDZRgo3M/+WZZF58/nc5bP3W63wdnpdArOzudzcLbZbAbv44mBMgyUYaAMA2UYKMNA4V6Xx4jdkrler9Fnj8fj1OuM4omBMgyUYaAMA2UYKMNAGQbKMFCGgTIMlGGgDANlGCjDQI267X+5XIKzuq6Ds6qqgrPdbhf9zNvt9vNiL+z3+0HPLcUTA2UYKMNAGQbKMFCGgRp1S4b279+Hw2HpFSbjiYEyDJRhoAwDZRgow0C91aXyd+KJgTIMlGGgDANlGCjDQBkGyjBQhoEyDJRhoAwDZRgow0AZBsowUIaBMgyUYaAMA2UYqG+tT0Lq03FYUQAAAABJRU5ErkJggg==\" id=\"image6092c3d295\" transform=\"scale(1 -1)translate(0 -73.44)\" x=\"95.823529\" y=\"-19.975064\" width=\"73.44\" height=\"73.44\"/>\n   </g>\n   <g id=\"matplotlib.axis_3\"/>\n   <g id=\"matplotlib.axis_4\"/>\n   <g id=\"patch_8\">\n    <path d=\"M 95.823529 93.415064 \nL 95.823529 20.038594 \n\" style=\"fill: none; stroke: #bcbcbc; stroke-width: 0.8; stroke-linejoin: miter; stroke-linecap: square\"/>\n   </g>\n   <g id=\"patch_9\">\n    <path d=\"M 169.2 93.415064 \nL 169.2 20.038594 \n\" style=\"fill: none; stroke: #bcbcbc; stroke-width: 0.8; stroke-linejoin: miter; stroke-linecap: square\"/>\n   </g>\n   <g id=\"patch_10\">\n    <path d=\"M 95.823529 93.415064 \nL 169.2 93.415064 \n\" style=\"fill: none; stroke: #bcbcbc; stroke-width: 0.8; stroke-linejoin: miter; stroke-linecap: square\"/>\n   </g>\n   <g id=\"patch_11\">\n    <path d=\"M 95.823529 20.038594 \nL 169.2 20.038594 \n\" style=\"fill: none; stroke: #bcbcbc; stroke-width: 0.8; stroke-linejoin: miter; stroke-linecap: square\"/>\n   </g>\n   <g id=\"text_2\">\n    <!-- label: 7 -->\n    <g transform=\"translate(115.818874 14.038594)scale(0.09 -0.09)\">\n     <use xlink:href=\"#DejaVuSans-6c\"/>\n     <use xlink:href=\"#DejaVuSans-61\" x=\"27.783203\"/>\n     <use xlink:href=\"#DejaVuSans-62\" x=\"89.0625\"/>\n     <use xlink:href=\"#DejaVuSans-65\" x=\"152.539062\"/>\n     <use xlink:href=\"#DejaVuSans-6c\" x=\"214.0625\"/>\n     <use xlink:href=\"#DejaVuSans-3a\" x=\"241.845703\"/>\n     <use xlink:href=\"#DejaVuSans-20\" x=\"275.537109\"/>\n     <use xlink:href=\"#DejaVuSans-37\" x=\"307.324219\"/>\n    </g>\n   </g>\n  </g>\n  <g id=\"axes_3\">\n   <g id=\"patch_12\">\n    <path d=\"M 184.447059 93.415064 \nL 257.823529 93.415064 \nL 257.823529 20.038594 \nL 184.447059 20.038594 \nz\n\" style=\"fill: #eeeeee\"/>\n   </g>\n   <g clip-path=\"url(#p6104ff1cce)\">\n    <image xlink:href=\"data:image/png;base64,\niVBORw0KGgoAAAANSUhEUgAAAGYAAABmCAYAAAA53+RiAAABt0lEQVR4nO3bsW2DUBRA0RBlACQkWkagoIQNWIBZmMsr0FExBQUSJSXpo3ysEBPuV+5pnyx9++pJGONk3/f9TTjvdx9A3zMMlGGgDANlGCjDQBkGyjBQhoEyDJRhoAwDZRgow0B93H2Ar4ZhOJw3TROcresanKVpevZIt3BjoAwDZRgow0AZBsowULjL5aIoTr92nufgzMtlvYRhoAwDZRgow0AZBiqJ7aHyJEmCs7Ztg7PH43HFcS7jxkAZBsowUIaBMgyUYaBwd5efybIsOOv7/g9Pci03BsowUIaBMgyUYaAMA2UYqOi+x3RdF5zVdR2cRfbrhhtDZRgow0AZBsowUIaBiu4pmWmagrOyLIOzyN6mG0NlGCjDQBkGyjBQhoEyDJRhoAwDZRgow0AZBsowUIaBiu62/5GjP86O43j42qqqXn2cX3FjoAwDZRgow0AZBsowUNE9VH7Wtm13H+FH3Bgow0AZBsowUIaBMgxUdHeXl2UJzvI8D86evU3ax+DGQBkGyjBQhoEyDJRhoKK7XP4v3Bgow0AZBsowUIaBMgyUYaAMA2UYKMNAGQbKMFCGgTIM1Cf2T0BAQ4AVzAAAAABJRU5ErkJggg==\" id=\"image6b38013fa0\" transform=\"scale(1 -1)translate(0 -73.44)\" x=\"184.447059\" y=\"-19.975064\" width=\"73.44\" height=\"73.44\"/>\n   </g>\n   <g id=\"matplotlib.axis_5\"/>\n   <g id=\"matplotlib.axis_6\"/>\n   <g id=\"patch_13\">\n    <path d=\"M 184.447059 93.415064 \nL 184.447059 20.038594 \n\" style=\"fill: none; stroke: #bcbcbc; stroke-width: 0.8; stroke-linejoin: miter; stroke-linecap: square\"/>\n   </g>\n   <g id=\"patch_14\">\n    <path d=\"M 257.823529 93.415064 \nL 257.823529 20.038594 \n\" style=\"fill: none; stroke: #bcbcbc; stroke-width: 0.8; stroke-linejoin: miter; stroke-linecap: square\"/>\n   </g>\n   <g id=\"patch_15\">\n    <path d=\"M 184.447059 93.415064 \nL 257.823529 93.415064 \n\" style=\"fill: none; stroke: #bcbcbc; stroke-width: 0.8; stroke-linejoin: miter; stroke-linecap: square\"/>\n   </g>\n   <g id=\"patch_16\">\n    <path d=\"M 184.447059 20.038594 \nL 257.823529 20.038594 \n\" style=\"fill: none; stroke: #bcbcbc; stroke-width: 0.8; stroke-linejoin: miter; stroke-linecap: square\"/>\n   </g>\n   <g id=\"text_3\">\n    <!-- label: 1 -->\n    <g transform=\"translate(204.442403 14.038594)scale(0.09 -0.09)\">\n     <defs>\n      <path id=\"DejaVuSans-31\" d=\"M 794 531 \nL 1825 531 \nL 1825 4091 \nL 703 3866 \nL 703 4441 \nL 1819 4666 \nL 2450 4666 \nL 2450 531 \nL 3481 531 \nL 3481 0 \nL 794 0 \nL 794 531 \nz\n\" transform=\"scale(0.015625)\"/>\n     </defs>\n     <use xlink:href=\"#DejaVuSans-6c\"/>\n     <use xlink:href=\"#DejaVuSans-61\" x=\"27.783203\"/>\n     <use xlink:href=\"#DejaVuSans-62\" x=\"89.0625\"/>\n     <use xlink:href=\"#DejaVuSans-65\" x=\"152.539062\"/>\n     <use xlink:href=\"#DejaVuSans-6c\" x=\"214.0625\"/>\n     <use xlink:href=\"#DejaVuSans-3a\" x=\"241.845703\"/>\n     <use xlink:href=\"#DejaVuSans-20\" x=\"275.537109\"/>\n     <use xlink:href=\"#DejaVuSans-31\" x=\"307.324219\"/>\n    </g>\n   </g>\n  </g>\n  <g id=\"axes_4\">\n   <g id=\"patch_17\">\n    <path d=\"M 7.2 181.466829 \nL 80.576471 181.466829 \nL 80.576471 108.090358 \nL 7.2 108.090358 \nz\n\" style=\"fill: #eeeeee\"/>\n   </g>\n   <g clip-path=\"url(#pd0ad995f1a)\">\n    <image xlink:href=\"data:image/png;base64,\niVBORw0KGgoAAAANSUhEUgAAAGYAAABmCAYAAAA53+RiAAAB0UlEQVR4nO3cMYrCQBhA4c1qOlNYiGeS3MbG2+QWKVOnySm0FKysRMheYGfcHZzNG/Z97WD44fFDEtRqnuf5QzifSw+g7xkGyjBQhoEyDJRhoAwDZRgow0AZBsowUIaBMgyUYaDWSw/wW1VVBc/qug6ePR6PHONk48ZAGQbKMFCGgTIMlGGgirtdjhmGYekR3saNgTIMlGGgDANlGCjDQOFul8/nc/Jn7/f7GydZlhsDZRgow0AZBsowUIaBwt0ur9fpI43jGDw7HA7J112CGwNlGCjDQBkGyjBQhoEyDBTuOeZ4PCZ/dr/fv3GSZbkxUIaBMgyUYaAMA2UYqKq0v16M/QZztVoFz57PZ45xsnFjoAwDZRgow0AZBsowULi3y6+0bRs86/s+eHa9XqPX3e12yTPl4MZAGQbKMFCGgTIMlGGgDANV3HNMqq7rouen0+mPJvkZNwbKMFCGgTIMlGGgDANV3LdkYv8X0zRN8Gy73Uave7vdkmfKwY2BMgyUYaAMA2UYKMNAFfd2ebPZBM8ul0vwbJqmHONk48ZAGQbKMFCGgTIMlGGginu7/F+4MVCGgTIMlGGgDANlGCjDQBkGyjBQhoEyDJRhoAwDZRioL8KHN8khnJFeAAAAAElFTkSuQmCC\" id=\"image7f39499e29\" transform=\"scale(1 -1)translate(0 -73.44)\" x=\"7.2\" y=\"-108.026829\" width=\"73.44\" height=\"73.44\"/>\n   </g>\n   <g id=\"matplotlib.axis_7\"/>\n   <g id=\"matplotlib.axis_8\"/>\n   <g id=\"patch_18\">\n    <path d=\"M 7.2 181.466829 \nL 7.2 108.090358 \n\" style=\"fill: none; stroke: #bcbcbc; stroke-width: 0.8; stroke-linejoin: miter; stroke-linecap: square\"/>\n   </g>\n   <g id=\"patch_19\">\n    <path d=\"M 80.576471 181.466829 \nL 80.576471 108.090358 \n\" style=\"fill: none; stroke: #bcbcbc; stroke-width: 0.8; stroke-linejoin: miter; stroke-linecap: square\"/>\n   </g>\n   <g id=\"patch_20\">\n    <path d=\"M 7.2 181.466829 \nL 80.576471 181.466829 \n\" style=\"fill: none; stroke: #bcbcbc; stroke-width: 0.8; stroke-linejoin: miter; stroke-linecap: square\"/>\n   </g>\n   <g id=\"patch_21\">\n    <path d=\"M 7.2 108.090358 \nL 80.576471 108.090358 \n\" style=\"fill: none; stroke: #bcbcbc; stroke-width: 0.8; stroke-linejoin: miter; stroke-linecap: square\"/>\n   </g>\n   <g id=\"text_4\">\n    <!-- label: 1 -->\n    <g transform=\"translate(27.195345 102.090358)scale(0.09 -0.09)\">\n     <use xlink:href=\"#DejaVuSans-6c\"/>\n     <use xlink:href=\"#DejaVuSans-61\" x=\"27.783203\"/>\n     <use xlink:href=\"#DejaVuSans-62\" x=\"89.0625\"/>\n     <use xlink:href=\"#DejaVuSans-65\" x=\"152.539062\"/>\n     <use xlink:href=\"#DejaVuSans-6c\" x=\"214.0625\"/>\n     <use xlink:href=\"#DejaVuSans-3a\" x=\"241.845703\"/>\n     <use xlink:href=\"#DejaVuSans-20\" x=\"275.537109\"/>\n     <use xlink:href=\"#DejaVuSans-31\" x=\"307.324219\"/>\n    </g>\n   </g>\n  </g>\n  <g id=\"axes_5\">\n   <g id=\"patch_22\">\n    <path d=\"M 95.823529 181.466829 \nL 169.2 181.466829 \nL 169.2 108.090358 \nL 95.823529 108.090358 \nz\n\" style=\"fill: #eeeeee\"/>\n   </g>\n   <g clip-path=\"url(#pfeab623f13)\">\n    <image xlink:href=\"data:image/png;base64,\niVBORw0KGgoAAAANSUhEUgAAAGYAAABmCAYAAAA53+RiAAABmElEQVR4nO3bsY2DQBBAUa9lArogoR4KQYIKqImAVigAEsqAa+D2pJO87F/7v3SSsb5GshEO13VdD+E8cy+g3xkGyjBQhoEyDJRhoAwDZRgow0AZBsowUIaBMgyUYaBeuRf4r+M4orO+76OzeZ5TrJOMFwNlGCjDQBkGyjBQhoEKpb0ls+97dNY0TXRW2Mf0YqgMA2UYKMNAGQbKMFDFPV0ehiE6CyHcuElaXgyUYaAMA2UYKMNAGQbKMFCGgTIMlGGgDANlGCjDQBkGqrjH/m3bRmfTNN24SVpeDJRhoAwDZRgow0AZBqq4l8q7rovOlmWJzs7zTLFOMl4MlGGgDANlGCjDQBkGqriny3+pqir3Cm/jxUAZBsowUIaBMgyUYaAMA/VRv2Pqus69wtt4MVCGgTIMlGGgDANlGKjivi6v6xqdjeN44yZpeTFQhoEyDJRhoAwDZRio4r4ub9uWe4VbeDFQhoEyDJRhoAwDZRio4v6D+S28GCjDQBkGyjBQhoEyDJRhoAwDZRgow0AZBsowUIaBMgzUD+sfLI14O8qEAAAAAElFTkSuQmCC\" id=\"image44d5764fed\" transform=\"scale(1 -1)translate(0 -73.44)\" x=\"95.823529\" y=\"-108.026829\" width=\"73.44\" height=\"73.44\"/>\n   </g>\n   <g id=\"matplotlib.axis_9\"/>\n   <g id=\"matplotlib.axis_10\"/>\n   <g id=\"patch_23\">\n    <path d=\"M 95.823529 181.466829 \nL 95.823529 108.090358 \n\" style=\"fill: none; stroke: #bcbcbc; stroke-width: 0.8; stroke-linejoin: miter; stroke-linecap: square\"/>\n   </g>\n   <g id=\"patch_24\">\n    <path d=\"M 169.2 181.466829 \nL 169.2 108.090358 \n\" style=\"fill: none; stroke: #bcbcbc; stroke-width: 0.8; stroke-linejoin: miter; stroke-linecap: square\"/>\n   </g>\n   <g id=\"patch_25\">\n    <path d=\"M 95.823529 181.466829 \nL 169.2 181.466829 \n\" style=\"fill: none; stroke: #bcbcbc; stroke-width: 0.8; stroke-linejoin: miter; stroke-linecap: square\"/>\n   </g>\n   <g id=\"patch_26\">\n    <path d=\"M 95.823529 108.090358 \nL 169.2 108.090358 \n\" style=\"fill: none; stroke: #bcbcbc; stroke-width: 0.8; stroke-linejoin: miter; stroke-linecap: square\"/>\n   </g>\n   <g id=\"text_5\">\n    <!-- label: 1 -->\n    <g transform=\"translate(115.818874 102.090358)scale(0.09 -0.09)\">\n     <use xlink:href=\"#DejaVuSans-6c\"/>\n     <use xlink:href=\"#DejaVuSans-61\" x=\"27.783203\"/>\n     <use xlink:href=\"#DejaVuSans-62\" x=\"89.0625\"/>\n     <use xlink:href=\"#DejaVuSans-65\" x=\"152.539062\"/>\n     <use xlink:href=\"#DejaVuSans-6c\" x=\"214.0625\"/>\n     <use xlink:href=\"#DejaVuSans-3a\" x=\"241.845703\"/>\n     <use xlink:href=\"#DejaVuSans-20\" x=\"275.537109\"/>\n     <use xlink:href=\"#DejaVuSans-31\" x=\"307.324219\"/>\n    </g>\n   </g>\n  </g>\n  <g id=\"axes_6\">\n   <g id=\"patch_27\">\n    <path d=\"M 184.447059 181.466829 \nL 257.823529 181.466829 \nL 257.823529 108.090358 \nL 184.447059 108.090358 \nz\n\" style=\"fill: #eeeeee\"/>\n   </g>\n   <g clip-path=\"url(#p52c16c0025)\">\n    <image xlink:href=\"data:image/png;base64,\niVBORw0KGgoAAAANSUhEUgAAAGYAAABmCAYAAAA53+RiAAACeElEQVR4nO3cva4xURiG4TWfn4aCSBQOQ6GjE3EIGscgOmoVR6B0BipRqHSOQk2ikPhJhNjFbr93SdbsFU9xX+0bsyb7zkpmZg/J+/1+O8j59+0TwP8RRhRhRBFGFGFEEUYUYUQRRhRhRBFGFGFEEUYUYUQRRlQ21oGn06k5ezweUdYcDAbmrFgsRlkzFnaMKMKIIowowogijCjCiErSvCVTKpXM2fl8DjpmpVLxzk+nU9BxP9lut+as2WxGWdOHHSOKMKIII4owoggjijCiUj1d9l0Sq72rPplMvPNWq2XOyuWyOTsej+Ysmw3/87JjRBFGFGFEEUYUYUQRRlSqp8uZTMacvV6v0MN+xfP5NGe5XM6cdbtdc7ZarYLPhx0jijCiCCOKMKIII4owoggjKtVjf9+9iu++oNfrmbPRaORds16vfz6xAPf7PehztVrtj8/kFztGFGFEEUYUYUQRRhRhRKV67O9zu93MWaFQiLFkNNVq1ZwdDocoa7JjRBFGFGFEEUYUYUQRRlS0y+VQvqfSzjk3m83M2Xg8Dl53sViYs36/H3zcUOwYUYQRRRhRhBFFGFGEEUUYUdHuY3xv0Phm+Xw+xum4drvtnW82G3N2uVzMWax/YbBjRBFGFGFEEUYUYUQRRlS0y+Xr9WrOfL8a7vvCrXPOzedzc+Z7PO/7gqtzziVJYs4ajYY52+123uOGYseIIowowogijCjCiCKMqK+8JbNcLs3ZcDj0fna/3//x2Xy2Xq/NWafTibImO0YUYUQRRhRhRBFGFGFEyb1Ujl/sGFGEEUUYUYQRRRhRhBFFGFGEEUUYUYQRRRhRhBFFGFGEEfUDEzuA49sF+DQAAAAASUVORK5CYII=\" id=\"image0afe2a872c\" transform=\"scale(1 -1)translate(0 -73.44)\" x=\"184.447059\" y=\"-108.026829\" width=\"73.44\" height=\"73.44\"/>\n   </g>\n   <g id=\"matplotlib.axis_11\"/>\n   <g id=\"matplotlib.axis_12\"/>\n   <g id=\"patch_28\">\n    <path d=\"M 184.447059 181.466829 \nL 184.447059 108.090358 \n\" style=\"fill: none; stroke: #bcbcbc; stroke-width: 0.8; stroke-linejoin: miter; stroke-linecap: square\"/>\n   </g>\n   <g id=\"patch_29\">\n    <path d=\"M 257.823529 181.466829 \nL 257.823529 108.090358 \n\" style=\"fill: none; stroke: #bcbcbc; stroke-width: 0.8; stroke-linejoin: miter; stroke-linecap: square\"/>\n   </g>\n   <g id=\"patch_30\">\n    <path d=\"M 184.447059 181.466829 \nL 257.823529 181.466829 \n\" style=\"fill: none; stroke: #bcbcbc; stroke-width: 0.8; stroke-linejoin: miter; stroke-linecap: square\"/>\n   </g>\n   <g id=\"patch_31\">\n    <path d=\"M 184.447059 108.090358 \nL 257.823529 108.090358 \n\" style=\"fill: none; stroke: #bcbcbc; stroke-width: 0.8; stroke-linejoin: miter; stroke-linecap: square\"/>\n   </g>\n   <g id=\"text_6\">\n    <!-- label: 3 -->\n    <g transform=\"translate(204.442403 102.090358)scale(0.09 -0.09)\">\n     <defs>\n      <path id=\"DejaVuSans-33\" d=\"M 2597 2516 \nQ 3050 2419 3304 2112 \nQ 3559 1806 3559 1356 \nQ 3559 666 3084 287 \nQ 2609 -91 1734 -91 \nQ 1441 -91 1130 -33 \nQ 819 25 488 141 \nL 488 750 \nQ 750 597 1062 519 \nQ 1375 441 1716 441 \nQ 2309 441 2620 675 \nQ 2931 909 2931 1356 \nQ 2931 1769 2642 2001 \nQ 2353 2234 1838 2234 \nL 1294 2234 \nL 1294 2753 \nL 1863 2753 \nQ 2328 2753 2575 2939 \nQ 2822 3125 2822 3475 \nQ 2822 3834 2567 4026 \nQ 2313 4219 1838 4219 \nQ 1578 4219 1281 4162 \nQ 984 4106 628 3988 \nL 628 4550 \nQ 988 4650 1302 4700 \nQ 1616 4750 1894 4750 \nQ 2613 4750 3031 4423 \nQ 3450 4097 3450 3541 \nQ 3450 3153 3228 2886 \nQ 3006 2619 2597 2516 \nz\n\" transform=\"scale(0.015625)\"/>\n     </defs>\n     <use xlink:href=\"#DejaVuSans-6c\"/>\n     <use xlink:href=\"#DejaVuSans-61\" x=\"27.783203\"/>\n     <use xlink:href=\"#DejaVuSans-62\" x=\"89.0625\"/>\n     <use xlink:href=\"#DejaVuSans-65\" x=\"152.539062\"/>\n     <use xlink:href=\"#DejaVuSans-6c\" x=\"214.0625\"/>\n     <use xlink:href=\"#DejaVuSans-3a\" x=\"241.845703\"/>\n     <use xlink:href=\"#DejaVuSans-20\" x=\"275.537109\"/>\n     <use xlink:href=\"#DejaVuSans-33\" x=\"307.324219\"/>\n    </g>\n   </g>\n  </g>\n  <g id=\"axes_7\">\n   <g id=\"patch_32\">\n    <path d=\"M 7.2 269.518594 \nL 80.576471 269.518594 \nL 80.576471 196.142123 \nL 7.2 196.142123 \nz\n\" style=\"fill: #eeeeee\"/>\n   </g>\n   <g clip-path=\"url(#p230a23ee23)\">\n    <image xlink:href=\"data:image/png;base64,\niVBORw0KGgoAAAANSUhEUgAAAGYAAABmCAYAAAA53+RiAAACRklEQVR4nO3cMYoiQRhA4Zp1DYVBBAUjD2CiYGgi3sDcA5h4BFOv4jW8gKF4ABEcQTAxUNwL7F8urTu+wfelP9Ndw6OgnSn743a73ZJwfr16Afo7w0AZBsowUIaBMgyUYaAMA2UYKMNAGQbKMFCGgTIM1O9XL+C7lEql7Px6vX7TSv6NOwbKMFCGgTIMlGGgDAP18S6nZCaTSXbe6/XC2Xg8fvZy7nLHQBkGyjBQhoEyDJRhoN7mcflyuWTn9Xo9nB0Oh2cv5y53DJRhoAwDZRgow0AZBuqhwxjr9TqcdbvdcHY+nwvfs9VqhbP5fB7OhsNh9rq5Ne12u3DWaDSy1y3KHQNlGCjDQBkGyjBQhoEyDNRDn2MGg0E4Wy6X4azT6RS+53a7DWebzSacjUaj7HVrtVo4azab4Wy1WoWzdrudvWeOOwbKMFCGgTIMlGGgDAP10CmZ0+kUzj4/P8NZ7tRJ7udeJff9zdy/C8rlcuF7umOgDANlGCjDQBkGyjBQD/11uVKphLPj8RjOco/EtFeHpJRStVoNZ488Eue4Y6AMA2UYKMNAGQbKMFCGgfpvr17MfcbJfUsgd1olpZS+vr4Kr6mo/X4fzmazWaHZPe4YKMNAGQbKMFCGgTIMFO5dMrlD4ymlNJ1Ow9lisXjyal7HHQNlGCjDQBkGyjBQhoHCPS7fk/tuZ7/fD2c/7Nd0x1AZBsowUIaBMgyUYaB+3OPyu3DHQBkGyjBQhoEyDJRhoAwDZRgow0AZBsowUIaBMgyUYaD+AB/9a60NcizsAAAAAElFTkSuQmCC\" id=\"imagecbdb406959\" transform=\"scale(1 -1)translate(0 -73.44)\" x=\"7.2\" y=\"-196.078594\" width=\"73.44\" height=\"73.44\"/>\n   </g>\n   <g id=\"matplotlib.axis_13\"/>\n   <g id=\"matplotlib.axis_14\"/>\n   <g id=\"patch_33\">\n    <path d=\"M 7.2 269.518594 \nL 7.2 196.142123 \n\" style=\"fill: none; stroke: #bcbcbc; stroke-width: 0.8; stroke-linejoin: miter; stroke-linecap: square\"/>\n   </g>\n   <g id=\"patch_34\">\n    <path d=\"M 80.576471 269.518594 \nL 80.576471 196.142123 \n\" style=\"fill: none; stroke: #bcbcbc; stroke-width: 0.8; stroke-linejoin: miter; stroke-linecap: square\"/>\n   </g>\n   <g id=\"patch_35\">\n    <path d=\"M 7.2 269.518594 \nL 80.576471 269.518594 \n\" style=\"fill: none; stroke: #bcbcbc; stroke-width: 0.8; stroke-linejoin: miter; stroke-linecap: square\"/>\n   </g>\n   <g id=\"patch_36\">\n    <path d=\"M 7.2 196.142123 \nL 80.576471 196.142123 \n\" style=\"fill: none; stroke: #bcbcbc; stroke-width: 0.8; stroke-linejoin: miter; stroke-linecap: square\"/>\n   </g>\n   <g id=\"text_7\">\n    <!-- label: 4 -->\n    <g transform=\"translate(27.195345 190.142123)scale(0.09 -0.09)\">\n     <defs>\n      <path id=\"DejaVuSans-34\" d=\"M 2419 4116 \nL 825 1625 \nL 2419 1625 \nL 2419 4116 \nz\nM 2253 4666 \nL 3047 4666 \nL 3047 1625 \nL 3713 1625 \nL 3713 1100 \nL 3047 1100 \nL 3047 0 \nL 2419 0 \nL 2419 1100 \nL 313 1100 \nL 313 1709 \nL 2253 4666 \nz\n\" transform=\"scale(0.015625)\"/>\n     </defs>\n     <use xlink:href=\"#DejaVuSans-6c\"/>\n     <use xlink:href=\"#DejaVuSans-61\" x=\"27.783203\"/>\n     <use xlink:href=\"#DejaVuSans-62\" x=\"89.0625\"/>\n     <use xlink:href=\"#DejaVuSans-65\" x=\"152.539062\"/>\n     <use xlink:href=\"#DejaVuSans-6c\" x=\"214.0625\"/>\n     <use xlink:href=\"#DejaVuSans-3a\" x=\"241.845703\"/>\n     <use xlink:href=\"#DejaVuSans-20\" x=\"275.537109\"/>\n     <use xlink:href=\"#DejaVuSans-34\" x=\"307.324219\"/>\n    </g>\n   </g>\n  </g>\n  <g id=\"axes_8\">\n   <g id=\"patch_37\">\n    <path d=\"M 95.823529 269.518594 \nL 169.2 269.518594 \nL 169.2 196.142123 \nL 95.823529 196.142123 \nz\n\" style=\"fill: #eeeeee\"/>\n   </g>\n   <g clip-path=\"url(#p89c44a8f9c)\">\n    <image xlink:href=\"data:image/png;base64,\niVBORw0KGgoAAAANSUhEUgAAAGYAAABmCAYAAAA53+RiAAAB50lEQVR4nO3bMY6CQBhAYdCNd7DyBoSLkFjZeQxre29BzQk8Ap1XMKHiCBJle7MzJAaWx+772j+aSd7+CZLZtO/7PhHOau4D6GeGgTIMlGGgDANlGCjDQBkGyjBQhoEyDJRhoAwDZRior7kP8G69XkfnTdMEZ9vtduzjzMaNgTIMlGGgDANlGCjDQOEel4fUdR2c7ff73zvIxNwYKMNAGQbKMFCGgTIMVEq7VF4URXR+vV6Ds8fjMfZxZuPGQBkGyjBQhoEyDJRhoHCPy23bRuexCxfP53Ps48zGjYEyDJRhoAwDZRgow0AZBgr3O2bIahX+W7rdbsFZlmUTnGY6bgyUYaAMA2UYKMNAGQZqcZfKz+dzcJbneXD2er0mOM103Bgow0AZBsowUIaBMgzU4t4ud10XnG02m+DscrlEv/d0On18pim4MVCGgTIMlGGgDANlGCjDQC3ud0xM7AZNmqbRz9L+U8CNgTIMlGGgDANlGCjDQC3ulkxMVVXB2eFwiH72fr8HZ7vd7uMzfcqNgTIMlGGgDANlGCjDQP2pt8sxsTfPSZIkZVkGZ8fjcezjDHJjoAwDZRgow0AZBsowUP/mcXlp3Bgow0AZBsowUIaBMgyUYaAMA2UYKMNAGQbKMFCGgTIM1Dd5yU0CwCLCGgAAAABJRU5ErkJggg==\" id=\"image3c4b3e8172\" transform=\"scale(1 -1)translate(0 -73.44)\" x=\"95.823529\" y=\"-196.078594\" width=\"73.44\" height=\"73.44\"/>\n   </g>\n   <g id=\"matplotlib.axis_15\"/>\n   <g id=\"matplotlib.axis_16\"/>\n   <g id=\"patch_38\">\n    <path d=\"M 95.823529 269.518594 \nL 95.823529 196.142123 \n\" style=\"fill: none; stroke: #bcbcbc; stroke-width: 0.8; stroke-linejoin: miter; stroke-linecap: square\"/>\n   </g>\n   <g id=\"patch_39\">\n    <path d=\"M 169.2 269.518594 \nL 169.2 196.142123 \n\" style=\"fill: none; stroke: #bcbcbc; stroke-width: 0.8; stroke-linejoin: miter; stroke-linecap: square\"/>\n   </g>\n   <g id=\"patch_40\">\n    <path d=\"M 95.823529 269.518594 \nL 169.2 269.518594 \n\" style=\"fill: none; stroke: #bcbcbc; stroke-width: 0.8; stroke-linejoin: miter; stroke-linecap: square\"/>\n   </g>\n   <g id=\"patch_41\">\n    <path d=\"M 95.823529 196.142123 \nL 169.2 196.142123 \n\" style=\"fill: none; stroke: #bcbcbc; stroke-width: 0.8; stroke-linejoin: miter; stroke-linecap: square\"/>\n   </g>\n   <g id=\"text_8\">\n    <!-- label: 1 -->\n    <g transform=\"translate(115.818874 190.142123)scale(0.09 -0.09)\">\n     <use xlink:href=\"#DejaVuSans-6c\"/>\n     <use xlink:href=\"#DejaVuSans-61\" x=\"27.783203\"/>\n     <use xlink:href=\"#DejaVuSans-62\" x=\"89.0625\"/>\n     <use xlink:href=\"#DejaVuSans-65\" x=\"152.539062\"/>\n     <use xlink:href=\"#DejaVuSans-6c\" x=\"214.0625\"/>\n     <use xlink:href=\"#DejaVuSans-3a\" x=\"241.845703\"/>\n     <use xlink:href=\"#DejaVuSans-20\" x=\"275.537109\"/>\n     <use xlink:href=\"#DejaVuSans-31\" x=\"307.324219\"/>\n    </g>\n   </g>\n  </g>\n  <g id=\"axes_9\">\n   <g id=\"patch_42\">\n    <path d=\"M 184.447059 269.518594 \nL 257.823529 269.518594 \nL 257.823529 196.142123 \nL 184.447059 196.142123 \nz\n\" style=\"fill: #eeeeee\"/>\n   </g>\n   <g clip-path=\"url(#pf36caf8b55)\">\n    <image xlink:href=\"data:image/png;base64,\niVBORw0KGgoAAAANSUhEUgAAAGYAAABmCAYAAAA53+RiAAACT0lEQVR4nO3aLaqqQRyAcb/AKuJC7Cb3YDRpMRi1GSxiUjScoLgAowtwA4JbcAFWP5roCRduujMH5r0en/D86p8z7xweBkaY/Ov1euWEU/j0BvRvhoEyDJRhoAwDZRgow0AZBsowUIaBMgyUYaAMA2UYKMNAGQbKMFCGgTIMlGGgDANVetfCjUYjODscDm/5ZuzBT7/fj/7tcrn839vJxBMDZRgow0AZBsowUIaBymd5VJ7P54OzQuH3mz+fz+Asy372+31w1mw2k9eN8cRAGQbKMFCGgTIMlGGgMl2Xi8VieOHIVfp+vwdn5XI5+s3Ylfh2uwVnk8kkuu5sNovOQ9brdXDW6XSS1szlPDFYhoEyDJRhoAwDZRgow0B95HfM8XgMzur1eup23qZUSntM9Hg8kr/piYEyDJRhoAwDZRgow0Blui5vt9vgrN1uJ62Z5Yr5Ll6X9ZdhoAwDZRgow0AZBirTdTmmWq0GZ5fLJTgbjUbRdcfjceqWohaLRXA2GAyCs9irnthroJ94YqAMA2UYKMNAGQbKMFCGgXrb75jr9RqcVSqV5HW/vr6Cs16vF5zN5/PousPhMGk/5/M5OKvVaklr5nKeGCzDQBkGyjBQhoEyDNTbrssxu90uOGu1Wsnrxv6V2CP3n6xWq+Cs2+0mrxvjiYEyDJRhoAwDZRgow0B95Locs9lsovPpdBqcZbkun06n+MZ+mScGyjBQhoEyDJRhoAwDhbsu6w9PDJRhoAwDZRgow0AZBsowUIaBMgyUYaAMA2UYKMNAGQbqG9Cyf53e582pAAAAAElFTkSuQmCC\" id=\"image0292fa3710\" transform=\"scale(1 -1)translate(0 -73.44)\" x=\"184.447059\" y=\"-196.078594\" width=\"73.44\" height=\"73.44\"/>\n   </g>\n   <g id=\"matplotlib.axis_17\"/>\n   <g id=\"matplotlib.axis_18\"/>\n   <g id=\"patch_43\">\n    <path d=\"M 184.447059 269.518594 \nL 184.447059 196.142123 \n\" style=\"fill: none; stroke: #bcbcbc; stroke-width: 0.8; stroke-linejoin: miter; stroke-linecap: square\"/>\n   </g>\n   <g id=\"patch_44\">\n    <path d=\"M 257.823529 269.518594 \nL 257.823529 196.142123 \n\" style=\"fill: none; stroke: #bcbcbc; stroke-width: 0.8; stroke-linejoin: miter; stroke-linecap: square\"/>\n   </g>\n   <g id=\"patch_45\">\n    <path d=\"M 184.447059 269.518594 \nL 257.823529 269.518594 \n\" style=\"fill: none; stroke: #bcbcbc; stroke-width: 0.8; stroke-linejoin: miter; stroke-linecap: square\"/>\n   </g>\n   <g id=\"patch_46\">\n    <path d=\"M 184.447059 196.142123 \nL 257.823529 196.142123 \n\" style=\"fill: none; stroke: #bcbcbc; stroke-width: 0.8; stroke-linejoin: miter; stroke-linecap: square\"/>\n   </g>\n   <g id=\"text_9\">\n    <!-- label: 0 -->\n    <g transform=\"translate(204.442403 190.142123)scale(0.09 -0.09)\">\n     <defs>\n      <path id=\"DejaVuSans-30\" d=\"M 2034 4250 \nQ 1547 4250 1301 3770 \nQ 1056 3291 1056 2328 \nQ 1056 1369 1301 889 \nQ 1547 409 2034 409 \nQ 2525 409 2770 889 \nQ 3016 1369 3016 2328 \nQ 3016 3291 2770 3770 \nQ 2525 4250 2034 4250 \nz\nM 2034 4750 \nQ 2819 4750 3233 4129 \nQ 3647 3509 3647 2328 \nQ 3647 1150 3233 529 \nQ 2819 -91 2034 -91 \nQ 1250 -91 836 529 \nQ 422 1150 422 2328 \nQ 422 3509 836 4129 \nQ 1250 4750 2034 4750 \nz\n\" transform=\"scale(0.015625)\"/>\n     </defs>\n     <use xlink:href=\"#DejaVuSans-6c\"/>\n     <use xlink:href=\"#DejaVuSans-61\" x=\"27.783203\"/>\n     <use xlink:href=\"#DejaVuSans-62\" x=\"89.0625\"/>\n     <use xlink:href=\"#DejaVuSans-65\" x=\"152.539062\"/>\n     <use xlink:href=\"#DejaVuSans-6c\" x=\"214.0625\"/>\n     <use xlink:href=\"#DejaVuSans-3a\" x=\"241.845703\"/>\n     <use xlink:href=\"#DejaVuSans-20\" x=\"275.537109\"/>\n     <use xlink:href=\"#DejaVuSans-30\" x=\"307.324219\"/>\n    </g>\n   </g>\n  </g>\n </g>\n <defs>\n  <clipPath id=\"pa171c34971\">\n   <rect x=\"7.2\" y=\"20.038594\" width=\"73.376471\" height=\"73.376471\"/>\n  </clipPath>\n  <clipPath id=\"p3471456b4e\">\n   <rect x=\"95.823529\" y=\"20.038594\" width=\"73.376471\" height=\"73.376471\"/>\n  </clipPath>\n  <clipPath id=\"p6104ff1cce\">\n   <rect x=\"184.447059\" y=\"20.038594\" width=\"73.376471\" height=\"73.376471\"/>\n  </clipPath>\n  <clipPath id=\"pd0ad995f1a\">\n   <rect x=\"7.2\" y=\"108.090358\" width=\"73.376471\" height=\"73.376471\"/>\n  </clipPath>\n  <clipPath id=\"pfeab623f13\">\n   <rect x=\"95.823529\" y=\"108.090358\" width=\"73.376471\" height=\"73.376471\"/>\n  </clipPath>\n  <clipPath id=\"p52c16c0025\">\n   <rect x=\"184.447059\" y=\"108.090358\" width=\"73.376471\" height=\"73.376471\"/>\n  </clipPath>\n  <clipPath id=\"p230a23ee23\">\n   <rect x=\"7.2\" y=\"196.142123\" width=\"73.376471\" height=\"73.376471\"/>\n  </clipPath>\n  <clipPath id=\"p89c44a8f9c\">\n   <rect x=\"95.823529\" y=\"196.142123\" width=\"73.376471\" height=\"73.376471\"/>\n  </clipPath>\n  <clipPath id=\"pf36caf8b55\">\n   <rect x=\"184.447059\" y=\"196.142123\" width=\"73.376471\" height=\"73.376471\"/>\n  </clipPath>\n </defs>\n</svg>\n",
      "text/plain": [
       "<Figure size 450x450 with 9 Axes>"
      ]
     },
     "metadata": {},
     "output_type": "display_data"
    }
   ],
   "source": [
    "set_figsize((4.5,4.5))\n",
    "\n",
    "show_img_grid(\n",
    "    [train_images_scaled[i].reshape(img_shape) for i in range(9)],\n",
    "    [f\"label: {jnp.argmax(train_labels[i])}\" for i in range(9)]\n",
    ")"
   ]
  },
  {
   "cell_type": "markdown",
   "id": "76114d82",
   "metadata": {},
   "source": [
    "# Feature Map"
   ]
  },
  {
   "cell_type": "code",
   "execution_count": 21,
   "id": "725a1acd",
   "metadata": {},
   "outputs": [],
   "source": [
    "def feature_map(x: Scalar) -> Vector:\n",
    "    \"\"\"Definine a feature map per pixel\"\"\"\n",
    "    return jnp.asarray([\n",
    "        jnp.cos(0.5 * jnp.pi * x),\n",
    "        jnp.sin(0.5 * jnp.pi * x)\n",
    "    ])"
   ]
  },
  {
   "cell_type": "code",
   "execution_count": 22,
   "id": "b7474f74",
   "metadata": {},
   "outputs": [],
   "source": [
    "# applying the feature map in vectorized form\n",
    "# exchanging axes for convenience (leading axes have the largest dimensions)\n",
    "train_samples = jax.vmap(feature_map)(train_images_scaled).transpose(0,2,1)  \n",
    "test_samples = jax.vmap(feature_map)(test_images_scaled).transpose(0,2,1)"
   ]
  },
  {
   "cell_type": "code",
   "execution_count": 23,
   "id": "8ec309fc",
   "metadata": {},
   "outputs": [
    {
     "name": "stdout",
     "output_type": "stream",
     "text": [
      "Train data shape: (20000, 196, 2) | Test data shape: (10000, 196, 2)\n"
     ]
    }
   ],
   "source": [
    "print(f'Train data shape: {train_samples.shape} | Test data shape: {test_samples.shape}')"
   ]
  },
  {
   "cell_type": "code",
   "execution_count": 24,
   "id": "2e30c78d",
   "metadata": {},
   "outputs": [
    {
     "data": {
      "image/svg+xml": "<?xml version=\"1.0\" encoding=\"utf-8\" standalone=\"no\"?>\n<!DOCTYPE svg PUBLIC \"-//W3C//DTD SVG 1.1//EN\"\n  \"http://www.w3.org/Graphics/SVG/1.1/DTD/svg11.dtd\">\n<svg xmlns:xlink=\"http://www.w3.org/1999/xlink\" width=\"186.872727pt\" height=\"199.102594pt\" viewBox=\"0 0 186.872727 199.102594\" xmlns=\"http://www.w3.org/2000/svg\" version=\"1.1\">\n <metadata>\n  <rdf:RDF xmlns:dc=\"http://purl.org/dc/elements/1.1/\" xmlns:cc=\"http://creativecommons.org/ns#\" xmlns:rdf=\"http://www.w3.org/1999/02/22-rdf-syntax-ns#\">\n   <cc:Work>\n    <dc:type rdf:resource=\"http://purl.org/dc/dcmitype/StillImage\"/>\n    <dc:date>2022-05-08T16:14:39.342771</dc:date>\n    <dc:format>image/svg+xml</dc:format>\n    <dc:creator>\n     <cc:Agent>\n      <dc:title>Matplotlib v3.5.2, https://matplotlib.org/</dc:title>\n     </cc:Agent>\n    </dc:creator>\n   </cc:Work>\n  </rdf:RDF>\n </metadata>\n <defs>\n  <style type=\"text/css\">*{stroke-linejoin: round; stroke-linecap: butt}</style>\n </defs>\n <g id=\"figure_1\">\n  <g id=\"patch_1\">\n   <path d=\"M 0 199.102594 \nL 186.872727 199.102594 \nL 186.872727 0 \nL 0 0 \nz\n\" style=\"fill: #ffffff\"/>\n  </g>\n  <g id=\"axes_1\">\n   <g id=\"patch_2\">\n    <path d=\"M 7.2 98.158594 \nL 85.32 98.158594 \nL 85.32 20.038594 \nL 7.2 20.038594 \nz\n\" style=\"fill: #eeeeee\"/>\n   </g>\n   <g clip-path=\"url(#p70b9633d1a)\">\n    <image xlink:href=\"data:image/png;base64,\niVBORw0KGgoAAAANSUhEUgAAAG0AAABtCAYAAACr+O9WAAAB4UlEQVR4nO3dMYrCQBhA4cmybcDGKq3gBXK+XC0HiKWWtoJgITlAshfY/GFxNPOW97U/gYHHgMOEWKWU5iSUr60XoL8zGpDRgIwGZDQgowEZDeh76wVEmqYJ55fLZXG22+0yr6Yc7jQgowEZDchoQEYDMhqQ0YCqVPB9Wl3X4Xwcx8VZVVW5l1MMdxqQ0YCMBmQ0IKMBGQ2o6J/8a+Z5een7/T589vF45F7Ox7jTgIwGZDQgowEZDchoQEYDQp/Tns/n4ux+v4fPHo/HzKv5HHcakNGAjAZkNCCjARkNyGhA6HNaJLprS4n9ip07DchoQEYDMhqQ0YCMBmQ0oKI/SfFOa+e0tXPeltxpQEYDMhqQ0YCMBmQ0IKMB/dtzWtd14XwYhnDetm3O5WTlTgMyGpDRgIwGZDQgowFt+grdO69H1r5g1/d9OPcnv7IyGpDRgIwGZDQgowEZDWjTq5lpmsL54XAI59frdXF2Op3CZ8/nczgvmTsNyGhARgMyGpDRgIwGZDSgoj9J8cp92u12C+dr/+xbMncakNGAjAZkNCCjARkNyGhARZ/T9Dt3GpDRgIwGZDQgowEZDchoQEYDMhqQ0YCMBmQ0IKMBGQ3IaEBGAzIakNGAjAZkNCCjARkN6Afd6zwnb8bfxwAAAABJRU5ErkJggg==\" id=\"imagebdf0fa5d54\" transform=\"scale(1 -1)translate(0 -78.48)\" x=\"7.2\" y=\"-19.678594\" width=\"78.48\" height=\"78.48\"/>\n   </g>\n   <g id=\"matplotlib.axis_1\"/>\n   <g id=\"matplotlib.axis_2\"/>\n   <g id=\"patch_3\">\n    <path d=\"M 7.2 98.158594 \nL 7.2 20.038594 \n\" style=\"fill: none; stroke: #bcbcbc; stroke-width: 0.8; stroke-linejoin: miter; stroke-linecap: square\"/>\n   </g>\n   <g id=\"patch_4\">\n    <path d=\"M 85.32 98.158594 \nL 85.32 20.038594 \n\" style=\"fill: none; stroke: #bcbcbc; stroke-width: 0.8; stroke-linejoin: miter; stroke-linecap: square\"/>\n   </g>\n   <g id=\"patch_5\">\n    <path d=\"M 7.2 98.158594 \nL 85.32 98.158594 \n\" style=\"fill: none; stroke: #bcbcbc; stroke-width: 0.8; stroke-linejoin: miter; stroke-linecap: square\"/>\n   </g>\n   <g id=\"patch_6\">\n    <path d=\"M 7.2 20.038594 \nL 85.32 20.038594 \n\" style=\"fill: none; stroke: #bcbcbc; stroke-width: 0.8; stroke-linejoin: miter; stroke-linecap: square\"/>\n   </g>\n   <g id=\"text_1\">\n    <!-- label: 7 -->\n    <g transform=\"translate(29.567109 14.038594)scale(0.09 -0.09)\">\n     <defs>\n      <path id=\"DejaVuSans-6c\" d=\"M 603 4863 \nL 1178 4863 \nL 1178 0 \nL 603 0 \nL 603 4863 \nz\n\" transform=\"scale(0.015625)\"/>\n      <path id=\"DejaVuSans-61\" d=\"M 2194 1759 \nQ 1497 1759 1228 1600 \nQ 959 1441 959 1056 \nQ 959 750 1161 570 \nQ 1363 391 1709 391 \nQ 2188 391 2477 730 \nQ 2766 1069 2766 1631 \nL 2766 1759 \nL 2194 1759 \nz\nM 3341 1997 \nL 3341 0 \nL 2766 0 \nL 2766 531 \nQ 2569 213 2275 61 \nQ 1981 -91 1556 -91 \nQ 1019 -91 701 211 \nQ 384 513 384 1019 \nQ 384 1609 779 1909 \nQ 1175 2209 1959 2209 \nL 2766 2209 \nL 2766 2266 \nQ 2766 2663 2505 2880 \nQ 2244 3097 1772 3097 \nQ 1472 3097 1187 3025 \nQ 903 2953 641 2809 \nL 641 3341 \nQ 956 3463 1253 3523 \nQ 1550 3584 1831 3584 \nQ 2591 3584 2966 3190 \nQ 3341 2797 3341 1997 \nz\n\" transform=\"scale(0.015625)\"/>\n      <path id=\"DejaVuSans-62\" d=\"M 3116 1747 \nQ 3116 2381 2855 2742 \nQ 2594 3103 2138 3103 \nQ 1681 3103 1420 2742 \nQ 1159 2381 1159 1747 \nQ 1159 1113 1420 752 \nQ 1681 391 2138 391 \nQ 2594 391 2855 752 \nQ 3116 1113 3116 1747 \nz\nM 1159 2969 \nQ 1341 3281 1617 3432 \nQ 1894 3584 2278 3584 \nQ 2916 3584 3314 3078 \nQ 3713 2572 3713 1747 \nQ 3713 922 3314 415 \nQ 2916 -91 2278 -91 \nQ 1894 -91 1617 61 \nQ 1341 213 1159 525 \nL 1159 0 \nL 581 0 \nL 581 4863 \nL 1159 4863 \nL 1159 2969 \nz\n\" transform=\"scale(0.015625)\"/>\n      <path id=\"DejaVuSans-65\" d=\"M 3597 1894 \nL 3597 1613 \nL 953 1613 \nQ 991 1019 1311 708 \nQ 1631 397 2203 397 \nQ 2534 397 2845 478 \nQ 3156 559 3463 722 \nL 3463 178 \nQ 3153 47 2828 -22 \nQ 2503 -91 2169 -91 \nQ 1331 -91 842 396 \nQ 353 884 353 1716 \nQ 353 2575 817 3079 \nQ 1281 3584 2069 3584 \nQ 2775 3584 3186 3129 \nQ 3597 2675 3597 1894 \nz\nM 3022 2063 \nQ 3016 2534 2758 2815 \nQ 2500 3097 2075 3097 \nQ 1594 3097 1305 2825 \nQ 1016 2553 972 2059 \nL 3022 2063 \nz\n\" transform=\"scale(0.015625)\"/>\n      <path id=\"DejaVuSans-3a\" d=\"M 750 794 \nL 1409 794 \nL 1409 0 \nL 750 0 \nL 750 794 \nz\nM 750 3309 \nL 1409 3309 \nL 1409 2516 \nL 750 2516 \nL 750 3309 \nz\n\" transform=\"scale(0.015625)\"/>\n      <path id=\"DejaVuSans-20\" transform=\"scale(0.015625)\"/>\n      <path id=\"DejaVuSans-37\" d=\"M 525 4666 \nL 3525 4666 \nL 3525 4397 \nL 1831 0 \nL 1172 0 \nL 2766 4134 \nL 525 4134 \nL 525 4666 \nz\n\" transform=\"scale(0.015625)\"/>\n     </defs>\n     <use xlink:href=\"#DejaVuSans-6c\"/>\n     <use xlink:href=\"#DejaVuSans-61\" x=\"27.783203\"/>\n     <use xlink:href=\"#DejaVuSans-62\" x=\"89.0625\"/>\n     <use xlink:href=\"#DejaVuSans-65\" x=\"152.539062\"/>\n     <use xlink:href=\"#DejaVuSans-6c\" x=\"214.0625\"/>\n     <use xlink:href=\"#DejaVuSans-3a\" x=\"241.845703\"/>\n     <use xlink:href=\"#DejaVuSans-20\" x=\"275.537109\"/>\n     <use xlink:href=\"#DejaVuSans-37\" x=\"307.324219\"/>\n    </g>\n   </g>\n  </g>\n  <g id=\"axes_2\">\n   <g id=\"patch_7\">\n    <path d=\"M 101.552727 98.158594 \nL 179.672727 98.158594 \nL 179.672727 20.038594 \nL 101.552727 20.038594 \nz\n\" style=\"fill: #eeeeee\"/>\n   </g>\n   <g clip-path=\"url(#p59b6b42730)\">\n    <image xlink:href=\"data:image/png;base64,\niVBORw0KGgoAAAANSUhEUgAAAG0AAABtCAYAAACr+O9WAAAB10lEQVR4nO3csc2CQBiA4eOPCa1b2FK4gWEXRnAFS/axZAAGsbCUUOAEfOaXE3zN+7RfiGfeXHHhtEgpTUkof1svQP9nNCCjARkNyGhARgMyGpDRgIwGZDQgowEZDchoQEYDMhrQbusFLHG5XGZnp9MpfPZ4POZezmrcaUBGAzIakNGAjAZkNKAiga/Q7XbzJ5ZxHMNni6LIvZzVuNOAjAZkNCCjARkNyGhARgNCn9Mi0xR/Lc9pWpXRgIwGZDQgowEZDchoQOgrdEvs9/twfr/fV1nHO9xpQEYDMhqQ0YCMBmQ0IKMBffX7tMfjEc7LsvzYZw/DEM7btg3n5/N5dvbqXd8r7jQgowEZDchoQEYDMhqQ0YC++py2xKuzUF3X4fx6veZcTlbuNCCjARkNyGhARgMyGpDRgIwGZDQgowEZDchoQEYDMhrQ4p86NU0zO4v+zTul+JpZSindbrdwfjgcwnmk67q3n92aOw3IaEBGAzIakNGAjAZkNKDFV+iqqsqzksz6vt96CR/jTgMyGpDRgIwGZDQgowEZDehnf+r0y9xpQEYDMhqQ0YCMBmQ0IKMBGQ3IaEBGAzIakNGAjAZkNCCjARkNyGhARgMyGpDRgIwGZDSgJyqXMpMdiWyiAAAAAElFTkSuQmCC\" id=\"image41036f184a\" transform=\"scale(1 -1)translate(0 -78.48)\" x=\"101.552727\" y=\"-19.678594\" width=\"78.48\" height=\"78.48\"/>\n   </g>\n   <g id=\"matplotlib.axis_3\"/>\n   <g id=\"matplotlib.axis_4\"/>\n   <g id=\"patch_8\">\n    <path d=\"M 101.552727 98.158594 \nL 101.552727 20.038594 \n\" style=\"fill: none; stroke: #bcbcbc; stroke-width: 0.8; stroke-linejoin: miter; stroke-linecap: square\"/>\n   </g>\n   <g id=\"patch_9\">\n    <path d=\"M 179.672727 98.158594 \nL 179.672727 20.038594 \n\" style=\"fill: none; stroke: #bcbcbc; stroke-width: 0.8; stroke-linejoin: miter; stroke-linecap: square\"/>\n   </g>\n   <g id=\"patch_10\">\n    <path d=\"M 101.552727 98.158594 \nL 179.672727 98.158594 \n\" style=\"fill: none; stroke: #bcbcbc; stroke-width: 0.8; stroke-linejoin: miter; stroke-linecap: square\"/>\n   </g>\n   <g id=\"patch_11\">\n    <path d=\"M 101.552727 20.038594 \nL 179.672727 20.038594 \n\" style=\"fill: none; stroke: #bcbcbc; stroke-width: 0.8; stroke-linejoin: miter; stroke-linecap: square\"/>\n   </g>\n   <g id=\"text_2\">\n    <!-- label: 7 -->\n    <g transform=\"translate(123.919837 14.038594)scale(0.09 -0.09)\">\n     <use xlink:href=\"#DejaVuSans-6c\"/>\n     <use xlink:href=\"#DejaVuSans-61\" x=\"27.783203\"/>\n     <use xlink:href=\"#DejaVuSans-62\" x=\"89.0625\"/>\n     <use xlink:href=\"#DejaVuSans-65\" x=\"152.539062\"/>\n     <use xlink:href=\"#DejaVuSans-6c\" x=\"214.0625\"/>\n     <use xlink:href=\"#DejaVuSans-3a\" x=\"241.845703\"/>\n     <use xlink:href=\"#DejaVuSans-20\" x=\"275.537109\"/>\n     <use xlink:href=\"#DejaVuSans-37\" x=\"307.324219\"/>\n    </g>\n   </g>\n  </g>\n  <g id=\"axes_3\">\n   <g id=\"patch_12\">\n    <path d=\"M 7.2 191.902594 \nL 85.32 191.902594 \nL 85.32 113.782594 \nL 7.2 113.782594 \nz\n\" style=\"fill: #eeeeee\"/>\n   </g>\n   <g clip-path=\"url(#p9f83c5cfa4)\">\n    <image xlink:href=\"data:image/png;base64,\niVBORw0KGgoAAAANSUhEUgAAAG0AAABtCAYAAACr+O9WAAAB7klEQVR4nO3cwYnCUBRA0WQMCG6EFBArEVzYghXYljWkhTSQMlKAbtyIZirIE4eY/+9wz/bh8IfLg/mYTDmO41gI5Sf1AfQ5owEZDchoQEYDMhqQ0YCq1AeItG0bzk+n0+Ts+XzOfZxsuGlARgMyGpDRgIwGZDQgowFlfU9rmiacv16vhU6SFzcNyGhARgMyGpDRgIwGVJIfoSvLcnLWdV342cPhMPNpluOmARkNyGhARgMyGpDRgIwGhL6nrVarydl6vQ4/e7/f5z7OYtw0IKMBGQ3IaEBGAzIakNGA0Pe0SPRdW1EUBfnXdtOAjAZkNCCjARkNyGhARgPK+lWnb7rdbuF8u90udJLPuWlARgMyGpDRgIwGZDQgowH923vafr8P57vdLpxfr9cZTzMvNw3IaEBGAzIakNGAjAaU9BG6b3490vd9OD8ej+HcP/k1K6MBGQ3IaEBGAzIakNGAkt7T3r2OdLlcwvn5fJ6cbTab8LN1XYfzYRjCeUpuGpDRgIwGZDQgowEZDchoQFn/S4p397hIVcVPBz4ejz//7NTcNCCjARkNyGhARgMyGpDRgLJ+1SnjK2RSbhqQ0YCMBmQ0IKMBGQ3IaEBGAzIakNGAjAZkNCCjARkNyGhARgMyGpDRgIwGZDQgowEZDegXTgFK9w/JX70AAAAASUVORK5CYII=\" id=\"imagee184d99e5c\" transform=\"scale(1 -1)translate(0 -78.48)\" x=\"7.2\" y=\"-113.422594\" width=\"78.48\" height=\"78.48\"/>\n   </g>\n   <g id=\"matplotlib.axis_5\"/>\n   <g id=\"matplotlib.axis_6\"/>\n   <g id=\"patch_13\">\n    <path d=\"M 7.2 191.902594 \nL 7.2 113.782594 \n\" style=\"fill: none; stroke: #bcbcbc; stroke-width: 0.8; stroke-linejoin: miter; stroke-linecap: square\"/>\n   </g>\n   <g id=\"patch_14\">\n    <path d=\"M 85.32 191.902594 \nL 85.32 113.782594 \n\" style=\"fill: none; stroke: #bcbcbc; stroke-width: 0.8; stroke-linejoin: miter; stroke-linecap: square\"/>\n   </g>\n   <g id=\"patch_15\">\n    <path d=\"M 7.2 191.902594 \nL 85.32 191.902594 \n\" style=\"fill: none; stroke: #bcbcbc; stroke-width: 0.8; stroke-linejoin: miter; stroke-linecap: square\"/>\n   </g>\n   <g id=\"patch_16\">\n    <path d=\"M 7.2 113.782594 \nL 85.32 113.782594 \n\" style=\"fill: none; stroke: #bcbcbc; stroke-width: 0.8; stroke-linejoin: miter; stroke-linecap: square\"/>\n   </g>\n   <g id=\"text_3\">\n    <!-- label: 7 -->\n    <g transform=\"translate(29.567109 107.782594)scale(0.09 -0.09)\">\n     <use xlink:href=\"#DejaVuSans-6c\"/>\n     <use xlink:href=\"#DejaVuSans-61\" x=\"27.783203\"/>\n     <use xlink:href=\"#DejaVuSans-62\" x=\"89.0625\"/>\n     <use xlink:href=\"#DejaVuSans-65\" x=\"152.539062\"/>\n     <use xlink:href=\"#DejaVuSans-6c\" x=\"214.0625\"/>\n     <use xlink:href=\"#DejaVuSans-3a\" x=\"241.845703\"/>\n     <use xlink:href=\"#DejaVuSans-20\" x=\"275.537109\"/>\n     <use xlink:href=\"#DejaVuSans-37\" x=\"307.324219\"/>\n    </g>\n   </g>\n  </g>\n  <g id=\"axes_4\">\n   <g id=\"patch_17\">\n    <path d=\"M 101.552727 191.902594 \nL 179.672727 191.902594 \nL 179.672727 113.782594 \nL 101.552727 113.782594 \nz\n\" style=\"fill: #eeeeee\"/>\n   </g>\n   <g clip-path=\"url(#ped2c5360ad)\">\n    <image xlink:href=\"data:image/png;base64,\niVBORw0KGgoAAAANSUhEUgAAAG0AAABtCAYAAACr+O9WAAAB3ElEQVR4nO3csa2CYBRA4ceLhRWNrbW9NLCGiTuwAFu4izMYN7CjsGUBGkreAo9rBBROcr72hvCbk1sQiEnf9/2PUH6XPoDeZzQgowEZDchoQEYDMhqQ0YCMBmQ0IKMBGQ3IaEBGAzIa0GbpA0yRZdng7Pl8hte2bTv3cb7GTQMyGpDRgIwGZDQgowEl5E/omqYZnO33+/Ba8M9204iMBmQ0IKMBGQ3IaEBGA0I/p0WSJAnnXdeF8+12O+dxZuWmARkNyGhARgMyGpDRgIwGhP6EborH4xHO8zz/0kne56YBGQ3IaEBGAzIakNGAjAa06vdpr96JLel4PIbz2+02OEvTdNK93TQgowEZDchoQEYDMhqQ0YBW/T5tyiPkq2e8qqrC+eVyGX3vT3PTgIwGZDQgowEZDchoQEYDMhqQ0YCMBmQ0IKMBGQ3IaECTX82cz+fB2fV6Da89nU7hfLfbhfO6rsN5pCzL0dcuzU0DMhqQ0YCMBmQ0IKMBGQ1o8nNaURSjZnM4HA6Ds/v9/tF7L8lNAzIakNGAjAZkNCCjARkNaNV/SaH/uWlARgMyGpDRgIwGZDQgowEZDchoQEYDMhqQ0YCMBmQ0IKMBGQ3IaEBGAzIakNGAjAZkNKA/6l472H9U9FcAAAAASUVORK5CYII=\" id=\"imagee3a851c363\" transform=\"scale(1 -1)translate(0 -78.48)\" x=\"101.552727\" y=\"-113.422594\" width=\"78.48\" height=\"78.48\"/>\n   </g>\n   <g id=\"matplotlib.axis_7\"/>\n   <g id=\"matplotlib.axis_8\"/>\n   <g id=\"patch_18\">\n    <path d=\"M 101.552727 191.902594 \nL 101.552727 113.782594 \n\" style=\"fill: none; stroke: #bcbcbc; stroke-width: 0.8; stroke-linejoin: miter; stroke-linecap: square\"/>\n   </g>\n   <g id=\"patch_19\">\n    <path d=\"M 179.672727 191.902594 \nL 179.672727 113.782594 \n\" style=\"fill: none; stroke: #bcbcbc; stroke-width: 0.8; stroke-linejoin: miter; stroke-linecap: square\"/>\n   </g>\n   <g id=\"patch_20\">\n    <path d=\"M 101.552727 191.902594 \nL 179.672727 191.902594 \n\" style=\"fill: none; stroke: #bcbcbc; stroke-width: 0.8; stroke-linejoin: miter; stroke-linecap: square\"/>\n   </g>\n   <g id=\"patch_21\">\n    <path d=\"M 101.552727 113.782594 \nL 179.672727 113.782594 \n\" style=\"fill: none; stroke: #bcbcbc; stroke-width: 0.8; stroke-linejoin: miter; stroke-linecap: square\"/>\n   </g>\n   <g id=\"text_4\">\n    <!-- label: 7 -->\n    <g transform=\"translate(123.919837 107.782594)scale(0.09 -0.09)\">\n     <use xlink:href=\"#DejaVuSans-6c\"/>\n     <use xlink:href=\"#DejaVuSans-61\" x=\"27.783203\"/>\n     <use xlink:href=\"#DejaVuSans-62\" x=\"89.0625\"/>\n     <use xlink:href=\"#DejaVuSans-65\" x=\"152.539062\"/>\n     <use xlink:href=\"#DejaVuSans-6c\" x=\"214.0625\"/>\n     <use xlink:href=\"#DejaVuSans-3a\" x=\"241.845703\"/>\n     <use xlink:href=\"#DejaVuSans-20\" x=\"275.537109\"/>\n     <use xlink:href=\"#DejaVuSans-37\" x=\"307.324219\"/>\n    </g>\n   </g>\n  </g>\n </g>\n <defs>\n  <clipPath id=\"p70b9633d1a\">\n   <rect x=\"7.2\" y=\"20.038594\" width=\"78.12\" height=\"78.12\"/>\n  </clipPath>\n  <clipPath id=\"p59b6b42730\">\n   <rect x=\"101.552727\" y=\"20.038594\" width=\"78.12\" height=\"78.12\"/>\n  </clipPath>\n  <clipPath id=\"p9f83c5cfa4\">\n   <rect x=\"7.2\" y=\"113.782594\" width=\"78.12\" height=\"78.12\"/>\n  </clipPath>\n  <clipPath id=\"ped2c5360ad\">\n   <rect x=\"101.552727\" y=\"113.782594\" width=\"78.12\" height=\"78.12\"/>\n  </clipPath>\n </defs>\n</svg>\n",
      "text/plain": [
       "<Figure size 310x310 with 4 Axes>"
      ]
     },
     "metadata": {},
     "output_type": "display_data"
    }
   ],
   "source": [
    "set_figsize((3.1,3.1))\n",
    "\n",
    "# printing some images after the feature extraction\n",
    "show_img_grid(\n",
    "    [train_samples[i,:,j].reshape(img_shape) for j in range(2) for i in range(2)],\n",
    "    [f'label: {jnp.argmax(train_labels[i])}' for i in range(2)] * 2,\n",
    ")"
   ]
  },
  {
   "cell_type": "markdown",
   "id": "06c26e10",
   "metadata": {},
   "source": [
    "## MPS Utilities"
   ]
  },
  {
   "cell_type": "code",
   "execution_count": 25,
   "id": "fd500800",
   "metadata": {},
   "outputs": [],
   "source": [
    "def random_mps(\n",
    "        key: Key,\n",
    "        initializer: Callable,\n",
    "        size: int,\n",
    "        local_dim: int,\n",
    "        bond_dim: int,\n",
    "        labels_dim: Optional[int]=1,\n",
    "    ) -> MPS:\n",
    "    \"\"\"\n",
    "    Generate a random MPS where each core tensor\n",
    "    is drawn according to the given initializer (see JAX docs).\n",
    "    The result is a list of tensors indexed as follows:\n",
    "    0 --o-- 2\n",
    "        |    \n",
    "        1    \n",
    "    If the labels_dim is provided, it is set at the last tensor.\n",
    "    \"\"\"\n",
    "    left   = (1, local_dim, bond_dim)\n",
    "    right  = (bond_dim, local_dim, labels_dim)\n",
    "    middle = (bond_dim, local_dim, bond_dim)\n",
    "\n",
    "    if size < 2:\n",
    "        raise ValueError('Expectetd at least 2 sites for the MPS')\n",
    "    elif size == 2:\n",
    "        shapes = [left, right]\n",
    "    else:       \n",
    "        shapes = [left] + [middle]*(size-2) + [right]\n",
    "\n",
    "    # generate multiple keys, so all tensors are different\n",
    "    keys = jax.random.split(key, num=size)\n",
    "\n",
    "    return jax.tree_map(initializer, list(keys), shapes)"
   ]
  },
  {
   "cell_type": "code",
   "execution_count": 26,
   "id": "270d5741",
   "metadata": {},
   "outputs": [],
   "source": [
    "def reverse_mps(\n",
    "        params: MPS, \n",
    "        swapaxes: Optional[Tuple[int,int]]=(0,2)\n",
    "    ) -> MPS:\n",
    "    \"\"\"\n",
    "    A helper to reverse the MPS from left to right.\n",
    "    The left and right legs are interchanged.\n",
    "    The default change of indexing is as follows:\n",
    "    0 --o-- 2     2 --o-- 0 \n",
    "        |     =>      |\n",
    "        1             1\n",
    "    \"\"\"\n",
    "    swap_legs = lambda t: t.swapaxes(*swapaxes).conj()\n",
    "    return jax.tree_map(swap_legs, params[::-1])"
   ]
  },
  {
   "cell_type": "code",
   "execution_count": 27,
   "id": "c633ccfd",
   "metadata": {},
   "outputs": [],
   "source": [
    "def reverse_data(\n",
    "        params: MPS, \n",
    "        samples: Tensor,\n",
    "        wings: List[Matrix]\n",
    "    ) -> Tuple[MPS, Tensor, List[Matrix]]:\n",
    "    \"\"\"A helper to reverse main data arounnd the features axis\"\"\"\n",
    "    params_rev = reverse_mps(params)\n",
    "    samples_rev = jnp.flip(samples, axis=1)\n",
    "    wings_rev = wings[::-1]\n",
    "    return params_rev, samples_rev, wings_rev"
   ]
  },
  {
   "cell_type": "markdown",
   "id": "e72bb275",
   "metadata": {},
   "source": [
    "# Training-Related Functions"
   ]
  },
  {
   "cell_type": "code",
   "execution_count": 28,
   "id": "828c3a39",
   "metadata": {},
   "outputs": [],
   "source": [
    "def project_sample(\n",
    "        params: MPS, \n",
    "        sample: Matrix\n",
    "    ) -> List[Matrix]:\n",
    "    \"\"\"\n",
    "    A helper to project a single sample onto the MPS\n",
    "    sites, i.e. contracting the local dimension only.\n",
    "    --o--o--...--o--     \n",
    "      |  |       |   => --o--o--...--o--\n",
    "      o  o       o\n",
    "    \"\"\"\n",
    "    # accounting for the possible labels dimension\n",
    "    mult = lambda t, s: jnp.einsum('pjq...,j->pq...', t, s)\n",
    "    return jax.tree_map(mult, params, list(sample))\n",
    "\n",
    "def project_samples(\n",
    "      params: MPS, \n",
    "      samples: Tensor\n",
    "    ) -> List[Tensor]:\n",
    "    \"\"\"Projects multiple samples onto the MPS\"\"\"\n",
    "    proj_func = functools.partial(project_sample, params)\n",
    "    return jax.vmap(proj_func)(samples)"
   ]
  },
  {
   "cell_type": "code",
   "execution_count": 29,
   "id": "9b75247b",
   "metadata": {},
   "outputs": [],
   "source": [
    "def loss(\n",
    "        bond_tensor: Tensor,\n",
    "        data: Tuple[List[Tensor], Matrix]\n",
    "    ) -> Scalar:\n",
    "    \"\"\"Squared loss function\"\"\"\n",
    "    # (Φ̃, δℓ) = data\n",
    "    feats, labels = data\n",
    "    # Fig. 6c (fℓ(xₙ))\n",
    "    preds = jnp.einsum('mp,mij,mq,pijql->ml', *feats, bond_tensor)\n",
    "    err = preds - labels\n",
    "    # implicit double sum in Eq.6\n",
    "    return 0.5 * jnp.sum(jnp.power(err, 2))"
   ]
  },
  {
   "cell_type": "code",
   "execution_count": 30,
   "id": "dc0bb716",
   "metadata": {},
   "outputs": [],
   "source": [
    "def grad(\n",
    "        bond_tensor: Tensor,\n",
    "        data: Tuple[List[Tensor], Matrix]\n",
    "    ) -> Scalar:\n",
    "    \"\"\"Manually calculate the squared loss gradient - Fig.6(c-d)\"\"\"\n",
    "    # (Φ̃, δℓ) = data\n",
    "    feats, labels = data\n",
    "    # Fig. 6c (fℓ(xₙ))\n",
    "    preds = jnp.einsum('mp,mij,mq,pijql->ml', *feats, bond_tensor)\n",
    "    # Fig. 6d\n",
    "    err = preds - labels\n",
    "    # positive gradient\n",
    "    return jnp.einsum('mp,mij,mq,ml->pijql', *feats, err)"
   ]
  },
  {
   "cell_type": "code",
   "execution_count": 31,
   "id": "ea12dfda",
   "metadata": {},
   "outputs": [],
   "source": [
    "def predict_label(\n",
    "        params: MPS, \n",
    "        sample: Matrix\n",
    "    ) -> Scalar:\n",
    "    \"\"\"A helper to predict the label for a single sample\"\"\"\n",
    "    # project the test sample onto the mps\n",
    "    projs = project_sample(params, sample)\n",
    "    # reduce (full contraction)\n",
    "    preds = functools.reduce(\n",
    "        lambda x, y: jnp.einsum('pi...,iq...->pq...', x, y),\n",
    "        projs\n",
    "    )\n",
    "    return jnp.argmax(preds)\n",
    "\n",
    "def predict_labels(\n",
    "        params: MPS, \n",
    "        samples: Tensor\n",
    "    ) -> Scalar:\n",
    "    \"\"\"A helper to predict the label for a single sample\"\"\"\n",
    "    pred_func = functools.partial(predict_label, params)\n",
    "    return jax.vmap(pred_func)(samples)"
   ]
  },
  {
   "cell_type": "code",
   "execution_count": 32,
   "id": "fc39ed90",
   "metadata": {},
   "outputs": [],
   "source": [
    "def error_rate(\n",
    "        params: List[Tensor], \n",
    "        data: Tuple[Tensor, Matrix]\n",
    "    ) -> Scalar:\n",
    "    \"\"\"A helper to compute the error rate\"\"\"\n",
    "    samples, labels_oh = data\n",
    "    # undo one-hot encoding of the labels\n",
    "    labels = jnp.argmax(labels_oh, axis=1)\n",
    "    # predict labels for all samples\n",
    "    labels_pred = predict_labels(params, samples)\n",
    "    return 1 - jnp.sum(labels == labels_pred) / labels.size"
   ]
  },
  {
   "cell_type": "markdown",
   "id": "7c306bd4",
   "metadata": {},
   "source": [
    "# Initialize MPS"
   ]
  },
  {
   "cell_type": "code",
   "execution_count": 33,
   "id": "7b285e3c",
   "metadata": {},
   "outputs": [
    {
     "name": "stdout",
     "output_type": "stream",
     "text": [
      "The MPS dimensions: size=196, local_dim=2, bond_dim=20\n",
      "Total number of paramters: 156800\n"
     ]
    }
   ],
   "source": [
    "# getting the parameters\n",
    "num_samples, num_features, dim_features = train_samples.shape\n",
    "num_classes = train_labels.shape[1]\n",
    "\n",
    "# initializer\n",
    "initializer = jax.nn.initializers.uniform(scale=1)\n",
    "\n",
    "# generating a random mps according to the initialiser\n",
    "mps = random_mps(\n",
    "    key, \n",
    "    initializer, \n",
    "    size=num_features, \n",
    "    local_dim=dim_features, \n",
    "    bond_dim=bond_dim, # WARNING: to avoid unnecessary truncation, set bond_dim >= num_classes \n",
    "    labels_dim=num_classes\n",
    ")\n",
    "\n",
    "print(f'The MPS dimensions: size={num_features}, local_dim={dim_features}, bond_dim={bond_dim}')\n",
    "print(f'Total number of paramters: {bond_dim**2 * dim_features * num_features}')"
   ]
  },
  {
   "cell_type": "code",
   "execution_count": 34,
   "id": "affa5fb9",
   "metadata": {},
   "outputs": [],
   "source": [
    "def left_normalize(\n",
    "        params: MPS, \n",
    "        max_bond: int\n",
    "    ) -> MPS:\n",
    "    \"\"\"Normalise the mps into the left-canonical form\"\"\"\n",
    "    size = len(params)\n",
    "    for pos in range(size):\n",
    "        p, j, *_ = params[pos].shape\n",
    "        M = params[pos].reshape(p*j,-1)\n",
    "        # perform SVD\n",
    "        U, λ, Vh = jnp.linalg.svd(M, full_matrices=False)\n",
    "        # cutting off the bond dimension\n",
    "        U  = U[:,:max_bond]   # truncate columns\n",
    "        λ  = λ[:max_bond]     # truncate singular values\n",
    "        Vh = Vh[:max_bond,:]  # truncate rows\n",
    "        # assign the current tensor to U and reshape\n",
    "        params[pos] = U.reshape(-1, j, U.shape[1])\n",
    "        # assigining the labels to the next tensor and reshape\n",
    "        if pos < size - 1:\n",
    "            M_next = params[pos+1].reshape(Vh.shape[1], -1)\n",
    "            params[pos+1] = jnp.einsum('i,ij,jk->ik', λ, Vh, M_next).reshape(U.shape[1], j, -1)\n",
    "    return params"
   ]
  },
  {
   "cell_type": "code",
   "execution_count": 35,
   "id": "ded61f68",
   "metadata": {},
   "outputs": [],
   "source": [
    "# left normalizing the mps\n",
    "mps = left_normalize(mps, max_bond=bond_dim)"
   ]
  },
  {
   "cell_type": "code",
   "execution_count": 36,
   "id": "de528eaa",
   "metadata": {},
   "outputs": [],
   "source": [
    "# checking that the resulting mps is in the left-canonical form\n",
    "mult = lambda e, t: jnp.einsum('pq,pjr,qjv->rv', e, t.conj(), t)\n",
    "assert jnp.allclose(functools.reduce(mult, mps, jnp.eye(1)), jnp.eye(mps[-1].shape[-1]))"
   ]
  },
  {
   "cell_type": "code",
   "execution_count": 37,
   "id": "7f129bc1",
   "metadata": {},
   "outputs": [],
   "source": [
    "# reversing the mps gives the right-canonical form\n",
    "mps_rev = reverse_mps(mps)\n",
    "mult_rev = lambda e, t: jnp.einsum('rv,pjr,qjv->pq', e, t, t.conj())\n",
    "# to apply the reduce function, we need to change the mps ordering (no leg swapping!)\n",
    "assert jnp.allclose(functools.reduce(mult_rev, mps_rev[::-1], jnp.eye(1)), jnp.eye(mps_rev[0].shape[0]))"
   ]
  },
  {
   "cell_type": "code",
   "execution_count": 38,
   "id": "83a62af2",
   "metadata": {},
   "outputs": [],
   "source": [
    "# extract the dimension corresponding to\n",
    "# the labels, so we can move it during optimisation\n",
    "mps[-1] = jnp.expand_dims(mps[-1], axis=2)"
   ]
  },
  {
   "cell_type": "code",
   "execution_count": 39,
   "id": "d9f4c21c",
   "metadata": {},
   "outputs": [
    {
     "name": "stdout",
     "output_type": "stream",
     "text": [
      "[(1, 2, 2), (2, 2, 4), (4, 2, 8), (20, 2, 20), (20, 2, 20), (20, 2, 1, 10)]\n"
     ]
    }
   ],
   "source": [
    "# printing shapes of the first and the last three tensors\n",
    "print([t.shape for t in (*mps[:3],*mps[-3:])])"
   ]
  },
  {
   "cell_type": "markdown",
   "id": "10469da4",
   "metadata": {},
   "source": [
    "# Initialise the data store for the \"left/right wings\""
   ]
  },
  {
   "cell_type": "markdown",
   "id": "0cb7a764",
   "metadata": {},
   "source": [
    "Initialise the data structure to store left/right wings. For the motivation, see the last paragraph on p4 in the paper. Below, I assume that the tensor with labels is the last in the MPS. After the initialisation, the order of the wings is reversed to allow the sweeps from the left on each run (with the labels being attached to the first tensor after reverting the order). This trick allows to move from left to right on every sweep simply by reverting the MPS, data features and the wings."
   ]
  },
  {
   "cell_type": "code",
   "execution_count": 40,
   "id": "c697446c",
   "metadata": {},
   "outputs": [],
   "source": [
    "def norm_normalize(v: Vector) -> Vector:\n",
    "    return v / jnp.linalg.norm(v)"
   ]
  },
  {
   "cell_type": "code",
   "execution_count": 41,
   "id": "8e4f90ea",
   "metadata": {},
   "outputs": [],
   "source": [
    "def init_wings(\n",
    "        params: MPS,\n",
    "        samples: Tensor,\n",
    "    ) -> List[Vector]:\n",
    "    \"\"\"\n",
    "    Initialise the local projections to keep linear\n",
    "    scaling of the whole algorithm wrt sample size.\n",
    "     ---\n",
    "    | o-|-o--o--...--o--o        ▩--o--o--...--o--o      ▩--o--o\n",
    "    | | | |  |       |  |   =>      |  |       |  |  =>     |  |\n",
    "    | o | o  o       o  o           o  o       o  o         o  o\n",
    "     ---\n",
    "    \"\"\"        \n",
    "    # get the projections of samples onto the mps sites (excet the last two sites)\n",
    "    projs = project_samples(params=params[:-2], samples=samples[:,:-2,:])\n",
    "\n",
    "    # helper to contract neighbouring sites\n",
    "    mult = lambda x, y: jnp.einsum('mpi,miq->mpq', x, y)\n",
    "    # get the cumulative products computed from left to right\n",
    "    cum_prods = itertools.accumulate(projs, mult)\n",
    "    # normalize to norm 1\n",
    "    wings = jax.tree_map(jax.vmap(norm_normalize), list(cum_prods))\n",
    "    # the last two sites are dummy\n",
    "    return jax.tree_map(jnp.squeeze, wings) + [jnp.asarray(None)]*2 "
   ]
  },
  {
   "cell_type": "code",
   "execution_count": 42,
   "id": "974d44ea",
   "metadata": {},
   "outputs": [],
   "source": [
    "# initialize the wings\n",
    "wings = init_wings(mps, train_samples)"
   ]
  },
  {
   "cell_type": "markdown",
   "id": "d7e1af4e",
   "metadata": {},
   "source": [
    "# Main Loop"
   ]
  },
  {
   "cell_type": "code",
   "execution_count": 43,
   "id": "c3efa937",
   "metadata": {},
   "outputs": [],
   "source": [
    "def project_sample(\n",
    "        params: MPS, \n",
    "        sample: Matrix\n",
    "    ) -> List[Matrix]:\n",
    "    \"\"\"\n",
    "    A helper to project a single sample onto the MPS\n",
    "    sites, i.e. contracting the local dimension only.\n",
    "    --o--o--...--o--     \n",
    "      |  |       |   => --o--o--...--o--\n",
    "      o  o       o\n",
    "    \"\"\"\n",
    "    # accounting for the possible labels dimension\n",
    "    mult = lambda t, s: jnp.einsum('pjq...,j->pq...', t, s)\n",
    "    return jax.tree_map(mult, params, list(sample))"
   ]
  },
  {
   "cell_type": "code",
   "execution_count": null,
   "id": "aba8968d",
   "metadata": {},
   "outputs": [],
   "source": [
    "max_bond = bond_dim\n",
    "\n",
    "grads, losses = [], []\n",
    "\n",
    "for sweep in range(num_sweeps):\n",
    "\n",
    "    print('*'*100 + f'\\nSweep: {sweep + 1}\\n' + '*'*100)\n",
    "\n",
    "    # reverse data for convenience, so the iterations \n",
    "    # are from left to right. Note, that the initiali left \n",
    "    # normalization of the MPS results in the right \n",
    "    # normalization after the operation (as shown above)\n",
    "    mps, train_samples, wings = reverse_data(mps, train_samples, wings)\n",
    "\n",
    "    for pos in range(len(mps) - 1):\n",
    "\n",
    "        # bond tensor - Fig.6a\n",
    "        B = jnp.einsum('pikl,kjq->pijql', mps[pos], mps[pos+1])\n",
    "\n",
    "        # composing a tensor Φ - Fig.6b\n",
    "        if pos == 0:\n",
    "            left_wing = jnp.ones(shape=(num_samples, 1))   # dummy\n",
    "            right_wing = wings[pos+2]\n",
    "        elif pos == len(mps)-2:\n",
    "            left_wing = wings[pos-1]\n",
    "            right_wing = jnp.ones(shape=(num_samples, 1))  # dummy\n",
    "        else:\n",
    "            left_wing = wings[pos-1]\n",
    "            right_wing = wings[pos+2]\n",
    "\n",
    "        # not yet combining to a single tensor - saving space\n",
    "        Φ = [left_wing, train_samples[:,pos:pos+2,:], right_wing]\n",
    "\n",
    "        # compute the gradient update - Fig.6(c-d)\n",
    "        ΔB = grad(B, data=(Φ, train_labels))\n",
    "        \n",
    "        # update the bond tensor - Fig.7a\n",
    "        # note, that the paper is using the \n",
    "        # negative gradient instead, so the \n",
    "        # plus sign there\n",
    "        B -= α * ΔB\n",
    "\n",
    "        # SVD\n",
    "        p,i,j,q,l = B.shape\n",
    "        U, λ, Vh = jnp.linalg.svd(B.reshape(p*i, -1), full_matrices=False)\n",
    "\n",
    "        # cutting off the bond dimension\n",
    "        if λ.size > max_bond:\n",
    "            # max_bond = suggest_truncation(λ, ε)  # adaptive bond dimension\n",
    "            U  = U[:,:max_bond]\n",
    "            λ  = λ[:max_bond]\n",
    "            Vh = Vh[:max_bond,:]\n",
    "\n",
    "        # normalize spectra to have norm 1\n",
    "        λ = norm_normalize(λ)\n",
    "        \n",
    "        # updating mps tesnors - Fig.7b\n",
    "        mps[pos]   = U.reshape(-1,i,U.shape[1])  # current position\n",
    "        mps[pos+1] = jnp.einsum('i,ij->ij', λ, Vh).reshape(-1,j,q,l)  # next position\n",
    "\n",
    "        # project input samples onto the new tensor at current position and update the left wing - Fig.7c\n",
    "        projs_at_pos = project_samples(params=mps[pos:pos+1], samples=train_samples[:,pos:pos+1,:])\n",
    "\n",
    "        # updating the left wing; squeezing 0 index due to len(MPS) = 1\n",
    "        left_wing = jnp.einsum('mp,mpq->mq', left_wing, jnp.asarray(projs_at_pos).squeeze(axis=0))\n",
    "\n",
    "        # normalize and update the wing\n",
    "        wings[pos] = jax.vmap(norm_normalize)(left_wing)\n",
    "\n",
    "        # store for the analysis\n",
    "        grads.append(jnp.linalg.norm(ΔB))\n",
    "        losses.append(loss(B, data=(Φ, train_labels)))\n",
    "\n",
    "        print(\n",
    "            '\\t|\\t'.join(\n",
    "                [f'Updated site: {pos:<4}',\n",
    "                 f'Loss: {losses[-1]:<6e}',\n",
    "                 f'Gradient norm: {grads[-1]:<6e}',\n",
    "                 f'Bond Dim: {max_bond:<3}',\n",
    "                ])\n",
    "        )"
   ]
  },
  {
   "cell_type": "code",
   "execution_count": 45,
   "id": "0e701c70",
   "metadata": {},
   "outputs": [
    {
     "data": {
      "image/svg+xml": "<?xml version=\"1.0\" encoding=\"utf-8\" standalone=\"no\"?>\n<!DOCTYPE svg PUBLIC \"-//W3C//DTD SVG 1.1//EN\"\n  \"http://www.w3.org/Graphics/SVG/1.1/DTD/svg11.dtd\">\n<svg xmlns:xlink=\"http://www.w3.org/1999/xlink\" width=\"544.443868pt\" height=\"405.187187pt\" viewBox=\"0 0 544.443868 405.187187\" xmlns=\"http://www.w3.org/2000/svg\" version=\"1.1\">\n <metadata>\n  <rdf:RDF xmlns:dc=\"http://purl.org/dc/elements/1.1/\" xmlns:cc=\"http://creativecommons.org/ns#\" xmlns:rdf=\"http://www.w3.org/1999/02/22-rdf-syntax-ns#\">\n   <cc:Work>\n    <dc:type rdf:resource=\"http://purl.org/dc/dcmitype/StillImage\"/>\n    <dc:date>2022-05-08T16:19:32.500443</dc:date>\n    <dc:format>image/svg+xml</dc:format>\n    <dc:creator>\n     <cc:Agent>\n      <dc:title>Matplotlib v3.5.2, https://matplotlib.org/</dc:title>\n     </cc:Agent>\n    </dc:creator>\n   </cc:Work>\n  </rdf:RDF>\n </metadata>\n <defs>\n  <style type=\"text/css\">*{stroke-linejoin: round; stroke-linecap: butt}</style>\n </defs>\n <g id=\"figure_1\">\n  <g id=\"patch_1\">\n   <path d=\"M 0 405.187187 \nL 544.443868 405.187187 \nL 544.443868 0 \nL 0 0 \nz\n\" style=\"fill: #ffffff\"/>\n  </g>\n  <g id=\"axes_1\">\n   <g id=\"patch_2\">\n    <path d=\"M 82.700625 359.517187 \nL 529.100625 359.517187 \nL 529.100625 26.877187 \nL 82.700625 26.877187 \nz\n\" style=\"fill: #eeeeee\"/>\n   </g>\n   <g id=\"matplotlib.axis_1\">\n    <g id=\"xtick_1\">\n     <g id=\"line2d_1\">\n      <path d=\"M 102.991534 359.517187 \nL 102.991534 26.877187 \n\" clip-path=\"url(#p1a72d964c2)\" style=\"fill: none; stroke-dasharray: 0.5,5; stroke-dashoffset: 0; stroke: #000000; stroke-width: 0.5\"/>\n     </g>\n     <g id=\"line2d_2\">\n      <defs>\n       <path id=\"mb64c72b9f2\" d=\"M 0 0 \nL 0 -3.5 \n\" style=\"stroke: #000000; stroke-width: 0.8\"/>\n      </defs>\n      <g>\n       <use xlink:href=\"#mb64c72b9f2\" x=\"102.991534\" y=\"359.517187\" style=\"stroke: #000000; stroke-width: 0.8\"/>\n      </g>\n     </g>\n     <g id=\"text_1\">\n      <!-- 0 -->\n      <g transform=\"translate(98.537784 373.655)scale(0.14 -0.14)\">\n       <defs>\n        <path id=\"DejaVuSans-30\" d=\"M 2034 4250 \nQ 1547 4250 1301 3770 \nQ 1056 3291 1056 2328 \nQ 1056 1369 1301 889 \nQ 1547 409 2034 409 \nQ 2525 409 2770 889 \nQ 3016 1369 3016 2328 \nQ 3016 3291 2770 3770 \nQ 2525 4250 2034 4250 \nz\nM 2034 4750 \nQ 2819 4750 3233 4129 \nQ 3647 3509 3647 2328 \nQ 3647 1150 3233 529 \nQ 2819 -91 2034 -91 \nQ 1250 -91 836 529 \nQ 422 1150 422 2328 \nQ 422 3509 836 4129 \nQ 1250 4750 2034 4750 \nz\n\" transform=\"scale(0.015625)\"/>\n       </defs>\n       <use xlink:href=\"#DejaVuSans-30\"/>\n      </g>\n     </g>\n    </g>\n    <g id=\"xtick_2\">\n     <g id=\"line2d_3\">\n      <path d=\"M 155.046201 359.517187 \nL 155.046201 26.877187 \n\" clip-path=\"url(#p1a72d964c2)\" style=\"fill: none; stroke-dasharray: 0.5,5; stroke-dashoffset: 0; stroke: #000000; stroke-width: 0.5\"/>\n     </g>\n     <g id=\"line2d_4\">\n      <g>\n       <use xlink:href=\"#mb64c72b9f2\" x=\"155.046201\" y=\"359.517187\" style=\"stroke: #000000; stroke-width: 0.8\"/>\n      </g>\n     </g>\n     <g id=\"text_2\">\n      <!-- 250 -->\n      <g transform=\"translate(141.684951 373.655)scale(0.14 -0.14)\">\n       <defs>\n        <path id=\"DejaVuSans-32\" d=\"M 1228 531 \nL 3431 531 \nL 3431 0 \nL 469 0 \nL 469 531 \nQ 828 903 1448 1529 \nQ 2069 2156 2228 2338 \nQ 2531 2678 2651 2914 \nQ 2772 3150 2772 3378 \nQ 2772 3750 2511 3984 \nQ 2250 4219 1831 4219 \nQ 1534 4219 1204 4116 \nQ 875 4013 500 3803 \nL 500 4441 \nQ 881 4594 1212 4672 \nQ 1544 4750 1819 4750 \nQ 2544 4750 2975 4387 \nQ 3406 4025 3406 3419 \nQ 3406 3131 3298 2873 \nQ 3191 2616 2906 2266 \nQ 2828 2175 2409 1742 \nQ 1991 1309 1228 531 \nz\n\" transform=\"scale(0.015625)\"/>\n        <path id=\"DejaVuSans-35\" d=\"M 691 4666 \nL 3169 4666 \nL 3169 4134 \nL 1269 4134 \nL 1269 2991 \nQ 1406 3038 1543 3061 \nQ 1681 3084 1819 3084 \nQ 2600 3084 3056 2656 \nQ 3513 2228 3513 1497 \nQ 3513 744 3044 326 \nQ 2575 -91 1722 -91 \nQ 1428 -91 1123 -41 \nQ 819 9 494 109 \nL 494 744 \nQ 775 591 1075 516 \nQ 1375 441 1709 441 \nQ 2250 441 2565 725 \nQ 2881 1009 2881 1497 \nQ 2881 1984 2565 2268 \nQ 2250 2553 1709 2553 \nQ 1456 2553 1204 2497 \nQ 953 2441 691 2322 \nL 691 4666 \nz\n\" transform=\"scale(0.015625)\"/>\n       </defs>\n       <use xlink:href=\"#DejaVuSans-32\"/>\n       <use xlink:href=\"#DejaVuSans-35\" x=\"63.623047\"/>\n       <use xlink:href=\"#DejaVuSans-30\" x=\"127.246094\"/>\n      </g>\n     </g>\n    </g>\n    <g id=\"xtick_3\">\n     <g id=\"line2d_5\">\n      <path d=\"M 207.100868 359.517187 \nL 207.100868 26.877187 \n\" clip-path=\"url(#p1a72d964c2)\" style=\"fill: none; stroke-dasharray: 0.5,5; stroke-dashoffset: 0; stroke: #000000; stroke-width: 0.5\"/>\n     </g>\n     <g id=\"line2d_6\">\n      <g>\n       <use xlink:href=\"#mb64c72b9f2\" x=\"207.100868\" y=\"359.517187\" style=\"stroke: #000000; stroke-width: 0.8\"/>\n      </g>\n     </g>\n     <g id=\"text_3\">\n      <!-- 500 -->\n      <g transform=\"translate(193.739618 373.655)scale(0.14 -0.14)\">\n       <use xlink:href=\"#DejaVuSans-35\"/>\n       <use xlink:href=\"#DejaVuSans-30\" x=\"63.623047\"/>\n       <use xlink:href=\"#DejaVuSans-30\" x=\"127.246094\"/>\n      </g>\n     </g>\n    </g>\n    <g id=\"xtick_4\">\n     <g id=\"line2d_7\">\n      <path d=\"M 259.155534 359.517187 \nL 259.155534 26.877187 \n\" clip-path=\"url(#p1a72d964c2)\" style=\"fill: none; stroke-dasharray: 0.5,5; stroke-dashoffset: 0; stroke: #000000; stroke-width: 0.5\"/>\n     </g>\n     <g id=\"line2d_8\">\n      <g>\n       <use xlink:href=\"#mb64c72b9f2\" x=\"259.155534\" y=\"359.517187\" style=\"stroke: #000000; stroke-width: 0.8\"/>\n      </g>\n     </g>\n     <g id=\"text_4\">\n      <!-- 750 -->\n      <g transform=\"translate(245.794284 373.655)scale(0.14 -0.14)\">\n       <defs>\n        <path id=\"DejaVuSans-37\" d=\"M 525 4666 \nL 3525 4666 \nL 3525 4397 \nL 1831 0 \nL 1172 0 \nL 2766 4134 \nL 525 4134 \nL 525 4666 \nz\n\" transform=\"scale(0.015625)\"/>\n       </defs>\n       <use xlink:href=\"#DejaVuSans-37\"/>\n       <use xlink:href=\"#DejaVuSans-35\" x=\"63.623047\"/>\n       <use xlink:href=\"#DejaVuSans-30\" x=\"127.246094\"/>\n      </g>\n     </g>\n    </g>\n    <g id=\"xtick_5\">\n     <g id=\"line2d_9\">\n      <path d=\"M 311.210201 359.517187 \nL 311.210201 26.877187 \n\" clip-path=\"url(#p1a72d964c2)\" style=\"fill: none; stroke-dasharray: 0.5,5; stroke-dashoffset: 0; stroke: #000000; stroke-width: 0.5\"/>\n     </g>\n     <g id=\"line2d_10\">\n      <g>\n       <use xlink:href=\"#mb64c72b9f2\" x=\"311.210201\" y=\"359.517187\" style=\"stroke: #000000; stroke-width: 0.8\"/>\n      </g>\n     </g>\n     <g id=\"text_5\">\n      <!-- 1000 -->\n      <g transform=\"translate(293.395201 373.655)scale(0.14 -0.14)\">\n       <defs>\n        <path id=\"DejaVuSans-31\" d=\"M 794 531 \nL 1825 531 \nL 1825 4091 \nL 703 3866 \nL 703 4441 \nL 1819 4666 \nL 2450 4666 \nL 2450 531 \nL 3481 531 \nL 3481 0 \nL 794 0 \nL 794 531 \nz\n\" transform=\"scale(0.015625)\"/>\n       </defs>\n       <use xlink:href=\"#DejaVuSans-31\"/>\n       <use xlink:href=\"#DejaVuSans-30\" x=\"63.623047\"/>\n       <use xlink:href=\"#DejaVuSans-30\" x=\"127.246094\"/>\n       <use xlink:href=\"#DejaVuSans-30\" x=\"190.869141\"/>\n      </g>\n     </g>\n    </g>\n    <g id=\"xtick_6\">\n     <g id=\"line2d_11\">\n      <path d=\"M 363.264868 359.517187 \nL 363.264868 26.877187 \n\" clip-path=\"url(#p1a72d964c2)\" style=\"fill: none; stroke-dasharray: 0.5,5; stroke-dashoffset: 0; stroke: #000000; stroke-width: 0.5\"/>\n     </g>\n     <g id=\"line2d_12\">\n      <g>\n       <use xlink:href=\"#mb64c72b9f2\" x=\"363.264868\" y=\"359.517187\" style=\"stroke: #000000; stroke-width: 0.8\"/>\n      </g>\n     </g>\n     <g id=\"text_6\">\n      <!-- 1250 -->\n      <g transform=\"translate(345.449868 373.655)scale(0.14 -0.14)\">\n       <use xlink:href=\"#DejaVuSans-31\"/>\n       <use xlink:href=\"#DejaVuSans-32\" x=\"63.623047\"/>\n       <use xlink:href=\"#DejaVuSans-35\" x=\"127.246094\"/>\n       <use xlink:href=\"#DejaVuSans-30\" x=\"190.869141\"/>\n      </g>\n     </g>\n    </g>\n    <g id=\"xtick_7\">\n     <g id=\"line2d_13\">\n      <path d=\"M 415.319534 359.517187 \nL 415.319534 26.877187 \n\" clip-path=\"url(#p1a72d964c2)\" style=\"fill: none; stroke-dasharray: 0.5,5; stroke-dashoffset: 0; stroke: #000000; stroke-width: 0.5\"/>\n     </g>\n     <g id=\"line2d_14\">\n      <g>\n       <use xlink:href=\"#mb64c72b9f2\" x=\"415.319534\" y=\"359.517187\" style=\"stroke: #000000; stroke-width: 0.8\"/>\n      </g>\n     </g>\n     <g id=\"text_7\">\n      <!-- 1500 -->\n      <g transform=\"translate(397.504534 373.655)scale(0.14 -0.14)\">\n       <use xlink:href=\"#DejaVuSans-31\"/>\n       <use xlink:href=\"#DejaVuSans-35\" x=\"63.623047\"/>\n       <use xlink:href=\"#DejaVuSans-30\" x=\"127.246094\"/>\n       <use xlink:href=\"#DejaVuSans-30\" x=\"190.869141\"/>\n      </g>\n     </g>\n    </g>\n    <g id=\"xtick_8\">\n     <g id=\"line2d_15\">\n      <path d=\"M 467.374201 359.517187 \nL 467.374201 26.877187 \n\" clip-path=\"url(#p1a72d964c2)\" style=\"fill: none; stroke-dasharray: 0.5,5; stroke-dashoffset: 0; stroke: #000000; stroke-width: 0.5\"/>\n     </g>\n     <g id=\"line2d_16\">\n      <g>\n       <use xlink:href=\"#mb64c72b9f2\" x=\"467.374201\" y=\"359.517187\" style=\"stroke: #000000; stroke-width: 0.8\"/>\n      </g>\n     </g>\n     <g id=\"text_8\">\n      <!-- 1750 -->\n      <g transform=\"translate(449.559201 373.655)scale(0.14 -0.14)\">\n       <use xlink:href=\"#DejaVuSans-31\"/>\n       <use xlink:href=\"#DejaVuSans-37\" x=\"63.623047\"/>\n       <use xlink:href=\"#DejaVuSans-35\" x=\"127.246094\"/>\n       <use xlink:href=\"#DejaVuSans-30\" x=\"190.869141\"/>\n      </g>\n     </g>\n    </g>\n    <g id=\"xtick_9\">\n     <g id=\"line2d_17\">\n      <path d=\"M 519.428868 359.517187 \nL 519.428868 26.877187 \n\" clip-path=\"url(#p1a72d964c2)\" style=\"fill: none; stroke-dasharray: 0.5,5; stroke-dashoffset: 0; stroke: #000000; stroke-width: 0.5\"/>\n     </g>\n     <g id=\"line2d_18\">\n      <g>\n       <use xlink:href=\"#mb64c72b9f2\" x=\"519.428868\" y=\"359.517187\" style=\"stroke: #000000; stroke-width: 0.8\"/>\n      </g>\n     </g>\n     <g id=\"text_9\">\n      <!-- 2000 -->\n      <g transform=\"translate(501.613868 373.655)scale(0.14 -0.14)\">\n       <use xlink:href=\"#DejaVuSans-32\"/>\n       <use xlink:href=\"#DejaVuSans-30\" x=\"63.623047\"/>\n       <use xlink:href=\"#DejaVuSans-30\" x=\"127.246094\"/>\n       <use xlink:href=\"#DejaVuSans-30\" x=\"190.869141\"/>\n      </g>\n     </g>\n    </g>\n    <g id=\"text_10\">\n     <!-- Steps -->\n     <g transform=\"translate(280.718906 394.24375)scale(0.18 -0.18)\">\n      <defs>\n       <path id=\"DejaVuSans-53\" d=\"M 3425 4513 \nL 3425 3897 \nQ 3066 4069 2747 4153 \nQ 2428 4238 2131 4238 \nQ 1616 4238 1336 4038 \nQ 1056 3838 1056 3469 \nQ 1056 3159 1242 3001 \nQ 1428 2844 1947 2747 \nL 2328 2669 \nQ 3034 2534 3370 2195 \nQ 3706 1856 3706 1288 \nQ 3706 609 3251 259 \nQ 2797 -91 1919 -91 \nQ 1588 -91 1214 -16 \nQ 841 59 441 206 \nL 441 856 \nQ 825 641 1194 531 \nQ 1563 422 1919 422 \nQ 2459 422 2753 634 \nQ 3047 847 3047 1241 \nQ 3047 1584 2836 1778 \nQ 2625 1972 2144 2069 \nL 1759 2144 \nQ 1053 2284 737 2584 \nQ 422 2884 422 3419 \nQ 422 4038 858 4394 \nQ 1294 4750 2059 4750 \nQ 2388 4750 2728 4690 \nQ 3069 4631 3425 4513 \nz\n\" transform=\"scale(0.015625)\"/>\n       <path id=\"DejaVuSans-74\" d=\"M 1172 4494 \nL 1172 3500 \nL 2356 3500 \nL 2356 3053 \nL 1172 3053 \nL 1172 1153 \nQ 1172 725 1289 603 \nQ 1406 481 1766 481 \nL 2356 481 \nL 2356 0 \nL 1766 0 \nQ 1100 0 847 248 \nQ 594 497 594 1153 \nL 594 3053 \nL 172 3053 \nL 172 3500 \nL 594 3500 \nL 594 4494 \nL 1172 4494 \nz\n\" transform=\"scale(0.015625)\"/>\n       <path id=\"DejaVuSans-65\" d=\"M 3597 1894 \nL 3597 1613 \nL 953 1613 \nQ 991 1019 1311 708 \nQ 1631 397 2203 397 \nQ 2534 397 2845 478 \nQ 3156 559 3463 722 \nL 3463 178 \nQ 3153 47 2828 -22 \nQ 2503 -91 2169 -91 \nQ 1331 -91 842 396 \nQ 353 884 353 1716 \nQ 353 2575 817 3079 \nQ 1281 3584 2069 3584 \nQ 2775 3584 3186 3129 \nQ 3597 2675 3597 1894 \nz\nM 3022 2063 \nQ 3016 2534 2758 2815 \nQ 2500 3097 2075 3097 \nQ 1594 3097 1305 2825 \nQ 1016 2553 972 2059 \nL 3022 2063 \nz\n\" transform=\"scale(0.015625)\"/>\n       <path id=\"DejaVuSans-70\" d=\"M 1159 525 \nL 1159 -1331 \nL 581 -1331 \nL 581 3500 \nL 1159 3500 \nL 1159 2969 \nQ 1341 3281 1617 3432 \nQ 1894 3584 2278 3584 \nQ 2916 3584 3314 3078 \nQ 3713 2572 3713 1747 \nQ 3713 922 3314 415 \nQ 2916 -91 2278 -91 \nQ 1894 -91 1617 61 \nQ 1341 213 1159 525 \nz\nM 3116 1747 \nQ 3116 2381 2855 2742 \nQ 2594 3103 2138 3103 \nQ 1681 3103 1420 2742 \nQ 1159 2381 1159 1747 \nQ 1159 1113 1420 752 \nQ 1681 391 2138 391 \nQ 2594 391 2855 752 \nQ 3116 1113 3116 1747 \nz\n\" transform=\"scale(0.015625)\"/>\n       <path id=\"DejaVuSans-73\" d=\"M 2834 3397 \nL 2834 2853 \nQ 2591 2978 2328 3040 \nQ 2066 3103 1784 3103 \nQ 1356 3103 1142 2972 \nQ 928 2841 928 2578 \nQ 928 2378 1081 2264 \nQ 1234 2150 1697 2047 \nL 1894 2003 \nQ 2506 1872 2764 1633 \nQ 3022 1394 3022 966 \nQ 3022 478 2636 193 \nQ 2250 -91 1575 -91 \nQ 1294 -91 989 -36 \nQ 684 19 347 128 \nL 347 722 \nQ 666 556 975 473 \nQ 1284 391 1588 391 \nQ 1994 391 2212 530 \nQ 2431 669 2431 922 \nQ 2431 1156 2273 1281 \nQ 2116 1406 1581 1522 \nL 1381 1569 \nQ 847 1681 609 1914 \nQ 372 2147 372 2553 \nQ 372 3047 722 3315 \nQ 1072 3584 1716 3584 \nQ 2034 3584 2315 3537 \nQ 2597 3491 2834 3397 \nz\n\" transform=\"scale(0.015625)\"/>\n      </defs>\n      <use xlink:href=\"#DejaVuSans-53\"/>\n      <use xlink:href=\"#DejaVuSans-74\" x=\"63.476562\"/>\n      <use xlink:href=\"#DejaVuSans-65\" x=\"102.685547\"/>\n      <use xlink:href=\"#DejaVuSans-70\" x=\"164.208984\"/>\n      <use xlink:href=\"#DejaVuSans-73\" x=\"227.685547\"/>\n     </g>\n    </g>\n   </g>\n   <g id=\"matplotlib.axis_2\">\n    <g id=\"ytick_1\">\n     <g id=\"line2d_19\">\n      <path d=\"M 82.700625 182.186375 \nL 529.100625 182.186375 \n\" clip-path=\"url(#p1a72d964c2)\" style=\"fill: none; stroke-dasharray: 0.5,5; stroke-dashoffset: 0; stroke: #000000; stroke-width: 0.5\"/>\n     </g>\n     <g id=\"line2d_20\">\n      <defs>\n       <path id=\"mcec6d31cc6\" d=\"M 0 0 \nL 3.5 0 \n\" style=\"stroke: #000000; stroke-width: 0.8\"/>\n      </defs>\n      <g>\n       <use xlink:href=\"#mcec6d31cc6\" x=\"82.700625\" y=\"182.186375\" style=\"stroke: #000000; stroke-width: 0.8\"/>\n      </g>\n     </g>\n     <g id=\"text_11\">\n      <!-- $\\mathdefault{10^{4}}$ -->\n      <g transform=\"translate(54.560625 187.505281)scale(0.14 -0.14)\">\n       <defs>\n        <path id=\"DejaVuSans-34\" d=\"M 2419 4116 \nL 825 1625 \nL 2419 1625 \nL 2419 4116 \nz\nM 2253 4666 \nL 3047 4666 \nL 3047 1625 \nL 3713 1625 \nL 3713 1100 \nL 3047 1100 \nL 3047 0 \nL 2419 0 \nL 2419 1100 \nL 313 1100 \nL 313 1709 \nL 2253 4666 \nz\n\" transform=\"scale(0.015625)\"/>\n       </defs>\n       <use xlink:href=\"#DejaVuSans-31\" transform=\"translate(0 0.684375)\"/>\n       <use xlink:href=\"#DejaVuSans-30\" transform=\"translate(63.623047 0.684375)\"/>\n       <use xlink:href=\"#DejaVuSans-34\" transform=\"translate(128.203125 38.965625)scale(0.7)\"/>\n      </g>\n     </g>\n    </g>\n    <g id=\"ytick_2\">\n     <g id=\"line2d_21\">\n      <path d=\"M 82.700625 323.09753 \nL 529.100625 323.09753 \n\" clip-path=\"url(#p1a72d964c2)\" style=\"fill: none; stroke-dasharray: 0.5,5; stroke-dashoffset: 0; stroke: #000000; stroke-width: 0.5\"/>\n     </g>\n     <g id=\"line2d_22\">\n      <defs>\n       <path id=\"mf4d494a4cf\" d=\"M 0 0 \nL 2 0 \n\" style=\"stroke: #000000; stroke-width: 0.6\"/>\n      </defs>\n      <g>\n       <use xlink:href=\"#mf4d494a4cf\" x=\"82.700625\" y=\"323.09753\" style=\"stroke: #000000; stroke-width: 0.6\"/>\n      </g>\n     </g>\n     <g id=\"text_12\">\n      <!-- $\\mathdefault{4\\times10^{3}}$ -->\n      <g transform=\"translate(28.620625 328.416436)scale(0.14 -0.14)\">\n       <defs>\n        <path id=\"DejaVuSans-d7\" d=\"M 4488 3438 \nL 3059 2003 \nL 4488 575 \nL 4116 197 \nL 2681 1631 \nL 1247 197 \nL 878 575 \nL 2303 2003 \nL 878 3438 \nL 1247 3816 \nL 2681 2381 \nL 4116 3816 \nL 4488 3438 \nz\n\" transform=\"scale(0.015625)\"/>\n        <path id=\"DejaVuSans-33\" d=\"M 2597 2516 \nQ 3050 2419 3304 2112 \nQ 3559 1806 3559 1356 \nQ 3559 666 3084 287 \nQ 2609 -91 1734 -91 \nQ 1441 -91 1130 -33 \nQ 819 25 488 141 \nL 488 750 \nQ 750 597 1062 519 \nQ 1375 441 1716 441 \nQ 2309 441 2620 675 \nQ 2931 909 2931 1356 \nQ 2931 1769 2642 2001 \nQ 2353 2234 1838 2234 \nL 1294 2234 \nL 1294 2753 \nL 1863 2753 \nQ 2328 2753 2575 2939 \nQ 2822 3125 2822 3475 \nQ 2822 3834 2567 4026 \nQ 2313 4219 1838 4219 \nQ 1578 4219 1281 4162 \nQ 984 4106 628 3988 \nL 628 4550 \nQ 988 4650 1302 4700 \nQ 1616 4750 1894 4750 \nQ 2613 4750 3031 4423 \nQ 3450 4097 3450 3541 \nQ 3450 3153 3228 2886 \nQ 3006 2619 2597 2516 \nz\n\" transform=\"scale(0.015625)\"/>\n       </defs>\n       <use xlink:href=\"#DejaVuSans-34\" transform=\"translate(0 0.765625)\"/>\n       <use xlink:href=\"#DejaVuSans-d7\" transform=\"translate(83.105469 0.765625)\"/>\n       <use xlink:href=\"#DejaVuSans-31\" transform=\"translate(186.376953 0.765625)\"/>\n       <use xlink:href=\"#DejaVuSans-30\" transform=\"translate(250 0.765625)\"/>\n       <use xlink:href=\"#DejaVuSans-33\" transform=\"translate(314.580078 39.046875)scale(0.7)\"/>\n      </g>\n     </g>\n    </g>\n    <g id=\"ytick_3\">\n     <g id=\"line2d_23\">\n      <path d=\"M 82.700625 288.781549 \nL 529.100625 288.781549 \n\" clip-path=\"url(#p1a72d964c2)\" style=\"fill: none; stroke-dasharray: 0.5,5; stroke-dashoffset: 0; stroke: #000000; stroke-width: 0.5\"/>\n     </g>\n     <g id=\"line2d_24\">\n      <g>\n       <use xlink:href=\"#mf4d494a4cf\" x=\"82.700625\" y=\"288.781549\" style=\"stroke: #000000; stroke-width: 0.6\"/>\n      </g>\n     </g>\n    </g>\n    <g id=\"ytick_4\">\n     <g id=\"line2d_25\">\n      <path d=\"M 82.700625 260.74335 \nL 529.100625 260.74335 \n\" clip-path=\"url(#p1a72d964c2)\" style=\"fill: none; stroke-dasharray: 0.5,5; stroke-dashoffset: 0; stroke: #000000; stroke-width: 0.5\"/>\n     </g>\n     <g id=\"line2d_26\">\n      <g>\n       <use xlink:href=\"#mf4d494a4cf\" x=\"82.700625\" y=\"260.74335\" style=\"stroke: #000000; stroke-width: 0.6\"/>\n      </g>\n     </g>\n     <g id=\"text_13\">\n      <!-- $\\mathdefault{6\\times10^{3}}$ -->\n      <g transform=\"translate(28.620625 266.062257)scale(0.14 -0.14)\">\n       <defs>\n        <path id=\"DejaVuSans-36\" d=\"M 2113 2584 \nQ 1688 2584 1439 2293 \nQ 1191 2003 1191 1497 \nQ 1191 994 1439 701 \nQ 1688 409 2113 409 \nQ 2538 409 2786 701 \nQ 3034 994 3034 1497 \nQ 3034 2003 2786 2293 \nQ 2538 2584 2113 2584 \nz\nM 3366 4563 \nL 3366 3988 \nQ 3128 4100 2886 4159 \nQ 2644 4219 2406 4219 \nQ 1781 4219 1451 3797 \nQ 1122 3375 1075 2522 \nQ 1259 2794 1537 2939 \nQ 1816 3084 2150 3084 \nQ 2853 3084 3261 2657 \nQ 3669 2231 3669 1497 \nQ 3669 778 3244 343 \nQ 2819 -91 2113 -91 \nQ 1303 -91 875 529 \nQ 447 1150 447 2328 \nQ 447 3434 972 4092 \nQ 1497 4750 2381 4750 \nQ 2619 4750 2861 4703 \nQ 3103 4656 3366 4563 \nz\n\" transform=\"scale(0.015625)\"/>\n       </defs>\n       <use xlink:href=\"#DejaVuSans-36\" transform=\"translate(0 0.765625)\"/>\n       <use xlink:href=\"#DejaVuSans-d7\" transform=\"translate(83.105469 0.765625)\"/>\n       <use xlink:href=\"#DejaVuSans-31\" transform=\"translate(186.376953 0.765625)\"/>\n       <use xlink:href=\"#DejaVuSans-30\" transform=\"translate(250 0.765625)\"/>\n       <use xlink:href=\"#DejaVuSans-33\" transform=\"translate(314.580078 39.046875)scale(0.7)\"/>\n      </g>\n     </g>\n    </g>\n    <g id=\"ytick_5\">\n     <g id=\"line2d_27\">\n      <path d=\"M 82.700625 237.037392 \nL 529.100625 237.037392 \n\" clip-path=\"url(#p1a72d964c2)\" style=\"fill: none; stroke-dasharray: 0.5,5; stroke-dashoffset: 0; stroke: #000000; stroke-width: 0.5\"/>\n     </g>\n     <g id=\"line2d_28\">\n      <g>\n       <use xlink:href=\"#mf4d494a4cf\" x=\"82.700625\" y=\"237.037392\" style=\"stroke: #000000; stroke-width: 0.6\"/>\n      </g>\n     </g>\n    </g>\n    <g id=\"ytick_6\">\n     <g id=\"line2d_29\">\n      <path d=\"M 82.700625 216.502356 \nL 529.100625 216.502356 \n\" clip-path=\"url(#p1a72d964c2)\" style=\"fill: none; stroke-dasharray: 0.5,5; stroke-dashoffset: 0; stroke: #000000; stroke-width: 0.5\"/>\n     </g>\n     <g id=\"line2d_30\">\n      <g>\n       <use xlink:href=\"#mf4d494a4cf\" x=\"82.700625\" y=\"216.502356\" style=\"stroke: #000000; stroke-width: 0.6\"/>\n      </g>\n     </g>\n    </g>\n    <g id=\"ytick_7\">\n     <g id=\"line2d_31\">\n      <path d=\"M 82.700625 198.389171 \nL 529.100625 198.389171 \n\" clip-path=\"url(#p1a72d964c2)\" style=\"fill: none; stroke-dasharray: 0.5,5; stroke-dashoffset: 0; stroke: #000000; stroke-width: 0.5\"/>\n     </g>\n     <g id=\"line2d_32\">\n      <g>\n       <use xlink:href=\"#mf4d494a4cf\" x=\"82.700625\" y=\"198.389171\" style=\"stroke: #000000; stroke-width: 0.6\"/>\n      </g>\n     </g>\n    </g>\n    <g id=\"ytick_8\">\n     <g id=\"line2d_33\">\n      <path d=\"M 82.700625 75.591201 \nL 529.100625 75.591201 \n\" clip-path=\"url(#p1a72d964c2)\" style=\"fill: none; stroke-dasharray: 0.5,5; stroke-dashoffset: 0; stroke: #000000; stroke-width: 0.5\"/>\n     </g>\n     <g id=\"line2d_34\">\n      <g>\n       <use xlink:href=\"#mf4d494a4cf\" x=\"82.700625\" y=\"75.591201\" style=\"stroke: #000000; stroke-width: 0.6\"/>\n      </g>\n     </g>\n     <g id=\"text_14\">\n      <!-- $\\mathdefault{2\\times10^{4}}$ -->\n      <g transform=\"translate(28.620625 80.910107)scale(0.14 -0.14)\">\n       <use xlink:href=\"#DejaVuSans-32\" transform=\"translate(0 0.684375)\"/>\n       <use xlink:href=\"#DejaVuSans-d7\" transform=\"translate(83.105469 0.684375)\"/>\n       <use xlink:href=\"#DejaVuSans-31\" transform=\"translate(186.376953 0.684375)\"/>\n       <use xlink:href=\"#DejaVuSans-30\" transform=\"translate(250 0.684375)\"/>\n       <use xlink:href=\"#DejaVuSans-34\" transform=\"translate(314.580078 38.965625)scale(0.7)\"/>\n      </g>\n     </g>\n    </g>\n    <g id=\"text_15\">\n     <!-- Loss -->\n     <g transform=\"translate(20.877187 212.938125)rotate(-90)scale(0.18 -0.18)\">\n      <defs>\n       <path id=\"DejaVuSans-4c\" d=\"M 628 4666 \nL 1259 4666 \nL 1259 531 \nL 3531 531 \nL 3531 0 \nL 628 0 \nL 628 4666 \nz\n\" transform=\"scale(0.015625)\"/>\n       <path id=\"DejaVuSans-6f\" d=\"M 1959 3097 \nQ 1497 3097 1228 2736 \nQ 959 2375 959 1747 \nQ 959 1119 1226 758 \nQ 1494 397 1959 397 \nQ 2419 397 2687 759 \nQ 2956 1122 2956 1747 \nQ 2956 2369 2687 2733 \nQ 2419 3097 1959 3097 \nz\nM 1959 3584 \nQ 2709 3584 3137 3096 \nQ 3566 2609 3566 1747 \nQ 3566 888 3137 398 \nQ 2709 -91 1959 -91 \nQ 1206 -91 779 398 \nQ 353 888 353 1747 \nQ 353 2609 779 3096 \nQ 1206 3584 1959 3584 \nz\n\" transform=\"scale(0.015625)\"/>\n      </defs>\n      <use xlink:href=\"#DejaVuSans-4c\"/>\n      <use xlink:href=\"#DejaVuSans-6f\" x=\"53.962891\"/>\n      <use xlink:href=\"#DejaVuSans-73\" x=\"115.144531\"/>\n      <use xlink:href=\"#DejaVuSans-73\" x=\"167.244141\"/>\n     </g>\n    </g>\n   </g>\n   <g id=\"line2d_35\">\n    <path d=\"M 102.991534 41.997187 \nL 103.199753 90.172563 \nL 103.407971 183.321535 \nL 103.61619 177.669572 \nL 103.824409 190.596273 \nL 104.032627 195.499992 \nL 104.240846 181.359592 \nL 104.449065 192.012934 \nL 104.657283 195.020026 \nL 104.865502 187.757642 \nL 105.073721 197.034028 \nL 105.281939 195.046121 \nL 105.490158 189.471222 \nL 105.698377 198.612982 \nL 105.906595 190.225069 \nL 106.114814 199.766311 \nL 106.323033 196.903421 \nL 106.531251 197.418477 \nL 106.73947 199.857997 \nL 106.947689 197.240424 \nL 107.155907 201.64105 \nL 107.364126 197.962537 \nL 107.572345 198.335609 \nL 107.780563 197.419887 \nL 107.988782 201.242022 \nL 108.197001 199.738221 \nL 108.405219 204.794067 \nL 108.613438 201.317013 \nL 109.029875 209.395753 \nL 109.446313 213.411294 \nL 109.654531 213.20763 \nL 109.86275 213.197181 \nL 110.070969 212.271207 \nL 110.279187 212.172602 \nL 111.320281 220.02745 \nL 111.528499 220.135489 \nL 111.736718 219.887461 \nL 112.569593 212.761853 \nL 112.777811 211.589054 \nL 112.98603 212.205057 \nL 113.402467 215.857527 \nL 113.610686 223.198891 \nL 113.818905 224.120909 \nL 114.027123 229.121528 \nL 114.235342 229.014779 \nL 114.859998 220.882646 \nL 115.068217 216.51849 \nL 115.484654 215.580688 \nL 115.692873 216.465808 \nL 115.901091 219.320717 \nL 116.10931 219.201358 \nL 116.525747 228.650301 \nL 116.942185 241.100308 \nL 117.150403 240.97772 \nL 117.358622 233.26261 \nL 117.566841 231.214827 \nL 117.983278 221.920636 \nL 118.399715 220.756784 \nL 118.607934 221.394429 \nL 119.23259 229.092945 \nL 119.649027 245.479118 \nL 119.857246 250.964175 \nL 120.065465 242.903302 \nL 120.273683 243.220013 \nL 120.690121 232.343145 \nL 120.898339 229.163075 \nL 121.314777 225.779961 \nL 121.522995 227.692235 \nL 121.731214 230.752753 \nL 121.939433 228.999835 \nL 122.564089 256.131628 \nL 122.772307 261.086132 \nL 122.980526 262.997417 \nL 123.605182 237.854401 \nL 123.813401 233.690099 \nL 124.438057 228.712586 \nL 124.854494 235.327587 \nL 125.062713 242.228141 \nL 125.47915 267.984125 \nL 125.687369 272.38647 \nL 125.895587 269.948866 \nL 126.936681 231.567539 \nL 127.144899 229.863485 \nL 127.353118 231.515754 \nL 127.769555 239.858702 \nL 127.977774 247.33422 \nL 128.60243 285.696163 \nL 129.018867 262.846663 \nL 129.435305 238.030186 \nL 129.643523 232.622779 \nL 130.268179 225.690006 \nL 130.476398 231.644488 \nL 130.684617 234.358412 \nL 131.309273 278.444283 \nL 131.517491 278.268031 \nL 131.72571 269.823046 \nL 132.142147 249.296594 \nL 132.558585 233.55789 \nL 132.766803 229.524378 \nL 132.975022 227.654651 \nL 133.183241 228.156529 \nL 133.599678 238.974899 \nL 134.432553 295.763707 \nL 134.640771 294.620536 \nL 135.473646 250.30993 \nL 135.681865 249.348005 \nL 135.890083 247.333556 \nL 136.306521 257.803996 \nL 136.722958 286.238048 \nL 137.139395 304.358557 \nL 137.347614 312.131079 \nL 137.555833 310.981005 \nL 137.97227 303.720733 \nL 138.180489 296.583444 \nL 138.388707 301.263987 \nL 138.596926 293.077841 \nL 139.429801 305.801146 \nL 139.638019 306.234576 \nL 139.846238 311.981564 \nL 140.054457 311.810756 \nL 140.262675 314.718074 \nL 140.470894 309.309159 \nL 140.679113 316.225761 \nL 140.887331 310.908496 \nL 141.09555 313.965839 \nL 141.303769 311.388421 \nL 141.720206 313.020729 \nL 141.928425 309.506446 \nL 142.136643 309.314476 \nL 142.344862 308.406679 \nL 142.969518 330.171527 \nL 143.385955 338.208247 \nL 143.594174 336.700155 \nL 143.802393 339.037401 \nL 144.010611 335.06132 \nL 144.21883 336.138853 \nL 144.427049 330.686562 \nL 145.051705 334.678219 \nL 145.259923 333.933821 \nL 145.468142 335.101845 \nL 145.676361 333.610732 \nL 145.884579 334.855358 \nL 146.092798 333.819649 \nL 146.301017 336.186268 \nL 146.509235 335.054293 \nL 146.717454 334.556493 \nL 146.925673 334.501115 \nL 147.34211 331.352858 \nL 147.758547 324.867007 \nL 148.174985 317.919157 \nL 148.383203 315.31649 \nL 148.591422 315.475827 \nL 148.799641 314.44501 \nL 149.007859 314.880872 \nL 149.216078 317.429813 \nL 149.424297 316.17387 \nL 149.632515 316.639291 \nL 149.840734 314.224114 \nL 150.46539 287.021488 \nL 150.881827 267.735077 \nL 151.090046 263.656429 \nL 151.506483 262.82298 \nL 151.922921 269.484724 \nL 152.131139 273.246692 \nL 152.339358 274.463209 \nL 152.547577 272.690763 \nL 153.58867 241.710873 \nL 153.796889 240.572233 \nL 154.005107 242.67549 \nL 154.837982 264.666183 \nL 155.046201 266.248263 \nL 155.254419 266.803028 \nL 155.670857 257.093606 \nL 156.087294 245.514506 \nL 156.295513 244.051012 \nL 156.920169 248.635582 \nL 157.544825 269.653906 \nL 157.753043 271.670516 \nL 157.961262 275.177867 \nL 158.377699 268.897663 \nL 159.002355 250.729894 \nL 159.418793 253.474108 \nL 159.627011 251.451053 \nL 160.459886 277.977693 \nL 160.668105 278.71618 \nL 160.876323 282.13553 \nL 161.084542 279.230648 \nL 161.292761 272.54813 \nL 161.500979 261.653929 \nL 161.917417 253.311679 \nL 162.125635 254.322335 \nL 162.333854 256.74811 \nL 162.542073 253.74219 \nL 162.750291 258.382114 \nL 163.166729 274.603474 \nL 163.374947 276.83858 \nL 163.583166 276.568101 \nL 163.791385 278.884875 \nL 163.999603 276.482876 \nL 164.624259 254.851385 \nL 164.832478 254.396663 \nL 165.040697 252.057451 \nL 165.665353 258.866709 \nL 166.08179 274.274011 \nL 166.290009 275.054292 \nL 166.498228 276.989312 \nL 166.706446 277.317324 \nL 166.914665 274.405105 \nL 167.331102 261.063838 \nL 167.539321 256.997618 \nL 167.74754 255.923705 \nL 167.955758 252.067375 \nL 168.163977 251.350223 \nL 168.580414 258.229216 \nL 168.996852 269.053336 \nL 169.20507 272.167936 \nL 169.621508 270.540848 \nL 170.037945 263.888667 \nL 170.454382 253.422096 \nL 170.87082 246.813776 \nL 171.079038 248.291674 \nL 172.120132 267.855196 \nL 172.32835 267.526373 \nL 172.744788 263.289027 \nL 173.369444 245.59673 \nL 173.577662 242.178416 \nL 173.785881 242.200486 \nL 174.410537 260.336184 \nL 174.618756 265.564759 \nL 174.826974 267.863489 \nL 175.035193 266.531531 \nL 175.243412 268.168766 \nL 175.868068 258.260542 \nL 176.076286 253.108482 \nL 176.284505 253.403338 \nL 176.492724 256.353315 \nL 176.909161 271.332104 \nL 177.533817 303.706094 \nL 177.950254 315.741526 \nL 178.158473 315.887652 \nL 178.366692 312.976831 \nL 178.57491 312.345892 \nL 178.783129 305.981422 \nL 178.991348 309.428352 \nL 179.199566 306.956103 \nL 179.407785 308.730777 \nL 179.824222 315.573891 \nL 180.24066 325.135395 \nL 180.448878 331.318521 \nL 180.865316 335.400405 \nL 181.073534 336.343732 \nL 181.281753 335.505621 \nL 181.489972 336.008992 \nL 181.69819 335.13113 \nL 181.906409 337.304029 \nL 182.531065 334.282237 \nL 182.739284 334.421312 \nL 182.947502 336.907413 \nL 183.155721 334.125929 \nL 183.36394 339.310341 \nL 183.780377 336.660824 \nL 184.196814 335.040306 \nL 184.405033 343.306096 \nL 184.82147 336.417444 \nL 185.029689 329.053173 \nL 185.237908 334.021856 \nL 185.446126 333.611177 \nL 185.654345 333.641182 \nL 185.862564 334.3139 \nL 186.070782 333.117894 \nL 186.279001 333.95172 \nL 186.48722 331.434234 \nL 186.695438 334.388927 \nL 186.903657 333.449424 \nL 187.111876 335.379787 \nL 187.320094 335.419797 \nL 188.569406 309.531857 \nL 189.194062 304.072054 \nL 190.026937 307.015668 \nL 190.235156 307.203111 \nL 190.651593 293.576851 \nL 191.276249 265.884653 \nL 191.692686 253.997851 \nL 191.900905 251.400724 \nL 192.109124 251.298275 \nL 192.317342 251.789138 \nL 192.525561 254.246586 \nL 193.150217 256.951321 \nL 193.358436 255.319397 \nL 193.774873 249.031849 \nL 193.983092 245.035374 \nL 194.399529 242.738958 \nL 194.607748 243.755136 \nL 194.815966 243.907813 \nL 195.232404 250.015279 \nL 195.648841 251.829995 \nL 195.85706 252.071691 \nL 196.065278 251.981638 \nL 196.898153 243.276666 \nL 197.106372 246.852974 \nL 197.939246 254.092439 \nL 198.355684 257.991073 \nL 198.563902 257.320164 \nL 198.772121 258.524572 \nL 198.98034 257.161955 \nL 199.604996 249.115649 \nL 199.813214 250.864349 \nL 200.021433 250.759205 \nL 200.43787 254.829312 \nL 200.646089 254.853072 \nL 201.062526 263.046928 \nL 201.270745 262.874211 \nL 201.478964 265.194363 \nL 201.687182 263.183271 \nL 201.895401 259.643957 \nL 202.10362 259.099861 \nL 202.520057 250.549004 \nL 202.728276 251.043749 \nL 202.936494 255.903579 \nL 203.144713 254.08368 \nL 203.352932 254.935313 \nL 203.56115 256.971899 \nL 203.769369 262.71266 \nL 203.977588 264.934856 \nL 204.185806 265.210543 \nL 204.394025 266.780024 \nL 204.602244 265.436988 \nL 205.435118 253.456422 \nL 205.643337 252.09251 \nL 205.851556 257.060511 \nL 206.267993 254.146658 \nL 206.68443 265.565226 \nL 206.892649 268.166802 \nL 207.100868 268.374 \nL 207.309086 269.029681 \nL 207.725524 263.719269 \nL 207.933742 260.036099 \nL 208.141961 253.891225 \nL 208.35018 253.149419 \nL 208.558398 251.37898 \nL 208.766617 253.857457 \nL 208.974836 252.026503 \nL 209.183054 252.932698 \nL 209.599492 262.795141 \nL 209.80771 264.266913 \nL 210.015929 262.11874 \nL 210.432366 260.839252 \nL 211.057022 246.036426 \nL 211.265241 245.680114 \nL 211.47346 246.156786 \nL 211.681678 246.933868 \nL 211.889897 247.166212 \nL 212.098116 249.048396 \nL 212.514553 257.453668 \nL 212.722772 257.632963 \nL 212.93099 257.038616 \nL 213.139209 255.592123 \nL 213.347428 253.129097 \nL 213.972084 239.896886 \nL 214.180302 240.725797 \nL 214.388521 242.3532 \nL 214.59674 244.858535 \nL 215.221396 260.801281 \nL 215.429614 265.798112 \nL 215.637833 266.640189 \nL 215.846052 264.463102 \nL 216.05427 264.351465 \nL 216.678926 254.146594 \nL 216.887145 255.068388 \nL 217.303582 266.719581 \nL 218.344676 303.502999 \nL 218.552894 306.555379 \nL 218.761113 312.373815 \nL 219.17755 312.932866 \nL 219.593988 311.901219 \nL 219.802206 312.422804 \nL 220.010425 313.789442 \nL 220.426862 321.596413 \nL 221.259737 330.999319 \nL 221.467956 337.393146 \nL 221.676174 338.445315 \nL 222.092612 337.638037 \nL 222.30083 337.967937 \nL 222.509049 337.821659 \nL 222.717268 337.41158 \nL 223.133705 338.148984 \nL 223.341924 336.829947 \nL 223.550142 337.496336 \nL 223.758361 339.08388 \nL 223.96658 338.08001 \nL 224.174798 337.747488 \nL 224.383017 336.587793 \nL 224.591236 338.526946 \nL 224.799454 337.717508 \nL 225.007673 344.397187 \nL 225.215892 343.407976 \nL 225.42411 337.000894 \nL 225.840548 333.237257 \nL 226.256985 337.845641 \nL 226.673422 335.703704 \nL 226.881641 336.608003 \nL 227.08986 335.889727 \nL 227.298078 335.940013 \nL 227.506297 337.532408 \nL 227.922734 336.96501 \nL 228.130953 330.761841 \nL 228.339172 330.652619 \nL 229.380265 312.901888 \nL 229.588484 312.607295 \nL 230.004921 311.410433 \nL 230.21314 311.895443 \nL 230.421358 310.277296 \nL 230.629577 311.242787 \nL 231.254233 295.218949 \nL 232.295326 260.815061 \nL 232.711764 255.810078 \nL 233.128201 257.780376 \nL 233.544638 260.496486 \nL 233.752857 260.192836 \nL 233.961076 258.031771 \nL 234.585732 246.486674 \nL 235.002169 241.836959 \nL 235.210388 241.633628 \nL 235.418606 242.904389 \nL 236.043262 249.252388 \nL 236.4597 250.574072 \nL 236.667918 249.598161 \nL 237.292574 243.14744 \nL 238.125449 246.642911 \nL 238.333668 249.358086 \nL 238.750105 256.952554 \nL 238.958324 257.754542 \nL 239.166542 259.073768 \nL 239.58298 256.801903 \nL 239.999417 250.795664 \nL 240.207636 250.208055 \nL 240.415854 251.188191 \nL 240.832292 251.099291 \nL 241.665166 266.387632 \nL 241.873385 267.003866 \nL 242.081604 268.300938 \nL 242.289822 267.238205 \nL 242.498041 264.714791 \nL 242.914478 257.60267 \nL 243.330916 254.479416 \nL 243.539134 256.963211 \nL 243.747353 254.597451 \nL 243.955572 256.308135 \nL 244.580228 267.437206 \nL 244.788446 266.122668 \nL 244.996665 267.230368 \nL 245.413102 263.26435 \nL 245.82954 256.004859 \nL 246.037758 255.59349 \nL 246.245977 254.038705 \nL 246.454196 255.584916 \nL 246.662414 253.63807 \nL 246.870633 254.828359 \nL 247.28707 263.767995 \nL 247.495289 265.681461 \nL 247.703508 264.139993 \nL 247.911726 264.257598 \nL 248.119945 262.668259 \nL 248.328164 258.885258 \nL 248.536382 257.344216 \nL 248.744601 253.966374 \nL 248.95282 253.722616 \nL 249.161038 252.284542 \nL 249.369257 248.571552 \nL 250.202132 258.874707 \nL 250.618569 261.296141 \nL 251.451444 251.038513 \nL 251.867881 248.677916 \nL 252.284318 245.350321 \nL 252.492537 245.858298 \nL 252.908974 249.813036 \nL 253.117193 252.442588 \nL 253.325412 252.957606 \nL 253.53363 252.979539 \nL 253.950068 251.144822 \nL 254.366505 245.547232 \nL 254.574724 242.322525 \nL 254.782942 241.674703 \nL 254.991161 242.068021 \nL 255.407598 248.226691 \nL 255.824036 255.538127 \nL 256.032254 256.673942 \nL 256.240473 256.478438 \nL 256.448692 257.311774 \nL 256.65691 257.054021 \nL 257.073348 254.286941 \nL 257.489785 250.549178 \nL 257.698004 253.886765 \nL 258.739097 291.959153 \nL 259.155534 307.127158 \nL 259.571972 306.252282 \nL 259.78019 305.317134 \nL 259.988409 305.176932 \nL 260.196628 304.032902 \nL 260.404846 304.437709 \nL 261.029502 313.06768 \nL 261.44594 319.728573 \nL 261.862377 325.103297 \nL 262.487033 330.481814 \nL 262.695252 334.253878 \nL 262.90347 332.864883 \nL 263.111689 332.998972 \nL 263.319908 335.05974 \nL 263.736345 332.886325 \nL 263.944564 333.140799 \nL 264.152782 332.618246 \nL 264.56922 332.68143 \nL 264.777438 333.063085 \nL 264.985657 334.566137 \nL 265.193876 334.466361 \nL 265.402094 333.730455 \nL 265.610313 341.708959 \nL 265.818532 336.92755 \nL 266.02675 338.112862 \nL 266.234969 330.440255 \nL 266.443188 331.578539 \nL 266.651406 331.904442 \nL 266.859625 333.365073 \nL 267.067844 331.03339 \nL 267.276062 331.209583 \nL 267.484281 329.504497 \nL 267.6925 333.040431 \nL 267.900718 333.849335 \nL 268.108937 328.926009 \nL 268.317156 327.218126 \nL 268.525374 328.110113 \nL 268.941812 323.585087 \nL 269.358249 315.657064 \nL 270.191124 303.899683 \nL 270.399342 303.259375 \nL 270.81578 304.9129 \nL 271.023998 304.467016 \nL 271.440436 306.256378 \nL 271.648654 299.835673 \nL 271.856873 287.106004 \nL 272.27331 274.069661 \nL 272.897966 254.496048 \nL 273.106185 251.835076 \nL 273.314404 251.537677 \nL 273.522622 252.457978 \nL 273.730841 255.317609 \nL 274.147278 257.453705 \nL 274.355497 257.645343 \nL 274.563716 256.018785 \nL 274.980153 249.155959 \nL 275.39659 243.520339 \nL 275.604809 242.33782 \nL 275.813028 244.089802 \nL 276.021246 244.093943 \nL 276.645902 250.542143 \nL 276.854121 251.613614 \nL 277.06234 251.754374 \nL 277.270558 251.440564 \nL 278.103433 242.806317 \nL 278.51987 248.12945 \nL 278.728089 248.264257 \nL 278.936308 249.713325 \nL 279.560964 256.323053 \nL 279.769182 255.641265 \nL 279.977401 256.043755 \nL 280.18562 255.849759 \nL 280.602057 250.880509 \nL 280.810276 248.365519 \nL 281.018494 248.987671 \nL 281.226713 249.197152 \nL 281.64315 252.307722 \nL 282.267806 260.932274 \nL 282.684244 263.146132 \nL 282.892462 261.535786 \nL 283.100681 258.867058 \nL 283.3089 259.717602 \nL 283.725337 250.938605 \nL 283.933556 252.215117 \nL 284.141774 255.691177 \nL 284.349993 254.63433 \nL 284.558212 254.824311 \nL 284.76643 256.409032 \nL 285.182868 264.372505 \nL 285.599305 264.438847 \nL 285.807524 263.299951 \nL 286.015742 260.667818 \nL 286.223961 260.325043 \nL 286.43218 255.653385 \nL 286.848617 253.422041 \nL 287.056836 257.622044 \nL 287.265054 255.067447 \nL 287.473273 255.529243 \nL 288.097929 266.26075 \nL 288.306148 266.202104 \nL 288.514366 266.43199 \nL 288.722585 264.682935 \nL 289.55546 252.872916 \nL 289.763678 252.064164 \nL 289.971897 251.923463 \nL 290.180116 249.719049 \nL 290.388334 249.952094 \nL 291.01299 258.054625 \nL 291.429428 256.888105 \nL 291.637646 256.547889 \nL 292.262302 245.171702 \nL 292.470521 245.33501 \nL 292.67874 245.275484 \nL 292.886958 244.987695 \nL 293.095177 244.910604 \nL 293.303396 245.276827 \nL 293.719833 249.95947 \nL 293.928052 250.384719 \nL 294.13627 250.479628 \nL 294.344489 250.196278 \nL 294.552708 248.903295 \nL 295.177364 239.47875 \nL 295.385582 240.522932 \nL 295.80202 244.396672 \nL 296.426676 257.886694 \nL 296.634894 264.372284 \nL 296.843113 265.051863 \nL 297.051332 262.153149 \nL 297.25955 261.436215 \nL 297.675988 257.372681 \nL 297.884206 255.781552 \nL 298.092425 257.179431 \nL 298.508862 267.645304 \nL 299.341737 296.913336 \nL 300.174612 310.240081 \nL 300.38283 311.833262 \nL 300.799268 309.94488 \nL 301.007486 310.582324 \nL 301.215705 312.076431 \nL 301.840361 320.993608 \nL 302.256798 324.405749 \nL 302.465017 324.811129 \nL 302.881454 334.273246 \nL 303.089673 334.515437 \nL 303.297892 333.781908 \nL 303.50611 333.460063 \nL 303.714329 334.228722 \nL 303.922548 333.482692 \nL 304.130766 333.59045 \nL 304.338985 332.797162 \nL 304.755422 333.099675 \nL 305.588297 335.308688 \nL 305.796516 335.357484 \nL 306.004734 334.213975 \nL 306.212953 341.426502 \nL 306.421172 337.721621 \nL 306.62939 337.161282 \nL 307.254046 328.276659 \nL 307.462265 335.699909 \nL 307.670484 330.427111 \nL 307.878702 331.620608 \nL 308.086921 331.517087 \nL 308.29514 332.51889 \nL 308.503358 332.488492 \nL 308.711577 333.739053 \nL 308.919796 333.252537 \nL 309.336233 325.306755 \nL 309.544452 327.030899 \nL 309.960889 319.876831 \nL 310.169108 318.580621 \nL 310.585545 309.588587 \nL 311.001982 310.551117 \nL 311.210201 309.72471 \nL 311.41842 311.535749 \nL 311.834857 308.554407 \nL 312.043076 306.92719 \nL 313.084169 273.103509 \nL 313.500606 262.566779 \nL 313.708825 258.985291 \nL 313.917044 257.453091 \nL 314.749918 262.674102 \nL 314.958137 262.517533 \nL 315.166356 261.129163 \nL 315.582793 249.405926 \nL 316.207449 241.248277 \nL 316.415668 240.623335 \nL 316.623886 241.466269 \nL 317.248542 247.628887 \nL 317.456761 248.457237 \nL 317.66498 248.777917 \nL 317.873198 248.085316 \nL 318.497854 242.091445 \nL 318.914292 242.816876 \nL 319.12251 243.245418 \nL 319.330729 244.547943 \nL 319.538948 247.02947 \nL 319.955385 253.516509 \nL 320.371822 254.429572 \nL 320.580041 254.048211 \nL 320.78826 252.792569 \nL 321.204697 247.301181 \nL 321.412916 247.544914 \nL 321.621134 248.871327 \nL 321.829353 248.637366 \nL 322.037572 249.776147 \nL 322.870446 263.467061 \nL 323.078665 264.177297 \nL 323.286884 263.752713 \nL 323.495102 262.976329 \nL 323.703321 260.657254 \nL 324.119758 254.767099 \nL 324.327977 253.258228 \nL 324.536196 253.77825 \nL 324.744414 255.114703 \nL 324.952633 253.661051 \nL 325.160852 255.312484 \nL 325.785508 264.734236 \nL 326.201945 264.28078 \nL 326.618382 260.5633 \nL 327.03482 255.033328 \nL 327.451257 251.81337 \nL 327.659476 253.775296 \nL 328.075913 252.765305 \nL 328.49235 261.688745 \nL 328.908788 263.515205 \nL 329.117006 262.65935 \nL 329.325225 260.89722 \nL 329.741662 255.041494 \nL 330.574537 246.450681 \nL 330.782756 248.738214 \nL 330.990974 249.604439 \nL 331.407412 255.346148 \nL 331.61563 256.6047 \nL 331.823849 256.867806 \nL 332.240286 254.17719 \nL 332.448505 252.510452 \nL 332.864942 247.376647 \nL 333.073161 247.049752 \nL 333.489598 243.469197 \nL 333.697817 243.889032 \nL 334.322473 250.347115 \nL 334.530692 251.620994 \nL 334.73891 251.696283 \nL 335.155348 250.325746 \nL 335.571785 245.294662 \nL 335.780004 242.198451 \nL 335.988222 241.615136 \nL 336.196441 241.476571 \nL 336.40466 243.52681 \nL 337.029316 254.666439 \nL 337.237534 255.568062 \nL 337.445753 255.60068 \nL 337.653972 256.868516 \nL 337.86219 256.597648 \nL 338.070409 255.920829 \nL 338.695065 249.275997 \nL 339.111502 260.209237 \nL 340.152596 296.024596 \nL 340.360814 299.730359 \nL 340.569033 299.479746 \nL 340.98547 302.731599 \nL 341.401908 301.124975 \nL 341.610126 299.725034 \nL 342.026564 306.277995 \nL 342.859438 318.811086 \nL 343.275876 322.656846 \nL 343.692313 328.707411 \nL 343.900532 328.807113 \nL 344.316969 328.422198 \nL 344.525188 329.867331 \nL 344.733406 329.914459 \nL 344.941625 329.287932 \nL 345.149844 329.137582 \nL 345.358062 329.224791 \nL 345.566281 328.898812 \nL 345.7745 330.18488 \nL 345.982718 330.324282 \nL 346.190937 329.996587 \nL 346.399156 330.158867 \nL 346.607374 329.033391 \nL 346.815593 335.462743 \nL 347.023812 333.770906 \nL 347.23203 330.344909 \nL 347.440249 329.910635 \nL 347.648468 332.557233 \nL 347.856686 326.595635 \nL 348.064905 328.435512 \nL 348.273124 325.261036 \nL 348.481342 326.110608 \nL 348.689561 325.519157 \nL 349.105998 331.821099 \nL 349.522436 323.248126 \nL 349.730654 321.121876 \nL 349.938873 322.239939 \nL 350.563529 313.617561 \nL 351.188185 301.116867 \nL 351.396404 299.921252 \nL 351.604622 300.06308 \nL 351.812841 301.264463 \nL 352.02106 301.618437 \nL 352.229278 300.612686 \nL 352.437497 297.199046 \nL 352.645716 300.15983 \nL 352.853934 296.38886 \nL 353.47859 272.041388 \nL 354.103246 253.871952 \nL 354.311465 250.548874 \nL 354.519684 250.178878 \nL 354.727902 251.516408 \nL 355.14434 255.38117 \nL 355.560777 256.66081 \nL 355.768996 254.753912 \nL 356.60187 242.643324 \nL 356.810089 241.892199 \nL 357.018308 243.513794 \nL 357.226526 243.351432 \nL 357.851182 249.596499 \nL 358.059401 250.614782 \nL 358.26762 250.670411 \nL 358.475838 250.327456 \nL 358.684057 248.382469 \nL 358.892276 245.064878 \nL 359.100494 244.472686 \nL 359.308713 241.942048 \nL 359.72515 247.007206 \nL 359.933369 246.933171 \nL 360.141588 248.392574 \nL 360.766244 254.786022 \nL 361.182681 255.394956 \nL 361.3909 254.241281 \nL 362.015556 248.002539 \nL 362.431993 247.405306 \nL 362.84843 250.469615 \nL 363.473086 259.291436 \nL 363.889524 261.698157 \nL 364.097742 261.279795 \nL 364.305961 258.707403 \nL 364.51418 257.735338 \nL 364.722398 254.813026 \nL 364.930617 250.202802 \nL 365.138836 250.945637 \nL 365.347054 253.805009 \nL 365.555273 252.269693 \nL 365.763492 252.865422 \nL 365.97171 254.504936 \nL 366.388148 262.735925 \nL 366.596366 262.234876 \nL 366.804585 262.707053 \nL 367.012804 261.855696 \nL 367.845678 252.990521 \nL 368.053897 251.646799 \nL 368.262116 255.185122 \nL 368.470334 253.035212 \nL 368.678553 252.406729 \nL 369.09499 260.411557 \nL 369.303209 262.433842 \nL 369.719646 263.126656 \nL 369.927865 262.78633 \nL 370.344302 256.205123 \nL 370.552521 252.255843 \nL 371.177177 249.054554 \nL 371.385396 246.841421 \nL 371.593614 247.123794 \nL 371.801833 248.748376 \nL 372.010052 252.081124 \nL 372.21827 253.260107 \nL 372.634708 253.132691 \nL 372.842926 252.988758 \nL 373.051145 250.944338 \nL 373.467582 243.271634 \nL 374.092238 242.387718 \nL 374.300457 242.469916 \nL 374.508676 242.895427 \nL 374.925113 247.698921 \nL 375.133332 247.967202 \nL 375.34155 248.597212 \nL 375.549769 248.102892 \nL 375.757988 247.255007 \nL 375.966206 244.90272 \nL 376.382644 238.399667 \nL 376.590862 239.658478 \nL 377.0073 243.703772 \nL 377.631956 257.262338 \nL 377.840174 263.406372 \nL 378.048393 264.367655 \nL 378.46483 262.228875 \nL 379.089486 256.021351 \nL 379.297705 256.598777 \nL 379.714142 267.167275 \nL 380.547017 296.248028 \nL 380.755236 303.199426 \nL 381.379892 310.408541 \nL 381.58811 310.671494 \nL 381.796329 309.825115 \nL 382.004548 308.303252 \nL 382.420985 311.289744 \nL 383.462078 324.15445 \nL 383.670297 324.629553 \nL 384.086734 332.526863 \nL 384.294953 333.421472 \nL 384.503172 331.901779 \nL 384.71139 332.899114 \nL 385.127828 331.590488 \nL 385.336046 331.932315 \nL 385.544265 332.026103 \nL 385.752484 332.249461 \nL 385.960702 331.982365 \nL 386.168921 331.486938 \nL 386.37714 331.739819 \nL 386.585358 332.36649 \nL 386.793577 332.2857 \nL 387.001796 333.252979 \nL 387.210014 332.372112 \nL 387.418233 339.08941 \nL 387.626452 337.351577 \nL 387.83467 332.050553 \nL 388.042889 334.28631 \nL 388.459326 327.790979 \nL 388.667545 330.734062 \nL 388.875764 327.957694 \nL 389.083982 330.938601 \nL 389.292201 331.204021 \nL 389.50042 333.541652 \nL 389.708638 331.082845 \nL 389.916857 332.059188 \nL 390.333294 327.816906 \nL 390.95795 322.963292 \nL 391.790825 308.500236 \nL 392.207262 309.061331 \nL 392.415481 308.548455 \nL 392.6237 310.549354 \nL 392.831918 309.622385 \nL 393.456574 302.159633 \nL 394.289449 272.985439 \nL 394.705886 262.130687 \nL 395.122324 256.784388 \nL 395.330542 257.928026 \nL 395.74698 261.646306 \nL 395.955198 262.604878 \nL 396.163417 262.501427 \nL 396.371636 261.093086 \nL 396.788073 249.425395 \nL 397.412729 240.764899 \nL 397.620948 240.347292 \nL 397.829166 240.876561 \nL 398.453822 246.769245 \nL 398.662041 247.493316 \nL 398.87026 247.679308 \nL 399.078478 247.177884 \nL 399.494916 242.515039 \nL 399.703134 241.051557 \nL 400.119572 241.373417 \nL 400.536009 243.112709 \nL 400.952446 248.947122 \nL 401.160665 251.467156 \nL 401.368884 252.205424 \nL 401.577102 252.379696 \nL 401.785321 252.153885 \nL 401.99354 250.997414 \nL 402.409977 245.533076 \nL 402.618196 245.943028 \nL 402.826414 247.280911 \nL 403.034633 247.105454 \nL 403.242852 248.289436 \nL 403.659289 254.409277 \nL 403.867508 259.861882 \nL 404.075726 262.337075 \nL 404.283945 263.350991 \nL 404.700382 261.689634 \nL 405.533257 251.787575 \nL 405.741476 252.051897 \nL 405.949694 253.281992 \nL 406.157913 251.880946 \nL 406.366132 253.406403 \nL 406.782569 260.971303 \nL 407.199006 263.317714 \nL 407.407225 262.811742 \nL 407.823662 259.051808 \nL 408.2401 254.092137 \nL 408.656537 250.545561 \nL 408.864756 252.527777 \nL 409.281193 251.75196 \nL 409.69763 260.384122 \nL 409.905849 261.711253 \nL 410.114068 262.321182 \nL 410.322286 261.737464 \nL 410.530505 260.273496 \nL 410.946942 254.025554 \nL 411.779817 245.260136 \nL 412.612692 254.499429 \nL 413.029129 256.314566 \nL 413.445566 254.126785 \nL 413.862004 249.085806 \nL 414.070222 246.837085 \nL 414.278441 246.538672 \nL 414.694878 242.970475 \nL 414.903097 243.236122 \nL 415.527753 249.465835 \nL 415.735972 250.969033 \nL 415.94419 251.027021 \nL 416.360628 249.890224 \nL 416.777065 245.050063 \nL 416.985284 242.044684 \nL 417.193502 241.504785 \nL 417.401721 241.337101 \nL 417.60994 242.879069 \nL 418.234596 253.883301 \nL 418.442814 254.769339 \nL 418.859252 257.463724 \nL 419.06747 257.439352 \nL 419.275689 256.454204 \nL 419.483908 254.889406 \nL 419.900345 250.138866 \nL 420.316782 260.352942 \nL 421.566094 303.37829 \nL 421.982532 302.615632 \nL 422.19075 302.666609 \nL 422.607188 299.707428 \nL 422.815406 300.543544 \nL 423.023625 302.924552 \nL 424.064718 320.646745 \nL 424.272937 321.848174 \nL 424.481156 323.881002 \nL 424.689374 327.285221 \nL 424.897593 326.942837 \nL 425.105812 329.879583 \nL 425.522249 328.538919 \nL 425.730468 329.604111 \nL 425.938686 329.831403 \nL 426.146905 329.328965 \nL 426.355124 330.144977 \nL 426.563342 329.48976 \nL 426.771561 329.37662 \nL 426.97978 330.179339 \nL 427.187998 330.027085 \nL 427.396217 330.365823 \nL 427.604436 330.407431 \nL 427.812654 329.473257 \nL 428.020873 336.840056 \nL 428.645529 329.078665 \nL 428.853748 331.983325 \nL 429.061966 323.63996 \nL 429.270185 327.319802 \nL 429.478404 327.222098 \nL 429.686622 328.398715 \nL 429.894841 327.615929 \nL 430.311278 332.951656 \nL 430.519497 324.607744 \nL 430.727716 323.131801 \nL 430.935934 323.182473 \nL 431.352372 321.426616 \nL 431.56059 318.869036 \nL 432.185246 306.039201 \nL 432.393465 302.260717 \nL 432.809902 299.773943 \nL 433.018121 300.108642 \nL 433.22634 301.688201 \nL 433.434558 301.886214 \nL 433.642777 300.615255 \nL 433.850996 302.304973 \nL 434.059214 297.587806 \nL 434.68387 273.060112 \nL 435.100308 260.041704 \nL 435.516745 251.825559 \nL 435.724964 251.159023 \nL 435.933182 252.396532 \nL 436.34962 256.352922 \nL 436.557838 257.176197 \nL 436.766057 257.277146 \nL 437.80715 242.405235 \nL 438.015369 242.048123 \nL 438.223588 243.167824 \nL 438.431806 243.318107 \nL 439.056462 249.244028 \nL 439.264681 250.135586 \nL 439.4729 250.204381 \nL 439.681118 249.841547 \nL 439.889337 247.835876 \nL 440.097556 244.39975 \nL 440.305774 243.881503 \nL 440.513993 241.482452 \nL 440.722212 243.392943 \nL 440.93043 246.589801 \nL 441.138649 246.577351 \nL 441.555086 250.152661 \nL 441.763305 253.169248 \nL 441.971524 253.55148 \nL 442.179742 255.126682 \nL 442.387961 254.725737 \nL 442.59618 253.938024 \nL 443.220836 247.598756 \nL 443.637273 246.905139 \nL 444.05371 250.000799 \nL 444.678366 258.848428 \nL 445.094804 261.457064 \nL 445.303022 261.263476 \nL 445.511241 258.595538 \nL 445.71946 257.396573 \nL 445.927679 254.667043 \nL 446.135897 250.042616 \nL 446.344116 250.419307 \nL 446.552335 253.039986 \nL 446.760553 251.620369 \nL 446.968772 252.300134 \nL 447.176991 253.840576 \nL 447.593428 262.071766 \nL 447.801647 261.422543 \nL 448.009865 262.056321 \nL 448.218084 261.037625 \nL 448.634521 257.184126 \nL 449.050959 251.901047 \nL 449.259177 250.629604 \nL 449.467396 253.755101 \nL 449.675615 251.777131 \nL 449.883833 250.915797 \nL 450.300271 258.792736 \nL 450.508489 260.868617 \nL 450.924927 261.823208 \nL 451.133145 261.534822 \nL 451.341364 259.218255 \nL 451.757801 250.99381 \nL 452.382457 247.465357 \nL 452.590676 245.375969 \nL 452.798895 245.699145 \nL 453.007113 247.016494 \nL 453.215332 250.191312 \nL 453.423551 251.3033 \nL 453.631769 251.474774 \nL 453.839988 251.486179 \nL 454.048207 251.270287 \nL 454.256425 249.503252 \nL 454.672863 242.055476 \nL 455.0893 241.607881 \nL 455.297519 241.15633 \nL 455.505737 241.221258 \nL 455.713956 241.823409 \nL 456.130393 246.627456 \nL 456.338612 246.887251 \nL 456.546831 247.624862 \nL 456.755049 247.191871 \nL 456.963268 246.416229 \nL 457.171487 244.169339 \nL 457.587924 237.998141 \nL 458.004361 241.288094 \nL 458.21258 243.577786 \nL 458.837236 257.459634 \nL 459.045455 263.303357 \nL 459.253673 264.184842 \nL 459.461892 263.599267 \nL 459.670111 262.53022 \nL 460.294767 255.386903 \nL 460.502985 256.377432 \nL 460.919423 267.029279 \nL 461.960516 304.713438 \nL 462.168735 306.128782 \nL 462.585172 311.647037 \nL 462.793391 310.520093 \nL 463.001609 310.290296 \nL 463.209828 308.12293 \nL 463.834484 314.044536 \nL 464.667359 324.74001 \nL 464.875577 326.023874 \nL 465.292015 333.152221 \nL 465.500233 333.051595 \nL 465.708452 331.920564 \nL 465.916671 333.347796 \nL 466.333108 332.15201 \nL 466.541327 331.730226 \nL 466.957764 332.210041 \nL 467.165983 332.227848 \nL 467.374201 331.955235 \nL 467.790639 333.639393 \nL 467.998857 334.134913 \nL 468.415295 332.598007 \nL 468.623513 340.547327 \nL 468.831732 334.857007 \nL 469.039951 335.807642 \nL 469.248169 333.624837 \nL 469.456388 334.761524 \nL 469.664607 326.742936 \nL 469.872825 332.811893 \nL 470.081044 327.168697 \nL 470.289263 331.35332 \nL 470.497481 330.311041 \nL 470.7057 332.791872 \nL 470.913919 330.087831 \nL 471.122137 332.479466 \nL 471.330356 332.315955 \nL 471.746793 326.561215 \nL 472.163231 323.507316 \nL 472.996105 308.478753 \nL 473.412543 309.185403 \nL 473.620761 308.613382 \nL 473.82898 310.571577 \nL 474.037199 310.897869 \nL 474.245417 307.043849 \nL 474.661855 304.036848 \nL 475.286511 280.63357 \nL 475.702948 266.325343 \nL 476.119385 258.598938 \nL 476.327604 256.810967 \nL 476.535823 257.393925 \nL 476.744041 260.451088 \nL 477.160479 262.712985 \nL 477.368697 262.846415 \nL 477.576916 261.43291 \nL 477.993353 249.383532 \nL 478.618009 240.391522 \nL 478.826228 239.938631 \nL 479.034447 240.391301 \nL 479.659103 245.907242 \nL 479.867321 246.529807 \nL 480.07554 246.696575 \nL 480.283759 246.265923 \nL 480.700196 241.682387 \nL 480.908415 240.175133 \nL 481.116633 240.402686 \nL 481.324852 240.379985 \nL 481.741289 242.04801 \nL 482.157727 247.579579 \nL 482.365945 250.036076 \nL 482.574164 250.84859 \nL 482.782383 250.941592 \nL 482.990601 250.773606 \nL 483.19882 249.681507 \nL 483.615257 244.412384 \nL 483.823476 244.749049 \nL 484.031695 246.043054 \nL 484.239913 245.917315 \nL 484.448132 247.072035 \nL 484.864569 253.085004 \nL 485.281007 260.871021 \nL 485.489225 262.357771 \nL 485.905663 260.825381 \nL 486.738537 250.437703 \nL 486.946756 250.797668 \nL 487.154975 252.011087 \nL 487.363193 250.816337 \nL 487.571412 252.200379 \nL 487.987849 260.050821 \nL 488.404287 262.294304 \nL 488.612505 261.885338 \nL 488.820724 260.481461 \nL 489.861817 249.906786 \nL 490.070036 251.710169 \nL 490.486473 251.350801 \nL 490.902911 259.773696 \nL 491.319348 261.855801 \nL 491.527567 261.124665 \nL 491.735785 259.776465 \nL 492.152223 253.398137 \nL 492.985097 244.664263 \nL 493.817972 253.95349 \nL 494.026191 254.673667 \nL 494.234409 255.808934 \nL 494.442628 254.261107 \nL 494.650847 253.879612 \nL 494.859065 250.272187 \nL 495.275503 246.445896 \nL 495.483721 246.216575 \nL 495.900159 242.283685 \nL 496.108377 242.611965 \nL 496.733033 248.516246 \nL 496.941252 250.189493 \nL 497.149471 250.224212 \nL 497.357689 249.84261 \nL 497.565908 249.222349 \nL 497.982345 244.637827 \nL 498.190564 241.770385 \nL 498.398783 241.062528 \nL 498.607001 241.404053 \nL 498.81522 242.586303 \nL 499.439876 253.583263 \nL 500.064532 257.549396 \nL 500.480969 256.416135 \nL 500.897407 251.529592 \nL 501.105625 250.290487 \nL 501.522063 260.543008 \nL 502.771375 302.996704 \nL 502.979593 303.388053 \nL 503.187812 301.918615 \nL 503.396031 301.814883 \nL 503.812468 298.896178 \nL 504.228905 301.923644 \nL 505.06178 316.88048 \nL 505.478217 321.250018 \nL 505.686436 322.35388 \nL 505.894655 324.859339 \nL 506.102873 325.555004 \nL 506.519311 324.422428 \nL 506.727529 324.589281 \nL 506.935748 325.755664 \nL 507.143967 325.482587 \nL 507.560404 326.68953 \nL 507.768623 326.627991 \nL 507.976841 326.877636 \nL 508.601497 328.303167 \nL 508.809716 328.573647 \nL 508.809716 328.573647 \n\" clip-path=\"url(#p1a72d964c2)\" style=\"fill: none; stroke: #348abd; stroke-width: 3; stroke-linecap: square\"/>\n   </g>\n   <g id=\"patch_3\">\n    <path d=\"M 82.700625 359.517187 \nL 82.700625 26.877187 \n\" style=\"fill: none; stroke: #bcbcbc; stroke-width: 0.8; stroke-linejoin: miter; stroke-linecap: square\"/>\n   </g>\n   <g id=\"patch_4\">\n    <path d=\"M 529.100625 359.517187 \nL 529.100625 26.877187 \n\" style=\"fill: none; stroke: #bcbcbc; stroke-width: 0.8; stroke-linejoin: miter; stroke-linecap: square\"/>\n   </g>\n   <g id=\"patch_5\">\n    <path d=\"M 82.700625 359.517187 \nL 529.100625 359.517187 \n\" style=\"fill: none; stroke: #bcbcbc; stroke-width: 0.8; stroke-linejoin: miter; stroke-linecap: square\"/>\n   </g>\n   <g id=\"patch_6\">\n    <path d=\"M 82.700625 26.877187 \nL 529.100625 26.877187 \n\" style=\"fill: none; stroke: #bcbcbc; stroke-width: 0.8; stroke-linejoin: miter; stroke-linecap: square\"/>\n   </g>\n   <g id=\"text_16\">\n    <!-- Loss dynamics during training -->\n    <g transform=\"translate(170.515312 20.877187)scale(0.18 -0.18)\">\n     <defs>\n      <path id=\"DejaVuSans-20\" transform=\"scale(0.015625)\"/>\n      <path id=\"DejaVuSans-64\" d=\"M 2906 2969 \nL 2906 4863 \nL 3481 4863 \nL 3481 0 \nL 2906 0 \nL 2906 525 \nQ 2725 213 2448 61 \nQ 2172 -91 1784 -91 \nQ 1150 -91 751 415 \nQ 353 922 353 1747 \nQ 353 2572 751 3078 \nQ 1150 3584 1784 3584 \nQ 2172 3584 2448 3432 \nQ 2725 3281 2906 2969 \nz\nM 947 1747 \nQ 947 1113 1208 752 \nQ 1469 391 1925 391 \nQ 2381 391 2643 752 \nQ 2906 1113 2906 1747 \nQ 2906 2381 2643 2742 \nQ 2381 3103 1925 3103 \nQ 1469 3103 1208 2742 \nQ 947 2381 947 1747 \nz\n\" transform=\"scale(0.015625)\"/>\n      <path id=\"DejaVuSans-79\" d=\"M 2059 -325 \nQ 1816 -950 1584 -1140 \nQ 1353 -1331 966 -1331 \nL 506 -1331 \nL 506 -850 \nL 844 -850 \nQ 1081 -850 1212 -737 \nQ 1344 -625 1503 -206 \nL 1606 56 \nL 191 3500 \nL 800 3500 \nL 1894 763 \nL 2988 3500 \nL 3597 3500 \nL 2059 -325 \nz\n\" transform=\"scale(0.015625)\"/>\n      <path id=\"DejaVuSans-6e\" d=\"M 3513 2113 \nL 3513 0 \nL 2938 0 \nL 2938 2094 \nQ 2938 2591 2744 2837 \nQ 2550 3084 2163 3084 \nQ 1697 3084 1428 2787 \nQ 1159 2491 1159 1978 \nL 1159 0 \nL 581 0 \nL 581 3500 \nL 1159 3500 \nL 1159 2956 \nQ 1366 3272 1645 3428 \nQ 1925 3584 2291 3584 \nQ 2894 3584 3203 3211 \nQ 3513 2838 3513 2113 \nz\n\" transform=\"scale(0.015625)\"/>\n      <path id=\"DejaVuSans-61\" d=\"M 2194 1759 \nQ 1497 1759 1228 1600 \nQ 959 1441 959 1056 \nQ 959 750 1161 570 \nQ 1363 391 1709 391 \nQ 2188 391 2477 730 \nQ 2766 1069 2766 1631 \nL 2766 1759 \nL 2194 1759 \nz\nM 3341 1997 \nL 3341 0 \nL 2766 0 \nL 2766 531 \nQ 2569 213 2275 61 \nQ 1981 -91 1556 -91 \nQ 1019 -91 701 211 \nQ 384 513 384 1019 \nQ 384 1609 779 1909 \nQ 1175 2209 1959 2209 \nL 2766 2209 \nL 2766 2266 \nQ 2766 2663 2505 2880 \nQ 2244 3097 1772 3097 \nQ 1472 3097 1187 3025 \nQ 903 2953 641 2809 \nL 641 3341 \nQ 956 3463 1253 3523 \nQ 1550 3584 1831 3584 \nQ 2591 3584 2966 3190 \nQ 3341 2797 3341 1997 \nz\n\" transform=\"scale(0.015625)\"/>\n      <path id=\"DejaVuSans-6d\" d=\"M 3328 2828 \nQ 3544 3216 3844 3400 \nQ 4144 3584 4550 3584 \nQ 5097 3584 5394 3201 \nQ 5691 2819 5691 2113 \nL 5691 0 \nL 5113 0 \nL 5113 2094 \nQ 5113 2597 4934 2840 \nQ 4756 3084 4391 3084 \nQ 3944 3084 3684 2787 \nQ 3425 2491 3425 1978 \nL 3425 0 \nL 2847 0 \nL 2847 2094 \nQ 2847 2600 2669 2842 \nQ 2491 3084 2119 3084 \nQ 1678 3084 1418 2786 \nQ 1159 2488 1159 1978 \nL 1159 0 \nL 581 0 \nL 581 3500 \nL 1159 3500 \nL 1159 2956 \nQ 1356 3278 1631 3431 \nQ 1906 3584 2284 3584 \nQ 2666 3584 2933 3390 \nQ 3200 3197 3328 2828 \nz\n\" transform=\"scale(0.015625)\"/>\n      <path id=\"DejaVuSans-69\" d=\"M 603 3500 \nL 1178 3500 \nL 1178 0 \nL 603 0 \nL 603 3500 \nz\nM 603 4863 \nL 1178 4863 \nL 1178 4134 \nL 603 4134 \nL 603 4863 \nz\n\" transform=\"scale(0.015625)\"/>\n      <path id=\"DejaVuSans-63\" d=\"M 3122 3366 \nL 3122 2828 \nQ 2878 2963 2633 3030 \nQ 2388 3097 2138 3097 \nQ 1578 3097 1268 2742 \nQ 959 2388 959 1747 \nQ 959 1106 1268 751 \nQ 1578 397 2138 397 \nQ 2388 397 2633 464 \nQ 2878 531 3122 666 \nL 3122 134 \nQ 2881 22 2623 -34 \nQ 2366 -91 2075 -91 \nQ 1284 -91 818 406 \nQ 353 903 353 1747 \nQ 353 2603 823 3093 \nQ 1294 3584 2113 3584 \nQ 2378 3584 2631 3529 \nQ 2884 3475 3122 3366 \nz\n\" transform=\"scale(0.015625)\"/>\n      <path id=\"DejaVuSans-75\" d=\"M 544 1381 \nL 544 3500 \nL 1119 3500 \nL 1119 1403 \nQ 1119 906 1312 657 \nQ 1506 409 1894 409 \nQ 2359 409 2629 706 \nQ 2900 1003 2900 1516 \nL 2900 3500 \nL 3475 3500 \nL 3475 0 \nL 2900 0 \nL 2900 538 \nQ 2691 219 2414 64 \nQ 2138 -91 1772 -91 \nQ 1169 -91 856 284 \nQ 544 659 544 1381 \nz\nM 1991 3584 \nL 1991 3584 \nz\n\" transform=\"scale(0.015625)\"/>\n      <path id=\"DejaVuSans-72\" d=\"M 2631 2963 \nQ 2534 3019 2420 3045 \nQ 2306 3072 2169 3072 \nQ 1681 3072 1420 2755 \nQ 1159 2438 1159 1844 \nL 1159 0 \nL 581 0 \nL 581 3500 \nL 1159 3500 \nL 1159 2956 \nQ 1341 3275 1631 3429 \nQ 1922 3584 2338 3584 \nQ 2397 3584 2469 3576 \nQ 2541 3569 2628 3553 \nL 2631 2963 \nz\n\" transform=\"scale(0.015625)\"/>\n      <path id=\"DejaVuSans-67\" d=\"M 2906 1791 \nQ 2906 2416 2648 2759 \nQ 2391 3103 1925 3103 \nQ 1463 3103 1205 2759 \nQ 947 2416 947 1791 \nQ 947 1169 1205 825 \nQ 1463 481 1925 481 \nQ 2391 481 2648 825 \nQ 2906 1169 2906 1791 \nz\nM 3481 434 \nQ 3481 -459 3084 -895 \nQ 2688 -1331 1869 -1331 \nQ 1566 -1331 1297 -1286 \nQ 1028 -1241 775 -1147 \nL 775 -588 \nQ 1028 -725 1275 -790 \nQ 1522 -856 1778 -856 \nQ 2344 -856 2625 -561 \nQ 2906 -266 2906 331 \nL 2906 616 \nQ 2728 306 2450 153 \nQ 2172 0 1784 0 \nQ 1141 0 747 490 \nQ 353 981 353 1791 \nQ 353 2603 747 3093 \nQ 1141 3584 1784 3584 \nQ 2172 3584 2450 3431 \nQ 2728 3278 2906 2969 \nL 2906 3500 \nL 3481 3500 \nL 3481 434 \nz\n\" transform=\"scale(0.015625)\"/>\n     </defs>\n     <use xlink:href=\"#DejaVuSans-4c\"/>\n     <use xlink:href=\"#DejaVuSans-6f\" x=\"53.962891\"/>\n     <use xlink:href=\"#DejaVuSans-73\" x=\"115.144531\"/>\n     <use xlink:href=\"#DejaVuSans-73\" x=\"167.244141\"/>\n     <use xlink:href=\"#DejaVuSans-20\" x=\"219.34375\"/>\n     <use xlink:href=\"#DejaVuSans-64\" x=\"251.130859\"/>\n     <use xlink:href=\"#DejaVuSans-79\" x=\"314.607422\"/>\n     <use xlink:href=\"#DejaVuSans-6e\" x=\"373.787109\"/>\n     <use xlink:href=\"#DejaVuSans-61\" x=\"437.166016\"/>\n     <use xlink:href=\"#DejaVuSans-6d\" x=\"498.445312\"/>\n     <use xlink:href=\"#DejaVuSans-69\" x=\"595.857422\"/>\n     <use xlink:href=\"#DejaVuSans-63\" x=\"623.640625\"/>\n     <use xlink:href=\"#DejaVuSans-73\" x=\"678.621094\"/>\n     <use xlink:href=\"#DejaVuSans-20\" x=\"730.720703\"/>\n     <use xlink:href=\"#DejaVuSans-64\" x=\"762.507812\"/>\n     <use xlink:href=\"#DejaVuSans-75\" x=\"825.984375\"/>\n     <use xlink:href=\"#DejaVuSans-72\" x=\"889.363281\"/>\n     <use xlink:href=\"#DejaVuSans-69\" x=\"930.476562\"/>\n     <use xlink:href=\"#DejaVuSans-6e\" x=\"958.259766\"/>\n     <use xlink:href=\"#DejaVuSans-67\" x=\"1021.638672\"/>\n     <use xlink:href=\"#DejaVuSans-20\" x=\"1085.115234\"/>\n     <use xlink:href=\"#DejaVuSans-74\" x=\"1116.902344\"/>\n     <use xlink:href=\"#DejaVuSans-72\" x=\"1156.111328\"/>\n     <use xlink:href=\"#DejaVuSans-61\" x=\"1197.224609\"/>\n     <use xlink:href=\"#DejaVuSans-69\" x=\"1258.503906\"/>\n     <use xlink:href=\"#DejaVuSans-6e\" x=\"1286.287109\"/>\n     <use xlink:href=\"#DejaVuSans-69\" x=\"1349.666016\"/>\n     <use xlink:href=\"#DejaVuSans-6e\" x=\"1377.449219\"/>\n     <use xlink:href=\"#DejaVuSans-67\" x=\"1440.828125\"/>\n    </g>\n   </g>\n  </g>\n </g>\n <defs>\n  <clipPath id=\"p1a72d964c2\">\n   <rect x=\"82.700625\" y=\"26.877187\" width=\"446.4\" height=\"332.64\"/>\n  </clipPath>\n </defs>\n</svg>\n",
      "text/plain": [
       "<Figure size 800x600 with 1 Axes>"
      ]
     },
     "metadata": {},
     "output_type": "display_data"
    }
   ],
   "source": [
    "losses = jnp.asarray(losses)\n",
    "\n",
    "plot(\n",
    "    jnp.arange(losses.size), [losses], \n",
    "    yscale='log',\n",
    "    xlabel='Steps',\n",
    "    ylabel='Loss',\n",
    "    title='Loss dynamics during training')"
   ]
  },
  {
   "cell_type": "code",
   "execution_count": 46,
   "id": "521c6ab7",
   "metadata": {},
   "outputs": [
    {
     "data": {
      "image/svg+xml": "<?xml version=\"1.0\" encoding=\"utf-8\" standalone=\"no\"?>\n<!DOCTYPE svg PUBLIC \"-//W3C//DTD SVG 1.1//EN\"\n  \"http://www.w3.org/Graphics/SVG/1.1/DTD/svg11.dtd\">\n<svg xmlns:xlink=\"http://www.w3.org/1999/xlink\" width=\"519.083243pt\" height=\"405.187187pt\" viewBox=\"0 0 519.083243 405.187187\" xmlns=\"http://www.w3.org/2000/svg\" version=\"1.1\">\n <metadata>\n  <rdf:RDF xmlns:dc=\"http://purl.org/dc/elements/1.1/\" xmlns:cc=\"http://creativecommons.org/ns#\" xmlns:rdf=\"http://www.w3.org/1999/02/22-rdf-syntax-ns#\">\n   <cc:Work>\n    <dc:type rdf:resource=\"http://purl.org/dc/dcmitype/StillImage\"/>\n    <dc:date>2022-05-08T16:19:33.175642</dc:date>\n    <dc:format>image/svg+xml</dc:format>\n    <dc:creator>\n     <cc:Agent>\n      <dc:title>Matplotlib v3.5.2, https://matplotlib.org/</dc:title>\n     </cc:Agent>\n    </dc:creator>\n   </cc:Work>\n  </rdf:RDF>\n </metadata>\n <defs>\n  <style type=\"text/css\">*{stroke-linejoin: round; stroke-linecap: butt}</style>\n </defs>\n <g id=\"figure_1\">\n  <g id=\"patch_1\">\n   <path d=\"M 0 405.187187 \nL 519.083243 405.187187 \nL 519.083243 0 \nL 0 0 \nz\n\" style=\"fill: #ffffff\"/>\n  </g>\n  <g id=\"axes_1\">\n   <g id=\"patch_2\">\n    <path d=\"M 57.34 359.517187 \nL 503.74 359.517187 \nL 503.74 26.877187 \nL 57.34 26.877187 \nz\n\" style=\"fill: #eeeeee\"/>\n   </g>\n   <g id=\"matplotlib.axis_1\">\n    <g id=\"xtick_1\">\n     <g id=\"line2d_1\">\n      <path d=\"M 77.630909 359.517187 \nL 77.630909 26.877187 \n\" clip-path=\"url(#pe2a3a5dc4f)\" style=\"fill: none; stroke-dasharray: 0.5,5; stroke-dashoffset: 0; stroke: #000000; stroke-width: 0.5\"/>\n     </g>\n     <g id=\"line2d_2\">\n      <defs>\n       <path id=\"mc9681a8ba0\" d=\"M 0 0 \nL 0 -3.5 \n\" style=\"stroke: #000000; stroke-width: 0.8\"/>\n      </defs>\n      <g>\n       <use xlink:href=\"#mc9681a8ba0\" x=\"77.630909\" y=\"359.517187\" style=\"stroke: #000000; stroke-width: 0.8\"/>\n      </g>\n     </g>\n     <g id=\"text_1\">\n      <!-- 0 -->\n      <g transform=\"translate(73.177159 373.655)scale(0.14 -0.14)\">\n       <defs>\n        <path id=\"DejaVuSans-30\" d=\"M 2034 4250 \nQ 1547 4250 1301 3770 \nQ 1056 3291 1056 2328 \nQ 1056 1369 1301 889 \nQ 1547 409 2034 409 \nQ 2525 409 2770 889 \nQ 3016 1369 3016 2328 \nQ 3016 3291 2770 3770 \nQ 2525 4250 2034 4250 \nz\nM 2034 4750 \nQ 2819 4750 3233 4129 \nQ 3647 3509 3647 2328 \nQ 3647 1150 3233 529 \nQ 2819 -91 2034 -91 \nQ 1250 -91 836 529 \nQ 422 1150 422 2328 \nQ 422 3509 836 4129 \nQ 1250 4750 2034 4750 \nz\n\" transform=\"scale(0.015625)\"/>\n       </defs>\n       <use xlink:href=\"#DejaVuSans-30\"/>\n      </g>\n     </g>\n    </g>\n    <g id=\"xtick_2\">\n     <g id=\"line2d_3\">\n      <path d=\"M 129.685576 359.517187 \nL 129.685576 26.877187 \n\" clip-path=\"url(#pe2a3a5dc4f)\" style=\"fill: none; stroke-dasharray: 0.5,5; stroke-dashoffset: 0; stroke: #000000; stroke-width: 0.5\"/>\n     </g>\n     <g id=\"line2d_4\">\n      <g>\n       <use xlink:href=\"#mc9681a8ba0\" x=\"129.685576\" y=\"359.517187\" style=\"stroke: #000000; stroke-width: 0.8\"/>\n      </g>\n     </g>\n     <g id=\"text_2\">\n      <!-- 250 -->\n      <g transform=\"translate(116.324326 373.655)scale(0.14 -0.14)\">\n       <defs>\n        <path id=\"DejaVuSans-32\" d=\"M 1228 531 \nL 3431 531 \nL 3431 0 \nL 469 0 \nL 469 531 \nQ 828 903 1448 1529 \nQ 2069 2156 2228 2338 \nQ 2531 2678 2651 2914 \nQ 2772 3150 2772 3378 \nQ 2772 3750 2511 3984 \nQ 2250 4219 1831 4219 \nQ 1534 4219 1204 4116 \nQ 875 4013 500 3803 \nL 500 4441 \nQ 881 4594 1212 4672 \nQ 1544 4750 1819 4750 \nQ 2544 4750 2975 4387 \nQ 3406 4025 3406 3419 \nQ 3406 3131 3298 2873 \nQ 3191 2616 2906 2266 \nQ 2828 2175 2409 1742 \nQ 1991 1309 1228 531 \nz\n\" transform=\"scale(0.015625)\"/>\n        <path id=\"DejaVuSans-35\" d=\"M 691 4666 \nL 3169 4666 \nL 3169 4134 \nL 1269 4134 \nL 1269 2991 \nQ 1406 3038 1543 3061 \nQ 1681 3084 1819 3084 \nQ 2600 3084 3056 2656 \nQ 3513 2228 3513 1497 \nQ 3513 744 3044 326 \nQ 2575 -91 1722 -91 \nQ 1428 -91 1123 -41 \nQ 819 9 494 109 \nL 494 744 \nQ 775 591 1075 516 \nQ 1375 441 1709 441 \nQ 2250 441 2565 725 \nQ 2881 1009 2881 1497 \nQ 2881 1984 2565 2268 \nQ 2250 2553 1709 2553 \nQ 1456 2553 1204 2497 \nQ 953 2441 691 2322 \nL 691 4666 \nz\n\" transform=\"scale(0.015625)\"/>\n       </defs>\n       <use xlink:href=\"#DejaVuSans-32\"/>\n       <use xlink:href=\"#DejaVuSans-35\" x=\"63.623047\"/>\n       <use xlink:href=\"#DejaVuSans-30\" x=\"127.246094\"/>\n      </g>\n     </g>\n    </g>\n    <g id=\"xtick_3\">\n     <g id=\"line2d_5\">\n      <path d=\"M 181.740243 359.517187 \nL 181.740243 26.877187 \n\" clip-path=\"url(#pe2a3a5dc4f)\" style=\"fill: none; stroke-dasharray: 0.5,5; stroke-dashoffset: 0; stroke: #000000; stroke-width: 0.5\"/>\n     </g>\n     <g id=\"line2d_6\">\n      <g>\n       <use xlink:href=\"#mc9681a8ba0\" x=\"181.740243\" y=\"359.517187\" style=\"stroke: #000000; stroke-width: 0.8\"/>\n      </g>\n     </g>\n     <g id=\"text_3\">\n      <!-- 500 -->\n      <g transform=\"translate(168.378993 373.655)scale(0.14 -0.14)\">\n       <use xlink:href=\"#DejaVuSans-35\"/>\n       <use xlink:href=\"#DejaVuSans-30\" x=\"63.623047\"/>\n       <use xlink:href=\"#DejaVuSans-30\" x=\"127.246094\"/>\n      </g>\n     </g>\n    </g>\n    <g id=\"xtick_4\">\n     <g id=\"line2d_7\">\n      <path d=\"M 233.794909 359.517187 \nL 233.794909 26.877187 \n\" clip-path=\"url(#pe2a3a5dc4f)\" style=\"fill: none; stroke-dasharray: 0.5,5; stroke-dashoffset: 0; stroke: #000000; stroke-width: 0.5\"/>\n     </g>\n     <g id=\"line2d_8\">\n      <g>\n       <use xlink:href=\"#mc9681a8ba0\" x=\"233.794909\" y=\"359.517187\" style=\"stroke: #000000; stroke-width: 0.8\"/>\n      </g>\n     </g>\n     <g id=\"text_4\">\n      <!-- 750 -->\n      <g transform=\"translate(220.433659 373.655)scale(0.14 -0.14)\">\n       <defs>\n        <path id=\"DejaVuSans-37\" d=\"M 525 4666 \nL 3525 4666 \nL 3525 4397 \nL 1831 0 \nL 1172 0 \nL 2766 4134 \nL 525 4134 \nL 525 4666 \nz\n\" transform=\"scale(0.015625)\"/>\n       </defs>\n       <use xlink:href=\"#DejaVuSans-37\"/>\n       <use xlink:href=\"#DejaVuSans-35\" x=\"63.623047\"/>\n       <use xlink:href=\"#DejaVuSans-30\" x=\"127.246094\"/>\n      </g>\n     </g>\n    </g>\n    <g id=\"xtick_5\">\n     <g id=\"line2d_9\">\n      <path d=\"M 285.849576 359.517187 \nL 285.849576 26.877187 \n\" clip-path=\"url(#pe2a3a5dc4f)\" style=\"fill: none; stroke-dasharray: 0.5,5; stroke-dashoffset: 0; stroke: #000000; stroke-width: 0.5\"/>\n     </g>\n     <g id=\"line2d_10\">\n      <g>\n       <use xlink:href=\"#mc9681a8ba0\" x=\"285.849576\" y=\"359.517187\" style=\"stroke: #000000; stroke-width: 0.8\"/>\n      </g>\n     </g>\n     <g id=\"text_5\">\n      <!-- 1000 -->\n      <g transform=\"translate(268.034576 373.655)scale(0.14 -0.14)\">\n       <defs>\n        <path id=\"DejaVuSans-31\" d=\"M 794 531 \nL 1825 531 \nL 1825 4091 \nL 703 3866 \nL 703 4441 \nL 1819 4666 \nL 2450 4666 \nL 2450 531 \nL 3481 531 \nL 3481 0 \nL 794 0 \nL 794 531 \nz\n\" transform=\"scale(0.015625)\"/>\n       </defs>\n       <use xlink:href=\"#DejaVuSans-31\"/>\n       <use xlink:href=\"#DejaVuSans-30\" x=\"63.623047\"/>\n       <use xlink:href=\"#DejaVuSans-30\" x=\"127.246094\"/>\n       <use xlink:href=\"#DejaVuSans-30\" x=\"190.869141\"/>\n      </g>\n     </g>\n    </g>\n    <g id=\"xtick_6\">\n     <g id=\"line2d_11\">\n      <path d=\"M 337.904243 359.517187 \nL 337.904243 26.877187 \n\" clip-path=\"url(#pe2a3a5dc4f)\" style=\"fill: none; stroke-dasharray: 0.5,5; stroke-dashoffset: 0; stroke: #000000; stroke-width: 0.5\"/>\n     </g>\n     <g id=\"line2d_12\">\n      <g>\n       <use xlink:href=\"#mc9681a8ba0\" x=\"337.904243\" y=\"359.517187\" style=\"stroke: #000000; stroke-width: 0.8\"/>\n      </g>\n     </g>\n     <g id=\"text_6\">\n      <!-- 1250 -->\n      <g transform=\"translate(320.089243 373.655)scale(0.14 -0.14)\">\n       <use xlink:href=\"#DejaVuSans-31\"/>\n       <use xlink:href=\"#DejaVuSans-32\" x=\"63.623047\"/>\n       <use xlink:href=\"#DejaVuSans-35\" x=\"127.246094\"/>\n       <use xlink:href=\"#DejaVuSans-30\" x=\"190.869141\"/>\n      </g>\n     </g>\n    </g>\n    <g id=\"xtick_7\">\n     <g id=\"line2d_13\">\n      <path d=\"M 389.958909 359.517187 \nL 389.958909 26.877187 \n\" clip-path=\"url(#pe2a3a5dc4f)\" style=\"fill: none; stroke-dasharray: 0.5,5; stroke-dashoffset: 0; stroke: #000000; stroke-width: 0.5\"/>\n     </g>\n     <g id=\"line2d_14\">\n      <g>\n       <use xlink:href=\"#mc9681a8ba0\" x=\"389.958909\" y=\"359.517187\" style=\"stroke: #000000; stroke-width: 0.8\"/>\n      </g>\n     </g>\n     <g id=\"text_7\">\n      <!-- 1500 -->\n      <g transform=\"translate(372.143909 373.655)scale(0.14 -0.14)\">\n       <use xlink:href=\"#DejaVuSans-31\"/>\n       <use xlink:href=\"#DejaVuSans-35\" x=\"63.623047\"/>\n       <use xlink:href=\"#DejaVuSans-30\" x=\"127.246094\"/>\n       <use xlink:href=\"#DejaVuSans-30\" x=\"190.869141\"/>\n      </g>\n     </g>\n    </g>\n    <g id=\"xtick_8\">\n     <g id=\"line2d_15\">\n      <path d=\"M 442.013576 359.517187 \nL 442.013576 26.877187 \n\" clip-path=\"url(#pe2a3a5dc4f)\" style=\"fill: none; stroke-dasharray: 0.5,5; stroke-dashoffset: 0; stroke: #000000; stroke-width: 0.5\"/>\n     </g>\n     <g id=\"line2d_16\">\n      <g>\n       <use xlink:href=\"#mc9681a8ba0\" x=\"442.013576\" y=\"359.517187\" style=\"stroke: #000000; stroke-width: 0.8\"/>\n      </g>\n     </g>\n     <g id=\"text_8\">\n      <!-- 1750 -->\n      <g transform=\"translate(424.198576 373.655)scale(0.14 -0.14)\">\n       <use xlink:href=\"#DejaVuSans-31\"/>\n       <use xlink:href=\"#DejaVuSans-37\" x=\"63.623047\"/>\n       <use xlink:href=\"#DejaVuSans-35\" x=\"127.246094\"/>\n       <use xlink:href=\"#DejaVuSans-30\" x=\"190.869141\"/>\n      </g>\n     </g>\n    </g>\n    <g id=\"xtick_9\">\n     <g id=\"line2d_17\">\n      <path d=\"M 494.068243 359.517187 \nL 494.068243 26.877187 \n\" clip-path=\"url(#pe2a3a5dc4f)\" style=\"fill: none; stroke-dasharray: 0.5,5; stroke-dashoffset: 0; stroke: #000000; stroke-width: 0.5\"/>\n     </g>\n     <g id=\"line2d_18\">\n      <g>\n       <use xlink:href=\"#mc9681a8ba0\" x=\"494.068243\" y=\"359.517187\" style=\"stroke: #000000; stroke-width: 0.8\"/>\n      </g>\n     </g>\n     <g id=\"text_9\">\n      <!-- 2000 -->\n      <g transform=\"translate(476.253243 373.655)scale(0.14 -0.14)\">\n       <use xlink:href=\"#DejaVuSans-32\"/>\n       <use xlink:href=\"#DejaVuSans-30\" x=\"63.623047\"/>\n       <use xlink:href=\"#DejaVuSans-30\" x=\"127.246094\"/>\n       <use xlink:href=\"#DejaVuSans-30\" x=\"190.869141\"/>\n      </g>\n     </g>\n    </g>\n    <g id=\"text_10\">\n     <!-- Steps -->\n     <g transform=\"translate(255.358281 394.24375)scale(0.18 -0.18)\">\n      <defs>\n       <path id=\"DejaVuSans-53\" d=\"M 3425 4513 \nL 3425 3897 \nQ 3066 4069 2747 4153 \nQ 2428 4238 2131 4238 \nQ 1616 4238 1336 4038 \nQ 1056 3838 1056 3469 \nQ 1056 3159 1242 3001 \nQ 1428 2844 1947 2747 \nL 2328 2669 \nQ 3034 2534 3370 2195 \nQ 3706 1856 3706 1288 \nQ 3706 609 3251 259 \nQ 2797 -91 1919 -91 \nQ 1588 -91 1214 -16 \nQ 841 59 441 206 \nL 441 856 \nQ 825 641 1194 531 \nQ 1563 422 1919 422 \nQ 2459 422 2753 634 \nQ 3047 847 3047 1241 \nQ 3047 1584 2836 1778 \nQ 2625 1972 2144 2069 \nL 1759 2144 \nQ 1053 2284 737 2584 \nQ 422 2884 422 3419 \nQ 422 4038 858 4394 \nQ 1294 4750 2059 4750 \nQ 2388 4750 2728 4690 \nQ 3069 4631 3425 4513 \nz\n\" transform=\"scale(0.015625)\"/>\n       <path id=\"DejaVuSans-74\" d=\"M 1172 4494 \nL 1172 3500 \nL 2356 3500 \nL 2356 3053 \nL 1172 3053 \nL 1172 1153 \nQ 1172 725 1289 603 \nQ 1406 481 1766 481 \nL 2356 481 \nL 2356 0 \nL 1766 0 \nQ 1100 0 847 248 \nQ 594 497 594 1153 \nL 594 3053 \nL 172 3053 \nL 172 3500 \nL 594 3500 \nL 594 4494 \nL 1172 4494 \nz\n\" transform=\"scale(0.015625)\"/>\n       <path id=\"DejaVuSans-65\" d=\"M 3597 1894 \nL 3597 1613 \nL 953 1613 \nQ 991 1019 1311 708 \nQ 1631 397 2203 397 \nQ 2534 397 2845 478 \nQ 3156 559 3463 722 \nL 3463 178 \nQ 3153 47 2828 -22 \nQ 2503 -91 2169 -91 \nQ 1331 -91 842 396 \nQ 353 884 353 1716 \nQ 353 2575 817 3079 \nQ 1281 3584 2069 3584 \nQ 2775 3584 3186 3129 \nQ 3597 2675 3597 1894 \nz\nM 3022 2063 \nQ 3016 2534 2758 2815 \nQ 2500 3097 2075 3097 \nQ 1594 3097 1305 2825 \nQ 1016 2553 972 2059 \nL 3022 2063 \nz\n\" transform=\"scale(0.015625)\"/>\n       <path id=\"DejaVuSans-70\" d=\"M 1159 525 \nL 1159 -1331 \nL 581 -1331 \nL 581 3500 \nL 1159 3500 \nL 1159 2969 \nQ 1341 3281 1617 3432 \nQ 1894 3584 2278 3584 \nQ 2916 3584 3314 3078 \nQ 3713 2572 3713 1747 \nQ 3713 922 3314 415 \nQ 2916 -91 2278 -91 \nQ 1894 -91 1617 61 \nQ 1341 213 1159 525 \nz\nM 3116 1747 \nQ 3116 2381 2855 2742 \nQ 2594 3103 2138 3103 \nQ 1681 3103 1420 2742 \nQ 1159 2381 1159 1747 \nQ 1159 1113 1420 752 \nQ 1681 391 2138 391 \nQ 2594 391 2855 752 \nQ 3116 1113 3116 1747 \nz\n\" transform=\"scale(0.015625)\"/>\n       <path id=\"DejaVuSans-73\" d=\"M 2834 3397 \nL 2834 2853 \nQ 2591 2978 2328 3040 \nQ 2066 3103 1784 3103 \nQ 1356 3103 1142 2972 \nQ 928 2841 928 2578 \nQ 928 2378 1081 2264 \nQ 1234 2150 1697 2047 \nL 1894 2003 \nQ 2506 1872 2764 1633 \nQ 3022 1394 3022 966 \nQ 3022 478 2636 193 \nQ 2250 -91 1575 -91 \nQ 1294 -91 989 -36 \nQ 684 19 347 128 \nL 347 722 \nQ 666 556 975 473 \nQ 1284 391 1588 391 \nQ 1994 391 2212 530 \nQ 2431 669 2431 922 \nQ 2431 1156 2273 1281 \nQ 2116 1406 1581 1522 \nL 1381 1569 \nQ 847 1681 609 1914 \nQ 372 2147 372 2553 \nQ 372 3047 722 3315 \nQ 1072 3584 1716 3584 \nQ 2034 3584 2315 3537 \nQ 2597 3491 2834 3397 \nz\n\" transform=\"scale(0.015625)\"/>\n      </defs>\n      <use xlink:href=\"#DejaVuSans-53\"/>\n      <use xlink:href=\"#DejaVuSans-74\" x=\"63.476562\"/>\n      <use xlink:href=\"#DejaVuSans-65\" x=\"102.685547\"/>\n      <use xlink:href=\"#DejaVuSans-70\" x=\"164.208984\"/>\n      <use xlink:href=\"#DejaVuSans-73\" x=\"227.685547\"/>\n     </g>\n    </g>\n   </g>\n   <g id=\"matplotlib.axis_2\">\n    <g id=\"ytick_1\">\n     <g id=\"line2d_19\">\n      <path d=\"M 57.34 270.94278 \nL 503.74 270.94278 \n\" clip-path=\"url(#pe2a3a5dc4f)\" style=\"fill: none; stroke-dasharray: 0.5,5; stroke-dashoffset: 0; stroke: #000000; stroke-width: 0.5\"/>\n     </g>\n     <g id=\"line2d_20\">\n      <defs>\n       <path id=\"m58a24ed43c\" d=\"M 0 0 \nL 3.5 0 \n\" style=\"stroke: #000000; stroke-width: 0.8\"/>\n      </defs>\n      <g>\n       <use xlink:href=\"#m58a24ed43c\" x=\"57.34\" y=\"270.94278\" style=\"stroke: #000000; stroke-width: 0.8\"/>\n      </g>\n     </g>\n     <g id=\"text_11\">\n      <!-- $\\mathdefault{10^{3}}$ -->\n      <g transform=\"translate(29.2 276.261686)scale(0.14 -0.14)\">\n       <defs>\n        <path id=\"DejaVuSans-33\" d=\"M 2597 2516 \nQ 3050 2419 3304 2112 \nQ 3559 1806 3559 1356 \nQ 3559 666 3084 287 \nQ 2609 -91 1734 -91 \nQ 1441 -91 1130 -33 \nQ 819 25 488 141 \nL 488 750 \nQ 750 597 1062 519 \nQ 1375 441 1716 441 \nQ 2309 441 2620 675 \nQ 2931 909 2931 1356 \nQ 2931 1769 2642 2001 \nQ 2353 2234 1838 2234 \nL 1294 2234 \nL 1294 2753 \nL 1863 2753 \nQ 2328 2753 2575 2939 \nQ 2822 3125 2822 3475 \nQ 2822 3834 2567 4026 \nQ 2313 4219 1838 4219 \nQ 1578 4219 1281 4162 \nQ 984 4106 628 3988 \nL 628 4550 \nQ 988 4650 1302 4700 \nQ 1616 4750 1894 4750 \nQ 2613 4750 3031 4423 \nQ 3450 4097 3450 3541 \nQ 3450 3153 3228 2886 \nQ 3006 2619 2597 2516 \nz\n\" transform=\"scale(0.015625)\"/>\n       </defs>\n       <use xlink:href=\"#DejaVuSans-31\" transform=\"translate(0 0.765625)\"/>\n       <use xlink:href=\"#DejaVuSans-30\" transform=\"translate(63.623047 0.765625)\"/>\n       <use xlink:href=\"#DejaVuSans-33\" transform=\"translate(128.203125 39.046875)scale(0.7)\"/>\n      </g>\n     </g>\n    </g>\n    <g id=\"ytick_2\">\n     <g id=\"line2d_21\">\n      <path d=\"M 57.34 58.098373 \nL 503.74 58.098373 \n\" clip-path=\"url(#pe2a3a5dc4f)\" style=\"fill: none; stroke-dasharray: 0.5,5; stroke-dashoffset: 0; stroke: #000000; stroke-width: 0.5\"/>\n     </g>\n     <g id=\"line2d_22\">\n      <g>\n       <use xlink:href=\"#m58a24ed43c\" x=\"57.34\" y=\"58.098373\" style=\"stroke: #000000; stroke-width: 0.8\"/>\n      </g>\n     </g>\n     <g id=\"text_12\">\n      <!-- $\\mathdefault{10^{4}}$ -->\n      <g transform=\"translate(29.2 63.417279)scale(0.14 -0.14)\">\n       <defs>\n        <path id=\"DejaVuSans-34\" d=\"M 2419 4116 \nL 825 1625 \nL 2419 1625 \nL 2419 4116 \nz\nM 2253 4666 \nL 3047 4666 \nL 3047 1625 \nL 3713 1625 \nL 3713 1100 \nL 3047 1100 \nL 3047 0 \nL 2419 0 \nL 2419 1100 \nL 313 1100 \nL 313 1709 \nL 2253 4666 \nz\n\" transform=\"scale(0.015625)\"/>\n       </defs>\n       <use xlink:href=\"#DejaVuSans-31\" transform=\"translate(0 0.684375)\"/>\n       <use xlink:href=\"#DejaVuSans-30\" transform=\"translate(63.623047 0.684375)\"/>\n       <use xlink:href=\"#DejaVuSans-34\" transform=\"translate(128.203125 38.965625)scale(0.7)\"/>\n      </g>\n     </g>\n    </g>\n    <g id=\"ytick_3\">\n     <g id=\"line2d_23\">\n      <path d=\"M 57.34 355.642085 \nL 503.74 355.642085 \n\" clip-path=\"url(#pe2a3a5dc4f)\" style=\"fill: none; stroke-dasharray: 0.5,5; stroke-dashoffset: 0; stroke: #000000; stroke-width: 0.5\"/>\n     </g>\n     <g id=\"line2d_24\">\n      <defs>\n       <path id=\"m1813912c08\" d=\"M 0 0 \nL 2 0 \n\" style=\"stroke: #000000; stroke-width: 0.6\"/>\n      </defs>\n      <g>\n       <use xlink:href=\"#m1813912c08\" x=\"57.34\" y=\"355.642085\" style=\"stroke: #000000; stroke-width: 0.6\"/>\n      </g>\n     </g>\n    </g>\n    <g id=\"ytick_4\">\n     <g id=\"line2d_25\">\n      <path d=\"M 57.34 335.015331 \nL 503.74 335.015331 \n\" clip-path=\"url(#pe2a3a5dc4f)\" style=\"fill: none; stroke-dasharray: 0.5,5; stroke-dashoffset: 0; stroke: #000000; stroke-width: 0.5\"/>\n     </g>\n     <g id=\"line2d_26\">\n      <g>\n       <use xlink:href=\"#m1813912c08\" x=\"57.34\" y=\"335.015331\" style=\"stroke: #000000; stroke-width: 0.6\"/>\n      </g>\n     </g>\n    </g>\n    <g id=\"ytick_5\">\n     <g id=\"line2d_27\">\n      <path d=\"M 57.34 318.162046 \nL 503.74 318.162046 \n\" clip-path=\"url(#pe2a3a5dc4f)\" style=\"fill: none; stroke-dasharray: 0.5,5; stroke-dashoffset: 0; stroke: #000000; stroke-width: 0.5\"/>\n     </g>\n     <g id=\"line2d_28\">\n      <g>\n       <use xlink:href=\"#m1813912c08\" x=\"57.34\" y=\"318.162046\" style=\"stroke: #000000; stroke-width: 0.6\"/>\n      </g>\n     </g>\n    </g>\n    <g id=\"ytick_6\">\n     <g id=\"line2d_29\">\n      <path d=\"M 57.34 303.912796 \nL 503.74 303.912796 \n\" clip-path=\"url(#pe2a3a5dc4f)\" style=\"fill: none; stroke-dasharray: 0.5,5; stroke-dashoffset: 0; stroke: #000000; stroke-width: 0.5\"/>\n     </g>\n     <g id=\"line2d_30\">\n      <g>\n       <use xlink:href=\"#m1813912c08\" x=\"57.34\" y=\"303.912796\" style=\"stroke: #000000; stroke-width: 0.6\"/>\n      </g>\n     </g>\n    </g>\n    <g id=\"ytick_7\">\n     <g id=\"line2d_31\">\n      <path d=\"M 57.34 291.569534 \nL 503.74 291.569534 \n\" clip-path=\"url(#pe2a3a5dc4f)\" style=\"fill: none; stroke-dasharray: 0.5,5; stroke-dashoffset: 0; stroke: #000000; stroke-width: 0.5\"/>\n     </g>\n     <g id=\"line2d_32\">\n      <g>\n       <use xlink:href=\"#m1813912c08\" x=\"57.34\" y=\"291.569534\" style=\"stroke: #000000; stroke-width: 0.6\"/>\n      </g>\n     </g>\n    </g>\n    <g id=\"ytick_8\">\n     <g id=\"line2d_33\">\n      <path d=\"M 57.34 280.682006 \nL 503.74 280.682006 \n\" clip-path=\"url(#pe2a3a5dc4f)\" style=\"fill: none; stroke-dasharray: 0.5,5; stroke-dashoffset: 0; stroke: #000000; stroke-width: 0.5\"/>\n     </g>\n     <g id=\"line2d_34\">\n      <g>\n       <use xlink:href=\"#m1813912c08\" x=\"57.34\" y=\"280.682006\" style=\"stroke: #000000; stroke-width: 0.6\"/>\n      </g>\n     </g>\n    </g>\n    <g id=\"ytick_9\">\n     <g id=\"line2d_35\">\n      <path d=\"M 57.34 206.870229 \nL 503.74 206.870229 \n\" clip-path=\"url(#pe2a3a5dc4f)\" style=\"fill: none; stroke-dasharray: 0.5,5; stroke-dashoffset: 0; stroke: #000000; stroke-width: 0.5\"/>\n     </g>\n     <g id=\"line2d_36\">\n      <g>\n       <use xlink:href=\"#m1813912c08\" x=\"57.34\" y=\"206.870229\" style=\"stroke: #000000; stroke-width: 0.6\"/>\n      </g>\n     </g>\n    </g>\n    <g id=\"ytick_10\">\n     <g id=\"line2d_37\">\n      <path d=\"M 57.34 169.390189 \nL 503.74 169.390189 \n\" clip-path=\"url(#pe2a3a5dc4f)\" style=\"fill: none; stroke-dasharray: 0.5,5; stroke-dashoffset: 0; stroke: #000000; stroke-width: 0.5\"/>\n     </g>\n     <g id=\"line2d_38\">\n      <g>\n       <use xlink:href=\"#m1813912c08\" x=\"57.34\" y=\"169.390189\" style=\"stroke: #000000; stroke-width: 0.6\"/>\n      </g>\n     </g>\n    </g>\n    <g id=\"ytick_11\">\n     <g id=\"line2d_39\">\n      <path d=\"M 57.34 142.797678 \nL 503.74 142.797678 \n\" clip-path=\"url(#pe2a3a5dc4f)\" style=\"fill: none; stroke-dasharray: 0.5,5; stroke-dashoffset: 0; stroke: #000000; stroke-width: 0.5\"/>\n     </g>\n     <g id=\"line2d_40\">\n      <g>\n       <use xlink:href=\"#m1813912c08\" x=\"57.34\" y=\"142.797678\" style=\"stroke: #000000; stroke-width: 0.6\"/>\n      </g>\n     </g>\n    </g>\n    <g id=\"ytick_12\">\n     <g id=\"line2d_41\">\n      <path d=\"M 57.34 122.170924 \nL 503.74 122.170924 \n\" clip-path=\"url(#pe2a3a5dc4f)\" style=\"fill: none; stroke-dasharray: 0.5,5; stroke-dashoffset: 0; stroke: #000000; stroke-width: 0.5\"/>\n     </g>\n     <g id=\"line2d_42\">\n      <g>\n       <use xlink:href=\"#m1813912c08\" x=\"57.34\" y=\"122.170924\" style=\"stroke: #000000; stroke-width: 0.6\"/>\n      </g>\n     </g>\n    </g>\n    <g id=\"ytick_13\">\n     <g id=\"line2d_43\">\n      <path d=\"M 57.34 105.317638 \nL 503.74 105.317638 \n\" clip-path=\"url(#pe2a3a5dc4f)\" style=\"fill: none; stroke-dasharray: 0.5,5; stroke-dashoffset: 0; stroke: #000000; stroke-width: 0.5\"/>\n     </g>\n     <g id=\"line2d_44\">\n      <g>\n       <use xlink:href=\"#m1813912c08\" x=\"57.34\" y=\"105.317638\" style=\"stroke: #000000; stroke-width: 0.6\"/>\n      </g>\n     </g>\n    </g>\n    <g id=\"ytick_14\">\n     <g id=\"line2d_45\">\n      <path d=\"M 57.34 91.068389 \nL 503.74 91.068389 \n\" clip-path=\"url(#pe2a3a5dc4f)\" style=\"fill: none; stroke-dasharray: 0.5,5; stroke-dashoffset: 0; stroke: #000000; stroke-width: 0.5\"/>\n     </g>\n     <g id=\"line2d_46\">\n      <g>\n       <use xlink:href=\"#m1813912c08\" x=\"57.34\" y=\"91.068389\" style=\"stroke: #000000; stroke-width: 0.6\"/>\n      </g>\n     </g>\n    </g>\n    <g id=\"ytick_15\">\n     <g id=\"line2d_47\">\n      <path d=\"M 57.34 78.725127 \nL 503.74 78.725127 \n\" clip-path=\"url(#pe2a3a5dc4f)\" style=\"fill: none; stroke-dasharray: 0.5,5; stroke-dashoffset: 0; stroke: #000000; stroke-width: 0.5\"/>\n     </g>\n     <g id=\"line2d_48\">\n      <g>\n       <use xlink:href=\"#m1813912c08\" x=\"57.34\" y=\"78.725127\" style=\"stroke: #000000; stroke-width: 0.6\"/>\n      </g>\n     </g>\n    </g>\n    <g id=\"ytick_16\">\n     <g id=\"line2d_49\">\n      <path d=\"M 57.34 67.837599 \nL 503.74 67.837599 \n\" clip-path=\"url(#pe2a3a5dc4f)\" style=\"fill: none; stroke-dasharray: 0.5,5; stroke-dashoffset: 0; stroke: #000000; stroke-width: 0.5\"/>\n     </g>\n     <g id=\"line2d_50\">\n      <g>\n       <use xlink:href=\"#m1813912c08\" x=\"57.34\" y=\"67.837599\" style=\"stroke: #000000; stroke-width: 0.6\"/>\n      </g>\n     </g>\n    </g>\n    <g id=\"text_13\">\n     <!-- $\\|\\Delta{B}\\|_2$ -->\n     <g transform=\"translate(20.7 220.647187)rotate(-90)scale(0.18 -0.18)\">\n      <defs>\n       <path id=\"Cmsy10-6b\" d=\"M 850 -1484 \nL 850 4684 \nQ 850 4734 890 4767 \nQ 931 4800 978 4800 \nQ 1031 4800 1068 4767 \nQ 1106 4734 1106 4684 \nL 1106 -1484 \nQ 1106 -1534 1068 -1567 \nQ 1031 -1600 978 -1600 \nQ 931 -1600 890 -1567 \nQ 850 -1534 850 -1484 \nz\nM 2094 -1484 \nL 2094 4684 \nQ 2094 4734 2131 4767 \nQ 2169 4800 2222 4800 \nQ 2269 4800 2309 4767 \nQ 2350 4734 2350 4684 \nL 2350 -1484 \nQ 2350 -1534 2309 -1567 \nQ 2269 -1600 2222 -1600 \nQ 2169 -1600 2131 -1567 \nQ 2094 -1534 2094 -1484 \nz\n\" transform=\"scale(0.015625)\"/>\n       <path id=\"Cmr10-a2\" d=\"M 347 0 \nQ 294 0 294 50 \nQ 297 56 298 59 \nQ 300 63 300 72 \nL 2503 4513 \nQ 2531 4581 2619 4581 \nL 2706 4581 \nQ 2794 4581 2822 4513 \nL 5025 72 \nQ 5028 66 5029 61 \nQ 5031 56 5031 50 \nQ 5031 0 4978 0 \nL 347 0 \nz\nM 769 513 \nL 4141 513 \nL 2456 3909 \nL 769 513 \nz\n\" transform=\"scale(0.015625)\"/>\n       <path id=\"Cmmi10-42\" d=\"M 319 0 \nQ 256 0 256 84 \nQ 259 100 268 137 \nQ 278 175 293 200 \nQ 309 225 341 225 \nQ 522 225 656 234 \nQ 791 244 884 269 \nQ 959 297 1006 441 \nL 1881 3956 \nQ 1894 4019 1894 4044 \nQ 1894 4113 1819 4122 \nQ 1697 4147 1356 4147 \nQ 1294 4147 1294 4231 \nQ 1297 4247 1306 4286 \nQ 1316 4325 1333 4348 \nQ 1350 4372 1375 4372 \nL 3669 4372 \nQ 3878 4372 4083 4320 \nQ 4288 4269 4461 4156 \nQ 4634 4044 4736 3876 \nQ 4838 3709 4838 3488 \nQ 4838 3247 4714 3040 \nQ 4591 2834 4395 2681 \nQ 4200 2528 3973 2429 \nQ 3747 2331 3500 2284 \nQ 3675 2284 3854 2215 \nQ 4034 2147 4175 2028 \nQ 4316 1909 4402 1743 \nQ 4488 1578 4488 1388 \nQ 4488 1003 4219 684 \nQ 3950 366 3542 183 \nQ 3134 0 2753 0 \nL 319 0 \nz\nM 1497 275 \nQ 1497 225 1716 225 \nL 2631 225 \nQ 2944 225 3231 398 \nQ 3519 572 3692 859 \nQ 3866 1147 3866 1459 \nQ 3866 1650 3786 1820 \nQ 3706 1991 3556 2089 \nQ 3406 2188 3213 2188 \nL 1966 2188 \nL 1522 416 \nQ 1497 328 1497 275 \nz\nM 2009 2356 \nL 2981 2356 \nQ 3288 2356 3577 2512 \nQ 3866 2669 4048 2937 \nQ 4231 3206 4231 3506 \nQ 4231 3784 4057 3965 \nQ 3884 4147 3609 4147 \nL 2731 4147 \nQ 2559 4147 2500 4115 \nQ 2441 4084 2400 3928 \nL 2009 2356 \nz\n\" transform=\"scale(0.015625)\"/>\n       <path id=\"Cmr10-32\" d=\"M 319 0 \nL 319 172 \nQ 319 188 331 206 \nL 1325 1306 \nQ 1550 1550 1690 1715 \nQ 1831 1881 1968 2097 \nQ 2106 2313 2186 2536 \nQ 2266 2759 2266 3009 \nQ 2266 3272 2169 3511 \nQ 2072 3750 1880 3894 \nQ 1688 4038 1416 4038 \nQ 1138 4038 916 3870 \nQ 694 3703 603 3438 \nQ 628 3444 672 3444 \nQ 816 3444 917 3347 \nQ 1019 3250 1019 3097 \nQ 1019 2950 917 2848 \nQ 816 2747 672 2747 \nQ 522 2747 420 2851 \nQ 319 2956 319 3097 \nQ 319 3338 409 3548 \nQ 500 3759 670 3923 \nQ 841 4088 1055 4175 \nQ 1269 4263 1509 4263 \nQ 1875 4263 2190 4108 \nQ 2506 3953 2690 3670 \nQ 2875 3388 2875 3009 \nQ 2875 2731 2753 2481 \nQ 2631 2231 2440 2026 \nQ 2250 1822 1953 1562 \nQ 1656 1303 1563 1216 \nL 838 519 \nL 1453 519 \nQ 1906 519 2211 526 \nQ 2516 534 2534 550 \nQ 2609 631 2688 1141 \nL 2875 1141 \nL 2694 0 \nL 319 0 \nz\n\" transform=\"scale(0.015625)\"/>\n      </defs>\n      <use xlink:href=\"#Cmsy10-6b\"/>\n      <use xlink:href=\"#Cmr10-a2\" transform=\"translate(50 0)\"/>\n      <use xlink:href=\"#Cmmi10-42\" transform=\"translate(133.300781 0)\"/>\n      <use xlink:href=\"#Cmsy10-6b\" transform=\"translate(209.082031 0)\"/>\n      <use xlink:href=\"#Cmr10-32\" transform=\"translate(263.546172 -17.00625)scale(0.7)\"/>\n     </g>\n    </g>\n   </g>\n   <g id=\"line2d_51\">\n    <path d=\"M 77.630909 41.997187 \nL 77.839128 67.094783 \nL 78.047346 173.006836 \nL 78.255565 157.128554 \nL 78.672002 250.023115 \nL 78.880221 166.935068 \nL 79.296658 243.487426 \nL 79.504877 189.54317 \nL 79.713096 285.028029 \nL 80.129533 196.492594 \nL 80.337752 344.397187 \nL 80.54597 188.159696 \nL 80.754189 264.701731 \nL 80.962408 195.527078 \nL 81.170626 193.980328 \nL 81.378845 210.961254 \nL 81.587064 187.769666 \nL 81.795282 228.335278 \nL 82.003501 194.644843 \nL 82.21172 195.765938 \nL 82.419938 186.779165 \nL 82.628157 210.826328 \nL 82.836376 194.072922 \nL 83.044594 229.371953 \nL 83.252813 179.587387 \nL 83.461032 184.580648 \nL 83.66925 184.475473 \nL 83.877469 192.88634 \nL 84.085688 180.237906 \nL 84.502125 185.292332 \nL 84.710344 185.390909 \nL 84.918562 170.516663 \nL 85.126781 170.689789 \nL 85.335 165.803545 \nL 85.543218 175.706576 \nL 85.751437 161.767197 \nL 85.959656 161.339466 \nL 86.167874 166.966536 \nL 86.584312 186.054728 \nL 86.79253 193.170704 \nL 87.000749 195.433148 \nL 87.417186 190.754169 \nL 88.250061 167.983179 \nL 88.45828 150.123752 \nL 88.874717 155.49862 \nL 89.291154 172.068155 \nL 89.499373 185.659457 \nL 89.707592 185.757023 \nL 89.91581 187.449849 \nL 90.332248 178.510048 \nL 90.540466 180.626781 \nL 90.748685 172.940181 \nL 91.165122 148.038578 \nL 91.373341 145.150903 \nL 91.58156 147.11401 \nL 91.997997 158.321531 \nL 92.414434 174.208072 \nL 92.830872 182.196526 \nL 93.03909 181.823881 \nL 93.247309 172.186907 \nL 93.455528 172.147331 \nL 93.663746 164.775038 \nL 93.871965 146.688978 \nL 94.080184 143.572455 \nL 94.496621 135.846737 \nL 94.70484 139.001989 \nL 95.329496 165.406133 \nL 95.537714 168.044784 \nL 95.745933 172.179973 \nL 95.954152 164.671547 \nL 96.16237 164.987539 \nL 96.370589 166.291333 \nL 96.787026 144.906618 \nL 96.995245 140.754713 \nL 97.411682 126.776004 \nL 97.619901 130.696485 \nL 98.036338 150.062165 \nL 98.452776 162.181419 \nL 98.660994 163.296987 \nL 98.869213 166.80588 \nL 99.077432 165.401688 \nL 99.493869 153.200338 \nL 99.910306 131.354599 \nL 100.326744 120.635145 \nL 100.534962 125.237496 \nL 100.9514 146.013247 \nL 101.784274 170.531898 \nL 102.40893 149.005612 \nL 102.617149 134.833398 \nL 102.825368 129.956258 \nL 103.033586 119.898028 \nL 103.241805 120.747954 \nL 103.450024 125.621065 \nL 104.07468 161.863763 \nL 104.282898 166.144485 \nL 104.699336 178.14174 \nL 104.907554 171.186155 \nL 105.948648 121.323174 \nL 106.156866 118.779006 \nL 106.365085 126.392348 \nL 106.781522 151.255651 \nL 107.19796 169.971246 \nL 107.406178 175.889256 \nL 107.614397 178.17665 \nL 107.822616 173.705068 \nL 108.65549 124.410133 \nL 109.071928 106.748152 \nL 109.280146 111.4221 \nL 109.904802 140.061804 \nL 110.113021 143.11256 \nL 110.32124 142.796237 \nL 110.529458 138.247851 \nL 110.737677 140.537886 \nL 111.154114 125.300835 \nL 111.77877 103.33647 \nL 111.986989 105.024096 \nL 112.195208 102.835605 \nL 112.403426 103.77817 \nL 112.611645 105.324758 \nL 112.819864 105.525916 \nL 113.028082 113.003056 \nL 113.236301 106.585712 \nL 113.44452 108.111115 \nL 113.652738 107.546262 \nL 113.860957 107.565941 \nL 114.277394 100.889359 \nL 114.485613 105.143383 \nL 114.693832 102.566137 \nL 114.90205 103.970779 \nL 115.110269 99.301557 \nL 115.318488 105.238864 \nL 115.526706 100.781397 \nL 115.734925 103.890617 \nL 115.943144 101.875842 \nL 116.359581 103.566476 \nL 116.5678 100.637802 \nL 116.776018 100.435583 \nL 116.984237 99.632912 \nL 117.817112 124.863565 \nL 118.02533 129.099802 \nL 118.233549 126.732979 \nL 118.441768 129.475634 \nL 118.649986 125.940089 \nL 118.858205 125.066648 \nL 119.066424 118.83851 \nL 119.482861 121.968923 \nL 119.69108 123.555552 \nL 119.899298 123.410327 \nL 120.107517 124.211039 \nL 120.315736 121.866523 \nL 120.523954 123.259919 \nL 120.732173 122.326654 \nL 120.940392 124.073056 \nL 121.14861 122.514025 \nL 121.356829 122.803114 \nL 121.773266 124.3539 \nL 121.981485 122.62792 \nL 122.189704 123.907118 \nL 122.397922 126.44978 \nL 122.606141 125.998538 \nL 122.81436 127.902445 \nL 123.022578 127.904425 \nL 123.230797 130.219839 \nL 123.439016 128.625671 \nL 123.647234 128.117071 \nL 123.855453 129.953801 \nL 124.063672 127.514857 \nL 124.27189 130.347134 \nL 124.480109 129.9235 \nL 124.688328 132.090498 \nL 125.104765 141.045963 \nL 125.521202 155.368089 \nL 125.729421 158.586162 \nL 125.93764 158.912345 \nL 126.145858 157.799347 \nL 126.978733 146.897799 \nL 127.186952 147.553081 \nL 127.39517 152.921192 \nL 128.019826 174.547116 \nL 128.228045 181.305437 \nL 128.436264 182.002725 \nL 128.644482 181.100798 \nL 129.06092 168.532111 \nL 129.477357 156.072291 \nL 129.685576 153.621411 \nL 129.893794 152.608198 \nL 130.102013 154.375787 \nL 130.934888 176.408522 \nL 131.143106 176.001413 \nL 131.351325 177.059113 \nL 131.559544 176.516943 \nL 132.392418 151.625383 \nL 132.600637 150.210275 \nL 132.808856 149.678591 \nL 133.017074 152.565709 \nL 133.64173 170.074665 \nL 133.849949 169.479051 \nL 134.058168 167.985501 \nL 134.266386 168.415962 \nL 134.474605 168.580117 \nL 135.099261 150.300105 \nL 135.30748 146.709826 \nL 135.723917 146.079134 \nL 136.140354 155.487084 \nL 136.556792 167.560029 \nL 136.76501 164.031142 \nL 136.973229 169.372313 \nL 137.181448 166.141598 \nL 137.389666 165.802043 \nL 138.222541 149.395759 \nL 138.638978 148.421885 \nL 139.055416 159.291638 \nL 139.471853 167.778332 \nL 139.680072 163.929865 \nL 139.88829 170.283258 \nL 140.304728 165.758423 \nL 140.512946 162.193497 \nL 140.721165 155.791256 \nL 141.345821 148.654569 \nL 141.55404 151.099485 \nL 141.762259 151.45129 \nL 142.178696 163.222005 \nL 142.595133 168.793436 \nL 142.803352 169.06231 \nL 143.011571 171.096306 \nL 143.428008 163.955284 \nL 143.844445 155.718401 \nL 144.052664 153.293785 \nL 144.260883 152.699394 \nL 144.469101 153.534186 \nL 145.510195 172.490948 \nL 145.718413 172.783896 \nL 145.926632 173.563605 \nL 146.343069 165.198813 \nL 146.759507 157.179163 \nL 146.967725 156.031309 \nL 147.175944 156.052635 \nL 147.384163 157.783374 \nL 147.8006 167.338321 \nL 148.217037 176.85645 \nL 148.425256 179.535845 \nL 148.633475 178.074355 \nL 148.841693 174.040528 \nL 149.466349 157.625773 \nL 149.674568 154.372495 \nL 149.882787 156.040195 \nL 150.091005 156.362472 \nL 150.299224 157.837427 \nL 150.715661 165.67887 \nL 150.92388 166.702706 \nL 151.132099 165.587269 \nL 151.340317 163.386002 \nL 151.964973 146.257493 \nL 152.381411 132.597909 \nL 152.589629 131.18427 \nL 152.797848 130.779221 \nL 153.006067 130.761605 \nL 153.214285 134.577652 \nL 153.422504 130.496566 \nL 153.630723 136.90466 \nL 153.838941 133.959499 \nL 154.04716 133.766577 \nL 154.255379 133.779445 \nL 154.463597 132.250623 \nL 154.671816 129.057346 \nL 154.880035 129.074695 \nL 155.296472 123.359718 \nL 155.712909 123.669065 \nL 155.921128 123.413223 \nL 156.129347 124.054385 \nL 156.337565 123.43852 \nL 156.545784 126.069981 \nL 157.17044 122.260708 \nL 157.378659 122.156428 \nL 157.586877 124.514542 \nL 157.795096 121.433293 \nL 158.003315 126.26793 \nL 158.419752 123.016346 \nL 158.836189 121.367999 \nL 159.044408 130.718698 \nL 159.669064 116.202732 \nL 159.877283 121.477985 \nL 160.085501 121.387915 \nL 160.29372 121.791464 \nL 160.501939 122.731055 \nL 160.710157 121.668065 \nL 160.918376 122.697067 \nL 161.126595 120.019777 \nL 161.334813 123.163128 \nL 161.543032 122.341899 \nL 161.751251 124.244515 \nL 161.959469 124.516401 \nL 162.167688 122.002873 \nL 162.375907 124.249407 \nL 162.584125 124.507985 \nL 163.000563 128.899018 \nL 163.625219 132.411172 \nL 164.041656 133.316296 \nL 164.249875 132.68456 \nL 164.458093 132.966389 \nL 164.874531 134.371387 \nL 165.082749 134.555637 \nL 165.290968 138.614342 \nL 165.499187 144.941657 \nL 165.707405 147.548417 \nL 166.123843 162.896734 \nL 166.332061 167.619542 \nL 166.54028 169.266717 \nL 166.748499 168.309354 \nL 167.164936 164.676597 \nL 167.373155 164.420509 \nL 167.581373 164.474334 \nL 167.789592 165.306718 \nL 167.997811 165.486599 \nL 168.206029 167.383949 \nL 168.414248 170.408089 \nL 168.830685 180.740866 \nL 169.038904 181.477886 \nL 169.247123 181.386962 \nL 169.455341 179.291013 \nL 169.871779 171.278634 \nL 170.288216 168.429601 \nL 170.704653 168.885546 \nL 170.912872 170.657566 \nL 171.537528 178.115293 \nL 171.745747 178.189173 \nL 172.370403 172.397107 \nL 173.203277 162.723837 \nL 173.619715 162.455566 \nL 174.036152 169.89795 \nL 174.244371 172.602442 \nL 174.452589 173.290049 \nL 174.660808 173.025541 \nL 175.285464 168.918474 \nL 175.701901 161.365703 \nL 176.118339 158.090064 \nL 176.326557 158.328859 \nL 176.742995 162.023652 \nL 176.951213 168.613422 \nL 177.159432 170.266805 \nL 177.367651 168.583746 \nL 177.575869 172.761531 \nL 177.784088 170.37558 \nL 177.992307 172.11684 \nL 178.200525 165.883377 \nL 178.408744 165.595438 \nL 178.825181 157.584958 \nL 179.0334 157.709995 \nL 179.241619 158.306775 \nL 179.449837 157.394023 \nL 180.074493 169.655893 \nL 180.282712 163.575802 \nL 180.490931 172.336341 \nL 180.699149 169.365194 \nL 180.907368 170.192992 \nL 181.740243 155.530311 \nL 181.948461 155.21397 \nL 182.15668 155.128876 \nL 182.364899 157.087143 \nL 182.573117 160.342631 \nL 182.989555 169.120965 \nL 183.405992 171.827058 \nL 183.614211 172.035769 \nL 183.822429 172.04662 \nL 184.238867 163.790481 \nL 184.655304 159.112581 \nL 184.863523 158.767059 \nL 185.27996 163.294848 \nL 186.112835 178.845428 \nL 186.321053 178.140168 \nL 186.529272 178.250509 \nL 186.945709 171.066832 \nL 187.362147 163.673595 \nL 187.570365 162.384158 \nL 187.986803 165.052568 \nL 188.819677 182.627784 \nL 189.027896 182.922476 \nL 189.236115 180.65102 \nL 189.652552 171.176487 \nL 190.068989 160.017573 \nL 190.277208 157.003637 \nL 190.485427 155.693272 \nL 191.318301 164.889209 \nL 191.52652 164.801608 \nL 191.942957 162.418475 \nL 192.359395 151.422965 \nL 192.984051 137.342476 \nL 193.400488 131.897727 \nL 193.608707 132.143852 \nL 193.816925 131.314678 \nL 194.233363 131.743046 \nL 194.441581 131.257605 \nL 194.6498 130.060512 \nL 194.858019 130.954718 \nL 195.482675 125.715683 \nL 195.690893 123.555539 \nL 195.899112 123.410264 \nL 196.107331 122.543761 \nL 196.315549 123.036032 \nL 196.731987 122.067618 \nL 196.940205 122.454376 \nL 197.148424 122.317585 \nL 197.356643 121.824742 \nL 197.77308 122.45761 \nL 197.981299 121.018129 \nL 198.189517 121.637551 \nL 198.397736 123.002181 \nL 198.605955 121.865972 \nL 198.814173 121.498509 \nL 199.022392 120.298114 \nL 199.230611 122.332874 \nL 199.438829 121.462406 \nL 199.647048 128.682433 \nL 199.855267 127.443688 \nL 200.063485 120.523111 \nL 200.271704 118.315271 \nL 200.479923 117.368484 \nL 200.89636 122.316242 \nL 201.104579 120.851456 \nL 201.312797 120.195191 \nL 201.521016 121.199745 \nL 201.729235 120.453177 \nL 201.937453 120.510894 \nL 202.145672 122.137957 \nL 202.353891 121.736865 \nL 202.562109 121.885835 \nL 202.770328 122.673049 \nL 202.978547 125.503463 \nL 203.186765 125.431976 \nL 203.394984 125.021314 \nL 203.603203 127.57847 \nL 204.01964 125.991096 \nL 204.227859 129.416088 \nL 204.436077 130.8274 \nL 204.644296 130.364039 \nL 204.852515 130.620901 \nL 205.060733 129.723822 \nL 205.268952 131.115924 \nL 205.477171 134.700504 \nL 205.685389 135.625091 \nL 206.518264 152.29983 \nL 206.934701 161.994483 \nL 207.351139 164.996239 \nL 207.767576 160.343453 \nL 208.184013 159.325183 \nL 208.392232 158.65922 \nL 208.600451 160.591873 \nL 209.641544 182.534856 \nL 209.849763 184.062033 \nL 210.057981 182.777561 \nL 210.682637 170.956185 \nL 210.890856 169.587223 \nL 211.099075 169.855835 \nL 211.307293 170.562218 \nL 211.515512 172.35834 \nL 211.931949 178.614689 \nL 212.140168 179.565623 \nL 212.348387 177.967189 \nL 212.556605 179.939163 \nL 212.764824 179.903653 \nL 212.973043 177.348391 \nL 213.38948 167.256253 \nL 213.597699 163.823758 \nL 214.014136 163.591715 \nL 214.222355 164.711905 \nL 214.430573 166.642342 \nL 214.847011 174.347658 \nL 215.055229 173.77527 \nL 215.263448 170.398806 \nL 215.471667 171.162749 \nL 215.679885 174.027027 \nL 216.304541 161.158894 \nL 216.51276 157.190651 \nL 216.720979 155.724082 \nL 216.929197 156.688044 \nL 217.345635 160.675715 \nL 217.762072 170.424949 \nL 217.970291 164.663217 \nL 218.178509 169.925288 \nL 218.386728 167.742321 \nL 218.594947 170.867001 \nL 218.803165 168.41746 \nL 219.219603 160.853723 \nL 219.427821 159.525517 \nL 219.63604 157.330221 \nL 220.052477 158.982851 \nL 220.677133 170.308998 \nL 220.885352 163.135166 \nL 221.093571 170.485119 \nL 221.301789 172.030037 \nL 221.510008 170.774 \nL 221.718227 168.239076 \nL 221.926445 161.956031 \nL 222.134664 162.291468 \nL 222.551101 158.853233 \nL 222.75932 160.295927 \nL 222.967539 159.676014 \nL 223.175757 165.761564 \nL 223.592195 168.809102 \nL 223.800413 169.347448 \nL 224.216851 175.229892 \nL 224.425069 173.911803 \nL 225.049725 163.230467 \nL 225.257944 163.639819 \nL 225.466163 163.58679 \nL 225.674381 163.985667 \nL 226.507256 174.224109 \nL 226.715475 174.246091 \nL 226.923693 178.393652 \nL 227.131912 179.875806 \nL 227.340131 178.393461 \nL 227.964787 169.590434 \nL 228.173005 169.35203 \nL 228.381224 168.927994 \nL 228.589443 170.838275 \nL 228.797661 171.566995 \nL 229.214099 178.389789 \nL 229.422317 179.150706 \nL 229.630536 180.99159 \nL 229.838755 180.883015 \nL 230.463411 170.245733 \nL 230.879848 164.105509 \nL 231.296285 165.405893 \nL 231.504504 165.830659 \nL 231.712723 168.914101 \nL 231.920941 169.949459 \nL 232.12916 169.195788 \nL 232.545597 165.633331 \nL 233.794909 133.779298 \nL 234.003128 133.708647 \nL 234.419565 133.047652 \nL 234.627784 134.535657 \nL 234.836003 134.756398 \nL 235.044221 134.411318 \nL 235.25244 134.67389 \nL 235.460659 133.938493 \nL 235.668877 132.326596 \nL 235.877096 129.764568 \nL 236.085315 128.921877 \nL 236.501752 125.934352 \nL 236.709971 126.739517 \nL 236.918189 124.460178 \nL 237.126408 125.121523 \nL 237.334627 124.366012 \nL 237.542845 122.634351 \nL 237.751064 122.836159 \nL 237.959283 124.960567 \nL 238.37572 121.948802 \nL 238.583939 121.936766 \nL 238.792157 121.415367 \nL 239.000376 121.440118 \nL 239.208595 121.24783 \nL 239.416813 121.280275 \nL 239.625032 122.952225 \nL 239.833251 122.833801 \nL 240.041469 122.068684 \nL 240.249688 131.229562 \nL 240.457907 125.400649 \nL 240.666125 127.191357 \nL 240.874344 119.111848 \nL 241.082563 120.351433 \nL 241.290781 120.745669 \nL 241.499 122.519099 \nL 241.707219 120.223486 \nL 241.915437 120.699462 \nL 242.123656 119.060384 \nL 242.331875 122.878293 \nL 242.540093 123.917481 \nL 242.748312 123.182768 \nL 242.956531 123.262004 \nL 243.164749 127.799723 \nL 243.372968 126.007108 \nL 243.581187 127.283955 \nL 243.789405 127.739341 \nL 243.997624 126.91226 \nL 244.205843 131.872097 \nL 244.62228 130.196789 \nL 245.246936 133.263686 \nL 245.455155 132.946929 \nL 245.663373 132.079543 \nL 246.288029 136.911247 \nL 246.496248 138.655439 \nL 247.329123 162.749804 \nL 247.537341 167.223575 \nL 247.74556 168.768934 \nL 247.953779 167.723487 \nL 248.370216 164.160481 \nL 248.578435 163.732338 \nL 249.203091 165.733865 \nL 249.411309 167.172547 \nL 249.619528 170.248959 \nL 250.035965 181.020458 \nL 250.244184 181.441751 \nL 250.452403 181.082802 \nL 250.660621 179.808723 \nL 251.077059 172.300036 \nL 251.493496 169.501636 \nL 251.909933 169.877328 \nL 252.118152 171.588942 \nL 252.534589 177.364894 \nL 252.951027 179.770837 \nL 253.159245 177.165452 \nL 253.575683 174.815484 \nL 254.200339 167.504712 \nL 254.408557 166.653646 \nL 254.616776 165.133623 \nL 255.033213 168.318024 \nL 255.449651 175.115355 \nL 255.866088 175.578027 \nL 256.282525 172.987393 \nL 256.907181 163.343984 \nL 257.323619 160.863801 \nL 257.531837 160.788723 \nL 257.740056 160.372806 \nL 258.156493 168.285199 \nL 258.364712 170.936868 \nL 258.572931 167.864787 \nL 258.781149 173.244279 \nL 258.989368 170.47053 \nL 259.197587 173.609536 \nL 259.405805 166.517609 \nL 259.614024 167.097773 \nL 259.822243 162.897723 \nL 260.030461 162.214561 \nL 260.23868 160.004606 \nL 260.446899 161.542372 \nL 260.655117 159.681947 \nL 261.071555 168.421654 \nL 261.279773 171.457834 \nL 261.487992 164.495239 \nL 261.696211 171.434141 \nL 261.904429 169.823772 \nL 262.112648 170.942962 \nL 262.320867 166.408811 \nL 262.529085 165.196622 \nL 262.945523 159.14212 \nL 263.153741 158.991681 \nL 263.36196 159.063426 \nL 263.778397 163.186785 \nL 264.194835 172.889666 \nL 264.403053 171.660925 \nL 265.027709 176.461619 \nL 265.652365 166.993797 \nL 265.860584 165.426379 \nL 266.068803 165.302099 \nL 266.277021 166.060791 \nL 266.48524 168.099195 \nL 267.318115 180.293307 \nL 267.526333 180.39549 \nL 267.734552 181.833243 \nL 267.942771 180.3114 \nL 268.775645 170.907706 \nL 268.983864 170.817785 \nL 269.192083 172.210319 \nL 269.60852 178.011415 \nL 270.024957 183.663482 \nL 270.233176 183.264431 \nL 270.441395 181.06803 \nL 270.857832 173.74532 \nL 271.482488 160.117935 \nL 271.690707 157.741299 \nL 271.898925 159.08941 \nL 272.107144 159.567231 \nL 272.523581 165.033994 \nL 272.7318 164.809947 \nL 272.940019 162.623704 \nL 273.148237 162.601998 \nL 273.981112 142.185605 \nL 274.605768 132.912972 \nL 274.813987 132.373646 \nL 275.022205 132.558384 \nL 275.230424 132.363047 \nL 275.438643 131.749945 \nL 275.646861 132.062928 \nL 275.85508 131.432818 \nL 276.063299 131.23105 \nL 277.104392 126.291515 \nL 277.312611 125.665454 \nL 277.520829 123.86363 \nL 277.729048 123.762319 \nL 277.937267 122.875427 \nL 278.145485 122.530567 \nL 278.353704 123.39172 \nL 278.561923 122.459334 \nL 278.770141 122.513184 \nL 278.97836 121.538476 \nL 279.186579 121.739571 \nL 279.394797 121.744191 \nL 279.603016 122.113131 \nL 279.811235 122.921159 \nL 280.019453 123.096516 \nL 280.227672 123.807987 \nL 280.435891 123.846572 \nL 280.644109 122.596361 \nL 280.852328 130.864616 \nL 281.060547 126.310035 \nL 281.268765 125.684412 \nL 281.476984 122.805361 \nL 281.685203 121.524615 \nL 281.893421 116.776488 \nL 282.10164 124.805795 \nL 282.309859 119.102475 \nL 282.518077 120.524354 \nL 282.726296 120.486759 \nL 282.934515 121.552848 \nL 283.142733 121.485533 \nL 283.350952 122.7942 \nL 283.559171 122.307409 \nL 283.767389 125.621278 \nL 283.975608 126.840976 \nL 284.183827 128.967374 \nL 284.600264 126.900542 \nL 284.808483 129.543106 \nL 285.22492 124.66624 \nL 285.641357 131.646343 \nL 285.849576 130.484048 \nL 286.057795 132.118908 \nL 286.266013 130.951293 \nL 286.474232 130.699271 \nL 286.682451 135.715568 \nL 286.890669 137.404073 \nL 287.515325 145.694118 \nL 287.931763 157.05302 \nL 288.3482 163.374827 \nL 288.556419 163.291717 \nL 288.972856 159.592626 \nL 289.181075 158.187247 \nL 289.389293 157.756354 \nL 289.597512 157.778179 \nL 289.805731 160.46156 \nL 290.846824 183.615673 \nL 291.055043 185.248547 \nL 291.263261 184.183956 \nL 291.887917 173.028379 \nL 292.096136 172.141541 \nL 292.304355 172.083242 \nL 292.512573 172.923102 \nL 292.720792 174.767542 \nL 293.137229 181.003133 \nL 293.345448 181.765014 \nL 293.553667 181.172262 \nL 293.761885 181.912343 \nL 293.970104 182.085242 \nL 294.178323 179.568632 \nL 294.59476 170.605404 \nL 294.802979 168.493217 \nL 295.011197 168.417839 \nL 295.219416 168.643393 \nL 295.427635 169.104191 \nL 295.635853 171.135004 \nL 296.052291 177.983768 \nL 296.260509 177.020212 \nL 296.468728 172.523678 \nL 296.676947 173.314491 \nL 296.885165 176.573615 \nL 297.509821 163.513185 \nL 297.71804 160.281069 \nL 298.134477 161.198771 \nL 298.550915 165.035765 \nL 298.967352 172.256088 \nL 299.175571 167.001147 \nL 299.383789 172.123867 \nL 299.592008 169.660669 \nL 299.800227 172.466879 \nL 300.008445 170.548431 \nL 300.424883 163.829789 \nL 300.633101 162.338829 \nL 300.84132 160.039721 \nL 301.049539 162.274038 \nL 301.257757 162.738486 \nL 301.465976 164.934199 \nL 301.882413 173.397903 \nL 302.090632 164.119801 \nL 302.298851 172.049124 \nL 302.507069 172.227959 \nL 302.715288 171.988667 \nL 303.131725 164.768577 \nL 303.339944 163.66172 \nL 303.756381 160.381364 \nL 303.9646 161.83246 \nL 304.172819 161.868854 \nL 304.381037 167.312924 \nL 305.005693 173.406318 \nL 305.422131 177.571087 \nL 305.630349 176.696915 \nL 306.255005 167.532354 \nL 306.463224 166.538687 \nL 306.671443 167.525157 \nL 306.879661 167.230148 \nL 307.08788 169.130673 \nL 307.504317 174.515051 \nL 307.712536 176.324854 \nL 307.920755 176.200661 \nL 308.128973 180.178396 \nL 308.337192 181.303042 \nL 308.753629 176.793594 \nL 309.170067 170.729083 \nL 309.378285 170.4993 \nL 309.586504 170.017606 \nL 309.794723 171.78967 \nL 310.002941 172.513094 \nL 310.419379 179.062494 \nL 310.627597 179.355905 \nL 310.835816 181.600366 \nL 311.044035 181.737511 \nL 312.085128 164.444347 \nL 312.293347 165.513076 \nL 312.501565 165.733749 \nL 312.709784 166.904764 \nL 313.126221 171.251386 \nL 313.542659 168.446659 \nL 313.959096 161.178029 \nL 314.791971 139.1432 \nL 315.000189 137.021509 \nL 315.208408 136.598561 \nL 315.416627 134.303288 \nL 315.624845 136.539164 \nL 316.041283 137.093745 \nL 316.249501 134.712235 \nL 316.45772 135.933607 \nL 316.665939 135.59609 \nL 317.707032 127.161608 \nL 317.915251 126.812825 \nL 318.123469 126.234816 \nL 318.331688 126.247223 \nL 318.539907 124.564897 \nL 318.748125 124.029063 \nL 318.956344 123.914988 \nL 319.164563 125.04081 \nL 319.372781 124.828239 \nL 319.581 123.7882 \nL 319.789219 123.321085 \nL 319.997437 123.39693 \nL 320.205656 123.050635 \nL 320.413875 124.487115 \nL 320.622093 124.841436 \nL 320.830312 124.815963 \nL 321.038531 125.316173 \nL 321.246749 124.169193 \nL 321.454968 132.156413 \nL 321.663187 129.702255 \nL 321.871405 124.820747 \nL 322.079624 123.167916 \nL 322.287843 127.713501 \nL 322.496061 120.535963 \nL 322.70428 122.883737 \nL 322.912499 119.550156 \nL 323.120717 120.790462 \nL 323.328936 120.718897 \nL 323.745373 128.123377 \nL 323.953592 124.09249 \nL 324.161811 122.401366 \nL 324.370029 124.709129 \nL 324.578248 128.50246 \nL 324.786467 128.965291 \nL 324.994685 130.06747 \nL 325.202904 130.059785 \nL 325.411123 131.537798 \nL 325.619341 132.018551 \nL 325.82756 130.301974 \nL 326.452216 136.474274 \nL 326.660435 135.750588 \nL 326.868653 134.199113 \nL 327.076872 133.689455 \nL 327.493309 140.170948 \nL 327.701528 140.668624 \nL 328.742621 167.366159 \nL 328.95084 169.912399 \nL 329.159059 167.674279 \nL 329.367277 167.023904 \nL 329.575496 165.156793 \nL 329.991933 165.453053 \nL 330.200152 166.531583 \nL 330.408371 166.929941 \nL 330.616589 168.41776 \nL 330.824808 171.304895 \nL 331.241245 181.895784 \nL 331.449464 182.109148 \nL 331.865901 180.474011 \nL 332.282339 173.081299 \nL 332.490557 171.310774 \nL 332.698776 170.583696 \nL 332.906995 170.582812 \nL 333.115213 170.928212 \nL 333.531651 175.367704 \nL 333.948088 180.135814 \nL 334.156307 181.014634 \nL 334.364525 178.462962 \nL 334.780963 176.253012 \nL 335.613837 166.033267 \nL 335.822056 167.086871 \nL 336.030275 167.023494 \nL 336.863149 176.958465 \nL 337.071368 177.245332 \nL 337.487805 174.456393 \nL 338.32068 162.793992 \nL 338.528899 161.355286 \nL 338.737117 160.724869 \nL 338.945336 162.986452 \nL 339.153555 163.678265 \nL 339.361773 170.609763 \nL 339.569992 171.625991 \nL 339.778211 168.321089 \nL 339.986429 174.754531 \nL 340.194648 172.164184 \nL 340.402867 175.395003 \nL 340.611085 168.464927 \nL 340.819304 168.514496 \nL 341.235741 163.669467 \nL 341.44396 162.105415 \nL 341.652179 163.235293 \nL 341.860397 160.919782 \nL 342.068616 166.505404 \nL 342.276835 168.661058 \nL 342.485053 173.254054 \nL 342.693272 166.085195 \nL 342.901491 173.869241 \nL 343.109709 171.669738 \nL 343.317928 173.221232 \nL 343.734365 168.038339 \nL 344.150803 162.099988 \nL 344.359021 161.798738 \nL 344.56724 161.710281 \nL 344.983677 164.060067 \nL 345.400115 175.225628 \nL 345.608333 173.689036 \nL 346.232989 179.658955 \nL 346.649427 173.681869 \nL 346.857645 170.804107 \nL 347.065864 169.604113 \nL 347.274083 169.442004 \nL 347.482301 169.704325 \nL 347.69052 170.976695 \nL 348.523395 182.417895 \nL 348.731613 182.491162 \nL 348.939832 184.216244 \nL 349.148051 182.902129 \nL 349.980925 172.975473 \nL 350.189144 172.984599 \nL 350.397363 174.114982 \nL 350.8138 179.831613 \nL 351.230237 185.070626 \nL 351.438456 184.474985 \nL 351.854893 178.64586 \nL 352.271331 168.927485 \nL 352.687768 159.597599 \nL 352.895987 158.197404 \nL 353.104205 158.771049 \nL 353.728861 164.684364 \nL 353.93708 164.801988 \nL 354.145299 163.021017 \nL 354.353517 162.451858 \nL 355.394611 137.862592 \nL 355.811048 132.926546 \nL 356.019267 133.013009 \nL 356.227485 132.83864 \nL 356.435704 133.098692 \nL 356.643923 131.791121 \nL 356.852141 132.871263 \nL 357.06036 132.516182 \nL 357.476797 130.239226 \nL 358.101453 126.508715 \nL 358.309672 126.148671 \nL 358.726109 123.96004 \nL 358.934328 124.717713 \nL 359.142547 122.931826 \nL 359.350765 124.062339 \nL 359.767203 122.497995 \nL 359.975421 122.83259 \nL 360.18364 122.827429 \nL 360.391859 122.98954 \nL 360.600077 122.644272 \nL 360.808296 121.994726 \nL 361.016515 122.28979 \nL 361.224733 122.963797 \nL 361.432952 122.799205 \nL 361.641171 123.850941 \nL 361.849389 122.858989 \nL 362.057608 130.734954 \nL 362.265827 128.548108 \nL 362.474045 122.441294 \nL 362.682264 125.012796 \nL 363.098701 118.160019 \nL 363.30692 121.49932 \nL 363.515139 118.582072 \nL 363.723357 121.936868 \nL 363.931576 122.256713 \nL 364.139795 124.842415 \nL 364.348013 122.009308 \nL 364.556232 123.090589 \nL 364.764451 121.247852 \nL 364.972669 123.390118 \nL 365.180888 127.455463 \nL 365.389107 126.642871 \nL 365.597325 129.840993 \nL 365.805544 127.828307 \nL 366.013763 129.210051 \nL 366.221981 128.323491 \nL 366.4302 125.000306 \nL 366.846637 131.659492 \nL 367.054856 130.948496 \nL 367.263075 133.178173 \nL 367.471293 132.315733 \nL 367.679512 130.326708 \nL 368.095949 136.929873 \nL 368.928824 152.395105 \nL 369.345261 160.108501 \nL 369.55348 163.890695 \nL 369.761699 163.206485 \nL 370.386355 157.977776 \nL 370.594573 157.788359 \nL 370.802792 158.025714 \nL 371.011011 160.469431 \nL 372.052104 184.009977 \nL 372.260323 185.630762 \nL 372.468541 184.731954 \nL 373.093197 173.83501 \nL 373.301416 173.174733 \nL 373.509635 172.987413 \nL 373.926072 175.869342 \nL 374.342509 182.357161 \nL 374.550728 183.292651 \nL 374.758947 182.577563 \nL 374.967165 183.30974 \nL 375.175384 183.312512 \nL 375.383603 180.88291 \nL 375.80004 172.052798 \nL 376.008259 170.192348 \nL 376.216477 170.014624 \nL 376.424696 170.224004 \nL 376.632915 170.90859 \nL 376.841133 172.98868 \nL 377.257571 179.652631 \nL 377.465789 178.678844 \nL 377.674008 173.728536 \nL 377.882227 175.106252 \nL 378.090445 177.781713 \nL 378.92332 161.302374 \nL 379.131539 162.337225 \nL 379.339757 162.649934 \nL 379.756195 166.727281 \nL 380.172632 174.693502 \nL 380.380851 167.644274 \nL 380.589069 173.463962 \nL 380.797288 171.082284 \nL 381.005507 174.134329 \nL 381.213725 170.410269 \nL 381.421944 168.860211 \nL 381.630163 163.976609 \nL 381.838381 163.841503 \nL 382.0466 160.885465 \nL 382.254819 163.730093 \nL 382.463037 163.619638 \nL 382.671256 166.331673 \nL 383.087693 174.723014 \nL 383.295912 165.329575 \nL 383.504131 173.446326 \nL 383.920568 172.724939 \nL 384.753443 161.721877 \nL 384.961661 160.662648 \nL 385.16988 162.474781 \nL 385.378099 162.699186 \nL 385.794536 170.448871 \nL 386.627411 178.515075 \nL 386.835629 177.161359 \nL 387.460285 167.520669 \nL 387.668504 167.822224 \nL 387.876723 165.947927 \nL 388.084941 168.843898 \nL 388.29316 169.28737 \nL 388.709597 175.187534 \nL 388.917816 176.886478 \nL 389.126035 176.827075 \nL 389.334253 180.893234 \nL 389.542472 182.171696 \nL 390.583565 170.883417 \nL 390.791784 170.566908 \nL 391.208221 172.785484 \nL 391.624659 179.347902 \nL 391.832877 179.50455 \nL 392.041096 181.893051 \nL 392.249315 182.16475 \nL 393.290408 163.793411 \nL 393.498627 164.145096 \nL 393.706845 164.982555 \nL 393.915064 165.320634 \nL 394.123283 168.876041 \nL 394.331501 169.045612 \nL 394.53972 168.901577 \nL 394.747939 167.696699 \nL 394.956157 165.665769 \nL 395.580813 149.422803 \nL 395.997251 139.505423 \nL 396.205469 135.799207 \nL 396.413688 134.812031 \nL 396.621907 134.950122 \nL 396.830125 136.631796 \nL 397.038344 136.928734 \nL 397.246563 135.618914 \nL 397.663 136.2508 \nL 397.871219 135.537905 \nL 398.079437 134.095785 \nL 398.495875 129.668514 \nL 398.704093 128.043945 \nL 399.120531 126.507362 \nL 399.328749 126.534684 \nL 399.536968 125.882887 \nL 399.953405 123.970208 \nL 400.161624 123.33907 \nL 400.369843 124.442877 \nL 400.578061 124.475258 \nL 400.78628 123.592077 \nL 400.994499 124.185934 \nL 401.202717 123.419304 \nL 401.410936 123.166048 \nL 401.619155 124.057058 \nL 401.827373 123.843958 \nL 402.035592 124.284047 \nL 402.243811 124.436969 \nL 402.452029 123.421811 \nL 402.660248 132.305249 \nL 403.284904 122.831387 \nL 403.493123 126.261005 \nL 403.701341 117.068839 \nL 403.90956 121.463426 \nL 404.117779 121.56439 \nL 404.325997 123.11897 \nL 404.534216 122.351318 \nL 404.950653 128.487063 \nL 405.158872 123.125113 \nL 405.367091 121.875608 \nL 405.783528 127.793305 \nL 405.991747 128.421487 \nL 406.199965 130.651371 \nL 406.408184 129.550487 \nL 406.616403 130.227227 \nL 406.824621 132.376747 \nL 407.03284 131.482812 \nL 407.449277 134.324511 \nL 407.657496 135.092111 \nL 407.865715 136.287795 \nL 408.073933 135.205666 \nL 408.282152 132.413109 \nL 408.490371 135.125611 \nL 408.698589 139.985721 \nL 408.906808 139.339656 \nL 409.531464 157.049941 \nL 409.947901 166.681201 \nL 410.15612 168.095743 \nL 410.780776 163.130437 \nL 410.988995 162.637132 \nL 411.197213 162.981214 \nL 411.405432 163.768524 \nL 411.821869 167.155606 \nL 412.446525 182.174849 \nL 412.654744 182.397408 \nL 412.862963 181.851386 \nL 413.071181 180.598974 \nL 413.487619 173.289169 \nL 413.695837 171.499002 \nL 413.904056 170.980554 \nL 414.112275 170.913491 \nL 414.320493 171.380728 \nL 414.736931 175.715605 \nL 415.153368 180.666087 \nL 415.361587 181.564173 \nL 415.569805 178.90225 \nL 415.986243 176.645898 \nL 416.819117 166.713142 \nL 417.235555 167.550213 \nL 418.068429 177.600948 \nL 418.276648 177.757787 \nL 418.693085 174.741406 \nL 419.52596 162.88416 \nL 419.734179 161.342953 \nL 419.942397 161.037101 \nL 420.150616 162.960551 \nL 420.358835 163.547158 \nL 420.567054 170.994197 \nL 420.775272 171.764627 \nL 420.983491 168.234008 \nL 421.19171 175.350386 \nL 421.399928 172.629573 \nL 421.608147 175.947871 \nL 421.816366 168.752534 \nL 422.024584 168.964893 \nL 422.441022 164.094743 \nL 422.64924 162.878764 \nL 422.857459 163.767531 \nL 423.065678 162.198731 \nL 423.690334 174.244109 \nL 423.898552 166.845369 \nL 424.106771 174.615066 \nL 424.31499 172.651541 \nL 424.523208 174.444224 \nL 424.731427 170.095254 \nL 424.939646 169.11486 \nL 425.356083 163.261783 \nL 425.77252 162.457926 \nL 425.980739 163.217818 \nL 426.188958 165.138663 \nL 426.605395 176.549282 \nL 426.813614 175.162542 \nL 427.021832 176.597116 \nL 427.43827 181.088317 \nL 427.854707 175.149927 \nL 428.062926 172.160258 \nL 428.271144 170.962532 \nL 428.479363 170.785852 \nL 428.687582 170.986471 \nL 428.8958 172.328032 \nL 429.520456 183.016386 \nL 429.728675 183.474286 \nL 429.936894 183.663473 \nL 430.145112 185.186141 \nL 430.353331 183.956804 \nL 430.977987 174.547174 \nL 431.186206 173.85526 \nL 431.394424 173.901824 \nL 431.602643 174.800158 \nL 432.435518 185.451208 \nL 432.643736 184.903932 \nL 433.060174 178.69781 \nL 433.476611 169.287333 \nL 433.68483 162.173365 \nL 433.893048 159.130465 \nL 434.101267 158.451759 \nL 434.309486 158.618946 \nL 434.517704 160.315733 \nL 434.725923 163.289679 \nL 435.14236 165.381137 \nL 435.558798 162.027724 \nL 436.391672 142.469183 \nL 436.599891 137.128898 \nL 437.016328 132.828685 \nL 437.224547 133.493002 \nL 437.432766 132.449013 \nL 437.640984 133.413231 \nL 437.849203 131.279571 \nL 438.057422 133.082354 \nL 438.473859 131.318422 \nL 438.682078 130.361358 \nL 439.098515 128.003511 \nL 439.306734 126.878894 \nL 439.514952 127.098636 \nL 439.723171 125.150691 \nL 439.93139 124.291369 \nL 440.139608 123.934549 \nL 440.347827 122.633072 \nL 440.556046 124.245477 \nL 441.180702 122.275983 \nL 441.597139 122.626669 \nL 441.805358 122.562527 \nL 442.013576 122.131832 \nL 442.221795 123.342266 \nL 442.638232 124.440263 \nL 443.05467 122.622994 \nL 443.262888 132.04355 \nL 443.471107 125.072906 \nL 443.679326 126.195462 \nL 443.887544 123.7883 \nL 444.095763 125.241615 \nL 444.303982 116.74144 \nL 444.5122 123.41823 \nL 444.720419 117.448987 \nL 444.928638 122.062301 \nL 445.136856 120.95544 \nL 445.345075 123.669133 \nL 445.553294 120.6516 \nL 445.761512 123.270166 \nL 445.969731 123.096425 \nL 446.17795 124.489327 \nL 446.386168 127.132589 \nL 446.594387 126.453329 \nL 446.802606 130.317094 \nL 447.010824 128.395024 \nL 447.219043 129.196556 \nL 447.427262 128.67857 \nL 447.63548 124.876362 \nL 448.051918 131.367804 \nL 448.260136 130.834965 \nL 448.468355 133.213629 \nL 448.676574 133.268015 \nL 448.884792 129.563632 \nL 449.30123 136.845825 \nL 449.925886 146.735453 \nL 450.342323 157.940641 \nL 450.550542 160.069525 \nL 450.75876 163.962099 \nL 450.966979 163.404247 \nL 451.175198 161.018424 \nL 451.383416 160.02344 \nL 451.591635 157.864377 \nL 451.799854 157.212723 \nL 452.008072 157.824134 \nL 452.216291 160.537493 \nL 453.257384 184.362379 \nL 453.465603 186.026027 \nL 453.673822 185.161346 \nL 454.298478 174.621354 \nL 454.714915 173.773335 \nL 455.131352 176.659882 \nL 455.54779 183.273552 \nL 455.756008 184.328311 \nL 455.964227 183.57073 \nL 456.172446 184.284205 \nL 456.380664 184.246341 \nL 456.588883 181.869481 \nL 457.00532 173.124969 \nL 457.213539 171.376268 \nL 457.421758 171.157945 \nL 457.629976 171.350076 \nL 457.838195 172.120003 \nL 458.046414 174.236623 \nL 458.462851 180.901416 \nL 458.67107 179.959571 \nL 458.879288 174.783176 \nL 459.295726 178.84358 \nL 460.1286 162.571673 \nL 460.336819 161.752681 \nL 460.961475 167.970601 \nL 461.377912 175.988014 \nL 461.586131 168.710981 \nL 461.79435 174.552957 \nL 462.002568 172.228635 \nL 462.210787 175.268734 \nL 462.419006 171.349477 \nL 462.627224 169.537683 \nL 462.835443 164.547702 \nL 463.043662 164.652454 \nL 463.25188 161.548644 \nL 463.460099 164.601471 \nL 463.668318 164.33644 \nL 463.876536 166.546895 \nL 464.292974 175.22221 \nL 464.501192 165.987103 \nL 464.709411 174.447653 \nL 464.91763 173.593592 \nL 465.125848 173.269826 \nL 465.542286 165.340617 \nL 465.750504 165.088577 \nL 465.958723 162.090992 \nL 466.166942 160.835845 \nL 466.37516 162.724686 \nL 466.583379 163.252316 \nL 466.999816 170.648587 \nL 467.832691 179.148127 \nL 468.04091 177.662753 \nL 468.665566 167.968937 \nL 468.873784 168.256861 \nL 469.082003 166.15153 \nL 469.290222 169.659372 \nL 469.49844 169.486624 \nL 469.914878 175.650096 \nL 470.123096 177.2218 \nL 470.331315 177.225213 \nL 470.539534 181.420865 \nL 470.747752 182.726129 \nL 471.16419 178.31633 \nL 471.580627 171.948421 \nL 471.788846 171.358511 \nL 471.997064 171.245381 \nL 472.413502 173.319296 \nL 472.829939 179.473529 \nL 473.038158 179.949669 \nL 473.246376 182.179066 \nL 473.454595 182.495299 \nL 474.079251 171.606491 \nL 474.495688 163.927921 \nL 474.703907 164.035982 \nL 474.912126 163.295246 \nL 475.536782 168.24049 \nL 475.745 168.5411 \nL 475.953219 167.942102 \nL 476.161438 166.20272 \nL 476.786094 149.513411 \nL 477.202531 139.203482 \nL 477.41075 135.360939 \nL 477.618968 135.998433 \nL 477.827187 135.42483 \nL 478.035406 136.978967 \nL 478.243624 136.70436 \nL 478.451843 135.797734 \nL 478.660062 136.802606 \nL 478.86828 136.282234 \nL 479.076499 136.103909 \nL 479.284718 134.634473 \nL 479.492936 131.790457 \nL 480.325811 127.021894 \nL 480.53403 127.181307 \nL 480.950467 125.918103 \nL 481.158686 125.087828 \nL 481.366904 125.247142 \nL 481.575123 126.464269 \nL 481.783342 125.238551 \nL 482.616216 124.160923 \nL 483.032654 125.401423 \nL 483.240872 125.702555 \nL 483.449091 125.158061 \nL 483.449091 125.158061 \n\" clip-path=\"url(#pe2a3a5dc4f)\" style=\"fill: none; stroke: #348abd; stroke-width: 3; stroke-linecap: square\"/>\n   </g>\n   <g id=\"patch_3\">\n    <path d=\"M 57.34 359.517187 \nL 57.34 26.877187 \n\" style=\"fill: none; stroke: #bcbcbc; stroke-width: 0.8; stroke-linejoin: miter; stroke-linecap: square\"/>\n   </g>\n   <g id=\"patch_4\">\n    <path d=\"M 503.74 359.517187 \nL 503.74 26.877187 \n\" style=\"fill: none; stroke: #bcbcbc; stroke-width: 0.8; stroke-linejoin: miter; stroke-linecap: square\"/>\n   </g>\n   <g id=\"patch_5\">\n    <path d=\"M 57.34 359.517187 \nL 503.74 359.517187 \n\" style=\"fill: none; stroke: #bcbcbc; stroke-width: 0.8; stroke-linejoin: miter; stroke-linecap: square\"/>\n   </g>\n   <g id=\"patch_6\">\n    <path d=\"M 57.34 26.877187 \nL 503.74 26.877187 \n\" style=\"fill: none; stroke: #bcbcbc; stroke-width: 0.8; stroke-linejoin: miter; stroke-linecap: square\"/>\n   </g>\n   <g id=\"text_14\">\n    <!-- Gradient norm dynamics -->\n    <g transform=\"translate(168.963906 20.877187)scale(0.18 -0.18)\">\n     <defs>\n      <path id=\"DejaVuSans-47\" d=\"M 3809 666 \nL 3809 1919 \nL 2778 1919 \nL 2778 2438 \nL 4434 2438 \nL 4434 434 \nQ 4069 175 3628 42 \nQ 3188 -91 2688 -91 \nQ 1594 -91 976 548 \nQ 359 1188 359 2328 \nQ 359 3472 976 4111 \nQ 1594 4750 2688 4750 \nQ 3144 4750 3555 4637 \nQ 3966 4525 4313 4306 \nL 4313 3634 \nQ 3963 3931 3569 4081 \nQ 3175 4231 2741 4231 \nQ 1884 4231 1454 3753 \nQ 1025 3275 1025 2328 \nQ 1025 1384 1454 906 \nQ 1884 428 2741 428 \nQ 3075 428 3337 486 \nQ 3600 544 3809 666 \nz\n\" transform=\"scale(0.015625)\"/>\n      <path id=\"DejaVuSans-72\" d=\"M 2631 2963 \nQ 2534 3019 2420 3045 \nQ 2306 3072 2169 3072 \nQ 1681 3072 1420 2755 \nQ 1159 2438 1159 1844 \nL 1159 0 \nL 581 0 \nL 581 3500 \nL 1159 3500 \nL 1159 2956 \nQ 1341 3275 1631 3429 \nQ 1922 3584 2338 3584 \nQ 2397 3584 2469 3576 \nQ 2541 3569 2628 3553 \nL 2631 2963 \nz\n\" transform=\"scale(0.015625)\"/>\n      <path id=\"DejaVuSans-61\" d=\"M 2194 1759 \nQ 1497 1759 1228 1600 \nQ 959 1441 959 1056 \nQ 959 750 1161 570 \nQ 1363 391 1709 391 \nQ 2188 391 2477 730 \nQ 2766 1069 2766 1631 \nL 2766 1759 \nL 2194 1759 \nz\nM 3341 1997 \nL 3341 0 \nL 2766 0 \nL 2766 531 \nQ 2569 213 2275 61 \nQ 1981 -91 1556 -91 \nQ 1019 -91 701 211 \nQ 384 513 384 1019 \nQ 384 1609 779 1909 \nQ 1175 2209 1959 2209 \nL 2766 2209 \nL 2766 2266 \nQ 2766 2663 2505 2880 \nQ 2244 3097 1772 3097 \nQ 1472 3097 1187 3025 \nQ 903 2953 641 2809 \nL 641 3341 \nQ 956 3463 1253 3523 \nQ 1550 3584 1831 3584 \nQ 2591 3584 2966 3190 \nQ 3341 2797 3341 1997 \nz\n\" transform=\"scale(0.015625)\"/>\n      <path id=\"DejaVuSans-64\" d=\"M 2906 2969 \nL 2906 4863 \nL 3481 4863 \nL 3481 0 \nL 2906 0 \nL 2906 525 \nQ 2725 213 2448 61 \nQ 2172 -91 1784 -91 \nQ 1150 -91 751 415 \nQ 353 922 353 1747 \nQ 353 2572 751 3078 \nQ 1150 3584 1784 3584 \nQ 2172 3584 2448 3432 \nQ 2725 3281 2906 2969 \nz\nM 947 1747 \nQ 947 1113 1208 752 \nQ 1469 391 1925 391 \nQ 2381 391 2643 752 \nQ 2906 1113 2906 1747 \nQ 2906 2381 2643 2742 \nQ 2381 3103 1925 3103 \nQ 1469 3103 1208 2742 \nQ 947 2381 947 1747 \nz\n\" transform=\"scale(0.015625)\"/>\n      <path id=\"DejaVuSans-69\" d=\"M 603 3500 \nL 1178 3500 \nL 1178 0 \nL 603 0 \nL 603 3500 \nz\nM 603 4863 \nL 1178 4863 \nL 1178 4134 \nL 603 4134 \nL 603 4863 \nz\n\" transform=\"scale(0.015625)\"/>\n      <path id=\"DejaVuSans-6e\" d=\"M 3513 2113 \nL 3513 0 \nL 2938 0 \nL 2938 2094 \nQ 2938 2591 2744 2837 \nQ 2550 3084 2163 3084 \nQ 1697 3084 1428 2787 \nQ 1159 2491 1159 1978 \nL 1159 0 \nL 581 0 \nL 581 3500 \nL 1159 3500 \nL 1159 2956 \nQ 1366 3272 1645 3428 \nQ 1925 3584 2291 3584 \nQ 2894 3584 3203 3211 \nQ 3513 2838 3513 2113 \nz\n\" transform=\"scale(0.015625)\"/>\n      <path id=\"DejaVuSans-20\" transform=\"scale(0.015625)\"/>\n      <path id=\"DejaVuSans-6f\" d=\"M 1959 3097 \nQ 1497 3097 1228 2736 \nQ 959 2375 959 1747 \nQ 959 1119 1226 758 \nQ 1494 397 1959 397 \nQ 2419 397 2687 759 \nQ 2956 1122 2956 1747 \nQ 2956 2369 2687 2733 \nQ 2419 3097 1959 3097 \nz\nM 1959 3584 \nQ 2709 3584 3137 3096 \nQ 3566 2609 3566 1747 \nQ 3566 888 3137 398 \nQ 2709 -91 1959 -91 \nQ 1206 -91 779 398 \nQ 353 888 353 1747 \nQ 353 2609 779 3096 \nQ 1206 3584 1959 3584 \nz\n\" transform=\"scale(0.015625)\"/>\n      <path id=\"DejaVuSans-6d\" d=\"M 3328 2828 \nQ 3544 3216 3844 3400 \nQ 4144 3584 4550 3584 \nQ 5097 3584 5394 3201 \nQ 5691 2819 5691 2113 \nL 5691 0 \nL 5113 0 \nL 5113 2094 \nQ 5113 2597 4934 2840 \nQ 4756 3084 4391 3084 \nQ 3944 3084 3684 2787 \nQ 3425 2491 3425 1978 \nL 3425 0 \nL 2847 0 \nL 2847 2094 \nQ 2847 2600 2669 2842 \nQ 2491 3084 2119 3084 \nQ 1678 3084 1418 2786 \nQ 1159 2488 1159 1978 \nL 1159 0 \nL 581 0 \nL 581 3500 \nL 1159 3500 \nL 1159 2956 \nQ 1356 3278 1631 3431 \nQ 1906 3584 2284 3584 \nQ 2666 3584 2933 3390 \nQ 3200 3197 3328 2828 \nz\n\" transform=\"scale(0.015625)\"/>\n      <path id=\"DejaVuSans-79\" d=\"M 2059 -325 \nQ 1816 -950 1584 -1140 \nQ 1353 -1331 966 -1331 \nL 506 -1331 \nL 506 -850 \nL 844 -850 \nQ 1081 -850 1212 -737 \nQ 1344 -625 1503 -206 \nL 1606 56 \nL 191 3500 \nL 800 3500 \nL 1894 763 \nL 2988 3500 \nL 3597 3500 \nL 2059 -325 \nz\n\" transform=\"scale(0.015625)\"/>\n      <path id=\"DejaVuSans-63\" d=\"M 3122 3366 \nL 3122 2828 \nQ 2878 2963 2633 3030 \nQ 2388 3097 2138 3097 \nQ 1578 3097 1268 2742 \nQ 959 2388 959 1747 \nQ 959 1106 1268 751 \nQ 1578 397 2138 397 \nQ 2388 397 2633 464 \nQ 2878 531 3122 666 \nL 3122 134 \nQ 2881 22 2623 -34 \nQ 2366 -91 2075 -91 \nQ 1284 -91 818 406 \nQ 353 903 353 1747 \nQ 353 2603 823 3093 \nQ 1294 3584 2113 3584 \nQ 2378 3584 2631 3529 \nQ 2884 3475 3122 3366 \nz\n\" transform=\"scale(0.015625)\"/>\n     </defs>\n     <use xlink:href=\"#DejaVuSans-47\"/>\n     <use xlink:href=\"#DejaVuSans-72\" x=\"77.490234\"/>\n     <use xlink:href=\"#DejaVuSans-61\" x=\"118.603516\"/>\n     <use xlink:href=\"#DejaVuSans-64\" x=\"179.882812\"/>\n     <use xlink:href=\"#DejaVuSans-69\" x=\"243.359375\"/>\n     <use xlink:href=\"#DejaVuSans-65\" x=\"271.142578\"/>\n     <use xlink:href=\"#DejaVuSans-6e\" x=\"332.666016\"/>\n     <use xlink:href=\"#DejaVuSans-74\" x=\"396.044922\"/>\n     <use xlink:href=\"#DejaVuSans-20\" x=\"435.253906\"/>\n     <use xlink:href=\"#DejaVuSans-6e\" x=\"467.041016\"/>\n     <use xlink:href=\"#DejaVuSans-6f\" x=\"530.419922\"/>\n     <use xlink:href=\"#DejaVuSans-72\" x=\"591.601562\"/>\n     <use xlink:href=\"#DejaVuSans-6d\" x=\"630.964844\"/>\n     <use xlink:href=\"#DejaVuSans-20\" x=\"728.376953\"/>\n     <use xlink:href=\"#DejaVuSans-64\" x=\"760.164062\"/>\n     <use xlink:href=\"#DejaVuSans-79\" x=\"823.640625\"/>\n     <use xlink:href=\"#DejaVuSans-6e\" x=\"882.820312\"/>\n     <use xlink:href=\"#DejaVuSans-61\" x=\"946.199219\"/>\n     <use xlink:href=\"#DejaVuSans-6d\" x=\"1007.478516\"/>\n     <use xlink:href=\"#DejaVuSans-69\" x=\"1104.890625\"/>\n     <use xlink:href=\"#DejaVuSans-63\" x=\"1132.673828\"/>\n     <use xlink:href=\"#DejaVuSans-73\" x=\"1187.654297\"/>\n    </g>\n   </g>\n  </g>\n </g>\n <defs>\n  <clipPath id=\"pe2a3a5dc4f\">\n   <rect x=\"57.34\" y=\"26.877187\" width=\"446.4\" height=\"332.64\"/>\n  </clipPath>\n </defs>\n</svg>\n",
      "text/plain": [
       "<Figure size 800x600 with 1 Axes>"
      ]
     },
     "metadata": {},
     "output_type": "display_data"
    }
   ],
   "source": [
    "grads = jnp.asarray(grads)\n",
    "\n",
    "plot(\n",
    "    jnp.arange(grads.size), \n",
    "    [grads],\n",
    "    yscale='log',\n",
    "    xlabel='Steps',\n",
    "    ylabel='$\\|\\Delta{B}\\|_2$',\n",
    "    title='Gradient norm dynamics'\n",
    "    )"
   ]
  },
  {
   "cell_type": "markdown",
   "id": "ba87a2af",
   "metadata": {},
   "source": [
    "# Calculating The Error Rate"
   ]
  },
  {
   "cell_type": "code",
   "execution_count": 47,
   "id": "dfcc6766",
   "metadata": {},
   "outputs": [],
   "source": [
    "er_train = error_rate(mps, data=(train_samples, train_labels))\n",
    "er_test = error_rate(mps, data=(test_samples, test_labels))"
   ]
  },
  {
   "cell_type": "code",
   "execution_count": 48,
   "id": "6b7183a6",
   "metadata": {},
   "outputs": [
    {
     "name": "stdout",
     "output_type": "stream",
     "text": [
      "Error rate train: 0.15 \t|\tError rate test: 0.14 \n"
     ]
    }
   ],
   "source": [
    "print(f'Error rate train: {er_train:<5.2f}\\t|\\tError rate test: {er_test:<5.2f}')"
   ]
  },
  {
   "cell_type": "markdown",
   "id": "5956d435",
   "metadata": {},
   "source": [
    "# Varia"
   ]
  },
  {
   "cell_type": "markdown",
   "id": "e091a3eb",
   "metadata": {},
   "source": [
    "Below is a piece of code that was used to check if the gradient is computed correctly. The plotted two lines must be parallel to each other if this is the case (up to some numerical accuracy)."
   ]
  },
  {
   "cell_type": "code",
   "execution_count": 49,
   "id": "c0b66987",
   "metadata": {},
   "outputs": [],
   "source": [
    "# def plot_taylor_apprx(β, data, num_iter=30):\n",
    "#     dotp = lambda x,y : jnp.einsum('...,...->', x, y)\n",
    "#     dβ = grad(β, data)\n",
    "#     Δ = jax.random.uniform(key, shape=β.shape)\n",
    "#     f = loss(β, data)\n",
    "\n",
    "#     apprx, norms = [], []\n",
    "#     for _ in range(num_iter):\n",
    "#         Δf = loss(β + Δ, data)\n",
    "#         apprx.append(jnp.linalg.norm(Δf - f - dotp(dβ, Δ)))\n",
    "#         norms.append(dotp(Δ, Δ))\n",
    "#         Δ /= 2\n",
    "\n",
    "#     plot(jnp.arange(num_iter), [apprx, norms],\n",
    "#          yscale='log', legend=['$\\|f(x+Δx) - f(x) - ⟨∇f,Δx⟩\\|^2$', '$\\|Δx\\|^2$'],\n",
    "#          xlabel='Iterations', ylabel='$log{\\|\\cdot\\|^2}$')\n",
    "\n",
    "# pos = 0\n",
    "# B = jnp.einsum('pikl,kjq->pijql', mps[pos], mps[pos+1])\n",
    "# inputs = train_samples[:,pos:pos+2,:]\n",
    "# left_wing = jnp.ones(shape=(num_samples,1))\n",
    "# Φ = [left_wing, inputs, wings[pos+2]]\n",
    "\n",
    "# plot_taylor_apprx(B, data=(Φ, train_labels))"
   ]
  },
  {
   "cell_type": "markdown",
   "id": "e481d465",
   "metadata": {},
   "source": [
    "The code below was tried to adaptively change bond dimensions, but it did not show any visible improvement."
   ]
  },
  {
   "cell_type": "code",
   "execution_count": 50,
   "id": "9f6d753e",
   "metadata": {},
   "outputs": [],
   "source": [
    "# def suggest_truncation(\n",
    "#         λ: Vector,\n",
    "#         ε: float,      # truncation error tolerance\n",
    "#     ) -> Tuple[jnp.ndarray, jnp.ndarray, int]:\n",
    "#     \"\"\"\n",
    "#     Suggest a truncation index of the spectrum \n",
    "#     such that the truncation error is lower than ε.\n",
    "#     The spectrum is assumed to be in the descending order.\n",
    "#     \"\"\"\n",
    "#     cum_sums = jnp.cumsum(λ / jnp.sum(λ))\n",
    "#     return jnp.searchsorted(cum_sums, 1-ε)"
   ]
  }
 ],
 "metadata": {
  "interpreter": {
   "hash": "491c24a142a80d3977295064d21745099a3ab7c738b1de1da02864e704be2f87"
  },
  "kernelspec": {
   "display_name": "Python 3.8.5 64-bit ('3.8.5')",
   "language": "python",
   "name": "python3"
  },
  "language_info": {
   "codemirror_mode": {
    "name": "ipython",
    "version": 3
   },
   "file_extension": ".py",
   "mimetype": "text/x-python",
   "name": "python",
   "nbconvert_exporter": "python",
   "pygments_lexer": "ipython3",
   "version": "3.8.5"
  },
  "varInspector": {
   "cols": {
    "lenName": 16,
    "lenType": 16,
    "lenVar": 40
   },
   "kernels_config": {
    "python": {
     "delete_cmd_postfix": "",
     "delete_cmd_prefix": "del ",
     "library": "var_list.py",
     "varRefreshCmd": "print(var_dic_list())"
    },
    "r": {
     "delete_cmd_postfix": ") ",
     "delete_cmd_prefix": "rm(",
     "library": "var_list.r",
     "varRefreshCmd": "cat(var_dic_list()) "
    }
   },
   "types_to_exclude": [
    "module",
    "function",
    "builtin_function_or_method",
    "instance",
    "_Feature"
   ],
   "window_display": false
  }
 },
 "nbformat": 4,
 "nbformat_minor": 5
}
