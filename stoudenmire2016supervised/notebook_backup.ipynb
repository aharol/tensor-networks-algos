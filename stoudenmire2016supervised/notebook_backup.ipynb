{
 "cells": [
  {
   "cell_type": "markdown",
   "id": "90342c19",
   "metadata": {},
   "source": [
    "# About\n",
    "\n",
    "- `Title:` \"Supervised Learning with Quantum-Inspired Tensor Networks. arXiv e-prints, art\"\n",
    "- `Main Author:` Miles E. Stoudenmire\n",
    "- `Source:` [ArXiv](https://arxiv.org/abs/1605.05775)\n",
    "- `Publish Date:` 18-05-2017\n",
    "- `Reviewed Date:` 22-10-2021\n",
    "\n",
    "## Citation\n",
    "\n",
    "```latex\n",
    "@article{stoudenmire2016supervised,\n",
    "  title={Supervised learning with tensor networks},\n",
    "  author={Stoudenmire, Edwin and Schwab, David J},\n",
    "  journal={Advances in Neural Information Processing Systems},\n",
    "  volume={29},\n",
    "  year={2016}\n",
    "}\n",
    "```"
   ]
  },
  {
   "cell_type": "code",
   "execution_count": 1,
   "id": "c777985e",
   "metadata": {},
   "outputs": [],
   "source": [
    "%load_ext autoreload\n",
    "%autoreload 2"
   ]
  },
  {
   "cell_type": "code",
   "execution_count": 2,
   "id": "516a8cc3",
   "metadata": {},
   "outputs": [
    {
     "name": "stdout",
     "output_type": "stream",
     "text": [
      "env: JAX_ENABLE_X64=1\n",
      "env: JAX_PLATFORM_NAME=cpu\n"
     ]
    }
   ],
   "source": [
    "%env JAX_ENABLE_X64=1\n",
    "%env JAX_PLATFORM_NAME=cpu"
   ]
  },
  {
   "cell_type": "markdown",
   "id": "82c61e55",
   "metadata": {},
   "source": [
    "# Imports and settings"
   ]
  },
  {
   "cell_type": "code",
   "execution_count": 3,
   "id": "80210565",
   "metadata": {},
   "outputs": [],
   "source": [
    "import jax\n",
    "import jax.numpy as jnp\n",
    "from jax import jit, grad"
   ]
  },
  {
   "cell_type": "code",
   "execution_count": 4,
   "id": "933bc00f",
   "metadata": {},
   "outputs": [],
   "source": [
    "import itertools\n",
    "import functools"
   ]
  },
  {
   "cell_type": "code",
   "execution_count": 5,
   "id": "6b833c47",
   "metadata": {},
   "outputs": [],
   "source": [
    "from typing import Any, List, Tuple, Callable, Optional, Iterator"
   ]
  },
  {
   "cell_type": "code",
   "execution_count": 6,
   "id": "833a9ddf",
   "metadata": {},
   "outputs": [],
   "source": [
    "from plotting import plot, show_img_grid, set_figsize"
   ]
  },
  {
   "cell_type": "markdown",
   "id": "7cc61c86",
   "metadata": {},
   "source": [
    "## Types"
   ]
  },
  {
   "cell_type": "code",
   "execution_count": 7,
   "id": "a90da14d",
   "metadata": {},
   "outputs": [],
   "source": [
    "# type alias\n",
    "Key = Any\n",
    "\n",
    "Scalar = jnp.ndarray\n",
    "Vector = jnp.ndarray\n",
    "Matrix = jnp.ndarray\n",
    "Tensor = jnp.ndarray\n",
    "\n",
    "MPS = List[Tensor]"
   ]
  },
  {
   "cell_type": "markdown",
   "id": "9462d629",
   "metadata": {},
   "source": [
    "# Constants"
   ]
  },
  {
   "cell_type": "code",
   "execution_count": 8,
   "id": "c4831051",
   "metadata": {},
   "outputs": [],
   "source": [
    "seed = 321      # random seed\n",
    "bond_dim = 10   # the paper mentions 10, 20 and 120\n",
    "                # WARNING: to avoid unnecessary truncation, set bond_dim>=num_classes\n",
    "α = 1e-2        # learning rate\n",
    "ε = 5e-2        # the allowed truncation error\n",
    "num_sweeps = 10 # number of sweeps"
   ]
  },
  {
   "cell_type": "markdown",
   "id": "39226049",
   "metadata": {},
   "source": [
    "# Load data and visualise"
   ]
  },
  {
   "cell_type": "code",
   "execution_count": 9,
   "id": "04241b2d",
   "metadata": {},
   "outputs": [],
   "source": [
    "import datasets\n",
    "\n",
    "train_images, train_labels, test_images, test_labels = datasets.mnist()"
   ]
  },
  {
   "cell_type": "code",
   "execution_count": 10,
   "id": "308302f6",
   "metadata": {},
   "outputs": [
    {
     "name": "stdout",
     "output_type": "stream",
     "text": [
      "Train data shape: (60000, 784) | Test data shape: (10000, 784)\n"
     ]
    }
   ],
   "source": [
    "print(f'Train data shape: {train_images.shape} | Test data shape: {test_images.shape}')"
   ]
  },
  {
   "cell_type": "code",
   "execution_count": 11,
   "id": "3233b067",
   "metadata": {},
   "outputs": [
    {
     "data": {
      "image/svg+xml": "<?xml version=\"1.0\" encoding=\"utf-8\" standalone=\"no\"?>\n<!DOCTYPE svg PUBLIC \"-//W3C//DTD SVG 1.1//EN\"\n  \"http://www.w3.org/Graphics/SVG/1.1/DTD/svg11.dtd\">\n<svg height=\"276.718594pt\" version=\"1.1\" viewBox=\"0 0 265.023529 276.718594\" width=\"265.023529pt\" xmlns=\"http://www.w3.org/2000/svg\" xmlns:xlink=\"http://www.w3.org/1999/xlink\">\n <metadata>\n  <rdf:RDF xmlns:cc=\"http://creativecommons.org/ns#\" xmlns:dc=\"http://purl.org/dc/elements/1.1/\" xmlns:rdf=\"http://www.w3.org/1999/02/22-rdf-syntax-ns#\">\n   <cc:Work>\n    <dc:type rdf:resource=\"http://purl.org/dc/dcmitype/StillImage\"/>\n    <dc:date>2022-05-02T17:50:34.480339</dc:date>\n    <dc:format>image/svg+xml</dc:format>\n    <dc:creator>\n     <cc:Agent>\n      <dc:title>Matplotlib v3.4.1, https://matplotlib.org/</dc:title>\n     </cc:Agent>\n    </dc:creator>\n   </cc:Work>\n  </rdf:RDF>\n </metadata>\n <defs>\n  <style type=\"text/css\">*{stroke-linecap:butt;stroke-linejoin:round;}</style>\n </defs>\n <g id=\"figure_1\">\n  <g id=\"patch_1\">\n   <path d=\"M 0 276.718594 \nL 265.023529 276.718594 \nL 265.023529 0 \nL 0 0 \nz\n\" style=\"fill:#ffffff;\"/>\n  </g>\n  <g id=\"axes_1\">\n   <g id=\"patch_2\">\n    <path d=\"M 7.2 93.415064 \nL 80.576471 93.415064 \nL 80.576471 20.038594 \nL 7.2 20.038594 \nz\n\" style=\"fill:#eeeeee;\"/>\n   </g>\n   <g clip-path=\"url(#p1c676a7145)\">\n    <image height=\"73.44\" id=\"image2804733495\" transform=\"scale(1 -1)translate(0 -73.44)\" width=\"73.44\" x=\"7.2\" xlink:href=\"data:image/png;base64,\niVBORw0KGgoAAAANSUhEUgAAAGYAAABmCAYAAAA53+RiAAAEMklEQVR4nO2dSyhtYRiG/+1OTIixMjBgIJeBMKEkI1JKGSsGYsCAUigMKIqJQspAEQMzzChiIAaSERFKuUUuYZ/J6TvrW+fsbVv79m7nfUbv29fa66/Xt/5l7X/92+V2u92GwBEV7gGQf8NgQGEwoDAYUBgMKAwGFAYDCoMBhcGAwmBAifHn4JGREdGdnZ0+H5efn698Q0PDnwHF6CE1NTUpn5CQ8J0hRizsGFAYDCgMBhSXP4/9T05ORA8MDKja+vq66NPTU6enMElJScr39/eLbmlpUbW4uDjH50GDHQMKgwHFr0uZN56fn0W3tbWp2ubmpvJHR0eOzlFdXa18T0+P8nl5eaJjY2MdnSNcsGNAYTCgMBhQgjbHeOPp6Un5s7Mz0Y2Njaq2t7fn+DyVlZWie3t7Va2oqEh5l8vl+DzBgB0DCoMBhcGAEpY5xhuPj4/Kr6ysKN/X1yf6+PjY8XnKy8uVHxoaEl1QUOD4cwMFOwYUBgMK3KXsK66vr0VPTEyo2szMjPLn5+c+f250dLTo+vp6VZubm/vOEAMCOwYUBgMKgwEl4uYYb1xcXCi/tLQkemtrS9Xm5+c9fk5xcbHyGxsbokP16IYdAwqDAeVHXcq+Q3x8vPLv7++i7YsODw4ORGdnZwd3YL9hx4DCYEBhMKD4tagcnZeXF9Hb29uq9vHx4fG4mpoa5UM1r1hhx4DCYEBhMKD8qDnm8vJS+fb2dtELCwtej+3u7hbd0dER2IE5gB0DCoMBJaIvZTs7O8pXVVUpf39/7/HY6elp5evq6kQnJycHYHT+wY4BhcGAwmBAibjH/jc3N6KzsrJULTU1VXnro5WSkhJVq62tVZ6LyolPMBhQGAwo8P/HvL29KW/dW+bh4UHVrKtZjDEmNzc3eAMLMuwYUBgMKPCXstHRUeWXl5dF2295c3JyQjGkkMCOAYXBgMJgQIGYY15fX0Xbt7a6vb31eFxra6vyaI9V/IEdAwqDAYXBgBKWx/67u7vKLy4uira/NGT9ytdOaWmp8mtra8pb56urqytVGxsbU35wcNDLiEMPOwYUBgNKSC5l1m0YjTGmsLBQeadbL9qxboNljDFpaWmire9jGvP3i0vebsvDATsGFAYDCoMBJSRzjH1PF+u2u8aE5/oeFaX/Jq232omJiR6Py8jIUN6+ajM9PT0Ao2PHwMJgQGEwoITlkYx9Fb71RdX9/X1VW11dVf7u7k705ORkwMaUmZkpuqKiQtWmpqZEp6SkqFpZWZnyw8PDov15qZYdAwqDASXiFpV/fn6Ktn7z+RWzs7PK23dLPzw8FG1fmdPV1SV6fHxc1ey31tYf1GtubvZ5fHbYMaAwGFAYDCgRN8f8L7BjQGEwoDAYUBgMKAwGFAYDCoMBhcGAwmBAYTCgMBhQGAwoDAYUBgMKgwGFwYDCYED5BeifFh+2j0cCAAAAAElFTkSuQmCC\" y=\"-19.975064\"/>\n   </g>\n   <g id=\"matplotlib.axis_1\"/>\n   <g id=\"matplotlib.axis_2\"/>\n   <g id=\"patch_3\">\n    <path d=\"M 7.2 93.415064 \nL 7.2 20.038594 \n\" style=\"fill:none;stroke:#bcbcbc;stroke-linecap:square;stroke-linejoin:miter;stroke-width:0.8;\"/>\n   </g>\n   <g id=\"patch_4\">\n    <path d=\"M 80.576471 93.415064 \nL 80.576471 20.038594 \n\" style=\"fill:none;stroke:#bcbcbc;stroke-linecap:square;stroke-linejoin:miter;stroke-width:0.8;\"/>\n   </g>\n   <g id=\"patch_5\">\n    <path d=\"M 7.2 93.415064 \nL 80.576471 93.415064 \n\" style=\"fill:none;stroke:#bcbcbc;stroke-linecap:square;stroke-linejoin:miter;stroke-width:0.8;\"/>\n   </g>\n   <g id=\"patch_6\">\n    <path d=\"M 7.2 20.038594 \nL 80.576471 20.038594 \n\" style=\"fill:none;stroke:#bcbcbc;stroke-linecap:square;stroke-linejoin:miter;stroke-width:0.8;\"/>\n   </g>\n   <g id=\"text_1\">\n    <!-- label: 5 -->\n    <g transform=\"translate(27.195345 14.038594)scale(0.09 -0.09)\">\n     <defs>\n      <path d=\"M 603 4863 \nL 1178 4863 \nL 1178 0 \nL 603 0 \nL 603 4863 \nz\n\" id=\"DejaVuSans-6c\" transform=\"scale(0.015625)\"/>\n      <path d=\"M 2194 1759 \nQ 1497 1759 1228 1600 \nQ 959 1441 959 1056 \nQ 959 750 1161 570 \nQ 1363 391 1709 391 \nQ 2188 391 2477 730 \nQ 2766 1069 2766 1631 \nL 2766 1759 \nL 2194 1759 \nz\nM 3341 1997 \nL 3341 0 \nL 2766 0 \nL 2766 531 \nQ 2569 213 2275 61 \nQ 1981 -91 1556 -91 \nQ 1019 -91 701 211 \nQ 384 513 384 1019 \nQ 384 1609 779 1909 \nQ 1175 2209 1959 2209 \nL 2766 2209 \nL 2766 2266 \nQ 2766 2663 2505 2880 \nQ 2244 3097 1772 3097 \nQ 1472 3097 1187 3025 \nQ 903 2953 641 2809 \nL 641 3341 \nQ 956 3463 1253 3523 \nQ 1550 3584 1831 3584 \nQ 2591 3584 2966 3190 \nQ 3341 2797 3341 1997 \nz\n\" id=\"DejaVuSans-61\" transform=\"scale(0.015625)\"/>\n      <path d=\"M 3116 1747 \nQ 3116 2381 2855 2742 \nQ 2594 3103 2138 3103 \nQ 1681 3103 1420 2742 \nQ 1159 2381 1159 1747 \nQ 1159 1113 1420 752 \nQ 1681 391 2138 391 \nQ 2594 391 2855 752 \nQ 3116 1113 3116 1747 \nz\nM 1159 2969 \nQ 1341 3281 1617 3432 \nQ 1894 3584 2278 3584 \nQ 2916 3584 3314 3078 \nQ 3713 2572 3713 1747 \nQ 3713 922 3314 415 \nQ 2916 -91 2278 -91 \nQ 1894 -91 1617 61 \nQ 1341 213 1159 525 \nL 1159 0 \nL 581 0 \nL 581 4863 \nL 1159 4863 \nL 1159 2969 \nz\n\" id=\"DejaVuSans-62\" transform=\"scale(0.015625)\"/>\n      <path d=\"M 3597 1894 \nL 3597 1613 \nL 953 1613 \nQ 991 1019 1311 708 \nQ 1631 397 2203 397 \nQ 2534 397 2845 478 \nQ 3156 559 3463 722 \nL 3463 178 \nQ 3153 47 2828 -22 \nQ 2503 -91 2169 -91 \nQ 1331 -91 842 396 \nQ 353 884 353 1716 \nQ 353 2575 817 3079 \nQ 1281 3584 2069 3584 \nQ 2775 3584 3186 3129 \nQ 3597 2675 3597 1894 \nz\nM 3022 2063 \nQ 3016 2534 2758 2815 \nQ 2500 3097 2075 3097 \nQ 1594 3097 1305 2825 \nQ 1016 2553 972 2059 \nL 3022 2063 \nz\n\" id=\"DejaVuSans-65\" transform=\"scale(0.015625)\"/>\n      <path d=\"M 750 794 \nL 1409 794 \nL 1409 0 \nL 750 0 \nL 750 794 \nz\nM 750 3309 \nL 1409 3309 \nL 1409 2516 \nL 750 2516 \nL 750 3309 \nz\n\" id=\"DejaVuSans-3a\" transform=\"scale(0.015625)\"/>\n      <path id=\"DejaVuSans-20\" transform=\"scale(0.015625)\"/>\n      <path d=\"M 691 4666 \nL 3169 4666 \nL 3169 4134 \nL 1269 4134 \nL 1269 2991 \nQ 1406 3038 1543 3061 \nQ 1681 3084 1819 3084 \nQ 2600 3084 3056 2656 \nQ 3513 2228 3513 1497 \nQ 3513 744 3044 326 \nQ 2575 -91 1722 -91 \nQ 1428 -91 1123 -41 \nQ 819 9 494 109 \nL 494 744 \nQ 775 591 1075 516 \nQ 1375 441 1709 441 \nQ 2250 441 2565 725 \nQ 2881 1009 2881 1497 \nQ 2881 1984 2565 2268 \nQ 2250 2553 1709 2553 \nQ 1456 2553 1204 2497 \nQ 953 2441 691 2322 \nL 691 4666 \nz\n\" id=\"DejaVuSans-35\" transform=\"scale(0.015625)\"/>\n     </defs>\n     <use xlink:href=\"#DejaVuSans-6c\"/>\n     <use x=\"27.783203\" xlink:href=\"#DejaVuSans-61\"/>\n     <use x=\"89.0625\" xlink:href=\"#DejaVuSans-62\"/>\n     <use x=\"152.539062\" xlink:href=\"#DejaVuSans-65\"/>\n     <use x=\"214.0625\" xlink:href=\"#DejaVuSans-6c\"/>\n     <use x=\"241.845703\" xlink:href=\"#DejaVuSans-3a\"/>\n     <use x=\"275.537109\" xlink:href=\"#DejaVuSans-20\"/>\n     <use x=\"307.324219\" xlink:href=\"#DejaVuSans-35\"/>\n    </g>\n   </g>\n  </g>\n  <g id=\"axes_2\">\n   <g id=\"patch_7\">\n    <path d=\"M 95.823529 93.415064 \nL 169.2 93.415064 \nL 169.2 20.038594 \nL 95.823529 20.038594 \nz\n\" style=\"fill:#eeeeee;\"/>\n   </g>\n   <g clip-path=\"url(#p3e55e3d10c)\">\n    <image height=\"73.44\" id=\"image4e2c314257\" transform=\"scale(1 -1)translate(0 -73.44)\" width=\"73.44\" x=\"95.823529\" xlink:href=\"data:image/png;base64,\niVBORw0KGgoAAAANSUhEUgAAAGYAAABmCAYAAAA53+RiAAAEmklEQVR4nO2cSyh1XxjG10GUaygTuSYzyUAZuM2YSrnEQMmAXJKMUAYMhCSEzEQGBsyUTKSYiIFcUsp9wIBkQMR/tlrv+r5zPud/zt7n+b6e3+h9eu291+nxrrX2Wntvz/f397cicISFugHk99AYUGgMKDQGFBoDCo0BhcaAQmNAoTGg0BhQaAwoNAYUGgMKjQElwo2LvL6+Cr24uCh0Z2enju1dCI/HI/TQ0JCOW1paRC45OTmgdiLBigGFxoDicWoH8+XlRcc1NTUit7W15fW4P3VlJikpKUK3trYKPTAw8Md2osKKAYXGgEJjQHFsjNnb29NxSUnJj49LTU0VOikpSeijo6Mfn6uysvK3sVJKtbe3//g8oYAVAwqNAYXGgOLKkoxNeHi40H19fTpubm4Wubi4OKGPj491PD8/L3I7OztCb2xs6Pj8/Fzkzs7OhO7p6dFxVlaW17a7BSsGFBoDimPT5d3dXR3b0+XMzEyhLy4unGiCWllZ0XFHR4fIPT09CW2ucE9MTDjSHn9gxYBCY0ChMaA4Nl02l+vtpfumpianLiuor6/XcWlpqciNjIwIPTU1pWN7x3VhYcGB1vmGFQMKjQElJKvL2dnZQtt35W7w+fkp9OzsrI67u7tFLiMjQ8fr6+sil5eXF/zGKVYMLDQGFBoDSkhWl9/e3oQ2p6exsbGutCEiQv508wmbj48Pkevt7dXx8PCwyNkPL0ZGRgalfawYUGgMKDQGFMfuYw4PD3VcXFwscu/v70IvLy/ruLa21onmBIS542ovL/X39ws9ODgYlGuyYkChMaA4Nl0uKCjQsb2yu7m5KfTq6qqOEbuyr68vHYeFyf/l/f19R67JigGFxoBCY0BxZUlmZmZG6NzcXKHNpXR7C8D+21Bgjiv2dNnXi1UBXdORs5KAoTGg0BhQXBlj0tPThW5sbBR6aWlJx0VFRSK3vb0tdE5Ojo7t5fn4+PiA2okEKwYUGgOKK12ZvVs4NjYmtNkF2VPriooKoc13V8bHx0XO7gbdwKl3aVgxoNAYUGgMKI7tYPrD3d2djvPz80Xu+fnZ63ENDQ1C2w9/n5yc6Pjg4EDk6urqhI6OjvZ6HXMHMyYmRuTMd0KVUiotLc3refyBFQMKjQGFxoACMcaY3NzcCG1uUSv160utJlVVVUJXV1fr2F4GsscC82Xe+/t7kSssLNRxW1ubyNn3XcGCFQMKjQElJA+V+8LuYuwuaHp62uux9ktFa2trOrZ3Gm9vb4U+PT3V8dzcnMj52sF0ClYMKDQGFBoDCtwYYzM6Oiq0+clE+3OKl5eXPz5vWVmZ0OZSizk22djTd6dgxYBCY0ChMaDALcn4w9XVldDl5eVCX19f69i+/0hISBA6KipKxw8PDyJnPh1qfoxBqV8/IxksWDGg0BhQ/uquzMbcCVVK7ob62gm1SUxMFPrx8TGgdv0fWDGg0BhQaAwo/9QYY2Puhk5OToqc/Qlf8xtlXV1dIhesJ1/8gRUDCo0B5Z/uyv5mWDGg0BhQaAwoNAYUGgMKjQGFxoBCY0ChMaDQGFBoDCg0BhQaAwqNAeU/dJkmn/1uwvMAAAAASUVORK5CYII=\" y=\"-19.975064\"/>\n   </g>\n   <g id=\"matplotlib.axis_3\"/>\n   <g id=\"matplotlib.axis_4\"/>\n   <g id=\"patch_8\">\n    <path d=\"M 95.823529 93.415064 \nL 95.823529 20.038594 \n\" style=\"fill:none;stroke:#bcbcbc;stroke-linecap:square;stroke-linejoin:miter;stroke-width:0.8;\"/>\n   </g>\n   <g id=\"patch_9\">\n    <path d=\"M 169.2 93.415064 \nL 169.2 20.038594 \n\" style=\"fill:none;stroke:#bcbcbc;stroke-linecap:square;stroke-linejoin:miter;stroke-width:0.8;\"/>\n   </g>\n   <g id=\"patch_10\">\n    <path d=\"M 95.823529 93.415064 \nL 169.2 93.415064 \n\" style=\"fill:none;stroke:#bcbcbc;stroke-linecap:square;stroke-linejoin:miter;stroke-width:0.8;\"/>\n   </g>\n   <g id=\"patch_11\">\n    <path d=\"M 95.823529 20.038594 \nL 169.2 20.038594 \n\" style=\"fill:none;stroke:#bcbcbc;stroke-linecap:square;stroke-linejoin:miter;stroke-width:0.8;\"/>\n   </g>\n   <g id=\"text_2\">\n    <!-- label: 0 -->\n    <g transform=\"translate(115.818874 14.038594)scale(0.09 -0.09)\">\n     <defs>\n      <path d=\"M 2034 4250 \nQ 1547 4250 1301 3770 \nQ 1056 3291 1056 2328 \nQ 1056 1369 1301 889 \nQ 1547 409 2034 409 \nQ 2525 409 2770 889 \nQ 3016 1369 3016 2328 \nQ 3016 3291 2770 3770 \nQ 2525 4250 2034 4250 \nz\nM 2034 4750 \nQ 2819 4750 3233 4129 \nQ 3647 3509 3647 2328 \nQ 3647 1150 3233 529 \nQ 2819 -91 2034 -91 \nQ 1250 -91 836 529 \nQ 422 1150 422 2328 \nQ 422 3509 836 4129 \nQ 1250 4750 2034 4750 \nz\n\" id=\"DejaVuSans-30\" transform=\"scale(0.015625)\"/>\n     </defs>\n     <use xlink:href=\"#DejaVuSans-6c\"/>\n     <use x=\"27.783203\" xlink:href=\"#DejaVuSans-61\"/>\n     <use x=\"89.0625\" xlink:href=\"#DejaVuSans-62\"/>\n     <use x=\"152.539062\" xlink:href=\"#DejaVuSans-65\"/>\n     <use x=\"214.0625\" xlink:href=\"#DejaVuSans-6c\"/>\n     <use x=\"241.845703\" xlink:href=\"#DejaVuSans-3a\"/>\n     <use x=\"275.537109\" xlink:href=\"#DejaVuSans-20\"/>\n     <use x=\"307.324219\" xlink:href=\"#DejaVuSans-30\"/>\n    </g>\n   </g>\n  </g>\n  <g id=\"axes_3\">\n   <g id=\"patch_12\">\n    <path d=\"M 184.447059 93.415064 \nL 257.823529 93.415064 \nL 257.823529 20.038594 \nL 184.447059 20.038594 \nz\n\" style=\"fill:#eeeeee;\"/>\n   </g>\n   <g clip-path=\"url(#p876a37473d)\">\n    <image height=\"73.44\" id=\"image0c4f4b1469\" transform=\"scale(1 -1)translate(0 -73.44)\" width=\"73.44\" x=\"184.447059\" xlink:href=\"data:image/png;base64,\niVBORw0KGgoAAAANSUhEUgAAAGYAAABmCAYAAAA53+RiAAADiElEQVR4nO2dv0uyURTHHytQKkIEFyUiKCpQEBdRaumHk39B7Y1NLS0NQYPg5BRtTS3q4OAigk7VIERDtTUELtVqP4Z8hzcu99xXQXsefb68fj/TORzSE5/OvXqfx/R0Op2OReCYcLsB0h2KAYViQKEYUCgGFIoBhWJAoRhQKAYUigFlyu0G3KJWq4l8Z2dHxUdHR6J2eno6kp50ODGgUAwoFAPK2O4xxWJR5GhXPzgxoFAMKGO7lJl4PB63WxBwYkChGFAoBhTuMV3Y3Nx0uwVODCoUAwrFgMI95gf9SGZiwv2/V/c7IF2hGFC4lP2gH8ksLCy42MlfODGgUAwoFAMKxYBCMaBQDCh8udyFUqkk8sPDw5H3wIkBhWJAoRhQPHY+539xcaHier3uRD/W7u6uyJeWlkS+uLjoyPNUKhWRZzIZFa+urora/f29I885CJwYUCgGFIoBZaA95vj4WOT6B3oCgYCorays9N3E1dWVis12pqbkW63Z2VkVJxIJUVtfXxf5xsaGimOxmKjNzMyIfH5+XsWvr6+i9vX11av1ocGJAYViQBnoSKbdbotcX3bK5bKoJZPJvh+31Wqp+Pv7W9QajYbIn56eVGwuMblcTuTZbFbF5tKVTqdF/v7+3rOHl5cXFQeDwX9/gSHAiQGFYkChGFAcO/b3+/2//tlQKNSztre31/fjnJyciPzz81PFzWZT1M7Pz0X+8fGhYnOPeXh4UDH3mDGHYkChGFAc22Nubm5Evra25tRD/xqv16viVColamau75H5fF7UDg4OVHx9fS1qPp/Pbptd4cSAQjGgDLSURSKRnrXb21u7vbiKflJeKBRE7e7uTsXmMRCXsjGDYkChGFAG2mPMo/Lp6WlHm3ET/bJANBoVNf2yxNvbm6jNzc0NpR9ODCgUAwrFgDLQHmMez4fDYUebQcG840enWq2KfH9/fyg9cGJAoRhQbJ0uT05OOtUHFGdnZyK/vLxUsX41c5hwYkChGFAoBhRbe4x+Ze/x8dF2MyjoN65blvx2DPNbNPS7NC3LubtoODGgUAwoFAOKrT1ma2tLxfF43HYzKJj/Tn55eVnFz8/PI+mBEwMKxYBi63P+44J+DLO9vS1q5t1BfLn8n0MxoFAMKNxjQOHEgEIxoFAMKBQDCsWAQjGgUAwoFAMKxYBCMaBQDCgUAwrFgEIxoFAMKBQDCsWA8gdSOLgq1TpxIAAAAABJRU5ErkJggg==\" y=\"-19.975064\"/>\n   </g>\n   <g id=\"matplotlib.axis_5\"/>\n   <g id=\"matplotlib.axis_6\"/>\n   <g id=\"patch_13\">\n    <path d=\"M 184.447059 93.415064 \nL 184.447059 20.038594 \n\" style=\"fill:none;stroke:#bcbcbc;stroke-linecap:square;stroke-linejoin:miter;stroke-width:0.8;\"/>\n   </g>\n   <g id=\"patch_14\">\n    <path d=\"M 257.823529 93.415064 \nL 257.823529 20.038594 \n\" style=\"fill:none;stroke:#bcbcbc;stroke-linecap:square;stroke-linejoin:miter;stroke-width:0.8;\"/>\n   </g>\n   <g id=\"patch_15\">\n    <path d=\"M 184.447059 93.415064 \nL 257.823529 93.415064 \n\" style=\"fill:none;stroke:#bcbcbc;stroke-linecap:square;stroke-linejoin:miter;stroke-width:0.8;\"/>\n   </g>\n   <g id=\"patch_16\">\n    <path d=\"M 184.447059 20.038594 \nL 257.823529 20.038594 \n\" style=\"fill:none;stroke:#bcbcbc;stroke-linecap:square;stroke-linejoin:miter;stroke-width:0.8;\"/>\n   </g>\n   <g id=\"text_3\">\n    <!-- label: 4 -->\n    <g transform=\"translate(204.442403 14.038594)scale(0.09 -0.09)\">\n     <defs>\n      <path d=\"M 2419 4116 \nL 825 1625 \nL 2419 1625 \nL 2419 4116 \nz\nM 2253 4666 \nL 3047 4666 \nL 3047 1625 \nL 3713 1625 \nL 3713 1100 \nL 3047 1100 \nL 3047 0 \nL 2419 0 \nL 2419 1100 \nL 313 1100 \nL 313 1709 \nL 2253 4666 \nz\n\" id=\"DejaVuSans-34\" transform=\"scale(0.015625)\"/>\n     </defs>\n     <use xlink:href=\"#DejaVuSans-6c\"/>\n     <use x=\"27.783203\" xlink:href=\"#DejaVuSans-61\"/>\n     <use x=\"89.0625\" xlink:href=\"#DejaVuSans-62\"/>\n     <use x=\"152.539062\" xlink:href=\"#DejaVuSans-65\"/>\n     <use x=\"214.0625\" xlink:href=\"#DejaVuSans-6c\"/>\n     <use x=\"241.845703\" xlink:href=\"#DejaVuSans-3a\"/>\n     <use x=\"275.537109\" xlink:href=\"#DejaVuSans-20\"/>\n     <use x=\"307.324219\" xlink:href=\"#DejaVuSans-34\"/>\n    </g>\n   </g>\n  </g>\n  <g id=\"axes_4\">\n   <g id=\"patch_17\">\n    <path d=\"M 7.2 181.466829 \nL 80.576471 181.466829 \nL 80.576471 108.090358 \nL 7.2 108.090358 \nz\n\" style=\"fill:#eeeeee;\"/>\n   </g>\n   <g clip-path=\"url(#p8e1f478899)\">\n    <image height=\"73.44\" id=\"image3aef34bf4e\" transform=\"scale(1 -1)translate(0 -73.44)\" width=\"73.44\" x=\"7.2\" xlink:href=\"data:image/png;base64,\niVBORw0KGgoAAAANSUhEUgAAAGYAAABmCAYAAAA53+RiAAADN0lEQVR4nO2cPWsqQRSGb6KIoBJBLMTaj9reIiCkDNjY2NilEkQLm/SKprIQDPgHhDRiYyEpLPwFopAiILESERIlld7mMuyZexUv2XXfmPep5mVWcsKTM7Nsxr3Y7Xa7XwSOS7sLIP+GYkChGFAoBhSKAYViQKEYUCgGFIoBhWJAcdrxQz8+PkTOZrNq3O12xVwsFhN5PB5bVxgQ7BhQKAYUigHFlj3m7e1N5F6vZ0cZ0LBjQKEYUCgGFIoBhWJAoRhQbLld9nq9IofDYTWezWZi7vX1VeRqtarGxWJRzDmdtvw6lsCOAYViQKEYUC4QTmKWSiU1fnh4EHOXl/v/dpbLpchXV1fmFmYj7BhQKAYUiKXMiMPhEPnQUjYYDEROJpOW1GQH7BhQKAYUigEFbo8JhUIiLxaLvdfe3NyI/PT0JLLL5TKvsBPDjgGFYkCBW8r0gxqpVErkl5eXvZ/N5XIit1ot8wo7MewYUCgGFIoBBW6P0bm/vxe5Uqkc/dn5fK7GwWDQtJpOATsGFIoBhWJAgd9jVquVyIFA4OjPFgoFNa7X62aVdBLYMaBQDCjwJ+T8fr/Io9FIjfWny+/v7yIbH9+s12sx5/F4TKrQGtgxoFAMKBQDCvzt8iH0dwKk02mRt9utGmcyGTHXbrdFdrvdJlf3NdgxoFAMKBQDyrfeY/THNbe3tyIPh0M11k90NhoNke/u7swt7ouwY0ChGFC+9VKms9lsRPb5fGqsL2X6U+rn52c1jsfj5hf3n7BjQKEYUCgGlLPaY3TK5bIa12q1g9caH+d0Oh3LajoWdgwoFAMKxYBy1nuM8V/L+rcG9G8VGOn3+yJfX1+bW9gRsGNAoRhQznopM6K/4VxfnoyvP0kkEmLOuLTpp2usehUXOwYUigGFYkD5MXuMTrPZFDmfz++91njaZjKZiLlIJGJuYX9gx4BCMaBQDCjwp/2tIhqNimw8ifn5+Xnqcv6CHQMKxYDyY2+XdR4fH9VYP/xnvF2eTqdiTl8SzYIdAwrFgEIxoHCPAYUdAwrFgEIxoFAMKBQDCsWAQjGgUAwoFAMKxYBCMaBQDCgUAwrFgEIxoFAMKBQDym88/cxPUYehewAAAABJRU5ErkJggg==\" y=\"-108.026829\"/>\n   </g>\n   <g id=\"matplotlib.axis_7\"/>\n   <g id=\"matplotlib.axis_8\"/>\n   <g id=\"patch_18\">\n    <path d=\"M 7.2 181.466829 \nL 7.2 108.090358 \n\" style=\"fill:none;stroke:#bcbcbc;stroke-linecap:square;stroke-linejoin:miter;stroke-width:0.8;\"/>\n   </g>\n   <g id=\"patch_19\">\n    <path d=\"M 80.576471 181.466829 \nL 80.576471 108.090358 \n\" style=\"fill:none;stroke:#bcbcbc;stroke-linecap:square;stroke-linejoin:miter;stroke-width:0.8;\"/>\n   </g>\n   <g id=\"patch_20\">\n    <path d=\"M 7.2 181.466829 \nL 80.576471 181.466829 \n\" style=\"fill:none;stroke:#bcbcbc;stroke-linecap:square;stroke-linejoin:miter;stroke-width:0.8;\"/>\n   </g>\n   <g id=\"patch_21\">\n    <path d=\"M 7.2 108.090358 \nL 80.576471 108.090358 \n\" style=\"fill:none;stroke:#bcbcbc;stroke-linecap:square;stroke-linejoin:miter;stroke-width:0.8;\"/>\n   </g>\n   <g id=\"text_4\">\n    <!-- label: 1 -->\n    <g transform=\"translate(27.195345 102.090358)scale(0.09 -0.09)\">\n     <defs>\n      <path d=\"M 794 531 \nL 1825 531 \nL 1825 4091 \nL 703 3866 \nL 703 4441 \nL 1819 4666 \nL 2450 4666 \nL 2450 531 \nL 3481 531 \nL 3481 0 \nL 794 0 \nL 794 531 \nz\n\" id=\"DejaVuSans-31\" transform=\"scale(0.015625)\"/>\n     </defs>\n     <use xlink:href=\"#DejaVuSans-6c\"/>\n     <use x=\"27.783203\" xlink:href=\"#DejaVuSans-61\"/>\n     <use x=\"89.0625\" xlink:href=\"#DejaVuSans-62\"/>\n     <use x=\"152.539062\" xlink:href=\"#DejaVuSans-65\"/>\n     <use x=\"214.0625\" xlink:href=\"#DejaVuSans-6c\"/>\n     <use x=\"241.845703\" xlink:href=\"#DejaVuSans-3a\"/>\n     <use x=\"275.537109\" xlink:href=\"#DejaVuSans-20\"/>\n     <use x=\"307.324219\" xlink:href=\"#DejaVuSans-31\"/>\n    </g>\n   </g>\n  </g>\n  <g id=\"axes_5\">\n   <g id=\"patch_22\">\n    <path d=\"M 95.823529 181.466829 \nL 169.2 181.466829 \nL 169.2 108.090358 \nL 95.823529 108.090358 \nz\n\" style=\"fill:#eeeeee;\"/>\n   </g>\n   <g clip-path=\"url(#p3682259dfc)\">\n    <image height=\"73.44\" id=\"imagecc8e02e0fb\" transform=\"scale(1 -1)translate(0 -73.44)\" width=\"73.44\" x=\"95.823529\" xlink:href=\"data:image/png;base64,\niVBORw0KGgoAAAANSUhEUgAAAGYAAABmCAYAAAA53+RiAAAEGklEQVR4nO2cSyh1URiG13HPREYu5c5IBmRgZmBg6lIoEYqUkZGZCQNDiWJyklLIzICSZCDXiQwoE4WQGLiEwvlny/p29rF//9l7v9v/PqPv7Ttn74/3fGut1l7nhCKRSEQROOL8LoB8DY0BhcaAkuB3AW7y+vqq45GREZEbGhoS+uLiQscZGRnuFuYAdgwoNAaUXzWUmUOXUkp1dnbqeGFhQeS6u7uFTk9Pd6+wH8COAYXGgEJjQAn9pi2ZtbU1oWtra3VcX18vcuPj40IjLJFN2DGg0BhQaAwov2qOKSsrE/ro6EjHJycnIldQUOBJTT+FHQMKjQEl0EPZ5eWl0NnZ2ULHxX1+7h4eHkQuNTXVvcJiADsGFBoDCo0BJdDb/ru7u0Kbc4pSSoVCIS/LiSnsGFBoDCg0BpRAzzGFhYV+l+Aa7BhQaAwogd6SsRIfHy+0uVy+v78XOW7JkB9BY0ChMaAEerl8eHjodwmuwY4BhcaAEuihLCUlReiPjw+hzd3m5eVlkWtsbHSvsBjAjgGFxoBCY0DxZI45PT0VuqqqSuibmxsdl5aWilxbW5vQ7e3tOs7KyhK5uro6oZeWlnR8fHzsuF4E2DGg0BhQaAworm37v7y86Li4uFjkrq6uhDZL+JuTLbm5ubbXUUqps7MzHWdmZorc+fm54/v4ATsGFBoDimtD2dPTk47T0tKivvb29lbHCQlyBb+4uCj0/Py8jre2tkTO+pTSHBatQ+TOzo7QFRUVUWv0GnYMKDQGFBoDiifL5aKiIpG7vr4W2txmCYfDju9xd3cndHNzs9Dr6+u27+3p6RF6dHRUx0lJSY5rcAt2DCg0BhQaA4onJzEnJyeF7uvrEzo5OVnHLS0tIjc1NSV0YmKi7X3e3t6EPjg40HF1dbXIPT8/Cz02NmZbnx+wY0ChMaD4cqjcHDaUUqq/v/+zIMvWyeDgoNADAwM6NofA7ygvLxc62mHB7e1toSsrKx3fJ1awY0ChMaDQGFAgvrhk/mSi+XOJX2Fuu1i3b6LNORsbG0LX1NTYvjYvL09ocz7y6gtP7BhQaAwoNAYUiDnGPKVvPbVpfeT7+PioY+vJy+HhYaFLSkp0/P7+LnJdXV1Cz83N6dj6L5mZmdFxa2urtXxXYMeAQmNAgRjKorG5uSl0U1OTjq1PQq1/SkNDg47Nw39KKbW/v297T+t1ent7dTwxMfFNxbGBHQMKjQGFxoACP8dYMZfT09PTIreysiL03t6e7XVmZ2eFzsnJ0fHq6qrIdXR06Dg/P99Zof8IOwYUGgMKjQElcHPM/wI7BhQaAwqNAYXGgEJjQKExoNAYUGgMKDQGFBoDCo0BhcaAQmNAoTGg0BhQaAwoNAYUGgMKjQGFxoBCY0ChMaDQGFBoDCh/AKYjGCCZh1cfAAAAAElFTkSuQmCC\" y=\"-108.026829\"/>\n   </g>\n   <g id=\"matplotlib.axis_9\"/>\n   <g id=\"matplotlib.axis_10\"/>\n   <g id=\"patch_23\">\n    <path d=\"M 95.823529 181.466829 \nL 95.823529 108.090358 \n\" style=\"fill:none;stroke:#bcbcbc;stroke-linecap:square;stroke-linejoin:miter;stroke-width:0.8;\"/>\n   </g>\n   <g id=\"patch_24\">\n    <path d=\"M 169.2 181.466829 \nL 169.2 108.090358 \n\" style=\"fill:none;stroke:#bcbcbc;stroke-linecap:square;stroke-linejoin:miter;stroke-width:0.8;\"/>\n   </g>\n   <g id=\"patch_25\">\n    <path d=\"M 95.823529 181.466829 \nL 169.2 181.466829 \n\" style=\"fill:none;stroke:#bcbcbc;stroke-linecap:square;stroke-linejoin:miter;stroke-width:0.8;\"/>\n   </g>\n   <g id=\"patch_26\">\n    <path d=\"M 95.823529 108.090358 \nL 169.2 108.090358 \n\" style=\"fill:none;stroke:#bcbcbc;stroke-linecap:square;stroke-linejoin:miter;stroke-width:0.8;\"/>\n   </g>\n   <g id=\"text_5\">\n    <!-- label: 9 -->\n    <g transform=\"translate(115.818874 102.090358)scale(0.09 -0.09)\">\n     <defs>\n      <path d=\"M 703 97 \nL 703 672 \nQ 941 559 1184 500 \nQ 1428 441 1663 441 \nQ 2288 441 2617 861 \nQ 2947 1281 2994 2138 \nQ 2813 1869 2534 1725 \nQ 2256 1581 1919 1581 \nQ 1219 1581 811 2004 \nQ 403 2428 403 3163 \nQ 403 3881 828 4315 \nQ 1253 4750 1959 4750 \nQ 2769 4750 3195 4129 \nQ 3622 3509 3622 2328 \nQ 3622 1225 3098 567 \nQ 2575 -91 1691 -91 \nQ 1453 -91 1209 -44 \nQ 966 3 703 97 \nz\nM 1959 2075 \nQ 2384 2075 2632 2365 \nQ 2881 2656 2881 3163 \nQ 2881 3666 2632 3958 \nQ 2384 4250 1959 4250 \nQ 1534 4250 1286 3958 \nQ 1038 3666 1038 3163 \nQ 1038 2656 1286 2365 \nQ 1534 2075 1959 2075 \nz\n\" id=\"DejaVuSans-39\" transform=\"scale(0.015625)\"/>\n     </defs>\n     <use xlink:href=\"#DejaVuSans-6c\"/>\n     <use x=\"27.783203\" xlink:href=\"#DejaVuSans-61\"/>\n     <use x=\"89.0625\" xlink:href=\"#DejaVuSans-62\"/>\n     <use x=\"152.539062\" xlink:href=\"#DejaVuSans-65\"/>\n     <use x=\"214.0625\" xlink:href=\"#DejaVuSans-6c\"/>\n     <use x=\"241.845703\" xlink:href=\"#DejaVuSans-3a\"/>\n     <use x=\"275.537109\" xlink:href=\"#DejaVuSans-20\"/>\n     <use x=\"307.324219\" xlink:href=\"#DejaVuSans-39\"/>\n    </g>\n   </g>\n  </g>\n  <g id=\"axes_6\">\n   <g id=\"patch_27\">\n    <path d=\"M 184.447059 181.466829 \nL 257.823529 181.466829 \nL 257.823529 108.090358 \nL 184.447059 108.090358 \nz\n\" style=\"fill:#eeeeee;\"/>\n   </g>\n   <g clip-path=\"url(#padca16e4b4)\">\n    <image height=\"73.44\" id=\"image9ddf1cc24d\" transform=\"scale(1 -1)translate(0 -73.44)\" width=\"73.44\" x=\"184.447059\" xlink:href=\"data:image/png;base64,\niVBORw0KGgoAAAANSUhEUgAAAGYAAABmCAYAAAA53+RiAAAEh0lEQVR4nO2cyyv8URjGz6DIPXIrFi5JsrOwsZBLiJUFJWUhG38AOyuyEFJClEuIhVKypYSwIAsL7OSSknLLJbff7nTekxkzfjPjmen5rJ6nd8yc6XHOO9/L+Tq+vr6+FIEj5K8HQL6HwYDCYEBhMKAwGFAYDCgMBhQGAwqDAYXBgMJgQGEwoDAYUBgMKAwGFAYDCoMBJcxbb/T6+ir89va21ltbW6KWlpYmfENDg9YRERGiFhoa6q0hBhScMaAwGFAYDCgOb90lU1xcLPzOzs6v3qepqUn4iooK4aurq7WOj48XtZCQ4Pk/C55vEmQwGFAYDChe6zHp6enCX11daW0fmxQWFgp/d3en9eHhodufOTIyInxLS4vwgdxzAnfkQQ6DAcVrS9ny8rLwdXV1WkdHR4vaysqK8ObSdnJyImqjo6PCz87Oav38/CxqQ0NDwjc2NmodGxvrdOyesLGxIfz4+LjT1w4MDAifmJjo9udwxoDCYEBhMKB4rcd8fn4Kb66vHR0dohYTEyP81NSU1pWVlaJm/9Q+PT3VurW1VdTW1taELygo0HphYUHU8vLyhDcvWxwfH4vaxMSE1tPT06L28PCgnJGVlSW83T9dwRkDCoMBxWtLmc3Hx4fWg4ODotbe3u7078yfuEopNTY2Jry5tD09PYlabW2t8Ovr61qHh4eLWm9vr/AHBwdaT05OOh1ffX298J2dncLbhwYm9tkRV3DGgMJgQGEwoPisx5iY/UYpuZ4rpVRRUZHTvx0eHha+rKxM6+zsbFGzT9GUl5drvbu769ZYv8PsVfZYw8K8dqORgDMGFAYDCoMBxS89xsbuOefn51qXlJSI2tnZmfCRkZFaJyQkiJp5B41SSs3Pz2v9+Pjockypqala9/T0iJp5bOWvO0M5Y0BhMKD8yVLmire3N+EvLy+FN0+BmFczv8M84/3TjRkZGRla7+/vi5q9ZPoDzhhQGAwoDAYUuB7jCYuLi8Lf398Lb341h8MhanNzc8Kbp11qampEbWlpSWt/3UTIGQMKgwGFwYAS0D3mf7Avb/f39zt97dHRkdY5OTk+G5MJZwwoDAYU31x+8xDzprmZmRlRq6qqEj4lJUXrqKioX39maWmp8K6Wsr+AMwYUBgMKgwEFose0tbVpbV51/I7c3Fyt7T7R3d0tfFxcnNP3SU5O9mSIfoczBhQGAwqDAQXilMzq6qrW9sYlT8jPzxd+c3NTa3tz7M3NjfDm8ZENT8kQDYMBBWIpe3l50bqrq0vU7MeSmI83+QlzD6Z5hVIppd7f34XnUkbcgsGAwmBAgegxrri+vhbe3Ghrb7q1Ny6ZXy0zM1PU7Oe67O3taW33G3OjVVJSkhuj/n84Y0BhMKAwGFDge4wrbm9vhe/r6xPefLaMJ5tj7Ycq2N4fcMaAwmBACeil7CfMR13ZG6LMM89KKXVxcaF1c3OzqPlqL78rOGNAYTCgMBhQgrrHBDKcMaAwGFAYDCgMBhQGAwqDAYXBgMJgQGEwoDAYUBgMKAwGFAYDCoMBhcGAwmBAYTCg/APZ2U9muAFyXwAAAABJRU5ErkJggg==\" y=\"-108.026829\"/>\n   </g>\n   <g id=\"matplotlib.axis_11\"/>\n   <g id=\"matplotlib.axis_12\"/>\n   <g id=\"patch_28\">\n    <path d=\"M 184.447059 181.466829 \nL 184.447059 108.090358 \n\" style=\"fill:none;stroke:#bcbcbc;stroke-linecap:square;stroke-linejoin:miter;stroke-width:0.8;\"/>\n   </g>\n   <g id=\"patch_29\">\n    <path d=\"M 257.823529 181.466829 \nL 257.823529 108.090358 \n\" style=\"fill:none;stroke:#bcbcbc;stroke-linecap:square;stroke-linejoin:miter;stroke-width:0.8;\"/>\n   </g>\n   <g id=\"patch_30\">\n    <path d=\"M 184.447059 181.466829 \nL 257.823529 181.466829 \n\" style=\"fill:none;stroke:#bcbcbc;stroke-linecap:square;stroke-linejoin:miter;stroke-width:0.8;\"/>\n   </g>\n   <g id=\"patch_31\">\n    <path d=\"M 184.447059 108.090358 \nL 257.823529 108.090358 \n\" style=\"fill:none;stroke:#bcbcbc;stroke-linecap:square;stroke-linejoin:miter;stroke-width:0.8;\"/>\n   </g>\n   <g id=\"text_6\">\n    <!-- label: 2 -->\n    <g transform=\"translate(204.442403 102.090358)scale(0.09 -0.09)\">\n     <defs>\n      <path d=\"M 1228 531 \nL 3431 531 \nL 3431 0 \nL 469 0 \nL 469 531 \nQ 828 903 1448 1529 \nQ 2069 2156 2228 2338 \nQ 2531 2678 2651 2914 \nQ 2772 3150 2772 3378 \nQ 2772 3750 2511 3984 \nQ 2250 4219 1831 4219 \nQ 1534 4219 1204 4116 \nQ 875 4013 500 3803 \nL 500 4441 \nQ 881 4594 1212 4672 \nQ 1544 4750 1819 4750 \nQ 2544 4750 2975 4387 \nQ 3406 4025 3406 3419 \nQ 3406 3131 3298 2873 \nQ 3191 2616 2906 2266 \nQ 2828 2175 2409 1742 \nQ 1991 1309 1228 531 \nz\n\" id=\"DejaVuSans-32\" transform=\"scale(0.015625)\"/>\n     </defs>\n     <use xlink:href=\"#DejaVuSans-6c\"/>\n     <use x=\"27.783203\" xlink:href=\"#DejaVuSans-61\"/>\n     <use x=\"89.0625\" xlink:href=\"#DejaVuSans-62\"/>\n     <use x=\"152.539062\" xlink:href=\"#DejaVuSans-65\"/>\n     <use x=\"214.0625\" xlink:href=\"#DejaVuSans-6c\"/>\n     <use x=\"241.845703\" xlink:href=\"#DejaVuSans-3a\"/>\n     <use x=\"275.537109\" xlink:href=\"#DejaVuSans-20\"/>\n     <use x=\"307.324219\" xlink:href=\"#DejaVuSans-32\"/>\n    </g>\n   </g>\n  </g>\n  <g id=\"axes_7\">\n   <g id=\"patch_32\">\n    <path d=\"M 7.2 269.518594 \nL 80.576471 269.518594 \nL 80.576471 196.142123 \nL 7.2 196.142123 \nz\n\" style=\"fill:#eeeeee;\"/>\n   </g>\n   <g clip-path=\"url(#pd0bd66adc4)\">\n    <image height=\"73.44\" id=\"image42a5f3079f\" transform=\"scale(1 -1)translate(0 -73.44)\" width=\"73.44\" x=\"7.2\" xlink:href=\"data:image/png;base64,\niVBORw0KGgoAAAANSUhEUgAAAGYAAABmCAYAAAA53+RiAAACZUlEQVR4nO3cP4oiQRhA8XVcwUwxMfMAZiZiLnoUQ49g4gEEE8E7COIxBBMTwUQTIyMRDAx0smZLdmRlu+3X8n5RF4NQw5uvy+n5k7vf7/dfwvlKewP6O8NAGQbKMFCGgTIMlGGgDANlGCjDQBkGyjBQhoEyDNTvtDcQp9PpFKy73W50vVqtgo89/rTjeDxG15VKJYHdvcaJgTIM1Efdyvb7fbB+vH1liRMDZRgow0B91BkzHo/T3kJsnBgow0AZBuqjzpjlchmsn/2S6e12S3o7/8WJgTIMVKZvZbPZLFhvNptgncvlfnztcDgM1oQnyn9yYqAMA2UYqEyfMev1Ou0tJMaJgTIMVC7Lf4OZz+eD9bO3x48Oh0OwrlarsewpLk4MlGGgDAOV6bfLj0+Iv75+/jrr9XrBmnamPHJioAwDZRioTJ8xj2fKs+9jOp1O0tuJlRMDZRgow0AZBsowUIaBMgyUYaAMA2UYqEw/knnlsX/WfM5n8mEMA5XpW9krT5ezxomBMgyUYaAyd8ZMp9O0t/AWTgyUYaAMA4U/Y87nc7AejUb//NrJZBJdt9vt2Pb0Dk4MlGGg8LeyQqEQrOv1enS93W6fvrbVakXXpVIp3o0lzImBMgyUYaDwZ0yxWAzWjUYjup7P52/ezfs4MVCGgTIMFP6MuV6vwXq326W0k/dyYqAMA4W/lV0ul2C9WCxS2sl7OTFQhoEyDBT+jCmXy8G63+9H14PBIPhYs9kM1rVaLbF9Jc2JgTIMVKb/9eInc2KgDANlGCjDQBkGyjBQhoEyDJRhoAwDZRgow0AZBsowUN+Q71oOUZY1mgAAAABJRU5ErkJggg==\" y=\"-196.078594\"/>\n   </g>\n   <g id=\"matplotlib.axis_13\"/>\n   <g id=\"matplotlib.axis_14\"/>\n   <g id=\"patch_33\">\n    <path d=\"M 7.2 269.518594 \nL 7.2 196.142123 \n\" style=\"fill:none;stroke:#bcbcbc;stroke-linecap:square;stroke-linejoin:miter;stroke-width:0.8;\"/>\n   </g>\n   <g id=\"patch_34\">\n    <path d=\"M 80.576471 269.518594 \nL 80.576471 196.142123 \n\" style=\"fill:none;stroke:#bcbcbc;stroke-linecap:square;stroke-linejoin:miter;stroke-width:0.8;\"/>\n   </g>\n   <g id=\"patch_35\">\n    <path d=\"M 7.2 269.518594 \nL 80.576471 269.518594 \n\" style=\"fill:none;stroke:#bcbcbc;stroke-linecap:square;stroke-linejoin:miter;stroke-width:0.8;\"/>\n   </g>\n   <g id=\"patch_36\">\n    <path d=\"M 7.2 196.142123 \nL 80.576471 196.142123 \n\" style=\"fill:none;stroke:#bcbcbc;stroke-linecap:square;stroke-linejoin:miter;stroke-width:0.8;\"/>\n   </g>\n   <g id=\"text_7\">\n    <!-- label: 1 -->\n    <g transform=\"translate(27.195345 190.142123)scale(0.09 -0.09)\">\n     <use xlink:href=\"#DejaVuSans-6c\"/>\n     <use x=\"27.783203\" xlink:href=\"#DejaVuSans-61\"/>\n     <use x=\"89.0625\" xlink:href=\"#DejaVuSans-62\"/>\n     <use x=\"152.539062\" xlink:href=\"#DejaVuSans-65\"/>\n     <use x=\"214.0625\" xlink:href=\"#DejaVuSans-6c\"/>\n     <use x=\"241.845703\" xlink:href=\"#DejaVuSans-3a\"/>\n     <use x=\"275.537109\" xlink:href=\"#DejaVuSans-20\"/>\n     <use x=\"307.324219\" xlink:href=\"#DejaVuSans-31\"/>\n    </g>\n   </g>\n  </g>\n  <g id=\"axes_8\">\n   <g id=\"patch_37\">\n    <path d=\"M 95.823529 269.518594 \nL 169.2 269.518594 \nL 169.2 196.142123 \nL 95.823529 196.142123 \nz\n\" style=\"fill:#eeeeee;\"/>\n   </g>\n   <g clip-path=\"url(#p0e2bfbfaec)\">\n    <image height=\"73.44\" id=\"imaged7a0a89d98\" transform=\"scale(1 -1)translate(0 -73.44)\" width=\"73.44\" x=\"95.823529\" xlink:href=\"data:image/png;base64,\niVBORw0KGgoAAAANSUhEUgAAAGYAAABmCAYAAAA53+RiAAAEAklEQVR4nO2dzSt8URjHz3gtSRY2XnY2YiMbC68rS0pNVhbEH+BlSbEjpdhRNnZIs1DyspoZKbKThWQjsZEoLyWM3ek+5+fe5t451/3y+35Wz9Njzhx9PPfMnDlzxTKZTEYROPKingD5HooBhWJAoRhQKAYUigGFYkChGFAoBhSKAaUgrIHf3991vLOzI2pDQ0Miv7u70/Hg4KCodXd3i7yzs1PHpaWluU4TFnYMKBQDCsWAErO17X99fS3yxcVFHc/Pz9t4CqWUUvX19TouKysTta6uLpEPDw/ruLKy0tocfgJ2DCgUA4q1S1lLS4vIj46ObAzrC/NXqa6u1nF/f7+oTU9Pi7ygILR3DoFgx4BCMaBQDCiRXFgnJydFbr7szZatrS2RJ5NJkd/c3Oh4dnZW1C4uLkQ+Njam4+bm5kDzsQk7BhSKAYViQLH2Psa8Zk9NTel4bW1N1O7v70UedI15fX0V+fHxsch7e3t1/Pj46DlWSUmJ6zh1dXWB5pcL7BhQKAYUa5cyk4+PDx2fnp6KWkNDg8gLCwvDmILa39/XcTweF7WnpyfXx52cnIi8sbHR6ryygR0DCsWAQjGghLbGoHF4eCjy9vZ215/lGkNcoRhQsD62C5Gmpqaop+ALdgwoFAMKxYACscY4d343NjZEzTzEV1RUFOg5VlZWAj0uKtgxoFAMKBQDSiRrzO3trcg7Ojp0fHl5GXjcz89Pkefl/d6/u9878z8OxYAC8XI5Fot9G/vFvHT5Gct56DyK3WQTdgwoFAMKxYAC8Qnmw8ODjtfX10Vte3s763HMQ+Z+1pjy8nIdr66uilpra6uOgx5O9As7BhSKAYViQIFYY2yRSqVE7vwy0tnZmai9vb1lPW5bW5uO9/b2RC2sU6TsGFAoBpQ/dSnz4uDgQOQLCwsiTyQSWY3z/Pws8uLi4twm5gI7BhSKAYViQIHY9v8JnNsqSimVn58v8t3dXR2/vLy4jjM3NyfyiYkJC7P7F3YMKBQDCsWAArHGOE+3eH1pVSn58XEut/c1T/9XVFTo+OrqyvVxZs15G2Ol7N33jB0DCsWAArEls7m5qeO+vj7Pn62qqtLx+Pi4qPk58JdOp0We7ZaMyfn5uchra2sDjWPCjgGFYkChGFAgXi6bp1u8cN5OcXR0VNTM5TKXU51Rw44BhWJAoRhQINaYmZkZHTv/24VSSi0vL4vc+V7Fa+skLEZGRkReU1MTyvOwY0ChGFAgtmS8cP5jOaXkbq55t9eenh6R2/oO5sDAgI6XlpZEzfwk1BbsGFAoBhSKAQV+jflfYceAQjGgUAwoFAMKxYBCMaBQDCgUAwrFgEIxoFAMKBQDCsWAQjGgUAwoFAMKxYDyBW1EArrBJzbhAAAAAElFTkSuQmCC\" y=\"-196.078594\"/>\n   </g>\n   <g id=\"matplotlib.axis_15\"/>\n   <g id=\"matplotlib.axis_16\"/>\n   <g id=\"patch_38\">\n    <path d=\"M 95.823529 269.518594 \nL 95.823529 196.142123 \n\" style=\"fill:none;stroke:#bcbcbc;stroke-linecap:square;stroke-linejoin:miter;stroke-width:0.8;\"/>\n   </g>\n   <g id=\"patch_39\">\n    <path d=\"M 169.2 269.518594 \nL 169.2 196.142123 \n\" style=\"fill:none;stroke:#bcbcbc;stroke-linecap:square;stroke-linejoin:miter;stroke-width:0.8;\"/>\n   </g>\n   <g id=\"patch_40\">\n    <path d=\"M 95.823529 269.518594 \nL 169.2 269.518594 \n\" style=\"fill:none;stroke:#bcbcbc;stroke-linecap:square;stroke-linejoin:miter;stroke-width:0.8;\"/>\n   </g>\n   <g id=\"patch_41\">\n    <path d=\"M 95.823529 196.142123 \nL 169.2 196.142123 \n\" style=\"fill:none;stroke:#bcbcbc;stroke-linecap:square;stroke-linejoin:miter;stroke-width:0.8;\"/>\n   </g>\n   <g id=\"text_8\">\n    <!-- label: 3 -->\n    <g transform=\"translate(115.818874 190.142123)scale(0.09 -0.09)\">\n     <defs>\n      <path d=\"M 2597 2516 \nQ 3050 2419 3304 2112 \nQ 3559 1806 3559 1356 \nQ 3559 666 3084 287 \nQ 2609 -91 1734 -91 \nQ 1441 -91 1130 -33 \nQ 819 25 488 141 \nL 488 750 \nQ 750 597 1062 519 \nQ 1375 441 1716 441 \nQ 2309 441 2620 675 \nQ 2931 909 2931 1356 \nQ 2931 1769 2642 2001 \nQ 2353 2234 1838 2234 \nL 1294 2234 \nL 1294 2753 \nL 1863 2753 \nQ 2328 2753 2575 2939 \nQ 2822 3125 2822 3475 \nQ 2822 3834 2567 4026 \nQ 2313 4219 1838 4219 \nQ 1578 4219 1281 4162 \nQ 984 4106 628 3988 \nL 628 4550 \nQ 988 4650 1302 4700 \nQ 1616 4750 1894 4750 \nQ 2613 4750 3031 4423 \nQ 3450 4097 3450 3541 \nQ 3450 3153 3228 2886 \nQ 3006 2619 2597 2516 \nz\n\" id=\"DejaVuSans-33\" transform=\"scale(0.015625)\"/>\n     </defs>\n     <use xlink:href=\"#DejaVuSans-6c\"/>\n     <use x=\"27.783203\" xlink:href=\"#DejaVuSans-61\"/>\n     <use x=\"89.0625\" xlink:href=\"#DejaVuSans-62\"/>\n     <use x=\"152.539062\" xlink:href=\"#DejaVuSans-65\"/>\n     <use x=\"214.0625\" xlink:href=\"#DejaVuSans-6c\"/>\n     <use x=\"241.845703\" xlink:href=\"#DejaVuSans-3a\"/>\n     <use x=\"275.537109\" xlink:href=\"#DejaVuSans-20\"/>\n     <use x=\"307.324219\" xlink:href=\"#DejaVuSans-33\"/>\n    </g>\n   </g>\n  </g>\n  <g id=\"axes_9\">\n   <g id=\"patch_42\">\n    <path d=\"M 184.447059 269.518594 \nL 257.823529 269.518594 \nL 257.823529 196.142123 \nL 184.447059 196.142123 \nz\n\" style=\"fill:#eeeeee;\"/>\n   </g>\n   <g clip-path=\"url(#pbf4221910a)\">\n    <image height=\"73.44\" id=\"imagebb31a097f3\" transform=\"scale(1 -1)translate(0 -73.44)\" width=\"73.44\" x=\"184.447059\" xlink:href=\"data:image/png;base64,\niVBORw0KGgoAAAANSUhEUgAAAGYAAABmCAYAAAA53+RiAAACTElEQVR4nO3csY5pQRyA8esGG4mEgs4L6FReR6fReAKFB9JoPISoVUQvEZ1IsN2JOblxsxbnm8n3q+bkbDGbL39j7Z4t3W632x/h/C16A/o3w0AZBsowUIaBMgyUYaAMA2UYKMNAlYvewCuNRqPgerVaZevFYhHcazQaH9nTs5wYKMNAGQYqqTNmPp8H1/v9Plufz+dPb+dXnBgow0Al9VI2HA6D68lkkq03m01wr91uf2RPz3JioAwDZRiopM6YvGazma37/X5xG3mCEwNlGCjDQCV9xtz/kenlcgnulcvsb92JgTIMFHuef2g2mwXXx+MxW0+n0+Be/prGiYEyDJRhoEoxP7i0XC6D6/zHLrVaLVvvdrvgXqvVet/GXsCJgTIMVNRvl/M/zeeVSqVsXalU3r2dl3JioAwDZRioqM+Y7Xb78H61Ws3W9D8iz3NioAwDZRioqM+Y/MNIKXFioAwDFfVL2f8MBoOit/A0JwbKMFCGgUr6jKH/lvIRJwbKMFCGgTIMlGGgDAMV3dvl0+mUrfP/oiQlTgyUYaAMAxXdGXO9XrP14XB4+LXdbvfd23kbJwbKMFCGgYrujPmJXq9X9Bae5sRAGQYqqZey/OOkX19fBe3k95wYKMNAGQYqqTPm/mHY2DkxUIaBMgxUUmdMp9MJrmN7IPaeEwNlGKjoXsruP2ZZr9fBvfF4HFzX6/VPbOktnBgow0AZBirqf72YMicGyjBQhoEyDJRhoAwDZRgow0AZBsowUIaBMgyUYaAMA2UYKMNAGQbqG+VOUc1SZFKGAAAAAElFTkSuQmCC\" y=\"-196.078594\"/>\n   </g>\n   <g id=\"matplotlib.axis_17\"/>\n   <g id=\"matplotlib.axis_18\"/>\n   <g id=\"patch_43\">\n    <path d=\"M 184.447059 269.518594 \nL 184.447059 196.142123 \n\" style=\"fill:none;stroke:#bcbcbc;stroke-linecap:square;stroke-linejoin:miter;stroke-width:0.8;\"/>\n   </g>\n   <g id=\"patch_44\">\n    <path d=\"M 257.823529 269.518594 \nL 257.823529 196.142123 \n\" style=\"fill:none;stroke:#bcbcbc;stroke-linecap:square;stroke-linejoin:miter;stroke-width:0.8;\"/>\n   </g>\n   <g id=\"patch_45\">\n    <path d=\"M 184.447059 269.518594 \nL 257.823529 269.518594 \n\" style=\"fill:none;stroke:#bcbcbc;stroke-linecap:square;stroke-linejoin:miter;stroke-width:0.8;\"/>\n   </g>\n   <g id=\"patch_46\">\n    <path d=\"M 184.447059 196.142123 \nL 257.823529 196.142123 \n\" style=\"fill:none;stroke:#bcbcbc;stroke-linecap:square;stroke-linejoin:miter;stroke-width:0.8;\"/>\n   </g>\n   <g id=\"text_9\">\n    <!-- label: 1 -->\n    <g transform=\"translate(204.442403 190.142123)scale(0.09 -0.09)\">\n     <use xlink:href=\"#DejaVuSans-6c\"/>\n     <use x=\"27.783203\" xlink:href=\"#DejaVuSans-61\"/>\n     <use x=\"89.0625\" xlink:href=\"#DejaVuSans-62\"/>\n     <use x=\"152.539062\" xlink:href=\"#DejaVuSans-65\"/>\n     <use x=\"214.0625\" xlink:href=\"#DejaVuSans-6c\"/>\n     <use x=\"241.845703\" xlink:href=\"#DejaVuSans-3a\"/>\n     <use x=\"275.537109\" xlink:href=\"#DejaVuSans-20\"/>\n     <use x=\"307.324219\" xlink:href=\"#DejaVuSans-31\"/>\n    </g>\n   </g>\n  </g>\n </g>\n <defs>\n  <clipPath id=\"p1c676a7145\">\n   <rect height=\"73.376471\" width=\"73.376471\" x=\"7.2\" y=\"20.038594\"/>\n  </clipPath>\n  <clipPath id=\"p3e55e3d10c\">\n   <rect height=\"73.376471\" width=\"73.376471\" x=\"95.823529\" y=\"20.038594\"/>\n  </clipPath>\n  <clipPath id=\"p876a37473d\">\n   <rect height=\"73.376471\" width=\"73.376471\" x=\"184.447059\" y=\"20.038594\"/>\n  </clipPath>\n  <clipPath id=\"p8e1f478899\">\n   <rect height=\"73.376471\" width=\"73.376471\" x=\"7.2\" y=\"108.090358\"/>\n  </clipPath>\n  <clipPath id=\"p3682259dfc\">\n   <rect height=\"73.376471\" width=\"73.376471\" x=\"95.823529\" y=\"108.090358\"/>\n  </clipPath>\n  <clipPath id=\"padca16e4b4\">\n   <rect height=\"73.376471\" width=\"73.376471\" x=\"184.447059\" y=\"108.090358\"/>\n  </clipPath>\n  <clipPath id=\"pd0bd66adc4\">\n   <rect height=\"73.376471\" width=\"73.376471\" x=\"7.2\" y=\"196.142123\"/>\n  </clipPath>\n  <clipPath id=\"p0e2bfbfaec\">\n   <rect height=\"73.376471\" width=\"73.376471\" x=\"95.823529\" y=\"196.142123\"/>\n  </clipPath>\n  <clipPath id=\"pbf4221910a\">\n   <rect height=\"73.376471\" width=\"73.376471\" x=\"184.447059\" y=\"196.142123\"/>\n  </clipPath>\n </defs>\n</svg>\n",
      "text/plain": [
       "<Figure size 450x450 with 9 Axes>"
      ]
     },
     "metadata": {},
     "output_type": "display_data"
    }
   ],
   "source": [
    "set_figsize((4.5,4.5))\n",
    "\n",
    "show_img_grid(\n",
    "    [train_images[i].reshape(28,28) for i in range(9)],\n",
    "    [f\"label: {jnp.argmax(train_labels[i])}\" for i in range(9)]\n",
    ")"
   ]
  },
  {
   "cell_type": "markdown",
   "id": "0d047fcc",
   "metadata": {},
   "source": [
    "# Downscaling images as in paper"
   ]
  },
  {
   "cell_type": "code",
   "execution_count": 12,
   "id": "446f2db3",
   "metadata": {},
   "outputs": [],
   "source": [
    "def resize_img(\n",
    "        img_vec: Vector,\n",
    "        shape: Tuple[int,int]\n",
    "    ) -> Vector:\n",
    "    \"\"\"\n",
    "    Resizing the image vector.\n",
    "    \"\"\"\n",
    "    orig_size = jnp.sqrt(img_vec.size).astype(int)\n",
    "    img = img_vec.reshape(orig_size, orig_size)\n",
    "    img = jax.image.resize(img, shape, method='nearest')\n",
    "    return img.reshape(-1)"
   ]
  },
  {
   "cell_type": "code",
   "execution_count": 13,
   "id": "182b07a1",
   "metadata": {},
   "outputs": [],
   "source": [
    "new_shape = (14,14)\n",
    "\n",
    "resize_img_vmap = functools.partial(resize_img, shape=new_shape)\n",
    "\n",
    "train_images_scaled = jax.vmap(resize_img_vmap)(train_images)\n",
    "test_images_scaled = jax.vmap(resize_img_vmap)(test_images)"
   ]
  },
  {
   "cell_type": "code",
   "execution_count": 14,
   "id": "df3eb272",
   "metadata": {},
   "outputs": [
    {
     "name": "stdout",
     "output_type": "stream",
     "text": [
      "Train data shape: (60000, 196) | Test data shape: (10000, 196)\n"
     ]
    }
   ],
   "source": [
    "print(f'Train data shape: {train_images_scaled.shape} | Test data shape: {test_images_scaled.shape}')"
   ]
  },
  {
   "cell_type": "code",
   "execution_count": 15,
   "id": "3906b1d5",
   "metadata": {},
   "outputs": [
    {
     "data": {
      "image/svg+xml": "<?xml version=\"1.0\" encoding=\"utf-8\" standalone=\"no\"?>\n<!DOCTYPE svg PUBLIC \"-//W3C//DTD SVG 1.1//EN\"\n  \"http://www.w3.org/Graphics/SVG/1.1/DTD/svg11.dtd\">\n<svg height=\"276.718594pt\" version=\"1.1\" viewBox=\"0 0 265.023529 276.718594\" width=\"265.023529pt\" xmlns=\"http://www.w3.org/2000/svg\" xmlns:xlink=\"http://www.w3.org/1999/xlink\">\n <metadata>\n  <rdf:RDF xmlns:cc=\"http://creativecommons.org/ns#\" xmlns:dc=\"http://purl.org/dc/elements/1.1/\" xmlns:rdf=\"http://www.w3.org/1999/02/22-rdf-syntax-ns#\">\n   <cc:Work>\n    <dc:type rdf:resource=\"http://purl.org/dc/dcmitype/StillImage\"/>\n    <dc:date>2022-05-02T17:51:00.693038</dc:date>\n    <dc:format>image/svg+xml</dc:format>\n    <dc:creator>\n     <cc:Agent>\n      <dc:title>Matplotlib v3.4.1, https://matplotlib.org/</dc:title>\n     </cc:Agent>\n    </dc:creator>\n   </cc:Work>\n  </rdf:RDF>\n </metadata>\n <defs>\n  <style type=\"text/css\">*{stroke-linecap:butt;stroke-linejoin:round;}</style>\n </defs>\n <g id=\"figure_1\">\n  <g id=\"patch_1\">\n   <path d=\"M 0 276.718594 \nL 265.023529 276.718594 \nL 265.023529 0 \nL 0 0 \nz\n\" style=\"fill:#ffffff;\"/>\n  </g>\n  <g id=\"axes_1\">\n   <g id=\"patch_2\">\n    <path d=\"M 7.2 93.415064 \nL 80.576471 93.415064 \nL 80.576471 20.038594 \nL 7.2 20.038594 \nz\n\" style=\"fill:#eeeeee;\"/>\n   </g>\n   <g clip-path=\"url(#p024f66b8cb)\">\n    <image height=\"73.44\" id=\"image9452083cca\" transform=\"scale(1 -1)translate(0 -73.44)\" width=\"73.44\" x=\"7.2\" xlink:href=\"data:image/png;base64,\niVBORw0KGgoAAAANSUhEUgAAAGYAAABmCAYAAAA53+RiAAACL0lEQVR4nO3aIapqQRyA8XfkomAQLCZBrLoFs2vQahBcgdgEgyBmm81odgUmV+ACrIJNBMUXXn0z9zJ68Lvw/eqfmTPwOXCQkz2fz+cf4RQ+fQD9n2GgDANlGCjDQBkGyjBQhoEyDJRhoAwDZRgow0AZBurrlcXD4TA4W6/XSXuWy+Xo/Hw+B2fFYjHpmUTeGCjDQBkGyjBQhoEyDFT2ia9kjsdjcNZut5P37Xa7wdlut4uuzbIs+bl58MZAGQbKMFCGgTIMlGGgPvK6/IrpdBqczWaz5H37/X5wttlskvdN5Y2BMgyUYaAMA2UYKMNA/brX5VSlUil57e12e+NJfsYbA2UYKMNAGQbKMFCGgTIM1EsfldP0er3g7H6/R9deLpc3n+Y13hgow0AZBsowUIaBMgzUr3tdrlarwdlgMAjOvntd9qNy/YhhoAwDZRgow0AZBgr3lcxisYjOD4dDcLbdbt99nI/xxkAZBsowUIaBMgyUYaAMA/WRv/3H43Fwtlwuo2s7nU7SMyeTSXQ+n8+T9s2LNwbKMFCGgTIMlGGgDAOV29/+p9MpOGs0Gnk8MqpQiP8G9/t9cFar1YKzZrOZfKYYbwyUYaAMA2UYKMNAGQYqt3+X6/V6cPZ4PJL3vV6vSetWq1V03mq1grNKpZK072g0+v5gAd4YKMNAGQbKMFCGgTIMFO6jcv3jjYEyDJRhoAwDZRgow0AZBsowUIaBMgyUYaAMA2UYKMNA/QVCWFsk2a/1DAAAAABJRU5ErkJggg==\" y=\"-19.975064\"/>\n   </g>\n   <g id=\"matplotlib.axis_1\"/>\n   <g id=\"matplotlib.axis_2\"/>\n   <g id=\"patch_3\">\n    <path d=\"M 7.2 93.415064 \nL 7.2 20.038594 \n\" style=\"fill:none;stroke:#bcbcbc;stroke-linecap:square;stroke-linejoin:miter;stroke-width:0.8;\"/>\n   </g>\n   <g id=\"patch_4\">\n    <path d=\"M 80.576471 93.415064 \nL 80.576471 20.038594 \n\" style=\"fill:none;stroke:#bcbcbc;stroke-linecap:square;stroke-linejoin:miter;stroke-width:0.8;\"/>\n   </g>\n   <g id=\"patch_5\">\n    <path d=\"M 7.2 93.415064 \nL 80.576471 93.415064 \n\" style=\"fill:none;stroke:#bcbcbc;stroke-linecap:square;stroke-linejoin:miter;stroke-width:0.8;\"/>\n   </g>\n   <g id=\"patch_6\">\n    <path d=\"M 7.2 20.038594 \nL 80.576471 20.038594 \n\" style=\"fill:none;stroke:#bcbcbc;stroke-linecap:square;stroke-linejoin:miter;stroke-width:0.8;\"/>\n   </g>\n   <g id=\"text_1\">\n    <!-- label: 5 -->\n    <g transform=\"translate(27.195345 14.038594)scale(0.09 -0.09)\">\n     <defs>\n      <path d=\"M 603 4863 \nL 1178 4863 \nL 1178 0 \nL 603 0 \nL 603 4863 \nz\n\" id=\"DejaVuSans-6c\" transform=\"scale(0.015625)\"/>\n      <path d=\"M 2194 1759 \nQ 1497 1759 1228 1600 \nQ 959 1441 959 1056 \nQ 959 750 1161 570 \nQ 1363 391 1709 391 \nQ 2188 391 2477 730 \nQ 2766 1069 2766 1631 \nL 2766 1759 \nL 2194 1759 \nz\nM 3341 1997 \nL 3341 0 \nL 2766 0 \nL 2766 531 \nQ 2569 213 2275 61 \nQ 1981 -91 1556 -91 \nQ 1019 -91 701 211 \nQ 384 513 384 1019 \nQ 384 1609 779 1909 \nQ 1175 2209 1959 2209 \nL 2766 2209 \nL 2766 2266 \nQ 2766 2663 2505 2880 \nQ 2244 3097 1772 3097 \nQ 1472 3097 1187 3025 \nQ 903 2953 641 2809 \nL 641 3341 \nQ 956 3463 1253 3523 \nQ 1550 3584 1831 3584 \nQ 2591 3584 2966 3190 \nQ 3341 2797 3341 1997 \nz\n\" id=\"DejaVuSans-61\" transform=\"scale(0.015625)\"/>\n      <path d=\"M 3116 1747 \nQ 3116 2381 2855 2742 \nQ 2594 3103 2138 3103 \nQ 1681 3103 1420 2742 \nQ 1159 2381 1159 1747 \nQ 1159 1113 1420 752 \nQ 1681 391 2138 391 \nQ 2594 391 2855 752 \nQ 3116 1113 3116 1747 \nz\nM 1159 2969 \nQ 1341 3281 1617 3432 \nQ 1894 3584 2278 3584 \nQ 2916 3584 3314 3078 \nQ 3713 2572 3713 1747 \nQ 3713 922 3314 415 \nQ 2916 -91 2278 -91 \nQ 1894 -91 1617 61 \nQ 1341 213 1159 525 \nL 1159 0 \nL 581 0 \nL 581 4863 \nL 1159 4863 \nL 1159 2969 \nz\n\" id=\"DejaVuSans-62\" transform=\"scale(0.015625)\"/>\n      <path d=\"M 3597 1894 \nL 3597 1613 \nL 953 1613 \nQ 991 1019 1311 708 \nQ 1631 397 2203 397 \nQ 2534 397 2845 478 \nQ 3156 559 3463 722 \nL 3463 178 \nQ 3153 47 2828 -22 \nQ 2503 -91 2169 -91 \nQ 1331 -91 842 396 \nQ 353 884 353 1716 \nQ 353 2575 817 3079 \nQ 1281 3584 2069 3584 \nQ 2775 3584 3186 3129 \nQ 3597 2675 3597 1894 \nz\nM 3022 2063 \nQ 3016 2534 2758 2815 \nQ 2500 3097 2075 3097 \nQ 1594 3097 1305 2825 \nQ 1016 2553 972 2059 \nL 3022 2063 \nz\n\" id=\"DejaVuSans-65\" transform=\"scale(0.015625)\"/>\n      <path d=\"M 750 794 \nL 1409 794 \nL 1409 0 \nL 750 0 \nL 750 794 \nz\nM 750 3309 \nL 1409 3309 \nL 1409 2516 \nL 750 2516 \nL 750 3309 \nz\n\" id=\"DejaVuSans-3a\" transform=\"scale(0.015625)\"/>\n      <path id=\"DejaVuSans-20\" transform=\"scale(0.015625)\"/>\n      <path d=\"M 691 4666 \nL 3169 4666 \nL 3169 4134 \nL 1269 4134 \nL 1269 2991 \nQ 1406 3038 1543 3061 \nQ 1681 3084 1819 3084 \nQ 2600 3084 3056 2656 \nQ 3513 2228 3513 1497 \nQ 3513 744 3044 326 \nQ 2575 -91 1722 -91 \nQ 1428 -91 1123 -41 \nQ 819 9 494 109 \nL 494 744 \nQ 775 591 1075 516 \nQ 1375 441 1709 441 \nQ 2250 441 2565 725 \nQ 2881 1009 2881 1497 \nQ 2881 1984 2565 2268 \nQ 2250 2553 1709 2553 \nQ 1456 2553 1204 2497 \nQ 953 2441 691 2322 \nL 691 4666 \nz\n\" id=\"DejaVuSans-35\" transform=\"scale(0.015625)\"/>\n     </defs>\n     <use xlink:href=\"#DejaVuSans-6c\"/>\n     <use x=\"27.783203\" xlink:href=\"#DejaVuSans-61\"/>\n     <use x=\"89.0625\" xlink:href=\"#DejaVuSans-62\"/>\n     <use x=\"152.539062\" xlink:href=\"#DejaVuSans-65\"/>\n     <use x=\"214.0625\" xlink:href=\"#DejaVuSans-6c\"/>\n     <use x=\"241.845703\" xlink:href=\"#DejaVuSans-3a\"/>\n     <use x=\"275.537109\" xlink:href=\"#DejaVuSans-20\"/>\n     <use x=\"307.324219\" xlink:href=\"#DejaVuSans-35\"/>\n    </g>\n   </g>\n  </g>\n  <g id=\"axes_2\">\n   <g id=\"patch_7\">\n    <path d=\"M 95.823529 93.415064 \nL 169.2 93.415064 \nL 169.2 20.038594 \nL 95.823529 20.038594 \nz\n\" style=\"fill:#eeeeee;\"/>\n   </g>\n   <g clip-path=\"url(#p28c7fdeae9)\">\n    <image height=\"73.44\" id=\"imageb86366bd64\" transform=\"scale(1 -1)translate(0 -73.44)\" width=\"73.44\" x=\"95.823529\" xlink:href=\"data:image/png;base64,\niVBORw0KGgoAAAANSUhEUgAAAGYAAABmCAYAAAA53+RiAAACQUlEQVR4nO3bMWpqQRhA4SiinaAiWItgo61Y2rmFgEtwA67EwsJOsRI71+EG7EVEi5QhpnvV+ydwH4PnhfO1P04mHAauk5vS8/l8vgmn/OoN6O8MA2UYKMNAGQbKMFCGgTIMlGGgDANlGCjDQBkGyjBQlVwLf3x8hLN6vV543ev1Gs5arVbhdWk8MVCGgTIMlGGgDANlGKhsj8tFH4kHg0Fy3m63w9l0Og1nx+Ox0H5exRMDZRgow0AZBsowUIaByva4nHpXPdd77NvtNpyVSqXkZ2nv1ntioAwDZRgow0AZBsowUKVc/4NZLsfNv76+cvzIpM/Pz+S8Wq2Gs9PpFM6Gw2HhPaV4YqAMA2UYKMNAGQbKMFCGgcp27V+r1cLZbrcLZ+/v7zm281appH/V1HerV3wn88RAGQbKMFCGgTIMlGGgsl37n8/ncNbr9cLZK/4k8BMfl/WHYaAMA2UYKMNAGQYq2+1yt9sNZ/P5PJx1Op3kuofDIZyNx+Mf9/W/8MRAGQbKMFCGgTIMlGGgDAOV7dq/qGazmZzf7/dwttlswtlisUiuu9/vw9l6vQ5ny+UyuW5Rnhgow0AZBsowUIaBMgxUtmv/oi6XS3Le7/fD2Ww2C2eTySS57mg0Cmer1Sr52Rw8MVCGgTIMlGGgDANlGCjc7fK/SN1MPx6P5GcbjUY4u91uRbdUmCcGyjBQhoEyDJRhoAwD9asel38TTwyUYaAMA2UYKMNAGQbKMFCGgTIMlGGgDANlGCjDQBkG6ht6sWbBYLfHugAAAABJRU5ErkJggg==\" y=\"-19.975064\"/>\n   </g>\n   <g id=\"matplotlib.axis_3\"/>\n   <g id=\"matplotlib.axis_4\"/>\n   <g id=\"patch_8\">\n    <path d=\"M 95.823529 93.415064 \nL 95.823529 20.038594 \n\" style=\"fill:none;stroke:#bcbcbc;stroke-linecap:square;stroke-linejoin:miter;stroke-width:0.8;\"/>\n   </g>\n   <g id=\"patch_9\">\n    <path d=\"M 169.2 93.415064 \nL 169.2 20.038594 \n\" style=\"fill:none;stroke:#bcbcbc;stroke-linecap:square;stroke-linejoin:miter;stroke-width:0.8;\"/>\n   </g>\n   <g id=\"patch_10\">\n    <path d=\"M 95.823529 93.415064 \nL 169.2 93.415064 \n\" style=\"fill:none;stroke:#bcbcbc;stroke-linecap:square;stroke-linejoin:miter;stroke-width:0.8;\"/>\n   </g>\n   <g id=\"patch_11\">\n    <path d=\"M 95.823529 20.038594 \nL 169.2 20.038594 \n\" style=\"fill:none;stroke:#bcbcbc;stroke-linecap:square;stroke-linejoin:miter;stroke-width:0.8;\"/>\n   </g>\n   <g id=\"text_2\">\n    <!-- label: 0 -->\n    <g transform=\"translate(115.818874 14.038594)scale(0.09 -0.09)\">\n     <defs>\n      <path d=\"M 2034 4250 \nQ 1547 4250 1301 3770 \nQ 1056 3291 1056 2328 \nQ 1056 1369 1301 889 \nQ 1547 409 2034 409 \nQ 2525 409 2770 889 \nQ 3016 1369 3016 2328 \nQ 3016 3291 2770 3770 \nQ 2525 4250 2034 4250 \nz\nM 2034 4750 \nQ 2819 4750 3233 4129 \nQ 3647 3509 3647 2328 \nQ 3647 1150 3233 529 \nQ 2819 -91 2034 -91 \nQ 1250 -91 836 529 \nQ 422 1150 422 2328 \nQ 422 3509 836 4129 \nQ 1250 4750 2034 4750 \nz\n\" id=\"DejaVuSans-30\" transform=\"scale(0.015625)\"/>\n     </defs>\n     <use xlink:href=\"#DejaVuSans-6c\"/>\n     <use x=\"27.783203\" xlink:href=\"#DejaVuSans-61\"/>\n     <use x=\"89.0625\" xlink:href=\"#DejaVuSans-62\"/>\n     <use x=\"152.539062\" xlink:href=\"#DejaVuSans-65\"/>\n     <use x=\"214.0625\" xlink:href=\"#DejaVuSans-6c\"/>\n     <use x=\"241.845703\" xlink:href=\"#DejaVuSans-3a\"/>\n     <use x=\"275.537109\" xlink:href=\"#DejaVuSans-20\"/>\n     <use x=\"307.324219\" xlink:href=\"#DejaVuSans-30\"/>\n    </g>\n   </g>\n  </g>\n  <g id=\"axes_3\">\n   <g id=\"patch_12\">\n    <path d=\"M 184.447059 93.415064 \nL 257.823529 93.415064 \nL 257.823529 20.038594 \nL 184.447059 20.038594 \nz\n\" style=\"fill:#eeeeee;\"/>\n   </g>\n   <g clip-path=\"url(#pee311e5168)\">\n    <image height=\"73.44\" id=\"image7e5dd0d83c\" transform=\"scale(1 -1)translate(0 -73.44)\" width=\"73.44\" x=\"184.447059\" xlink:href=\"data:image/png;base64,\niVBORw0KGgoAAAANSUhEUgAAAGYAAABmCAYAAAA53+RiAAACEklEQVR4nO3coWqCYRSA4TkXTGLWZBLvQDAY9ELEIHgBFsFsNlktgsWrMBiN3oGXIIiCC1qEnW8wdf879j718OmBlw/+/WzLXS6Xy5tw3rNeQF8zDJRhoAwDZRgow0AZBsowUIaBMgyUYaAMA2UYKMNAfWS9wG8ZDAbJealUCmeTyeTJ23zPGwNlGCjDQBkGyjBQhoH6N4/L3+l0OlmvcMcbA2UYKMNAGQbKMFCGgfJx+aZarWa9wh1vDJRhoAwDZRgow0AZBsrH5ZvVahXOhsPhL25y5Y2BMgyUYaAMA2UYKMNAGQYql/pfMuPxOHl4NpuFs1qtFs42m004y+fzye9st9vhbDQahbNms5n83EKhEM5Op1Py7Ct4Y6AMA2UYKMNAGQbKMFDJ1/6HwyF5eL1eh7N6vf6zjR5wPB7DWa/XS549n8/PXuch3hgow0AZBsowUIaBMgxU8u3yfD5PHt5ut+FsOp3+eKksVCqVcLbb7cJZsVh8xTreGCrDQBkGyjBQhoEyDJRhoJKv/bvdbvJw6ueYv6bVaoWz5XIZzvr9/ivW8cZQGQbKMFCGgTIMlGGg/OPYm8ViEc4ajUY483H5nzEMlGGgDANlGCjDQCV/S0ZX5XI5nO33+5d8pzcGyjBQhoEyDJRhoAwD5eMylDcGyjBQhoEyDJRhoAwDZRgow0AZBsowUIaBMgyUYaAMA/UJjXxMP/Ut2UEAAAAASUVORK5CYII=\" y=\"-19.975064\"/>\n   </g>\n   <g id=\"matplotlib.axis_5\"/>\n   <g id=\"matplotlib.axis_6\"/>\n   <g id=\"patch_13\">\n    <path d=\"M 184.447059 93.415064 \nL 184.447059 20.038594 \n\" style=\"fill:none;stroke:#bcbcbc;stroke-linecap:square;stroke-linejoin:miter;stroke-width:0.8;\"/>\n   </g>\n   <g id=\"patch_14\">\n    <path d=\"M 257.823529 93.415064 \nL 257.823529 20.038594 \n\" style=\"fill:none;stroke:#bcbcbc;stroke-linecap:square;stroke-linejoin:miter;stroke-width:0.8;\"/>\n   </g>\n   <g id=\"patch_15\">\n    <path d=\"M 184.447059 93.415064 \nL 257.823529 93.415064 \n\" style=\"fill:none;stroke:#bcbcbc;stroke-linecap:square;stroke-linejoin:miter;stroke-width:0.8;\"/>\n   </g>\n   <g id=\"patch_16\">\n    <path d=\"M 184.447059 20.038594 \nL 257.823529 20.038594 \n\" style=\"fill:none;stroke:#bcbcbc;stroke-linecap:square;stroke-linejoin:miter;stroke-width:0.8;\"/>\n   </g>\n   <g id=\"text_3\">\n    <!-- label: 4 -->\n    <g transform=\"translate(204.442403 14.038594)scale(0.09 -0.09)\">\n     <defs>\n      <path d=\"M 2419 4116 \nL 825 1625 \nL 2419 1625 \nL 2419 4116 \nz\nM 2253 4666 \nL 3047 4666 \nL 3047 1625 \nL 3713 1625 \nL 3713 1100 \nL 3047 1100 \nL 3047 0 \nL 2419 0 \nL 2419 1100 \nL 313 1100 \nL 313 1709 \nL 2253 4666 \nz\n\" id=\"DejaVuSans-34\" transform=\"scale(0.015625)\"/>\n     </defs>\n     <use xlink:href=\"#DejaVuSans-6c\"/>\n     <use x=\"27.783203\" xlink:href=\"#DejaVuSans-61\"/>\n     <use x=\"89.0625\" xlink:href=\"#DejaVuSans-62\"/>\n     <use x=\"152.539062\" xlink:href=\"#DejaVuSans-65\"/>\n     <use x=\"214.0625\" xlink:href=\"#DejaVuSans-6c\"/>\n     <use x=\"241.845703\" xlink:href=\"#DejaVuSans-3a\"/>\n     <use x=\"275.537109\" xlink:href=\"#DejaVuSans-20\"/>\n     <use x=\"307.324219\" xlink:href=\"#DejaVuSans-34\"/>\n    </g>\n   </g>\n  </g>\n  <g id=\"axes_4\">\n   <g id=\"patch_17\">\n    <path d=\"M 7.2 181.466829 \nL 80.576471 181.466829 \nL 80.576471 108.090358 \nL 7.2 108.090358 \nz\n\" style=\"fill:#eeeeee;\"/>\n   </g>\n   <g clip-path=\"url(#pe0c938ceb3)\">\n    <image height=\"73.44\" id=\"image6da6fed035\" transform=\"scale(1 -1)translate(0 -73.44)\" width=\"73.44\" x=\"7.2\" xlink:href=\"data:image/png;base64,\niVBORw0KGgoAAAANSUhEUgAAAGYAAABmCAYAAAA53+RiAAACAElEQVR4nO3dPYrCUBRA4ZfRwlaws/VnFxZCavfiPqzciQvQbSgi2NvY2SiZDcx9QozkTDhfe8nMGw4XooRMUVVVlYTz0/YB9DfDQBkGyjBQhoEyDJRhoAwDZRgow0AZBsowUIaBMgxUv41f2uv1wtlkMsleezqdmj4OkhsDZRgow0AZBsowUIaBauV2eTweh7Pr9Zq99vl8hrN+v5U/5yvcGCjDQBkGyjBQhoEyDFRBe6g8981zSikdDodwtlgsmj5Oa9wYKMNAGQbKMFCGgTIMFO52eTabZeeXyyWcvV6vpo/TGjcGyjBQhoEyDJRhoAwDZRgo3OeY+/2enQ+Hw3C2Xq/D2WazqXukVrgxUIaBMgyUYaAMA2UYKNzt8ju73S6crVarcPZ4PLI/dzAY1D7TN7gxUIaBMgyUYaAMA2UYqH93u5xTFEU4G41G2Wtvt1vTx/mIGwNlGCjDQBkGyjBQhoEyDFR3Xr6SUjqfz+FsPp9nr93v9+FsuVzWPlNdbgyUYaAMA2UYKMNAGQaqU7fLubecb7fb7LVlWYaz4/EYzqbT6fuD1eDGQBkGyjBQhoEyDJRhoDr1lMwnck/Y5P6Z0Lt339TlxkAZBsowUIaBMgyUYaA69e3yJ2ifGtwYKMNAGQbKMFCGgTIMlGGgDANlGCjDQBkGyjBQhoEyDNQvSk9Pk6bFqsgAAAAASUVORK5CYII=\" y=\"-108.026829\"/>\n   </g>\n   <g id=\"matplotlib.axis_7\"/>\n   <g id=\"matplotlib.axis_8\"/>\n   <g id=\"patch_18\">\n    <path d=\"M 7.2 181.466829 \nL 7.2 108.090358 \n\" style=\"fill:none;stroke:#bcbcbc;stroke-linecap:square;stroke-linejoin:miter;stroke-width:0.8;\"/>\n   </g>\n   <g id=\"patch_19\">\n    <path d=\"M 80.576471 181.466829 \nL 80.576471 108.090358 \n\" style=\"fill:none;stroke:#bcbcbc;stroke-linecap:square;stroke-linejoin:miter;stroke-width:0.8;\"/>\n   </g>\n   <g id=\"patch_20\">\n    <path d=\"M 7.2 181.466829 \nL 80.576471 181.466829 \n\" style=\"fill:none;stroke:#bcbcbc;stroke-linecap:square;stroke-linejoin:miter;stroke-width:0.8;\"/>\n   </g>\n   <g id=\"patch_21\">\n    <path d=\"M 7.2 108.090358 \nL 80.576471 108.090358 \n\" style=\"fill:none;stroke:#bcbcbc;stroke-linecap:square;stroke-linejoin:miter;stroke-width:0.8;\"/>\n   </g>\n   <g id=\"text_4\">\n    <!-- label: 1 -->\n    <g transform=\"translate(27.195345 102.090358)scale(0.09 -0.09)\">\n     <defs>\n      <path d=\"M 794 531 \nL 1825 531 \nL 1825 4091 \nL 703 3866 \nL 703 4441 \nL 1819 4666 \nL 2450 4666 \nL 2450 531 \nL 3481 531 \nL 3481 0 \nL 794 0 \nL 794 531 \nz\n\" id=\"DejaVuSans-31\" transform=\"scale(0.015625)\"/>\n     </defs>\n     <use xlink:href=\"#DejaVuSans-6c\"/>\n     <use x=\"27.783203\" xlink:href=\"#DejaVuSans-61\"/>\n     <use x=\"89.0625\" xlink:href=\"#DejaVuSans-62\"/>\n     <use x=\"152.539062\" xlink:href=\"#DejaVuSans-65\"/>\n     <use x=\"214.0625\" xlink:href=\"#DejaVuSans-6c\"/>\n     <use x=\"241.845703\" xlink:href=\"#DejaVuSans-3a\"/>\n     <use x=\"275.537109\" xlink:href=\"#DejaVuSans-20\"/>\n     <use x=\"307.324219\" xlink:href=\"#DejaVuSans-31\"/>\n    </g>\n   </g>\n  </g>\n  <g id=\"axes_5\">\n   <g id=\"patch_22\">\n    <path d=\"M 95.823529 181.466829 \nL 169.2 181.466829 \nL 169.2 108.090358 \nL 95.823529 108.090358 \nz\n\" style=\"fill:#eeeeee;\"/>\n   </g>\n   <g clip-path=\"url(#p867faa337d)\">\n    <image height=\"73.44\" id=\"imagedeab02a2dc\" transform=\"scale(1 -1)translate(0 -73.44)\" width=\"73.44\" x=\"95.823529\" xlink:href=\"data:image/png;base64,\niVBORw0KGgoAAAANSUhEUgAAAGYAAABmCAYAAAA53+RiAAAB/klEQVR4nO3cMZLBcBSA8cSoaTQUZhRuwBlcwQWcwzmoVCqFo+gdQKdRk73AvlcgySfz/do3yWTn2zdj/5NVVlVVFcLptf0A+p9hoAwDZRgow0AZBqrf9gN803q9DmeDwSC9dr/ff/txPuLGQBkGyjBQhoEyDJRhoAwDVXbp2L/Xi3/PXq9Xg0/yOTcGyjBQhoEyDJRhoAwD9XPH/ufzue1HaIQbA2UYKMNAGQbKMFCGgfJ0GcqNgTIMlGGgDANlGCjDQP3c6fL1eg1nHfrk78ZQGQbKMFCGgTIMlGGgDANV298xk8kknN1ut3BWlmV63+l0+va1v8SNgTIMlGGgDANlGCjDQNX2lsx4PA5nq9UqnB0Oh/S+9/s9nI1Go3C22WzS++52u3TeNDcGyjBQhoEyDJRhoAwDVdvp8rsnyLPZLL3vdrsNZ9mL49kL50WRf5xeLBbptXVwY6AMA2UYKMNAGQbKMFCGgWrlbf/n8xnOhsNheu3lcglnp9MpnGVfL18URbFcLsNZG/9F4MZAGQbKMFCGgTIMlGGgWvm4nB3BPx6P9Nrs2L/fj3+c4/GY3nc+n6fzprkxUIaBMgyUYaAMA2UYqE599WKXuDFQhoEyDJRhoAwDZRgow0AZBsowUIaBMgyUYaAMA2UYKMNAGQbKMFCGgTIMlGGgDAP1By5wTitmNf0yAAAAAElFTkSuQmCC\" y=\"-108.026829\"/>\n   </g>\n   <g id=\"matplotlib.axis_9\"/>\n   <g id=\"matplotlib.axis_10\"/>\n   <g id=\"patch_23\">\n    <path d=\"M 95.823529 181.466829 \nL 95.823529 108.090358 \n\" style=\"fill:none;stroke:#bcbcbc;stroke-linecap:square;stroke-linejoin:miter;stroke-width:0.8;\"/>\n   </g>\n   <g id=\"patch_24\">\n    <path d=\"M 169.2 181.466829 \nL 169.2 108.090358 \n\" style=\"fill:none;stroke:#bcbcbc;stroke-linecap:square;stroke-linejoin:miter;stroke-width:0.8;\"/>\n   </g>\n   <g id=\"patch_25\">\n    <path d=\"M 95.823529 181.466829 \nL 169.2 181.466829 \n\" style=\"fill:none;stroke:#bcbcbc;stroke-linecap:square;stroke-linejoin:miter;stroke-width:0.8;\"/>\n   </g>\n   <g id=\"patch_26\">\n    <path d=\"M 95.823529 108.090358 \nL 169.2 108.090358 \n\" style=\"fill:none;stroke:#bcbcbc;stroke-linecap:square;stroke-linejoin:miter;stroke-width:0.8;\"/>\n   </g>\n   <g id=\"text_5\">\n    <!-- label: 9 -->\n    <g transform=\"translate(115.818874 102.090358)scale(0.09 -0.09)\">\n     <defs>\n      <path d=\"M 703 97 \nL 703 672 \nQ 941 559 1184 500 \nQ 1428 441 1663 441 \nQ 2288 441 2617 861 \nQ 2947 1281 2994 2138 \nQ 2813 1869 2534 1725 \nQ 2256 1581 1919 1581 \nQ 1219 1581 811 2004 \nQ 403 2428 403 3163 \nQ 403 3881 828 4315 \nQ 1253 4750 1959 4750 \nQ 2769 4750 3195 4129 \nQ 3622 3509 3622 2328 \nQ 3622 1225 3098 567 \nQ 2575 -91 1691 -91 \nQ 1453 -91 1209 -44 \nQ 966 3 703 97 \nz\nM 1959 2075 \nQ 2384 2075 2632 2365 \nQ 2881 2656 2881 3163 \nQ 2881 3666 2632 3958 \nQ 2384 4250 1959 4250 \nQ 1534 4250 1286 3958 \nQ 1038 3666 1038 3163 \nQ 1038 2656 1286 2365 \nQ 1534 2075 1959 2075 \nz\n\" id=\"DejaVuSans-39\" transform=\"scale(0.015625)\"/>\n     </defs>\n     <use xlink:href=\"#DejaVuSans-6c\"/>\n     <use x=\"27.783203\" xlink:href=\"#DejaVuSans-61\"/>\n     <use x=\"89.0625\" xlink:href=\"#DejaVuSans-62\"/>\n     <use x=\"152.539062\" xlink:href=\"#DejaVuSans-65\"/>\n     <use x=\"214.0625\" xlink:href=\"#DejaVuSans-6c\"/>\n     <use x=\"241.845703\" xlink:href=\"#DejaVuSans-3a\"/>\n     <use x=\"275.537109\" xlink:href=\"#DejaVuSans-20\"/>\n     <use x=\"307.324219\" xlink:href=\"#DejaVuSans-39\"/>\n    </g>\n   </g>\n  </g>\n  <g id=\"axes_6\">\n   <g id=\"patch_27\">\n    <path d=\"M 184.447059 181.466829 \nL 257.823529 181.466829 \nL 257.823529 108.090358 \nL 184.447059 108.090358 \nz\n\" style=\"fill:#eeeeee;\"/>\n   </g>\n   <g clip-path=\"url(#p40dbf86095)\">\n    <image height=\"73.44\" id=\"image68e34fc844\" transform=\"scale(1 -1)translate(0 -73.44)\" width=\"73.44\" x=\"184.447059\" xlink:href=\"data:image/png;base64,\niVBORw0KGgoAAAANSUhEUgAAAGYAAABmCAYAAAA53+RiAAACbElEQVR4nO3csY4pARiG4bOik+h0CtyCygXQ6DXEJVC5CyqdKEioVBKJRhQ6l6EQCQUiJCJhu63O/28ys+LL5H3aLzOzm3cnGbvs1+v1ev2DnNinvwD8H2FEEUYUYUQRRhRhRBFGFGFEEUYUYUQRRhRhRBFGFGFEEUYUYUQRRhRhRBFGFGFEEUZUPMzBhULB3NbrdaBzDodDd69Wq+YWi0Xn5yw630nEEEYUYUQRRhRhRBFG1FeYN5VPp1Nzq9Vq5rbf782t2Wy61+z3++Z2Op3MLZlMuuf1rFYrc+v1euY2Go0CX5M7RhRhRBFGFGFEEUYUYUSFelz2dDodc2u1WuZ2u93c8z6fT3NLJBLm1u123fM2Gg1zq1Qq5tZut80tnU671/Rwx4gijCjCiCKMKMKIIowowoh62+sYz2azMbdsNuse6702OB6P5na9Xt3zDgYDc6vX6+6x78AdI4owoggjijCiCCOKMKI+8rgcxmQyMbfz+Wxu4/HYPa/3J4PZbPb7F/bHuGNEEUYUYUQRRhRhRBFG1Ecely+Xi7kdDgf32FwuF+ia8/nc3cvlsrl578x5F+4YUYQRRRhRhBFFGFGEEUUYUR95HbNYLMytVCoFPq/34djH4+Eem0qlzI3XMfhBGFGEEUUYUYQRRRhRcu+S+e3X/plMxty8D9bm83n3vNvt1tx2u5177Dtwx4gijCjCiCKMKMKIIowoucflMO73u7ktl0v32GKxaG7xeKh/6B4Id4wowogijCjCiCKMKMKIitTjcpRwx4gijCjCiCKMKMKIIowowogijCjCiCKMKMKIIowowogijKhv3X2OnRb2hJoAAAAASUVORK5CYII=\" y=\"-108.026829\"/>\n   </g>\n   <g id=\"matplotlib.axis_11\"/>\n   <g id=\"matplotlib.axis_12\"/>\n   <g id=\"patch_28\">\n    <path d=\"M 184.447059 181.466829 \nL 184.447059 108.090358 \n\" style=\"fill:none;stroke:#bcbcbc;stroke-linecap:square;stroke-linejoin:miter;stroke-width:0.8;\"/>\n   </g>\n   <g id=\"patch_29\">\n    <path d=\"M 257.823529 181.466829 \nL 257.823529 108.090358 \n\" style=\"fill:none;stroke:#bcbcbc;stroke-linecap:square;stroke-linejoin:miter;stroke-width:0.8;\"/>\n   </g>\n   <g id=\"patch_30\">\n    <path d=\"M 184.447059 181.466829 \nL 257.823529 181.466829 \n\" style=\"fill:none;stroke:#bcbcbc;stroke-linecap:square;stroke-linejoin:miter;stroke-width:0.8;\"/>\n   </g>\n   <g id=\"patch_31\">\n    <path d=\"M 184.447059 108.090358 \nL 257.823529 108.090358 \n\" style=\"fill:none;stroke:#bcbcbc;stroke-linecap:square;stroke-linejoin:miter;stroke-width:0.8;\"/>\n   </g>\n   <g id=\"text_6\">\n    <!-- label: 2 -->\n    <g transform=\"translate(204.442403 102.090358)scale(0.09 -0.09)\">\n     <defs>\n      <path d=\"M 1228 531 \nL 3431 531 \nL 3431 0 \nL 469 0 \nL 469 531 \nQ 828 903 1448 1529 \nQ 2069 2156 2228 2338 \nQ 2531 2678 2651 2914 \nQ 2772 3150 2772 3378 \nQ 2772 3750 2511 3984 \nQ 2250 4219 1831 4219 \nQ 1534 4219 1204 4116 \nQ 875 4013 500 3803 \nL 500 4441 \nQ 881 4594 1212 4672 \nQ 1544 4750 1819 4750 \nQ 2544 4750 2975 4387 \nQ 3406 4025 3406 3419 \nQ 3406 3131 3298 2873 \nQ 3191 2616 2906 2266 \nQ 2828 2175 2409 1742 \nQ 1991 1309 1228 531 \nz\n\" id=\"DejaVuSans-32\" transform=\"scale(0.015625)\"/>\n     </defs>\n     <use xlink:href=\"#DejaVuSans-6c\"/>\n     <use x=\"27.783203\" xlink:href=\"#DejaVuSans-61\"/>\n     <use x=\"89.0625\" xlink:href=\"#DejaVuSans-62\"/>\n     <use x=\"152.539062\" xlink:href=\"#DejaVuSans-65\"/>\n     <use x=\"214.0625\" xlink:href=\"#DejaVuSans-6c\"/>\n     <use x=\"241.845703\" xlink:href=\"#DejaVuSans-3a\"/>\n     <use x=\"275.537109\" xlink:href=\"#DejaVuSans-20\"/>\n     <use x=\"307.324219\" xlink:href=\"#DejaVuSans-32\"/>\n    </g>\n   </g>\n  </g>\n  <g id=\"axes_7\">\n   <g id=\"patch_32\">\n    <path d=\"M 7.2 269.518594 \nL 80.576471 269.518594 \nL 80.576471 196.142123 \nL 7.2 196.142123 \nz\n\" style=\"fill:#eeeeee;\"/>\n   </g>\n   <g clip-path=\"url(#p9fbcf2189c)\">\n    <image height=\"73.44\" id=\"imagee600b71173\" transform=\"scale(1 -1)translate(0 -73.44)\" width=\"73.44\" x=\"7.2\" xlink:href=\"data:image/png;base64,\niVBORw0KGgoAAAANSUhEUgAAAGYAAABmCAYAAAA53+RiAAABhklEQVR4nO3cu23CABRA0RilpWYRGtZjCoZgFeagRaLHWSAQybLlQ7intYweXJ5kvsM4juNXOJu1B8jvCoMqDKowqMKgCoMqDKowqMKgCoMqDKowqMKgCoP6XnuAOe33+6fHLpfLy3O1Tz/aGFRhUIVBFQZVGFRhUMN/+pbMZvP8efbX3dQehjYGVRhUYVCFQRUGVRjU2727fD6fJ513PB5nnmRZbQyqMKjCoAqDKgyqMKi3e3d5GIZJx67X68vb3e12k2daQhuDKgyqMKjCoAqDKgyqMKiPeR3zeDyWGGcxbQyqMKjCoAqDKgyqMKjCoAqDKgyqMKjCoAqDKgyqMKjCoAqDKgyqMKjCoAqDKgyK+3Hs/X6ffO7pdJpxknW1MajCoAqDKgyqMKjCoLjL5e12O/ncw+Ew4yTramNQhUEVBlUYVGFQhUFxl8u3223tEQhtDKowqMKgCoMqDKowqLf7y5JP0cagCoMqDKowqMKgCoMqDKowqMKgCoMqDKowqMKgCoP6AW2UMotl8+79AAAAAElFTkSuQmCC\" y=\"-196.078594\"/>\n   </g>\n   <g id=\"matplotlib.axis_13\"/>\n   <g id=\"matplotlib.axis_14\"/>\n   <g id=\"patch_33\">\n    <path d=\"M 7.2 269.518594 \nL 7.2 196.142123 \n\" style=\"fill:none;stroke:#bcbcbc;stroke-linecap:square;stroke-linejoin:miter;stroke-width:0.8;\"/>\n   </g>\n   <g id=\"patch_34\">\n    <path d=\"M 80.576471 269.518594 \nL 80.576471 196.142123 \n\" style=\"fill:none;stroke:#bcbcbc;stroke-linecap:square;stroke-linejoin:miter;stroke-width:0.8;\"/>\n   </g>\n   <g id=\"patch_35\">\n    <path d=\"M 7.2 269.518594 \nL 80.576471 269.518594 \n\" style=\"fill:none;stroke:#bcbcbc;stroke-linecap:square;stroke-linejoin:miter;stroke-width:0.8;\"/>\n   </g>\n   <g id=\"patch_36\">\n    <path d=\"M 7.2 196.142123 \nL 80.576471 196.142123 \n\" style=\"fill:none;stroke:#bcbcbc;stroke-linecap:square;stroke-linejoin:miter;stroke-width:0.8;\"/>\n   </g>\n   <g id=\"text_7\">\n    <!-- label: 1 -->\n    <g transform=\"translate(27.195345 190.142123)scale(0.09 -0.09)\">\n     <use xlink:href=\"#DejaVuSans-6c\"/>\n     <use x=\"27.783203\" xlink:href=\"#DejaVuSans-61\"/>\n     <use x=\"89.0625\" xlink:href=\"#DejaVuSans-62\"/>\n     <use x=\"152.539062\" xlink:href=\"#DejaVuSans-65\"/>\n     <use x=\"214.0625\" xlink:href=\"#DejaVuSans-6c\"/>\n     <use x=\"241.845703\" xlink:href=\"#DejaVuSans-3a\"/>\n     <use x=\"275.537109\" xlink:href=\"#DejaVuSans-20\"/>\n     <use x=\"307.324219\" xlink:href=\"#DejaVuSans-31\"/>\n    </g>\n   </g>\n  </g>\n  <g id=\"axes_8\">\n   <g id=\"patch_37\">\n    <path d=\"M 95.823529 269.518594 \nL 169.2 269.518594 \nL 169.2 196.142123 \nL 95.823529 196.142123 \nz\n\" style=\"fill:#eeeeee;\"/>\n   </g>\n   <g clip-path=\"url(#pe9ec58e4f3)\">\n    <image height=\"73.44\" id=\"image0a5777e1bf\" transform=\"scale(1 -1)translate(0 -73.44)\" width=\"73.44\" x=\"95.823529\" xlink:href=\"data:image/png;base64,\niVBORw0KGgoAAAANSUhEUgAAAGYAAABmCAYAAAA53+RiAAACKklEQVR4nO3bMYoiQRhA4RldEBNzEUy8gJlnMBM11cDzeARDQ1EMDDyAoeIJjAwNBRFENxjYaP/apXt7fLDvS3+qu+BNQc3Q8/l6vV4fwim9ewP6PcNAGQbKMFCGgTIMlGGgDANlGCjDQBkGyjBQhoEyDNSPPIvP53M4azabeR4d6nQ64Wy5XIazer1exHYK44mBMgyUYaAMA2UYKMNA5bouD4fDTOum02nmd67X63DWaDTCWb/fTz53sVhk3lMRPDFQhoEyDJRhoAwDZRioz6I+Kj8ej+Gs3W4X8cqP7XYbzrrdbnLt4XAIZ0XtN8UTA2UYKMNAGQbKMFCGgSrsukxTKqV/Br0u668YBsowUIaBMgyUYaAMA5XrK5msWq1WODudTt+4Ey5PDJRhoAwDZRgow0AZBuot1+X9fh/ORqNR5uduNpvMa1P/T+qf/fWLYaAMA2UYKMNAGQbqv/lKZjAYJOer1Sqc3W63cFapVDLvKcUTA2UYKMNAGQbKMFCGgTIM1Ft+j3k+n+Hser0m19ZqtUzvvN/vyXm1Wg1nk8kknM1ms0z7+RNPDJRhoAwDZRgow0AZBuot1+XxeBzO5vP5N+4kv9TVPw9PDJRhoAwDZRgow0AZBgr3lczlcknOd7tdOOv1ev94N18ej0c4K5fLhbzTEwNlGCjDQBkGyjBQhoHCXZf1xRMDZRgow0AZBsowUIaBMgyUYaAMA2UYKMNAGQbKMFCGgfoJJDJnhyfiUHgAAAAASUVORK5CYII=\" y=\"-196.078594\"/>\n   </g>\n   <g id=\"matplotlib.axis_15\"/>\n   <g id=\"matplotlib.axis_16\"/>\n   <g id=\"patch_38\">\n    <path d=\"M 95.823529 269.518594 \nL 95.823529 196.142123 \n\" style=\"fill:none;stroke:#bcbcbc;stroke-linecap:square;stroke-linejoin:miter;stroke-width:0.8;\"/>\n   </g>\n   <g id=\"patch_39\">\n    <path d=\"M 169.2 269.518594 \nL 169.2 196.142123 \n\" style=\"fill:none;stroke:#bcbcbc;stroke-linecap:square;stroke-linejoin:miter;stroke-width:0.8;\"/>\n   </g>\n   <g id=\"patch_40\">\n    <path d=\"M 95.823529 269.518594 \nL 169.2 269.518594 \n\" style=\"fill:none;stroke:#bcbcbc;stroke-linecap:square;stroke-linejoin:miter;stroke-width:0.8;\"/>\n   </g>\n   <g id=\"patch_41\">\n    <path d=\"M 95.823529 196.142123 \nL 169.2 196.142123 \n\" style=\"fill:none;stroke:#bcbcbc;stroke-linecap:square;stroke-linejoin:miter;stroke-width:0.8;\"/>\n   </g>\n   <g id=\"text_8\">\n    <!-- label: 3 -->\n    <g transform=\"translate(115.818874 190.142123)scale(0.09 -0.09)\">\n     <defs>\n      <path d=\"M 2597 2516 \nQ 3050 2419 3304 2112 \nQ 3559 1806 3559 1356 \nQ 3559 666 3084 287 \nQ 2609 -91 1734 -91 \nQ 1441 -91 1130 -33 \nQ 819 25 488 141 \nL 488 750 \nQ 750 597 1062 519 \nQ 1375 441 1716 441 \nQ 2309 441 2620 675 \nQ 2931 909 2931 1356 \nQ 2931 1769 2642 2001 \nQ 2353 2234 1838 2234 \nL 1294 2234 \nL 1294 2753 \nL 1863 2753 \nQ 2328 2753 2575 2939 \nQ 2822 3125 2822 3475 \nQ 2822 3834 2567 4026 \nQ 2313 4219 1838 4219 \nQ 1578 4219 1281 4162 \nQ 984 4106 628 3988 \nL 628 4550 \nQ 988 4650 1302 4700 \nQ 1616 4750 1894 4750 \nQ 2613 4750 3031 4423 \nQ 3450 4097 3450 3541 \nQ 3450 3153 3228 2886 \nQ 3006 2619 2597 2516 \nz\n\" id=\"DejaVuSans-33\" transform=\"scale(0.015625)\"/>\n     </defs>\n     <use xlink:href=\"#DejaVuSans-6c\"/>\n     <use x=\"27.783203\" xlink:href=\"#DejaVuSans-61\"/>\n     <use x=\"89.0625\" xlink:href=\"#DejaVuSans-62\"/>\n     <use x=\"152.539062\" xlink:href=\"#DejaVuSans-65\"/>\n     <use x=\"214.0625\" xlink:href=\"#DejaVuSans-6c\"/>\n     <use x=\"241.845703\" xlink:href=\"#DejaVuSans-3a\"/>\n     <use x=\"275.537109\" xlink:href=\"#DejaVuSans-20\"/>\n     <use x=\"307.324219\" xlink:href=\"#DejaVuSans-33\"/>\n    </g>\n   </g>\n  </g>\n  <g id=\"axes_9\">\n   <g id=\"patch_42\">\n    <path d=\"M 184.447059 269.518594 \nL 257.823529 269.518594 \nL 257.823529 196.142123 \nL 184.447059 196.142123 \nz\n\" style=\"fill:#eeeeee;\"/>\n   </g>\n   <g clip-path=\"url(#p32bbfc93e1)\">\n    <image height=\"73.44\" id=\"image83b0679652\" transform=\"scale(1 -1)translate(0 -73.44)\" width=\"73.44\" x=\"184.447059\" xlink:href=\"data:image/png;base64,\niVBORw0KGgoAAAANSUhEUgAAAGYAAABmCAYAAAA53+RiAAABmElEQVR4nO3bvY2EMBQA4fPpxF8LZJQIvdAIVVACAXUQcg2sSRab8e58qZO3Gj3JiyCc53n+COf36QH0mmGgDANlGCjDQBkGyjBQhoEyDJRhoAwDZRgow0AZBurv6QHu1LZt9Ow4joyTvM+NgTIMlGGgDANlGCjDQH3UdblpmqdHuI0bA2UYKMNAGQbKMFCGgQqf9FJ5CCF6VtrPdGOgDANlGCjDQBkGyjBQxT1dXtc1etZ1XcZJ0nJjoAwDZRgow0AZBsowUIaBKu5/zDzP0bOqqjJOkpYbA2UYKMNAGQbKMFCGgSruunxlmqanR7iNGwNlGCjDQBkGyjBQhoEq7rq8LEv0bBzHjJOk5cZAGQbKMFCGgTIMlGGgDANV3MexVx/A7vsePRuGIcU4ybgxUIaBMgyUYaAMA2UYqOIe+1+p6/rpEW7jxkAZBsowUIaBMgyUYaCKuy5v2xY96/s+4yRpuTFQhoEyDJRhoAwDZRio4l7G+BZuDJRhoAwDZRgow0AZBsowUIaBMgyUYaAMA2UYKMNAGQbqH8oVJeeLk1JgAAAAAElFTkSuQmCC\" y=\"-196.078594\"/>\n   </g>\n   <g id=\"matplotlib.axis_17\"/>\n   <g id=\"matplotlib.axis_18\"/>\n   <g id=\"patch_43\">\n    <path d=\"M 184.447059 269.518594 \nL 184.447059 196.142123 \n\" style=\"fill:none;stroke:#bcbcbc;stroke-linecap:square;stroke-linejoin:miter;stroke-width:0.8;\"/>\n   </g>\n   <g id=\"patch_44\">\n    <path d=\"M 257.823529 269.518594 \nL 257.823529 196.142123 \n\" style=\"fill:none;stroke:#bcbcbc;stroke-linecap:square;stroke-linejoin:miter;stroke-width:0.8;\"/>\n   </g>\n   <g id=\"patch_45\">\n    <path d=\"M 184.447059 269.518594 \nL 257.823529 269.518594 \n\" style=\"fill:none;stroke:#bcbcbc;stroke-linecap:square;stroke-linejoin:miter;stroke-width:0.8;\"/>\n   </g>\n   <g id=\"patch_46\">\n    <path d=\"M 184.447059 196.142123 \nL 257.823529 196.142123 \n\" style=\"fill:none;stroke:#bcbcbc;stroke-linecap:square;stroke-linejoin:miter;stroke-width:0.8;\"/>\n   </g>\n   <g id=\"text_9\">\n    <!-- label: 1 -->\n    <g transform=\"translate(204.442403 190.142123)scale(0.09 -0.09)\">\n     <use xlink:href=\"#DejaVuSans-6c\"/>\n     <use x=\"27.783203\" xlink:href=\"#DejaVuSans-61\"/>\n     <use x=\"89.0625\" xlink:href=\"#DejaVuSans-62\"/>\n     <use x=\"152.539062\" xlink:href=\"#DejaVuSans-65\"/>\n     <use x=\"214.0625\" xlink:href=\"#DejaVuSans-6c\"/>\n     <use x=\"241.845703\" xlink:href=\"#DejaVuSans-3a\"/>\n     <use x=\"275.537109\" xlink:href=\"#DejaVuSans-20\"/>\n     <use x=\"307.324219\" xlink:href=\"#DejaVuSans-31\"/>\n    </g>\n   </g>\n  </g>\n </g>\n <defs>\n  <clipPath id=\"p024f66b8cb\">\n   <rect height=\"73.376471\" width=\"73.376471\" x=\"7.2\" y=\"20.038594\"/>\n  </clipPath>\n  <clipPath id=\"p28c7fdeae9\">\n   <rect height=\"73.376471\" width=\"73.376471\" x=\"95.823529\" y=\"20.038594\"/>\n  </clipPath>\n  <clipPath id=\"pee311e5168\">\n   <rect height=\"73.376471\" width=\"73.376471\" x=\"184.447059\" y=\"20.038594\"/>\n  </clipPath>\n  <clipPath id=\"pe0c938ceb3\">\n   <rect height=\"73.376471\" width=\"73.376471\" x=\"7.2\" y=\"108.090358\"/>\n  </clipPath>\n  <clipPath id=\"p867faa337d\">\n   <rect height=\"73.376471\" width=\"73.376471\" x=\"95.823529\" y=\"108.090358\"/>\n  </clipPath>\n  <clipPath id=\"p40dbf86095\">\n   <rect height=\"73.376471\" width=\"73.376471\" x=\"184.447059\" y=\"108.090358\"/>\n  </clipPath>\n  <clipPath id=\"p9fbcf2189c\">\n   <rect height=\"73.376471\" width=\"73.376471\" x=\"7.2\" y=\"196.142123\"/>\n  </clipPath>\n  <clipPath id=\"pe9ec58e4f3\">\n   <rect height=\"73.376471\" width=\"73.376471\" x=\"95.823529\" y=\"196.142123\"/>\n  </clipPath>\n  <clipPath id=\"p32bbfc93e1\">\n   <rect height=\"73.376471\" width=\"73.376471\" x=\"184.447059\" y=\"196.142123\"/>\n  </clipPath>\n </defs>\n</svg>\n",
      "text/plain": [
       "<Figure size 450x450 with 9 Axes>"
      ]
     },
     "metadata": {},
     "output_type": "display_data"
    }
   ],
   "source": [
    "set_figsize((4.5,4.5))\n",
    "\n",
    "show_img_grid(\n",
    "    [train_images_scaled[i].reshape(new_shape) for i in range(9)],\n",
    "    [f\"label: {jnp.argmax(train_labels[i])}\" for i in range(9)]\n",
    ")"
   ]
  },
  {
   "cell_type": "markdown",
   "id": "76114d82",
   "metadata": {},
   "source": [
    "# Feature Map"
   ]
  },
  {
   "cell_type": "markdown",
   "id": "d592d202",
   "metadata": {},
   "source": [
    "As per the paper."
   ]
  },
  {
   "cell_type": "code",
   "execution_count": 16,
   "id": "725a1acd",
   "metadata": {},
   "outputs": [],
   "source": [
    "def feature_map(x: Scalar) -> Vector:\n",
    "    \"\"\"Definine a feature map per pixel\"\"\"\n",
    "    return jnp.array([\n",
    "        jnp.cos(0.5*jnp.pi*x),\n",
    "        jnp.sin(0.5*jnp.pi*x)\n",
    "    ])"
   ]
  },
  {
   "cell_type": "code",
   "execution_count": 17,
   "id": "b7474f74",
   "metadata": {},
   "outputs": [],
   "source": [
    "train_samples = jax.vmap(feature_map)(train_images_scaled).transpose(0,2,1)  # exchanging axes for convenience\n",
    "test_samples = jax.vmap(feature_map)(test_images_scaled).transpose(0,2,1)    # same as above"
   ]
  },
  {
   "cell_type": "code",
   "execution_count": 18,
   "id": "2e30c78d",
   "metadata": {},
   "outputs": [
    {
     "data": {
      "image/svg+xml": "<?xml version=\"1.0\" encoding=\"utf-8\" standalone=\"no\"?>\n<!DOCTYPE svg PUBLIC \"-//W3C//DTD SVG 1.1//EN\"\n  \"http://www.w3.org/Graphics/SVG/1.1/DTD/svg11.dtd\">\n<svg height=\"199.102594pt\" version=\"1.1\" viewBox=\"0 0 186.872727 199.102594\" width=\"186.872727pt\" xmlns=\"http://www.w3.org/2000/svg\" xmlns:xlink=\"http://www.w3.org/1999/xlink\">\n <metadata>\n  <rdf:RDF xmlns:cc=\"http://creativecommons.org/ns#\" xmlns:dc=\"http://purl.org/dc/elements/1.1/\" xmlns:rdf=\"http://www.w3.org/1999/02/22-rdf-syntax-ns#\">\n   <cc:Work>\n    <dc:type rdf:resource=\"http://purl.org/dc/dcmitype/StillImage\"/>\n    <dc:date>2022-05-02T17:51:16.063453</dc:date>\n    <dc:format>image/svg+xml</dc:format>\n    <dc:creator>\n     <cc:Agent>\n      <dc:title>Matplotlib v3.4.1, https://matplotlib.org/</dc:title>\n     </cc:Agent>\n    </dc:creator>\n   </cc:Work>\n  </rdf:RDF>\n </metadata>\n <defs>\n  <style type=\"text/css\">*{stroke-linecap:butt;stroke-linejoin:round;}</style>\n </defs>\n <g id=\"figure_1\">\n  <g id=\"patch_1\">\n   <path d=\"M 0 199.102594 \nL 186.872727 199.102594 \nL 186.872727 0 \nL 0 0 \nz\n\" style=\"fill:#ffffff;\"/>\n  </g>\n  <g id=\"axes_1\">\n   <g id=\"patch_2\">\n    <path d=\"M 7.2 98.158594 \nL 85.32 98.158594 \nL 85.32 20.038594 \nL 7.2 20.038594 \nz\n\" style=\"fill:#eeeeee;\"/>\n   </g>\n   <g clip-path=\"url(#pec834763b9)\">\n    <image height=\"78.48\" id=\"image5dc5233151\" transform=\"scale(1 -1)translate(0 -78.48)\" width=\"78.48\" x=\"7.2\" xlink:href=\"data:image/png;base64,\niVBORw0KGgoAAAANSUhEUgAAAG0AAABtCAYAAACr+O9WAAACOElEQVR4nO3csa4pURhA4ZnjRiLRewRPodeITqej0qtEQuMBVHqtwkuoPYJKSSQqkbgvcOefy3DGStbX/pltn6zsYjIzJ02S5JEI5afsDeh5RgMyGpDRgIwGZDQgowEZDchoQEYDMhqQ0YCMBmQ0IKMB/Sm6wGq1ypwNBoNCa99ut3Beq9UKrU/lSQMyGpDRgIwGZDQgowGlSYmv0DUajXB+PB5fXnu324XzVqv18tpl86QBGQ3IaEBGAzIakNGAjAZU6n1aUePxOHO2WCwKrb3ZbMJ5r9crtH4RnjQgowEZDchoQEYDMhqQ0YDQ92lF5L2el6darb5pJ8/zpAEZDchoQEYDMhqQ0YCMBlT4U6dvtd1uw3mlUgnnZd6H5fGkARkNyGhARgMyGpDRgIwGhL5Pu16vmbPlchle2+12372dX+NJAzIakNGAjAZkNCCjAX31K3Sj0SicdzqdzFm73X73dr6GJw3IaEBGAzIakNGAjAZkNKBSH83MZrNwPplMwvl+v3/5t6fTaTifz+cvr/1pnjQgowEZDchoQEYDMhqQ0YA++jytXq+H88vl8qmfzvV4xH92s9kM56fTKZyfz+en9/S/PGlARgMyGpDRgIwGZDQgowF99Hla9ClSkuT/W4g8aZq+fO1wOAznh8MhnN/v93De7/czZ+v1Orw2jycNyGhARgMyGpDRgIwG9NWfOunfPGlARgMyGpDRgIwGZDQgowEZDchoQEYDMhqQ0YCMBmQ0IKMB/QWW5Uicpc3uoAAAAABJRU5ErkJggg==\" y=\"-19.678594\"/>\n   </g>\n   <g id=\"matplotlib.axis_1\"/>\n   <g id=\"matplotlib.axis_2\"/>\n   <g id=\"patch_3\">\n    <path d=\"M 7.2 98.158594 \nL 7.2 20.038594 \n\" style=\"fill:none;stroke:#bcbcbc;stroke-linecap:square;stroke-linejoin:miter;stroke-width:0.8;\"/>\n   </g>\n   <g id=\"patch_4\">\n    <path d=\"M 85.32 98.158594 \nL 85.32 20.038594 \n\" style=\"fill:none;stroke:#bcbcbc;stroke-linecap:square;stroke-linejoin:miter;stroke-width:0.8;\"/>\n   </g>\n   <g id=\"patch_5\">\n    <path d=\"M 7.2 98.158594 \nL 85.32 98.158594 \n\" style=\"fill:none;stroke:#bcbcbc;stroke-linecap:square;stroke-linejoin:miter;stroke-width:0.8;\"/>\n   </g>\n   <g id=\"patch_6\">\n    <path d=\"M 7.2 20.038594 \nL 85.32 20.038594 \n\" style=\"fill:none;stroke:#bcbcbc;stroke-linecap:square;stroke-linejoin:miter;stroke-width:0.8;\"/>\n   </g>\n   <g id=\"text_1\">\n    <!-- label: 5 -->\n    <g transform=\"translate(29.567109 14.038594)scale(0.09 -0.09)\">\n     <defs>\n      <path d=\"M 603 4863 \nL 1178 4863 \nL 1178 0 \nL 603 0 \nL 603 4863 \nz\n\" id=\"DejaVuSans-6c\" transform=\"scale(0.015625)\"/>\n      <path d=\"M 2194 1759 \nQ 1497 1759 1228 1600 \nQ 959 1441 959 1056 \nQ 959 750 1161 570 \nQ 1363 391 1709 391 \nQ 2188 391 2477 730 \nQ 2766 1069 2766 1631 \nL 2766 1759 \nL 2194 1759 \nz\nM 3341 1997 \nL 3341 0 \nL 2766 0 \nL 2766 531 \nQ 2569 213 2275 61 \nQ 1981 -91 1556 -91 \nQ 1019 -91 701 211 \nQ 384 513 384 1019 \nQ 384 1609 779 1909 \nQ 1175 2209 1959 2209 \nL 2766 2209 \nL 2766 2266 \nQ 2766 2663 2505 2880 \nQ 2244 3097 1772 3097 \nQ 1472 3097 1187 3025 \nQ 903 2953 641 2809 \nL 641 3341 \nQ 956 3463 1253 3523 \nQ 1550 3584 1831 3584 \nQ 2591 3584 2966 3190 \nQ 3341 2797 3341 1997 \nz\n\" id=\"DejaVuSans-61\" transform=\"scale(0.015625)\"/>\n      <path d=\"M 3116 1747 \nQ 3116 2381 2855 2742 \nQ 2594 3103 2138 3103 \nQ 1681 3103 1420 2742 \nQ 1159 2381 1159 1747 \nQ 1159 1113 1420 752 \nQ 1681 391 2138 391 \nQ 2594 391 2855 752 \nQ 3116 1113 3116 1747 \nz\nM 1159 2969 \nQ 1341 3281 1617 3432 \nQ 1894 3584 2278 3584 \nQ 2916 3584 3314 3078 \nQ 3713 2572 3713 1747 \nQ 3713 922 3314 415 \nQ 2916 -91 2278 -91 \nQ 1894 -91 1617 61 \nQ 1341 213 1159 525 \nL 1159 0 \nL 581 0 \nL 581 4863 \nL 1159 4863 \nL 1159 2969 \nz\n\" id=\"DejaVuSans-62\" transform=\"scale(0.015625)\"/>\n      <path d=\"M 3597 1894 \nL 3597 1613 \nL 953 1613 \nQ 991 1019 1311 708 \nQ 1631 397 2203 397 \nQ 2534 397 2845 478 \nQ 3156 559 3463 722 \nL 3463 178 \nQ 3153 47 2828 -22 \nQ 2503 -91 2169 -91 \nQ 1331 -91 842 396 \nQ 353 884 353 1716 \nQ 353 2575 817 3079 \nQ 1281 3584 2069 3584 \nQ 2775 3584 3186 3129 \nQ 3597 2675 3597 1894 \nz\nM 3022 2063 \nQ 3016 2534 2758 2815 \nQ 2500 3097 2075 3097 \nQ 1594 3097 1305 2825 \nQ 1016 2553 972 2059 \nL 3022 2063 \nz\n\" id=\"DejaVuSans-65\" transform=\"scale(0.015625)\"/>\n      <path d=\"M 750 794 \nL 1409 794 \nL 1409 0 \nL 750 0 \nL 750 794 \nz\nM 750 3309 \nL 1409 3309 \nL 1409 2516 \nL 750 2516 \nL 750 3309 \nz\n\" id=\"DejaVuSans-3a\" transform=\"scale(0.015625)\"/>\n      <path id=\"DejaVuSans-20\" transform=\"scale(0.015625)\"/>\n      <path d=\"M 691 4666 \nL 3169 4666 \nL 3169 4134 \nL 1269 4134 \nL 1269 2991 \nQ 1406 3038 1543 3061 \nQ 1681 3084 1819 3084 \nQ 2600 3084 3056 2656 \nQ 3513 2228 3513 1497 \nQ 3513 744 3044 326 \nQ 2575 -91 1722 -91 \nQ 1428 -91 1123 -41 \nQ 819 9 494 109 \nL 494 744 \nQ 775 591 1075 516 \nQ 1375 441 1709 441 \nQ 2250 441 2565 725 \nQ 2881 1009 2881 1497 \nQ 2881 1984 2565 2268 \nQ 2250 2553 1709 2553 \nQ 1456 2553 1204 2497 \nQ 953 2441 691 2322 \nL 691 4666 \nz\n\" id=\"DejaVuSans-35\" transform=\"scale(0.015625)\"/>\n     </defs>\n     <use xlink:href=\"#DejaVuSans-6c\"/>\n     <use x=\"27.783203\" xlink:href=\"#DejaVuSans-61\"/>\n     <use x=\"89.0625\" xlink:href=\"#DejaVuSans-62\"/>\n     <use x=\"152.539062\" xlink:href=\"#DejaVuSans-65\"/>\n     <use x=\"214.0625\" xlink:href=\"#DejaVuSans-6c\"/>\n     <use x=\"241.845703\" xlink:href=\"#DejaVuSans-3a\"/>\n     <use x=\"275.537109\" xlink:href=\"#DejaVuSans-20\"/>\n     <use x=\"307.324219\" xlink:href=\"#DejaVuSans-35\"/>\n    </g>\n   </g>\n  </g>\n  <g id=\"axes_2\">\n   <g id=\"patch_7\">\n    <path d=\"M 101.552727 98.158594 \nL 179.672727 98.158594 \nL 179.672727 20.038594 \nL 101.552727 20.038594 \nz\n\" style=\"fill:#eeeeee;\"/>\n   </g>\n   <g clip-path=\"url(#pe13b8e5682)\">\n    <image height=\"78.48\" id=\"image3bcd358924\" transform=\"scale(1 -1)translate(0 -78.48)\" width=\"78.48\" x=\"101.552727\" xlink:href=\"data:image/png;base64,\niVBORw0KGgoAAAANSUhEUgAAAG0AAABtCAYAAACr+O9WAAACPUlEQVR4nO3cP445cRyH8Rl+hfhTOIBriMYJJNTuoHITvUsoHEHnBEKpFAoSIWHrLeYjfmNins3zat8hk332m5jMrjRJkmcilMq3L0DvMxqQ0YCMBmQ0IKMBGQ3IaEBGAzIakNGAjAZkNCCjARkN6F+Rb16tVsP9fr/nev9arZa53W63XO9dZp40IKMBGQ3IaEBGAzIaUKEf+fN+pN/tduF+vV4zt9VqFb623+//1zWVgScNyGhARgMyGpDRgIwGZDSgQu/T0jTNtecxHA7D/fmM/8OryGvLy5MGZDQgowEZDchoQEYDMhpQmhT4lRSPxyPcK5Xy/s68uvZOpxPu+/3+k5fzS3l/aspkNCCjARkNyGhARgMyGtBX/+5xMBiE+3K5/OTlvOXVPeQ370E9aUBGAzIakNGAjAZkNCCjARX6PK3dbof74XAId/LzNu/T9IvRgIwGZDQgowEZDajQRzPH4zHcZ7NZuJ9Op3DvdruZ22azCV9L5kkDMhqQ0YCMBmQ0IKMBGQ2o0EczeZ3P53BvNBqZ22g0Cl87n8/Dvdfrhft0Og33yWQS7nl40oCMBmQ0IKMBGQ3IaEBGAyr0eVpezWYz3KOvfVgsFuFr1+t1uG+323Afj8fhXiRPGpDRgIwGZDQgowEZDchoQKV+npbHq2dx9Xo93C+XS7i3Wq23r+lTPGlARgMyGpDRgIwGZDSgP/uR/y/zpAEZDchoQEYDMhqQ0YCMBmQ0IKMBGQ3IaEBGAzIakNGAjAb0A2kRWKEHUFjHAAAAAElFTkSuQmCC\" y=\"-19.678594\"/>\n   </g>\n   <g id=\"matplotlib.axis_3\"/>\n   <g id=\"matplotlib.axis_4\"/>\n   <g id=\"patch_8\">\n    <path d=\"M 101.552727 98.158594 \nL 101.552727 20.038594 \n\" style=\"fill:none;stroke:#bcbcbc;stroke-linecap:square;stroke-linejoin:miter;stroke-width:0.8;\"/>\n   </g>\n   <g id=\"patch_9\">\n    <path d=\"M 179.672727 98.158594 \nL 179.672727 20.038594 \n\" style=\"fill:none;stroke:#bcbcbc;stroke-linecap:square;stroke-linejoin:miter;stroke-width:0.8;\"/>\n   </g>\n   <g id=\"patch_10\">\n    <path d=\"M 101.552727 98.158594 \nL 179.672727 98.158594 \n\" style=\"fill:none;stroke:#bcbcbc;stroke-linecap:square;stroke-linejoin:miter;stroke-width:0.8;\"/>\n   </g>\n   <g id=\"patch_11\">\n    <path d=\"M 101.552727 20.038594 \nL 179.672727 20.038594 \n\" style=\"fill:none;stroke:#bcbcbc;stroke-linecap:square;stroke-linejoin:miter;stroke-width:0.8;\"/>\n   </g>\n   <g id=\"text_2\">\n    <!-- label: 0 -->\n    <g transform=\"translate(123.919837 14.038594)scale(0.09 -0.09)\">\n     <defs>\n      <path d=\"M 2034 4250 \nQ 1547 4250 1301 3770 \nQ 1056 3291 1056 2328 \nQ 1056 1369 1301 889 \nQ 1547 409 2034 409 \nQ 2525 409 2770 889 \nQ 3016 1369 3016 2328 \nQ 3016 3291 2770 3770 \nQ 2525 4250 2034 4250 \nz\nM 2034 4750 \nQ 2819 4750 3233 4129 \nQ 3647 3509 3647 2328 \nQ 3647 1150 3233 529 \nQ 2819 -91 2034 -91 \nQ 1250 -91 836 529 \nQ 422 1150 422 2328 \nQ 422 3509 836 4129 \nQ 1250 4750 2034 4750 \nz\n\" id=\"DejaVuSans-30\" transform=\"scale(0.015625)\"/>\n     </defs>\n     <use xlink:href=\"#DejaVuSans-6c\"/>\n     <use x=\"27.783203\" xlink:href=\"#DejaVuSans-61\"/>\n     <use x=\"89.0625\" xlink:href=\"#DejaVuSans-62\"/>\n     <use x=\"152.539062\" xlink:href=\"#DejaVuSans-65\"/>\n     <use x=\"214.0625\" xlink:href=\"#DejaVuSans-6c\"/>\n     <use x=\"241.845703\" xlink:href=\"#DejaVuSans-3a\"/>\n     <use x=\"275.537109\" xlink:href=\"#DejaVuSans-20\"/>\n     <use x=\"307.324219\" xlink:href=\"#DejaVuSans-30\"/>\n    </g>\n   </g>\n  </g>\n  <g id=\"axes_3\">\n   <g id=\"patch_12\">\n    <path d=\"M 7.2 191.902594 \nL 85.32 191.902594 \nL 85.32 113.782594 \nL 7.2 113.782594 \nz\n\" style=\"fill:#eeeeee;\"/>\n   </g>\n   <g clip-path=\"url(#p087deafa4f)\">\n    <image height=\"78.48\" id=\"imagede329a3072\" transform=\"scale(1 -1)translate(0 -78.48)\" width=\"78.48\" x=\"7.2\" xlink:href=\"data:image/png;base64,\niVBORw0KGgoAAAANSUhEUgAAAG0AAABtCAYAAACr+O9WAAACJ0lEQVR4nO3coYoyURiA4R3ZYDFYFASrwahJjTaTN2Dxpgw2b8JmEwyCF2ATBIPJYvTPf5hv2TnKzMu+T/2YM4d9PeCga/Z6vV5fQqmVvQH9ntGAjAZkNCCjARkNyGhARgMyGpDRgIwGZDQgowEZDchoQN+pC/R6vdzZ+XxOXT70fD5zZ/V6/aP3LpMnDchoQEYDMhqQ0YCMBpSV+RW67XYbzmezWeG1m81mOL/f7+G8Vqvu67m6O1MuowEZDchoQEYDMhqQ0YBKfU5LNZ1Oc2e73S5p7W63G84vl0vS+ik8aUBGAzIakNGAjAZkNCCjAaGf01JkWZZ0fZl/Nk8akNGAjAZkNCCjARkNyGhAyf/qVFWdTifp+tvt9qadvJ8nDchoQEYDMhqQ0YCMBmQ0IPRzWvSZ2HA4DK+9Xq+F1y6bJw3IaEBGAzIakNGAjAZU6bf88/k8nLfb7dzZ8Xh8826qw5MGZDQgowEZDchoQEYDMhpQqc9po9EonB8Oh3DeaDQK33symYTz/X5feO1P86QBGQ3IaEBGAzIakNGAjAb00Z+kOJ1O4XwwGHzq1snW63U47/f74Xw8Hr9zO//xpAEZDchoQEYDMhqQ0YCMBoT+6cDH41H42uVyGc5Xq1U4b7Va4XyxWOTONptNeO1PPGlARgMyGpDRgIwGZDQg9Fv+v8qTBmQ0IKMBGQ3IaEBGAzIakNGAjAZkNCCjARkNyGhARgMyGtA/Q6ZQ2XUBOrIAAAAASUVORK5CYII=\" y=\"-113.422594\"/>\n   </g>\n   <g id=\"matplotlib.axis_5\"/>\n   <g id=\"matplotlib.axis_6\"/>\n   <g id=\"patch_13\">\n    <path d=\"M 7.2 191.902594 \nL 7.2 113.782594 \n\" style=\"fill:none;stroke:#bcbcbc;stroke-linecap:square;stroke-linejoin:miter;stroke-width:0.8;\"/>\n   </g>\n   <g id=\"patch_14\">\n    <path d=\"M 85.32 191.902594 \nL 85.32 113.782594 \n\" style=\"fill:none;stroke:#bcbcbc;stroke-linecap:square;stroke-linejoin:miter;stroke-width:0.8;\"/>\n   </g>\n   <g id=\"patch_15\">\n    <path d=\"M 7.2 191.902594 \nL 85.32 191.902594 \n\" style=\"fill:none;stroke:#bcbcbc;stroke-linecap:square;stroke-linejoin:miter;stroke-width:0.8;\"/>\n   </g>\n   <g id=\"patch_16\">\n    <path d=\"M 7.2 113.782594 \nL 85.32 113.782594 \n\" style=\"fill:none;stroke:#bcbcbc;stroke-linecap:square;stroke-linejoin:miter;stroke-width:0.8;\"/>\n   </g>\n   <g id=\"text_3\">\n    <!-- label: 5 -->\n    <g transform=\"translate(29.567109 107.782594)scale(0.09 -0.09)\">\n     <use xlink:href=\"#DejaVuSans-6c\"/>\n     <use x=\"27.783203\" xlink:href=\"#DejaVuSans-61\"/>\n     <use x=\"89.0625\" xlink:href=\"#DejaVuSans-62\"/>\n     <use x=\"152.539062\" xlink:href=\"#DejaVuSans-65\"/>\n     <use x=\"214.0625\" xlink:href=\"#DejaVuSans-6c\"/>\n     <use x=\"241.845703\" xlink:href=\"#DejaVuSans-3a\"/>\n     <use x=\"275.537109\" xlink:href=\"#DejaVuSans-20\"/>\n     <use x=\"307.324219\" xlink:href=\"#DejaVuSans-35\"/>\n    </g>\n   </g>\n  </g>\n  <g id=\"axes_4\">\n   <g id=\"patch_17\">\n    <path d=\"M 101.552727 191.902594 \nL 179.672727 191.902594 \nL 179.672727 113.782594 \nL 101.552727 113.782594 \nz\n\" style=\"fill:#eeeeee;\"/>\n   </g>\n   <g clip-path=\"url(#pbf028e9d4c)\">\n    <image height=\"78.48\" id=\"imagea9d32c4a04\" transform=\"scale(1 -1)translate(0 -78.48)\" width=\"78.48\" x=\"101.552727\" xlink:href=\"data:image/png;base64,\niVBORw0KGgoAAAANSUhEUgAAAG0AAABtCAYAAACr+O9WAAACO0lEQVR4nO3cMYrqUBhA4UQeaCOChQuws3EHbsIt2Ggj7sRKK12Cu3AFgnauQCzsRETfCvJnMjHEM5yv/Um4w5kLuURN3+/3OxFKo+4FqDijARkNyGhARgMyGpDRgIwGZDQgowEZDchoQEYDMhqQ0YD+VXnzy+USznu9Xqn7n8/nzFm/3y9172/mTgMyGpDRgIwGZDQgowGlVX6ELk3TUte3Wq1wfr/fM2fdbje89nq9/mpN38CdBmQ0IKMBGQ3IaEBGAzIaUKWvZvJU+S2r+XwezvPOkN/8DTB3GpDRgIwGZDQgowEZDchoQLW+T6vzLPR4PMJ5s9kM57vdLpyPx+PCa/opdxqQ0YCMBmQ0IKMBGQ3IaEC1ntMWi0U4Xy6XH1zNZ9V5BnWnARkNyGhARgMyGpDRgIwGVOk5bb/fh/PRaBTOv/mzh57TVIjRgIwGZDQgowEZDajSR/48w+EwnB+Px3C+Wq0yZ9Pp9Fdr+ikf+VWI0YCMBmQ0IKMBGQ3IaEC1/iTF4XAI541G/D81m80yZ6fTKbx2vV6H8+12G84Hg0E4r5I7DchoQEYDMhqQ0YCMBmQ0oFrfp+WJfsI9SZKk3W5nzp7PZ3htp9MJ57fbLZxPJpNwvtlswnkZ7jQgowEZDchoQEYDMhqQ0YC++pxWRt67uLw/O+9zja/Xq/CaPsWdBmQ0IKMBGQ3IaEBGA/qzj/x/mTsNyGhARgMyGpDRgIwGZDQgowEZDchoQEYDMhqQ0YCMBmQ0oP/VyXVINZoCoAAAAABJRU5ErkJggg==\" y=\"-113.422594\"/>\n   </g>\n   <g id=\"matplotlib.axis_7\"/>\n   <g id=\"matplotlib.axis_8\"/>\n   <g id=\"patch_18\">\n    <path d=\"M 101.552727 191.902594 \nL 101.552727 113.782594 \n\" style=\"fill:none;stroke:#bcbcbc;stroke-linecap:square;stroke-linejoin:miter;stroke-width:0.8;\"/>\n   </g>\n   <g id=\"patch_19\">\n    <path d=\"M 179.672727 191.902594 \nL 179.672727 113.782594 \n\" style=\"fill:none;stroke:#bcbcbc;stroke-linecap:square;stroke-linejoin:miter;stroke-width:0.8;\"/>\n   </g>\n   <g id=\"patch_20\">\n    <path d=\"M 101.552727 191.902594 \nL 179.672727 191.902594 \n\" style=\"fill:none;stroke:#bcbcbc;stroke-linecap:square;stroke-linejoin:miter;stroke-width:0.8;\"/>\n   </g>\n   <g id=\"patch_21\">\n    <path d=\"M 101.552727 113.782594 \nL 179.672727 113.782594 \n\" style=\"fill:none;stroke:#bcbcbc;stroke-linecap:square;stroke-linejoin:miter;stroke-width:0.8;\"/>\n   </g>\n   <g id=\"text_4\">\n    <!-- label: 0 -->\n    <g transform=\"translate(123.919837 107.782594)scale(0.09 -0.09)\">\n     <use xlink:href=\"#DejaVuSans-6c\"/>\n     <use x=\"27.783203\" xlink:href=\"#DejaVuSans-61\"/>\n     <use x=\"89.0625\" xlink:href=\"#DejaVuSans-62\"/>\n     <use x=\"152.539062\" xlink:href=\"#DejaVuSans-65\"/>\n     <use x=\"214.0625\" xlink:href=\"#DejaVuSans-6c\"/>\n     <use x=\"241.845703\" xlink:href=\"#DejaVuSans-3a\"/>\n     <use x=\"275.537109\" xlink:href=\"#DejaVuSans-20\"/>\n     <use x=\"307.324219\" xlink:href=\"#DejaVuSans-30\"/>\n    </g>\n   </g>\n  </g>\n </g>\n <defs>\n  <clipPath id=\"pec834763b9\">\n   <rect height=\"78.12\" width=\"78.12\" x=\"7.2\" y=\"20.038594\"/>\n  </clipPath>\n  <clipPath id=\"pe13b8e5682\">\n   <rect height=\"78.12\" width=\"78.12\" x=\"101.552727\" y=\"20.038594\"/>\n  </clipPath>\n  <clipPath id=\"p087deafa4f\">\n   <rect height=\"78.12\" width=\"78.12\" x=\"7.2\" y=\"113.782594\"/>\n  </clipPath>\n  <clipPath id=\"pbf028e9d4c\">\n   <rect height=\"78.12\" width=\"78.12\" x=\"101.552727\" y=\"113.782594\"/>\n  </clipPath>\n </defs>\n</svg>\n",
      "text/plain": [
       "<Figure size 310x310 with 4 Axes>"
      ]
     },
     "metadata": {},
     "output_type": "display_data"
    }
   ],
   "source": [
    "set_figsize((3.1,3.1))\n",
    "\n",
    "# printing the images after the feature extraction\n",
    "show_img_grid(\n",
    "    [train_samples[i,:,j].reshape(new_shape) for j in range(2) for i in range(2)],\n",
    "    [f'label: {jnp.argmax(train_labels[i])}' for i in range(2)]*2,\n",
    "    \n",
    ")"
   ]
  },
  {
   "cell_type": "code",
   "execution_count": 19,
   "id": "8ec309fc",
   "metadata": {},
   "outputs": [
    {
     "name": "stdout",
     "output_type": "stream",
     "text": [
      "Train data shape: (60000, 196, 2) | Test data shape: (10000, 196, 2)\n"
     ]
    }
   ],
   "source": [
    "print(f'Train data shape: {train_samples.shape} | Test data shape: {test_samples.shape}')"
   ]
  },
  {
   "cell_type": "code",
   "execution_count": 20,
   "id": "16d2468a",
   "metadata": {},
   "outputs": [],
   "source": [
    "# define train data for convenience\n",
    "train_data = (train_samples, train_labels)\n",
    "test_data = (test_samples, test_labels)"
   ]
  },
  {
   "cell_type": "markdown",
   "id": "06c26e10",
   "metadata": {},
   "source": [
    "## MPS Utilities"
   ]
  },
  {
   "cell_type": "code",
   "execution_count": 21,
   "id": "fd500800",
   "metadata": {},
   "outputs": [],
   "source": [
    "def random_mps(\n",
    "        key: Key,\n",
    "        initializer: Callable,\n",
    "        size: int,\n",
    "        local_dim: int,\n",
    "        bond_dim: int,\n",
    "        labels_dim: Optional[int]=1,\n",
    "    ) -> MPS:\n",
    "    \"\"\"\n",
    "    Generate a random MPS where each core tensor\n",
    "    is drawn according to the initializer (see JAX docs). \n",
    "    \"\"\"\n",
    "    left   = (1, local_dim, bond_dim)\n",
    "    right  = (bond_dim, local_dim, labels_dim)\n",
    "    middle = (bond_dim, local_dim, bond_dim)\n",
    "\n",
    "    if size < 2:\n",
    "        raise ValueError('Expectetd at least 2 sites for the MPS')\n",
    "    elif size == 2:\n",
    "        shapes = [left, right]\n",
    "    else:       \n",
    "        shapes = [left] + [middle]*(size-2) + [right]\n",
    "\n",
    "    # generate multiple keys, so all tensors are different\n",
    "    keys = jax.random.split(key, num=size)\n",
    "\n",
    "    return jax.tree_map(initializer, list(keys), shapes)"
   ]
  },
  {
   "cell_type": "code",
   "execution_count": 22,
   "id": "270d5741",
   "metadata": {},
   "outputs": [],
   "source": [
    "def flip_left_right(\n",
    "        params: MPS, \n",
    "        swapaxes: Optional[Tuple[int,int]]=(0,2)\n",
    "    ) -> MPS:\n",
    "    \"\"\"\n",
    "    A helper to flip a mps from left to right.\n",
    "    The left and right legs are interchanged.\n",
    "    The assumed indexing is as follows:\n",
    "    0 --o-- 2     2 --o-- 0 \n",
    "        |     =>      |\n",
    "        1             1\n",
    "    \"\"\"\n",
    "    swap = lambda t: t.swapaxes(*swapaxes)\n",
    "    return list(reversed(jax.tree_map(swap, params)))"
   ]
  },
  {
   "cell_type": "code",
   "execution_count": 23,
   "id": "c633ccfd",
   "metadata": {},
   "outputs": [],
   "source": [
    "# flip data so we have a natural order for the main loop\n",
    "def reverse_data(\n",
    "        params: MPS, \n",
    "        data: Tuple[Tensor, Matrix],\n",
    "        wings: List[Matrix]\n",
    "    ) -> Tuple[MPS, Tuple[Tensor, Matrix]]:\n",
    "    \"\"\"A helper to reverse data\"\"\"\n",
    "    samples, labels = data\n",
    "    params_rev = flip_left_right(params)\n",
    "    data_rev = (\n",
    "        jnp.flip(samples, axis=1), \n",
    "        jnp.flip(labels, axis=0)\n",
    "    )\n",
    "    wings_rev = wings[::-1]\n",
    "    return params_rev, data_rev, wings_rev"
   ]
  },
  {
   "cell_type": "markdown",
   "id": "6285f566",
   "metadata": {},
   "source": [
    "# Bond Truncation"
   ]
  },
  {
   "cell_type": "code",
   "execution_count": 24,
   "id": "a70507ef",
   "metadata": {},
   "outputs": [],
   "source": [
    "def suggest_truncation(\n",
    "        λ: Vector,\n",
    "        ε: Optional[float]=1e-3  # truncation error tolerance\n",
    "    ) -> Tuple[jnp.ndarray, jnp.ndarray, int]:\n",
    "    \"\"\"\n",
    "    Suggest a truncation index of the spectrum \n",
    "    such that the truncation error is lower than ε.\n",
    "    The spectrum is assumed to be in the decreasing order.\n",
    "    \"\"\"\n",
    "    cum_sums = jnp.cumsum(λ / λ.sum())\n",
    "    return jnp.searchsorted(cum_sums, 1-ε)"
   ]
  },
  {
   "cell_type": "markdown",
   "id": "e72bb275",
   "metadata": {},
   "source": [
    "# Training"
   ]
  },
  {
   "cell_type": "code",
   "execution_count": 25,
   "id": "1790c59d",
   "metadata": {},
   "outputs": [],
   "source": [
    "@jit\n",
    "def project_sample(\n",
    "        params: MPS, \n",
    "        sample: Matrix\n",
    "    ) -> List[Matrix]:\n",
    "    \"\"\"\n",
    "    A helper to project a single sample onto the mps\n",
    "    sites, e.g. contracting the local dimension only.\n",
    "    --o--o--...--o--     \n",
    "      |  |       |   => --o--o--...--o--\n",
    "      o  o       o\n",
    "    \"\"\"\n",
    "    mult = lambda t, s: jnp.einsum('pjq...,j->pq...', t, s)\n",
    "    return jax.tree_map(mult, params, list(sample))"
   ]
  },
  {
   "cell_type": "code",
   "execution_count": null,
   "id": "9918dc0c",
   "metadata": {},
   "outputs": [],
   "source": [
    "# @jit\n",
    "# def compute_right_wings(\n",
    "#         params: List[DeviceArray], \n",
    "#         samples: DeviceArray\n",
    "#     ) -> List[DeviceArray]:\n",
    "#     \"\"\"Precompute all the right wings\"\"\"\n",
    "#     # get the projections of samples onto the mps sites\n",
    "#     projs = jax.vmap(partial(project_sample, params))(samples)\n",
    "#     # helper to contract neighbouring sites\n",
    "#     mult = lambda x, y: jnp.einsum('mpi,miq->mpq', x, y)\n",
    "#     # get the cumulative products computed from right to left\n",
    "#     # swapaxes axes are (1,2), as the first index in each tensor is the sample size\n",
    "#     cum_prods = accumulate(flip_left_right(projs, swapaxes=(1,2)), mult)\n",
    "#     # reverse before return so the indexing is natural again\n",
    "#     # unfortunately we can't access the iterator ``accumulate`` backwords\n",
    "#     return list(x.squeeze(axis=1) for x in cum_prods)[::-1]"
   ]
  },
  {
   "cell_type": "code",
   "execution_count": 26,
   "id": "9b75247b",
   "metadata": {},
   "outputs": [],
   "source": [
    "# def cross_entropy(preds: DeviceArray, labels: DeviceArray) -> jnp.double:\n",
    "#     \"\"\"Multinomial cross entropy\"\"\"\n",
    "#     return -jnp.mean(jnp.sum(preds * labels, axis=1))\n",
    "\n",
    "# def loss(params: DeviceArray, samples: Tuple[DeviceArray, DeviceArray]) -> jnp.double:\n",
    "#     \"\"\"A modified loss function\"\"\"\n",
    "#     samples, labels = samples\n",
    "#     preds = jnp.einsum('mp,mij,mq,pijql->ml', *samples, params)\n",
    "#     logprobas = jax.nn.log_softmax(preds, axis=1)\n",
    "#     return cross_entropy(logprobas, labels)\n",
    "\n",
    "def loss(\n",
    "        params: MPS,\n",
    "        data: Tuple[Tensor, Matrix]\n",
    "    ) -> jnp.double:\n",
    "    \"\"\"Loss function with respect to B - Eq.6\"\"\"\n",
    "    samples, labels = data\n",
    "    preds = jnp.einsum('mp,mij,mq,pijql->ml', *samples, params)\n",
    "    err = jnp.power(labels - preds, 2)\n",
    "    return 0.5 * jnp.sum(err)                                   # squared error\n",
    "    # return 0.5 * jnp.mean(jnp.sum(err, axis=1))               # mean squared error\n",
    "    # return 0.5 * jnp.mean(jnp.log(jnp.power(err, 2) + 1))     # mean log squared error"
   ]
  },
  {
   "cell_type": "code",
   "execution_count": 27,
   "id": "dc0bb716",
   "metadata": {},
   "outputs": [],
   "source": [
    "def grad_manual(\n",
    "        params: MPS,\n",
    "        data: Tuple[Tensor, Matrix]\n",
    "    ) -> jnp.double:\n",
    "    \"\"\"Manually calculate the squared loss gradient - Fig.6(c-d)\"\"\"\n",
    "    Φ, labels = data\n",
    "    preds = jnp.einsum('mp,mij,mq,pijql->ml', *Φ, params)\n",
    "    g = jnp.einsum('mp,mij,mq,ml->pijql', *Φ, (preds - labels))\n",
    "    return g"
   ]
  },
  {
   "cell_type": "code",
   "execution_count": null,
   "id": "e566f167",
   "metadata": {},
   "outputs": [],
   "source": [
    "# # The part below is only used by the SGD version of the algorithm\n",
    "\n",
    "# from itertools import count\n",
    "# from jax.example_libraries import optimizers\n",
    "\n",
    "# batch_size = 1000\n",
    "# num_epochs = 5\n",
    "# train_size = train_data.shape[0]\n",
    "\n",
    "# # determining the step size for SGD\n",
    "# num_complete_batches, leftover = divmod(train_size, batch_size)\n",
    "# num_batches = num_complete_batches + bool(leftover)\n",
    "\n",
    "# opt_init, opt_update, get_params = optimizers.adam(step_size=α)\n",
    "\n",
    "# @jit\n",
    "# def update(i, opt_state, batch):\n",
    "#     params = get_params(opt_state)\n",
    "#     return opt_update(i, grad(loss)(params, batch), opt_state)\n",
    "\n",
    "# def data_iterator():\n",
    "#     while True:\n",
    "#         perm = jax.random.permutation(key_run, train_size)\n",
    "#         for i in range(num_batches):\n",
    "#             batch_idx = perm[i * batch_size:(i + 1) * batch_size]\n",
    "#             yield Φ[batch_idx,:,:,:], train_labels[batch_idx,:]\n",
    "\n",
    "# def optimize_sgd(params):\n",
    "#     # iteration counter\n",
    "#     itercounter = count()\n",
    "\n",
    "#     # get access to the data batches stream\n",
    "#     batches = data_iterator()\n",
    "\n",
    "#     # optimization state\n",
    "#     opt_state = opt_init(params)\n",
    "    \n",
    "#     for _ in range(num_epochs):\n",
    "#         # update parameters\n",
    "#         for _ in range(num_batches):\n",
    "#             opt_state = update(next(itercounter), opt_state, next(batches))\n",
    "        \n",
    "#     # get new params\n",
    "#     new_params = get_params(opt_state)\n",
    "\n",
    "#     return new_params"
   ]
  },
  {
   "cell_type": "markdown",
   "id": "7c306bd4",
   "metadata": {},
   "source": [
    "# Initialize MPS"
   ]
  },
  {
   "cell_type": "code",
   "execution_count": null,
   "id": "7b285e3c",
   "metadata": {},
   "outputs": [],
   "source": [
    "key = jax.random.PRNGKey(seed)\n",
    "\n",
    "# getting the parameters\n",
    "num_samples, num_features, dim_features = train_samples.shape\n",
    "num_classes = train_labels.shape[1]\n",
    "\n",
    "# the initializer\n",
    "# initializer = jax.nn.initializers.variance_scaling(\n",
    "#     in_axis=(0,1), out_axis=2, scale=1.95, \n",
    "#     mode='fan_in', distribution='uniform')\n",
    "\n",
    "initializer = jax.nn.initializers.uniform(scale=1.0)\n",
    "\n",
    "# generating a random mps according to the initialiser\n",
    "mps = random_mps(\n",
    "    key, \n",
    "    initializer, \n",
    "    size=num_features, \n",
    "    local_dim=dim_features, \n",
    "    bond_dim=bond_dim,        # WARNING: to avoid unnecessary truncation, set bond_dim >= num_classes \n",
    "    labels_dim=num_classes\n",
    ")\n",
    "\n",
    "print(f'The MPS dimensions: size={num_features}, local_dim={dim_features}, bond_dim={bond_dim}')\n",
    "print(f'Total number of paramters: {bond_dim**2 * dim_features * num_features}')"
   ]
  },
  {
   "cell_type": "code",
   "execution_count": null,
   "id": "affa5fb9",
   "metadata": {},
   "outputs": [],
   "source": [
    "def left_normalize(\n",
    "        params: MPS, \n",
    "        max_bond: int\n",
    "    ) -> MPS:\n",
    "    \"\"\"Normalise the mps into the left-canonical form\"\"\"\n",
    "    size = len(params)\n",
    "    for i in range(size):\n",
    "        # get the current tensor\n",
    "        M = params[i]\n",
    "        # reshape into a matrix by merging left/bottom legs\n",
    "        p,j,_ = M.shape\n",
    "        M = M.reshape(p*j, -1)\n",
    "        # perform SVD\n",
    "        U, s, Vh = jnp.linalg.svd(M, full_matrices=False)\n",
    "        # cutting off the bond dimension\n",
    "        U  = U[:,:max_bond]\n",
    "        s = s[:max_bond]\n",
    "        Vh = Vh[:max_bond,:]\n",
    "        # assign the current tensor to U and reshape\n",
    "        params[i] = U.reshape(U.shape[0] // j, j, U.shape[1])\n",
    "        # assigining the labels to the next tensor and reshape\n",
    "        Vh = Vh.reshape(U.shape[1], -1)\n",
    "        if i < size-1:\n",
    "            M_next = params[i+1].reshape(Vh.shape[1], -1)\n",
    "            params[i+1] = jnp.einsum('i,ij,jk->ik', s, Vh, M_next).reshape(U.shape[1], j, -1)\n",
    "    return params"
   ]
  },
  {
   "cell_type": "code",
   "execution_count": null,
   "id": "67dfaa0d",
   "metadata": {},
   "outputs": [],
   "source": [
    "# left normalize\n",
    "mps = left_normalize(mps, max_bond=bond_dim)"
   ]
  },
  {
   "cell_type": "code",
   "execution_count": null,
   "id": "de528eaa",
   "metadata": {},
   "outputs": [],
   "source": [
    "# checking that we have the left-canonical form\n",
    "mult = lambda e, t: jnp.einsum('pq,pjr,qjv->rv', e, t, t.conj())\n",
    "assert jnp.allclose(functools.reduce(mult, mps, jnp.eye(1)), jnp.eye(num_classes))"
   ]
  },
  {
   "cell_type": "code",
   "execution_count": null,
   "id": "d9f4c21c",
   "metadata": {},
   "outputs": [],
   "source": [
    "print([t.shape for t in (*mps[:3],*mps[-3:])])"
   ]
  },
  {
   "cell_type": "code",
   "execution_count": null,
   "id": "83a62af2",
   "metadata": {},
   "outputs": [],
   "source": [
    "# extract the dimension corresponding to\n",
    "# the labels, so we can move it during optimisation\n",
    "mps[-1] = jnp.expand_dims(mps[-1], axis=2)"
   ]
  },
  {
   "cell_type": "markdown",
   "id": "10469da4",
   "metadata": {},
   "source": [
    "# Precompute the left/right wings"
   ]
  },
  {
   "cell_type": "markdown",
   "id": "0cb7a764",
   "metadata": {},
   "source": [
    "Initialise the data structure to store left/right wings. For more details see the last paragraph on p4 in the paper. Below, I assume that the tensor with labels is the last in the MPS, and the sweeps are starting from the left, which is just a convenience to avoid reversing lists during the accummulation of the results."
   ]
  },
  {
   "cell_type": "code",
   "execution_count": null,
   "id": "8e4f90ea",
   "metadata": {},
   "outputs": [],
   "source": [
    "@jit\n",
    "def init_wings(\n",
    "        params: MPS,\n",
    "        data: Tuple[Tensor, Matrix]\n",
    "    ) -> List[Vector]:\n",
    "    \"\"\"Initialise the local projections to keep linear scaling\"\"\"\n",
    "    samples, _ = data\n",
    "    \n",
    "    # select subset except the last two\n",
    "    params_  = params[:-2]      # up to the last two\n",
    "    samples_ = samples[:,:-2,:] # same as above\n",
    "    \n",
    "    # get the projections of samples onto the mps sites\n",
    "    projs = jax.vmap(functools.partial(project_sample, params_))(samples_) \n",
    "\n",
    "    # helper to contract neighbouring sites\n",
    "    mult = lambda x, y: jnp.einsum('mpi,miq->mpq', x, y)\n",
    "    # get the cumulative products computed from left to right\n",
    "    cum_prods = itertools.accumulate(projs, mult)\n",
    "\n",
    "    wings = [p.squeeze(axis=1) for p in cum_prods]\n",
    "    wings += [jnp.asarray(None)]*2  # the last two sites are dummy\n",
    "    return wings  "
   ]
  },
  {
   "cell_type": "code",
   "execution_count": null,
   "id": "974d44ea",
   "metadata": {},
   "outputs": [],
   "source": [
    "# initialize the wings\n",
    "wings = init_wings(mps, train_data)\n",
    "# normalize\n",
    "wings = jax.tree_map(lambda t: t / t.max(), wings)"
   ]
  },
  {
   "cell_type": "code",
   "execution_count": null,
   "id": "5d33502e",
   "metadata": {},
   "outputs": [],
   "source": [
    "# @jit\n",
    "# def compute_right_wings(\n",
    "#         params: List[DeviceArray], \n",
    "#         samples: DeviceArray\n",
    "#     ) -> List[DeviceArray]:\n",
    "#     \"\"\"Precompute all the right wings\"\"\"\n",
    "#     # get the projections of samples onto the mps sites\n",
    "#     projs = jax.vmap(partial(project_sample, params))(samples)\n",
    "#     # helper to contract neighbouring sites\n",
    "#     mult = lambda x, y: jnp.einsum('mpi,miq->mpq', x, y)\n",
    "#     # get the cumulative products computed from right to left\n",
    "#     # swapaxes axes are (1,2), as the first index in each tensor is the sample size\n",
    "#     cum_prods = accumulate(flip_left_right(projs, swapaxes=(1,2)), mult)\n",
    "#     # reverse before return so the indexing is natural again\n",
    "#     # unfortunately we can't access the iterator ``accumulate`` backwords\n",
    "#     return list(x.squeeze(axis=1) for x in cum_prods)[::-1]"
   ]
  },
  {
   "cell_type": "markdown",
   "id": "57818491",
   "metadata": {},
   "source": [
    "# Plotting Taylor Approximation vs. Step Size"
   ]
  },
  {
   "cell_type": "code",
   "execution_count": null,
   "id": "c1a38f56",
   "metadata": {},
   "outputs": [],
   "source": [
    "# def plot_taylor_apprx(β, data, num_iter=30):\n",
    "#     dotp = lambda x,y : jnp.einsum('...,...->', x, y)\n",
    "#     dβ = grad_manual(β, data)\n",
    "#     Δ = jax.random.uniform(key, shape=β.shape)\n",
    "#     f = loss(β, data)\n",
    "\n",
    "#     apprx, norms = [], []\n",
    "#     for _ in range(num_iter):\n",
    "#         Δf = loss(β + Δ, data)\n",
    "#         apprx.append(jnp.linalg.norm(Δf - f - dotp(dβ, Δ)))\n",
    "#         norms.append(dotp(Δ, Δ))\n",
    "#         Δ /= 2\n",
    "\n",
    "#     plot(jnp.arange(num_iter), [apprx, norms],\n",
    "#          yscale='log', legend=['$\\|f(x+Δx) - f(x) - ⟨∇f,Δx⟩\\|^2$', '$\\|Δx\\|^2$'],\n",
    "#          xlabel='Iterations', ylabel='$log{\\|\\cdot\\|^2}$')\n",
    "\n",
    "# pos = 0\n",
    "# right_wings = compute_right_wings(mps[2:], train_data[:,2:,:])\n",
    "# B = jnp.einsum('lpik,kjq->lpijq', mps[pos], mps[pos+1])\n",
    "# inputs = train_data[:,pos:pos+2,:]\n",
    "# left_wing = jnp.ones(shape=(num_samples,1))\n",
    "# Φ = [left_wing, inputs, right_wings[pos]]\n",
    "\n",
    "# plot_taylor_apprx(B, data=(Φ, train_labels))"
   ]
  },
  {
   "cell_type": "code",
   "execution_count": null,
   "id": "6016650c",
   "metadata": {},
   "outputs": [],
   "source": [
    "# ΔB = grad_manual(B, data=(Φ, train_labels))\n",
    "# B_new = B - α * ΔB\n",
    "# p,j,k,q,l = B_new.shape\n",
    "\n",
    "# U, λ, Vh = jnp.linalg.svd(B_new.reshape(p*j,-1), full_matrices=False)\n",
    "\n",
    "# mps[pos] = U.reshape(p,j,λ.size)\n",
    "# mps[pos+1] = jnp.einsum('i,ij->ij', λ, Vh).reshape(λ.size,k,q,l)\n",
    "\n",
    "# inputs_at_pos = train_data[:,[pos],:]\n",
    "# mps_at_pos = [mps[pos]]\n",
    "\n",
    "# proj_at_pos = jax.vmap(partial(project_sample, mps_at_pos))(inputs_at_pos)\n",
    "# jnp.asarray(proj_at_pos).squeeze(axis=(0,2)).shape"
   ]
  },
  {
   "cell_type": "code",
   "execution_count": null,
   "id": "bfe11bbf",
   "metadata": {},
   "outputs": [],
   "source": [
    "# def sweep_iterator(\n",
    "#         size: int, \n",
    "#         num_sweeps: int,\n",
    "#         reverse=False\n",
    "#     ) -> Iterator:\n",
    "#     \"\"\"A helper to sweep over the MPS\"\"\"\n",
    "#     assert size > 0, 'Bad parameter - \"size\" must be a positive number'\n",
    "#     assert num_sweeps > 0, 'Bad parameter - \"size\" must be a positive number'\n",
    "#     if reverse:\n",
    "#         iterator = itertools.chain(range(size-1, 0, -1), range(0, size-1, 1))\n",
    "#     else:\n",
    "#         iterator = itertools.chain(range(0, size-1, 1), range(size-1, 0, -1))\n",
    "#     total = 0\n",
    "#     sweep = 1\n",
    "#     for i in itertools.cycle(iterator):\n",
    "#         yield i\n",
    "#         total += 1\n",
    "#         if total % size == 0:\n",
    "#             sweep += 1\n",
    "#         elif total % (num_sweeps * size - sweep) == 0:\n",
    "#             break\n",
    "#         else:\n",
    "#             continue"
   ]
  },
  {
   "cell_type": "markdown",
   "id": "d7e1af4e",
   "metadata": {},
   "source": [
    "# Main Loop"
   ]
  },
  {
   "cell_type": "code",
   "execution_count": null,
   "id": "5c229955",
   "metadata": {},
   "outputs": [],
   "source": [
    "# reverse data for convenience, so \n",
    "# the iterations are from left to right\n",
    "mps, train_data, wings = reverse_data(mps, train_data, wings)"
   ]
  },
  {
   "cell_type": "code",
   "execution_count": null,
   "id": "cc0fa84b",
   "metadata": {},
   "outputs": [],
   "source": [
    "# def permute_data(key, train_samples, train_labels):\n",
    "#     new_key,_ = jax.random.split(key, 2)\n",
    "#     perm = jax.random.permutation(new_key, train_labels.shape[0])\n",
    "#     return new_key, train_samples[perm,:,:], train_labels[perm,:]"
   ]
  },
  {
   "cell_type": "code",
   "execution_count": null,
   "id": "8a7f5043",
   "metadata": {},
   "outputs": [],
   "source": [
    "pos = 0\n",
    "samples, labels = train_data\n",
    "B = jnp.einsum('pikl,kjq->pijql', mps[pos], mps[pos+1])\n",
    "# composing a tensor Φ - Fig.6b\n",
    "if pos == 0:\n",
    "    left_wing = jnp.ones(shape=(num_samples, 1))\n",
    "    right_wing = wings[pos+2]\n",
    "elif pos == len(mps)-2:\n",
    "    left_wing = wings[pos-1]\n",
    "    right_wing = jnp.ones(shape=(num_samples, 1))\n",
    "else:\n",
    "    left_wing = wings[pos-1]\n",
    "    right_wing = wings[pos+2]\n",
    "# not combining to a single tensor yet to save space \n",
    "Φ = [left_wing, samples[:,pos:pos+2,:], right_wing]\n",
    "\n",
    "ΔB = grad_manual(B, data=(Φ, labels))"
   ]
  },
  {
   "cell_type": "code",
   "execution_count": null,
   "id": "7189c0af",
   "metadata": {},
   "outputs": [],
   "source": [
    "B_new = B - α * ΔB\n",
    "l,p,j,k,q = B_new.shape\n",
    "U, λ, Vh = jnp.linalg.svd(B_new.reshape(p*j,-1), full_matrices=False)\n",
    "λ /= jnp.sum(jnp.power(λ, 2))\n",
    "λ"
   ]
  },
  {
   "cell_type": "code",
   "execution_count": null,
   "id": "aba8968d",
   "metadata": {},
   "outputs": [],
   "source": [
    "max_bond = bond_dim\n",
    "\n",
    "losses = []\n",
    "grads = []\n",
    "for sweep in range(num_sweeps):\n",
    "\n",
    "    print('*'*100)\n",
    "    print(f'Sweep: {sweep}')\n",
    "    print('*'*100)\n",
    "\n",
    "    losses_ = []\n",
    "    grads_ = []\n",
    "\n",
    "    # getting the new data input\n",
    "    samples, labels = train_data\n",
    "\n",
    "    for pos in range(len(mps)-1):\n",
    "\n",
    "        # bond tensor - Fig.6a\n",
    "        B = jnp.einsum('pikl,kjq->pijql', mps[pos], mps[pos+1])\n",
    "        \n",
    "        # composing a tensor Φ - Fig.6b\n",
    "        if pos == 0:\n",
    "            left_wing = jnp.ones(shape=(num_samples, 1))\n",
    "            right_wing = wings[pos+2]\n",
    "        elif pos == len(mps)-2:\n",
    "            left_wing = wings[pos-1]\n",
    "            right_wing = jnp.ones(shape=(num_samples, 1))\n",
    "        else:\n",
    "            left_wing = wings[pos-1]\n",
    "            right_wing = wings[pos+2]\n",
    "        # not combining to a single tensor yet to save space \n",
    "        Φ = [left_wing, samples[:,pos:pos+2,:], right_wing]\n",
    "\n",
    "        # optimize using SGD\n",
    "        # B_new = optimize_sgd(B)\n",
    "\n",
    "        # compute the gradient update - Fig.6(c-d)\n",
    "        ΔB = grad_manual(B, data=(Φ, labels))  # manual\n",
    "        # an autodiff version using JAX\n",
    "        # ΔB = grad(loss)(B, data=(Φ, train_labels))\n",
    "        \n",
    "        # update the bond tensor - Fig.7a\n",
    "        # watch that the paper is using the \n",
    "        # negative gradient - thus the plus sign\n",
    "        B_new = B - α * ΔB\n",
    "\n",
    "        # SVD\n",
    "        l,p,j,k,q = B_new.shape\n",
    "        U, λ, Vh = jnp.linalg.svd(B_new.reshape(p*j,-1), full_matrices=False)\n",
    "\n",
    "        # cutting off the bond dimension\n",
    "        if λ.size > max_bond:\n",
    "            # max_bond = suggest_truncation(λ, ε)  # adaptive bond dimension\n",
    "            U  = U[:,:max_bond]\n",
    "            λ  = λ[:max_bond]\n",
    "            Vh = Vh[:max_bond,:]\n",
    "\n",
    "        #normalise\n",
    "        λ /= jnp.sum(jnp.power(λ, 2))\n",
    "        \n",
    "        # updating mps tesnors - Fig.7b\n",
    "        mps[pos] = U.reshape(p,j,-1)  # current position\n",
    "        mps[pos+1] = jnp.einsum('i,ij->ij', λ, Vh).reshape(-1,k,q,l)  # next position\n",
    "\n",
    "        # project input samples onto the new tensor at current position and update the left wing - Fig.7c\n",
    "        samples_at_pos = samples[:,[pos],:]  # data at current position only\n",
    "        mps_at_pos = [mps[pos]]                # mps (consisting of 1 tensor) at current position\n",
    "        projs_at_pos = jax.vmap(functools.partial(project_sample, mps_at_pos))(samples_at_pos)\n",
    "        if pos == 0:\n",
    "            left_wing = jnp.asarray(projs_at_pos).squeeze(axis=(0,2))  # 0 index is due to len(MPS) = 1\n",
    "                                                                       # 2 index is due to the left most\n",
    "                                                                       # dim of the first tensor\n",
    "        else:\n",
    "            left_wing = jnp.einsum(\n",
    "                'mp,mpq->mq', \n",
    "                left_wing, \n",
    "                jnp.asarray(projs_at_pos).squeeze(axis=0)  # 0 index is due to len(MPS) = 1\n",
    "            )\n",
    "\n",
    "        #normalise\n",
    "        left_wing /= jnp.max(left_wing)\n",
    "\n",
    "        # update the wing\n",
    "        wings[pos] = left_wing\n",
    "        \n",
    "        grads_.append(jnp.linalg.norm(ΔB))\n",
    "\n",
    "        losses_.append(loss(B, data=(Φ, labels)))\n",
    "        print(f'Updated site: {pos:<5}\\t|\\tLoss: {losses_[-1]:<10e}\\t|\\tGradient norm: {grads_[-1]:<10e}\\t|\\tBond Dim: {max_bond:<5}')\n",
    "        del B, ΔB, Φ, samples\n",
    "\n",
    "    # store the loss\n",
    "    if (sweep % 2) == 0:\n",
    "        losses += losses_\n",
    "        grads += grads_\n",
    "    else:\n",
    "        losses += losses_[::-1]  # on odd sweeps flip the losses        \n",
    "        grads += grads_[::-1]\n",
    "    \n",
    "    # prepare everything for the next sweep\n",
    "    mps, train_data, wings = reverse_data(mps, train_data, wings)"
   ]
  },
  {
   "cell_type": "code",
   "execution_count": null,
   "id": "c80a9bdf",
   "metadata": {},
   "outputs": [],
   "source": [
    "plot(jnp.arange(len(grads)), [grads], yscale='log')"
   ]
  },
  {
   "cell_type": "code",
   "execution_count": null,
   "id": "0e701c70",
   "metadata": {},
   "outputs": [],
   "source": [
    "plot(jnp.arange(len(losses)), [losses])"
   ]
  },
  {
   "cell_type": "code",
   "execution_count": null,
   "id": "838cdd9c",
   "metadata": {},
   "outputs": [],
   "source": [
    "plot(jnp.arange(len(mps)-1), [jnp.array(v) for v in losses.values()], \n",
    "     xlabel='MPS sites', ylabel='$\\log$Loss',\n",
    "     legend=[f'Sweep \"{i}\"' for i in losses.keys()],\n",
    "     figsize=(8,6),\n",
    "     yscale='log',\n",
    "     title=f'Training - {len(losses)} sweep(s)'\n",
    ")"
   ]
  },
  {
   "cell_type": "markdown",
   "id": "ba87a2af",
   "metadata": {},
   "source": [
    "# Predicting Labels"
   ]
  },
  {
   "cell_type": "code",
   "execution_count": null,
   "id": "a324426a",
   "metadata": {},
   "outputs": [],
   "source": [
    "def predict_labels(params, samples):\n",
    "    # project all test instances onto the mps \n",
    "    projs = jax.vmap(partial(project_sample, params))(samples)\n",
    "    # reduce (full contraction)\n",
    "    preds = reduce(lambda x,y: jnp.einsum('mpil,miq->mpql', x, y), projs)\n",
    "    # get predicted class probabilities\n",
    "    probas = jax.nn.softmax(preds.squeeze(), axis=1)\n",
    "    return jnp.argmax(probas, axis=1).astype(int)"
   ]
  },
  {
   "cell_type": "code",
   "execution_count": null,
   "id": "9ad06df9",
   "metadata": {},
   "outputs": [],
   "source": [
    "pred_train_classes = predict_labels(mps, train_data)\n",
    "pred_test_classes = predict_labels(mps, test_data)"
   ]
  },
  {
   "cell_type": "code",
   "execution_count": null,
   "id": "c61a6ae2",
   "metadata": {},
   "outputs": [],
   "source": [
    "from sklearn import metrics\n",
    "\n",
    "import warnings\n",
    "warnings.simplefilter('ignore', UserWarning)\n",
    "\n",
    "train_classes = jnp.argmax(train_labels, axis=1)\n",
    "test_classes = jnp.argmax(test_labels, axis=1)\n",
    "\n",
    "print(f'Classification report Train:\\n\\n'\n",
    "      f'{metrics.classification_report(pred_train_classes, train_classes)}\\n')\n",
    "\n",
    "print(f'Classification report Test:\\n\\n'\n",
    "      f'{metrics.classification_report(pred_test_classes, test_classes)}\\n')"
   ]
  },
  {
   "cell_type": "code",
   "execution_count": null,
   "id": "7439c904",
   "metadata": {},
   "outputs": [],
   "source": [
    "jnp.unique(pred_test_classes)"
   ]
  },
  {
   "cell_type": "code",
   "execution_count": null,
   "id": "6e9cc477",
   "metadata": {},
   "outputs": [],
   "source": [
    "mps"
   ]
  },
  {
   "cell_type": "code",
   "execution_count": null,
   "id": "b7e8ec59",
   "metadata": {},
   "outputs": [],
   "source": []
  }
 ],
 "metadata": {
  "kernelspec": {
   "display_name": "Python 3",
   "language": "python",
   "name": "python3"
  },
  "language_info": {
   "codemirror_mode": {
    "name": "ipython",
    "version": 3
   },
   "file_extension": ".py",
   "mimetype": "text/x-python",
   "name": "python",
   "nbconvert_exporter": "python",
   "pygments_lexer": "ipython3",
   "version": "3.8.5"
  },
  "varInspector": {
   "cols": {
    "lenName": 16,
    "lenType": 16,
    "lenVar": 40
   },
   "kernels_config": {
    "python": {
     "delete_cmd_postfix": "",
     "delete_cmd_prefix": "del ",
     "library": "var_list.py",
     "varRefreshCmd": "print(var_dic_list())"
    },
    "r": {
     "delete_cmd_postfix": ") ",
     "delete_cmd_prefix": "rm(",
     "library": "var_list.r",
     "varRefreshCmd": "cat(var_dic_list()) "
    }
   },
   "types_to_exclude": [
    "module",
    "function",
    "builtin_function_or_method",
    "instance",
    "_Feature"
   ],
   "window_display": false
  }
 },
 "nbformat": 4,
 "nbformat_minor": 5
}
