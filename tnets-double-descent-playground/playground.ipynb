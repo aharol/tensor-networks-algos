{
 "cells": [
  {
   "cell_type": "code",
   "execution_count": 1,
   "id": "516a8cc3",
   "metadata": {},
   "outputs": [],
   "source": [
    "%load_ext autoreload\n",
    "%autoreload 2\n",
    "%matplotlib inline"
   ]
  },
  {
   "cell_type": "code",
   "execution_count": 2,
   "id": "36fb66c6",
   "metadata": {},
   "outputs": [
    {
     "name": "stdout",
     "output_type": "stream",
     "text": [
      "env: JAX_ENABLE_X64=1\n",
      "env: JAX_PLATFORM_NAME=cpu\n"
     ]
    }
   ],
   "source": [
    "%env JAX_ENABLE_X64=1\n",
    "%env JAX_PLATFORM_NAME=cpu"
   ]
  },
  {
   "cell_type": "code",
   "execution_count": 3,
   "id": "80210565",
   "metadata": {},
   "outputs": [],
   "source": [
    "import jax\n",
    "from jax import jit\n",
    "\n",
    "import jax.numpy as jnp"
   ]
  },
  {
   "cell_type": "code",
   "execution_count": 4,
   "id": "6b833c47",
   "metadata": {},
   "outputs": [],
   "source": [
    "from typing import Any, List\n",
    "\n",
    "PRNGKeyArray = Any # type alias\n"
   ]
  },
  {
   "cell_type": "code",
   "execution_count": 5,
   "id": "933bc00f",
   "metadata": {},
   "outputs": [],
   "source": [
    "from functools import reduce, partial"
   ]
  },
  {
   "cell_type": "markdown",
   "id": "f83f3f8e",
   "metadata": {},
   "source": [
    "# Random Data Generation"
   ]
  },
  {
   "cell_type": "code",
   "execution_count": 6,
   "id": "740bd3f4",
   "metadata": {},
   "outputs": [],
   "source": [
    "def random_mps(\n",
    "    key: PRNGKeyArray,\n",
    "    size: int,\n",
    "    local_dim: int,\n",
    "    bond_dim: int,\n",
    "    dtype=jnp.float64) -> List[jnp.DeviceArray]:\n",
    "    \"\"\"\n",
    "    Generate a random MPS where each core tensor\n",
    "    is drawn i.i.d. from a uniform distribution \n",
    "    between -1 and 1.\n",
    "\n",
    "    Input:\n",
    "    ------\n",
    "    key:        The random key.\n",
    "    size:       The size (length) of an MPS.\n",
    "    local_dim:  The local dimension size.\n",
    "    bond_dim:   The bond dimension size.\n",
    "    dtype:      The type of data to return.\n",
    "    \"\"\"\n",
    "    # initialize MPS data collection\n",
    "    mps = []\n",
    "     \n",
    "    for i in range(size):\n",
    "        key, _ = jax.random.split(key)\n",
    "        if i == 0:  # left most tensor\n",
    "            tensor = jax.random.uniform(\n",
    "                key, shape=(1, local_dim, bond_dim), minval=-1, maxval=1, dtype=dtype)\n",
    "        elif i == size-1:  # right most tensor\n",
    "            tensor = jax.random.uniform(\n",
    "                key, shape=(bond_dim, local_dim, 1), minval=-1, maxval=1, dtype=dtype)\n",
    "        else:  # middle tensors\n",
    "            tensor = jax.random.uniform(\n",
    "                key, shape=(bond_dim, local_dim, bond_dim), minval=-1, maxval=1, dtype=dtype)\n",
    "        mps.append(tensor)\n",
    "\n",
    "    return mps"
   ]
  },
  {
   "cell_type": "code",
   "execution_count": 7,
   "id": "6dec27e9",
   "metadata": {},
   "outputs": [],
   "source": [
    "def random_sample(\n",
    "    key: PRNGKeyArray,\n",
    "    size: int,\n",
    "    local_dim: int,\n",
    "    n_factors: int,\n",
    "    dtype=jnp.float64) -> List[jnp.DeviceArray]:\n",
    "    \"\"\"\n",
    "    Generate random data samples where components\n",
    "    corrsponding to MPS tensors are drawn i.i.d. \n",
    "    from a normal distribution.\n",
    "\n",
    "    Input:\n",
    "    ------\n",
    "    key:        The random key.\n",
    "    size:       The sample size.\n",
    "    local_dim:  The dimension of each sample.\n",
    "    n_factors:  The number of factors (equal to the MPS size).\n",
    "    dtype:      The type of data to return.\n",
    "    \"\"\"\n",
    "    # initialize the collection\n",
    "    samples = []\n",
    "        \n",
    "    for _ in range(size):\n",
    "        x = []  # collects the components of a single sample \n",
    "        for _ in range(n_factors):\n",
    "            key, _ = jax.random.split(key, num=2)\n",
    "            x.append(\n",
    "                jax.random.normal(\n",
    "                    key, \n",
    "                    shape=(local_dim,), \n",
    "                    dtype=dtype)\n",
    "            )\n",
    "        samples.append(jnp.asarray(x))\n",
    "\n",
    "    return samples"
   ]
  },
  {
   "cell_type": "code",
   "execution_count": 8,
   "id": "8563c9ab",
   "metadata": {},
   "outputs": [],
   "source": [
    "# def contract(mps):\n",
    "#     \"\"\"Fully contract the MPS with its conjugate.\"\"\"\n",
    "#     tensors = [jnp.einsum('pqr,uqv->purv', t, t.conj()) for t in mps]\n",
    "#     res = reduce(lambda x,y: jnp.einsum('purv,rvts->puts', x,y), tensors)\n",
    "#     return res.squeeze()\n",
    "\n",
    "# # func alias\n",
    "# mps_norm = contract\n",
    "\n",
    "# def dot_one(mps: List[DeviceArray], sample: DeviceArray):\n",
    "#     # contracts each mps tensor with a corresponding sample component\n",
    "#     dot_wx = lambda w, x: jnp.einsum('pqr,q->pr', w, x)\n",
    "#     # contract all tensor in the mps (equiv to a dotproduct of an mps)\n",
    "#     res = reduce(jnp.matmul, jax.tree_multimap(dot_wx, mps, list(sample)))\n",
    "#     return res.squeeze()\n",
    "\n",
    "# def dot_many(mps: List[DeviceArray], samples: List[DeviceArray]):\n",
    "#     \"\"\"Contract MPS with data\"\"\"\n",
    "#     res = jax.tree_map(lambda s: dot_one(mps, s), samples)\n",
    "#     return res"
   ]
  },
  {
   "cell_type": "code",
   "execution_count": 16,
   "id": "03ab3f72",
   "metadata": {},
   "outputs": [],
   "source": [
    "def _align_dims(data: List[jnp.DeviceArray]):\n",
    "    \"\"\"Add extra dims to align tensor in an MPS\"\"\"\n",
    "    if data[-1].ndim == 1:\n",
    "        # adding an extra dimensions\n",
    "        data = [x[jnp.newaxis,:,jnp.newaxis] for x in data]\n",
    "    return data\n",
    "\n",
    "def dot(mps1: List[jnp.DeviceArray], mps2: List[jnp.DeviceArray]) -> jnp.double:\n",
    "    \"\"\"\n",
    "    Dot product of an MPS with another mps or data (i.e. castrated MPS)\n",
    "    --A1----A2--...--An-- (MPS)\n",
    "      |     |        |\n",
    "    \n",
    "      |     |        |\n",
    "      x1    x2  ...  xn   (data sample)\n",
    "    \"\"\"\n",
    "    mps1 = _align_dims(mps1)\n",
    "    mps2 = _align_dims(mps2)\n",
    "    # contracts individual components\n",
    "    dot = lambda x, y: jnp.einsum('pqr,uqv->purv', x, y)\n",
    "    # multiply two neighbouring tensors\n",
    "    mult = lambda x, y: jnp.einsum('purv,rvts->puts', x, y)\n",
    "    # contract all\n",
    "    res = reduce(mult, jax.tree_multimap(dot, mps1, mps2))\n",
    "    return res.squeeze()\n",
    "\n",
    "def mps_norm(mps: List[jnp.DeviceArray]) -> jnp.double:\n",
    "    \"\"\"Computing the norm of an MPS\"\"\"\n",
    "    mps_c = [t.conj() for t in mps]\n",
    "    return dot(mps, mps_c)\n",
    "\n",
    "def mdot(mps: List[jnp.DeviceArray], samples: List[jnp.DeviceArray]) -> List[jnp.DeviceArray]:\n",
    "    \"\"\"Apply dot product to many samples\"\"\"\n",
    "    res = jax.tree_map(lambda s: dot(mps, s), samples)\n",
    "    return res"
   ]
  },
  {
   "cell_type": "markdown",
   "id": "bff981fb",
   "metadata": {},
   "source": [
    "## Constants"
   ]
  },
  {
   "cell_type": "code",
   "execution_count": 10,
   "id": "076ed31b",
   "metadata": {},
   "outputs": [],
   "source": [
    "# PRNG seed\n",
    "SEED = 161803\n",
    "\n",
    "# model size (MPS_SIZE * LOCAL_DIM + BOND_DIM = TRAIN_SIZE)\n",
    "MPS_SIZE = 3\n",
    "LOCAL_DIM = 2\n",
    "BOND_DIM = 4\n",
    "\n",
    "# data sample\n",
    "SAMPLE_SIZE = 10000"
   ]
  },
  {
   "cell_type": "code",
   "execution_count": 11,
   "id": "a59c49ac",
   "metadata": {},
   "outputs": [],
   "source": [
    "key = jax.random.PRNGKey(SEED)\n",
    "\n",
    "# Spliting the key\n",
    "key_params, key_data, key_noise, key_run = jax.random.split(key, num=4)\n",
    "\n",
    "# target MPS model\n",
    "mps = random_mps(key_params, size=MPS_SIZE, local_dim=LOCAL_DIM, bond_dim=BOND_DIM)\n",
    "# generate samples\n",
    "samples = random_sample(key_data, size=SAMPLE_SIZE, local_dim=LOCAL_DIM, n_factors=MPS_SIZE)"
   ]
  },
  {
   "cell_type": "code",
   "execution_count": 15,
   "id": "728f26aa",
   "metadata": {},
   "outputs": [
    {
     "name": "stdout",
     "output_type": "stream",
     "text": [
      "CPU times: user 29.6 s, sys: 279 ms, total: 29.9 s\n",
      "Wall time: 30.1 s\n"
     ]
    }
   ],
   "source": [
    "%%time\n",
    "z = mdot(mps, samples)"
   ]
  },
  {
   "cell_type": "code",
   "execution_count": null,
   "id": "19e85964",
   "metadata": {},
   "outputs": [],
   "source": []
  }
 ],
 "metadata": {
  "kernelspec": {
   "display_name": "Python 3",
   "language": "python",
   "name": "python3"
  },
  "language_info": {
   "codemirror_mode": {
    "name": "ipython",
    "version": 3
   },
   "file_extension": ".py",
   "mimetype": "text/x-python",
   "name": "python",
   "nbconvert_exporter": "python",
   "pygments_lexer": "ipython3",
   "version": "3.8.5"
  },
  "varInspector": {
   "cols": {
    "lenName": 16,
    "lenType": 16,
    "lenVar": 40
   },
   "kernels_config": {
    "python": {
     "delete_cmd_postfix": "",
     "delete_cmd_prefix": "del ",
     "library": "var_list.py",
     "varRefreshCmd": "print(var_dic_list())"
    },
    "r": {
     "delete_cmd_postfix": ") ",
     "delete_cmd_prefix": "rm(",
     "library": "var_list.r",
     "varRefreshCmd": "cat(var_dic_list()) "
    }
   },
   "types_to_exclude": [
    "module",
    "function",
    "builtin_function_or_method",
    "instance",
    "_Feature"
   ],
   "window_display": false
  }
 },
 "nbformat": 4,
 "nbformat_minor": 5
}
