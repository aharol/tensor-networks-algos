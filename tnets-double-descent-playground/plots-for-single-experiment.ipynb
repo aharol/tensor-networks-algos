{
 "cells": [
  {
   "cell_type": "code",
   "execution_count": 1,
   "id": "516a8cc3",
   "metadata": {},
   "outputs": [],
   "source": [
    "%matplotlib inline"
   ]
  },
  {
   "cell_type": "code",
   "execution_count": 2,
   "id": "36fb66c6",
   "metadata": {},
   "outputs": [
    {
     "name": "stdout",
     "output_type": "stream",
     "text": [
      "env: JAX_ENABLE_X64=1\n",
      "env: JAX_PLATFORM_NAME=cpu\n"
     ]
    }
   ],
   "source": [
    "%env JAX_ENABLE_X64=1\n",
    "%env JAX_PLATFORM_NAME=cpu"
   ]
  },
  {
   "cell_type": "code",
   "execution_count": 3,
   "id": "80210565",
   "metadata": {},
   "outputs": [],
   "source": [
    "import jax\n",
    "import jax.numpy as jnp\n",
    "from jax import jit, grad"
   ]
  },
  {
   "cell_type": "code",
   "execution_count": 4,
   "id": "d03f2a23",
   "metadata": {},
   "outputs": [],
   "source": [
    "import matplotlib.pyplot as plt\n",
    "\n",
    "plt.style.use('classic')\n",
    "plt.rcParams['xtick.labelsize'] = 16\n",
    "plt.rcParams['ytick.labelsize'] = 16"
   ]
  },
  {
   "cell_type": "code",
   "execution_count": 5,
   "id": "933bc00f",
   "metadata": {},
   "outputs": [],
   "source": [
    "import os\n",
    "import pickle\n",
    "from functools import reduce"
   ]
  },
  {
   "cell_type": "markdown",
   "id": "6635ba4f",
   "metadata": {},
   "source": [
    "# Constants"
   ]
  },
  {
   "cell_type": "code",
   "execution_count": 6,
   "id": "c1da0943",
   "metadata": {},
   "outputs": [],
   "source": [
    "# model size (MPS_SIZE * LOCAL_DIM + BOND_DIM = TRAIN_SIZE)\n",
    "MPS_SIZE = 4\n",
    "LOCAL_DIM = 4\n",
    "BOND_DIM = 6\n",
    "\n",
    "# APPROX RANK\n",
    "APPROX_RANK = range(2,11,2)\n",
    "\n",
    "# SAVE/PRINT after that many epochs\n",
    "SAVE_AFTER_EPOCHS = 50"
   ]
  },
  {
   "cell_type": "markdown",
   "id": "67581c20",
   "metadata": {},
   "source": [
    "# Helpers"
   ]
  },
  {
   "cell_type": "code",
   "execution_count": 7,
   "id": "b9fb6e52",
   "metadata": {},
   "outputs": [],
   "source": [
    "from collections import defaultdict\n",
    "\n",
    "def idict():\n",
    "    \"\"\"Infinitely nested dict\"\"\"\n",
    "    return defaultdict(idict)\n",
    "\n",
    "def idict2dict(dic):\n",
    "    if isinstance(dic, defaultdict):\n",
    "        dic = {k: idict2dict(v) for k, v in dic.items()}\n",
    "    return dic"
   ]
  },
  {
   "cell_type": "markdown",
   "id": "d2139d98",
   "metadata": {},
   "source": [
    "# Load results"
   ]
  },
  {
   "cell_type": "code",
   "execution_count": 8,
   "id": "791d2108",
   "metadata": {},
   "outputs": [],
   "source": [
    "loss_dir = 'log-loss'\n",
    "experim = '20220315-noise-5'"
   ]
  },
  {
   "cell_type": "code",
   "execution_count": 9,
   "id": "55f23687",
   "metadata": {},
   "outputs": [
    {
     "ename": "FileNotFoundError",
     "evalue": "[Errno 2] No such file or directory: './experiment/20220315-noise-5/log-loss/results/loss.pkl'",
     "output_type": "error",
     "traceback": [
      "\u001b[0;31m---------------------------------------------------------------------------\u001b[0m",
      "\u001b[0;31mFileNotFoundError\u001b[0m                         Traceback (most recent call last)",
      "\u001b[0;32m<ipython-input-9-134e39293a24>\u001b[0m in \u001b[0;36m<module>\u001b[0;34m\u001b[0m\n\u001b[1;32m     11\u001b[0m \u001b[0mfile_path\u001b[0m \u001b[0;34m=\u001b[0m \u001b[0mos\u001b[0m\u001b[0;34m.\u001b[0m\u001b[0mpath\u001b[0m\u001b[0;34m.\u001b[0m\u001b[0mjoin\u001b[0m\u001b[0;34m(\u001b[0m\u001b[0mres_dir\u001b[0m\u001b[0;34m,\u001b[0m \u001b[0;34m'loss.pkl'\u001b[0m\u001b[0;34m)\u001b[0m\u001b[0;34m\u001b[0m\u001b[0;34m\u001b[0m\u001b[0m\n\u001b[1;32m     12\u001b[0m \u001b[0;34m\u001b[0m\u001b[0m\n\u001b[0;32m---> 13\u001b[0;31m \u001b[0;32mwith\u001b[0m \u001b[0mopen\u001b[0m\u001b[0;34m(\u001b[0m\u001b[0mfile_path\u001b[0m\u001b[0;34m,\u001b[0m \u001b[0;34m'rb'\u001b[0m\u001b[0;34m)\u001b[0m \u001b[0;32mas\u001b[0m \u001b[0mf\u001b[0m\u001b[0;34m:\u001b[0m\u001b[0;34m\u001b[0m\u001b[0;34m\u001b[0m\u001b[0m\n\u001b[0m\u001b[1;32m     14\u001b[0m     \u001b[0mresults\u001b[0m \u001b[0;34m=\u001b[0m \u001b[0mpickle\u001b[0m\u001b[0;34m.\u001b[0m\u001b[0mload\u001b[0m\u001b[0;34m(\u001b[0m\u001b[0mf\u001b[0m\u001b[0;34m)\u001b[0m\u001b[0;34m\u001b[0m\u001b[0;34m\u001b[0m\u001b[0m\n",
      "\u001b[0;31mFileNotFoundError\u001b[0m: [Errno 2] No such file or directory: './experiment/20220315-noise-5/log-loss/results/loss.pkl'"
     ]
    }
   ],
   "source": [
    "exp_dir = os.path.join('./experiment', loss_dir, experim)\n",
    "fig_dir = os.path.join(exp_dir, 'figs')\n",
    "if not os.path.exists(fig_dir):\n",
    "    os.makedirs(fig_dir)\n",
    "\n",
    "\n",
    "lrn_dir = os.path.join(exp_dir, 'learning')\n",
    "res_dir = os.path.join(exp_dir, 'results')\n",
    "fig_dir = os.path.join(exp_dir, 'figs')\n",
    "\n",
    "file_path = os.path.join(res_dir, 'loss.pkl')\n",
    "\n",
    "with open(file_path, 'rb') as f:\n",
    "    results = pickle.load(f)"
   ]
  },
  {
   "cell_type": "markdown",
   "id": "1576b0f8",
   "metadata": {},
   "source": [
    "# Plotting"
   ]
  },
  {
   "cell_type": "code",
   "execution_count": null,
   "id": "3582a420",
   "metadata": {},
   "outputs": [],
   "source": [
    "import matplotlib.ticker as mticker\n",
    "\n",
    "def plot_epochs_curve(results, title):\n",
    "    # converting into a dict\n",
    "    results = idict2dict(results)\n",
    "    for smpl_size, res in results.items():\n",
    "        data = [r.item() for r in res]\n",
    "        plt.plot(data, label=f'Rank-{smpl_size}', linewidth=3)\n",
    "    plt.grid(True)\n",
    "    xticks_values = [int(l*SAVE_AFTER_EPOCHS) for l in plt.gca().get_xticks()]\n",
    "    # plt.axes().xaxis.set_major_locator(mticker.FixedLocator(xticks_values))\n",
    "    plt.gca().set_xticklabels(xticks_values)\n",
    "    # plt.ticklabel_format(style='sci', axis='x', scilimits=(0, 0)) \n",
    "    # plt.gca().xaxis.set_major_formatter(\n",
    "    #     plt.matplotlib.ticker.StrMethodFormatter(\"{x:.0f}00\")\n",
    "    # )\n",
    "    # Hide first 0 in xticks\n",
    "    xticks = plt.gca().xaxis.get_major_ticks()\n",
    "    xticks[0].label1.set_visible(False)\n",
    "    plt.legend()\n",
    "    plt.xlabel('Epochs', fontsize=20)\n",
    "    plt.ylabel('Risk', fontsize=20)\n",
    "    plt.title(title, fontsize=24)\n",
    "    plt.savefig(os.path.join(fig_dir, f'epochs-curve-{title.lower()}.png'))\n",
    "    plt.show()"
   ]
  },
  {
   "cell_type": "code",
   "execution_count": null,
   "id": "5c64b8ba",
   "metadata": {},
   "outputs": [],
   "source": [
    "plt.rcParams[\"figure.figsize\"] = (10,7)\n",
    "plot_epochs_curve(results['train'], title='Training')"
   ]
  },
  {
   "cell_type": "code",
   "execution_count": null,
   "id": "82307384",
   "metadata": {},
   "outputs": [],
   "source": [
    "plt.rcParams[\"figure.figsize\"] = (9.8,7)\n",
    "plot_epochs_curve(results['test'], title='Prediction')\n"
   ]
  },
  {
   "cell_type": "code",
   "execution_count": null,
   "id": "2151206a",
   "metadata": {},
   "outputs": [],
   "source": [
    "def plot_approx_rank_curve(results, title):\n",
    "    # converting into a dict\n",
    "    results = idict2dict(results)\n",
    "    data = {k:jnp.mean(jnp.asarray(vs[-100:])).item() for k,vs in results.items()}\n",
    "    x, y = zip(*data.items())\n",
    "    plt.plot(x, y, 'o-', color='blue', linewidth=3)\n",
    "    plt.grid(True)\n",
    "    plt.xlabel('Approximation Rank', fontsize=20)\n",
    "    plt.ylabel('Risk', fontsize=20)\n",
    "    plt.title(title, fontsize=24)\n",
    "    plt.savefig(os.path.join(fig_dir, f'approx-rank-curve-{title.lower()}.png'))\n",
    "    plt.show()"
   ]
  },
  {
   "cell_type": "code",
   "execution_count": null,
   "id": "3d47c8d9",
   "metadata": {},
   "outputs": [],
   "source": [
    "plt.rcParams[\"figure.figsize\"] = (10.2,7)\n",
    "plot_approx_rank_curve(results['test'], title='Testing')"
   ]
  },
  {
   "cell_type": "markdown",
   "id": "df5d08ea",
   "metadata": {},
   "source": [
    "# Calculating the environment spectrum"
   ]
  },
  {
   "cell_type": "code",
   "execution_count": null,
   "id": "0d5881ce",
   "metadata": {},
   "outputs": [],
   "source": [
    "def fully_contract(mps):\n",
    "    \"\"\"Fully contract the MPS with its conjugate.\"\"\"\n",
    "    tensors = [jnp.einsum('pqr,uqv->purv', t, t.conj()) for t in mps]\n",
    "    res = reduce(lambda x,y: jnp.einsum('purv,rvts->puts', x,y), tensors)\n",
    "    return res.squeeze()"
   ]
  },
  {
   "cell_type": "code",
   "execution_count": null,
   "id": "f4583af1",
   "metadata": {},
   "outputs": [],
   "source": [
    "def e_spec_env(params, i=0):\n",
    "    \"\"\"Compute the entanglement spectrum of each tensor with the environment.\"\"\"\n",
    "    # The idea is to use MPS and MPS* and connect all the physical legs except one (indexed by i).\n",
    "    # The construction results in a matrix of dimension d x d where d is physical dimension.\n",
    "    # The result descibes the spectrum of the entanglement of that tensor with the whole environment.\n",
    "    assert isinstance(params, list), 'Expecting a list type'\n",
    "    assert 0 <= i <= len(params)-1,  'Bad index => must be 0 <= i <= len(params)-1'\n",
    "    \n",
    "    if len(params) == 1:\n",
    "        mat = jnp.einsum('par,pbr->ab', p, p.conj())\n",
    "    \n",
    "    if i == 0:\n",
    "        right = fully_contract(params[1:])\n",
    "        if right.ndim == 0:\n",
    "            right = right * jnp.eye(2)\n",
    "        mat = jnp.einsum('par,ubv,rv->paub', params[0], params[0].conj(), right)\n",
    "    elif i == len(params) - 1:\n",
    "        left = fully_contract(params[:-1])\n",
    "        if left.ndim == 0:\n",
    "            left = left * jnp.eye(2)\n",
    "        mat = jnp.einsum('pu,par,ubv->ravb', left, params[-1], params[-1].conj())\n",
    "    else: \n",
    "        left = fully_contract(params[:i])\n",
    "        if left.ndim == 0:\n",
    "            left = left * jnp.eye(2)\n",
    "        \n",
    "        right = fully_contract(params[i+1:])\n",
    "        if right.ndim == 0:\n",
    "            right = right * jnp.eye(2)  \n",
    "\n",
    "        mat = jnp.einsum('pu,par,ubv,rv->ab', left, params[i], params[i].conj(), right)\n",
    "\n",
    "    mat = mat.squeeze()\n",
    "    _, s, _ = jnp.linalg.svd(mat)\n",
    "    \n",
    "    return s\n",
    "\n",
    "def e_entropy(params, i):\n",
    "    \"\"\"Compute the entanglement entropy of a bipartition between i and i+1.\"\"\"\n",
    "\n",
    "    assert isinstance(params, list), 'Expecting a list type'\n",
    "    assert 1 <= i <= len(params)-1,  'Bad index => must be 1 <= i <= len(params) - 1'\n",
    "    \n",
    "    if len(params) == 1:\n",
    "        raise ValueError('The MPS has one site only')\n",
    "    \n",
    "    left = fully_contract(params[:i])\n",
    "    if left.ndim == 0:\n",
    "        left = left * jnp.eye(2)\n",
    "\n",
    "    right = fully_contract(params[i:])\n",
    "    if right.ndim == 0:\n",
    "        right = right * jnp.eye(2)\n",
    "    \n",
    "    # full density matrix\n",
    "    rho = jnp.einsum('pq,uv->pquv', left, right)\n",
    "    # reduced density matrix\n",
    "    rho_a = jnp.einsum('piui->pu', rho)\n",
    "    \n",
    "    _, s, _ = jnp.linalg.svd(rho_a)\n",
    "    entropy = -jnp.sum(s*jnp.log2(s))\n",
    "    \n",
    "    return entropy"
   ]
  },
  {
   "cell_type": "markdown",
   "id": "4640cc37",
   "metadata": {},
   "source": [
    "# Loading parameters"
   ]
  },
  {
   "cell_type": "code",
   "execution_count": null,
   "id": "146e114f",
   "metadata": {},
   "outputs": [],
   "source": [
    "import re\n",
    "\n",
    "params_dir = os.path.join(lrn_dir, 'approx_rank')\n",
    "\n",
    "env_spectrum = idict()\n",
    "ent_entropy = idict()\n",
    "for approx_rank in APPROX_RANK:\n",
    "    dir_path = os.path.join(f'{params_dir}_{approx_rank}')\n",
    "    files = [os.path.join(dir_path, f) for f in os.listdir(dir_path) \n",
    "             if os.path.isfile(os.path.join(dir_path, f))]\n",
    "    # sort by step to make the ordering correct\n",
    "    files.sort(key=lambda f: int(re.sub('\\D', '', f)))\n",
    "    for step, params_file in enumerate(files):\n",
    "        with open(params_file, 'rb') as f:\n",
    "            params = pickle.load(f)\n",
    "        # entanglement spectrum environment\n",
    "        es = [e_spec_env(params,i) for i in range(MPS_SIZE)]\n",
    "        env_spectrum[approx_rank][step] = es\n",
    "        # entanglement entropy bipartitions\n",
    "        ee = [e_entropy(params, i) for i in range(1,MPS_SIZE)]\n",
    "        ent_entropy[approx_rank][step] = ee"
   ]
  },
  {
   "cell_type": "code",
   "execution_count": null,
   "id": "64c5a5a4",
   "metadata": {},
   "outputs": [],
   "source": [
    "def plot_entanglement_env_spectrum(data, title):\n",
    "    \n",
    "    t, s, i = data.shape\n",
    "\n",
    "    cols = t//2\n",
    "\n",
    "    fig, axs = plt.subplots(2, 2, sharex=True, sharey=True)\n",
    "    fig.suptitle(title, fontsize=24)\n",
    "    plt.subplots_adjust(hspace = 0.15, wspace=0.1)\n",
    "    for i in range(t):\n",
    "        pid = (i//cols, i%cols) # plot id\n",
    "        for j in range(s):\n",
    "            axs[pid].plot(data[i,j,:], linewidth=3, label=r'$\\lambda_{}$'.format(j+1))\n",
    "            axs[pid].set_title(f'Tensor {i+1}', fontsize=16)\n",
    "            axs[pid].grid(True)\n",
    "            axs[pid].legend()\n",
    "            axs[pid].tick_params(axis='both', which='major', labelsize=12)\n",
    "            axs[pid].tick_params(axis='both', which='minor', labelsize=10)\n",
    "            axs[pid].ticklabel_format(axis='y', style='sci', scilimits=(4,4))\n",
    "            # axs[pid].xaxis.set_ticks_position('none')            \n",
    "            # axs[pid].yaxis.set_ticks_position('none')            \n",
    "            \n",
    "    for ax in axs.flat:\n",
    "        ax.set_xlabel(xlabel='Epochs', fontsize=16)\n",
    "        xticks = ax.xaxis.get_major_ticks()\n",
    "        xticks[0].label1.set_visible(False)\n",
    "\n",
    "    for ax in axs.flat:\n",
    "        ax.label_outer()\n",
    "    \n",
    "    xticks_values = [int(l*50) for l in plt.gca().get_xticks()]\n",
    "    plt.gca().set_xticklabels(xticks_values)\n",
    "    # plt.gca().xaxis.set_major_formatter(\n",
    "    #     plt.matplotlib.ticker.StrMethodFormatter('{x:.0f}00')\n",
    "    # )\n",
    "    # # Hide first 0 in xticks\n",
    "    # xticks = plt.gca().xaxis.get_major_ticks()\n",
    "    # xticks[0].label1.set_visible(False)\n",
    "    \n",
    "    plt.savefig(os.path.join(fig_dir, f'entanglement-spectra-{title.lower()}.png'))"
   ]
  },
  {
   "cell_type": "code",
   "execution_count": null,
   "id": "48de54bf",
   "metadata": {},
   "outputs": [],
   "source": [
    "import warnings\n",
    "warnings.filterwarnings(\"ignore\")\n",
    "\n",
    "plt.rcParams[\"figure.figsize\"] = (10.2,7)\n",
    "\n",
    "for approx_rank in APPROX_RANK:\n",
    "    S = env_spectrum[approx_rank]\n",
    "    data = jnp.array(list(S.values())).transpose(1,2,0)  \n",
    "    plot_entanglement_env_spectrum(data, title=f'Rank-{approx_rank}')"
   ]
  },
  {
   "cell_type": "markdown",
   "id": "f572e1c0",
   "metadata": {},
   "source": [
    "# Entanglement Entropy for Bipartitions"
   ]
  },
  {
   "cell_type": "code",
   "execution_count": null,
   "id": "5db25099",
   "metadata": {},
   "outputs": [],
   "source": [
    "def plot_entanglement_entropy(results, title):\n",
    "    fig, axs = plt.subplots(len(APPROX_RANK), 1, sharex=True, sharey=False)\n",
    "    fig.suptitle(title, fontsize=24)\n",
    "    plt.subplots_adjust(hspace = 0.15, wspace=0.1)\n",
    "    results = idict2dict(results)\n",
    "    for pid, (rank, data) in enumerate(results.items()):\n",
    "        _, vals_ = zip(*data.items())\n",
    "        vals = jnp.asarray(vals_).T\n",
    "        axs[pid].plot(vals[0,:], linewidth=3, label='1-2 bond')\n",
    "        axs[pid].plot(vals[1,:], linewidth=3, label='2-3 bond')        \n",
    "        axs[pid].plot(vals[2,:], linewidth=3, label='3-4 bond')\n",
    "        # axs[pid].plot(vals, linewidth=3)\n",
    "        axs[pid].grid(True)\n",
    "        axs[pid].legend()\n",
    "        axs[pid].ticklabel_format(axis='y', style='sci', scilimits=(4,4))\n",
    "        axs[pid].set_title(f'Rank {rank}', fontsize=16)\n",
    "        axs[pid].tick_params(axis='both', which='major', labelsize=12)\n",
    "        # axs[pid].set_xlabel(xlabel='Epochs', fontsize=16)\n",
    "    \n",
    "    xticks_values = [int(l*50) for l in plt.gca().get_xticks()]\n",
    "    plt.gca().set_xticklabels(xticks_values)\n",
    "    plt.gca().set_xlabel(xlabel='Epochs', fontsize=16)\n",
    "\n",
    "    plt.subplots_adjust(top=0.95)\n",
    "   \n",
    "    # for ax in axs.flat:\n",
    "    #     ax.set_xlabel(xlabel='Epochs', fontsize=16)\n",
    "    #     xticks = ax.xaxis.get_major_ticks()\n",
    "    #     xticks[0].label1.set_visible(False)\n",
    "    \n",
    "    \n",
    "    plt.show()"
   ]
  },
  {
   "cell_type": "code",
   "execution_count": null,
   "metadata": {},
   "outputs": [],
   "source": [
    "plt.rcParams[\"figure.figsize\"] = (6,20)\n",
    "\n",
    "plot_entanglement_entropy(ent_entropy, \"Entanglement Entropy\")"
   ]
  },
  {
   "cell_type": "code",
   "execution_count": null,
   "id": "95d8f6a6",
   "metadata": {},
   "outputs": [],
   "source": [
    "# i=1\n",
    "# left = mps_norm(params[:i])\n",
    "# right = mps_norm(params[i:])\n",
    "# rho = jnp.einsum('pq,uv->pquv', left, right)\n",
    "# rho_a = jnp.einsum('piui->pu', rho)\n",
    "# rho_b = jnp.einsum('iqiv->qv', rho)\n",
    "# assert jnp.allclose(rho_a, rho_b)\n",
    "\n",
    "# _, s, _ = jnp.linalg.svd(rho_a)\n",
    "# entropy = -jnp.sum(s*jnp.log2(s))\n",
    "# entropy"
   ]
  },
  {
   "cell_type": "raw",
   "id": "adb58e54",
   "metadata": {},
   "source": [
    "# Plot Generalization vs. Sample Size"
   ]
  },
  {
   "cell_type": "raw",
   "id": "e99da20a",
   "metadata": {},
   "source": [
    "def plot_rank(results):\n",
    "    # converting into a dict\n",
    "    results = idict2dict(results)\n",
    "    for rank, res in results.items():\n",
    "        res = {k: jnp.asarray([i.item() for i in v.values()]) for k,v in res.items()}\n",
    "        res = jax.tree_map(lambda r: r[~(r>=1e+6)], res)\n",
    "        mean = jax.tree_map(jnp.mean, res)\n",
    "        ci = jax.tree_map(lambda x: 1.96 * x / jnp.sqrt(len(res)), \n",
    "                          jax.tree_map(jnp.std, res))\n",
    "        keys, mean = zip(*mean.items())\n",
    "        _, ci = zip(*ci.items())\n",
    "        err_l, err_h = zip(*[(m-e, m+e) for m,e in zip(mean, ci)])\n",
    "        plt.plot(keys, mean, label=f'rank-{rank}', linewidth=2)\n",
    "        plt.fill_between(keys, err_l, err_h, alpha=0.1)\n",
    "    plt.yscale('log')\n",
    "    plt.grid(True)\n",
    "    plt.legend()\n",
    "    plt.xlabel('Sample Size', fontsize=12)\n",
    "    plt.ylabel('Loss (log scale)', fontsize=12)\n",
    "    plt.show()"
   ]
  },
  {
   "cell_type": "raw",
   "id": "64e72c4d",
   "metadata": {},
   "source": [
    "plot_rank(results['train'])"
   ]
  },
  {
   "cell_type": "raw",
   "id": "003bd851",
   "metadata": {},
   "source": [
    "plot_rank(results['test'])"
   ]
  },
  {
   "cell_type": "raw",
   "id": "f69b3222",
   "metadata": {},
   "source": [
    "# Plot Generalizations vs. MPS Rank"
   ]
  },
  {
   "cell_type": "raw",
   "id": "af0f7048",
   "metadata": {},
   "source": [
    "def filter_sample_data_and_swap_keys(results, train_size=TRAIN_SIZE):\n",
    "    results_ = {}\n",
    "    for rank, res in results.items():\n",
    "        for sample_size, data in res.items():\n",
    "            if sample_size in train_size:\n",
    "                results_.setdefault(sample_size, {})[rank] = data\n",
    "    return results_\n",
    "\n",
    "results_sample = {k: filter_sample_data_and_swap_keys(results[k]) for k in ['train', 'test']}"
   ]
  },
  {
   "cell_type": "raw",
   "id": "75c0b653",
   "metadata": {},
   "source": [
    "def plot_sample(results):\n",
    "    # converting into a dict\n",
    "    results = idict2dict(results)\n",
    "    for sample, res in results.items():\n",
    "        res = {k: jnp.asarray([i.item() for i in v.values()]) for k,v in res.items()}\n",
    "        res = jax.tree_map(lambda r: r[~(r>=1e+5)], res)\n",
    "        mean = jax.tree_map(jnp.mean, res)\n",
    "        ci = jax.tree_map(lambda x: 1.96 * x / jnp.sqrt(len(res)), \n",
    "                          jax.tree_map(jnp.std, res))\n",
    "        keys, mean = zip(*mean.items())\n",
    "        _, ci = zip(*ci.items())\n",
    "        err_l, err_h = zip(*[(m-e, m+e) for m,e in zip(mean, ci)])\n",
    "        plt.plot(keys, mean, label=f'sample size: {sample}', linewidth=2.5)\n",
    "        plt.fill_between(keys, err_l, err_h, alpha=0.2)\n",
    "    plt.yscale('log')\n",
    "    plt.grid(True)\n",
    "    plt.legend()\n",
    "    plt.xlabel('MPS rank', fontsize=12)\n",
    "    plt.ylabel('Loss (log scale)', fontsize=12)\n",
    "    plt.show()"
   ]
  },
  {
   "cell_type": "raw",
   "id": "301fb33c",
   "metadata": {},
   "source": [
    "plot_sample(results_sample['train'])"
   ]
  },
  {
   "cell_type": "raw",
   "id": "fc08abd8",
   "metadata": {},
   "source": [
    "plot_sample(results_sample['test'])"
   ]
  },
  {
   "cell_type": "raw",
   "id": "f7cb388e",
   "metadata": {},
   "source": []
  }
 ],
 "metadata": {
  "kernelspec": {
   "display_name": "Python 3",
   "language": "python",
   "name": "python3"
  },
  "language_info": {
   "codemirror_mode": {
    "name": "ipython",
    "version": 3
   },
   "file_extension": ".py",
   "mimetype": "text/x-python",
   "name": "python",
   "nbconvert_exporter": "python",
   "pygments_lexer": "ipython3",
   "version": "3.8.5"
  },
  "varInspector": {
   "cols": {
    "lenName": 16,
    "lenType": 16,
    "lenVar": 40
   },
   "kernels_config": {
    "python": {
     "delete_cmd_postfix": "",
     "delete_cmd_prefix": "del ",
     "library": "var_list.py",
     "varRefreshCmd": "print(var_dic_list())"
    },
    "r": {
     "delete_cmd_postfix": ") ",
     "delete_cmd_prefix": "rm(",
     "library": "var_list.r",
     "varRefreshCmd": "cat(var_dic_list()) "
    }
   },
   "types_to_exclude": [
    "module",
    "function",
    "builtin_function_or_method",
    "instance",
    "_Feature"
   ],
   "window_display": false
  }
 },
 "nbformat": 4,
 "nbformat_minor": 5
}
